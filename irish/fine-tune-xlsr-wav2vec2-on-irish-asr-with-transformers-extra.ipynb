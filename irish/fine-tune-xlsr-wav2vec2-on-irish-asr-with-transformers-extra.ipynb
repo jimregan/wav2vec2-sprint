{
 "cells": [
  {
   "cell_type": "markdown",
   "metadata": {
    "id": "LBSYoWbi-45k"
   },
   "source": [
    "# **Fine-tuning XLSR-Wav2Vec2 for Multi-Lingual ASR with 🤗 Transformers**"
   ]
  },
  {
   "cell_type": "markdown",
   "metadata": {},
   "source": [
    "## Pre-configuration"
   ]
  },
  {
   "cell_type": "code",
   "execution_count": 1,
   "metadata": {},
   "outputs": [],
   "source": [
    "from ipywidgets import widgets"
   ]
  },
  {
   "cell_type": "code",
   "execution_count": 2,
   "metadata": {},
   "outputs": [],
   "source": [
    "import os"
   ]
  },
  {
   "cell_type": "code",
   "execution_count": 3,
   "metadata": {},
   "outputs": [],
   "source": [
    "language_code = 'ga-IE'\n",
    "language_name = 'irish'\n",
    "base_model = \"facebook/wav2vec2-large-xlsr-53\"\n",
    "pretrain_model = f\"jimregan/wav2vec2-large-xlsr-{language_name}-extra\"\n",
    "\n",
    "data_dir = f\"/workspace/data/{language_code}\"\n",
    "output_models_dir = f\"/workspace/output_models/{language_code}/wav2vec2-large-xlsr-{language_name}-extra\""
   ]
  },
  {
   "cell_type": "code",
   "execution_count": 4,
   "metadata": {
    "colab": {
     "base_uri": "https://localhost:8080/",
     "height": 227,
     "referenced_widgets": [
      "def702d8f8354fa4999587a5c68d0034",
      "2fd148d5587b4139919b0158f9dad71e",
      "edf36819322e4f9fa227a11592fef429",
      "ce337f50183942e6a74ca1b33735ade9",
      "8292dafcd40745958d0f3c563bf6b9b0",
      "93f191a48b3141e1889fd94870b6ac0e",
      "9532db4cdc5e4371a4a02055a4c67a08",
      "e9a702f10538415b970ea1345804d72c",
      "f3adb92e618743cca3299e3e7b6e369f",
      "83b51e16d88046c48dcd745cf09d2e56",
      "b0e3a36279d243ab9943149705c72c3e",
      "12696cc03f464a63a411efb2b5e5ac3b",
      "530f66ac087e4f8f979fcaa33941c60d",
      "a34dae18d9994b848630d4e3d836e0cb",
      "68a3178fe7a54e838e798ff28ff9aa0b",
      "ceb44ba4fdf34da19a52469acf1ce63f",
      "90b8bc59e26a46009e1d3763f86f227a",
      "3e2cd59ac697495f8db14b894b783f95",
      "98e7ab5f7ebf426fbb71a37bbad4c28f",
      "e3b719c0ffcc4fd1b410ffb7f969b7a5",
      "4382726ef043441a9b1a4a647d84f242",
      "2f5406546970425282a881b5d2f7c248",
      "19e263785ea343ba99ee2127d9b83d1d",
      "c9dc4421940241c59f1151aeabedc98b",
      "8701fb161cec47e89fc4d57b599ee7fe",
      "1813458f75514f039ba0214597a09bb4",
      "7f787df324514a8c915785e272a8af18",
      "889da3e5ed2945849d3c8a6a75175747",
      "71ffdf6f26ba4381a8e671958e679f88",
      "7916b06da182435a9cc1d13c73310500",
      "59e0f5200068461cbfb256ad5479c4c8",
      "2cd13e03a2ab45dc8570c8c739a613b4",
      "089428f56e66419f85ea149d9d102454",
      "d649c0f9c1c24634a84b7ef697721ffa",
      "4db5037af3f64a3a8a8a1203018a80ff",
      "6a957c1c17474d8d89c27ddecf702fda",
      "2a6e1185a6a247f5acba8111824ad36b",
      "c0e6b6e6395d4dbd827eb1c0de1ad21a",
      "05f83d714f864a399083f0e34a812467",
      "91fcf0641fe3489ab96f3aaa40adf245",
      "25ba4f4c8b9c44af9885b3903a9261fd",
      "dde7ae43ef954ef1b901c80f0a4e11fd",
      "03b33c17734d49e28c4636dddd6e833d",
      "71c059a0f3c246f3a40d55744331daaa",
      "da1ff50f8b9241108a325ada04224642",
      "bee0f50055eb4f738636142a10da0ddd",
      "cb5666eb8ebb4d1392e98d6b5af8761c",
      "430c3c079d0e4006b90e72df7986ffb0",
      "6c065aa34661469ca1efb4c5e90fe136",
      "540510088d3947f1b3cf6f4c983c1a53",
      "0a9b58c98508420d8f8936189f064316",
      "8dd5b08bb5bd4e608d04122424796ae7",
      "c546bca23ee248a1be7bd8ead3e82a8f",
      "af85713f677243d19cba9fe69a4a5f46",
      "2f18d89c684343b69c3f44ffbb9b42a0",
      "9eb51a6ecf3f41578aa397a5c2a33673"
     ]
    },
    "id": "2MMXcWFFgCXU",
    "outputId": "dc239772-da3b-4ef0-d029-f161f0625fff"
   },
   "outputs": [
    {
     "data": {
      "application/vnd.jupyter.widget-view+json": {
       "model_id": "3cf5479a287a47cbb0d325501f019b93",
       "version_major": 2,
       "version_minor": 0
      },
      "text/plain": [
       "HBox(children=(FloatProgress(value=0.0, description='Downloading', max=4323.0, style=ProgressStyle(description…"
      ]
     },
     "metadata": {},
     "output_type": "display_data"
    },
    {
     "name": "stdout",
     "output_type": "stream",
     "text": [
      "\n"
     ]
    },
    {
     "data": {
      "application/vnd.jupyter.widget-view+json": {
       "model_id": "bcc7b0c903bb471ca64bb1117b226e45",
       "version_major": 2,
       "version_minor": 0
      },
      "text/plain": [
       "HBox(children=(FloatProgress(value=0.0, description='Downloading', max=9954.0, style=ProgressStyle(description…"
      ]
     },
     "metadata": {},
     "output_type": "display_data"
    },
    {
     "name": "stdout",
     "output_type": "stream",
     "text": [
      "\n",
      "Downloading and preparing dataset common_voice/ga-IE (download: 149.30 MiB, generated: 1.68 MiB, post-processed: Unknown size, total: 150.98 MiB) to /workspace/.cache/huggingface/datasets/common_voice/ga-IE/6.1.0/0041e06ab061b91d0a23234a2221e87970a19cf3a81b20901474cffffeb7869f...\n"
     ]
    },
    {
     "data": {
      "application/vnd.jupyter.widget-view+json": {
       "model_id": "26dd6c57795b48d7812c8c41471eb409",
       "version_major": 2,
       "version_minor": 0
      },
      "text/plain": [
       "HBox(children=(FloatProgress(value=0.0, description='Downloading', max=156553447.0, style=ProgressStyle(descri…"
      ]
     },
     "metadata": {},
     "output_type": "display_data"
    },
    {
     "name": "stdout",
     "output_type": "stream",
     "text": [
      "\n"
     ]
    },
    {
     "data": {
      "application/vnd.jupyter.widget-view+json": {
       "model_id": "",
       "version_major": 2,
       "version_minor": 0
      },
      "text/plain": [
       "HBox(children=(FloatProgress(value=1.0, bar_style='info', max=1.0), HTML(value='')))"
      ]
     },
     "metadata": {},
     "output_type": "display_data"
    },
    {
     "data": {
      "application/vnd.jupyter.widget-view+json": {
       "model_id": "",
       "version_major": 2,
       "version_minor": 0
      },
      "text/plain": [
       "HBox(children=(FloatProgress(value=1.0, bar_style='info', max=1.0), HTML(value='')))"
      ]
     },
     "metadata": {},
     "output_type": "display_data"
    },
    {
     "data": {
      "application/vnd.jupyter.widget-view+json": {
       "model_id": "",
       "version_major": 2,
       "version_minor": 0
      },
      "text/plain": [
       "HBox(children=(FloatProgress(value=1.0, bar_style='info', max=1.0), HTML(value='')))"
      ]
     },
     "metadata": {},
     "output_type": "display_data"
    },
    {
     "data": {
      "application/vnd.jupyter.widget-view+json": {
       "model_id": "",
       "version_major": 2,
       "version_minor": 0
      },
      "text/plain": [
       "HBox(children=(FloatProgress(value=1.0, bar_style='info', max=1.0), HTML(value='')))"
      ]
     },
     "metadata": {},
     "output_type": "display_data"
    },
    {
     "data": {
      "application/vnd.jupyter.widget-view+json": {
       "model_id": "",
       "version_major": 2,
       "version_minor": 0
      },
      "text/plain": [
       "HBox(children=(FloatProgress(value=1.0, bar_style='info', max=1.0), HTML(value='')))"
      ]
     },
     "metadata": {},
     "output_type": "display_data"
    },
    {
     "name": "stdout",
     "output_type": "stream",
     "text": [
      "Dataset common_voice downloaded and prepared to /workspace/.cache/huggingface/datasets/common_voice/ga-IE/6.1.0/0041e06ab061b91d0a23234a2221e87970a19cf3a81b20901474cffffeb7869f. Subsequent calls will reuse this data.\n"
     ]
    },
    {
     "name": "stderr",
     "output_type": "stream",
     "text": [
      "Reusing dataset common_voice (/workspace/.cache/huggingface/datasets/common_voice/ga-IE/6.1.0/0041e06ab061b91d0a23234a2221e87970a19cf3a81b20901474cffffeb7869f)\n"
     ]
    }
   ],
   "source": [
    "from datasets import load_dataset, load_metric\n",
    "\n",
    "common_voice_train = load_dataset(\"common_voice\", language_code, split=\"train+validation\")\n",
    "common_voice_test = load_dataset(\"common_voice\", language_code, split=\"test\")"
   ]
  },
  {
   "cell_type": "code",
   "execution_count": 5,
   "metadata": {
    "id": "kbyq6lDgQc2a"
   },
   "outputs": [],
   "source": [
    "common_voice_train = common_voice_train.remove_columns([\"accent\", \"age\", \"client_id\", \"down_votes\", \"gender\", \"locale\", \"segment\", \"up_votes\"])\n",
    "common_voice_test = common_voice_test.remove_columns([\"accent\", \"age\", \"client_id\", \"down_votes\", \"gender\", \"locale\", \"segment\", \"up_votes\"])"
   ]
  },
  {
   "cell_type": "markdown",
   "metadata": {},
   "source": [
    "OVH crashes when trying to read the files from this dataset; so split, load the audio and save as arrow datasets later"
   ]
  },
  {
   "cell_type": "code",
   "execution_count": 6,
   "metadata": {},
   "outputs": [
    {
     "name": "stderr",
     "output_type": "stream",
     "text": [
      "Using custom data configuration default-92d97cb1c79a07fc\n"
     ]
    },
    {
     "name": "stdout",
     "output_type": "stream",
     "text": [
      "Downloading and preparing dataset json/default (download: Unknown size, generated: Unknown size, post-processed: Unknown size, total: Unknown size) to /workspace/.cache/huggingface/datasets/json/default-92d97cb1c79a07fc/0.0.0/83d5b3a2f62630efc6b5315f00f20209b4ad91a00ac586597caee3a4da0bef02...\n"
     ]
    },
    {
     "data": {
      "application/vnd.jupyter.widget-view+json": {
       "model_id": "",
       "version_major": 2,
       "version_minor": 0
      },
      "text/plain": [
       "HBox(children=(FloatProgress(value=1.0, bar_style='info', max=1.0), HTML(value='')))"
      ]
     },
     "metadata": {},
     "output_type": "display_data"
    },
    {
     "name": "stdout",
     "output_type": "stream",
     "text": [
      "Dataset json downloaded and prepared to /workspace/.cache/huggingface/datasets/json/default-92d97cb1c79a07fc/0.0.0/83d5b3a2f62630efc6b5315f00f20209b4ad91a00ac586597caee3a4da0bef02. Subsequent calls will reuse this data.\n"
     ]
    }
   ],
   "source": [
    "from datasets import load_dataset\n",
    "teanglann = load_dataset('json', data_files='/workspace/data/irish/teanglann.json', split='train')"
   ]
  },
  {
   "cell_type": "code",
   "execution_count": 26,
   "metadata": {},
   "outputs": [
    {
     "data": {
      "text/plain": [
       "Dataset({\n",
       "    features: ['path', 'sentence'],\n",
       "    num_rows: 5672\n",
       "})"
      ]
     },
     "execution_count": 26,
     "metadata": {},
     "output_type": "execute_result"
    }
   ],
   "source": [
    "teanglann[0]"
   ]
  },
  {
   "cell_type": "code",
   "execution_count": 22,
   "metadata": {},
   "outputs": [],
   "source": [
    "from datasets import Dataset\n",
    "livingaudio = Dataset.load_from_disk('/workspace/data/irish/ga.ie.cll')"
   ]
  },
  {
   "cell_type": "code",
   "execution_count": 28,
   "metadata": {},
   "outputs": [
    {
     "name": "stderr",
     "output_type": "stream",
     "text": [
      "Using custom data configuration default-8c922c072033559e\n"
     ]
    },
    {
     "name": "stdout",
     "output_type": "stream",
     "text": [
      "Downloading and preparing dataset csv/default (download: Unknown size, generated: Unknown size, post-processed: Unknown size, total: Unknown size) to /workspace/.cache/huggingface/datasets/csv/default-8c922c072033559e/0.0.0/2dc6629a9ff6b5697d82c25b73731dd440507a69cbce8b425db50b751e8fcfd0...\n"
     ]
    },
    {
     "data": {
      "application/vnd.jupyter.widget-view+json": {
       "model_id": "",
       "version_major": 2,
       "version_minor": 0
      },
      "text/plain": [
       "HBox(children=(FloatProgress(value=1.0, bar_style='info', max=1.0), HTML(value='')))"
      ]
     },
     "metadata": {},
     "output_type": "display_data"
    },
    {
     "name": "stdout",
     "output_type": "stream",
     "text": [
      "Dataset csv downloaded and prepared to /workspace/.cache/huggingface/datasets/csv/default-8c922c072033559e/0.0.0/2dc6629a9ff6b5697d82c25b73731dd440507a69cbce8b425db50b751e8fcfd0. Subsequent calls will reuse this data.\n"
     ]
    }
   ],
   "source": [
    "from datasets import load_dataset\n",
    "fuaimeanna = load_dataset('csv', data_files='/workspace/data/irish/fuaimeanna-text.csv', split='train')"
   ]
  },
  {
   "cell_type": "code",
   "execution_count": 14,
   "metadata": {},
   "outputs": [],
   "source": [
    "# merge after processing\n",
    "#import datasets\n",
    "#train_dataset = datasets.concatenate_datasets([teanglann, common_voice_train])"
   ]
  },
  {
   "cell_type": "code",
   "execution_count": 7,
   "metadata": {},
   "outputs": [],
   "source": [
    "def is_upper_vowel(letter):\n",
    "  if letter in ['A', 'E', 'I', 'O', 'U', 'Á', 'É', 'Í', 'Ó', 'Ú']:\n",
    "    return True\n",
    "  else:\n",
    "    return False\n",
    "\n",
    "def irish_lower(word):\n",
    "  if len(word) > 1 and word[0] in ['n', 't'] and is_upper_vowel(word[1]):\n",
    "    return word[0] + '-' + word[1:].lower()\n",
    "  else:\n",
    "    return word.lower()\n",
    "\n",
    "def irish_lower_sentence(sentence):\n",
    "  return \" \".join([irish_lower(w) for w in sentence.split(\" \")])\n"
   ]
  },
  {
   "cell_type": "code",
   "execution_count": 8,
   "metadata": {
    "id": "svKzVJ_hQGK6"
   },
   "outputs": [],
   "source": [
    "import re\n",
    "chars_to_ignore_regex = '[,\\?\\.\\!\\;\\:\\\"\\“\\%\\‘\\”\\(\\)\\*\\–]'\n",
    "\n",
    "def remove_special_characters(batch):\n",
    "    tmp = re.sub('’ ', ' ', batch[\"sentence\"])\n",
    "    tmp = re.sub(\"’$\", '', tmp)\n",
    "    tmp = re.sub('’', '\\'', tmp)\n",
    "    tmp = re.sub(chars_to_ignore_regex, '', tmp)\n",
    "    batch[\"sentence\"] = irish_lower_sentence(tmp).strip() + ' '\n",
    "    return batch"
   ]
  },
  {
   "cell_type": "code",
   "execution_count": 10,
   "metadata": {
    "colab": {
     "base_uri": "https://localhost:8080/",
     "height": 117,
     "referenced_widgets": [
      "92a35db69bbf4ad6af44c53aa3870be5",
      "389e43e47a734193a507817ebad955f7",
      "b94e374d92c146009447c3827b977267",
      "1f1faa7b986e475c9e6839b2e7b55c74",
      "4ff7ccffc36a4a0f93031f5cdc3b718d",
      "b177a8cb85a24b88ab6d56205b630f1d",
      "2ca2f397c4ef405bba27ae2b1415cada",
      "b320306eaf264ad9872d507a1a1cb2da",
      "cc9c1e00c2d34516b8fd9edff96bb0d8",
      "6abfbe44a1bd4518b41f5f53f920e936",
      "33c92b5afd1d4b6d88016aabfb434194",
      "998676d59f9c464e8463d65baad6448b",
      "45f0a2f361da4608bc8314a27657a56c",
      "3dc9ea77b842455a91f00e9ca9f41948",
      "7bf5b2b625764f63ad57a360c3fd0a61",
      "7b4cfd2b448643b8a4409dd612aef0d1"
     ]
    },
    "id": "XIHocAuTQbBR",
    "outputId": "cc1a70b2-7b4d-410b-f997-1f1c47c3c9e5"
   },
   "outputs": [
    {
     "data": {
      "application/vnd.jupyter.widget-view+json": {
       "model_id": "138626edf3f74a9e85c73e7da3ae1688",
       "version_major": 2,
       "version_minor": 0
      },
      "text/plain": [
       "HBox(children=(FloatProgress(value=0.0, max=1038.0), HTML(value='')))"
      ]
     },
     "metadata": {},
     "output_type": "display_data"
    },
    {
     "name": "stdout",
     "output_type": "stream",
     "text": [
      "\n"
     ]
    },
    {
     "data": {
      "application/vnd.jupyter.widget-view+json": {
       "model_id": "25a4ca3381e344e8bdb7460bced94b31",
       "version_major": 2,
       "version_minor": 0
      },
      "text/plain": [
       "HBox(children=(FloatProgress(value=0.0, max=506.0), HTML(value='')))"
      ]
     },
     "metadata": {},
     "output_type": "display_data"
    },
    {
     "name": "stdout",
     "output_type": "stream",
     "text": [
      "\n"
     ]
    },
    {
     "data": {
      "application/vnd.jupyter.widget-view+json": {
       "model_id": "d876baf62810428eac67473aebd2244e",
       "version_major": 2,
       "version_minor": 0
      },
      "text/plain": [
       "HBox(children=(FloatProgress(value=0.0, max=56718.0), HTML(value='')))"
      ]
     },
     "metadata": {},
     "output_type": "display_data"
    },
    {
     "name": "stdout",
     "output_type": "stream",
     "text": [
      "\n"
     ]
    }
   ],
   "source": [
    "common_voice_train = common_voice_train.map(remove_special_characters)\n",
    "common_voice_test = common_voice_test.map(remove_special_characters)\n",
    "teanglann = teanglann.map(remove_special_characters)"
   ]
  },
  {
   "cell_type": "code",
   "execution_count": 23,
   "metadata": {},
   "outputs": [
    {
     "data": {
      "application/vnd.jupyter.widget-view+json": {
       "model_id": "ba08a132e9814adb81f587f3da00df19",
       "version_major": 2,
       "version_minor": 0
      },
      "text/plain": [
       "HBox(children=(FloatProgress(value=0.0, max=1121.0), HTML(value='')))"
      ]
     },
     "metadata": {},
     "output_type": "display_data"
    },
    {
     "name": "stdout",
     "output_type": "stream",
     "text": [
      "\n"
     ]
    }
   ],
   "source": [
    "livingaudio = livingaudio.map(remove_special_characters)"
   ]
  },
  {
   "cell_type": "code",
   "execution_count": 29,
   "metadata": {},
   "outputs": [
    {
     "data": {
      "text/plain": [
       "Dataset({\n",
       "    features: ['path', 'sentence'],\n",
       "    num_rows: 2283\n",
       "})"
      ]
     },
     "execution_count": 29,
     "metadata": {},
     "output_type": "execute_result"
    }
   ],
   "source": [
    "fuaimeanna"
   ]
  },
  {
   "cell_type": "code",
   "execution_count": 30,
   "metadata": {},
   "outputs": [
    {
     "data": {
      "application/vnd.jupyter.widget-view+json": {
       "model_id": "7eca72292e3b4619a11a894beb14084e",
       "version_major": 2,
       "version_minor": 0
      },
      "text/plain": [
       "HBox(children=(FloatProgress(value=0.0, max=2283.0), HTML(value='')))"
      ]
     },
     "metadata": {},
     "output_type": "display_data"
    },
    {
     "name": "stdout",
     "output_type": "stream",
     "text": [
      "\n"
     ]
    }
   ],
   "source": [
    "fuaimeanna = fuaimeanna.map(remove_special_characters)"
   ]
  },
  {
   "cell_type": "code",
   "execution_count": 11,
   "metadata": {
    "colab": {
     "base_uri": "https://localhost:8080/"
    },
    "id": "_0kRndSvqaKk",
    "outputId": "29f5d23f-75b1-44d0-9975-87f9ec4c0aa5"
   },
   "outputs": [
    {
     "data": {
      "text/plain": [
       "{'a': 0,\n",
       " 'á': 1,\n",
       " 'b': 2,\n",
       " 'c': 3,\n",
       " 'd': 4,\n",
       " 'e': 5,\n",
       " 'é': 6,\n",
       " 'f': 7,\n",
       " 'g': 8,\n",
       " 'h': 9,\n",
       " 'i': 10,\n",
       " 'í': 11,\n",
       " 'j': 12,\n",
       " 'k': 13,\n",
       " 'l': 14,\n",
       " 'm': 15,\n",
       " 'n': 16,\n",
       " 'o': 17,\n",
       " 'ó': 18,\n",
       " 'p': 19,\n",
       " 'q': 20,\n",
       " 'r': 21,\n",
       " 's': 22,\n",
       " 't': 23,\n",
       " 'u': 24,\n",
       " 'ú': 25,\n",
       " 'v': 26,\n",
       " 'w': 27,\n",
       " 'x': 28,\n",
       " 'y': 29,\n",
       " 'z': 30,\n",
       " \"'\": 31,\n",
       " '-': 32,\n",
       " ' ': 33}"
      ]
     },
     "execution_count": 11,
     "metadata": {},
     "output_type": "execute_result"
    }
   ],
   "source": [
    "vocab_list = [char for char in \"aábcdeéfghiíjklmnoópqrstuúvwxyz'- \"]\n",
    "vocab_dict = {v: k for k, v in enumerate(vocab_list)}\n",
    "vocab_dict"
   ]
  },
  {
   "cell_type": "code",
   "execution_count": 12,
   "metadata": {
    "id": "npbIbBoLgaFX"
   },
   "outputs": [],
   "source": [
    "vocab_dict[\"|\"] = vocab_dict[\" \"]\n",
    "del vocab_dict[\" \"]"
   ]
  },
  {
   "cell_type": "code",
   "execution_count": 13,
   "metadata": {
    "colab": {
     "base_uri": "https://localhost:8080/"
    },
    "id": "znF0bNunsjbl",
    "outputId": "6dd50862-f4c5-4a05-87a7-da03d157e30e"
   },
   "outputs": [
    {
     "data": {
      "text/plain": [
       "36"
      ]
     },
     "execution_count": 13,
     "metadata": {},
     "output_type": "execute_result"
    }
   ],
   "source": [
    "vocab_dict[\"[UNK]\"] = len(vocab_dict)\n",
    "vocab_dict[\"[PAD]\"] = len(vocab_dict)\n",
    "len(vocab_dict)"
   ]
  },
  {
   "cell_type": "code",
   "execution_count": 14,
   "metadata": {
    "id": "ehyUoh9vk191"
   },
   "outputs": [],
   "source": [
    "import json\n",
    "with open('vocab.json', 'w') as vocab_file:\n",
    "    json.dump(vocab_dict, vocab_file)"
   ]
  },
  {
   "cell_type": "code",
   "execution_count": 15,
   "metadata": {
    "id": "xriFGEWQkO4M"
   },
   "outputs": [],
   "source": [
    "from transformers import Wav2Vec2CTCTokenizer\n",
    "\n",
    "tokenizer = Wav2Vec2CTCTokenizer(\"./vocab.json\", unk_token=\"[UNK]\", pad_token=\"[PAD]\", word_delimiter_token=\"|\")"
   ]
  },
  {
   "cell_type": "code",
   "execution_count": 16,
   "metadata": {
    "id": "kAR0-2KLkopp"
   },
   "outputs": [],
   "source": [
    "from transformers import Wav2Vec2FeatureExtractor\n",
    "\n",
    "feature_extractor = Wav2Vec2FeatureExtractor(feature_size=1, sampling_rate=16000, padding_value=0.0, do_normalize=True, return_attention_mask=True)"
   ]
  },
  {
   "cell_type": "code",
   "execution_count": 17,
   "metadata": {
    "id": "KYZtoW-tlZgl"
   },
   "outputs": [],
   "source": [
    "from transformers import Wav2Vec2Processor\n",
    "\n",
    "processor = Wav2Vec2Processor(feature_extractor=feature_extractor, tokenizer=tokenizer)"
   ]
  },
  {
   "cell_type": "code",
   "execution_count": 18,
   "metadata": {
    "id": "Par9rpypPsml"
   },
   "outputs": [],
   "source": [
    "processor.save_pretrained(output_models_dir)"
   ]
  },
  {
   "cell_type": "code",
   "execution_count": 19,
   "metadata": {
    "id": "al9Luo4LPpwJ"
   },
   "outputs": [
    {
     "name": "stderr",
     "output_type": "stream",
     "text": [
      "/opt/conda/lib/python3.7/site-packages/torchaudio/backend/utils.py:54: UserWarning: \"sox\" backend is being deprecated. The default backend will be changed to \"sox_io\" backend in 0.8.0 and \"sox\" backend will be removed in 0.9.0. Please migrate to \"sox_io\" backend. Please refer to https://github.com/pytorch/audio/issues/903 for the detail.\n",
      "  '\"sox\" backend is being deprecated. '\n"
     ]
    }
   ],
   "source": [
    "import torchaudio\n",
    "\n",
    "def speech_file_to_array_fn(batch):\n",
    "    speech_array, sampling_rate = torchaudio.load(batch[\"path\"])\n",
    "    batch[\"speech\"] = speech_array[0].numpy()\n",
    "    batch[\"sampling_rate\"] = sampling_rate\n",
    "    batch[\"target_text\"] = batch[\"sentence\"]\n",
    "    return batch"
   ]
  },
  {
   "cell_type": "code",
   "execution_count": 20,
   "metadata": {
    "colab": {
     "base_uri": "https://localhost:8080/",
     "height": 117,
     "referenced_widgets": [
      "348ef54c80b2449f8a3bc950cccd62cc",
      "b78413dcc0584a0c8f71731a06aaa1b8",
      "7edbecaccdd94ede8fddc0e1807e777e",
      "5e3aad95e52f4be2bd670d1345398f1b",
      "b9c5c6dd54cc4dc5ad5a2bb69a24ab05",
      "3e3a022a9f304b0f9f7ef067fcee1e56",
      "7aa70322bdfe46938b583a20003093d5",
      "99d5c44ea54b45ee9bd89380cb1ad189",
      "5f48f54986924e418aa4ac22aa54b714",
      "db71db50799c404aafa4a54de8b9b799",
      "a58c203a7cc54086aea45f2029821207",
      "8d409ca0372a48e2972ca1d8eee5ffa1",
      "c8fdf261ac294093a355778a3a4aba3b",
      "b1b6a4649fc34c9996f993c57671766b",
      "d362345c05234c97a675c6bacdad0e92",
      "b0479f03f96241ca959f6fe7bcbd1aba"
     ]
    },
    "id": "afeicUeWlrRL",
    "outputId": "d5e4d41a-61d6-4094-eba9-a5bbed02cedc"
   },
   "outputs": [
    {
     "data": {
      "application/vnd.jupyter.widget-view+json": {
       "model_id": "68534cfcb9b44b1c821b5ba22cd03d11",
       "version_major": 2,
       "version_minor": 0
      },
      "text/plain": [
       "HBox(children=(FloatProgress(value=0.0, max=1038.0), HTML(value='')))"
      ]
     },
     "metadata": {},
     "output_type": "display_data"
    },
    {
     "name": "stdout",
     "output_type": "stream",
     "text": [
      "\n"
     ]
    },
    {
     "data": {
      "application/vnd.jupyter.widget-view+json": {
       "model_id": "dbb93dbcc5424bb2a7d558107b9eae6c",
       "version_major": 2,
       "version_minor": 0
      },
      "text/plain": [
       "HBox(children=(FloatProgress(value=0.0, max=506.0), HTML(value='')))"
      ]
     },
     "metadata": {},
     "output_type": "display_data"
    },
    {
     "name": "stdout",
     "output_type": "stream",
     "text": [
      "\n"
     ]
    },
    {
     "data": {
      "application/vnd.jupyter.widget-view+json": {
       "model_id": "7fe7772b95f44107b7f1fe041f79d789",
       "version_major": 2,
       "version_minor": 0
      },
      "text/plain": [
       "HBox(children=(FloatProgress(value=0.0, max=56718.0), HTML(value='')))"
      ]
     },
     "metadata": {},
     "output_type": "display_data"
    },
    {
     "name": "stdout",
     "output_type": "stream",
     "text": [
      "\n"
     ]
    }
   ],
   "source": [
    "common_voice_train = common_voice_train.map(speech_file_to_array_fn, remove_columns=common_voice_train.column_names)\n",
    "common_voice_test = common_voice_test.map(speech_file_to_array_fn, remove_columns=common_voice_test.column_names)\n",
    "teanglann = teanglann.map(speech_file_to_array_fn, remove_columns=teanglann.column_names)"
   ]
  },
  {
   "cell_type": "code",
   "execution_count": 21,
   "metadata": {},
   "outputs": [],
   "source": [
    "teanglann.save_to_disk('/workspace/data/irish/teanglann')"
   ]
  },
  {
   "cell_type": "code",
   "execution_count": 24,
   "metadata": {},
   "outputs": [
    {
     "data": {
      "application/vnd.jupyter.widget-view+json": {
       "model_id": "c4be92af9278417bb2f311cb91683c75",
       "version_major": 2,
       "version_minor": 0
      },
      "text/plain": [
       "HBox(children=(FloatProgress(value=0.0, max=1121.0), HTML(value='')))"
      ]
     },
     "metadata": {},
     "output_type": "display_data"
    },
    {
     "name": "stdout",
     "output_type": "stream",
     "text": [
      "\n"
     ]
    }
   ],
   "source": [
    "livingaudio = livingaudio.map(speech_file_to_array_fn, remove_columns=livingaudio.column_names)"
   ]
  },
  {
   "cell_type": "code",
   "execution_count": 31,
   "metadata": {},
   "outputs": [
    {
     "data": {
      "application/vnd.jupyter.widget-view+json": {
       "model_id": "4a8ce540904542f48c6696fa0bf14384",
       "version_major": 2,
       "version_minor": 0
      },
      "text/plain": [
       "HBox(children=(FloatProgress(value=0.0, max=2283.0), HTML(value='')))"
      ]
     },
     "metadata": {},
     "output_type": "display_data"
    },
    {
     "name": "stdout",
     "output_type": "stream",
     "text": [
      "\n"
     ]
    },
    {
     "ename": "OSError",
     "evalue": "/workspace/data/irish/fuaimeanna/sounds/d'fhaag_i1_s1.mp3 not found or is a directory",
     "output_type": "error",
     "traceback": [
      "\u001b[0;31m---------------------------------------------------------------------------\u001b[0m",
      "\u001b[0;31mOSError\u001b[0m                                   Traceback (most recent call last)",
      "\u001b[0;32m<ipython-input-31-182d5b3ef83e>\u001b[0m in \u001b[0;36m<module>\u001b[0;34m\u001b[0m\n\u001b[0;32m----> 1\u001b[0;31m \u001b[0mfuaimeanna\u001b[0m \u001b[0;34m=\u001b[0m \u001b[0mfuaimeanna\u001b[0m\u001b[0;34m.\u001b[0m\u001b[0mmap\u001b[0m\u001b[0;34m(\u001b[0m\u001b[0mspeech_file_to_array_fn\u001b[0m\u001b[0;34m,\u001b[0m \u001b[0mremove_columns\u001b[0m\u001b[0;34m=\u001b[0m\u001b[0mfuaimeanna\u001b[0m\u001b[0;34m.\u001b[0m\u001b[0mcolumn_names\u001b[0m\u001b[0;34m)\u001b[0m\u001b[0;34m\u001b[0m\u001b[0;34m\u001b[0m\u001b[0m\n\u001b[0m",
      "\u001b[0;32m/opt/conda/lib/python3.7/site-packages/datasets/arrow_dataset.py\u001b[0m in \u001b[0;36mmap\u001b[0;34m(self, function, with_indices, input_columns, batched, batch_size, drop_last_batch, remove_columns, keep_in_memory, load_from_cache_file, cache_file_name, writer_batch_size, features, disable_nullable, fn_kwargs, num_proc, suffix_template, new_fingerprint)\u001b[0m\n\u001b[1;32m   1425\u001b[0m                 \u001b[0mfn_kwargs\u001b[0m\u001b[0;34m=\u001b[0m\u001b[0mfn_kwargs\u001b[0m\u001b[0;34m,\u001b[0m\u001b[0;34m\u001b[0m\u001b[0;34m\u001b[0m\u001b[0m\n\u001b[1;32m   1426\u001b[0m                 \u001b[0mnew_fingerprint\u001b[0m\u001b[0;34m=\u001b[0m\u001b[0mnew_fingerprint\u001b[0m\u001b[0;34m,\u001b[0m\u001b[0;34m\u001b[0m\u001b[0;34m\u001b[0m\u001b[0m\n\u001b[0;32m-> 1427\u001b[0;31m                 \u001b[0mupdate_data\u001b[0m\u001b[0;34m=\u001b[0m\u001b[0mupdate_data\u001b[0m\u001b[0;34m,\u001b[0m\u001b[0;34m\u001b[0m\u001b[0;34m\u001b[0m\u001b[0m\n\u001b[0m\u001b[1;32m   1428\u001b[0m             )\n\u001b[1;32m   1429\u001b[0m         \u001b[0;32melse\u001b[0m\u001b[0;34m:\u001b[0m\u001b[0;34m\u001b[0m\u001b[0;34m\u001b[0m\u001b[0m\n",
      "\u001b[0;32m/opt/conda/lib/python3.7/site-packages/datasets/arrow_dataset.py\u001b[0m in \u001b[0;36mwrapper\u001b[0;34m(*args, **kwargs)\u001b[0m\n\u001b[1;32m    201\u001b[0m         }\n\u001b[1;32m    202\u001b[0m         \u001b[0;31m# apply actual function\u001b[0m\u001b[0;34m\u001b[0m\u001b[0;34m\u001b[0m\u001b[0;34m\u001b[0m\u001b[0m\n\u001b[0;32m--> 203\u001b[0;31m         \u001b[0mout\u001b[0m\u001b[0;34m:\u001b[0m \u001b[0mUnion\u001b[0m\u001b[0;34m[\u001b[0m\u001b[0;34m\"Dataset\"\u001b[0m\u001b[0;34m,\u001b[0m \u001b[0;34m\"DatasetDict\"\u001b[0m\u001b[0;34m]\u001b[0m \u001b[0;34m=\u001b[0m \u001b[0mfunc\u001b[0m\u001b[0;34m(\u001b[0m\u001b[0mself\u001b[0m\u001b[0;34m,\u001b[0m \u001b[0;34m*\u001b[0m\u001b[0margs\u001b[0m\u001b[0;34m,\u001b[0m \u001b[0;34m**\u001b[0m\u001b[0mkwargs\u001b[0m\u001b[0;34m)\u001b[0m\u001b[0;34m\u001b[0m\u001b[0;34m\u001b[0m\u001b[0m\n\u001b[0m\u001b[1;32m    204\u001b[0m         \u001b[0mdatasets\u001b[0m\u001b[0;34m:\u001b[0m \u001b[0mList\u001b[0m\u001b[0;34m[\u001b[0m\u001b[0;34m\"Dataset\"\u001b[0m\u001b[0;34m]\u001b[0m \u001b[0;34m=\u001b[0m \u001b[0mlist\u001b[0m\u001b[0;34m(\u001b[0m\u001b[0mout\u001b[0m\u001b[0;34m.\u001b[0m\u001b[0mvalues\u001b[0m\u001b[0;34m(\u001b[0m\u001b[0;34m)\u001b[0m\u001b[0;34m)\u001b[0m \u001b[0;32mif\u001b[0m \u001b[0misinstance\u001b[0m\u001b[0;34m(\u001b[0m\u001b[0mout\u001b[0m\u001b[0;34m,\u001b[0m \u001b[0mdict\u001b[0m\u001b[0;34m)\u001b[0m \u001b[0;32melse\u001b[0m \u001b[0;34m[\u001b[0m\u001b[0mout\u001b[0m\u001b[0;34m]\u001b[0m\u001b[0;34m\u001b[0m\u001b[0;34m\u001b[0m\u001b[0m\n\u001b[1;32m    205\u001b[0m         \u001b[0;31m# re-apply format to the output\u001b[0m\u001b[0;34m\u001b[0m\u001b[0;34m\u001b[0m\u001b[0;34m\u001b[0m\u001b[0m\n",
      "\u001b[0;32m/opt/conda/lib/python3.7/site-packages/datasets/fingerprint.py\u001b[0m in \u001b[0;36mwrapper\u001b[0;34m(*args, **kwargs)\u001b[0m\n\u001b[1;32m    335\u001b[0m             \u001b[0;31m# Call actual function\u001b[0m\u001b[0;34m\u001b[0m\u001b[0;34m\u001b[0m\u001b[0;34m\u001b[0m\u001b[0m\n\u001b[1;32m    336\u001b[0m \u001b[0;34m\u001b[0m\u001b[0m\n\u001b[0;32m--> 337\u001b[0;31m             \u001b[0mout\u001b[0m \u001b[0;34m=\u001b[0m \u001b[0mfunc\u001b[0m\u001b[0;34m(\u001b[0m\u001b[0mself\u001b[0m\u001b[0;34m,\u001b[0m \u001b[0;34m*\u001b[0m\u001b[0margs\u001b[0m\u001b[0;34m,\u001b[0m \u001b[0;34m**\u001b[0m\u001b[0mkwargs\u001b[0m\u001b[0;34m)\u001b[0m\u001b[0;34m\u001b[0m\u001b[0;34m\u001b[0m\u001b[0m\n\u001b[0m\u001b[1;32m    338\u001b[0m \u001b[0;34m\u001b[0m\u001b[0m\n\u001b[1;32m    339\u001b[0m             \u001b[0;31m# Update fingerprint of in-place transforms + update in-place history of transforms\u001b[0m\u001b[0;34m\u001b[0m\u001b[0;34m\u001b[0m\u001b[0;34m\u001b[0m\u001b[0m\n",
      "\u001b[0;32m/opt/conda/lib/python3.7/site-packages/datasets/arrow_dataset.py\u001b[0m in \u001b[0;36m_map_single\u001b[0;34m(self, function, with_indices, input_columns, batched, batch_size, drop_last_batch, remove_columns, keep_in_memory, load_from_cache_file, cache_file_name, writer_batch_size, features, disable_nullable, fn_kwargs, new_fingerprint, rank, offset, update_data)\u001b[0m\n\u001b[1;32m   1682\u001b[0m                 \u001b[0;32mif\u001b[0m \u001b[0;32mnot\u001b[0m \u001b[0mbatched\u001b[0m\u001b[0;34m:\u001b[0m\u001b[0;34m\u001b[0m\u001b[0;34m\u001b[0m\u001b[0m\n\u001b[1;32m   1683\u001b[0m                     \u001b[0;32mfor\u001b[0m \u001b[0mi\u001b[0m\u001b[0;34m,\u001b[0m \u001b[0mexample\u001b[0m \u001b[0;32min\u001b[0m \u001b[0menumerate\u001b[0m\u001b[0;34m(\u001b[0m\u001b[0mpbar\u001b[0m\u001b[0;34m)\u001b[0m\u001b[0;34m:\u001b[0m\u001b[0;34m\u001b[0m\u001b[0;34m\u001b[0m\u001b[0m\n\u001b[0;32m-> 1684\u001b[0;31m                         \u001b[0mexample\u001b[0m \u001b[0;34m=\u001b[0m \u001b[0mapply_function_on_filtered_inputs\u001b[0m\u001b[0;34m(\u001b[0m\u001b[0mexample\u001b[0m\u001b[0;34m,\u001b[0m \u001b[0mi\u001b[0m\u001b[0;34m,\u001b[0m \u001b[0moffset\u001b[0m\u001b[0;34m=\u001b[0m\u001b[0moffset\u001b[0m\u001b[0;34m)\u001b[0m\u001b[0;34m\u001b[0m\u001b[0;34m\u001b[0m\u001b[0m\n\u001b[0m\u001b[1;32m   1685\u001b[0m                         \u001b[0;32mif\u001b[0m \u001b[0mupdate_data\u001b[0m\u001b[0;34m:\u001b[0m\u001b[0;34m\u001b[0m\u001b[0;34m\u001b[0m\u001b[0m\n\u001b[1;32m   1686\u001b[0m                             \u001b[0mexample\u001b[0m \u001b[0;34m=\u001b[0m \u001b[0mcast_to_python_objects\u001b[0m\u001b[0;34m(\u001b[0m\u001b[0mexample\u001b[0m\u001b[0;34m)\u001b[0m\u001b[0;34m\u001b[0m\u001b[0;34m\u001b[0m\u001b[0m\n",
      "\u001b[0;32m/opt/conda/lib/python3.7/site-packages/datasets/arrow_dataset.py\u001b[0m in \u001b[0;36mapply_function_on_filtered_inputs\u001b[0;34m(inputs, indices, check_same_num_examples, offset)\u001b[0m\n\u001b[1;32m   1606\u001b[0m                 \u001b[0meffective_indices\u001b[0m \u001b[0;34m=\u001b[0m \u001b[0;34m[\u001b[0m\u001b[0mi\u001b[0m \u001b[0;34m+\u001b[0m \u001b[0moffset\u001b[0m \u001b[0;32mfor\u001b[0m \u001b[0mi\u001b[0m \u001b[0;32min\u001b[0m \u001b[0mindices\u001b[0m\u001b[0;34m]\u001b[0m \u001b[0;32mif\u001b[0m \u001b[0misinstance\u001b[0m\u001b[0;34m(\u001b[0m\u001b[0mindices\u001b[0m\u001b[0;34m,\u001b[0m \u001b[0mlist\u001b[0m\u001b[0;34m)\u001b[0m \u001b[0;32melse\u001b[0m \u001b[0mindices\u001b[0m \u001b[0;34m+\u001b[0m \u001b[0moffset\u001b[0m\u001b[0;34m\u001b[0m\u001b[0;34m\u001b[0m\u001b[0m\n\u001b[1;32m   1607\u001b[0m             processed_inputs = (\n\u001b[0;32m-> 1608\u001b[0;31m                 \u001b[0mfunction\u001b[0m\u001b[0;34m(\u001b[0m\u001b[0;34m*\u001b[0m\u001b[0mfn_args\u001b[0m\u001b[0;34m,\u001b[0m \u001b[0meffective_indices\u001b[0m\u001b[0;34m,\u001b[0m \u001b[0;34m**\u001b[0m\u001b[0mfn_kwargs\u001b[0m\u001b[0;34m)\u001b[0m \u001b[0;32mif\u001b[0m \u001b[0mwith_indices\u001b[0m \u001b[0;32melse\u001b[0m \u001b[0mfunction\u001b[0m\u001b[0;34m(\u001b[0m\u001b[0;34m*\u001b[0m\u001b[0mfn_args\u001b[0m\u001b[0;34m,\u001b[0m \u001b[0;34m**\u001b[0m\u001b[0mfn_kwargs\u001b[0m\u001b[0;34m)\u001b[0m\u001b[0;34m\u001b[0m\u001b[0;34m\u001b[0m\u001b[0m\n\u001b[0m\u001b[1;32m   1609\u001b[0m             )\n\u001b[1;32m   1610\u001b[0m             \u001b[0;32mif\u001b[0m \u001b[0;32mnot\u001b[0m \u001b[0mupdate_data\u001b[0m\u001b[0;34m:\u001b[0m\u001b[0;34m\u001b[0m\u001b[0;34m\u001b[0m\u001b[0m\n",
      "\u001b[0;32m<ipython-input-19-27dd8b89ebc6>\u001b[0m in \u001b[0;36mspeech_file_to_array_fn\u001b[0;34m(batch)\u001b[0m\n\u001b[1;32m      2\u001b[0m \u001b[0;34m\u001b[0m\u001b[0m\n\u001b[1;32m      3\u001b[0m \u001b[0;32mdef\u001b[0m \u001b[0mspeech_file_to_array_fn\u001b[0m\u001b[0;34m(\u001b[0m\u001b[0mbatch\u001b[0m\u001b[0;34m)\u001b[0m\u001b[0;34m:\u001b[0m\u001b[0;34m\u001b[0m\u001b[0;34m\u001b[0m\u001b[0m\n\u001b[0;32m----> 4\u001b[0;31m     \u001b[0mspeech_array\u001b[0m\u001b[0;34m,\u001b[0m \u001b[0msampling_rate\u001b[0m \u001b[0;34m=\u001b[0m \u001b[0mtorchaudio\u001b[0m\u001b[0;34m.\u001b[0m\u001b[0mload\u001b[0m\u001b[0;34m(\u001b[0m\u001b[0mbatch\u001b[0m\u001b[0;34m[\u001b[0m\u001b[0;34m\"path\"\u001b[0m\u001b[0;34m]\u001b[0m\u001b[0;34m)\u001b[0m\u001b[0;34m\u001b[0m\u001b[0;34m\u001b[0m\u001b[0m\n\u001b[0m\u001b[1;32m      5\u001b[0m     \u001b[0mbatch\u001b[0m\u001b[0;34m[\u001b[0m\u001b[0;34m\"speech\"\u001b[0m\u001b[0;34m]\u001b[0m \u001b[0;34m=\u001b[0m \u001b[0mspeech_array\u001b[0m\u001b[0;34m[\u001b[0m\u001b[0;36m0\u001b[0m\u001b[0;34m]\u001b[0m\u001b[0;34m.\u001b[0m\u001b[0mnumpy\u001b[0m\u001b[0;34m(\u001b[0m\u001b[0;34m)\u001b[0m\u001b[0;34m\u001b[0m\u001b[0;34m\u001b[0m\u001b[0m\n\u001b[1;32m      6\u001b[0m     \u001b[0mbatch\u001b[0m\u001b[0;34m[\u001b[0m\u001b[0;34m\"sampling_rate\"\u001b[0m\u001b[0;34m]\u001b[0m \u001b[0;34m=\u001b[0m \u001b[0msampling_rate\u001b[0m\u001b[0;34m\u001b[0m\u001b[0;34m\u001b[0m\u001b[0m\n",
      "\u001b[0;32m/opt/conda/lib/python3.7/site-packages/torchaudio/backend/sox_backend.py\u001b[0m in \u001b[0;36mload\u001b[0;34m(filepath, out, normalization, channels_first, num_frames, offset, signalinfo, encodinginfo, filetype)\u001b[0m\n\u001b[1;32m     33\u001b[0m     \u001b[0;31m# check if valid file\u001b[0m\u001b[0;34m\u001b[0m\u001b[0;34m\u001b[0m\u001b[0;34m\u001b[0m\u001b[0m\n\u001b[1;32m     34\u001b[0m     \u001b[0;32mif\u001b[0m \u001b[0;32mnot\u001b[0m \u001b[0mos\u001b[0m\u001b[0;34m.\u001b[0m\u001b[0mpath\u001b[0m\u001b[0;34m.\u001b[0m\u001b[0misfile\u001b[0m\u001b[0;34m(\u001b[0m\u001b[0mfilepath\u001b[0m\u001b[0;34m)\u001b[0m\u001b[0;34m:\u001b[0m\u001b[0;34m\u001b[0m\u001b[0;34m\u001b[0m\u001b[0m\n\u001b[0;32m---> 35\u001b[0;31m         \u001b[0;32mraise\u001b[0m \u001b[0mOSError\u001b[0m\u001b[0;34m(\u001b[0m\u001b[0;34m\"{} not found or is a directory\"\u001b[0m\u001b[0;34m.\u001b[0m\u001b[0mformat\u001b[0m\u001b[0;34m(\u001b[0m\u001b[0mfilepath\u001b[0m\u001b[0;34m)\u001b[0m\u001b[0;34m)\u001b[0m\u001b[0;34m\u001b[0m\u001b[0;34m\u001b[0m\u001b[0m\n\u001b[0m\u001b[1;32m     36\u001b[0m \u001b[0;34m\u001b[0m\u001b[0m\n\u001b[1;32m     37\u001b[0m     \u001b[0;31m# initialize output tensor\u001b[0m\u001b[0;34m\u001b[0m\u001b[0;34m\u001b[0m\u001b[0;34m\u001b[0m\u001b[0m\n",
      "\u001b[0;31mOSError\u001b[0m: /workspace/data/irish/fuaimeanna/sounds/d'fhaag_i1_s1.mp3 not found or is a directory"
     ]
    }
   ],
   "source": [
    "fuaimeanna = fuaimeanna.map(speech_file_to_array_fn, remove_columns=fuaimeanna.column_names)"
   ]
  },
  {
   "cell_type": "code",
   "execution_count": 26,
   "metadata": {
    "id": "6Y6AK3Z-kHwP"
   },
   "outputs": [],
   "source": [
    "import librosa\n",
    "import numpy as np\n",
    "\n",
    "def resample(batch):\n",
    "    batch[\"speech\"] = librosa.resample(np.asarray(batch[\"speech\"]), batch[\"sampling_rate\"], 16_000)\n",
    "    batch[\"sampling_rate\"] = 16_000\n",
    "    return batch"
   ]
  },
  {
   "cell_type": "code",
   "execution_count": 27,
   "metadata": {
    "colab": {
     "base_uri": "https://localhost:8080/",
     "height": 453,
     "referenced_widgets": [
      "ee641bbf54a7499597713c517baa81bb",
      "3d929b9e2518402b81a71757ffb753d2",
      "4f8957dc035d4c1a9e8630fc8ab8cd10",
      "757e7bd0e6c5410da0490d191b4e68c8",
      "596aea0362924c7db583203268dd5a3e",
      "47a6c3c427614f21a6dab1c048e5dd37",
      "0b795d4b68014de19bf9579c67b55ffb",
      "9185f86719af476da41e3835e8f06f8d",
      "771959e46cb64b3ebafe931f96f5ff52",
      "0e999af234bd4b63ad2937e61d08b693",
      "f792530a76ee486688cbc2502dfae594",
      "d69468d63dd74fdd807fe061b92aa84e",
      "1261590ef796493798f7068ea0547b74",
      "7e50f8027fb74d669daae5e46082026c",
      "7f5203fde6b64bf7ad53d6ecd3041bfc",
      "84e7f0001ebe458dad3c96e7e9a38cdc",
      "24ea17ae8ab14e8a871e5e115c3f4c06",
      "f57d087016124ebeb073fd7428dcb68b",
      "f3905820a42c499fba04af9c1ad19705",
      "4e1a725fd90b45e280b8b0028ba65250",
      "4c0ad31e73234e46aac0a297ec18bdeb",
      "fc9504846f424542a7feb932964f1f5b",
      "9f79629ad6a94201acf3283862d1ae17",
      "491fd969d61a478f8e85ffcd3e1a3e20",
      "76d162d3ea0845cc837651a77a5a2d36",
      "98c594f1e41e4b3fab10f0763bd93d75",
      "f6b01ad0433a40178ef3ba5657bc1583",
      "eed2ccc12daa4c71b080794a7a18f5cb",
      "beca070c32124a119a08cb21c2ca95e5",
      "69828f4a101f4340916a4be141866904",
      "20347ed29fdc4c0a96da28c09aacf44d",
      "f18eddbd3d994ddc88f37e02d754c206",
      "b7c43fb5efdd4afbb82c81b923f2815a",
      "c0a661f20e7e4649a3c8c42a5fd01956",
      "8dddd0245dcb4532917cbfa0181d2a00",
      "3bdb4058f40f40e3a10e323325a64638",
      "024989cea06f435894776b0a921164b2",
      "b1d93a7521fa47b8a815445b5232da59",
      "751ae6b9e2da4b85be9600561485f1ac",
      "d7f27e9cf8a844349ca90393e0c49a03",
      "82015055d32449b89346ea18e7474c4d",
      "a170c0cb21cf425fbee97fd6d5584e2c",
      "f5f1f0865d7e4d8b810ccb9c3c4d2683",
      "416badb151ee4660b53fdbc136e0c8fb",
      "a47f1ea64f894f0b8e6b277c31ae9f7d",
      "e51b5fd9d5a6416d986fac1526d1666f",
      "824569c63ec445c08362659ca228dd2a",
      "0f3756509e3b405d87936f599b153de2",
      "d96e01ad62c342cdb7d9b1eceb39afa3",
      "e6ce9330460d4a0fb67cc493ca74ae96",
      "e6178f7b148c4bf39f2826f208e0cc64",
      "f78ff14b9c8f46448ed1ecb3fe1f5e0b",
      "929cde17b3484f3e9e8f8774bc43e374",
      "6ba6d07674a34836be53cf173c2b61ca",
      "5a5bc8b4a1c644dea08a60128d888d10",
      "b054b00a32e64fc5988fbd2966ebbce6",
      "5ccd12253fff448f9c15c9b03c70a408",
      "330226a977694de1bd88c0aa3789be47",
      "f203c54e7e054d97aa4d1097f320f611",
      "6266a4019e124aff877bb55f21740180",
      "3ec3285e9f3e4a5abcefabb7f140f4a3",
      "0cd1932178c945d48604ffd299e65d2c",
      "8ad3e4b211e34c048d0f48e36fdbfe48",
      "55071fc1b7484620803aeba453e9af72"
     ]
    },
    "id": "Ws8DyIL_kjwT",
    "outputId": "6176aea2-5986-4da0-a2ad-6ef5e2c85493"
   },
   "outputs": [
    {
     "name": "stdout",
     "output_type": "stream",
     "text": [
      "  "
     ]
    },
    {
     "name": "stderr",
     "output_type": "stream",
     "text": [
      "Loading cached processed dataset at /workspace/.cache/huggingface/datasets/common_voice/ga-IE/6.1.0/0041e06ab061b91d0a23234a2221e87970a19cf3a81b20901474cffffeb7869f/cache-5d5d8ca3d7517c11.arrow\n",
      "Loading cached processed dataset at /workspace/.cache/huggingface/datasets/common_voice/ga-IE/6.1.0/0041e06ab061b91d0a23234a2221e87970a19cf3a81b20901474cffffeb7869f/cache-55c5d052c0dc5835.arrow\n"
     ]
    },
    {
     "name": "stdout",
     "output_type": "stream",
     "text": [
      "  "
     ]
    },
    {
     "name": "stderr",
     "output_type": "stream",
     "text": [
      "Loading cached processed dataset at /workspace/.cache/huggingface/datasets/common_voice/ga-IE/6.1.0/0041e06ab061b91d0a23234a2221e87970a19cf3a81b20901474cffffeb7869f/cache-341ab7a821deb3e9.arrow\n",
      "Loading cached processed dataset at /workspace/.cache/huggingface/datasets/common_voice/ga-IE/6.1.0/0041e06ab061b91d0a23234a2221e87970a19cf3a81b20901474cffffeb7869f/cache-96800fe293075c22.arrow\n"
     ]
    },
    {
     "name": "stdout",
     "output_type": "stream",
     "text": [
      "  "
     ]
    },
    {
     "name": "stderr",
     "output_type": "stream",
     "text": [
      "Loading cached processed dataset at /workspace/.cache/huggingface/datasets/common_voice/ga-IE/6.1.0/0041e06ab061b91d0a23234a2221e87970a19cf3a81b20901474cffffeb7869f/cache-2d9e145deda3b906.arrow\n"
     ]
    },
    {
     "name": "stdout",
     "output_type": "stream",
     "text": [
      "  "
     ]
    },
    {
     "name": "stderr",
     "output_type": "stream",
     "text": [
      "Loading cached processed dataset at /workspace/.cache/huggingface/datasets/common_voice/ga-IE/6.1.0/0041e06ab061b91d0a23234a2221e87970a19cf3a81b20901474cffffeb7869f/cache-7527ab5544143d8c.arrow\n",
      "Loading cached processed dataset at /workspace/.cache/huggingface/datasets/common_voice/ga-IE/6.1.0/0041e06ab061b91d0a23234a2221e87970a19cf3a81b20901474cffffeb7869f/cache-ed19c3f4bc8ab8af.arrow\n",
      "Loading cached processed dataset at /workspace/.cache/huggingface/datasets/common_voice/ga-IE/6.1.0/0041e06ab061b91d0a23234a2221e87970a19cf3a81b20901474cffffeb7869f/cache-adfe16381828ead1.arrow\n"
     ]
    }
   ],
   "source": [
    "common_voice_train = common_voice_train.map(resample, num_proc=4)\n",
    "common_voice_test = common_voice_test.map(resample, num_proc=4)"
   ]
  },
  {
   "cell_type": "markdown",
   "metadata": {
    "id": "SOckzFd4Mbzq"
   },
   "source": [
    "This seemed to have worked! Let's listen to a couple of audio files to better understand the dataset and verify that the audio was correctly loaded. \n",
    "\n",
    "**Note**: *You can click the following cell a couple of times to listen to different speech samples.*"
   ]
  },
  {
   "cell_type": "code",
   "execution_count": 28,
   "metadata": {
    "colab": {
     "base_uri": "https://localhost:8080/",
     "height": 74
    },
    "id": "dueM6U7Ev0OA",
    "outputId": "1a3e579d-213e-4c7a-b2ec-9a7725d95afc"
   },
   "outputs": [
    {
     "data": {
      "text/html": [
       "\n",
       "                <audio  controls=\"controls\" autoplay=\"autoplay\">\n",
       "                    <source src=\"data:audio/wav;base64,UklGRiTQAgBXQVZFZm10IBAAAAABAAEAgD4AAAB9AAACABAAZGF0YQDQAgAAAAAAAAAAAAAAAAAAAAAAAAAAAAAAAAAAAAAAAAAAAAAAAAAAAAAAAAAAAAAAAAAAAAAAAAAAAAAAAAAAAAAAAAAAAAAAAAAAAAAAAAAAAAAAAAAAAAAAAAAAAAAAAAAAAAAAAAAAAAAAAAAAAAAAAAAAAAAAAAAAAAAAAAAAAAAAAAAAAAAAAAAAAAAAAAAAAAAAAAAAAAAAAAAAAAAAAAAAAAAAAAAAAAAAAAAAAAAAAAAAAAAAAAAAAAAAAAAAAAAAAAAAAAAAAAAAAAAAAAAAAAAAAAAAAAAAAAAAAAAAAAAAAAAAAAAAAAAAAAAAAAAAAAAAAAAAAAAAAAAAAAAAAAAAAAAAAAAAAAAAAAAAAAAAAAAAAAAAAAAAAAAAAAAAAAAAAAAAAAAAAAAAAAAAAAAAAAAAAAAAAAAAAAAAAAAAAAAAAAAAAAAAAAAAAAAAAAAAAAAAAAAAAAAAAAAAAAAAAAAAAAAAAAAAAAAAAAAAAAAAAAAAAAAAAAAAAAAAAAAAAAAAAAAAAAAAAAAAAAAAAAAAAAAAAAAAAAAAAAAAAAAAAAAAAAAAAAAAAAAAAAAAAAAAAAAAAAAAAAAAAAAAAAAAAAAAAAAAAAAAAAAAAAAAAAAAAAAAAAAAAAAAAAAAAAAAAAAAAAAAAAAAAAAAAAAAAAAAAAAAAAAAAAAAAAAAAAAAAAAAAAAAAAAAAAAAAAAAAAAAAAAAAAAAAAAAAAAAAAAAAAAAAAAAAAAAAAAAAAAAAAAAAAAAAAAAAAAAAAAAAAAAAAAAAAAAAAAAAAAAAAAAAAAAAAAAAAAAAAAAAAAAAAAAAAAAAAAAAAAAAAAAAAAAAAAAAAAAAAAAAAAAAAAAAAAAAAAAAAAAAAAAAAAAAAAAAAAAAAAAAAAAAAAAAAAAAAAAAAAAAAAAAAAAAAAAAAAAAAAAAAAAAAAAAAAAAAAAAAAAAAEAAgACAAIAAQAAAP///f/8//z//v///wAAAAACAAIAAQAAAP//AAABAAEAAAAAAAAAAQAAAAAAAAAAAAIAAQAAAP///v8BAAEAAAAAAP7/BAAGAAQAAQABAAMAAgD+////AQAEAAEAAwAEAAAA/f/6//3/AQAOAAwADgD8//D/8//b/9v/5P/w/wMAFQAhACoALQAbAAMA9//m//r/DwAAAB4AOgBNAFcAPgARAPn/5//m/+//x/+x/7L/x//c/9D/5/8IACkANAAiAEUATAA4ACIACADh/8r/sf+m/4L/w/5f/lb+Nv5Q/gP+2P3K/oj/9ABrAqECdQIgAbj/dv4x/aT8T/z4/I7+e//MAA8CnwL2AncCigFaAMD/j//T/7AA8QDuABEBdAEWAjsCmwIAA6wCpQJpAtcBWgH5AJ4AEgAfAKwA1QGdA5IExQQqBE4ChAAL/239fvzM/If91f5VACsBfQL/AjUCFALTAVEBdgCB/xj/Yv4p/r79l/2J/uj+6/5w/sf96/0K/ib+Lf4S/t3+XP95/57/nP/e/z4AvQCfADYA5f+C/zj/Nv/Z/20AtQDUAIMAZQBOAGoATABdAHUAif8W/2P+BP7k/s//bACqAP0AKAF+AJT/yf6H/rP+s/4U/8T/eAAEAbwBgwLGAoUCJgJXAVkAnP9u/tL9F/6W/u7/CAGQAYACzAKgAhgCQQH5/4f+Ov0U/G38q/0a/4AArQF5AtkCigKTAcsA3f/a/j/+U/25/Mj86/xw/WD+g//pAAwCegIiA8kC5AE3ARgAmf9Z/53+s/2U/Wv+MP+y/0kAswC8AAUANv/V/iD/BwCEAC0B0gECAicCWAG7AKAA/f+h/9n+mv7N/qj+jv4t/hT+VP7l/mL/mP+k/8H/n//y/rX+5f4W/w8AEwGfAUYCWwK4AeIAbP8i/lX9v/yO/Wj+KP/UADsCxwKuAkECCwK7ARAB9P85/2f/Uv95/6L/vP9rAL8AQwEbAqsC0wI1AhoB5f8K/3j+B/5b/lb/CABqAAABHwHFAPj/H//B/ij+TP5l/hn+0f3v/AT8dfsd+zH7pvt6/Oz9If/C/40A2ABXADkAXQA3APj/FAD4/+z/m/81/47/AACyAHoBPgKhA/UEbgW1BfgFywV0BYsEkwObA2kDkQPCA10DagOgA0ME7ATTBGsEKwRDBDQEbgSwBHgExQQiBWoFSgZ+Bk0FZwMaARP/Ef2U+037ufrW+V35P/l0+b75jvpy+5z7MPuX+u359PjW9xD3jvb+9YT1RPV79hL4mfiI+W76wfrE+p76zfoJ+5b77fue/Fz+nv/SALsBogE+AnoDqQRVBrUH+AhqCuQLhg0ED/8QfhIRE8wTTRRzFCEU7xP2E5ETyRObE6wSQBK4ERgRkRAJELgPWg9xDxYQTxA+EA4Qxw8mEE4QZA/ZDXgLBQhbBG0BiP6Z++v4QPa39MX00PSx9Fz0vPMT8+Hx/u/67WLs4OoY6lLqF+sr7ADtCu1w7S/uaO727v7vWPGW8oPzy/SJ9mX4RfpN/EP+uf+WAGsB8wHsAUQBUQAl//H9Kf0h/Jz7bvve+n36GvpB+Un48vaU9UP0vvLb8ZDyAvMW81j0WvXT9t73XfjE+R77xfs2/An9l/23/pcAZwItBFMGJgkWC/kLnwxQDTIOmg8eEUISbhP6E+cTwRNrE+MTvxSEFYsWXRezF2QXJxcOF5gXrReiF+EX2BbAFXoUihIHETkPpAz1CtcJhQhUCJ0I5AhnCVsJRQnHCOUGTQQjAXr9IPr79jD0mPE876ztiuy46y3rcuqW6TfoVeYL5Rvk/OLT4WHgiN8n3+PePN8c30rfhN9B3wDgDeHX4eTiuuP45JfmR+hE6vHrDO3X7ZLuMO+l74jwvvHp8mb0MPUe9pz35fho+vz74P3P/8QBrANFBc0GHwjaCSsMqQ63EEYS6BMTFbsVXBacFm4XnBgKGSYahhwrH/ghfCTGJZwmEicOJ1ImWyWUJKkjCCOwImkiryENITUgFB9zHrIdPxxpGsYXMxVbE6MQQQ43DHkJFAexBEACzf+s/FD57vW08gDwO+2N6tnniuV141jhHeAO3+bd+NxK3MPbJNtD2nvZ/9ib2LzYg9mj2ufbTt3x3hvgw+Cz4QPj3uQp56XpM+zl7gzx0/KR9KL1wfay99H4K/q++7b9q//eAUMDjATmBZAG7AbNBvUGawesByYIlAhgCd8KVwxIDq0QvRKtFNUVBBbnFXUVIRURFSgVoxW9FcwV0BVEFZ0VWRbFFi8XPxfgFvcV1hRTE5MRVhA0D8ANigwLDKELWwtXCw0LZgrdCeUIMgewBb0D8QG8ABMASgBtAMMA3AAzAEf/vP3S+8r51/dt9jX1M/Ti81bzo/ID8kDx3fBU8GDvee5D7n3uZe7Z7WntmO2g7Uvtdexc6wDrvuqO6pzqPurZ6WPqmOvS7UTxuvQL+N/61/yN/oX/l/9m/9v+vP4o//7/zgG8AxMF/QWGBngG4QW4A2UA5P28+zP7Of2iAIQF2wr5DsAR/xFQD5IL9QYcAqP+dfyW+zH80/3A/6IBeAPhBPMFywbRB48I6giqCW0KAgszC1IKpglYCXkIdgjUCBcJzwkuClUK3gr0CpIKdwrgCX4JVgn1CJgJ4wpODN0NRw9JEPYQHhEyEAMPKw5KDZ8MAgxaCycKcAg+BpQDhgGM/9395vxE/Bz8T/yz/CD9ff18/Z38bfvn+ST4+vZn9n32W/ez+L/5l/p8+h75Lvco9HvwE+1t6p/og+ee50jomemo6wDtL+6M7hruqe2d7NjrNusT65XrDOyN7EDtH+4j79rwlPIG9MP1Uvdx+Cz5T/kI+a/49viW+fH6C/00/68BQASwBq0IWgouC1cL0wtgDN4Mww0ED2oQjBEwEkQS/hG7ET0RXhEGEuASThS1FbQWkRfOF24XkRZYFToUMxPnEhsT8xMbFc8VBBaAFcQTFRHbDSQKfAYCA5cA1v7U/Wz98Py7/Gf83Pv7+tb55vee9VfzLfA97dPq+egO6AzoI+kQ6ibr3etM7NbslOyw62rqhOmT6KbnV+eT5yToE+lC6t/rSO1G7mDvGvCm8AnxpPEm8tHyOPRR9cf2Ufi0+UX7Z/zk/er/VwKPBE4GvAfUCBsKWQvgC6oLlQtVC2kLzQuKC4sL/gtvDP0Mgg0KDmAOFg6qDbsMvAsfC1AKRQquCswKBwvHCogKlwpvCuoJmQllCdUIVggFB2sFKgRmA8YCZQLIAn8DEwS8BOAEVgQCBK0CcQFFALH+P/1L/Br8EPyL/O/8A/25/Cn8V/s1+vj4+vcD91H2Ffa/9Z71H/WZ9Ff0UfSU9P30BfZo95j4OPlc+Zr5qPlN+X/4zvfl9y/4ofg9+QP6EfsZ/K/80/w0/en9X/6L/lT+zf0N/Sz8ufvd+5P8gf1m/g7/zf+lALoAIQBD/2b+5P2u/XL9g/37/W7+nf4b/2n/vv9cAK4AnwGPAvUDHgUeBccEeAPDAU4A+/4Q/k/+uP//AXAEJgY8B7wHIwfFBS4EVwIVAVUAQgA6AcgCewTIBbwGPwdqB/UGGAZ+BewE4QT5BKQEjQSCBJIEcgQgBJYEhAVrBoAHWghGCGgIngjBBywG5wQ+BFcDIgNDA9QCCAMCAzYCtgHeANb/ev79/AP8v/qW+b741vdL91/3K/ef9gT2GPVO9I7zc/I28j3yM/LH8qrydvJW8gXyp/Eb8RPxRfEL8kXzZfSr9dL2Afjq+Gb5fvl++Wr5Ufne+ZL6Dvxi/pMA8QKaBJ0F7wXLBI8DuALhAVMBXAHZAQ4D3wRsBtYHWwktC4gMwQwFDWgMeAvdCiMK9QkqCpULLw2MDucP9RCoEecRuBHFEOYPLg8uDv4MzQudCt8JawnvCOUIswiuCLQI2QcrB2MGOwVZBJkDywIRAi8Blv/l/UX8pvph+Wf47ve098f39/d99872LvZG9Qr0tfLO8QDxTPB08L/wlPF08o7zUvUl9qL2wvZ39gj26/WW9QX1ifX39U32V/cX+Ov4EPqJ+sL6dPoJ+pv5xfj/95r3m/cI+IX53fqV/Ev+Vf+ZALgAswAtASoBOAGFAQsCpwJKA9IDLAQ/BUUGOAdDCF4JYwqfCqcKHArgCUIK0Ao3C6QLUgyNDKoMNw08DcsMgQzdC3UL+QqsCukJRwnoCAUIkgceB8oGMAYfBU8E0QP4AlQC1AFKAQcBhACf/63+6/3I/Mb77/rM+uH6Kvqt+Q35k/hs+Iv3KPdf96j3P/hA+HP3NfZW9Zj0APRR9Hz1RPc4+ez6Cfxj/FX8Gvss+an3hfZB9sf26/cH+aD61/z0/Uf+2v7S/uD95fz4+2379fut/OD8U/02/t/+Rv/F/1EA8ACjARUCvQK/AysE2AN5A+UCKwJvAj8DUwQ5Be8FDAbPBVEGcQZVBn8G5gZiBxYI/AhmCTMJeAhGB/UFRQU1BTcFUQWABUEFLwUJBfEEpQT9A4oDLQMIA6kCmgKBAksCWQKrAh0DfAPlA4wEWwTzA0wDUgL2AXUBJAHEAKQA3ACSARYCoQLVAkkCPQEm//P8L/vB+ej48PgM+bT58fqk+6D78/pf+tf5R/k5+Sn5w/g++ID3cPbj9af19fXq9vf3ZPm2+pf72/t2+7T6yPkA+dr4PvmC+hj8c/2//g7/Tv9O/9f+if63/bT9KP7e/hUARQDLAPgAfwB2AMP/hv+J/4X/8/+IAN0ByQKKA0EE4QOmAxEDtAJmAuMBzAEQASEBZgHdAQID6QMOBbwFPgbXBgcH+gYCBiYFdATdAzIE3ATsBTEHKgjMCFQJgQn7CEwH3wV9BFwDBQODAj0CXQK+At8C9wIzA0YD/wLCAhcCGgFNAH//mv4+/gH+EP7w/lX/vP+9/1X/3v5p/r3+pP6H/p7+1/1T/c78K/yC+9n6cfov+sL6AfsP+5P7GvxR/Fn8e/yy/CX9Uf0C/Sv8cPs9+yX7Zvsb/Iv8Hv0T/dv8Nv0h/Yr92v3G/Xj9+vwM/R79R/3k/Qr/fAC+AS8D4wMkBO0DkgJTAZIAsQDnAEYBcQIjA/kD0AQ9BbcFGAY7BjQF9gPdAlkBVQDM/0L/fv9cAHcBUgLBAv4CtwKDAisCagFWAasBEgG6AGsABADp/1kA3wDoAN4BVgIQAs8BswFOAQMBSwEvAUIBfgEfAS0Ao/+Y/2//EQDeAM8ABAHYAC8Aif8b/+T+If4F/hz+1/04/i/+uv0k/Qr9X/3F/Rr/YP9k/2z/A/+d/gn+Iv4f/mr+8P5g/kD+f/4t/sL+gP+6AMQBjwKLAkkBQAAZ/8f+0P6Z/1MB9QIBBGAE6AMwA68CHQIXAj0CBwKjAR8BeAAgAFwAwADkAHUBMQLyAjgDkwLVARIBqQB5AD0ASgCUAOoARQF8AYABEAKDAn4CqwJKApUCpALQATMBbACU/+T++v7F/qn+af4r/tv+9f8pAhYFbwUEAzkAbPw5+aj3W/c6+Sf8Iv6o/mf8ZflX90X1BPUK9/v6L/+AARMCmwCp/Ab5MveS97b6C//GAkcE3wKs/xD87Pg++BL6O/xn/wsCjAIeAj4ALv8b/in+2ADZAq8FugcoB40G3QVYBeUFsAaVB00IhQjtB6gHRAcLB8oHaweFBkMFQgPkAP3+E/7B/8wCXAXeB8wIiAjVB88GFAWoA4gCEQHW/xv+K/wB+vr2bvQ78xXzmfSi9kn4pfmE+vT6Mfvd+qz6bfuK+2H7uvpf+d/4A/mD+aT64/sr/Xv++P59/1EAyADEARoDSQUCB8QIKwnmBzgHmgQdA/kCrQJPAxMEKgTyA9sC6QAu/1v+tP12/XP+ZP9VAZ4CYQPoA+QDfwMkAn0Agv/Q/g3+iv0m/ZT9AP6q/cT82fuH+7/7r/tv+3D7Xvv9+vb6ifoX+t35IfpM+zD99P9JAosEZQYAB1UHlgcPBqcECARpAycDkwIdAo0AXf+D/lD9qP0E/0kCsAW/CKoLLAs4CvMISQf8BlgGsQaVBpwGRAfMBZ0EaQPJAbMBnAEZAsUBmADT/0T/5f+dADcAYP/q/rL+F/4G/dH+wf/3APQBQ/+P/Rb64/Yh9pT1pvYD+fr7Tv5J/+7+IPyo+J71APMI9Oz1Bvit+GX2Wfee9c72M/zN/kYE0AbcBnIGVwNxAdb+SvwT/N78pf2a/Z3+Tf3O+4396f0sAFoEaAb8CWELWgqqCy8KuQmqCsMIigedBS8DkAFnAGYB8gQQCRQMXQ3cCtsGuwJT/nb9jv/PAa0EzQXvBH0Dxf9V/IH56Pid+2H+JQAiACX9dfjZ9LDxQPH389f2qPnd+fz29/IO7V/pXukY64LwgfbI++f+NQDnAOT/3QFwBXEL+hJIF1caPhliFdkQYgoWBmQDrgKCBMoEOAXbBHYCVQH4ABcC3QT8B1ILWg3pDZ4NhAoyBqUC4v77/LH8IPz3+hX7MvtG+ln6APqW+R/5r/me+vT6HPtp+kn6tfkP+QH6FfrH+dv6mfq9+vL6tPpK+737lPyC+x37jfvi+zP95vws/lr/6/8uATUBcwKFAiUDjASBBVYHFwhpCbsJDwjCBTICo//0/r7+PwCpAS8D7gPHArwBWv/W/UH9ifxI/oYASQLQBCEF1AQsA7H/D/1B+nD5ivmB+Vv5Lfnz+R75yvjY+Ob3ifip+O35tPpP+9T9gP09/SD9kfyc/V/+5ACtA5IFfQhuCXcKpAosCcQH2AVFBfkETQVWBn4G1wYrB5MGzgaEBawENgWHBEkFqQV+BEgE2QMPA0oCmACHAC0AZ/8A/1b/Gv8l/qT+DP6Y/Zz9S/0+/Ef7+fno+Kj4XPm3+oD7Xvye+7L6D/oh+YH46vfN9kv2lvf6+Or6gfz0/AD/4wDJATwDqQStBKYDewL5/5T+Zv3x+1/8fvxM/bf+1v4BAPIA3ACUATcCwQIhA3EDxQNvA5kDTgQKBJYEAgUhBbcFOQYQBhcFJwS+AlwCLgG///T+s/18/F38svzZ/Ij+Tf/C/5QA3gBWAT0BtQHjAgUDEAPHA5YDaAMJBCYDxQJvAkkBygH4AKoAdwDV/rr+Sf6y/V7+GP8T//z+QP5c/XH8b/zr/VT/TQD1/8cAgAB2/+P+/fyr++T69fp0+4b8MP33/Tv+Gf52/sj9KP2w/HT8MfxE+4j6hPpN+5r8zf1o/3wAxQCUASECswHNAYYB3gAOAJH+b/59/hP/cwAEAoMC/AEAAkwCHAI3AQIB9QBfARICiAK7AkICYQF4ALb/pv+j/9r/NAHrAcMC2AOxA34DVwL1AU4CzgGWAScBtwDS/xYAZQDvAFYCyAL4AhQDogL8ATQBtwBTASUBtgGEArMCmALMAXwBqgCLAOUAVwHjAZABJgFiAO3/TP+Q/g3/ev+5AHkBgQGGAQUAnP6H/cn8J/wK/GH8yPzx/Ev9ff27/eP9cP3+/Wb9Rf5F/7v+Kv/0/eL8iPyV+4P6XfpQ+vf6cPyx/WX/OgCdAAkADP/V/Wb8uPtH+yT73vtz/IP9Rv8aAEQBwQJQA9sDWAMgArABwv/8/nn/AQBgAWsCEAPdAuIBAAETALX/JwFBAqwDKgX9BLEEBgNqANz+mv34/Sz/rv++AKgBUwIFA90C2QIfAyIDlAObA1cDrgERALD+rv1q/iX/nQC1AtEEdwXLBQAFdgMgAhAAcP4X/fr8lf2t/Qr+Wv7R/u7/+/+DADABjADZ/x3/Rv4V/qf9Wv25/fX9lf4J/5j/gf8O/6P+8v0b/ef8g/0Z/lX/wP/sAFsBigDVALj/IP/w/pj+RP4v/jr/UP/Y/50A6ADGAFMA9/81/5v/yP/6/4AASQCQAEsApP8g/4D+6f1o/ov+dv7C/xYA/P9uAP4AhAA6AdMBMgL2AukBGgF4/2L+8fy2+7H7ovxn/h8AUAIrA2AEowSaBCcEkgJuAQoA2/78/Z792fwF/Z792/6FAAcBLQLeArgCIwLbAED/Ov6+/Qr9ov1m/mn/DQCI/97/b/+e/q3+Sf92/0cA8gC4AAUBVAArAD7/aP6p/pH+ev6//sv/xf9/ALEA1gB2AZYBewEwAAoARv/h/mn/mP81ANkALgG6AJ4AJgD5/zoAdgCgAIoAQwDL/yoAbv/p/uP+7f19/h3/dP+8ACUBxADuAK0Ajf8K/67+W/6E/ib/GwB0AeUCEwMEAxgC3gDx/7D+t/1o/Rz9yPzq/Tv+uP8TARUB1gHmAesBpQDv/1z/PP7o/eP98v2k/nz/XP+5/2D/M//y//X/v//z/7P/Yv9n/2f/Sv/T/qn+c/7q/p3/yAALAtwC6gOpA4wCmwEOAEz+tP1q/ZL9tv70/wcB9AGYAc4BsQHTAHcBtwCAACsAjv/v/3X/bf/q/xoAdQD+AJgALwHXAEIATgBG/xIAJwCL/0MAagDs/3r/0/5O/iz+bf4P/w4A6wD/AEsBdgF1ATIBpf86/r792vwF/QD+pf6A/w0AcQDKAFgBHwFaAfoAJwAjAMf+4/1a/f38G/2E/S7+/f5yAGwB2wEXAuMBLwGdAMb/wf47/kb+qv5F/4r/1P9CALX/6f9bAJYA7gAtAUMBfgHmAcMBmgEiAWUAMQCeACwA8f+w/0H/3/8cANH/DQBaABcA0wBAAcMAdgAHABsA3P9UACwB4wCpAYkBuQEoAgIB4gAYADX/zv6b/mv+0f7i//z/FgH5AS4CvwI8AkABjP+C/WT8KvzM/Ib93P42AKcAJgECApAB7wAMAb//gv+P/7H+x/4C/un9k/4S/jT/2f8A/7D/LADd/+z/PADP/8X/UwA4AOb/MQA3ABoALgDN/1QAwQD+AA0BQAGzAcABSQGJAK0AeQBkAIkAPwBaAAcA7P+7//P/EwDB/1EBzgAkAAoBmwBNACMALP8T/17/iP4C/8/+KP7p/m//KgABAXUBzwGDATgA8v4v/mr+lf4g/oL/WgDoADgCsgFsAfYAVAA4AFD/sP7B/kD+pv2v/u7+pv96AMj/BgBsAPAAvgCYAE0AcP8D/0n+Cf6Z/hn//v+jAPsADgEzARsBLAHWAKP/RACz/0b/Rv98/qr+kv4T//f/YwDSAIsAwQDzAH8AswC0AKQAlAB7APcADAFYAJkAnv8n/8n/j/4U/6H/RP/w/63/4f+BAAwAEgD5/yv/Gv/U/sf+MQA5AagBFgMZA7UC1QLuAIT/tv5X/uD+7v6I/0EAFgGPAS4BEwLeATcB9ADkALcAsP8t/1L+W/0l/cf9+/5qAFABLQJxAkUCFgJNAQ0BTAD4/kD/6/42/pD+mf5v/ib+Df55/u3+DP89/9D/LQB4ANoAHgCP/9j+y/5w/8H+Nf9i/yz/sv9s/6D/DwDHACkBDgFeAccABABKALn/Ov/r/iP+U/9+/7r/yf9K/xgAZ/+D/6L/T/+D/8v+Av8EAGIAdQDGAEMAFQDwAOIAngA8AGIAiAAVAB//B/+B/z3/+P+MAD8B5AGXAlUCCQKPAm8BjwBH/8T97/2W/Xf9yv54/5MA3QGiAZsCowIIAe0AjQDA/5L/4P+e/6n/6v7u/o7/of5u/8D/ov9OAMMAvgByAFIAUf/F/jT+P/5P/xD/KP9+/6f/BgBDAG0AzgAzAfwALwGMAQ0BXgBmABYAZP8s/+v/ZwD+//j/YwBMAPz/RQDG/1L/h/+C/6f/iP+p/4D/0v4j/0H/XP+//1kA+gBsAd8BQAFOAfsAw/+b/w3/cv6x/uj+hf/PABsBjQGEAuEBgAEIAdP/r/4S/nn9j/2t/cD9yv/8/38AlAHUAAEBfgEhAcwAXQFmAIv/CAAd/yv/7v6H/nr/HwDcAIwAgABvAG7/I/8u/vD9Ov7s/Yr+3P70/2cAwf93/5H/av/w/qf/gP/k/8sAjQAkAfwAjgCqAD4AdABEAE4AcAB3/7v/AACw/yQAMAB5AJ8AjABTAOP/BQDV/1X/c/+H/+L/bQGpAT0BlwH8AEUA6//r/jn/4f7J/ngA+/9aAL8B0wEaAg4CEgGiAGIA4/5U/h7+cv3W/XX+7/7l/7wAKQCwAOUAdABoAHT/Mf/7/iP/IP8p/zH/e/+2/+z+R//W/+P/aQC1AK8AbwCFAEoAEwBUAGv/aP+p/3H/lv9p//7/wADHAAcB9gB4AHgAHgDF//P/HgDxAO4ALQBlADAAif9h/4r/7v87AAgA9gAcAWcAKgAm/87+lP62/pX/QgBVAa8BtgHrAc4ARgBjAPX/DADa/+b/awDe/ygADQBu/ywATABUABMBaQBkAM8ABf+v/6v/dP78/qT+Bf9+/3X/NwDEAMsA9gDLALoAgQDT/83/CADc/5D/fv9N/0v/ev9N/zr/4f5O/9f/X/+S/9r/gP/5/hT+Lv6M/l/+RP+3/5L/owA1AW0A7ACaAGQAlwBl/8z/TgDd/0wAeQAiAKwAZgB2AAYBNgEMAd4AcwBU/7L/JP/4/j3/i/5RAIkA7f9AAZUAIwDWAIIAjADDAHEAuABuAJ3/qv9H/23/6/+o/5YATgGRAXUCEwJvASMBbf+4/mf+gv3//S/+W/60/hsAlQBdAP8AuADtALQAWgA/AEIAbABFAPH/KP/3/kz/Ov+N/7n/dP8wAJkAgwDvAG8A4//R/4L/Mf8L/zb/1v4V/1z/UP8pACsATgAeAeoAvQDWAJ0A7AAdAXwANAA+AO//vv9h/wD/Jf9t/5H/BABuAJUAwQCUAO7/vf+p/0z/n/9S/0z/CQAKAH8AFgHaAA0B5QByAAwAiP8n/zn/uf+r/18AxwDbAN0BpwEKAcsAu/+J/wv/iv5J//H+Q/9fAKUAFwFeAVcBUwHzAfYANAACAbv/tf/3/9j+Wf+S/37/GgBPAFsAcQDeAA4AHQCu/4X+S/65/S3+JP5q/g3/pP/l/1UAhgCbAPMAtgC6AIsAWwAEACUA5f+l/5z/Zf+Y/1f/KgABAC0AJwG1AKgAFgDK/6H/Fv+2/pr+QP+4/2r/uv/J/6P/QgA2AHUAKQEuAUkC9AFFAR0BWP/y/j/+3P12/g3/Mv8BACgBaAGcAYUBegE6AecBxgBX/3P/F/4b/nb+xf1z/l7/OQBwAeEBkQI3AtkBSQGO/5z/8v7c/vf+DP/R/w8AhABVADEAZQBjAPj/KQAqAAQAWgD//9//IwBf/3L/ef9f/+j/rv9iAGUAn/+1/9n/GQCQAMEADAFmAVcBtwAkAA4AWv9S/5v/K//b/zUAs/8YANr/zf/Q/9D+1/5L/4r/+f8jAIH/QQCUAMj/MwBi/3D/9v9z/1v/Wv9//3f/q//u/ysAcQCvACsBWgHdADsAUP/L/tT+UP5t/u3+NP99AEcBLwFwAdcAiQCTAC8AHwDi/xoA//9EAGIAov/X/2X/lP/P//P/igAJAbYBswGiASQB7AAQAFD/ZP8o//3+aP+N/8X/7v8W/4L/Ov8M/4D/C/8BADoADQCTAP//Yv99/1T/x/4Z/8L/7/86AN4AUABcAHkAzf8AAKP/Uf8fADAAwv8nAH//fP89/zL/9v8dAFcAyADfAHcAkgBzAJUA4/9FAPUA2wCnAagB2wH8ASABzwDp/6v+1f6S/if+Of8m/+L/vADI/1kB8QD2/7wAEABSALAAcv/5/0IAiP8CAOv/nP9o/7sAYQD0/wQBdgCtANUA+f9L/5j/jv+T/nj/1/6W/k4ADP/8/v/+zP53/13/CgCvAOAAmQFZAn0BxgA3ABz/yv6I/n/+cv7f/0MALABSAe//WwB3/l3/RP+p/f7/W/4SAIsAbwBrADX/+gCf/6b/3QCN/z0AmQGXAJ3/wAC8/3P/yP9o/xwA8gD9AL4A3gBwAFQAT/7Q/hn/9v2j/9P/MQBkAHAAoQDQ/7cA1QDe/3IB9wEoAeMBKQE7/3T/l/+2/nv+Wf8pAJcAZwE5AR0Ah//fAOX+sf76/4P+NwA7AccAZQD//9MAtP+5//j/Lv/3AKgBNwHfANIBegE+ALD/w/9//9b/A//v/i4AMf9n/6z+Sf9J/3b/4//4/ycAtf9SAMX+SP8S/4X+EwDS/0AAigHlAOIAkQCE/5z/Q/8m/mb/6v88/twCawDQ/9IDkv8dAdv/VwBs/0z88wCz/DT/6P/3/db/1wFsAKwAEgCRAMP/Nv9dACD9FQBL/joCgvjUDbH8Ye/OGbT8y/AVCxAB9/g6AocKT+4B/8cZU+539iMOxfyx+TUJ7vZ6/i0KOABn+U4A4QUN/mL/kf8hAYn/xQPE/vz+agHz/9b+awHi/nX/3gKoAb3+AQF1A3D9/f/rAfn9Wf4dApv+7v4LAYoAGwAh/xMB8gE3/MP/4wMA/In+IQIC/6X/AwHq/7EAAACCAVT/Sf5CAkYAXv/M/c//uACt/B//9f+N/lIDHgE4/4kCtQEc/4v+UgDS/vb9QQCAAFoB3gCg/7IA7/9T/9b/Bv/B/ZQBegEN/ygAOAGU/zsA2//o/tL/C/8DAWH/kAEu/oz/1gCD/iEAF/7CAdv/QgAAASoBtAB3/5oA3/5xAF8Ahv4hAeb/xP92ADj/0gC6/j7/GgGU/yf+KQDV/9v/hgFEAL7/wADNAPH+NAACAI7/tP8B/xMALwE5/3T/9QJEASUBhQAeAHX/Yf/t/qL9av4uAPT/kgB9AckBHwLV/78Ctv5g/jkB8/3I/f3/O/+TADv/yf8rAlb/NACAAMYAhP+xANEAKwBS/2UBCgC9/k8AxADn/on/XwG5/n8Ayf/F/37+kP9a/wf/bwHaACf+XgLY/z7+wQCq/cwAq/7K/YgCNgBz/q0B1/4vAToAmP80AHr/HAEV/0sArwD0/cAAtv+f/l4Cqv7YAG8CMf9zABgAJ/7o/hkAKf+1/ikC2gES/0YCyQHc/jIAJv+r/bH/fP+y/VUAcQAcAWYCxgBHAE4AgwB+AGL/GgCS/4L/RACU/tr/MgFSAIT+LwD2AOD/nf/IAJMALAD9AC8AwP5P/wQASwAzAK7/YwFzAH/+rQCC/0r+FgGK/77/7QCjAf3//v87Agv/wf+fAOX+4v+V/xsAff8i/+H+Lf/RAKv/hf+sAJYBwf9HAKMAa/8TAMD+wP9UAWT/VADTAZ8Asf+PAPb/d/4S/yD/Ef80AGwBDQCeAVQC/QCOAIb/M/86Aaf/uP2zAdT/V/6NALr+vP5mAQcAiv5OAZwBp/5OAJj/0f4KADn/p/4nAGIANv/TAMr/vP8rAGf/H/+x/w0ABQCi/8v/xQCh//7/2gCc/6gAwv+z/2sAb//XAEr/KQBgADX/GAHYAJ3/PQDOALkA4v/1/jQACAC4/mT/sQCBAIsA9QDiAMAAWgAp/3//9f+B/wv/8P9YANAAYAEz/6YAZAEB/vr/0wCA/V4A5QAT/28AiAHeAKj/XAH1AG8AcgDo/mQAp/5S/i8AWv9y/7f/dQHm/l4AKAMO/10AUwHz/p//iwAh/3P+KgCN/0n/UwB9/8j/dv8UAJAAef8YAK4AUQA8ABgA9/9vAEsATP/1//T/i/87AR0Ak/85ABEAgf/O/2oAs/8RAGcA6gDa/wIA0AD0/gsA2//E/qMA6v9P/yQAkgAuAFYAzv+M/z4AxP9K/+7/mQB8/k0AcwHA//oAXwDi/ykAQf8+/5D/EP9Y/5gAwP+CAOgArv+LAakBRgAMAAoB1/+4/u3/Yv/z/pQBVgBK//gCrAC1/1IAx/5E/77+Df/p/oj/YADn/9MA5P4SANoAnf8AALL/kgCeAM4Arv8gABMAiP8dALf+cv+u/+/+oACyAJv/2/9xAIv/UP99/3r/o/+5//kALADpAEIAxv/nAGj/bP/C/xf/Q/+L/wIAmACWAFwArQD+AF4ABgCo/0EAE/89/nj/9P9xALQAugDpAN0AGwCG/2D/+P6+/hn/tv/e/1gASwImAdIA8gHcAK4AnADp/xz/9//u/wn/n/8qAKn/N/+cAPAAjwCzAAIAMgDb//n/2/8l/8f/3f8sAIr/Xf/j/8D/LP+N/3IA0/8kAG0Aqf+5/yQA2v/+/xkAaP/j/6gAt/+v/1AAVf+v/0cAWf+LAI8Auf+wAIgATgBMAJAASgCM/13/Y/+W/5v/5v9zALn/+/+uAYcAhf8aAdv/Af96AFD/n/6yAJwAuv9RAEUARAC9/2f/nv93/93+wP8RAP3/qwEdAqUABQGTAVIA3/8o/6H+Jv9E/xH/yf/n/ysAOwHcAIoA5AHMAO7/rwAzABIAAwBD/8P+v/8t/6f+rf+Y/63/nACNACQAUwBXAG3/xv91AFv/xf+bAB0ATf8lACkAWv9p/wYAwP8O/2kAbwAqABUANADHAOn/YwC/AJH/RQBQ//L+ff+3/1MAov8zAJIAowDIANz/w/+m/1j/YwBP/xD/v//p//v/cQBhACgAVQHPABMAWADH/z7/7v9I/yH/OAAEAY8AjABXAZQA4f++/6v/uP91/9D/pP/3/8gATQBuAKsAHQGG//b/ewD3/tH/zv9B/xj/mgDVAN3/WwCvAMH/LAD5/4P+W/9A/07/eP+j/2UAy//d/5D/IQAvAHb/6wBnAAMAEwBOAOb/9P+jACf/Yf/wAFwBpgDtAN8AjwBVAPH/Q/8o/+b/Bf+h/x4AIQBTANkAhgBV//L//v+1/wwAMQCs//cA8wDp/xQBMgDA//f//f5D/4X/7v6s/vT/tf8pADwB6wBQAWkBEAHi/wcAqf8C/6b+ef6O/pP/zP9a/x8BnwCUAM0ALABsADkAOf9a/+7/2/8ZAHL/l//O/7X/tP99/8D/RgCPABMAAAByABIAff/R/4L/KP/N/0X/jf8OAAcAGADO/08ATQBEAPz/ZwA0AJAACQFLAIYA1f8fALz/ZP+F/7T/qP/V/0QA3/8pAbMAeABbABYAvgBLAOz/7P/p/yv/Xf/z/2MATQC+/2QAbAAtAHkAqf/c//7/k/8nAJkAtQDuAM8AoACPAI8AYQBT/0P/PP/y/+z/w/+NAEsASACWAHgAJgCd/yMA4v+q/nH/o/9l//L+dv9O/8f/QgCu/zsAxgD+ANP/uP+r/xQA5P+t/o7/yP9A/17/0f/c/1gAzABPAMwA1gDYABcAVwDk/2r/mgBo/xEAXADq/+j/IQBDAPb/lQCL/6T/gQDL/+P/sv8C/xr/Uf+b/3j/Vv+MAEAAxf8JAfkACAGiAGkAjQDD/1H/Pv9H/6f+xP6u/6r/WwDOAKsA3gDxABwBNACrABoAaf+BANr/Lf82/33/Kv87/4r/of+WAHMADABvACUACwCZAOj/Yv/A//j/VABd/yAATwBaAJcAjP/BABIAPQBEANP/VADa/6kA2AA9ADQABwCy/8D/IP9O/9z/wP/R/20AGgGOAOYA0gDi/4cAn//z/04AkP/O//n+FwD//6r/vv9q/+r/AADi/y8A1//Y/+oA+v9ZAB4BuQA3ABUAi/+g/57//v5Y/43/uv/E/w8A5AD/AG8A4AB1AAQBowBFAFEA0/5+/63/tf54/7H/1f8nANL/GwHAAGgAxgD3AJYA2P8BAOP/v//Z/2H/KP+e/6D/SQDt/4D/JgBTAOH/RwByALH/+f8wAHf/Zf+M/1j/Yv+H/4UAUwAFALwAUgBcAGsALQD6/+3/fgBGAK//VP/+/57/hP76/h//if91ANH/tv+jAIwASAD5/xsAOgB/ADIAv//2/5f/9f8VAFn/vv8+AP3/QgAxAHAA8v+D/5QAOQAqAIsA+f/gAJQAJwDZALz/nP8kAOz/wv7h/y8Aqv8ZAE4AcgB8AKYArf/S/8b/9/84/0///P/Q/3z/zP97AFEAbAC3AHEAFQBJALUAaABX/zIAFgB8/5//AACW//7/sgATANX/2gCrAAAAdwAxACgAp/9ZAP7/bAB1AM//LwCx/5D/z/9H/xD/hgCG/+H/agC8/zIABQD+/1r/eP9R/xv//P8JAOb/1v+DADgADQDcABgAfAADADT/iv/k/zX/pP8aAHP/UwB+ACMBBQHMAAUAlgB3AGD/8v9H/9H/IwB8/8n/JgC7/0YAfADq/1YApQCNAJgA3ACLAPH/4P9N/4//bf+4/27/Zv+zANv/9f8WAND/x/9LAEMAGwCrAGsAlgCLAPv/TwAnADX/pP/6/6L/QQBLAGoA8wAnAGIAmwAvAHAAy//5/+f/1v6f/8T+p/4X/wH/hv8D/87//f+x/2QAWABu/3kAdQCB/wUAGwDg//n/DgCA/2L/zv/P/37/df/h/xEAJAAqATQB9gDXAL8ALAAqAMb/ov8BAEv/5/9q/3n/NgDm/2gA/gBAAK8ArACqAA0ADf/O/xH/2f5H/5r/SwCYAOsAyABGADQBZgCw/7n/PABlAHH/+f/5//j/6v84AIf/+/++AJYAEwANACkBGQBGAPEAqv8BAJEA8f+x/z7/8v+W/9n+wf/+/8L/5P83AF4Auf8IAFIAjf/o/8D/h/8C/03/6/9V/9f/aQBEAB4AlgBwAOL/8P+T/2P/i/+P/2L/JwCYAOgA4ACFAAEBzQDeAAkARQAEAKL/EAC+/+L/AgB3ACoAKwAcAGUAjAD//ycALgDX/xIAq//q/wUAgP95AOn/xP/j/1//U/8Q/2b/af+v/xcA9//z//D/6P/j/wAApv/W/9z/0P9KALr/JwD5/2T/4v+0/9H/lgBgAOn/rv8jANL/N/8JAFX/qv9pAAAADwBAACUAMQCF/3n/CgCu/wIA1/9iAGYAFAB1AC4A6f/n/97/nf/+/8j/4f+E/zgAVAADAL8AVwCQANQAxQCBAO8ARQAkAGT/Tf8PAMX/tP9w/74AjwDYAPgAlgCyAIYALQDT/0QApP/P/+7/Of+q/yAAxf/d/yYALgAWAHMApQAiANz/GQDm/8f/q//S/wUADAARAPb/OgBEAAUAWf8CANf//P/w/4f/dAA1ACIARAAmAM7/mP9+/2n/s/+E/9r/3//t/1YAHQBUAOX/dv8j/0j/sf8m/zj/oP95/xMA9v81ANEAWwCSAA0A/f83APL/2f/f/7//3v82AJMAAwHKAMwAngBsAGEAaf9//zoAOf8n/2EAQAAVAKAAXACbAJUA1/+7/wEAOQCA/8n/QgDU/04ACgC7/zYA/v+5/+b/HADz//D/WgAnAGr/vP+7/zn/W/+Q/zj/sv9lAAoAzf/K/y4AwP/R/wwAAAADANn/NQCR/5z/sP/r/xYAU/8MALf/6v9hANP/GQANAPL/6P8GAD4ADACTAOP/0/+YANn/4wCvAKMAdwBwAIgA9f8uAKn/JgALABgANgDYABwBjQCTALcAKQD5/1MAiv/l/4n/CgD6/yz/AwCx/9H/pv9SACQA9v/7/xEANABI/ycAeP8DABMA0f+NADMAeAA3APD/2v/m/9L/e/+m//v/mv8iACsASgB8APf/sf+6/08A0v+b/3P/mf+AAAwApf9BADQAAABnABAAgf/2/30Aav90/9b/Jf+D/53/2f+F/x0AHwCC//7/zP94/1n/hv/a/z4Avv+CAOkAgACOAC0AEwDR/7D/pv8fAF4AOgB9AKUAKAHzAJcAxQBQACsA4f/Y/y3/R/+p/0j/PADh/3YAfQAoAD4BswCgADIA3/9d/4n/X//p/tn/kP8MAGwAcQAJAPj/FQDh/7z/dP/e/6H/zP8hAAQAQ/8J/1z/mP/L/7L/+//O/ykAAAE4AN3/cwBv/z8AiwDA/5QA4//q/9P/UP8w/0L/uf/R/10AqACMAJIAewDw/y0Arv9L/8P/8P9EAE4ATQB1AHwA4P/IAHkA1P98ABcAdACTADMALwD9/4r/VgC8/9b/zwALAJ8AfgCFAMP/pv+u/2L/7f81/40AZQAAAE0BmwBU/+r/1P/V/gEA7f/a/z8ACAAfAPz/qP+p/5//g/8zAOP//v8iAFcALAAJ/zT/N/8z/5X/DgD2/0sAxwAPAMn/XQDy/zn/5v8XAMj/wP9tAHAA7P/w/xAA9P+d//r/8v+sADcAU/8JAKD/kv/w/1r/MP8cAAQAvP9AAEUAyP8WABMAx/97ACcAhwDMAK4AfAAfAAwAcv8YAK3/Yf8qAGgArADwAP8AygBTAI3/uf9z/z7/Xv9y/+j/PwDe/8f/dADB/wsA/P/1/20AIgCBAEoAfgAgAOb/BgC3/2H/yv8lANH/owA4AHIADAE8AHb/bv+q/z7/w//t//3/CQBJAEoA6P8bAL3/z/+4/w8AWwBlAK4AUwBHACwArv+H/zAAvf+R/1EAWAAhAM7/KQCR/7T/BACv/94ApABCAJMARwB1/7L//f9v/0cAAwBVACYAtP/QAHf/N/+l/2L/zv9jAAMBygDgAKkAjwBJAJT/VP///vT+Av92/4n/cP8mABsABwBjAJIAxwBXAK0AZwCo/8P/G/8R/wn/YP/e/wkATgCPAIEAewDGAGz/7f9iALj/5f93/xgAu//v/1MAuP/D/9X/1v9z/7T/uf8gAND/8f+TAHIA5gCDAB4A9v9X/zv/k/9M/wEApQBZAMEA5ABVAEMAkADe/xX/Pv8o/xz/sv8DAPH/IQBDALEAJAAzAHoAs/8IAN//bv/Q/y4Amv/D/6f/BwCfAMYABgFqAJUAGQDi/xkAuP9y/1r/cv9C/+H/WABsAIsAhwCDAAgAfgBZACIAcQAIAM3/p/8QABEA/P/x/5f/s//9/0oAAACBAGMAwP9LABYAwf/s/yYAqf+C//b/of+8/ycADgAPAHQAPAA5AA0ALABqAPz/KwAYAEEA5v/3/yAABQDR/7X/6//S/x0ABQA1AC4A/f8kAMP/xf8DAM7/9/9gAB4A2P84ALT/0v/n/6X/EQB4/6D/RQCH/7z/fwBPAGsA1wC8ACkAHAAaAMn/f/9F/7j+8v5h/yT/DwDeAGgA/ADzAEkAeQD7/1D/eP+n/4z/2//p/0EAqP+Y//H/hf9KAL0AfQD3AD0BMwCa/6D/VP8h/2z/U/+D//v/9v/A/9z/FACp/w4AhAA5ACkAaQCdAFUAKwDe/6r/5f/h/7L/kf/V/7H/MwDJ/4X/oQBWABAAEwBCABEAHADR/5b/q/9B/2j//v9PABgANgAIAB4AAACa/7H/QQD//8D/NQAuALcArQC4AJAAeAAmAPL/f//+/qf/Rv+W/9L/YwC3AOcAygA2AKkAOABEAP3/xv/2/y4AaAD7/6T/+f8PAID/5/8+ACUAQgB2AHAAKQAMAGEA0P9J/6H/Rf+r/x0ABwA0ADUAxwDz/4b/FwCw/6H/3P9mADUA4AA4APz/NgAm/0b/Ef/P/3//5v89ACAA8wCwAGUA9P/E/4n/sP+6/+3/2//s/w8Afv+f/xgAHgBYAOIAmwBHAML/jf8D/+7+3//B/4wANAG0ACYBXACO/93/b/8W/5X/v/9o/xYAjf9J/1n/mf9RAJ0ATAFcATkBRQCW/27/X/8Q/9z/IQDj/3IAJAD9/6D/MwAfAIr/4v97AKkA+/8RANb/QP/y/7n/Gf+V/zMACwD2//b/av9OAEgA3v/t/2UArAAkAN7/u/8cANb/9v/Y/9D/WAAIAEf/NP/1/zMA+P9yAM8A3QBmAKz/xv9x/8b/y/+4/4QAPwCiAAUB2f+1/+T/2//Q/+//yv/b/6gADACEAGoAMACoAC8ANwA5//v+ov65/ef/pwKUAaP/fAGDApz/n/22/pT/UACxAQMBjP93/z8Akf5J/Ov88/8ZAQAACwEXAfb/rf6A/iL/Zf96AOIBEwI9AYoAcP6O/Xj+Lv/w/3gBMQP4A+4C1P+j/vz+OP52/sP/cwF9A2kDsgEgACb9GPyq/cP8rv0PAkkEGQP4AboALf/A/Xj8tP1N/+8AAQNnAyIBYAB5AX7/Kv0F//sA5ABTAKr/QwDr/8L/MgDs/+b+5v8cAWb/QP9oAEsAa/+x/9r+Y/63/gL+nf6T//3/pQAkAqUBrv9p/+D+Xf5+/kD/xwCxAVkCUgEFABj/xP5r/+r+BgCjAtoCagJiAfX/o/4V/Zr9Qf5XAPcBEQODAtYARwBu/r79d/0E/9IAAgJOAowBFQDQ/o/+Lf1m/d/+rgAeAhMCoQH2ADT/Hv10/ab+d/+RATsCOgKCAicAV/65/f39cQDaAcUBqQJhA00BNf7g/Dr8Kf7u/xgAMgEUA9YCQf+6/kz+ff5y/9z/7QAZAU4Bw/+0/ZX8gf0K/mn+CwLfBF8EAgMxAn0BUf+7/QH99P2gALIBlgG4AL//+P47/j/9yf2n/9YB0gLdAkgCTAD5/uT9c/0l/a/9Xf9IAX8CCQLVABkAdf/x/WX+ev8zAFoCdgNvAjQBFwBV/lf9p/2C/av+0ADCAq0DlgKyAJb+1/0w/Z793v6YAD8CuwFAAZ0A2P3l/FX9Dv1//9ABQgKFAiYCnQBK/w39Ufzf/Wv/8wE7A5MDvAOYAkYAPP6e/ZX97v1q/8sAgwKnA5YC+wDl/w3/Dv7A/nj/lADFAXsAr//Q/6L+C/3t/Bv+af9HAacBjgDaAOv/4v9i/1z+kP/d/4//l//5//L/Cf/e/r//agCGAM//dwDGAB0A/P/N/x0AoQEPA8YBWgAUAHH/5f4u/lr/fQA3AGIBVAHxAHUA9v8c/9X+Yf+s/mr/8P8XAEgAIAC6//r/rgAy//L+Wf+Q/sH/GwDN/6gAhADs//L/swBNAfYB5QHDAYICowHQ/6L/LP/5/kn/zv4B/zoAnADC/6IADwH+AKIASgBpAJcAMwDJ//T+tv1B/63/Ff/z/t7+N/8uAA4BgwA3AD8BMgAN/xcAWf8B/0P/HP+d/zEAnf8Z/6cAWQGEAIIAHgEqAIQA0gCD/+gAbQDP/k//kv8N/4X/c/80/6v/Y/8ZAGsAm//H/w0AXP8QADsAVwDt/00A+gBzAOAAOQC2/5L/k//8/30APwA9AC8BBQHK/5v/L/89/3cAjABDAeAC7QEcAZ8ATf6i/bj9Zf01/rD/VgDlAJABSwE7AD8A8/+B/17/Xf8vABsB5QB+/xj/0v7i/i7/l/9m/2MAXAHkAFUBiAGIAcMAyP9o/zH/Xv+E/4T/Wf+S/78A2P9s/xkAmf+4//H/xwA0AP7/KABT/8H/ov9v/43/Wf+T/yIA8//j/1cAzADqAC4Avv/Z//f/z/9w//r/aQCX/zT/zf+ZABwAvwD+AEUAIwCN/1T/Qv8s/0L/If9c//kAKgHNAAcBfwH1AHQAKwBo/3f/b/9b/1MAsADAAJIC/gAgAHoBJABL/3T/lP+i/zgAtQDo/8r/LwCs/5T+nv7o/un+vv+a/47/ggBs/5/+qP6x/ef+Lv+f/+gADAGXAIYApwCK/4T/sv8TAH4AAQHoAI0BwwD0/3sAUv+6//P/XAB8AK0AFgEdAOL/s/9J/wgA8P9m/33/Zf/K/wMAwP+Y/1MASQCKAHEAUgBzAPf/4gC5/xz/dP/v/kr/Bf/y/o3/JADZADoBuQEnAnoBkwCbALYAzv9H/x3/Wf/c/qL/3f+N/+IApQC4AEABjAF/ALr/YP9j/8H+3/3E/uD9zP5ZAK//awAnAZEAof8R/0r/ff/s/2AA2QDCAWAB+gBiAFT/Of8P/4v/VP+h/9IB4gGZAMkANgHZABoADQDkABcA3ABNAPH+kAA4AIr/7/6T/sT+X/9q/9X//ADhADwAYwDp/wD/z/7i/gD/kP65/1MAHgHsAEYAPACi/r3+FwD6/67/NwGCATABcgHfAIYA6P9t///+Ov8OAKz/Of9Y/4n/Df/k/xkAjACJAsMB5QCBAOj/EP/m/Rv+hf4v/28AnwArAQoB/P9j/0X+hf4o/xIA9gBNAbcBVQHfALv/zf4t/uD+nP9eAG4BiAGxAdIAVgA1/1//2/+X/yoAogCCAdYAr/9k/6T+L/7E/iD/QwBBAU4BFgF3AAMA4P5//i//fv9YAFgBXAESARgB+/9e/kn+fP7X/j//4P8XAQ4BBwHz/9T+4/56/oL/PgB5ADsBNwGqANcACQBF/03/zf7R/9EAdAF/AkQBy/+d/2f+Fv+U/4//RwEMAcIAZgH0/9b+DP+1/m//DP/v/kwAKwCD/zD/IQA4AMQAhwEkAIwAZgCN/woAj/+l/3QA2QAtAAgAigC5/yT/+/+cAPUA8AFgAU0BQwEwAOP/Ov8P/uv91v4U/3D/UgB8ALH/bv/l/pP+Fv/M/4oAawBmAF0A2f9aAML/Y/40/9n/kwAWAXkALgC//+v+nP5V//T/0gALAtwBMgLgAWoB3wAs/4T+dP3I/W3/jv9IAEoBUgEAAYAA+QAWANT/hP8Y//L/EwDe/33//v7k/R/+r/4t/6v/KQGmAfoAggFdAEH/If/o/t7/OADnAJEBOAFbAZYA1P9o/7/+nv5o/40AxgFUApICpgH4AKcAR/8d/u/+r/9y/8UAxQCqAGsAff8f/07+Zf64//7/pACdAXoAVv94/yT/Yf7C/oX/9f+pAPcAIwA+AAsAHf8p/yH/QP9C/5r/nACxAO4AcgFIAfYADQG9ADUAR//E/vn+PP6+/sf/xQBwAWMBBwEmAekA2f8AAL3/Kv/N/kL/Dv+b/ov/V//+/8QAgQAmAUYBtwBdAM3/+/9c/6z+n/+3/8T/AABfAFkAcgBvAEoAeQBXALgAagCz/0j/h/9DADEApv+R/+X/0f+h/1cAbwA/AFYAHwBy/03/xP+l/2z/mf+HAKgAmgAZAHL/nv8j/7j/LAAIAMIA0QBnABcAogDs/0f/AgDT/+v/DgCpAPsAHQHUASABaQDO/6f+Zv6Z/o7/0v/l/0QAYgB/AM3/Rv83/+L/aABUABsAfwCVADv/qP40/7r/1//+/1UAIwDC/57/tv+n/zAA1QCRAE4AHQARANT/I/8u/6P/QQBjAB0AJAD2/w4AGABDAPz/9/5y/7AARACWANcAkgBHAMT/r/85/3j/M/9x/7cABQHQAMMAyf9q/2n/F/+F/+f/SgA7AZwBtgCQAHwAJwDx/47/fP/t/jb/5P/P/3IAeAAFAbMB7ACCAHkA6v+0/6z/bf/Q/lf/NwCm/0AAIQDQ/yYADQBcALgA6gCfAOj/AwCF/4v+qv46/xf/Vv97AJ8AowDk/1AASABL/+P//f/i/zUA//86AKj/p/4Z/9z+p/8bAHIA3QA9AGUAyP8p/5D/fP8SAAYB+wAdAZoAIwDp/+L+2/4j/+H+tP9oAKYAXgEQAT0AQAAiAM3/HP9B/xMAOgCiAM8AcgDA/2H/4f/C/37/gwDTAE0BSAG9AL8AW/+J/r7+sP5c/zQAjgGdApQB+QB9ANX/o/4F/jX+NP5H/4kAigGJARcBtgDZ///+Kv9c/87/yv+g/3MAyAAyABz/IP9p/77/WgDMAOkAXwA4AHgAp//S/iL/Of9d/+D/swDNALAAewCa/1P/gv/9/9T/3v9GAAcAlgAaAXAA1f8x/xL/Pf8v/83/TAC0AJIAfwApABQAVQBH/x//ff8aALQAsADOAPj/Zv8iAO7/ov8+AOsAIQHdAPQAMAA6/8b+Mf4m/un+4f8jAfQB+gHwAeoAUAAx/w/+hv6Y/k7/EABUAJQATwAAANf/cv9c/zwA/gALASMBzQBlAMH/BP/9/mn+NP8KAF0AvQChAAIBZwAoAK3/D/+g/3z/pv+eAPsAgQBb/zf/uf/C/93/5v84AJgAmAD9/8z/oP9W/77/1v/A/yMAqgBXAE4AJAB3/yD/Kv8LAC4AMACdAJEACQGMAIf/bv89/0P/Jf+T/3UA1QAqAe4ApABIAJ//Fv/L/g3/vP84APD/cgC1AJAAygDu/8f/HAASAEQA3//2/6b/Bf8sAMj/f/9NAFoA9QDrAJ8AJQBY/1z/AP+G/1oAtP85AKsA0gD6AKYAHAD//h7/eP9M/+7/kwDQAH8ALgCz/xr/bf9o/03/mP9lAPsAtQCsAAUAH/8T/0n/O/9d/z0ApwCxAL8ANwC8/0L/RP87/1r/IQBMAA0BQAFjAAoAcf95/4T/MP/d/0IADwFfAXcAQQDv/yYAogAeAEcAnABKAE8AtP8Q/4/+O/4C/5//dACIAS4BKgE7AXMA+v9D/0v/h/9j/4X/jf/J/+P/x/8AAPP/XAC0AJoAZQAUAPb/wP/t//P/NQBTADQAqgBoANL/dv9D/xkApQDWAIEAFAA8ANb/sv+y/3L/sv8gADgAgAB4AA4A3f9O/6H+4/6l/zkAlAAFAQ0BegA1AMH/Gv89/23/MP9Z/5z/2f/6/+T/pf95/wEACwCx/0YATgCS/0b/Af/w/lX/EgCgANIA5wCaADEAzv9b/+3+Fv9W/9//AgFOAbQBvgGeAGAAtP8L/4f/wv/j/xoAhgCkAJ8AXADD/2D/k//d//j/jgD7AEgBWQE0AFH/Ff9n/6j/ff/j/+n/iwAFAZIAbwDm/6n/jf8s/3b/gP8xAIIA7P8GAMD/pP/I/8n/+f9IAH4AcgCCAIsAdAAnAMX/EwDt/+n/wf8z/1//Vf9w/+3/MAA/AGsAOQApADYA0/+v/67/Wv94/7P/5f8IAGMAbQBYALoAYwDu/+X/5f/X/wAAx//1/1UATgB8AIIAfQB+AAQAJACCAG0AfwBaAPn/Y/8W///+if/4/7j/z/8yAIkAsgCjAFcAv/+s/37/A/9X/4r/pf/X/0YAbACAAHsAm/9f/2z/Lv9E/67/QQAkAF4AlgDv/6D/av98/4n/p/8IACgAlwDVAJwAagATAJ3/d/+z/8j/2f82AIMAcwByAGQAKAARAAgA9/96/03/ff9v/63/5P/y/xwAAAA9ACwAEgAlAIr/yf9RACsAIwAyADAASgAzAPD/4f86AGYAugC8ALcA+QDcAKEA6v9+/z7/D/9u/6P/5/+KAIQAzAA1AcIAWQArAKT/Qf8//3D/1f/3/3QAnwApAPD/sP8Z/7z+9P5D/1X/KADYAJIAygCbAOH/jP9P/1D/d/92/8n/EQAtAGoAVQAcAFwAhgB4AKcARQAUAFkADwD7/wgAIQBVAAUA6f/e/6X/qf+5/9v/CABtAOEAewDZ/37/K//J/pf+xf55/y0AdACjAJEAZwDI/0D/+f6p/t7+iv8QAMAAZwHeAZQB0wCIABYAtf/I/+7/0/8QAFcAQwAvAH0ATgD0/wcAFgArADYAQQDj/6//wf98/0//QP8k/1//Xv9u/+n/QAB3AI8AVQAzABoAoP9j//3+tv71/p3/BwBjAKMATABiAD8A1P/1/wEABgChAJIAhQCfAEwAIwCr/7b/7v/m/ykARwBnAHUAfQBeAAQAIgD8/7n//f/6/7T/sf9f/xH/gv+0/wUAUQCJAIYAEwDb/6r/jf+n/ykACwDz/2QAVAAtADcABABkAMUA7QAYAekAzABBAML/aP8H/9H+g/8uAIQA4wD8ALcAcADm/x3/af/I/7T/8v+eAIwAewBCAJ7/Wf8+/xr/Ov+q/xUAjABxAGYA6v+M/8X/lv91/+T/IgDv/0IAUQDX/8b/JQBkAJIAwACXAG0ANQAZAPH/yf9PAHwAVQB7AEUAyv92/z3/3f7P/l7/0f8UAHYAUwC2/3//bv8s/1v/AgBhAIsAiwCOACkAdv/4/nv+mv4B/1r/KwCuABoBmAFBAQMBAQGwAA4Ayf+1/2z/U/+V/9L/+P9qAJcAwADdALYADACw/4z/H/94/9T/+v8uAP//g/8+/1r/XP9Q/+b/FwBJAM0AVgDn/5v/ef9j/zH/vf9pAHwAZwAeAAAAJQD8/77/0f9nAMgA4gDNAIYAjgCDAEUAegB/AHwAiADL/zf/d//H/6v/sf8iAH0AgQCIAEIAgf/+/tv+of7b/ov/CAAhAC4AWgAQAP//xP9A/yP/af/b/00A2ADcAMgAFwH+AIMARQD0/5D/gv+O/8X/IwCTAJ8AVgBaAEQANwA5AP3/1P/O/wIA6f/E/yEA+v/V//T/w////0YAGQD1/x0AMgD9//j/9v/l/0YAOgDL/+n/tP+p/53/r/8GAO//UwBpADMATwAPAKj/oP/i/xAAKACMAE8A7P/u/4r/Uf9f/4r/4v8rAHkAiACPAGQAe/8u/zj/Gv9I/6z/CQAYABQARABGAGgAdwAbACwAGAC3/2r/Z/9X/y7/cv/I/wQAhgD1AMIApgDHAJoAUwBAAOH/uv+8/0v/EP9U/8//5/8kAKUAEAEnAfgAcADY/7v/O//N/kL/vv///yMAKAAQABIANgAJANn/+f88ACEAJwAtAAsA5f/J//D/KQBjAGgAJQD7/87/gv+g/8//DQBPAIEApQC7AJMAQAAbAO3/xP/Q//v/+f8gAP7/1v/1//r/7f/L/+D/4P+b/+D/BgDG/6P/hf+7/6L/AABQAEUA0wDrAHgAPQDt/5f/H/8U/47/qv9RAOsA+QDUAMIAVQCO/3H/Xf8u/4//tP9f/6r/0/+9/9L/KACuANkACAHhAHMALgCn/1D/g/+4/xUAdwDQAMcAMAD1/5//Qf9F/5//JwCUANMAjgDy/1H//P6C/sb+dv8NAM8A1wD3AIIA7P+l/0//a//A/4IA7QATARsBpgA/AM//Vv80/0X/rf8oACcAZQBnABAA4f9h/1X/kP+h/7b/w/8KAP//+f8wACgARgBRAE4AUQD9/7z/lv9w/2//i/8PAGQA3QAOAcQAzAA/AH7/Mv/o/tf+V//q/20AmQDVAKQAPADt/1L/if/H//j/YgCZAKkAagD5/3f/GP8q/1X/t/9XALsA6QCwADYAuv8w/xL/CP8j/6f/z/9HAGkANgBMAP7/vv/C/+n/FQA4AIgAogBiAEYAVQAbAOX/CADk//D/IAAvAPX/BAD7/+D/DgANACkA/f/k/63/fv9x/8H/lf+l/zsAbwCZAJIAnQAvAPv/+v+9/7r//f8pAFQASQBlAIwAdACqAJMAiQC7AJEAIwDn/8//gP8w/0X/av/G//P/3/8eAFYAcQBSAC8AOQDg/6r/tP9K/0//d/+M/8n/BABXAD0AEwD6/3r/E/8+/27/ov8qAGsAXgBpADkAnP+a/5z/fv/t////KwBXAHwAZQAUAAQAHABFAG0AaQBuAH8AMAAbAOH/1v/a/+j/DQAAABQAMwDo/7n/2//L/83/1P84AB0AJwALAOD/2P+T/6f/l//I/+v/HwAsACMA9v+6/2T/W//R/yIAmgC2ANcA2gBmAK//Jv/n/s3+Rv+0/x8A1QDtAOwA0QBqACsAyv/C/+L/+v8VAPz/yP+X/4z/Uf81/5H/7P9ZAOAAHwEKAdMAgQAqAJX/WP9Y/0D/nf/E/xMANgBLAF0AFQAwAC0AUwCGAH8ANQAzADwA4v/K/53/qf/F//j/5P/7/18AHwA1AEgAPAAuAGUAVwDo/+T/r/+O/2H/RP9T/7f/AQBVAKQAogCfAEwAFQC1/1v/a/+R/7j/FQBsAI4AkwA8ANv/AQDm/5v/v//B//T/EQA8AC0A7/8BAO//6//u//z/KgAkAAkACgDw/+L/0v+l/5f/pv/F/+z/HQBSAFgAewAhAAAAFQDc/9z/mv+4/8L/9//8/+n/9//2/zYAMwAkAAUAKAAbACwA9//E/9j/0f/K/8D/+v8OAEEAGwARADsAFAAjAB8A1P/P/7j/l/+T/3X/ev+M/8D/+/9AAFcAQwBVAFgAHQDp/8b//v8DAND/2P+9/5H/aP99/8f/OwCIAMMABgESAZcANwDS/z//PP8z/1j/l/8PAJoAoACsAN0AsAB7ADcA3f/N/7P/zf/e/+3/4f/0/0kAPQA5AC8AFgAqABIAJABRAFAAegA1ANT/uf98/3P/a/9m/5f/FgBmACMARgBfACEA+v+n/6r/6//z/9H/m/+j/6L/sv/A/5v//P8qAEwARgD5/0kAOgAlABoA2f8VAAwAzP/H/67/t//K/+P/GAAPAHAAkABYAE4Av/+y/37/PP+G/8j/UgCIALMAvgBvAF0AEgCm/3f/gP+2/8r/xP8XAGwAegCXAJ8AqQDGAMQAdgAWAOz/uP+L/3//aP+p/xUAMgA4ACUALAAAANX/4v/g//L/8/8ZAOT/uP+e/yf/N/9Z/3n/1P8hAHgAjQBtABUA0v/X/83/uP/R//7/EwAGALn/rv94/2b/iv+1/yUARgBrAH0AZAA2APz/tv+C/5b/6v8SAPD/NQBzAFwAMwAcADIAKwA+ADUA9P/u/+f/3v/I/5n/t/8KAHsAmwBkAH0AkQBtAEkA7v/7/woA+f/g/97/OABNAIYAcQA7AH0AhwBZACgA+f8AAO3/AAAKAPr/IgDx/+T/2//L/7//1P8MAP7/IwBZACYA0P++/4r/dv9//57/4P/+/zkANQD9/+//yv+Z/2n/Vf+v/+//NQAdACMAXAD8//j/tf+5/wAAHAAvAN7/5f/5//H/7v+7/7X/AgAxAGQAPwBlAHIADQAzAN//4v8nAA8ADgDm/xgA7/+Z/4r/Uf+M//z/SwCpAJgAggA7ANv/qf8t/0//iP+t/8z///9gADkASgBFAPz/+P8zAGMAOwBEAEgA3f+w/53/SP+W//r/FgBdAJsAmAAuAP3/0/+S/4H/kv+m/+n/NQBcAGUAPQA4APz/8/8jAB0AbwCcAHUAZABHACwAEgAAAO//+f8fAB0AHwAwACAA/P/I/63/qv+7/wEAAwAGABwANgAwAP////+y/9P/IgAkAGcAogCsAI8ARADF/3H/Sf9K/1T/uv8tAFcAugDLAJYAbwBdAAYAu/+g/37/mP/U/+P/rP+1/+L/0/8IADUAVQCCAG4AXADl/73/wP+m/6v/mv/H//r/TQAfAAsARwAUACoAFwAxAEQAJgAhALn/0P/E/5P/tv+d/9b/5f8RADwA9P8cABwA2v/L//L/EwAFACIAEAAHAEQA6//G/9n/sP/P//H/MwAkADUAKQC//6v/MP/+/jX/VP+u/xgAfwCbAIkAaQAlAOj/zP/k/97/3f/d/8r/v/+1/+D//v9SAHsAiQANAQIBpQBGAML/WP8c/yn/Ef9n/wYAQABeAIEAcwBnAGoAQAARAP3/9f+2/43/jv+x/7b/w/8YAP7/UQCRADAAKwAtAD8AYQBaAC4AGAA2AP//5f8AAML/8f8QABMANwAwAGoAdQBWAC4AaACWAFMAUwAmABwAGwDE/3j/Of9K/5f/tv8UACYALgB6AEEAGgDx/wEA8v+q/7r/zP/n/woAFAD5//D/1f+8/73/vv+F/6f/zf+Y/9v/3//i/yQAKQA6AFUAUwBdADgAFwDg/6r/v/+7/+z/CQA6AF0AegC3AHsAVgAsAAsA+//q/wgA0f/+/y0Aw//f//b/u/8OAAkA3/8dAEsAWgAvACUACgC9/7v/2f+7/+r//v/S//L/+P/3/xEADwDl//3/HQAwAPr/9f/6/6H/xP+0/2b/c/+//9T//v80ABcAIABIABkAxf/A/7r/jv+y/8n/rf/g/+P/1v/t//P/FQBUAHoAagBGACYAyv97/5D/s//4/zEAewC+AKEApgBdAN3/xf+C/2n/sv/i/+v/KQA9ACMASQAvAEkAMwALABoALABTAFgAdQA+APH/3P+u/6f/o/+T/7r/BAA6AE4AfwA4APD/0f+p/97/+f8cAFwAdQBLABgA9//P/6r/s//K/+3/PwB8AIEAVQA+ADAAAwDS/8D/ov+x//H/BAALABcA6P/c/8D/g/+f/6L/wf/E//z/DAAAAEAAJAAlADcAKQAqAEUAOQD5/+3/yf9u/4r/tP/U/zcAcwCmAMsArQCnAGwADADf/7n/sP+H/4L/sf/c//j/EABIAG0AcwCGAHcAVAAkAOL/tf+G/4L/Zf96/5f/jP/3/zoAPQBOABkAJwAjAOL/AQDv/73/vf+o/2j/Vv95/43/tf/k//z/NAB5AHgAcgBjADIAHgAAAO3/9/8QAAQA2f/d/7z/ov+f/6r/1P8BAEsAXgBrAFUAPAAAAK3/kP9T/2T/rf/t/yIAcQB8AIIAcgBPADsACwACAPT/BwAnAFgASABKAFEAUABZAEAAPAA+ADUAAwD3/+3/4f/i/9z/x/+u/9T/FwARABEAGADu/xcAMgAGABIAAwAUACEAQgBCABcAOQAxACsAGgAvAB8ABgAMANv/wf+5/4r/m//p/xIAPQBZADcAEgD+/+b/pv+d/87/xv/v/zIAKwALAPf/xP+v/8f/7P8OAFMAZQANABAA8/+5/7L/rP/p//L/JwBBAB0AMgAGAOz/IgAcABMAXABfAEgAOwAlAN3/r/+g/6b/tf/T/wkAOgB1AHMATgAmAMT/Wf9a/1//lf/P/+D/GQA4AC0AKwAqAAcABgAWACMARQBFACwABADM/7X/m/+c/9P/7/8mAFcAYgB5AFoAPAAyABgA5v+0/6j/p/+4/9P/3v/p//j//v8CAP7/JQAVABUASwAnADEAUAAxAB0A///T/8z/zv/S/9L/3/8bAB4APABtAF8ALgDP/5H/YP9d/3v/kf+w/8r/1f/b/+f/+v/o/+T/7v/c//T/MwAzAGMAaQA5AGMAYABRAEoARwAvADEAPgA5AC8APwAfAMn/vf+0/7r/DAAoADoAbQBxAFoAIADw/8v/if9p/4P/kv/L//j/CgAZAB8AOwApAB0AHgD5/+r/1/+r/6P/xf/f/w0AGgDh/9r/y//j//n/FQBHAE0AVgBHADoASQA0ANL/pf+L/5D/zP/y//7/BwAzAD8AMQA3ACQA4v/Y/+P/sP/C//H/9f8fADYALAApADIAIQAbAF4AcABsAJoAaAA+AAMAlf9p/2H/uf8RAIwA6ADpAOcAxABYABAA9P+k/4f/e/+G/7D/6f/t/9z/+P/j/9X/rv+w/8P/s//N/6z/uv/E//T/OgA7ABoA5f/h/8r/3f/V/9T/3f/Z/8z/y//x/xMAOQAgABkA9v8BABoA7P/0/93/4f/P/6r/3//k/+H/+//4/wUANQAyACgAHwDz/8D/pP+z/7H/wP/h//r/DQAjABEAEAAMAP3/9f/t/wEAEABTAIUAhQB/AEQA7v/X/8z/zP/k//L/LwCIAM0A5QDqANUAkABRABEA6//u/9T/v/+s/57/uP/W//v/AAASADIAQgBKAFEAXgBJADMABQDh/7T/qP+4/7P/x//R/+T/5v8JADgARgByAFUAGgDo/8H/qf+F/53/rv/B/x0ARwA2AD4AAQDE/6b/qv/B/+f/EQAdADkAMwDo/67/b/8v/17/l//u/0cAfwCPAIoASgDN/4D/W/9f/4T/0P8aAGEAlwCQAHMAQgD2/7L/pP+//97/MQBKADkANwD1/93/9P/t//f/9v8IAB4ADAAhAPf/zP/R/7D/vv/m/+f/BwA4AD8AOgBBABQA7v/0/7r/n/+2/63/xf8QABUALABHACwAEwAWACYAFAAVABEABgAFABUADwD8/wQA+/8JAB8ALAAZAP7/+f/o/wEABwAdAD0AWABWADcAEwDW/9D/uv/U/wsAKwBCAFEAYAAoAP//rP9o/3P/Zv+R/8X/5v8DAA0ACgAEAAgACgADABgANQAuAEQAMAALAPH/t/+W/7T/DQBeALwAFAEiAQ8BzwBDAM7/a/8f/zT/af/H/xYAagCkAJgAmABjACIA6/++/6f/pf+5/7v/xP/X//X/AAAPAPD///8rABEAKQAPAAUAHADj/9P/1f+9/6v/g/+N/6r/tP/g/+j/AQBFAEMASQAkAPT/3f+5/8b/w//9/zoAQgBiAEUA+v+3/3P/ZP+F/6X/2/8rAFYAVgBBACgA+//O/63/nv/U/wkAPgByAH8AZQBKAB4A8v/S/67/pP+Z/7z/EgBOAHsAowCeAGEAIgDT/5f/kv+G/63/6/8DACcAMQA1ADkAGgAMAPL/6f/4/wgADQD//wAA6v/E/5T/of/F/wQARgBcAI8AeQBJAA8Az/+1/5T/qv+7/9v/JwBJAEsAMQAAAAMACwDx/wIAAAAOAB8AEwA0AC4ALgAoAPz/+//n/8z/3v/t/yIAQABSAHQAVQBOADcA/P/P/7b/pP+w/8z/yv/5/xoANQBuAGkATAAWAPr/zv+1/8f/wf/z/wAAAAAYAAIA/f8IABcAOABLAGQAWgAeAPz/yf+M/3r/ev+w/wUAVgCWALEAqQBkABQA4v+3/5f/l/+9//D/IwBJAEgAMgAaAPT/u/+J/4b/q//S/+3/AAD1/+f/2f/U/+X/5v/u/+//9/8VAB4AEwAEAPf/9f/4/+r/zf+6/7z/5f/q//H/CAAKACEAMAAoACQAJwAiAB4AGwATAP7/5P/L/9D/0f/R////FgAtAGIAWgA2AA0A7f/0////AgADAP7//P8AAOz/8f/k/9D/3//n//r/EwAlAD8APgARAO//1//E/8T/4v8tAFIAXQBrAEoALQDw/7P/lv+J/6n/2f8IADYAPAAuABMA4//L/7b/x//5/yAAVwBXAEMAMwAAANX/rv+y/9n/BAAuAEYATwA+ABcACwANAPj/8v/z/+//AAADAAEADQDx/9n/6f/o/wAAIgAxAFAAUQArAOj/vf+//8b/2f/Q/8X/zf/D/9///v8LADsAVgBNADcAEwDm/7f/lv+X/9D/IABvAMYA4wDnAM4AYgDw/5D/Ov8P/yf/f//q/0EAdAB4AHUAQQD5/+T/xP+s/8v/2v/m/+3/4v/T/7P/nP+Y/7P/4/8HADYAUABGAEYAKgALAPr/8v/7//v/BgAaAB8AJwAZABIAEwAKABIAFQAaAB0ADQAIABUABQDa/8P/tf+6/83/z//i//z/GgAbABEAGAAHAPr/+//b/8//0P/K/+H/4f/x/xkAKAAtAEQASgA3ADEAGwAFAO//xP/F/8f/3f8MACYARgBIAEsARAArAC8ADwABANz/tf+//6b/yv/j/wAAMgA9AFwAUABBADIA/v/j/6j/kf+m/6r/5/8XADsATgA3AB8A+P/t/+T/3f/x/wIAEwATACsAQAAuACEAHAD7//r/9//f/97/vv+r/6z/qv/G//P/FAAoADEAMgAdAP3/z/+n/6T/uv/j/wgANQBGAEUAOgAKAOn/0f/T/8T/wP/c//z/KgA8AFoAaABUADIA/f/L/8D/o/+I/6f/zf/3/zAAaQCHAIsAbwBVACsA7//R/6j/of+4/7H/z//n/+//GwAyAFsAegByAHEAVQBDABQA9v/x/+f/7f/o/+r/5f/o/9L/0//n//T/CgAGAA8AIQAbAAkA5v/R/63/if+r/9L/+f8mAC8AOAARAOT/4f/D/7//2v/i//f/DAATACQAIQAtADMAHgALAAEA7//c/9r/0//V/+j/+v/v//v/AAAVADoANwA0AB4AGQAEAOX/3//N/7r/mf+g/7//2v8AACEATQBkAF8AWwBTAEUAJgAEAOr/2//O/7v/yf/Q/+f/CAAdAD4ASABCAEAANAAIAOj/z/+t/5L/h/+v/8r/9/8bAEYAegBgAEwAKAAHAOn/1f/v/+3/AQAbAB8APQAoAAAA7v/g/8v/xP/j//X/IQA0ACgAMQAuAB0AEgAHAPn//v/s/+X/6P/i/+3/9v/9//r/+f/9//L/7v/s/+3/8v/+//H/+P8NAB4APABKAFMAQwAiAAUA2/+3/6r/k/+S/63/1/8CAEUAhACwAMAAnwBxABkA6v+3/4f/kf+W/6z/sP++/+P/AQAcAB8ANAA/ACsAGAAVAPz/4f/f/8r/wP+7/8X/yf/e//f/8//7//r/CAACAPj/DQARABcAIgATABUACwAQABQA/v/9//3/9P/c/+j/AQAOACMAKwA1AD0AKwAuACMA///w/97/z//I/7//yv+0/77/2//j/w4AFAAoADEAJAAqAB4AEgATABcAFwAdABUA/f/b/7//sP+j/6z/zv8DAEUAeACiAKsAjgBtAEAACgDK/6r/mv+Q/53/m//F/+z/9f8XADQAUABMAFIARQAkABwA8P/b/73/mf+e/63/wf/1/woADwArADkAQgAyADkAIwAAAPj/0v/E/73/sf+6/9L/4P/3/wkABQAwADUAHQAaACgACwD3/w8A8/8AAAoA+f/7/wYADwARACYALAAcAAoA8//V/8D/qP+n/6b/s//O/+P/HgAyAFkAXQA3ADIAAgDb/8X/t/+5/8j/6f8gADoATAB1AHEAbQBZAEYAGgD7/wQA5v/p//X//f8OAB8AJQAnACoAKAAZAAAA4v/M/93/zP/i//X/5f8AAPb/CAANAAMA/v/g/+b/0//j/+f/1v/9//v/BAAPAPv/9v/f/9T/y//S/+3/+P8QACEAJQAsACMAGwAaAAAA9f/u/9z/5//Z/9n/7P/s//n/BgAWABMAEwD8/93/2f/E/8b/0//x/xIAHAAyAEAALgAkAAwA9P/0/+D/4//m/97/8f8AABwASABYAGYAegB2AGkARgAuAAUA4P/a/8f/xv/h/+7/+P8SABUAGAA7ACsAFwAwABgAEwATAPj/5P/X/9r/0//a/9P/2f/t/+7/9P8AAAEA+v/3/+r/6//m//P/AwAAABcADwAJAA8ABAAEAP7/BAALAA8AFQAaABAABQD5/9v/3f+3/7f/zP/J/+n/AQAaACMARAA+ACcAHAD1/9H/w/+//7X/xP/h//P/AgAjACwAMgA7ACMADgDq/77/tv+0/7n/y//4/xkATwCTAH4AfABbAA8A6P+1/4T/gP+d/7H/8v82AFIAdAB+AGMATwAsAAwA8//a/9f/xP/K/9n/2f/l/wMADwAmAEIANAAtABsA6P/C/5D/Zf+C/5v/uv/+/y0AOgBLAEoAJQASAAUA9v/v//r/AAAAABgAHgD///3/+P/u//T/7v/3/wMADQARABAAGwAcAAgABQDw/93/2f/T/9v/2f/2/wAADwAqADYANQBAAEcAGwAPAPb/3//c/8r/yf/o/wgAOABwAHMAcAB3AE8ALAD9/9D/r/+l/7j/vf/e//r/DgATADAAOAArADMAGwAUAAMA4//K/8X/zf/h//f/AwAcACYALAAkABsAFwAAAAUA/f/7////+f/3/9//1P/S/9v/0f/f/wQA+//1/wQAAQD3//T/9//8/xYAIAAdABAA+f/k/9X/u/+s/7X/uv/I/93/9v/3/wIA+v/k/+z/6v/r/wYAJABCAE8APAApAAYAzf+h/57/mP+e/8T/6/8IADAATgBMAEsARwA3AD4AMwAkACYAAADw/+H/wf+4/8H/vv/e/wsAJgBVAFYAQwBCABoA8P/g/8f/tv+//9v/+v8UADAANAAbAB0A+v/3/wwA9P/3/wAA9P/W/+D/xv+5/9v/3/8GADEATwBqAG4AZABBADcAJgALAPz/7P/Y/9r/8P/c/+b/8v8JABsAKAAtADAASwAvACUA/v/f/+f/6f8FAAYAGwAQAAcAFwAJAAYA9/8EAP//FwASAO7//f/9//X/BAAeABMAPwA/ACoAGQDg/73/eP9k/2D/cv+6/+H/LgBpAIcAdABGABMAy/+n/3j/e/+L/7T/4//2/wUA/P/z/93/8P/6/xAAIQAmAEgANgA3ABMA7//d/8T/xv/Q/wEAFAA3AC0AEwASAPH/7v/a/9X/7////w0AIQAVABUADADk/97/3v/n/+7/8/8LAD8ATAA8AEcAKQAGAAAA0P/B/8r/wv/Q/9//7f8PADQAQQBIAEMASwApABAABQDN/6P/kv+i/8D/9f8vAGMAlQCZAHoAMwD1/7D/g/+J/5L/yf/9/yEAPABDADAAJwAkACoANwA1ACoAIQAIAOP/z/+m/6D/tf/b/yEASgBxAHkASwA4AA8A5f/W/7//yf/r/wIA/v8AAOf/0//f/8z/5f8DACIAUwBfAEwAKgAWAOj/5//j/+z/BAAAABQAAQDd/8r/rf+f/7n/v//b/w8AJAA2AD8ALQAkABwALAAvADcASQApAAsA6//J/6X/i/+Q/8D/AwA3AGcAjwCTAH0ATAAVAOH/t/+n/5X/jf+e/6v/yP/w/xoAOABHAEoANAA5ACEAEQD0/8n/ov+D/5D/mP/D//z/GwBKAFwAOgAxABwA+v/n//D/8//y/x8ALAAlACYAAQDr/+j/2v/O/+T/5v/c//T/9P8UABQAAwAZAAkA+f/0//b/7f/o/+7/9P8IABwAOQA0AC8AKAAMAAwA+v/v/+3/5P/a/9j///8zAD0ALgAwAAkAAAD5/77/v/+u/6f/1v8GADIAVQB8AIoAhQB+AGMASwAmAPj/3v+7/6D/lP+p/8b/4/8PACgAOQBfAFwAQgAsAP7/zv/R/8j/vf/f/+f/9P/4/wAA3P+w/7v/tv/N/+z/AgAtACkAHgAHANT/u/+y/7//3f/p//n/HAAkADMAIgAUAAwACAAiAC0AQwA8AAwA///4/+T/9//1//j/IQAqACYAHgANAP3/4f/o/93/5v///xcARABGAFEARQA/ADgADQAAAOb/y//f/8//xP/T/9b/7v8QAFYAjgCfAKkAgABGAAkAt/+D/3r/cP+I/8r/7f8UACcAGgAPAAsABgD1//3/7//9//n/0v/Z/8H/0f/I/6H/vP/H/+7/FAAHAAcAAQD9/wEA7P/X/8P/sP+y/7T/zP/X/9T/0f/C/9P/0//k//7/DAA4AFQAbwBxAEcAHgD9//L/5f/Z//n/DAAUABsAHQAbAB0ALAAiAC0AKgAbADcAHQAEAPj/7v8BAB0AQgA7ADEAEwD+//3/6P/p/+X/+/8YADEAVgBlAFEAQwAzAAQA+//j/8H/xP+y/7b/zf/d//D/CAAOAA0AGQAaABgACAACAPP/0P/C/7n/yf/n//L/EAAuADMAPwAzAB0A///f/9D/uf+v/7X/2//1/wAADgD8/wkADgD//w4A//8IACQAFwAdABUADAAdAP//+P/y/+j//P/0/wwACwARABsACAAjAA0AEAATAO3/4v/T/+f/4//c/9z/5/8ZADIATgBaAE0ANQAIANr/rf+Y/57/qP+5/9r/DAA6AFgAZABQAD0AEwDz/+n/yP+8/6//qP+4/9L/7P/t//H/+/8SACIAIwARAAAA9v/o//P/5v/r//3/AQAPAAIA/f/7/+n/3v/t/wAACwAoAEAAUQBXAEAAGQADAAQACAAWABIACwAKAA0ADQD0/+n/4P/z/w4AFAApADUAOAAuAB0A+//Z/8f/vv/T/+7/FgAuAC0AJAALAPL/1//H/8z/0f/o/xkAJQArADEAIQAAAMz/nf+N/6v/y//t/ycAZQCNAJ4ArgChAJEAWwAMAN3/t/+m/6r/pv+r/8T/2P8AADAAaACLAIIAYQA+ABkA9//I/6r/s/+l/8P/5//l/+j/5P/5//r/DQAqACcALgAjAAMA5v/i/8b/uP+z/5v/p//B/9f/8f8BAAUAGAAOABYALwAsAEoAOgAnACcACwD4/8j/pv+z/7r/4P8XADoAYwBkAFUAIwDi/7T/nf+L/4z/r//K//n/DwATAB0ABwDu//L/8v/x//j/+//w/97/3v/t//T/AAAOACEAOQBCAEMAIADt/9T/x//G/9r//v8pAFAAZwBeAE4AHADy/9b/p/+z/9f/9v8vAEMARABLAEQAQQArAC4ACgDr/9//xv/K/8L/wP++/9X/4P/7/xUAIwAuAB4AHgAHAPr/7f/Z/8j/sf+x/73/y//h/+7/9f8FAAkABAAEAAQABgD5//L/9//v//D/7P/j/9f/2P/g/9f/7P8KABYAIwArAC0AMgAnADUARAA/ACAA+f/a/8v/3v/m/w8APABtAJoAswCaAHAARQADAOP/tP+j/7v/z//q//H/AAANADIAUAAyADUARwBDAEwAQQAZAPT/0P/I/77/y//b//T/CgAZADMAOQBLADQACQDX/7z/vv/D/9H/2P/c/9L/1v/f/9j/5P/k//f/GwAeAFUAYABPAD8ADwD6/9j/xf+u/6r/q/+0/77/yv/f/9z/8P/d/9n/9f/z//v/9P/P/8P/y//s/xgARABdAGAAWAAqAAwA6f+5/57/l/+v/9L/CQA6AFkAZABKACcA7f/D/5v/k/+e/6z/2//9/xwAKwA4AD4ANAAtABgABAD1/+X/5v/o//L/AgD5//3/FAAZACEAKwAiAB8AMgAsACUAHQAAAOr/2//a/9X/8v8IACoAQAAqADQAHgAaAA4A+P8BAAQAEAApADwAKQAoABMA5//6/wgAAAARAB0ALwBFAEYAOQAwAA8A6v/U/8L/3P/w/wgAIAAzAEsAaQB6AHQAYgAuAAQA3f+r/5//pf+U/6T/vv/g/wAAFQAwADwAUQBXAFMAJgDx/8r/j/93/3b/e/+5//X/FAAyADMADwD8/93/rv+e/6b/v//P/93/1f/f/9X/wf/Y/9H/6v8FAAUAHQAgAAkA+f/i/9j/2//j/wQAGQAuADcAKgAPAP3/9//s//H/BQANABIALQA9AEIAKgAMAAkA9P/0/wcABgAAAPz/CwAQAA4ACQDr/9n/2P/0/xUAPABTAEcAQAA0ACUAIAATAPT/2//V/8z/wf+1/8D/2P/s/x0AQABpAKkAswCYAFwADADW/6f/fP9x/3H/kv/l/zsAeACPAI0AZQA9AAwA1P/T/9D/uf+t/5T/mP+j/7X/xP+4/97/BQArAFwAdwB0AEAA/P+3/5//rP+5/9r/7P8GABsANAAxABwAFAAHAAoAAQAFACMATAA3ACkA9//D/8H/1P/m//r/FwArAE0AWgByAF4AMQD6/9X/2f/6/xoAFAAJAOH/zv/c/+j/+P8QACAAIQAqAC8AKQD8/9D/qf+m/9T/EwBnAJoApgCAAFAAHQDh/63/gv9e/3v/uP8DADwAVwBMADgAMgApABwA/f8AAPr/9P/i/9H/vf+8/6r/sP/M/+v/HwAsADEAJgAQAPH/0P+h/5z/l/+n/7v/x//u//P/5f/J/8D/zf/2/wUAAwAHACIAMwApAB8A/v/j/87/0f/a/wkAOwBUAFUATQBZADwAHgD+/9P/u//B/9H/9v8WAD0ASgBJAFgASwBeAGQAVgAnAAMA5P/I/9H/q/+l/7P/5P8iAEEAYABgAHEAWgAoAAIA3//O/8T/uv+6/9P/+f8UACwATABBADQAGAD8/97/tv+p/5n/rf/C/9L/4P/5/woAFAAiACQAJwAGAAIA/v/r/9v/0//d/9j/6P/e/9b/7P/+/xgAFQD2/wAAFQAoAEIAMAAtACsADQD7/+3/4f/N/7n/nf+Y/63/1v8LAC0AQgA8ACsAIgATAOz/1v+9/8L/3f/r/ycANgA5ACsABwDw/9X/wP+2/7v/zP/1/xUAPwBbAHYAdgCAAIYAegCMAGMANwD3/8n/xP+9/9v///8XADAAYABtAGoAcwBDAPb/xv+o/57/qf+y/73/0P/p/+f/7//p/8//zv/P/+b/AAAHAAAA2/+8/7T/kv+d/6D/j/+m/6n/1v/9/xUAHQAYAB0AKQBKADoAJQAAAPX/5v/G/9D/yP/J/+f/EAAhAE4AcwB+AHsAVgA7ABoAFQAUAAAAEgAKAPr/FAAPADIARwA4AEUAIAAFAPj/6f/L/73/wv+1/9f/DwAxADwAYABSADwAJwAAAOH/tf+p/5n/nP+n/8///P8LADIARgA/ACoAIAD7/+b/4P/G/77/yf/V//T/DAASADYAMgBRAE0AKAA1ACgAIQDx/9//5v/u/wsAJABAAEwASQA9AFQARQAZAPb/z/+8/7//yv+//8v/1f/V/+f/8v/z//7/6f/Y/+L/2v/a/9P/y//H/8X/wP/G/+T////0/+//8v/q/w8ADwASABsAFQAhAAQACgAQABsAKwAhADkAZgCFAJsAigBdAEwAOQAjAPD/wv+o/6b/vf/P/+j/9f/1/wAAJwAyADYALQAIAO//4P/i/7j/o/+k/5j/pf+u/77/7v8VAAAA/P/0/+//AQD0/wAA8P/X/+X/7//r//v/+P/X/+b/9P/4//X/EgAoACcAGwAJABQAIgAwABIA9v/w//r/EQAKABEAIwAgAB8AHQAGAA8AIAD6/+f/1P/k/+P/7v/u////LgAnAE4AOgAsACsA/P/L/7b/sf+5/+T/5//8/zcAWQByAIAAWwA8ABoA5P+z/43/jf+M/9D/+/8iAFEAfQCGAEwATAAjAP//7v/Y/7b/v//R/+X/8/8AACAAFAA0ACUA//8HAAIA8//U/+v/9/8IACIABAAOAA0ACgAZAAAA+f/0/8D/7P/6/+7/CAD9/yAAAwAGABkA7P/n/wUA+f+y/7//BQACAPP/MQASAO7/EQDq/7P/zf/S/5L/mv8LAA8AJQBVAB8AVABrACgACQC9/5X/oP96/4j/p//I/wgAMwBLAG0AagBxAEMABwACAOH/w//L/8H/tv/x/+P/AgAkADUAaAArABsAfgBTABQAigBgAHH/zP+gAJb/Yf/XABsAQ/92APz/+P60/wsAcv+P/7P/1P/+/4P/of8jAFX/uP8GAd/+zP1nAFsA2P0AAKYB9f7k/wcDJgDk/vgCAgJz/o8A9QLE/nL/8AN6/zH9jQLGALL8fwDMAUr9af/kAmT+ev5nA6oAuP2eAtkAxfzdAQMBvvyJAEEBhf6J/4YBZAD+/XUBvwCI/SkBmf9x/tP/J/78/p3/+v5d/5//CQAP/zEBbwHS/PIBjwKa+oz/dgPT+Sn+ogWv/Jz7EgayAmj7aQPABZn7qQBDCBH77/uvBhD+sfobBCD/6frU/+4B6Po1+10EvP1q/SEF4P/q/LMDbAN5/Vj9OQfTACX9awl6/4n9Wwh0A9/8ggA4Bxb/evyrChH9B/mcBwkBqfyh+wMFPf7V+SMJ6/vm+g0IWv+0+2UCJgEj/WT+bQMY/9L5ywJOBPT6DwCCBVT96P20A4gBSPmzAUIF6Pdz/w8GQ/qk/QMGQPs5+F8HWP4m8y4H8f9q9kMFtwAF+JABqQWt+r79Swla+fP9Lw1D95/68w6W/cjyqgyd/2ryjgreAlDygAIICJf3SwCmB2v34PpmDyz9DPSkDqwDhPdtDL8DiPkhBdwGFP7o+ecJ2v0H9zYO7Pg9908MjPpM/YQCN/9Q/GX+LQjz+RL+xwjs/AsAFAUH/kf+8gHg/V798AWT/qr8JQipAKn9rQVqASwAVgTP/+/+fgLfAVr6BvtyBYX5yfkdBlT7+v+E/5T80gDL+isCffxF+2QC4fknAQMBiv3ZAbf6//9J//n8JgGG/sIA1P7SAe/91PjaAZL7sPrTAWr+wQFc+5wAsQO1+BIAg/13/eD/2/50AK8AzgSVAGv9MgMWAqb8JgD0Agf/Sv6gAsb9NwM8A8T5CAVwAhL9QwHRARIBx/9mAl0E6AAHBd0FCP5CBIwEg/xn/ykB2v7dBHEA7wATB2j+JAFGAi4ByP/p/90GTgHVAUAE+fqd+48BovfL/OgFQvpJAhMImvwEAAUE2Prb/YIB0/uM/fwEY/9K/8cCc/8ZAWH+2P4PABT+tfoQByz+Ne/vBcUFJewBAhgHFu2K/0EKY+6i9Q8RuvUP7uQTXgX45fsQ6wso6H4Fkwvd7gz9vRCJ9bb5dhGD/gD02gpnAC/1hAVKBXn58gMtCoz7tALHBcr8p/qWAbkBy/pGA5YHIQMxBWQG/AE1AYoCagK3/ZwArQXw/iYCvg5PBMf3cAO0A+b8VP5v/p/4gwLiBp/6GQIJCoAAcvxXBzMC9fiFAjgEaPoXBUAF2f2aAToHe/0n+s8F2ff5+uH9u/6x/TP+mwPa+7sCjP7S9ZIAIf1q9loDWP0G+yYILv5B9ZoEKQCd8r39XgIy+6b+qQdo+63/nwtB/BL6MAU1/d72egQR/lH6/AOKAcf+Nf/CACn74Pw6/uX7mvurA6wEhf7CBz4AqvzqAT39e/vu/wL/QwGLBZYAJwRqAoQAowEV/zQAZQGCA1MDmgMqBHEBXf54ACT+HP4kBFsBmwI8BiEDZgHgAf3+sP/x/rX+dv+cAHkB1AC0AsgC8gLvAHsABP+5AZX+DfyW/wT+y/60Afj/af4VBsEAf/56BKb9l/wYAYIAYf4GAtcCXf5aAlwE+f2M/pX/T/rK/U0B3vwM/gcGSQI2AC8C3fwB/tf+LvzF+88BYwJlAE0CiAKT/zX99v3b/C/+pQDjAWgC1ASCBHcAIf5w/gj8a/y//r0AjgTpBQAFkwKzAkn+5fuj+6X8wfv//FEAHADhAMz9AwAiALAAAQJrACv/Xv9n/s78av8A/zT9+wBPBRMDfAJTAuwA1P3i/DT96/3WAKYCXAOJAooCMgAn/4b/6/2b/XT/9wB+AGMBWwHe/ef9r/7/+0f/9AGFABQBTAAMAIf+AQDW/6X/bgP0AaIBIAJg/1T+8f3e+9T88v+x/3YAswNdAgkBvAElAc39Mv8QAJb+dAEkAL3+2v+w/9L+xQFm/+b+9wE5ANIAZAA2AB//EAFRAjsBGAEXAML+RfvS+rn6KPrY/hoCkQNSBzUGHgNeAt4Aq/xM/Jr9Xv0rAOoCAgJ9AFYA0//4/pz+KgB3/mcAEwJl/9/9SP97AN7/RP9WAGMDJQEcAfT/o/3P/AP+SP76/gYDxgI9A64ERQNB/9H+nv+m/ir/ZgCd/Wn+qgEa/xn/FwB7AOn/2/8dAOT9rP2H/o/7pP3WAFH/LgOdBYgC8QC6AFz9ePzt+4r7J/2v/9MA3QEbB7kF9AJlA6wB7Pwe+3H7ffqC+9n9av8hAfMEGQa1BD8DaAE0/sL78/rd+j773f5JAzEERQTEA0QCCP9E/b36Yvk8+x3+yQHjA9MFXgW7BGgD3P9//N77mvsr+2z8S/9ZASICLwW9Az8CQgIgAS4AYv+I/ZL9nv5C/34BdwD/ALgBxQGhAI//Ff3N/EEAIP90/8sBKwOHA/wBzwA2AYT/4/5F/jz+Qv8t/zP/dP8/Ad8BmwLxAHQAsABA/qH8Zfyq/G39NAEAA8ADBAWBAysA4PyY+rv4lfkN/Hv9Gv+uAAcD9wOwApUC9QAz/8H+SP5F/o79v/5G/5f/DgBNAVYC9wCYAlkBhwCmAUkARv4B/owAggGCABUBbwNTA8YCPgHE/9T+iP6a/pb8OP1BAMb/rP4pAp0EWQOqAl0CCf/P/Ub9rvrX+5r+wgD5ANUB5QMfAc7/SQDf/XH8ePx5/TX+Ev+qACYBvQHqAfsBPgI5AWQABv85/qz+8fzC+xP+N/4+APAC5APBBQoGYQRJAQAAcfxC+un6j/vP/AT/ugKUA84CqgMDAxIBRgJqAqj/3P5B/wf+JP0u/Zv9KP2h/jMA2v/zAE4BwAAy/67+1P3H/a3/1gCNAGAAFQKMAbv/qv7j/SL9lv2Z/lMAcAHTAjYDmwG4AkUDZQGJAFAB//+Z/2v/Of5p/rf/NACR/yABSQEKAeABDwJdAIX+g/4h/tP+Nv5L/pP/PwAcAD7/oP9T/5T//v59/uv+Vv9i/6j/tQBwAH4AxgEbAbwACQHG/7n/mf/D/xIA4QBLAcoAJQETAbcAJQAYAXUBBgGkAfUBPwLIAdAAqv8Z/5f+4/4u//T+wP47/13/7/4XAOj/zf9eAB0ACf+9/rL8wvod+7X7jvtd/F3/mAAvAt8CYgKrAaIBrAA9/0n/6f55/+kA4wBxAHgCYAKpAXwChAHKABABmwDW/8//YgBh/0n/zP+n/tP+4P/RAE8BpwHCAAYBJAKtAQ8BHwAi/7X/rv9p/nr+bf7X/i0AKQL1At4CmgLZAeQALAB9/xr+b/5x/sb+OgD4/0H/YwBuAXX/jf++/7T+cgDz/zn+dP6U//X/OP9r/kb+Iv0y/YH+Fv0f/eD+a/9sACcCigJHAs8B9gCR/6j/eP64/t8AvwFMA9QB6gJLBPwC1gHKAEYAXwCWAeAAxv/WAKMAsP4m/2z/SP7x/i4Azf/g/7sAuP99/rX/tP5i/KP9a/7i/lv/y/5b/tL+aAAaAFsASwEtAEMAYwDb/Vn8e/y2+0H8hP64/9UARAMzA7ACQwI+ADf/rP4g/kb9ov3t/hsAMQE/AvUCFAPUAy4EaAMJA3QCCgG3AGIBHgD6/+oBHwFAAUgD9AIgAkUC+AKOAf3/5v+m/iH+Af7j/Un9r/7o/6j/EgDY/y3+9vwZ/uD89vsO/Gv8c/0L/W39Kf5y/jP+KP4Q/47//v9tAEQA//8kAAkBXwJ1AnUCqQInAvoBNQECAJT/Lf+V/qL/vwG5Ah0C4wIcAmwBkAC//pj+VP2Z/cv9m/77/9IBNwJpAvgCsAElAogBk/9Q/in+TP5K/in/D/9F/00BXgF0AZcBqQGZAEf/wv70/CD9E/3g/K396f8pAI3/wQFpAqEBPABu/1b/bP9B/1T+yP6HAAcBngAWAaQBYgHKAXkBOgCWABkAdP/C/iD/n/+y/7ABNQJ+AhYDKQLO/1YAeABV/s7+3P8zAFEB5AK3AEgA6wGHAOD+Y/6y/Sr9a/5n/en7uf3z/2L/U//zAMX/r/4s/0j+gP3s/ST9rPxt/u7/DwBpAeoCUAIzAlQCSgGuADoBSgA3/w4A0QBPAecBtgHQ/0IAtwFzAJYAXQGfAEcANQFBAAn/5v61/Zz9Bf7W/j7/xv8gABkAxf9K/0//2v5s/wL/cf4Z/6//eP9Y/3//dgAfAZQAFwHtACoBqQH8AJ8A9AB7AI0AYgFcAJ3/0/8P/5T+pv///r/+FwD4/zsAdQABAZMAxP+7/7H+WP7T/n7+5P2Z/hn/QABjAbsBkwGjADkAif/o/iz+qP0I/sf9YP8fAfMApQENAbEA6AD8/mr9u/yA/Br8mPvc/L791v6w/7v/GAC3AOUAVACU/47+6f4l//3/iv9b/4sAQQDKAKIBRgFfAYUChgLEAhcDHQLQAVMB8f+lANcAiwCdADwAJAH5ALsA8gBK/6L/2v8c/mr+v/6T/uL9Mv4h/sf9XP/P/rn9n/6e/v/+J/8o/rb+ff7o/h8A9/+u/xwACgAEALkAsAAvAakBZwI+A4cESgTYA44EOQQcBC8DbANTA3kCOgONA30D8wRoBjIGZQUJBf0DgwK8AXH/e/4i//f+1P9IAfsAZwGzAa4ADwH8/1/+Jf2j/Lr88vsf/HL8tfy0/RL+yv1h/hn+/v0s/vn8uPwO/bX8Kfze+y37JvvZ+yT7TvpM+976U/vo+6f7kPzi/F/9Kf0l/g/+1v1w/i3+Wv4k/3L/6v5U/yEAzgDAAKwBBwIyAucCMgItAmACYgE9ASAC/gECAlICPQKBArECKwIEAfkA+//U/Yz8kPtJ+1/74vvL+2/9HP/T/0kAIAD0/zX/Tf64/RX9Lv2B/sH+zgBLAhsE9wXVBZgGjQclCF4I6AiyCC8JnAnfCSQKYwoRC1MLWAzfCz8LVAscCnIIqgekBuwF2gWHBPwDTwJ7AXUAjf64/cz8GPwy+9f6nvnf+Dv4Svdy9fr0xvTD87byH/Fq8bXxTfE38cnxfPLi8z/04vSV9fD1lfZw9i/2YfUG9UT0iPNp8m7xuvDE8MzxKfF58NPw9/DV8GPwHu/W7hHwpfCj8aDzOfYs+dz6FvzY/Az+i/6J/hv/SABPAe8C8gR/BWUIHAoLC88MZA7ZEJoRvxEJExsTwhPVE6MQfA9ODT4J/gW6Acv+Ev4Z/e38Bv5wAOoDuwXSCM4K3Qx8EBYRFxIaE38T+hQ7Fq4XyRmqGokdxCDZISskIiaWJzcoSShcJ5Ql9SQyI6QgSh9OHUsbsxliFscSeg/QCk0FUwAm+7D0P+/c6ovmIOPB4FDfTt6B3RDdlNwj2zfantme2BXXVtZM1rHV59bp1zDZp9u13T3fFOFy49jkgOa36FnrD+4R8cHz1/bX+W776PwV/kL+Kf7X/bn8BPxr+0T7IPvq+t76YPvn+9r6ZPrV+lP7cfub+8b8W/76/88A8ACPATADGARHA0wC2gJkA4UD2AMwA84E+Af6CMQJTQxtEOsSfhO7FHMWoRh4GVcYahgXGnQarhmOGPQWLRVOFIAQDApjBI7/BfpE86jte+lg6YnquevJ7zf38f2TBA8LOw81E/YVjRaNFUIVPBUFFiMXVRjdGlYeeCDwIdYj0iXMJjgnUijCKDwpvyjkJyUn3yQdIp4eyBmCFKUOCAiTAK/6VfRL7r3pK+U14svf9t1z3IbcBN2C3ZLd9twi3YDcPNpK13DV4tNq0q/RvtHf0izWINkF27fe3eFB5RHpKes17sryo/Yh+kv9vv8pAjcEcwQJA44CDAHy/jz96fqx+cD5k/kW+m383vwX/SL+Cf5A/aj9WP3T/Eb+AAD2AVQDvAQTBrIHXAiiCFMJrQnSCiENIw6PD+0QoxH/EScR0A/9DWAOPA4aDDMLKwweDIEMMww5C9sMtQ/UDjsOnQ8jD/wPqA/JDSIMtgu/CtQGhQFG+/L0JO5a5ZjdMdoN2sfaW96i4zfs7vbR/mQGQgyWEY0VYBcmF2UVXRWSFWQWWhdPGkgfCCXEKsIvCzQ0Ni04MzibNjs1YzK9L78uVSwlKeol4CMhITsdRxldEzUO9Aj3AUn56fJr7Ofml+Nh3x3dSdw93OLbyNsD26HZJ9ja1rbUFNMQ0cvOas8Cz/nODdCH0NPR+NP51SXZnN2l4uboJu849PT53f4aAmIDXgOYAosBlv+r/Tv8P/of+lH5bPmI+Cf4Wvlc+mf6/Pmf+mj7FftO+n/6bvns+QD66/rr/Nn+/wHZBP4H1gqEDYgQlRK2E/QUnxW8FlIX4ha/FVAUuxK5EQQRgQ46DYwLvQq9CowI6gezB4wIcQlfCVQK6wsCDRsNXQyRCvYJXwj6BrIE/v9K+lLzQO4k5/XeYtqx2g7eneFa5/7wMf3wCCoSMBi6Hb0jdCfCJkAk3yKHIzIl5iThJewp9S8KNdg2BTiWOfE5ZDgRNTwxHi8sLFwpsSXOIcwdFBjjEsUMqAXz/S/2L+5s5vfdZNYR0NTLK8pDybbJSsv4zr/Re9P+0knRb9A0zuDL6cmBySfK9s0c0oLUq9gh3engxuPs5WDnUOzP8LPzp/g1/I3/qAKqBOQDOQM/Az0Blf8f/qj87fuk+/b6ovug/JT8Pv0G/cr78vmz+C34yPgq+vn6Qv8HBHcInwxPD+ERUhOtFIcU+xNDE/ESqRPlE9ITNxUhF2wY8Bn4GaMa+hpaGaIXfRS7EaMPAg2YCtMHnQY8BkAGUgZTBqsG5QfqCGQJ+wnGCZkLrgzUDHsMUgpeBD38NfTY6hjhkNfW0y3Wvtoz4NLpu/YQAwwOBxXFGRMf8yNgJMAhZh/NHUoe7xwSGvsahh+vJccqiy5WMf8z8zRZMVcs3ScvI5gfjxz9F3kSUQ45CVoCkvtm893sDOi344zftNpL11nUOtJFzzrLbMlqyTzJvse3x6THXcjvyk7NGdBo0p/WgdvZ3o3g/+Ee4zjkuOWo5iHnl+k67330c/pzAHUH+g6kExgWOxgRGbAXnRYcFEcQpQy+CKMF7wLJ/ij8tvz2/Hv9rv6vAHsC9gPLBJgDggO+AzcEjQU1B8QH0ggpCrMJ5wfaBLgD3wP5A5AEZgYACf0Ljw1mDh8OeA1eDqoPzhBgEJoPyQ9REMkMlwjPBSsEuwNrAoUCPQTuB+YLkw/0ElIW5xmwHCkcYBXZCzoCQPj77OLgBNuT3T7i+ude8DX8vgknFWMdDiJ7JbwnUygiJtIhYR7+HV8gbSDJIUImqivgMJU02zVMNac08jJvL70oBSLcHOYYmRPPCyoGIgNRACz9nfjo83PvHOlz4fXYKtG9ygnHcsTtwW7ABsH5wa3AdL8fvte++8EGxczI/M0o1EDZgd3733rhSuTI5iLpxOlg7EXx8/SO+A78BgHFBi8KuQyFDxUSKxRuFDoUBhPZEfgPSgyvCGsF8wGu/hz7sve29b70BPXU9kr5ffsc/9QCJgZACckKjQwFDnQO7w5uDYYM/A0XD8kOVQ6gDd0NqA7BDOYKfwosC1QLXwphCQIJDgjfBfUDfANUA4oELQY0BnEHWginCG8HWAXABIAF0QZnB0YJbAr5CDQCoPf87m/mYN4/2ijcsuOM7uz41wNCD4cYax9ZIpMi1yKOIy0jhSDNHbsenCLXJdQoiizGMj46kD0PPRk68TWoMC4qoCKzG38YbxgGGRcYVRWFEksP1whH/gTzC+n74JPZbNHAy1vJkMm9yYzJ/Mnsy5zNa83jzBTLu8nhyEPIYMkvyzXOhtRH27Lgw+Vk6Q/t4O6R7x3wy++U8S7zS/a6+iP/ZQUwC48PXxLsFAcWJxWWEgEPcgzBCNkECAK2/5T9mfuX+AH3AvjC+BP7O/0w//cCiwXrBsAHeQhVCaQJ+QlfCp4KAQrfCYkJmQkdCtUL/Q1mD5ERbBLVEdUP5QwsCk4HxQWLBYMFEQdkCToLwQseC8kIUwYBBNgASP50/K37Dv1I/0MB+wNOCFkMkguMBGL7sPPe65PjCd2W3Hrieuk28AX4ZwAtCkoTbReFGLkasB6TIQUg2R3UH4clUCt6LiYyOjghPw9C2z47OSw0AjEwLvQqDCj5J+sq7SzTK60lUh7pF1EQAgb3+WjvzOcp4+HdVNmc1zPYVtr52QrWxs7NxzHDI74quFi0EreLvvjHGtAS117eEeSv5wjnveM14bTh9+Oc5QLoXu3v9loBqwnZDlcSxxV6FogTLQ0eB/wELgUjBYADAQOrBTwIzAeyAxP+Jfq69onxkOt/5y7n9ukO7DTuy/J8+YgAIQVdB+cIxwp1C5YJpQemBhoHwghaCm8MQA8yEpcT8xI4ERQP3g0YDbAMkAwyDFILXAqsCmcKwgmuB/gFyAQnAt7+0fry+Ub7svxu/h0AdgNbBkgGBgBM9kfuzuhy5Z3jluUH623zOfvvACcGhguhEjAY7BpoHLcetSIXJUsmoycsK1ExBjhRPbZBuUT0RUVEyT27NTwu1yl/KFMoDiiYKMMoeia7IKQWuguUAaL4fe/r5iDhWd0v2qTVuNEBzZHINMT7vju7urcfthO2drY6t2C5fb7bxdTN49VE3RPjxuaD6D/oo+dc52Xo6ev97w71dfqVALIF1wjgCgQL6gqtCskJ4wdiBnoF2ATSA8MBO/8d/cn77fhX9TTxs+8V74Huk+/08Bb1yPgm/AsAqAOqBr4Jowu3C2cLDQuDDA4OJBCMEvEVxxkrHREfhB/sHmMbshf4EoYOBAsNCZYIaQg1CYYI5widCAgHzwQhAlcBlABdANP/qf5d/g/+p/6d/9YA4ANmCGMLXwdX/rL1RPBV7BrqpOlB7TD1svy7AzYHWgl4DNwQxRO2E/0U+xmiIcklIyc6KIIrMDCiMgMzNTKFM5o1eDWvMZEsfyooKtMo5ySAHywcqRjyEyoMSQMa/GH2yPHc6yLnqeLY3ifajNO7ysvDMb86uwW57bb7uaS9IcAJwn7DE8ifzkLVFto/3mHgvOJz5JvjreOA4xPmJett78j02Pm6/0UFwQchCSsKpQsRC6cKOgnRBwIHRgSDA+UBQgHnATEBXQCD/l38zPr492j1UvUp96b59fvF/qgBHgS6BQEGHgVeBTAHdQjYCpoMyQ6CEcoRbRLREmgUPBZdFVYSbA7BCswHwASuAhYD4AO6BNAEugN1Au4ALP7p+q74Rfg1+oz79fsh/dn9vf+4AZECaAXJBzcHEgKS+S/z9/BT8nP1rPtzA88MERR5FwcYxBUHFt8VgxVOFVsW4Rr7H1YjZyV5J0gq8S2lMVI0XTX4NXw1VzOOL2wrjChjJzgmDCV6IjMeIBmzEl0LtwJk+531IfGV7AznmeED2xrUq8wCxQK/J7zYu3a8or0Kv5bAm8Lvw4DEK8Z1ymTQutUa2gTbzNtQ3YXejOD64g/oYO5R9B75H/xb/j4AkQF7ApYCvgIgAz8DPwP1AksCWAIzA8QESgZDBssFmgQbAp/+Ofxv+jr5OfpB/Az+DQAwAnUDRgQzBKsDvwLSAXIBnwGyAj0E2AXAB90JcgyKDmQP+BBqEbYQiw/jDRUN4wwQDlwOaQ4hDi0NbgxCCnEIXQebB+oIFgprCsMJBQnVB6kGhAWMBEoF5waTCKcIEgZ3Afj8WfpA+ID3n/jA+ff6QPyl+zD6qfgD+Eb4PPn7+i38CP6nAG4DgAbQCLwLdA/EEx8Yfxp2HF0egyBMInwjriX5Jywrvy0OLrUtUisCKO4jbx8mG1UXYxScESoOQQkbBF/+MvgS8Q/qGuQu3kTZjNS5z1HMhcqIyqPLycxAzojQdNJt04bSW9FW0fbRiNPI1HLWm9ha3NrgzOS96E/sHvDR8zL3KfmD+gj8m/yc/Nn7ovvw+5X8NP3j/Bv92PyW/R/+Qf7x//QAxQLbA7ADEQPhAfwAj/7X/Gr8ovwe/gf/0v9aANkAbAHEAUkChALYA0QFHQYTB4EHegjQCfwLTw3HDf8NdQ6ZD9EOYQ6SDhgPYQ+VDkINtAvzCvoKtgqeCj4LSgxhDnQPcQ8QD0kN9gr3BqsBzP2i+8T7wPyK/Uv+4v48/9D+4P0P/cv8pv1b/0EAWwHUA7MG8Qn8DD4PPBLEFJkXcBo8HKUeWCHBJPwm9iiFKkIrjyu+KqEopiUSI/UfyxwAGQcVlhHADUMJdAT8/q74EvKU6ynl+t8T3J7Zmdfe1KvSj9A4z13NIsxyzBnNcc4Vz5rPZs9Mz0PQRtEt00rVntjH2+beE+Lx45LmxugL67jt8u+T8pH17vgM/CH/pgFEA2EEUgSOA80BMABo/sj8TP1T/SL+lv9zABcCRgLXAkoDxALYAS0AYv9A/+7/3ABMAgMD6wPeBNgESAUuBZ8FkgbjBwQKQQvmDMoO8g7HDvQNcQ0PDQsNww1NDk8Pew9SD50PGhAlEJkPPA8gD08PmBC8ES4SyBHTEEkPJwwoCDgE+AEAAef/nf4K/Z77+fnY92r1EPNM8rXyEfQ49QP34vlP/T0BWQR0B5EKyQ1VEakUaBjRHJsgdCTdJ7MqtS3rLzkyLjN5Ml8xLS9gLBUpYSVMIVcdqhlkFpASjQ3aB7AA2PmP8/Tsv+bC4KLbvdbj0VLNDMkTxnnEDMSdwwPEd8RIxdHGDsjnyU7L68zizj7R/dNz167bct/N4zvoj+zk72ny4vXt+Gr8mP9mApwFMggPChsLpQuMCywLqwq9ClsKmQk2CYsIjAdfBUwD1AElAJb+Gf3u+5H6svnL+Uj6t/p2+5X8Uf3J/fL9mv/NAdMDIwVbBT4GygayBmkGvAZrCOcKkQ3hDy8RZBE1EQ0QIw+1DmUOZw8dEKMQhhAsEMgP+g4zDhwNuQu/CHEFtwLvAGX/mv2k/Bz7Wvke+NL3APgs+Bn5/fnE+tT69vse/lAAJgM4BuUJHw2eEJsU5xgZHaUhgCaWKokuQzGUMwU1uTWPNqM29javNWUzSTDULGkpWyRpHy0aWxW2DyMJ3gLT+4f1l+856X/iQ9w219DS4s7synDHW8Twwfy/Wb4Bvha+P77Mvlu/asDQwt7F6cmezePR69aZ2vPegOLd5YLpMOxh75PyivZZ+rv9RgF6BKwHkwpMDfIODxD6D1IP0g4nDf4L6Qq9CZYIJwecBXwDfQEdAGb/xP4I/gT9uvxn/f/9rv7u/jT/Nv8i/9X/vACyAQED0QRhBgMIUAndCUAKsArDCwkNAg6qDnEPeRBEEWIRJhHiEGYQIhCqD4YPgA86D1IPaA7pDAkLLwi/BL0BfP8d/Zn7vPpA+U/32/U89HHySfFv8NHwy/GX89P1J/ie+1L/yAObB+4KCg9eExIYPRw4IJ0kxClmLicy0TXeOKU7RT1oPis/1z4bPhY8XDn3NU4xpCw8J1Ih0hvFFYgPcgg4AZP6zPPg7Gzl7d7P2OfSJM0Wx77BpLziuPa1H7RvsxCzprNNtAy197WHtzC6FL6Ows7HpM380srYKd4l4/DnvOyb8aL2MPwlAUIGIgtRD3QS7xR3FuwWPxhXGT4afho5GvUZpxiWFgcUiBHoDrwMuQqKCGQGqgRaAwUCRAFUAP///P9JADAB1gHKAqYDZwTfBJcF6AXhBTsGgwY7BycIcQliCmYL2wueC7cLOAvxCv8KbgssC8oKigp6Cb8ISQclBncFTgXiBYEFhATAAt8ARP4F+3H4O/aR9FLzoPL38UzxjPCs75HvzO9+8APyUvR899b6+v0HAdQDFAcFC00PHBS2GKMd7yLlJ38snDBsNG83sDldO3A82DyaPMU7IjoAOMc0tDBJLFQn6iGwG0IVng54BwsAwPhN8RrquOOO3YDYzNNfzwfL/sbaw5PAUL7du4+5eri4twO487jjutG9ocGHxXbJLc470trW59vN4EDmsOuo8EL1nflY/eAA0QSuCBwMgw/UEa4TXRXdFdMVNxW6FM8TXhLMEAAPvw1rDHYLIAp7CMkGZQV3BA4DEgISAe4A1QB+ALEAYQDg/5z/4f+4AOgBrgJ8A0YE0gQtBTYF3wVbBqMHzwhvCU8KSQqKCmcKVQreCSEKIgvGCxINrg1QDkcOhw1uDN4KqAlaCBUH8QUYBdQDlgIPAdH+Gf3++uj4EveM9Xz0CvRp8+byZfMj9Az1zvU79yT5Ovy+/7gDUwiJDAERhRQzGLEbKx9gIxcnyCpxLVcwMzLsMmYzSTIyMYUvhy1FK68osSVmIpEe3RlbFCYOSQgAAiX8kPbl8HzroeUF4Irax9VW0RXNucnbxgTFI8Ndwdi/t76uvru/PsE3wwvGK8mWzOLPTdMb11fbnN8f5FDpoe6T88P3GvsD/hYBngPOBbUI/QryDOUOQBD+ELIRXRJxEqQSJhJbEfgPvA0HC0kICQZtA60B3gCS/8n+RP6Y/bj81PtG+5X6dPqA+hT7Cfzk/Pz92/4bAE8BQwLWAwEFRAYHCPEJ4QtnDUcO8g7UDwIQ4g8tEMUQPxESEh4T2hOJFAMV8BR5FPsTeBM+E0MTHBMpE6oSwRF2EL4OCw0EC10Jzwd1BnMFcgRGA9sBxADj/1v+N/2M/M37yPvF++T7Lvxz/E79Qf4q/wYAKQHWAr8E0QaYCFEK1wsHDSoOgg8UEVISThPpE+kTIhMMEqMQ0g5CDdkLmgpqCQwIPgYzBGwB2P1T+tP2m/Oj8CvuPuxl6pTouObF5CXj4+HU4PPfXN+B38ffFeBr4CTg3N8p4Ffg1uAL4qHjcuWG5yLqbey+7u/wuvJ99Bv2fPe2+C/6UPu7/L79jf4l/+z+9/7Y/gr/UP/t/5gA+gBUAeQAEwBZ/0P+T/2Z/DX8evy2/A39//zs/OD8pfzb/BT9t/1//oz/jwDkADwBlwETAq4C7gP7BQIIFQobDNgNoQ8aEfQRqBLOE68U2xUoF/MXuxgUGbQZQBqmGh0bsxsMHD8ckhyAHBkcZRstGssY5hfnFgoWJhWLFLkTfhJREWEPTQ1JC4cJ2Qd/BkkF5wN5AtcA+/4u/Tv7C/n99uj0OPNd8bbvr+3w64rqBeno523mA+XZ4zzjxeKT4tDiGuOU43zkUeV95g7oc+lO62jt2u9+8tD1K/ku/Jf/uQLpBfIIlgvsDdAPcRHXEjwUQxUsFucWVheYF5gXixd9FtMUzBIyEMgN1gpfB1kEtwEj/7T8tPro+ED3tvU39Pfy1/FS8DHvW+5V7avsA+x661TrLutQ6/jrQ+zY7ODto+5K77XvG/Cd8O/wafEu8urytvM49OP0g/XT9Sf25vYH+Mj4z/m9+p37NPy9/Fn9Wv2I/Sj+2v7D/9MAgQFBAvoCNgRDBbIGlQg8CmAMiQ6rEFUSjxOtFFEVuBWsFp4XcxiKGV0anBp/GkQa0xlDGQwZhhjwF7cXFBc7FmwVURTWErYRRBCIDuAMxwrICK8GwwS5AsMAzP7N/AT7JPmf9+j1WPSo8h7xu+877k/tS+ya66nry+tC7MLsXu0m7u7umu8l8GjxnPII9D/2UPiY+o78Rf7I/y0B5gKGBJwGYQgoCskL1AxxDUkN3gw7DOcLzwtdCxkLlgrACQgJVQhjB2YGBwZ2BRoFhgRjA1cCLQEOALv+hf26/DH87vvf+9T7svt6+w37pfpK+qX5Kvng+ET4mPcO93P21/Wf9X31oPWN9Xj1Y/WL9PXzF/Na8rPxRfEM8aTw0/At8bbxVfJD8230ovUn91r4+/iN+Sb6ufof+w/8Cf1E/sT/6gBnApIDyQRLBu8HuglPC/IMcg5fDyUQLRAqEK4QuhBoEeARDxJGEj0SDBKbEZoRbBGDEeER1BFiEb4QlA83DsAMRAu5CUAI+warBaEEJgOKAdL/7P0v/HX6mPjR9h31pPNQ8j3xWvCf7wnvoe6t7ovuHe8C8ADxyvHA8mT0qvWO94P5Q/uG/ej/wQKABaUHmAkZC4sMbw2GDowPPRCRETkSDhNmEzcTnhJ5EUQQsQ4HDYEL3QksCPIGlQVeBPkCywGxALn//v5J/sv9MP2//E780/si+0n6gfnE+Gz4hPjT+JT5CvoY+jj6Y/qU+qj6tfoj+637Sfzo/A79yvwq/Gz7m/pB+h36KPpt+jj6Fvq2+RT5/PcO95n2L/Yh9vb1SPYY9iv2PPYg9tX2fvdG+FH5ffo8++T7Lfw+/DT8H/ww/Hz8r/wu/fb9rP5//xkAigBhAAsA+/+t/z7/e/+X////1ACzAVoCpwIZA38DjQRlBSQGTAcPCMYIEwnmCKwIlQgjCVIJpgkuCi4KOAq9CTMJQwiLB3EHCQcgB3UHsAf5B/QHtAdIByYHiAb8Bf0FhAVuBd4FQQanBmQHnAeqBzgIOwh6CFEIFwiICE4Icwg8CMcHegcWBzAGIQVvBGEDjwJTAWkAdP9Q/sn9+fy4/Gr8+PvV+/P6XvqG+fz4x/gA+cH51fka+x78avxV/V/9LP0N/aH8+fsN+5P6hvnH+Hb47fdP+NH4TflA+oH6WPsK/Br8hfxP/BH89/uw+yv7jPuG+5j7SPzE/Fv9C/7m/lj/fQDxAIcBNAJOAusC+AKQAzMDKwTyA/gCEwXqBKMEfAXbBUQF+gUUB34FZwUABegD/QJhAXsBIP9k/nr+u/zY/AP9zPzX+07+Av2F/O/9gfqC+qv6z/ml+Yr7qvjs95b7cPnW+qn8y/st/5MEZwQuBdAJvwqwDj4SBhG+EhsWtxf6F7kZ4BnlGYYbCBrQGGYZCRiJFjoWfhU4FMUS0w8vDRgM4gjeBFIDogFb/1/+pvud+jz5MPiY93Tzb/Yp9RHyBvca9SP27PkM+En3jPto/ZL6DP8hAPj+XATWA2QB3ATWBAcAXQP8AH77vAGg/iL5g/yC+dH1SvnC9XLwqfe39inv0vWl9MfvufWE8jTtN/Ls87zrcfLd9wjsYPmD+SrwugA6/IH7tAGFA8IGvgT7DMIIzgi7EmAJeAzuE80N2RSmFQ8SUhmVFLMW0BYOENAWsBGFFP8Q/wytFDAOYw+FBqYHZgnOAigAW/sfAe36h/mX9bXzXPmX75Lu+fGn8Q/w3PM/7RvwPPga7CH0yfVJ8Wj2iPrB9gP4DgFv9zz7SgMY+tj9SQM5/tP/0AgpArX/gwuYB+EBpwrQCYAAYw9LCUEE7AxvBk0MaQhsDVcMJwkQEjkOVhGKDWwT1BbXD4ET3RKwEZsU/RNpC78VGBRTCDESFwsYDN4QaQMXCDINdgchCAADHQaoCkX+LgAD/xP9+wFM8o36dv/0+G75CfF2+8Pzy/GT+APuIvoY933iB/kn9cjn5PTW6G/xAvMs7XzseOvs+gPwAuec8dDsofH/9UXxRPIr8VD+3/M48DEHEPRL+y0GBvQ7AzsKQgAn/CMIzQkn+JASXgHc974eWvXjDEUWgfePEhQLDxFXBywNoQq3AzMrR/1x900kZfv0BH4VMfl7AXgRiQSc9CcP6//m9LAL8P2d9hf9mfeg+4YEWO0R+dT7Du2GBFDynurvAVX7avWE+NH/0vgyCoYOtewCDWcXc/5yDg4NwwhoE6UOKQDPChQetgRlAIsQ7QvHBeAJBQP58dsPYgbv6IgI9vlp8CoQR/oz6yH7EABf9lH/1veV7cQOL/8H9j0DovqpB2gOkv+0BNYQfgRhG+wPw/gtHI0VCPpID98UpPi2FiUO+OjjGN0Jg90YCkQIqeft9Sn8PvO0833/kd4i7vQFrNrt6gnzT+tM5aPlbvZg5//revHm5XgB2/WO7gIA6vMeBfr6+PyQA2P2ZQVRBsMBmv4lBYEYuQIc/eQWcPyrDK8M2fVvDDUNogpx+H0MbQp/+ZoO4ACv+MUDCQhX/gP8HArc/9r28xA/+5v7/grkAuEL+/w8D9H7hQeYFgD2HQih/lsJdAiL+6sNTfxmAu4Pv/AUAsYI//WdAIj9ZgZD79L72gIQ8AQJifLV85sAx/iV+kz7m/pF+On9Hf30BIX9svYeCbkI4wV1/gYESQ1oCpINUvfaDGkcGAPrDPILDxTlC6EB+hMPDdsISAZ2/6URZhP1/Rf7LgYhFyP9zvr3AS/ztRG/BdPwf/Xh/rYGAvOI+ET6bfR7Cdj/4+vB/vgFiv3Q9P4CQPvd8OcSavLR+MkN2/X6+aP33AgK9mX3SwOP78AKtPwS6YD5DQSKBc/tke5lBKD6vvmE9Jjq6QZEAUjs6/BbAsABWfHC+0b4YffuAQv5mPuPAe8DWPth+mUJyfpBBpsJ/Pc6Bz4Anglc/SL8Wg4u/JsE4fxDCmUMQwGLA278bQ1rBrv57/oeD2wDwvZACq73Ewy5CmL6zgrkA/QGNwO0CB8FCv59CRkBsgMbBCkFvhCbBZb8aQSBDxgKvf69+U4LUhUy9/b8nQW+BU0OevRt/8oJUQbS+H76fBkm+hz6hP5/AiYYofSf+AoDIQqLFqvudvjJDFcEWgZN/SYEnPzPCAQM9vZsDPL/3f5dBpgAsQGv+qYBe/4+BDr/ivxo+sD1Swn5/k7uF/Tu/gD3qvqk97nuhgfZ++DwLvfXAen8cfQr+W70yfoP+TbtGvm//8rw0vrh/fb8Z/gI98r4hgGkBILsOvg8Aj8IUvaJ88oA5PSiCDz6FfdA/QD7SgUa9pYCrwD17z8D8Ayn/oD1uQQY/Y34AhDU9vzw+gyg/UT/rwPaA976DgJoELL3ugr7AWT1fA6+A3r9NgA99J8GgwVE/j4H2/WPBhQAbAF6Bpv3ZQXb98UDEhBA8x4AGQmh/nENgf+l+MEMSg0fBFoBMwYe/4oGiBAb/C4KQg5XAhYMwAQtDckHQAe5ArT+Uws0CB8EMfrmB18PLwFwAGgLZAkbAvwCjvvvA1UIzPoZ/XICaAZ8+TL6wQhPAf0DWvio9pEGVfxP/RT8hPkkAgL0a/TXAUn99vu6/SPwT/UMCiP7CfDC+Q38ifc3/sXzBO5yBSUGU/TA8mTzl/VeBHv8b/UY89T+UgJC/Mf5d/NSAhoBb/xA9Wv6yQRx+pL67ABOBDH6Z/vwAv0Bbgj0+XvwOQyQB5jyZPsI/JgEORBY+Abx2hGxCK/3JQJi/pj/5Abz/GzyFATPBdP72gIAACz/cQR9/I7/dQMH/Kv+5AH+A17+Of5y+mz7iA0a/0Py8gK5AkoEPgHH9iUAtgY7/7T2lAPQAaH9/wWG/q0D4AiH9fP4BQtyBG/9wf71BecHiwlAA6D8yAy+DP7+YQgMDaMKLv8kCCAMVQMLGO/5IwKSGwULpQc7AckO4xASCqkBsQOLELoIwQMqCXwFDw29DeryWgH4DZL7vfwD+zAAZwuuCcP2kviMDqwCavtY+Vv2dvtN/ab2j/JeAu70p/I9A1L0o/uP/MT24//W/yL15OyG+db7V/4L9dzsyPuCAab0FPpe/jz1gQST+ob0GPsN/HX39fq9BM704voI/aL/KAL/9CQCe/f5/OAIVfiqASkDlP1g+f4E/QDA+Y4EAf3c++MGfQKh+ZYBwv0MAjMEWP3M+mMGvwbQ/u4CbPaO/roAgPx/CbL+B/agBewDMAFbAjj9n/fc/7QJNPtU+g4AyP+cCP0On/qR+XgEjwmNCN34b/9tABQK7Qun+6z75AVTDaMEBgNdBpcHxgapBbcE1f0nAowE2wBLCbgHQgKMB3AEeQQfBbcDigNdBIsIQwbuBt3/gwPBDOIH4wVp/a8CIA/dBWYC+QIB/dUFJAgwASAAjwbGBfz/JQUb+lT1ogcSBRT2qPqZ+5X5pPuJ9+n9df+P+D/4BfdN/nf9hfY886vxIQFF/QbxV/+w/un4HQOy8W71WgN8+m/8+PyyBs34I/ohAoP86Qdg+Pr2bQGCCtUDtvMD/en8ogJeACPyRPulCnwCNflj/uABOAj7AW769P6fCJn/GPHK/sj/iwSCB33zTQBDD4gED/r6918C0AdSAbz4Nfn9/1gD/QKv/on7UgCj/pX+yAGO+kb7OgCWBVH9cfogAGT/XwgHAH/6hv4+/GMD8QVp+/X/hQPu+7gDewRXADsBewfCBN8AfwWV/B8EigvQ++3/JghJ/+gEBQaEAUcIOQWbAwQH0gdsAv8BWwtOA0sDJwWUAmURqQYIAUUG9gd6DeoANwGJA+wHDw3KAfj9dQNIB2AE7QD1AnEB4PyQABr/rQDh/WX1AP2IAAr+3/lQ9gL7gAHa/m74KvnT+1H99v7++g74PvkO+gT9Pv0Y+9P3NP6vAfP+wf959yj5wQCv+3r4hvyNABsCl/x7+CX90gDn/8z7MvkA+9cCrACg+WQA6f2t/FYDa/z1+Zv7lP9dBMwBT/zO+XMCnQZIBk7+wv09BccC0ALq+2r+qgH1AEIDLP33A4MF/P80BGgEYgJA/fv71wEIAj0AZfq3+tMChAAF/k382P/2BTr+z/zW/8b94wP9ANb86P9a/6gEzgDo/9UBUf/DBkkADwB3BMwAkwcOAyEBXAUnBNkGiwPh/7QBMQLtAkoE3AMbA0QAMgGGA3gDpQQk/5n+KQbjAv795QAs/zQBYwIu/RD+0v0ZAVICYQHaAOH81//8/5z/B/85/CUA/gBe/bcB/QOT/zAAiv6U/j4B5/+2/NX8LAALAWEDmP8WAV4FQwF/BXUC7f2SAjEA3P/XAXn+gv2N/2gCrATV/0r94wASA1gCA/6Z/Yb+IP2G/qT9CfuM/439wfpgAfr89/yR/7b8dP2o/AL/Of5o/rP+5f1YAEL+C/6w/rH8QQChAdv7dv17/tX91ABY/2X9D/7e/yf/bP7t/rD+n/2F/bD8Gv0Q/yP/PQAN/wcAzwFuAtoC1wKOAi8BBAWUA9sBngT+AqUEcgYgBB8EewRWBBwG7AWyBHoD1ALmApIDfgMQAPf/PQHBANQB6wCy/2P/O/72/Fz90/5V/T79jf4kAFIBGgCEAZABDgJtAGL9Rv+rADsCNAAhAN0CKQL1AhMBngBdAtkAzwIDA6YBwQIcAVYA5gAxAHT/wP9NAOoAvQGBAeAAIwATAFT/XP4C/8b+qv3F//3/D/9Y/5X81/2g/jz9zfzw+hL84f1B/rP9ovzm/Lz99P1b/Qv9Hfyk/Pb9lfzF/B771Pqk/hQAgwDN/sr9LP6OABoAPf3m/OD9xP6+/o//zP13/9gA9gC4AYIBfAHFAGQCigAtAAb/U/+CAf3/agC7ABACEgJNAsEBawDNAYsB8f42/0P/If8WASwAGwBaAPIAQQHa/1r/VgAvASf/wP0a/Cn8sv23/TP8r/nX+nj65/hg+aD3iPft9pT1aPaP9qL3Hfgf+G/3xPfy+Bf5ofuR+1X65Pwy/mT//wAQA9MEoQZFCWQLow18Dh0QthDPEsgUSRV/FzoYhxmaGVIa6hqxGhwaJhqHGRoYUxmoFjoVZhQXEnEQBw7CC6MJtQeuBN8AB/2v+n75Avcl9K/zNfGH8e7xbe+y7/Tsr+sW6kfra+196t7qzerP7Tbwce7n77vwg/La87TyIvJD8UTxz/F885fyeu5v6xzsNO6x7Krn+OLl40HlqOTL4W3fRuEp5HrjK+DQ4fbjoeeK6pHqFO5u8sv46/7yAxQKxxAvF5UdgSXDLAQzlzjZPQNDu0dxS55OTlP1VTlWzVYBVo1VPFN0TD1HlUISO6I06SsPIX8Ygg/4CIIBB/U965jj6tyb193Nk8QLwE+9w7rvtgq1WLY5uNC6hLxqvg7D6sgv0GrWE91+4+/ogPKU+rkANwa3CqEQvhWlGaYbTh2RHtIfvx+LHIsZ2RZyFBASdwxPBQwBwfvO9TDwlucG4vrckteT0XDJNcSNwSLB2Lz8tx+1dLSGt222uLbUuWe+DsTgx0fNR9SJ3UDl0+xF9bP9xgibEpAdPCkJM4E8wESWTqtXal6DZV5rg2+mcjx19XZ/eC54YHQHcPJr9WaIYIRYEk9DRXc6oS2HIVUVGgom/0ryn+VE2uTRhspSw3C5ErA3q+anNKfVo0Ch5aEUpDGpKa2ys/q5BMIXzGrTBt2n5U3vufkxAq0KnhH4GK4fxib7K7Au1jBfMIcw4jAQMFctYCjEIaYbYBfNEFMJYQHX+WLzuepl4ovaltOqzebHNcLOvCi6ubaxshGww66IsCqx2LBasY+z0LhOvC7ArsbRzPLTH9qH4ZbrofRB/nsGZg9rGoYkzS7mN2FC0UycVG1c0WPqaiVxVnUbeF57p3yre216EXdPdHRw52l7Yztbq1HZR+s93jPgKCMdGxFIBW/5UO6M47bZFNFBxi68SrRwr9KrHqbFobOe9p50n1CgzKM5qDCworV6u5fD08y018fgg+sE9c79BAYQDgEWch1EI5QluCl5K40sQSzfKvop9iWCIiIbGBbIEHEKvQVb/Kr1se2U5gDh7drZ1abPBcyHxyrF+cIzv929dbxMvRG+R73Quzm7xrwswbvF1cgNzTfQqNTW2WTfI+c57pj0xPkHAIMHQhDiGechESuHM7I70UNpS+BTLFyjY9JoVW2BcE1zknZWeNN6/nq/eC11AHFgbW9obmIEW2BSt0jaPmc0wiobIaAVJwrJ/vPzOOi83CfTAMsvw1u697Ftq7SngqNEoDqeKJ6Jnsmckp4zogapYa9SszK52b/vyZrSENu65d/uFvdM/XYDVgqoEcYWkBo5HgUh/yIgIacfGh+lHS0bMhXjD4EKOQZHAmz8TvhO8lPtregB5GvhUt2V2hvXJ9Sl0cbPQc/wzZHOWs6C0frSANLB0YDRJ9cM2+DdPN5f31Hk0ua/7DTyG/pPAqYGuQzyErgclSYBL+I3rkDxSRBRrle8Xpxl9GxUcjR2KXnZeut7XHtce1l6TXcZc5tsimZpX3dX4U27Qi85Bi52IRAUNgZx+iHvtuJE1rvJS7/JtYuspKRFnZmXXJJEkLON54vvjf+P6JV2mrKfbaXhrI24VMCCyXrRWduJ5kruNPhkAIcJdBH4FvIcSSJ6J24plikRKYsoICYSId4cZxlMF3wTdwx2BVv+3fg49Oju5+pQ5qriQ99A2z3YHdXc1WLXfNdV14HV5NWa1x3Zv9qW3e3gtOG433ndkN9G5f/pw+yU7yjzIfeU+VL7YQBNCNoPfxS6F40dkyWELXQ0QzurQv1J8E+0VOlZw19pZfBoZmuZbYhvfHAjb4tsWmm/ZhhjBV0vVf1LvEIFOrUvJiRpGTsOagMR+IHrIN/W04TJLMCjuByx06nyoq2dm5pimPyW+ZVMliCXiJjMmvGdnKSXrOG0S72KxJPLqdLC2g7kx+1X9rr9tAPlCLcOCBRjGYcdfh8KITgh1iDRH8EdgBzwG2ca/hZFEpoMMQcCBI8AgvuF95X06PGI7ijqLucx5pnlVeWu5OvjzuNd4+3hreGL4urj1uTg4kfgiN9Z4Ujka+ca6rDswvB59Aj3XvqaALgJTxJpGPEdCyVBLcg00DtgQy5MhFSvW8lgpGNSZ8Rqym0dcD9yGHMuc5ZxKG4ka9RlP2FeW45SZUgjPrkyYCiXHYkR5we5/BHxBORt1kPLr8EwuBOvQqX1nHSWgpJijWqHEYZWhUiIVYqsiy+QT5VCnJqiRKjprvC4IsSrzprYB+GM63H0sfxbBEoM3hYTHxglZSgkK1UuizC2MB4wHDAlMVQxYy9ALWkoJyTuIAEePBraEwcQIw3zCFcChfyY+Wz2MvSz75vqEeeh42HgR9643YHdL96u3UvbV9fW1XDYpdsj3YjeouGW5m/rr+2Y8DT5ewSwDAEUXRkUINko1DDON3o+Skc5UORY5l7zYVdjFGU9Z/Bn5mjOakJqzWeBYqBbmFRNTQRHZz4zNWYq5R4gEhAF4Pd76yHhidWTyue/vbTDqpKihJqDk8CN9Yh7hquFmIT3gzOGLIkFjkSV/ZvtpFavVrh1v3fGNc+V20To3fMn/8gJLBWKHtEkCCmHLo410jzPQAVCaENLRDVF00XGROZBmT4KO9I1ey+zKccimx5XGnQTXAxGBKj+5/m581bsHeaE4dndzNoc10HTps7My1DLj8rwytfM7M0FzJnJ5sl3y9XPPNWl2IPexuN65xLrqu3N9F7/ewoSFJkbkiIhKz40kTvnQgxKLVF5WEte3mJhZgxqkmwTbU5tO2yza6JqMGYfXtpUEE1sRtE92jPuJs0ZKw9fAsz0Fubn2NTNwsIduBOvJajcoUab1JICi16GloQKhkiIpopOjYGQ05W2nL6lna8Zu1HIXdRe3jXn6vCq/IoIkxMQHh0oKDOVPGJCPUWsR49KQ01+TppNYEzCSRJGmECKOeIyyCyJJ2chiBmrEPsG//5H+N3wOupG5PzfL9xd17nS5s5bzEzKW8ldyAzHa8bHxUbGNMiKy8zOFdB4z9LOfNF31n3cRuIa5nXqje5p8oj3Fv11BUUPvxj6IK8mMSwWMgQ53T/jRmBOOVW9XPZie2aUaFNpfGkraZpnLGakZBBidV2+VbJLEEI4OUkvsCTWGJAMSwB38wPlxtXMx5W6Gq/RpKicCZcjkj+NSogZhJqCGYSyhzGN0pJkmWGg+KfssFq7EMi/1ZXkj/KT/psJBxSiHtQocjJJO3JDrUufUtBWzVfeVsNVf1QcU6tQBU0cSAlBkjicLsQk4huwE/8LXQOp+vfxa+nM4IHYwtArypfFgMG8viK9A7xHu1m5/rYWtSe1fLj2vDbCZMZcyb7JjsdyxzXKL9GZ2aLioetr8s737fpO/r0DDgwhFxEi7CxzNns9D0RAStdQdFYhW7Ng0mZ6bf1x6HNHdC1zt3A3bVdpxWXyYXBbUlKMRoA5Ty3oIPUUMgky/f7wKuTA1pDITrswr6SkWJzYlVGR6Y7VjFiKsoh0iHuLBJFamZij4a30uC7Dcs1s19Lhie0++UQGLhJRHYInnS9FN/U8FUIoRvtIkkvTTP1MWEs/SPBD0D7fOG0yuCzcJjsguxcODsQEBfyX9CvtdeZ54TDdj9hw0hjMiMUEwFK98rt6vFC+L79Cv1+93rqqus2878DaxMrGv8ajx7/Jssxz0g7Zn+Ce6IPvc/X++goCcQuHFqIgYSl6MY05qEI7S5pTM1wSZPtqNHAPdFx30nkTe6J69XfPc6FubmnlY6pcdVMfSLc7OC5EIcsU5geO+/nt1d840oXFcLnurf2jLJuylKCQvY7PjRSO/4+JkeCTLpeGnZ2nzrMKwW3M89bN4EzqbPQP/4kL8BiVJU8v4DXEOqE+H0KVRJBFtUXbRWxF5UPHQKU77jVvL1YoOiEsGgwVuhC3C7oFj/2Q9H7rPePC3KfXNNSG0XPPX83KyjjHwcIZv667gbnBuIa5TbyVv2fC+sKmwbi+xrz3vbPBe8jvz77XTd4F4w7n9Oqr8ob9wwr/GE8maTI2PPpE5ktwUyFcCGRObGpzonmwfbF+HX0RefB0c3BebCZosmLQXCtUl0iWOigrax1XEUIGn/tD8F3ky9cOyjK8xK+tpaieCJqCl/GWgZcvmY6alZuFnZihN6l2s0a/Bcvm1VPf6Oaj7k/3tgGnDZUZ8COVK2IwlzLvM8g0+jVAOFc64TvHO1o5qDT8LRQmBx7CFhERuw1uC/IIxwTs/Vb1POyG5Crf3NsM2lvZlNhb1pTSZM1syIvF2sRFxYDGQ8gfynHM3M0EzazJ/MRdwVDAAsP/yB3RmtkR4JDjt+S45VbplvHl/a0MYBu+JzExyTcGPtREHU0vVzdhSWvsc8F5hXwKfIV57nWHctRvVG0Haxho12KfWYRMHD0ALSUeEhGWBYf76fF654baf8udvHqva6W5nviaT5kPmUqZ5pi/mFqZJJznoQiqZrT1v7HLn9UF3oDk0er98mX7bQWCD5UZ0yJKKWAtii6mLhIuPy69LlsvdjDvL68tCimGIscaxhN2DjEKygfHBd8CfP46+BPxpek/40/fh92Y3YXd2dun2LXUYdGcziHNrsyKzUbPAdBDz9DLIMcLw1LAXsAGw5zImc/J1c3ZDtuk3KrfKOZc8Fb8owrqF8gjPi1tNPw7rEPITZZYkWOTbh53cn3/f7p/IH79eyV6uHeBdf9yjm+QaaVf0VJlQ0g0NiaoGd4OJgRq+RLs5NykzP687bAMqDWjLaAJngKcyJg3lRSSg5HUk1SZV6Hbqse0Ir7fxmHOo9b43trn+/E5/NMHTxIhG5kh1iS5JsonqCkwLIgv3jLJNNM0jzEnLBMmiCCnHHoZxBZoFHMQYAtkBYP+A/gI8hztHemC5k/kPeIH4NvctdkQ1mbTSNJR0qHTJdRX0sjNEcfLwGG96r0FwpTIEtBy1SHYctj92C/creIZ7Z/4VwV4EbMb6STmLMg1eT/CSmVW82B3aqJxfHageE95onlZevh73XyifHB6eXUKbr9jq1eeSgc+gTJwJ+YcZhFXBTX4aekf2nPLnr9/t0qyC67FqXqkc55QmM+SUJAqkcWV7JzlpKisbrNnuXe+DsS5yj/Tk92C6Mrzyf0PBm4MYxGNFSYZRB2ZIfglSSkHK8QqlijqJaYi9x/+He4bnRleFpQRgAtKBVf/J/q29QXy/u5N7Fvp8OVU4jPeT9qb1nDTRdFO0NPQ0dHZ0qbSa9CSzJvItMabx0bL09AW1hTa1dxE3trgzeW57eX43gR1EFcaiiLpKWwxjjqjRC9PG1llYR5oCm2scNBz9HaleWx7z3ukehB45XO1bvRnsl94VlNMBkJCNzwsqiBEFAkH3fiF6l7cANDMxZm96LYnsFupX6IJnDGXMpSzk2WVSpjZm6+ftaP4qLKvarfUv9vIeNEF2obiLOq48f/4//8XBh4L2g9vFBAZMh2LINAi3CPBI2EikSDxHoodORvqF8gTkQ+6C/8HDgXsAZj+TPoC9UDvEeqI5hPknOI64Uvf8tw42p/XjdZo1ozXFNnK2T3Zrtbp0+zRSdKZ1f7a3eFl6HXtNvHI8+325/u/AnsL2RTKHZglmCuaMOc0YzkuP6VFNU3eVOlbMGHeZPBmymb9ZctkR2TLYyZjCWIkXzJalFL9SJc+dDTdKgYinRmnEPUG4vsj8EfkTtgvzbjDkLw5t8+z4rC0rX+qPKY9oiOfRp5YoE+k7qnUrz213rkHvkXCKMj2z/7YxOJE63/y2vc3/M3/NgOLByUMnhHjFp8b9B7KIGMgvR2dGoEXAhYaFWgUQhSnEpAP5AmrAlb8t/fL9Tf1nvUf9XbyfuyX5C3eeNpm273eFePI5r7nSOZd4qfeeN0j3xHjHuhT7Qvx+/JC87T0l/hq/vsF0AwaFIMaCh/mIY8j2iWVKH0sIzFON3Y+FUXKSU5MkU1KTflNsE5JUJdT7FXyVxhXvVRDUJVKnkW1P4c7UDaRMLko4R4vFDsITv4S9eHtUud14Y/bnNS5zI3Ckbmgsbas3aqiqnKsEq49r+itsKt3qi6rl69FtuO+X8cwz3zU6tZm2GnaHOBt6KfzAf9zCL4OCBAyD14NcA4mEpAXpB18IEEgaRx5Fm4QRQwgC8cLRQ37DAYKoAVOAO/6rPZB9Ozyr/KT8R/v2uuE52TkleF/4dnimOWj6HfpzuoJ65jroOtj7iXzGfnH/7ADaAfoCAILKAyRDlkUHBovIbUlzycsKHsn6SepKZktOjPuOC4+iUHAQeE/gT0JPB08Uj3mPuI/Gz7jOSkzZyx1JxMkHSJnIAwfyRoyFNQKnQDb9qrusulB5BHhv91m2mDWxdDXy2rFQMDsuwa657olvnzCwMVcyOLGHsTVwbPDAcs91SbhAeli7kPwP+9o7u7vGPe5AMkLHRJ2E1MSRRAQEPsPuhNAFoIYDhk1FUsREw02DIwLMAxWCpEFlQEp/An6pvjJ9zH2nvS08v3tUuxO68Pr0uzQ7AnsfOpd6kvpj+yV8CzzqvVn9UD3nPaQ90r5yPxFBM0HJAtnCsEJQAjcB44N+RTEIDYo/CpuJ5EgOR2JHcMlWi9LOQM/ED1VNs8q3COQJEUqHjSCOe038jGNJYgY5w0XCN0IlwzeEOYOSgbj+czq7t5v2NnWctk93r7g+9xs0/nG6b6FvI/BocpA0f7XatdS0+HOMcs2z7XWLeTn7iv20fse+jD4wPZl+e0BEQyCFCUYsxd2FTASVRFHFLQWJhoQHIAanRY+EG4PZhCSEBoQvAqoCrMJ9gOKATH/qv8o/lv6sfXC8jPzX/Ss9H3ytPEO6+3r3vGs8tv1f/J27sDr5ulb6djoU+0e80P3LPtZ96fvvfE18vn2Gf1XA5gM9A7OEpcK7AMFBxsKhRh9JSUxHjUzLoIowh7fHCcjeSvQNrk8QToaLi4hDhSUDKYPmxBIFDMUDg4lBDz24OkP3+rcpeF/5qXpS+aY2vDNY8SAw2rIWdAq2l7c0t33107T7NZb277oWvLb97P5/fh39335YgTEDPwUExggGmkXRRPRFQ0TzByoJaYlFyNxFz0Tmw6jDpYUdBa4GwEbMhEtBSr9Rfpa/ZgDyATdBGAEZgEx+nb1Gval8XzxZfi++Gz5sPk29KPxwO9V7DzpfOz580f1Mfcf9fjseuxj7jTuuO418eTzJvZV95r1lfag+Br80P9HApUE7gUYDc4QoxHaFIQVWBmJHtgcZxfvGMkbhyCEJZYhax2OG5QXvxFkD0UPnw4DDIsJmgS++xP5su745ILkCuOs5rrmWOg35U7cJdqw0vbSrdyf4ffkS+bg49jgwuFh57jvK/jrAggFGQGOAx4DgwZqEAUVIRZjGsMaDBj7FOUQvhbuGREbrxoPE/ATCBNcDloMAA4oEU8SqhCnBywCgP/sArUEdga8C0EDDwMt/TX2XPuQ+DoCjQhkA/n+5vXF7hbxHvOT86T+z/s/+NH14ep979zrbeno7+Lz4fmn+NP2NPKO8fX0OPPT+E0EPQfoBp4ISf4M/uQJxAryEaMX3RbtF5IUPxDeDNMSfxj/F3YbDBmoEasJjAQOAUv/sgNcBHQGqAbB+zvxH+6A6cLmluyD7GzvLPG251vimt2d3ALjy+nW7hnxZfFQ8druyOu27+n2xfutAuAHvgIaA/wCEgEbC9QLUwu7DxcZ+RuZEgIUowuBDLwVFA5hENMUyBETDMsKjAUKApULpwplC3YJsQD2AJoALQUtBL3+Kf9A+zH5Qflg+yT6yfqA/ZT4cvvo+E3zEfXj9Qn4G/Vk9+f31/RK+P/1+fEe8TPzSfr4//v/G/5I94L+2QNm91kAjf4U/YgJCgJMB4gLIg+kEv0Jrg5ECkgI/Q+7DtISWhW+EpILuAfnB98BEwOqBEgGdgctA3kAYvUs87zx5uoQ9Yn45faQ9vHvj+0m7Tnsqusf7gj0hffr9mXy9fBF9EL0X/wfANX6yQD3/+7/LATBAsoCxAW1DKsJ/QYZCNAHVAtND9EPVgo9DFoOfgyvCc4H9waJBkcLOQbcB4YMcwiTA9H6B/3Q/B36gP0yAJkDlwOM/hf1yvQ69q71Zfks+QX3XfaS9lLzs/Ny8aLwdfcC9+/8IgNsAYT8+vNb8FjwP/0yCQ4HdwcFAr34l/co+Ez9QgjzE2IWugt5CtEFN/9zCs4GSApqEuULkxHGClAGPAbCA7IKOQd3CuMIIQeyBzj9i/2r/vYAA/0u+xb7hvQn+TrvM+8a/PD3Dvhm8jntUu/y7qLxyvM4/XUAiPg++Kr2FvfK+xcB6QQpCGYQPQmNBEEFa/0QBhQN5w2QDwkPJxEEDqMKggXACT8R6w8UD/wF3AH0A9ICeQKWAHcDCARMAVMBTvma8975r/q396b5xvpq9Pzu6vAm7CL12wBK9hL1nPO78J3yjfGk+AD35Pjy/kv2MfXY9h/yWvhrAMf/mgGBAnkERgGc/PsAhwLzDWkSiAmiB2YFigZCB9YJrw3TD9kRcgmGA1YF4AeRDT8OtwpbCvMHGQUfAo4BvQciBTMCFQNE/iAC2f4H+K/6u/hm+2D9Xfo891n3ZvOB7wD3EfiJ/X0A8P3v/Qv48vax8rr47wLHAccDjAGYAZgBw/+yAa8AjwmJDVkJng0FCjcHdwOSAYIHbAisDoEMDwnYBvL/qgHo/E7+HwMPAaQDNv5X+ZX4a/ZL+pr3svbq+bz4RPoD9FLwpPIS9ov4gvKO9OL3m/d9+FT0xfMz99/6t/q4+ZP8hv1C/W30F/YVAi4DQAhTAcj+5QRmAVoDAQExCTEPNgzACS8CNwYRCSYOhxIXDxcQCwyCCbEL2gy8DzsNBgzvDEcJkwykDGEGHAZfB3UBXv4EAEH7IP04/f74z/l8+kX6SPib99v2GPmh+BT4sPq49uL2f/f39AP5avqY/IP+P/xEAS4Az/45BcQChANPCPUFlQfwCdsFaQNoApIGFQq+B8wIdQcpBiUEIgFm/An7AwMLASj/PAA2+iT6Hvtq9634WPZb9wn6BfUi+nbzZe/n9gH2pfvk+Pvxc/L+80v1yfWE9bf2Avye/CH6mfpZ/TUALf0t+3b91f7WBGsFF/+pAKcEdAAgBTcKRQheD7oLzQRSALYCuAqhCGsKtguTCoENPAzhBKMGNAx5C/EJmwbdBDgH3gc+A3f/W/9UBUQFQvxg/Hv+Tv7n/6r8zfjx/nIBB/gP+HD5ifq1/cX6kPlE9+f+gAHI/eL+Wfud+x0BSwZcA9QF/wT8/nEAhv7hAhMLYAzrC+UFAP+a/qb9xQJVBwsJNgeK/ir+RP1u/A3+dPxc/wv/K/19+rX3Avwc+jP47fhV+s/3AfeO+EHydPUb9m/2F/h++zT7//g8AOX2r/VE92zyhPl++7z7ovjY+GT8kftIAvkBOwFlBnACMf0e/4gFfgSXB8EGiQLvB4cGgASHBOQGrAkZC2QLRweEBD4FLQeyB5gGWAgICPYEBwUEAST9S/8nA9ICtQPRA8v/8gCwAAr7lPyP/xP9mf6X/TUBhf5b+Lf7xPnP/PH+L/8OAg0D6AAK/9v/ov9sAjUBcAMEBqQB/gORAhMD+gWkBWkM2Ag8BZUHKAOzAvYGEQT6AawIugcyBRsE5gO/Ah8BeALW+pP7yQEp+DT0UPiO9cP2P/i69lz2w/de95PytvJM89fyz/Rn9qH0lfEd9Pr1BfUC+WX3i/fJ/V/75fpF+0/7Xf4cA3oBZv1gAgwD7gYhCKEDuwaaB04Lawq9BmUJZAdTCUwJQQffCQ4I6AbPCTIKJwY+BFcDmAPgA4EEnQKLAL4DgwCP/qT8+frW/bX77fyh/Gb7jPqg9yT5Svne/WX+Jvl3/v7/3fvC/BP7VPuG/wAAFwFFAYgFKQV8A3oHHQJlB8QJmAcCCeEFzwfSAAcDRwSxBK8LKQhSCfoDKgMBA+QAlQItATMFRwGd/678bfskAJn9yviS9wX9c/yb+xH4YfcI9mXyK/dj9NL78Ps39QD5b/Tt9z37wfiR+Xr5Hvnt9234cPsP/KX8m/8o/Uz8bfyK/d4BrwIzBEQCNgBFA8YC3AC6By8KKQaYB9UF/QbPB5MH8QjXBd8JpAndCKALpQP3AcgEmQRFBCoCXgEqAl4FY/vD8Hv4+/6EAaABMwCS/QL+V//W9Yr2M/xp/NACW//M+Vz9E/8FAR0ACgH8AMT/XwhXB6ECEQP3/7kCpgWuBMQDHAQuBWQGnwR8Ac4BkQN+BtAErAI5/qL+VgTt/nr9Xf9yAA4CxADc+7b5jACd/dn5Gfxx/Xr/NQAHAJn6nvys+4X1FPwr/Tz6fvpj/sICLfvB+Ij4Svj0AA/+Gvun/BH/9wCI+gH8ovcT+6UCWP3BAx0AXAA1BTf/rf2w+wQEmAX7BO0F6gKWCeAG0wUOB3QHAwheBsYICQOQBQUFD/9LA5cDEwF2AHAHRAXnACj+Wves/vIB+wAO/mf7iP6//MP7uvYM9/v+2ABW/837DfrN/PcANADu+Jr2Tf+dAy4FUwSe/jAB5AC7/lD8Yv30BIUH6QgjArr+jAECA6UC0/35AAcCkQW1BtP/ugAjANUA4gA5At4CoAA4BF0CYv/u+2/7E//5/w4C3PyR+2n/6fy0/Kf7ZvsP/lb9Jfyc+pD5vPpg+rT6E/1L/hz/ZwHtABL8bvuV/e398v50//H9Y/6tAmwBFv0b/jgAFAQYCRAH7gDLAvAGpQPQ/0f+lv6tA5gFGgIEBOIHAwc4AVr9GP7b/rwFhAaFAt8F9AJBAKn/b/xZ/Jb+ngKiAcEAKwIm/t38hv3z+jf7Fv/UAWgAvABoAGz6C/y+/Tb8TgClACMBQ/+//a7/O/0QACYAjv4EAu//D/7Q/jP/AgFcAcX+Wf90Av4Cof96/UUBjwITAwAC8f9MAiwDJwJi/VD+1gLPA+UEAgE+/1b9Yvxq/AH6hvxh/aL+9vyW+Yn7cvtS/P/8bv1W/qX7efrw+sH6c/xf+1P6if9vAccBtQFLANUBwP8tAJsBbwKMBngERwTHBAUB+QE/Ar8BOQJuAtYF7QYLBsADAAB7AZsB4f97AAMCtgZVCJwE+ADI/yoBvwCJ/uD8if7ZBKAG/wPCAFT9tfw4+6T6gvt6/l4C9gAU/yH9hfsB/AL7oftc/an+ZgCw//D98fxU/Gn7cvr4+qr9ZAHHBJMGsgR/AoQA2P/SAPEA4AHrAugEsgUNBdMDjwK3AnUBVgFTAwEFxAYaBooCDQB//Lj6Wvwj/YH+7P7K/xz/9Pv8+dD3Z/e4+OX5W/pQ+6/8UfuF+er26PWP+Gv6JP50AGABxQFc/1b+cf03/+MB8gQCCG8HuwdhBpMErwM6AtoCmQPLBd8Hcwf8BjoEtAAA/5X+dP8EAfICuANMA5YBt/5i/TD+b/9WAYMB/wHNA1EDdQLt/6r+Yv8mALoB9wKwA4IE7ATPAl8BL/96/hT/Rv4n/wf/2f78/qD/GP/W/Wr9sP0U/w4AwAB0AMoA9QBVAPj9lv1e/6kA7QJGAm8COgMMA/cCuwEWAY0BTgJ4AioD4QJoAucB6v93/1T/VP/4/wT/qf40/uP8/P0w/gb9Uv2t/MP8U/wU++P6tvrO+7f7D/vh+lX7w/vc+4r8+Px//hr/iP99/4H/r/9z/q7+pv6LAFwChQMqBP8CagPCAQ0CDAIMAZ0BGwJvBGsEvAPGAS4AQwAUAGQAw/9oAKcBcgHSADf/Ff5A/jv+P/8K/1oAjwMvBNEDNAMdAoIBpwFzAdYBjwMeBmkG5gU2BeMDMgQKBG4DpANUBHME9QSBBMsCRwEKAIP/iv/iAMkBLAL+AskCoQFGAGn/TP/4/+kALwENAXQBdgFYAK7/hf7C/Rr+Mf42/m3+7f3T/Pz7//rF+Zb3jfZa9Z/0SvTp8ljyVvGf8Gbvmu627g7vhe9h74fvSO+97k3upe0u7tjugvCT8CvvGPCQ7qjuMfB176Pslel26BPoo+i851fmOuZG6ZHrAuxI7UfvTvPA9VP3ZPqg/m4FygsmD5sRExWHGgMfLSKZJdMp/i2EMYQzNTPaM2s0MDSYMiYxHTBXL+0u4yprJrMhYx3JGaEUSRAmDHQJNAcwBEAAi/u89yL0ufF/7zzute5z74TvZ+3E6WXng+j86uTrEO1M7ozvf/GE8JDuy+1A72HxKPJh8xP2evmp+1v7KPi59g74UvpL+rf5kPta/TL/EP48+1L6tvms+E31T/IT80nzj/Ja7q3oIeYy5nvnveUC5WXmw+hJ6RLmKuPk3zffQd893v3ftOK15FnhR90u2/TZItwU3dzgmeVn7GHzPvWn98D6dgBiBekKBxECGWokkCzzMaE00DitPiNExEgCTXJSxlYZWnVZylYEVglVxFIJT5RL5kecRBNASjhVMKkoRSN4HYgWWBD6CeME8v9t+iL0T/AF7hbs/+oH6RbnhuUx5ePideBX3vbbHNtG2ofb49tD3DzdV90I3gLewt4z3wPgSuFx4/PmRuqv7krxqvNg9TD2effF+CL7/Po2+1T7S/q8+Kv2/vQk86zyyPHu8Lruiuxj6Z/mLOVm4lXiiOGo4dXiVeNa5BflWOf154voOek+50fnjeh06gns8uml5lPj4uLs4WjfzN8K4/Xp0O+E86X1P/lfAQYI3QyvEhobzCbnMCU3yjqKQDhKulHoVURYQFzbYcNl82XrYxdj22LgYbJa4FJQTVdH/0DdNd4rkSOpHZwYjQ8nCPwBuP47+z31YvBy7F3rbuni5qvkJeR85Y3l3+RJ4ojf/tzX2nDXXNSt0STPdc5AzVXOss5Lz9DQWdK11XbYNtw/333igefk64Dv3fFX9Hn31vng+4v8lP1eAFACcwKyAAP/av33+kb4d/Va843ygvDr7evqNedZ5TLk4eN940LkAeYU6GfrFe/F8qL2gfue/cz9y/wY/AD93v6mAfH+yPj+8dXs8Om05I7gGt8S45Pr2PGX9lv71ALnC3QS4ReFHkIoLDTSPU1DiEjpT39X51v7XOpdgl/dYPlgF13sV4hV3lIPTvNFkz4lOH8whScdG2EPbAYWAML4JfKz7Vfq2OiW5VXhbty42fHXptVV1THWRNgw2n7bKdqw15PVqNGDzVTJWMb2xDfDKsMOxHjGgcn+ywTQVtR12r7hIOhy7Q30qfpiAK4FoggcC2UO1hOhFs0WtRcFF48V5xJ5DrIIlwW4BQ8DB/8G/vv9Jvyq+DH0DfAF7sHtmuyp623u2PKP9n36if3j/9ACLAV8Bm0HtwjsCLIH4weCCK8IxQXE+/ntn+Pl3YLVD811ymHO0NUU3MbgVuVD8DX8XAF+BPcKlxYFI8oufjhqQWdNvFdKXDVc61tgW9RY91SfUGRNXEuPSDdCLzs/NV8uYiR1GAEOqQOo+uLyJewE50Pjr+Bm3F7Zjtfy1W/Un9Ol1JnW4NlD3NLdgN8J4SbhYN+r3SLcFNpo2P/ULdKm0dbSctOH01LWZtls36vmF+1q9HT94wU8DGMS8BesGq8aiRp/GbgYRxlbFzYRuA0NDLIGpgB+/ET4avQm867xm+7f7X7uj+vV6RHr8+qD6uXsSPG99Aj5vv0oAbQFcQqmDJ0N1RBtFAsV9BWUFmAVcRLdDxQPgQwyBk32qeXG3AjW3ctFwdnCSs0k2WzhQem49p8GUxB/D80PEhgaIUElfie+LQc6wUY2Th5RglZ5W4VY+k0/QxY8dDTyK5QiAh6gHgofpRlvEYILhAPM9z7pAN5i2L3Wo9VU1KjX0d4U5Tzm7+P14hHksOXL5HXkYuie7qvzffTD9UH3d/cO9H/saOZK4vTfFN3A26Dd1+K/6iLwj/Sr/KcEewneDawSRBcGG38eHx5eHC0cZRg8EqkMHQdh/u71uvGd7f3q1+kR5zHl/ebf52jjIOH744flRueG68DvVPSu+hMA1QJCCa0Q/BNBF2gbpx2/HDEdtBupGMsXehZoFDcRTBHvD2ILsgDk7GTaQM08w2q0/6nVrMi30MSmzlDbJ+zK/T8GvwVoB14MJBIwFA8Xbh9bLsE+K0j5TgNVolhUVQBLTUDbNfgtMiUYHLsXfxjIHIAdlxz5GW8UcQxoATD3su/R7NrqCeu471P1O/kK+577o/mA+N339fVo9nD6D/9lAbkCmgLV/6P79vV8707qc+Y044DgkODP4H3gZeJn5S3rDPP2+4wDQQvaEoQVjBV+FEwS5w7JC60GHADI+yj3DvES6znnvuLM3tnc+NkD1tPSctGgzsnN79CF1bDdHurf9gICrQ1lGKkfjSQZJ6ImDSSDILUceRnEGGMYGRilGAIaqBuaGnIXvxIMD4kGJvPT2gvGRLkFrCKe9Zf3ncet27zpyVjZWe3N/iYFRwVFCBkPRhQMF8sasiSdNfVEK1AkWw9mGWv5ZXNaJk3lQNgzRSV6G7wZih27ISMk8CW6JWYiQBkqCxj9XfJf6YjgT91X4eToGvD69cf6h/9lAqwAUfzo+dD5E/h49un2v/gb+rD5gPZU8abtFuli4UbZsNQU07XSWdSW2cnhyutM9dr7KgKSCIoKngYzBJ0C8/46+7H3wfS08iXyNO/W61zrbepo56TjU+ED36ndZ96t3rDiOeui9J38NgZmER0ZrB6dIKQgCiBpHskaRxYOFVgVRhY7FwYZyRgHFxsUFQ5WCK8CP/0l937zVe484LvM6L0JtNqnKJ3gmEegtLDlwYnQfePX/BoQuBclGhMfayXeJ1MkayLCKjY8ykkuUnNejmzpc2ptJV/1TmpABy5VFnkFUwM+C50RYRjxIV4tkDQoMFoiCBO8BSD1J+Ng2ZjZ8d535hrwmPu6BmsOWw+oDQQMOwbN++PwCOnn4vzdXtpG2NbauN2T2xLYkti+2I/UvNHv0YzWTN0s5IXp7/Cw+7z+6fxy/Q/+9vlm9vb05fIs9ID2tPQo8h704vOY71rs1ukC54TmCejd57frgfZr/4UGzxCdG6kiqyeCKXsl2iLaIDAbRxRpEv4SexJ9FK4URRI0Ec0PvQh+AfD+8/xU+9L8cP8dAhwH4gbp98rhdNHqwrux5qCyl5yd0K/6wCjN0OEB/8sUqRs1HV0fTyF3H7EVFA77EwUkwy8UOShJ/1t6Z/xkqViCSa08CyyUFc4FfwXLDcEVUR4aKZA1eDvXMwgi2hBkAdLtDNpi0FHSKdkM48rwCAJ6Ejsd6B0AG6sXFA/q/hzsAuDK2T7WfNQF11DfU+ks7lDulO727FvktNhW0NDNpc5e0ALVZN0K60z1ifop/2gEpQYnBHECEf81/LD5oPMU69zmTOYS4czcwOAC6SLxnvrjBewOsxfCHc0cyRuCHWEe9RlMFv4UJRUQFykWKRT9FJYaiBwOGl8XLRS1ECUMQgXG/DD6JvyG/Zj+IAIgBoQIlAbg+Ebhj8qsulupnJV0iDGKFpunsHzCbNXG8YUO0xxtH8EgwiFIH14Xzw7CDT8ZTSiuNNNF1lu6bCRw2WlRXbBMKDiHHkYIQ/8UACYCWwe6Eyoj0S3DLaAi5BWMCs76geaS2m7c6OOB7cX4bQb2FAIhoCOLH9cbqRa5C3X9GvLD6VblxONc46nk5+eW653pr+Td31bYxNBfyvjHyskG0Rbb2ORb8or//AhvDfIP0Q/RDLwK8wQW/jL6b/h29GHw1fDB8KjxefMm8yn0U/lK/tn+TwFKBm8ItQjHCAcIMggCChgJQgjaDKcSphReFh4aTRukGDIT7AvXBZYBM/tv81PwcvHE8hTzo/Tw9wf7H/30+orxVuAMzYO9oq+aoXqW/pXmorO17sZ42Fjw0wn4GdkfkSMlKNcpkyVGHboafCPgL3U5cEQ6VKBk8mymaV1fC1T/RpgyLxzHDesIRwiCCrYR+Rx/KbovMCzrJNsc8A4F+5zqMORu5JvmNOpe9B0F2BJlF3cViBPAD6EETPKQ35jTiMwlxSbANsM3zaPXDN7o4g7o9Osd5xrbVdKOzlLNU8zOz3vaPO2XAJILlhQpH2IkXh6HEyAJB//99Srrud+D3D/iTOf46s/yxvxRAwEG2QS4AZoAnf7f+Yj5eQDOCJMPvBakHc0hUyOzH1UYcBETC+oCwvot96P1o/V69Vn04/QP9/b4zvez9935EPs0+976X/b96FXXYMgNvcGwpqMUnnylZbbaxufVIevXBOkZ5yVSLXoz8zYRNf4s3CaFKYkx4zhFQj9SdGTocVl1z29mZt1YZEMgKiQWBwpmAz4B2wQsDlIbeSRmJCEgPBqDD1H+GewH3obWVNWk14Dfje0p/WIJ3BEEFsQUQQ22/n7tOt6Q0gbJLcMRxajNz9f/31Xmzer86TTjg9rJ0gPOn8uRzafV+eMv9hwFOBEhHNMhGiHZGsAQ+gR8+f/uTuU/4k3mkuv38cf6twTCCzwOkgo1A3H9tveb8Fns0O5O9qsAKwyXFuQfmybCJgMgFBesDGD/JvKq53/hPOAR47znBO7h9UH8VP+KAPAA/v55+0r2nPLf8eTsCuAy0s/KqcQoupiv76yRtCTC9c7a3UX2UBJVKJY2eUGYSXRMREeFO48zbDToNkc3vD0kTfJdVmjlaPhiYVvTTvs46h+RDH0AT/mO93f84QfWFqEgRSP9IwIhKRYBBBDxiuJ82XLUJtNB2njpgPo7CK8RixdIGD8R+gGS74zgd9MMyG/CosO8y5LVed2u44Pn4Ohx5ArdqdaO0QvRo9Pw2ino4PcVB3wTVB0bImEh3BobD4YBq/Sy6D3fYt0t4THom/KC/VcHXA+HEr0NlAVx/pL1Ue236VfrXvE7/P0INBK3GV8eHxziFLQJR/t+7YzinNsN2ZXcp+NF6+j0SP7mBP8HmAjcBfIAt/uL+Jr31PIy6OLcF9gu1hfOosJ2vXzCBc4Q197gRPMUDD4jRDFNPFRHH04US5o/9DbvNH411DODNGo+Lk62WlFdJlouV8RPXUDdK1UZow0IBsIA6f+dBtMRkRnUGygevR8iGgMMHPqg7Jnkgd4d2VXZz+Mq80L/fgjCEU8XEBV6CUD6zezL4CDTj8WdwH7EQssw0VTVH9l03fncjdbQz8PNl80qztLTiN5T758Azg2yFDwbMSEZHF0RrgXy+cDvOekU5GDjlOwF963+NQcAED4SDQ/fCEf9DvTk7snoouWw6g31A/+BCckQHRMdFCIQNgSl9WLqFeBx2cjYJNqf33nrhPdv/yII6g40EBgPjgu2BZUCbP/d8TPistqB2EDUH8ysxrPIw9Qy3+fkyvDMA/8WZiMaLik5YkMbSbBDbj05PuY/sz1RO/0/8kkaVL9YLFisWdFY/U1UPIctnyH8FMoIUP8A/6AGZA3RDgASahnWG7AW9ws6ALv2hO2/4o3bQN4F5G7otO9Z+p4E0Qi4BJ/7cfNT6irbasydxEjBnsC1wvrGDc9x2JDcLtsc20TewNxX2YfbcuFv7DH5egOCDXIZNyPBI2ggbxubES0GgPqA72XpX+jx5yvpS/Cb+gwCNwbYBosDbv8t+x/0X+x26TzqKe5w9QH+VgQWCEMLBwo9BWD9hPIy6ePjNuFU3w7iKekH8un7BgXdC5oQThPoEb4OUQswA3r0Cuap3d7XjdCOyY7Ic9DF3MrmKvA6/wcRWh5RJx0v/zZNPBk8TDhwN+Y6qzraNuI3kj/MRzdL4Uo3TMFPGE9MRZI4DTLtLIIkLxrrE8oUehbwE8YN6AvcDMkIWf/39VbwZevl5Gre5N234gfn5el27sL1q/uh+/X0IO5X6DTfSNNPyvXFsMOsxaPJY89K2bzhzeTW5dLoUuq/6fXpNOoK7iz3HAAgBx8Q4RghHPwbKhnHEHAGM/x777TkfeBu30bgT+b87gD3fwDAByoIvAaTBAH+CfaY8Lrsauy/8Xv3EP2dBVcNsQ8RD+sK8gAy9lHrgd/r157WiNe+26rlOvEq/CcHGA5wD9YQuhCtCkn9EO7x4S3autR3zEbJoM+f2/Dlke22+J4HXhYZHpwitym6MVw1UzNnMdIy1jZHOCY49zyMRf9MLFCTUOJR3VE7TBxBMzfNMLUpjyDNF+MTlhNWEjwMcwaeBYsEgACN+ZrzK/B37bTpTeZr51rqd+zC7jHyJ/bX9wL1LO6L6PTjqtwo1WvQoM820LnRItW32fTfouRR5hvn/uhm6x7sfewX7/j0JvzjAU8Hdw3IEikVqxIpDQsHCAD59jbug+lW6Bjq1+1J8xD6qgGvBrAGWgTj/2v6cfNt7FPoCugB7IPwSvYS/fgBAwVPBL7/bvie8ILotOBM3KLazduo4CToVPBD+jkErwo4DrMPBA9sDQgKR//T8bvp8eUV4C/ZHdZg2FPizetq8Kz3ZQU0EZoWSRxPIiUppS9KMKovxzRsO8Q9hj48QfxEOkmKStZGLUQzQwc/GTeQMEUs5CeLJMIfjRyzHc4c5BbNEA4NkghrAh77c/XU89LzxPEV8LvxYvM89OP00/St9c71PvLM7I7odOTQ3TTYGNXZ06HUQdUk12bb0N9/4LDeft7w3o3fy98Q4bbmNu6Q9YT8bATEDL4SYhR9EXoPXwzgBOn7SfUO8HnseewD7OjshvGD9S32HPjD+d/3ovbq9Abx1e8H8SPwM/Au8yr1QvZF+Z35hvbp83rw7Oo25x/msOM35DvojOsU8Sv5VP7bAOQEFwduB7AJUgYI/Tv3BfOE617kgODz3nzk7u1R9Pf8yQsAGP8d6SPUJ9MqiS8vMHktPzAYNhc4ezlOPOg9vEDvQ5JCU0FeQfA8TDX/L68qCyTdH6IbHhjoGNIYTBRlELwNtAgFA9X9TfjM9dT1f/Mq8v70yfd/+AD5IfnZ+G75V/bG77Hr3uiO42neTNsj2QXZv9iP13nYS9y53SrcCd3g3jXhlOQJ54XqtfGP+Cz7O/4lAr8DYQRVA1oBcAAFAPD8yfkM+dr2YvQh8tfvsO978UHxgvCV8rDzevPQ8w/zHPLb8rTyxfEk8131FfZP9nX2+fUP9r31YvO+8WTywvKS8nLy+PLE9Dr3NPmY+lb9TQB5AmwBIv0b+eT0dO9d6S/llOSM54jsG/Ei+CYEkhBRGhwihCjQLRAzDTVwM0czjTSiNR43mDkMPOE/cUMHRE9DTUJSP0g5zzI0LBcmmiFTHWEZdBc1FqkT4hALDaYH4QH2+zT2EfIK71TrmOkf69vtbvA18uTyV/QC99X1QfE77V/pEuXa4KTcg9kD2oXbNtzi3sfiJ+Y36DDpr+k563ftzO0c7mbwJPQT9wb5z/rd/Mr/iAGWAWYBqQGDATYA5P0b+zT5I/dY9H3yqfEK8Y7wg/AD8S3zs/VP9zX5k/uz/ZX+j/6S/SP8vPpN+GL26vUJ9uP1t/X/9eT2G/ik9yb3z/b79ZD1tPS78wfzmvGZ7LfnLOak49/fJ91D3QXhsedT7UDyNfykCNISNxsZIx0pAC69MYgxozFRNGc17jSZNqA6lj6ZQZBC5EGBQkxCtz1jN4ky0S1IKFUi/hw2GcUVehFHDHAJdQcdAxX9TPbi8N/sKulT5SLk2eZW6pzuxvLe9dj4RPmL9uTy5++U62zmBuM54WfhlOKk46DkoOeR6onrMuxW7cbuw+928OnvvfCz83X1YvYK+Lr5I/vg++z6Afoz+nv5B/hw90P3FvfC9uP1kvSp9PHzDvIw8g7zofNF9I30LPSU9d/3Kvnp+sD8QP7kAHMEggVMBYgG5wbLBtEGggQzAYL/kP14+pj5z/gY90j3Qvcd9rT1jfS47njo7uR94DjcVdr02QfdJ+Wc7NjyrvzVB3oQqxjUH8wjzSeJKlQoJSbIJlYmYyVSJ34r2zCgN3Y7UzxLPr4+MTqQM60tPCebIW0c8xboE8ISHhBkCyQIYQVMAbz8W/Zz8InteOuM6BroyOrY7QLytPVK+Kn7Ov0d+n31p/Jq72vrW+jp5eTliegJ6i/qRuzP7g/vHe/v78XwKPKQ84D0R/fi+7f+sf+kAEgB3v/2/M75Cvbo8rLw5O7o7hnxHfN89ET3VvoC/MP8XvzS+lL53/dS9ADxU+8d7p3txO2m7o/wrPRJ+G76aP1UAYwEswd2CiULTgwmDYQLeAklCLQF0ALuAGn+ofya/OT6w/j0+Cj58Pcj9lfzc/Cl743tXuna57HpsOzF8EH19PkHAgULHBAPE1IWoheDFwAXuhRsE3EV3BcRGmgf3yX5Kh4wUDRRNXM1WDPGLLMlCyBgGs0UWRHnDqYN3A7xDrsMVAtECSUFPAHj/WP6Svgv90L18vR49tz2/fbb9333SfcV+IP3XPbK9W303PHw7/3tR+ul6czoWOjX6VztAvHQ9Jr5pv2zADUEUgaqBroGAwYFBP0BYwDe/ZD7K/r6+MH4Nfmb+Xf6Ffwc/WH8uPpU+PL02PBv7HLo6uTS4bnfrd7M3jDfEuBd4gLl0edx6nLsSe6X8KvyvfPo9Hn28fet+ST7mftP/Cz98/uq+qL6LftO/UkAMQRrCVUQ8xaeG2kfcCK2JLwl2CQ0I9AiZyJXIeUgsCFiI+QkciXUJcAnEimNKF8nzyXDI0AhIh6YGXkVFxLMDa0J3wUZAmr+HPrk9KDvfeoq477aR9MSzFPGr8IKwF3AlcSVyT/PVNb23IriQ+is64LsiO6772/uhe4L8YXzO/hl/yMGhQ79GBYhNiYGK6IsnSodKAUkTh5KGi0Y5BXxFQ0ZARuEHOMebR9CHm0cxBh2E+4ORQpZBG4Avv4k/ej8K/6g/xECVQQEBFwB+v11+b/zIO1B5YDelNq22BDYatmb3KngiOUT6mPtCvBj8fjwrvAl8WLxb/Gw8fHxy/L482j0VPSN9Lb0e/QO9eb1gfZI91/4oPni+jT86/yN/WL+QP9pAJ4B3QJyBJkGMgmACygNhA6YD6sQXhHIETASfxLBEq0SVxKzEfEQ5w+YDl0NtwukCWUHiQTAAZr++Pq+98v0WfK18K7wgvFG8xH2L/gu+qz8Tv4M/6b/nv90/30ASAIxBNYGoQn3C/0OERLsEqsSSBIOEbgPVQ6wDDQLpwpQCrgJ1wmiCegITQhIBxMG8gS7AyQC1QC+/0v+V/2//N77zfvr+6v7Nvwg/d79cf7J/l/+TP7r/RX8S/oq+QL43fZw9uv17vWb9r/2fPaY9nv24vVz9bH0RfRV9C30RPOG8mHy5PFN8ZLwnu8j71vv4u9+8BnxovEG8pTyPPPO8zf0d/Vg9y35sPs0/qAAnwOgBtYI0gqEDHMNbQ5TD64PPRBmEV0SwhOoFTIXNxi3GHwYkhdmFjsUSBF+DuYLhAlkB3sFuQOTApIBEgCs/lX9rfv/+XX41Pag9Qb12/RM9Yb2A/iQ+Z/7qP2d/2wByQKcA3EEBAWqBEgEOgTUA6ADrwOSA04ERQXKBRwGdwa5BpQGJAZPBTkEOAM6AhQBWwC0/9T+T/7a/Wj9WP1I/Qv9Of3W/UX+r/4r/2T/pv/u/47/G//o/nL+4/1r/f38XvzY+yb7afoU+if5YPeP9ebzJvKM8Dfv0O397N7ssuzL7FPtWe1e7d/t2+317YXuJO+475rwx/EP89708vbc+Nn68Pyq/mEAmwKmBGQGjAiUCqQM7A61ENMRDRNAFMEUrhWqFgMXPxjTGf8aXxwsHTkdBh2ZHF8brRnwF9IVqBOHEX8Puw3vCw4KBAjSBZ0DJgFc/oH74Pim9sX0C/Ps8Uzx0/CB8FPwefC78N3w7PD18CDxQvFA8WHxzPGQ8ljzRfQn9UT2WPeG94j3Ufe19jP2vPVr9e71Evc8+Jj62f3AAL4DKwbCBzwJLAoBCl8J1QhJCOsH8wduCIUJKwvYDCsOpQ/iEPUQSBB2DuILbgmdBicDHgD8/QH8oPqx+Qf5x/hX+GD37vW49FLzT/Gz743u4u3i7fXtLu5e7yjxqPL48zb1dfba9+n4dPlv+vL7hP0c/7sArgJ3BO0FMAfrB7oIiAnRCRQKgAr1Cm8L5AtbDM8MKw2LDZ4NsQ0GDgEOEQ4xDiYO0g09DXIMNQsCCmQISAZ6BMcCFQHk//T+/P0x/WD8Ufss+v/4kvc/9mT1tvQ99Kr0j/Wh9hb4PPlr+qP7bvwc/a/9Jv6s/lX/FwAiAVMCzQNoBY0GmwdrCMMI5gjRCFMItAc4B6YGVgY7BjoGbQapBo0GOgb4BW0FtwSsAygCswBi//n9rPyI+7H6E/ps+cr4DPgs9/71ofQj87bxhvB077juZO5J7lTuju4G797vyfDO8STzrfSK9nn4evpJ/NP9Jf/u/yUBSwIwA3QEbAVvBpoHmgihCccKrguHDHsNRw4MD6kP6w+5Dz0P0g5BDoYNFQ2dDCAMwAs7C6QK+wlgCa8IswezBrgF4wRQBMQDIgNaAoQBjACI/yH+hfxV+wj6pfiB97L2L/aZ9dH0+fNy8xjza/Ks8VHxdfHa8aLynvPK9Jr2ffg5+ur7of3r/uL/xgDSAO4AMAHGALAAEAGCAUgCTgM5BC0FKQaqBucG+AbxBs0GtgYKB4gHPQgnCQ8K4wqfC9ALbguPCi8JywduBgYF2wORA84DdQSVBYAGfgfCBwQHvQW9A4gBmv6K+0T5Rff/9Xr1hvUh9hH3AviF+Ab5S/nt+FH4Tfcm9j/1k/Tz84nz4/Od9Ij1l/av97f4bPnf+eT5A/pU+nn65fqb+5L8t/2//rb/kABoARYCbgKxAuYCHgNOA4wD2gMsBJgE9gR/BQ4GdwbsBjkHZAeAB2cHEwe/BocG8wVJBf0EWgS1Ay4DeQL1AXsBcQF0AaABMwKbAi8DjAO/A7gDWgPWAlYC7gFfAYUBJgLtAgQECAX9BcoGOgcQB6kG4AXSBNkD8QJSAhECIgL/AeQB9QHYAYEB6QAUACX/OP5J/W38xPuA+0H7+Poj+0P7Kvvn+oL6WPo4+gX68/kz+qb6QfuN+577V/vc+hv6xviv94j2ifX49On0W/U29nL3qPjv+QX77vuB/Jj8ifwo/Hv79PqM+mr66fq5+wb9yP50AA8CjgOIBEgFowWuBQ0GgAYZB9QH7whCClsLUAzfDBsN+QwpDCALwwnJCDAIjweSB8gHWQgxCawJ2QnRCTsJOwjJBvQE8AIEAUr/tP2j/BX87/u9+6T7tvuY+zL7ivrh+Rv5Ufi29wn3TfYh9jz2Ovaq9mX3SPgm+RX6+Pqa+2j8Hf1q/a798v0n/nj+xf4q/6n/QQD3AKIBGQJeApoCowJ8AkQCCwL4AQYCOQJTAmwCmAKiAsICyQKMAiYCpQETAXQAvf/N/i7+8P3W/en9Rv7w/nf/wP+T/xv/MP7+/Jz7/PnM+P/3o/e690v4Xvma+rD7wfyD/fb9cf6G/lj+P/4S/gP+KP6B/lH/NwA7AT0CMAP6A1sEjgRqBDgEHwTwAwIEUASsBCAFZwXgBS8GTAZqBjwGDgbABWsFGwWkBEwE9ANYA9sCSgLgAacBcgG/AQACKAKOAqIChQJWAu8BegEdAcQAOQD1/6D/Lv/n/l/+4P2p/WX9Af3A/Kv8Wvwb/Bn8B/wv/G38mfzJ/PH8IP1K/Vn9b/1o/Vb9cf11/Zn94P0j/or+2v4p/3j/rP/H/8r/1f/F/+D/EgAsAGwArwDmAD4BkAGkAYkBVwEXAZoAMQAVAAcAKABRALcAYQH4AXYCgwKHAm0C0wFTAXEAcv/5/jn+uf3U/ef9Yf7+/nD/3P8NABkABgD7/8z/0v8gAE4AsgAiAWsBvwH4AQIC5QHiAesByQHTAcUBogGyAYMBWgEoAdkAngBcAAcAsf+B/zn/1/5L/r39Hv2t/Ir8V/xn/J38zfwN/V/9of3b/Sf+Xf6K/rv+1P6b/kP+5f1y/Vv9jP3i/dj+6//QANIBmAIVA10DSAO2Ah4CbAHHAGwALgA9AIoAFAGsAUkCzAI3A2kDbgM8AwcDDQPaAtEC4QL3AjcDhQOZA7QD1wOnA34DLQPQAm0CyAEXAVwAvP8i/4z+Lv7D/X79Yv00/T/9Hv3n/OD8lfxJ/Cj8Bfzc+9371vu++8L7pvuR+0T7Cfv6+uf6EPtb+/z74vzH/Zf+ZP8hAJQA/AA5AUoBXwFgAWkBWgF3AbYB6gE7ApEC5gI6A7kDOwR3BKIEpgSdBKUEbwQdBKoDLgO0Ai4CwAFjATUBHQEHAQsB4ACiAGcA6P+Z/17/BP/j/sv+uP7C/sz+2v71/gP/DP/5/sn+ov51/k3+RP5B/lL+c/5+/pb+ov6n/p7+g/6I/pb+rf7f/g3/Kv9K/0b/UP9M/y3/Ov89/2r/nP/K/wgALgBiAIYArwDlABYBawG6AfkBRgJlAmICXwJDAiACGgIXAgEC/QHnAacBgAFUAfgArgBoACkAAADH/67/ov+o/83/7v8TADsAWQAfALz/Pv+M/ur9Rv3K/Iz8gvyW/MD8Av1U/b79Kf6M/vf+VP+C/6P/nf98/3j/Yf8+/0H/Uv9u/6H/xP/i/w0AKgA/AGYAgwCSAKEAmwB/AF8AYQBsAH8AqADZAOwA5ADuANMAyQDtAAEBIAFQAYgBrgGuAY8BXQEjAeAAowCEAGsAbgB7AGoATAAFAML/eP8u//z+z/7J/sj+yf7b/vz+O/+A/6z/1v8XAGYArQDCANcA4wDFALQAnACOAIwAfgCNAJMAhgCDAHQAaABmAGkAjAC/APMAOAGNAdYBEQINAuABtAFOAeEAggANAID/+f6C/hD+p/14/VD9I/0X/fD81fyf/GT8NPwX/Af88vsD/Aj8EfwN/An8EPwV/FP8pPz1/G/9zf0k/pL+7f5S/6z/BABMAIoAvgDeAP8AIwFDAWIBmAHaASICZwKOAqgC4gIZAykDQgNgA04DHQP7AuUCzwLGAskC4gLvAucCxwKDAg4CdgHoAEwA/f/I/6//5P8eAFMAeQB0ACwA1/9m/+7+cP4y/hL+7/3j/dP9zP2h/ZL9jv17/X79kv2l/dD9I/6E/tj+N/+i//7/XgChAOEAAwEZATMBOQFAAUoBWQFhAXYBhwGfAb0B1QHkAfgB/gHwAfMB5gHGAbEBowFuASkBBAHKAIwAWAAxAAsAtf9x/w//m/4l/pb9Ov31/Nv86vzW/L78s/yP/G38W/yI/OL8Sf3C/Uj+x/4g/zH/Cf/3/ub+7v4G/zT/j//7/2AAvgAdAWQBnAGmAZYBhgFhATsBAwHiANAAxQDxAA4BSgGlAeYBFgIoAh0C6AGRARsBsgBMAPH/rP9w/03/Mf/9/rL+Y/4H/tL9uP2z/df9Iv6K/tT+DP84/0j/Rf8//zH/Mv8+/1//kv/C/wQANQBcAIAAkQCiAJkAjgCdAJcAmwCyAMwA7QA6AZwBAAKLAvsCQwNbA1ADMAP1AsQCfAI5Ag8CzwGPAWQBNAH1AMwAowBkAEYAJgD4/+j/1v/C/6z/pP+m/47/d/9K/xv/1v5d/tX9Uf3n/Jv8aPxH/G/8tvz5/Ej9hf2d/Zr9iv1s/UX9Dv0S/Sz9T/2K/dD9FP5F/qX+Ev95/+n/bwDaABcBOAE6ARgB3gDCAKsAkgCVALAAvQDXAAYBKQFHAWwBuQEZAlkCqQLuAukCsQJNAtEBWQHoAJQAWQAaAPr/3P+2/5b/fv9Y/zz/Kv8e/xb/EP8u/zX/K/8f/w3//P4U/zn/Vf9w/4f/lP9p/0r/Jf/t/tL+2P4e/4b/8/9gAMIA+AAiAUcBRQFKAVEBXgFzAaoB6QEUAj4CTwI1AgQC6AG/AXwBSAEqAQwB5QDLALoAsgCjAJYAlwBzAGgAZwAlAOb/pP9M/+b+jP5T/kj+cf6X/tv+GP86/07/Kf/h/pz+Yv4s/gb+8v39/fH96/3k/df90f3F/cn9zv3s/Qr+QP50/rX+A/89/5H/8P8yAGsAuQDiAPgAEAEjATUBRgFOAVUBUwFeAWMBXQFiAVABPgEoAREBFAEoATwBfwHNAfEBCAIGAuIBlAEgAZoAJwDg/6T/lv9z/1P/Xv9Y/0//R/9k/3z/jf+n/8L/zP/g/+L/x//C/7v/tv+4/77/zv/c/9j/3P/S/8L/w//C/9b/5f/1/+z/7f/6//P/AAABADMAjwDQAAgBTgFxAWoBUQEHAboAgwBIAPv/vP/E/9v/7P8GAB4APABNAGgAcQBnAEsAHQD0/8D/o/+d/5r/nP+y/9D/3P/a/+b/xv+j/5r/hv+j/8T/3v8AAA8AEQAPAPn/1v/H/6z/lv+N/23/Tv8p/w3/EP88/5H/8v9XALAA+AAWAf0AzQChAGQAHADm/83/1//c/+j/CgD+/+f/4/+3/6j/t/+q/6j/tv/B/7f/mf9y/1P/Sv9W/3D/jv/O//v/CAAAAN3/yv+J/zP/C/8X/zj/af+q/8L/0v/d/8n/uP++//H/MQBiAKIA0ADVANEArwCCAGoAdgCLAJ8A6QA4AWgBewF0AVsBLgEIAdwAtQCYAIMAjACDAHoAqwDQAAcBTAGBAZkBhQFJAdEAWADe/3D/JP/o/tr++v4j/2H/kf9+/1j/JP/l/q/+hf56/oP+oP6x/sX+xf7e/v/+AP8b/z//ev+g/7X/sv+m/3j/Mv8C/73+of6+/vb+OP+R/+P/EAAuADsAXAB6AIIAswDbAOcA8ADZALwAnQCHAIgAhgCoAOoAGwE5ATgBJwESAesAxwClAI0AjQB5AF4ANAAHAO3/wf+8/9T/4v/z/wgAKQAvABoAAQDp/9z/xf+6/8z/2//x////4//M/7v/iP9V/yn/Ev8D/wH/D/8l/0L/YP94/5H/t//g/w4ADgAZAEIATgBYAF0AYwB+ALIA2QDtAAcBFgEDAeUAsAB8AFcAEQDf/8P/uv++/7L/xf/B/7n/pP98/3z/Z/9h/2//gP+q/7r/wv+9/5j/dv9c/0H/M/9A/2T/iP+m/8H/0/+v/47/e/9x/4j/ZP9f/2j/Rf84/zr/S/9x/7r/+f8/AIwAuQDOAJgAWAAnAP7/9f8GAEwAoQDzAC4BOAEpAQUBvAB2AFYAUABXAHEAdgBkAEgAIAD+/9f/yP/N/9r/5//p/+H/x/+Z/4D/b/9w/5D/rf/V//H/6f/k/87/jv9o/03/Lv8f/xn/Hv8k/zj/UP9i/3X/iv+m/8v/5P/z/x4ALgAfACYAMwBIAFoAcQCLAKkAvgC4ALcAuwCvALAAwQDIAMkAvwCsAHwAPAAEAMr/uv+9/8v/AgAyAIIAugCqAJAAVQAVALf/ZP8y/xX/Hf8s/z7/U/9l/2j/av9a/1z/av97/2r/Tf87/w//5P7L/tP+7v4h/1v/l//O/+z/9//g/7//sP+d/4//lP+o/7T/sf+3/7L/vP/R/+T/AAAuAFcAbQCZALkAvQDGANEAyAC6AJwAfABtAGYAcQB/AJUAsADIAM4A0wDVAMoAugCyAKcAeQBTADsAJAD//+n/9/8BACYASQBiAHwAhABYABYA+f/O/67/nv+G/3H/XP9L/zj/Lv83/0f/Zf92/4D/lv+S/4n/kf+c/77/6v8EABoAGQAFAOr/0P+4/7D/xP/T/+7/FwA5AFYAcQCDAIkAiwCDAGsARgAxACYADQD0/9z/5P/6/w8AKAA3AEwAWABWAEIAMAApAAUA2f+7/6b/oP+W/57/tv/V/+b/6P/m/9H/vf+d/4L/bv9t/2z/YP9v/4r/jv+M/5T/lP+b/4P/l/+9/8//6v/g/+X/7v/e/9H/xf+w/7n/xP+9/8L/3/8IAC0AUgB0AIkAmQCVAH8AYABAABsABgAjADMAZwCbAMYA9QDuAP8A6wCzAIwAWAAyABcAAwAHACMAPgBVAGUAjACgAJoAkABjAEQAGADu/9P/vP+t/6D/nf+y/8j/2//y//7//v/x/93/xv+y/5z/mP+d/7P/0v/f/+//9//l/8//tP+i/5v/l/+n/8D/5v/9/w0AGwAZAAUA7P/W/9H/4//R/77/uf/B/8X/wf/A/7f/w//O/9D/5f/3/wUAFgAVAAwAFQANAAAABADj/8r/qP+G/47/qP/P/+n/HQBzALcA2ADpAOEAwgCXAFoAIgD+/9j/t/+n/7X/2//1/w4AHgAvADQAHwADAOr/2v+//7X/uf+5/77/3P/6/w4AKwBFAFAAUgBhAFIAQgAjAA4AAwDp/87/p/+I/2b/Wv9Y/13/if+//+z/GAA7AFEAZwBqAFgASgAmAPr/4v/A/73/uP+6/83/7/8WAC4ATgBtAHQAYABIABcA9//Z/9b/5//y/yUAWACGAKYAkgB/AHAATABGAD4ASQB2AJIAswDJANAAzgCxAIkAVQAlAAEA3P/O/9P/zv/Y/+j/+/8EAA4A///n/+X/vP+U/3b/bf9b/07/Xf9y/5D/nP+n/7P/uf+v/6n/n/+O/3v/eP+B/4T/kf+Q/5f/p/+y/7j/zP/o//T/DgAdACkAPABAADsAOAA4ACwAKgApACsACgDo/8r/vP/Z/+X///8XACQAMgA5ACsAJgAeAAcA9v/m/+f/9P8XADMAQQBHADwAPwAtABIABADn/9//6f/x////EgAoAEIAUwBZAGUAZABeAEoACwDV/6f/gf93/5b/wP/t/zMAYACGAI0AhgBrAEEAGQDr//L/8v/+/xkAGgAeACoAHgAJAAkADAATACoANgA6ADQAHwAAAOz/4P/V/9v/4v/1//z/+P/3/+n/4P/i/+z/9P8AABYAJwAhABwAEwANAAsA/P/9//7//f/v/9z/0P/A/77/tP+z/6L/o/+0/7L/wv/I/8f/zv/X/+T/+f8DAAYAAAADAP//4//j/9r/3P/o//b/MQBaAHkAjQB2AFUANgAMAOf/1P+2/8n/7/8KADAAWQBvAHAAfQB4AHYAeABsAFoASAArAAQA3v/V/+X/7/8UACsASABhAGIAVwBDADIADgD5/+7/6P/o/+//7f/i/+f/5f/s/wMAFwAlADgAPAA+ADQAGwAPAPT/2v/V/9X/yf/P/+H/1v/W/9n/5//v//7/IQADAPT/6/+2/5X/fv+J/53/wf/l//L/CQAWABkACADo/7//mv+H/3T/bP+E/7X/1//3/xQAGwAmABUA/v/8/+v/2//O/8//zv/I/8v/w//J/9//7v8AAAkAEgAZAPv/4//V/97/6//o//7/DgA7AFUAYwBxAGsAVgAiAAgA9f/v/wYAGwArAEoAXwBaAEEAKwAQAO//6P/3/xIAMABOAFAAUgBHACEABgDt/+j/8v/7/wQABgAHAAAA8v/o/+P/5P/q//T/7f/1//X/6P/c/8P/yf/U/+n/BAAoADoAQQA/ACcA9v/N/7j/oP+r/7f/5f8UAFYAfgB3AHcAWgA3ABQA+f/K/7//sv+1/9j/5//+/ygAQQBKAFUANgA0ACEAAwDe/73/r/+X/6n/sv/F/87/yP/G/8H/v/+7/8D/zv/l//j/BQAPAPr/2v/I/5//hv98/4n/pf+6/9z/+v8KAA0ACQAJAP//8//z/+L/3//O/7X/p/+Y/6n/sv/B/+D/BAAwAEAAPgA/AC8AFwD5/+r/7v/3/xEAIgA6AEQAQQBAACoAGwAQAP7//P/9/wEAGQApADcATgBbAG0AdgBYADgAIQADAOv/4f/j//T/BgAdAEoAYQBsAHIAXQBJADAACwD3/+L/2//V/87/0//W/+H/7f/9/wMADQATAA4ADQAMAP3/6P/g/8z/zf+//8D/zv/F/+T/7P/f/97/2v/Z/9P/1f/Z/+D/4P/e/+n/1f+9/6X/kf+E/3T/j/+d/7D/0//p//X/7f/q/9f/xv+q/7D/wP+1/8j/5f/3/xYANAApACwAKAAbAAkA/P////j/AQAHAB0ALQBKAGEAYABwAG8AbgBuAFwASQA0ABYADQAWACIAMwBQAFYAWwBiAFQAUwA5ACwAGwACAPv/8P/h/9n/6//6/wsAFgAnAC0AGAADAO3/2f/J/8v/2P/x/wcAGAAcABAA7v/Z/8r/u//Z//b/HQBLAGIAaABfAFMARAAtABkAFgAJAA0AGQAJAP3/9f/p/+7/+P8GABwAGQAWABQA/f/7////CAAYACQANwA2ACwAGQD2/8//n/+H/3z/ff+g/7z/5P8LACcAOwA0ACgAEAD1/9//yf+3/7H/sP+5/8X/0P/e/+//AAATACsAJwAjACEAEAAJAPf/6v/n/+z/BAAgADsAUQBWAFUATQAwABoADwANAAUABAAZABgACgADAPj/4//e/+P/7v8HACEAPABJAEYAOwA4ACAAEgAXAAcAAQD///f/7P/o/+j/6//4/wsAIgA9AEIAQgBFADIAJAALAP7/+P/j/+b/9/8LACEALQA7ADUAJAAZAAIA8f/m/+T/5f8FADgAWQB3AIgAewBdACsA6v+6/5H/c/+B/6D/x/8DADcAWQBkAGUARgAWAPn/3//Z/9j/1v/g/+b/6v/y//D/7f/n/+H/4f/g/+b/9//7/wEAFAACAAsADgAIABUAEgAUAAgAAwACAPv/9f/z/+P/6v/4/w0AJwAbAB4AFgALAAEA9f/t/+X/6//y//j/AwAHAAUAAADm/9D/0P/S/9f/6/8EABwAKwAxADgAFgD1/+H/v/+9/73/z//p//f/CgAHABAAMAA7AEsAaABoAGMATQAiAAMA5f/U/9z/7/8RADUATgBiAGsAZQBMADgAKwAhABIAGAADAOD/2/++/7//xv/W//H/BwAoACoANgA+AC0AGgDx/87/x/+3/7n/wf/L/9T/3v/t//j/CAARACcALQAzAEQATwBLAEQAPgAiABEABwD4/+3/6v/n/+3/7f/p/+3/+f8IAAQA/v/v/+P/6f/x/+//AAAaABsAJAAuAB0ADgAEANX/rv+O/4//qv+9/+z/HABKAF8AYwBYADMA+v/G/5X/f/+H/5X/wv/j/wUAJQAoACcAGwADAPf/6v/r/+X/3P/c/8b/zf/Q/83/4P/6/xYALgBPAF4AZABgAE0AOgAoABQABwAOABgAAAD9//z/1P/c/+H/4v/3/xUAOgBVAHcAgQBqAEsAJwD2/8//sP+Y/5X/rf/I/+3/EQAiADAALQApACMAHgALAAUABwADAAwAAwAAAAAADwAWABsAKQAmAB8ADwD3/9f/u/+8/8j/4/8dAFEAhACZAIsAagAxAPf/u/+F/2z/cv+K/7X/6/8YAC0AMAAnABEA9f/c/87/z//Z/+X/8f/5//v/AAAAAP//BgAGAAcAGAAmACcAKQAbAPX/2//P/8//3f/o//z/FQAkADMAOgAoAA0A+//i/9j/4P/s/wsAGwAlAB8AGQAlABoAAwDv//D/+f8IACEANwA4ACMACwDr/8j/rP+g/6j/uP/X/wIAKQBGAF4AWABDAC0ABADd/7D/lv+R/5X/qP/T/wsAPABfAHcAbABWADsAAQDP/6f/lf+Y/5//s//W//b/BwAkAEUAVQBaAEkAJQD3/8//sv+g/6T/x//3/xMAMwBIAEsAPgAvABoADgAUAA4AHwA1ADoAQgA6ACAABwDq/9r/1v/m//v//P/x/9//xv+y/7D/sP+3/7r/v//J/9b/6v/0//H/6f/c/9H/1//j/+j//P8TACEAKQAqADEALwA3ADQAMwA7AEMARwA0ACEA///i/8//v/+w/7n/zP/d/wMAFQAlAC4AEwAXABEA9//i/9r/3P/a/+j//v8WADAASgBTAEoAOwAfAAQA9//p/93/7P/3//n/BAAGABoAKQA4AEoAPwAzAB0ABQDh/8D/of97/3T/ev+E/5v/s//L/+r//v8GAAoAGQAtADEATABnAGsAbgBnAEMAHQD6/+T/3//M/9H/4v8GAC4AUQB0AHsAYgA4AB4A6P+5/6X/nv+k/7P/w//V//f/EAApAC4AHwADAN7/s/+U/4D/eP+c/7T/6/8yAFcAawBiAEsAHQDw/8z/r/+f/63/zf/x/xoARgBsAIUAqQCpAJQAhQBrAEgAKgAmABsAFgAkAB8ADQAPAA8A/v/e/8H/oP92/13/Tf9c/2b/cf+E/5r/yP/P/8j/xf+7/6n/l/+S/5v/wP/z/ycAVQCFAJwAlgCIAGYAPAAcAAQACQAbACUAQQBbAG4AcQBoAE4AOQAhAPX/4P/Z/9b/3f/j/9f/8v8NAAYAAwDo/9H/rv+X/5H/jv+d/8D/EgBkAKQA2gDuAOMAwQCUAFYAHQDu/8r/tP+s/6X/oP+9/9n/AAAnAEUARAAqAAcAw/+K/17/Sf8+/0H/Wv9x/5H/s//F/9H/3P/f//T/DQAjAEEAVQBkAGUAdQCBAHkAgQB9AH8AdwB5AIQAkQChAKgAqACgAI4AeABrAGcAWgAnAPn/1P+u/5X/if9n/0r/RP8//zv/H/8P/+b+wf6x/qL+uP7W/vn+I/9B/1z/d/+U/6n/wP/Y/+j/AAATACoAVQB1AJQAvQDjAAIBBwEBAeQAugCLAF0APAAgABsAMABbAG8AeQCAAHYAYAAqAA4A9P/Q/9D/wP/F/8b/vf/G/7v/rv+t/7L/tf/I/+X/CAAcACIAKgAtACwAIAAjACoANABQAH4AmQCkALAAqgCcAIYAhQCNAIUAiQCRAHMATgAmAPv/3P+8/7f/tf/B/8v/xv+7/57/h/9//3P/ev+R/6n/zv/a//r/FAAVAB4ADwAFAAAA7f/l/+L/3P/g//z/HQA5AFsAhgCaAJUAhQBkAD8AAADG/5X/dv9z/2//d/+S/5r/m/+o/4//g/+N/4f/jv+V/4v/gf98/4L/hf+Z/67/u//h//n/CQApAEEAQAA1ACgAKAAhABQAJgBHAEcAQgA8ADgASwBVAGoAZwBdAGAARwBBAEsARwBEAEMALQAQAAEA9f/g/9n/8/8AAAUAAwAAAPP/4v/d/7z/qP+r/6H/nv+Z/6H/uP/M//L/HABOAGwAhACDAFgAKQABAPH/4//o//3/MAByAJoAyQDjALsAewA/APj/w/++/8D/uf/2/ycAPwBXAD0AKwAdAAwA8P/E/63/lP+H/2b/T/9i/2z/hP+o/8P/1f/d/+f/1f/F/8v/xv/G/7b/z//z/wQAGwAlADUAQQBWAFUAUwBZAGEAVwBKAFQAUwBSAFgAUQA+ADQAIQAeAAAA6v/T/7b/x//A/8j/yP/Q/97/x//F/9v/4f/Q/8D/tP+o/6P/q//U/wMAJAA2ABsA+//o/8//yP/U//D/JABvAKQAuQDJALEAiQBxAE8AMQAaABMAFgAbAC0AMAA7AE0ASQA/ADAAJAAVAP7/5f/b/83/v//G/8v/1f/h/+7/8P/n/9r/s/+i/6L/lv+p/8n/6P8JACAACwD0/wQA///x//j/+f/w/wcALAAyAEcAZQByAGQASgBBACgALQAsAAwA9v/N/7v/pv+M/5z/qv/D/+P/7P/p//P/7v+//6j/of+i/8z/9f8pAF4ATwA5AC8A/v/e/+D/1v/Y/wAALwBgAIMAngCyAJgAcABMAB0A+f/f/8D/w//K/7X/q/+z/73/yv/o//z/FAAmAAMA6//f/8//y/+4/7z/xv/P/9r/yv/f/wIAEQAfACEAJQAnAC4ANgAsAC8ANQA5ADcAIgAlADYAOwBBAEAAPwBFAEQAPQAqABIA/v///wwA8f/g/+D/xP+k/5j/r//R//b/EQAXAA0AEAAOAOz/6//y/+X/6//5/wMAEgAnACEAFAAfABIABwD1/+j//f/4//n/BAABAA8AQwBsAFkAXwBXAC0AIADl/7v/tv+x/7b/xf/s/wgAKQBAADAALgABAOH/4//I/9H/vf+y/67/oP+i/3//nv/H/8r/AAAGAAgAEwATAPn/xf/T/8v/3P/8//L/AAASABEA+//q/wcAFAAXACoAJgAvAEcAPwAjAAsA6f/X/+X/8P/z/wsAPgBRADQAMQA2AAMA6f/0/9//4v/u/9D/yP/c/9P/vP/k/xwASABmAHUAYAA6ADUABQDt/+z/6f/2/xEAEgAeAGUAeQByAFwAKQD1/9H/vf+Q/5j/zP/l/xEAJgAkABgACQAGAOv/0//X/+P/7v/n/8n/yv/E/8n/4P8AABEAJgBPAEwAJAAYAAAAxf/F/8D/w//U/yIAQQAeADUAGQARAAIA2v/q/wUACAAPAPv/+v/+/9L/0v/M/+n/DQAhADUACwAKAOX/qP+2/6P/qf++/9b/8P/U/wQAIAANAAQA6/8AAAQAFwAtAAsALwBPABQA9P/g/+X/w/+X/7X/tf8jAIQASwCHAKgAfABzAEsA+f/E//v/4P+7/6z/n//C/9z/9//w/wIALQBCAAUAyP+n/5T/sf/C/8n/5P8dADgAIAApACQAJgA6ABEADwAcABoAGgD//9r/5f/2/+b/AAAgAC0AOgBDACcAEAAiACUAEAD7/+3/2//2/xwACADX/woALADM/8r/0f+t/8n////r/9D/NgAvAOb/5v/1/+D/9f8qAPr/KwBnADIAIAAAANX/0P/b/+3/2f8hAFsAMAA9AGQAbAA+AFwAVQD+/wAA6/+o/7r/1/+4/8j//v/V/9L/LAAfAAAABQAOAB4AAwAXAAkA4/8QAN7/zv/j/9T/HQAAAP3/GgDm/wsA6P+5/+L/CwA2AAAAQAAwANn/MADP/7n/LAAjAB8AEQA6ACwADwAWANP/MADU/1n//f/t/4L/tf8VAOT/IwCIAPT/JgCaAMf/h/8ZAK3/bf/t/+3/1f9LAEIA3P9VAIEA7f/R/xUA4f/F/wIAxP+B/8X/3v+T//P/TgAAAGEAkABKABUAAQAMAKX/u/+B/zH/0f/f/7b/zf/0/y8AFQBNACkA4f9zADgAx/8aAMf/oP8DAPP/8P8OAD4AHABDAIIAEABJAG4ACAD+/wsAAwDR//r/YwAWAEcAcADP/8n/6v/C/6b/KABxAAoAPAA6ANL/BgAdAOb/tv8NABsAjv/x/y0Av/8iAFsAIAAkAC8AJgB+/6P/8v+W//T/UwBTACoAWABvAOP/KgAfAMP/GwDi/+//HwD7/xEAJQAeAAgAMwBQACkAXwAYALz/xv9H/23/eP97/wsA3/8LAFQAJAA+AB8A+P8DACkA/P/B/+T/y/+7/6n/wv/W/77/IgBjABMAJgBwADYACgA9AMD/af8GAOH/lv/l/zMA7//O/8oAIABo/58AFQCM/3UALQDf/woA+v/P//j/CgC7/wwA+P/S/9f/pv8HAPD/0P8rACMALAAMAAcA7//y/wgArP/C/9r/GAAuABoAfQAyAAkAFQCa/7D/wP/C//3/UwBaABcAUgBdADkAOgATACAAGQAsAFsAgf+U/xwA0P/b/x0AUgBLAGAAIgDA/xcA0f+8//r/iP/T/9D/sv+3/6z/5v/A/woANgABACEAGgAPAOT/8/8AAKf/HQBIAOb/CADc/7v/7v+O/8r/QQAIAJsAswDR//f/AACi/8P/t//7/0sAOAAOAMz/yf/r/77/KgCVAFEAggB1APv/pP/y/xAAvf84AIYA8P9DAIwAEgAzAEEAXACv/7//PABL/5//dwDy//X/swB+AFQAjwBwAAMAxf+8/7b/Of/+/nD/vf+3/xcAYAAAAF0ArABPAK3/CAASAKL/3f+2/1n/r/82AJP/1v/2/4D/CwAhAIX/7P+gADkAQgBuAJ3/hf8VAMT/5f8aADcAFwCz//b/vf+U/zcATADZ/zwAiADA/7n/FwBx/2b/BAB6AMX/hv99APL/of///ywAFQAiAI0A5//m/1cA1v/J/5T/pv8/ACUAJQB7ANoABQBv/w0Ahv/T/3kACAAoAIQAcADL/8b//v/T//7/OgA6ABEA5/+//7T/iv/E/7P/7//5AKUARgBoAAkAwv+n/7P/gP+3/zYArP91/08AIABv/zIAkQDS/9D/hwB5AIcA3ACL/+H+W/9K/8//NQDEALcByQCL/wr/qP4+/8X/MwAPAawB/gCy/0z/x/4P/wAAQwC3AA8BkgC//6b/KP8s/5UA1wBxAIoATABi///+m/98/wH/3f8dAT4BbgA2ACcAv//T/1f/dv9wAFkAegB+AOf/ev9t/7L/oP/BAB8BKACwAEkAIf/J/qb+cv+XAL0AowCrAP//fv9M/4D/SQB3AHgAPAAIAPj/U/8U/5f/MQAkAE8AsABTAE0AXQDJ/6r/EQDZ/8L/CwD0//n/7v+K/5z/CgAAABYA0f9f/x0AWgAyAA0AXf+w/0IAFwC7/+//SQAFAGgAKAAN/yn/yf9gAJEAJADn/2MAmAD5/+b/QgCzAGkB7gDN/6H/p/+t/woAogC0AGAAGQBY/+f+Zf8GAE0ASQAwABMAoP+x/2EAnADEAJsAqP8z/rr95P7L/2wALQHVAOP/Wv8F//j+tf/sAEYBCwF6AGr/Hv+J/5n/2/9FAIkA0ABkAAIAy/94/5j/8P9qACEBRQGJAAwAhf9V/73/AACYAAEBoAC0/33/u//k/4IAvgBxADYAnv/x/nz/OQAwAC4A2v9+/4T/i//9/xcAlwD3AEIA4P9u/1r/s/8DAAIAyv/5/xAAYgBXAAsAMwBDAHMARADc/wEAvv+u/w8A0v/5/zYAXABTAGIA9QB5AHj/Hf+H/nf+gv/r/1cABAFUAF//N/8V/3f/gQAlAfgAhQC//zr+Hf4r/8P/qAARAboAKwCd/0v/Lf+I/ygAQABeAEEArv+9/ykAsQAaABf/ev8uAFsAQAD1/xEAlgBtAFn/8P6z/0QAjAC/ALYAzwDkAEkAmP9r/xD/9P62/60AxgBcADAArv85/y7/T//6/8EAggAuABEA2//t/x4AQgBVAK4AcwDz/wEACAAhAE4AKwC4/73/QABhAOYAAwGTAAUB3wAYAIH/fP+n/53/1f+Z/w8AtgArAKL/i/+X/67/xf/o/1z/Ev95//D+Ov+y/0z/k//T/8H/hP9p/8P/EwCvAOgAZABUACsAn/9g/9X/QwBvAKIAPQBLAFwACQAzAEsAZQBhAFUAOwBoAKoAOgDs/wEA6f8FAF4AYwCmABoB2AAhAP3/2f/a/08AUwAFAOP/8P/g//7/EAC5/7H/9P/V/+D/zP+9/wAAy//M/2X/Ff+k/8v/2P8hAIYAWwA6AFEA6v8XAL3/Kf+z/yYAaABsAPn/nv+m/+L/FgApAEcANgA3AAcAk/9z/0v/Uf+D/7L/rv/t/zgADwCl/27/T/9I/xQAAQC7/xgAvf9+/77/1v/g/xEADQDj/97/UACPAJQAswDv/7r/GgBRAMgA0QCOACwA8f8JADUANwCPAO8AKwFcAQMBvwCKAAwA9/8GAGIAGgFHAUsByABHABIA9P8vAI8A0ADkAPIAogD+/3r/Uf8w/63/EQAAAAMAPQApANr/wP8m/7T+iv6j/ub+U/90/0n/QP9G/wL/cP5T/nT+uP4G/zX/4v7N/tX+vP68/tv+Fv8//7D/3v/X/8D/yP/X/+///P/Q/9T/LABdAGUAfgCEAH0AmgDsAO4A/AAqAUkBpwECArQBfwHrAQgCvwH0ARsC7gG3Av4ChgJQAl4CLgIEApUCXwL5ARYC0AGbAdUBDgFCAGAA5QD7ALgATAE5AaAArQBiAMT/0f+F/zL/S/+g/6H/Sv8d/xX/lf/+/8b/ev8I/yr+gP3a/Fb8gPxJ/Mb7tvvN+jb6//kR+vH5mPki+VH4wPdK90D3RPbw9en1bPVr9eT1ofag9v/24vbB9fz1sPZV9zL4wfgR+Qj5Kvl/+XT5Lvq2+y/8+fzR/Y7+Fv8KABAB4QDuARADjAM4BTkHBAjTCIEJmgnwCeUKNwymDO0NRw9PDxUQvRCWEEYQZxBYEOUPLhA9EOIPtg8ZD5ANewwZDI0LiwrBCesIWAeiBmIFrAPBAs8BOgFQAFf/K/6K/Jf7rPq6+Qj5/ffg9vD1SPXt9LP0wPT39JT0vfMw82nyH/IV8u7xHvLz8ZbxT/E98UDx/PCe8IDwXvDl76bve++t7wHwiu8A7yfuou0c7i/uG+5u7nTuJ+4T7pnuKO+p7zvv4O0t7gLwuvGM8s7ygPJI8rfzGPUm9kP4pPrI+0v9hP8JAVcDUAbgCAELVA6GEYATFhdaGxsetyAmJNcmfCn3LKsvyDEwNMg1TTZnNyc48zcOOKs3OzaUNSM16jKdMLktgikjJUwhiB2sGFMUyg/MCskGswL5/VL5G/WI8Cfsteik5dLi9uDR3jXcBdsH2vHY6NiT2SXattpb3OjdLt+24cbjuuW/6F/qnesd7s/wRPPe9En2a/fl92v4R/gG+Er4AvhG94b24/UK9dLz/fHo70XuDO1I7Gvrnupd6UvoB+hs55znFugZ6L3os+lI6nrrXe0G7+3wt/LF84bzqPSD98b5b/xk/j//SQAbAp0DSgSZBnsJzwoADYUQ6hJRFYkX2xjOGhseHSGJIsIlJyrVLCcv2zEoNJk2VDmiOrU7lT2/Poo+Ij4kPuY8mTpSOPU1MzNcMMMsEyjpIywf5Bj3EnQNsgfkATD8ffak8C/r6OWo4Mvbqtd00wnPx8xgy3vJJMjuxk3G1MZSyG7Jgso7zerPY9Jv1rDZZNyF4HbkO+g87JXwB/Qi9xP7XP0I/+wA9gHVAvEDhgRGBNkD7QKFASMAOv/T/cv7yPlw9yr1FfOs8WrwBO8G7jrtC+2V7Q/uA+6z7vbv/fCO8pH0lPYO+eD76P0lACgDEAbxCLMLKw0mDT0OWhC9EdMShBOkEwwUEhVNFcAUJRXAFawV0BXCFb4VTxYpFzwYXRnQGvQb5Rz8Hroh7yOLJQQnVSiUKRUrXSwWLWQt/ywOLGkr3yoyKQomwiK4H1wcrxhIFDwPSAp8BeT/Q/pg9R7w3urS5f3gZ9wL2A7UgtAYzjXMnMr/yOHH58dvyCvJO8rAy2rNaM8t0hHWFNpg3hHjC+dR6/DvmfTj+On81gCgA3wGzwjDCsoM1A38DhoQlRBTED8PYg3LC0UKtwfcBA4CZf9x/BH6iPdz9C3ykvAv70/uSe547S7t9+3O7jDwhPIn9QT3kfli/NP+4AFzBb0IsAs5D4MRRBNyFRUXghhGGiIcgBsLGk0ZDBirFp4VoBNPECkOYQxVCUAGbAR2AqgAhwB//539f/xE/Of7Qf3O/98ApwKWBbsIyAq0DUkQkhFEFAgX8Bh5GmMc3h1QHpsepB5hHaMcYRuBGC4WLBNAD6sK7gXNARP9j/gQ9c3wj+3c6r3nAuUG4v/f8tzo2mfbLdtp20/cnt0B30DhRORQ5lzplu2u8MnzQvdK+iv9sf9CAvkDHQYxCFEJkwqMC04LoQoWCucIDAdbBesDogH0/xz+c/vm+AT2HPMq8M7tbuxi627q2Oj450XoCekM6hDrTOzi7VzwrPLw9Lf3AfpF/Av/ywGbBI4HxQr9DP0OaxGlEqkT+BTaFZIVFBUvFWUU+xOIFK8TDhJAEYMQtAx8CXQHTgTXAa7+Bfzl+L/2QfU18sLwe/D271bv1u7B7obu6e5g8GfxqvOM92X6t/10AVUF4AhVC2YPkhKZFQ0ZcBsnHgkgEyIOI54jIiU4JTUkFiO1Ibkf3B2HG3MYxBXGE1EQgAzxCSYGJgNXAe/+f/ur+BX39fMM8vrx1/AB8EnwdvD87y/w2fBd8F7wiPEi8VXxqvIt8tfx/PHn8QTx2vCC8Snwee+e7qzsvOs/60HrGOvD66jsAO0V7rruKu/h7yDwPvCa8FjyLvSA9WX3hvji+V77/vwM/kj/VgEBAksCCAKRAQAAof5b/sn9K/0m/DL7Hfqa+c/48/Z79cH12/UQ9gz3KPc294n3UPiS+NL5Gfxs/Uf/jgEdBOsFfwc/CakKFw0mDyMR5hFZEm0THhQTFZgVzBVAFe0UJhWTFbQUmBSsFL0TKRSeE+AS6BGdEjQTbhJDE6kSqBExEjYTKxMhE9UTPxMPEi8SSRKqEesRDRJ+ESARdBHGEAMPQQ7qDH4L2QolCnQIfwZ4BZIDbAGQ/5z9uPuN+pr5Bvi19WTzM/ER7gzsJOrd57Dmd+X+4x/iBeEZ4GjePN5s3o7e5d//4MThduI949zjiuRm5k/oSOrn7EvvnvCI8evyj/MJ9Pr0FfY990v4sfg6+Mn33fYy9rr1P/WE9MvzcvNt85TzzfLo8YzxnvFR8UHyVfPu8631Cvig+tX8CQAtA/8FTgkoDGEO4RDFEwsWdxj9GrscQh45IO0h7SJJJHslryX4Jc8lByUeJAsjlSHEHzMenRzkGukYShdWFq8VYBSSEoQRSBCfDtUMkQv+CXMIvQftBk0GMgSIAuQA3P4E/vr77Pke+Bn3DfYp9OHyEPEX70Duxe3p7NLsNu3b7JTtNu+j7x/wkvGV8171mfcr+pP7Xf2Y/8b/7v/4AEIBwAHfAikERATHBIUEKQONAtwB7wDS//z/VP8H/73/mP1++oL4vfbk9NbzIvQ19Er0EPUv9LzyvfFp8FHv0O+Z8ZHyEPTd9fz1rfUy9avzQPIt8v/ytfM69Rr3wfew+Bn5tfgY+UX6kPvJ/MH+bABnAYEB2gDt/7b/AgF7Aj8E/AWYBrkG5AbrBckE8QRFBTQFQgYKCHsIjAi2COsHlgZ9BhEHbwenCA8KngqnCo4KgwmWB6UGswWqBEYFFwY1BrYGRAj4B5oG4AZqBowF0gUJBxIIFAkXCrcJEwn7CMYH/AUmBoQGcAakB9AIvghqCE0IyAZGBfIERQTxA4kE7QT+BOYFcgV0AycDNwM4AroB9wGHARcBlwHcAX8BewJOA+MCTASgBH8DHQOqAuUBzwALAY//g/0X/lL9nvvB+nX5ZPfX9d70CPOc8bjx8fAl8IPw/u8T74vu3O2e7EDsoOy+7GTubvDd8UHz+vPB84bz0/P88wv1tfaz+H76Avwj/d79Xf6t/MT6DPoA+YL46vj/+Q77cfxb/oP+vP5D/7n+NP75/s///gDiA1MGoAcpCjkMJQvmCpIL+AqXCVIJAgmcCPcI4QjGCDEJxwlDCewINgh7BjcEEQO3ATYAJADd/7IABAKaAr0CoQIKAuoACQCxANsAIQGeAiYDNAPTA+gDWAONA8MDBQStBJIGdgfqCJ8LQgziDBYOFg46DbIMmA3SDS8NTA6ZDVgMcwuFCWoIlweeCIkJIwn/CRkI0wSPAW38vPgh9hH1C/aQ9pb4T/q4+zX8U/mU9/TyLO4I7E/phelL64LumfGG9KP4Vffu83rywO2+6HzmFOVk5Enmj+uT7mHwpvXG90P33fcz9pjzE/G48DjxVfQv/K0BGweoDMAPBBDaDdUL3gejAyECywKKBWcJiA5vFd0Z/xsPG4MWvxO1D1YKlwfPB9QIownTDO4O9A1ZDJMJLwV6Abj/3Px2+qj7nvwr/dL+ff/A/nT+wv55/rb7bfvq+5X5cvun/In8zf0s/40A9wDcAbgCXgJ6AuABjAF2A5IEpgNNAw8FpgY+BBkAjwCDAbEBcwBAAHIC9gEdACL/yv0L/O76Rfj+92j48fnk+638Cv7E/eD+cP78+0D5W/nY+Kv3s/hi+R/8KPtq++L7oPqy+uv3U/rc/Cf9mP7Q/8YCzADY/v3+7vrU+Q/5U/f+9qn3+/qs+lf+0wCu/7ACegE///L63vqz/bz5K/yzAXoE2wc5CTALEgiIBokEVP6aAD8AmQA9BZoKzA2VDvISfBDdC5YKNQbvAJH/IADX/9cCEgiWCLQM0hGlDPkLEQzPA1D7Mve+8zTwAfFi9Ar6MAGECVYLbQ2ODX8Ehf/k+Znx/uwb8JnzjPmUBK0LCRPsFyMYvhPiDkMHO/p69FPzrfAJ87L7qwSbDEAU+xcLFhcS3glx/NfynOvY5IfkLeo88lL8SQVGCpwMEwwsBu37s/EE6pjk7eFj5QLr4PIT+9UChwgaCecHEgKY/nT4PvNj8SLv4PKF9CL5XP95Av8BNAFn/+v4t/Um8YftFfAS8yD3yPsxAecHdgf4CDQI+gOKBFQATv5+/WEFCwlgBuIQLhQlFWQVwhLjEzkQShHeDQYKsQ/YC3oK5wy7Cr0JogmbCqoKLgjDBwAFRAGfAaX7SPxK/QP52f0l/4cAPAI+BOEDGgBRAIr52fZN8P7qIexr7N308/Wb/4oGHQYvDGYGWgMn/zf5ffcy9JP39vX4+ckFzQQ3C3gM9wd9CRwFaf9c9mP21vNq8iPzg/O6+tECHwpbAU4LHBNjBWkFs/tY9xT7D/JJ8Rjw2vvRApT8hgoHCTwMfw+IBSoGbv+RArn+y/ePAE8AEgWMCDMEewTZB0sAP/Yl+yP8I/9dAJUCdwnUB2ML9AGF/dz9sPFN8Svv6vGf9Ib2gAFsCAcOtgvWC8oLyQEt/IPwZeq760vq6usM8aH6TAIrCtYM3gxUC2oFl/+D93by8u9372r1tPsD/5oE9AivCccKgwZ+AZf+zv5m/Tr5HP5wAeAEGwchCGoOjAutCQsFXP+hAKH2p/MS9Yr1zfs1+vr/iAdfCTYMbAg/Cs0JugCt+/X3gfeO+aH6xv50BQYKew4eD6YJugjkBXH7M/g19yz1rvln+2P/FQjXCF0L4AqsBUIGbv2Q+Nf3HPV1+zn5Yv0XBhwGiA1xDd4Kpwj1AVAAZfmn9ZX0dPX1+gD9TwReCWYLkA2LC48GWf8J/Cz4H/Rl8fPyMveZ+yAEsgWwCnQQ5Qw1B/MANv4J+LTyEvHw8/z38PzXBCsFeQt2CukGegYP+xL5qPTP9yj7vvZdAZwGTg7tD/IK4w9WC5wEBP8E92z2DPpl8l3yTvyx/r4D7gDMAusHAAWcAVr3mvfE+Sb3A/f+80H9SAVq/8T9wAHWAWv/K/9Q/QL+tgFc+wb3QfkQ9tj2KvMJ9Mv/VAGcBPQHOQoyDc8IXQY2Anf8W/nQ8tHvZfR/91H7bv9nC/AVIBI9F4YY9hQXEbkHXwX9/t772fdy9dD8Fv15/9UEQAiTCcgEHv9L/cf6z/Xn7iTsK/L48o70sPcR+0MFIAfPBugCF/+kAYj0g+yY7Bvp4/CM8lL1rv9PBuYN1w16DYwMqgigBIf8l/ib9Gf2Ifb98xb+nv4kBJ0JtgQTDXAK4gUVBoH8PP1h+ZnzhPwN+7D60AdvCh4NrRBmE7QUPA9WEBYGjANIBsH5nPee+sz9Gv2aAlsGKQmYE6IQ3BFoFO4SyBEiD6gEePo7/4D30PMi9ULv2PodAEf7JQJaBBIGNAx7CFcIRwQBAAkBvfTY8mnwC+xf98zyt/Q0/hf7NQTnA6n+aAAu/C785/jv9Jb0ePhE/MH7Gf0BARQFBAIOAmUAgf09/jP6Ufea9KfzB/RY9l30uPX++cj4mf6D/CP9Uvvr95z/y/cu/YkAAfvPBFn/wwD3Apz/yQMYAKYCbgEl/k8ACQPtAYMBOgXdAPYEgQSkAkEBKQGNDIMHfArEDdoLRBEiC/oGbgMIA3kAhPoj/I79HwBMBNUF2gbQCrYMqA/dDp4L3Qv9Bp0FLAW7/079O/5X/8n9svy5+5P5OPsE+e/3PftL+UX91v99/un/X/51/u/8EPuk+ev4LPsi/L381vw1/WD8Ffsq+uf2fvdL+mX7C/7VAacK8g9CD6cRxBFWEUsOZwQS/Ef7C/eC8MLy+POq+NL+PAGTCuoQ7Q7IDvsL8gY/BFn6XvTL9Bz0Q/RP8c32Rf1o/esANgF3AqYDgPwz+FD36vR+8vrsze/a9vv0w/a++On5df5U+8v4lPUH96L82fML+dH8v/jpAgn8sP7RBH79lgFj+fH7ZQMz+mv8Lv4eAuAEQQKLBCwEzQr8CtwEJwivCWQJHARYAScB5gCeBpQBzAAWCdkFjgZeCc4HiAxYDTwMsxKFFI0PkAs+CT4I4gX+/LP3Vf+iAjsA/PsF+9YEpQE0/LT8nfoyBBgDDwHKCLMAoAI4BEf6x/1u9mTzX/oq9lv6afg4+aMCmAIABbwCjgUIC6gCE/of9uX0rvNW8BPwP/lYAYQG5grMDKsSAhOuDWIGpAEZ/Sf0AvCr7k7yNvhi/QcDWA4XFbsRSBP2DsoK0gE19070lPDN9GXvoPGy+1z+ewP3/1EDwAJf/zv7+vCG9df3A/eR9YD4EQDsAX4EFgAZABgCQPqU8/bxPu+I6xHtYu128ln4vvmi/Jn/6QUmAof9y//S+if7kvrF9cP8qQMXBegHMQm1Cy4MbAdqAkX/2QDJ+x/1g/pz/d3/5QLLBpQPfRI3FTMRqRC+E04EEQB9/sX5av5e+OD7MwX5C+ATgAyuEq8emxNYEN4K3QEBBmr6rvUS97X5mAKz+7EJVg6RDOITogc4ELkHd/1OAJb1v/ww9mf2pPtG+/oFxv+qAq8GowTcA6f8aP8VADn9fftd+zL/yfwN9+L1/fQB9fXxeu2h9Er3Pvrw+g/28v+K/6P7pvuP9rX6evzm94zxzfNe+dH3M/b+8rz3gvxn+SH2KPae+xb9N/wL/BT+CADH/tH90vrU/OH+Af5K/yEBdgQLAhkCcgQZAQ8Ck//J++cErwbcAn4ISgbDCXoKEQPcBssD7QY3BlEFSQg9AcgIogIJBo8LEP5rB8AH+wjGBi//KAXPBb0JGwXRBd8Kpw1gDDoEPAgxBz8FBf9zAKAC+fwXATf8IwJqASIARQGP/KkG+/zn/TT95fuFBa34zf9U/9//TAaC+68BzwAUAicBqfgl/Dv8ofvv+EH5Gfvf/Yz/WP4MAzEDqQRnBYgDSASnAXX/m/we/Br5VfUT+Jj4Nfwu/4oC4gmOC5APzg2NCvgJVf26+ez3wvHR8oTwW/TN+QH9nv3S/qQIMQclBIUCq/uL+6n3le8j7Kvw9PT+9n79PQEmB2kJ4AXvBO3/5fyt+Rj0ofOI8abvQPGQ9UH7Uvx7ATEG3QW/CdUEowADA9H+7f2o+7T5t/xC+mj6K/0c/BsAkAAq/l4D4//w/wYDgf89B9wGmwWlC5gJqwvwCaUGuQWjAaMAH/3s+yn+Df+hA1gGIgljDl8OVhE7EnYMjQtwCYYG8AFV/Lz5//fd+rD6zfiV/aEH5AqxCcEMIAsaDmANqQMM/q37LPyu9ZPy8PVE+YwBZgSqBYYMNA4YCuQIMQN/ATQBC/nA+u/4DfkZ+2334/35/WL/FwbDBqwHFArqCNwEUwdcAzH/a//A/ID7jPjL9zX1ePiE+bL4SP0j/U0DXf/Z/uYBwPwt/7HzHPJB9i70DvhH84P6tf6DAMICrvmy/0f+Nvl2+QPzFPcJ+LL2mfll+tP8+/ww/in/mf/M/H33ePlz+ej32Peo9sj6+P+W/6n9QgJ5BGACYgM5/dH5ev1W+NX0Afp7/C3/MwNCArAEqgfcBKACMACh/mr+4vw6+xz7bfxmAFYEZgeFDMUMHA/YEaQNbg1iCB4BCwLyAh4C3wGdAzcIXA/NDxcO/xBuD4UONAvzBHgElAMzATIAxQKtBPQE7QZEB+QKcgwECjIJngYKB68EIv9y/cX9cv9i/Wz+QwGoAnoGYgShAwEGCgMN/3n79fTi8qnzfu6A8aP1dvYt/GL9hf48/lz/X/1Q+HH7Qvit99j5F/eK+Ar5+vmz+Rz6BfuB+fb6OfmL9jX5RvmO96r6DvtL+3r+AP60/ZT+0v9p/0YBXgOkAqEFtwV/BYMDMQH2ATn9Xvxc+qr3GPvn+bv7pf8H//0ABAIY/xX/0P4R/G/82/oH+oj88vuI/WX+Cv0iAH//QP5WANz+hgBYAZMAawOwAb0BsAImALoBLAHS/+gBiAH2Av4EkgUuCCsIKwnYCWwIzAhKBRsEJwNpAJMBzwCAApUESAauCJII0QnTBycGRAWiAw8DdgAyAGz+0P6jAEv+AwCfAOsB1gQ9BE0FsgUqBbwDrwEcALT9Hvy2+a74U/n8+iP+JQDsAjwEmwTCBDACrgD1/rn9iv57/sj/1gHgAt0D/ANeA3MCOAGG/7n9fPxX+9b6rvrq+a35aPpV+5f7nPtD/E38pvwE/Tb8mfxl/P36gPrP+Q/5hvjv9zP4oPgg+fz5Hfrr+3r8ePob+sf3ivUG9MLwMPBU8fnyPfaB+Q/9fgE9BH0FoQUwBJkDFwNJAmwC5gI7BFEG/geNCaYLzg7nENgSpRSkFDkWkhX7EwwTbhAcDwwNHw3aDScPwhKoE3gVJRYBFBcSHQ5kCVgFpwHv/vH8A/xF/FL9Qf7g/pP/K/8c/vj73Pjy9Yrzn/Da7Zfth+0L7+7wUPL29AD3VvfM9fL1BfWS8zvy0+/q71jvSu9y78Pvc/Hs8tX0vfXL9qv35veI90j2tfWD9B3zH/O88ovyZfGV7v3tJOyt5z/j6N4F3A3bFNrL2X7d9OJ86QPwqPah/sYFHQwREJcU1xjiGtwdJCD6I74oSyzcMWc3nTuEPns/cT8XPfQ5rTS+LqYqBiQzHyMbDxaqExQQzAymCzQJ2wWOApX+OPuw95TzTPBP7urt3e1w7mzw9PJg9eD39fc09xf3bvSj8M3ryOec5czjweOS5JbnC+3P8UD2Uvrk/R4AvgHoAlUB5gA5ADr+a/5o/+v/PwH8AikDCATVAwQCt/5A+jz1ye7K6WTkmODB3mLe5d964hbmMOiM6s3r8+t46FLifNt60/PM4cQzv8K7JL2gwubIw9OC3kDsCflsA00NxROYGSEc6B7RIY8k/ih4Lww4i0EzTOxTilueYExh8l6uV0JOZUMmOIcsnCK0GxsXThQ9FHsVPRacF6kWORTsD6gI4f+o9q3taeby4Y/gDOS26f7xK/s/AqoIfQkFBi8AHvYJ61Hd1tDoyKXDJsMfxgfNJ9hb5enwdvuSBDoKEA3mC2cIuAMhALz6a/f/9xn51/03AuYGUQxmEMgQkw5VCr0ChfrK8KbnU+C82prXvNef2kffXuPf5xLtOvA68rrwj+5O7IPq8OeO5MrjUuAu3e3ZYdSrz1DKecUUxNXFPckn0JzaYed89pgFChNEH1opTjB+NHY2fzfIOKo6Rz70Q5JLT1SKXBFk42j5aQBnpV+zVHdHhzlwK2AfHRahDyoMpQrrCvwLgguICSQG/gCH+qjyqOux5ubjNOS+5hDsJPT6+8cCYQfoCMgG8/758t3katfqytu/KrlKuOK8AsV8zw/aqOW+7zn2+vjp96P1f/F27SHq+emQ7WLzO/wyBjURyBmiHRMeZxrxEikIT/rK7Xfkst2S2hPbbeDX6LPxX/pmARcGqAdYBMD+Vfhh8Qjscefp5U3otOzt8YD3TPxP/5L+GvkV8fLlxNmKzcnDNL+Yv0/F+s+531Xy3wUsF4olJDHuOFs8KTzLOos5xDm1O/tAkEjaUdFbAWQhapJsfWozY2ZY1EraO+ktICARFSEOkAk9CL4ImgliChEJvwUKAGv3ee3/4k7ZENOb0PDRfNez4NrrifcnAYYGcAgWBDf6++wf3R7OqMBHttCxhrLUtq2/fsph1RbgiOdX61jtX+1d6zrqw+nY6jDvhPX7/cAHURHuGDsdcx7zG8YV0g2NBMz7pPUv8oLxWPPK9jr6If1y/g79ovnA9MTux+ju46ng/99b4pjmX+0/9dX8eQRPCW4LUwuhB+P/2/WV6nffmNYpzzXMmM7Z1MndrOiC9fkB5Qz+FN8a6x6OISMjIyR4J8gsUTN3O4ZF5VCCW+1jdWj9afRo5WIXWXtNBUFvNXkr2iLcHJ8ZSxevFU4TFRAdC0AD7/kg7+vjutnG0PrJl8c7yTvNMdTZ3NDlOe708rrzo/Gm60Pib9frzLnE1r+fvVO/5cQozcfWld9W57ntcfEr8fruOOwK6o3p6ul67Wv0pv0uCLYSixw1JPUosim/JgUhNBlPEA0H5f7o+Az11vJm8p/y8PIG8+Twge2r6Rzlo+BQ3YXb6dsp33njNOkl8I/29/s5/xcAd/8u/k775PY/8lfufes16dnn5+fF6cjsq+948ij39fwDApMHpQ30FFod6CTWK6AyFjl7PqVCGEbYScVN+lClU1FWIVmxWqla7VkEWPdTWE5LRxE+oDM9KNIbvw9/BLv5EvDU55ng1tqJ1cPP4cqoxrHCab/hu0O5wbfstfu0tLQXtVa2+reXunq+U8PJyAPPW9UK3JrimOhS7kvzAfiR/AkBfwUYCm0OvBJkF1sbeB7AICEiQCIDIscggh6IHKAZZxY+E7EP2gsTCEgEVACx+1H2cvHE7OrnFuMk32ncONuU2zzd1t8r48Dn8+t177/yR/V79075cPrF+1z+WwGBBRYKfw5AE+oWPxkMGmAZNBdVFLMQcA05C8IJKAogC4YN6RFtFq4ach5RIbgixyKnIewffR4EHQMc3Rt+HMEdJx9wIEQhvSF+Ic0gvh85HiQdqRvvGa0XfhTjEFMMMAcpAVb7TvU77wnqBeXv4EXdDdqK1x/WZNVH1ZzVw9Um1kfWe9a91hHXute12G3ak9xy32LiUOWN6KPrme7b8Abz8/Sk9nb4GPqB/Jn/1wKwBokKgA7oEVAU4BU9Fv0VdRTrEU0PygybCusIhgeHBjUGygXOBEID+wAD/r36O/do8xHwcu1862jqHuq16ozrpOy+7ejuMvHX8532/PmZ/ecAogMHBh0HTgeEBnkEKgP5AS4B0QAMAcMBSwI+A0sDLAO7AioBqf/Q/ZL7d/nB9932zfcZ+jr9WAIrCFYOSBRdGU4eByJRJL0lSCcOKesqKy0XL64xzzPANDA12TOXMT4uBSqqJU4hTB25GXwWHhN+ENYNyQqgB7kDX/9X+sD0xu6R6GviutxP2OLU8dKU0g/TS9Q/1QPWEtZW1Y3UWtMp08nTl9UJ2Sndt+Jk6EnuNfTp+LX88f8TAgcDngMtA/0C0AKjAvYC3gIjA0UDKgOVAlEBm/89/dz6Ivhy9VjzKPGV78fuPO5l7tfuvu8O8avyx/Tb9tf5GP1fAK0DNQbTCFsK5QlHCIoF/QHi/rH8EPun+mH7M/xk/ZT+Mf8m/1v+KP1i+1/5dvf/9Xz1SPaA+D38rwGbCIoQLhhGH2UlNirkLXQwqDKDNKY29TjROwA/40FgRJFFikWmQ9BAjTwhN+ExCyxFJpQguhrdFEYPkgk0BP3+iPmC9G7vUOoS5dnfv9o11pXSAdDdzrjOT8920CXRttFw0p/SPdNi1GDVWda41zDZfNsd3nHgrOMA5+Xq5u4p8gH1w/bd9034D/hi9232Dva+9iH4ePlP+rH66vqa+u35/Pin9+L2RfZs9Zj09vOJ827z5fM29az3wPpY/jcCYQXvBj4HVwbfBO0COQDA/T/7OvkG+CH4cflD+0j96v4dAB0BYAGqAJz///3W/D38F/z7/Br/lgItBycNKRRMG+ch7iefLXoySzYoORI7Sj1WPz5BB0NWRF9FFkakRvtFmUTIQas9zjhQM7wt4ievISobfhT4DQwINAJ6/VX5RfVR8e3siOj/447fr9td2L/V19N60o/RPNDSzoLM0ck6x5bEG8NMwqHC4cOLxdjHo8qdzUfQetKe1MHWE9me20DeQ+GT5O7o9e2C8xf64ADWBxYOrRJqFVUW1BUjFDsSXhDWDj0OaQ7RDkgPEw8HDhEMrggDBXgBqf7C/Ez7kfpV+gr62Plm+Qn5TPmZ+RL5s/fd9nf2Wfeb+AP6FvyP/Y3/gQHdAj4E2AQjBbAFMgaFBwsJ8grVDVER4hXGGn0f+SMzKGUsQDB1M0g2tjipOlk8QT25Pew9ez02PcE82TuvOpQ4kzX7MY8toigZIwkd8RZfEBcKwQOb/Tr4F/N47vzpgeUO4arcddhz1GfQpMwXycvF8cLXvyW9z7rbuNm34LeBuRK8b78Fw5XGd8pezkjSp9Wf2ffdcOJ755Hs3vH29uT7xgBmBb8JHA5DEhUWYxmcG1wc2xsNGiIX5xN8EG4NkwpDCEQGZwSoAlwADP6j+zn5Pffb9U30x/LV8QHxmvCt8HzxcvMw9un44fo+/Bv9iP25/kUABAL7AzMFEwbwBrEHFAgyCA8Ibgh/CT8L5w2fEKkTAxe8GqkeFyJDJVYobStbL3czYDciO9I9sT9YQG5A7T+pPuM8TjqAN0k0qDBLLFQnLCIMHb8XQhJVDM8FPP9s+Pfx+Ouv5lXix95821LYS9VB0ozP8cwNy53Jrsigx/nFjsREw1nCA8Kzwl3EGseHyiDORNKc1vHafd+1423nIOuW7hbyx/W9+fb93AGiBV4J8Qw0EMkSYhRrFdMVARU/E2UQxAy+CU4HIQWlA0oCDQHM/wn+KPxe+hH4Evab9H3zUPM886XzgvSx9d73w/oE/q0B6gRQB4MIVQg3B7AF1QSCBCUFbwbYB8cJwgs4DaoOdA9uD4APDQ86DwAQpBAaEtcTMhZTGWAcBiDTI5InXCuCLp8weTFsMWQwyy4HLTorrilmKDUn7CWBJPghYx7YGXQUHg+oCZQEOADu+8H39vMp8KbsdelV5rnjFuEb3gvbg9cr1IXRhs+BzuDNlM3RzarO+8+N0QbTCNTw1LXVD9dX2VrcD+B35KXpC+9S9DD5u/3EAe0E4AdnCisM6Q0XDzoQNhGtEU0SOBLbEfQQNQ+LDO0ImgS///H6hPbp8ifwT+517ajtXO4k7/Lv7fCz8fHxuvFS8SHxi/Hp8j71kPhP/Hz/wAEPA08DfwPAAwME0wRnBZAFBQaDBmkHsQjNCR8LbgxLDqEQUhK1E1UUWRSmFEIV1BY7GUEc6B/nI7cn9CpQLXsudy6gLbMsyiv4KhwqSSl0KIkneSb6JPMiIyDRHCoZQBXQELULDAYbAG36RvUH8ZPtZuoF54rjvN+u25LX3tP00MbO0M1lzYvNaM41zxDQUNHi0uzUm9fq2rreIuMA6MPscfHH9aT5Mv1GAPIC9ARJBvQGEQcnB00H2wfRCHAJXQkYCLoFrQL6/mT7gff88/Pw5+3c64Lquemt6UbqGOvq66zseu307fbt9O0X7rTu0+928Tf0Evhd/N4AuQRCB0sIPggCCBYI4Qg9ChoMMg5TEEIS+BMuFVkVPRXfFGIU3hOsE7ITgBPJE7IUPBYoGFIaYhyCHpEgHyI9I58jcCMYIwcjuCMqJQIn8yi3KuMrbiwkLFkqPid9I48fxBsrGFwUVRD/Cz8HbwIC/gr6MPZj8ibuaem35NvfJ9sx1ybUEtEGzlDMi8vTy0rNo89p0mfVlNd92MXZh9uX3rDjv+nQ73L1CPq1/G3+RwA3AhMFBwnxDJEQJBM0Ez0RHQ5XChAHKQWlBP0DFQLE/r/5CPRp7o7pcOZW5XzlbOUY5bDjEOEE3ijb7Nl32tzcZ+Cc45PmNOlS6wHtW+6v7/fw+PIk9u/62P+7AwUHwQhNCiAMTA75EWMWCxs5Hyoi7SNFJSsm7ibjKBAsajDHNBA4TzqKO9s7UzvaOn47qDzHPbA+7j5cPp08/DmmNngy2y1XKCQirxuoFGYN3QV1/jr3cPBr6dzhDtsl1aLQm81Lyy7JHsdWxDnBYr5jvFC8HL5swZbFOcrKzjXTlNcC3Ofg0+b37HTynfcr/IkAqgSfCFQMkA/OEogVVhcFGdMaBRxmHJ8bohmFFoUSIg7xCVgG7gJm/7H7gPe+8hzu+enm5gzlxuOE4g7h/d6o3JPao9lD2gTc8d4i4tzlaumq7GrvifJL9mT6G/+RA0UIRAuCDK8MYQ1tD6sR2hMXFEcT3BHiDwoPMw4rDygQyg/sDpINrA6HEOQSxxSaFhMZUBp5GtoaFR1TIO8jZCdzKrIuwTLSNYs4ZTqmOzk7DjkpNqgziDCjLJkn/iHnHJMWsQ/0B/EAOvoy86jsXeYc4TDbKtU2z0nKgcbSwrnAuL99wAbCX8LxwjTEVcZOyQvNv9Hm13TeoeN76EHt8/Lh+Pj9awKaBjYLVA9EEwkX2BrLHfAevB6iHZAcyBoFGOMUrhHiDTgJfQS4/7D7xPeM83fvH+xa6WXm2OOE4d/fLd4D3KHaLdr72qXcYN5m4bDkWuh16xXvJ/R1+fD/uQQRChoNAQ5qDgIO3xBCEiQStA+wDRUOhw6WDyIPOBDHEJkP6g0eDC0Ngg6oDtcNwA1TD/wQRBO8FfAZER+AIqUlzij+LCgxUDOaNHc1gDa3Ni02qDXaNIIz2i9GK7QmXSJ/HdAWgA/9BwEBq/kt8j7saOft4r3dCthl0xHPxMpZxjnDM8LgwXfCocISxBvHjMq0zrXSjNd33BDhQeXN6f3uy/Nh+Fb8TAEJBi8K4g1LEZEVIBhtGTAZYxjmF+4VpBMCEcEOtgxeCfYFiQEY/SL5X/SJ8Nrs0ukz5wLltOOO4t/h8OB04HPgY+Hv4l3lauik6yrvhvG/9az56/0PA4EGvAvVDp8QwhBZEL0SixMPE3wPaQy4DLoNQw5KDFQJVQc+BeACoQA9/8H/4/+d/zgAWQJ2BbwIxAtWD0AUtxi/HIIgDSXwKZMtXzBOMmM0gDbRN5g4CziCNlIzsC8fLDsokSNXHGsV8Q5lCWEDVfzp9ajvVuqF5IvfnNsQ2I7UqNBFzkPN8cy7zGTMLM0Kzx/RT9Pb1THZLt1y4DrkV+k77rDzIfjT/HoBqwSqB68JOgzlDuYQLhLsEkETzRP1E+ASVBHrDvoLmwjLBNQA/vtL9krxLOzF57HjZd983Gfa3tmU2bbYLNge2ETZA9sC3cXfGeOL57fsnfL2+Bj/wAS4CQEO0REgFdgWjBezF6IZ7xoKGhUYIxZKF5kXEhYcEgcOQAyACsUIgQXIAjkBfwDXAGYBLgP7BN4GTwnRDHUR+hT5F0obrB8CJBQnvykwLM8u4jCUMuozdjTBM5wxKi8TLY0qryY9IREcuBdcE7gN2gWI/zH6/vQJ70Xo7+Pq383beNd603PRJc+3zDXLjsqcyxrNNs6wz5PRRNTI12PbS99o46rnx+uK7/TzE/jc+07/cAODB2YK2gzpDSQPZA/mDj4OLwy2CXEGNwOoAB/+IPtj93jzT/DL7Rzr2efy5L7i5uHX4Bnfet673jrhGeOE5cPo/+vL8KT02fmL/V4BNQU4CJwNzRBsFegWDhYoFpMVHBh2FikTABCcDX8ORQ3wClcHGATYAqkBf/9t/B368/ho+N33U/gL+tX7mv4+AuwGjwxOEXcWjhvQIPclpykvLRAwkjPGNss4tjlMOrQ76DtYO8c4RzVeMYEsxChGJBwf5xfvEJ4M9gYKATT5yfLN7pfp6OQp3f/XTtVg0jjQQMqNxy/HlcfwyLDIZcoVzHrOvdES1STZHt274Pzk1upg8Kj13fmH/ZQBPwR9BtEHpwiTCQAJKwi/BkYFugM8AZn+Sfsx+Az18PIx8fXuKu0e64vqcOr16lnrJesq7PHtO/Dh8Z3zp/VS+Bv7z/05AdcDiQYsCcQL/g7FEA0SfhHeD6IPcQ9zEA8PHAxLCoQJcgp+CR0HpQNlAZsBoAFzAOL9V/xv/Or95P63/4QBkANvBt8Jog0WEcETzBaGGtgdPyE4IysmjSlTLP4vaTExMyM0vDTvNNYyDDGhLeEpGCYnIkoe+RhjEyUOIgmaA1D9a/eS8jLuKOkV4+XdIdrv1j7Tx875y5HLU8wgzWLNis7M0CTTFtY02OXaLd7d4Pfkuujd7O7vQfLb9fL4LvwM/lj/KQHbAigEQAQqBEIE3gMDA6cBrQD5/7v+W/3a+//6vfm19zH2iPRK8y3yF/HQ8LbwvPEb8z/05fUj9/X47/qs/Lb+l//cADcCvAO9BfMGJQjjCYQLVgzADJQNBg8kDhMMxggqBzMHcAVOA0D/kv24/Or7U/ut+HH4sPfR99X4dfm4+xL9RP+1ATwF4QiXDCAQwxTlGTEdlCFiJE0oeCsxLaAvOzGSM+k0WTVWNbU06zMFMukuPyvKJkAiEh7xGAIUIQ3cBjwDCP4T+sPz2e3J6mTmQuMD3sXYftZG1MPSE9FEz5PPsdD+0Y/Tw9ST1ijYD9oJ3Qvg9+Ki5TDovev874jzEvbN90X6mfwg/kb/cf9NAOQAegBJAGL/fv///qv9nPwL+336rvgN9wn2yvQf9CzzdvKZ8pbzhvQ39WX2L/cv+fr6QfyN/m3/GALPAykGhAjsCB8LtgvqDVAOCA11DfoL6Aw6CzIILAeFBBwFDwOk/wr+z/t0+9T6F/m790j3ffc0+RT6rfqB+5r8DgCuAz4HRwrwDBYSEBfGG1gfriFfJkUqbC4cMUsy4zSkNYQ28Ta7NYk1RjN1Mdgv1izWKjgm1yGhHL0WchIuDPYFsf9j+R31dfAI7K3nGeP+3wzdfdo/18vTOdF/z1fOBc0bzLfLU8wHzhjQC9IQ1CXXU9p53QPhouOd5ljpBewC72nxtPOZ9Xr3rvm2+/b8Jv5T/x8ATwGzAYABjQHwAOIAgADC/33/lv6+/Sr9gPxC/LT7h/tU+yD76fvL+9v8C/1s/VT+3f3Q/xwALQFYAucCiQWzBQ0H/Ab5BhwIVgcxByAFtgM7AuUBygGnAPj/Kf5I/pj9W/48/+P9VP56/T7+lf8JAAQCuwJdBd0IJA1UEhYWXBqPHdAhYCUOKHMrKS0nMF4yhTSRNsA2dzf5NlU2ITVoM9owEi76KgMniiPgHXoZMBQlDuIJogPm/nz52vP/7wXqiOUB4dzbo9io1FrST9Amzg/NqMtky+XKBcs2y8DL68wUztXQ7dLz1f7Yo9tA3wLipOXF6EzrKO508CnzkPWq99D5bfv5/HP+OgCcAYYCXQNDA3wDFAOfAucBpgBAAGT/iv+Y/5n/yv87//D+V/4Z/oH9G/12/Tn+fP+uAMYB4AI5BNYFgQdKCAoJgQlPCtkKXwpDChIJiwjMByIH/QbABewFYgX8BMwE8wLkAQcAFP/9/tT9M/7A/ZL+xADQAWkECwZ5CJQLZw5oEjQVvxj6G84e+CFsJJsmRihhKlcsny5XMPowNDGSMK0vui0nK0Mo/STnIb4ewxuwGOsUnxACDEAHfAKp/br45PNO75LqGebG4XjdftmG1Z7SjtBQz8rOGs4CzsHN281TzmHOFM+uz87Q79LA1UvZm9wW4FTjceb56TvtIPDB8jf1hfft+R383/3//tP/zACrAbQCbwP6A/EDewM7A3gCgQFhAGL/3P6N/p7+oP6M/q7+kv6Z/t/+QP/g/3sAfAGsAhAEkgU5B6QIgwlsCowKegriCfIIWAhTB8kGEwYoBVAEDgMqAm8BeAD9/1v/X/7y/TL95Px8/Or7ffwH/a7+wgDvAuQFewidC8IOmxG5FL8X7BpmHgwitSVRKbAssC9GMlM0iDXwNdU1cDVoNMEymDDLLeUqfSfHI/8fwRt3FyITiA6vCXUEp/7l+Ebz9u3U6MDjZ98t22/XKNQo0ZfOVczAyp/JDMm6yOvIZ8klynvLEs0+z4PRodRh2Ajc1t9u4/7mUuq/7erwwfNl9sf4aPu6/ev/pwG9AqgDPwTCBPcEygSqBJQEdwQ9BLkDvgJlAU0Ajv8M/7n+oP6t/sz+Xv/C/xcANQBAAOUAXgFFAikD0gOlBIIFmAYUB0UHNgf0BrUGbgY9BoAFOwQIAwwC2wD4/yr/dv4V/uj9bP6E/qT+x/7z/tD/lAAkAhYESQYVCfsLRA/AEjYWxhlJHZAgTSTPJ/wqIy7DMFozYTUjN0g4gThTOHc3MDZgNEEygS8ZLCkoASTJH+EaDhb+EK0LPgaQAA77GfU0763pJeT73pDartYa0xvQns2VyxLKB8l0yFDIdMgryWbKw8uZzRbQ+tLg1SvZgNzM3zbjeeab6Qzsmu4a8abz0/Wy9z/6FPwR/rn/uAB+AWMBagHsAP3/HP8a/kr9v/yF/Fn82ftG+x777vrW+s/62PoR+3v7bvxA/QP+0P6x/6AA8QGJA8ME/gUBB/AHpggPCTkJ5Qg/CPoHHgj3B2wHogYaBisFLAR1A2UClAHWAJ0AvgClABkBugGKAtUDnQUJCJ0Krg1IETEVPRk1HUAhzSRnKAIsXi9/Mjw1pjcPOUA6DTs+O8k6eznhN8Y1+zLRLx8sdSeFIjUdiBeXEacLPQbPAH/7c/Zn8Xjsjee14gneWdkk1WjRC86Ky5bJNMhXx0fH78d4yKrJLcsLzRvPY9E11LXWP9k23LPf7+Ip5m7pguwx78nxa/Q69r73Kvmm+qX7RPwu/d/9Nf6o/vH+x/4//uf9nf22/Bb8rfv9+nr6sfoX+0v7qPtU/Az9wP3p/sT/oAB/AYIC1APBBOYFEAc3CCMJDAqsCs8KqgoxCq0JvwjWBxIHDQbkBC4EXANKAiABOADC/x3/u/61/uL+aP+DAOkB1QPdBXsInQu1DloSPBauGQIdvyA6JKUn1Sr+Lc4w8jIYNd029zeYOLo4QjgpN2Q1RzNnMOIsMilAJf8gYRzOFxMT+g0fCTwEzP5v+W/0oO/r6obma+Jl3qDahNfa1EHSL9CazpDNAc3yzIDN783Mzv/PXtEh0+XUC9cj2SHbZd3+32ziz+Qv54rp2Ov77RLwiPHg8gr02vSX9Sb2xPZL97T3J/jV+Ib50vk++o761PpH+8D7R/ys/B39xP2E/ir/CADuAMMBqQLRA/oE3wXpBuEHqQguCaAJGgpHCpwKEAsOC+wKdwrZCSYJCgjkBpsFOwQHA0cCdAHAAEAAi/8g/6/+xv4f/1b/LQBQAcYCugQpB7sJVAxnD9MSXBYSGqodKSGTJKwn7yqhLfkv8TF9M+U0iDULNuA19TTUM0UyNDCfLTYqjSbcIsEelRo9FpsRzAwiCHcDnv66+c70BvB/6znnSOOH3wbc+dig1mDUb9Lo0EjPRc6jzXXNn831zdPO28+b0bzT1NVL2Hba39xB30/hYOMV5c7mVOgs6hXsze2w74bxifNN9Sb3zPgY+kn7RPxc/fb9Zv7h/t/+CP+D/7P/wP/r/y0AfgDvAFwBfAGUAaYB5wFDAosCtQIDA5gD7QN+BMkEywSvBKkE1ATUBOAEwQSxBJAEcgRFBMADEANfArcBPwEnAQgB4ADlAPkAoAFnAjEDMAQ7BdAGrgjjCjsNqQ9tEj8VXBjHG+ce1yG3JHAnMyq6LPsu3DBTMqIztjR2NcQ1kDXmNPAzRDInMIot9SkUJvohuB0eGWMUqA+yCuMFRwGt/J/3jPK17QvpgeQh4BncK9jR1O/Rcs9+zf7LEMuEynbKsMopy7HLO8xzzdDOWtBP0mHUxNZR2UTcRd8i4gnlwOek6mbtHfDH8vT0DfcS+Rf7vvwK/kT/EQC4AEQBwQHtAdMB1gHMAdQB2QHQAaMBMwHcAKcAMQCE/wn/pf49/hP+If4z/kj+yf5y/+X/XAC2AFoB/AF0AgYDNANKA2IDzgNkBLQENAWZBfwFcgaxBucG8gbUBgoHoAcnCPsI/gkFC4AMLA72D98R1BPuFVIYCxvUHXIg+iJkJeEnYiqXLJEuLjBfMUkyFTOKM4EzHTNhMjQxii9hLboqgifZI/Yf6RuGF8USFw5UCWIEnv/1+jP2bvH07KTod+Sc4Orcetk01kvT3dC8zgjNoMuwyjTKJ8p4yjHLKMxEza7OY9B10pvU+NZ+2RDc2d624Y3kQ+fe6XXs+O5w8dbzEfYY+Cb6Nfzw/Yb/tgCSAS8CYwJ2Ah4ChQHwAEkAv/8z/9j+ef4V/tj9lf1p/RL96fzB/Jr8pvyx/Mz82fxM/eX9av5W/0EAGAEbAhcDDATqBL4FQAaZBgcHUgedB9AHEwiICBEJzQmuCpELbgxFDS4OIw8TEAMRShK4ExgVrRY5GOIZoxuCHY4fcSFyI18lLif9KJ4qNyxLLSAuti7rLtYuUS6mLZAsQiuuKcQnbCWdIpwfQxy0GAIVABHFDIUIHgS1/zP7nPYk8rXtj+mk5f7hdd702sfXz9Q30tHP2c1TzDrLvcqeytjKNssUzFfN2s6f0K7SzNTo1lHZ4NuU3lDhI+Tp5pvpRuzp7j7xSfNV9Tr3+/id+jL8cv1m/kL/9v9vAKYAyADJALIAqQCFADEAnf8o/9f+RP7v/a/9Yf08/Tb9Y/2B/ZT9zP0k/o7+MP/2/7cAdwE2AiQDDAQKBQEGwwZ8BzsI/wjACYcKMgvkC5sMUQ0UDs4OMw+KD8gP3g8OEFwQBxHEEc0SBxRrFewWZBgFGpobKh14HtofUyGXIhIkdiWsJsAnyyjMKWoq8ConKxorsCroKb8oBSfsJGkinh91HDwZzhUUEkwOVApgBlcCEv7K+XH1HvEK7SjpWuWt4Ufe6trS1xXVfNIj0CDOjcyDy+/KqMryyrHLlczYzV7PCtHr0tzU/tY+2cHbet464fjjreZl6ebrdu768G7z1vXi99X5jPsG/VH+Z/9dABYBtgETAlgCZgIOArEBBQFIAMX/Q//H/lT+9P2y/Xf9NP0N/fX88vwG/Tv9a/2J/fv9a/5F/28AmAH4AigEgQXTBhwIZwl3CogLdQxPDRUOsA5oD/sPtRBQEdwRnhLSEikTdhO1E/4TNRSfFN4UKBXeFcgWbhcRGMwY7hmDG10dRx8AIZ0iFSRQJVYmZSdLKCEpyCkBKsIpLSkwKMkmJyUUI8cgTh5rGy8YehQ2EL4L/QYdAkP9ZviY89fuF+qR5UnhJt152ULWXdPc0NnOCs2Zy7jKPMolypXKZ8uczFzOXNCL0v7UwdeJ2krdH+Dk4qblOuiV6jPt2+9m8qj0lfZj+Pf5TPsZ/Nb8v/2S/ib/av9r/wT/Rv5R/U38jfsM+3f61vlD+X/4k/fY9jT2sPWn9cX1J/aw9kP3KPjX+M/56foe/Mv9cv9jAWEDLwUgB/oI5grCDJAONRA5EfERbxLNEhYTaBO7EwUUMBQ1FBMUwBN2EycTBBM3E4QT/RPAFHEVehaxFwIZiBoTHP0d7x/MIZgjMiX5JpYo9ylqK6csyC1nLpsuRC5tLTcsUioAKAAlpSHoHasZMRV3ELEL0AbIAbP8jfd48k3tQOhG43jeOtpZ1urS5c9BzQrLVckTyGHHUcfFx7/IGcrTy/DNTNDO0o/VfNi12x/fZeJp5TLoBeuz7Tbwb/Jv9Hb2NPi0+dv61fuQ/N786vzA/Hf8u/ur+qL5jPhi92T2hPW79C30nfMc86nyVfIg8gbyUPLQ8pHzafRd9Y32xPdo+S/7H/0w/0YBeAOTBcMH3AkhDHIO1BBVE58VyxeuGTMbaxxFHc4dKh5HHhgegx3NHAUcIBtDGh4Z4xeYFjMV1xNREt8QVA/kDawMkgv/CqYKpwrkCnULagx7DdcOURD4EbwTahUMF7EYWhoJHJEd/B4aIOEgSiE0Ibkgtx9IHlscERphF2cUARETDe4IjQQOAIr79fZV8uftkelh5X/hF94827jYqtbv1JjTS9I00anQVdBy0OnQ5tFP0+XUu9aW2JXanNyz3ungHuNM5Vznh+me64Ttju928Vvz/vRK9lr3Gfjd+FP5uPnW+Zv5j/le+VD5NvkF+cj4aPhP+CT4Avjl95H3Lffy9s327PaD90H4KfkH+g/7HPxP/b3+PgDxAbkDwwXQB+cJ+wsADiIQTBJZFJ0W9RgtG0Id7B56IKUhpyKcI0Ik1SQGJcokLyQlI7Mh2h/VHZUbHBmiFisUqxEsD6AM6AlbBwcF0QLLABP/fv09/HH7+voJ+337ZvyX/Rf/2wC7AtkEJAeGCfELXA7AEOoSxxRzFr0XrRhFGYwZhBkCGfsXUxYrFKUR5g4QDDkJTwZBAxsAnfwN+Yr19fGJ7hTr3efi5C3iv9+A3aHb0tl42ILXv9Zj1lXWata/1mfXS9hO2Xva8NtP3cjeSOAF4v3j8eUQ6AfqHOwp7iPwB/K68371APda+JX5nfqD+w78ZfyX/KL8sPyx/I/8TfwA/MP7X/sJ+9/6n/rC+vX6GvuZ+yz83fzl/Rv/bgAfAjEErQYeCX0LCg6QECUTjBXHFwgaJRwbHjcgKyIEJMElJSdcKA0pXClJKeUoRShAJyEmtSQHIzohCh+1HBEaJRceFLwQaQ0PCpoGXAMJALv8rvnp9mf0FvIV8F/uDO097KDrIusf62rr/usm7ZfuWvBh8r/0RffO+ZH8SP8TAsIETQfCCQwMCA7xD5kRrBKoEyYUNxTvE04TZhIVEY0Pqw1+C/4ISQZdAxgAzPx2+Sb2AfMQ8D/tgOri51rlDOP/4Eff4t3J3BbcrNuF24zbotvp23HcHt0S3l3fFuH/4u/k/eb66AvrG+0l7yXxKvMn9Q/34fh7+vL7hv0X/4UAJgKfA/oEPAZTBzgI5AiICQEKfAr1CnsLDwyODDIN2A17DiQPzg9pEAQRsxFfEigTuBNdFB4VuRVgFsYWDxcmFx8XFBfHFnQWJRa1FQkVLhQdE8oRWxDHDh0NhQvqCVgItwYUBXYD5QFoAOT+gP1D/B37Bfom+Vr4jPfS9i32vfV59XP1jvXF9SL2cPbL9ir3jvf093D4FvnF+Z36ivuB/H79nP6o/5MAhgFfAiMD4wN9BOoEfgUUBq8GOQeqBwkIMwgkCNkHcQe6BukF/ATCA5gCXQH3/3X+4/xg+7f5Ffh79tz0XPP48ZjwVu9B7jftf+zT60Xr9OrL6ufqKeuZ61PsH+0J7hLvH/BI8VzytfMP9VL2r/cO+Zj6D/yO/RX/XAC+AQIDHwRXBYYGnweiCL8JkgpVCw4MlwwWDXYN2A0fDoQO2g4iD0cPIQ/8DqEOIQ6SDdsM/wsDC/wJ4Ai6B6EGgwVoBCQD4AGjAHL/OP77/PL73PoR+oH5+Pia+F/4PPg++ET4VfiO+BH5pvk4+vn61vvS/Nv93/7f//AA6gETAxAEAwUhBvQGwwddCNwIYAnfCVcKjArdChkLDQsrC/MKmQpSCtwJaAnRCE0IwwcMB2IGqQXiBC0ETwNWAngBhQB4/4b+hv18/IL7k/qn+YP4gveR9p71ufTu8zDzfvIs8qTxR/Ep8fXw+PAK8SrxTPGJ8d7xKPK68krz9vPu9Pb1LveA+A36ePva/ED+ev+rANkB8AIGBDsFWwZvB4EIpAmVClQLHwywDCINlQ2zDboNsw1rDf0MawywCwALSApPCXkIcwdjBlQFIwT9AokBJQDH/mT9IPzz+sj5xPja9+X2DvZg9a/0EvTe87Dzo/PQ8z/0ovQQ9bT1UfYM9+L31/iB+WH6eftt/Iv9h/6C/5sApQGiAmIDQQQ6BfIFjAYLB54HCAhVCIwIlwiVCKsIqQhZCFkIRgjjB7gHWwf0BrkGcwY4BsgF1QWpBTYFLgXCBGEEyAMuA5QC3wG3AUUBugCeAEcA1/9N/5n+4v02/aj8rfvS+h36Y/nU+BH4lPcP95b2t/Z69lH2rfbT9uT2Gvd597H3ZPgx+aP5Xvps+1j8Jv0l/ub+y//HANMBpQKgA9YEkQVXBhIHuAdKCOYIUwmYCR0Kowq3CsQK9AroCrgKngpLCskJrQnZCN4HPgdDBkAFXwRPA0wCmQGgAJP/l/6i/Wv8YftF+jr5pfj795T3OPcC9/r2Fvc59zn3iPfn9xb4ffgR+ZX5Zfo+++H7svyL/UH+3f6F/wQAmgALAcIAAgE5AQoBWgH3AIQAYQA2AOv/S/8h/4n+Mf45/qr9TP1X/SH9q/y+/Iz8J/wr/Dr8+fv/+5H8ifx7/MT8rPyK/MD8CP26/KT8YP0w/fT8W/3T/bL95v2U/gz+CP/l//L/nwA9AfkBGgL6Ao0DDARyBQAGpwaAByMIEwmoCawJFQqRCm0Kjgp8CkYKTQpJCucJZAl3CRYJqQiUCDsIfAfdBnQGOgUxBG8DKAIzAdIAOgBn/zv/JP+A/iL+Gv4p/aj8dfya+xX72fqV+sr5qvmC+dD4wPgC+QD50vhX+WT5QPnu+QT65/mD+hj7NvsH/OH8Tv33/bP+N/9r/z8AwgAMAbABZwLEAvoCvAP7A90DMAQFBH0DagMkAxIDcgI5Ai8CwQEbArkBmQEkAVwALABM/73+N/6N/Uv9ePwm/Mb7Zfuf+4z6ZPod+jX5X/nx+Kf4+ffc95z3zvbZ98P3a/fS9xT4e/hc+Bf5rPiP+I75YPl5+Qf66vpJ+837jfys/Kz9+P6K//D/2gDAAYICMgOaAyYEjgTWBeIGIQcjCCcJiwn6CYYKiQoBC7kL3wvzCwsMOwxQDDsMFwzPC44Lcwv+CkgKvwkuCXYIlwceB2sGkwUIBT0EcwNtAq4BzgCz/wz/Nf5o/fv8VPyz+zD7uvpE+qf5p/l++Tf5Q/lO+an5y/l2+iD7ift3/Jn89/yw/Qj+af7n/sT/QwAIAQ0CeQJCA8ID5wM7BDMEYwQWBPIDAwSkA7kDgwNvA0oDSgNWA/wC9wJzAkECPgJzAQMBvAAvADYA+v8w//f+4P61/lT+9/2t/S39JP2O/Dr7xvqB+t75Tfl3+ML3JfcZ9/D23PWs9Zv1hPUN9k/2Fvbr9Vn2bvaE9qX2r/Yp91b3I/ii+KX4B/rh+i77gPxk/dD9if4k/1r/gP8yAC8AwwDMAQ8CawLaAikERARpBBoFqATxBP0EEAWRBdMFHQY7BhMHzgfoB4UIhwjACDEJRQhgCI0I+QdNCB4IbgdgB1QHsgZMBsIFuAT5Ay4DdwJsAVgA4P+x/r79RP2a/Pr7xPuO++L6Wvv/+2n8Pf0n/pD/FAG/AjEEWQXSBhYISwlqCiwM4Q0GD8QQ0RGuEowTKRQPFLQTvhP+EjcSAhF2D5wNnAvICf4GegRsAuf/pv1I+8v4ifZO9FryPvBt7ufsluut6sHpK+lp6DToP+gw6MXoTOnb6YLqG+sn7NHsfu0D7z7wYPGg8hL0dPXX9vj3Evkm+lP7Uvzw/A3+qP5J//P/mQACASIB2QEPAtMBHgI0AtcB4AFoARcBTQFTATEBxwDqAP0AlwA7AM7/ZP9E/y3/0f6p/hL/Sv9g/+f/fgAaAaYBiAI+Ax8EPwXZBXUGigfSCHkJQwoVC08LVQtzC9sKMwrJCdgIAgjOBn8F8wMYAr8ATv61+1P6AfjS9W70BPOV8nfyjPJm87r0t/bG+Cj7+/3iAOwDAAdRCqgNOhHvFGQY8RuCH7YiZiWmJ3IpkCoXK8Mq+CmNKB8mnCN9ILYcDBmBFIEP/woPBk4B+Pw4+Bv0SfC47NHp0OZW5DPiT+DE3rHdJt3z3HLdDd7k3iXgWuHR4i/kp+Wz51fpGevY7GLuDvBe8a/yyvPr9EH2Mfcx+Db5I/or++T7dfwi/b79S/7D/gv/X/+D/4D/fv+N/6z/qv/r//7/7v8IANb/uf+K/zz/Cv/k/vn+Bv8o/4X/7v9rAPsAgQEcAtwC9AP4BMYFOAeECLAJBwtFDHwNTA4EDzYPRA9BD7AOCg4EDf8LvgpFCX0H5gQTAvL+Yvtm9/vyv+4Y63PnVeQj4sfg1ODB4aTjo+aG6jHvBvQz+a/+SwTxCV8P0hScGkEghSXlKu0vuTT7OEQ88D5pQKxArD8vPXQ5hTRfLnInCCAFGN0PxwcJALr46vED7BznKuMP4NDdVtzW2+HbKdzz3AzeeN/84Nfi3+QO513pW+ug7bTvhvEG8zj0SfW69R/2Fvbe9dP1lfVv9Tz1lfVT9t72fvdT+Cv53Pli+sr6OvvG+zX8T/yp/CX9aP04/fP8qvwL/Gb7e/px+YT4sPdY9hT1F/Tq8v7xD/G68N/wJPH98ZXz2fVh+E/7mf40AtwFDQmSDFQQVRMIFkMYXRrvG2YcVRytG9ca/xhdFoETNBC3C+UFwf9s+fTyuuu15B/f8Nri19nVE9bA2B/daOLB6CfxE/qKAscK4hIgG/MhYCd8LGwx7zUXOSY8nj/aQkBFikbQR2xIT0dERPw/wjpKM6sp3x7TE10I5/uo7+fk8NsN1LLN1smOyErJKctWzvnSd9jB3YHiRecJ7LfvePJ29Bf2fPfT98X3T/cf99j2cPX087TytfHf77Pt9+tp6jDpqefX5jDnROjE6YzrbO4Q8nj1pvhJ/AMA+gJ+BZkHjgkCC4ELgws3C5wKNglHB38FewPkAAD+E/tK+FP1Q/JR7zHt6usJ6/vqF+xf7pfxQPVW+XT+uQPbCOQNlhIWF/IavB2oHychtiEuIeUfHh77GxIZkRVUEaMMxgfgAZP6rvIa67fjLNxW1OvNEsrQx+vGx8e5y9TSJ9s65JLus/rKBgwRWBpPI3orGjGaNNM3jTtLPgA/AUAoQtNEBUYGRp9GBEevRXFB6jvYNb8txiI4FiEKNf5V8Xbkzdk10jHMb8drxZ7GWsqbztjT5trN4vDpke/Q9H75U/zq/B389fqW+ev2W/NH8Ovtkeum6LPlA+TT4tzgat8B313fbt8k3zPgKeJf5I/m++gr7RXyZPbS+hIAhAXLCQkNzQ+BEksUVRT8E6QTDxOGERoP8AygCvIHbwTcAL/9kPoP95TzSvG878Huc+5P7yDynPUm+X798ALZCO8NOxI9FhIaJx12HsQe6h6aHmIdtBraF1IVaxKkDroJiwW5Aez7ZfTB7ATm395r1inOTMg8xQTDq8HXwnrIptDE2G/iQ+7j+y8IWxKbHMQmBy+ZM7s2aDrAPe8+Uj4XP6pB4ENYRItEMUY4R+FFdEJJPkI5TzG7JhIbpA85A3X1K+gZ3ZvUEM2HxyfFn8bAys/P2dZ+33zoQ/By9uv7wP+uAAL/4vs++Izziu2p53TjJ+GM3z/ek96N4NrifOT85X/nhujn6EboSOir6MToSum46mvu6fKj9yn9RQOVCu4QoRXkGIwbNh3vG2EZ0hU0EvENawhCA7X+VPti9z3zL/Ai7r7st+pk6Q/pvekB60/sEu/W8mv3avxAAi0JJhDZFnsc6CHeJuUpyColKg0pByf4IokdUBibEzgOswf9AVf99/fD8HvpwuPe3YPW8M3Xx8nEPML2v0K/ZsQNzZLV9t6r6h36WgiiE0AeOCnAM2g5ejz1P61DxkWCRHBEk0ZPSdhJnUjCSb5KvUlLRbE/wzq1MtAnzhqjDq4CffR+5mnaBNLQypHE6sFRw0PIiM3R03Lcn+XA7YTzM/g7/IT9+/uq+Fj12/Fg7H3mUOJ74Nzevdyj3Lje1eG246XkxObp6Ezpfecd5v7la+XV5MXkX+c57CXxtvYi/WQFUw0+E0QYchyoHx0gQh4NG7IWFxHtCegC+vxU+EL0dPG28G3xx/In9Cr2Lvjn+ab6qfov++b7lfwT/SP/3AIKB5YLLBGMGIQfOCWoKVMtOjAnMIAt+ChWI68cZBQODCAEOf0l9zvxT+xr59Xio95N2vXVeNDBy5DIOcb5xFHEJ8cHzb/TKdw/5rvyFv8YCqMUex7rJw8uFzIGNq85JDwyPOY8uz5yQQ1DS0PPRKVGuEf3RatCVD6sN4ousiJGFh8JY/vk7aLhSdjN0B3LJMhgyJvL788k1Q3bkeEg6PnsqvCK8iXzv/L/8KnuZOtr6NrlVeTb4/Dj1eSE5qjoUOoM7B/tUu2b7HXrWeo56Q/ot+Yj5x3pOuzM7wP0yvkFAGcG+QudEKQUPxcxGOYXbxbIEyIQTQziCKkFxQI7AJX+AP7K/YP9VP0M/cn8bPzG+9r6tPkq+R35TvpR/P7+EQNRCLMOJBWyG4ohviYKK58txC5tLbEqjCbOIC0a1xLsCxYFuP5o+fX0PfH27D3oTeTj4B3cidV6z0jLTsgfxX3CecO4yFvPataZ35/rLfkEBTEPIRmkIropWy0aMMUy4TQrNQk1AjeHOqE9nD+yQpRGjkm1SRhHkEOePiM3XyxkIF4U0Qcj++bufOQP3CzVR9ARzjvOks/F0SHVkNnD3argmeJI5B/mlOZB5cHjOeOu41Hj0+L+47fmAeqi7C7vePL/9dP36vcL+Bj4w/dz9gP15vQV9dv0TPTP9FT2VPcq+Aj5/voe/Tj+Lf9eAB4C8wIKA2UDCASqBEQEswO5A8ID3QL/AUICoAKKAh0CiwLvA/QETwXuBX4HRgn9CoIMew5JEUcUFhdrGfobyR1BHtcdyhxdG0sYThQ2EIoMMgl2BX8CGwCs/kP9mPti+hv4HfW28PXrTOf24NHZ5tJ9zrTLmMn1yIjKFdDx1ireCOZL79f5dQIfCvAQgRf4HAogGyM9Jkcqey1QMMY0wDkuP+lCT0agSVdLJktZSKxELD/oN14ucSMFGcwNAAMO+Hvup+ap33nartWj0gvQ7M0BzR/MCMxly7fLAM0Jz5bRZ9NS1pzZjt3u4IzjAucH6hztSO9H8Y3zgfWQ97P4ePpz/Ar+nf/OAHcCKAMBA34CiwGWAMD+zvwr+z76xfnt+O/4y/mN+6X9j/9rAqAFpwg6CyUNkg4CD28OJQ23C8MJegeSBRsEuAO5AwcESQU2B5YJ9gssDk8QPhKBExsUDhSLE64S+hAFD08NAQyzClYJYAj+BwkI3wfoB8IHqAc1BxkG2QQeAq3+3vld9OXuB+jD4NfY4NLkzoTLUcmLyBDMQ9H61mLdBOUw79T3f/+lBkoO/RUCG9sfACVeK9AwzjSeOa0+V0TYR1FKrEwOTiJOPUsVSBlEvz4XN3ot8SRNG8gQ/wRt+Wrv+uQz24/RoslCw4y9srn1tp62ILeyuBy8wr+zxAPJeM2P0gfXgtv/3tHi0eZ46sntAPFS9VP5Ef2kAFUElwjJC3oOcxCkEewRjhCSDs4LmQiTBG4A+vxP+hf5Gvhd+Hz6qP14Ad4EbAjIC24Ogw8OD1cOhwwdCv8GNgSLAk4BvgBbAPEAQgKyA0QFVwaHB30IPgm9CZsJFQomCksKcQrXCukLfgxoDfANBQ/hDzoQehDND6UPpw5mDf8L1AkyCG0FwwKW/0/7hPbK8HXrOuX23hvYKNKmzqbL1MmdyHDK4c7J08LZOeCJ6VLzYPwyBZgN/xZwHg8luSpJMJw1BTnQPPw/q0MuRnZH7UhSSZVJoEe9RD9B8juRNbAsyCPoGd4OUQNI9w3tOOLW1y7ONMZzwMS68LaNtPG06raBuSK+z8LkyHvO49Nr2bfdEeIK5Vbo8epY7THwt/Jt9hP6d/4gA/0HzQyQEEgURBY1F3kW2BPcEHQMCQjoAnH+IvuM+Gr3yvYg+Ln5E/zc/iAB9QObBfcGYgcCB/YF+QNGAsb/Cf5p/Bv70vp8+nP75fzC/t0AEQOyBVII6Aq3DD0O8w9xEcYSoxOiFPAVCxeEF1AXKhfQFjoW3BTZEvoQ6g6UDOMJZAfEBOgB//6q+5X41PQW8BfrDeZT4eTb+NWF0AjNnMudyt3K38yZ0d7X9d3c5IfsmvUy/tQFYQ2tFAwcpSHAJs8rlDDcNCY4+TuBP91CMEVIRkdHT0dFRmZDpj8pO2E1ti6LJvwdtRRsCsj/w/R96jzgKdYwzXHFxL//ulG3RrURtcO2C7mYvAvBdsY7zHjRFNd43AjiA+e669nwxfVi+60ALwbFC7UQPhVOGBobCB3aHVodEhuaGHUVhxHMDDsIrAS3ASr/hPzo+hf6Gfm69wH2yvTJ843ySvEQ8d7x+PKA9G32VPnX/AAA+QIdBlsJFwzKDbMOhw8YEMAPFg+tDr4OOQ9jD+gP4hDkEdAS7xL0EvASeRJEEYwP6g30C+MJYgfRBKUCYwBA/nT8/Pqg+Zz4e/ee9r/1QvSW8gzwee206oXnB+Tw35bc49nt11HWqNUi1/PZCt724hjpi/Bt+EUAogf7Dk0WOR1SI5coii0CMrc1uDiOO/o9rT+8QJVBPkIEQt5AlT7JOyU47DIuLDkkkRsHErAHyvzQ8RLn+dzj0rLJA8KLu+62b7MKsq+yG7UDubW93cPqyprSTtq54Xzp9PCY9xr91QETBlAJ4AuKDSUPbRD6EFgRZRHnEcoRRRFdEFAPow7UDBwKsQb2Asz+7fnf9M3voutu6PTl3+Rb5Wnnduq37jr0XPq4AHkGHQxSEXYV7he9GO8Y7xcYFnETphB2DlIMsgp1CSQJ7QiECJoIlwjKCGAIvAcfBysGOwXqA/0CHgJtASYBxQAXAXcBHwJ9AncCzwJ3Ag0C2gCy/6T+Ef3C+zv6Afng9pD0W/LL79jsy+j+5JLhd95J22TYLtdQ163Y7dpy3nLkqeuJ89H7tQRIDlEXsR8DJ+ct1DOJODw8Dz+nQR9DsEN4Q/ZCGUIZQD89nznNNd4waiofI88amhEfBxP8nfAn5RjaO8/BxZy9aLcDs6uwqrDMsi23try2w6XLwdOx2wLjyem/78b0vvjx+7b+EAEQA/AE+wYPCSALYg3oDz8SuxNdFJsU+xOcEeMNkQkiBZ0ALPwQ+Av1OfN58rnyRPOz9MH2fvmF/KH/5AL8BRcJWwtDDYcOMg+qD6APcg/DDgEOXw2ZDHMLjAmdB8cF6gPSAX7/ov0w/Ej7Y/qu+a35Yfr3+6r9of/dAXkETAdSCdkKkgvTC58LSwrBCNUGHQVgA78BowCZ/xH/Tf7M/ef8Wvsj+d71T/Ia7h3pQ+PI3TDZ/NRt0S/Pbc/A0SnV9dmj4E7pzfIJ/G4FHg/oGPYhgCkVMA825jozPvw/PkEyQi5Cb0GjQDRAoT8/PiY8uTnENokyQizFJG4crhJlBwv7te6q4uvW58uwwpe7VLbjspCxbLJctbq5DL9UxWHMENRu22rizui57v3zG/jB+6z+PAGcA8cFxgdOCfsK0Qy7DiwQHRETEsASNhN3EvsQLQ+qDNIJ4gW0Acz9QfoU9w30F/JE8ZzxjfIN9KX2h/m4/K3/kwLDBSEIFgpECxwMhgwaDDgL5QlOCXQIUQchBh0FzAQEBCkDMwKHAYQBUAFCASgBtgG7Ao4D5gQNBpUHCQkiCjMLkQt8C68KewmTBzoFwgIsAC/+UvwD+8358PjM+Dz41PcT9/P1ZvT28WvvduwK6erk1eCk3ena1thw1+nXi9p+3pPjZenH8Dv56QFuCjQSJRqJIdgn8SwjMSY1+jcZOmc7cDydPRM+Tj4kPqE9Ijx0Of81fTEdLGMlgh3fFL8LhQJf+PHtC+Sp2v7R78kqw+i9QLoquIS3drjiuuS+B8T3ybrQ6Nd738jmeO3g86/5yP7XAiYGLgnnCy0OzQ8/EbES/xMOFZUV+hUtFtkV4hQUE7YQzQ1hCiMGYwHN/Fz4V/SK8FLtIOv+6Qfqvupg7OHuJ/LR9Z35xP20AWkFkQgdC/cMDA54DhQOdQ1oDAgLkQkDCL0GXQUuBDADYQLbAXABfwFvAV8BcgGMAdMBtQGvAacBcwEhAY4ARgDb/5r/Wv8E//P+5v5Y/9f/NgBuALsAOwGrARICCwIWAu4B9wBP//b8efos99TyLO686TDmsuKn3yjerN714ADkPegE7n71hv0mBf0M8xStHCQjTyirLGQwWTPDNHg1NTYUN343UDdRNyY3tDY9NaYydi8hK3YlLR6QFQcM2QHZ9kbrTeC01c7LDcO9u3m2YbNVsmezmLaHu+fBPMk80ZzZ2+G86dTwZfdZ/VwCnQbgCaIM4g7IEEcSjxPlFM4VmhYMFyYX7hadFbgTYBH/DdYJqAQ0/8H5EfRS7tXopuSd4drfdt984DLjKOcO7JLxyvcy/i0EmAkhDi8SHBXNFncXYxcUF7cVCxTYEX0PKA0+CoMHzgSuAowAgf4M/b77D/tR+s75lvl7+b35x/kJ+kv6rPon+937Fv2G/mUAQgKBBCwH7AlyDHAOYRDIEbkS5BI2El0RqQ86DQIKZQa0AlD+hvl39Nrvlev15pbitd4l3Fza89iu2PPZAN224D3lzOq68bL5RAHLCHwQZhjDH/IlLyuUL7MzhDb8N/k4jDnXORM5ujcaNko0sDHnLWUpxyNTHSkVxwujAfb2S+wz4e3Wz80txkjA8rvyufy5A7zTvxXFscsg0xLb++I16yPzV/qtABQG2Ap4DvsQSRLpEggTnxK8EVgQLg8CDpIMkwpMCDAGXwMUAI78EPnX9XDy9+656zDpTufD5dnkC+V65svorOtP7+jzSvnF/gcEJQkwDtkSTBbGGE4a1xo9GjIYUxXBEdYNlgkXBfAAJv3i+f/2kfT28sPxF/G98KfwMvET8qzzfvX49z77j/4+AgUG8wmIDecQ2RNTFpEYuhmGGuoa+Rp3GjEZhRdYFRUTEhCNDAQJXwXaAUT+/voE+HL1UPMQ8QHvKe2p6+vp9OdI5ozkUOMz4m3hWOFJ4lbkuOYv6l3ut/Ol+Xr/kAVJCyYRKBZXGtcdmyD2Iisk2SQEJegkiySLI1Ii4SDNH5UeCh27GzQakxhWFk0TfA8UC1EGtQD4+ij1qu/j6pTmR+P64PHf/t/R4ITi9eTb55PqJO1070Dxa/Li8gbz7PKM8gHyfPEs8fjwHfFi8eTxF/OA9B32yPeq+bH7bv3u/l0A1gHiAogDvgOaA38DAgNSArEBkAHeAT4C8gLoA2kFlAY8B3oHNwfABi0F7wIxACv9GvqO9oXz8/Ad7x7ujO3V7RDvJPGj84H2xvmp/bkBggXzCC4MQA+wEakTMhV0FswXtBgiGWUZfRlmGfwYURhUFzkW0BSYEtIPlAzgCN0EdABG/H34MvXB8s7w3O/P74PwIvIj9P32DPoz/TYAdwIpBH8E7wP8Acv+jvpH9cbvvukj5CHfUdtA2ZXYxNle3JPgC+b361fyhfiI/vADiQhhDF0PPxLKFGsXSBqZHeAhRiZmK6kw6TXdOqk+lkF4Qq5B0j6VOYUyeilNH/0TCQgg/K/wbOZZ3ezVT9CbzMzKgsrQy0bOgtEY1afYMtxk3zniguSU5qfo3upv7Q7wcfNz9+v7qgB6Ba0KfQ8GFK0XBhqZG7gbXBp8F1YTUg5rCBICevsy9V/vTupX5m/jAeLA4ZriY+Qy53nql+2/8HTzAfYh+Mv5Wfvl/LX+iACmAtEELQeuCQUMcA5cEB4SlhN+FOQUqxRBFD4TyxExEHAO4QxGC+gJwQjFB0EH3gbaBg8HaAfrBzUIngjlCCQJJQmPCNgH7gYABtUEnAOiAu8BmgFTAWUBvQFEAtMCNQNYAxkDlQJFAUH/s/x2+dL1V/Fn7HjniuK83f7YB9Ux0n3QyM8c0PrRQNXh2UrfIuWy66zy2PmjAB4HdQ2QE1kZtR77I0QpYS4mM8c3MzxCQGxDdEVZRvpFCERgQAM7OzSgLPIjcxpZEDsGafzB8rzpreEV2w3WctJS0LzP39BK027WE9ot3tPiUudG69juRPJC9aX3gfnC+gH8Bf2W/Qv+m/5W//T/bAC5AOUAswC+/yn+DvzA+Qj3tfOE8KHtP+sw6ZjnA+d25//oEuvk7YDxjPWf+S79fABlA9EFfQc5CLAI5wjaCH4IxQdMB+YGmgZABvoFDAb9BekFfAX4BGkEdwNyApMBOwFZAdgBAwPbBCoHsQlRDAEPvxFHFGsWHhhmGY0aQhtoGy8bZBpPGZ8XOhV7EkIPxwvHB5kDcf9l+3/3pfNk8K/thuut6T3odOcp503no+do6J/pCOu67FnuK/BE8j/0rvWu9oj37ffG97f2QfXi87vyhfFj8CXwrfDu8bHzBPYv+eb8vwBQBPcHvwtADzsSuhRPF9YZRxysHuoghiN1JlEpBCx9LtEwgDJGM9EyWzHZLuIqeSXhHqAXrw9gB9z+m/Yd73HokeLE3Tja8dev1v/VJdbz1kLYwtlB29jcm96q4GXiHeQv5qPoROvg7cbwwvMQ9xr6v/yD/yoCVwTWBdgGcAfJB1MHyQXxA/ABxv9G/YD6//fN9dHzEvKq8O3vre/D7wvwmPC/8QzzXPSp9Uj3OPkG+9T8hf54AGAC/wNzBdUGlggYCr0LWg0lD2YRdxOGFWwXYBkHGx4c0hwMHQEdvRwUHA4bCBr1GIgX5hXZE38R8Q4FDMIIWwXmAWD+EvvE99f0WfI38IvuJu1C7L3rouvN60rsGO0j7o/vFfE586n1V/hh+1T+ZgFeBM0GkQjOCS8KfQm8B9sE7wBQ/C/3iPHe647m1eH93SfbVdn42CLaetz33zLkTekT7xL1P/t9Ad8HGA44FHEagSCOJkgsnTHENlI7Rz9GQvdDpEToQ5xBvT1XOK4xvikEIaIX2A0CBHT6efFC6fbhstuK1ljSas+7zRLNN805zhzQltKl1fvYr9zH4Ajld+nq7WDyxfYd+yL/jAKdBUwIHAooC6MLPwsECuoH/gSuAR7+dfra9kjzKvCY7YHrxel26K3nSOdu5wroK+my6rrsge+Y8gL2ofls/TIByAQUCPwKuQ3lD6MRJBNsFI4VdhZIFxoYDxkdGg0bCxzZHGQdyx2fHRwdQBwBG5sZDRh7FsEU6hL/EA4P/AyyCmII6QWYA1gB1/5k/Pr5sPd69T/zOfGu77/uKO4f7mjuH+9G8GPxpvK98+P03/WT9ir3qPdC+L/4V/nW+eb6Z/zv/aL/MgHcAhsEfATgA2MCr//G+972SfGi6xHm/uCv3LnZR9hU2MfZjdzj4E/mZuwO8wf6LAEeCGcOGxQ1GeAdXiKLJp8q5y4iM/42eDo6PTM/CUBXP249Fzp9NYIvKygTIFgXNw7+BPX7g/Mg7MvldOBE3CLZK9ce1rfVI9Yq1+vYL9vY3fHgbuQ26Ojrmu9B88j2uPke/Bn+dP8cAOP/yP4c/Rn7pfjh9RHzivBF7kDsjOpM6ZToCeie553nJugt6ZXqN+xD7sjwdfMU9rD4a/s3/hsBDQQjB2cKvA30EOMTjhbCGJ4a6BvaHIcdxh3IHWkdxBzSG8IahhkmGM8WoBWmFLET4RIoEnMRtRC/D4oOSQ0KDI0K2ggSBxAF+wLcALH+oPy8+jv5G/hD98X2cvYv9vb1c/XP9P7z/PI48prxS/Fn8ePx3fIl9KH1XfdT+Sv7zvww/kP/9v8RAKb/vv6L/ST8lfrh+C73pPU39NrydPHI7+ftq+s86evmsOTv4s/hkuGG4sLkFOiB7PDxCPip/mcF/AtnEkQYmx1DImQmKiplLaAwgDMFNkU49zkOO1A7vDo0OYE2gDJZLVUnhCAbGVYRiQkKAvD6YPRf7iDpguRz4Ojc6tmB15jVjdRL1OLUQNZc2BPbNt6x4UDlj+iH6/ntmu+08BXxyvDo773uie1W7KLrIusX65frZuyZ7b7u/e8Q8TDyG/PD88H0yPVR9y/5pfun/iQCAwYGChkO0BFPFT4YohpkHJ0dfR78HjcfjR/4H0AghyCZIEwgnB+BHtocxxpIGI0VzhIZEJwNkAvlCZAIoQfvBnIG4QU0BV8EOgOpAbv/if0h+7r4ZvYt9D3yt/BY71Huh+3n7JHsNezv64jrDuut6lHqGuox6qbqgOvN7GXuRvBg8oD0rPbE+Ln6oPxA/rH/4gCfAf0BGgLkAW8BGgHLAIQAYQBNADUAFwDR/zb/bv5u/R/8xvqM+Xn4svdI92n3NfjJ+R/8NP/NAt8GPgtUDyMTPhbFGMIaTxykHdIePSDTIdIjxiV/J/4omymAKX0oWCYUI9Ye+BlVFGkOSQgXAkP83PYI8rDtC+rz5lTkGeLh39nd3dso2uXYIdgW2MLYd9rx3ADgieMO52rqc+3s78bxGvPk8y70V/Rq9Hn00vRl9Rr2HfdB+ID53PoS/Bv98v3J/pv/ZQBeAboChAS0Bj4J9gu2DmcR0xPfFXkXwBiaGfYZCBqqGRYZPBg+FwsWwxSOExsSpBAHD0QNdQtYCRUHzARqAm4A7P7T/VP9S/2m/U/+5v4p/xj/gP5y/QX8PPo8+Dv2PfRX8p/wFO+z7YvskuvF6jfq9ens6Q3qZuri6prrpezY7VbvPvFf8/j1zvjS+/j+7QHFBFAHgwlsCwMNRA5OD/gPaxCfEHkQRRDIDwcPBw7dDKQLNgrBCD4HyAWCBH0DnwLUATYBfgDW//r+0/13/Nr6Tfn09wT3fPaR9j73Xfjh+ZD7N/3J/jgAjQHVAj4E8wW+B7kJzgv/DVwQtBLvFOEWbRifGSca5hkAGUMX+BQ2EgsP4gvgCBsGiQM/Ae3+nvxH+rD3CvUO8vXu1+va6EPmC+Rb4kzh8OAn4fvhL+Of5Drm6eeq6UDr3ex07gnwxfGY86718PdA+qj86f4zAW0DigWhB5QJiAt9DWoPMhHaEgsU1RQ6FRwVpBS9E5YSVRHsD0cOhgxwChYImgXpAjwAwf2R+4/57PeW9nr1svRC9Af08vMy9Kf0S/Uy9kj3dPi1+Q/7Svxn/XD+Lf+b/6v/Tf+V/pH9P/z8+tv59Phu+Pr3uvd99x73a/aa9bP02PNn82DzF/Sg9QD4/PqL/mACLwboCUgNPhDTEu4UlhbOF4IY1hiiGAkYBBeCFdkT7RHxD+wNwwugCVMHAgW9AmsATP50/Ov6pPmx+Bj44vcA+Hr4Mfkb+lH7mvzo/SP/KACqAKwAUACr/wH/ef4D/rX9kP1q/VH9K/3s/J38P/zH+4b7hPve+7n8tP3b/hkAUQGLAscD/gQQBgEHxwdnCPQIcwmcCYIJGwlHCE8HBQZyBJYCXwDg/Rv7TPjD9ZbzvPFc8Grvxe5s7n/u0u5w72DwcPHp8sH06/Y5+ZP77/3q/44B0wLcA9gE1QXuBgcIJgkzChoLzgsXDOILTwtJCgkJrgdJBhIF5wO3AooBiQCY/8P+8v0b/Vb8jPv2+m36GPrM+YT5TPkA+dL4tvi4+J34d/hH+PH3kPco99D2evYm9r/1YvXj9Fz07vNX8/Xyo/Jw8tDyn/PJ9EX23PdY+bH64fsQ/Un+5P/OAfkDjwY6Cf8Lsg4IEe0SdxSVFXgWKxemFxYYYBiPGK8YnBhKGKwXuRZpFbkTwRGEDx4NpgpGCCEGQgSzAl4BUwB3/6D+vP3k/CP8Xvu1+ir65vnZ+fb5Qvq8+lH77PuZ/DX93/2T/kH/8/+SAC0BfwGDARQBPQAw/7r9Gfww+jb4QvZg9LnyO/Hy7+bu9O007cfsdOx/7OPslu2f7gbwvPGe86n1xffY+dT7z/20/5MBYAMNBZkGCAh2Cc0K/gsEDf4N0A5kD88PAhD+D5UP3g73DcsMfQv8CYUIJQfEBYYEUwNVAocByAARAGT/vf4f/oP94Pwu/Gv7mPrB+RX5mvhc+Dj4I/gg+D/4kvj8+In5MvrT+nn7JfzJ/H/9GP6E/tH+Df8o/yj/A/+Z/sX9jfwi+4L57/d99jD1GvRA84Ly8/GB8QzxufCM8Jbw+fDX8SDz1/Ta9gX5XvvL/R8AfQK6BNMG/ggZCzwNRw9lEYQTaBUNFzQYxxjdGHIYoBelFoMVPhTfEoURLBDVDmcN1wsmCmUIsgYzBQ8EJQN2Au8BkAFXAUgBOQE1ATQBEwEFAQIBEgE7AYgBwgH0ARMC2QFjAbQA1f/F/q79nPyR+536wfnZ+OH3/fb+9S31iPQH9NHzxPPy81P06fR19f/1iva69tH24/bv9i/3fffe92f46PhZ+cb5L/qD+tj6V/v1+5j8YP0M/qb+P/+i/xMAZQDJAFQB/AHiAvoDMQVUBmQHLAiwCO8ICAkECewIuwhiCOoHPAdxBn0FcgRPAxYC0gCT/2D+ZP2X/O77iftH+037efu0+yX8xPyW/ZD+lv+wAKgBfwIhA2wDdwMGA0gCbAGHAL//Df95/vL9Wv25/Ar8UPuG+rb5yPjL9/n2Pfat9W/1cPWo9RL2lPZB9/r31fjd+fb6V/zf/aH/lgFzA0QFyAb7B+8IlAkJCmgKsQrSCvEK+wrPCpYKMQqZCeMI9gcHBzUGoQU2Bd0EsgR+BHEEdQRbBEIE6wNOA5cCwwELAaEAhwCzAAQBWwGqAfUBKAJCAlMCWAJmAmQCBwJfAXYAdv+V/t79Wf30/Jr8Nfzb+4T7NPsF+7r6f/pG+hP6//n8+Tv6hPrp+in7QftS+0j7Yvua+wD8Z/zR/ED9nP3q/T3+m/77/oz/OAAqATUCMAMXBLwEQQWUBcQFmAU9Bb4E+wM2A2ICoAHYAB0AZf+Q/rr95/wM/C77Z/rJ+WD5I/kf+Sf5Ifke+QH51PjM+AP5lvlo+oj74/xL/q7/3wD3AeQCtwOUBGcFPQYdB+YHgAjPCLAILwh3B2gGGgXTA4oCdwGXAOP/c/80/xz/GP8L//T+1v6G/hX+nv0y/ev80fzv/Cb9hv0E/nr+Gf/V/4AAMgHNAV8C4gJPA7UD6wP8A8wDWgOSAoQBcwBt/4P+w/0Y/YT8FfyT+xr7tfpb+jL6X/ri+pv7j/x//Sz+nv7U/r3+kf6a/tL+Nv/f/5IAEQFgAW0BKQG1AEgAMwBsAPIAwAGdAlwDdwPuAgACyACO/3r+tf1J/Rr9Lv1p/af9Gv6q/nH/bgBnAY4C1gMIBRIG/AawByEInAgsCdIJeQoCC1wLVAv5ClQKeAl1CE8HLwYkBRoECwP/AdwAsP99/jn9BvwD+x76U/me+N73IPdg9rz1T/UW9U71yvW89vv3P/mJ+pv7jfxF/fX9qP5b/xcAvAA3AXEBcwFKAf0AsQBzAEEAUgCDAMsANAGQAdEB9AHbAaEBTwENAfMA6QAAASABRwFOATsBFwHWAKIAggBLAB8A6/+g/1f/6v5i/s79Qv3S/H/8UvxD/E38W/x8/Kv82/wj/V790P1h/hP/DAAIAQ8C5wKDA/oDJgQVBPkDzAOuA4QDVQMgA7ECPgKzAREBiQAzAPL/sP9D/6L+0P3s/Bn8Yvse+x77Yfvl+1X8ufwI/Sj9Nf1k/cL9Tf4f//L/jgAEAREBtwARAET/i/4D/sL9p/27/c/9uv11/Qb9hfwP/O/7L/zY/Mf9rP5+/w8APAB0AOUApwHmAnsEMgavB7YIPAkYCZ0IOggECCsIugiLCUkKrQqDCrEJYQjIBgwFjANlAoYB9QCXAE8A6v9l/9L+Tf7t/d79GP6K/gD/Sf9Z/yn/5P6y/tf+UP8cAB4BIgL1An0DvgOgA1MD9wKoAqICzQIUAzkDBQNuAlcBFADN/pz9iPyz+wb7Ufqx+ej4CPgT9zL2cPXg9I30XvRs9JT01/T/9EL1j/XK9Ur25vbe9xL5V/qt+9384f2W/v/+Ov9q/6L/HwDEAHgBNwLBAvcCvgIhAkEBWgCX/yX/GP9I/5r/8f82AEwAQQA8AHUA/ADOAdUC6AP7BMIFaQb3BogHQQgeCSYKMgsYDI0MpAw3DGwLhwqMCbQIBghoB9MGFgYbBfoDkAIhAa3/Wf5s/bn8RPzh+3H77PpH+pv5Avmd+Hz4x/hn+SP65vp7+8T70vu2+5L7ovux+6b7ePsC+y/6Qfk1+Dr3ifbX9Wr1QvVy9a719/Va9pr26fZO9/r3Ivnl+iz9xv+FAiYFtwcPCjEMKg7kD4MRCBOBFMgV6xbCFyUYLhjcFxsXDhbJFFwTpxHOD8MNOwuXCNoFKQO1AJD+yvxC+w36BvkC+Bf3IvY69Xz00/Nr81LzgvPz83j08fQ79Vv1UfVQ9Xf1w/VN9vz2s/dW+M34Efkw+U35g/np+Xf6L/sE/Ln8Sf2e/cX94f3z/Ub+2v6V/20AEQFzAV4B+QBzAMr/RP/0/s/+6v4z/3//o/9r/+n+Mv6B/QX92/wa/Zz9IP6q/gf/Jf8v/x3/GP9X/+b/kQBPAdcBEwIGAr0BbQEmASkBhwEnAuYCiwPzAwIEzwNrAxkD8QI3A/YD5QQFBv4GxwdSCKIIuwjECN4IDQllCcUJEgosCgEKlgkLCXII+QekB3UHagdBB+YGWQZ5BWEESANHAm0ByQBZAPn/s/9p/+/+V/6t/f78d/wf/PT79/vm+7j7TPt9+oX5XPhC91v2m/UN9aD0PvTU813zxPLq8Zvw7e427dzrRetm6x3sBe3q7czuxO/+8GjyN/RM9q74Qvu//R8AMQIIBOkF7Ac9Cu8Mvw+FEgsVuhZbFyEXPhY+FWYUwhNmEygT8xKOEsgRYBB1DlUMTwrTCM0HMwfPBmIG4gU2BWAEkgMSA/ICQQPWA14EiwQfBCEDmgHQ/yX+yvzr+3f7Fvt2+nj5Dvhi9sH0cvOh8nfy8PLD8670ZPW19cX1z/UC9qT2ovfj+Db6S/sF/Eb8Kvza+537n/v3+6L8U/3P/dH9Sf08/PH6vPn1+Mr4I/nU+Xf65foE++H6ovqF+qn6RftD/I/98/4dAAkBpAEhAqACVANNBH4FzQb1B7QIAQniCHEI+weqB7YHGwi+CGcJzgnFCT8JaQh9B5kG5gV2BT8FLgUPBcMEKgRUA3kCvQFcAXAB3wFwAvMCLAMKA6UCFwKmAVgBRAF+AesBagLJAusCuAJiAgkCvQGzAc0B5wHcAYgB5QD+/wf/Kf6B/Sb9Cv0X/TX9Xv2D/Xv9Wf0r/Qf9//wd/T79Pv0+/Ub9V/1t/Yn9lf2C/Vb9Ef3N/Ib8OfwB/NT7uPu3+7j7j/tZ+w77xfqf+nL6G/q4+UD5tPhI+PH3zffZ9xj4fPgK+bP5afom++T7wfyL/S7+7f6+/7EAyQG7ApYDYQQiBd0FmwY0B60HKgiNCNMIAAkVCQwJ/gjvCOUI4gi9CIgIVggbCMsHbwf9BnwGHQbTBYUFNwXdBFsEwQMLAyQCNQFSAJX/+/6M/kH+8/2q/WD9GP3F/Hn8JvzT+6L7i/ua+7b75vsw/I38+Pxr/cr96f3Z/bT9k/13/Vb9PP01/VT9gP2u/d396f3Q/aD9eP0v/dv8pPx5/I78x/xA/en9k/4+/8H/IgBdAIsArQDRAP0ALgFmAZMBqgGuAZIBPgHAACsApP8z/+/+r/5t/kr+K/4g/h7+Jf4p/kT+gv7T/jL/fv+9//L/IgBKAJYABwG5AZUCdQNMBOUESAVsBW8FYQVgBVwFRgU9BSYF/gTqBK8EXgTuA1wD0AIrArEBOQG/AEUAu/84/7j+WP77/af9Zv0o/eb8ivwa/Kn7VPsV+/T6IfuQ+2P8cv15/lD/3f8yAFsAdgCMAKkA0wAQAVcBmAG6AcwBzgG/Aa8BoAFxAe0AMwBy/6r+5P05/aH8Qfwj/C38Nfwy/Cr8Dvz7+977xPu/+9P7/fsu/HD8rfz+/Hf9+P2V/j3/1v9iANYAQwGmARQCnAIfA5kD8AMpBD8ESwRSBEEEOwRABEUEQwQ3BAYEzgOYA1YDPQNDA0sDXgNkA0AD/AKXAjYC9gHVAdkB5QHuAfgBAwL7AeABzgHXAQECNgKZAv8CPgNxA2YDIwOHAsQB+wAzALD/QP///sL+h/5F/tf9Yf20/AP8Vvux+iT6sPlN+fz4ufh3+Fb4O/hW+Jb48fhp+ej5dvr2+qH7U/z9/Mz9jP45/9T/OwB9AKYA2gAdAWwB0AEFAiACQwJYAmECUQIqAgMC6QHYAc0BqgGCAWMBPQEtAT0BVgGAAb8BDAJVAoUCqQKyAqsCkQJ3AlQCKgILAt8BtQFuARoB2QCkAGsALADz/5v/Sf/2/pz+Zv5A/jf+Wf6e/vL+Sf+V/8H/2//X/9n/4f/p/zIAlAD9AHAB4AFFAqcCDwNcA5wDywPmA/QD8wPhA88DswOaA5QDigOHA2oDNwPjAmQCwgEKAVMAtf8r/5T+Fv6J/Qr9qPw6/N37k/te+yz7/vrV+qj6g/qb+tD6HfuE+9T7DPwq/DX8Mfw4/E78cvzH/DX9mP33/UD+aP5s/l7+Tf49/lD+d/63/hj/f//q/0gAlADUAA8BQwFtAZYBtQHYAQECHwJMAnsCtAICA2YD0AMnBIEErASzBJcESgTqA5YDTwMTA+ICswKZAoUCeAJlAkYCAQKTAREBfADu/2n///63/on+dv5V/i/+Af7V/a79kf2B/Xf9lf2v/b39xv3J/cf92v0O/kn+j/7a/h3/VP+H/6L/q/+z/8n/7v8ZADMAPQBDAEcAVQBVAEUAGQDo/7//hP9R/x//7P7R/tP+4/7s/vf++/4G/x3/Nf9M/3H/pP/p/zUAcQCiALMAugCZAGMALwD1/+D/3//7/yUAVQCKAJoAlwB0ADQA7P+V/13/N/8p/zL/Ov9N/3X/q//c/xgAawC/ABQBZQGbAckB7wEeAkgCZwKGAosCgQJoAj4CDwLrAYoBIwHTAFwA8P+J/yj/5v69/on+Xf4o/vP9tf1t/Tr9Ef0B/fj8/fwR/Sf9N/1N/WD9Y/1w/X79lP27/d39CP4z/nT+v/4B/1z/tP8HAFYAkwDJAPMAFgE9AWQBpQHtAScCYQJ9ApECmwJtAi0C9QGzAaQBtgHOAQMCMgJXAlgCOgL+AbABbQEkAfMAxACnAK8AyADpAPMA+QD3APEA2AC4AJ0AewBmAFAAOgAqACQA/P/Q/5v/cf8O/2f+Pf56/t3+Sf+r/wcAWgCIAHkAgwAKAXYBzAEmAjYCSAIZArUBdQFVAVYBbwFZAToBJAHJADMArf9A/+3+x/6n/nn+Vf42/gf+9f3s/fL99v33/QH+5v26/YL9aP2C/bD97v3+/QD+Dv7y/c79tf2o/ab9l/12/Tv9Bf3W/K/8uvzp/D79iP3V/T3+sP4j/4P/3P87ALkAKQGTASICqwI8A70D+gMpBB0E+AO8A2cDFQOwAkoC2QGNAVIBIgH4ANAAtwCUAIUAdABhAGwAiwCvAMQA2wDrAPIA6ADqAPEADQEbASQBRwE+ATQBFQHeAJsAYQAUAMb/if9X/zz/Kf8f/xP/Df/+/u7+3P7c/u7+Ff9L/3r/lv+m/6r/qf+w/7b/vv/T/+j/+P8MAAEA6f/J/7n/hv9M/wr/yP6b/m/+bP53/s/+O/+j//z/FAAnABQA7f/c/9n/AQA9AHQAoQDFAMYAsgCOAFsARgAhAPT/s/9k/x3/wf5s/i7+Af73/ff9+v0e/kj+a/6Y/qz+s/7O/vn+Ov+Q//f/XQDSADcBhQHDAdUB4AHfAeAB/AEWAjACOQIxAhoC9wHdAa4BhwFQARIB1QCLAEsALgBBAGcAiQCnALYArgCcAH0AfQCTAL8A8AAlAT0BMgEoARQBBQH3AOUAuwCyAIsAWAAkAOz/2/+2/5T/bv89/wn/yv5z/ij+1f2O/UX97/zJ/Lb8yfzn/Bv9e/3T/SH+W/6d/uX+Jf9V/27/kP+v/8v/6v8dAFIAgAChAKoAsQC5AL0AtADNAO0ADwEYAQcB7AC/AK0AnwCtAMsA9AAmAUUBWAF1AY0BmQGnAawBsQGqAZwBdgFpAXABZgFhAVMBOwEUAeQAqQB2AEAAFgDt/8z/wP+s/6H/pv+1/7j/xP/N/+L//P8OABkAEgAeABwAAgDe/8v/wf+6/8H/y//M/9X/yv+X/3z/XP8l//7+xv6k/pb+ff6L/qX+w/7k/gj/Bv/2/vb+4/7u/vn+Gv9J/3f/oP/S/wAABAD8/9z/yv+p/4H/Y/9T/2L/fP9c/xX/3P60/pz+mP6d/qj+xf7V/tv+8P4k/2T/r//V/wkASgBoAJgA1wAhAYYB5AE1AoICsgLGAsYCxwLlAgYDAQPqAsUClgJDAv8ByQGaAX8BVQEnAQoB+gDrAOQA3wDfANAAxACvAKAAkAB/AIQAmADUAAEBFwEjAQIB1QCYAFMAJAD5/7z/cv8x/wH/8P7p/uT+4v7i/rj+dP4v/uX9uv2w/an9vv3k/eL95/3v/Qb+Jf43/jT+Kf4z/jH+HP4Q/hD+If4x/j3+WP56/rb+8f4W/z7/Zf98/4z/n//U/xgAXgC0AOQABwEhARwBGgEeATUBUgFgAWUBawFjAWABZwFrAWQBVgFEARkB+wDoANgA6AAKAR4BOwFHAToBJgESAQ8BJgE/ATYBLAETAewA2gDPAPAAHgEoASkBCAHMAJoAVgAbAOz/s/+H/17/Of8V///+8/7P/rf+pf5//nT+Xf5C/jv+L/4n/iP+MP5Y/oT+rf7p/jD/b/+R/5D/jv+i/4n/Mf/G/mb+RP48/ir+Iv4L/uT9wv2L/XT9r/0K/oL+Gv+Y/+j/LgCBAOUAawEMAqoCSwPjA1AEngTdBAsFQwVbBU4FQAUABZkEHAR8AwADpwJGAuIBaQEBAbEAWwAcAOn/yf+7/43/Z/9b/2D/jP/E//X/LQBVAFUALQD5/9D/mP9V/yT/2P5g/tz9Wf0e/Tz9Uf09/R/9C/33/NP8wvzk/Dn9kv3H/ej9CP4t/mj+yP5S/9r/KgA5ABsA8f/J/7v/yv/t/ycAUQBAAAAAw/+5/9L/BQBWAKAAxgC/AKgAlQCKAK0A4wD6AAcB7gCtAH8AXABGAFoAagBoAE8A+v+R/0f/L/9l/6v/1v/T/4z/NP/b/q3+C//P/5MA+wDoAJoAMgDv/83/4f94APwA2QBDAIz/Yv/M/y8AewCnAJMARwCm/wj/9P52/zgAyQDjALcAbQAAAK7/1f+BAPUAIwBJ/qf8z/t2+xz72voQ+3L7T/u1+nL6MPug/B7+jP8kAZoCfQPxA6kEFAbIBxQJ1glYCo8KCQoeCZ4IkwilCE0ISQcCBpMEEAPnAT4BEAHXABgACf/d/cv8IvwK/KP8kP1D/oX+Xv4S/vn9Jv6E/gD/dP95/+H+5f3n/Cn8yvut+2n7svpx+QL4+fZ19mD2mfYV9y34bvkn+pr6WPvY/N3+eACmAcICkAPtA9QDugMrBOwETwU/BdgEIATcAlkBOACk/3X/If+F/v39vP2i/dr9gf6Z/+MA+QGgAgQDVQOrAx4EogRqBdEFoQUHBREEoANyA0ADYQMwA+sCQgK6AIf/L/9o/2T/s/7r/bf9hv3U/Bz87fts/A79KP22/E/86vue+/n7z/za/Uz+5f1N/dr8bPzl+/r7h/wb/Sb9Qvy8++37XPyT/fv+9P/oAOYAgQAPAWUB0QH1AY0BrQF8AawA0P8P/8H+p/5c/tL97v1g/sP+/v96ATcD5gQRBkwH7AhJCkULGwztDLwNOA7hDScN5wyQDCIMbwtWClAJUgjKBkEFDwTWAvABtwA9/zv+K/39+zH7RfrV+cP5avk/+Q357Pgd+TH5V/nP+Qz6I/rO+ff4Qfhq+Kf4Hfjv9ov1tvQr9FPz4vKY87v0X/WP9aX1pPZR+L35dvul/ZD/2ABsAfQBogMmBZIF1QUUBiAG9gXrBGME7ARSBZUFjQV+BXgFHQWEBJQEOgW2BaEFnAXpBV4GpQZjBkAGnQa+BpEGAwYXBYkEpAOlAscB7QDz/8n+6v3w/N37pfqn+WT5Xfmr+Lr3CPf79of3YvcB9zH3K/hV+dD5ufn++Sn7pfyI/fT9Mv4K/2cAAgFgAaoBzgE9ApgCzwJwA94DNwS4BAcFWwWWBe0FiwZ/B/cHGQe2BeoDbAL6ASQB4v+c/ur80PtY+8X6GPsq/Cz9X/4U/4f/zQCdAoIE4QY0CfUKuwzGDbAOAhDVEGQRmhE5EW8QLA9JDbYLbgpgCT0IpgbdBIQCewCZ/sP8aPv8+Zz4dfc09l71DfXc9Of0FvVZ9aT1xPWi9WP1lvVm9Zz0mvMa8h7xZvBk7xPuxOwz7KDsiu0G7krufe938Q/0vfaV+AP7if6PAfEEyQePCdcLqA3jDlsQ5hD5EHARYRFPEaoQJw92DUIMDwtuCb8HzQXdA2ACVgB8/pH9Vvxz+5T6JPqQ+mz61Pl7+VP6C/xo/Sf+i/5o/20AaADb/9L/5P+t/6b+1/xE++L51fg/+Pj3JfhP+IH4zPhv+Wz6pPq3+oX7xfyk/gkAOwBOABsAGAF7A7gFLAe1B5AIsQltCgIKlQkJCzMNWQ4QDjwMmAqbCUMIxQfkB5MHnQaABBACdgBL/1X+y/7L/2oAhwBO/7L+hP9sAAECugPKBMEFwQVOBQoGnAcZCWwKAws5C44LbQsaCzYLSQsfC8gKiAkPCHwGWARbAv0Ayf93/sD8o/pZ+En2pfS183Pz7vKa8gfysvBx71vuW+067djsdOyQ7N7rJ+tm6k/qoev67M3tW+6p7jfvX/B58S3z0fX79/D5Q/tz/J3+lwDKAngF9geVCTEKbQrTCvQLwAy1DCANNg2iDK4L9wkiCWQJ3wg/CJoHYAb4Bf0EgANAA/wCkwI1AlcBsgBJAM//EQDeAN8AhQCOAPwAhwGyAPn+S/48/8f/0/5h/Vj8pfzs+2H6Mvts/Xz/6/5e/Pv84f/mAeUBYwE1A30FPAbVBRQG1AeTCCcI1wczB/kGVwUBA8gB0v90/fX76fqw+kv6ufgR+Bn4K/gb+Vj6q/tE/TL+hv8zAioFnwdwClUNoRDbE2oVGRf3GGcaFBw8HMYbthvTGtcZ5hd2Fe8SohD7DWIKPQdlA+7/lvyq+Db2+fPw8PftsOum6nvqrOlb6EDoH+nl6azqUetM7M3tk+4j79LwF/KS8o/y6fEV8gTzkfK/8b3x1vGn8g/y3vAa8T/yL/Ow8/zzsvRZ9n33Yvhi+qH8S/7v/xIBzAIJBUIGIwfrBzwIvAgNCT0JOQnZCNsHMQcpBwEH8gaIBiYGzwVABRwEsAOdAx8EAwVKBbkFDAaCBnwHfghRCfsJewpMCyUMYgzgC04L/woFC0QK7Qh+BygG7wQJA/wAHQC5/67+Jv2G+2f74vvp+8b7MPyT/eP+Xf+5//MAaAOGBXcGQwe6B5YIGwl1CBQI8QduBucDxQBb/nX9gftB+DD1wfJE8bPvkO1R7BHsUezM7MntK+858evz4fYc+/f/KwSCCEAM9g/4E/gW1hlUHKUeMCDJIBchRCEfIcwfIR5qHPIZlRY2EvUNtAo/ByoDwf6P+or25vJP8PntHey96U3n3OZd5ojlZOR243fkiOUU5mLmJeeY6KbpOupJ60Dtce7N7hnv8++b8d/yJ/PO8zL1cvZa9wL4cfkI+4f88P3W/hIAWgGOAlsECAYMB/kHEQlRCo0LPAy7DFcNrQ10DXENww1vDesMpAsYC0ULWwrKCA8H6gVDBUAEtgKfAcwADgBf/zD/fP+E/w//Xv5o/gv/uv97ADYB6gH/AuUDpASaBfAFRwYLB6wHAQjAB+8GSAYzBrAFVAXaBEQEEwQUA4sCMQLLAacBgAH8AQUCiQHHADwAIAGfAVIBTgE0AUsBhQAv/8T+5f68/tn9rfz8+2X7m/mE91P2EvbF9cH0kfP88nTz9/O19K718faW+Fn6y/xk/+oBdQQKB1MKXQ0sEEkTHBbBGPwacBzAHegeFx/DHi8eMR3fG+EZLhfGFC8SKQ8ADGcIYgSJAIX8Efjd827vcOs46IvlEuPD4N/eRd0F3A3bn9p72sraXdvX25vcEd4O4AfiI+Ss5o7ppuyX7wfysfTg92j6q/wr/8ABUQQ+BqQH3wheCrQLdgw2DfINWA6MDmsOeA6ZDi8Ofg2iDN4L7wouCmMJaAiCB0UGRQVrBLcDFQNgApwBGQEqAXMBvQHQAfYBYgLTAvoCawPmA18ECwWbBYQGjQeaCIoJBQqWCtEKsArXCsMKhwotCrEJZQnNCPwHBQfnBSMFeAPRAYsAAf+z/Qv8pfrR+UP5IfkA+dD4APkI+Vb5s/ni+VD60/qC+yf87fyv/Qn+fP4M/4f/BgAjACMAVAB1AHcALwDZ/4T/Q//8/jb+7/3H/Yb9VP0t/Tb9Kf08/RX9of1Q/qT+Iv+Q/1IABAGmAS8CxgJqA9IDKwRcBKAE8gREBUgFZwU3BWIEywMuA3sCoAGDAHb/w/4n/kv9gPym+wn7jPrS+Tj5pvgC+Iv3Q/cE9x73K/dC96r3JPij+AT5W/m0+QH6VPqR+s76HfuN+zT86Pyc/UL+D/+u/w8AWACqAOUACgE2AXEB5QEbAisCZwLXAiMDegMwBLQE6AQdBUUFgwW4BaIFhwVfBSQFRAV5BZoFyAW8BaQFrQXxBU0GXgYFBsEFkgVnBTYF3gRQBMkDdQMBA50C/AFyAe8AdAAHAIv///4q/mz9wPwg/Gn7k/oM+rn5c/k6+az4Jfj49/T35vez96n30fcI+F74mvhi+Tz6+/oJ/DT9l/6H/1wAMwE8Aj8D5ANNBKwEXwUNBogG7AZXB68HBQgGCNAHtwddB+0GRQaJBf8EVgTTA3IDVANcAykDGwMIAwAD3AJ1AoYCggJ5AmkCDgJHAm4CjwK1Ap0CkwKHAncCfgKuAmoCGgLTAd4BhQFDAHj/dv/L/wT/uv3R/NL7U/rB+On3BfhR+HP3evap9dz0XPTn8wD01PTP9fH1hPUx9U71vvUd9gv3Yfik+QD6M/pp+lX6v/pK+wz82PyM/TD+m/73/sP/nABqAc8BBgJGAmMCoAK6AjID5AOcBCoFyAWPBgwH1gfCCKEJeQrmClgLtAvdCzAMpQwcDY4NoA2qDYkNJA21DPkLggurCooJeghjB04GBwXKA44CXAEZAB7/7f2W/Hn7c/qP+c34NvhA93r20/VB9Sv1D/Xh9L/0wfTb9CX1ZfXB9R32aPYI93f34/dF+Ln47/g2+eH5Q/oZ+/376/zI/Wz+Wf9rAEsBuwE7AvACmwMfBJMECwWjBScG7waxBygIowj7CDwJSQk3CZAIuAdSB/IGtgZrBhAGNAYcBp8FHwVpBOoDhwPnAmgC8gFiAdEAAABS/yj/+v6f/lb+Mv72/cv9sv0d/a/8bPw0/Fj8RPwk/AH82/vk++P78/sR/DT8Jvwc/Ar89/sA/NX72fvM++L7+PvP+7T7Yfsk+//6/fr1+sH6yfrv+jP7iPva+0H8nfwH/T/9nf0l/m7+RP9ZADoB/wGGAhMD2AO0BNQF7Aa7B0cI2QhfCVQJrAkSClYKsAqoCooKSwr5CYEJ9wgICOUGAgYPBWIEswMYA50C8gFHAWEArP8G/yX+WP3A/K/8ofwW/In7Ovv8+sn6Zvrd+cb54fnb+d/5v/l2+Uf53viP+KH4dfhv+Ff4UviR+Nr4LPmF+R/62fqi+yf8fvy8/Ef98/1//hb/2f/AAGAB6AF1AhoD5gOLBC4FBQYuBkgGcwZeBmsGVwY+BhAG0AWoBX0FQgUyBfQE3gT1A6UCgAEeAGn/O//3/9sA4AHiAgwERwUCBv8GbgdUB8oG8gUMBTIEhwPXAnICCwKqAWABKwHSACoAgv9S/sP8Hvum+Qz4YfY99Ub0CvT48zv01PQU9Xz1xPU79r72Z/dD+N34bPne+UH6Gvtg/NT9Sv9kADwBpAHnAcoBXgEzAQIBQQFhAUwBawE0ASABKgEqAUIBKQEkARABDQFEAXEBawFLAbIB6QHIAd8BzgH5AXUC4wJoA+QDJwSKBCIFnQX3BU8GpQazBgEHVQc0ByUHBgdRB+EHQAi+CPsIsQgMCGwHrAa8BdsE4gMRA2ACeAGtAO3/Nv+7/kP+2/1a/b78FfxA+2j6tfk5+XP4cvez9uz1f/VV9YT1LvZq9pr2wvbt9lP3iPcB+L/4efkS+sH6pvuG/G/9If7q/pn/YQBxAToCLAO6Az0EowSWBOcEpgQIBIsDFgPmAroC4wL6AoUC8QFGAaIAKACt/zH/jf77/bL9X/12/Yn90P1o/n3+2v4q/4j/yv+m/6j/gv9g/0b/cv+8/z4A+ACSAfMBXAK7AucCLAMoAwIDhwLyAXsBYAGeAbABAgJDAmICeAKRArYCrwJkAg4CqwEjAY0ALwDb/8T/PwAXAPD/2v+D/5j/df9b/0v/Pf9X/0D/Lf8S/9n+3P7X/gz/n/8TAKsAOAGvAeYBwQGlAWQBCgEAAS0BSgFUAV0BRAE5AW0BlQFcAcAARgDN/1H/8v7E/nr+ov3f/Cb8qvu8+zP8kvzf/Bj99/zQ/Jz8dPz8+577LPvI+uj61PpD+737Wvxn/Rn+zP50/yYAMwDO/5r/8P5y/jH+5f3c/Tn+0P5e//X/dwDXADMBmgHTAQ0CHAIjAlECVwJpAoICiAKiAjIDuANEBNgEQQXHBRMGTAZVBjEGrQUVBdgEgQQgBPoDswMOA8YC0wK8ApYCZwIiAoMBcgC1/yn/lv5B/t79kf0x/dn8mvwq/LX7e/tN+2X7ovup+9T7b/vS+lT67/nt+Q/6iPoG+5f7PfzQ/Fj9rP3+/S3++v3Z/e/9Gv6X/i/////MAE4B+gFbAosC2ALaAqwCXALaAVsBFAHaAJIAjQDOAOwAMQHBAQ8CNQIkAvwBzwF4AT0BDQHfAMUAugCwAL8AQwHdASYCkQLVAskCrAJvAlwCRwLzAZkBVwEQAeMAxwCwAHoArQDUAH4A7P/P/kb+pP36/Ub/NQCWAZ4B5QD7/6j+n/1E/Zb9Rv7+/nn/gP9h/lP98Pvl+sL6Gvsa/Jj82PxX/DX7j/k8+Lf3qven+CL6wfu0/G/8HPu9+aP4A/iH+L76mv2//woCcQOyAtoAuP83/6D/xQHlBA0IWwqiCggJpQc5BvEF6QeuCmQNTQ8hELQOqAttCJ4FEgSdBIUG8ge9CFMILQbEAk//s/xY+7X76/w5/hL/tf7u/FX6+fca9kj1VPao+Df7cP2Q/jX+6vyA+4P6cvoc/Mf+UgFzA0cElAPVAbf/1v31/Kb9Cf+PAPsBGwIbAWL/X/0p/LD7H/xY/dL+DgCHADUAMP/N/fD8C/2y/dT++//VAB4B8QBWALD/vf8LANkA8wFDAzQEVwQGBCQD8gHnAJIA0gCkAYQCeANBBGAEDQQlA0gCLgE7ADgAhwDIAOgAzgBZAHb/T/4+/aX8Qfwd/E/8Pfxg/H38SPyw+xD72PqB+nH67/qT+/D7e/zX/OD86fzn/DP9z/27/nf/JgCZANsA+QDNALcAnADBAMcAygAOASYBQgFTAToBOAEgASQBWQGRAcgB0wHuAa8BzwE9AmkCxwImA2YDMwPpApACRwIdAiMCogI9A6wD8wPoA1wDmgLcAW4BMAFTAWQB+wB1AKf/qv7Q/bT9Cf5//lj/3f8DAPv/Wf+U/hr+1P3g/Vv+//5z/7P/tv9f//H+ov6K/rn+Ff/A/xYAyP9H/6z++P1v/Vf9hP3u/Wv+p/5h/uT9WP3E/J78wvw9/d/9ZP6//r/+w/65/rr+0P5U/xsAnABsARACdAIlA1UDlQN9BDcFUQZTB08I5Qi4CPcI8AixCNcIPgmkCd0J3QmjCesIIghHBwYG7QTDA5oCvgHfANf/Bf8x/i/9//vF+pD5PvgF9/H1DvVW9Cz0KvQn9G/0qfTm9GX1rvXs9R/2PPZ19oT2G/fR9zn4Cfno+XX6pfrb+g77CPtK+3z7e/ub+0T7s/oh+mD5Dfmq+Nf4KflE+aP5p/mp+Wr5l/mo+Rb6KPsm/Kf91f5iAJgBWAKAA3gExQVTB8IIfgo8DDkN/A2FDssOQg/pD+MQqRETEu8R4BDiDogMWwoWCGAGWQXbBFQEEQSaA7MCLAJZATUBdwFEAoIDwQQrBnwH4gj3CUELrwxEDgAQpREcEzsU5hQtFUsVyhQXFB8T6RGDEM4O+AyhCkgIigWFApD/Z/xo+Y72BPTC8Vfv9uzH6ojolOb15MTj1+Im4sjhYOH54JDgnOCY4NbgZ+Hy4Q/jQeSr5XnnY+lh63rtgu9z8VLzIfXw9rD4gfqO/H/+YwBDAgwEygV1B/EIJApYCwQMSAx6DGUMHwzXC3sLHQvnCoMKJgpLCWcIjAc2BooF2AQnBBME5QOvA8ED5wMzBIsEDgXkBZoGYAcUCLMIwgiUCLAIfwi/CBwJagkOCoIKlwp/CiEKfAnzCD4IdwesBs0F5wT7A/IC8QEBAf3/f/8R/5/+ef4d/uj9vv2A/Zf9l/2e/e39Lf5e/ob+qP6x/tj+8f6c/mr+Nv7a/Zf9Iv3U/ID87vuS+9T6/vmO+Qr5t/iO+C/46fe+92b3Yfeq9yn49PjR+RT7g/wE/uj/4wG0A8IFrAc8CegKOQxeDaQOpQ+pEOARxBKBEyIUbBSFFFIU3xNLE5oSfhEiEIQOjQyNCkMIyQVcAwUBxf6Y/Hv6SPjR9Vzz1fBA7gHsAOpc6NPmueXi5ObjOeOz4jri+uEp4ozikOPn5C3mA+iL6Q/r++zD7h3xu/M49gP5ifvM/fL/1AGbA2YFBweTCJYKHwxrDZYO/w5dD3YPdQ9HD/oOgA7EDQQNBgwnCyEKJQk8CCoHHQYmBUQEHgMBAsIAqv///lH+9P2z/Wb9Z/2H/b39HP57/sX+DP9d/5b/KwDYAHUBYgIOA8IDZgToBGMFqAXvBQ4GSgawBkUH4geDCEgJ2AlHCqEKwgq8CpgKMQrVCVQJxwhbCMoHPQd6Bq8FoQRnA0UC+wDX/3r+Cv3P+0H6zfhy9wL2IvVD9JzzbfP+8vLyJfMz87DzevRV9dL2nvif+iv9iP/5AXsEvgb/CCcLOw1bD0MRyRJNFFAVAxanFt4W8xbkFoYW/hUvFQEUXhL1D1ENagpMB3AEjgHU/in8aPl39lLzQPAj7SzqsOd45dbjlOIm4fHfpd5e3WDcottW23PbA9zY3Nzd3t7q3zHhmeJb5JrmDOnm6//u8PHk9Ij3APp//Pb+uwHUBNYHygrTDWMQjRJ1FPoVVBeEGKEZuhqIG/sbJRzfGywbWhpSGR4YGhfwFbgUhhMFEmgQpw7WDA0LTAm9B0oG3wSAAwsCkwBP/0L+Qf13/OH7Wvse+x/7RPth+4r7h/t3+5j7tPvw+x38bPzF/BH9b/3H/Q3+R/6B/qT+1/4H/zT/Yf+a/8H/0v8JACYAQQBMAPf/jP8Y/3D+6f1J/aT8HvyR+wf7o/pr+g/65vmh+WX5RvkH+cH4Rvjc9473kPfO92H4Ofkw+jn7Qfxs/bT+HwDiAdwD2AUNCBoKBwz0DZcP5RAtElQThBTxFRoXDxjFGAIZ8xi9GCYYYxd1FkoV7xN+ErQQhA4YDC8JGgbpAtH/2fzu+UP3ovQN8oLvoOzW6RXnWOQb4h3gjt533Z3cJdzC213bPttf2/nb3dwk3rLfjeGz46LlrOfk6VTsFO//8RX1Tfg++w/+rgABA0gFXgeKCdsLFA5jEIISNhS2FaEWMBewF+wXAxj+F+QXhBflFh0WKRUxFB4TAxL0EN8PzQ6uDXQMNwucCeQHXwasBCADtwGaAIz/fP6q/cD8+ftX+7X6GPqv+WL5M/lJ+W75iPm0+ar5ivmS+Yr5uvkH+l366Pp0+wD8hvzt/GH91f0i/nP+zP40/8P/RwDJAD0BpgEgAoACrwLHAvEC/wIZAxkD0gKnAoMCWQJDAioCLAIvAhECAQLNAXIBCQGRABcAw/+h/6n/BgCDABgBEAIDA+8DIgUwBk8HgQiLCZIKcAtGDAINrA1pDvgOfg/gDwYQFhDdD4gP0A6sDYgM9gomCWQHYQVMAy8BAv/I/Ij6V/gL9snzgPEa7+fsyurO6APndOUD5LriteGv4Orfad8Q3xLfSd/M343gWuFq4oTj3uRi5gTo/On663Lu7vCK82X2Evnj+6L+XgEWBNEGdgkNDIYO4hA1E2EVehdpGTwbvhwHHiMf7R9GIHYgRiCCH4oeVR3tG3Ia0xgLF2kVnROjEZ8PgA1DCwwJ1AaZBGoCRABH/mT8fvqf+Pj2ZvVg9HXzpfId8o3xIfHI8IbwPfAb8B/wU/CS8Ajxj/EF8o7yJvPN83n0X/U89kX3Zvh4+Z36ofu5/ND9w/7B/74AvwGnAoEDSgTvBHUF/gVwBrwGAgcrB0kHOQcIB80GlQZdBiYG5gXPBdcFzgW/BZ8FiAVYBTsFKQUbBVQFrgUfBtAGcwc1CBAJ5gnMCoULQgzaDE0NtA0ZDoEO2A7/DgoP/Q6+DmUO6w1PDZMMmAtMCu0IKQdIBVQDMQEU/8j8i/pL+Br20/Nt8RHvqexW6ifoEOY25JLiDOG133feit3G3E7cJdws3IDcCN3D3a/e0t8p4aniU+RW5oboBOuP7Tnw7/Kg9ZD4c/tm/lMBXARoB3oKhw1bEAcThhW3F8wZqRuDHTofpCASIicj/SNzJJUkRCSeI78iqCFgINcePh1XG0IZIxfdFJUSQxDpDa0LUAn3BmIEywEl/3b8IPrU9+f1QvTm8tbx1PDj7w3vJO5q7fPsmuyH7HXshuy/7ObsR+267T3uGO/57//wGfJV85/04fU591v4ivnB+vv7Pf1m/or/oAClAacCrwOVBG4FRAboBnIH4AcsCGIIfQh/CFAI7geTByEHrwZRBvIFoQVYBS0F9gS8BIwEPwTpA9cDygPUAxgEagTZBGQF1QU7BrUGFgesBzgIpwj8CEsJkQm9CbgJwQmvCXwJlwl7CVgJFAmBCLoHpQZlBQAEagLtAGj/7f2G/CT72flW+Lj2APUk81fxhe+67S7soOoy6RboCuck5nvl6+R95F7keuS65Djl2eXA5sPn9OhS6urr8e0S8Fvy1PRx9yr63/yJ/2ACEwW4B28KAw2MD9AR6hPbFW4X2hgsGlUbYxwwHcQd3x3BHWQdqRzdG9kauhleGPIWaRWjE6oRoA+JDVcLQAkwBy4FQwNNAUr/OP0W++r46fb79DXzofE78C3vQ+6U7RXtn+w17PHrnOtk613raeuj6xHsweyc7Z/u3O8/8Z7yG/Sd9Q/3pPhN+uj7iv0i/8YAUQLRA0kFqAYWCFoJwgoIDBYNIg7wDpAP9g8xEEwQMhD4D70PWw/eDkgOmg3cDA8MQgtiCmwJdAh6B1oGVAVWBEgDQwJhAXoAr//6/lX+1P1d/f/8uvyk/HL8evyC/G/8hvyW/Kv8wPzg/Aj9Sv2W/fD9Pv6X/tz+5/7z/rL+WP7m/YD9Gf2y/Fj88Puz+1j77vpQ+rH53fje9+P29vUc9WT04vNM89fycfI38gny7PH38SjyXvKp8iTzpPNB9Pz0x/Wq9tT3Hfl4+hX8z/2J/0IBAwPGBHQGGQilCR4LigzUDRQPORA3ERUSxhJaE8AT1xPWE54TNBOrEugRBBH7D9sOnQ1IDOEKTwm5ByQGcQS9AiMBYv/M/Vr82vqK+UD49/a39Zz0hvOZ8s3xJ/Gc8DPw8u+476nvou+77+/vV/DM8FLx9fGz8pbzqPTb9SL3nPgh+rr7V/3o/nUA7wFiA8kEIwaMB+cISAqjC/IMQg5kD1MQ/xBxEakRwBHIEaMRcREWEZ0QDRA2D0gOVA0vDP4K4AmpCH4HNwYFBckDXAIhAbj/XP4u/Qb8APsR+lf5qPgU+K73ZPc59wn37/bg9tv2+PYz94X38Pdo+OD4Xfnd+UP6qvoc+3X73PtH/LX8Dv1u/bf9y/31/fn99f3e/br9nv1i/VX9Mv3+/ND8avz7+5X7J/vO+n76RPov+hr6QPp4+rT67/ob+1b7evur++37Kfyh/FL9Hv4I/wEA+ADuAdUCpAN8BEEF9wWlBkIH9AeTCPsIcAnBCQUKRQprCpUKmQqRCmgKNgrqCY4J9AhJCKAHzgYbBlQFjAS3A+0C8QHgAP3/5/7K/a78n/uI+oT5kfig97z20fXy9Bn0UvOg8hHyn/Fg8UjxPfFU8Zbx+PFv8vzynvNm9GX1ffa19xD5iPoJ/JP9Ov/NAGoC/wOMBQAHgAj1CWYL6QxPDq4P6BAGEuoSiBPdE/kTyRNOE6YS4BH/EPIPzw6DDSMMzApSCRAIbQaTBCIDbgETAMn+r/3F/NX7PPuT+mf6qvrn+mL7Efyd/Cz97P2m/mf/QQAVAdMBVQLvAjYDMQMNA3UC5AEJAfj/4P6z/Vj8z/ox+WX3pPXl8yzygPDv7m/tHuw663Xq0OmU6YfpqOn26aTqjuuQ7O/tbO8G8YTyMPT19Qn4U/p9/Bv/pAEoBGEGUQgnCqkL9AwaDgIP5Q/PEHYRdhJdEwgU2BRlFZgVfhURFWUUThMpEgMRkg9eDjUNCQz0CvYJyghFB+kFIwRBAqEAuf73/FX7qPkY+Nj25PXT9Aj0UvNh8tvxi/Eh8dzw0vDE8NHwF/Fs8eDxhfI4893zifQ49b71QfaL9pv2ffYP9uj1cPXr9F/0qPMb83jyGvLa8cnx+/Fy8kjzafTw9e33Xvp6/RQB0gTICBcNdhG/FfUZ/R3XIV0lxSjJK0wudTAPMh4zfDMaM/0xPjC3LYAq0CanIhIeTxlPFAgPtQlTBBX/7vkc9djw9ezL6WPnnOV/5OTjzOMP5KHkd+V65rPnCelL6pzr5OwQ7hbv8u+38BjxY/F68Yjxl/F68V/xAvGE8CTwie8T787uYu5v7rruIO/L797wPfLJ85P1f/eM+d77Sf6FAOMC8wTdBpoI1QmgChULOAvqCqgKgApNCjcKaApzCoQKsQqyCp0KXwoVCq8Jegk/CS0JfgnkCYMKUQs+DOsMhw3ZDaENRw2pDL8Lngq0CakIDgeSBQUEIAIcAOT9eftP+TX3BfUn88PxlPDo77bvwO9X8ObwovEc8nzy3/Ko8ofyJPJe8WHwRe8w7lztIu0g7Wrtv+6M8L3ylPWx+BX8vv9pAwkHEAvvDpkSbxYwGqEdDyF7JHsnYiovLVYvxjDdMVUytjFSMBMuvSrbJgMicRxzFjgQ0AlqA1f9XPdI8srt7Ony5r7kR+Ob4tzir+My5TTnh+nk61zut/CZ8k30nPVw9hz3sPfm9xb4VPhM+EH4K/j/93n34vbO9dHzvPFC74vsQ+ow6ELmCeW65NbkoeVW5yHpaush7tLwgPNj9jT5uvth/toA8gImBWgH8AheCloLowuXC6YLgAsMCzoLWQudC3YMOg3GDbcOnw/aD/IPFRC7D4UPmg9PDy4Pkg/UD/oPvhAWETkRmhFYEXEQdw9bDrYLEwmRBhsDKQBZ/WH6+Pd69q70YvJO8TLw3O5q7uHtg+3w7RPvBPA98XbzxvSV9Wf2bvYm9k715fP18X3wdu/n7SPtJe2h7d7upPDG8rv1zvm4/YkBBAZRCjYOEhKhFb4Y1RuHHrYgNiPbJdYngSn1KrsrByyqK1UqICibJR8irh3zGKsT9w3oB7MBdvum9V3wa+uC573k8eJN4ufimORC56bqLO6z8S/1Tviw+pL8yv1h/qj+MP48/S38F/vn+cX4APhJ9/T28faa9kP21PX79JDz0/HI73XtRev+6NrmYOVj5Mjj/uPo5CTmA+hL6sfso+/78kf2Y/nJ/Lj/fgIVBQwHbAgrCZoJeAlBCSgJ8wgOCZ0Jagp0C+kMcw4WEMwRPRMyFNEUPxX+FJsUBhQVE1kSgBGzEOoPYw/yDlcOcA51DiQO0w0UDeULOAo7CKsFmwLS/8f85/mM9zL1aPPg8bbwyO+A79vvcfDv8bLzs/UJ+CP6zfv2/Gf9yfx/+9H5a/ea9MXxB+977EfqmOh653Xncuji6TrsWO/m8tn25vrb/scCyAaYCi8O5BHOFacZox2cIVQl0yjBKwkuuS/oMD4xlTA7Lw8tJipkJpghtxtVFYsOOwcAAP34avKS7IHnQOMg4BbeB9273FLdtt6M4MfiUeUF6Mvqgu2N713xJfOS9MH17fYR+C35i/rn+xz9cv6X/1QA4gAtARoBngDF/3f+0/wD+8f4IfZ58+/wXe4D7BXqlOi354Hnmuc46LPpkuu/7Tnw3PKp9Wf4Cvtz/d3/SwI+BB0GuQcYCYgKrAsGDWsOARDLEagTrhVxF/wYFhq8GtUaihoeGj4ZXxi8Fy8XzxaHFiwWkBX2FNkTPxJ9EHcOUgz8CbgHcQUyAw0BAP8Q/Sn7L/kS9+X0x/Ky8Kbu0OxL6zjqY+kB6UjpMupX68Tsne5G8DbyC/R/9aj2Q/c795X2gvUe9Jny1PA279jt0OxI7ETs1ewT7uPvaPKu9WD54f24AswH1wyuEUoWWRoZHhchpSPCJWwnzyjEKY4q+io5KzIr1yo+KuooByegJHEhkx3+GNMTPg4oCM8BS/vc9NDuQeli5EvgRt0y2ybaC9rM2lncRN6R4PDiMuV557Ppwuur7XrvZvFZ82H1V/cP+cP6Ovxs/Un+//6S/+X/5/+T/xr/R/4O/bD7TPqe+OT2OfWj81LyW/Gx8ETwTfCv8HDxffKp8+b0g/Zp+GD6ePyV/rUA0ALUBJQGQggKCrELJQ2kDgEQEBH8Ea0SERNwE7kT8xNaFOEUmRVbFisX5xdwGL0YxRhlGIgXaxYCFVgTXxEvD5wM0AngBp4DWQD4/Lf50PZM9EXyjvBD72bux+2I7Zft5e2P7nPvcPCH8aTys/Pc9Az2CvcL+A757vni+ub7tfxi/e/95P1s/dv8uftK+tn4TPfQ9YX0nPP68s7yP/MA9CP1tvbT+Gj7af6oAQoFvAhcDO0PWxPBFvsZ4BxuH3ohSSOcJFglfiUiJV0kByMxIQYfiRzCGZYW5hLpDtEKnQY8Agb+2fng9Tjyyu686/fooOaE5K7iSeE84I7fSt963wrgA+FR4svjeuVO5xHppuod7HHtr+7v7yLxQPJd83b0nPXG9uD37Pic+Rb6ffq3+sz60fr3+kH7wvtj/Av9uP10/jb/tf8WAIUA3QAwAYYBGALdAtIDHAWYBo4ItwrpDEkPnxHME74VZRewGJ4ZTBqaGpEaTxrUGSoZVhhkF0sWLhUPFMoSWBHMDz4ObgyBCnwIGga+Ay4BYf6n+/z4hvY79E7yuPB+79Duge6b7gPvt++j8Lrx9vIf9Dv1QfYv9wL4yvh9+S361vqL+wv8V/ym/Kb8dPwJ/Hn77Ppg+sL5NvnA+E744/du9/32j/Yq9sX1f/Vk9bj1dvaM9zb5UfvE/YsAdQNwBn4JeAxYDwISZxSAFkgYuRnrGuQbgxz4HCUdIh3SHCYcMRvZGUwYiBZ7FEwSCBCjDTgLqwgzBmcDcACN/ZD6lve49OrxWu9K7ZHrVepU6dHoeuhF6GPoc+iU6Lbo2+gL6ULpcOmG6bfp2OnR6cvprumR6Y7p0ukl6sXqvOvD7EXu3e998TTz9vTU9oz4Vfoy/Br+FwAxAmAEkgbPCAQLBw3pDo8Q4hEkEyMU3RSPFSsWmBbyFk0XrhcAGDIYJRi/FygXPxbTFC8TbxGFD60NCQyBCggJwgedBkkFEwTmAsYB0QDi/xH/Tv7L/SP9fvzQ+wn7TvpY+W34e/eS9tb1PvXB9ID0aPR09JP0sfTY9A/1efXh9VH26fae9zz47/ip+Tf66vpD+5T77fsB/CH8OPxd/Hf8qvzp/FP95P14/hj/3v+3AFoBBQKWAisDvAM4BOYEtAWWBsEHEwmfCkkM0w1zD+4QLhImE+wTbhS5FNsUvhSiFHIUARSTEwQTFxICEakPAA4LDPgJwgdbBQMDkwAi/sH7cPlT9zv1XPO08Rrwv+5w7SXs5erA6ZDoa+dx5nzl4ORu5DXkVuSh5AnlluUf5qzmYOcm6Pno+ekJ6yDsfe3X7knwz/Fq8w71yPau+LX6Cv2K/yICvQQnB1EJaQtIDd8OcBDDEfISUBSYFckW/xcCGdAZahrOGgEbAxvHGloa0hkIGREY7hajFUsU4RKHEQoQZw7VDPkKAwkFB98E0gLBANf+I/2c+1P6H/kU+BX3JfY19Tv0V/Ns8n7xjPCn79vuTe7v7bztze0Y7pvuS+/376PwTPHT8THyh/L28mvz3vNx9BT1qfUy9rT2Rve99134D/np+e76OvzO/V3/WgF1A54F3wctCmsMvQ4LESYTMxXxFn4YuBmqGmsb8xtkHK4c1hz4HNEccBztGwIb2hl0GMQW2hTHEnQQ+w1jC5UIsAXGAtD/4fwi+rX3f/Wt8xryq/CR72ruWO1N7D3rEurs6NLn3eYi5o7lROU05T/lY+W05eTlPeau5gLnfOcJ6KXoW+k46k3rguze7Vrv7fCk8m30OfYQ+Ar6yvt0/R//qQApAn0D3QQ3BnsHqgjmCTQLaAycDdgO9g8WETESFRPnE5wUUxX6FXMW6xZGF3AXehdUFxYXlxb7FUYVYxSAE3USYRFHEO8OWw26C/kJOgh2Bq4E/wIyAW7/m/3B+/f5L/id9jT1+fPz8jbypfFH8QrxmPBA8K/vA+8r7kHtV+xW643qs+n66GzoKOga6FHooegs6ffp8uob7HTtLe8k8XLz9PX1+Cj8lv8tA8oGdQoADo4R9hRLGFMbKh7CIAcjFCWaJsQnjSjrKN0oZyiWJ2YmrCRtItIfpBwUGUcVThEmDQgJAgUgAWr9yvmL9mbzavD27eLrEOq66NPnQOcE5x7nTOeA59XnGuhx6PXojOk+6grr0Oux7JTtWu4T78rvj/Bd8VXyR/Nl9JL1mPah93f4Ofny+aH6MPui+wb8XPxt/F/8SPwW/AD8/vs8/J38NP35/br+kf+HAFgBLgIdAwEE7gT7BQUHJAhOCV4KbQtJDFQNUQ5HD3QQjhG3EscTrBRzFecVUxZ8FmMWWRbtFTUVQhQIE2ARhg+TDWQLOwkbBwAF8wLuAO3+9vwK+1H50fd59mz1i/TT8yTzWPKZ8YTwNO+27fbrP+qA6Nvme+VS5IHjCeP54n7jg+Qe5k7oBusM7m7xCvWz+GT8FQDsA60HaAsrD7cSFxZMGUUc5h4zIU4j+iRqJqonjyglKVwpBikBKEsmzCN1IFocyxewEkQN+ge+Asj9NPkp9cjx0u6C7N3qj+nZ6HzoSehs6K7oCel06fnptuqE62zsZu1d7lPvYPB38ZnyuvO69PH1DPcW+Bb5wPlN+rP65PrW+oz6KPql+Uj5/vio+H34ivjD+Nz4PPm5+Tj69vqq+0b86Pyq/Tn+xv5L/8P/VgAKAbEBOgLcAl4DvQMHBFEEgQTCBDQFswVYBiEH7wfHCJ0JRwryCoULRwwrDQEOAQ/UD5kQLhGGEbcRmhFdEeMQUxCPD54Ofw0kDJ4K3ggbB0MFgQPaAUQAxv5M/fX7gvrf+Ej3hvW2897x2u/F7abrremf58blQeQT44/iuOKX4yPlqOfA6kvuUvKg9iL7uv9MBLUIDQ0ZEeAUNRgwG7gd2x+0IRYjMiTzJI8llCVBJWQk4yLgICge7hoDF8cS6g29CEkDhf3F9x3y2uwo6Gjkb+Gq3xvfX9+a4KHiLuUb6Ebreu6M8YL0FPdc+Wv78vxD/kX/HADSAG8BAwJwAsMC7QLKAkQCgwFeAAb/c/27+xz6cfiw9v/0ePMA8sTw8u9s71Tv1e+v8Njxa/Mg9cj2r/i4+n78Tv4oAJ8BDQNEBPEEVwW+BfAF2QX6BfsF/gUQBhEG4QWrBZ4FMgXPBKEEegR9BMQEFQVtBe4FkAYvBwoICAnpCRILXwx7DXAOQw+rD7APag/DDsMN0QzGC44Kigl/CEsHOgZcBVkEPwMqAu8AUP+F/Uj7hPhr9ezxeO756tznL+UY4+zhhOHt4QrjHeXC5yjrQu+k86f46/1EA34Igw06EmYWJRphHQsgSyJVJPslQCc1KNso/ii+KAEofyZpJK4hFB6PGVwUOw58B2cA+PiH8XPq+ONW3srZRdbj08bS39Lh0+jV2tiV3OrgleV96ivvuvMC+K379v7JASAEQgY3COcJawvaDPINzg6ID8EPnQ8vD0gOjgx6CgMIowQhAXL9bPmh9WzyuO9u7Uzsuut162nss+3y7tDwGPMc9TP3qPmU+2z9ff/RANQBBAPTA0gEBAWvBfAFeQYSB0AHbAe9B50HawdkB+IGLga+BRkFGwRaA5sCvwFrAW4BWgHmARYDKAR6BRgHXQhhCVcK6gr4Cs4KawqiCbYIvwe+BrUFygTvAxgDmQIpAskBaAHnAC0AJP/A/cH7bfmc9mTzFvCl7H/pveZx5Czjp+JA4wHlkucj62rvePSw+R//nASjCXoO6hLiFlgagB0/II0ipyRzJvUnHin8KVkqYioAKuooVifjJLQhvx3gGBQTdgxUBZH9qvXI7SfmZ99/2bXUWNFTz7XObs9t0T7U1dcP3HHgEeVy6XntM/GR9HT3+Plc/Hv+owAPA14FtgddCrcM7A4KEZ4SnxMxFOYTmhK8EAkOWgo/BuwBCP03+PnzEfDB7NTqrekl6VzqO+xa7mbxqPR290j6Gv3h/kMArAFHAnECzALtArQCDwOiA+sDuATlBeoGGAilCZ4KJwv4CwUMKQsdCo0IVAYZBPABaP9R/Rv8HfuQ+gX7G/x5/bH/HQIlBFgGYghvCewJLwp9CSUItAb2BAkDagEKAKL+t/1h/f388fx5/dD9Jf6S/oD+wv2A/Lf6+ffI9GTxm+0u6mLnD+Wm45rjkeRt5ofpkO0p8nj3L/3JAjsIbw37EdcVPhnaGxYeNSAHIqwjTCX1JkkoailXKqQqcyrlKYIoPiZXI4EfkRq8FAYOqQYK/1r34+/w6O/i+t0e2lHXpNUX1YHV69YP2b3b0N4Q4jLl9+d66pXscO5d8C/yQvS+9pH5jfye//QC8AWjCFgLXA2/Dt0PSxDQD8sONA2YCqwHhQTfAGj9cvpt94/0wfIf8cjvRe/w7rXuUu+q8MDxT/N89Ur3Nfl++yX9Yf4+APMBBgO5BH8GyAd3CTMLOQwRDRoOiw6bDuIOxg4bDs8NOA3QC6kKeQnGB0kGRwURBC4DHgPrAsACLAOGA8cDUATDBNAECQUvBZEE0QPbAmQB2v+I/kP9GPxu++z6efpW+kP66/mJ+U750/hZ+Pn3W/eI9r/1xvRB88vxWvC47nftmezs697rp+zJ7VvvtvFx9Ij3Jfvq/rYCfwaKCisOahG3FHQXKhr3HGwfoSEDJEwmCyiuKcIq9CrEKugpLSiTJVAiZR6SGVwUsg6CCGoCXfxh9tDw2+uM58Dj3OC43jrdq9yS3OvczN373jrgtOFq4xDl5+bj6ODqNu3q76PynvXr+Cj8Tf90AkgFlge5CUkLLAyrDIQM0QvVCmYJSgf7BIMCyP/6/DT6Yver9MjyN/He70TvHu9d7yLwOPE/8nHz+/RW9qH3Fvlo+uX7rf1f//wA9QIaBS8HSAksC8MMUA66D7YQmRFuEggTVxOfE6gTJhO2EiwSYBGjEO8PRA+rDgsOUw12DIQLZwoLCZkHBAZgBKkC2wD+/u38qPpQ+Az23PPT8Rnwx+7a7VztOu1D7ZntYu497ybwXPFm8pXz7fQD9r72UPfP98P3lPdD9772gfad9rv27/av97v4APqW+1b9EP/zAPgC2AS1BrkIogqNDMcO3RAtE9IVaRjwGoQdAyAcIg4ksyW0Ji8neCf0JrklQCTRIbgeIRvrFjoSQQ0dCNQCtv3j+Cj0l++G68nnc+SK4Q7fCd2d28/aStpX2qfaPNtN3MDdhd+a4TjkGudG6pPtCfGZ9Bn4lPu7/rUBXwS7Br8IPQpbCwAMTgwJDFcLHApICF4GPgTrAX7/Jf3n+uL4Ivd49d7znPKw8dTwfPCP8NbwgvGK8sTzG/W+9qH4rPrv/GX/5gF/BCYHuQlRDPkOpBEgFIgWuhh7GvsbIR3KHRAe6R1WHYschRsNGjcYPhYaFNMRag/MDBAKJgcqBBUB5/24+oL3XPRf8ZvuOOxd6uToz+c75zfnl+da6H7p+eq37MDuAfFS8/D1m/hR+8z9+v/zAZED9ATcBWkGrQaYBkUGnQWyBJQDRwK5ACf/cf2n+x76ufiY98L2PvYG9jT2zvaa96/4G/qv+3j9jv/AARsE1QawCZsMjg+KEp8VexgtG24dKx9lIB4hLSGqIL0fUh6fHH4aHxhgFXMSOg/FC0wIrAQcAbj9gPp096T0C/K576zt+uuV6n7puehr6Hbozeha6frpwuqh64rsVO0t7hXv8O/a8MLxkfJj8zP00/Rd9cv1GfZW9nH2dfZk9kL2HfYD9ub1xvXI9eL1JvaQ9hf3w/ed+Kn50voV/G39+P7CALwCtgS6Bs4I5Qr9DPQOxxCZEloU3BUPF+UXgBjSGNIYfxjjFy4XbhabFYoUXhMWEoAQsw6lDFoK9QeRBUUDGQFB/7n9Zfxp+736HPqg+V/5Mfk1+VT5efnW+V/68vqD+x/8ufxZ/fj9av68/tL+0P6u/mH+8/1t/eb8OfyP+6X6qfm1+Kz3tvau9bn02fMZ84TyBvK88Z3xyPEt8rjygvNs9If1yvYh+JH5JPvL/ID+RgARAtwDqgVsB/UISQp1C0wM8QxdDZENpg2GDXcNUA0ODawMGQxiC34KdwlXCCkH9wXmBNwD7wIcAloBvQAgAH7/6/5T/r39M/26/Ev8/fvR+8H71vsB/Cz8U/yD/JH8ifxT/Of7W/u0+vH5EvlA+K33VPcj9wj3G/c/93b3uPfd9wj4K/iD+Oj4b/kn+uz6yPuq/KD9kP6w//MAUgLaA2gFFgfSCJAKKwyaDfcOExD8EJMR2BHfEagRMxFjEGEPSA4NDdELiQokCbkHPgbFBDoDowEIAHP+7fx6+yX64fix95v2mvWm9N7zL/Ob8kXyKPJD8pfyC/Ok81b0EvXT9Xb2CfeU9/P3N/hh+IL4p/i5+Nr4JvmY+TH68frF+5P8Uv0A/oH+5f4h/0n/jf/H//3/SACyACQBqwEwAq8CWAMSBNcEqAWCBmAHKwjfCHAJ8AloCtkKMwt6C64L1QsCDBYMGQwHDPkL7QvLC6ULYQsdC8EKNQqZCcwIAggrB04GXQVeBH0DmwK3AdEA+P8n/17+kv3R/Bj8bfva+iv6hPnj+ED4lffj9kD2mPX+9Fn0v/M387vyWvIY8v/xBvI68njyx/IQ8z3zZ/N485jzv/Po80L0z/R/9V32ZPd++LH5+/pN/K/9GP+QACACpwM3BbwGMQidCe8KMAxUDWQOSg8SEMAQQRGZEdIR5xHpEbwRaxEFEXwQ3A8eD0cOSw03DCILAwreCLcHhAZCBf4DywKdAXoAaf9n/lb9Vvxi+3n6ufn7+FL4ufcx97L2NvbE9VT17/SQ9D30CvT88wj0I/RR9I705/RR9bH1F/Zv9qv2yPbh9vT2Bvc49433FPjC+JH5fPp1+3D8ev1U/gv/zv+FAEwBJAL/AuQDzAS4BZwGeQdRCBAJvwlTCtUKOAuAC6MLqQuSC2YLRAsSC8kKbgr7CWUJwAgMCFoHkAbABfkEKARcA5ECzAENAWUAy/88/8P+Yf4L/r/9dv04/fj8sPxp/BL8uftf+wv7tvpi+h367fnL+bb5qvmt+bH5vvnM+c750fnB+a75iPlk+U/5O/lG+Xv5vvkT+or66Po7+477yvsK/F38wvxD/eL9qf5+/1gAUQFAAicDBgTIBIEFDgaDBgQHYAe/BxwIcAjXCC8Jdgm0Cd0J4AnECXsJGAmaCAEIbwfgBlcG2QVVBcsETASoA/MCMAJTAXoArv/2/i7+cf3Y/Dr8pvsO+3z6/vmU+Vb5KfkX+Q75APn1+MP4efg2+Oz3pvd39073Pfc29zj3MPcy90j3c/fK90D40vh1+ST6yvpo+/T7evz9/Ir9J/7i/sP/uADGAdkC+AMdBUcGdwefCLgJtgqACxoMkAzeDPQM4Ay0DHEMFAyaCxALVgpzCX8IbAddBlsFVwRwA6AC0wEwAX0Au//0/h3+U/2W/PX7YPvi+oj6N/r9+dn5u/nC+fL5OPqY+g77hvvz+0T8f/yL/ID8bvxL/CT8B/wF/Pn7+/vv++H7wfuC+037Dvvc+rv6mvqD+oL6gPp4+nz6nfrW+iP7h/sH/Jr8NP3S/WL++/6M/xQAlQAmAeoBugKTA2kEWgVABh4HBQjLCI0JKgqpCh0LZguWC7ULugudC30LVQskC+wKggrqCR0JNwgaB9AFigQ8A+kBuQCv/9T+Lv61/VL95/yN/Cr8xPtC+7P6N/q4+Uf54fiZ+Gv4Tvg6+DD4OfhK+Fz4avh3+JD4sPjI+OT4Cfkw+Vf5ffmN+Z/5p/mc+Y/5f/l9+Z358flc+vH6r/t+/F79Of76/qj/TwDqAIUBGwKsAlMD+wOJBBEFhAXeBTQGegapBuIGFAc3B00HUQdVBzEHAgfFBmsGCQacBRwFkwT7A1kDtgIoAq4BSgH+AOUA+ADqAOsA1wC1AIgARgAIAN7/5//1/xcAWQCjAPYAPgFjAXsBigF7AV4BJgHhAJQAPADw/5H/OP/X/nH+F/64/Wb9Fv29/Fn8/fuh+0z7FPvn+tH61vrS+ub6Evs3+2v7u/sk/JP8Ef2p/U/+8/6P/xUAmQAnAZkBBQJrAswCHANZA5gDuAPsAywEYgSlBM8E5ATZBKEEPQS7AyUDhgIBAo8BOwH6AKIAMwC2/xv/fP7Z/Tr9uPxV/BP87vve++77Dvwj/Dv8SfxT/E/8UPw9/Cn8Mfw4/Fr8ifzA/Bj9cP29/RT+XP6d/tD+0v7A/rr+uf69/s/+8v4g/1P/gP+e/67/qf+Y/4v/eP+D/57/wP///0AAkQDgAD0BuQE/AsgCSgPWA1gEyQQrBXEFsgXnBQcGIgYkBhIG4QWDBRoFiATpA1EDtQIuAq8BPgHFAFgABQCV/yP/uv5g/hb+0f2k/Y79hf13/Wn9Xf1U/U39Rf1A/Ur9Zf18/bP98/06/pD+4v4t/27/rf/R//r/AADa/6H/VP8T/8/+pv6U/pT+qP7L/vH+B/8b/xH/+f7X/qz+mP6l/sj+9f4y/3H/r//9/1MAowAGAYQB/AF6AgADfQP1A1oEsgTnBBAFQQVHBU0FQQUjBQgFxgR+BDIE5gN4A/cCeQLZAT4BlwDg/yD/af62/Qv9d/z0+4z7Mvvs+rb6ifpj+kD6KPoW+hb6JvpH+nj6z/o7+6r7M/zE/EL9sf0X/lv+j/7D/vf+If9H/3r/qf/K/9v/4f/Y/7f/jv9f/yv/9f62/pD+gv6W/rr+5f5V/9D/QgC3ACYBjAHkASYCXwKyAgEDaAPbA0sEwQQjBYAFyAX8BRcGMwZSBkIGHAbsBZsFNgXRBEcEtwM6A7ECQwLjAXYBDgGhAEMA5f+G/zX/6v6p/nD+PP4T/gz+Ev4h/hv+FP4S/v79Af74/er93P3U/b39n/2S/XL9Rf0Z/eT8sPyG/GH8Q/w2/DX8Kfwe/Br8DPz6+/n7Avwr/Gr8wPxA/dj9hP4U/5r/CgBuANoANAGTAf4BbQLuAnAD4wNfBMgEFwVXBYcFpQW0BZYFTQX1BHEE4QNLA7kCLwKiAS0BxABHAMP/MP+R/gP+d/0D/b/8nPyc/Ln86PwY/Tj9T/1Y/WP9aP1//aL9zf0I/lb+r/4I/2v/wv8XAHQAsgDIAMsAsQCOAGQAOwAVAAQA5f/A/6//fP88/+r+k/5A/gH+1v3D/cL9z/3q/QX+L/5J/nz+rP7h/kD/nv8YALIAXQEbAugCrQNgBAAFfgXXBQoGHQYGBt0FmwU+BfcErARgBCYE6gO1A3wDPwP0ApoCGAKAAe4AQgCW/+/+Xv7w/aD9Zv1B/TT9N/05/Ur9af13/ZP9of2k/Zz9ff1z/Wv9Wf1f/XH9d/2U/bT9yf3f/fD97/3b/cD9nv13/Uv9KP0F/fP86/zh/Pz8Gv07/XL9r/39/V7+xv4r/4j/7/9YAMUALAGvAUkC2gJ3Ax4ErgQhBYUFoAWrBaYFZwUvBfYEvgSMBEoE9QOeAywDqQIfApwBHwGVACIAjv8E/5v+Lv7y/dH9xP3O/dz9zf21/ZL9Yv1B/R/9/vzy/AP9Dv0f/Uz9kv3W/RL+X/6v/u7+LP9u/4L/lv+y/5D/Zv9D/xP/7P7U/sH+s/6x/pv+hf5p/kr+Sv5W/mr+av6F/pv+m/7A/uP+MP+V/93/OACuABMBdAHaATQClwLkAi0DawObA9QD8AMYBDEELwQ+BC0EGAQNBPUD5gPHA44DPwPPAkMCrAE5AfIArwCUAKkAwwDlAPcA2ACqAHYAHwDV/6b/lv+S/6P/z//n//j//P/q/77/iv9n/yz/8/61/mj+Lf7Y/Yz9Sv0B/dj8s/xz/En8Nfz9+9X7uvuS+2z7SPs3+zv7V/uQ+977HPxw/L78//xn/fz9qf5C/xwA3ABuARYCgQLPAiwDjgPhA/8DHAQwBAoE7gPJA9UDCAS0AzEDFAPOAlQCDALMAXEBEgHYAHkAJQANAOH/xv90/+3+6P4S/+T+z/79/jD/L/8C/07/5f+GAAwBPgF9AWcBtwD9/8n/4//b/9v/sf9V/8D+E/62/cz9/v2K/mL+ffuN+ef5vPkq+mz7/PyV/f78Evzj+rL8gf+7ACADJQX/BIAEMwRjBPcF9QeICs4LRAvXC9YL2gp6Cq8K+wtoDHcKlAh1B9YFkQPhAWgBnQDk/tr8xfoz+RH4Ifel9tf1h/S/82HzifL98eXyifSI9TD1WvV49qz2mvYe+PL6If2I/r3/qwBFAYkBDgIhA28EmwWiBoQH/QfxB9AHqgfeBjEGOgYVBscEPgPMAjwCDwFYACoA/P8r/xD+lf1x/X39T/0c/Wn9FP3W/EX9Yf2W/Rz/pQDWAFABOAKoApICUAJyAvUDcgWrBeMFkQbqBkgGlgUxBkwH+geQCE4Idwd+BsIFdgXGBJcE4ATBAwMC9AB5ABkAqv8t/7r+CP6f/AX7Gfob+hr6Cfrh+Tf5cfjU9zr3/PYm+PH5Dvu9+wD86fvv+yL8nPwi/fD92/6X/pz+Uv/o/wcBLALWAkADowMFBIkDMQPNA5YDigKnASUBvQAlAdEBpQGqAf0BhgGrAIEAuAAhAPH/vf8+/ij+sv4v/uD9Nv7L/rv+IP4p/ln+Z/6b/mX+8v28/bH9tfyJ+4T7j/tb+yP7IPoR+Uv5AvoK+qf68/tR/Br82/vU+578gv6sAGcCzQPRBKIFmQYZCF4KJw29D5ERIxMuFC4VMxaFFiEXhReBF1cXvRbTFawU+hPjEucQ+w6xDMAJ1QbTA6sAFv76+6r5ZPZm8xHxju7d7DDr9egl5yvl4eJh4f7gYeEw4vHiXePs49XkOeYL6F3qMu3m71DyavS/9hn5UPvL/SIACwMCBnAIugqBDBsOHQ9ODzkPcg+0D+0OKg51DUYMAwvXCcAIhwf2BjAGqgRdA0AC0gB4/87++P1o/Wn90vwv/Ir8Pv19/WP+xf+cAKoBdALKAmwDpATCBfQFDwanBgoHNQe4BxEIcAj7COQIKgivB7YH1weWB20GQQVFBBgD8AGbAAoA8P/I/gj9svv++oL61PkF+e73Mvan81Tw8eyD6ybsXuzP60DqtOgU6HLnjOeQ6Mfq6uxn7TvtlO2E70HzFffu+hf/vgKfBvgJZg3mEakWqBuKH4IinSV/KOIqyixULj8vqy9KL80tQCysKo8ooyXQIbodAhm4E/MNDggGAxb+5Ph+8+rtvugP5N3fLtyl2JLV29Kg0FnPy85qz9vQYdIH1C/W69h13K/gXOUe6tDudPTZ+bH+tgNuCOEMBBGvFJ0XUhrxHPseNSDFIPkgXyB4HoAbYBj+FOUQ6QyxCC0EFgDd+yD34PL271js3uiu5lLkgOJj4SbhIuFA4n/k4+Wj6OfsQfB68zr4Hv1nAVsG/ApuDm8SHhfQGTUc0h9pIT4iGyORIvUhzyEdIcsesRyMGk0W2RE7DkYKQAYAA8/+Z/ou98TzOfBk7XbrfelE6P7nVOd5513oN+kH6pzqQ+vN68PsSO6c72nxGvRy9gL4u/dw9dX0r/UB96L4UvhT91v2OvUg9Cb0y/YX+jD8efwM/M78fP8/A7YGIgpNDiUS/BS2F5Ia0x68I9snFytXLVIvwzBhMbIxmTE5MT4w4C1hKrQlBiGIHIsXQhLkDGcHzQAE+jLzH+y15Y7g0dv21izT/89BzVnLeMoRyljKK8xuziHR9NSu2Ojc/OGO573t2fNw+q3/ngMZCHoM8BCdFesYBxsCHU8eyB7rHTIcKhppF5oU2xBnDEIInANa/376xfUW8jvug+oM51jkk+Gv3tTdMN6t3m3f4t8Q4QXkBugE6zvvBvVv+hv/1AKuBZcIPA7YE64XXxynIbAlgigzKqQqbytZLSQu7ywELKsqqCYMI6EfWhukGNQVCBLJDWgKdAZuAaP9X/ow9/f0WfNs8Cju3ezy6rXpcen+6Zjqu+vV6wbr5uuz7ILtEO+d8J7xPfIY81bzcvNc9MD0HPUp9dX03PMR81jzDPPS8x7yhO1I6SDnO+gw6Snqi+qH6qfqwulN6QnrJ/Bn9gz8v/+rAoIG/AqID04TZRn4IAcp/C+BMxg2TjhWOv87SD0bP4pAyEDgPQE4gjGOK5YmJiHNG2gVRQ4/Brv8bPOk6urjBN6U2PLTfNCzzVnLqcm+yD7Krc1N0iLX6tub4MDkSOlf7j/01vrPAO4F7QmlDfUQKROoFN8U+hRzFfMUbBO2EPQMdQjJAwL/Xvq29o/zG/Es7lDrKulC53Pl6eNB4+DjT+bl6Cbr1ewn7lHwHfNY9v/5Xf6KA3gH+Qk0CrcKtgykDoYRGBN4FJYUoBQ+FPcSUxQjFk0YWxnIGAUX4hSJEwkRfQ+BDz0QtBAMEFgObAtSCacHEAZFBaYFHQVfA9YA/vyz+ZH3VPZ29dn1jfYS9qX04/K98WTx0/GO8m/zofW898H4Rfnb+RT6rfox/Db9zf56AD4CQgJBAkECdAExAdr/hv6m/NL8oPxv+4j64veq9RHz3PLt8gDya/BJ6znnLeUV5pXnAelK67bsM/BH8xb23/ho/OcBEgcuDQYT6RgKHr8hHSWMJ9Mr6i82M2A1GjYINqI06TI8LiMqaCZUIoAcAxXvDSIFRv5j9l/u/ufg4vDezNru1+fT2NCHz77Ots490BXUE9gb3bDimeiP71H2q/t2/7ICOgaDCk4OgRGsEwYUWBO4Ec8OjAsmCfEGXgS1ArEA5P1c+1L4I/Vz8nPxKvHP8fPySfTw9t35Efw8/bP+EACaAvsF8giKCwoO3w9WDxsOjQzPCuwIdAdhBEQAR/7y+4j4i/MF72/rb+l76YrnluUz5anmbegJ6sHs6e4I88b4HP7LAigIWA4KEqYV2xhiGkscqR50IBEhxyJVI+IhlR+qHOwZEBefFJAQwgx+CnYIWAZ+A1AAHv06++/55Pgm+K34G/mx+Bv57/fg9pD25PUI9VT1Kff/9+n4VPlr+MD3S/hb+Dn3JveA+Jn52fqO+5T6t/lc+TT50Pib+sT9S//J/UT5UvRD8NjvIe+u7B3t9u+Y83X16PUt9NzySvSo9XX3jPq4ADEHBQ2tEKAR+BONFj0ZqhrMHMQfbiLmJMsk6SMyIoggbBxxFtMQ9woGBlcAMfsd9evvDuzP5l/iGN8Y3SHbI9uM3M/dyOFA5qnq5e929rb8nwErBqgIcQsZEKkVVBngG18eQR9lH/QdiBq0FQUSew9BDCYJXgazA3IA2/0B+2b3qPUV8+DvSO7Q7hDwgPFZ8zLzdfMz89vxyfAG8CzwsfDC8mrzHfMU84fx7O8J7pPsFes76rnq7epD63zsqO7679HxnfQ79u34zPx6/zcBfQW9CtgO2BTNGtEe8yHiJPkkEiQtJb8kuiKoIX0glB3XGhMYhBOQD3kNLAr9BscFqgQ0A+UCoQLMAFEAEAG5AMwAfQIEBFoFTgdHCBUHHgYbBlsEfgK+AQMAff41/ZP6Efdg9GHyqe+V7TTsv+og6hHsvu707wLyWfRc9fj1Xfez9/j3gPr1+j74Q/Uq8//v4OxZ6kXmauQs5iDosuev55rp+uo17YvvBPC68bf2mfwHAVAGmw2WFP0bgyOiJwIqES1rLiEt7Su6K0Mq0ikAKfQkXCCrHPUW1A3VBAn8Y/TD73Xsvuio5qHniejM6AnqautF7VPx/vXR+T3/HgZdCysPmhLmFLcV9BaCF8kVsxT4E8ARng4DC1AGFAHF/FX44/JX7kTrLOgx5lvlnuTe4/PjuuP54pLjBeVe5tDnlOp87VLxFfU89+L3gveq91b3cvZL9Tz0jvPH83X00/M488Lz4fO58+/zePQ09Uz24fez+Hv5qvt2/qkBfAafDMoSUxm9H+cjcSZIKZEqTSpgKqYqzipqK2gstSvjKe4nMCRkHp4YBxPzDLcHWwQlAU7+nv0D/WD7VPoP+Q738fXJ9a71TPVG9iP3Dvfr97L4g/hI+ND4+/iz+Fj5ffnQ+Kb4lPhd95H16PT/80DzN/PI8u/x+/Hc8r7yqPJQ82Tz2fKX8hjwGOyp6Yzn/+RZ4kfgK98p4LziRuQh5YbnUOva7mby3fUT+Tz9pgJFB0IL3hBGGPcflSfQLrg0cjlIPW0+NjyqOfU2BjTyMA4uQCtVKGElWiB2GfIROQr1AVb5q/AE6UrjIN+p3GjbT9tV3ffgauUQ6o3urvIP9iX5XPuA/U8A1gKbBU8IpgrvDEsPRBAxD0ENgwrFBtkBzvwa9+DxPO7q6ivoUOZB5WnksOPc4p7hqeA24BfghOCy4W7kZefe6dfsGfAk8+X1A/gj+TX63PuH/Tb+9P5kAFgCNgR3BUoHbQkRDOUN7Q2wDbQNZw4RD7sPyBCLEtEVaBn1G2Ed5R4jICAgpB+uHpAdAB1JHNYaARlOF3oVShOKECoN3gnOBqcD//91/Hj5/vY39Vj0OPQV9UT2RvcF+A/4/feC9y73CPfr9nP3cfhT+eX58fm5+Vb5IPjV9sf1r/RH9Cj0zvOH83vzqfMH83DyH/Kh8ajxfvJF88TzBfUM9v/1q/Vp9SX1SvXL9Qn2m/Vk9Xz12vTr88vzI/Q29Vr3nfn2+63+hwG1A/kEpgazCN8KAw6qEcsV5xplIDMlDCleK24sqizhKxEqtydGJVIiRB8gHM4YcxXOEfoNkAnjBDsAM/sB9q7wfevJ5gTjXeDc3v7exODE407n8uqM7jTxFPOm9HX1FvY994v4+/nK+4X9xP8nAp4DbwTABPYE4wSPBCsDAQEe/xH98frp+Db3+/WC9Sv2PvfN96/4+vg5+O72LPXo81Tzx/Jm8hfzDfQh9ev19/WJ9RX1y/Sk9PP0lPWZ9j74t/nF+vv75Pyn/b3+LgAOAp0EGgeaCV4M5g49EUgT6BRcFtAXURn/GjUcGx2SHR8dfhzrG6IbWRuMGpkZnRgkF38U9RDXDJwI9gQLArX/Tv6L/Sv9Cf3M++P53/eA9SHzMfH7727vT+9179nv3/AT8tnyq/PJ9Av2M/dT+EL5Y/q6+2n9X//KAEECQwROBtMH/AjfCWYKYgroCd8ITwd+BX8DcAEw/wr99PrF+DT2bPOs8MztSOtr6ULoxefN54ToG+na6Ynqneo66+nr5eyJ7s/wxfNc90X7JP/2AkkGIQlbC/QMfg0QDVoMoAsVC+0KzgrpCvkLjg1TD9IQihFOEcEQ6w8yDkkMnAreCQYK6wqfDNkOfxEkFB0WUBdWGIoY4RdzFpAU7hLQEcwQPQ9NDU8LSQn+BiwEjAAE/WP5GfZb88Twc+5n7KvqLOkq6AznR+aG5Q3lbeVZ5hrnv+fC6HnpleoK7DPtce7m7x7xU/I788TzP/SW9Ob0a/VE9jT3WPhF+TX6G/ty+5L74Puf/NP9hf9SAUADgQWoB38JrgpyCwsMbAz5DHsN6A2EDm8PTBDmEBQSohMAFVgWQBfLF/QXTxfrFfUT3RHqD1oOMg1sDA4M0AuMCxkLKgqSCKwGWAR3Aeb+uvzZ+mX5cfgU+Bj4T/hA+PX3sPdg9/b2mPZ89rH2v/Yd9wn4h/gZ+cH5JfqR+gT7Ivsb+wP7qvpb+sr50fjQ9/P2G/Zk9Wf0GvO68TTwz+7g7VvtaO3o7WXuv+++8WDz5/RY9kb3ZvjN+Qv7hvxn/rUAPgP5BXYIPApJCwUMYAwdDLILvwqHCbwIPAjvB6sHeQeIB4cI2wmkCh4LJQv2CncK7QmGCVAJdwliCvIL3w0UEMERxRLzEsASGhLTEA4P2wzmCjQJUQdUBSkD5wA0/4r9sPsN+sj4p/eb9mf1H/Qa80rykfEW8SPxd/FQ8nvzmPQa9vD3rvkg+1T8RP2z/TD+s/6o/j/+S/0n/PX6kvl4+H/33Pav9on2d/Zq9ir2uPVK9c30efRz9O300/Uu9yH5W/vg/Y0APwMYBs4IywqNDP4N/A6DD6EPlw+hD7sPng85EPMQIhEJEVkQ5g75DLgK2gdqBPUAFv68+775LvgM9232QvYY9t/10fXd9Rb2R/ZY9pH2M/cE+Mn4EPq6+239Ff/pAI0CKwT6BQsHggeKB4UHXQcJB40GkwV7BHADRQLwAIv/zv0Q/If6FPnw9xz3fPbr9Yv1pfWO9Vb1HfXK9DL1E/Yw96D4jPru/IP/KAJ5BJ4GoAgWCvgKkQvLC9gLwAufC+YLIwxTDEoM6QuTC/8KigmfB3EF6QLtAE3/bv4r/iT+jv42/w0AoAD1ALYAQQDa/3//QP8x/5P/CwCEAP0AZwGwAdIBuAFVAV4A0f6//Hv6R/gH9hX0kPJt8ZjwNfAg8DDwc/Ce8LTwvPDU8C3x3vH58jr0svVz9xP5wfrP/Mj+egA0AuYDaQXdBv8H6QiuCREKTQpDCssJIQlvCOIHlAdFB+4GdwYCBsAFawXrBGUEAwSZA2sDdgOfA/kDQAStBDwF1QVTBo0GDgegBwIIKwiwBxIHVgZRBasEHARzA+8CUALGAUoB1AASALn+PP2j++75L/ie9mH1o/Qk9NXz7/Mf9G30yvQ+9dX1Yfaa9qn2BvfI97b4oPnW+g/8Xv3K/vb/8QCyAUcCpALhAgIDCgMVA+sCiAJnAh4CjgEVAZ0ANgD3/8j/Jv9v/gX+Bf4u/nL+3f6m/xcBcwKzA+cEPQaGB4MIPwm9CQ8KSwppCqIKIAthC1MLFAsDC8MKOQp8CYoIjQd4BngFJwS/AoIBMwDg/nL9Cfzj+gX6Yvnt+Pn4UPng+b36l/tM/Pr8n/25/Yb9Kf3J/HT8Lfw8/Hf8Av2z/UX+3/5Y/3//Xv/y/m/+y/0k/YD8kfu6+hD6k/lb+Wn5qfkQ+qD6MvsZ/Oz8X/2y/fD96v2W/VL9IP0i/WT95f1//jL/w/8zAHUAaQA9APD/ev/e/l/+0v1k/Qv94/zb/Mr87fwZ/U39mf3x/Yr+T/8KAMUARAHjAXwCPgNABGoFowa8B7MIdQldCvgKgQuyC58LhQshC7gKHAprCcgIGghXB5UGlgWABGoDRwIbAdv/l/5S/VD8evvi+pv6hfqR+rL6G/u2+1b80fxB/Z/9E/5u/rP+BP83/5//AQBuAMYAJQFuAZIBgAEuAbwAj/9Z/jz9M/xU+2/6p/kl+fz47fju+ND4pvh2+Gf4jfjR+E/5A/rl+vf7zfx+/Vf+Bf+v/3oAdAFvAmoDPgTVBEcFaAVfBS0F1gRkBOkDfQMnA+gC1QLdAtEC1gL4AhEDPwNDAzYD/gKDAgECVwHYAIMAgQDcAHwBcAJoA1QEIQW+BTQGYgYfBlsFcASqA/wCUALzAd0B6wFTAqoCxgKNAhsCoQG5ALn/q/5P/Tv8PPtp+g361fni+d750vn0+QP6A/qw+VD5Hfns+O346Pj/+F352vlO+qX6Gvus+y78pvwd/Xz9t/3b/ef9zP3V/dz9x/20/eP9Ov6E/s3+D/9o/4n/wf8VAHEA5ABxASMCqwJJA9QDTAS9BPkEcwUhBr0GSQe5B/QH3geEBwMHagbhBWcFDwW9BIEEtATyBOMEnwQoBD0DLAIkATsAkP9F/1H/gP/m/3MA+gBSAaUB4wHvAecB3QHCAYkBRgH5AHoALADO/2L/Gf+O/kD+Bv7H/Zv9Zf0v/eT8a/zW+077y/ps+g765/nk+QH6afrE+kz70/s6/IP8vfz+/Db9Rv04/UT9Yv2I/af9pv2s/fX9RP6b/gn/wv+IACEBswEKAlUCnwK9Ar0C6AIoA34D4gM+BLMECQU+BUMFIgUaBQ8F6wSnBFQEGgTeA6YDXwMJA70CcQI5Ag8CCAL0AckBawG4AB8AkP8J/4X+EP74/S7+Yf6M/qT+qv6j/jP+oP38/Iz8W/wL/Nj73vv8+yP8KPwS/B/8Ivws/Ez8Z/y6/Df9Yf1v/XX9Xf1y/XL9f/2q/d/9Mv6E/tb+Nf+Z//7/ZQCZAMgA8QD4AAoBFAESAUYBogEPArsCWwPqA1cEkQS5BM0EugSRBE0E8gPJA6EDhwNyA0gDNAMhA/gCwQJkAv0BjAHTAC0Ad//e/on+L/4T/jf+hv78/nf/3P8zADwALQAAAHP/Gv/m/tv+Cf9A/7L/FgBNAH8AWwAFAKH/L/+j/gj+gP0Z/av8KPwX/Bf8JPxD/FL8dPy2/PL8Av03/WP9ov2g/Xb9Z/1x/dv9MP6g/hr/n/8pAGUAlAClAOMAMwFiAaoBAAKOAiQDkAPoA0IEowTgBPoE/QQaBTcFLQUnBUoFfgWmBbkFgAVHBfIEZQTbAz4D2QKhAlsCGwLpAasBagHwADMAjv8F/4n+MP76/fb9RP6U/sb+u/5y/hr+i/3j/EX8w/ti+w37tvqG+nT6ZPpo+lj6Uvpe+nf6kPqW+pX6l/qI+ob6rPoN+5z7Rvze/Hj9XP4t//D/jgBKAR0C1wJxA8oDOQSXBOwEKQVFBWsFigWQBXoFVgVDBTQFGAX8BM8EpARpBBcExwNpAxEDugJlAiQC3gHDAb8BswGyAaABiwFlATUB4gBvACYA6f+8/6b/nP+4/9H/0/+5/17/7v5+/gH+jf04/Q39Hf1W/aT9/f1O/pn+1P4R/y3/M/8Y/9z+cv7u/Y/9HP3a/NX83PwS/WH9tv0M/kr+fP6H/nf+V/49/jb+Lv5N/n7+v/44/7b/HgCAANUANQGKAdMBHAJSAmACcgJnAicC7wGbAUsBDQHiALIAiwCCAIMAcgBBACMACQAaADEAUwCIAK4A9wBGAXwBnAHcARcCOQJaAmECbQKnAvECDQMTAxMD/gLmAqcCWAIFAq0BfAFMASgB4QCcAGgADQCy/1v/BP/F/qP+pv62/tD+Gf9g/6H/q/93/xT/ev7l/UP9svxc/Dv8YPyn/Pz8W/2o/c/91f2w/VX98/x5/CL8yvuE+4r7rvsO/Ib8Qv0A/qf+bP8IAIgA3AD+AA4BAwHxAOwA2gDpACcBfwH3AVwCvAIDAyIDLQP6AqUCUwIHAsIBmgF9AXgBfAFrAXUBYAFDAQwBswByABAAuf+h/+f/WQAhATwC6wKhA2sEswSKBP0DOgMmAvsAKgA8/5n+v/79/nr/NgADAcMBLQJeAg4CGAEEAPD+ff0t/Dz7h/o6+mL6K/sO/Pf8IP7x/mf/c//8/i7+Mv1J/G374/rg+nL7YPyq/Tf/igCgAVsCpAJbApUBqACc/3T+qP0w/SD9p/2D/pj/oQCpAWACdwIiAlkBJQDI/nD9TfyU+4f7EfwK/Xf+HgDRATsDQwTcBOIEiQTZA/gCMAKSAVcBZAHfAeACJASEBagGkgfqB7wHFwfiBXAEvgJKAV8A2//h/2kAOwElAu4CWwNEA8oC6QGwAGP/A/7f/C/82fvQ+zX8rfwA/Zj9Ev4h/vb9W/1X/CD78/n0+Br43/c/+O/4Qfr8+7T9Yf+wAHYBuwFvAbAAtP/G/hb+p/2m/Tn+L/9qAO0BRwNQBP4E6ARGBFUDxwH0/xr+dvxB+5v61Po++wT8Sf0j/uX+lv+t/2D/0v4H/vj8KPzb+7j7N/xE/XX+4f+XAUIDxAQmBh8HmQeKB0wHsQbwBWUFnAR0A28CrAHSAKj/Tv7j/Cr7zvl/+H73EPcd96n3SfiE+ej6Q/x4/b3+4P/YAPEBFwPaBAwHoQlvDDgPHxL9FFEX+hgOGl4a2hmyGAwXwRQUEjgPSQwnCQsG/gLW/+H89PkH9z70XfF27uvrlemk5wLmBeWj5NfkSuY26HnqB+3H75ryWvUn+M76Uf3j/08CjATyBu4IeArOC3cMhQwmDGwLIwphCPUGUAWAAxgCVQBt/qv81frM+Lz2TPUO9Bzz6fL58ovzlPTq9VH39Pjv+uP8tf6WANsCyQR8BkMIsAn6ChIM5wwaDR4NNA3WDDgMfAuaCoEJlwisB3EGWgVKBHsCeADs/lX9i/sP+ub4B/j+96n4c/le+p376vzu/bP+VP9n/3r/hv8x//z++P4R/wz/Dv8P/zH/Wf80/4b+df2J/B/63/Uh8frs2unm5frhpd/+3+/iMuUO51DqzO7i8hT11/aI+WD9ZgGUBDkITg5HFlIdeSPHKSUwnDWpOEg54TiPOAA3ZzMDLzkr9Cf7IwAfuhhiEl0MqwSc+2PysOpF5BTeytjf1MjTydSh1RfWDdds2RzcIN793/Ti2edr7dzyj/h5/9UGvQx9ELwSfhRFFdwTERDSC5II1QXPAnj/Dv29+6z60vgG9oHzwPBD7UbpKOb/5DXlReYC6HLrpPAs9k/6r/zR/ooB2gO2BAwFwgVjByYJAAoJC2sMbA0hDDQJhwY1BAoCZP7w+gz5Dfkq+/b8NP/VAtcGPAq+DCIPABHAEhAU1BS/Fu8Z9RzjHlMgsyEDIlYgvhwcGMgTlg/HCncFBgEO/un6ofc09FTwC+1s6T/lI+LX4BTh5OEw497lSOq+7yL0nfYb+cP70f3E/vf+c/97AFIC0QL1AacBLQIpAsj9J/WQ7H3oxeb34DTZHdZp2iXg3ODk33Hjw+t48fDwz/Cw944CwQnyDOMSXx+7LI4zpjUFOuJBMkfURf5A7z5oQFM/ZjgqMJgryCiYIusX4QzSBZMAqveV6wTi790f23fVUs8BzfPP1dP/1DTWhNv748Hqpe6N8nP4wP6UAqwDXQUfCiYPOBHiEP4QlBL8EncP0AihAlz+Hvr/9Dnw0e3J7VPtTuuZ6SXqLOsh6sLn7+YQ6QTsFe6s76Dy/veC/cYA5AK+BCUGHQe9BtgFrQUBBskFzAS+A90BN//b+0L3r/IU78XsZ+xA7c/u4vFA99D9VwPhBzsMaxCfFJ8YyhuwHhciYyX/JzkqQCvOKnMqQynKJdkggRyOGS4V3w4dCJgCDv+X+tj0zO9Q7XzsbOuV6i/qzOqz7J3unO+i8Q/1HvgR+2v+7QIJCLULQQzCCh0KJQmrBTAAw/rk9g30qvFY7lfreeqy6Z3nUORq4rjiiuJx3DXShM491Efaydh51u7cqOzy97j2fvUF/twKKA5ECfEKmhgmJ8op1CZSK+Y3qD/bO/Y10DcXPuE9EDVzLHsrPy2lJ0QbmRFrD+QNvAUZ+Vjw/u6D7F/j6dhz1snboN792o/XfNx15t3rA+vJ61XzrvxyAMr+hv8DBVMJBAgvBXkH5gz5DXYI8gAx/JD5mvPH6RDjlOIM5Jnk6eSH5/7ruu0Q67Tojeqn7p/xB/N097cACQtnET0UQBbnF+kYdBcDFmcV2hQhFIsSiBC4DJQHDgHt+tP1LvHH7vntme2363jprOhD6dvpXukE6mbtYPTy+0cCuwcMDKgQcBQYF+kXMBiMGRobrhwxHfgcxRvqGQcXExPEDjoKPgbbARv/kP1q+w76Jfnc+Rv71fty/Fv9nv9ZAV4CGgMiBaEHYQitCPwINAqRCVYGRwKp/qn7hvdp81rvVO2l7NXrWutS6nbqwurm6ZHoBuh56SzsqO5R8eD2ZP66BPkIUg05EpEQvQbP/Fz7bf86/Yz1bfI6+t4Caf4S8xvvlvQx9+rwfOuN8pgA4gYvBTIHrRFtHLsfDh6HIm8tWDMrMfss6C0TMsYwWSgjINYd1Bz6FYMK4v8B+hz0OOlS3ZfWUdbI1XnRscyUzc/TLtmo24je7+UF8F742PxoAIAFqArCDBcNpQ+tFDgZmBl6GNgWXhSVEC8KIwOq/d/6Nfi/9h34tPn++Xz5Evnu+AD6Ovu1+qP6z/whAPcDNAfhCDwJXAkRCUYIngZJA9z+M/o39sTyUu/t6qvnquWS4/Dg590S3R3dtd1f3c3dxeHT5rnrM+9Y9Dr7EgLQCJcOThOzFi8aihy0H+cj5CUhJiklIiXWJHwi8xyAFekPkQzqCncHygMxAsYAEf8j/bj8H/3f/Vz+y/4oASEEfwUdBfcECgXGBKIErwSZBd4GoAe3BtcEEQMBAAv8X/fu8jPvi+4L8Z3y8vS/9436hPyZ/uUARQHzAUICfQNvBXkH0AeCB3wIowe7BqQHaQfS/KbrSuCk3/vgTthqzZDNWttw4snYVdA71n/kgehf4zrmYvh3DNoRTQ9uFPoiUC0/LY8rhjGSO4Q9bDYfL00upSwHIqoTWQptCMgEZ/un8OTrbOxj6K3fLdmM2rnfTeKI4hnmke9P+kECHQdZDwka3SGaJc4mCSk3Kg4o+iIMHwcenhsPFQMMewQg/nX1kOm23s/Y/NXS01DStNQr2+DgaeO85cvrB/OK+O77VACSCP8QTBaJF4UXRheVFcARigz2B8cDwP7F99Dw6Oqg5Qjft9fd0S/OPc2hzG3N0M8D1Dza5uGf6rzxUfmJAa4J8BEXGR8gLycjLUYw9DG4M9szgDL9L7AswymzJgAjPh54GLQR+Ar7BakCsv+h+0v4R/d/98D3g/dr9/P43vux/X3/WgOCB20JPQmiCPkIwwltCPUFKgWtBWkFEwMy/+/6svY48VDrheag5DLm3uct6nztgPFg9Ub3//jn+lf+aQJFBYEHQQgJCFcITwjTBucEcgPCAgz8ie0U4CvaC9pU1OTK7sj40aLcT9tB1ArVyN8r6HboueqH9+0LXhmeHXUi2CzONkY4MTXQNd49HUTHQRY7uDZHNm0w0SIFFAgLIQf4ATn6bvOi8Tvxdu3z5uvjLea56a3sNO8U9df+rwiFDVQPkxO9GbMeRh+7HW8coRrsFXsOOQjSAwb+3PSq6xLlpOB02vXRWsu+yInKRc410nLWftx447Lpbe+i9MX5Fv0h/y8D5AhjDbcPMA+ZDSkM0AjRA1b9nvd88gPuzes36nHo3eO634Deud0N36viDufT7Fz14fxWAg0J2w7nE+sa/yEcJy0sMTBbMREy0TBQLVAqyidHJZwiZx/sGisXCxMCDTkGZP/++//6VPsS/FL8OP5YAbQD2wPjBGMG1QdvCpUMsw7SEAIR6g1SC7MI/AR3APH6T/e69DXy8+2/6RvmFON/4dHeF91D3dffGOMI6APudvJc92b73P/tA+QFVwWqBccHvwc4BvQCTAGLAFr+2fvl+Xj1Pevc4frb0dhT1W3RvdIq2k7jaej/60PwE/Ys/DkCmQqwEnEcIihdMzA7fD47PzI+eT11Oto1ITNGMdsuaCpaJIcdahY+DckABfVD7hPrG+ih5ZPlf+gj6yTsMOz/7K7vG/Lc9er7SANhCgwQlxSZFjwX5xXHEfAL+QSf/9D6VfRZ7SnoEeT73vzZ4NQP0S7PZc3jzHrOuNKg2Gzf0uZx7ij3I/+7BjQNbRLMFzMbxBx6HfAeWx6NGmUWLRGqC7YEPfwk9KbsDuf944fiUOEy4OXgWuKy5GvoUuuv8fz5qQDeB8kPcRbiGpUfmSAJINEhcyOyJBclJiUnJKEi8B57Gd4Tnw4kCiIFMAKtAKz/uf+4/zL/qv8zAX0BYQEqAz0GsAjICeEI1weDB24HBAZ0BOgDPAK+/6T7ofe08l/tFejA49/iGuIe4hri4OOd5g/o/Ojo6HrrQO+t85T4wP4DBtMLpREtFXMXjBhFFnIRWQy7CdUGXAX0AZn4yvFP7ZvoSOGn2MfVwdiV3dneduF558/tM/Nm9ob7WAHiB2gPuBhzI7crfjF+NFY4lzuIOpE2hzF1LRUqmCZcIVEbMBUfDucGO/8k9wTvjuia41Hg+N8i4DnhnOMq58TqO+3L8OTzUffZ+5wAggZoDK4RHhVyFpgVuBLmDf4Ga/9m+AP0ufDB6wXnDuRc4TzeONvz2ITZwtym4JHloOxj9Xb9QQQoCR4MZw84EsgSMBGFD+YNwwuTCZcGKQKN/Vf4ifDE69roIuS34HnfleGe5fnqxe2u8FX3Zvsl/vkArwOmBs8LoxHVFHMYBhtCHIYcMBwCG9EXDBYcFI0SgxJqETAQFw8MDpEL1AhWB4wFiATRBH0F4AZDCYEKgwx0D70PWg5CDEkMnw0SDlsOyw2XDWUMXgnQA/f7PfUY707qF+cR5b/j/+Le4ynjaeNX5D3k/+Xk6RDwzvXc/IcCKAZ3Cw4PgRCYD4EPvg40DTwN3wqCCc0HUwBZ9Xftw+j54PLXZNH+z4rTL9YC2Obbo+KB6VTuSPWI/DUCMwmDEa4aySIkKaQuSTRiOTg7+TnYN8w0iTC6KwElVh3WFr4PDwjpAUz8+PVH7+DnoeA73I3ZV9eu10vart4Y5PPpoe/09Jv7yAGSBggMIRL2F94c+x87IXkgyh3nGLIS6QwABkL+Zfc88dnroeez4/Hfrt093C/bFNvz207euONl6k3wjvaX+wr/4QLCBRkGFQYVBykIXglVCi8JJQhVB2YDCf8P++T2P/Le7qPtMeyz7GXtr+7a8Vj0wfbt+Gz7bP2+/7gCcQS5BukJmQ3YECsTORVyFnMXwRa3FAgUjxN5EoYRqxBOD0QPExA6D2IO2Q1EDVMMNAt3CiUJJAntCT8KrQtGDVAOLA4QDVwKmAZtBD8Cmf/o/Cr7qvmu98/1kfFY7arqTOj35YXkT+T15Jfn5+lU7GzvH/Mi91D61P27AJkDPwX3BVEHwQiBCusKUAnGBl4FtAJV/ab3ePIb75rsEOpP6NToeupX6yvsWO3G7uTvZvLC9pr8FgMdCqUSXBqGISQmpijzKkYrBytUKR0ojyfeJZ4jjR8xG8gVwQ5NBpL9pfZM8B7rReZr4mnhTuEw4UThJOJp45HlFOnZ7Hzx6Pbg/BwDBwkLDowRRRRxFToVAhUgFBsSsg83DUIKJgdaA/v+5Pqk9gzy0e2x6kboKOfV5mbm4uaO6Hbrqe0e70TxMvPH9YX4i/rJ/Aj/6gAIAisD0wSyBVsFAATYAssBAADX/ZD7QfqS+Tf5uvhr+EP5h/kd+hH74ft2/WT/hQECA7EESwbcB6MJawpCDMoOgRD+EYgTjRRrFDsU/xPKEz8U+BPsEn0S7RFsEGMODQwCCaUG1wWuBBMEFwToA9ADbAP9AjABsP/P/lP9lPxO++X54Pg++BD2O/Om8hnwXe7z7W/rS+uT7bTvKvDv8dD07PV0+MP54flq+xz9dv6q/8wC5gSdBKEEqQQEBFQCrf8t/LH5y/h/96L18vTD9Bj03POH87zyePH58XLzRfUO+Xj88QHDCDwOCxNAF1kbYB0MH5EgOyFVIiIjnSMqI84iFCEoHX8YBBNGDXcHtwK//a/4R/Xn8UrugOuc6LHkVOIl4pHibuTx523rfO/x9Cv5Yfyk/zcC2QMjBWcHvgmhC9AMyAxgDIULjQkOBjQBvPyI+Xv2ufNZ8U3vF+7x7CHr5Ong6Ynpy+kE6zzthPBd83r2Z/kf/G/+3/+MAUQD6APzA9gEegXgBU0Gcgb+BXEF/gWKBVAElANOAm4APv8t/hL82fpD+xr8Kv3i/qkAsgI7BdIGjweLCMoJQQvDDC8OlA8HES8SzBLqEzgUdxODEj0RUxChDgANrQsqCvwItgcbBj4EDAO6AbAAp/9Q/vP9Sv03/Rz9J/u3+ab58/iy9/r3jfd+9r73mfhe+D/4/Pea9gT2ePbS9Cz0LvVN9mn3HPkf+238L/6X/zkAUACMAQYCrgF/AhICEQFXAND/tf27++r6jfmz+Mj4S/nb+B/5sPmo+YT5JPlS+P33dPmf+i/8pv5XAjkGOAk0DEEOgxDqEXsSxhJzErASvhKCEqQRtRDYD9QNXAvbCFQGSQNDAMH9m/sx+kb4hfaT9ez0uPSy9J/06vR19q/3ivjd+Q37YfwP/m//cgA3Au0D/gSBBYgF4QSrAwMC0v/t/bn7ivl/9wb2A/X/83Pz5PII80bzf/PD89LzB/Qs9E70ePRG9cv2iPjS+V77Bf0l/iH/hf+c/5n/0f9+/8H+Nf9OAE8Ajf9OAAUBdQDr/3v/n/6u/YD9kP0p/vr/nwLvBAQHEwmsCosLDguLCmsKIAr6Co0M0w1ODy4ROBL0EQoSShKTES4QyQ8hEIQPUA+MD9sNnwvQClsJzAZuBdwEqAPwAtMCOwJdAAj/dv6E/Av6Vvja99L2cvaO98/2HPZi9/X3SvbH9Zf2vvVP9oL32PfV+Gj62Pr2+W36cPqZ+Uj5ofmE+mD7g/x4/ar9E/2h/NP7+fmJ+E73F/a99QX2O/by9tX3tvd1+CX5kfj/93n4tfgK+Tf7dfz+/asAZgLOA1AG4gehBwsJMApiCZEJ0goyCpkJgAouCTYImghNB8gFrgUHBakD7gMjBHMDaQP5AyQELAQ4BF8EKAXvBaYGUwcQCJAI4wgACaoIpghhCK4HPQdjBgMFjgO6Aaf/7f1O/En6nvhS9wf2yvTE84vyvvAB8MDvKO9z77TwYfEd8r7zbfQG9en1sPbV99n42fnR+pT7jPxZ/UP9EP1Y/YT9if3H/p8AXAH0AtEEigRZBDwEigKnAB0A5f/H/0oBDwPMBAYHjQgDCWIJ2gk6CaII5AhVCeUJDgu1Cx0LgQuNC5gK/gnqCc0JtgnaCm8Lfwt2CwELRgkcB+YFEQS3AhACmgFjAbwBlgGM//D9dvxM+sf40/cM95X2R/ej93T3g/cc9572Q/b19ej1qvY29/D3Sfki+tb6T/tu+9v76vt4+xr7Qvtu+5T7IPxe/D/9nf36/GH8n/tv+vT4Hfgq9xz3QPgZ+RD6C/vc+xz8m/zO/K78Lf3X/fT+3v/BAWsDgQQNBmMH1wjZCRILuAutC8QLXAvWCgsKHAlOCNkHVAeHBgwGdwU9BcEEqQPIAksCBgKDAfkAqADPAEEBoAEaAuECwQOjBD8FfAXeBVYGiAY9BtEFwAXgBKIDqAIhAV3/2/1Y/Db6pvha93T1M/TX8ovxRPEQ8a7wyPCM8S7yMfMz9KD0I/Y5+Fz5AvtZ/e/+iAA9ArwC7wLHA8YDRQNgA5EDfQN4A7IDrwM3BBwF1ARgBCAEhwMoApwAZf91/h/+Hv6Q/hz/owAYAhsDQATuBAsGugYgB98HhQiBCHkI/gimCHcIxQiuCDoIsgd4B8cGJQYiBdEDpAJMAUwAA//E/YH8T/tr+l35wvgS+Fn3J/cf9+/26PZj94n31/em+Jj5M/rV+q372PsA/Dv8cfzd/Ln9R/5R/tX+Ef8D/8n+Ov78/fD9D/5c/q/+5/4m/4L/cP9e/5b/bf+p//T/zP/u/yQAMABRAEcAWwC1AGkBZgLCAk8DBQR5BLcEswR1BAwEzwPWAwcEWwTtBKMFVQYCB3MHSgc4B/wGXwafBb0EdAQ+BHYD4gJmAtQBXgGzAO3/f/9r/y3/s/4g/sD9Z/2N/Nj79Psm/K78YP37/dr+l//P/9b/lP/n/m7+y/2M/Q79c/zx+yj7c/rD+ST5ZPi59x738fYf93T3xvf091X42fgV+ZH5Q/ro+tP7Av00/sP/ngEsA3cEJAXuBbcGzAaRBkoGCwawBVsF1ARPBFAEdwQoBMEDowNWA8YC3QEUAYEANgAxADcAxQBjAWcCmQOSBDQFkgUXBksGrwYGB+YGugabBlEG0wUVBUwEwQM4A6wCKQKdAfUA2/+K/nH9D/yg+mb5ePjq96T3wvcQ+G/48/he+XD5jfnd+Sn6W/qY+k/7Evy6/HT99f1W/rz+6P7p/uH+3P4H/w7/Ef8//wj/tf6F/in+9/0C/jr+Sf7C/oH/yv/9/1oAmgByADwA5f97/xL/vf6I/lH+a/4K/9j/aAB9AdMCbAPfAwUEsAOCA1ED/QLYAhQDVwP2A6AE8gQHBv4GSAegB9cHhQfLBtkF2QScA0cCYQF6AOf/bP8c/w7/EP8Y/4r+J/75/f795f33/YH+i/6T/gP/sv8fAKUAfAEOAhYCJgI5AhICgAGtAPn/u/7V/Sb9Uvxw+5T6JPpf+Yz4APh29xj3Bfc39573TPiM+aX6ZvsP/IH8bf1R/tT+if+nAMIB3QJaA/4DFAXnBAYF5ATjA4ED6AIuAr4BIQG6AG4AagDAAGsAMQBEAAUAKACRAIQApwBQAVICHAOrA2oEkwT8BFsFiAVYBe8EPQX+BIwEDAR6AyQDqgI+AoUB4QCbACEAtv8j/2n+s/7M/jf+Af7h/Sf+jv5s/lf+gf7V/j7/4/6S/uD+ov7a/QH90ft8+4X7mfv6+S/2Xve5+Rz5Jfl6+kf9iP95ASkBVgDYAsoEQQNaARAC2QLQApEC2wGiAbICTgMRA4QCMAK6AqsANv7Y/In7d/oY90r2OPfK9uD3OvnS+hn8W/06/vr9Mf8WAV0ClwIIBMAGqwdCCVoLdQxqDegNGw44DQQMUguQCPUFZASeAuMAUP57/fX8nfsT+w37sfuM+/n7mfwJ/EX87fxK/Z39xv1S/vH+GP+d/x0BVgFtAN4AbQHNAbwAvP96/sP+Q/+y/PP63Pq1+w37PPjK9Mv1WPgd+KD35fnh/Fr+CQE7AiUCGQXOCPUHnwZkCR4LsQlFCdIJqwidBgIG3wRoAj0B7ADP/b77L/03+6v3C/in+Xf3P/Uq97j37fSN9E32Kfdn9yv6sfzb/Lj/2wOYBCAFAAoXDQ4M6Qw3EWgPLguPDIcN3wn5BpMHOwQQBGUF6gHY/hj//P/6+5j6FPsd+rz5/PfD95z4Z/hx+ED43fhn+HL4ofop+sr7Ef60/rT9c/6JAsj/pPx+AU4D0v7q/6ADRQLjAZQDCQOsAEQCFQUQARj+PwITAqn+iABkAMv9zv6XBFQDEv3aAGoG/gFF/mT/xf+B/pL8OPwC+yX80P3N/tr95P+9A7ECiwCmBG0GPwELAn8ErAL8AbkGBQbCA7gHEAgWBQMFfwXJA/sCQQO2AeUAAwLWAM/+zv4N/6L+Tv12+e36vPzm+IL4x/rB+hP60/ug/DP84f4mAHP9+P7XAFf/Pf6s/zAAOP6f/zf/E/3C/EP86fv2+t/7fvze+p/74fz+/EP82Pyq/rz+df9IAVEB3v/rAB4C4wCiAW0DBQKOAjMGgwUNApYDqwZEAyYAswDv//P+f/6f/fP81P51AO7/6ABXA7oDiwH3AhQEIwK1AtYC4AO4BJQDSwQrBnsGHAWLBKEEtwMQA40CZQEtATcBHABb/gn+vP5P/L/6H/4l/or8tv7o/0D/Z/+O/qz+YwDT/kD9zf2f/rH+wf08/i3+EP+IAN78RvyZ/9b9Qvrt+xH+4fsb+0D8+/v++2r9sfwT/Dj++v6D/Uj+HwErAZIAqQHDAUsBuwLWAu4AHQJlA7sBFQGzASkBVwG/Aa8APgAFATABnAAfAu4CBAJ8ApoDvQNkA9wDNgWYBXAErQR2BEADtwIfAo4BCAGLAOMA4wD4AKEBm//q/vr/af4K/Ev73vtD+7r7K/yp+5/95/7X/j7+Vf6+/1j/Lf8nAAwAPwDAAH8Atf77/df+Uf43/sn+Av9A/mD+a/9z/iz9yP32/Tj9FP32/Jz8CfxT/DD9Gf1e/Yj+8v60/zIBFwGBAN8BrALBARUCOQL8AOUBBQMOAtoBTQNxBGYEWgUxBXwD4AM1Anv/3v/1/6/+0P3w/sH/r//vAFQB3wB7AToCKwG1//AASAGi/yoAtgArAGEA6ACz/wH/ZwA0AH7/1/9jACUAVQD9ADQAzf9fAOD/E/9J/5n/eP/z/8sAQgDs/zsA5/+n/wP/Cf+E/xn/RP/x/9//Uf9Q/3D/G//w/q7/2/8xANwAYQGjAaIBPgLuAbQBUQJYAtoBDgLqAVQB5ADeAL0AAgAiAJT/I/+C/wX/mP4t/lr+Bv5m/QL+z/2q/WH9JP0j/jT+0/1Y/vL+U//c/lX/qwC3AEkBUgJ6AloCiAJXAbz/J/8U/tv8/PvD++f7Ffye/FL97/0p/uj+S/8D/2L/wv46/o3+uf7L/sT+H/+1/3UAKAHIAXQCkAIQA0UDJgKKAeAAQwCX/wT/yP7u/VD90fzQ/PL8Nfzz+0v8VPwH/Or6QfrZ+gP7E/sa+5z6vvtj/QH+lf7y/y0BBwKMA30EOQXiBV8GjwdACFwITgkzCXEJaQqcCS4KEQv5CgcL2AoDC9AJdQibByoGWwWlBGcE0QMHA4sCpAG6ADsAiv8X/s/9v/3k/J38JPyt+1H7u/og+h75/PgD+On2Bfd49ub1bfWm9Qb2I/Zj9sX2E/cD91j3Kvco95D4HPkz+TT6+fp5+0H8a/zK/KL9/P05/jv+7P5K/z//6v+XAMYAoADVAF8BlgFrAaMBGAJyArMCjgICAw8EaASkBJEEOwRdBC0E8AJfAh0CgAGeAX0BMAF/AfYBMwLEAjUDXgNmA+YDNgS6A6ADdAM5Az0DnQP2A70DPQS7BGEE2wSKBU0F3QSfBC8EOANPAnUBEwAn/6T+5/5c/s79if5g/tv+Zv6K/QT+7/3z/UX+Rv2//eb+af3X/Zv+Cf4O/7b/jP+w/w4AMAA8AF7/c/69/s39Mf3t/Oz76/vz+wr8F/wc+zb7sfvm+gT7Kftk+mz6d/uU+0r7xfs0/CT84fy//c792/5CAAYCpQPYBEoGiQc2CAAJkgiBB0AIkggNCBMI5wfBBxMIIAgCCMAGqAbSBjAF5wSbBLcDgAPEA4gDRQOsAxEDEwPLAvEBKwGr/wEAvP9D/jX+0f7I/rr+7P4M/5b/n//2/oH+gf7q/Vj9gvy6+/z7bvpU+cf5T/ny+Hv4Qvj1+Lv5IPky+VD5QvnG+aP5y/nv+eT6RftV++z7fPzN/Ez9zf1Y/ir/Nf+A/6L/nf+V/1b/cv5x/hz+Ff1M/Vr8SvwC/FT78/vk+t36L/x3+3D70/sq/NL8f/yF/XP+8/7I/4sACwG1AdwCRwPdA4MEswTOBPYEPQWUBVAFTgX3BSUGegY0BxYHUgewB5cGogbCBp0FQwXWBKsE7wQKBaME6wRCBdsEhAVvBQIGogYRBqIGcgbeBYgFMgXtBCIEsQOrAhYCVwEgAAj/fP0U/Zf8xPse+8P6+fqt+lb6kvn7+Jb5SPn/+F75rPlP+gr7XPv1+7H8UP3j/aT+Mv9R/3IAkQDoAJUBkwH0Ac8BEAKnApkC3wJGAzwDbAMlA7AD6ANzAyYExQNgA84DgwOcAhoCrQHzAI7/KP/m/u79qP3i/BT+Qv2H/J/9cvxZ/Jf7a/qT+sb5UPkU+ff4I/pl+tn6fPtb/Cr93/0M/ln9Ef6i/hz+Rv5F/pn+fP8h/yEA+f+x/4wAHABjAB4AAwBJAcUAPQA8ASgAPACdAID/eQAzAH0AwwHgAbMCzgJoA00DxAKoAsUBFwH9AOQA3v+x/8H/Of9L/yr/vP4B/8H+2/4w/yL/vf/x/gH/pP+I/yIAlv/z/wYBgwDHAF0BUQHzASwCXQLPAhEDfgMRA7UCUwNJA9ICxgJrArkCOgKkAecBmgGSAYIBMQEOARUCvQE+AZoBggHhAUMBiQGqAVwB5QGQAVgBgQFbAfcAQQCOADcAZ//S/xz/WP+r/pv+0P7V/bb+vv1+/QH+nP2w/eD9yv1S/qD+JP5V/vT+Pv9F/3n/i/9fAG8AhwBLAFAA7QAcAFUAdwDd/5cAowAgANMALwHzANQAAwHmAO3/AQBZANX/GQCM/9b/MQDM/2AA/v8ZAHEA0//c/5X/I/9i/0z+PP66/j7+pP7y/o3/qP8dAI8AXwATAXEAcwA/ADMABABO////Zf9i/5//Mf/F/1P/g/45/8/+gf5L/aT8L/0m/Nz7GPsv+3L7LPsw++L7b/x5/Eb9Df3H/WD+t/4x/pX+MwBm/2n/PgBoAIEAFwHdABIBygGtAZkB3wHZASoCGwEuAd0BWgAqAT4BOQFCAT4B9gFMAdYBhAKYArICoAK8A7QDrAOYBGID0gPPBPoDbgRABNcE1wSLBHAFNgN4BPAEcQOgA3cDdQN8ArYDzwKHARgCaQIrAeL/2gAxAPn+RP///pr92v7D/5v9Cf4e/+7+E/0O/jX/I/zg/ET+Vfya+1T9Yvzj/OD9UPzf/C/++f22/P78+/3C/aD9bPwe/bb+Zv7o/KL9If9S/nb+xP26/uz+2P6q/nv+Dv+X/zT+sv1ZAA//9v2D/x0ABv/Q/9X/H/8iAPv/Qf+XAG8BUgDp/0YBKwH9/3YBa/8qAOwB+v+y/2oA6wC9/y0Ajf87/w0AOv+h/lH/1v9B/x8ASABdANsBWgHRAPQBBwIuAZkB1AGtAQ4C8QGvAWIC1wLvAUICowFIAs4BWwAJAcUAuwAYAFgA7v/X//H/W/+k/8H/ef+2/+3/wv9AAPr/8f/zADkAEwCxAFMApgDg/+v/0v/h/zQA8/72/33/+P71//X+E/8m/3z/Tf8S/6v/hf+E/1r/qf+z/4QAQQCmADEBOAHLAQMBUAEzAb4BoQF0AZYBswHzAXoBdAEfAScBwwAwAZQAbwAvAbQAowC0ANEAiwBWAHMAigDgAM4AOgA6AK0AEwDp/ygAtf9GAOf/CQBTALL/MQD2/5H/BgAlALz/iv/8/0f/z/4X/3L+ZP6T/nL+ov6N/rf+Tf+f/jf/DP+J/kL/CP8p/+L+HP+l/hP/if/D/mj/gP+8//j/eP/M/63/3f8QAB3/zf/i/4r/c/9C/1b/VP8Q/8z/FgBJ/7IAAQCk/4kAk/9F/6D/Bv8b/2n/Ov9Q//b+yf/S/8P/FwAGAFIA4AAdARgAoQD2AMEAuwApAeEBqwHiAjkCwQGFAgICsQG2ACkBWQEgAHMAewCVAMQAQQAkAEwA7/92/6P/u/7i/lD/jP4g/1T/I/+w/yD/Tf/w/6D/jQDd/1wAHAE5ABoBcAB3AMUAawCqAJEAngB+AEcAwv8dALz/Pf9TAP//tP8rAG8AYgC3/+T/wf+j/6b/yv9OAOb/WgBfADEAeQBSADIAEgChAKr/3P9VALT/aQD0/9D/rP8WAKoApP9BAIMA4P/q/4v/c/9Q/z3/Xv9e/8//QQC2/2sAgwDS/5gA2v8XAIH/Sf/L/wv/MgB5/7v/JABl/ykA3P8BAOb/JAA0ABcAxgAWAIAAhQD3/4AASQB3AE8AIwDZAH4AeQBGANn/NwBS/2n/xv9k/wcA0//T/z4Az//e/xsA0//P/67/7f8OAB0A8QCDAGUAYAD3/0YAzv/3/+//sf+H/27/BACI/6H/ev9l////Kf82//f/j/+i/9b/hP+Y/77/uP+l/yEA8f/u/3QA8/9kAHgAMgCNANkAwwBtAGkBRAHIAKgAQwAOAMv/O/8y/6z/wP4h/1L/xv/y/2D/0//o/00AJgD0/+L/lABCAN//QAAzAMEArgCtAM4A5wDgAKwAewCoAGcAVABCAMX/BwDq/6v/kP9+/2L/Qf83/zb/eP7K/nL/3f5V/zr/RP+r/57/CACr/+z/7/8uAKIA8//AAOAAmQA0Ad4AGQEzAY4AcgBhADoA9/9BALv/o/8ZAKL/BQD//+r/DgDe/+b/FgDY/63//P+5/8z/QgAiAOoAJAFiAMkAfwA+AFgAj/+g/10A/v/R/8kAkQCCAOAAOQBAAAYAiv9+/4D/sf82/7D/0f9m/9L/9v5H/2r/Bf9s/y//kP+7/6H/7P/c/zL/U/8j/0f/6/8//83/AwDU/5IAoABmAHMAvgBHAEMA2wCAALQAsQAwALIAbACZ/wIA3v9e/wkAeP+e/yIAcf+y/6//Zv/B/4H/Yv/F/1v/HAARANf/UgALAKAA7gAGAdkAgQDFAFIAKgAKAKD/6/+I/5z/u//5//n/rv80AHP/Q/+k/wj/d/9P/yH/jv9x/zwAEwAKAEgAUwAAAcsAtQDTAA4BAAHMAPEAlQC1AOIAjgBvAH0AeQBOANgAmgADADAAwf+m/5P/Nf9Q/0D/S/+C/w//Qf9o/3z/wv+T/9n/5v8dAC4AawCcAGoA0gBJAGUACQFEAC0AWQAIANr/PQCe/33/RwAL/1L/0f9B/9z/z/+G/+f/8f+8/wUAdQBNACMAegAvADwAigDe/+r/2f/Z/3sAQACHABEBmgCOANQAGQDw/+P/c/+F//P+FP9R/07/0v/I/wIAFQD+/xIABwDZ/5T/tv/b/9X/7f/x/7P/PAAFAGL/xv8//yr/g/9d/3X/lv/P/8v/tv/J/6v/of/L/7j/BQCHAIIAtQDKAJwA7QDNACIAwgDCAN7/pwBdAD0A0wDw/+7/s/9m/3n/Q/80/wT/TP+k/+f/AQD6/8X/0f/a/6P/7v8TAHwAlgBpALwAaQC3ANgAGQBcADsAFABgAIMAvwBzAEsAVQDK/9D/if8t/2H/1f4z/2b/Wv94/5//OgBHAGIAjwCBAKYA7wA2AHUArACZACIBhADRAAcBpgCnAGMAJwD1/+v/uf+X/+b/k/9c/5r/bv85/z7/DP/C/nH/bP89/3//t/8NAMn/0P9AAFsAIgDAAAABuQAQAegAvgCzAMD/wv8SAKP/BADx/wAANgD1/xQA1v+S/5D/YP94/4r/yf/q/xoAfwBKAGcAegB4ADgAHgAOABwATQAAAAwALQAeAPr/LQDp/+z/DQDT/8//6P9w/9T+YP9A/1T/qP+d/83/OQAxAPj/VwAXADMAKgDO/ysAJwD+/xsA3//X/87/6P8SAOf/AwD6/yMANAAIAEEAEAB9/9X/9v/d/zQAKQBhAEUAKABFAFMAQAC4/0EApAAXAJkAlwAyAHYA9v+h/9b/av+L/7v/MP+D/2D/iP/g/07/qf/i/4P/vv/z//r/7v/a/xIA2f/l/wAA6f8PACkASAAfAP3/HAAtAMD/3/8QANH/MwA7ADgAUwAxAEkASwDQ/6//HQDj/xUAIgBaAKoAKwDOANQAYQC+AJcATQBpAGMAYwA4AAAALQC//6n/9P+1/8H/uf+y/wAA1f+6/7D/xP/G/4P/yP/u/xMAIAAUAC0AcgBoAFQAbQAxACMAIABEAFEAMwA7AHMARwCt//n/+/+d//v/8P/a/6L/xP/O/3X/BQAlAPH/LAAoAB8AQQACAPD/CgDv/wUAFAACAB8ALgAKAOj/0f/U/5P/bv93/7X/7f/+/0wARQBJAAkAxv+r/5z/oP+H/6T/r//c/wEAHwAiAC8ANAA3AE8AMQAiAPP/AAD3/9T/BwD+/xQADwC3/+L/RAAxANb/6P87ABMA2P/s/wkA2f8LACIA+/8AABQALQDV/9v/0P/s/wAA1//h/9P/z//z/9z/1v8lAAcAFgDz/6v/xf8AANv/2//O/8n/IwDb/9z/FgAsACUAEgAcABQAGABkADkAKACIAH8AawApACkA8P/X/+v/7v89AE0AMACTALwAWQCGAHgAFAD8/x8Asf9f/+z/DgCd/8P/dgBWABYATQAQALr/v//U/3H/Xv+0/9r/r/9p/6b/4f/I/8j/uP+A/8j/vf+j/wgAAAD1/0wAIQDY/xQANAAnAEcAOgAYAFIAOQANAEEAQQAOADAARQDx//v/JwAMABgACAAfAC8A+P/c/+z/CgD5/0wAagA9ADkAZgBdAAAA3v/4/xkA6f8mACsA5v8ZAEkA5//F/yYAFADg/4n/b/+7/87/n//p//7/5/8GADIAIgDq/yEA8f/Y/+f/3f/Z/83/BwA7AGEAbwB+AH8AagAZAAAA8v/J/xIAAADl//7/BgDe//P/8f/q/6z/if8GAOL/AgAsADcA+v+q/9v/2P9k/y//t//C/6j/AAAXAOL/AADs/2P/s//N/6z/BwDp//L/TAAKAMX/AQAwAML/u/85APP/BgA3AEIAVwB+ACsA5/9XAA0ABQD4/ykAPADe/xwAUAAiADcAxABWACcAEQC3/4j/vP/u/7L/UgBZAEwA+gCJAEoAfwA8AOn/Xf+d//f/pP+0/z8AHgD4/0cA7/9e/8X/v/8h/wv/zv/K/4P/xP8xADwAOP8QABoA+v7a/2cBrAD9AEUCswFNAWgBbAFBABYBJgHh/9YAVAEGAP//AAFkAFD/tf8FAFj+P//t/zH+X/75/+T+rv2c/zf/of1C/0r/fvyv/g8Auv3I/r4AEADV/+YA7gAaAHoAbgGX/5j/sAHoAAn/jADZAXP/dv80AY3/G/9xAPn/8f4ZAEMBXf/s/6YB3wAi/wAAoADG/hj/jwCR/0r/8wB5ASsAOgCYAtAAbf/YACMAKv/E/xEA2f+U/wgAVgBc/07/dwDN/5H+tf+Z/7z+S//a/wz/Xf+vAFj/y/5aAYcABf/YAX4BTgC9AdsB/AAXAbUDhgBs//4DKwB4/lsBuAD0/p3/BAEN/tP9bAAd/tn8//6z/4z8pv0mACH9TP1g/4L+/f3b/20BBf80ADQDCwDf/9UARwApAAIA3P/EAJIAdgCIABwA9ADsAekAKP7QAcgBiP3Q/qEAyP5p/o3/f//F/7//AQAv/4//8wB8/5r+BwFbAcX/NgCjAbAACAAuAS8Abf/LAJoAwv49/0gBAwAR/wQBuQBIAP4AJQAqANIAXAGZAJ7/+AFXAXr/zABEAdv/2/+hAD//zwChAZz/fQCkAREBwv7L/2sAxP6g/gD/c/8j/mH/o/8Q/k3/HwAr/7L+VP/T/6T+Of91AGv/Ff+WAI4AFv+MADMAmP7F/4gAFv4r/kMBFgAp/8YAqAAP//H/zQDN/a7+ZQDu/oz+z/+u/+b+rQB2AGH/9f/UAD4Ajf/y/4z/Gv/O/4H/0v4i/woAh//4/g4Adv/u/6YARgB6AMkAYwH/AHAA5QDPAKIAyQBsADABYAFBACUBIwEDAVMBDwE3AfEA/AB/AJH/6P8HAK3+Cf+2/oz+7v5S/u/9gf0x/gL+8/3O/UP+0f6R/sj+AP6Q/hL/Uv4h/qf+b/8W/8j+/v8AALL/WAAbAEYB0QGuAS8CRgLpAigDcgK4AoUDKwOlAngCYgLSAVkCAQI+ARsCYgKVAWoBCgKzAF4AwwCF/xz/gf9T/xP/Rf8O/xz/5v5X/qH+rf63/uv+Dv9H/4j/EP8z/oH/af9//ib/vv/2/1v/l/91/xv/aP+2/0//Rv4P/k3+1f0w/Rf9hvy6/BX9QPxk/I78Y/wM/PX7ePzM+8v7DPzN+5T7T/yF/LH7BvzB/Dv9Y/3I/fP9W/8HAAsAJgCUAFkBygAVAakAqwEVAYb/PADR/+H/E/+Z/T397f16/eD7dvus+zP7O/sh+8D6zPuU/NH8of0R/4P/LwBfAewCpwS/Bf0GmAgSC0wMwAx/DnIQAhF1Ed0SUROiE7kTNhM4Ez0ToxKnEIkPaA8NDvoLCQqXCEgHswUpBBUDxAEoAQ//Zv30/O/6wvkv+DT36vZg9oD0qPKv8g7y/fCo8IfwS/Dl8LTwvfDi8N7wEvF68Qvyb/KS87/zrfSu9UP25faU92745vjL+VT6Z/uh+7P72vy4/Wv+Cv8JAOv/lP/2/5D/sv7n/U/+PP7p/f/+Jv/R/lX/i/+A/wAAWACdAPoAfQI9AxgD7QMWBD4FVgaUBj0H2Ad9CBcJRgmpCXsKuQraCvYKewvMC2gL7AoTC5ILpgtxC8oK0wrVCscJAwnZCKAIrAfUBskGywVlBXYEEQNKA9MCrQG//yj/A/9+/v/9l/zo++D71/sr+vH4w/i49/r2zfbx9oP2NPZR9iH2SfZF9iX2Hvav9WX1i/Vt9Uj1afWH9JP0TPX99MT0hPRb9HH0x/Sz9IX0NfXG9QD2J/f89yH50vq6+/n97f/eANcCkgQRBlcIhAkcCr0LTA1nDrQPnBBpEUoSQxKwEt0SBBMTE4sSWRLSEVQRvhCID2QOrA2EDOULOwvVCZkI3QddB+kFfQQqA+YBQQFFAM3+CP5V/Rf8LPsn+hj5bfjN9+H2PPY59tj10PTN9Ab1HvRW9BT1A/XL9AX1GfZk9on2Kvey9wr4PPhk+Pj34Pid+WX5v/n/+TX6bPqM+mn6Efsp+8z6Gfto+zr7x/ri+qX69vqR+1H7JPsp/PL83/wN/Uz9gf2R/bn9kv5J/x3/kQCGAVABaQLpAp8DeAQCBbUFzQVABtsGCAeUBs0GpAd4B5oHqweGB54HoQcMB9AGIgehBvcGcgdEB0YH6wbOBg8HyAaBBgwGwgVNBp0GIAaPBVAFNQV3BeIFkwWhBGwE6wQaBdQENgQiAzADlwNPAxMCGwGcAWwBowDI/3T/oP5a/lz+NP1L/Dv8i/sh+6L70PqI+rz5VvnF+LH3lfd39uz1QfYx9uj1G/Yt9iz2nPY994n3NvgL+Yr5pfp6+xX8Rf1S/hz/3v+nAB4C7QJBAzgE4gQNBZAFsAWwBe4F4AXRBUsFMAUQBW0EowNtAz0DqQF1AEgARACh/9T+e/7d/Rj+4f0i/Xr9Rv3a/UD+Mf5V/iH+gP8VALX/KgCkAD8BJwHTANYACgGPASkB4wAbAZYBlgHwAA8BwQDuACkBQwDD/9b/+v/c/3//f/+l/3H/6f9P/1X+Hf+L/pf9Mf2s/Ib8i/xm/Kv7O/tk+zL8uPsp+4f7JvyH/BX8/PtC+937n/yM/PT7wfsS/X/9PP5z/p3+T/8/ABsBBQFsAT8C8wK9Av0CcgNeA2kDUQNZA8QCrwI7A7UCFwJRAkkC/AHeAa0B3gE8AqUC2wKQAigDQAM8Ax8ElgNMBAEFRAWCBsgGCQeaBnsHtggOCL8HHgnyCQcKYgqKCXQJJgqTCroIUgcxCPMHagdeBooEewQMBRoEgwIKAe4B4AE4AA3/xv1H/Wv98vvk+Nj3I/gZ+d33ivW29PH1afc59urzR/Os9Rj3ePZt9Mj0g/eD+Of3tfZ498f5rfq/+vr6K/wr/fz8Cv1u/er+/P5L/wEArADjAD8AQgCd/+7/dgAgABIAawDQ/zn/2P7V/p/9gv1C/iL+ev5+/Wz9if2d/W388vwM/x/+6/15/iL/8P8A/zH+Uf/uAEQBTAAjANMA+gElAp8ByAF3ARICSgIeAY4AEgCBAC8BOAGTAG3+wf7zAFoBhP80/Y/9ZQBfAmf/3fqm/FABrQFj/rL7nf4PA04DWf82/M7/HQQYA8L/1f/YBN0HLQYlA00C7Qa6CUII9gUqBlgK6wwhCzkHbgb+CJcLTAqfBjYFKwiQDIMKFAVYAhwExQgGB0QBvv/7AykHVAMP/lr82ABCBET/0/n3/BEDdgKz/Sz7efvr/ocAFP28+Sn70P9k/xP+Evu39rz6+f78AC78lvUQ+1EADQJ5+/nyU/Zi/lQEGv0A9Ib50gDRAqD9Sfa++fr9swL7Aa73T/lK/ncAeABf+5z6I/1DA1ID1ftT+0z/3QJMAJD8EP7X/8QBIQHp/Xz9xgDjAv//o/8MAtgAZAF4Ai0AP/+DAvgDzQBRAdgC8AGuAaYAGADiAIQCoQC7/rQCpAIR/1P++v5BAVsBhAACAEr/mgCw/4r9Uv+u/87+O/+B//z/e/0k/SL9+P3dAAH99vrp/EwAxQEI+2z4w/va/44CdPyQ92T8Nf+Z/Uj7BPkj/EUAAwJw/aX6iAAK/8D97P8R/2MAsgDc/9v9XwC1Ayr9i/1GBHgDYwFLAZf+cf6IBDgEHP1u/CIDzwSXAYr+efuH/wIHnAZ1/bn5dwHkB/EGev0U+FcBrAv4Bx38B/nA/2AIVwZq+yb55wIzCbgAsfi5+dL/bQWMAHr58/ttAioCqvtS+S/7Sf+RA0v/tPrq/df/sP7y/I38IwAEAlwB5f+1/JX+pACfAK4BZP/CAl0FXAIXAUz9W/8oBbYFwAPDAA8DmwZFBdsBhP/2BPYJ4gZuBAUCswM/BwgEBgBPAAEJXAxEBEwAJgJuA5MEZAZFAaf/JQdfBzQB7P3t/QsAAQVzBFQA8P19/AMAyQAO/bz62f3tAbgA9fy5+OT5xvwd/n39PvoP+///0ALt+xj1CPcd+18C2wKL+cf3GPpW/sAAm/ge9b75YgNJA0v3u/XR9aD+nAYh++L1kvqoAyAE0PmC96v3/P/nCCECAvuK+00CKgPO/ov/Yf3kAJMGLAKG/qv9O/0TAWUFBQP8/Yr9NAMaBRgBhvtQ+aECSQXL/ob6Kv5aBi4Bivxh+jH+hAn7Aw77UfxgAi8GEQUzAGT7SAHOCWEJOwIoAF8DWAWvBvwEFwOYAmEFwgeYBSoDHwEQAlAFAwfsBBAA/f6yAl4F/ASMAGT7vf2qA/YFAwBl+uP9pv+1AIgAffwW/db+kf7C/YMABAEM+tX6YP81ApcBIvmD+mEACwOYAhD4/PYo/6ADZAJN+6/52ftNAOUBt/0H/JP6Tv6QAC3+7v/I/XH7bv83BAADdPxy+uX9YgGnAYL+zPua/g0DJQKh/o78UP2a/yIBpwAt/nv7G/yI/4//Xf1a/LP8jf56AIT+svnS+jX/C/9z/CX9o/6a/kP/CvuC+S7/jAERAWL+7Ptc/2kFBwM//RT/3gGOBTMFXADn/wkBigZXB8cB6QDwAQ8GdAdBBVMBRv4wBPoHnQmqBWX9NAFfBs4HoQJg/ecBbQVUB9sD//6N/+wEaAbb/0YA3wAXAqMB2P0iAPr+GAEAAN792wFZApEBGPk3+ikBCgCDAff9tvvx/Hj/pgB7/Yn9yf11ABMDogAs/ID8sP9fAW0Dc/66/NEBYgR5A+T+Nf53/zgDhgULAuT/Df/IAQMD6wEVAWn/xwEUBCkCmf2p+8L/lgX/BFX97/oUABQDzAAA/S37QP8jA6gAQP4I/cL+uP/p/bX9Lv29AHMBvfzz+1b9l/8a/lf7JP0zAagBuPqe+Kz86f8DArD83/iZ/TgA6f1O+4L7Vvys/vT+YPto/tAAH//S/W37ff6JAFcAXP4I+hb+nQAVAP7+CfxPAAADFQHD/vL7if3qAe8C//7Y/M7+egCQAZ8Ad/un/OQBOf7P/RgA6v8JAUn9Ovx9/skAtwEu/ZL9KQBtAPYAjf6//b8ASwOiAWb/kQGzAqj/Ev/WAqgDbwL4AHr/nAFEBBEDS/2+/+QF1QJdA5QBKv5FAV4CgwL+AXcEkgJk/qwB6wIUApb9//3IA/0FRQeW/1b7BgF3BEYEcwCY/yABywJGBBsACf0BAB4F8Ab5AAf/YQDV/lACfQAe/ev+pQIbBkABqQCUAAIA/wH9AKkDiAGnAWEAVv8LBWUC4wBy/wQD5AVkAt0BD/xvAMsFSwPTAQkAygEiAOUChQKu/d3/EgA/AsgDgwHj/Ov7CwGrAlABgfzh+nr/CQKDAL/85fuI/hUAq//D/if9D/0t/mH+WP2o/Kr9hf4MAaf/6PrK+x3/GgCd/WP8Kf6t/7H/Pf/d/iD/WQAb/i79l//AAAT/9Pul/RQAmwDs/2L/5v/7/0MB5P4i/Yb/QP/t/uv/Sv+//uH9nv0YAqQDf/6F+v/9bAPVAi//ufkI/NYCrAOZAAf73Pw2ACcBNAAt/DX+CAEiAvz+KvxD/QL+zwAx/3f/0P7Q+8v/WgHt/4P9Cv+JALv+kgBG/yMAxQG3AMn/3P4EAjMAKgAlAnz/fgFKAuQAPf97AZYDvP91AZACLgFOAVYCLwOfAPIBOwHl/sECVQPp/tT+OwOKATEAJwG6/gkCSwNQ/yL9P/76Aq4CWgBl/p/+uwHX/5T/JABg/3j+aPtj/R4B9gERAKv8kf6PA3YEYv5z+YT90QCoARwBGvwc/DUAvgN4AVv79vor/eAEIgaM/aT5X/sQA7sECwHi/mj9PAGCAcT9Nv9MAbn/yv+EAaMBRQDR/oz+KwGLA2n/aP7H/+cATAPV/9n+J/48//4CyQFeAU/9cv0tAoMCVgLO/Yz9QADHAXADnvx/+/kA1gMkBE79Rfsf/9UCpQPT/7D8tPxbAfr/SP58AH3/ywAAAVgCLgHI/lD/Wv12ADIC5gErAbr9P//wACEEEAMf/vD/vQI4BQUBZ/zw/t3/EwTxAykBi/80/2ECj//AAN8A4f9wAQIBw//Q/o4B4/0G/WsCGQHf/Hn94wJE/2f9MwDH+9AA3ASNAHr7Mv11AaT9tv2EACL/vv/yAxX/G/uo/KP/UgHF////e/11AC8CmP5q/rv+XgGTAm8Asf5G/soBlgGB/gIAkQBBBD4GrwCF/SD+mAKKAHX+MQI/ATQEOAEYAJ0B/P4dA10B0v72/vL/Bv+T/nEAxf5QACAB1AFVAQf/T/5C/Iz+/gCEAX4B+v3d/RD+y/9y/X/7Rv9lAaIApvyQ++X7SAI2AmD9jPyL/RUAdQFF/iL7f/zQ/MwBoANBASn8x/wV/778Y/8pAUH/rP/iALQAnwGHAQb/I/35AGcD2gAF/Lv/EQMQATQBSP6A/6MCZQRyAdr8ov6u/3kBXgJD/yL/nwFFBEwDYf8b/uf+WwFqAjMAOQCnADAEIwFp/j3/Mv6PBqIFjgCH/UH8lAEAAxkCvP3W+yAEuAN6Ad3/pPv5/5oCJAR2ADz9/P/wAf4BqP6G/Bf+cAJmCC4DDPzq+2P+mgIBAsgBvvxh/U4DLwIH/iL7Tvxf/xMDUgRxAIn8sf0Y/2z96P63AE0AGgPlAEX+cPqH+dL+tgFJAtv+Jf0b/1D/7QAB/iH4dP1vAaEELgPM/mH68PjU/28BlQGO/4b/6gBTAUQA7f65APwACAEcAf//4f4aAfcAX/++AFECMQJSAscFBAK//Ev/IAAsA4EEWQD//Wv/SgNoAqMBy/8kA/8GcAB5+876ywAqA4kE6/9n+9EBQgRFA2b9g/sw/VcBbwPnAH7/d/7dAL7/OPzB/E//+QHbAdX9kvzh/aX+g/8cAK3+tf9nARwBHgFsAIL/Nvv4+4H/zQKNBoECef4o/aT9cP+TAQwBzv9eAk4DyQI9APEABf8g/Lv+pAHjBfgDmP9v/RP+oQEPAjMByf/4/zkCd/8m/ysAmAClAC7/8//w/yUDYgEl/rT82Puq/5T/Zf+w/4T/fgAP/p792/0v//gAwv4C/k7+MQBJAFr/gf4p/or+fP5XAP0AMwDT/uP8Df3G//EAkgFiACEALwGL/qb9m/7d//0AAQA//93+4/99AID/rP53/kIA2gBQAAMB/wAy/7j+oP+e/6YAXgEkADf/GwBYAM3/7gCRAAoBqAGfAK//EAAsAeIAZQAWAIcBFAKnAU0AhABiAf4BPQFhARwEUwL5/9r+kgCmAn4C8QD9//sAeAMHA0IA8/+R/8UB9AB9/3sACABMAIn/tv6x/lQA6wCq//X97/w4/in/7/8h/03+mv5p/7D/Tf70/WP+a/7s/loAkv/N/nj/Gv+r/l7/yf9u/lf+WQAaAUMAkf/O/hz/HwGIAaz/Ff8QAOoAuADjAFAAsP/WAUcC3gAZAAAA1wAZASgBsQDU/3kAaADg/6MA9gC4/w//WAAhAIP/Df/n/oj/BwA6ARAAXv/4/53/c/8+/47/tv88APEApQBe/+v+aABEAgsCqABHAKIAqgCJ/z3/Of8rAJcBNAE8AKD/FQBOAFwASwDS/zIAUgFLArgB9//s/s7++P/fAAgAov8lAKsAJAAk/xf/df/q/8r/Mf94/8r/YP9b/vz9h/55/gD/QP+c/+n/W/9L/83+mP9EAA0ADgCw/8L/tf8lABMAwP/j/4z/5P+5/7z/NQCk/xsAKAD7/3UAvf+l/8P/UgDgAEUA7P/7/xIAZADRAF4ALgAaAB8Ayv8Z/4b/XQCsALgAoAA4AE8AiwCXAFH/PP6j/o//ZgBZAFcAQAAIAAcAgwANAZYAwv9+/zUARQEVAXUAAwAhAMcAVgDB/3n/PACuAEEAawBhAL4AtAAnANP/O//k/g3/jv9tAMAA4v8n/5b/4v+bAJ8AiP9l/5r/EQDU/2b/d/+c/9L/8/+R/xz/MP9i/2H/7f4T/3P/EACHAP3/Of/s/lH/vf5t/uj+Cv/0/8sAegBY/+f+qv8VABcAuP+//uv+XQD9AIkAOgDl/+b/igBwAK3/a//j/0MAewC/ACwAbP+3//z/6v81ABkAGwCBAMMAqQBUAHMAVQAVAJn/pv+NAOkAbQDe/3P/1/+WAKAA2AC0/6T+df8LAAwAl//l/rb+Ov8MABwAeP9K/2D/YP+1/8j/t//d/8r/fv8r/wr/yP6y/u/+jf9J//L+K/+G/n/++v1E/dD9UP4X/rv99/12/if/Nv+p/n7+ff5H/8P/wf8VACIALAHZAfwCigPhAlICbgH8ATsC4AJJAzUDDQRWBAwEyAOfAzgD1wJfAggCGQKjAtkCLQKNAXYBjQGbAWcB9wB+AEoAgwBHABEAzf9c/zj/x/5g/tj9mP3//R7+E/6y/Tn9mv2b/WD9vfx++5n7zvvT+yH83/vl+4n8Mv2d/Vb97/wD/bT9U/7n/V39dv3+/Y/+CP+U/k/+LP+B/xf/3v67/h3/pP94/+v/WwCpAAwBDwEoASIBXwGLAYABtwG0AVgCygIEA18DzAIbA00DGAMVA94ClQJxAk0CHgLXAioDdgOkA1IDYwPLAtUBDQHOAGABsgHAAWgBFQECAdoAqACiAKMAhf9M/hD90ftu++v6kvlA+IX4T/kI+er4WPjW90P4mvjC+NP4y/n6+iD8Kv3B/Yv+NgBgAjMEbwVZBoQHAgk1Cr4KUQvtC98MrA2kDbgNZw2EDDsMvwtCCy0KAwkrCCkHmAaEBc8D1QLkAvMBhABO/9b90Pxp/Ov7Ovu3+oD6vPkP+d349fcX92728vWo9XD1SfUT9cL04fQS9XD1GPZu9iT3Qve293b4APk++Vv51/lN+gT8+/wh/ln/MQAEAbUA1ABmAVsB4gATAXQBcwILA8ICMQKDAWQBxwHlAQsC3AFbARwC7gKrA90DUQNaAyUEPQWcBSEFqAQ/BYoGdwe6B1IHOAd4B7sH4gfYBtgFlQWcBR4G5wV3BfMEWwQxBKAD5QJJApIBQQEvAbsALAG1ASIBmwAnADAAfAArAHL/Wf/z/34AvgAPAKH/tv+p/3z/4f5G/jH+z/5M/5r/0//A/6j/1v/G/yb/5v5u/in+QP7v/Zr9I/0M/Xr9Hf78/hb/VP4//iH+af3g/H38Zvyv/O/8vvz8/Az9B/0u/QT9Wf3D/a3+vP5e/lv+sf4t/4z/xf+U/4sAqwFQAt4BhAExAQYBNQGjAJX/Zf7Z/Tv9//yl/Ev7G/oC+TD4AvhZ90T3Kveo9+v4tPn0+tD7f/x2/aL+W/8IAFEBvAJ3BDsGegeECJsKXQxrDZUO4g5XD+MP/A8HEJYPBQ9aDo4N1gzoC/cKmAmRCHoHBAbDBPQCHQGh/4H+wv3p/Ar8l/sI+0j6SPk0+M73p/dF96j2qfUI9Yn0HfTH81zzkPNO9Iv1OPZO9oz2Dvfz96v4tvjt+F75PPrR+7L8df2W/uD/eQFCAmkCiAJiApUCmAI4AlsCswIwA68DCwNrAh0CdAFFAUgA7v9oAK0AvAH3ATUC9QJUAzsDZwKEAfgALgGPAWYBOQFXAeoBewJPAq8B2wC4ANwAjQCVAF8ALQC0ACABbgHnAToC9wKnAw0ENQQSBDsESwR3BH4EDQUMBroGZweTB9UHwwiCCU0JgAhDBzAG1AVLBS0DeABm/s78gft3+cT2TvT28o/y4fHq8K/wLPGr8jz0wfQr9dP1BfdA+CT55fkr+1n94P/9AcgD4QXbB+sJagsCDMsMsA1qDqcOnA59Dk8OPg63DZUM/gqmCVkIvAZOBXgD9gFAAbkALgAz/1f+jP3Z/B38CvtL+q/5bvkZ+Wr4efe39v/15fQA9DDz9/JN893zKPRy9GH1u/bz97v4E/kN+XT5a/q0+zb96v4XADcBbgIQA3sDdwP2AsUCrAIlApUBPwFVAf0AqwD8/z//VP9T/9P+//3B/RH+r/4B/8r+R/6O/k3/gv92/4//DQCvAGUBpwHbAdkCywPdA40D0AJzAooCaQLRASMBHAFOAcwB+AFqAQUB3gC+AJMADgDb/ygAwwAYAfEAzwAjAfkByQJaA/cDzgSZBTYGNAYwBlkGpAblBnEG2AWxBb4FMwYrBrgFiwWLBdYFmQUDBR0EpAP7AvABtwBn/+L+nf5o/uz9QP3+/BX98fyO/JH7IfsE+876zPo/+hT6SvoX+tj5uvk/+jj7kPuU+wb7LPv5+7T8Ov36/PT8Of2e/fz9If6Y/e38cvyH+7X6/Pkl+Sn4d/ce94H2UvYz9j32pPbw9jb3Qvfs9x75+fmQ+v76BPwg/n0AlwICBG8FLwfWCDwKQwuRDCkOmA+tEEsR1hFIEl4SLhJtEcMQAhAwD0IO3QzIC4EKUwlDCOkGvQWNBJwDZgKiAEH/qf1T/M377foY+j35dPj590v3+faF9gD29PU79Z70h/SO9Av1CvVG9Xf1oPWQ9gn35vf++JP5YPrw+tL75Pya/Uv+Wv7o/pr/0f9DADYAOACsACABgQF/AaQBuwFJAegARQC+/5j/Wf8Q/4z+P/6M/iP/0/8vAF8AvgARAVEBXwFzAZEBjAFvAUgBOwF3AaEBgAFVAZoBVQK6AtkCewJCAlwCIwKRAcsAugA0Aa0B9QHzAT4CVAM+BFEEfgO4AqoC7wIZA6oCWwLWAtEDkwTNBJQEnwTOBKMEKwQuA5cCVwIMAokBtQBGAOD/lP9m/8T+EP5V/X/86ftG+8P64fmr+PH3Kve/9o72UPZs9s/2UffV92X4O/nx+Vz68PqM+3X8Wv0g/jH/ZgD4AUQDPQQwBQ0GLgfTBw8IbwjRCG4J/wkjCmgKkQq9CpMKsgkhCW8I/weUB+MGcgaXBdwELQRWA5MCnQHzAE0Am/8F/yX+nP1e/en8hvzm+4/7WPvI+lL6efkD+U/5X/mG+ZH5tfmI+gL7SfsG+8v6NvtZ+4j7WPsU+1H7h/u4+5D7hPvH+8v7LfxA/B78dvyg/MT82PzF/AD9F/0Y/Q79zfwf/Uz9Zf2n/Rz+Af9+/+L/OAC5AMYBOgIrApcCOAPwA5cEmwQ3BDUEhwSkBL4EwQT/BIUF8QU5BgMG7wULBgcG4AVnBSQFMgU1BSkFEQXqBPQEwwSiBMcEkgRuBC8E3APnA/QDAgTsA8ID1QMUBBsEoAMZA7cCngIjAhsBWwAfAEcAIACm/5L/AACVAKQA3/9D/wf/2/5N/j/9bfwb/Bb8xfso++D6Pfu7+9H7o/uf+9b7NvxO/MH7UPuY+/T7Bfz7+7/7CvyC/KX8hPxD/GX8q/zy/Oj84vwW/Tz9Uv1T/YT93/01/mj+jf62/gT/Y/+p/9v/4v/P/wIAUwCfAMwAnAC5APoAhAHnAcMBzwH9AVsCoAKPAngCiQKUArACJAJ0ATABDgFTAUQBOwGtAWsCVwPbA4oDIQPrAvACzwIJApcBjQHMASgC/QHtAQ8CKAIpAoIBAQF3AOb/oP8t/9j++f48/yz/+P56/h3+3f2G/Qr9dPwk/EP8Wfw1/Cb87vtM/MH83fz1/ND85/z9/Bf9Gf2g/Hj8dPyR/Or8wvx1/GD8w/xZ/YH9mv3S/TD+yf72/oH+RP6e/gD/Of9U/4L/8P+cAPMAvQDaADEBjQHeAV4C0gKNA6cEWwXqBQYGBAYiBiIGCgblBeoFLQZXBlsGpwbmBgkHHQf7Br8GmAZsBhcGvgVNBekEmgRPBPoDagPRAjQCwgGHAQUBSgCG/zP/PP/H/jn+tf18/c/9zv1t/f/84fz+/Oz8avzf+6v7qPu5+//6Vvr2+br5+fm0+Xz5cvmn+R76Pfr6+cz55Pmy+XH57/ih+Or4KvlF+SH5QPnS+VP6AfuZ+yj8S/1V/jn/9f+JADsB+AGoAiADoANYBGIFbQZMB8sHMQi1CPMIQglRCUwJiwmICZsJjwl6CYkJcwlZCQ4JxAgoCG8HtQbHBewE+wMQA2kC8wGLASQBtwCjAJAAOADD/yn/kP4l/lr9XPx1+7r6aPrc+Vz5/vjJ+LL4efgl+MX3x/fK98/3y/fB9+z30/fG95z3avds93P3hPex9yr4nvgb+X758/l2+tT6RPt++8/7Tfzg/IT9Ef6p/l7/OQAPAdgBdgIDA3oD3AM9BF0EvQQnBYIFKgbRBngHHAiTCOwIPQluCWIJRAn9CKkIhQgpCNYHlQdhBzIHAQfsBtUGugaBBj8GnQXoBEgElwPvAl0CzwFNATMBJAENAdYAigAaAIT/Hv+Y/gj+nf04/ej8uvyW/Gb8RvxB/C/8Fvzj+9D7q/ti+zT7MvtO+077WfsT+wD7Pvs4+y77G/sY+zP7Vfto+zz7QPtw+6r74vso/KP89vw0/fP8b/wc/On79PsI/Bz8XPzG/D39pP29/c798P0A/kb+o/7t/g3/C/8r/0r/l/8DAEQAiwDsAEUBhgGvAZ0B5gEuAnsCOQOyAzcEtQQYBT0FKAX+BKwEZQQvBB0E5wPZA8MD1AMQBCAEMQTzA+ID8QO/A4kDAwN5AgwCkAEfAZcALQDh/9T/3P/1/x0ARwBeAEsAMwD9/87/n/9R/zv/gv+u/9P/6P/w//v/5/+e/0r/Lf8w/y7/Nv9Z/3X/nf+N/1P/F//6/vH+y/6//sT+s/6b/oP+Uv40/hP+3v28/az9sP2k/X79eP2L/br9//1I/oP+sf7k/t3+z/6g/lX+Uv5R/lP+Xv6G/tD+IP+K/7//3/8OAPr/3P+u/2r/Rv8l/wH/6P7w/vL+AP8T/zP/Uf9i/3f/Z/9a/0z/Pf80/4H/tv/E/wUAOwCnAO4AJAFUAVEBdAGOAaEBsQHfAR8CZALAAtYC9QIGA+wCBgMUA98CywLNArgCtwKqApsCfQJ+Am0CIAL7AdwBngFrATsB7QChAHQAWQBSAD8AJAAWANf/q/+b/2b/Pv8m/xj/MP9l/37/g/+R/43/g/84/+P+kv4x/vb9sv2Q/Yz9vv3x/SD+W/5y/oT+ff5p/ij+/P33/d79//0x/lD+n/7s/jD/Xv+G/8D/zP/d/yYANwBgAKsAwADzACIBTAFrAYQBqwGqAZcBlgGYAZkBpAGiAZcBjQFIAfUAuQBzAEcASABLACkAJgAXAOv/0f/f/9z/0v8SAB0AJQBQAD4AAADH/8f/r/+p/9L/2f8qAKMA5wAUAU4BewGDAXoBcwFXATwBSwFCASIBMAE8ATABPgEAAa4AZgAcANz/nP+e/33/Vv9I/xT/8/7U/qD+Zv4c/s79kf1i/RT9BP0b/Sv9aP27/fL9Jv5w/qn+8P45/33/lf+4//v/GQBXAJUA1gBbAccBHQJyAqcC0wLzAgcDAAPpAvAC6gKvAqgCpAKSApECdwJpAmQCUQItAgcC2wGoAW4BRAErAfYA3ADEAHIARgD8/6T/Zv8e//z+9f72/t/+xv7A/rD+hv5h/h7+5P22/ZX9bP04/UT9Qf1m/aL9xf0H/jH+TP5e/mP+VP5I/lX+X/6q/gP/aP+7/+v/HQAxAEMASgA8ADoAUwBlAH8AqwDzACUBWAGUAasBkAFoAU4BIQEMAfkA2QDNAMsAygC2AJgAcQA/ABkAAQDN/7r/sP+b/6f/iP90/2T/Xv9I/y//Nf/x/sn+v/6//u3+Lf9n/4T/oP+y/8r/3P/v//n/BAAeACgAPABTAGUAlwDiAOgA3QD0AP8ACgEgATIBNwE3ATMBMAE1AUMBTAFLAUkBNgEeAQkB5QDTAMUAoQCXAJEAdQBgAFoAdwCRAKQApQCIAHkAXwAqAPn/wP+U/4r/j/+Z/6P/tP+8/7f/t/+5/6v/sf+j/4D/bf8p//r+3f68/rr+uv65/q7+vv6u/pj+h/5V/i7+Gf7//cr9qf2e/av9pP2v/bf9rf3N/er9HP5V/ov+z/4X/0P/iP/k/w0ATAB6AJcAwwDlABUBWAGZAcEB9gElAkgCjwLFArgCqAKQAnACVgIzAiICMQJXAncChgJ4Al4CPAIMAtoBnwFhASkB8ADMAMMAxgDUAOoA9wDtAPMA7gDWAMQArgCIAF4AQwAZABYAHAANABQADwACAPD/0f+j/3z/Yf8//yr/Cv/0/uj+yf63/qT+jP5+/jz+1/2q/Wz9RP0+/TL9Rf1Q/VT9Q/02/Rb9A/0a/Sv9WP2A/cv9E/4+/nb+nP7a/g3/Pv9t/4L/qf/b/wkARQCgAPEAPgGIAcQB8QENAiACLAJJAmcCdgKRAqECoAKjAq0CrQKeAokCfwJuAkICPQIGAtYBuQFtAT4BGwENAQQBDwEYAR8BDgHpALYAdgA+AOv/o/9c/yb/Ff8I/xD/CP///gP/6f7o/tr+s/6k/oP+df5q/lX+YP5T/ln+aP5o/or+qf7E/t7+5/7X/tD+0P7U/vX+EP8s/2H/ff+V/7T/xv/t/xEAJgA/AFkAeACZAKcAvAC9AL8AuwCZAHIARwAvABEADwAUACsAXQBuAHoAcwBqAF8APwARAOL/0v+5/6n/r/+7/9X/2P/W/8n/tv+s/57/lf9v/0X/O/8s/yr/S/9z/5T/of+Z/4D/af8w//X+5f7R/vj+OP9j/6L/6P8FAAYAEAD9/+b/4P/V/8//1//2/xQAJABTAHwAkgCmAMwA5gDoABIBHQEKAQoB8wDcANoA4AD2ABgBMQEzATEBHgH7AOkA2gDIAMwAzQDRAM4AtQC1ALgAnwB0AE8AJQD9/+P/y//E/9b/3P/m/+X/2v/K/7H/ov9w/zz/Gv8C/wf/Gf88/2L/fP+U/5n/if90/1z/TP81/zH/Rf9T/2T/cf+V/7//4v/o/9b/yf+q/4n/cP9z/3r/iv+x/8////8ZADQAWABrAHoAcgBwAGsAawBvAGcAawB4AJIAnwC4AO0A5ADVANUAnACIAIwAbgBhAFQARgA9AC8AFwD6/+T/zv++/6b/oP+4/8T/2P/x//z/+//0/+n/7v/7/wkAEQAZAB8AHwArADQAIwAQABIAEAALAAoAAgD4/wAACQAMAPT/1/+w/4//hv96/3H/a/93/1X/MP8a//T+4f7Y/uT+EP9G/3b/lv+t/7L/pf+Q/3b/Yf9b/2X/gv+f/8X/9P8dAEsAbACRAJ4AoQClAKIAlQByAGMAYABdAHIAmwC1AMgA3QDtAO4A4wDgAMkAvADIALoApQCbAI0AdgB2AHgAbAB3AIYAhgCFAIIAdQBfAEoAOQAqACEAHAADAO//1v+z/57/j/+J/3z/hP+c/6r/zf/l/9f/xv+m/3j/Yv9W/2//fP9x/4D/ef91/4v/lP+S/5n/l/+c/6X/tf/K/9L/zf/X/97/2v/8/xoAMABNAEYAMwAnABYAGgAVABkAMgBDAGYAiACRAJEAhwB6AFMAMQAtABkA/v/t/+3/5//u/wAACgAIAA8AEgAJAAQA7v/O/7P/o/+a/6H/rv/O/9//4//1//n/BgAbACcAJwA0ACoAGgAgABgAFQArAEQARgBiAGEAQQA7ADAAJAAiACYALQAwADcARwA9ACMADgDw//r/AwAAAAUA/P8EAAgABAAJAA8AEAD2/+L/0v+s/5T/h/+A/4f/oP/C/+T/CgAvADcAJgATAPn/0//G/7v/pP+4/8//7/8bAC8AQQBEADIAKwAkAPv/6f/R/7b/u//D/9j/8v/z////EADz/+X/2v/T/9//9/8AAPH/9v/2//z/+//7/wEA/v8BAA4ACQAKABkAEwAaADIAPABKAFUASABUAF8ATwBGADUAKAAZABUAIQAgADUASgBIAEwAUABEADoAOAA1AEMAVABlAGgAdAB3AF0APgAiAPz/0f/L/83/2P/g/+f/7f8FACQAPABWAFgAWQBCACIA5P+1/57/kf+n/7v/5/8HACEAPQBJAEQALAAMAOf/xv+y/6v/rP+y/77/1//n//P/CQD6/9//1P/F/7j/rf+h/5z/m/+T/4T/gv+Q/5b/rf/G/8j/y//G/8r/2P/c/+H/7/8FACEALQAxADMAJAAXABcACQD//wkAGgAvAEgAUABVAGgAagBlADcACAD6/+b/3f/v/xMAQAB1AIQAmgCmAIIAYgAwAPz/7v/q/+7//f8YAD8AWAB9AJUAhgCJAIEAVAA3AB0ABQD4//T//v8LAB4AGgAJAP7/8v/Z/6//j/+A/3P/b/9r/23/e/+C/4b/e/99/37/df97/37/lv+m/7L/yP/N/9X/7P/0/wYAJwA5AEEARQBMAEQAVwBmAF4AXgBRAF4AfwCIAJYAlgCGAIUAagBZAEkAOQA5ADgAQQBOAFgAXQBQADwAIwABAAMA8P/d/+r/8//5/+X/4v/c/8P/u/+W/3//hf95/3z/jP+f/7f/0P/m/wAAFAAUABEADwAAAOf/xv+k/5j/jf+a/7b/2P/4/w0AKwA6ADYAIwAHAPL/4P/S/8f/vf/C/8L/0//g/+//CAAPACAAGgARAAgA9//l/9z/3v/a/+D/7P/3//r/BgAXABsALgA+AEwAXgBvAHIAbQBvAF0ARwA4ACUAHAA4AD8APwBCADMAOAAoAC4AJgAPAA4A8v/s//D/6P/s//H//v8LAA8ACwABAAsAEgAIAAsA9//e/8j/ov+W/5f/pv/I/+//IgBDAEkAVgA6ABMA7v+//7H/ov+o/8z/6v8QADQAQQBVAEkALwARAOr/2f/L/8r/vf/B/9X/4f/v/wEACwAPABEACgALAP3//P/+/wIABgDt/+v/8v8AAA8AEAAXACIAIQAQABgAGwAVAB4AHQAhACQAJAAgABcAFwAPAAIA+v/s/+//8f/1/wEACwAdACMAIQAfABAAAgD5/+j/7P///xcAMwBdAIkAkgCGAGkATgAuAAQA7P/r//P/FAAyAEcAYgBzAHEAXABDAA8A3P+0/5f/kP+O/5b/o/+z/8z/1P/X/+D/0//T/9j/yv+6/5v/hf+B/4n/m/+h/7j/0f/f/+D/2v/d/87/yv/H/8L/3P/t//3/FAAoADMAPgBNAEwAVABBAC4AIwArADgAMQBNAFsAaQBvAGYAYQBWAEQALAAXAAcADwAXABkAJAA2ADwAPQBEADQAGwAKAPb/3//V/9r/4//s//j/AQD7/+//6//h/83/wf+//8P/0v/W/+P/+f8NACIAKQAfAA0A8//a/87/xv/G/8D/y//q/w0ALwBJAFwAZABeAEwANwAgABMAAADt/+P/3f/d/9//5//o/+3/6//j//L/+P8AAAYACAAPAAMA/f/4/+3/6v/q/+v/EQArADYATgBRAFMAQwAsACcAJgAkACAAIgAXAA0AEgAGAAAAAwAAAAQA/f8DABAACwAHAPr/7P/n/8f/rf+u/7f/u/+5/8L/xf/Z/+X/4//p/93/0f/L/8z/1//O/+v/GgAtAFgAaQBqAGgAWABBAAsA9P/f/8j/1//w/x0AUwBqAHIAagBfAEEADQDy/+L/4v/l//b/EgAiAC0AKAAVAAIA/P/2/wAABQAYACoAKQAsAA0A+//k/8f/x//N/9X/0//T/9//2P/I/9D/2f/r//f/8f/7/wMABwADAPz/6v/U/87/xv/L/9b/6P/3//z/+//7//T/7//k/9n/7//v////CQAZADEANQAzACsALgAtACEAFAAGAPf/9f/w//n/BgAkAE4AZQBsAGMAVAAzABkAAQDp/+H/8P8CABUALgBIAFQAXQBfAFYATAAzABwABAD2/+X/2//d/97/1//V/9H/zv/S/9X/3f/Q/8f/zf/H/8H/uf+3/8v/0//b/+j/7v/r/9v/0//S/9D/3f/0/wYAGwAmACQAFQD8/+r/3f/P/9D/1f/Y/+n/7P/w/wIAEQASABEAHAAdABUAEgAVABcABQAAABIAEwAiADQAMAAsACQAGgACAO3/5//f/9//4P/p//7/CQAqAD0ALwAjAAMA1/+t/5D/gP+F/6H/x//0/x0APgBXAFcAWgBWACoAEADr/9f/1v/K/9P/1v/n//v/AQASABsAGwAlAC0AJgAfABEABgAGAP7//P/1//P//f8FAAIADwAxAEEATgBTAEYAKwAYAP3/3v/Q/9X/4P/w/+3/6f/2/+b/7f/p/9z/6//t//r/CAAIAAoABwACAAcACAAEABEAHgAmAEEASAA8AEUANAAoABcA/f/u/9//4//e//H/CAAYACsALwAmAB0ACgDv/+j/2v/d/+P/7/8LABYAHAAwAC0ALwAvABQADQD5/+n/4v/T/9T/6v/m/+3/5//P/9T/xP/O/9n/5/8FAA4AIQAcAAAA9v/o/9P/z//J/9L/5//z/wYADwASABMAAgD1//L/6//y//n/9f/8//3/8//t/+3/2v/g/+L/5P8HABgAKgA0ADYAQgAuAAAA7//Y/8X/0v/W/+D/AQAbACoALQAeAAcA7P/g/9H/zf/b/+3/BgAdACMAJAA0ADwAMAAmABgACwD8//P/7//4/yIAMwBFAFIARQBFACoADgD///L/7P/m/97/1//P/8b/3f/h/+r/EAAdADYAQAA2ACsADQD1/+P/1v/L/9H/4f/t/wQADwASABIAJAAmABkAIgAdADUAPgA+AE8AOwAzACIA+v/i/8n/uf/A/8z/3P/8/xEAHAArACsAHAAMAPr/7//v//b//f/8/wwAFAAfACIAFAATAAUA+v/p/9P/0//Y/9T/6v/7/xQANwA8AD8APAAsABUA/v/c/7z/oP+U/6D/uP/Z////JwBBAEwAUwBDAC0AHgD//+b/1//E/8L/yv/Q/+L/4//u//z/AQAKAAcAAQD///T/7P/m/9j/2f/b/+L/5//9/wkAAAABAPn/7P/k/9n/2f/o//7/FQAfACgAIAAcABgADAAMAA8AGQAnABgABAD8//L/9f/k/+P/4//S/9f/zf/M/93/6f8HACcANQA/ADoAJgAYAPr/2v/A/7X/wP/W/woAPQBvAIwAmACMAG8ASwAJANb/sf+X/4b/l/+y/8b/8P8EAAcAHgArADEAOAAxACkAGgAOAPn/6//p/+z/9f/4/////v8FAAoABwATABUAEAAYABUADgAYABIABgACAPz/9//q/+P/7P/m/+///f8BABYAJQA0AD0AOwA0ACUAEgD2/9X/zP/K/8H/yv/U/+f/+v/6/wMABgAFAA8ACgAMABIAFAAfACEAJwAdABMADAD4//P/7v/s/+r/8v8BAAgADgAOACUANgA1ADcAJwATAP7/3f/E/7D/pP+6/87/7v8XACEANAA9ACkAKQAjABMABQAAAO//2P/c/8//y//W/+P/9P8AAAwACgAIAAkAAQD9/+7/4v/n/+T/6v/v//L/8P/t//D/7v/t//D/5//i/+r/7f8BAAQAAgD//+r/1//E/7v/vf/B/8z/9f8JABEAHgACAOf/zf+w/6j/w//l//b/HwA/AEsAUwBHAC4AIAATAPz/9P/z/+r/AQAXABYAMQBHAFkAXwBhAGYAUQBDADcAEQD7//L/3P/e/9j/7v8GAAQAIgAmAC0AOQAuACUAEgAIAAMA/v8EAAgACAAZACQAKAAvADAAJAAVAP7/5v/p/+z/+/8HABMAIwAgACIAIAAPAAcA/P/q/+n/7//5/wIACwALAA8AEQATABAA+P/m/+D/0f/P/9v/4v/t//n/AQD1//H/9f/i/8n/w/+x/6z/sf+0/8X/1f/q//3/EwArADkAOgA5ABUA+//d/7//vv/J/+r/CgAyAFYAYwBiAFAAIgD7/9D/tP+W/4f/p//A//r/KQBDAFoAXQBaAEsAMQAWAAQA1f+7/6z/of++/9f/7P8SADEARgBfAFQAPAAcAPv/0v/B/77/vP/T//L/BAATACMAAgDs/9r/2v/n/+z//f8NACIAMwBEAEAAOwAoABEAAAD1/+X/0v/b/93/5/8CABEAGgApAB0ABgADAPH/5f/i/9r/3P/l//X//P8JAA4AFwAKAPr/7P/U/83/xf/W/+v/CAAwAE4AXwBlAGAAQgAgAAkA6f/T/9b/y//Q/+7//v8YACoAKAAqADAAKgAnACIABADt/9j/yv/D/83/2v/o//3/DwAmADUANAAlABYACgD2/+//6f/Z/9f/1v/P/9z/+f/7/wMADAALABEAEQAWAA4ADgAVABkAHQAhAB0AEQALAPH/3P/a/9P/2v/s//P/8//7//X/8//z/+f/4f/k//L/AgAlADwARQBKACkACADr/8j/sf+k/5//rf/E/+n/FQA6AEwAUQBSAEQANAAXAPj/3f/E/7T/t/+8/9T/9/8PADMASABfAGcAXAA/ACAABQDk/9P/wv/M/+X//f8cAB4AGgAbAPn/5//f/8r/5f8AABkAJwAuACsAFQANAPL/4P/h/9z/3//v//n/BQANAAoA/f/+//7/+P/3/+r/8P/s//X/+//8/wYA//8AAA4ACwAHAAgA+P/w/+z/5v/n/+3/+/8CAAcAFQAgACYAKQAJAOf/1/+//7z/w//X//b/FQA9AFkAeQCFAHsAYgA6AA0A3//C/6r/qv/E/9n/8P8NABwAKgAuABsAEgALAAYAAgD+//L/6v/l/8j/vf++/7z/yf/V/+v/AAAUAC0AOQAqABsABADl/93/0f/P/9X/2//l/+7/+v8AAPz/7//m/+P/5v/v//n//P/9/wcACAANAAcA/f/7/+r/4f/V/9j/4v/x/xEAGgAeAAcA8P/s/9v/3v/Z/+D/8/8RACgANABWAFQAQwA3ACEA+v/0/+7/2v/5/wwAGQAyAE4AXQBmAGIASgA0AA8A8P/P/7b/u/+//9b/6//2/xYAJQAoADEAKgAXAPr/3//Q/8v/1P/d/+z/CQASABgAFwAXABsADQD9/+z/5P/T/83/3v/2/wsAFwAdAA8AAwD1/+j/6v/2/wUAAwAIABcAIQAjABsADAD9//v//P///wkAFQAhAB0ACQDy/+D/0P/O/9P/1P/n//f/+/8IABgAHAAfABQAFwARAAMABgD1//T/2v/E/7v/s//O/97/+/8UADIATABaAFgAQwArAAMA5v/O/8D/vP/F/9P/4P/5/wYADgAWABYAFQAFAO//4//c/97/3v/f/9r/4v/u//3/EgAVAB4AEwD3/+r/7//8//T//f/7//L/CwD7/+7/8P/j/9//0//l//j/DAAoADgAQABDADcAIwAUAAAA7f/c/9P/zP/Q/9H/5f8EAA0AHAAcABUADQD5/+f/6P/d/+H/7//s/w8AJwAxAEgARQA2ACIA+//a/8b/wP/G/9P/8f8YAEIAZAB1AHQAXgAwAAsA4//B/7j/sf+9/9//AQAbADoAUQBbAFsASQApAAMA6f/a/9P/2P/l/+v/+f8AAAEABgAAAPX/8v/j/+L/7v/1/wgADwAFAP//CQAHAAkAGgASABcACwDz/+z/3//b/+D/6P/8/xQAMQA6ACYAGAAOAPv/7//p/+b/9//9/wMADwARACAAIgAcABMA+v/m/9v/1//n//z/DQAcABoAEQAOAAgA+f/l/+X/7v/3/wQADQAeAB4AGQAgABgAFwAMAAAA+v/n/9z/3P/a/+b/+f/3/wEAEAAJAAoAAAD3//j/2//O/8z/xv/S/9//5v/4/wMAAgAIAAkAAgAFAP7/9v/9/+3/6//p/97/6v/4//r//f/1/+z/6f/h/+L/4v/m//D//P8IACQANQA1AC0ADwD9/+3/4P/i/9L/0//2/wcAIwA7ADgALQANAO3/3v/R/87/0v/a/+n//v8SACkATQBIAEQARwAdABMA6f/C/8L/tf++/9L/9/8iAFEAaABtAGUARQAkAPz/3P/W/8r/x//d//f/GAAyADsAQgBDADgAKwAQAAAA9//y//X/9f8DAAsAFQAaACEALgAjABgAAQD9//b/7f/t/+j/9P/7/wIACQAGAAMACAD8/+7/7P/r////BwAEAP3/+f////z/+//w/+f/7//s//D/9P/0//r/+v/+//z/8//3//X/6v/r/97/2//s/+3/9f///wIACQAKAP//AADy/+X/2P/C/83/1//s/wUAIABDAFoAZABXAEoAMQARAPP/0//I/8T/0P/a/+7/EAAjAC8AJwAlABwABgD0/+H/3P/d/93/4v/p//L/AwAUABIAEAAUAAcAAwDz/+P/3//Q/9n/4f/e/+v/9//x//T/+v/3//z//v/2//D/6//z/+v/5//x//X/AAD8//X/8f/m/+j/5f/g//D//f8IAAwAGgArABsACgD4/9v/z//J/9T/9v8ZADsAXgB1AG0AXgBDACMABADo/9r/7P8GAB8AQwBnAHsAjACBAGMATQAsAAcA4P/C/6f/n/+c/67/1P/w/w4AKAA4ADwAMwAcAP7/6P/g/9j/vf+t/6f/nv+b/5P/nv+q/7X/vv+9/7z/v//I/83/zf/a/+3/8v8EAA0AFAAcACEAHQAJAAIA/f/s/+r/8P/7/xEAMABLAFEAZABlAHkAiwCDAI8AnQCqAJ8AiwBsAFEAOgAUAPz//P8VAC4ASABvAIoAnACxAKsAngCXAGEAJgAAAM7/pv+X/4n/h/+s/8z/5//2/wgA9f/C/6D/Vv8o/w7/8f7r/vf+Cv8p/z7/U/9u/2z/bv9j/0H/C//k/sD+rf6t/rb+2P74/hz/Qv9i/33/qP/B/7r/vf/M/9n/3P/L/8v/yf/N/9f/4f8BACEAYACDAKgA5wAcAU4BcwGWAaQBrAG2AaUBiwF9AXABaQFnAWIBWwFUAUIBLgEIAeYAxwCnAIgAaABRADEAIAAKAO7/1v/m/+j/1f/U/77/qf+K/1//OP8e/xH/Ef8W/yv/Uf+H/6r/yv/t//f//P/r/9v/wv+q/6n/qP+z/8//3v/t/wEADgAYAB0AIwAjACkAIAAEAPz/2/+3/7f/lP99/4D/df99/3f/av9m/2L/Uv9J/0b/Sf9p/4P/lf+z/8v/3v/1/wsAFAAbADMAQgBPAGUAegCOAJ8AsAC2AK4ArwCmAJoAoACkAKQArwC+AMkA1ADlAPYAAAEAAfAA7ADdAMoAyQDAAM0A4QD3AAEB7wDgAKwAZQAzAAUA+f8MACMAQQBlAJUAuADMAN0A3wDXALIAeQBGABYA7v/d/9L/z//5/xAAKQBJAEoAUABBAC4AGQAPAPz/7//1/wUAGgAdACYAGQD1/87/mv9c/zP/9/6+/o3+Xv41/hn+Ef79/fX91f2v/YT9U/0m/QH96vza/Nz82fzX/M38rfyN/Gn8T/wx/B78IPw0/FP8avyp/Of8NP2S/dz9Hf5x/sH+Df9f/7D/JACjACABmAELAmUCsgL2AjsDeQO2A/0DSASpBP0EUQWPBc0F9AUCBhUG+QXmBaYFTQX4BIEEGQS3A3ADNwMPA+4CzgKoAmcCHwLNAW4BDQGtAFAAAAC8/4H/Sf8X/+X+sf6H/k3+DP7a/aH9ef1g/UP9NP0o/SD9Ef0T/Qj99/zx/Nb8xvyY/GX8N/wS/PL72Puw+4f7d/td+0r7IPv3+tH6tfqi+pr6nvqw+tb6B/tH+4P7t/vm+x/8UvyW/OT8Mf2D/fT9d/7p/nL//f+EAAgBfwH6AXUC8QJyA94DXQTNBDcF2AVjBu4GYQe8B/8HAQjaB6QHYwcrBwgH/AYEBwoHBAfXBo0GGAaNBesETASwAykDrwIsArEBNAGgAP//dP/w/oD+Ef6p/Tn92Px8/CT83vuV+1n7Mfsl+xj7GPsY+xD7KvtF+1f7cfuK+6P7y/sE/EL8hPzQ/Bj9X/2h/db9GP5j/rP+Cf9h/7X/DQBlALAA8gA0AU0BTAFWAVQBVwFRAVMBcwGUAb8B8AEQAigCJQIFAt0BqQF4AVYBLQEQAQAB8QD6AOYAxgChAG8AOgDs/6L/Z/88/yL/F//+/vz+E/8e/yP/H/8L//X+3P7B/qr+c/5K/h/+/P3t/cb9w/3N/df99v0a/j3+Xf52/of+lP6X/pr+pv7P/u/+Ef8//1//kf/A/+3/FgBBAG0AqgDsADYBjQHYASACWwKGApECqALLAugCAAMbAz0DWAN6A4kDhgOAA24DWANGAyED8ALLArgCrAKtAqoCrAKwAqkCkwJWAgYCrAFAAdIAagABALr/f/9Q/yz/C//n/qr+Zf4K/o79Bv2A/AX8sftw+zb7GfsU+yP7GvsK+wH76/rQ+q76k/qF+pv6wPru+j37k/sE/H38/fyF/f/9bf7S/jr/hv/S/xsAZgDMACMBiAHpAUQCoAL6AkMDkAPqA0UEvgQnBZIF4gUJBiQGMQYmBhMGCgbwBc0FowVtBSkF/wTKBJMEdgRHBBEE4AOGAyQDzgJiAv8BkQFFAQ4BywCWAFkADQCq/zv/uP42/sP9UP3u/Kf8hPyB/H38l/yr/KT8nPyD/FH8FPzs+7v7r/up+6D7ufve+xH8R/yM/ML87/wT/R79LP05/Vj9gv2t/eT9Jf5r/qr+4v4X/0n/c/+r/9n/FABUAIoAvQDqABUBOQF2Aa4B4wELAioCQgJIAk4CYAJuAnECgQKEAowCkAKOAoECcQJnAk4CNAIXAvsB4AHHAaEBigGHAZEBiQF+AVwBHwH9AM4AnwB/AG0AawBsAGIAZABUADkAEwDl/63/ZP9H/yr/C/8B/wf/F/8t/zn/Qf83/xL/6f6o/nT+Sf4V/g3+Ff4i/kz+df6a/r7+2f73/iH/PP9K/2P/av9v/3v/fv+M/5z/t//Y//b/GQA8AF8AegCVAJcAhQB0AFoATABGAFMAbQCIAKAAuAC/ALoArACWAJEAkACXAJMAmQCfAJIAhABmADYABQDV/6v/jP9y/2P/YP9Z/0D/Nf8e/+/+zf6v/pX+f/6C/pD+m/6//uL+/v4Y/zT/Rv9S/2L/af9m/3P/jf+b/8D/7f8WAE0AfACjAMEAzQDUAM8AzQDWANQA5wAKASkBYAGTAbIB0QHsAfsBAgL5AeEBvQGbAYoBewFvAWQBZwFuAWEBYwFgAUgBKgEIAdEAlABsAEYAMgA5AEIARgBNAD8ALAAJANv/r/+E/2f/Vf9P/0j/SP8y/yP/D//v/tb+uf6M/mj+Wv5F/kL+PP41/ir+IP4i/iT+Lf43/j/+RP5I/k7+Sf5L/lD+WP57/qH+yP7m/vr+Bv8C//T+6v7p/uz+G/9g/6D/7v9CAH8AqAC8ALQApgCXAIYAgQCGAJYAtQDLAPwAJgFMAXMBkAGyAbQBqQGUAXcBVgFPAVoBbgGOAaYBtgG9AcIBwgG4AaUBgQFjAU4BKQEaAQ8B+QDvAO8A6gDWANAA0QDBALUArACZAIYAjgCTAI8AjQCPAI4AgwB0AFoAKAD3/8j/n/+P/4r/hf90/2v/V/87/xf/5P7G/qf+kf6N/p7+yf7t/gj/Hf8l/xj/Ef/5/tr+y/67/r3+w/7c/gX/L/9g/4H/ev92/2r/Uv8m//z+5P7S/tX+5/4H/zn/ef+7////IAA4AD8AKQAcAAwA+//1//7/DwAkAD8AYwB0AIcAmwCbAJ8AmgCOAIsAiwCGAH8AgQCMAKAAuACzAK0AvAC6ALMAsACwALUAxADPANIA2QDfAOoA4QDCAKUAhABxAFoAXQBwAHsAhwCPAIoAeAB1AEwARABNAFAAYwBfAGQAWQBIAD8AOQA5AEIASQBXAGwAbgBsAGAAVQBKADoAPwBEAFIAZQBtAIAAeQBhAEgAKAD7/8//s/+Y/43/nP+5/87/4v/s/93/zf+n/3z/Yf9b/2P/Zv94/3H/Zv9L/yL/Cf/2/ur+2v7e/uT+6v7c/tL+zf7V/uH+4f70/gH/D/8U/xb/Ef8d/zz/Xf+D/53/xf/f//L/AwAJABQAIgAvAC4APwBRAFQAYgBxAIAAjQCOAIQAfQB0AHUAfwCPAKIArwDBAO4AEwE0AVQBXQFlAWABSAEkAQQB4gDUAMwA2ADzAAsBLAE5ATEBJAEIAdQAoABmADsADQAAAP7/CgAlADQARABIAEwANAAjABAA/f/j/7v/jf9W/x3/9P7h/tb+0v7o/gr/Gf8u/zD/IP8Q//v+5P7Y/tr+4P7f/uT+6/73/gj/FP8u/0H/Uf9j/2n/cP93/3j/cf9u/17/UP9F/0H/Sf9X/2j/fv+o/8r/8P8IABkAJgAcABEAAQD//wYAHgBJAG0AlwC9AMsAxQC9AKkAkwB7AGoAZwBqAHkAgQCnAM4A7QAfAT4BUwFUAT8BGQHnALgAlAB4AHYAdABxAIEAhACSAJMAngCwALAApgCBAFsALQAOAPT/3P/t/wsAKABNAF4AXwBVACYA+//V/7H/mf99/2f/Wf9b/1//ZP9m/3b/g/9//3X/ZP9Z/0r/UP9Z/2L/ev+F/4f/gv9t/1n/Tf86/zj/PP9B/03/Tf9J/0f/Tf9R/1L/XP9r/3f/fv99/4b/lv+4/9v///8kADUAPQA0ACAADgAEAAYAFgAUADUAVABqAJQArADFAMIAqwCDAFwAMQAbAAsAAAAKABoAPwBdAIYArwC7ALgArQCSAHAAUwA1ABMACAAGAAQAAwD9////9v/z//H/8v/1/wYAFAAYACcAKgA0ADAAJQAlACMAHgAdACEAIQAbABMABwD+/wYAFQAbACcALQA1ADkAOQAzACoAOQAnABwAKAAqACsAJwAgACIALwAvADcAPwBJAEwARAA5ACcAIQASAAoAAAD6/+//3v/Y/8v/zv/X/+z/CwAmAE0AZgBrAGkAUAAtAAcA4//D/6j/n/+f/6//yP/j/wAAEwAsACUAEwAAAN7/yf+6/7X/vP/G/8z/1v/f/9//5//3/xQAOABQAGgAVwBBACQA+P/W/7r/vf+z/7X/yP/W/+3////6//n///8FABcAGQAdABsAKgAoABoAEgAAAP7/6//Y/8v/3v8AACEAPwBPAGAAVgBEACQAAADn/9r/1//g/wUAJQA4AEoATgBSAE8AQgA0ACYAJwAdAA0AAgD7//7/EgAiADUAPAA1ADIACgD3/+L/1v/d/9b/3v/q/xQAKAAvADwAPAA1ACIACgDo/9P/w/+3/7T/vP/P/+b/AAAJABcAGwAQAAUA5v/M/8D/rv+q/6n/uv/a/+//AgAOABgAFAAFAAAAAAAGAB4AJwAqADQAOQA5ACgAJwAmADEAOwA1AEIASwBQAEwASABGAEUAPAAvACwAKAAYAAMA9P/z//H/+P/3//P/DQAaACMAIAAXAAYA8f/O/6H/kf+M/53/sP/g/xkAOwBbAFMAOgAlAAAAzf+o/4v/g/9//3n/o//T////LQA8AEoATAAzABYA9v/k/93/4//3/wgAGQAdABgAEwASAAUAAAD9//X//v8IAAsACQAAAPr/9//y/+X/5f/t//X//v/3//L/AwASABkAEgAeAC0ALQA3ABkA/f/0/9v/zv/P/8n/3//t//X/CQAPABUAEAABAPr/8P/j/9T/zf/e/+//DAAmAC0ALgAwABcA9v/i/9v/6v/1/wcAJgBKAGEAaABkAFMAOwAcAPb/1//I/77/xv/Y/+r/EgA2AEoAXABSAD4AKQARAAcABAD+//b/7P/o/+r/6//o/+r//P8HAA8AEgAUABQAEAAEAPj/7f/i/+D/2f/N/8//2P/r/+z/7//2//D/9//w/+j/7/8BABIABQD5/wAA8P/n/+X/4f8AAAgAFgAeABoAHQAEAOD/yf+9/7j/tv+5/9H/5f8AAAwAEQAjABoAFQAAAOz/4//V/93/6f/4/w0AHwAxAE4AYQBkAGAAUQA7ACsAGgAKAAMA/v/8//3/BgARABIADgAPAAwAEgAaAB4AHgAiABYA/v/7/+f/3P/o/+z/9f/9/wMABgD3/+f/1f/Q/9L/1v/W/9b/4f/m/+n/5P/s/9n/wv/G/7//wf/b//D/9v8EAA0ABwAAAPn/8//j/8r/w//A/8L/0v/U/9v/6v/0//7/AQD8//n/9P/t/+X/7P/p/+z/BgAjAEMAXgB2AIgAiABsAEoALwAZAAoAAAAMABsANQBXAGEAcwB+AGgAUwAlAPj/5P/H/8X/0P/d/wAAFwAtAD8AQAA4ACcAIwAUAAgA/P/l/+P/5f/m/+7/+/8FABkACAD7//X/7P/v/97/2v/V/9P/1P/H/8n/1P/g/+3/8v/0//f/+f/8//j/9v8JABUAIAA0AB4ACAAGAPL/6v/m/93/5P/c/+D/4//m/wEACAAVACIAFgAYABEADQAVAA8AHwAkACoARABDADsAKQAOAAAA8P/n/+z/+P8PACQAPgBmAHgAfwB/AGAASQA0ABkAAgDu/+H/4f/k/+z/AAAXAC8AQQBLADoAJAAUAPv/2v/D/67/k/+R/5r/nP+w/8X/0//n/+//8P/q/9n/xP+r/6D/oP+j/7P/wv/N/93/6v/3/wcAGQAjACMAIQAPAP7/9f/z/wYAFwAdACQAIQAeABMABQAGABAAIQAqACkAJwAfABoACgD1//D/9P8JABcAIAAwAEIAUABOAE0ANwAkABcA///z/+3/6//4/wUAFwAqADcARgBSAFUAWgBBAB0AAADp/+X/2v/d//X/CwAgADAAJgAWAAsA+v/p/9j/z//T/9b/zP/K/8r/y//P/8n/yf/G/73/wP/B/7r/zP/a/+D/6f/h/+///P/3/wAA9f/u/+3/2//H/7v/uv/a//v/EwA0ADwAOwAqAA0A5f/G/7f/tP+9/73/xf/R/+L/+v8JAB4AJQAgABkACwD6/+3/+/8HAA4AFQAiACkALQAtABkADQD8/9z/3P/g/9z/8P8EACcAQgBfAHMAcgB1AGIARgAoAA8A8//X/8T/uv/O//L/GAA2AEoASQBAADQAEADw/9P/vv+z/6//sP/A/9z/6P/y//z/EwAhACIAHQAPAAYA+P/i/9f/1v/V/+v///8HABcAHAAZACAAHwAKAAsABgAHAA0AAAABAPn/7P/2/wAABgD6/+z/3v/U/93/3f/i//f/CQAJAAUA+v/x/+r/4P/V/9D/3//t/woAIgA7AFcAVgBLADoAHQAEAOX/yf/O/+P/CAA7AGQAdAB3AGAANwATAPD/2//G/7f/wv/b//P/EQAzAEUASwBEAEEAMwAcABoAEwAGAAcA9f/z/wUAAwALAA8ADAAHAAMA/P/2//H/6v/k/9T/3f/2/wMAFQAkACMAJQAXAAQA8P/X/83/2f/s//H///8MAAoA9P/k/9z/z//O/9b/z//M/83/yP/d/+///P8HAAgA/P/2//P/6v/l/+v/9f///xAAGQAbABoAFwAGAO7/2f/F/7//w//R/9X/3f/z/wwAIABAAF8AUwBHAC4ACADn/8L/sf+f/7T/0v/r/xYAMQA/AEkAQQArABcABAD//+//6v/u/+7/AAAQACEAIQAcAAoA+//y/+D/3//h/+L/9f8PACIAIQAXACIAJgAaABMACwAFAAoAFgAYABYAFQAfACMAKAAqACkAIwALAP7/4//O/+L/DQAnADUAOQAyACEAAwD+//X/8f/4//z/AAD6/+//8P8FAAsAEAAhAB0ACwDy/93/2P/s/wIACwAQABMAKAA6ADcAJwAEAO//7P/f/9P/v/+k/7D/1/8AAC8AXwBOACkADgDm/8r/uP+x/7r/y//G/8L/0//c//v/JQAgAA0A6v/D/6z/uf/J/93//P/2/wAABQD7//P/BQAWABoAHQAoADQALAAsACkABgDo//D/9/////3/9//n/+z///8BABkADwAeAC0AGAADAPb/BQAUACEAJwAgABQADQAFAAMAAgAbAEUAawBrADsABwDZ/9H/1P/e/+T/0v/h//3/GgA+AEoAUgBGADIADwDk/9z/yP+q/5//mP+s/9X/FABQAGYAmQDFAMgAsAB+AD4A3/99/zf/8v7T/sb+6P7k/m7+4f7N/3IAVgF2As4CYgIcAvYBPgJ1AiUCLQHm/2v++vwl/Ln7l/sq/OT9AgBrAioEXgQhBPkDgQMVAgQA9v0J/Z79jP/1AVoCiP99+tz1YPNq9BL5Mf9cBPwGBAdmBRkDDQH+//T/+wA4AggDyAJQAf/+bfw/+pb40PdZ+OL6k/5gAnEFOQdtB7oGCAZ4BXAFRwXmBCgELAMLAiIAeP15+v737PbP94T65P03AQgE2QV8B8QIbQkWCa0HBQY5BHsCWQD//aP7SPmI97/27vYB+KX5Avt+/Iv+VwBuAfgBBQLMAbYBzwEoArUC2gJVAsAAHv47+0T50/iE+aD7cv7PAKICkAOdA5MCggBx/v78u/wr/WX+9v8wAcwBXQFHALb+sv38/K38JP0a/qz/kwHNA5sFggaUBh4G3gX7BeYGXQjzCTYL2gv+C1MLaApMCRAI3Qb1BSwF0ANAAX39qfkg9kHzmPE98cDxTvJ38t7xpfDb7qHs9Oq+6qTs3O+k8yD3gvnb+vr6qfol+kD6UPzw/3oERgmUDdoQyRLxEj8S1RGIEekRRxMfFYcW2RaTFfsSrw8MDJIIkAV7A8QBZAB3/23+tvwq+uv35PUK9NbyYvLg8hL0gPVz9lT3Fviq+G/5d/qM+8H8e/7q/+sAgAGyAT8Bv//Z/Uj8pfvF+4b8bv7tABADeQTtBBYECQJR/0L8ffl398D1jfQk9BH0MfSs9Kr1vvbC+OL7Sv+cAj8F8QbbBy8I+QcoCBAJMApYCycMhQxIDGELTAolCY0IwwhMCesJWQopCnQJ4QhkCMsHGQc0BhsF9wMAAxcCogF5AcEAn/8k/mb8IPtU+yH8Qf2s/sv/nwA+AH7/d/4n/Qf8C/u++oP6+PkG+fD3FPc/9oX1pfSr8wrz4PLl8tnyifJN8gnyx/FK8jzzuPRw9s336vge+jz7//ul/Dn9q/0p/sb+cf8bACoAgf+1/jz+B/5//iEAIgJpBOYGvggWCrYKpgplCh8KLAphCtIKbAvUCyQMVwyEDJ8M4QyKDVQOpA8FERkSQRLBECkOAAv9B2sFOAOVAXoAsf8j/5P+ov0k/JP6Bfka+Oj38vdD+DH44Pf59l31DfT08lzyfPL78sPzlPRi9VT2qvcL+T76evuu/L79sv6k/1oAbQBzAMQAMAHMAXcCDgNfA4UDTAPQAhgCQgG8AIYArQD/AIMBTAIiA9UDXQQVBA8D/gG8ALX/7/6M/oD+af64/iv/a//n/iX+q/35/HD8+Pt++2r7zPuL/ET9mv38/Uv+fP66/r7+Cf+0/30AmwHHAqkDFQR/BP8EmgVGBr4GUQd1BxkHdQaYBboE0gM7AxIDIgNHAyIDrQLxAc8AZv8f/gL9E/wH+7D5x/gP+Ij3SfdI98v3hPhY+TD6t/rU+sf60voS+5/7cvxn/Yr+nf94APcA4gDPACEB2AH7AjEEcAUgB8YI+gmPCkkK4wkwCTkIgQfZBjoG3QWbBUsF0gREBK4EdAUZBvgGaAckB1IGGQW9A/4B8P90/pr9Q/0//fT8kfz2+0v71PqN+rj6vfqf+nv6LPqd+dn4MPjM97v3uvf590/4evia+Nn4DvlJ+XD5pPlg+iz70vtA/I78u/z5/B/9+/y1/I/8Gv0w/kz/AwCjABYBagGoAaIBiQGkAfkBoALiAzEFXgaNB7kIZAmACX8JyAjPBykHbwZRBq4G/wZnB+gHWgiPCFAIhwemBtAFvASuA80C+QFYAa8AewCjAOAAhQEIAnMC0AKYAv8B/QDT//z+g/5x/h3+vv2e/UL92PyM/AH8uvuw+577q/uy+9j7kPvH+hb6jfkN+cz43fgv+W/5jfnD+dD53/km+oP65fo++7L7Ovy0/C79bP1i/Tj9K/04/af9s/6j/xMAkgA3AbcBNgKQAgUDoQMxBJwE/ARmBbAF7QUGBkIGrwbqBtYGlQYQBnsFAAWNBDcEYQToBC0FjAXuBV4GywbKBrIGoAYHBtcEZAMeAjkBfwAaAPv/BQD1/5P/JP+4/hr+Lf03/CL7D/p1+eX4f/hZ+B74EfgF+AP4Pfi++J75bvoE+2/70/sb/M77m/u8+xf8zPyv/dj+1/+YADwBrwFKAqoC9AJyA9oDMwR8BMgEmgQ7BOMDPwPUArUCqwK2AsYCzgLXAu4CCAP1AtgCuwJ4AiUCngHoAFQA6v+B/1z/TP8i/17/gv+J/47/Qf8G/3b+rv1R/Xz9Tv5D/yQA0AD7AMwAEwDs/rP9h/ym+0f7pvtd/Bz9Dv7V/mP/n//V/wQAEgAfAPT/6P+q/xj/sv5k/lX+gf7b/pH/LgDCAGoBDQJKAh4C8AGRARQBiQArAB0AKQBaAKAAxgDMANQA6QDLANIAGgFQAW0BegF1AWABRQHbABUAkf9X/zj/XP+U/xkAqwD+AC4BJQHyAKUAQwDp/7z/kf91/37/jv+f/4b/jP/G/+L/JwBfAJgAxgCPAEAA5P/C/9D/1v/q/y4AwQBzAc4BygGQARgBmADv/1j/C/+p/mj+V/51/qf+1/4d/1X/gv+a/5n/j/9K//v+4P7d/if/c//d/yYABgAJAOT/vf+z/8D/AgAzAGcAfwBkAEYAIADe/67/l/+2/wQAUQCuAAEBNwFuAXYBOAFCAY4B2AETAh8CGQLqAYoBCwGPABkArv9W/z7/UP97/9n/LQBcAOr/Fv9B/pf9Tv1H/bL9cf5F//3/cwBzAGUAQgDg/3n/Hv8i/1n/vf80ALUASQG2Ae8BDAL/AdIBdQGNAJr/p/7d/X79Xf20/UP+T/8/AMwARwEwAdsARAB4/6/+Cv7o/Qz+UP7d/iv/Vf9R/0X/gv9q/33/k/+p/wIAFwBXAKQA0QATARMBGwEVAbgAogC3AMwAJAFwAYoBhQFjASYB3ACgAEwAPACWAPQAOwFGASgB8wCNACwA4v/I/+L//v9GAHkAjACiAJgAjQCTAG0AVQBfAEEAawCTAJ8AkgARAJv/Pf/J/pH+ov4B/37/6v9qANMAFQEdAeIAqwBdAND/Mv/G/oX+bv6L/uX+hP8HAHAAmACHAE4Ayv9F/9j+nf6K/qT+mP48/gr+Bf4X/kv+m/4o/5v/1P/0/8X/vv+F/yP///7y/uH+wf7c/ib/ev+w/+n/9//o/wAAGABfALcA8wBFAXYBUgEJAasAWAAcAAIACwAiAEsAXABuAFsAQAAyAA0ANgBfAI4A4gAZAU4BWQFBAU8BOAEBAfUAzgDEALYAngCpAIgAYgBEAAkAEAAXACQAkQDVABYBWAF6AWIB0gAPAF7/sf47/gz+Nv7H/mH/AAByAKwA2ACvAGEAAABw/+n+dP5i/nH+fv66/uz+Lf8n/yL/Z/+M/+H/IwAwADcA+P/h/8n/mv/v/20AwADsAPoA5ACdAEwAwv9S/x3/DP8Z/yv/gP+X/6H/kv9m/1v/PP89/3T/sf/B/wMAFwD8//3/xP+b/4f/ev+U/4r/hP+t/5H/oP/a//T/NgBVAF4AKADB/33/NP/8/uf+Nv+s/2wASgHIATgCLALXAVIBiwDx/2//Lf8T/xr/UP+N/xcAuQAsAYsBzQHXAYIBFgGdAPb/dP8M/+P+BP85/8P/OACVAAkBOgFEAWUBUQH5AN4AwQB0ADAA/v/T/6v/jv91/1f/Lf8H/w3/Rf9p/5r/7v8xAHkApACPAGoAPwDI/0L/AP/B/p/+mf7J/hr/Ov9p/5j/xv/p//L/4/+y/3z/Pv8f/yz/bP/Q/yEAWwCXAKYAawA1ALT/JP/p/sf+xP78/q//aQDuAGQBnwGNATIBsAAZAH3/6/6Y/oT+vv4//7v/LwCOANwA+wAMAS0BHQHdAIQAGwC7/2T/Lf8n//7+D/9o/4T/r//6/1kAugD1ACUBPgEKAbYAbwAZAPb/4/+9////dQCmAMcAzgC+AJ8ARwAPAPj/6f/z//b/IgBnAJoAuQCRAFIAJwDx/8T/oP+F/6H/2P/z/wwAKAA4AEsA/f+R/3T/b/91/5D/yP/E/8H/x/+k/5z/k/+N/0T/9/4J/xX/G/98//3/YADxAFEBUQEsAbsAEAA+/2T+6P3a/QH+af4W/8L/MwByAH4AeACEAEwAFwDz/6r/of+j/5v/0P/2//b/JwAlAAwAJAA1AGoAmgCaAKYAsgCXAJEArADAALoAhgCJAIYAYABiAEAARQAyAO7/6v/6/wgADAAfADIATQBQADgAOQAjADoAXQA4AC4AEQDh/9f/yv+w/3T/af+n/9L/FgA+AFAAdgBfAFsAEADZ/+P/n/99/0f/NP9z/6P/4v8bAG8AzwDwAO4AygBwAPH/Xv/C/mH+WP6F/vf+hf/7/2wAygD3APgA3gCfAEgAGQD0/8n/of+H/3X/ZP97/4f/sP/g/+//KwBdAHEAggB/AHcAQAAHANz/mP94/1v/R/9+/6z/y/8JADUATABZADcACwAdACoAQgBlAEgAQgBGAB0ACQD3/9r/z//Y/+X/3/8FABsAIwBRAEcAUABpAEsAPgBFAFIAPABOAHoAawBpAEAADQCj/wX/uf6Q/rz+Kf9v/+b/ZAC/ABIBKgEXAesAkwAiALz/Uv/5/sj+2f4G/zL/k//e/w4ASwBhAHMATAD9/7z/Y/9D/z3/Sv9m/4j/0//7/yUASwBCAFEARQASAAIA8f/i////GQAUACQACgDg/+D///9AAFwAXwBsAHsAcQBNADYAAADv/xgAFQBBAGcAUwBOACgA6v+7/7n/zv/g/wwAMQA5ADIA6//C/7X/g/+A/4z/l//u/0gAbgCUAI0AcABcAAoAoP9S/xv/Fv80/4r/FgCcAPMAKAE2Af4AzQBdAML/av8m/xj/N/9Z/53/3f8oAGgAjgC2ALMAqACTAEYA6P/C/8D/vv/T/+L/6v8VABQADAAeAO7/xP+Z/3D/c/9w/33/hf+G/6b/4/8VACMATQBIABQAAADW/8//xv+3/87/1P/W/9H/yf/F/8r/1//U/9z/4P/h/wAAGAAzAE0AWwBkAGwAZwBLADgAJgAYAA0A8v/p//r/FgAqAC8AQwAuABsACwDS/7r/ov+F/3v/jP+3/+3/agDSAAoBNQEGAZsA+P9K/8f+df5+/sT+N/++/3kADwEtASsB6ACJADEAx/+K/3X/gP+C/57/1//8/1QAcABXAGkAXwBkAFQAEADu/+X/2/+7/57/h/+E/6b/uP/s/zsAeQCmAJUAcwBWACwACwDs/9v/8f8WACoAJgDq/6n/q/+j/5//vv/Y/woAVQCEAIIAbwBDAAAAvP93/0X/Df8K/0b/fv/n/0AAfgC2AL4AyACGAAgAtf9f/x//EP8n/2P/vf8ZAF8AnwC9AMIAqABXAB8A4/+p/6r/o/+5/+X/HABrAJMAwADeANEAmgAeAMj/jf9V/2z/ev+J/8T/2v/z/wwALwBdAFcASgAlAPL/3v+h/3f/hv+4/wQAHwAfAB8AHAAbABkADwD6/wMAFwAhAC4AKQAkABUA9v/g/8X/0f/o/93/6P/k/9f/7f8EABwASABxAIIAYAD+/5n/af9O/zb/Xv+o/wwAiwDKANkAyQCHAAEAT/+8/k3+C/4m/m7+9f6l/0cAzwDsANsAkgACAIH/6f5y/lP+ZP6b/uT+O/+M/7//6f/9/w8ANgBQAD4AHAAMAO7/4f/0/yQAdwDHABYBYAGGAY8BiQFjATwBKAEiASIBIwEeATMBWAFRAU8BUwFdAXABYwFLATMBDgHfAMEAwQDcAPYAyQCNAFkA7f+t/3//OP8Q/xD/QP94/5L/ef9J/xT/yv5g/gn+xv2O/YL9ff2h/eb9NP54/rP+2f7V/rv+ZP4A/qf9mP20/ef9cv71/pT/JwBvAJ0AkgBpADcA+//Q/7f/yf8KAHMABAGoAUcCxgJGA5MDrQOcA1EDFwP2AvICEgM1A0YDUANdA1wDTgNSA0sDXAOMA6ADvQPAA4oDHQN/AuEBgAElAdoAywDMAOQAtwBgAPf/Yv/F/jH+qP0r/eT8s/yK/E38CPyw+3D7Qvs9+0X7Q/te+1/7a/tw+4X7g/ta+yb7BfsG+w77PfuP+//7hvxE/e39Vv6b/nv+Mv7l/Yv9fv2l/QT+ef72/lz/e/+B/3D/Zf9C/x7/1/6P/lD+7v2n/YD9hf24/QX+VP6y/vP+A//s/tD+sP7Y/i3/fv/w/ywATQB3AIYAoQD5AIkBNwLdAnwD9wNMBHMEiwSmBLoEEwWZBSkGmgbtBiYHQQdBBy0HNwc5BzQHLAccB+IGqQZgBt8FjAUzBdgEWwTZA1EDqAIMAp4BVwHfAHEAEABl/6T+wv3J/AH8cvsV+9b6xPqh+nv6Pvru+Zv5Aflu+PP3kfcu98H2l/aV9sv2aff997H4Pflw+Xr5LPnI+HH4QfhV+ND4V/nv+Xv6zvoT+0b7ivvF+9X72Pvl+/T7C/zB+2v7Vvt/++j7ZvzP/Bv9av2R/ZX9mv2z/fn9cP73/q7/VwDwAMMBfQJcA1AEMwU4BhUH5QfZCOAJ2grIC58Mqg2/DpQPURC1EPkQJRFvEboR7xFMEokS1BIHE+4SihLkERsRRBBaD00ORA0fDPoKygmDCDwH7gXHBKMDiAJFAcP/P/6o/P/6Wfn/99T28vVc9cb0OvSK87Ly2PHu8BPwfe/q7lvuD+4A7gnuPO6V7gTvi+9C8AnxuvFO8sHyOfOZ8xP0rvRJ9Sz2Ifcj+Df5I/r/+qz7fPw//cb9UP64/iD/mP8OAJkALAHEAUgCwQI3A5sDAQQ4BJUEMgXYBZMGJQeEB+gHTAinCPUINAmFCfoJgAoZC6oL/QtHDJ4M8QxeDbYNxQ25DZENTg0DDcoMcQwdDP4L7QvgC6sLQwu5Cg4KYgm6CKcHbwaKBaUE+QNuA7cC9wElAUIATf8r/rX8S/vk+Y/4Xvck9hL1K/SH8wvztPJy8h3y6PHl8cnxu/GJ8SrxEfEX8XPx1PEZ8o/y+fKD8yb0nfTk9FD1AfYs97z4cPpG/Nv9Xv/bABYCHgPdA20E/ASMBSYG9Aa4BzUIrggZCVcJcgkmCY4I4AcjB5wGMwYgBowGBweOB80HiQe3BnIFRgQFA9UB3AAYAK7/dv+M/8f/AgAzAGEAhwCNAGwAQgAGANj/yP/l/x4AYADUAD4BxwFEAp4C6gIAA/kCBAO7AjwCwgFPAS8BNQFwAdABOALYAn4D/QNgBHMEYARPBC0EAwS7A4cDeAN0A4kDZgPnAi8CWAF/ANP/Mf+9/or+bP57/mb+Nv7m/aX9av1y/Yz9yf1i/gL/t/8sAHgAPACv/wH/B/4o/TH8Dfs4+oz5Ifn0+Gv47Pd79+72jvYp9tL1ofWT9bf1zfXo9f/1GfZD9nb2uPYU94v3J/i1+Cv5svnu+Qv6Nfpu+s36W/sF/AD9Qf6F/9MA/wH2AroDUASpBOwEHwVLBboFPAbUBoUHLwjqCIMJAApiCsoKMwuUCxIMbgyuDOoMAQ0nDVINcQ2iDasNrg2lDWANxQznC8wKpglgCAkH0wXnBFIErgMjA3wCxAHuAPz/Fv8W/iL9PfyI++76Z/rb+UH5gPiQ96X2n/Wo9MTzz/IM8oLxRPFb8Y7x2/FY8tryWvO/8/jzHvQy9Cv0PPSJ9AT15PX79iX4PPk2+hb7qPvr+xX8Dfzw+0j8H/1j/gcA2QGvA0QFXwYXByYHyAZTBt0FpQXdBWMG4gapB4UIMQm2CfEJ3QmzCUUJnwjuBxsHRAZ2BfAEoQSsBP4EUQWBBYQFMgWpBDEEeQO8AhMCWwHRAJkAlwCqANIAzgCRAEAAz/8o/4X+B/7X/f79Rv6d/sD+xf6l/ij+d/2p/P37rvua+8D7OfzF/FH95v06/kb+HP68/U799fyq/KH8wvz9/JL9Of7i/l3/of+0/57/e/82/wP/A/8L/zD/cv/T/2oAAgGQAewBNQJWAk4C7AFoAfoAhgBcAB0ACwBDAJoAAQFbAbkBAQI2AksCAQKKASABfwDq/4j/Of9Q/5L/v//s/wUA6P+x/3H/DP8S/xL/9P7s/rj+f/4x/q39Mf0E/ez8T/3J/Vj+E/+P/+3//P/U/6D/af8j/+v+HP+g/zoACwHGAT4CvAILAzkDXgNNAz0DJwMSAyYDUwOMA48DvAMCBCkEnQTRBM4EAgXiBNME5QS+BJcENASeAzADwgJWAgsC5gEnAqACHwNlA1sD1gLpAeUAlf9b/oL9/vzi/AT9L/11/Zb9Xv3k/Ez86fuQ+0L75vqE+kv6/fnE+Z35h/mk+QP6V/qY+uL6B/sw+zz79vq2+nv6KPod+kb6pfpt+y/83PyF/d39Fv4y/v39Ff5o/qr+LP+a/w4AoAApAXEBZAFeAVMBZwGJAcABVAIDA4kDFQR1BLUE/gTnBLAEXQTlA9cDAgQ0BLMEYgUhBuAGeAeGBz4HygYXBpMFAgWUBIYErwQ4BdMFNAZhBlEG8AVUBSMEyQKbAaEADACu/97/EABAAIIASAD6/7n/QP+g/uP9If1Q/Iv7zPoc+sX5sfng+Tv6svoX+2P7Q/vN+k/6tflM+fX4yfjl+Ev5uvku+pn62Poa+xz75vqo+ob6qPol+6r7N/y+/Bj9U/1k/WD9Uv1f/X79u/1C/uf+p/9hAOcALwElAewA1QD0ABMBYwHHASwCsQI3A60DLgTCBEgFlwWsBYYFOwUwBTQFTQVeBTgFNwUsBS8FZQWaBeMFMwaGBqAGgQYSBkQFVAR4A9cCigKZAtgCUwPUA1MEfgQUBEUDFQLKAKb/sv4M/s/98/1v/hD/mf/U/5r/+v4X/hX9MPyI+xr72/r3+if7S/tZ+y378PqX+kX6+/nb+en5Hfpb+pT6vPq/+rb6o/q0+u/6Sfua+wP8X/yB/Kr8q/yu/Nn8//w0/ZP9//1Y/q7+2v4F/xb/5/68/qv+CP/P/6sAcwECAiACFgLRAWMBGQHdAOsAKQGRATcCAQPVA30EDwU7Be8EggSoA8sCEgJsATQBXwHjAYoCOQOrA/ID4AN/AxQDggI8AikCKQJKAoACnwLKAuQCtAJsAggCwAGfAaUB9AF5AvACRwMgA5QC3wEzAb8AjgCbAMQABAE1AUwBQwEfAcEAYgDu/3z/U/9O/2T/if+M/13/C/+a/iT+x/2S/ZP90P0r/oz+vP7r/tv+fP4O/mr94vyW/JX82Pw+/bP9G/5T/kX+Qv4V/sX9gv0n/fr8D/1N/Zf9FP59/un+X/+d/97/4//B/23/D/+9/pb+sf71/mz/5f9JAJAAtAC+ANcA1QD7AA0BDwEHAcwArwCbAKYA1wAlAXgB2gENAlUCngK4AugC3AK2AnICDgK7AZYBrQHzAWECoALdAgYD6QK8Am8CHALtAdgB0wH5ASwCLwI3Ah0C3wGYATEB+ADuAP4ALAFLAVcBYQFRAToB8QCHACgAyP+K/3v/pv/l/zgAhwC8ANsAywC6AJUAZgBAABEA5v+5/5L/c/9x/5f/zv8FADMASgBJACQAxv9h/wH/rv6U/nz+nv7d/hj/bP+i/8//1v+7/4n/Vv8u/wH/z/68/rP+pf6w/rX+zf7k/hP/M/84/0D/L/8Q/8n+jf5q/l7+aP6P/sT+8v4r/2z/nf+8/8//zP/C/8H/zv/p/xYALAA9AE4AUABZAHAAegBzAGQAUQAvABcABAARAEkAcQClAMQAxwC1AJ8AhQBjAFsAZQCFAKwA8QA1AWcBhwFdAQoBsABRAAAA0v/M/93/MAC5ADcBnAHDAYkBGAGXAAIAm/9s/2r/mv/b/y8AiAC5AMoArQBeAAsAuP93/13/X/98/7j/2v/m/+L/uv+O/2j/af+L/7P/5P/5//3/5v++/4X/Jv/u/s3+yv73/j7/gv+z/8T/sP+M/2v/bP9d/2T/iP+l/8//7f/w/+b/xf+m/5//mv+8/+v/FgBUAHcAdAByAGAASQBGADoALAA0ADMAMgA9AFkAdQCBAJkArQC5ALgAsACUAGoAPAAeABMAKwBiAJsA1AD7ABEB4gCTAC4Atv9d/xr//P4F/zf/i//l/0YAiQCcAJgAbQAfAOv/x/+k/5L/eP9//3X/bv91/1H/Pf8s/yn/OP9T/3D/d/9y/2r/T/8s/x7/I/8y/0z/eP+d/67/ov+B/1//R/8s/xD/Ef8o/0b/bP+P/7T/yv/a/9b/yP/I/8n/4//3/x4AQABQAEwAJwAUAPf/5//p//z/IAA/AGAAdQCXALUA0ADyAN8AxwCiAGEAKQD0/83/y//5/0AAqgARAUoBVAE4AeYAeQAaAMP/lv+U/67/5f8ZADsAUwBOACoA/P/a/77/t/+g/4n/d/9V/0D/Nv9B/1z/hv+8//z/LABUAGMAUAAgAN3/k/9H/xT/BP8f/1T/cP+F/43/gP9w/0T/Nv9G/23/rP8AAEMAawBtADQA8P+y/57/nv+4/+z/HQBCAEQAJQADAOX/1f/F/8b/2v8AACIAKQAxADkARABNAGQAhQC7AOYAAAH3AMIAdwAiAOD/qv+0//T/QgCxAAsBMwExAfYAiwAFAJz/Wf9G/1v/j//i/ykAXQB/AI0AgwBmAEAAIwAIAAIA7//R/73/mv97/3L/df+L/8b/5//6/wYA7P+8/33/SP8n/w3/Gf9A/23/jP+q/8j/y//W/9n/2//j/+L/5//f/8n/q/+g/5//nP+n/7X/yv/b/+X/3//M/8H/vP/F/87/4f/4/w0AHAATAAkA///2/+z/+/8jAEUAZwB/AH0AWgAaAMX/bv8u/xL/I/9d/6r/BQBbAJIApgCUAGwAJwDl/6j/df9a/0j/UP9e/3H/l/+3/8n/6P8UACgAGgDs/6n/df9P/0D/Uv90/7L/BQBJAHUAhwB6AEwAJwACANj/yv/H/9H/1P/c/+D/4f/u//z/DAAcADQATABfAGEAZABmAF0ATgBGAEgATgBUAE8ASgBBADYAMAAsAC8AKwAeABcAGQAaADMAWwBmAGcAYgBOADYAJwAiACEAIwAjACEAHAAJAO7/zP+o/43/kf+i/7j/2P8QAE8AaABqAF0ASwAsAP7/vv+D/07/Hv8P/xD/L/9c/43/yv8EACEAKgAqAPH/uP+D/0L/IP8h/0P/af+c/7z/z//L/7f/pP+V/5T/nv+z/8f/2v/a/9X/vv+v/6b/qP/V//j/PQCFAJAAkgB5AEwAHADo/9X/0P/i/wkALgBHAEkAMwAdAA8A9//q//H/HQBMAHcAfgBmAFIAGgD1/9f/xv/W//P/HABDAFsAaABbADIADwDV/6D/ov+g/7b/6v8bAEYAZAByAF8ARwArAA0A3v+y/33/Wf9b/2D/g/+w/+n/JwBWAGYAYwBFACgABQDX/8b/xv/Q/8b/zP/a/9r/1v/L/9X/3P/t/wcAEgAZAA8ADgASAPv/6P/g/9D/zP/Y/+7/GAA6AEIAQQApAAoA7v/N/8f/2v/y/xIANwBTAGoAVAA7ABoA6f/d/9H/4f8AABoAKQA6ADwAHwALAPT/0f/D/9v/7f8KAC4ATwBkAHEAXQA8ABcA6P/T/77/wv/h/wgAMABlAIAAjgCZAH8AVAAXAOX/uP+L/33/h/+W/8X/+P8WADQAQwA9ADcALQASAPr/5P/K/6f/jf+A/3j/cv9+/6L/x//o/wQA/v/f/8z/qf+J/3//f/+M/5n/mP+V/6P/sf/A/8n/z//Z/9X/0v/Q/8P/wf/D/7j/xv/O/9T/7P/1//v/8v/q/+b/+v8SABQAHwAsADcAMQArAC4ANABDAEMARgBgAHoAmQClAJ8AowCHAF0AMwDo/7b/t/+9/+z/NwCGANoAAAECAe8AtABvAB0A4f/H/7z/xv/k/wUAJwA9ADoAQgA8ADQAKgAdAAMA6//j/8b/wv+0/5T/jP+Q/5T/nv+n/67/uv/E/87/4P/0//z/BgD0/8//uf+a/3b/bP9u/3P/j/+e/63/xP/X/+v/9P8AAAAAAAAJAPz/8v/w/97/1//M/8v/0f/W/+r/7P/7/xEAGQAQAA0ABgDn/9z/1P/i/wAAIgBMAGYAeQBzAFoAOwAQAOr/w/+u/7r/2v8OAEcAeACaALQAtwCbAGIAIADw/7n/nv+s/8P/3f/7/wwAGAARABAABQDx/+7/0v/F/8j/tf+v/7T/sP+r/6b/qv+3/8r/yf/H/8b/xP/T/8H/u//D/8r/z//a/+b/7v8DAAAA9P/0//P/7v/p/+n/9f8UADUAOQA6ADEAIgAMAPT/5//f//D/+P8HAA4AEQAhACkAIAANAAIA7f/l/+z/CAAqAG8ApACvAMkAuQCaAHMANQDn/7n/lf9z/3f/gv+1/+f/GQBLAIUAtACvAJwAXQALALn/c/9A/zX/Xv+Z/+b/HABBAEgANQAsAAkA6f/G/7L/s/+3/8D/qv+a/5X/j/+M/5z/vf/c//7/EAAkAD4AUwBLAC4AGwACAAAA7//n//D/5//j/9v/5P/q//H/9f8JADgAWwCAAI0AjQBjAC0A/f/I/7r/q//B/+z/FAA3ADkAMQAeABAAAADi/9T/xf+6/8X/x//Q/9//9P8PAB8ALwAnABUA7v/D/63/kv+f/7n/4/8OACwARgBLAFEAQwAlAPz/1/+j/3D/Yf9Y/3T/nP/I/+//DAAsACsAHgAJAPL/4//c/+L/3P/Y/8//xf+1/67/tf+0/8n/0v/q//n/9P/2/+r/5//s//z/CQAUAB8ANAA+ADwAPgAvABwAGwAeACAAKAAsAEQAUgBOAEUALwAPAPv/4f/e//L//P8RABwAJwArADEAJgAQABcAEwAZABgAGQAbABsALQAyAE4AUgBFADwAGgAHAN3/uv+p/6D/tP/U/w8ARgBzAJMAjgBpADgABwDF/5f/av9T/3D/mP/M//7/KwBJAF0AWQBAABgA6//D/5j/hf96/4n/pf+5/9b/5P/x/+//7P/o/9b/3f/m/+b/5v/p/+X/7f8AAAEACgAGAPH/5P/V/8D/uf+5/8v/6f8HADAATABeAEUAIgACANr/vP+v/6//wv/u/wkAHQAoACcAGgAIAPj/6//u//D/+/8XADIASwBbAFAALgAHAOH/yv+6/7v/xP/M/+L/5f/p//L/+f8QACQAPABIAE4AUAAYAOX/sv+J/4T/j/+o/83/AgA5AGMAdgBmAEsAMAALAPP/wP+j/6P/rf/X//v/FQAcAB0AHQD7/9f/wf+2/7z/zv/v//X/+P/6//D/6f/k/+H/7v/0//7/GQAkADUAOQA9AD8ARgBOAEAAMQAUAPv/5f/R/8b/vP/D/87/6P8HABgALQAjABoADwAAAPb/3//g/93/8P8FABYAJgAcABkADgD9/+v/2v/S/9r/5v/3/wcAGQA0AEsAVQBXAFoASAAxABYA6//B/5n/hf+H/5X/vP/n/ykAZwCFAIcAZgBBAAgA0/+v/5f/k/+q/9z/DwAvAD0AQQAzABUAAQDp/8//zP/A/8b/0f/h//H/8f/s/+7/9//7/wIA9v/d/9X/0P/Z/+X/5f/v/+r/8P/z//n//v/5//7/AAD5/+T/1f/A/8P/1v/j//X/CAAcAB4AEAD7/9//z//F/8r/zv/d/wIAKABOAFcASgAVAOH/v/+l/6L/uf/q/zcAhAC3AMsArwCBAEEA+/++/5r/i/+T/8P/+/8jAEgAVQBJADoAMgAwADUAQQBAADsAMwAuAAsA7v/Q/8D/y//V//X/EQAwAD4AQgAkAPX/5P/E/7//0P/V//P/CwAMAAYA+P/d/+D/2//a/+j/7P8KACYANQAuABcA8f/N/7L/p/+t/6r/u//V/+z/AAAOAA8A/f/w/9v/y//J/9H/3P/q/wwAIwA3AEQAOAAuABsABQD3/+T/3P/X/9H/3f/4/yYAaQCQAJgApgCYAHIARAAEALv/k/+B/3v/kP+1/97/CQA4AE8AXQBIACMABQDe/7//rf+p/7D/yP/h//j/EwAdACgAGgAAAO3/2//a/9X/0P/D/7f/tP+x/77/zP/V/+T/7f/7/woADQAAAP//AgABABEAFwAgACkAMwAkABAA+//m/9//2P/c/+P/+P8LACgALAAcAAYA7//j/9L/zf/V/+v/CAAoAD0ARABBADgALAAeAPv/1f/H/7X/x//g//v/JQA6AE4AVQBLADMAGQDz/87/tv+f/4//lP+p/8X/7P8BACMAPABHAFMAQwAkABMAAADs//T/8v/z/woADwAZACIAIwAcAAMA6//L/7j/rv+7/9P/4P/8/woAHwAhABkAGQALAA0ADQAMAAsAFQAjACIAIgAhABgACQAKAP7/6P/j/+L/5f/t//b///8NAA4ACgAUABEADgAJAPv/+P/0//b/9f/3//3/AgAIAP3/8//q/+X/5//p/+//7//m/+P/3P/k////EgAmADIALAAdABMAAADU/7b/r/+u/7//4/8CABcALwA4ADkALAAeAAoA9P/w/9f/v/+0/6z/mf+d/6z/uv/j//j/GAAmAB4AEgD9/+L/uf+q/6L/rv/L/+r/DgAdADAANAAaAAEA9f/n/+z//P8TACwALgAsACoAJAANAPv/7f/l/+j/7f/1//v/CQACAAYACwD5//P/5f/u//j/CQAiACsANgAlAB0AGAAlACoAHgASAPf/9f/o/+D/2P///yoATwB5AHMAdABeADcADADh/8D/rP+y/8D/1//3/xEAJgAvADQAOwA8ACsAEwABAOz/3f/X/9v/6f/p//X//v8BAAYAAAAOAAUA///y/+T/1v++/8D/wv/I/9f/4f/j//3/BwAHAAoACQAGAAcAGwAcABsAKAAqACcAEwD8/+3/0P/E/8H/yv/f//L/EAAQABIADwD+//H/4P/o/+f/5//o/+T/+P8XAEMAXwB3AIEAVgAjAO7/vv+D/2b/b/+R/97/GwBnAIYAgwB0AEsAIADm/8n/tP+z/8T/yf/d/+r/+f8PACYAOgA6ADcANAAnABcACAD6//H/7v/t/wAADgAIABMAFQAMAAgAAQD///j/+P8HABUADwAJAAQA+//y/+r/7//d/8H/vv++/7r/v//W/+b/AQAMAAkACwD8//b/6//d/9L/1f/J/7n/wv/I/9v/7v8CABMAHAAnABoA+f/Z/9L/zv/O/+//BQASACkAJQAVAAwA///w/+r/9f8LAC4ARQBrAHgAgQCRAHoAXQAtABAA9f/i/9j/xv/I/8z/2v/8/xcANgBZAGMAZQBSAEkAPQATAPT/6P/l/+////8EABIAGQAjACsAHAASAAUAAAD4//H/9f/r//P/AAAIAAUAAAD3/+T/7P/8/xEABgD7//3/9P/6//3///8BAA0ABgDn/8f/qv+U/4r/m/+1/9f/CAAaACcAMAAHAOn/z/+z/7T/wP/T/+//CQARAAUA+f/r/9r/zP/G/9H/4P/y/wMADAAWAB0AHgAaABEADQADAPv/9f/t/+X/1//Z/+f/AAAjADcARwBYAFgATAAxAAsA6P/N/73/r/+2/83/2P/w//z//f8GAAoAKAA9ADYALgAmAAoA9v/k/8z/0f/U/+r//f8CAAUABAD5//j/BAAGAAwAFwAnABsADQACAOr/1//Z/9n/4P/7/xIAJgAiAB8AEwAJAPn/4f/W/9P/4v/1//3/AAAAAO3/9v8LABIAIwAyADgAOwAyABkA/f/n/9T/3f/8/xcAQwBjAHYAhwCAAGkATwAmAAAA7f/a/9//5v/v/wkAFAAoADkANwA1ACEAGAAdABIAAgDt/+r/4v/b/+D/2f/k//L/AAAFAAIA9P/j/97/1//Q/9T/3f/l//n/9P/n/+T/1f/O/87/2f/d//P/AAAKABsAFwAYAAgA//8BAAAA8v/h/9//2f/Q/87/zv/X/+P/6//+/wAACAAOAAcABwD2/+f/9v8AABIAKgArAEMAQwAlAAAA2P/A/7D/u//Q/+r/GABSAHoAiACIAGgAPwAdAO3/vP+n/6T/nv+s/8v/6P8JACgAOQBDAEUAPQAhAOv/yP+r/5z/q//B/+//GgA7AFIAUwBIADQAEwDy/9j/zf/Q/8H/x//X/93/9f///wYADQAHAAsADAD4/+H/3P/W/9H/3v/9/w0AIQAqAB8ADAD3/+n/1v/T/+T//f8eADkAPwA3ADkAMwAQAPP/5f/j/+n/8v8AABYAHwAtADoAMgAzACcAEgD+//T/8f/q//X/CQASABcAIgApADYAPAA5AC8AHQD4/9H/uf+q/7j/1P/4/xwAOABQAFoASQAvABgA+f/d/8n/x//M/9T/3P/r/wgAGAAeABkADAAFAAQA9P/f/9P/yv/J/9v/7f/0/wcAAQAAAP7/7v/v/+r/4v/a/+r/8P/p/+n/6P/t/+z/5//i/9v/5v/x/+//+f/v//f/BgACAAgACQAQABcAEQANAAoADAAJAAEA+f/+/xgAKwAxACoAGgAMAAQA7f/R/7f/rf/D/9n/9v8lAE4AZgBbAEYAMgAAANb/tf+v/8P/0//t/woAHwAnACYAKQAhABAABAD+/wAA+P/y/+//7P/j/+D/4f/l//X///8WADQAQQBGADkAJgAYAP//7v/j/9n/4P/x/wMAFgAqACAAFwAjABgADgAIAP3/+v8EAAAA/f8GAAcAAgD4//v/+////wQA9//r/+f/5//x//j/9v/8//3/CgAXABgAGAAUABgAEQALAP3/7v/f/9D/2P/f//D/AAAFAA8AJAAuACUAIAAfABoACgD3/+j/1//T/9b/0v/U/+b/8v/+/xYAMAA+AEYASQA6ADAAJgAZAP3/5P/a/9j/6P/u//z/DgAYACMAJQAhABQA/v/x/+3/6P/l/+3/9v8AAPz/+P/7/+z/3P/Z/+T/6v///wIA9P/2//H/3//X/9T/zv/O/9L/4f/x//v/+///////+P/1/+z/5f/d/+H/4P/Y/97/1f/a////HgBBAFoAVABEADEAEgDs/83/tP+2/9L/8v8iAFIAeQCRAJMAhQBpADsAAADQ/6z/kP+J/5r/uf/2/ywAWgB8AIcAeABKAB4A7f/D/7H/qP+f/6//z//p/wUAHwAxAEMATQBKADwAKgAfAA0AAwAAAPD/5v/o/+z/7//p/+f/7v/4//3/AwANABAAGgAMAAEAAAADABIAGQAmAB8AIwAhAAMA7f/h/+H/6P/6/wsAEgAXAAoA7v/a/8P/uf/D/+//GAAzAE8AUgBFACoABQDX/8H/wv/K/+D/BgAyAFQAdQB9AGoAXwBDABMA2/+w/6L/kv+e/6r/xf/q/xoAQABMAFwAVwBHACUAAwDm/9P/zP/J/8z/3v/0/wAACQAGABIAGAAVABEACAAMABAABgDx/93/xv+2/7n/vf/S/+P/9v8LABEAFQAPAAkA/v/4/+z/5v/o/+f/6//s/+7/2//S/9b/1P/f/+v/9/8EABMAHgAfABoAFAAKAAAA//8AAP//AgACAAsAEAAMAAkA+//3/+X/2//n//j/CwAoAEgAYwB6AHYAbABWADkAGgDv/8z/wf/K/9X/4v/9/yEAQABSAFYASAA/ADQAHwD//+z/5f/e/9v/3//z//b/AQD5/+r/7f/0////CQAVABgAHQARAAkA/f/x/+j/5//w//3/DwASABwACAD1/+j/0v/U/9v/6//2/wIAAQDt/9L/uv+4/7//zf/j//n/BgANABAADAAFAAMAAQABAAAAAgD6//P/8P/8/w4AIQA+AEcAUQBJADEAFwD6/+b/6//y//3/FQAoAD4ATgBVAEQAPQAyABQABQDY/7j/uf+u/7T/xf/v/x0ANwBKAFMASAAxAAkA3f/B/6z/q/+q/7D/yP/R/97/7//n/+r/6f/n//P/8//1/+n/5P/o/+f/7f/8//f/9f/2/+r/5v/m//L//P8NACMALgA2ADMAJAAPAPX/3f/L/8b/vf+8/8v/3P/0/wsAJwA6AEEATQBLADoAHgD8/9j/wP+4/93///8YAE8AYgBtAFUAKwAAANn/zv/E/8T/2//+/xkALwBIAFYAWQBaAEgAKwAIAOD/tP+c/5v/rf/W/w4APQBjAHwAdwBkADcAAwDM/6X/lP+O/6H/vv/l/wsAKgA9AD8ALgAbAPr/3v/a/8j/wv/I/9b/6P/+/w8AGgAiACAAEgAFAPj/3//0/wAABAAWABIAFAAUAAUA+P/8////DQARAA0ACAD///H/6P/p/+3///8MABAAAADx/9//0P/O/8v/5v8JACEAMQAxACIABQDr/8//wP/M/+D/+/8aAC0AQwBbAEwAQAArAAsA/f/i/9D/xP/B/83/1//p//3/DgAtADcAMwA0ABwAAQDu/9P/xv/F/8//5/8AABAAFwAXABQADgAHAAoADAD8//P/5P/G/7L/pv+o/7j/1v/7/yAAPABEADoAMAAcAA8ABQD5//r/+/8AAAYADwABAPj/+f/v//T//f8CAAkAEgAZAB8AHAAaABcACgAFAAUABwAJAA0AGwAwACoAIgAgAAoA+P/i/7z/qf+t/7f/2f/4/xAAMwBQAF4AWwBIADEAFwDx/9b/wP+r/67/vP/U/+//DAAkADMASABJAEQAPgAcAPX/4//C/7f/x/+7/8b/4//q/wQAGwAhAC8ANgA3ADQAHwAAAOn/3P/R/9b/5v/x//z/BgALABEAFwAYABgAHwAsACQAHAAWAAMA+v/o/8//zP/D/8H/2v/4/xIAIgAvADEALQAlABUAAQD2/+f/3v/g/9n/4P/n/+v/AAAQABgAKQAnABQAAQDW/7n/tv+4/8P/4/8HACYAPgBEAEUAOwAiAAUA5//R/8P/uP+1/7b/y//r/wgAKABDAFEATwBEAEMAMwARAPb/2P/H/8b/zf/U/+z/AwAbAC4ANAA6ACYACgD5/+f/zf/B/8r/2f/r/wMAFAAeAB0ABQDt/+j/5v/d/+n/+v8NACEALwA3ADIAIgAUAO//2//X/8j/1v/O/9v/9f8BABQAJgAuACAADgD///X/7f/z////EQAuAFIAZgBuAGYAUAAvAAAA3P+5/6j/o//B//f/JwBRAHAAgwB5AGAAPQAQANz/t/+c/5X/lv+k/8j/5P8KACcAOgBKAEcAJwAJAPj/3v/M/8P/wv/O/+D/9P////3/BQARAAoAAAD2//T/7f/t//f/+f8FAAkAAgD7//L/9P/w/+3/7//x//v/DQAXABgAFwATAAwACwAIAP3/7v/i/+X/6v/s//f/BgAXACIAJAAeAA8AAADw/+X/4//n//j/AQALABkAFwAXAAwAAAD2/+P/5//j/+X/7f/4/wkAGwA6AEcASgBDAD4ANgAcAAgA6P/G/6//qP+7/8z/4v8GACUAOwBHAEUAOAAsABMA+v/w/+b/5v/r//H/9v/6//7/BwD5//L////2//f/7v/j/93/3P/k/+b/9P/z/+7/9//9/wIACgAUABgAFwAUABMAFQAPAAYABgABAPH/4v/V/9f/5P/s//T/AAANABQAEQAGAPH/4P/e/97/4f/n/wYAJQAxAEIARQA4ACkAHAAcABIABQD///P/8P/1//v/+/8FABwALgAzAEYASwAzABgA6//R/8X/tv+5/8T/3/8AAB4AOwBDADkAJQAhAAwA8//u/9j/2v/c/9f/5//t/+//9//7/wMABQAFAAkADwAMAAsACQD+////9v/0/+z/6P/X/8T/xv+//8b/zv/d//H/BgAgADEANAAxABsA+//g/8b/u/+2/7j/0P/g/+//CwAMAA8ADgD///L/3//a/9r/0v/Y/+//AAAPACgALAAsADcALAAaAAEA8P/j/9f/4f/2/x4ASABpAIYAcgBWADsA/v/S/6b/i/+a/7D/0//+/ygATwB4AHwAcABlAD8AFwD4/97/y//O/8z/1P/u/wEAHwAqADYAQgBGAEEAIwAPAAAA7f/e/9P/zP/Z/+L/3//k/+j/9v8CAAAAFQAbABYAMQA1ADMANQAhABUAEAD+/+n/3f/U/8H/uP+9/8X/zf/g//X//v8NABgAIAAlAB4AFAAHAP//BQAUABUAHwAtACwAKAAOAPz/6v/Q/8v/yv/R/+v//v8XAD0ARQBGAEoAOAAjAAAA3v/K/7f/s/++/9L/5v8AABIAGAAgAB0ACQDw/9v/yP/C/7z/wf/U/+X/+/8JABwAJAAuADIALAAmABUABQD1/+f/3//g/9n/3f/l/+T/7f/w//f///8LAA0ADgAMAAAA8//q//P/7v/0/wMAEAAbACEAJQAbAAwAAQAAAPT/8v/1//L//P8BAPv/9P/5//P/9P/6//3/EgAbACkAMwApABkABQDs/9T/0//S/+f/BQAcAEAAUgBXAFMAQwAmAAEA3P/H/7z/tP/F/93/AAAWACwAOgA0ACcAEQAAAOb/5v/t//X/DgAbACMAIgAdABMAAADx/+7/4//i/+7/8//9/wMABgAFAP7//v8BAAAAAAAEAP//AAAIAPr/+f/7//z/AQAOABYAHAAvACIACQAAAN3/wP/E/8H/yv/j//j/EAAuAC4AGQAUAPj/3//Y/8j/yf/S/+r/AAATADIAOAAuACMADwD9/+3/3v/S/87/6f8AABIAKAAwADYANAAqABwA///h/9b/vf+8/8j/0//o////FgAnADQALwAqACQADgDx/9v/tP+k/6T/m/+2/9H/+P8jAEEAWwBaAEoAMgAPAOz/2v/N/7b/vP/F/9X/5P/q/wAAFQAfAB4ALAA4AEQAQQA2ADUAJQAMAPL/5//k/+j/8f/z//z/AwAcAC4AMQAvACYAGAD5/9n/xv++/7r/xv/U/+n/BAAcAC0AKwAjABwACAD8//X/5f/i/+D/5P/1/wQADgAiACoALAA7ADMAKAAUAPz/6//S/7//y//d//X/FgAqADEANgAxACAADgD9/+j/2P/Y/9b/6v8AAAwAHwAoACsALwAoABkAFAAIAPj/7//s//j///8HAAwABwAIAAQAAAD1/+3/7f/o//b/CAATACMAKwA9ADcAJgAWAP3/5P/J/7b/qf+x/8P/3v/t//3/EwAaABEABAD1/+b/6P/Z/9T/1v/r/wQAFgAsACUAKAATAPP/4v+4/6b/pf+u/8j/5P8SADcAVQB0AGsAWgA4APr/0f+t/5n/mf+q/9X/AgAVACIANwA2ADIAIgAMAPr/6//h/8r/vP+6/7X/uv/J/+D/+v8SACAALwAuACcAHwALAP//4//T/9L/2f/h//n/DwAcADMAPQAzACoAHQACAPX/4f/k//L/9P8IABcAGQAUAAwACAAKABIAEgAQABIACwAEAAcABwD4//L/6P/t//n//v8KABMAIAAlACIADQD6/+z/4P/c/+f/8f/7/wsAIgA2ADQAPgA9ADIAJgAXAAYA9P/o/93/2f/j//r/DAAsADQANgAuAB0AEgD6//H/5P/V/9X/2P/a/93/5v/6//n///8DAPz/BQAEAAAA/f///wEABwABAPf/8v/i/9f/yf+//8T/1P/i//X/BAAJABgAHgAfACIAIAAYAAQA6//X/8b/xP/H/9T/9v8SACoAPAA4AB8ACwDn/8//zP/I/+D/+P8NAB4AMgA3ACsALAAcAAwA///w/+D/2f/O/8z/2//m/wYAKQA/AE4AUwBEADEAFgDl/8T/t/+u/7b/zP/Z//P/CQAXACIAJQAeABIADAAAAOv/2//M/7//yf/Q/+b/AAAUACoAMAA1ACsAGgARAAUA8P/t/+//8P/7/wAACQASABUADAAKABAAEgAPAAEA/P8AAP//AAACAAUAHQAqAC0AKgAeABUACgACAPb/7v/t/+v/7//y//H/+P8CAAkACQAEAAMA/P8BAAMABgAcACwANQAyABsA9v/V/7X/rv+7/9P/AQA0AF4AcgB0AF0AOQAMAOT/xv+v/6//sv/D/9L/6/8DABYAJwAtADQANAAsABcAAgDp/9P/yP/E/87/3v/o//b/BwASACAAKQArACgAGQAFAOn/1f/N/9f/4v/1/wsAEQAXAA8AAgD3//b/+P/6/wYACgAHAA0ADAAFAAcAAQAFAP3/5P/M/7//wf+//9L/8f8QACUAJwAfAA0A/P/y/+j/9f8KABYAJwA1ACwAFgD+/9f/wf+4/7z/xf/a//f/DwAqADwARAA3ADcALAAaAA0A9//q/9T/xv++/8n/3v/x/wcADwAdACgALAAqABAA8P/V/8X/vv+6/8n/4//9/xAAHQAeAB4AIQAaABQAHAAgABsAFgAaAP//4v/f/93/5P/u/wAADQAXACEAIAAOAAUABgD8////EQAXACAAKAAcAA4A+v/2//v/BwAhAC8ANgA4ACoADQD1/87/tv+r/67/yv/h/wcANABSAFcAUABJACwAEADn/8L/wP+3/7j/x//k/wIAIgA5AD4APwAuABsAAQDl/9H/zf/T/9n/3//j//D/BQAWABoAIwAnACUAGgAMAP7/6v/l/+L/4v/r//L/AAAFAP3/AgAEAAAAAAABAAQA+f/u/+v/5f/r/+3/6P/4/wMA/f/2//D/7f/1//r/+P/9/wgADgAOABEACgD4/+7/8//z/+r/7P/1//n/9v/4//7/9//y//H/9f/z//r/AAAJABIAFAAaABkAIAARAAAA8P/c/9//zf/D/8v/0P/h/wMAHAA+AGAAYQBmAGAAOAAVAPb/x/++/7z/wP/c//L/FwA5AEIARwBGAEAAOAAbAAEA9//n/9n/1v/a/+D/8v8BABAAIAAzADQAMQAyABsACQD1/9//1f/X/+D/3//l/+z/8v/4//3/AQAOAA0ADAATAA0AFgAWAAQA+P/v/9//3f/j/+n/BQAUAB8AKgAmABoAEQARAAcA/f/8//3/9v/w/+3/2P/P/9j/4//+/xgAJQArACUAFwACAOj/4f/d/97/9/8UADUASQBMAEIAMQAXAPv/5f/U/9b/4f/m/+//BQAQABcAHAAaAB0AFAATABMABwD8//H/5P/S/8r/0f/c//D/CgAdACYAJAAbABQAAQDr/9P/w//G/8//5v/s/+///P/4//z/+f/8/wQAAQAGAAgABQACAAcADAAMAAsACwAFAPr/9P/t/+b/6v/u//T/+//8//H/5P/j/+L/4//p//n/CwARAA4AEgATABEADgAFAAIAAwAEAAEA9v/r/+3/8//9/w0AGwAwAEUARwA/AC4AFQDy/9X/xv/G/9P/3//+/xgAJgAvADAAKgAZAAkA9//f/9f/2P/U/93/9P8SAB4AIAAlACIAFwAGAP7/9P/7/wYADwAZACUAIgAVAAgA8P/q/+z/7v/4/wwAFwAcAB0AGAAUABAAFQAPABAAFQAOAAAA/f/2/+n/6f/u//b//P8IABEAEAAUABkADQAAAPn/5f/V/9j/2f/q//n/DQAfAB8AHAAAAOv/3v/O/8v/1f/k/wcALQA6AE4ASwA6ACAA///m/9T/yP+w/7L/wf/M/+H/+v8VACgANAAuAB0ADAD1/+H/3f/V/+X//v8GABYAGAAQAP//7P/i/+T/6f/q//j/AgABAPf/8v/0//f//f8FABUAHgAcABYADwABAAAA/P/2//z//P/+//3//v/+//7/AAAEAAAA//8GAA4AEgAUABIAFQAWAA8ACQALAAkA9//v/+f/6v/2/wIAFwAoADYALwAgABIA+P/b/9H/zP/X/+//CwArADsAUABRADwALwAZAP7/6P/S/8X/wv/E/83/5P8AABUAMAA4ADQAMgApABoABAD7/+7/3f/S/9T/yP/F/9P/4P/1/wQAGAAZAA0ABwD8/+//7//2//7/DAAYACUAJwAeABEA/P/s/+P/2v/g/+7/AwAfADMAOAA2ACYADgD8/+j/0P/J/8//2v/5/w8AIgA1ADsANAAlAAwA5f/S/8v/x//V/+L/8v/9/wkAEAASABEACgAJAAAA8//t/+r/9f8AAAgAFQAeACIAHgAaAAIA5f/Q/77/u//G/9P/6f8FABoAKAAsACUAHQAUAAMA/f/0/+n/4v/U/9v/6f/y//z/AQAMABcAHwAhABMABgD9//H/6P/o/+f/7P/x/+j/5v/r//r/DgAVABsAJwAlABwAGgARABQAGAARAA8ACgAPAAoAAAD7//P/8P/v//H/+/8EAAkAEgAQAAwA/v/u/+b/4f/q//b/BwAfADEANgA3ACUADwDm/8T/t/+l/6r/u//d//n/JgBNAF0AZgBWADUADwDu/9D/zP/M/9n/7v8IACkANgA1ACoAIgAXAAUA9f/x//X//f8CAPv/8//+/wQAAwAHAAwAEgAYAB8AGgATABEAEAAWAAYA8v/6//3///8HAAMABQAFAAEA/P/w/+v/7//6/wEADwASABAAEgD8/+X/2P/R/8r/x//X/9//9P8JABcAFgAHAAMA+f/t/9f/zv/O/9f/7////xkAKwAxADEAGgAEAOv/yv+2/7H/uv/P//D/FwAxAEIAVABTAEIALQAQAO7/0f+y/5j/mf+r/8n/8f8PACcAMAA3ADcAKQAbAAwAAAD0/+v/4P/e/9r/1f/j/+n/9v8KABIAEAAOAAYADAA=\" type=\"audio/wav\" />\n",
       "                    Your browser does not support the audio element.\n",
       "                </audio>\n",
       "              "
      ],
      "text/plain": [
       "<IPython.lib.display.Audio object>"
      ]
     },
     "execution_count": 28,
     "metadata": {},
     "output_type": "execute_result"
    }
   ],
   "source": [
    "import IPython.display as ipd\n",
    "import numpy as np\n",
    "import random\n",
    "\n",
    "rand_int = random.randint(0, len(common_voice_train)-1)\n",
    "\n",
    "ipd.Audio(data=np.asarray(common_voice_train[rand_int][\"speech\"]), autoplay=True, rate=16000)"
   ]
  },
  {
   "cell_type": "markdown",
   "metadata": {
    "id": "1MaL9J2dNVtG"
   },
   "source": [
    "It can be heard, that the speakers change along with their speaking rate, accent, and background environment, etc. Overall, the recordings sound acceptably clear though, which is to be expected from a crowd-sourced read speech corpus.\n",
    "\n",
    "Let's do a final check that the data is correctly prepared, by printing the shape of the speech input, its transcription, and the corresponding sampling rate.\n",
    "\n",
    "**Note**: *You can click the following cell a couple of times to verify multiple samples.*"
   ]
  },
  {
   "cell_type": "code",
   "execution_count": 29,
   "metadata": {
    "colab": {
     "base_uri": "https://localhost:8080/"
    },
    "id": "1Po2g7YPuRTx",
    "outputId": "96b0b82c-a5df-4ae6-d17b-9c7d4f710b42"
   },
   "outputs": [
    {
     "name": "stdout",
     "output_type": "stream",
     "text": [
      "Target text: d'ith mé roinnt aráin \n",
      "Input array shape: (95232,)\n",
      "Sampling rate: 16000\n"
     ]
    }
   ],
   "source": [
    "rand_int = random.randint(0, len(common_voice_train)-1)\n",
    "\n",
    "print(\"Target text:\", common_voice_train[rand_int][\"target_text\"])\n",
    "print(\"Input array shape:\", np.asarray(common_voice_train[rand_int][\"speech\"]).shape)\n",
    "print(\"Sampling rate:\", common_voice_train[rand_int][\"sampling_rate\"])"
   ]
  },
  {
   "cell_type": "markdown",
   "metadata": {
    "id": "M9teZcSwOBJ4"
   },
   "source": [
    "Good! Everything looks fine - the data is a 1-dimensional array, the sampling rate always corresponds to 16kHz, and the target text is normalized."
   ]
  },
  {
   "cell_type": "markdown",
   "metadata": {
    "id": "k3Pbn5WvOYZF"
   },
   "source": [
    "Finally, we can process the dataset to the format expected by the model for training. We will again make use of the `map(...)` function.\n",
    "\n",
    "First, we check that the data samples have the same sampling rate of 16kHz.\n",
    "Second, we extract the `input_values` from the loaded audio file. In our case, this includes only normalization, but for other speech models, this step could correspond to extracting, *e.g.* [Log-Mel features](https://en.wikipedia.org/wiki/Mel-frequency_cepstrum). \n",
    "Third, we encode the transcriptions to label ids.\n",
    "\n",
    "**Note**: This mapping function is a good example of how the `Wav2Vec2Processor` class should be used. In \"normal\" context, calling `processor(...)` is redirected to `Wav2Vec2FeatureExtractor`'s call method. When wrapping the processor into the `as_target_processor` context, however, the same method is redirected to `Wav2Vec2CTCTokenizer`'s call method.\n",
    "For more information please check the [docs](https://huggingface.co/transformers/master/model_doc/wav2vec2.html#transformers.Wav2Vec2Processor.__call__)."
   ]
  },
  {
   "cell_type": "code",
   "execution_count": 30,
   "metadata": {
    "id": "eJY7I0XAwe9p"
   },
   "outputs": [],
   "source": [
    "def prepare_dataset(batch):\n",
    "    # check that all files have the correct sampling rate\n",
    "    assert (\n",
    "        len(set(batch[\"sampling_rate\"])) == 1\n",
    "    ), f\"Make sure all inputs have the same sampling rate of {processor.feature_extractor.sampling_rate}.\"\n",
    "\n",
    "    batch[\"input_values\"] = processor(batch[\"speech\"], sampling_rate=batch[\"sampling_rate\"][0]).input_values\n",
    "    \n",
    "    with processor.as_target_processor():\n",
    "        batch[\"labels\"] = processor(batch[\"target_text\"]).input_ids\n",
    "    return batch"
   ]
  },
  {
   "cell_type": "code",
   "execution_count": 31,
   "metadata": {
    "colab": {
     "base_uri": "https://localhost:8080/",
     "height": 509,
     "referenced_widgets": [
      "4797f1acd9924b4e97f12f964c83078c",
      "73940df84ffd4e0f96637342e9fd12b7",
      "5370c0f2d54b45c0a89f11fb5b70cd4b",
      "018c1f8e198e4df4b480e609bd1be602",
      "fa7926bbe77e48b3a0648b45f5d2dc7a",
      "020bdb330b0d40f5b89697ff37025f69",
      "d35c15beeb33476894b07c3563f8facd",
      "768ab09956774f50a79b2493a8bf179b",
      "7ef969e47c2d429a9848d5ab3f5bb2d9",
      "fe62265afdc74026b7e9c5a50ef61d2c",
      "015c5690e1ea4281954c7efda1c80a6a",
      "f4135dd72864445391f43f387635bfdc",
      "2f727c76652944e3892dd584bea11af2",
      "dec796237765477ea904834d9a824b61",
      "8df9d19602cb4951b397c385458a11ef",
      "923ed9e127524187ab8cfcac31164ba7",
      "bf9e57d81135412d9a9a2281f28bd52a",
      "c41610c0baef412984f8661d96e08b7e",
      "579b6055028f473981ce789a0733a753",
      "4fb7347e9ca542e6ab9003bf4db218e0",
      "3133b378b9294a759c8dfb786ed8f815",
      "6de66d6b7a73434cbdc59b2109bdf0a0",
      "6d4a26d876fb4ac6b5948a09945bdc6b",
      "0987aac282af415da2fbc9dc1b4d5069",
      "ac35dca0845149a284b9867d9e607232",
      "b54bff6261964119bcb562c1a9f74ce6",
      "5071a31d06f544a5b7340a4e863d8fdf",
      "542027ba12f444d586e8072452badea0",
      "49defa4284554baf85f32de242b22709",
      "b2473405490e4556bf30c0cc81237aa5",
      "02bdb06c176145feaa842b97ae58609c",
      "bc41384bbae04044b9780651c6b5a47c",
      "7040945accce4739a41746cc75bb7fce",
      "71011f0d2bc942ac8f9ea1d1fd30c78d",
      "6f60626242534f44a6381195e6eb6530",
      "9fee9d9dd1164d97a9109e942444c332",
      "5ab30242cd154ec0b560c23c0f178546",
      "0ffcbedb8d4444508ac0c3c0b41ea8ac",
      "f9efaa7678c2450f847ff2c2f21ff96e",
      "c126ea97019149848396e593cfab016f",
      "0f99011a13754ed99f3c51a478b0e793",
      "4abe2731ec624729b401d60a392cae63",
      "bd187486ac2548f2961cfcb63d852de1",
      "3f780f0aa8834fc189b292e0474e2ffa",
      "231c66f195d34f86b216805518f4bccd",
      "58f3e8002f984594ac05c973aa78ef69",
      "ec36a94ee2574ac8b227ccaefdee5520",
      "a868dea9d9b047a4b853b390e138e4c1",
      "6462bd9561e24abb98fce6ce4675d810",
      "bd3447291ce54812af10ac6245ea4328",
      "e273548a15aa4d4994132b317adb66fc",
      "f6930dd5519d4dfda64c597def220a30",
      "7d62810674c8482abe46c60fc08884b4",
      "80697300a4394b909f1c499ba80aeb13",
      "ab72c80dfd5e4ab19a183f4204486b59",
      "56ad6231a0a04228be29ceecbc6b7c0e",
      "b6221b4c04e64c9da9eb9e11539bac89",
      "dc6862530f6e429ba61a169b4c95722c",
      "02d1f77324854fbca0df9384c57faac8",
      "8e63ba7f1fd24555bf11bc9dbe9c770b",
      "704ea5e05fd744d998b76d6435992995",
      "d4a3f79644fc41848450ba29e6fdfc3d",
      "405b5de4ae854cf9896f63d15f2207dd",
      "26e7bab0f3bf4797bfcef83dcace24f0"
     ]
    },
    "id": "-np9xYK-wl8q",
    "outputId": "6155b5f0-a5a2-4e20-d0e2-0b3a60c13f98"
   },
   "outputs": [
    {
     "name": "stdout",
     "output_type": "stream",
     "text": [
      "   "
     ]
    },
    {
     "data": {
      "application/vnd.jupyter.widget-view+json": {
       "model_id": "dd81d7601d704c7bb108f933d6f63398",
       "version_major": 2,
       "version_minor": 0
      },
      "text/plain": [
       "HBox(children=(FloatProgress(value=0.0, description='#0', max=33.0, style=ProgressStyle(description_width='ini…"
      ]
     },
     "metadata": {},
     "output_type": "display_data"
    },
    {
     "name": "stdout",
     "output_type": "stream",
     "text": [
      " "
     ]
    },
    {
     "data": {
      "application/vnd.jupyter.widget-view+json": {
       "model_id": "7c12c55c93db4e15ab529439c658dc7e",
       "version_major": 2,
       "version_minor": 0
      },
      "text/plain": [
       "HBox(children=(FloatProgress(value=0.0, description='#1', max=33.0, style=ProgressStyle(description_width='ini…"
      ]
     },
     "metadata": {},
     "output_type": "display_data"
    },
    {
     "data": {
      "application/vnd.jupyter.widget-view+json": {
       "model_id": "ad10efda7fea40bb807e2eb9f93fa9c0",
       "version_major": 2,
       "version_minor": 0
      },
      "text/plain": [
       "HBox(children=(FloatProgress(value=0.0, description='#3', max=33.0, style=ProgressStyle(description_width='ini…"
      ]
     },
     "metadata": {},
     "output_type": "display_data"
    },
    {
     "data": {
      "application/vnd.jupyter.widget-view+json": {
       "model_id": "ef9f7c3a0e4040f6ad9c6fc10df865fb",
       "version_major": 2,
       "version_minor": 0
      },
      "text/plain": [
       "HBox(children=(FloatProgress(value=0.0, description='#2', max=33.0, style=ProgressStyle(description_width='ini…"
      ]
     },
     "metadata": {},
     "output_type": "display_data"
    },
    {
     "name": "stdout",
     "output_type": "stream",
     "text": [
      "\n",
      "\n",
      "\n",
      "\n",
      "   "
     ]
    },
    {
     "data": {
      "application/vnd.jupyter.widget-view+json": {
       "model_id": "c0067622d97c481b822d62d0945c4bb0",
       "version_major": 2,
       "version_minor": 0
      },
      "text/plain": [
       "HBox(children=(FloatProgress(value=0.0, description='#0', max=16.0, style=ProgressStyle(description_width='ini…"
      ]
     },
     "metadata": {},
     "output_type": "display_data"
    },
    {
     "data": {
      "application/vnd.jupyter.widget-view+json": {
       "model_id": "63745fb94e1049309bda0797593b08fe",
       "version_major": 2,
       "version_minor": 0
      },
      "text/plain": [
       "HBox(children=(FloatProgress(value=0.0, description='#1', max=16.0, style=ProgressStyle(description_width='ini…"
      ]
     },
     "metadata": {},
     "output_type": "display_data"
    },
    {
     "name": "stdout",
     "output_type": "stream",
     "text": [
      " "
     ]
    },
    {
     "data": {
      "application/vnd.jupyter.widget-view+json": {
       "model_id": "a248d68d32e94a9c9acb4d48855f258b",
       "version_major": 2,
       "version_minor": 0
      },
      "text/plain": [
       "HBox(children=(FloatProgress(value=0.0, description='#2', max=16.0, style=ProgressStyle(description_width='ini…"
      ]
     },
     "metadata": {},
     "output_type": "display_data"
    },
    {
     "data": {
      "application/vnd.jupyter.widget-view+json": {
       "model_id": "162e7c35221a405d8900dcd885b1762e",
       "version_major": 2,
       "version_minor": 0
      },
      "text/plain": [
       "HBox(children=(FloatProgress(value=0.0, description='#3', max=16.0, style=ProgressStyle(description_width='ini…"
      ]
     },
     "metadata": {},
     "output_type": "display_data"
    },
    {
     "name": "stdout",
     "output_type": "stream",
     "text": [
      "\n",
      "\n",
      "\n",
      "\n"
     ]
    }
   ],
   "source": [
    "common_voice_train = common_voice_train.map(prepare_dataset, remove_columns=common_voice_train.column_names, batch_size=8, num_proc=4, batched=True)\n",
    "common_voice_test = common_voice_test.map(prepare_dataset, remove_columns=common_voice_test.column_names, batch_size=8, num_proc=4, batched=True)"
   ]
  },
  {
   "cell_type": "markdown",
   "metadata": {
    "id": "gYlQkKVoRUos"
   },
   "source": [
    "## Training\n",
    "\n",
    "The data is processed so that we are ready to start setting up the training pipeline. We will make use of 🤗's [Trainer](https://huggingface.co/transformers/master/main_classes/trainer.html?highlight=trainer) for which we essentially need to do the following:\n",
    "\n",
    "- Define a data collator. In contrast to most NLP models, XLSR-Wav2Vec2 has a much larger input length than output length. *E.g.*, a sample of input length 50000 has an output length of no more than 100. Given the large input sizes, it is much more efficient to pad the training batches dynamically meaning that all training samples should only be padded to the longest sample in their batch and not the overall longest sample. Therefore, fine-tuning XLSR-Wav2Vec2 requires a special padding data collator, which we will define below\n",
    "\n",
    "- Evaluation metric. During training, the model should be evaluated on the word error rate. We should define a `compute_metrics` function accordingly\n",
    "\n",
    "- Load a pretrained checkpoint. We need to load a pretrained checkpoint and configure it correctly for training.\n",
    "\n",
    "- Define the training configuration.\n",
    "\n",
    "After having fine-tuned the model, we will correctly evaluate it on the test data and verify that it has indeed learned to correctly transcribe speech."
   ]
  },
  {
   "cell_type": "markdown",
   "metadata": {
    "id": "Slk403unUS91"
   },
   "source": [
    "### Set-up Trainer\n",
    "\n",
    "Let's start by defining the data collator. The code for the data collator was copied from [this example](https://github.com/huggingface/transformers/blob/9a06b6b11bdfc42eea08fa91d0c737d1863c99e3/examples/research_projects/wav2vec2/run_asr.py#L81).\n",
    "\n",
    "Without going into too many details, in contrast to the common data collators, this data collator treats the `input_values` and `labels` differently and thus applies to separate padding functions on them (again making use of XLSR-Wav2Vec2's context manager). This is necessary because in speech input and output are of different modalities meaning that they should not be treated by the same padding function.\n",
    "Analogous to the common data collators, the padding tokens in the labels with `-100` so that those tokens are **not** taken into account when computing the loss."
   ]
  },
  {
   "cell_type": "code",
   "execution_count": 32,
   "metadata": {
    "id": "tborvC9hx88e"
   },
   "outputs": [],
   "source": [
    "import torch\n",
    "\n",
    "from dataclasses import dataclass, field\n",
    "from typing import Any, Dict, List, Optional, Union\n",
    "\n",
    "@dataclass\n",
    "class DataCollatorCTCWithPadding:\n",
    "    \"\"\"\n",
    "    Data collator that will dynamically pad the inputs received.\n",
    "    Args:\n",
    "        processor (:class:`~transformers.Wav2Vec2Processor`)\n",
    "            The processor used for proccessing the data.\n",
    "        padding (:obj:`bool`, :obj:`str` or :class:`~transformers.tokenization_utils_base.PaddingStrategy`, `optional`, defaults to :obj:`True`):\n",
    "            Select a strategy to pad the returned sequences (according to the model's padding side and padding index)\n",
    "            among:\n",
    "            * :obj:`True` or :obj:`'longest'`: Pad to the longest sequence in the batch (or no padding if only a single\n",
    "              sequence if provided).\n",
    "            * :obj:`'max_length'`: Pad to a maximum length specified with the argument :obj:`max_length` or to the\n",
    "              maximum acceptable input length for the model if that argument is not provided.\n",
    "            * :obj:`False` or :obj:`'do_not_pad'` (default): No padding (i.e., can output a batch with sequences of\n",
    "              different lengths).\n",
    "        max_length (:obj:`int`, `optional`):\n",
    "            Maximum length of the ``input_values`` of the returned list and optionally padding length (see above).\n",
    "        max_length_labels (:obj:`int`, `optional`):\n",
    "            Maximum length of the ``labels`` returned list and optionally padding length (see above).\n",
    "        pad_to_multiple_of (:obj:`int`, `optional`):\n",
    "            If set will pad the sequence to a multiple of the provided value.\n",
    "            This is especially useful to enable the use of Tensor Cores on NVIDIA hardware with compute capability >=\n",
    "            7.5 (Volta).\n",
    "    \"\"\"\n",
    "\n",
    "    processor: Wav2Vec2Processor\n",
    "    padding: Union[bool, str] = True\n",
    "    max_length: Optional[int] = None\n",
    "    max_length_labels: Optional[int] = None\n",
    "    pad_to_multiple_of: Optional[int] = None\n",
    "    pad_to_multiple_of_labels: Optional[int] = None\n",
    "\n",
    "    def __call__(self, features: List[Dict[str, Union[List[int], torch.Tensor]]]) -> Dict[str, torch.Tensor]:\n",
    "        # split inputs and labels since they have to be of different lenghts and need\n",
    "        # different padding methods\n",
    "        input_features = [{\"input_values\": feature[\"input_values\"]} for feature in features]\n",
    "        label_features = [{\"input_ids\": feature[\"labels\"]} for feature in features]\n",
    "\n",
    "        batch = self.processor.pad(\n",
    "            input_features,\n",
    "            padding=self.padding,\n",
    "            max_length=self.max_length,\n",
    "            pad_to_multiple_of=self.pad_to_multiple_of,\n",
    "            return_tensors=\"pt\",\n",
    "        )\n",
    "        with self.processor.as_target_processor():\n",
    "            labels_batch = self.processor.pad(\n",
    "                label_features,\n",
    "                padding=self.padding,\n",
    "                max_length=self.max_length_labels,\n",
    "                pad_to_multiple_of=self.pad_to_multiple_of_labels,\n",
    "                return_tensors=\"pt\",\n",
    "            )\n",
    "\n",
    "        # replace padding with -100 to ignore loss correctly\n",
    "        labels = labels_batch[\"input_ids\"].masked_fill(labels_batch.attention_mask.ne(1), -100)\n",
    "\n",
    "        batch[\"labels\"] = labels\n",
    "\n",
    "        return batch"
   ]
  },
  {
   "cell_type": "code",
   "execution_count": 33,
   "metadata": {
    "id": "lbQf5GuZyQ4_"
   },
   "outputs": [],
   "source": [
    "data_collator = DataCollatorCTCWithPadding(processor=processor, padding=True)"
   ]
  },
  {
   "cell_type": "markdown",
   "metadata": {
    "id": "xO-Zdj-5cxXp"
   },
   "source": [
    "Next, the evaluation metric is defined. As mentioned earlier, the \n",
    "predominant metric in ASR is the word error rate (WER), hence we will use it in this notebook as well."
   ]
  },
  {
   "cell_type": "code",
   "execution_count": 34,
   "metadata": {
    "colab": {
     "base_uri": "https://localhost:8080/",
     "height": 67,
     "referenced_widgets": [
      "d5fb02debe4347e781543a996ce39be3",
      "da12267c52144292adb9896249d61a6a",
      "8e1a85a4a6214a16b7431da23a301ada",
      "57198e3250374e1fa64c5a4be255861e",
      "a3c04c75ec9743feb795f69e7c4dff4f",
      "d453bd4a35e54bfba20dac1fe86c60c1",
      "969080b52ad44ee997829986d198c505",
      "8f737725708c4097a8caaf4da6229636"
     ]
    },
    "id": "9Xsux2gmyXso",
    "outputId": "58e0e6f5-6131-4147-bccb-6c42223833db"
   },
   "outputs": [],
   "source": [
    "wer_metric = load_metric(\"wer\")"
   ]
  },
  {
   "cell_type": "markdown",
   "metadata": {
    "id": "E1qZU5p-deqB"
   },
   "source": [
    "The model will return a sequence of logit vectors:\n",
    "$\\mathbf{y}_1, \\ldots, \\mathbf{y}_m$ with $\\mathbf{y}_1 = f_{\\theta}(x_1, \\ldots, x_n)[0]$ and $n >> m$.\n",
    "\n",
    "A logit vector $\\mathbf{y}_1$ contains the log-odds for each word in the vocabulary we defined earlier, thus $\\text{len}(\\mathbf{y}_i) =$ `config.vocab_size`. We are interested in the most likely prediction of the model and thus take the `argmax(...)` of the logits. Also, we transform the encoded labels back to the original string by replacing `-100` with the `pad_token_id` and decoding the ids while making sure that consecutive tokens are **not** grouped to the same token in CTC style ${}^1$."
   ]
  },
  {
   "cell_type": "code",
   "execution_count": 35,
   "metadata": {
    "id": "1XZ-kjweyTy_"
   },
   "outputs": [],
   "source": [
    "def compute_metrics(pred):\n",
    "    pred_logits = pred.predictions\n",
    "    pred_ids = np.argmax(pred_logits, axis=-1)\n",
    "\n",
    "    pred.label_ids[pred.label_ids == -100] = processor.tokenizer.pad_token_id\n",
    "\n",
    "    pred_str = processor.batch_decode(pred_ids)\n",
    "    # we do not want to group tokens when computing the metrics\n",
    "    label_str = processor.batch_decode(pred.label_ids, group_tokens=False)\n",
    "\n",
    "    wer = wer_metric.compute(predictions=pred_str, references=label_str)\n",
    "\n",
    "    return {\"wer\": wer}"
   ]
  },
  {
   "cell_type": "markdown",
   "metadata": {
    "id": "Xmgrx4bRwLIH"
   },
   "source": [
    "Now, we can load the pretrained `XLSR-Wav2Vec2` checkpoint. The tokenizer's `pad_token_id` must be to define the model's `pad_token_id` or in the case of `Wav2Vec2ForCTC` also CTC's *blank token* ${}^2$. To save GPU memory, we enable PyTorch's [gradient checkpointing](https://pytorch.org/docs/stable/checkpoint.html) and also set the loss reduction to \"*mean*\".\n",
    "\n",
    "Because the dataset is quite small (~6h of training data) and because Common Voice is quite noisy, fine-tuning Facebook's [wav2vec2-large-xlsr-53 checkpoint](https://huggingface.co/facebook/wav2vec2-large-xlsr-53) seems to require some hyper-parameter tuning. Therefore, I had to play around a bit with different values for dropout, [SpecAugment](https://arxiv.org/abs/1904.08779)'s masking dropout rate, layer dropout, and the learning rate until training seemed to be stable enough. \n",
    "\n",
    "**Note**: When using this notebook to train XLSR-Wav2Vec2 on another language of Common Voice those hyper-parameter settings might not work very well. Feel free to adapt those depending on your use case. "
   ]
  },
  {
   "cell_type": "code",
   "execution_count": 36,
   "metadata": {
    "colab": {
     "base_uri": "https://localhost:8080/"
    },
    "id": "e7cqAWIayn6w",
    "outputId": "0a5ab559-6c38-47c6-b4f5-64480ed1df65"
   },
   "outputs": [
    {
     "name": "stderr",
     "output_type": "stream",
     "text": [
      "Some weights of Wav2Vec2ForCTC were not initialized from the model checkpoint at facebook/wav2vec2-large-xlsr-53 and are newly initialized: ['lm_head.bias', 'lm_head.weight']\n",
      "You should probably TRAIN this model on a down-stream task to be able to use it for predictions and inference.\n"
     ]
    }
   ],
   "source": [
    "from transformers import Wav2Vec2ForCTC\n",
    "\n",
    "model = Wav2Vec2ForCTC.from_pretrained(\n",
    "    \"facebook/wav2vec2-large-xlsr-53\", \n",
    "    attention_dropout=0.1,\n",
    "    hidden_dropout=0.1,\n",
    "    feat_proj_dropout=0.0,\n",
    "    mask_time_prob=0.05,\n",
    "    layerdrop=0.1,\n",
    "    gradient_checkpointing=True, \n",
    "    ctc_loss_reduction=\"mean\", \n",
    "    pad_token_id=processor.tokenizer.pad_token_id,\n",
    "    vocab_size=len(processor.tokenizer)\n",
    ")"
   ]
  },
  {
   "cell_type": "markdown",
   "metadata": {
    "id": "1DwR3XLSzGDD"
   },
   "source": [
    "The first component of XLSR-Wav2Vec2 consists of a stack of CNN layers that are used to extract acoustically meaningful - but contextually independent - features from the raw speech signal. This part of the model has already been sufficiently trained during pretraining and as stated in the [paper](https://arxiv.org/pdf/2006.13979.pdf) does not need to be fine-tuned anymore. \n",
    "Thus, we can set the `requires_grad` to `False` for all parameters of the *feature extraction* part."
   ]
  },
  {
   "cell_type": "code",
   "execution_count": 37,
   "metadata": {
    "id": "oGI8zObtZ3V0"
   },
   "outputs": [],
   "source": [
    "model.freeze_feature_extractor()"
   ]
  },
  {
   "cell_type": "markdown",
   "metadata": {
    "id": "lD4aGhQM0K-D"
   },
   "source": [
    "In a final step, we define all parameters related to training. \n",
    "To give more explanation on some of the parameters:\n",
    "- `group_by_length` makes training more efficient by grouping training samples of similar input length into one batch. This can significantly speed up training time by heavily reducing the overall number of useless padding tokens that are passed through the model\n",
    "- `learning_rate` and `weight_decay` were heuristically tuned until fine-tuning has become stable. Note that those parameters strongly depend on the Common Voice dataset and might be suboptimal for other speech datasets.\n",
    "\n",
    "For more explanations on other parameters, one can take a look at the [docs](https://huggingface.co/transformers/master/main_classes/trainer.html?highlight=trainer#trainingarguments).\n",
    "\n",
    "**Note**: If one wants to save the trained models in his/her google drive the commented-out `output_dir` can be used instead."
   ]
  },
  {
   "cell_type": "code",
   "execution_count": 38,
   "metadata": {
    "id": "KbeKSV7uzGPP"
   },
   "outputs": [],
   "source": [
    "from transformers import TrainingArguments\n",
    "\n",
    "training_args = TrainingArguments(\n",
    "  output_dir=output_models_dir,\n",
    "  group_by_length=True,\n",
    "  per_device_train_batch_size=16,\n",
    "  gradient_accumulation_steps=2,\n",
    "  evaluation_strategy=\"steps\",\n",
    "  num_train_epochs=150,\n",
    "  fp16=True,\n",
    "  save_steps=400,\n",
    "  eval_steps=400,\n",
    "  logging_steps=400,\n",
    "  learning_rate=3e-4,\n",
    "  warmup_steps=500,\n",
    "  save_total_limit=2,\n",
    ")"
   ]
  },
  {
   "cell_type": "markdown",
   "metadata": {
    "id": "OsW-WZcL1ZtN"
   },
   "source": [
    "Now, all instances can be passed to Trainer and we are ready to start training!"
   ]
  },
  {
   "cell_type": "code",
   "execution_count": 39,
   "metadata": {
    "id": "rY7vBmFCPFgC"
   },
   "outputs": [],
   "source": [
    "from transformers import Trainer\n",
    "\n",
    "trainer = Trainer(\n",
    "    model=model,\n",
    "    data_collator=data_collator,\n",
    "    args=training_args,\n",
    "    compute_metrics=compute_metrics,\n",
    "    train_dataset=common_voice_train,\n",
    "    eval_dataset=common_voice_test,\n",
    "    tokenizer=processor.feature_extractor,\n",
    ")"
   ]
  },
  {
   "cell_type": "markdown",
   "metadata": {
    "id": "UoXBx1JAA0DX"
   },
   "source": [
    "\n",
    "\n",
    "---\n",
    "\n",
    "${}^1$ To allow models to become independent of the speaker rate, in CTC, consecutive tokens that are identical are simply grouped as a single token. However, the encoded labels should not be grouped when decoding since they don't correspond to the predicted tokens of the model, which is why the `group_tokens=False` parameter has to be passed. If we wouldn't pass this parameter a word like `\"hello\"` would incorrectly be encoded, and decoded as `\"helo\"`.\n",
    "\n",
    "${}^2$ The blank token allows the model to predict a word, such as `\"hello\"` by forcing it to insert the blank token between the two l's. A CTC-conform prediction of `\"hello\"` of our model would be `[PAD] [PAD] \"h\" \"e\" \"e\" \"l\" \"l\" [PAD] \"l\" \"o\" \"o\" [PAD]`."
   ]
  },
  {
   "cell_type": "markdown",
   "metadata": {
    "id": "rpvZHM1xReIW"
   },
   "source": [
    "### Training"
   ]
  },
  {
   "cell_type": "markdown",
   "metadata": {
    "id": "j-3oKSzZ1hGq"
   },
   "source": [
    "Training will take between 180 and 240 minutes depending on the GPU allocated to this notebook. While the trained model yields somewhat satisfying results on *Common Voice*'s test data of Turkish, it is by no means an optimally fine-tuned model. The purpose of this notebook is to demonstrate how XLSR-Wav2Vec2's [checkpoint](https://huggingface.co/facebook/wav2vec2-large-xlsr-53) can be fine-tuned on a low-resource ASR dataset.\n",
    "\n",
    "In case you want to use this google colab to fine-tune your model, you should make sure that your training doesn't stop due to inactivity. A simple hack to prevent this is to paste the following code into the console of this tab (*right mouse click -> inspect -> Console tab and insert code*)."
   ]
  },
  {
   "cell_type": "markdown",
   "metadata": {
    "id": "VYYAvgkW4P0m"
   },
   "source": [
    "```javascript\n",
    "function ConnectButton(){\n",
    "    console.log(\"Connect pushed\"); \n",
    "    document.querySelector(\"#top-toolbar > colab-connect-button\").shadowRoot.querySelector(\"#connect\").click() \n",
    "}\n",
    "setInterval(ConnectButton,60000);\n",
    "```"
   ]
  },
  {
   "cell_type": "code",
   "execution_count": 40,
   "metadata": {
    "colab": {
     "base_uri": "https://localhost:8080/",
     "height": 348
    },
    "id": "_UEjJqGsQw24",
    "outputId": "2e23b190-ca76-48ad-8117-376d1d7c058e"
   },
   "outputs": [
    {
     "name": "stderr",
     "output_type": "stream",
     "text": [
      "\u001b[34m\u001b[1mwandb\u001b[0m: Currently logged in as: \u001b[33mjimregan\u001b[0m (use `wandb login --relogin` to force relogin)\n",
      "\u001b[34m\u001b[1mwandb\u001b[0m: wandb version 0.10.23 is available!  To upgrade, please run:\n",
      "\u001b[34m\u001b[1mwandb\u001b[0m:  $ pip install wandb --upgrade\n"
     ]
    },
    {
     "data": {
      "text/html": [
       "\n",
       "                Tracking run with wandb version 0.10.12<br/>\n",
       "                Syncing run <strong style=\"color:#cdcd00\">/workspace/output_models/ga-IE/wav2vec2-large-xlsr-irish-base</strong> to <a href=\"https://wandb.ai\" target=\"_blank\">Weights & Biases</a> <a href=\"https://docs.wandb.com/integrations/jupyter.html\" target=\"_blank\">(Documentation)</a>.<br/>\n",
       "                Project page: <a href=\"https://wandb.ai/jimregan/huggingface\" target=\"_blank\">https://wandb.ai/jimregan/huggingface</a><br/>\n",
       "                Run page: <a href=\"https://wandb.ai/jimregan/huggingface/runs/3nigayjd\" target=\"_blank\">https://wandb.ai/jimregan/huggingface/runs/3nigayjd</a><br/>\n",
       "                Run data is saved locally in <code>/workspace/wav2vec2-sprint/irish/wandb/run-20210327_030558-3nigayjd</code><br/><br/>\n",
       "            "
      ],
      "text/plain": [
       "<IPython.core.display.HTML object>"
      ]
     },
     "metadata": {},
     "output_type": "display_data"
    },
    {
     "name": "stderr",
     "output_type": "stream",
     "text": [
      "/opt/conda/lib/python3.7/site-packages/torch/optim/lr_scheduler.py:136: UserWarning: Detected call of `lr_scheduler.step()` before `optimizer.step()`. In PyTorch 1.1.0 and later, you should call them in the opposite order: `optimizer.step()` before `lr_scheduler.step()`.  Failure to do this will result in PyTorch skipping the first value of the learning rate schedule. See more details at https://pytorch.org/docs/stable/optim.html#how-to-adjust-learning-rate\n",
      "  \"https://pytorch.org/docs/stable/optim.html#how-to-adjust-learning-rate\", UserWarning)\n"
     ]
    },
    {
     "data": {
      "text/html": [
       "\n",
       "    <div>\n",
       "        <style>\n",
       "            /* Turns off some styling */\n",
       "            progress {\n",
       "                /* gets rid of default border in Firefox and Opera. */\n",
       "                border: none;\n",
       "                /* Needs to be in here for Safari polyfill so background images work as expected. */\n",
       "                background-size: auto;\n",
       "            }\n",
       "        </style>\n",
       "      \n",
       "      <progress value='4800' max='4800' style='width:300px; height:20px; vertical-align: middle;'></progress>\n",
       "      [4800/4800 4:19:06, Epoch 149/150]\n",
       "    </div>\n",
       "    <table border=\"1\" class=\"dataframe\">\n",
       "  <thead>\n",
       "    <tr style=\"text-align: left;\">\n",
       "      <th>Step</th>\n",
       "      <th>Training Loss</th>\n",
       "      <th>Validation Loss</th>\n",
       "      <th>Wer</th>\n",
       "      <th>Runtime</th>\n",
       "      <th>Samples Per Second</th>\n",
       "    </tr>\n",
       "  </thead>\n",
       "  <tbody>\n",
       "    <tr>\n",
       "      <td>400</td>\n",
       "      <td>6.268700</td>\n",
       "      <td>2.295346</td>\n",
       "      <td>1.000000</td>\n",
       "      <td>45.889400</td>\n",
       "      <td>11.027000</td>\n",
       "    </tr>\n",
       "    <tr>\n",
       "      <td>800</td>\n",
       "      <td>0.818900</td>\n",
       "      <td>1.062891</td>\n",
       "      <td>0.671934</td>\n",
       "      <td>46.400600</td>\n",
       "      <td>10.905000</td>\n",
       "    </tr>\n",
       "    <tr>\n",
       "      <td>1200</td>\n",
       "      <td>0.174800</td>\n",
       "      <td>1.357742</td>\n",
       "      <td>0.633011</td>\n",
       "      <td>46.783200</td>\n",
       "      <td>10.816000</td>\n",
       "    </tr>\n",
       "    <tr>\n",
       "      <td>1600</td>\n",
       "      <td>0.099900</td>\n",
       "      <td>1.383903</td>\n",
       "      <td>0.604039</td>\n",
       "      <td>48.160300</td>\n",
       "      <td>10.507000</td>\n",
       "    </tr>\n",
       "    <tr>\n",
       "      <td>2000</td>\n",
       "      <td>0.065700</td>\n",
       "      <td>1.404620</td>\n",
       "      <td>0.591454</td>\n",
       "      <td>48.786000</td>\n",
       "      <td>10.372000</td>\n",
       "    </tr>\n",
       "    <tr>\n",
       "      <td>2400</td>\n",
       "      <td>0.050200</td>\n",
       "      <td>1.442369</td>\n",
       "      <td>0.601990</td>\n",
       "      <td>49.039600</td>\n",
       "      <td>10.318000</td>\n",
       "    </tr>\n",
       "    <tr>\n",
       "      <td>2800</td>\n",
       "      <td>0.044500</td>\n",
       "      <td>1.516021</td>\n",
       "      <td>0.576529</td>\n",
       "      <td>49.862100</td>\n",
       "      <td>10.148000</td>\n",
       "    </tr>\n",
       "    <tr>\n",
       "      <td>3200</td>\n",
       "      <td>0.033900</td>\n",
       "      <td>1.509831</td>\n",
       "      <td>0.576822</td>\n",
       "      <td>50.058900</td>\n",
       "      <td>10.108000</td>\n",
       "    </tr>\n",
       "    <tr>\n",
       "      <td>3600</td>\n",
       "      <td>0.032500</td>\n",
       "      <td>1.526448</td>\n",
       "      <td>0.575066</td>\n",
       "      <td>50.075000</td>\n",
       "      <td>10.105000</td>\n",
       "    </tr>\n",
       "    <tr>\n",
       "      <td>4000</td>\n",
       "      <td>0.025400</td>\n",
       "      <td>1.502508</td>\n",
       "      <td>0.569213</td>\n",
       "      <td>49.846600</td>\n",
       "      <td>10.151000</td>\n",
       "    </tr>\n",
       "    <tr>\n",
       "      <td>4400</td>\n",
       "      <td>0.020800</td>\n",
       "      <td>1.530317</td>\n",
       "      <td>0.561604</td>\n",
       "      <td>49.848600</td>\n",
       "      <td>10.151000</td>\n",
       "    </tr>\n",
       "    <tr>\n",
       "      <td>4800</td>\n",
       "      <td>0.018500</td>\n",
       "      <td>1.543452</td>\n",
       "      <td>0.561018</td>\n",
       "      <td>50.139400</td>\n",
       "      <td>10.092000</td>\n",
       "    </tr>\n",
       "  </tbody>\n",
       "</table><p>"
      ],
      "text/plain": [
       "<IPython.core.display.HTML object>"
      ]
     },
     "metadata": {},
     "output_type": "display_data"
    },
    {
     "data": {
      "text/plain": [
       "TrainOutput(global_step=4800, training_loss=0.637840692003568, metrics={'train_runtime': 15554.0525, 'train_samples_per_second': 0.309, 'total_flos': 1.8284314608488722e+19, 'epoch': 149.98, 'init_mem_cpu_alloc_delta': 9486456, 'init_mem_gpu_alloc_delta': 1261894656, 'init_mem_cpu_peaked_delta': 18306, 'init_mem_gpu_peaked_delta': 0, 'train_mem_cpu_alloc_delta': 22252990, 'train_mem_gpu_alloc_delta': 3777322496, 'train_mem_cpu_peaked_delta': 103624597, 'train_mem_gpu_peaked_delta': 3713114624})"
      ]
     },
     "execution_count": 40,
     "metadata": {},
     "output_type": "execute_result"
    }
   ],
   "source": [
    "trainer.train()"
   ]
  },
  {
   "cell_type": "code",
   "execution_count": 41,
   "metadata": {},
   "outputs": [
    {
     "data": {
      "text/plain": [
       "('/workspace/output_models/ga-IE/wav2vec2-large-xlsr-irish-base/tokenizer_config.json',\n",
       " '/workspace/output_models/ga-IE/wav2vec2-large-xlsr-irish-base/special_tokens_map.json',\n",
       " '/workspace/output_models/ga-IE/wav2vec2-large-xlsr-irish-base/vocab.json',\n",
       " '/workspace/output_models/ga-IE/wav2vec2-large-xlsr-irish-base/added_tokens.json')"
      ]
     },
     "execution_count": 41,
     "metadata": {},
     "output_type": "execute_result"
    }
   ],
   "source": [
    "trainer.save_model(output_models_dir)\n",
    "tokenizer.save_pretrained(output_models_dir)"
   ]
  },
  {
   "cell_type": "code",
   "execution_count": 47,
   "metadata": {},
   "outputs": [
    {
     "data": {
      "text/plain": [
       "('/workspace/output_models/last-run/tokenizer_config.json',\n",
       " '/workspace/output_models/last-run/special_tokens_map.json',\n",
       " '/workspace/output_models/last-run/vocab.json',\n",
       " '/workspace/output_models/last-run/added_tokens.json')"
      ]
     },
     "execution_count": 47,
     "metadata": {},
     "output_type": "execute_result"
    }
   ],
   "source": [
    "trainer.save_model('/workspace/output_models/last-run')\n",
    "tokenizer.save_pretrained('/workspace/output_models/last-run')"
   ]
  },
  {
   "cell_type": "markdown",
   "metadata": {
    "id": "RHIVc44_fY2N"
   },
   "source": [
    "The training loss goes down and we can see that the WER on the test set also improves nicely. Because this notebook is just for demonstration purposes, we can stop here.\n",
    "\n",
    "The resulting model of this notebook has been saved to [`jimregan/wav2vec2-large-xlsr-irish-basic`](https://huggingface.co/jimregan/wav2vec2-large-xlsr-irish-basic)\n",
    "\n",
    "As a final check, let's load the model and verify that it indeed has learned to transcribe Turkish speech.\n",
    "\n",
    "Let's first load the pretrained checkpoint."
   ]
  },
  {
   "cell_type": "code",
   "execution_count": 42,
   "metadata": {
    "colab": {
     "base_uri": "https://localhost:8080/"
    },
    "id": "J8E8pxJ9hgZS",
    "outputId": "5d137935-475d-4dbf-d833-d26780311e18"
   },
   "outputs": [
    {
     "name": "stderr",
     "output_type": "stream",
     "text": [
      "Special tokens have been added in the vocabulary, make sure the associated word embedding are fine-tuned or trained.\n"
     ]
    }
   ],
   "source": [
    "model2 = Wav2Vec2ForCTC.from_pretrained(output_models_dir).to(\"cuda\")\n",
    "processor2 = Wav2Vec2Processor.from_pretrained(output_models_dir)"
   ]
  },
  {
   "cell_type": "markdown",
   "metadata": {
    "id": "QsfGCQYSvY8C"
   },
   "source": [
    "Now, we will just take the first example of the test set, run it through the model and take the `argmax(...)` of the logits to retrieve the predicted token ids."
   ]
  },
  {
   "cell_type": "code",
   "execution_count": 43,
   "metadata": {
    "colab": {
     "base_uri": "https://localhost:8080/"
    },
    "id": "EA6fxk-jiHby",
    "outputId": "8b91a977-2559-4adc-8298-b4ad6b7ff196"
   },
   "outputs": [
    {
     "name": "stderr",
     "output_type": "stream",
     "text": [
      "It is strongly recommended to pass the ``sampling_rate`` argument to this function.Failing to do so can result in silent errors that might be hard to debug.\n"
     ]
    }
   ],
   "source": [
    "input_dict = processor2(common_voice_test[\"input_values\"][0], return_tensors=\"pt\", padding=True)\n",
    "\n",
    "logits = model2(input_dict.input_values.to(\"cuda\")).logits\n",
    "\n",
    "pred_ids = torch.argmax(logits, dim=-1)[0]"
   ]
  },
  {
   "cell_type": "markdown",
   "metadata": {
    "id": "1JDyVCMDvlYd"
   },
   "source": [
    "We adapted `common_voice_test` quite a bit so that the dataset instance does not contain the original sentence label anymore. Thus, we re-use the original dataset to get the label of the first example."
   ]
  },
  {
   "cell_type": "code",
   "execution_count": 44,
   "metadata": {
    "colab": {
     "base_uri": "https://localhost:8080/"
    },
    "id": "8dPE2GRIgtx-",
    "outputId": "a211d1ee-d850-481d-8bac-dc46c3efa561"
   },
   "outputs": [
    {
     "name": "stderr",
     "output_type": "stream",
     "text": [
      "Using custom data configuration ga-IE-d1da170b20bac7b9\n",
      "Reusing dataset common_voice (/workspace/.cache/huggingface/datasets/common_voice/ga-IE-d1da170b20bac7b9/6.1.0/0041e06ab061b91d0a23234a2221e87970a19cf3a81b20901474cffffeb7869f)\n"
     ]
    }
   ],
   "source": [
    "common_voice_test_transcription = load_dataset(\"common_voice\", language_code, data_dir=data_dir, split=\"test\")"
   ]
  },
  {
   "cell_type": "markdown",
   "metadata": {
    "id": "ApS3MmN4v5P7"
   },
   "source": [
    "Finally, we can decode the example."
   ]
  },
  {
   "cell_type": "code",
   "execution_count": 45,
   "metadata": {
    "colab": {
     "base_uri": "https://localhost:8080/"
    },
    "id": "Phqxa1O1jMDk",
    "outputId": "60d48c9f-f745-45ac-9105-446dc71025ca"
   },
   "outputs": [
    {
     "name": "stdout",
     "output_type": "stream",
     "text": [
      "Prediction:\n",
      "bhí tara viscairí agus meadh bh o'rourc seaint i nárdín na mblá\n",
      "\n",
      "Reference:\n",
      "\"bhí tara viscardi agus meadhbh o'rourke ag seinnt i ngairdín na mbláth\"\n"
     ]
    }
   ],
   "source": [
    "print(\"Prediction:\")\n",
    "print(processor2.decode(pred_ids))\n",
    "\n",
    "print(\"\\nReference:\")\n",
    "print(common_voice_test_transcription[\"sentence\"][0].lower())\n"
   ]
  },
  {
   "cell_type": "markdown",
   "metadata": {
    "id": "4n_8vhzUv7aw"
   },
   "source": [
    "Alright! The transcription can definitely be recognized from our prediction, but it is far from being perfect. Training the model a bit longer, spending more time on the data preprocessing, and especially using a language model for decoding would certainly improve the model's overall performance. \n",
    "\n",
    "For a demonstration model on a low-resource language, the results are acceptable, however 🤗."
   ]
  },
  {
   "cell_type": "code",
   "execution_count": 46,
   "metadata": {},
   "outputs": [
    {
     "name": "stderr",
     "output_type": "stream",
     "text": [
      "Reusing dataset common_voice (/workspace/.cache/huggingface/datasets/common_voice/ga-IE/6.1.0/0041e06ab061b91d0a23234a2221e87970a19cf3a81b20901474cffffeb7869f)\n",
      "Loading cached processed dataset at /workspace/.cache/huggingface/datasets/common_voice/ga-IE/6.1.0/0041e06ab061b91d0a23234a2221e87970a19cf3a81b20901474cffffeb7869f/cache-97fff0ec51dc91d3.arrow\n"
     ]
    },
    {
     "data": {
      "application/vnd.jupyter.widget-view+json": {
       "model_id": "ccb24ef2bedf47a8ac76553c6805561c",
       "version_major": 2,
       "version_minor": 0
      },
      "text/plain": [
       "HBox(children=(FloatProgress(value=0.0, max=64.0), HTML(value='')))"
      ]
     },
     "metadata": {},
     "output_type": "display_data"
    },
    {
     "name": "stdout",
     "output_type": "stream",
     "text": [
      "\n",
      "WER: 43.680515\n"
     ]
    }
   ],
   "source": [
    "import torch\n",
    "import torchaudio\n",
    "from datasets import load_dataset, load_metric\n",
    "from transformers import Wav2Vec2ForCTC, Wav2Vec2Processor\n",
    "import re\n",
    "test_dataset = load_dataset(\"common_voice\", \"ga-IE\", split=\"test\")\n",
    "wer = load_metric(\"wer\")\n",
    "def is_upper_vowel(letter):\n",
    "    if letter in ['A', 'E', 'I', 'O', 'U', 'Á', 'É', 'Í', 'Ó', 'Ú']:\n",
    "        return True\n",
    "    else:\n",
    "        return False\n",
    "def irish_lower(word):\n",
    "    if len(word) > 1 and word[0] in ['n', 't'] and is_upper_vowel(word[1]):\n",
    "        return word[0] + '-' + word[1:].lower()\n",
    "    else:\n",
    "        return word.lower()\n",
    "def irish_lower_sentence(sentence):\n",
    "    return \" \".join([irish_lower(w) for w in sentence.split(\" \")])\n",
    "chars_to_ignore_regex = '[,\\?\\.\\!\\;\\:\\\"\\“\\%\\‘\\”\\(\\)\\*]'\n",
    "def remove_special_characters(sentence):\n",
    "  tmp = re.sub('’ ', ' ', sentence)\n",
    "  tmp = re.sub(\"’$\", '', tmp)\n",
    "  tmp = re.sub('’', '\\'', tmp)\n",
    "  tmp = re.sub(chars_to_ignore_regex, '', tmp)\n",
    "  sentence = irish_lower_sentence(tmp) + ' '\n",
    "  return sentence\n",
    "resampler = torchaudio.transforms.Resample(48_000, 16_000)\n",
    "# Preprocessing the datasets.\n",
    "# We need to read the audio files as arrays\n",
    "def speech_file_to_array_fn(batch):\n",
    "    batch[\"sentence\"] = remove_special_characters(batch[\"sentence\"])\n",
    "    speech_array, sampling_rate = torchaudio.load(batch[\"path\"])\n",
    "    batch[\"speech\"] = resampler(speech_array).squeeze().numpy()\n",
    "    return batch\n",
    "test_dataset = test_dataset.map(speech_file_to_array_fn)\n",
    "\n",
    "# Preprocessing the datasets.\n",
    "# We need to read the aduio files as arrays\n",
    "def evaluate(batch):\n",
    "    inputs = processor2(batch[\"speech\"], sampling_rate=16_000, return_tensors=\"pt\", padding=True)\n",
    "\n",
    "    with torch.no_grad():\n",
    "        logits = model2(inputs.input_values.to(\"cuda\"), attention_mask=inputs.attention_mask.to(\"cuda\")).logits\n",
    "\n",
    "    pred_ids = torch.argmax(logits, dim=-1)\n",
    "    batch[\"pred_strings\"] = processor.batch_decode(pred_ids)\n",
    "    return batch\n",
    "\n",
    "result = test_dataset.map(evaluate, batched=True, batch_size=8)\n",
    "\n",
    "print(\"WER: {:2f}\".format(100 * wer.compute(predictions=result[\"pred_strings\"], references=result[\"sentence\"])))"
   ]
  }
 ],
 "metadata": {
  "accelerator": "GPU",
  "colab": {
   "collapsed_sections": [],
   "include_colab_link": true,
   "machine_shape": "hm",
   "name": "Fine-Tune XLSR-Wav2Vec2 on Turkish ASR with 🤗 Transformers.ipynb",
   "provenance": []
  },
  "kernelspec": {
   "display_name": "Python 3",
   "language": "python",
   "name": "python3"
  },
  "language_info": {
   "codemirror_mode": {
    "name": "ipython",
    "version": 3
   },
   "file_extension": ".py",
   "mimetype": "text/x-python",
   "name": "python",
   "nbconvert_exporter": "python",
   "pygments_lexer": "ipython3",
   "version": "3.7.6"
  },
  "widgets": {
   "application/vnd.jupyter.widget-state+json": {
    "015c5690e1ea4281954c7efda1c80a6a": {
     "model_module": "@jupyter-widgets/controls",
     "model_name": "FloatProgressModel",
     "state": {
      "_dom_classes": [],
      "_model_module": "@jupyter-widgets/controls",
      "_model_module_version": "1.5.0",
      "_model_name": "FloatProgressModel",
      "_view_count": null,
      "_view_module": "@jupyter-widgets/controls",
      "_view_module_version": "1.5.0",
      "_view_name": "ProgressView",
      "bar_style": "success",
      "description": "#1: 100%",
      "description_tooltip": null,
      "layout": "IPY_MODEL_dec796237765477ea904834d9a824b61",
      "max": 109,
      "min": 0,
      "orientation": "horizontal",
      "style": "IPY_MODEL_2f727c76652944e3892dd584bea11af2",
      "value": 109
     }
    },
    "018c1f8e198e4df4b480e609bd1be602": {
     "model_module": "@jupyter-widgets/controls",
     "model_name": "HTMLModel",
     "state": {
      "_dom_classes": [],
      "_model_module": "@jupyter-widgets/controls",
      "_model_module_version": "1.5.0",
      "_model_name": "HTMLModel",
      "_view_count": null,
      "_view_module": "@jupyter-widgets/controls",
      "_view_module_version": "1.5.0",
      "_view_name": "HTMLView",
      "description": "",
      "description_tooltip": null,
      "layout": "IPY_MODEL_768ab09956774f50a79b2493a8bf179b",
      "placeholder": "​",
      "style": "IPY_MODEL_d35c15beeb33476894b07c3563f8facd",
      "value": " 109/109 [00:56&lt;00:00,  1.92ba/s]"
     }
    },
    "020bdb330b0d40f5b89697ff37025f69": {
     "model_module": "@jupyter-widgets/base",
     "model_name": "LayoutModel",
     "state": {
      "_model_module": "@jupyter-widgets/base",
      "_model_module_version": "1.2.0",
      "_model_name": "LayoutModel",
      "_view_count": null,
      "_view_module": "@jupyter-widgets/base",
      "_view_module_version": "1.2.0",
      "_view_name": "LayoutView",
      "align_content": null,
      "align_items": null,
      "align_self": null,
      "border": null,
      "bottom": null,
      "display": null,
      "flex": null,
      "flex_flow": null,
      "grid_area": null,
      "grid_auto_columns": null,
      "grid_auto_flow": null,
      "grid_auto_rows": null,
      "grid_column": null,
      "grid_gap": null,
      "grid_row": null,
      "grid_template_areas": null,
      "grid_template_columns": null,
      "grid_template_rows": null,
      "height": null,
      "justify_content": null,
      "justify_items": null,
      "left": null,
      "margin": null,
      "max_height": null,
      "max_width": null,
      "min_height": null,
      "min_width": null,
      "object_fit": null,
      "object_position": null,
      "order": null,
      "overflow": null,
      "overflow_x": null,
      "overflow_y": null,
      "padding": null,
      "right": null,
      "top": null,
      "visibility": null,
      "width": null
     }
    },
    "024989cea06f435894776b0a921164b2": {
     "model_module": "@jupyter-widgets/controls",
     "model_name": "ProgressStyleModel",
     "state": {
      "_model_module": "@jupyter-widgets/controls",
      "_model_module_version": "1.5.0",
      "_model_name": "ProgressStyleModel",
      "_view_count": null,
      "_view_module": "@jupyter-widgets/base",
      "_view_module_version": "1.2.0",
      "_view_name": "StyleView",
      "bar_color": null,
      "description_width": "initial"
     }
    },
    "02bdb06c176145feaa842b97ae58609c": {
     "model_module": "@jupyter-widgets/controls",
     "model_name": "DescriptionStyleModel",
     "state": {
      "_model_module": "@jupyter-widgets/controls",
      "_model_module_version": "1.5.0",
      "_model_name": "DescriptionStyleModel",
      "_view_count": null,
      "_view_module": "@jupyter-widgets/base",
      "_view_module_version": "1.2.0",
      "_view_name": "StyleView",
      "description_width": ""
     }
    },
    "02d1f77324854fbca0df9384c57faac8": {
     "model_module": "@jupyter-widgets/controls",
     "model_name": "FloatProgressModel",
     "state": {
      "_dom_classes": [],
      "_model_module": "@jupyter-widgets/controls",
      "_model_module_version": "1.5.0",
      "_model_name": "FloatProgressModel",
      "_view_count": null,
      "_view_module": "@jupyter-widgets/controls",
      "_view_module_version": "1.5.0",
      "_view_name": "ProgressView",
      "bar_style": "success",
      "description": "#3: 100%",
      "description_tooltip": null,
      "layout": "IPY_MODEL_d4a3f79644fc41848450ba29e6fdfc3d",
      "max": 52,
      "min": 0,
      "orientation": "horizontal",
      "style": "IPY_MODEL_704ea5e05fd744d998b76d6435992995",
      "value": 52
     }
    },
    "0354ab33471e4c34a0c1b3c062bcd6bb": {
     "model_module": "@jupyter-widgets/base",
     "model_name": "LayoutModel",
     "state": {
      "_model_module": "@jupyter-widgets/base",
      "_model_module_version": "1.2.0",
      "_model_name": "LayoutModel",
      "_view_count": null,
      "_view_module": "@jupyter-widgets/base",
      "_view_module_version": "1.2.0",
      "_view_name": "LayoutView",
      "align_content": null,
      "align_items": null,
      "align_self": null,
      "border": null,
      "bottom": null,
      "display": null,
      "flex": null,
      "flex_flow": null,
      "grid_area": null,
      "grid_auto_columns": null,
      "grid_auto_flow": null,
      "grid_auto_rows": null,
      "grid_column": null,
      "grid_gap": null,
      "grid_row": null,
      "grid_template_areas": null,
      "grid_template_columns": null,
      "grid_template_rows": null,
      "height": null,
      "justify_content": null,
      "justify_items": null,
      "left": null,
      "margin": null,
      "max_height": null,
      "max_width": null,
      "min_height": null,
      "min_width": null,
      "object_fit": null,
      "object_position": null,
      "order": null,
      "overflow": null,
      "overflow_x": null,
      "overflow_y": null,
      "padding": null,
      "right": null,
      "top": null,
      "visibility": null,
      "width": null
     }
    },
    "03b33c17734d49e28c4636dddd6e833d": {
     "model_module": "@jupyter-widgets/controls",
     "model_name": "FloatProgressModel",
     "state": {
      "_dom_classes": [],
      "_model_module": "@jupyter-widgets/controls",
      "_model_module_version": "1.5.0",
      "_model_name": "FloatProgressModel",
      "_view_count": null,
      "_view_module": "@jupyter-widgets/controls",
      "_view_module_version": "1.5.0",
      "_view_name": "ProgressView",
      "bar_style": "info",
      "description": "",
      "description_tooltip": null,
      "layout": "IPY_MODEL_bee0f50055eb4f738636142a10da0ddd",
      "max": 1,
      "min": 0,
      "orientation": "horizontal",
      "style": "IPY_MODEL_da1ff50f8b9241108a325ada04224642",
      "value": 1
     }
    },
    "05f83d714f864a399083f0e34a812467": {
     "model_module": "@jupyter-widgets/controls",
     "model_name": "DescriptionStyleModel",
     "state": {
      "_model_module": "@jupyter-widgets/controls",
      "_model_module_version": "1.5.0",
      "_model_name": "DescriptionStyleModel",
      "_view_count": null,
      "_view_module": "@jupyter-widgets/base",
      "_view_module_version": "1.2.0",
      "_view_name": "StyleView",
      "description_width": ""
     }
    },
    "089428f56e66419f85ea149d9d102454": {
     "model_module": "@jupyter-widgets/controls",
     "model_name": "HBoxModel",
     "state": {
      "_dom_classes": [],
      "_model_module": "@jupyter-widgets/controls",
      "_model_module_version": "1.5.0",
      "_model_name": "HBoxModel",
      "_view_count": null,
      "_view_module": "@jupyter-widgets/controls",
      "_view_module_version": "1.5.0",
      "_view_name": "HBoxView",
      "box_style": "",
      "children": [
       "IPY_MODEL_4db5037af3f64a3a8a8a1203018a80ff",
       "IPY_MODEL_6a957c1c17474d8d89c27ddecf702fda"
      ],
      "layout": "IPY_MODEL_d649c0f9c1c24634a84b7ef697721ffa"
     }
    },
    "0987aac282af415da2fbc9dc1b4d5069": {
     "model_module": "@jupyter-widgets/base",
     "model_name": "LayoutModel",
     "state": {
      "_model_module": "@jupyter-widgets/base",
      "_model_module_version": "1.2.0",
      "_model_name": "LayoutModel",
      "_view_count": null,
      "_view_module": "@jupyter-widgets/base",
      "_view_module_version": "1.2.0",
      "_view_name": "LayoutView",
      "align_content": null,
      "align_items": null,
      "align_self": null,
      "border": null,
      "bottom": null,
      "display": null,
      "flex": null,
      "flex_flow": null,
      "grid_area": null,
      "grid_auto_columns": null,
      "grid_auto_flow": null,
      "grid_auto_rows": null,
      "grid_column": null,
      "grid_gap": null,
      "grid_row": null,
      "grid_template_areas": null,
      "grid_template_columns": null,
      "grid_template_rows": null,
      "height": null,
      "justify_content": null,
      "justify_items": null,
      "left": null,
      "margin": null,
      "max_height": null,
      "max_width": null,
      "min_height": null,
      "min_width": null,
      "object_fit": null,
      "object_position": null,
      "order": null,
      "overflow": null,
      "overflow_x": null,
      "overflow_y": null,
      "padding": null,
      "right": null,
      "top": null,
      "visibility": null,
      "width": null
     }
    },
    "0a9b58c98508420d8f8936189f064316": {
     "model_module": "@jupyter-widgets/controls",
     "model_name": "FloatProgressModel",
     "state": {
      "_dom_classes": [],
      "_model_module": "@jupyter-widgets/controls",
      "_model_module_version": "1.5.0",
      "_model_name": "FloatProgressModel",
      "_view_count": null,
      "_view_module": "@jupyter-widgets/controls",
      "_view_module_version": "1.5.0",
      "_view_name": "ProgressView",
      "bar_style": "info",
      "description": "",
      "description_tooltip": null,
      "layout": "IPY_MODEL_af85713f677243d19cba9fe69a4a5f46",
      "max": 1,
      "min": 0,
      "orientation": "horizontal",
      "style": "IPY_MODEL_c546bca23ee248a1be7bd8ead3e82a8f",
      "value": 1
     }
    },
    "0b795d4b68014de19bf9579c67b55ffb": {
     "model_module": "@jupyter-widgets/controls",
     "model_name": "DescriptionStyleModel",
     "state": {
      "_model_module": "@jupyter-widgets/controls",
      "_model_module_version": "1.5.0",
      "_model_name": "DescriptionStyleModel",
      "_view_count": null,
      "_view_module": "@jupyter-widgets/base",
      "_view_module_version": "1.2.0",
      "_view_name": "StyleView",
      "description_width": ""
     }
    },
    "0cd1932178c945d48604ffd299e65d2c": {
     "model_module": "@jupyter-widgets/base",
     "model_name": "LayoutModel",
     "state": {
      "_model_module": "@jupyter-widgets/base",
      "_model_module_version": "1.2.0",
      "_model_name": "LayoutModel",
      "_view_count": null,
      "_view_module": "@jupyter-widgets/base",
      "_view_module_version": "1.2.0",
      "_view_name": "LayoutView",
      "align_content": null,
      "align_items": null,
      "align_self": null,
      "border": null,
      "bottom": null,
      "display": null,
      "flex": null,
      "flex_flow": null,
      "grid_area": null,
      "grid_auto_columns": null,
      "grid_auto_flow": null,
      "grid_auto_rows": null,
      "grid_column": null,
      "grid_gap": null,
      "grid_row": null,
      "grid_template_areas": null,
      "grid_template_columns": null,
      "grid_template_rows": null,
      "height": null,
      "justify_content": null,
      "justify_items": null,
      "left": null,
      "margin": null,
      "max_height": null,
      "max_width": null,
      "min_height": null,
      "min_width": null,
      "object_fit": null,
      "object_position": null,
      "order": null,
      "overflow": null,
      "overflow_x": null,
      "overflow_y": null,
      "padding": null,
      "right": null,
      "top": null,
      "visibility": null,
      "width": null
     }
    },
    "0e999af234bd4b63ad2937e61d08b693": {
     "model_module": "@jupyter-widgets/base",
     "model_name": "LayoutModel",
     "state": {
      "_model_module": "@jupyter-widgets/base",
      "_model_module_version": "1.2.0",
      "_model_name": "LayoutModel",
      "_view_count": null,
      "_view_module": "@jupyter-widgets/base",
      "_view_module_version": "1.2.0",
      "_view_name": "LayoutView",
      "align_content": null,
      "align_items": null,
      "align_self": null,
      "border": null,
      "bottom": null,
      "display": null,
      "flex": null,
      "flex_flow": null,
      "grid_area": null,
      "grid_auto_columns": null,
      "grid_auto_flow": null,
      "grid_auto_rows": null,
      "grid_column": null,
      "grid_gap": null,
      "grid_row": null,
      "grid_template_areas": null,
      "grid_template_columns": null,
      "grid_template_rows": null,
      "height": null,
      "justify_content": null,
      "justify_items": null,
      "left": null,
      "margin": null,
      "max_height": null,
      "max_width": null,
      "min_height": null,
      "min_width": null,
      "object_fit": null,
      "object_position": null,
      "order": null,
      "overflow": null,
      "overflow_x": null,
      "overflow_y": null,
      "padding": null,
      "right": null,
      "top": null,
      "visibility": null,
      "width": null
     }
    },
    "0f3756509e3b405d87936f599b153de2": {
     "model_module": "@jupyter-widgets/base",
     "model_name": "LayoutModel",
     "state": {
      "_model_module": "@jupyter-widgets/base",
      "_model_module_version": "1.2.0",
      "_model_name": "LayoutModel",
      "_view_count": null,
      "_view_module": "@jupyter-widgets/base",
      "_view_module_version": "1.2.0",
      "_view_name": "LayoutView",
      "align_content": null,
      "align_items": null,
      "align_self": null,
      "border": null,
      "bottom": null,
      "display": null,
      "flex": null,
      "flex_flow": null,
      "grid_area": null,
      "grid_auto_columns": null,
      "grid_auto_flow": null,
      "grid_auto_rows": null,
      "grid_column": null,
      "grid_gap": null,
      "grid_row": null,
      "grid_template_areas": null,
      "grid_template_columns": null,
      "grid_template_rows": null,
      "height": null,
      "justify_content": null,
      "justify_items": null,
      "left": null,
      "margin": null,
      "max_height": null,
      "max_width": null,
      "min_height": null,
      "min_width": null,
      "object_fit": null,
      "object_position": null,
      "order": null,
      "overflow": null,
      "overflow_x": null,
      "overflow_y": null,
      "padding": null,
      "right": null,
      "top": null,
      "visibility": null,
      "width": null
     }
    },
    "0f99011a13754ed99f3c51a478b0e793": {
     "model_module": "@jupyter-widgets/controls",
     "model_name": "HBoxModel",
     "state": {
      "_dom_classes": [],
      "_model_module": "@jupyter-widgets/controls",
      "_model_module_version": "1.5.0",
      "_model_name": "HBoxModel",
      "_view_count": null,
      "_view_module": "@jupyter-widgets/controls",
      "_view_module_version": "1.5.0",
      "_view_name": "HBoxView",
      "box_style": "",
      "children": [
       "IPY_MODEL_bd187486ac2548f2961cfcb63d852de1",
       "IPY_MODEL_3f780f0aa8834fc189b292e0474e2ffa"
      ],
      "layout": "IPY_MODEL_4abe2731ec624729b401d60a392cae63"
     }
    },
    "0ffcbedb8d4444508ac0c3c0b41ea8ac": {
     "model_module": "@jupyter-widgets/base",
     "model_name": "LayoutModel",
     "state": {
      "_model_module": "@jupyter-widgets/base",
      "_model_module_version": "1.2.0",
      "_model_name": "LayoutModel",
      "_view_count": null,
      "_view_module": "@jupyter-widgets/base",
      "_view_module_version": "1.2.0",
      "_view_name": "LayoutView",
      "align_content": null,
      "align_items": null,
      "align_self": null,
      "border": null,
      "bottom": null,
      "display": null,
      "flex": null,
      "flex_flow": null,
      "grid_area": null,
      "grid_auto_columns": null,
      "grid_auto_flow": null,
      "grid_auto_rows": null,
      "grid_column": null,
      "grid_gap": null,
      "grid_row": null,
      "grid_template_areas": null,
      "grid_template_columns": null,
      "grid_template_rows": null,
      "height": null,
      "justify_content": null,
      "justify_items": null,
      "left": null,
      "margin": null,
      "max_height": null,
      "max_width": null,
      "min_height": null,
      "min_width": null,
      "object_fit": null,
      "object_position": null,
      "order": null,
      "overflow": null,
      "overflow_x": null,
      "overflow_y": null,
      "padding": null,
      "right": null,
      "top": null,
      "visibility": null,
      "width": null
     }
    },
    "1261590ef796493798f7068ea0547b74": {
     "model_module": "@jupyter-widgets/controls",
     "model_name": "ProgressStyleModel",
     "state": {
      "_model_module": "@jupyter-widgets/controls",
      "_model_module_version": "1.5.0",
      "_model_name": "ProgressStyleModel",
      "_view_count": null,
      "_view_module": "@jupyter-widgets/base",
      "_view_module_version": "1.2.0",
      "_view_name": "StyleView",
      "bar_color": null,
      "description_width": "initial"
     }
    },
    "12696cc03f464a63a411efb2b5e5ac3b": {
     "model_module": "@jupyter-widgets/controls",
     "model_name": "HTMLModel",
     "state": {
      "_dom_classes": [],
      "_model_module": "@jupyter-widgets/controls",
      "_model_module_version": "1.5.0",
      "_model_name": "HTMLModel",
      "_view_count": null,
      "_view_module": "@jupyter-widgets/controls",
      "_view_module_version": "1.5.0",
      "_view_name": "HTMLView",
      "description": "",
      "description_tooltip": null,
      "layout": "IPY_MODEL_ceb44ba4fdf34da19a52469acf1ce63f",
      "placeholder": "​",
      "style": "IPY_MODEL_68a3178fe7a54e838e798ff28ff9aa0b",
      "value": " 139k/? [00:00&lt;00:00, 2.38MB/s]"
     }
    },
    "1813458f75514f039ba0214597a09bb4": {
     "model_module": "@jupyter-widgets/base",
     "model_name": "LayoutModel",
     "state": {
      "_model_module": "@jupyter-widgets/base",
      "_model_module_version": "1.2.0",
      "_model_name": "LayoutModel",
      "_view_count": null,
      "_view_module": "@jupyter-widgets/base",
      "_view_module_version": "1.2.0",
      "_view_name": "LayoutView",
      "align_content": null,
      "align_items": null,
      "align_self": null,
      "border": null,
      "bottom": null,
      "display": null,
      "flex": null,
      "flex_flow": null,
      "grid_area": null,
      "grid_auto_columns": null,
      "grid_auto_flow": null,
      "grid_auto_rows": null,
      "grid_column": null,
      "grid_gap": null,
      "grid_row": null,
      "grid_template_areas": null,
      "grid_template_columns": null,
      "grid_template_rows": null,
      "height": null,
      "justify_content": null,
      "justify_items": null,
      "left": null,
      "margin": null,
      "max_height": null,
      "max_width": null,
      "min_height": null,
      "min_width": null,
      "object_fit": null,
      "object_position": null,
      "order": null,
      "overflow": null,
      "overflow_x": null,
      "overflow_y": null,
      "padding": null,
      "right": null,
      "top": null,
      "visibility": null,
      "width": null
     }
    },
    "19e263785ea343ba99ee2127d9b83d1d": {
     "model_module": "@jupyter-widgets/controls",
     "model_name": "DescriptionStyleModel",
     "state": {
      "_model_module": "@jupyter-widgets/controls",
      "_model_module_version": "1.5.0",
      "_model_name": "DescriptionStyleModel",
      "_view_count": null,
      "_view_module": "@jupyter-widgets/base",
      "_view_module_version": "1.2.0",
      "_view_name": "StyleView",
      "description_width": ""
     }
    },
    "1f1faa7b986e475c9e6839b2e7b55c74": {
     "model_module": "@jupyter-widgets/controls",
     "model_name": "HTMLModel",
     "state": {
      "_dom_classes": [],
      "_model_module": "@jupyter-widgets/controls",
      "_model_module_version": "1.5.0",
      "_model_name": "HTMLModel",
      "_view_count": null,
      "_view_module": "@jupyter-widgets/controls",
      "_view_module_version": "1.5.0",
      "_view_name": "HTMLView",
      "description": "",
      "description_tooltip": null,
      "layout": "IPY_MODEL_b320306eaf264ad9872d507a1a1cb2da",
      "placeholder": "​",
      "style": "IPY_MODEL_2ca2f397c4ef405bba27ae2b1415cada",
      "value": " 3478/3478 [03:59&lt;00:00, 14.53ex/s]"
     }
    },
    "20347ed29fdc4c0a96da28c09aacf44d": {
     "model_module": "@jupyter-widgets/controls",
     "model_name": "DescriptionStyleModel",
     "state": {
      "_model_module": "@jupyter-widgets/controls",
      "_model_module_version": "1.5.0",
      "_model_name": "DescriptionStyleModel",
      "_view_count": null,
      "_view_module": "@jupyter-widgets/base",
      "_view_module_version": "1.2.0",
      "_view_name": "StyleView",
      "description_width": ""
     }
    },
    "231c66f195d34f86b216805518f4bccd": {
     "model_module": "@jupyter-widgets/controls",
     "model_name": "ProgressStyleModel",
     "state": {
      "_model_module": "@jupyter-widgets/controls",
      "_model_module_version": "1.5.0",
      "_model_name": "ProgressStyleModel",
      "_view_count": null,
      "_view_module": "@jupyter-widgets/base",
      "_view_module_version": "1.2.0",
      "_view_name": "StyleView",
      "bar_color": null,
      "description_width": "initial"
     }
    },
    "24ea17ae8ab14e8a871e5e115c3f4c06": {
     "model_module": "@jupyter-widgets/controls",
     "model_name": "HBoxModel",
     "state": {
      "_dom_classes": [],
      "_model_module": "@jupyter-widgets/controls",
      "_model_module_version": "1.5.0",
      "_model_name": "HBoxModel",
      "_view_count": null,
      "_view_module": "@jupyter-widgets/controls",
      "_view_module_version": "1.5.0",
      "_view_name": "HBoxView",
      "box_style": "",
      "children": [
       "IPY_MODEL_f3905820a42c499fba04af9c1ad19705",
       "IPY_MODEL_4e1a725fd90b45e280b8b0028ba65250"
      ],
      "layout": "IPY_MODEL_f57d087016124ebeb073fd7428dcb68b"
     }
    },
    "25ba4f4c8b9c44af9885b3903a9261fd": {
     "model_module": "@jupyter-widgets/controls",
     "model_name": "HBoxModel",
     "state": {
      "_dom_classes": [],
      "_model_module": "@jupyter-widgets/controls",
      "_model_module_version": "1.5.0",
      "_model_name": "HBoxModel",
      "_view_count": null,
      "_view_module": "@jupyter-widgets/controls",
      "_view_module_version": "1.5.0",
      "_view_name": "HBoxView",
      "box_style": "",
      "children": [
       "IPY_MODEL_03b33c17734d49e28c4636dddd6e833d",
       "IPY_MODEL_71c059a0f3c246f3a40d55744331daaa"
      ],
      "layout": "IPY_MODEL_dde7ae43ef954ef1b901c80f0a4e11fd"
     }
    },
    "26e7bab0f3bf4797bfcef83dcace24f0": {
     "model_module": "@jupyter-widgets/base",
     "model_name": "LayoutModel",
     "state": {
      "_model_module": "@jupyter-widgets/base",
      "_model_module_version": "1.2.0",
      "_model_name": "LayoutModel",
      "_view_count": null,
      "_view_module": "@jupyter-widgets/base",
      "_view_module_version": "1.2.0",
      "_view_name": "LayoutView",
      "align_content": null,
      "align_items": null,
      "align_self": null,
      "border": null,
      "bottom": null,
      "display": null,
      "flex": null,
      "flex_flow": null,
      "grid_area": null,
      "grid_auto_columns": null,
      "grid_auto_flow": null,
      "grid_auto_rows": null,
      "grid_column": null,
      "grid_gap": null,
      "grid_row": null,
      "grid_template_areas": null,
      "grid_template_columns": null,
      "grid_template_rows": null,
      "height": null,
      "justify_content": null,
      "justify_items": null,
      "left": null,
      "margin": null,
      "max_height": null,
      "max_width": null,
      "min_height": null,
      "min_width": null,
      "object_fit": null,
      "object_position": null,
      "order": null,
      "overflow": null,
      "overflow_x": null,
      "overflow_y": null,
      "padding": null,
      "right": null,
      "top": null,
      "visibility": null,
      "width": null
     }
    },
    "2a6e1185a6a247f5acba8111824ad36b": {
     "model_module": "@jupyter-widgets/controls",
     "model_name": "ProgressStyleModel",
     "state": {
      "_model_module": "@jupyter-widgets/controls",
      "_model_module_version": "1.5.0",
      "_model_name": "ProgressStyleModel",
      "_view_count": null,
      "_view_module": "@jupyter-widgets/base",
      "_view_module_version": "1.2.0",
      "_view_name": "StyleView",
      "bar_color": null,
      "description_width": "initial"
     }
    },
    "2ca2f397c4ef405bba27ae2b1415cada": {
     "model_module": "@jupyter-widgets/controls",
     "model_name": "DescriptionStyleModel",
     "state": {
      "_model_module": "@jupyter-widgets/controls",
      "_model_module_version": "1.5.0",
      "_model_name": "DescriptionStyleModel",
      "_view_count": null,
      "_view_module": "@jupyter-widgets/base",
      "_view_module_version": "1.2.0",
      "_view_name": "StyleView",
      "description_width": ""
     }
    },
    "2cd13e03a2ab45dc8570c8c739a613b4": {
     "model_module": "@jupyter-widgets/base",
     "model_name": "LayoutModel",
     "state": {
      "_model_module": "@jupyter-widgets/base",
      "_model_module_version": "1.2.0",
      "_model_name": "LayoutModel",
      "_view_count": null,
      "_view_module": "@jupyter-widgets/base",
      "_view_module_version": "1.2.0",
      "_view_name": "LayoutView",
      "align_content": null,
      "align_items": null,
      "align_self": null,
      "border": null,
      "bottom": null,
      "display": null,
      "flex": null,
      "flex_flow": null,
      "grid_area": null,
      "grid_auto_columns": null,
      "grid_auto_flow": null,
      "grid_auto_rows": null,
      "grid_column": null,
      "grid_gap": null,
      "grid_row": null,
      "grid_template_areas": null,
      "grid_template_columns": null,
      "grid_template_rows": null,
      "height": null,
      "justify_content": null,
      "justify_items": null,
      "left": null,
      "margin": null,
      "max_height": null,
      "max_width": null,
      "min_height": null,
      "min_width": null,
      "object_fit": null,
      "object_position": null,
      "order": null,
      "overflow": null,
      "overflow_x": null,
      "overflow_y": null,
      "padding": null,
      "right": null,
      "top": null,
      "visibility": null,
      "width": null
     }
    },
    "2f18d89c684343b69c3f44ffbb9b42a0": {
     "model_module": "@jupyter-widgets/controls",
     "model_name": "DescriptionStyleModel",
     "state": {
      "_model_module": "@jupyter-widgets/controls",
      "_model_module_version": "1.5.0",
      "_model_name": "DescriptionStyleModel",
      "_view_count": null,
      "_view_module": "@jupyter-widgets/base",
      "_view_module_version": "1.2.0",
      "_view_name": "StyleView",
      "description_width": ""
     }
    },
    "2f5406546970425282a881b5d2f7c248": {
     "model_module": "@jupyter-widgets/base",
     "model_name": "LayoutModel",
     "state": {
      "_model_module": "@jupyter-widgets/base",
      "_model_module_version": "1.2.0",
      "_model_name": "LayoutModel",
      "_view_count": null,
      "_view_module": "@jupyter-widgets/base",
      "_view_module_version": "1.2.0",
      "_view_name": "LayoutView",
      "align_content": null,
      "align_items": null,
      "align_self": null,
      "border": null,
      "bottom": null,
      "display": null,
      "flex": null,
      "flex_flow": null,
      "grid_area": null,
      "grid_auto_columns": null,
      "grid_auto_flow": null,
      "grid_auto_rows": null,
      "grid_column": null,
      "grid_gap": null,
      "grid_row": null,
      "grid_template_areas": null,
      "grid_template_columns": null,
      "grid_template_rows": null,
      "height": null,
      "justify_content": null,
      "justify_items": null,
      "left": null,
      "margin": null,
      "max_height": null,
      "max_width": null,
      "min_height": null,
      "min_width": null,
      "object_fit": null,
      "object_position": null,
      "order": null,
      "overflow": null,
      "overflow_x": null,
      "overflow_y": null,
      "padding": null,
      "right": null,
      "top": null,
      "visibility": null,
      "width": null
     }
    },
    "2f727c76652944e3892dd584bea11af2": {
     "model_module": "@jupyter-widgets/controls",
     "model_name": "ProgressStyleModel",
     "state": {
      "_model_module": "@jupyter-widgets/controls",
      "_model_module_version": "1.5.0",
      "_model_name": "ProgressStyleModel",
      "_view_count": null,
      "_view_module": "@jupyter-widgets/base",
      "_view_module_version": "1.2.0",
      "_view_name": "StyleView",
      "bar_color": null,
      "description_width": "initial"
     }
    },
    "2fd148d5587b4139919b0158f9dad71e": {
     "model_module": "@jupyter-widgets/base",
     "model_name": "LayoutModel",
     "state": {
      "_model_module": "@jupyter-widgets/base",
      "_model_module_version": "1.2.0",
      "_model_name": "LayoutModel",
      "_view_count": null,
      "_view_module": "@jupyter-widgets/base",
      "_view_module_version": "1.2.0",
      "_view_name": "LayoutView",
      "align_content": null,
      "align_items": null,
      "align_self": null,
      "border": null,
      "bottom": null,
      "display": null,
      "flex": null,
      "flex_flow": null,
      "grid_area": null,
      "grid_auto_columns": null,
      "grid_auto_flow": null,
      "grid_auto_rows": null,
      "grid_column": null,
      "grid_gap": null,
      "grid_row": null,
      "grid_template_areas": null,
      "grid_template_columns": null,
      "grid_template_rows": null,
      "height": null,
      "justify_content": null,
      "justify_items": null,
      "left": null,
      "margin": null,
      "max_height": null,
      "max_width": null,
      "min_height": null,
      "min_width": null,
      "object_fit": null,
      "object_position": null,
      "order": null,
      "overflow": null,
      "overflow_x": null,
      "overflow_y": null,
      "padding": null,
      "right": null,
      "top": null,
      "visibility": null,
      "width": null
     }
    },
    "304e9130c12f4110941bfbd3db49a28c": {
     "model_module": "@jupyter-widgets/controls",
     "model_name": "HBoxModel",
     "state": {
      "_dom_classes": [],
      "_model_module": "@jupyter-widgets/controls",
      "_model_module_version": "1.5.0",
      "_model_name": "HBoxModel",
      "_view_count": null,
      "_view_module": "@jupyter-widgets/controls",
      "_view_module_version": "1.5.0",
      "_view_name": "HBoxView",
      "box_style": "",
      "children": [
       "IPY_MODEL_75e00c38605f44cfb584067db1160349",
       "IPY_MODEL_8c07a528fc4a4e108b393ab117fe2e46"
      ],
      "layout": "IPY_MODEL_5e6bae23461b4378b6e5fc890fe6bc97"
     }
    },
    "3133b378b9294a759c8dfb786ed8f815": {
     "model_module": "@jupyter-widgets/controls",
     "model_name": "ProgressStyleModel",
     "state": {
      "_model_module": "@jupyter-widgets/controls",
      "_model_module_version": "1.5.0",
      "_model_name": "ProgressStyleModel",
      "_view_count": null,
      "_view_module": "@jupyter-widgets/base",
      "_view_module_version": "1.2.0",
      "_view_name": "StyleView",
      "bar_color": null,
      "description_width": "initial"
     }
    },
    "330226a977694de1bd88c0aa3789be47": {
     "model_module": "@jupyter-widgets/base",
     "model_name": "LayoutModel",
     "state": {
      "_model_module": "@jupyter-widgets/base",
      "_model_module_version": "1.2.0",
      "_model_name": "LayoutModel",
      "_view_count": null,
      "_view_module": "@jupyter-widgets/base",
      "_view_module_version": "1.2.0",
      "_view_name": "LayoutView",
      "align_content": null,
      "align_items": null,
      "align_self": null,
      "border": null,
      "bottom": null,
      "display": null,
      "flex": null,
      "flex_flow": null,
      "grid_area": null,
      "grid_auto_columns": null,
      "grid_auto_flow": null,
      "grid_auto_rows": null,
      "grid_column": null,
      "grid_gap": null,
      "grid_row": null,
      "grid_template_areas": null,
      "grid_template_columns": null,
      "grid_template_rows": null,
      "height": null,
      "justify_content": null,
      "justify_items": null,
      "left": null,
      "margin": null,
      "max_height": null,
      "max_width": null,
      "min_height": null,
      "min_width": null,
      "object_fit": null,
      "object_position": null,
      "order": null,
      "overflow": null,
      "overflow_x": null,
      "overflow_y": null,
      "padding": null,
      "right": null,
      "top": null,
      "visibility": null,
      "width": null
     }
    },
    "33c92b5afd1d4b6d88016aabfb434194": {
     "model_module": "@jupyter-widgets/controls",
     "model_name": "FloatProgressModel",
     "state": {
      "_dom_classes": [],
      "_model_module": "@jupyter-widgets/controls",
      "_model_module_version": "1.5.0",
      "_model_name": "FloatProgressModel",
      "_view_count": null,
      "_view_module": "@jupyter-widgets/controls",
      "_view_module_version": "1.5.0",
      "_view_name": "ProgressView",
      "bar_style": "success",
      "description": "100%",
      "description_tooltip": null,
      "layout": "IPY_MODEL_3dc9ea77b842455a91f00e9ca9f41948",
      "max": 1647,
      "min": 0,
      "orientation": "horizontal",
      "style": "IPY_MODEL_45f0a2f361da4608bc8314a27657a56c",
      "value": 1647
     }
    },
    "348ef54c80b2449f8a3bc950cccd62cc": {
     "model_module": "@jupyter-widgets/controls",
     "model_name": "HBoxModel",
     "state": {
      "_dom_classes": [],
      "_model_module": "@jupyter-widgets/controls",
      "_model_module_version": "1.5.0",
      "_model_name": "HBoxModel",
      "_view_count": null,
      "_view_module": "@jupyter-widgets/controls",
      "_view_module_version": "1.5.0",
      "_view_name": "HBoxView",
      "box_style": "",
      "children": [
       "IPY_MODEL_7edbecaccdd94ede8fddc0e1807e777e",
       "IPY_MODEL_5e3aad95e52f4be2bd670d1345398f1b"
      ],
      "layout": "IPY_MODEL_b78413dcc0584a0c8f71731a06aaa1b8"
     }
    },
    "389e43e47a734193a507817ebad955f7": {
     "model_module": "@jupyter-widgets/base",
     "model_name": "LayoutModel",
     "state": {
      "_model_module": "@jupyter-widgets/base",
      "_model_module_version": "1.2.0",
      "_model_name": "LayoutModel",
      "_view_count": null,
      "_view_module": "@jupyter-widgets/base",
      "_view_module_version": "1.2.0",
      "_view_name": "LayoutView",
      "align_content": null,
      "align_items": null,
      "align_self": null,
      "border": null,
      "bottom": null,
      "display": null,
      "flex": null,
      "flex_flow": null,
      "grid_area": null,
      "grid_auto_columns": null,
      "grid_auto_flow": null,
      "grid_auto_rows": null,
      "grid_column": null,
      "grid_gap": null,
      "grid_row": null,
      "grid_template_areas": null,
      "grid_template_columns": null,
      "grid_template_rows": null,
      "height": null,
      "justify_content": null,
      "justify_items": null,
      "left": null,
      "margin": null,
      "max_height": null,
      "max_width": null,
      "min_height": null,
      "min_width": null,
      "object_fit": null,
      "object_position": null,
      "order": null,
      "overflow": null,
      "overflow_x": null,
      "overflow_y": null,
      "padding": null,
      "right": null,
      "top": null,
      "visibility": null,
      "width": null
     }
    },
    "3bdb4058f40f40e3a10e323325a64638": {
     "model_module": "@jupyter-widgets/controls",
     "model_name": "HTMLModel",
     "state": {
      "_dom_classes": [],
      "_model_module": "@jupyter-widgets/controls",
      "_model_module_version": "1.5.0",
      "_model_name": "HTMLModel",
      "_view_count": null,
      "_view_module": "@jupyter-widgets/controls",
      "_view_module_version": "1.5.0",
      "_view_name": "HTMLView",
      "description": "",
      "description_tooltip": null,
      "layout": "IPY_MODEL_d7f27e9cf8a844349ca90393e0c49a03",
      "placeholder": "​",
      "style": "IPY_MODEL_751ae6b9e2da4b85be9600561485f1ac",
      "value": " 412/412 [03:04&lt;00:00,  2.23ex/s]"
     }
    },
    "3d929b9e2518402b81a71757ffb753d2": {
     "model_module": "@jupyter-widgets/base",
     "model_name": "LayoutModel",
     "state": {
      "_model_module": "@jupyter-widgets/base",
      "_model_module_version": "1.2.0",
      "_model_name": "LayoutModel",
      "_view_count": null,
      "_view_module": "@jupyter-widgets/base",
      "_view_module_version": "1.2.0",
      "_view_name": "LayoutView",
      "align_content": null,
      "align_items": null,
      "align_self": null,
      "border": null,
      "bottom": null,
      "display": null,
      "flex": null,
      "flex_flow": null,
      "grid_area": null,
      "grid_auto_columns": null,
      "grid_auto_flow": null,
      "grid_auto_rows": null,
      "grid_column": null,
      "grid_gap": null,
      "grid_row": null,
      "grid_template_areas": null,
      "grid_template_columns": null,
      "grid_template_rows": null,
      "height": null,
      "justify_content": null,
      "justify_items": null,
      "left": null,
      "margin": null,
      "max_height": null,
      "max_width": null,
      "min_height": null,
      "min_width": null,
      "object_fit": null,
      "object_position": null,
      "order": null,
      "overflow": null,
      "overflow_x": null,
      "overflow_y": null,
      "padding": null,
      "right": null,
      "top": null,
      "visibility": null,
      "width": null
     }
    },
    "3dc9ea77b842455a91f00e9ca9f41948": {
     "model_module": "@jupyter-widgets/base",
     "model_name": "LayoutModel",
     "state": {
      "_model_module": "@jupyter-widgets/base",
      "_model_module_version": "1.2.0",
      "_model_name": "LayoutModel",
      "_view_count": null,
      "_view_module": "@jupyter-widgets/base",
      "_view_module_version": "1.2.0",
      "_view_name": "LayoutView",
      "align_content": null,
      "align_items": null,
      "align_self": null,
      "border": null,
      "bottom": null,
      "display": null,
      "flex": null,
      "flex_flow": null,
      "grid_area": null,
      "grid_auto_columns": null,
      "grid_auto_flow": null,
      "grid_auto_rows": null,
      "grid_column": null,
      "grid_gap": null,
      "grid_row": null,
      "grid_template_areas": null,
      "grid_template_columns": null,
      "grid_template_rows": null,
      "height": null,
      "justify_content": null,
      "justify_items": null,
      "left": null,
      "margin": null,
      "max_height": null,
      "max_width": null,
      "min_height": null,
      "min_width": null,
      "object_fit": null,
      "object_position": null,
      "order": null,
      "overflow": null,
      "overflow_x": null,
      "overflow_y": null,
      "padding": null,
      "right": null,
      "top": null,
      "visibility": null,
      "width": null
     }
    },
    "3e2cd59ac697495f8db14b894b783f95": {
     "model_module": "@jupyter-widgets/base",
     "model_name": "LayoutModel",
     "state": {
      "_model_module": "@jupyter-widgets/base",
      "_model_module_version": "1.2.0",
      "_model_name": "LayoutModel",
      "_view_count": null,
      "_view_module": "@jupyter-widgets/base",
      "_view_module_version": "1.2.0",
      "_view_name": "LayoutView",
      "align_content": null,
      "align_items": null,
      "align_self": null,
      "border": null,
      "bottom": null,
      "display": null,
      "flex": null,
      "flex_flow": null,
      "grid_area": null,
      "grid_auto_columns": null,
      "grid_auto_flow": null,
      "grid_auto_rows": null,
      "grid_column": null,
      "grid_gap": null,
      "grid_row": null,
      "grid_template_areas": null,
      "grid_template_columns": null,
      "grid_template_rows": null,
      "height": null,
      "justify_content": null,
      "justify_items": null,
      "left": null,
      "margin": null,
      "max_height": null,
      "max_width": null,
      "min_height": null,
      "min_width": null,
      "object_fit": null,
      "object_position": null,
      "order": null,
      "overflow": null,
      "overflow_x": null,
      "overflow_y": null,
      "padding": null,
      "right": null,
      "top": null,
      "visibility": null,
      "width": null
     }
    },
    "3e3a022a9f304b0f9f7ef067fcee1e56": {
     "model_module": "@jupyter-widgets/base",
     "model_name": "LayoutModel",
     "state": {
      "_model_module": "@jupyter-widgets/base",
      "_model_module_version": "1.2.0",
      "_model_name": "LayoutModel",
      "_view_count": null,
      "_view_module": "@jupyter-widgets/base",
      "_view_module_version": "1.2.0",
      "_view_name": "LayoutView",
      "align_content": null,
      "align_items": null,
      "align_self": null,
      "border": null,
      "bottom": null,
      "display": null,
      "flex": null,
      "flex_flow": null,
      "grid_area": null,
      "grid_auto_columns": null,
      "grid_auto_flow": null,
      "grid_auto_rows": null,
      "grid_column": null,
      "grid_gap": null,
      "grid_row": null,
      "grid_template_areas": null,
      "grid_template_columns": null,
      "grid_template_rows": null,
      "height": null,
      "justify_content": null,
      "justify_items": null,
      "left": null,
      "margin": null,
      "max_height": null,
      "max_width": null,
      "min_height": null,
      "min_width": null,
      "object_fit": null,
      "object_position": null,
      "order": null,
      "overflow": null,
      "overflow_x": null,
      "overflow_y": null,
      "padding": null,
      "right": null,
      "top": null,
      "visibility": null,
      "width": null
     }
    },
    "3ec3285e9f3e4a5abcefabb7f140f4a3": {
     "model_module": "@jupyter-widgets/controls",
     "model_name": "ProgressStyleModel",
     "state": {
      "_model_module": "@jupyter-widgets/controls",
      "_model_module_version": "1.5.0",
      "_model_name": "ProgressStyleModel",
      "_view_count": null,
      "_view_module": "@jupyter-widgets/base",
      "_view_module_version": "1.2.0",
      "_view_name": "StyleView",
      "bar_color": null,
      "description_width": "initial"
     }
    },
    "3f780f0aa8834fc189b292e0474e2ffa": {
     "model_module": "@jupyter-widgets/controls",
     "model_name": "HTMLModel",
     "state": {
      "_dom_classes": [],
      "_model_module": "@jupyter-widgets/controls",
      "_model_module_version": "1.5.0",
      "_model_name": "HTMLModel",
      "_view_count": null,
      "_view_module": "@jupyter-widgets/controls",
      "_view_module_version": "1.5.0",
      "_view_name": "HTMLView",
      "description": "",
      "description_tooltip": null,
      "layout": "IPY_MODEL_a868dea9d9b047a4b853b390e138e4c1",
      "placeholder": "​",
      "style": "IPY_MODEL_ec36a94ee2574ac8b227ccaefdee5520",
      "value": " 52/52 [00:31&lt;00:00,  1.67ba/s]"
     }
    },
    "405b5de4ae854cf9896f63d15f2207dd": {
     "model_module": "@jupyter-widgets/controls",
     "model_name": "DescriptionStyleModel",
     "state": {
      "_model_module": "@jupyter-widgets/controls",
      "_model_module_version": "1.5.0",
      "_model_name": "DescriptionStyleModel",
      "_view_count": null,
      "_view_module": "@jupyter-widgets/base",
      "_view_module_version": "1.2.0",
      "_view_name": "StyleView",
      "description_width": ""
     }
    },
    "416badb151ee4660b53fdbc136e0c8fb": {
     "model_module": "@jupyter-widgets/controls",
     "model_name": "HTMLModel",
     "state": {
      "_dom_classes": [],
      "_model_module": "@jupyter-widgets/controls",
      "_model_module_version": "1.5.0",
      "_model_name": "HTMLModel",
      "_view_count": null,
      "_view_module": "@jupyter-widgets/controls",
      "_view_module_version": "1.5.0",
      "_view_name": "HTMLView",
      "description": "",
      "description_tooltip": null,
      "layout": "IPY_MODEL_0f3756509e3b405d87936f599b153de2",
      "placeholder": "​",
      "style": "IPY_MODEL_824569c63ec445c08362659ca228dd2a",
      "value": " 412/412 [03:01&lt;00:00,  2.28ex/s]"
     }
    },
    "430c3c079d0e4006b90e72df7986ffb0": {
     "model_module": "@jupyter-widgets/base",
     "model_name": "LayoutModel",
     "state": {
      "_model_module": "@jupyter-widgets/base",
      "_model_module_version": "1.2.0",
      "_model_name": "LayoutModel",
      "_view_count": null,
      "_view_module": "@jupyter-widgets/base",
      "_view_module_version": "1.2.0",
      "_view_name": "LayoutView",
      "align_content": null,
      "align_items": null,
      "align_self": null,
      "border": null,
      "bottom": null,
      "display": null,
      "flex": null,
      "flex_flow": null,
      "grid_area": null,
      "grid_auto_columns": null,
      "grid_auto_flow": null,
      "grid_auto_rows": null,
      "grid_column": null,
      "grid_gap": null,
      "grid_row": null,
      "grid_template_areas": null,
      "grid_template_columns": null,
      "grid_template_rows": null,
      "height": null,
      "justify_content": null,
      "justify_items": null,
      "left": null,
      "margin": null,
      "max_height": null,
      "max_width": null,
      "min_height": null,
      "min_width": null,
      "object_fit": null,
      "object_position": null,
      "order": null,
      "overflow": null,
      "overflow_x": null,
      "overflow_y": null,
      "padding": null,
      "right": null,
      "top": null,
      "visibility": null,
      "width": null
     }
    },
    "4382726ef043441a9b1a4a647d84f242": {
     "model_module": "@jupyter-widgets/controls",
     "model_name": "ProgressStyleModel",
     "state": {
      "_model_module": "@jupyter-widgets/controls",
      "_model_module_version": "1.5.0",
      "_model_name": "ProgressStyleModel",
      "_view_count": null,
      "_view_module": "@jupyter-widgets/base",
      "_view_module_version": "1.2.0",
      "_view_name": "StyleView",
      "bar_color": null,
      "description_width": "initial"
     }
    },
    "45f0a2f361da4608bc8314a27657a56c": {
     "model_module": "@jupyter-widgets/controls",
     "model_name": "ProgressStyleModel",
     "state": {
      "_model_module": "@jupyter-widgets/controls",
      "_model_module_version": "1.5.0",
      "_model_name": "ProgressStyleModel",
      "_view_count": null,
      "_view_module": "@jupyter-widgets/base",
      "_view_module_version": "1.2.0",
      "_view_name": "StyleView",
      "bar_color": null,
      "description_width": "initial"
     }
    },
    "4797f1acd9924b4e97f12f964c83078c": {
     "model_module": "@jupyter-widgets/controls",
     "model_name": "HBoxModel",
     "state": {
      "_dom_classes": [],
      "_model_module": "@jupyter-widgets/controls",
      "_model_module_version": "1.5.0",
      "_model_name": "HBoxModel",
      "_view_count": null,
      "_view_module": "@jupyter-widgets/controls",
      "_view_module_version": "1.5.0",
      "_view_name": "HBoxView",
      "box_style": "",
      "children": [
       "IPY_MODEL_5370c0f2d54b45c0a89f11fb5b70cd4b",
       "IPY_MODEL_018c1f8e198e4df4b480e609bd1be602"
      ],
      "layout": "IPY_MODEL_73940df84ffd4e0f96637342e9fd12b7"
     }
    },
    "47a6c3c427614f21a6dab1c048e5dd37": {
     "model_module": "@jupyter-widgets/base",
     "model_name": "LayoutModel",
     "state": {
      "_model_module": "@jupyter-widgets/base",
      "_model_module_version": "1.2.0",
      "_model_name": "LayoutModel",
      "_view_count": null,
      "_view_module": "@jupyter-widgets/base",
      "_view_module_version": "1.2.0",
      "_view_name": "LayoutView",
      "align_content": null,
      "align_items": null,
      "align_self": null,
      "border": null,
      "bottom": null,
      "display": null,
      "flex": null,
      "flex_flow": null,
      "grid_area": null,
      "grid_auto_columns": null,
      "grid_auto_flow": null,
      "grid_auto_rows": null,
      "grid_column": null,
      "grid_gap": null,
      "grid_row": null,
      "grid_template_areas": null,
      "grid_template_columns": null,
      "grid_template_rows": null,
      "height": null,
      "justify_content": null,
      "justify_items": null,
      "left": null,
      "margin": null,
      "max_height": null,
      "max_width": null,
      "min_height": null,
      "min_width": null,
      "object_fit": null,
      "object_position": null,
      "order": null,
      "overflow": null,
      "overflow_x": null,
      "overflow_y": null,
      "padding": null,
      "right": null,
      "top": null,
      "visibility": null,
      "width": null
     }
    },
    "491fd969d61a478f8e85ffcd3e1a3e20": {
     "model_module": "@jupyter-widgets/base",
     "model_name": "LayoutModel",
     "state": {
      "_model_module": "@jupyter-widgets/base",
      "_model_module_version": "1.2.0",
      "_model_name": "LayoutModel",
      "_view_count": null,
      "_view_module": "@jupyter-widgets/base",
      "_view_module_version": "1.2.0",
      "_view_name": "LayoutView",
      "align_content": null,
      "align_items": null,
      "align_self": null,
      "border": null,
      "bottom": null,
      "display": null,
      "flex": null,
      "flex_flow": null,
      "grid_area": null,
      "grid_auto_columns": null,
      "grid_auto_flow": null,
      "grid_auto_rows": null,
      "grid_column": null,
      "grid_gap": null,
      "grid_row": null,
      "grid_template_areas": null,
      "grid_template_columns": null,
      "grid_template_rows": null,
      "height": null,
      "justify_content": null,
      "justify_items": null,
      "left": null,
      "margin": null,
      "max_height": null,
      "max_width": null,
      "min_height": null,
      "min_width": null,
      "object_fit": null,
      "object_position": null,
      "order": null,
      "overflow": null,
      "overflow_x": null,
      "overflow_y": null,
      "padding": null,
      "right": null,
      "top": null,
      "visibility": null,
      "width": null
     }
    },
    "49defa4284554baf85f32de242b22709": {
     "model_module": "@jupyter-widgets/controls",
     "model_name": "ProgressStyleModel",
     "state": {
      "_model_module": "@jupyter-widgets/controls",
      "_model_module_version": "1.5.0",
      "_model_name": "ProgressStyleModel",
      "_view_count": null,
      "_view_module": "@jupyter-widgets/base",
      "_view_module_version": "1.2.0",
      "_view_name": "StyleView",
      "bar_color": null,
      "description_width": "initial"
     }
    },
    "4abe2731ec624729b401d60a392cae63": {
     "model_module": "@jupyter-widgets/base",
     "model_name": "LayoutModel",
     "state": {
      "_model_module": "@jupyter-widgets/base",
      "_model_module_version": "1.2.0",
      "_model_name": "LayoutModel",
      "_view_count": null,
      "_view_module": "@jupyter-widgets/base",
      "_view_module_version": "1.2.0",
      "_view_name": "LayoutView",
      "align_content": null,
      "align_items": null,
      "align_self": null,
      "border": null,
      "bottom": null,
      "display": null,
      "flex": null,
      "flex_flow": null,
      "grid_area": null,
      "grid_auto_columns": null,
      "grid_auto_flow": null,
      "grid_auto_rows": null,
      "grid_column": null,
      "grid_gap": null,
      "grid_row": null,
      "grid_template_areas": null,
      "grid_template_columns": null,
      "grid_template_rows": null,
      "height": null,
      "justify_content": null,
      "justify_items": null,
      "left": null,
      "margin": null,
      "max_height": null,
      "max_width": null,
      "min_height": null,
      "min_width": null,
      "object_fit": null,
      "object_position": null,
      "order": null,
      "overflow": null,
      "overflow_x": null,
      "overflow_y": null,
      "padding": null,
      "right": null,
      "top": null,
      "visibility": null,
      "width": null
     }
    },
    "4c0ad31e73234e46aac0a297ec18bdeb": {
     "model_module": "@jupyter-widgets/controls",
     "model_name": "ProgressStyleModel",
     "state": {
      "_model_module": "@jupyter-widgets/controls",
      "_model_module_version": "1.5.0",
      "_model_name": "ProgressStyleModel",
      "_view_count": null,
      "_view_module": "@jupyter-widgets/base",
      "_view_module_version": "1.2.0",
      "_view_name": "StyleView",
      "bar_color": null,
      "description_width": "initial"
     }
    },
    "4db5037af3f64a3a8a8a1203018a80ff": {
     "model_module": "@jupyter-widgets/controls",
     "model_name": "FloatProgressModel",
     "state": {
      "_dom_classes": [],
      "_model_module": "@jupyter-widgets/controls",
      "_model_module_version": "1.5.0",
      "_model_name": "FloatProgressModel",
      "_view_count": null,
      "_view_module": "@jupyter-widgets/controls",
      "_view_module_version": "1.5.0",
      "_view_name": "ProgressView",
      "bar_style": "info",
      "description": "",
      "description_tooltip": null,
      "layout": "IPY_MODEL_c0e6b6e6395d4dbd827eb1c0de1ad21a",
      "max": 1,
      "min": 0,
      "orientation": "horizontal",
      "style": "IPY_MODEL_2a6e1185a6a247f5acba8111824ad36b",
      "value": 1
     }
    },
    "4e1a725fd90b45e280b8b0028ba65250": {
     "model_module": "@jupyter-widgets/controls",
     "model_name": "HTMLModel",
     "state": {
      "_dom_classes": [],
      "_model_module": "@jupyter-widgets/controls",
      "_model_module_version": "1.5.0",
      "_model_name": "HTMLModel",
      "_view_count": null,
      "_view_module": "@jupyter-widgets/controls",
      "_view_module_version": "1.5.0",
      "_view_name": "HTMLView",
      "description": "",
      "description_tooltip": null,
      "layout": "IPY_MODEL_491fd969d61a478f8e85ffcd3e1a3e20",
      "placeholder": "​",
      "style": "IPY_MODEL_9f79629ad6a94201acf3283862d1ae17",
      "value": " 869/869 [05:48&lt;00:00,  2.49ex/s]"
     }
    },
    "4f8957dc035d4c1a9e8630fc8ab8cd10": {
     "model_module": "@jupyter-widgets/controls",
     "model_name": "FloatProgressModel",
     "state": {
      "_dom_classes": [],
      "_model_module": "@jupyter-widgets/controls",
      "_model_module_version": "1.5.0",
      "_model_name": "FloatProgressModel",
      "_view_count": null,
      "_view_module": "@jupyter-widgets/controls",
      "_view_module_version": "1.5.0",
      "_view_name": "ProgressView",
      "bar_style": "success",
      "description": "#1: 100%",
      "description_tooltip": null,
      "layout": "IPY_MODEL_47a6c3c427614f21a6dab1c048e5dd37",
      "max": 870,
      "min": 0,
      "orientation": "horizontal",
      "style": "IPY_MODEL_596aea0362924c7db583203268dd5a3e",
      "value": 870
     }
    },
    "4fb7347e9ca542e6ab9003bf4db218e0": {
     "model_module": "@jupyter-widgets/controls",
     "model_name": "HTMLModel",
     "state": {
      "_dom_classes": [],
      "_model_module": "@jupyter-widgets/controls",
      "_model_module_version": "1.5.0",
      "_model_name": "HTMLModel",
      "_view_count": null,
      "_view_module": "@jupyter-widgets/controls",
      "_view_module_version": "1.5.0",
      "_view_name": "HTMLView",
      "description": "",
      "description_tooltip": null,
      "layout": "IPY_MODEL_0987aac282af415da2fbc9dc1b4d5069",
      "placeholder": "​",
      "style": "IPY_MODEL_6d4a26d876fb4ac6b5948a09945bdc6b",
      "value": " 109/109 [00:58&lt;00:00,  1.88ba/s]"
     }
    },
    "4ff7ccffc36a4a0f93031f5cdc3b718d": {
     "model_module": "@jupyter-widgets/controls",
     "model_name": "ProgressStyleModel",
     "state": {
      "_model_module": "@jupyter-widgets/controls",
      "_model_module_version": "1.5.0",
      "_model_name": "ProgressStyleModel",
      "_view_count": null,
      "_view_module": "@jupyter-widgets/base",
      "_view_module_version": "1.2.0",
      "_view_name": "StyleView",
      "bar_color": null,
      "description_width": "initial"
     }
    },
    "5071a31d06f544a5b7340a4e863d8fdf": {
     "model_module": "@jupyter-widgets/controls",
     "model_name": "FloatProgressModel",
     "state": {
      "_dom_classes": [],
      "_model_module": "@jupyter-widgets/controls",
      "_model_module_version": "1.5.0",
      "_model_name": "FloatProgressModel",
      "_view_count": null,
      "_view_module": "@jupyter-widgets/controls",
      "_view_module_version": "1.5.0",
      "_view_name": "ProgressView",
      "bar_style": "success",
      "description": "#3: 100%",
      "description_tooltip": null,
      "layout": "IPY_MODEL_b2473405490e4556bf30c0cc81237aa5",
      "max": 109,
      "min": 0,
      "orientation": "horizontal",
      "style": "IPY_MODEL_49defa4284554baf85f32de242b22709",
      "value": 109
     }
    },
    "530f66ac087e4f8f979fcaa33941c60d": {
     "model_module": "@jupyter-widgets/controls",
     "model_name": "ProgressStyleModel",
     "state": {
      "_model_module": "@jupyter-widgets/controls",
      "_model_module_version": "1.5.0",
      "_model_name": "ProgressStyleModel",
      "_view_count": null,
      "_view_module": "@jupyter-widgets/base",
      "_view_module_version": "1.2.0",
      "_view_name": "StyleView",
      "bar_color": null,
      "description_width": "initial"
     }
    },
    "5370c0f2d54b45c0a89f11fb5b70cd4b": {
     "model_module": "@jupyter-widgets/controls",
     "model_name": "FloatProgressModel",
     "state": {
      "_dom_classes": [],
      "_model_module": "@jupyter-widgets/controls",
      "_model_module_version": "1.5.0",
      "_model_name": "FloatProgressModel",
      "_view_count": null,
      "_view_module": "@jupyter-widgets/controls",
      "_view_module_version": "1.5.0",
      "_view_name": "ProgressView",
      "bar_style": "success",
      "description": "#0: 100%",
      "description_tooltip": null,
      "layout": "IPY_MODEL_020bdb330b0d40f5b89697ff37025f69",
      "max": 109,
      "min": 0,
      "orientation": "horizontal",
      "style": "IPY_MODEL_fa7926bbe77e48b3a0648b45f5d2dc7a",
      "value": 109
     }
    },
    "540510088d3947f1b3cf6f4c983c1a53": {
     "model_module": "@jupyter-widgets/base",
     "model_name": "LayoutModel",
     "state": {
      "_model_module": "@jupyter-widgets/base",
      "_model_module_version": "1.2.0",
      "_model_name": "LayoutModel",
      "_view_count": null,
      "_view_module": "@jupyter-widgets/base",
      "_view_module_version": "1.2.0",
      "_view_name": "LayoutView",
      "align_content": null,
      "align_items": null,
      "align_self": null,
      "border": null,
      "bottom": null,
      "display": null,
      "flex": null,
      "flex_flow": null,
      "grid_area": null,
      "grid_auto_columns": null,
      "grid_auto_flow": null,
      "grid_auto_rows": null,
      "grid_column": null,
      "grid_gap": null,
      "grid_row": null,
      "grid_template_areas": null,
      "grid_template_columns": null,
      "grid_template_rows": null,
      "height": null,
      "justify_content": null,
      "justify_items": null,
      "left": null,
      "margin": null,
      "max_height": null,
      "max_width": null,
      "min_height": null,
      "min_width": null,
      "object_fit": null,
      "object_position": null,
      "order": null,
      "overflow": null,
      "overflow_x": null,
      "overflow_y": null,
      "padding": null,
      "right": null,
      "top": null,
      "visibility": null,
      "width": null
     }
    },
    "542027ba12f444d586e8072452badea0": {
     "model_module": "@jupyter-widgets/controls",
     "model_name": "HTMLModel",
     "state": {
      "_dom_classes": [],
      "_model_module": "@jupyter-widgets/controls",
      "_model_module_version": "1.5.0",
      "_model_name": "HTMLModel",
      "_view_count": null,
      "_view_module": "@jupyter-widgets/controls",
      "_view_module_version": "1.5.0",
      "_view_name": "HTMLView",
      "description": "",
      "description_tooltip": null,
      "layout": "IPY_MODEL_bc41384bbae04044b9780651c6b5a47c",
      "placeholder": "​",
      "style": "IPY_MODEL_02bdb06c176145feaa842b97ae58609c",
      "value": " 109/109 [00:58&lt;00:00,  1.88ba/s]"
     }
    },
    "55071fc1b7484620803aeba453e9af72": {
     "model_module": "@jupyter-widgets/base",
     "model_name": "LayoutModel",
     "state": {
      "_model_module": "@jupyter-widgets/base",
      "_model_module_version": "1.2.0",
      "_model_name": "LayoutModel",
      "_view_count": null,
      "_view_module": "@jupyter-widgets/base",
      "_view_module_version": "1.2.0",
      "_view_name": "LayoutView",
      "align_content": null,
      "align_items": null,
      "align_self": null,
      "border": null,
      "bottom": null,
      "display": null,
      "flex": null,
      "flex_flow": null,
      "grid_area": null,
      "grid_auto_columns": null,
      "grid_auto_flow": null,
      "grid_auto_rows": null,
      "grid_column": null,
      "grid_gap": null,
      "grid_row": null,
      "grid_template_areas": null,
      "grid_template_columns": null,
      "grid_template_rows": null,
      "height": null,
      "justify_content": null,
      "justify_items": null,
      "left": null,
      "margin": null,
      "max_height": null,
      "max_width": null,
      "min_height": null,
      "min_width": null,
      "object_fit": null,
      "object_position": null,
      "order": null,
      "overflow": null,
      "overflow_x": null,
      "overflow_y": null,
      "padding": null,
      "right": null,
      "top": null,
      "visibility": null,
      "width": null
     }
    },
    "56ad6231a0a04228be29ceecbc6b7c0e": {
     "model_module": "@jupyter-widgets/base",
     "model_name": "LayoutModel",
     "state": {
      "_model_module": "@jupyter-widgets/base",
      "_model_module_version": "1.2.0",
      "_model_name": "LayoutModel",
      "_view_count": null,
      "_view_module": "@jupyter-widgets/base",
      "_view_module_version": "1.2.0",
      "_view_name": "LayoutView",
      "align_content": null,
      "align_items": null,
      "align_self": null,
      "border": null,
      "bottom": null,
      "display": null,
      "flex": null,
      "flex_flow": null,
      "grid_area": null,
      "grid_auto_columns": null,
      "grid_auto_flow": null,
      "grid_auto_rows": null,
      "grid_column": null,
      "grid_gap": null,
      "grid_row": null,
      "grid_template_areas": null,
      "grid_template_columns": null,
      "grid_template_rows": null,
      "height": null,
      "justify_content": null,
      "justify_items": null,
      "left": null,
      "margin": null,
      "max_height": null,
      "max_width": null,
      "min_height": null,
      "min_width": null,
      "object_fit": null,
      "object_position": null,
      "order": null,
      "overflow": null,
      "overflow_x": null,
      "overflow_y": null,
      "padding": null,
      "right": null,
      "top": null,
      "visibility": null,
      "width": null
     }
    },
    "57198e3250374e1fa64c5a4be255861e": {
     "model_module": "@jupyter-widgets/controls",
     "model_name": "HTMLModel",
     "state": {
      "_dom_classes": [],
      "_model_module": "@jupyter-widgets/controls",
      "_model_module_version": "1.5.0",
      "_model_name": "HTMLModel",
      "_view_count": null,
      "_view_module": "@jupyter-widgets/controls",
      "_view_module_version": "1.5.0",
      "_view_name": "HTMLView",
      "description": "",
      "description_tooltip": null,
      "layout": "IPY_MODEL_8f737725708c4097a8caaf4da6229636",
      "placeholder": "​",
      "style": "IPY_MODEL_969080b52ad44ee997829986d198c505",
      "value": " 3.90k/? [00:00&lt;00:00, 23.0kB/s]"
     }
    },
    "579b6055028f473981ce789a0733a753": {
     "model_module": "@jupyter-widgets/controls",
     "model_name": "FloatProgressModel",
     "state": {
      "_dom_classes": [],
      "_model_module": "@jupyter-widgets/controls",
      "_model_module_version": "1.5.0",
      "_model_name": "FloatProgressModel",
      "_view_count": null,
      "_view_module": "@jupyter-widgets/controls",
      "_view_module_version": "1.5.0",
      "_view_name": "ProgressView",
      "bar_style": "success",
      "description": "#2: 100%",
      "description_tooltip": null,
      "layout": "IPY_MODEL_6de66d6b7a73434cbdc59b2109bdf0a0",
      "max": 109,
      "min": 0,
      "orientation": "horizontal",
      "style": "IPY_MODEL_3133b378b9294a759c8dfb786ed8f815",
      "value": 109
     }
    },
    "58f3e8002f984594ac05c973aa78ef69": {
     "model_module": "@jupyter-widgets/base",
     "model_name": "LayoutModel",
     "state": {
      "_model_module": "@jupyter-widgets/base",
      "_model_module_version": "1.2.0",
      "_model_name": "LayoutModel",
      "_view_count": null,
      "_view_module": "@jupyter-widgets/base",
      "_view_module_version": "1.2.0",
      "_view_name": "LayoutView",
      "align_content": null,
      "align_items": null,
      "align_self": null,
      "border": null,
      "bottom": null,
      "display": null,
      "flex": null,
      "flex_flow": null,
      "grid_area": null,
      "grid_auto_columns": null,
      "grid_auto_flow": null,
      "grid_auto_rows": null,
      "grid_column": null,
      "grid_gap": null,
      "grid_row": null,
      "grid_template_areas": null,
      "grid_template_columns": null,
      "grid_template_rows": null,
      "height": null,
      "justify_content": null,
      "justify_items": null,
      "left": null,
      "margin": null,
      "max_height": null,
      "max_width": null,
      "min_height": null,
      "min_width": null,
      "object_fit": null,
      "object_position": null,
      "order": null,
      "overflow": null,
      "overflow_x": null,
      "overflow_y": null,
      "padding": null,
      "right": null,
      "top": null,
      "visibility": null,
      "width": null
     }
    },
    "596aea0362924c7db583203268dd5a3e": {
     "model_module": "@jupyter-widgets/controls",
     "model_name": "ProgressStyleModel",
     "state": {
      "_model_module": "@jupyter-widgets/controls",
      "_model_module_version": "1.5.0",
      "_model_name": "ProgressStyleModel",
      "_view_count": null,
      "_view_module": "@jupyter-widgets/base",
      "_view_module_version": "1.2.0",
      "_view_name": "StyleView",
      "bar_color": null,
      "description_width": "initial"
     }
    },
    "59e0f5200068461cbfb256ad5479c4c8": {
     "model_module": "@jupyter-widgets/controls",
     "model_name": "DescriptionStyleModel",
     "state": {
      "_model_module": "@jupyter-widgets/controls",
      "_model_module_version": "1.5.0",
      "_model_name": "DescriptionStyleModel",
      "_view_count": null,
      "_view_module": "@jupyter-widgets/base",
      "_view_module_version": "1.2.0",
      "_view_name": "StyleView",
      "description_width": ""
     }
    },
    "5a5bc8b4a1c644dea08a60128d888d10": {
     "model_module": "@jupyter-widgets/controls",
     "model_name": "DescriptionStyleModel",
     "state": {
      "_model_module": "@jupyter-widgets/controls",
      "_model_module_version": "1.5.0",
      "_model_name": "DescriptionStyleModel",
      "_view_count": null,
      "_view_module": "@jupyter-widgets/base",
      "_view_module_version": "1.2.0",
      "_view_name": "StyleView",
      "description_width": ""
     }
    },
    "5ab30242cd154ec0b560c23c0f178546": {
     "model_module": "@jupyter-widgets/controls",
     "model_name": "ProgressStyleModel",
     "state": {
      "_model_module": "@jupyter-widgets/controls",
      "_model_module_version": "1.5.0",
      "_model_name": "ProgressStyleModel",
      "_view_count": null,
      "_view_module": "@jupyter-widgets/base",
      "_view_module_version": "1.2.0",
      "_view_name": "StyleView",
      "bar_color": null,
      "description_width": "initial"
     }
    },
    "5ccd12253fff448f9c15c9b03c70a408": {
     "model_module": "@jupyter-widgets/controls",
     "model_name": "HBoxModel",
     "state": {
      "_dom_classes": [],
      "_model_module": "@jupyter-widgets/controls",
      "_model_module_version": "1.5.0",
      "_model_name": "HBoxModel",
      "_view_count": null,
      "_view_module": "@jupyter-widgets/controls",
      "_view_module_version": "1.5.0",
      "_view_name": "HBoxView",
      "box_style": "",
      "children": [
       "IPY_MODEL_f203c54e7e054d97aa4d1097f320f611",
       "IPY_MODEL_6266a4019e124aff877bb55f21740180"
      ],
      "layout": "IPY_MODEL_330226a977694de1bd88c0aa3789be47"
     }
    },
    "5e3aad95e52f4be2bd670d1345398f1b": {
     "model_module": "@jupyter-widgets/controls",
     "model_name": "HTMLModel",
     "state": {
      "_dom_classes": [],
      "_model_module": "@jupyter-widgets/controls",
      "_model_module_version": "1.5.0",
      "_model_name": "HTMLModel",
      "_view_count": null,
      "_view_module": "@jupyter-widgets/controls",
      "_view_module_version": "1.5.0",
      "_view_name": "HTMLView",
      "description": "",
      "description_tooltip": null,
      "layout": "IPY_MODEL_99d5c44ea54b45ee9bd89380cb1ad189",
      "placeholder": "​",
      "style": "IPY_MODEL_7aa70322bdfe46938b583a20003093d5",
      "value": " 3478/3478 [03:16&lt;00:00, 17.67ex/s]"
     }
    },
    "5e6bae23461b4378b6e5fc890fe6bc97": {
     "model_module": "@jupyter-widgets/base",
     "model_name": "LayoutModel",
     "state": {
      "_model_module": "@jupyter-widgets/base",
      "_model_module_version": "1.2.0",
      "_model_name": "LayoutModel",
      "_view_count": null,
      "_view_module": "@jupyter-widgets/base",
      "_view_module_version": "1.2.0",
      "_view_name": "LayoutView",
      "align_content": null,
      "align_items": null,
      "align_self": null,
      "border": null,
      "bottom": null,
      "display": null,
      "flex": null,
      "flex_flow": null,
      "grid_area": null,
      "grid_auto_columns": null,
      "grid_auto_flow": null,
      "grid_auto_rows": null,
      "grid_column": null,
      "grid_gap": null,
      "grid_row": null,
      "grid_template_areas": null,
      "grid_template_columns": null,
      "grid_template_rows": null,
      "height": null,
      "justify_content": null,
      "justify_items": null,
      "left": null,
      "margin": null,
      "max_height": null,
      "max_width": null,
      "min_height": null,
      "min_width": null,
      "object_fit": null,
      "object_position": null,
      "order": null,
      "overflow": null,
      "overflow_x": null,
      "overflow_y": null,
      "padding": null,
      "right": null,
      "top": null,
      "visibility": null,
      "width": null
     }
    },
    "5f48f54986924e418aa4ac22aa54b714": {
     "model_module": "@jupyter-widgets/controls",
     "model_name": "HBoxModel",
     "state": {
      "_dom_classes": [],
      "_model_module": "@jupyter-widgets/controls",
      "_model_module_version": "1.5.0",
      "_model_name": "HBoxModel",
      "_view_count": null,
      "_view_module": "@jupyter-widgets/controls",
      "_view_module_version": "1.5.0",
      "_view_name": "HBoxView",
      "box_style": "",
      "children": [
       "IPY_MODEL_a58c203a7cc54086aea45f2029821207",
       "IPY_MODEL_8d409ca0372a48e2972ca1d8eee5ffa1"
      ],
      "layout": "IPY_MODEL_db71db50799c404aafa4a54de8b9b799"
     }
    },
    "6266a4019e124aff877bb55f21740180": {
     "model_module": "@jupyter-widgets/controls",
     "model_name": "HTMLModel",
     "state": {
      "_dom_classes": [],
      "_model_module": "@jupyter-widgets/controls",
      "_model_module_version": "1.5.0",
      "_model_name": "HTMLModel",
      "_view_count": null,
      "_view_module": "@jupyter-widgets/controls",
      "_view_module_version": "1.5.0",
      "_view_name": "HTMLView",
      "description": "",
      "description_tooltip": null,
      "layout": "IPY_MODEL_55071fc1b7484620803aeba453e9af72",
      "placeholder": "​",
      "style": "IPY_MODEL_8ad3e4b211e34c048d0f48e36fdbfe48",
      "value": " 411/411 [02:58&lt;00:00,  2.30ex/s]"
     }
    },
    "6462bd9561e24abb98fce6ce4675d810": {
     "model_module": "@jupyter-widgets/controls",
     "model_name": "HBoxModel",
     "state": {
      "_dom_classes": [],
      "_model_module": "@jupyter-widgets/controls",
      "_model_module_version": "1.5.0",
      "_model_name": "HBoxModel",
      "_view_count": null,
      "_view_module": "@jupyter-widgets/controls",
      "_view_module_version": "1.5.0",
      "_view_name": "HBoxView",
      "box_style": "",
      "children": [
       "IPY_MODEL_e273548a15aa4d4994132b317adb66fc",
       "IPY_MODEL_f6930dd5519d4dfda64c597def220a30"
      ],
      "layout": "IPY_MODEL_bd3447291ce54812af10ac6245ea4328"
     }
    },
    "68a3178fe7a54e838e798ff28ff9aa0b": {
     "model_module": "@jupyter-widgets/controls",
     "model_name": "DescriptionStyleModel",
     "state": {
      "_model_module": "@jupyter-widgets/controls",
      "_model_module_version": "1.5.0",
      "_model_name": "DescriptionStyleModel",
      "_view_count": null,
      "_view_module": "@jupyter-widgets/base",
      "_view_module_version": "1.2.0",
      "_view_name": "StyleView",
      "description_width": ""
     }
    },
    "69828f4a101f4340916a4be141866904": {
     "model_module": "@jupyter-widgets/base",
     "model_name": "LayoutModel",
     "state": {
      "_model_module": "@jupyter-widgets/base",
      "_model_module_version": "1.2.0",
      "_model_name": "LayoutModel",
      "_view_count": null,
      "_view_module": "@jupyter-widgets/base",
      "_view_module_version": "1.2.0",
      "_view_name": "LayoutView",
      "align_content": null,
      "align_items": null,
      "align_self": null,
      "border": null,
      "bottom": null,
      "display": null,
      "flex": null,
      "flex_flow": null,
      "grid_area": null,
      "grid_auto_columns": null,
      "grid_auto_flow": null,
      "grid_auto_rows": null,
      "grid_column": null,
      "grid_gap": null,
      "grid_row": null,
      "grid_template_areas": null,
      "grid_template_columns": null,
      "grid_template_rows": null,
      "height": null,
      "justify_content": null,
      "justify_items": null,
      "left": null,
      "margin": null,
      "max_height": null,
      "max_width": null,
      "min_height": null,
      "min_width": null,
      "object_fit": null,
      "object_position": null,
      "order": null,
      "overflow": null,
      "overflow_x": null,
      "overflow_y": null,
      "padding": null,
      "right": null,
      "top": null,
      "visibility": null,
      "width": null
     }
    },
    "6a957c1c17474d8d89c27ddecf702fda": {
     "model_module": "@jupyter-widgets/controls",
     "model_name": "HTMLModel",
     "state": {
      "_dom_classes": [],
      "_model_module": "@jupyter-widgets/controls",
      "_model_module_version": "1.5.0",
      "_model_name": "HTMLModel",
      "_view_count": null,
      "_view_module": "@jupyter-widgets/controls",
      "_view_module_version": "1.5.0",
      "_view_name": "HTMLView",
      "description": "",
      "description_tooltip": null,
      "layout": "IPY_MODEL_91fcf0641fe3489ab96f3aaa40adf245",
      "placeholder": "​",
      "style": "IPY_MODEL_05f83d714f864a399083f0e34a812467",
      "value": " 1647/0 [00:00&lt;00:00, 14016.07 examples/s]"
     }
    },
    "6abfbe44a1bd4518b41f5f53f920e936": {
     "model_module": "@jupyter-widgets/base",
     "model_name": "LayoutModel",
     "state": {
      "_model_module": "@jupyter-widgets/base",
      "_model_module_version": "1.2.0",
      "_model_name": "LayoutModel",
      "_view_count": null,
      "_view_module": "@jupyter-widgets/base",
      "_view_module_version": "1.2.0",
      "_view_name": "LayoutView",
      "align_content": null,
      "align_items": null,
      "align_self": null,
      "border": null,
      "bottom": null,
      "display": null,
      "flex": null,
      "flex_flow": null,
      "grid_area": null,
      "grid_auto_columns": null,
      "grid_auto_flow": null,
      "grid_auto_rows": null,
      "grid_column": null,
      "grid_gap": null,
      "grid_row": null,
      "grid_template_areas": null,
      "grid_template_columns": null,
      "grid_template_rows": null,
      "height": null,
      "justify_content": null,
      "justify_items": null,
      "left": null,
      "margin": null,
      "max_height": null,
      "max_width": null,
      "min_height": null,
      "min_width": null,
      "object_fit": null,
      "object_position": null,
      "order": null,
      "overflow": null,
      "overflow_x": null,
      "overflow_y": null,
      "padding": null,
      "right": null,
      "top": null,
      "visibility": null,
      "width": null
     }
    },
    "6ba6d07674a34836be53cf173c2b61ca": {
     "model_module": "@jupyter-widgets/base",
     "model_name": "LayoutModel",
     "state": {
      "_model_module": "@jupyter-widgets/base",
      "_model_module_version": "1.2.0",
      "_model_name": "LayoutModel",
      "_view_count": null,
      "_view_module": "@jupyter-widgets/base",
      "_view_module_version": "1.2.0",
      "_view_name": "LayoutView",
      "align_content": null,
      "align_items": null,
      "align_self": null,
      "border": null,
      "bottom": null,
      "display": null,
      "flex": null,
      "flex_flow": null,
      "grid_area": null,
      "grid_auto_columns": null,
      "grid_auto_flow": null,
      "grid_auto_rows": null,
      "grid_column": null,
      "grid_gap": null,
      "grid_row": null,
      "grid_template_areas": null,
      "grid_template_columns": null,
      "grid_template_rows": null,
      "height": null,
      "justify_content": null,
      "justify_items": null,
      "left": null,
      "margin": null,
      "max_height": null,
      "max_width": null,
      "min_height": null,
      "min_width": null,
      "object_fit": null,
      "object_position": null,
      "order": null,
      "overflow": null,
      "overflow_x": null,
      "overflow_y": null,
      "padding": null,
      "right": null,
      "top": null,
      "visibility": null,
      "width": null
     }
    },
    "6c065aa34661469ca1efb4c5e90fe136": {
     "model_module": "@jupyter-widgets/controls",
     "model_name": "HBoxModel",
     "state": {
      "_dom_classes": [],
      "_model_module": "@jupyter-widgets/controls",
      "_model_module_version": "1.5.0",
      "_model_name": "HBoxModel",
      "_view_count": null,
      "_view_module": "@jupyter-widgets/controls",
      "_view_module_version": "1.5.0",
      "_view_name": "HBoxView",
      "box_style": "",
      "children": [
       "IPY_MODEL_0a9b58c98508420d8f8936189f064316",
       "IPY_MODEL_8dd5b08bb5bd4e608d04122424796ae7"
      ],
      "layout": "IPY_MODEL_540510088d3947f1b3cf6f4c983c1a53"
     }
    },
    "6d4a26d876fb4ac6b5948a09945bdc6b": {
     "model_module": "@jupyter-widgets/controls",
     "model_name": "DescriptionStyleModel",
     "state": {
      "_model_module": "@jupyter-widgets/controls",
      "_model_module_version": "1.5.0",
      "_model_name": "DescriptionStyleModel",
      "_view_count": null,
      "_view_module": "@jupyter-widgets/base",
      "_view_module_version": "1.2.0",
      "_view_name": "StyleView",
      "description_width": ""
     }
    },
    "6de66d6b7a73434cbdc59b2109bdf0a0": {
     "model_module": "@jupyter-widgets/base",
     "model_name": "LayoutModel",
     "state": {
      "_model_module": "@jupyter-widgets/base",
      "_model_module_version": "1.2.0",
      "_model_name": "LayoutModel",
      "_view_count": null,
      "_view_module": "@jupyter-widgets/base",
      "_view_module_version": "1.2.0",
      "_view_name": "LayoutView",
      "align_content": null,
      "align_items": null,
      "align_self": null,
      "border": null,
      "bottom": null,
      "display": null,
      "flex": null,
      "flex_flow": null,
      "grid_area": null,
      "grid_auto_columns": null,
      "grid_auto_flow": null,
      "grid_auto_rows": null,
      "grid_column": null,
      "grid_gap": null,
      "grid_row": null,
      "grid_template_areas": null,
      "grid_template_columns": null,
      "grid_template_rows": null,
      "height": null,
      "justify_content": null,
      "justify_items": null,
      "left": null,
      "margin": null,
      "max_height": null,
      "max_width": null,
      "min_height": null,
      "min_width": null,
      "object_fit": null,
      "object_position": null,
      "order": null,
      "overflow": null,
      "overflow_x": null,
      "overflow_y": null,
      "padding": null,
      "right": null,
      "top": null,
      "visibility": null,
      "width": null
     }
    },
    "6f60626242534f44a6381195e6eb6530": {
     "model_module": "@jupyter-widgets/controls",
     "model_name": "FloatProgressModel",
     "state": {
      "_dom_classes": [],
      "_model_module": "@jupyter-widgets/controls",
      "_model_module_version": "1.5.0",
      "_model_name": "FloatProgressModel",
      "_view_count": null,
      "_view_module": "@jupyter-widgets/controls",
      "_view_module_version": "1.5.0",
      "_view_name": "ProgressView",
      "bar_style": "success",
      "description": "#2: 100%",
      "description_tooltip": null,
      "layout": "IPY_MODEL_0ffcbedb8d4444508ac0c3c0b41ea8ac",
      "max": 52,
      "min": 0,
      "orientation": "horizontal",
      "style": "IPY_MODEL_5ab30242cd154ec0b560c23c0f178546",
      "value": 52
     }
    },
    "7040945accce4739a41746cc75bb7fce": {
     "model_module": "@jupyter-widgets/controls",
     "model_name": "HBoxModel",
     "state": {
      "_dom_classes": [],
      "_model_module": "@jupyter-widgets/controls",
      "_model_module_version": "1.5.0",
      "_model_name": "HBoxModel",
      "_view_count": null,
      "_view_module": "@jupyter-widgets/controls",
      "_view_module_version": "1.5.0",
      "_view_name": "HBoxView",
      "box_style": "",
      "children": [
       "IPY_MODEL_6f60626242534f44a6381195e6eb6530",
       "IPY_MODEL_9fee9d9dd1164d97a9109e942444c332"
      ],
      "layout": "IPY_MODEL_71011f0d2bc942ac8f9ea1d1fd30c78d"
     }
    },
    "704ea5e05fd744d998b76d6435992995": {
     "model_module": "@jupyter-widgets/controls",
     "model_name": "ProgressStyleModel",
     "state": {
      "_model_module": "@jupyter-widgets/controls",
      "_model_module_version": "1.5.0",
      "_model_name": "ProgressStyleModel",
      "_view_count": null,
      "_view_module": "@jupyter-widgets/base",
      "_view_module_version": "1.2.0",
      "_view_name": "StyleView",
      "bar_color": null,
      "description_width": "initial"
     }
    },
    "71011f0d2bc942ac8f9ea1d1fd30c78d": {
     "model_module": "@jupyter-widgets/base",
     "model_name": "LayoutModel",
     "state": {
      "_model_module": "@jupyter-widgets/base",
      "_model_module_version": "1.2.0",
      "_model_name": "LayoutModel",
      "_view_count": null,
      "_view_module": "@jupyter-widgets/base",
      "_view_module_version": "1.2.0",
      "_view_name": "LayoutView",
      "align_content": null,
      "align_items": null,
      "align_self": null,
      "border": null,
      "bottom": null,
      "display": null,
      "flex": null,
      "flex_flow": null,
      "grid_area": null,
      "grid_auto_columns": null,
      "grid_auto_flow": null,
      "grid_auto_rows": null,
      "grid_column": null,
      "grid_gap": null,
      "grid_row": null,
      "grid_template_areas": null,
      "grid_template_columns": null,
      "grid_template_rows": null,
      "height": null,
      "justify_content": null,
      "justify_items": null,
      "left": null,
      "margin": null,
      "max_height": null,
      "max_width": null,
      "min_height": null,
      "min_width": null,
      "object_fit": null,
      "object_position": null,
      "order": null,
      "overflow": null,
      "overflow_x": null,
      "overflow_y": null,
      "padding": null,
      "right": null,
      "top": null,
      "visibility": null,
      "width": null
     }
    },
    "71c059a0f3c246f3a40d55744331daaa": {
     "model_module": "@jupyter-widgets/controls",
     "model_name": "HTMLModel",
     "state": {
      "_dom_classes": [],
      "_model_module": "@jupyter-widgets/controls",
      "_model_module_version": "1.5.0",
      "_model_name": "HTMLModel",
      "_view_count": null,
      "_view_module": "@jupyter-widgets/controls",
      "_view_module_version": "1.5.0",
      "_view_name": "HTMLView",
      "description": "",
      "description_tooltip": null,
      "layout": "IPY_MODEL_430c3c079d0e4006b90e72df7986ffb0",
      "placeholder": "​",
      "style": "IPY_MODEL_cb5666eb8ebb4d1392e98d6b5af8761c",
      "value": " 325/0 [00:00&lt;00:00, 7071.04 examples/s]"
     }
    },
    "71ffdf6f26ba4381a8e671958e679f88": {
     "model_module": "@jupyter-widgets/controls",
     "model_name": "ProgressStyleModel",
     "state": {
      "_model_module": "@jupyter-widgets/controls",
      "_model_module_version": "1.5.0",
      "_model_name": "ProgressStyleModel",
      "_view_count": null,
      "_view_module": "@jupyter-widgets/base",
      "_view_module_version": "1.2.0",
      "_view_name": "StyleView",
      "bar_color": null,
      "description_width": "initial"
     }
    },
    "73940df84ffd4e0f96637342e9fd12b7": {
     "model_module": "@jupyter-widgets/base",
     "model_name": "LayoutModel",
     "state": {
      "_model_module": "@jupyter-widgets/base",
      "_model_module_version": "1.2.0",
      "_model_name": "LayoutModel",
      "_view_count": null,
      "_view_module": "@jupyter-widgets/base",
      "_view_module_version": "1.2.0",
      "_view_name": "LayoutView",
      "align_content": null,
      "align_items": null,
      "align_self": null,
      "border": null,
      "bottom": null,
      "display": null,
      "flex": null,
      "flex_flow": null,
      "grid_area": null,
      "grid_auto_columns": null,
      "grid_auto_flow": null,
      "grid_auto_rows": null,
      "grid_column": null,
      "grid_gap": null,
      "grid_row": null,
      "grid_template_areas": null,
      "grid_template_columns": null,
      "grid_template_rows": null,
      "height": null,
      "justify_content": null,
      "justify_items": null,
      "left": null,
      "margin": null,
      "max_height": null,
      "max_width": null,
      "min_height": null,
      "min_width": null,
      "object_fit": null,
      "object_position": null,
      "order": null,
      "overflow": null,
      "overflow_x": null,
      "overflow_y": null,
      "padding": null,
      "right": null,
      "top": null,
      "visibility": null,
      "width": null
     }
    },
    "73ecbfc3c5c5456bb42e19b8a34b1576": {
     "model_module": "@jupyter-widgets/base",
     "model_name": "LayoutModel",
     "state": {
      "_model_module": "@jupyter-widgets/base",
      "_model_module_version": "1.2.0",
      "_model_name": "LayoutModel",
      "_view_count": null,
      "_view_module": "@jupyter-widgets/base",
      "_view_module_version": "1.2.0",
      "_view_name": "LayoutView",
      "align_content": null,
      "align_items": null,
      "align_self": null,
      "border": null,
      "bottom": null,
      "display": null,
      "flex": null,
      "flex_flow": null,
      "grid_area": null,
      "grid_auto_columns": null,
      "grid_auto_flow": null,
      "grid_auto_rows": null,
      "grid_column": null,
      "grid_gap": null,
      "grid_row": null,
      "grid_template_areas": null,
      "grid_template_columns": null,
      "grid_template_rows": null,
      "height": null,
      "justify_content": null,
      "justify_items": null,
      "left": null,
      "margin": null,
      "max_height": null,
      "max_width": null,
      "min_height": null,
      "min_width": null,
      "object_fit": null,
      "object_position": null,
      "order": null,
      "overflow": null,
      "overflow_x": null,
      "overflow_y": null,
      "padding": null,
      "right": null,
      "top": null,
      "visibility": null,
      "width": null
     }
    },
    "751ae6b9e2da4b85be9600561485f1ac": {
     "model_module": "@jupyter-widgets/controls",
     "model_name": "DescriptionStyleModel",
     "state": {
      "_model_module": "@jupyter-widgets/controls",
      "_model_module_version": "1.5.0",
      "_model_name": "DescriptionStyleModel",
      "_view_count": null,
      "_view_module": "@jupyter-widgets/base",
      "_view_module_version": "1.2.0",
      "_view_name": "StyleView",
      "description_width": ""
     }
    },
    "757e7bd0e6c5410da0490d191b4e68c8": {
     "model_module": "@jupyter-widgets/controls",
     "model_name": "HTMLModel",
     "state": {
      "_dom_classes": [],
      "_model_module": "@jupyter-widgets/controls",
      "_model_module_version": "1.5.0",
      "_model_name": "HTMLModel",
      "_view_count": null,
      "_view_module": "@jupyter-widgets/controls",
      "_view_module_version": "1.5.0",
      "_view_name": "HTMLView",
      "description": "",
      "description_tooltip": null,
      "layout": "IPY_MODEL_9185f86719af476da41e3835e8f06f8d",
      "placeholder": "​",
      "style": "IPY_MODEL_0b795d4b68014de19bf9579c67b55ffb",
      "value": " 870/870 [05:35&lt;00:00,  2.59ex/s]"
     }
    },
    "75e00c38605f44cfb584067db1160349": {
     "model_module": "@jupyter-widgets/controls",
     "model_name": "FloatProgressModel",
     "state": {
      "_dom_classes": [],
      "_model_module": "@jupyter-widgets/controls",
      "_model_module_version": "1.5.0",
      "_model_name": "FloatProgressModel",
      "_view_count": null,
      "_view_module": "@jupyter-widgets/controls",
      "_view_module_version": "1.5.0",
      "_view_name": "ProgressView",
      "bar_style": "success",
      "description": "100%",
      "description_tooltip": null,
      "layout": "IPY_MODEL_73ecbfc3c5c5456bb42e19b8a34b1576",
      "max": 1,
      "min": 0,
      "orientation": "horizontal",
      "style": "IPY_MODEL_c01aca3229a24d41841be2b4a3a65bcc",
      "value": 1
     }
    },
    "768ab09956774f50a79b2493a8bf179b": {
     "model_module": "@jupyter-widgets/base",
     "model_name": "LayoutModel",
     "state": {
      "_model_module": "@jupyter-widgets/base",
      "_model_module_version": "1.2.0",
      "_model_name": "LayoutModel",
      "_view_count": null,
      "_view_module": "@jupyter-widgets/base",
      "_view_module_version": "1.2.0",
      "_view_name": "LayoutView",
      "align_content": null,
      "align_items": null,
      "align_self": null,
      "border": null,
      "bottom": null,
      "display": null,
      "flex": null,
      "flex_flow": null,
      "grid_area": null,
      "grid_auto_columns": null,
      "grid_auto_flow": null,
      "grid_auto_rows": null,
      "grid_column": null,
      "grid_gap": null,
      "grid_row": null,
      "grid_template_areas": null,
      "grid_template_columns": null,
      "grid_template_rows": null,
      "height": null,
      "justify_content": null,
      "justify_items": null,
      "left": null,
      "margin": null,
      "max_height": null,
      "max_width": null,
      "min_height": null,
      "min_width": null,
      "object_fit": null,
      "object_position": null,
      "order": null,
      "overflow": null,
      "overflow_x": null,
      "overflow_y": null,
      "padding": null,
      "right": null,
      "top": null,
      "visibility": null,
      "width": null
     }
    },
    "76d162d3ea0845cc837651a77a5a2d36": {
     "model_module": "@jupyter-widgets/controls",
     "model_name": "HBoxModel",
     "state": {
      "_dom_classes": [],
      "_model_module": "@jupyter-widgets/controls",
      "_model_module_version": "1.5.0",
      "_model_name": "HBoxModel",
      "_view_count": null,
      "_view_module": "@jupyter-widgets/controls",
      "_view_module_version": "1.5.0",
      "_view_name": "HBoxView",
      "box_style": "",
      "children": [
       "IPY_MODEL_f6b01ad0433a40178ef3ba5657bc1583",
       "IPY_MODEL_eed2ccc12daa4c71b080794a7a18f5cb"
      ],
      "layout": "IPY_MODEL_98c594f1e41e4b3fab10f0763bd93d75"
     }
    },
    "771959e46cb64b3ebafe931f96f5ff52": {
     "model_module": "@jupyter-widgets/controls",
     "model_name": "HBoxModel",
     "state": {
      "_dom_classes": [],
      "_model_module": "@jupyter-widgets/controls",
      "_model_module_version": "1.5.0",
      "_model_name": "HBoxModel",
      "_view_count": null,
      "_view_module": "@jupyter-widgets/controls",
      "_view_module_version": "1.5.0",
      "_view_name": "HBoxView",
      "box_style": "",
      "children": [
       "IPY_MODEL_f792530a76ee486688cbc2502dfae594",
       "IPY_MODEL_d69468d63dd74fdd807fe061b92aa84e"
      ],
      "layout": "IPY_MODEL_0e999af234bd4b63ad2937e61d08b693"
     }
    },
    "7916b06da182435a9cc1d13c73310500": {
     "model_module": "@jupyter-widgets/base",
     "model_name": "LayoutModel",
     "state": {
      "_model_module": "@jupyter-widgets/base",
      "_model_module_version": "1.2.0",
      "_model_name": "LayoutModel",
      "_view_count": null,
      "_view_module": "@jupyter-widgets/base",
      "_view_module_version": "1.2.0",
      "_view_name": "LayoutView",
      "align_content": null,
      "align_items": null,
      "align_self": null,
      "border": null,
      "bottom": null,
      "display": null,
      "flex": null,
      "flex_flow": null,
      "grid_area": null,
      "grid_auto_columns": null,
      "grid_auto_flow": null,
      "grid_auto_rows": null,
      "grid_column": null,
      "grid_gap": null,
      "grid_row": null,
      "grid_template_areas": null,
      "grid_template_columns": null,
      "grid_template_rows": null,
      "height": null,
      "justify_content": null,
      "justify_items": null,
      "left": null,
      "margin": null,
      "max_height": null,
      "max_width": null,
      "min_height": null,
      "min_width": null,
      "object_fit": null,
      "object_position": null,
      "order": null,
      "overflow": null,
      "overflow_x": null,
      "overflow_y": null,
      "padding": null,
      "right": null,
      "top": null,
      "visibility": null,
      "width": null
     }
    },
    "7aa70322bdfe46938b583a20003093d5": {
     "model_module": "@jupyter-widgets/controls",
     "model_name": "DescriptionStyleModel",
     "state": {
      "_model_module": "@jupyter-widgets/controls",
      "_model_module_version": "1.5.0",
      "_model_name": "DescriptionStyleModel",
      "_view_count": null,
      "_view_module": "@jupyter-widgets/base",
      "_view_module_version": "1.2.0",
      "_view_name": "StyleView",
      "description_width": ""
     }
    },
    "7b4cfd2b448643b8a4409dd612aef0d1": {
     "model_module": "@jupyter-widgets/base",
     "model_name": "LayoutModel",
     "state": {
      "_model_module": "@jupyter-widgets/base",
      "_model_module_version": "1.2.0",
      "_model_name": "LayoutModel",
      "_view_count": null,
      "_view_module": "@jupyter-widgets/base",
      "_view_module_version": "1.2.0",
      "_view_name": "LayoutView",
      "align_content": null,
      "align_items": null,
      "align_self": null,
      "border": null,
      "bottom": null,
      "display": null,
      "flex": null,
      "flex_flow": null,
      "grid_area": null,
      "grid_auto_columns": null,
      "grid_auto_flow": null,
      "grid_auto_rows": null,
      "grid_column": null,
      "grid_gap": null,
      "grid_row": null,
      "grid_template_areas": null,
      "grid_template_columns": null,
      "grid_template_rows": null,
      "height": null,
      "justify_content": null,
      "justify_items": null,
      "left": null,
      "margin": null,
      "max_height": null,
      "max_width": null,
      "min_height": null,
      "min_width": null,
      "object_fit": null,
      "object_position": null,
      "order": null,
      "overflow": null,
      "overflow_x": null,
      "overflow_y": null,
      "padding": null,
      "right": null,
      "top": null,
      "visibility": null,
      "width": null
     }
    },
    "7bf5b2b625764f63ad57a360c3fd0a61": {
     "model_module": "@jupyter-widgets/controls",
     "model_name": "DescriptionStyleModel",
     "state": {
      "_model_module": "@jupyter-widgets/controls",
      "_model_module_version": "1.5.0",
      "_model_name": "DescriptionStyleModel",
      "_view_count": null,
      "_view_module": "@jupyter-widgets/base",
      "_view_module_version": "1.2.0",
      "_view_name": "StyleView",
      "description_width": ""
     }
    },
    "7d62810674c8482abe46c60fc08884b4": {
     "model_module": "@jupyter-widgets/controls",
     "model_name": "ProgressStyleModel",
     "state": {
      "_model_module": "@jupyter-widgets/controls",
      "_model_module_version": "1.5.0",
      "_model_name": "ProgressStyleModel",
      "_view_count": null,
      "_view_module": "@jupyter-widgets/base",
      "_view_module_version": "1.2.0",
      "_view_name": "StyleView",
      "bar_color": null,
      "description_width": "initial"
     }
    },
    "7e50f8027fb74d669daae5e46082026c": {
     "model_module": "@jupyter-widgets/base",
     "model_name": "LayoutModel",
     "state": {
      "_model_module": "@jupyter-widgets/base",
      "_model_module_version": "1.2.0",
      "_model_name": "LayoutModel",
      "_view_count": null,
      "_view_module": "@jupyter-widgets/base",
      "_view_module_version": "1.2.0",
      "_view_name": "LayoutView",
      "align_content": null,
      "align_items": null,
      "align_self": null,
      "border": null,
      "bottom": null,
      "display": null,
      "flex": null,
      "flex_flow": null,
      "grid_area": null,
      "grid_auto_columns": null,
      "grid_auto_flow": null,
      "grid_auto_rows": null,
      "grid_column": null,
      "grid_gap": null,
      "grid_row": null,
      "grid_template_areas": null,
      "grid_template_columns": null,
      "grid_template_rows": null,
      "height": null,
      "justify_content": null,
      "justify_items": null,
      "left": null,
      "margin": null,
      "max_height": null,
      "max_width": null,
      "min_height": null,
      "min_width": null,
      "object_fit": null,
      "object_position": null,
      "order": null,
      "overflow": null,
      "overflow_x": null,
      "overflow_y": null,
      "padding": null,
      "right": null,
      "top": null,
      "visibility": null,
      "width": null
     }
    },
    "7edbecaccdd94ede8fddc0e1807e777e": {
     "model_module": "@jupyter-widgets/controls",
     "model_name": "FloatProgressModel",
     "state": {
      "_dom_classes": [],
      "_model_module": "@jupyter-widgets/controls",
      "_model_module_version": "1.5.0",
      "_model_name": "FloatProgressModel",
      "_view_count": null,
      "_view_module": "@jupyter-widgets/controls",
      "_view_module_version": "1.5.0",
      "_view_name": "ProgressView",
      "bar_style": "success",
      "description": "100%",
      "description_tooltip": null,
      "layout": "IPY_MODEL_3e3a022a9f304b0f9f7ef067fcee1e56",
      "max": 3478,
      "min": 0,
      "orientation": "horizontal",
      "style": "IPY_MODEL_b9c5c6dd54cc4dc5ad5a2bb69a24ab05",
      "value": 3478
     }
    },
    "7ef969e47c2d429a9848d5ab3f5bb2d9": {
     "model_module": "@jupyter-widgets/controls",
     "model_name": "HBoxModel",
     "state": {
      "_dom_classes": [],
      "_model_module": "@jupyter-widgets/controls",
      "_model_module_version": "1.5.0",
      "_model_name": "HBoxModel",
      "_view_count": null,
      "_view_module": "@jupyter-widgets/controls",
      "_view_module_version": "1.5.0",
      "_view_name": "HBoxView",
      "box_style": "",
      "children": [
       "IPY_MODEL_015c5690e1ea4281954c7efda1c80a6a",
       "IPY_MODEL_f4135dd72864445391f43f387635bfdc"
      ],
      "layout": "IPY_MODEL_fe62265afdc74026b7e9c5a50ef61d2c"
     }
    },
    "7f5203fde6b64bf7ad53d6ecd3041bfc": {
     "model_module": "@jupyter-widgets/controls",
     "model_name": "DescriptionStyleModel",
     "state": {
      "_model_module": "@jupyter-widgets/controls",
      "_model_module_version": "1.5.0",
      "_model_name": "DescriptionStyleModel",
      "_view_count": null,
      "_view_module": "@jupyter-widgets/base",
      "_view_module_version": "1.2.0",
      "_view_name": "StyleView",
      "description_width": ""
     }
    },
    "7f787df324514a8c915785e272a8af18": {
     "model_module": "@jupyter-widgets/controls",
     "model_name": "FloatProgressModel",
     "state": {
      "_dom_classes": [],
      "_model_module": "@jupyter-widgets/controls",
      "_model_module_version": "1.5.0",
      "_model_name": "FloatProgressModel",
      "_view_count": null,
      "_view_module": "@jupyter-widgets/controls",
      "_view_module_version": "1.5.0",
      "_view_name": "ProgressView",
      "bar_style": "info",
      "description": "",
      "description_tooltip": null,
      "layout": "IPY_MODEL_7916b06da182435a9cc1d13c73310500",
      "max": 1,
      "min": 0,
      "orientation": "horizontal",
      "style": "IPY_MODEL_71ffdf6f26ba4381a8e671958e679f88",
      "value": 1
     }
    },
    "80697300a4394b909f1c499ba80aeb13": {
     "model_module": "@jupyter-widgets/base",
     "model_name": "LayoutModel",
     "state": {
      "_model_module": "@jupyter-widgets/base",
      "_model_module_version": "1.2.0",
      "_model_name": "LayoutModel",
      "_view_count": null,
      "_view_module": "@jupyter-widgets/base",
      "_view_module_version": "1.2.0",
      "_view_name": "LayoutView",
      "align_content": null,
      "align_items": null,
      "align_self": null,
      "border": null,
      "bottom": null,
      "display": null,
      "flex": null,
      "flex_flow": null,
      "grid_area": null,
      "grid_auto_columns": null,
      "grid_auto_flow": null,
      "grid_auto_rows": null,
      "grid_column": null,
      "grid_gap": null,
      "grid_row": null,
      "grid_template_areas": null,
      "grid_template_columns": null,
      "grid_template_rows": null,
      "height": null,
      "justify_content": null,
      "justify_items": null,
      "left": null,
      "margin": null,
      "max_height": null,
      "max_width": null,
      "min_height": null,
      "min_width": null,
      "object_fit": null,
      "object_position": null,
      "order": null,
      "overflow": null,
      "overflow_x": null,
      "overflow_y": null,
      "padding": null,
      "right": null,
      "top": null,
      "visibility": null,
      "width": null
     }
    },
    "813fc95246034f5cb9e5198897b4ed42": {
     "model_module": "@jupyter-widgets/controls",
     "model_name": "DescriptionStyleModel",
     "state": {
      "_model_module": "@jupyter-widgets/controls",
      "_model_module_version": "1.5.0",
      "_model_name": "DescriptionStyleModel",
      "_view_count": null,
      "_view_module": "@jupyter-widgets/base",
      "_view_module_version": "1.2.0",
      "_view_name": "StyleView",
      "description_width": ""
     }
    },
    "82015055d32449b89346ea18e7474c4d": {
     "model_module": "@jupyter-widgets/controls",
     "model_name": "HBoxModel",
     "state": {
      "_dom_classes": [],
      "_model_module": "@jupyter-widgets/controls",
      "_model_module_version": "1.5.0",
      "_model_name": "HBoxModel",
      "_view_count": null,
      "_view_module": "@jupyter-widgets/controls",
      "_view_module_version": "1.5.0",
      "_view_name": "HBoxView",
      "box_style": "",
      "children": [
       "IPY_MODEL_f5f1f0865d7e4d8b810ccb9c3c4d2683",
       "IPY_MODEL_416badb151ee4660b53fdbc136e0c8fb"
      ],
      "layout": "IPY_MODEL_a170c0cb21cf425fbee97fd6d5584e2c"
     }
    },
    "824569c63ec445c08362659ca228dd2a": {
     "model_module": "@jupyter-widgets/controls",
     "model_name": "DescriptionStyleModel",
     "state": {
      "_model_module": "@jupyter-widgets/controls",
      "_model_module_version": "1.5.0",
      "_model_name": "DescriptionStyleModel",
      "_view_count": null,
      "_view_module": "@jupyter-widgets/base",
      "_view_module_version": "1.2.0",
      "_view_name": "StyleView",
      "description_width": ""
     }
    },
    "8292dafcd40745958d0f3c563bf6b9b0": {
     "model_module": "@jupyter-widgets/controls",
     "model_name": "ProgressStyleModel",
     "state": {
      "_model_module": "@jupyter-widgets/controls",
      "_model_module_version": "1.5.0",
      "_model_name": "ProgressStyleModel",
      "_view_count": null,
      "_view_module": "@jupyter-widgets/base",
      "_view_module_version": "1.2.0",
      "_view_name": "StyleView",
      "bar_color": null,
      "description_width": "initial"
     }
    },
    "83b51e16d88046c48dcd745cf09d2e56": {
     "model_module": "@jupyter-widgets/base",
     "model_name": "LayoutModel",
     "state": {
      "_model_module": "@jupyter-widgets/base",
      "_model_module_version": "1.2.0",
      "_model_name": "LayoutModel",
      "_view_count": null,
      "_view_module": "@jupyter-widgets/base",
      "_view_module_version": "1.2.0",
      "_view_name": "LayoutView",
      "align_content": null,
      "align_items": null,
      "align_self": null,
      "border": null,
      "bottom": null,
      "display": null,
      "flex": null,
      "flex_flow": null,
      "grid_area": null,
      "grid_auto_columns": null,
      "grid_auto_flow": null,
      "grid_auto_rows": null,
      "grid_column": null,
      "grid_gap": null,
      "grid_row": null,
      "grid_template_areas": null,
      "grid_template_columns": null,
      "grid_template_rows": null,
      "height": null,
      "justify_content": null,
      "justify_items": null,
      "left": null,
      "margin": null,
      "max_height": null,
      "max_width": null,
      "min_height": null,
      "min_width": null,
      "object_fit": null,
      "object_position": null,
      "order": null,
      "overflow": null,
      "overflow_x": null,
      "overflow_y": null,
      "padding": null,
      "right": null,
      "top": null,
      "visibility": null,
      "width": null
     }
    },
    "84e7f0001ebe458dad3c96e7e9a38cdc": {
     "model_module": "@jupyter-widgets/base",
     "model_name": "LayoutModel",
     "state": {
      "_model_module": "@jupyter-widgets/base",
      "_model_module_version": "1.2.0",
      "_model_name": "LayoutModel",
      "_view_count": null,
      "_view_module": "@jupyter-widgets/base",
      "_view_module_version": "1.2.0",
      "_view_name": "LayoutView",
      "align_content": null,
      "align_items": null,
      "align_self": null,
      "border": null,
      "bottom": null,
      "display": null,
      "flex": null,
      "flex_flow": null,
      "grid_area": null,
      "grid_auto_columns": null,
      "grid_auto_flow": null,
      "grid_auto_rows": null,
      "grid_column": null,
      "grid_gap": null,
      "grid_row": null,
      "grid_template_areas": null,
      "grid_template_columns": null,
      "grid_template_rows": null,
      "height": null,
      "justify_content": null,
      "justify_items": null,
      "left": null,
      "margin": null,
      "max_height": null,
      "max_width": null,
      "min_height": null,
      "min_width": null,
      "object_fit": null,
      "object_position": null,
      "order": null,
      "overflow": null,
      "overflow_x": null,
      "overflow_y": null,
      "padding": null,
      "right": null,
      "top": null,
      "visibility": null,
      "width": null
     }
    },
    "8701fb161cec47e89fc4d57b599ee7fe": {
     "model_module": "@jupyter-widgets/controls",
     "model_name": "HBoxModel",
     "state": {
      "_dom_classes": [],
      "_model_module": "@jupyter-widgets/controls",
      "_model_module_version": "1.5.0",
      "_model_name": "HBoxModel",
      "_view_count": null,
      "_view_module": "@jupyter-widgets/controls",
      "_view_module_version": "1.5.0",
      "_view_name": "HBoxView",
      "box_style": "",
      "children": [
       "IPY_MODEL_7f787df324514a8c915785e272a8af18",
       "IPY_MODEL_889da3e5ed2945849d3c8a6a75175747"
      ],
      "layout": "IPY_MODEL_1813458f75514f039ba0214597a09bb4"
     }
    },
    "889da3e5ed2945849d3c8a6a75175747": {
     "model_module": "@jupyter-widgets/controls",
     "model_name": "HTMLModel",
     "state": {
      "_dom_classes": [],
      "_model_module": "@jupyter-widgets/controls",
      "_model_module_version": "1.5.0",
      "_model_name": "HTMLModel",
      "_view_count": null,
      "_view_module": "@jupyter-widgets/controls",
      "_view_module_version": "1.5.0",
      "_view_name": "HTMLView",
      "description": "",
      "description_tooltip": null,
      "layout": "IPY_MODEL_2cd13e03a2ab45dc8570c8c739a613b4",
      "placeholder": "​",
      "style": "IPY_MODEL_59e0f5200068461cbfb256ad5479c4c8",
      "value": " 1647/0 [00:00&lt;00:00, 14767.90 examples/s]"
     }
    },
    "8ad3e4b211e34c048d0f48e36fdbfe48": {
     "model_module": "@jupyter-widgets/controls",
     "model_name": "DescriptionStyleModel",
     "state": {
      "_model_module": "@jupyter-widgets/controls",
      "_model_module_version": "1.5.0",
      "_model_name": "DescriptionStyleModel",
      "_view_count": null,
      "_view_module": "@jupyter-widgets/base",
      "_view_module_version": "1.2.0",
      "_view_name": "StyleView",
      "description_width": ""
     }
    },
    "8bb78a89ff81400791e3005098fdcb94": {
     "model_module": "@jupyter-widgets/base",
     "model_name": "LayoutModel",
     "state": {
      "_model_module": "@jupyter-widgets/base",
      "_model_module_version": "1.2.0",
      "_model_name": "LayoutModel",
      "_view_count": null,
      "_view_module": "@jupyter-widgets/base",
      "_view_module_version": "1.2.0",
      "_view_name": "LayoutView",
      "align_content": null,
      "align_items": null,
      "align_self": null,
      "border": null,
      "bottom": null,
      "display": null,
      "flex": null,
      "flex_flow": null,
      "grid_area": null,
      "grid_auto_columns": null,
      "grid_auto_flow": null,
      "grid_auto_rows": null,
      "grid_column": null,
      "grid_gap": null,
      "grid_row": null,
      "grid_template_areas": null,
      "grid_template_columns": null,
      "grid_template_rows": null,
      "height": null,
      "justify_content": null,
      "justify_items": null,
      "left": null,
      "margin": null,
      "max_height": null,
      "max_width": null,
      "min_height": null,
      "min_width": null,
      "object_fit": null,
      "object_position": null,
      "order": null,
      "overflow": null,
      "overflow_x": null,
      "overflow_y": null,
      "padding": null,
      "right": null,
      "top": null,
      "visibility": null,
      "width": null
     }
    },
    "8c07a528fc4a4e108b393ab117fe2e46": {
     "model_module": "@jupyter-widgets/controls",
     "model_name": "HTMLModel",
     "state": {
      "_dom_classes": [],
      "_model_module": "@jupyter-widgets/controls",
      "_model_module_version": "1.5.0",
      "_model_name": "HTMLModel",
      "_view_count": null,
      "_view_module": "@jupyter-widgets/controls",
      "_view_module_version": "1.5.0",
      "_view_name": "HTMLView",
      "description": "",
      "description_tooltip": null,
      "layout": "IPY_MODEL_8bb78a89ff81400791e3005098fdcb94",
      "placeholder": "​",
      "style": "IPY_MODEL_813fc95246034f5cb9e5198897b4ed42",
      "value": " 1/1 [00:00&lt;00:00, 13.94ba/s]"
     }
    },
    "8d409ca0372a48e2972ca1d8eee5ffa1": {
     "model_module": "@jupyter-widgets/controls",
     "model_name": "HTMLModel",
     "state": {
      "_dom_classes": [],
      "_model_module": "@jupyter-widgets/controls",
      "_model_module_version": "1.5.0",
      "_model_name": "HTMLModel",
      "_view_count": null,
      "_view_module": "@jupyter-widgets/controls",
      "_view_module_version": "1.5.0",
      "_view_name": "HTMLView",
      "description": "",
      "description_tooltip": null,
      "layout": "IPY_MODEL_b0479f03f96241ca959f6fe7bcbd1aba",
      "placeholder": "​",
      "style": "IPY_MODEL_d362345c05234c97a675c6bacdad0e92",
      "value": " 1647/1647 [01:20&lt;00:00, 20.38ex/s]"
     }
    },
    "8dd5b08bb5bd4e608d04122424796ae7": {
     "model_module": "@jupyter-widgets/controls",
     "model_name": "HTMLModel",
     "state": {
      "_dom_classes": [],
      "_model_module": "@jupyter-widgets/controls",
      "_model_module_version": "1.5.0",
      "_model_name": "HTMLModel",
      "_view_count": null,
      "_view_module": "@jupyter-widgets/controls",
      "_view_module_version": "1.5.0",
      "_view_name": "HTMLView",
      "description": "",
      "description_tooltip": null,
      "layout": "IPY_MODEL_9eb51a6ecf3f41578aa397a5c2a33673",
      "placeholder": "​",
      "style": "IPY_MODEL_2f18d89c684343b69c3f44ffbb9b42a0",
      "value": " 1726/0 [00:00&lt;00:00, 13986.88 examples/s]"
     }
    },
    "8dddd0245dcb4532917cbfa0181d2a00": {
     "model_module": "@jupyter-widgets/controls",
     "model_name": "FloatProgressModel",
     "state": {
      "_dom_classes": [],
      "_model_module": "@jupyter-widgets/controls",
      "_model_module_version": "1.5.0",
      "_model_name": "FloatProgressModel",
      "_view_count": null,
      "_view_module": "@jupyter-widgets/controls",
      "_view_module_version": "1.5.0",
      "_view_name": "ProgressView",
      "bar_style": "success",
      "description": "#2: 100%",
      "description_tooltip": null,
      "layout": "IPY_MODEL_b1d93a7521fa47b8a815445b5232da59",
      "max": 412,
      "min": 0,
      "orientation": "horizontal",
      "style": "IPY_MODEL_024989cea06f435894776b0a921164b2",
      "value": 412
     }
    },
    "8df9d19602cb4951b397c385458a11ef": {
     "model_module": "@jupyter-widgets/controls",
     "model_name": "DescriptionStyleModel",
     "state": {
      "_model_module": "@jupyter-widgets/controls",
      "_model_module_version": "1.5.0",
      "_model_name": "DescriptionStyleModel",
      "_view_count": null,
      "_view_module": "@jupyter-widgets/base",
      "_view_module_version": "1.2.0",
      "_view_name": "StyleView",
      "description_width": ""
     }
    },
    "8e1a85a4a6214a16b7431da23a301ada": {
     "model_module": "@jupyter-widgets/controls",
     "model_name": "FloatProgressModel",
     "state": {
      "_dom_classes": [],
      "_model_module": "@jupyter-widgets/controls",
      "_model_module_version": "1.5.0",
      "_model_name": "FloatProgressModel",
      "_view_count": null,
      "_view_module": "@jupyter-widgets/controls",
      "_view_module_version": "1.5.0",
      "_view_name": "ProgressView",
      "bar_style": "success",
      "description": "Downloading: ",
      "description_tooltip": null,
      "layout": "IPY_MODEL_d453bd4a35e54bfba20dac1fe86c60c1",
      "max": 1764,
      "min": 0,
      "orientation": "horizontal",
      "style": "IPY_MODEL_a3c04c75ec9743feb795f69e7c4dff4f",
      "value": 1764
     }
    },
    "8e63ba7f1fd24555bf11bc9dbe9c770b": {
     "model_module": "@jupyter-widgets/controls",
     "model_name": "HTMLModel",
     "state": {
      "_dom_classes": [],
      "_model_module": "@jupyter-widgets/controls",
      "_model_module_version": "1.5.0",
      "_model_name": "HTMLModel",
      "_view_count": null,
      "_view_module": "@jupyter-widgets/controls",
      "_view_module_version": "1.5.0",
      "_view_name": "HTMLView",
      "description": "",
      "description_tooltip": null,
      "layout": "IPY_MODEL_26e7bab0f3bf4797bfcef83dcace24f0",
      "placeholder": "​",
      "style": "IPY_MODEL_405b5de4ae854cf9896f63d15f2207dd",
      "value": " 52/52 [00:30&lt;00:00,  1.68ba/s]"
     }
    },
    "8f737725708c4097a8caaf4da6229636": {
     "model_module": "@jupyter-widgets/base",
     "model_name": "LayoutModel",
     "state": {
      "_model_module": "@jupyter-widgets/base",
      "_model_module_version": "1.2.0",
      "_model_name": "LayoutModel",
      "_view_count": null,
      "_view_module": "@jupyter-widgets/base",
      "_view_module_version": "1.2.0",
      "_view_name": "LayoutView",
      "align_content": null,
      "align_items": null,
      "align_self": null,
      "border": null,
      "bottom": null,
      "display": null,
      "flex": null,
      "flex_flow": null,
      "grid_area": null,
      "grid_auto_columns": null,
      "grid_auto_flow": null,
      "grid_auto_rows": null,
      "grid_column": null,
      "grid_gap": null,
      "grid_row": null,
      "grid_template_areas": null,
      "grid_template_columns": null,
      "grid_template_rows": null,
      "height": null,
      "justify_content": null,
      "justify_items": null,
      "left": null,
      "margin": null,
      "max_height": null,
      "max_width": null,
      "min_height": null,
      "min_width": null,
      "object_fit": null,
      "object_position": null,
      "order": null,
      "overflow": null,
      "overflow_x": null,
      "overflow_y": null,
      "padding": null,
      "right": null,
      "top": null,
      "visibility": null,
      "width": null
     }
    },
    "90b8bc59e26a46009e1d3763f86f227a": {
     "model_module": "@jupyter-widgets/controls",
     "model_name": "HBoxModel",
     "state": {
      "_dom_classes": [],
      "_model_module": "@jupyter-widgets/controls",
      "_model_module_version": "1.5.0",
      "_model_name": "HBoxModel",
      "_view_count": null,
      "_view_module": "@jupyter-widgets/controls",
      "_view_module_version": "1.5.0",
      "_view_name": "HBoxView",
      "box_style": "",
      "children": [
       "IPY_MODEL_98e7ab5f7ebf426fbb71a37bbad4c28f",
       "IPY_MODEL_e3b719c0ffcc4fd1b410ffb7f969b7a5"
      ],
      "layout": "IPY_MODEL_3e2cd59ac697495f8db14b894b783f95"
     }
    },
    "9185f86719af476da41e3835e8f06f8d": {
     "model_module": "@jupyter-widgets/base",
     "model_name": "LayoutModel",
     "state": {
      "_model_module": "@jupyter-widgets/base",
      "_model_module_version": "1.2.0",
      "_model_name": "LayoutModel",
      "_view_count": null,
      "_view_module": "@jupyter-widgets/base",
      "_view_module_version": "1.2.0",
      "_view_name": "LayoutView",
      "align_content": null,
      "align_items": null,
      "align_self": null,
      "border": null,
      "bottom": null,
      "display": null,
      "flex": null,
      "flex_flow": null,
      "grid_area": null,
      "grid_auto_columns": null,
      "grid_auto_flow": null,
      "grid_auto_rows": null,
      "grid_column": null,
      "grid_gap": null,
      "grid_row": null,
      "grid_template_areas": null,
      "grid_template_columns": null,
      "grid_template_rows": null,
      "height": null,
      "justify_content": null,
      "justify_items": null,
      "left": null,
      "margin": null,
      "max_height": null,
      "max_width": null,
      "min_height": null,
      "min_width": null,
      "object_fit": null,
      "object_position": null,
      "order": null,
      "overflow": null,
      "overflow_x": null,
      "overflow_y": null,
      "padding": null,
      "right": null,
      "top": null,
      "visibility": null,
      "width": null
     }
    },
    "91fcf0641fe3489ab96f3aaa40adf245": {
     "model_module": "@jupyter-widgets/base",
     "model_name": "LayoutModel",
     "state": {
      "_model_module": "@jupyter-widgets/base",
      "_model_module_version": "1.2.0",
      "_model_name": "LayoutModel",
      "_view_count": null,
      "_view_module": "@jupyter-widgets/base",
      "_view_module_version": "1.2.0",
      "_view_name": "LayoutView",
      "align_content": null,
      "align_items": null,
      "align_self": null,
      "border": null,
      "bottom": null,
      "display": null,
      "flex": null,
      "flex_flow": null,
      "grid_area": null,
      "grid_auto_columns": null,
      "grid_auto_flow": null,
      "grid_auto_rows": null,
      "grid_column": null,
      "grid_gap": null,
      "grid_row": null,
      "grid_template_areas": null,
      "grid_template_columns": null,
      "grid_template_rows": null,
      "height": null,
      "justify_content": null,
      "justify_items": null,
      "left": null,
      "margin": null,
      "max_height": null,
      "max_width": null,
      "min_height": null,
      "min_width": null,
      "object_fit": null,
      "object_position": null,
      "order": null,
      "overflow": null,
      "overflow_x": null,
      "overflow_y": null,
      "padding": null,
      "right": null,
      "top": null,
      "visibility": null,
      "width": null
     }
    },
    "923ed9e127524187ab8cfcac31164ba7": {
     "model_module": "@jupyter-widgets/base",
     "model_name": "LayoutModel",
     "state": {
      "_model_module": "@jupyter-widgets/base",
      "_model_module_version": "1.2.0",
      "_model_name": "LayoutModel",
      "_view_count": null,
      "_view_module": "@jupyter-widgets/base",
      "_view_module_version": "1.2.0",
      "_view_name": "LayoutView",
      "align_content": null,
      "align_items": null,
      "align_self": null,
      "border": null,
      "bottom": null,
      "display": null,
      "flex": null,
      "flex_flow": null,
      "grid_area": null,
      "grid_auto_columns": null,
      "grid_auto_flow": null,
      "grid_auto_rows": null,
      "grid_column": null,
      "grid_gap": null,
      "grid_row": null,
      "grid_template_areas": null,
      "grid_template_columns": null,
      "grid_template_rows": null,
      "height": null,
      "justify_content": null,
      "justify_items": null,
      "left": null,
      "margin": null,
      "max_height": null,
      "max_width": null,
      "min_height": null,
      "min_width": null,
      "object_fit": null,
      "object_position": null,
      "order": null,
      "overflow": null,
      "overflow_x": null,
      "overflow_y": null,
      "padding": null,
      "right": null,
      "top": null,
      "visibility": null,
      "width": null
     }
    },
    "929cde17b3484f3e9e8f8774bc43e374": {
     "model_module": "@jupyter-widgets/controls",
     "model_name": "ProgressStyleModel",
     "state": {
      "_model_module": "@jupyter-widgets/controls",
      "_model_module_version": "1.5.0",
      "_model_name": "ProgressStyleModel",
      "_view_count": null,
      "_view_module": "@jupyter-widgets/base",
      "_view_module_version": "1.2.0",
      "_view_name": "StyleView",
      "bar_color": null,
      "description_width": "initial"
     }
    },
    "92a35db69bbf4ad6af44c53aa3870be5": {
     "model_module": "@jupyter-widgets/controls",
     "model_name": "HBoxModel",
     "state": {
      "_dom_classes": [],
      "_model_module": "@jupyter-widgets/controls",
      "_model_module_version": "1.5.0",
      "_model_name": "HBoxModel",
      "_view_count": null,
      "_view_module": "@jupyter-widgets/controls",
      "_view_module_version": "1.5.0",
      "_view_name": "HBoxView",
      "box_style": "",
      "children": [
       "IPY_MODEL_b94e374d92c146009447c3827b977267",
       "IPY_MODEL_1f1faa7b986e475c9e6839b2e7b55c74"
      ],
      "layout": "IPY_MODEL_389e43e47a734193a507817ebad955f7"
     }
    },
    "93f191a48b3141e1889fd94870b6ac0e": {
     "model_module": "@jupyter-widgets/base",
     "model_name": "LayoutModel",
     "state": {
      "_model_module": "@jupyter-widgets/base",
      "_model_module_version": "1.2.0",
      "_model_name": "LayoutModel",
      "_view_count": null,
      "_view_module": "@jupyter-widgets/base",
      "_view_module_version": "1.2.0",
      "_view_name": "LayoutView",
      "align_content": null,
      "align_items": null,
      "align_self": null,
      "border": null,
      "bottom": null,
      "display": null,
      "flex": null,
      "flex_flow": null,
      "grid_area": null,
      "grid_auto_columns": null,
      "grid_auto_flow": null,
      "grid_auto_rows": null,
      "grid_column": null,
      "grid_gap": null,
      "grid_row": null,
      "grid_template_areas": null,
      "grid_template_columns": null,
      "grid_template_rows": null,
      "height": null,
      "justify_content": null,
      "justify_items": null,
      "left": null,
      "margin": null,
      "max_height": null,
      "max_width": null,
      "min_height": null,
      "min_width": null,
      "object_fit": null,
      "object_position": null,
      "order": null,
      "overflow": null,
      "overflow_x": null,
      "overflow_y": null,
      "padding": null,
      "right": null,
      "top": null,
      "visibility": null,
      "width": null
     }
    },
    "9532db4cdc5e4371a4a02055a4c67a08": {
     "model_module": "@jupyter-widgets/controls",
     "model_name": "DescriptionStyleModel",
     "state": {
      "_model_module": "@jupyter-widgets/controls",
      "_model_module_version": "1.5.0",
      "_model_name": "DescriptionStyleModel",
      "_view_count": null,
      "_view_module": "@jupyter-widgets/base",
      "_view_module_version": "1.2.0",
      "_view_name": "StyleView",
      "description_width": ""
     }
    },
    "969080b52ad44ee997829986d198c505": {
     "model_module": "@jupyter-widgets/controls",
     "model_name": "DescriptionStyleModel",
     "state": {
      "_model_module": "@jupyter-widgets/controls",
      "_model_module_version": "1.5.0",
      "_model_name": "DescriptionStyleModel",
      "_view_count": null,
      "_view_module": "@jupyter-widgets/base",
      "_view_module_version": "1.2.0",
      "_view_name": "StyleView",
      "description_width": ""
     }
    },
    "98c594f1e41e4b3fab10f0763bd93d75": {
     "model_module": "@jupyter-widgets/base",
     "model_name": "LayoutModel",
     "state": {
      "_model_module": "@jupyter-widgets/base",
      "_model_module_version": "1.2.0",
      "_model_name": "LayoutModel",
      "_view_count": null,
      "_view_module": "@jupyter-widgets/base",
      "_view_module_version": "1.2.0",
      "_view_name": "LayoutView",
      "align_content": null,
      "align_items": null,
      "align_self": null,
      "border": null,
      "bottom": null,
      "display": null,
      "flex": null,
      "flex_flow": null,
      "grid_area": null,
      "grid_auto_columns": null,
      "grid_auto_flow": null,
      "grid_auto_rows": null,
      "grid_column": null,
      "grid_gap": null,
      "grid_row": null,
      "grid_template_areas": null,
      "grid_template_columns": null,
      "grid_template_rows": null,
      "height": null,
      "justify_content": null,
      "justify_items": null,
      "left": null,
      "margin": null,
      "max_height": null,
      "max_width": null,
      "min_height": null,
      "min_width": null,
      "object_fit": null,
      "object_position": null,
      "order": null,
      "overflow": null,
      "overflow_x": null,
      "overflow_y": null,
      "padding": null,
      "right": null,
      "top": null,
      "visibility": null,
      "width": null
     }
    },
    "98e7ab5f7ebf426fbb71a37bbad4c28f": {
     "model_module": "@jupyter-widgets/controls",
     "model_name": "FloatProgressModel",
     "state": {
      "_dom_classes": [],
      "_model_module": "@jupyter-widgets/controls",
      "_model_module_version": "1.5.0",
      "_model_name": "FloatProgressModel",
      "_view_count": null,
      "_view_module": "@jupyter-widgets/controls",
      "_view_module_version": "1.5.0",
      "_view_name": "ProgressView",
      "bar_style": "info",
      "description": "",
      "description_tooltip": null,
      "layout": "IPY_MODEL_2f5406546970425282a881b5d2f7c248",
      "max": 1,
      "min": 0,
      "orientation": "horizontal",
      "style": "IPY_MODEL_4382726ef043441a9b1a4a647d84f242",
      "value": 1
     }
    },
    "998676d59f9c464e8463d65baad6448b": {
     "model_module": "@jupyter-widgets/controls",
     "model_name": "HTMLModel",
     "state": {
      "_dom_classes": [],
      "_model_module": "@jupyter-widgets/controls",
      "_model_module_version": "1.5.0",
      "_model_name": "HTMLModel",
      "_view_count": null,
      "_view_module": "@jupyter-widgets/controls",
      "_view_module_version": "1.5.0",
      "_view_name": "HTMLView",
      "description": "",
      "description_tooltip": null,
      "layout": "IPY_MODEL_7b4cfd2b448643b8a4409dd612aef0d1",
      "placeholder": "​",
      "style": "IPY_MODEL_7bf5b2b625764f63ad57a360c3fd0a61",
      "value": " 1647/1647 [00:45&lt;00:00, 36.39ex/s]"
     }
    },
    "99d5c44ea54b45ee9bd89380cb1ad189": {
     "model_module": "@jupyter-widgets/base",
     "model_name": "LayoutModel",
     "state": {
      "_model_module": "@jupyter-widgets/base",
      "_model_module_version": "1.2.0",
      "_model_name": "LayoutModel",
      "_view_count": null,
      "_view_module": "@jupyter-widgets/base",
      "_view_module_version": "1.2.0",
      "_view_name": "LayoutView",
      "align_content": null,
      "align_items": null,
      "align_self": null,
      "border": null,
      "bottom": null,
      "display": null,
      "flex": null,
      "flex_flow": null,
      "grid_area": null,
      "grid_auto_columns": null,
      "grid_auto_flow": null,
      "grid_auto_rows": null,
      "grid_column": null,
      "grid_gap": null,
      "grid_row": null,
      "grid_template_areas": null,
      "grid_template_columns": null,
      "grid_template_rows": null,
      "height": null,
      "justify_content": null,
      "justify_items": null,
      "left": null,
      "margin": null,
      "max_height": null,
      "max_width": null,
      "min_height": null,
      "min_width": null,
      "object_fit": null,
      "object_position": null,
      "order": null,
      "overflow": null,
      "overflow_x": null,
      "overflow_y": null,
      "padding": null,
      "right": null,
      "top": null,
      "visibility": null,
      "width": null
     }
    },
    "9eb51a6ecf3f41578aa397a5c2a33673": {
     "model_module": "@jupyter-widgets/base",
     "model_name": "LayoutModel",
     "state": {
      "_model_module": "@jupyter-widgets/base",
      "_model_module_version": "1.2.0",
      "_model_name": "LayoutModel",
      "_view_count": null,
      "_view_module": "@jupyter-widgets/base",
      "_view_module_version": "1.2.0",
      "_view_name": "LayoutView",
      "align_content": null,
      "align_items": null,
      "align_self": null,
      "border": null,
      "bottom": null,
      "display": null,
      "flex": null,
      "flex_flow": null,
      "grid_area": null,
      "grid_auto_columns": null,
      "grid_auto_flow": null,
      "grid_auto_rows": null,
      "grid_column": null,
      "grid_gap": null,
      "grid_row": null,
      "grid_template_areas": null,
      "grid_template_columns": null,
      "grid_template_rows": null,
      "height": null,
      "justify_content": null,
      "justify_items": null,
      "left": null,
      "margin": null,
      "max_height": null,
      "max_width": null,
      "min_height": null,
      "min_width": null,
      "object_fit": null,
      "object_position": null,
      "order": null,
      "overflow": null,
      "overflow_x": null,
      "overflow_y": null,
      "padding": null,
      "right": null,
      "top": null,
      "visibility": null,
      "width": null
     }
    },
    "9f79629ad6a94201acf3283862d1ae17": {
     "model_module": "@jupyter-widgets/controls",
     "model_name": "DescriptionStyleModel",
     "state": {
      "_model_module": "@jupyter-widgets/controls",
      "_model_module_version": "1.5.0",
      "_model_name": "DescriptionStyleModel",
      "_view_count": null,
      "_view_module": "@jupyter-widgets/base",
      "_view_module_version": "1.2.0",
      "_view_name": "StyleView",
      "description_width": ""
     }
    },
    "9fee9d9dd1164d97a9109e942444c332": {
     "model_module": "@jupyter-widgets/controls",
     "model_name": "HTMLModel",
     "state": {
      "_dom_classes": [],
      "_model_module": "@jupyter-widgets/controls",
      "_model_module_version": "1.5.0",
      "_model_name": "HTMLModel",
      "_view_count": null,
      "_view_module": "@jupyter-widgets/controls",
      "_view_module_version": "1.5.0",
      "_view_name": "HTMLView",
      "description": "",
      "description_tooltip": null,
      "layout": "IPY_MODEL_c126ea97019149848396e593cfab016f",
      "placeholder": "​",
      "style": "IPY_MODEL_f9efaa7678c2450f847ff2c2f21ff96e",
      "value": " 52/52 [00:31&lt;00:00,  1.66ba/s]"
     }
    },
    "a170c0cb21cf425fbee97fd6d5584e2c": {
     "model_module": "@jupyter-widgets/base",
     "model_name": "LayoutModel",
     "state": {
      "_model_module": "@jupyter-widgets/base",
      "_model_module_version": "1.2.0",
      "_model_name": "LayoutModel",
      "_view_count": null,
      "_view_module": "@jupyter-widgets/base",
      "_view_module_version": "1.2.0",
      "_view_name": "LayoutView",
      "align_content": null,
      "align_items": null,
      "align_self": null,
      "border": null,
      "bottom": null,
      "display": null,
      "flex": null,
      "flex_flow": null,
      "grid_area": null,
      "grid_auto_columns": null,
      "grid_auto_flow": null,
      "grid_auto_rows": null,
      "grid_column": null,
      "grid_gap": null,
      "grid_row": null,
      "grid_template_areas": null,
      "grid_template_columns": null,
      "grid_template_rows": null,
      "height": null,
      "justify_content": null,
      "justify_items": null,
      "left": null,
      "margin": null,
      "max_height": null,
      "max_width": null,
      "min_height": null,
      "min_width": null,
      "object_fit": null,
      "object_position": null,
      "order": null,
      "overflow": null,
      "overflow_x": null,
      "overflow_y": null,
      "padding": null,
      "right": null,
      "top": null,
      "visibility": null,
      "width": null
     }
    },
    "a34dae18d9994b848630d4e3d836e0cb": {
     "model_module": "@jupyter-widgets/base",
     "model_name": "LayoutModel",
     "state": {
      "_model_module": "@jupyter-widgets/base",
      "_model_module_version": "1.2.0",
      "_model_name": "LayoutModel",
      "_view_count": null,
      "_view_module": "@jupyter-widgets/base",
      "_view_module_version": "1.2.0",
      "_view_name": "LayoutView",
      "align_content": null,
      "align_items": null,
      "align_self": null,
      "border": null,
      "bottom": null,
      "display": null,
      "flex": null,
      "flex_flow": null,
      "grid_area": null,
      "grid_auto_columns": null,
      "grid_auto_flow": null,
      "grid_auto_rows": null,
      "grid_column": null,
      "grid_gap": null,
      "grid_row": null,
      "grid_template_areas": null,
      "grid_template_columns": null,
      "grid_template_rows": null,
      "height": null,
      "justify_content": null,
      "justify_items": null,
      "left": null,
      "margin": null,
      "max_height": null,
      "max_width": null,
      "min_height": null,
      "min_width": null,
      "object_fit": null,
      "object_position": null,
      "order": null,
      "overflow": null,
      "overflow_x": null,
      "overflow_y": null,
      "padding": null,
      "right": null,
      "top": null,
      "visibility": null,
      "width": null
     }
    },
    "a3c04c75ec9743feb795f69e7c4dff4f": {
     "model_module": "@jupyter-widgets/controls",
     "model_name": "ProgressStyleModel",
     "state": {
      "_model_module": "@jupyter-widgets/controls",
      "_model_module_version": "1.5.0",
      "_model_name": "ProgressStyleModel",
      "_view_count": null,
      "_view_module": "@jupyter-widgets/base",
      "_view_module_version": "1.2.0",
      "_view_name": "StyleView",
      "bar_color": null,
      "description_width": "initial"
     }
    },
    "a47f1ea64f894f0b8e6b277c31ae9f7d": {
     "model_module": "@jupyter-widgets/controls",
     "model_name": "ProgressStyleModel",
     "state": {
      "_model_module": "@jupyter-widgets/controls",
      "_model_module_version": "1.5.0",
      "_model_name": "ProgressStyleModel",
      "_view_count": null,
      "_view_module": "@jupyter-widgets/base",
      "_view_module_version": "1.2.0",
      "_view_name": "StyleView",
      "bar_color": null,
      "description_width": "initial"
     }
    },
    "a58c203a7cc54086aea45f2029821207": {
     "model_module": "@jupyter-widgets/controls",
     "model_name": "FloatProgressModel",
     "state": {
      "_dom_classes": [],
      "_model_module": "@jupyter-widgets/controls",
      "_model_module_version": "1.5.0",
      "_model_name": "FloatProgressModel",
      "_view_count": null,
      "_view_module": "@jupyter-widgets/controls",
      "_view_module_version": "1.5.0",
      "_view_name": "ProgressView",
      "bar_style": "success",
      "description": "100%",
      "description_tooltip": null,
      "layout": "IPY_MODEL_b1b6a4649fc34c9996f993c57671766b",
      "max": 1647,
      "min": 0,
      "orientation": "horizontal",
      "style": "IPY_MODEL_c8fdf261ac294093a355778a3a4aba3b",
      "value": 1647
     }
    },
    "a868dea9d9b047a4b853b390e138e4c1": {
     "model_module": "@jupyter-widgets/base",
     "model_name": "LayoutModel",
     "state": {
      "_model_module": "@jupyter-widgets/base",
      "_model_module_version": "1.2.0",
      "_model_name": "LayoutModel",
      "_view_count": null,
      "_view_module": "@jupyter-widgets/base",
      "_view_module_version": "1.2.0",
      "_view_name": "LayoutView",
      "align_content": null,
      "align_items": null,
      "align_self": null,
      "border": null,
      "bottom": null,
      "display": null,
      "flex": null,
      "flex_flow": null,
      "grid_area": null,
      "grid_auto_columns": null,
      "grid_auto_flow": null,
      "grid_auto_rows": null,
      "grid_column": null,
      "grid_gap": null,
      "grid_row": null,
      "grid_template_areas": null,
      "grid_template_columns": null,
      "grid_template_rows": null,
      "height": null,
      "justify_content": null,
      "justify_items": null,
      "left": null,
      "margin": null,
      "max_height": null,
      "max_width": null,
      "min_height": null,
      "min_width": null,
      "object_fit": null,
      "object_position": null,
      "order": null,
      "overflow": null,
      "overflow_x": null,
      "overflow_y": null,
      "padding": null,
      "right": null,
      "top": null,
      "visibility": null,
      "width": null
     }
    },
    "aafd4b2c56db43378c4627797665db17": {
     "model_module": "@jupyter-widgets/controls",
     "model_name": "HTMLModel",
     "state": {
      "_dom_classes": [],
      "_model_module": "@jupyter-widgets/controls",
      "_model_module_version": "1.5.0",
      "_model_name": "HTMLModel",
      "_view_count": null,
      "_view_module": "@jupyter-widgets/controls",
      "_view_module_version": "1.5.0",
      "_view_name": "HTMLView",
      "description": "",
      "description_tooltip": null,
      "layout": "IPY_MODEL_ad428686450f4ebdb50a0356b2e5a8c4",
      "placeholder": "​",
      "style": "IPY_MODEL_ccb720bf256e42f7b0251494ccb7741f",
      "value": " 1/1 [00:45&lt;00:00, 45.03s/ba]"
     }
    },
    "ab72c80dfd5e4ab19a183f4204486b59": {
     "model_module": "@jupyter-widgets/controls",
     "model_name": "DescriptionStyleModel",
     "state": {
      "_model_module": "@jupyter-widgets/controls",
      "_model_module_version": "1.5.0",
      "_model_name": "DescriptionStyleModel",
      "_view_count": null,
      "_view_module": "@jupyter-widgets/base",
      "_view_module_version": "1.2.0",
      "_view_name": "StyleView",
      "description_width": ""
     }
    },
    "ac35dca0845149a284b9867d9e607232": {
     "model_module": "@jupyter-widgets/controls",
     "model_name": "HBoxModel",
     "state": {
      "_dom_classes": [],
      "_model_module": "@jupyter-widgets/controls",
      "_model_module_version": "1.5.0",
      "_model_name": "HBoxModel",
      "_view_count": null,
      "_view_module": "@jupyter-widgets/controls",
      "_view_module_version": "1.5.0",
      "_view_name": "HBoxView",
      "box_style": "",
      "children": [
       "IPY_MODEL_5071a31d06f544a5b7340a4e863d8fdf",
       "IPY_MODEL_542027ba12f444d586e8072452badea0"
      ],
      "layout": "IPY_MODEL_b54bff6261964119bcb562c1a9f74ce6"
     }
    },
    "ad428686450f4ebdb50a0356b2e5a8c4": {
     "model_module": "@jupyter-widgets/base",
     "model_name": "LayoutModel",
     "state": {
      "_model_module": "@jupyter-widgets/base",
      "_model_module_version": "1.2.0",
      "_model_name": "LayoutModel",
      "_view_count": null,
      "_view_module": "@jupyter-widgets/base",
      "_view_module_version": "1.2.0",
      "_view_name": "LayoutView",
      "align_content": null,
      "align_items": null,
      "align_self": null,
      "border": null,
      "bottom": null,
      "display": null,
      "flex": null,
      "flex_flow": null,
      "grid_area": null,
      "grid_auto_columns": null,
      "grid_auto_flow": null,
      "grid_auto_rows": null,
      "grid_column": null,
      "grid_gap": null,
      "grid_row": null,
      "grid_template_areas": null,
      "grid_template_columns": null,
      "grid_template_rows": null,
      "height": null,
      "justify_content": null,
      "justify_items": null,
      "left": null,
      "margin": null,
      "max_height": null,
      "max_width": null,
      "min_height": null,
      "min_width": null,
      "object_fit": null,
      "object_position": null,
      "order": null,
      "overflow": null,
      "overflow_x": null,
      "overflow_y": null,
      "padding": null,
      "right": null,
      "top": null,
      "visibility": null,
      "width": null
     }
    },
    "af85713f677243d19cba9fe69a4a5f46": {
     "model_module": "@jupyter-widgets/base",
     "model_name": "LayoutModel",
     "state": {
      "_model_module": "@jupyter-widgets/base",
      "_model_module_version": "1.2.0",
      "_model_name": "LayoutModel",
      "_view_count": null,
      "_view_module": "@jupyter-widgets/base",
      "_view_module_version": "1.2.0",
      "_view_name": "LayoutView",
      "align_content": null,
      "align_items": null,
      "align_self": null,
      "border": null,
      "bottom": null,
      "display": null,
      "flex": null,
      "flex_flow": null,
      "grid_area": null,
      "grid_auto_columns": null,
      "grid_auto_flow": null,
      "grid_auto_rows": null,
      "grid_column": null,
      "grid_gap": null,
      "grid_row": null,
      "grid_template_areas": null,
      "grid_template_columns": null,
      "grid_template_rows": null,
      "height": null,
      "justify_content": null,
      "justify_items": null,
      "left": null,
      "margin": null,
      "max_height": null,
      "max_width": null,
      "min_height": null,
      "min_width": null,
      "object_fit": null,
      "object_position": null,
      "order": null,
      "overflow": null,
      "overflow_x": null,
      "overflow_y": null,
      "padding": null,
      "right": null,
      "top": null,
      "visibility": null,
      "width": null
     }
    },
    "b0479f03f96241ca959f6fe7bcbd1aba": {
     "model_module": "@jupyter-widgets/base",
     "model_name": "LayoutModel",
     "state": {
      "_model_module": "@jupyter-widgets/base",
      "_model_module_version": "1.2.0",
      "_model_name": "LayoutModel",
      "_view_count": null,
      "_view_module": "@jupyter-widgets/base",
      "_view_module_version": "1.2.0",
      "_view_name": "LayoutView",
      "align_content": null,
      "align_items": null,
      "align_self": null,
      "border": null,
      "bottom": null,
      "display": null,
      "flex": null,
      "flex_flow": null,
      "grid_area": null,
      "grid_auto_columns": null,
      "grid_auto_flow": null,
      "grid_auto_rows": null,
      "grid_column": null,
      "grid_gap": null,
      "grid_row": null,
      "grid_template_areas": null,
      "grid_template_columns": null,
      "grid_template_rows": null,
      "height": null,
      "justify_content": null,
      "justify_items": null,
      "left": null,
      "margin": null,
      "max_height": null,
      "max_width": null,
      "min_height": null,
      "min_width": null,
      "object_fit": null,
      "object_position": null,
      "order": null,
      "overflow": null,
      "overflow_x": null,
      "overflow_y": null,
      "padding": null,
      "right": null,
      "top": null,
      "visibility": null,
      "width": null
     }
    },
    "b054b00a32e64fc5988fbd2966ebbce6": {
     "model_module": "@jupyter-widgets/base",
     "model_name": "LayoutModel",
     "state": {
      "_model_module": "@jupyter-widgets/base",
      "_model_module_version": "1.2.0",
      "_model_name": "LayoutModel",
      "_view_count": null,
      "_view_module": "@jupyter-widgets/base",
      "_view_module_version": "1.2.0",
      "_view_name": "LayoutView",
      "align_content": null,
      "align_items": null,
      "align_self": null,
      "border": null,
      "bottom": null,
      "display": null,
      "flex": null,
      "flex_flow": null,
      "grid_area": null,
      "grid_auto_columns": null,
      "grid_auto_flow": null,
      "grid_auto_rows": null,
      "grid_column": null,
      "grid_gap": null,
      "grid_row": null,
      "grid_template_areas": null,
      "grid_template_columns": null,
      "grid_template_rows": null,
      "height": null,
      "justify_content": null,
      "justify_items": null,
      "left": null,
      "margin": null,
      "max_height": null,
      "max_width": null,
      "min_height": null,
      "min_width": null,
      "object_fit": null,
      "object_position": null,
      "order": null,
      "overflow": null,
      "overflow_x": null,
      "overflow_y": null,
      "padding": null,
      "right": null,
      "top": null,
      "visibility": null,
      "width": null
     }
    },
    "b0e3a36279d243ab9943149705c72c3e": {
     "model_module": "@jupyter-widgets/controls",
     "model_name": "FloatProgressModel",
     "state": {
      "_dom_classes": [],
      "_model_module": "@jupyter-widgets/controls",
      "_model_module_version": "1.5.0",
      "_model_name": "FloatProgressModel",
      "_view_count": null,
      "_view_module": "@jupyter-widgets/controls",
      "_view_module_version": "1.5.0",
      "_view_name": "ProgressView",
      "bar_style": "success",
      "description": "Downloading: ",
      "description_tooltip": null,
      "layout": "IPY_MODEL_a34dae18d9994b848630d4e3d836e0cb",
      "max": 5925,
      "min": 0,
      "orientation": "horizontal",
      "style": "IPY_MODEL_530f66ac087e4f8f979fcaa33941c60d",
      "value": 5925
     }
    },
    "b0f3a205ad4546188fc6e7e7cf96ab32": {
     "model_module": "@jupyter-widgets/controls",
     "model_name": "ProgressStyleModel",
     "state": {
      "_model_module": "@jupyter-widgets/controls",
      "_model_module_version": "1.5.0",
      "_model_name": "ProgressStyleModel",
      "_view_count": null,
      "_view_module": "@jupyter-widgets/base",
      "_view_module_version": "1.2.0",
      "_view_name": "StyleView",
      "bar_color": null,
      "description_width": "initial"
     }
    },
    "b177a8cb85a24b88ab6d56205b630f1d": {
     "model_module": "@jupyter-widgets/base",
     "model_name": "LayoutModel",
     "state": {
      "_model_module": "@jupyter-widgets/base",
      "_model_module_version": "1.2.0",
      "_model_name": "LayoutModel",
      "_view_count": null,
      "_view_module": "@jupyter-widgets/base",
      "_view_module_version": "1.2.0",
      "_view_name": "LayoutView",
      "align_content": null,
      "align_items": null,
      "align_self": null,
      "border": null,
      "bottom": null,
      "display": null,
      "flex": null,
      "flex_flow": null,
      "grid_area": null,
      "grid_auto_columns": null,
      "grid_auto_flow": null,
      "grid_auto_rows": null,
      "grid_column": null,
      "grid_gap": null,
      "grid_row": null,
      "grid_template_areas": null,
      "grid_template_columns": null,
      "grid_template_rows": null,
      "height": null,
      "justify_content": null,
      "justify_items": null,
      "left": null,
      "margin": null,
      "max_height": null,
      "max_width": null,
      "min_height": null,
      "min_width": null,
      "object_fit": null,
      "object_position": null,
      "order": null,
      "overflow": null,
      "overflow_x": null,
      "overflow_y": null,
      "padding": null,
      "right": null,
      "top": null,
      "visibility": null,
      "width": null
     }
    },
    "b1b6a4649fc34c9996f993c57671766b": {
     "model_module": "@jupyter-widgets/base",
     "model_name": "LayoutModel",
     "state": {
      "_model_module": "@jupyter-widgets/base",
      "_model_module_version": "1.2.0",
      "_model_name": "LayoutModel",
      "_view_count": null,
      "_view_module": "@jupyter-widgets/base",
      "_view_module_version": "1.2.0",
      "_view_name": "LayoutView",
      "align_content": null,
      "align_items": null,
      "align_self": null,
      "border": null,
      "bottom": null,
      "display": null,
      "flex": null,
      "flex_flow": null,
      "grid_area": null,
      "grid_auto_columns": null,
      "grid_auto_flow": null,
      "grid_auto_rows": null,
      "grid_column": null,
      "grid_gap": null,
      "grid_row": null,
      "grid_template_areas": null,
      "grid_template_columns": null,
      "grid_template_rows": null,
      "height": null,
      "justify_content": null,
      "justify_items": null,
      "left": null,
      "margin": null,
      "max_height": null,
      "max_width": null,
      "min_height": null,
      "min_width": null,
      "object_fit": null,
      "object_position": null,
      "order": null,
      "overflow": null,
      "overflow_x": null,
      "overflow_y": null,
      "padding": null,
      "right": null,
      "top": null,
      "visibility": null,
      "width": null
     }
    },
    "b1d93a7521fa47b8a815445b5232da59": {
     "model_module": "@jupyter-widgets/base",
     "model_name": "LayoutModel",
     "state": {
      "_model_module": "@jupyter-widgets/base",
      "_model_module_version": "1.2.0",
      "_model_name": "LayoutModel",
      "_view_count": null,
      "_view_module": "@jupyter-widgets/base",
      "_view_module_version": "1.2.0",
      "_view_name": "LayoutView",
      "align_content": null,
      "align_items": null,
      "align_self": null,
      "border": null,
      "bottom": null,
      "display": null,
      "flex": null,
      "flex_flow": null,
      "grid_area": null,
      "grid_auto_columns": null,
      "grid_auto_flow": null,
      "grid_auto_rows": null,
      "grid_column": null,
      "grid_gap": null,
      "grid_row": null,
      "grid_template_areas": null,
      "grid_template_columns": null,
      "grid_template_rows": null,
      "height": null,
      "justify_content": null,
      "justify_items": null,
      "left": null,
      "margin": null,
      "max_height": null,
      "max_width": null,
      "min_height": null,
      "min_width": null,
      "object_fit": null,
      "object_position": null,
      "order": null,
      "overflow": null,
      "overflow_x": null,
      "overflow_y": null,
      "padding": null,
      "right": null,
      "top": null,
      "visibility": null,
      "width": null
     }
    },
    "b2473405490e4556bf30c0cc81237aa5": {
     "model_module": "@jupyter-widgets/base",
     "model_name": "LayoutModel",
     "state": {
      "_model_module": "@jupyter-widgets/base",
      "_model_module_version": "1.2.0",
      "_model_name": "LayoutModel",
      "_view_count": null,
      "_view_module": "@jupyter-widgets/base",
      "_view_module_version": "1.2.0",
      "_view_name": "LayoutView",
      "align_content": null,
      "align_items": null,
      "align_self": null,
      "border": null,
      "bottom": null,
      "display": null,
      "flex": null,
      "flex_flow": null,
      "grid_area": null,
      "grid_auto_columns": null,
      "grid_auto_flow": null,
      "grid_auto_rows": null,
      "grid_column": null,
      "grid_gap": null,
      "grid_row": null,
      "grid_template_areas": null,
      "grid_template_columns": null,
      "grid_template_rows": null,
      "height": null,
      "justify_content": null,
      "justify_items": null,
      "left": null,
      "margin": null,
      "max_height": null,
      "max_width": null,
      "min_height": null,
      "min_width": null,
      "object_fit": null,
      "object_position": null,
      "order": null,
      "overflow": null,
      "overflow_x": null,
      "overflow_y": null,
      "padding": null,
      "right": null,
      "top": null,
      "visibility": null,
      "width": null
     }
    },
    "b320306eaf264ad9872d507a1a1cb2da": {
     "model_module": "@jupyter-widgets/base",
     "model_name": "LayoutModel",
     "state": {
      "_model_module": "@jupyter-widgets/base",
      "_model_module_version": "1.2.0",
      "_model_name": "LayoutModel",
      "_view_count": null,
      "_view_module": "@jupyter-widgets/base",
      "_view_module_version": "1.2.0",
      "_view_name": "LayoutView",
      "align_content": null,
      "align_items": null,
      "align_self": null,
      "border": null,
      "bottom": null,
      "display": null,
      "flex": null,
      "flex_flow": null,
      "grid_area": null,
      "grid_auto_columns": null,
      "grid_auto_flow": null,
      "grid_auto_rows": null,
      "grid_column": null,
      "grid_gap": null,
      "grid_row": null,
      "grid_template_areas": null,
      "grid_template_columns": null,
      "grid_template_rows": null,
      "height": null,
      "justify_content": null,
      "justify_items": null,
      "left": null,
      "margin": null,
      "max_height": null,
      "max_width": null,
      "min_height": null,
      "min_width": null,
      "object_fit": null,
      "object_position": null,
      "order": null,
      "overflow": null,
      "overflow_x": null,
      "overflow_y": null,
      "padding": null,
      "right": null,
      "top": null,
      "visibility": null,
      "width": null
     }
    },
    "b54bff6261964119bcb562c1a9f74ce6": {
     "model_module": "@jupyter-widgets/base",
     "model_name": "LayoutModel",
     "state": {
      "_model_module": "@jupyter-widgets/base",
      "_model_module_version": "1.2.0",
      "_model_name": "LayoutModel",
      "_view_count": null,
      "_view_module": "@jupyter-widgets/base",
      "_view_module_version": "1.2.0",
      "_view_name": "LayoutView",
      "align_content": null,
      "align_items": null,
      "align_self": null,
      "border": null,
      "bottom": null,
      "display": null,
      "flex": null,
      "flex_flow": null,
      "grid_area": null,
      "grid_auto_columns": null,
      "grid_auto_flow": null,
      "grid_auto_rows": null,
      "grid_column": null,
      "grid_gap": null,
      "grid_row": null,
      "grid_template_areas": null,
      "grid_template_columns": null,
      "grid_template_rows": null,
      "height": null,
      "justify_content": null,
      "justify_items": null,
      "left": null,
      "margin": null,
      "max_height": null,
      "max_width": null,
      "min_height": null,
      "min_width": null,
      "object_fit": null,
      "object_position": null,
      "order": null,
      "overflow": null,
      "overflow_x": null,
      "overflow_y": null,
      "padding": null,
      "right": null,
      "top": null,
      "visibility": null,
      "width": null
     }
    },
    "b6221b4c04e64c9da9eb9e11539bac89": {
     "model_module": "@jupyter-widgets/controls",
     "model_name": "HBoxModel",
     "state": {
      "_dom_classes": [],
      "_model_module": "@jupyter-widgets/controls",
      "_model_module_version": "1.5.0",
      "_model_name": "HBoxModel",
      "_view_count": null,
      "_view_module": "@jupyter-widgets/controls",
      "_view_module_version": "1.5.0",
      "_view_name": "HBoxView",
      "box_style": "",
      "children": [
       "IPY_MODEL_02d1f77324854fbca0df9384c57faac8",
       "IPY_MODEL_8e63ba7f1fd24555bf11bc9dbe9c770b"
      ],
      "layout": "IPY_MODEL_dc6862530f6e429ba61a169b4c95722c"
     }
    },
    "b78413dcc0584a0c8f71731a06aaa1b8": {
     "model_module": "@jupyter-widgets/base",
     "model_name": "LayoutModel",
     "state": {
      "_model_module": "@jupyter-widgets/base",
      "_model_module_version": "1.2.0",
      "_model_name": "LayoutModel",
      "_view_count": null,
      "_view_module": "@jupyter-widgets/base",
      "_view_module_version": "1.2.0",
      "_view_name": "LayoutView",
      "align_content": null,
      "align_items": null,
      "align_self": null,
      "border": null,
      "bottom": null,
      "display": null,
      "flex": null,
      "flex_flow": null,
      "grid_area": null,
      "grid_auto_columns": null,
      "grid_auto_flow": null,
      "grid_auto_rows": null,
      "grid_column": null,
      "grid_gap": null,
      "grid_row": null,
      "grid_template_areas": null,
      "grid_template_columns": null,
      "grid_template_rows": null,
      "height": null,
      "justify_content": null,
      "justify_items": null,
      "left": null,
      "margin": null,
      "max_height": null,
      "max_width": null,
      "min_height": null,
      "min_width": null,
      "object_fit": null,
      "object_position": null,
      "order": null,
      "overflow": null,
      "overflow_x": null,
      "overflow_y": null,
      "padding": null,
      "right": null,
      "top": null,
      "visibility": null,
      "width": null
     }
    },
    "b7c43fb5efdd4afbb82c81b923f2815a": {
     "model_module": "@jupyter-widgets/controls",
     "model_name": "HBoxModel",
     "state": {
      "_dom_classes": [],
      "_model_module": "@jupyter-widgets/controls",
      "_model_module_version": "1.5.0",
      "_model_name": "HBoxModel",
      "_view_count": null,
      "_view_module": "@jupyter-widgets/controls",
      "_view_module_version": "1.5.0",
      "_view_name": "HBoxView",
      "box_style": "",
      "children": [
       "IPY_MODEL_8dddd0245dcb4532917cbfa0181d2a00",
       "IPY_MODEL_3bdb4058f40f40e3a10e323325a64638"
      ],
      "layout": "IPY_MODEL_c0a661f20e7e4649a3c8c42a5fd01956"
     }
    },
    "b94e374d92c146009447c3827b977267": {
     "model_module": "@jupyter-widgets/controls",
     "model_name": "FloatProgressModel",
     "state": {
      "_dom_classes": [],
      "_model_module": "@jupyter-widgets/controls",
      "_model_module_version": "1.5.0",
      "_model_name": "FloatProgressModel",
      "_view_count": null,
      "_view_module": "@jupyter-widgets/controls",
      "_view_module_version": "1.5.0",
      "_view_name": "ProgressView",
      "bar_style": "success",
      "description": "100%",
      "description_tooltip": null,
      "layout": "IPY_MODEL_b177a8cb85a24b88ab6d56205b630f1d",
      "max": 3478,
      "min": 0,
      "orientation": "horizontal",
      "style": "IPY_MODEL_4ff7ccffc36a4a0f93031f5cdc3b718d",
      "value": 3478
     }
    },
    "b9c5c6dd54cc4dc5ad5a2bb69a24ab05": {
     "model_module": "@jupyter-widgets/controls",
     "model_name": "ProgressStyleModel",
     "state": {
      "_model_module": "@jupyter-widgets/controls",
      "_model_module_version": "1.5.0",
      "_model_name": "ProgressStyleModel",
      "_view_count": null,
      "_view_module": "@jupyter-widgets/base",
      "_view_module_version": "1.2.0",
      "_view_name": "StyleView",
      "bar_color": null,
      "description_width": "initial"
     }
    },
    "bc41384bbae04044b9780651c6b5a47c": {
     "model_module": "@jupyter-widgets/base",
     "model_name": "LayoutModel",
     "state": {
      "_model_module": "@jupyter-widgets/base",
      "_model_module_version": "1.2.0",
      "_model_name": "LayoutModel",
      "_view_count": null,
      "_view_module": "@jupyter-widgets/base",
      "_view_module_version": "1.2.0",
      "_view_name": "LayoutView",
      "align_content": null,
      "align_items": null,
      "align_self": null,
      "border": null,
      "bottom": null,
      "display": null,
      "flex": null,
      "flex_flow": null,
      "grid_area": null,
      "grid_auto_columns": null,
      "grid_auto_flow": null,
      "grid_auto_rows": null,
      "grid_column": null,
      "grid_gap": null,
      "grid_row": null,
      "grid_template_areas": null,
      "grid_template_columns": null,
      "grid_template_rows": null,
      "height": null,
      "justify_content": null,
      "justify_items": null,
      "left": null,
      "margin": null,
      "max_height": null,
      "max_width": null,
      "min_height": null,
      "min_width": null,
      "object_fit": null,
      "object_position": null,
      "order": null,
      "overflow": null,
      "overflow_x": null,
      "overflow_y": null,
      "padding": null,
      "right": null,
      "top": null,
      "visibility": null,
      "width": null
     }
    },
    "bd0958ea97b141b1aca367c71721c549": {
     "model_module": "@jupyter-widgets/controls",
     "model_name": "HBoxModel",
     "state": {
      "_dom_classes": [],
      "_model_module": "@jupyter-widgets/controls",
      "_model_module_version": "1.5.0",
      "_model_name": "HBoxModel",
      "_view_count": null,
      "_view_module": "@jupyter-widgets/controls",
      "_view_module_version": "1.5.0",
      "_view_name": "HBoxView",
      "box_style": "",
      "children": [
       "IPY_MODEL_d080668299ef42fabb8ab6fbcf329cea",
       "IPY_MODEL_aafd4b2c56db43378c4627797665db17"
      ],
      "layout": "IPY_MODEL_0354ab33471e4c34a0c1b3c062bcd6bb"
     }
    },
    "bd187486ac2548f2961cfcb63d852de1": {
     "model_module": "@jupyter-widgets/controls",
     "model_name": "FloatProgressModel",
     "state": {
      "_dom_classes": [],
      "_model_module": "@jupyter-widgets/controls",
      "_model_module_version": "1.5.0",
      "_model_name": "FloatProgressModel",
      "_view_count": null,
      "_view_module": "@jupyter-widgets/controls",
      "_view_module_version": "1.5.0",
      "_view_name": "ProgressView",
      "bar_style": "success",
      "description": "#1: 100%",
      "description_tooltip": null,
      "layout": "IPY_MODEL_58f3e8002f984594ac05c973aa78ef69",
      "max": 52,
      "min": 0,
      "orientation": "horizontal",
      "style": "IPY_MODEL_231c66f195d34f86b216805518f4bccd",
      "value": 52
     }
    },
    "bd3447291ce54812af10ac6245ea4328": {
     "model_module": "@jupyter-widgets/base",
     "model_name": "LayoutModel",
     "state": {
      "_model_module": "@jupyter-widgets/base",
      "_model_module_version": "1.2.0",
      "_model_name": "LayoutModel",
      "_view_count": null,
      "_view_module": "@jupyter-widgets/base",
      "_view_module_version": "1.2.0",
      "_view_name": "LayoutView",
      "align_content": null,
      "align_items": null,
      "align_self": null,
      "border": null,
      "bottom": null,
      "display": null,
      "flex": null,
      "flex_flow": null,
      "grid_area": null,
      "grid_auto_columns": null,
      "grid_auto_flow": null,
      "grid_auto_rows": null,
      "grid_column": null,
      "grid_gap": null,
      "grid_row": null,
      "grid_template_areas": null,
      "grid_template_columns": null,
      "grid_template_rows": null,
      "height": null,
      "justify_content": null,
      "justify_items": null,
      "left": null,
      "margin": null,
      "max_height": null,
      "max_width": null,
      "min_height": null,
      "min_width": null,
      "object_fit": null,
      "object_position": null,
      "order": null,
      "overflow": null,
      "overflow_x": null,
      "overflow_y": null,
      "padding": null,
      "right": null,
      "top": null,
      "visibility": null,
      "width": null
     }
    },
    "beca070c32124a119a08cb21c2ca95e5": {
     "model_module": "@jupyter-widgets/controls",
     "model_name": "ProgressStyleModel",
     "state": {
      "_model_module": "@jupyter-widgets/controls",
      "_model_module_version": "1.5.0",
      "_model_name": "ProgressStyleModel",
      "_view_count": null,
      "_view_module": "@jupyter-widgets/base",
      "_view_module_version": "1.2.0",
      "_view_name": "StyleView",
      "bar_color": null,
      "description_width": "initial"
     }
    },
    "bee0f50055eb4f738636142a10da0ddd": {
     "model_module": "@jupyter-widgets/base",
     "model_name": "LayoutModel",
     "state": {
      "_model_module": "@jupyter-widgets/base",
      "_model_module_version": "1.2.0",
      "_model_name": "LayoutModel",
      "_view_count": null,
      "_view_module": "@jupyter-widgets/base",
      "_view_module_version": "1.2.0",
      "_view_name": "LayoutView",
      "align_content": null,
      "align_items": null,
      "align_self": null,
      "border": null,
      "bottom": null,
      "display": null,
      "flex": null,
      "flex_flow": null,
      "grid_area": null,
      "grid_auto_columns": null,
      "grid_auto_flow": null,
      "grid_auto_rows": null,
      "grid_column": null,
      "grid_gap": null,
      "grid_row": null,
      "grid_template_areas": null,
      "grid_template_columns": null,
      "grid_template_rows": null,
      "height": null,
      "justify_content": null,
      "justify_items": null,
      "left": null,
      "margin": null,
      "max_height": null,
      "max_width": null,
      "min_height": null,
      "min_width": null,
      "object_fit": null,
      "object_position": null,
      "order": null,
      "overflow": null,
      "overflow_x": null,
      "overflow_y": null,
      "padding": null,
      "right": null,
      "top": null,
      "visibility": null,
      "width": null
     }
    },
    "bf9e57d81135412d9a9a2281f28bd52a": {
     "model_module": "@jupyter-widgets/controls",
     "model_name": "HBoxModel",
     "state": {
      "_dom_classes": [],
      "_model_module": "@jupyter-widgets/controls",
      "_model_module_version": "1.5.0",
      "_model_name": "HBoxModel",
      "_view_count": null,
      "_view_module": "@jupyter-widgets/controls",
      "_view_module_version": "1.5.0",
      "_view_name": "HBoxView",
      "box_style": "",
      "children": [
       "IPY_MODEL_579b6055028f473981ce789a0733a753",
       "IPY_MODEL_4fb7347e9ca542e6ab9003bf4db218e0"
      ],
      "layout": "IPY_MODEL_c41610c0baef412984f8661d96e08b7e"
     }
    },
    "c01aca3229a24d41841be2b4a3a65bcc": {
     "model_module": "@jupyter-widgets/controls",
     "model_name": "ProgressStyleModel",
     "state": {
      "_model_module": "@jupyter-widgets/controls",
      "_model_module_version": "1.5.0",
      "_model_name": "ProgressStyleModel",
      "_view_count": null,
      "_view_module": "@jupyter-widgets/base",
      "_view_module_version": "1.2.0",
      "_view_name": "StyleView",
      "bar_color": null,
      "description_width": "initial"
     }
    },
    "c0a661f20e7e4649a3c8c42a5fd01956": {
     "model_module": "@jupyter-widgets/base",
     "model_name": "LayoutModel",
     "state": {
      "_model_module": "@jupyter-widgets/base",
      "_model_module_version": "1.2.0",
      "_model_name": "LayoutModel",
      "_view_count": null,
      "_view_module": "@jupyter-widgets/base",
      "_view_module_version": "1.2.0",
      "_view_name": "LayoutView",
      "align_content": null,
      "align_items": null,
      "align_self": null,
      "border": null,
      "bottom": null,
      "display": null,
      "flex": null,
      "flex_flow": null,
      "grid_area": null,
      "grid_auto_columns": null,
      "grid_auto_flow": null,
      "grid_auto_rows": null,
      "grid_column": null,
      "grid_gap": null,
      "grid_row": null,
      "grid_template_areas": null,
      "grid_template_columns": null,
      "grid_template_rows": null,
      "height": null,
      "justify_content": null,
      "justify_items": null,
      "left": null,
      "margin": null,
      "max_height": null,
      "max_width": null,
      "min_height": null,
      "min_width": null,
      "object_fit": null,
      "object_position": null,
      "order": null,
      "overflow": null,
      "overflow_x": null,
      "overflow_y": null,
      "padding": null,
      "right": null,
      "top": null,
      "visibility": null,
      "width": null
     }
    },
    "c0e6b6e6395d4dbd827eb1c0de1ad21a": {
     "model_module": "@jupyter-widgets/base",
     "model_name": "LayoutModel",
     "state": {
      "_model_module": "@jupyter-widgets/base",
      "_model_module_version": "1.2.0",
      "_model_name": "LayoutModel",
      "_view_count": null,
      "_view_module": "@jupyter-widgets/base",
      "_view_module_version": "1.2.0",
      "_view_name": "LayoutView",
      "align_content": null,
      "align_items": null,
      "align_self": null,
      "border": null,
      "bottom": null,
      "display": null,
      "flex": null,
      "flex_flow": null,
      "grid_area": null,
      "grid_auto_columns": null,
      "grid_auto_flow": null,
      "grid_auto_rows": null,
      "grid_column": null,
      "grid_gap": null,
      "grid_row": null,
      "grid_template_areas": null,
      "grid_template_columns": null,
      "grid_template_rows": null,
      "height": null,
      "justify_content": null,
      "justify_items": null,
      "left": null,
      "margin": null,
      "max_height": null,
      "max_width": null,
      "min_height": null,
      "min_width": null,
      "object_fit": null,
      "object_position": null,
      "order": null,
      "overflow": null,
      "overflow_x": null,
      "overflow_y": null,
      "padding": null,
      "right": null,
      "top": null,
      "visibility": null,
      "width": null
     }
    },
    "c126ea97019149848396e593cfab016f": {
     "model_module": "@jupyter-widgets/base",
     "model_name": "LayoutModel",
     "state": {
      "_model_module": "@jupyter-widgets/base",
      "_model_module_version": "1.2.0",
      "_model_name": "LayoutModel",
      "_view_count": null,
      "_view_module": "@jupyter-widgets/base",
      "_view_module_version": "1.2.0",
      "_view_name": "LayoutView",
      "align_content": null,
      "align_items": null,
      "align_self": null,
      "border": null,
      "bottom": null,
      "display": null,
      "flex": null,
      "flex_flow": null,
      "grid_area": null,
      "grid_auto_columns": null,
      "grid_auto_flow": null,
      "grid_auto_rows": null,
      "grid_column": null,
      "grid_gap": null,
      "grid_row": null,
      "grid_template_areas": null,
      "grid_template_columns": null,
      "grid_template_rows": null,
      "height": null,
      "justify_content": null,
      "justify_items": null,
      "left": null,
      "margin": null,
      "max_height": null,
      "max_width": null,
      "min_height": null,
      "min_width": null,
      "object_fit": null,
      "object_position": null,
      "order": null,
      "overflow": null,
      "overflow_x": null,
      "overflow_y": null,
      "padding": null,
      "right": null,
      "top": null,
      "visibility": null,
      "width": null
     }
    },
    "c41610c0baef412984f8661d96e08b7e": {
     "model_module": "@jupyter-widgets/base",
     "model_name": "LayoutModel",
     "state": {
      "_model_module": "@jupyter-widgets/base",
      "_model_module_version": "1.2.0",
      "_model_name": "LayoutModel",
      "_view_count": null,
      "_view_module": "@jupyter-widgets/base",
      "_view_module_version": "1.2.0",
      "_view_name": "LayoutView",
      "align_content": null,
      "align_items": null,
      "align_self": null,
      "border": null,
      "bottom": null,
      "display": null,
      "flex": null,
      "flex_flow": null,
      "grid_area": null,
      "grid_auto_columns": null,
      "grid_auto_flow": null,
      "grid_auto_rows": null,
      "grid_column": null,
      "grid_gap": null,
      "grid_row": null,
      "grid_template_areas": null,
      "grid_template_columns": null,
      "grid_template_rows": null,
      "height": null,
      "justify_content": null,
      "justify_items": null,
      "left": null,
      "margin": null,
      "max_height": null,
      "max_width": null,
      "min_height": null,
      "min_width": null,
      "object_fit": null,
      "object_position": null,
      "order": null,
      "overflow": null,
      "overflow_x": null,
      "overflow_y": null,
      "padding": null,
      "right": null,
      "top": null,
      "visibility": null,
      "width": null
     }
    },
    "c546bca23ee248a1be7bd8ead3e82a8f": {
     "model_module": "@jupyter-widgets/controls",
     "model_name": "ProgressStyleModel",
     "state": {
      "_model_module": "@jupyter-widgets/controls",
      "_model_module_version": "1.5.0",
      "_model_name": "ProgressStyleModel",
      "_view_count": null,
      "_view_module": "@jupyter-widgets/base",
      "_view_module_version": "1.2.0",
      "_view_name": "StyleView",
      "bar_color": null,
      "description_width": "initial"
     }
    },
    "c8fdf261ac294093a355778a3a4aba3b": {
     "model_module": "@jupyter-widgets/controls",
     "model_name": "ProgressStyleModel",
     "state": {
      "_model_module": "@jupyter-widgets/controls",
      "_model_module_version": "1.5.0",
      "_model_name": "ProgressStyleModel",
      "_view_count": null,
      "_view_module": "@jupyter-widgets/base",
      "_view_module_version": "1.2.0",
      "_view_name": "StyleView",
      "bar_color": null,
      "description_width": "initial"
     }
    },
    "c9dc4421940241c59f1151aeabedc98b": {
     "model_module": "@jupyter-widgets/base",
     "model_name": "LayoutModel",
     "state": {
      "_model_module": "@jupyter-widgets/base",
      "_model_module_version": "1.2.0",
      "_model_name": "LayoutModel",
      "_view_count": null,
      "_view_module": "@jupyter-widgets/base",
      "_view_module_version": "1.2.0",
      "_view_name": "LayoutView",
      "align_content": null,
      "align_items": null,
      "align_self": null,
      "border": null,
      "bottom": null,
      "display": null,
      "flex": null,
      "flex_flow": null,
      "grid_area": null,
      "grid_auto_columns": null,
      "grid_auto_flow": null,
      "grid_auto_rows": null,
      "grid_column": null,
      "grid_gap": null,
      "grid_row": null,
      "grid_template_areas": null,
      "grid_template_columns": null,
      "grid_template_rows": null,
      "height": null,
      "justify_content": null,
      "justify_items": null,
      "left": null,
      "margin": null,
      "max_height": null,
      "max_width": null,
      "min_height": null,
      "min_width": null,
      "object_fit": null,
      "object_position": null,
      "order": null,
      "overflow": null,
      "overflow_x": null,
      "overflow_y": null,
      "padding": null,
      "right": null,
      "top": null,
      "visibility": null,
      "width": null
     }
    },
    "cb5666eb8ebb4d1392e98d6b5af8761c": {
     "model_module": "@jupyter-widgets/controls",
     "model_name": "DescriptionStyleModel",
     "state": {
      "_model_module": "@jupyter-widgets/controls",
      "_model_module_version": "1.5.0",
      "_model_name": "DescriptionStyleModel",
      "_view_count": null,
      "_view_module": "@jupyter-widgets/base",
      "_view_module_version": "1.2.0",
      "_view_name": "StyleView",
      "description_width": ""
     }
    },
    "cc9c1e00c2d34516b8fd9edff96bb0d8": {
     "model_module": "@jupyter-widgets/controls",
     "model_name": "HBoxModel",
     "state": {
      "_dom_classes": [],
      "_model_module": "@jupyter-widgets/controls",
      "_model_module_version": "1.5.0",
      "_model_name": "HBoxModel",
      "_view_count": null,
      "_view_module": "@jupyter-widgets/controls",
      "_view_module_version": "1.5.0",
      "_view_name": "HBoxView",
      "box_style": "",
      "children": [
       "IPY_MODEL_33c92b5afd1d4b6d88016aabfb434194",
       "IPY_MODEL_998676d59f9c464e8463d65baad6448b"
      ],
      "layout": "IPY_MODEL_6abfbe44a1bd4518b41f5f53f920e936"
     }
    },
    "ccb720bf256e42f7b0251494ccb7741f": {
     "model_module": "@jupyter-widgets/controls",
     "model_name": "DescriptionStyleModel",
     "state": {
      "_model_module": "@jupyter-widgets/controls",
      "_model_module_version": "1.5.0",
      "_model_name": "DescriptionStyleModel",
      "_view_count": null,
      "_view_module": "@jupyter-widgets/base",
      "_view_module_version": "1.2.0",
      "_view_name": "StyleView",
      "description_width": ""
     }
    },
    "ce337f50183942e6a74ca1b33735ade9": {
     "model_module": "@jupyter-widgets/controls",
     "model_name": "HTMLModel",
     "state": {
      "_dom_classes": [],
      "_model_module": "@jupyter-widgets/controls",
      "_model_module_version": "1.5.0",
      "_model_name": "HTMLModel",
      "_view_count": null,
      "_view_module": "@jupyter-widgets/controls",
      "_view_module_version": "1.5.0",
      "_view_name": "HTMLView",
      "description": "",
      "description_tooltip": null,
      "layout": "IPY_MODEL_e9a702f10538415b970ea1345804d72c",
      "placeholder": "​",
      "style": "IPY_MODEL_9532db4cdc5e4371a4a02055a4c67a08",
      "value": " 23.0k/? [00:00&lt;00:00, 72.2kB/s]"
     }
    },
    "ceb44ba4fdf34da19a52469acf1ce63f": {
     "model_module": "@jupyter-widgets/base",
     "model_name": "LayoutModel",
     "state": {
      "_model_module": "@jupyter-widgets/base",
      "_model_module_version": "1.2.0",
      "_model_name": "LayoutModel",
      "_view_count": null,
      "_view_module": "@jupyter-widgets/base",
      "_view_module_version": "1.2.0",
      "_view_name": "LayoutView",
      "align_content": null,
      "align_items": null,
      "align_self": null,
      "border": null,
      "bottom": null,
      "display": null,
      "flex": null,
      "flex_flow": null,
      "grid_area": null,
      "grid_auto_columns": null,
      "grid_auto_flow": null,
      "grid_auto_rows": null,
      "grid_column": null,
      "grid_gap": null,
      "grid_row": null,
      "grid_template_areas": null,
      "grid_template_columns": null,
      "grid_template_rows": null,
      "height": null,
      "justify_content": null,
      "justify_items": null,
      "left": null,
      "margin": null,
      "max_height": null,
      "max_width": null,
      "min_height": null,
      "min_width": null,
      "object_fit": null,
      "object_position": null,
      "order": null,
      "overflow": null,
      "overflow_x": null,
      "overflow_y": null,
      "padding": null,
      "right": null,
      "top": null,
      "visibility": null,
      "width": null
     }
    },
    "d080668299ef42fabb8ab6fbcf329cea": {
     "model_module": "@jupyter-widgets/controls",
     "model_name": "FloatProgressModel",
     "state": {
      "_dom_classes": [],
      "_model_module": "@jupyter-widgets/controls",
      "_model_module_version": "1.5.0",
      "_model_name": "FloatProgressModel",
      "_view_count": null,
      "_view_module": "@jupyter-widgets/controls",
      "_view_module_version": "1.5.0",
      "_view_name": "ProgressView",
      "bar_style": "success",
      "description": "100%",
      "description_tooltip": null,
      "layout": "IPY_MODEL_f972527479e74337a98f236ed018ae1d",
      "max": 1,
      "min": 0,
      "orientation": "horizontal",
      "style": "IPY_MODEL_b0f3a205ad4546188fc6e7e7cf96ab32",
      "value": 1
     }
    },
    "d35c15beeb33476894b07c3563f8facd": {
     "model_module": "@jupyter-widgets/controls",
     "model_name": "DescriptionStyleModel",
     "state": {
      "_model_module": "@jupyter-widgets/controls",
      "_model_module_version": "1.5.0",
      "_model_name": "DescriptionStyleModel",
      "_view_count": null,
      "_view_module": "@jupyter-widgets/base",
      "_view_module_version": "1.2.0",
      "_view_name": "StyleView",
      "description_width": ""
     }
    },
    "d362345c05234c97a675c6bacdad0e92": {
     "model_module": "@jupyter-widgets/controls",
     "model_name": "DescriptionStyleModel",
     "state": {
      "_model_module": "@jupyter-widgets/controls",
      "_model_module_version": "1.5.0",
      "_model_name": "DescriptionStyleModel",
      "_view_count": null,
      "_view_module": "@jupyter-widgets/base",
      "_view_module_version": "1.2.0",
      "_view_name": "StyleView",
      "description_width": ""
     }
    },
    "d453bd4a35e54bfba20dac1fe86c60c1": {
     "model_module": "@jupyter-widgets/base",
     "model_name": "LayoutModel",
     "state": {
      "_model_module": "@jupyter-widgets/base",
      "_model_module_version": "1.2.0",
      "_model_name": "LayoutModel",
      "_view_count": null,
      "_view_module": "@jupyter-widgets/base",
      "_view_module_version": "1.2.0",
      "_view_name": "LayoutView",
      "align_content": null,
      "align_items": null,
      "align_self": null,
      "border": null,
      "bottom": null,
      "display": null,
      "flex": null,
      "flex_flow": null,
      "grid_area": null,
      "grid_auto_columns": null,
      "grid_auto_flow": null,
      "grid_auto_rows": null,
      "grid_column": null,
      "grid_gap": null,
      "grid_row": null,
      "grid_template_areas": null,
      "grid_template_columns": null,
      "grid_template_rows": null,
      "height": null,
      "justify_content": null,
      "justify_items": null,
      "left": null,
      "margin": null,
      "max_height": null,
      "max_width": null,
      "min_height": null,
      "min_width": null,
      "object_fit": null,
      "object_position": null,
      "order": null,
      "overflow": null,
      "overflow_x": null,
      "overflow_y": null,
      "padding": null,
      "right": null,
      "top": null,
      "visibility": null,
      "width": null
     }
    },
    "d4a3f79644fc41848450ba29e6fdfc3d": {
     "model_module": "@jupyter-widgets/base",
     "model_name": "LayoutModel",
     "state": {
      "_model_module": "@jupyter-widgets/base",
      "_model_module_version": "1.2.0",
      "_model_name": "LayoutModel",
      "_view_count": null,
      "_view_module": "@jupyter-widgets/base",
      "_view_module_version": "1.2.0",
      "_view_name": "LayoutView",
      "align_content": null,
      "align_items": null,
      "align_self": null,
      "border": null,
      "bottom": null,
      "display": null,
      "flex": null,
      "flex_flow": null,
      "grid_area": null,
      "grid_auto_columns": null,
      "grid_auto_flow": null,
      "grid_auto_rows": null,
      "grid_column": null,
      "grid_gap": null,
      "grid_row": null,
      "grid_template_areas": null,
      "grid_template_columns": null,
      "grid_template_rows": null,
      "height": null,
      "justify_content": null,
      "justify_items": null,
      "left": null,
      "margin": null,
      "max_height": null,
      "max_width": null,
      "min_height": null,
      "min_width": null,
      "object_fit": null,
      "object_position": null,
      "order": null,
      "overflow": null,
      "overflow_x": null,
      "overflow_y": null,
      "padding": null,
      "right": null,
      "top": null,
      "visibility": null,
      "width": null
     }
    },
    "d5fb02debe4347e781543a996ce39be3": {
     "model_module": "@jupyter-widgets/controls",
     "model_name": "HBoxModel",
     "state": {
      "_dom_classes": [],
      "_model_module": "@jupyter-widgets/controls",
      "_model_module_version": "1.5.0",
      "_model_name": "HBoxModel",
      "_view_count": null,
      "_view_module": "@jupyter-widgets/controls",
      "_view_module_version": "1.5.0",
      "_view_name": "HBoxView",
      "box_style": "",
      "children": [
       "IPY_MODEL_8e1a85a4a6214a16b7431da23a301ada",
       "IPY_MODEL_57198e3250374e1fa64c5a4be255861e"
      ],
      "layout": "IPY_MODEL_da12267c52144292adb9896249d61a6a"
     }
    },
    "d649c0f9c1c24634a84b7ef697721ffa": {
     "model_module": "@jupyter-widgets/base",
     "model_name": "LayoutModel",
     "state": {
      "_model_module": "@jupyter-widgets/base",
      "_model_module_version": "1.2.0",
      "_model_name": "LayoutModel",
      "_view_count": null,
      "_view_module": "@jupyter-widgets/base",
      "_view_module_version": "1.2.0",
      "_view_name": "LayoutView",
      "align_content": null,
      "align_items": null,
      "align_self": null,
      "border": null,
      "bottom": null,
      "display": null,
      "flex": null,
      "flex_flow": null,
      "grid_area": null,
      "grid_auto_columns": null,
      "grid_auto_flow": null,
      "grid_auto_rows": null,
      "grid_column": null,
      "grid_gap": null,
      "grid_row": null,
      "grid_template_areas": null,
      "grid_template_columns": null,
      "grid_template_rows": null,
      "height": null,
      "justify_content": null,
      "justify_items": null,
      "left": null,
      "margin": null,
      "max_height": null,
      "max_width": null,
      "min_height": null,
      "min_width": null,
      "object_fit": null,
      "object_position": null,
      "order": null,
      "overflow": null,
      "overflow_x": null,
      "overflow_y": null,
      "padding": null,
      "right": null,
      "top": null,
      "visibility": null,
      "width": null
     }
    },
    "d69468d63dd74fdd807fe061b92aa84e": {
     "model_module": "@jupyter-widgets/controls",
     "model_name": "HTMLModel",
     "state": {
      "_dom_classes": [],
      "_model_module": "@jupyter-widgets/controls",
      "_model_module_version": "1.5.0",
      "_model_name": "HTMLModel",
      "_view_count": null,
      "_view_module": "@jupyter-widgets/controls",
      "_view_module_version": "1.5.0",
      "_view_name": "HTMLView",
      "description": "",
      "description_tooltip": null,
      "layout": "IPY_MODEL_84e7f0001ebe458dad3c96e7e9a38cdc",
      "placeholder": "​",
      "style": "IPY_MODEL_7f5203fde6b64bf7ad53d6ecd3041bfc",
      "value": " 869/869 [05:47&lt;00:00,  2.50ex/s]"
     }
    },
    "d7f27e9cf8a844349ca90393e0c49a03": {
     "model_module": "@jupyter-widgets/base",
     "model_name": "LayoutModel",
     "state": {
      "_model_module": "@jupyter-widgets/base",
      "_model_module_version": "1.2.0",
      "_model_name": "LayoutModel",
      "_view_count": null,
      "_view_module": "@jupyter-widgets/base",
      "_view_module_version": "1.2.0",
      "_view_name": "LayoutView",
      "align_content": null,
      "align_items": null,
      "align_self": null,
      "border": null,
      "bottom": null,
      "display": null,
      "flex": null,
      "flex_flow": null,
      "grid_area": null,
      "grid_auto_columns": null,
      "grid_auto_flow": null,
      "grid_auto_rows": null,
      "grid_column": null,
      "grid_gap": null,
      "grid_row": null,
      "grid_template_areas": null,
      "grid_template_columns": null,
      "grid_template_rows": null,
      "height": null,
      "justify_content": null,
      "justify_items": null,
      "left": null,
      "margin": null,
      "max_height": null,
      "max_width": null,
      "min_height": null,
      "min_width": null,
      "object_fit": null,
      "object_position": null,
      "order": null,
      "overflow": null,
      "overflow_x": null,
      "overflow_y": null,
      "padding": null,
      "right": null,
      "top": null,
      "visibility": null,
      "width": null
     }
    },
    "d96e01ad62c342cdb7d9b1eceb39afa3": {
     "model_module": "@jupyter-widgets/controls",
     "model_name": "HBoxModel",
     "state": {
      "_dom_classes": [],
      "_model_module": "@jupyter-widgets/controls",
      "_model_module_version": "1.5.0",
      "_model_name": "HBoxModel",
      "_view_count": null,
      "_view_module": "@jupyter-widgets/controls",
      "_view_module_version": "1.5.0",
      "_view_name": "HBoxView",
      "box_style": "",
      "children": [
       "IPY_MODEL_e6178f7b148c4bf39f2826f208e0cc64",
       "IPY_MODEL_f78ff14b9c8f46448ed1ecb3fe1f5e0b"
      ],
      "layout": "IPY_MODEL_e6ce9330460d4a0fb67cc493ca74ae96"
     }
    },
    "da12267c52144292adb9896249d61a6a": {
     "model_module": "@jupyter-widgets/base",
     "model_name": "LayoutModel",
     "state": {
      "_model_module": "@jupyter-widgets/base",
      "_model_module_version": "1.2.0",
      "_model_name": "LayoutModel",
      "_view_count": null,
      "_view_module": "@jupyter-widgets/base",
      "_view_module_version": "1.2.0",
      "_view_name": "LayoutView",
      "align_content": null,
      "align_items": null,
      "align_self": null,
      "border": null,
      "bottom": null,
      "display": null,
      "flex": null,
      "flex_flow": null,
      "grid_area": null,
      "grid_auto_columns": null,
      "grid_auto_flow": null,
      "grid_auto_rows": null,
      "grid_column": null,
      "grid_gap": null,
      "grid_row": null,
      "grid_template_areas": null,
      "grid_template_columns": null,
      "grid_template_rows": null,
      "height": null,
      "justify_content": null,
      "justify_items": null,
      "left": null,
      "margin": null,
      "max_height": null,
      "max_width": null,
      "min_height": null,
      "min_width": null,
      "object_fit": null,
      "object_position": null,
      "order": null,
      "overflow": null,
      "overflow_x": null,
      "overflow_y": null,
      "padding": null,
      "right": null,
      "top": null,
      "visibility": null,
      "width": null
     }
    },
    "da1ff50f8b9241108a325ada04224642": {
     "model_module": "@jupyter-widgets/controls",
     "model_name": "ProgressStyleModel",
     "state": {
      "_model_module": "@jupyter-widgets/controls",
      "_model_module_version": "1.5.0",
      "_model_name": "ProgressStyleModel",
      "_view_count": null,
      "_view_module": "@jupyter-widgets/base",
      "_view_module_version": "1.2.0",
      "_view_name": "StyleView",
      "bar_color": null,
      "description_width": "initial"
     }
    },
    "db71db50799c404aafa4a54de8b9b799": {
     "model_module": "@jupyter-widgets/base",
     "model_name": "LayoutModel",
     "state": {
      "_model_module": "@jupyter-widgets/base",
      "_model_module_version": "1.2.0",
      "_model_name": "LayoutModel",
      "_view_count": null,
      "_view_module": "@jupyter-widgets/base",
      "_view_module_version": "1.2.0",
      "_view_name": "LayoutView",
      "align_content": null,
      "align_items": null,
      "align_self": null,
      "border": null,
      "bottom": null,
      "display": null,
      "flex": null,
      "flex_flow": null,
      "grid_area": null,
      "grid_auto_columns": null,
      "grid_auto_flow": null,
      "grid_auto_rows": null,
      "grid_column": null,
      "grid_gap": null,
      "grid_row": null,
      "grid_template_areas": null,
      "grid_template_columns": null,
      "grid_template_rows": null,
      "height": null,
      "justify_content": null,
      "justify_items": null,
      "left": null,
      "margin": null,
      "max_height": null,
      "max_width": null,
      "min_height": null,
      "min_width": null,
      "object_fit": null,
      "object_position": null,
      "order": null,
      "overflow": null,
      "overflow_x": null,
      "overflow_y": null,
      "padding": null,
      "right": null,
      "top": null,
      "visibility": null,
      "width": null
     }
    },
    "dc6862530f6e429ba61a169b4c95722c": {
     "model_module": "@jupyter-widgets/base",
     "model_name": "LayoutModel",
     "state": {
      "_model_module": "@jupyter-widgets/base",
      "_model_module_version": "1.2.0",
      "_model_name": "LayoutModel",
      "_view_count": null,
      "_view_module": "@jupyter-widgets/base",
      "_view_module_version": "1.2.0",
      "_view_name": "LayoutView",
      "align_content": null,
      "align_items": null,
      "align_self": null,
      "border": null,
      "bottom": null,
      "display": null,
      "flex": null,
      "flex_flow": null,
      "grid_area": null,
      "grid_auto_columns": null,
      "grid_auto_flow": null,
      "grid_auto_rows": null,
      "grid_column": null,
      "grid_gap": null,
      "grid_row": null,
      "grid_template_areas": null,
      "grid_template_columns": null,
      "grid_template_rows": null,
      "height": null,
      "justify_content": null,
      "justify_items": null,
      "left": null,
      "margin": null,
      "max_height": null,
      "max_width": null,
      "min_height": null,
      "min_width": null,
      "object_fit": null,
      "object_position": null,
      "order": null,
      "overflow": null,
      "overflow_x": null,
      "overflow_y": null,
      "padding": null,
      "right": null,
      "top": null,
      "visibility": null,
      "width": null
     }
    },
    "dde7ae43ef954ef1b901c80f0a4e11fd": {
     "model_module": "@jupyter-widgets/base",
     "model_name": "LayoutModel",
     "state": {
      "_model_module": "@jupyter-widgets/base",
      "_model_module_version": "1.2.0",
      "_model_name": "LayoutModel",
      "_view_count": null,
      "_view_module": "@jupyter-widgets/base",
      "_view_module_version": "1.2.0",
      "_view_name": "LayoutView",
      "align_content": null,
      "align_items": null,
      "align_self": null,
      "border": null,
      "bottom": null,
      "display": null,
      "flex": null,
      "flex_flow": null,
      "grid_area": null,
      "grid_auto_columns": null,
      "grid_auto_flow": null,
      "grid_auto_rows": null,
      "grid_column": null,
      "grid_gap": null,
      "grid_row": null,
      "grid_template_areas": null,
      "grid_template_columns": null,
      "grid_template_rows": null,
      "height": null,
      "justify_content": null,
      "justify_items": null,
      "left": null,
      "margin": null,
      "max_height": null,
      "max_width": null,
      "min_height": null,
      "min_width": null,
      "object_fit": null,
      "object_position": null,
      "order": null,
      "overflow": null,
      "overflow_x": null,
      "overflow_y": null,
      "padding": null,
      "right": null,
      "top": null,
      "visibility": null,
      "width": null
     }
    },
    "dec796237765477ea904834d9a824b61": {
     "model_module": "@jupyter-widgets/base",
     "model_name": "LayoutModel",
     "state": {
      "_model_module": "@jupyter-widgets/base",
      "_model_module_version": "1.2.0",
      "_model_name": "LayoutModel",
      "_view_count": null,
      "_view_module": "@jupyter-widgets/base",
      "_view_module_version": "1.2.0",
      "_view_name": "LayoutView",
      "align_content": null,
      "align_items": null,
      "align_self": null,
      "border": null,
      "bottom": null,
      "display": null,
      "flex": null,
      "flex_flow": null,
      "grid_area": null,
      "grid_auto_columns": null,
      "grid_auto_flow": null,
      "grid_auto_rows": null,
      "grid_column": null,
      "grid_gap": null,
      "grid_row": null,
      "grid_template_areas": null,
      "grid_template_columns": null,
      "grid_template_rows": null,
      "height": null,
      "justify_content": null,
      "justify_items": null,
      "left": null,
      "margin": null,
      "max_height": null,
      "max_width": null,
      "min_height": null,
      "min_width": null,
      "object_fit": null,
      "object_position": null,
      "order": null,
      "overflow": null,
      "overflow_x": null,
      "overflow_y": null,
      "padding": null,
      "right": null,
      "top": null,
      "visibility": null,
      "width": null
     }
    },
    "def702d8f8354fa4999587a5c68d0034": {
     "model_module": "@jupyter-widgets/controls",
     "model_name": "HBoxModel",
     "state": {
      "_dom_classes": [],
      "_model_module": "@jupyter-widgets/controls",
      "_model_module_version": "1.5.0",
      "_model_name": "HBoxModel",
      "_view_count": null,
      "_view_module": "@jupyter-widgets/controls",
      "_view_module_version": "1.5.0",
      "_view_name": "HBoxView",
      "box_style": "",
      "children": [
       "IPY_MODEL_edf36819322e4f9fa227a11592fef429",
       "IPY_MODEL_ce337f50183942e6a74ca1b33735ade9"
      ],
      "layout": "IPY_MODEL_2fd148d5587b4139919b0158f9dad71e"
     }
    },
    "e273548a15aa4d4994132b317adb66fc": {
     "model_module": "@jupyter-widgets/controls",
     "model_name": "FloatProgressModel",
     "state": {
      "_dom_classes": [],
      "_model_module": "@jupyter-widgets/controls",
      "_model_module_version": "1.5.0",
      "_model_name": "FloatProgressModel",
      "_view_count": null,
      "_view_module": "@jupyter-widgets/controls",
      "_view_module_version": "1.5.0",
      "_view_name": "ProgressView",
      "bar_style": "success",
      "description": "#0: 100%",
      "description_tooltip": null,
      "layout": "IPY_MODEL_80697300a4394b909f1c499ba80aeb13",
      "max": 52,
      "min": 0,
      "orientation": "horizontal",
      "style": "IPY_MODEL_7d62810674c8482abe46c60fc08884b4",
      "value": 52
     }
    },
    "e3b719c0ffcc4fd1b410ffb7f969b7a5": {
     "model_module": "@jupyter-widgets/controls",
     "model_name": "HTMLModel",
     "state": {
      "_dom_classes": [],
      "_model_module": "@jupyter-widgets/controls",
      "_model_module_version": "1.5.0",
      "_model_name": "HTMLModel",
      "_view_count": null,
      "_view_module": "@jupyter-widgets/controls",
      "_view_module_version": "1.5.0",
      "_view_name": "HTMLView",
      "description": "",
      "description_tooltip": null,
      "layout": "IPY_MODEL_c9dc4421940241c59f1151aeabedc98b",
      "placeholder": "​",
      "style": "IPY_MODEL_19e263785ea343ba99ee2127d9b83d1d",
      "value": " 1831/0 [00:04&lt;00:00,  4.82s/ examples]"
     }
    },
    "e51b5fd9d5a6416d986fac1526d1666f": {
     "model_module": "@jupyter-widgets/base",
     "model_name": "LayoutModel",
     "state": {
      "_model_module": "@jupyter-widgets/base",
      "_model_module_version": "1.2.0",
      "_model_name": "LayoutModel",
      "_view_count": null,
      "_view_module": "@jupyter-widgets/base",
      "_view_module_version": "1.2.0",
      "_view_name": "LayoutView",
      "align_content": null,
      "align_items": null,
      "align_self": null,
      "border": null,
      "bottom": null,
      "display": null,
      "flex": null,
      "flex_flow": null,
      "grid_area": null,
      "grid_auto_columns": null,
      "grid_auto_flow": null,
      "grid_auto_rows": null,
      "grid_column": null,
      "grid_gap": null,
      "grid_row": null,
      "grid_template_areas": null,
      "grid_template_columns": null,
      "grid_template_rows": null,
      "height": null,
      "justify_content": null,
      "justify_items": null,
      "left": null,
      "margin": null,
      "max_height": null,
      "max_width": null,
      "min_height": null,
      "min_width": null,
      "object_fit": null,
      "object_position": null,
      "order": null,
      "overflow": null,
      "overflow_x": null,
      "overflow_y": null,
      "padding": null,
      "right": null,
      "top": null,
      "visibility": null,
      "width": null
     }
    },
    "e6178f7b148c4bf39f2826f208e0cc64": {
     "model_module": "@jupyter-widgets/controls",
     "model_name": "FloatProgressModel",
     "state": {
      "_dom_classes": [],
      "_model_module": "@jupyter-widgets/controls",
      "_model_module_version": "1.5.0",
      "_model_name": "FloatProgressModel",
      "_view_count": null,
      "_view_module": "@jupyter-widgets/controls",
      "_view_module_version": "1.5.0",
      "_view_name": "ProgressView",
      "bar_style": "success",
      "description": "#0: 100%",
      "description_tooltip": null,
      "layout": "IPY_MODEL_6ba6d07674a34836be53cf173c2b61ca",
      "max": 412,
      "min": 0,
      "orientation": "horizontal",
      "style": "IPY_MODEL_929cde17b3484f3e9e8f8774bc43e374",
      "value": 412
     }
    },
    "e6ce9330460d4a0fb67cc493ca74ae96": {
     "model_module": "@jupyter-widgets/base",
     "model_name": "LayoutModel",
     "state": {
      "_model_module": "@jupyter-widgets/base",
      "_model_module_version": "1.2.0",
      "_model_name": "LayoutModel",
      "_view_count": null,
      "_view_module": "@jupyter-widgets/base",
      "_view_module_version": "1.2.0",
      "_view_name": "LayoutView",
      "align_content": null,
      "align_items": null,
      "align_self": null,
      "border": null,
      "bottom": null,
      "display": null,
      "flex": null,
      "flex_flow": null,
      "grid_area": null,
      "grid_auto_columns": null,
      "grid_auto_flow": null,
      "grid_auto_rows": null,
      "grid_column": null,
      "grid_gap": null,
      "grid_row": null,
      "grid_template_areas": null,
      "grid_template_columns": null,
      "grid_template_rows": null,
      "height": null,
      "justify_content": null,
      "justify_items": null,
      "left": null,
      "margin": null,
      "max_height": null,
      "max_width": null,
      "min_height": null,
      "min_width": null,
      "object_fit": null,
      "object_position": null,
      "order": null,
      "overflow": null,
      "overflow_x": null,
      "overflow_y": null,
      "padding": null,
      "right": null,
      "top": null,
      "visibility": null,
      "width": null
     }
    },
    "e9a702f10538415b970ea1345804d72c": {
     "model_module": "@jupyter-widgets/base",
     "model_name": "LayoutModel",
     "state": {
      "_model_module": "@jupyter-widgets/base",
      "_model_module_version": "1.2.0",
      "_model_name": "LayoutModel",
      "_view_count": null,
      "_view_module": "@jupyter-widgets/base",
      "_view_module_version": "1.2.0",
      "_view_name": "LayoutView",
      "align_content": null,
      "align_items": null,
      "align_self": null,
      "border": null,
      "bottom": null,
      "display": null,
      "flex": null,
      "flex_flow": null,
      "grid_area": null,
      "grid_auto_columns": null,
      "grid_auto_flow": null,
      "grid_auto_rows": null,
      "grid_column": null,
      "grid_gap": null,
      "grid_row": null,
      "grid_template_areas": null,
      "grid_template_columns": null,
      "grid_template_rows": null,
      "height": null,
      "justify_content": null,
      "justify_items": null,
      "left": null,
      "margin": null,
      "max_height": null,
      "max_width": null,
      "min_height": null,
      "min_width": null,
      "object_fit": null,
      "object_position": null,
      "order": null,
      "overflow": null,
      "overflow_x": null,
      "overflow_y": null,
      "padding": null,
      "right": null,
      "top": null,
      "visibility": null,
      "width": null
     }
    },
    "ec36a94ee2574ac8b227ccaefdee5520": {
     "model_module": "@jupyter-widgets/controls",
     "model_name": "DescriptionStyleModel",
     "state": {
      "_model_module": "@jupyter-widgets/controls",
      "_model_module_version": "1.5.0",
      "_model_name": "DescriptionStyleModel",
      "_view_count": null,
      "_view_module": "@jupyter-widgets/base",
      "_view_module_version": "1.2.0",
      "_view_name": "StyleView",
      "description_width": ""
     }
    },
    "edf36819322e4f9fa227a11592fef429": {
     "model_module": "@jupyter-widgets/controls",
     "model_name": "FloatProgressModel",
     "state": {
      "_dom_classes": [],
      "_model_module": "@jupyter-widgets/controls",
      "_model_module_version": "1.5.0",
      "_model_name": "FloatProgressModel",
      "_view_count": null,
      "_view_module": "@jupyter-widgets/controls",
      "_view_module_version": "1.5.0",
      "_view_name": "ProgressView",
      "bar_style": "success",
      "description": "Downloading: ",
      "description_tooltip": null,
      "layout": "IPY_MODEL_93f191a48b3141e1889fd94870b6ac0e",
      "max": 4662,
      "min": 0,
      "orientation": "horizontal",
      "style": "IPY_MODEL_8292dafcd40745958d0f3c563bf6b9b0",
      "value": 4662
     }
    },
    "ee641bbf54a7499597713c517baa81bb": {
     "model_module": "@jupyter-widgets/controls",
     "model_name": "HBoxModel",
     "state": {
      "_dom_classes": [],
      "_model_module": "@jupyter-widgets/controls",
      "_model_module_version": "1.5.0",
      "_model_name": "HBoxModel",
      "_view_count": null,
      "_view_module": "@jupyter-widgets/controls",
      "_view_module_version": "1.5.0",
      "_view_name": "HBoxView",
      "box_style": "",
      "children": [
       "IPY_MODEL_4f8957dc035d4c1a9e8630fc8ab8cd10",
       "IPY_MODEL_757e7bd0e6c5410da0490d191b4e68c8"
      ],
      "layout": "IPY_MODEL_3d929b9e2518402b81a71757ffb753d2"
     }
    },
    "eed2ccc12daa4c71b080794a7a18f5cb": {
     "model_module": "@jupyter-widgets/controls",
     "model_name": "HTMLModel",
     "state": {
      "_dom_classes": [],
      "_model_module": "@jupyter-widgets/controls",
      "_model_module_version": "1.5.0",
      "_model_name": "HTMLModel",
      "_view_count": null,
      "_view_module": "@jupyter-widgets/controls",
      "_view_module_version": "1.5.0",
      "_view_name": "HTMLView",
      "description": "",
      "description_tooltip": null,
      "layout": "IPY_MODEL_f18eddbd3d994ddc88f37e02d754c206",
      "placeholder": "​",
      "style": "IPY_MODEL_20347ed29fdc4c0a96da28c09aacf44d",
      "value": " 870/870 [05:39&lt;00:00,  2.45ex/s]"
     }
    },
    "f18eddbd3d994ddc88f37e02d754c206": {
     "model_module": "@jupyter-widgets/base",
     "model_name": "LayoutModel",
     "state": {
      "_model_module": "@jupyter-widgets/base",
      "_model_module_version": "1.2.0",
      "_model_name": "LayoutModel",
      "_view_count": null,
      "_view_module": "@jupyter-widgets/base",
      "_view_module_version": "1.2.0",
      "_view_name": "LayoutView",
      "align_content": null,
      "align_items": null,
      "align_self": null,
      "border": null,
      "bottom": null,
      "display": null,
      "flex": null,
      "flex_flow": null,
      "grid_area": null,
      "grid_auto_columns": null,
      "grid_auto_flow": null,
      "grid_auto_rows": null,
      "grid_column": null,
      "grid_gap": null,
      "grid_row": null,
      "grid_template_areas": null,
      "grid_template_columns": null,
      "grid_template_rows": null,
      "height": null,
      "justify_content": null,
      "justify_items": null,
      "left": null,
      "margin": null,
      "max_height": null,
      "max_width": null,
      "min_height": null,
      "min_width": null,
      "object_fit": null,
      "object_position": null,
      "order": null,
      "overflow": null,
      "overflow_x": null,
      "overflow_y": null,
      "padding": null,
      "right": null,
      "top": null,
      "visibility": null,
      "width": null
     }
    },
    "f203c54e7e054d97aa4d1097f320f611": {
     "model_module": "@jupyter-widgets/controls",
     "model_name": "FloatProgressModel",
     "state": {
      "_dom_classes": [],
      "_model_module": "@jupyter-widgets/controls",
      "_model_module_version": "1.5.0",
      "_model_name": "FloatProgressModel",
      "_view_count": null,
      "_view_module": "@jupyter-widgets/controls",
      "_view_module_version": "1.5.0",
      "_view_name": "ProgressView",
      "bar_style": "success",
      "description": "#3: 100%",
      "description_tooltip": null,
      "layout": "IPY_MODEL_0cd1932178c945d48604ffd299e65d2c",
      "max": 411,
      "min": 0,
      "orientation": "horizontal",
      "style": "IPY_MODEL_3ec3285e9f3e4a5abcefabb7f140f4a3",
      "value": 411
     }
    },
    "f3905820a42c499fba04af9c1ad19705": {
     "model_module": "@jupyter-widgets/controls",
     "model_name": "FloatProgressModel",
     "state": {
      "_dom_classes": [],
      "_model_module": "@jupyter-widgets/controls",
      "_model_module_version": "1.5.0",
      "_model_name": "FloatProgressModel",
      "_view_count": null,
      "_view_module": "@jupyter-widgets/controls",
      "_view_module_version": "1.5.0",
      "_view_name": "ProgressView",
      "bar_style": "success",
      "description": "#2: 100%",
      "description_tooltip": null,
      "layout": "IPY_MODEL_fc9504846f424542a7feb932964f1f5b",
      "max": 869,
      "min": 0,
      "orientation": "horizontal",
      "style": "IPY_MODEL_4c0ad31e73234e46aac0a297ec18bdeb",
      "value": 869
     }
    },
    "f3adb92e618743cca3299e3e7b6e369f": {
     "model_module": "@jupyter-widgets/controls",
     "model_name": "HBoxModel",
     "state": {
      "_dom_classes": [],
      "_model_module": "@jupyter-widgets/controls",
      "_model_module_version": "1.5.0",
      "_model_name": "HBoxModel",
      "_view_count": null,
      "_view_module": "@jupyter-widgets/controls",
      "_view_module_version": "1.5.0",
      "_view_name": "HBoxView",
      "box_style": "",
      "children": [
       "IPY_MODEL_b0e3a36279d243ab9943149705c72c3e",
       "IPY_MODEL_12696cc03f464a63a411efb2b5e5ac3b"
      ],
      "layout": "IPY_MODEL_83b51e16d88046c48dcd745cf09d2e56"
     }
    },
    "f4135dd72864445391f43f387635bfdc": {
     "model_module": "@jupyter-widgets/controls",
     "model_name": "HTMLModel",
     "state": {
      "_dom_classes": [],
      "_model_module": "@jupyter-widgets/controls",
      "_model_module_version": "1.5.0",
      "_model_name": "HTMLModel",
      "_view_count": null,
      "_view_module": "@jupyter-widgets/controls",
      "_view_module_version": "1.5.0",
      "_view_name": "HTMLView",
      "description": "",
      "description_tooltip": null,
      "layout": "IPY_MODEL_923ed9e127524187ab8cfcac31164ba7",
      "placeholder": "​",
      "style": "IPY_MODEL_8df9d19602cb4951b397c385458a11ef",
      "value": " 109/109 [00:56&lt;00:00,  1.93ba/s]"
     }
    },
    "f57d087016124ebeb073fd7428dcb68b": {
     "model_module": "@jupyter-widgets/base",
     "model_name": "LayoutModel",
     "state": {
      "_model_module": "@jupyter-widgets/base",
      "_model_module_version": "1.2.0",
      "_model_name": "LayoutModel",
      "_view_count": null,
      "_view_module": "@jupyter-widgets/base",
      "_view_module_version": "1.2.0",
      "_view_name": "LayoutView",
      "align_content": null,
      "align_items": null,
      "align_self": null,
      "border": null,
      "bottom": null,
      "display": null,
      "flex": null,
      "flex_flow": null,
      "grid_area": null,
      "grid_auto_columns": null,
      "grid_auto_flow": null,
      "grid_auto_rows": null,
      "grid_column": null,
      "grid_gap": null,
      "grid_row": null,
      "grid_template_areas": null,
      "grid_template_columns": null,
      "grid_template_rows": null,
      "height": null,
      "justify_content": null,
      "justify_items": null,
      "left": null,
      "margin": null,
      "max_height": null,
      "max_width": null,
      "min_height": null,
      "min_width": null,
      "object_fit": null,
      "object_position": null,
      "order": null,
      "overflow": null,
      "overflow_x": null,
      "overflow_y": null,
      "padding": null,
      "right": null,
      "top": null,
      "visibility": null,
      "width": null
     }
    },
    "f5f1f0865d7e4d8b810ccb9c3c4d2683": {
     "model_module": "@jupyter-widgets/controls",
     "model_name": "FloatProgressModel",
     "state": {
      "_dom_classes": [],
      "_model_module": "@jupyter-widgets/controls",
      "_model_module_version": "1.5.0",
      "_model_name": "FloatProgressModel",
      "_view_count": null,
      "_view_module": "@jupyter-widgets/controls",
      "_view_module_version": "1.5.0",
      "_view_name": "ProgressView",
      "bar_style": "success",
      "description": "#1: 100%",
      "description_tooltip": null,
      "layout": "IPY_MODEL_e51b5fd9d5a6416d986fac1526d1666f",
      "max": 412,
      "min": 0,
      "orientation": "horizontal",
      "style": "IPY_MODEL_a47f1ea64f894f0b8e6b277c31ae9f7d",
      "value": 412
     }
    },
    "f6930dd5519d4dfda64c597def220a30": {
     "model_module": "@jupyter-widgets/controls",
     "model_name": "HTMLModel",
     "state": {
      "_dom_classes": [],
      "_model_module": "@jupyter-widgets/controls",
      "_model_module_version": "1.5.0",
      "_model_name": "HTMLModel",
      "_view_count": null,
      "_view_module": "@jupyter-widgets/controls",
      "_view_module_version": "1.5.0",
      "_view_name": "HTMLView",
      "description": "",
      "description_tooltip": null,
      "layout": "IPY_MODEL_56ad6231a0a04228be29ceecbc6b7c0e",
      "placeholder": "​",
      "style": "IPY_MODEL_ab72c80dfd5e4ab19a183f4204486b59",
      "value": " 52/52 [00:31&lt;00:00,  1.63ba/s]"
     }
    },
    "f6b01ad0433a40178ef3ba5657bc1583": {
     "model_module": "@jupyter-widgets/controls",
     "model_name": "FloatProgressModel",
     "state": {
      "_dom_classes": [],
      "_model_module": "@jupyter-widgets/controls",
      "_model_module_version": "1.5.0",
      "_model_name": "FloatProgressModel",
      "_view_count": null,
      "_view_module": "@jupyter-widgets/controls",
      "_view_module_version": "1.5.0",
      "_view_name": "ProgressView",
      "bar_style": "success",
      "description": "#0: 100%",
      "description_tooltip": null,
      "layout": "IPY_MODEL_69828f4a101f4340916a4be141866904",
      "max": 870,
      "min": 0,
      "orientation": "horizontal",
      "style": "IPY_MODEL_beca070c32124a119a08cb21c2ca95e5",
      "value": 870
     }
    },
    "f78ff14b9c8f46448ed1ecb3fe1f5e0b": {
     "model_module": "@jupyter-widgets/controls",
     "model_name": "HTMLModel",
     "state": {
      "_dom_classes": [],
      "_model_module": "@jupyter-widgets/controls",
      "_model_module_version": "1.5.0",
      "_model_name": "HTMLModel",
      "_view_count": null,
      "_view_module": "@jupyter-widgets/controls",
      "_view_module_version": "1.5.0",
      "_view_name": "HTMLView",
      "description": "",
      "description_tooltip": null,
      "layout": "IPY_MODEL_b054b00a32e64fc5988fbd2966ebbce6",
      "placeholder": "​",
      "style": "IPY_MODEL_5a5bc8b4a1c644dea08a60128d888d10",
      "value": " 412/412 [03:06&lt;00:00,  2.20ex/s]"
     }
    },
    "f792530a76ee486688cbc2502dfae594": {
     "model_module": "@jupyter-widgets/controls",
     "model_name": "FloatProgressModel",
     "state": {
      "_dom_classes": [],
      "_model_module": "@jupyter-widgets/controls",
      "_model_module_version": "1.5.0",
      "_model_name": "FloatProgressModel",
      "_view_count": null,
      "_view_module": "@jupyter-widgets/controls",
      "_view_module_version": "1.5.0",
      "_view_name": "ProgressView",
      "bar_style": "success",
      "description": "#3: 100%",
      "description_tooltip": null,
      "layout": "IPY_MODEL_7e50f8027fb74d669daae5e46082026c",
      "max": 869,
      "min": 0,
      "orientation": "horizontal",
      "style": "IPY_MODEL_1261590ef796493798f7068ea0547b74",
      "value": 869
     }
    },
    "f972527479e74337a98f236ed018ae1d": {
     "model_module": "@jupyter-widgets/base",
     "model_name": "LayoutModel",
     "state": {
      "_model_module": "@jupyter-widgets/base",
      "_model_module_version": "1.2.0",
      "_model_name": "LayoutModel",
      "_view_count": null,
      "_view_module": "@jupyter-widgets/base",
      "_view_module_version": "1.2.0",
      "_view_name": "LayoutView",
      "align_content": null,
      "align_items": null,
      "align_self": null,
      "border": null,
      "bottom": null,
      "display": null,
      "flex": null,
      "flex_flow": null,
      "grid_area": null,
      "grid_auto_columns": null,
      "grid_auto_flow": null,
      "grid_auto_rows": null,
      "grid_column": null,
      "grid_gap": null,
      "grid_row": null,
      "grid_template_areas": null,
      "grid_template_columns": null,
      "grid_template_rows": null,
      "height": null,
      "justify_content": null,
      "justify_items": null,
      "left": null,
      "margin": null,
      "max_height": null,
      "max_width": null,
      "min_height": null,
      "min_width": null,
      "object_fit": null,
      "object_position": null,
      "order": null,
      "overflow": null,
      "overflow_x": null,
      "overflow_y": null,
      "padding": null,
      "right": null,
      "top": null,
      "visibility": null,
      "width": null
     }
    },
    "f9efaa7678c2450f847ff2c2f21ff96e": {
     "model_module": "@jupyter-widgets/controls",
     "model_name": "DescriptionStyleModel",
     "state": {
      "_model_module": "@jupyter-widgets/controls",
      "_model_module_version": "1.5.0",
      "_model_name": "DescriptionStyleModel",
      "_view_count": null,
      "_view_module": "@jupyter-widgets/base",
      "_view_module_version": "1.2.0",
      "_view_name": "StyleView",
      "description_width": ""
     }
    },
    "fa7926bbe77e48b3a0648b45f5d2dc7a": {
     "model_module": "@jupyter-widgets/controls",
     "model_name": "ProgressStyleModel",
     "state": {
      "_model_module": "@jupyter-widgets/controls",
      "_model_module_version": "1.5.0",
      "_model_name": "ProgressStyleModel",
      "_view_count": null,
      "_view_module": "@jupyter-widgets/base",
      "_view_module_version": "1.2.0",
      "_view_name": "StyleView",
      "bar_color": null,
      "description_width": "initial"
     }
    },
    "fc9504846f424542a7feb932964f1f5b": {
     "model_module": "@jupyter-widgets/base",
     "model_name": "LayoutModel",
     "state": {
      "_model_module": "@jupyter-widgets/base",
      "_model_module_version": "1.2.0",
      "_model_name": "LayoutModel",
      "_view_count": null,
      "_view_module": "@jupyter-widgets/base",
      "_view_module_version": "1.2.0",
      "_view_name": "LayoutView",
      "align_content": null,
      "align_items": null,
      "align_self": null,
      "border": null,
      "bottom": null,
      "display": null,
      "flex": null,
      "flex_flow": null,
      "grid_area": null,
      "grid_auto_columns": null,
      "grid_auto_flow": null,
      "grid_auto_rows": null,
      "grid_column": null,
      "grid_gap": null,
      "grid_row": null,
      "grid_template_areas": null,
      "grid_template_columns": null,
      "grid_template_rows": null,
      "height": null,
      "justify_content": null,
      "justify_items": null,
      "left": null,
      "margin": null,
      "max_height": null,
      "max_width": null,
      "min_height": null,
      "min_width": null,
      "object_fit": null,
      "object_position": null,
      "order": null,
      "overflow": null,
      "overflow_x": null,
      "overflow_y": null,
      "padding": null,
      "right": null,
      "top": null,
      "visibility": null,
      "width": null
     }
    },
    "fe62265afdc74026b7e9c5a50ef61d2c": {
     "model_module": "@jupyter-widgets/base",
     "model_name": "LayoutModel",
     "state": {
      "_model_module": "@jupyter-widgets/base",
      "_model_module_version": "1.2.0",
      "_model_name": "LayoutModel",
      "_view_count": null,
      "_view_module": "@jupyter-widgets/base",
      "_view_module_version": "1.2.0",
      "_view_name": "LayoutView",
      "align_content": null,
      "align_items": null,
      "align_self": null,
      "border": null,
      "bottom": null,
      "display": null,
      "flex": null,
      "flex_flow": null,
      "grid_area": null,
      "grid_auto_columns": null,
      "grid_auto_flow": null,
      "grid_auto_rows": null,
      "grid_column": null,
      "grid_gap": null,
      "grid_row": null,
      "grid_template_areas": null,
      "grid_template_columns": null,
      "grid_template_rows": null,
      "height": null,
      "justify_content": null,
      "justify_items": null,
      "left": null,
      "margin": null,
      "max_height": null,
      "max_width": null,
      "min_height": null,
      "min_width": null,
      "object_fit": null,
      "object_position": null,
      "order": null,
      "overflow": null,
      "overflow_x": null,
      "overflow_y": null,
      "padding": null,
      "right": null,
      "top": null,
      "visibility": null,
      "width": null
     }
    }
   }
  }
 },
 "nbformat": 4,
 "nbformat_minor": 4
}
