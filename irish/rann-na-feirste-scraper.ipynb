{
 "cells": [
  {
   "cell_type": "code",
   "execution_count": 2,
   "metadata": {},
   "outputs": [
    {
     "name": "stdout",
     "output_type": "stream",
     "text": [
      "Requirement already satisfied: requests in /opt/conda/lib/python3.7/site-packages (2.23.0)\n",
      "Requirement already satisfied: chardet<4,>=3.0.2 in /opt/conda/lib/python3.7/site-packages (from requests) (3.0.4)\n",
      "Requirement already satisfied: certifi>=2017.4.17 in /opt/conda/lib/python3.7/site-packages (from requests) (2020.12.5)\n",
      "Requirement already satisfied: idna<3,>=2.5 in /opt/conda/lib/python3.7/site-packages (from requests) (2.9)\n",
      "Requirement already satisfied: urllib3!=1.25.0,!=1.25.1,<1.26,>=1.21.1 in /opt/conda/lib/python3.7/site-packages (from requests) (1.25.9)\n",
      "Collecting bs4\n",
      "  Downloading bs4-0.0.1.tar.gz (1.1 kB)\n",
      "Requirement already satisfied: beautifulsoup4 in /opt/conda/lib/python3.7/site-packages (from bs4) (4.9.0)\n",
      "Requirement already satisfied: soupsieve>1.2 in /opt/conda/lib/python3.7/site-packages (from beautifulsoup4->bs4) (1.9.4)\n",
      "Building wheels for collected packages: bs4\n",
      "  Building wheel for bs4 (setup.py) ... \u001b[?25ldone\n",
      "\u001b[?25h  Created wheel for bs4: filename=bs4-0.0.1-py3-none-any.whl size=1272 sha256=8eb3772cdcc61c53b4e32b489f274774641921446bd7050bb72152741d7b6aa1\n",
      "  Stored in directory: /workspace/.cache/pip/wheels/0a/9e/ba/20e5bbc1afef3a491f0b3bb74d508f99403aabe76eda2167ca\n",
      "Successfully built bs4\n",
      "Installing collected packages: bs4\n",
      "Successfully installed bs4-0.0.1\n"
     ]
    }
   ],
   "source": [
    "!pip install requests\n",
    "!pip install bs4"
   ]
  },
  {
   "cell_type": "code",
   "execution_count": 3,
   "metadata": {},
   "outputs": [],
   "source": [
    "import requests\n",
    "from bs4 import BeautifulSoup\n",
    "BASE='http://www.rannnafeirste.com'"
   ]
  },
  {
   "cell_type": "code",
   "execution_count": 4,
   "metadata": {},
   "outputs": [],
   "source": [
    "class Page:\n",
    "\tdef __init__(self, id, title):\n",
    "\t\tself.id = id\n",
    "\t\tself.title = title\n",
    "\t\tself.url = '{}/{}'.format(BASE, id)\n",
    "\n",
    "\t# TODO: stop trying to make fetch happen\n",
    "\tdef _fetch_text(self):\n",
    "\t\treq = requests.get(self.url)\n",
    "\t\tif req.status_code != 200:\n",
    "\t\t\traise Exception('Error fetching page ' + self.url)\n",
    "\t\tself.content = req.content\n",
    "\tdef _soupynorman(self):\n",
    "\t\tself.soup = BeautifulSoup(self.content, 'html.parser')\n",
    "\tdef _fetch_audio(self):\n",
    "\t\taudio_div = self.soup.find(\"div\", class_='sqs-audio-embed')\n",
    "\t\tself.audio = audio_div[\"data-url\"]\n",
    "\tdef _fetch_fragments(self):\n",
    "\t\tfor i in self.soup.find_all(\"div\", class_='sqs-block-content'):\n",
    "\t\t\tchildren = list(i.children)\n",
    "\t\t\tif children[0].name == \"h1\":\n",
    "\t\t\t\tself.fragments = children\n",
    "\t## don't actually need this, because the title comes from the landing page\n",
    "\tdef _fetch_title(self):\n",
    "\t\tif self.fragments[0].name == \"h1\":\n",
    "\t\t\tself.title = fragments[0].text\n",
    "\t\telse:\n",
    "\t\t\traise Exception('Error reading title: ' + self.url)\n",
    "\tdef _fetch_author(self):\n",
    "\t\tif len(self.fragments) > 2 and self.fragments[1].name == \"h2\":\n",
    "\t\t\tself.author = self.fragments[1].text\n",
    "\t\telse:\n",
    "\t\t\traise Exception('Error reading author: ' + self.url)\n",
    "\tdef _fetch_paragraphs(self):\n",
    "\t\traw_paras = [n for n in self.fragments if n.name == \"p\"]\n",
    "\t\tfor frag in raw_paras:\n",
    "\t\t\tfor br in frag.find_all(\"br\"):\n",
    "\t\t\t\tbr.insert(0, '\\n')\n",
    "\t\t\t\tbr.unwrap()\n",
    "\t\tfirst = list(raw_paras[0].children)\n",
    "\t\tif len(first) == 1 and first[0].name == 'em':\n",
    "\t\t\t\tself.em_para = raw_paras[0].text.strip()\n",
    "\t\t\t\tdel raw_paras[0]\n",
    "\t\textent = len(raw_paras)\n",
    "\t\tcounter = 0\n",
    "\t\tfor i in raw_paras:\n",
    "\t\t\t\tif i.text.strip().startswith('Nóta') or i.text.strip().startswith('NÓTA') and extent > counter:\n",
    "\t\t\t\t\textent = counter\n",
    "\t\t\t\tcounter += 1\n",
    "\t\tfilt = raw_paras[0:extent]\n",
    "\t\tself.paragraphs = [p.text for p in filt]\n",
    "\tdef get_initials(self):\n",
    "\t\tfada = {\n",
    "\t\t\t'Á': 'A',\n",
    "\t\t\t'É': 'E',\n",
    "\t\t\t'Í': 'I',\n",
    "\t\t\t'Ó': 'O',\n",
    "\t\t\t'Ú': 'U'\n",
    "\t\t}\n",
    "\t\tdef initial(s):\n",
    "\t\t\tif s == None or len(s) < 1:\n",
    "\t\t\t\treturn ''\n",
    "\t\t\telse:\n",
    "\t\t\t\treturn fada.get(s.upper()[0]) or s.upper()[0]\n",
    "\t\ttry:\n",
    "\t\t\treturn \"\".join([initial(i) for i in self.author.split(' ')])\n",
    "\t\texcept:\n",
    "\t\t\tprint('Author missing: did you run scrape()?')\n",
    "\n",
    "\tdef _specifics(self):\n",
    "\t\ttitle = ['mo-bhaile-dchais', 'taiscidh-ghleann-domhain', 'banron-an-uaignis', 'non-an-r-agus-an-frog', 'seanchaithe-agus-fil-rann-na-feirste', 'an-ghaeltacht-bheo']\n",
    "\t\ttitlele = ['liontar-duinn-an-cruiscin', 'oireachtas-na-ndise', 'fidilir-ghleann-fhinne']\n",
    "\n",
    "\t\tif self.id in title:\n",
    "\t\t\tself.paragraphs.insert(0, self.title)\n",
    "\n",
    "\t\tif self.id in titlele:\n",
    "\t\t\tsecond = self.em_para.replace(' a chum', '')\n",
    "\t\t\tself.paragraphs.insert(0, '{} le {}'.format(self.title, second))\n",
    "\n",
    "\tdef scrape(self):\n",
    "\t\tself._fetch_text()\n",
    "\t\tself._soupynorman()\n",
    "\t\tself._fetch_audio()\n",
    "\t\tself._fetch_fragments()\n",
    "\t\tself._fetch_author()\n",
    "\t\tself._fetch_paragraphs()\n",
    "\t\tself._specifics()\n"
   ]
  },
  {
   "cell_type": "code",
   "execution_count": 1,
   "metadata": {},
   "outputs": [
    {
     "ename": "NameError",
     "evalue": "name 'requests' is not defined",
     "output_type": "error",
     "traceback": [
      "\u001b[0;31m---------------------------------------------------------------------------\u001b[0m",
      "\u001b[0;31mNameError\u001b[0m                                 Traceback (most recent call last)",
      "\u001b[0;32m<ipython-input-1-49a8cf4133a9>\u001b[0m in \u001b[0;36m<module>\u001b[0;34m\u001b[0m\n\u001b[0;32m----> 1\u001b[0;31m \u001b[0mlanding\u001b[0m \u001b[0;34m=\u001b[0m \u001b[0mrequests\u001b[0m\u001b[0;34m.\u001b[0m\u001b[0mget\u001b[0m\u001b[0;34m(\u001b[0m\u001b[0;34m'http://www.rannnafeirste.com/reamhra'\u001b[0m\u001b[0;34m)\u001b[0m\u001b[0;34m\u001b[0m\u001b[0;34m\u001b[0m\u001b[0m\n\u001b[0m\u001b[1;32m      2\u001b[0m \u001b[0mlsoup\u001b[0m \u001b[0;34m=\u001b[0m \u001b[0mBeautifulSoup\u001b[0m\u001b[0;34m(\u001b[0m\u001b[0mlanding\u001b[0m\u001b[0;34m.\u001b[0m\u001b[0mcontent\u001b[0m\u001b[0;34m,\u001b[0m \u001b[0;34m'html.parser'\u001b[0m\u001b[0;34m)\u001b[0m\u001b[0;34m\u001b[0m\u001b[0;34m\u001b[0m\u001b[0m\n\u001b[1;32m      3\u001b[0m \u001b[0mmain_nav\u001b[0m \u001b[0;34m=\u001b[0m \u001b[0mlsoup\u001b[0m\u001b[0;34m.\u001b[0m\u001b[0mfind\u001b[0m\u001b[0;34m(\u001b[0m\u001b[0;34m\"nav\"\u001b[0m\u001b[0;34m,\u001b[0m \u001b[0mid\u001b[0m\u001b[0;34m=\u001b[0m\u001b[0;34m'mainNavigation'\u001b[0m\u001b[0;34m)\u001b[0m\u001b[0;34m\u001b[0m\u001b[0;34m\u001b[0m\u001b[0m\n\u001b[1;32m      4\u001b[0m \u001b[0minner_nav\u001b[0m\u001b[0;34m=\u001b[0m\u001b[0mmain_nav\u001b[0m\u001b[0;34m.\u001b[0m\u001b[0mfind\u001b[0m\u001b[0;34m(\u001b[0m\u001b[0;34m\"div\"\u001b[0m\u001b[0;34m,\u001b[0m \u001b[0mclass_\u001b[0m\u001b[0;34m=\u001b[0m\u001b[0;34m'folder active'\u001b[0m\u001b[0;34m)\u001b[0m\u001b[0;34m\u001b[0m\u001b[0;34m\u001b[0m\u001b[0m\n\u001b[1;32m      5\u001b[0m \u001b[0mstories\u001b[0m \u001b[0;34m=\u001b[0m \u001b[0minner_nav\u001b[0m\u001b[0;34m.\u001b[0m\u001b[0mfind_all\u001b[0m\u001b[0;34m(\u001b[0m\u001b[0;34m'div'\u001b[0m\u001b[0;34m,\u001b[0m \u001b[0mclass_\u001b[0m\u001b[0;34m=\u001b[0m\u001b[0;34m'collection'\u001b[0m\u001b[0;34m)\u001b[0m\u001b[0;34m\u001b[0m\u001b[0;34m\u001b[0m\u001b[0m\n",
      "\u001b[0;31mNameError\u001b[0m: name 'requests' is not defined"
     ]
    }
   ],
   "source": [
    "landing = requests.get('http://www.rannnafeirste.com/reamhra')\n",
    "lsoup = BeautifulSoup(landing.content, 'html.parser')\n",
    "main_nav = lsoup.find(\"nav\", id='mainNavigation')\n",
    "inner_nav=main_nav.find(\"div\", class_='folder active')\n",
    "stories = inner_nav.find_all('div', class_='collection')\n",
    "links = [ i.find('a') for i in stories ]\n",
    "if links[0].attrs['href'] == '/reamhra':\n",
    "\tlinks = links[1:]\n",
    "def extract_link(a):\n",
    "\tout = dict()\n",
    "\tout['id'] = a.attrs['href'][1:]\n",
    "\tout['page'] = BASE + a.attrs['href']\n",
    "\tout['title'] = a.text.strip()\n",
    "\treturn out\n",
    "olinks = list(map(extract_link, links))\n"
   ]
  }
 ],
 "metadata": {
  "kernelspec": {
   "display_name": "Python 3",
   "language": "python",
   "name": "python3"
  },
  "language_info": {
   "codemirror_mode": {
    "name": "ipython",
    "version": 3
   },
   "file_extension": ".py",
   "mimetype": "text/x-python",
   "name": "python",
   "nbconvert_exporter": "python",
   "pygments_lexer": "ipython3",
   "version": "3.7.6"
  }
 },
 "nbformat": 4,
 "nbformat_minor": 4
}
