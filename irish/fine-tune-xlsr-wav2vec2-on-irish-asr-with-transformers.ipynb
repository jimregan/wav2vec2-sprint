{
 "cells": [
  {
   "cell_type": "markdown",
   "metadata": {
    "id": "LBSYoWbi-45k"
   },
   "source": [
    "# **Fine-tuning XLSR-Wav2Vec2 for Multi-Lingual ASR with 🤗 Transformers**"
   ]
  },
  {
   "cell_type": "markdown",
   "metadata": {},
   "source": [
    "## Pre-configuration"
   ]
  },
  {
   "cell_type": "code",
   "execution_count": 1,
   "metadata": {},
   "outputs": [],
   "source": [
    "from ipywidgets import widgets"
   ]
  },
  {
   "cell_type": "code",
   "execution_count": 2,
   "metadata": {},
   "outputs": [],
   "source": [
    "import os"
   ]
  },
  {
   "cell_type": "code",
   "execution_count": 3,
   "metadata": {},
   "outputs": [],
   "source": [
    "language_code = 'ga-IE'\n",
    "language_name = 'irish'\n",
    "base_model = \"facebook/wav2vec2-large-xlsr-53\"\n",
    "pretrain_model = f\"jimregan/wav2vec2-large-xlsr-{language_name}-base\"\n",
    "\n",
    "data_dir = f\"/workspace/data/{language_code}\"\n",
    "output_models_dir = f\"/workspace/output_models/{language_code}/wav2vec2-large-xlsr-{language_name}-base\""
   ]
  },
  {
   "cell_type": "markdown",
   "metadata": {},
   "source": [
    "## Presentation"
   ]
  },
  {
   "cell_type": "markdown",
   "metadata": {
    "id": "V7YOT2mnUiea"
   },
   "source": [
    "Wav2Vec2 is a pretrained model for Automatic Speech Recognition (ASR) and was released in [September 2020](https://ai.facebook.com/blog/wav2vec-20-learning-the-structure-of-speech-from-raw-audio/) by Alexei Baevski, Michael Auli, and Alex Conneau.  Soon after the superior performance of Wav2Vec2 was demonstrated on the English ASR dataset LibriSpeech, *Facebook AI* presented XLSR-Wav2Vec2 (click [here](https://arxiv.org/abs/2006.13979)). XLSR stands for *cross-lingual  speech representations* and refers to XLSR-Wav2Vec2`s ability to learn speech representations that are useful across multiple languages.\n",
    "\n",
    "Similar to Wav2Vec2, XLSR-Wav2Vec2 learns powerful speech representations from hundreds of thousands of hours of speech in more than 50 languages of unlabeled speech. Similar, to [BERT's masked language modeling](http://jalammar.github.io/illustrated-bert/), the model learns contextualized speech representations by randomly masking feature vectors before passing them to a transformer network.\n",
    "\n",
    "![wav2vec2_structure](https://raw.githubusercontent.com/patrickvonplaten/scientific_images/master/xlsr_wav2vec2.png)\n",
    "\n",
    "The authors show for the first time that massively pretraining an ASR model on cross-lingual unlabeled speech data, followed by language-specific fine-tuning on very little labeled data achieves state-of-the-art results. See Table 1-5 of the official [paper](https://arxiv.org/pdf/2006.13979.pdf)."
   ]
  },
  {
   "cell_type": "markdown",
   "metadata": {
    "id": "nT_QrfWtsxIz"
   },
   "source": [
    "In this notebook, we will give an in-detail explanation of how XLSR-Wav2Vec2's pretrained checkpoint can be fine-tuned on a low-resource ASR dataset of any language. Note that in this notebook, we will fine-tune XLSR-Wav2Vec2 without making use of a language model. It is much simpler and more efficient to use XLSR-Wav2Vec2 without a language model, but better results can be achieved by including a language model. \n",
    "\n",
    "For demonstration purposes, we fine-tune the [wav2vec2-large-xlsr-53](https://huggingface.co/facebook/wav2vec2-large-xlsr-53) on the low resource Turkish ASR dataset of [Common Voice](https://huggingface.co/datasets/common_voice) that contains just ~6h of validated training data."
   ]
  },
  {
   "cell_type": "markdown",
   "metadata": {
    "id": "Gx9OdDYrCtQ1"
   },
   "source": [
    "XLSR-Wav2Vec2 is fine-tuned using Connectionist Temporal Classification (CTC), which is an algorithm that is used to train neural networks for sequence-to-sequence problems and mainly in Automatic Speech Recognition and handwriting recognition. \n",
    "\n",
    "I highly recommend reading the blog post [Sequence Modeling with CTC (2017)](https://distill.pub/2017/ctc/) very well-written blog post by Awni Hannun."
   ]
  },
  {
   "cell_type": "markdown",
   "metadata": {
    "id": "e335hPmdtASZ"
   },
   "source": [
    "Before we start, let's install both `datasets` and `transformers` from master. Also, we need the `torchaudio` and `librosa` package to load audio files and the `jiwer` to evaluate our fine-tuned model using the [word error rate (WER)](https://huggingface.co/metrics/wer) metric ${}^1$."
   ]
  },
  {
   "cell_type": "markdown",
   "metadata": {
    "id": "Mn9swf6EQ9Vd"
   },
   "source": [
    "\n",
    "\n",
    "\n",
    "---\n",
    "\n",
    "${}^1$ In the [paper](https://arxiv.org/pdf/2006.13979.pdf), the model was evaluated using the phoneme error rate (PER), but by far the most common metric in ASR is the word error rate (WER). To keep this notebook as general as possible we decided to evaluate the model using WER."
   ]
  },
  {
   "cell_type": "markdown",
   "metadata": {
    "id": "0mW-C1Nt-j7k"
   },
   "source": [
    "## Prepare Data, Tokenizer, Feature Extractor"
   ]
  },
  {
   "cell_type": "markdown",
   "metadata": {
    "id": "BeBosnY9BH3e"
   },
   "source": [
    "ASR models transcribe speech to text, which means that we both need a feature extractor that processes the speech signal to the model's input format, *e.g.* a feature vector, and a tokenizer that processes the model's output format to text. \n",
    "\n",
    "In 🤗 Transformers, the XLSR-Wav2Vec2 model is thus accompanied by both a tokenizer, called [Wav2Vec2CTCTokenizer](https://huggingface.co/transformers/master/model_doc/wav2vec2.html#wav2vec2ctctokenizer), and a feature extractor, called [Wav2Vec2FeatureExtractor](https://huggingface.co/transformers/master/model_doc/wav2vec2.html#wav2vec2featureextractor).\n",
    "\n",
    "Let's start by creating the tokenizer responsible for decoding the model's predictions."
   ]
  },
  {
   "cell_type": "markdown",
   "metadata": {
    "id": "sEXEWEJGQPqD"
   },
   "source": [
    "### Create Wav2Vec2CTCTokenizer"
   ]
  },
  {
   "cell_type": "markdown",
   "metadata": {
    "id": "tWmMikuNEKl_"
   },
   "source": [
    "The [pretrained Wav2Vec2 checkpoint]( ) maps the speech signal to a sequence of context representations as illustrated in the figure above. A fine-tuned XLSR-Wav2Vec2 checkpoint needs to map this sequence of context representations to its corresponding transcription so that a linear layer has to be added on top of the transformer block (shown in yellow). This linear layer is used to classifies each context representation to a token class analogous how, *e.g.*, after pretraining a linear layer is added on top of BERT's embeddings for further classification - *cf.* with *\"BERT\"* section of this [blog post](https://huggingface.co/blog/warm-starting-encoder-decoder).\n",
    "\n",
    "The output size of this layer corresponds to the number of tokens in the vocabulary, which does **not** depend on XLSR-Wav2Vec2's pretraining task, but only on the labeled dataset used for fine-tuning. So in the first step, we will take a look at Common Voice and define a vocabulary based on the dataset's transcriptions."
   ]
  },
  {
   "cell_type": "markdown",
   "metadata": {
    "id": "idBczw8mWzgt"
   },
   "source": [
    "First, let's go to [Common Voice](https://commonvoice.mozilla.org/en/datasets) and pick a language to fine-tune XLSR-Wav2Vec2 on. For this notebook, we will use Turkish. \n",
    "\n",
    "For each language-specific dataset, you can find a language code corresponding to your chosen language. On [Common Voice](https://commonvoice.mozilla.org/en/datasets), look for the field \"Version\". The language code then corresponds to the prefix before the underscore. For Turkish, *e.g.* the language code is `\"tr\"`.\n",
    "\n",
    "Great, now we can use 🤗 Datasets' simple API to download the data. The dataset name will be `\"common_voice\"`, the config name corresponds to the language code - `\"tr\"` in our case."
   ]
  },
  {
   "cell_type": "markdown",
   "metadata": {
    "id": "bee4g9rpLxll"
   },
   "source": [
    "Common Voice has many different splits including `invalidated`, which refers to data that was not rated as \"clean enough\" to be considered useful. In this notebook, we will only make use of the splits `\"train\"`, `\"validation\"` and `\"test\"`. \n",
    "\n",
    "Because the Turkish dataset is so small, we will merge both the validation and training data into a training dataset and simply use the test data for validation."
   ]
  },
  {
   "cell_type": "code",
   "execution_count": 4,
   "metadata": {
    "colab": {
     "base_uri": "https://localhost:8080/",
     "height": 227,
     "referenced_widgets": [
      "def702d8f8354fa4999587a5c68d0034",
      "2fd148d5587b4139919b0158f9dad71e",
      "edf36819322e4f9fa227a11592fef429",
      "ce337f50183942e6a74ca1b33735ade9",
      "8292dafcd40745958d0f3c563bf6b9b0",
      "93f191a48b3141e1889fd94870b6ac0e",
      "9532db4cdc5e4371a4a02055a4c67a08",
      "e9a702f10538415b970ea1345804d72c",
      "f3adb92e618743cca3299e3e7b6e369f",
      "83b51e16d88046c48dcd745cf09d2e56",
      "b0e3a36279d243ab9943149705c72c3e",
      "12696cc03f464a63a411efb2b5e5ac3b",
      "530f66ac087e4f8f979fcaa33941c60d",
      "a34dae18d9994b848630d4e3d836e0cb",
      "68a3178fe7a54e838e798ff28ff9aa0b",
      "ceb44ba4fdf34da19a52469acf1ce63f",
      "90b8bc59e26a46009e1d3763f86f227a",
      "3e2cd59ac697495f8db14b894b783f95",
      "98e7ab5f7ebf426fbb71a37bbad4c28f",
      "e3b719c0ffcc4fd1b410ffb7f969b7a5",
      "4382726ef043441a9b1a4a647d84f242",
      "2f5406546970425282a881b5d2f7c248",
      "19e263785ea343ba99ee2127d9b83d1d",
      "c9dc4421940241c59f1151aeabedc98b",
      "8701fb161cec47e89fc4d57b599ee7fe",
      "1813458f75514f039ba0214597a09bb4",
      "7f787df324514a8c915785e272a8af18",
      "889da3e5ed2945849d3c8a6a75175747",
      "71ffdf6f26ba4381a8e671958e679f88",
      "7916b06da182435a9cc1d13c73310500",
      "59e0f5200068461cbfb256ad5479c4c8",
      "2cd13e03a2ab45dc8570c8c739a613b4",
      "089428f56e66419f85ea149d9d102454",
      "d649c0f9c1c24634a84b7ef697721ffa",
      "4db5037af3f64a3a8a8a1203018a80ff",
      "6a957c1c17474d8d89c27ddecf702fda",
      "2a6e1185a6a247f5acba8111824ad36b",
      "c0e6b6e6395d4dbd827eb1c0de1ad21a",
      "05f83d714f864a399083f0e34a812467",
      "91fcf0641fe3489ab96f3aaa40adf245",
      "25ba4f4c8b9c44af9885b3903a9261fd",
      "dde7ae43ef954ef1b901c80f0a4e11fd",
      "03b33c17734d49e28c4636dddd6e833d",
      "71c059a0f3c246f3a40d55744331daaa",
      "da1ff50f8b9241108a325ada04224642",
      "bee0f50055eb4f738636142a10da0ddd",
      "cb5666eb8ebb4d1392e98d6b5af8761c",
      "430c3c079d0e4006b90e72df7986ffb0",
      "6c065aa34661469ca1efb4c5e90fe136",
      "540510088d3947f1b3cf6f4c983c1a53",
      "0a9b58c98508420d8f8936189f064316",
      "8dd5b08bb5bd4e608d04122424796ae7",
      "c546bca23ee248a1be7bd8ead3e82a8f",
      "af85713f677243d19cba9fe69a4a5f46",
      "2f18d89c684343b69c3f44ffbb9b42a0",
      "9eb51a6ecf3f41578aa397a5c2a33673"
     ]
    },
    "id": "2MMXcWFFgCXU",
    "outputId": "dc239772-da3b-4ef0-d029-f161f0625fff"
   },
   "outputs": [
    {
     "name": "stderr",
     "output_type": "stream",
     "text": [
      "Reusing dataset common_voice (/workspace/.cache/huggingface/datasets/common_voice/ga-IE/6.1.0/0041e06ab061b91d0a23234a2221e87970a19cf3a81b20901474cffffeb7869f)\n",
      "Reusing dataset common_voice (/workspace/.cache/huggingface/datasets/common_voice/ga-IE/6.1.0/0041e06ab061b91d0a23234a2221e87970a19cf3a81b20901474cffffeb7869f)\n"
     ]
    }
   ],
   "source": [
    "from datasets import load_dataset, load_metric\n",
    "\n",
    "common_voice_train = load_dataset(\"common_voice\", language_code, split=\"train+validation\")\n",
    "common_voice_test = load_dataset(\"common_voice\", language_code, split=\"test\")"
   ]
  },
  {
   "cell_type": "markdown",
   "metadata": {
    "id": "ri5y5N_HMANq"
   },
   "source": [
    "Many ASR datasets only provide the target text, `'sentence'` for each audio file `'path'`. Common Voice actually provides much more information about each audio file, such as the `'accent'`, etc. However, we want to keep the notebook as general as possible, so that we will only consider the transcribed text for fine-tuning.\n",
    "\n"
   ]
  },
  {
   "cell_type": "code",
   "execution_count": 5,
   "metadata": {
    "id": "kbyq6lDgQc2a"
   },
   "outputs": [],
   "source": [
    "common_voice_train = common_voice_train.remove_columns([\"accent\", \"age\", \"client_id\", \"down_votes\", \"gender\", \"locale\", \"segment\", \"up_votes\"])\n",
    "common_voice_test = common_voice_test.remove_columns([\"accent\", \"age\", \"client_id\", \"down_votes\", \"gender\", \"locale\", \"segment\", \"up_votes\"])"
   ]
  },
  {
   "cell_type": "markdown",
   "metadata": {
    "id": "Go9Hq4e4NDT9"
   },
   "source": [
    "Let's write a short function to display some random samples of the dataset and run it a couple of times to get a feeling for the transcriptions."
   ]
  },
  {
   "cell_type": "code",
   "execution_count": 6,
   "metadata": {
    "id": "72737oog2F6U"
   },
   "outputs": [],
   "source": [
    "from datasets import ClassLabel\n",
    "import random\n",
    "import pandas as pd\n",
    "from IPython.display import display, HTML\n",
    "\n",
    "def show_random_elements(dataset, num_examples=10):\n",
    "    assert num_examples <= len(dataset), \"Can't pick more elements than there are in the dataset.\"\n",
    "    picks = []\n",
    "    for _ in range(num_examples):\n",
    "        pick = random.randint(0, len(dataset)-1)\n",
    "        while pick in picks:\n",
    "            pick = random.randint(0, len(dataset)-1)\n",
    "        picks.append(pick)\n",
    "    \n",
    "    df = pd.DataFrame(dataset[picks])\n",
    "    display(HTML(df.to_html()))"
   ]
  },
  {
   "cell_type": "code",
   "execution_count": 7,
   "metadata": {
    "colab": {
     "base_uri": "https://localhost:8080/",
     "height": 669
    },
    "id": "K_JUmf3G3b9S",
    "outputId": "a8fe6d21-b0ce-4d5b-e3a2-abe08ae551f7"
   },
   "outputs": [
    {
     "data": {
      "text/html": [
       "<table border=\"1\" class=\"dataframe\">\n",
       "  <thead>\n",
       "    <tr style=\"text-align: right;\">\n",
       "      <th></th>\n",
       "      <th>sentence</th>\n",
       "    </tr>\n",
       "  </thead>\n",
       "  <tbody>\n",
       "    <tr>\n",
       "      <th>0</th>\n",
       "      <td>Shín sí a lámh mhín amach.</td>\n",
       "    </tr>\n",
       "    <tr>\n",
       "      <th>1</th>\n",
       "      <td>Tá an tír seo faoi chomaoin mhóir ag an bpobal beag Gaeltachta seo.</td>\n",
       "    </tr>\n",
       "    <tr>\n",
       "      <th>2</th>\n",
       "      <td>Cé hiad seo?</td>\n",
       "    </tr>\n",
       "    <tr>\n",
       "      <th>3</th>\n",
       "      <td>Ceacht a hAon</td>\n",
       "    </tr>\n",
       "    <tr>\n",
       "      <th>4</th>\n",
       "      <td>Níl aon duine anseo inniu is míchumtha ná tú</td>\n",
       "    </tr>\n",
       "    <tr>\n",
       "      <th>5</th>\n",
       "      <td>Is mór an pléisiúir dom é an chomhdháil tábhachtach seo a oscailt</td>\n",
       "    </tr>\n",
       "    <tr>\n",
       "      <th>6</th>\n",
       "      <td>Chuir sí i gcrích é.</td>\n",
       "    </tr>\n",
       "    <tr>\n",
       "      <th>7</th>\n",
       "      <td>A Aire Stáit Mhic an tSaoi,</td>\n",
       "    </tr>\n",
       "    <tr>\n",
       "      <th>8</th>\n",
       "      <td>Drochrud a ghabh thar an doras arsa Bairbre</td>\n",
       "    </tr>\n",
       "    <tr>\n",
       "      <th>9</th>\n",
       "      <td>Táim buíoch díbh go léir, freisin, as an bhfáilte an-fhlaithiúil sin.</td>\n",
       "    </tr>\n",
       "    <tr>\n",
       "      <th>10</th>\n",
       "      <td>Níl, tá cóta dubh air</td>\n",
       "    </tr>\n",
       "    <tr>\n",
       "      <th>11</th>\n",
       "      <td>A Chomhaltaí den Tionól Parlaiminteach</td>\n",
       "    </tr>\n",
       "    <tr>\n",
       "      <th>12</th>\n",
       "      <td>Tuigimid go léir a thábhachtaí agus atá ról na dtuismitheoirí in oideachas a bpáistí.</td>\n",
       "    </tr>\n",
       "    <tr>\n",
       "      <th>13</th>\n",
       "      <td>Is comharthaí dearfacha iad seo agus is féidir tógáil orthu</td>\n",
       "    </tr>\n",
       "    <tr>\n",
       "      <th>14</th>\n",
       "      <td>Tá sé i mo póca agam</td>\n",
       "    </tr>\n",
       "    <tr>\n",
       "      <th>15</th>\n",
       "      <td>Nach tusa Tomás Ó Ceallaigh</td>\n",
       "    </tr>\n",
       "    <tr>\n",
       "      <th>16</th>\n",
       "      <td>Bhí leabhar buí agam an lá faoi dheireadh, ach níl sé agam anois</td>\n",
       "    </tr>\n",
       "    <tr>\n",
       "      <th>17</th>\n",
       "      <td>Tá fáinne buí ar a lúidín</td>\n",
       "    </tr>\n",
       "    <tr>\n",
       "      <th>18</th>\n",
       "      <td>Contae Chorcaí, an deichiú lá de mhí an Mheitheamh dhá mhíle a cúig déag</td>\n",
       "    </tr>\n",
       "    <tr>\n",
       "      <th>19</th>\n",
       "      <td>Cad atá ar a ceann</td>\n",
       "    </tr>\n",
       "  </tbody>\n",
       "</table>"
      ],
      "text/plain": [
       "<IPython.core.display.HTML object>"
      ]
     },
     "metadata": {},
     "output_type": "display_data"
    }
   ],
   "source": [
    "show_random_elements(common_voice_train.remove_columns([\"path\"]), num_examples=20)"
   ]
  },
  {
   "cell_type": "markdown",
   "metadata": {
    "id": "fowcOllGNNju"
   },
   "source": [
    "Alright! The transcriptions look fairly clean. Having translated the transcribed sentences (I'm sadly not a native speaker in Turkish), it seems that the language corresponds more to written text than noisy dialogue. This makes sense taking into account that [Common Voice](https://huggingface.co/datasets/common_voice) is a crowd-sourced read speech corpus."
   ]
  },
  {
   "cell_type": "markdown",
   "metadata": {
    "id": "vq7OR50LN49m"
   },
   "source": [
    "We can see that the transcriptions contain some special characters, such as `,.?!;:`. Without a language model, it is much harder to classify speech chunks to such special characters because they don't really correspond to a characteristic sound unit. *E.g.*, the letter `\"s\"` has a more or less clear sound, whereas the special character `\".\"` does not.\n",
    "Also in order to understand the meaning of a speech signal, it is usually not necessary to include special characters in the transcription.\n",
    "\n",
    "In addition, we normalize the text to only have lower case letters and append a word separator token at the end."
   ]
  },
  {
   "cell_type": "code",
   "execution_count": 8,
   "metadata": {},
   "outputs": [],
   "source": [
    "def is_upper_vowel(letter):\n",
    "  if letter in ['A', 'E', 'I', 'O', 'U', 'Á', 'É', 'Í', 'Ó', 'Ú']:\n",
    "    return True\n",
    "  else:\n",
    "    return False\n",
    "\n",
    "def irish_lower(word):\n",
    "  if len(word) > 1 and word[0] in ['n', 't'] and is_upper_vowel(word[1]):\n",
    "    return word[0] + '-' + word[1:].lower()\n",
    "  else:\n",
    "    return word.lower()\n",
    "\n",
    "def irish_lower_sentence(sentence):\n",
    "  return \" \".join([irish_lower(w) for w in sentence.split(\" \")])\n"
   ]
  },
  {
   "cell_type": "code",
   "execution_count": 9,
   "metadata": {
    "id": "svKzVJ_hQGK6"
   },
   "outputs": [],
   "source": [
    "import re\n",
    "chars_to_ignore_regex = '[,\\?\\.\\!\\;\\:\\\"\\“\\%\\‘\\”\\(\\)\\*\\–]'\n",
    "\n",
    "def remove_special_characters(batch):\n",
    "    tmp = re.sub('’ ', ' ', batch[\"sentence\"])\n",
    "    tmp = re.sub(\"’$\", '', tmp)\n",
    "    tmp = re.sub('’', '\\'', tmp)\n",
    "    tmp = re.sub(chars_to_ignore_regex, '', tmp)\n",
    "    batch[\"sentence\"] = irish_lower_sentence(tmp) + ' '\n",
    "    return batch"
   ]
  },
  {
   "cell_type": "code",
   "execution_count": 10,
   "metadata": {
    "colab": {
     "base_uri": "https://localhost:8080/",
     "height": 117,
     "referenced_widgets": [
      "92a35db69bbf4ad6af44c53aa3870be5",
      "389e43e47a734193a507817ebad955f7",
      "b94e374d92c146009447c3827b977267",
      "1f1faa7b986e475c9e6839b2e7b55c74",
      "4ff7ccffc36a4a0f93031f5cdc3b718d",
      "b177a8cb85a24b88ab6d56205b630f1d",
      "2ca2f397c4ef405bba27ae2b1415cada",
      "b320306eaf264ad9872d507a1a1cb2da",
      "cc9c1e00c2d34516b8fd9edff96bb0d8",
      "6abfbe44a1bd4518b41f5f53f920e936",
      "33c92b5afd1d4b6d88016aabfb434194",
      "998676d59f9c464e8463d65baad6448b",
      "45f0a2f361da4608bc8314a27657a56c",
      "3dc9ea77b842455a91f00e9ca9f41948",
      "7bf5b2b625764f63ad57a360c3fd0a61",
      "7b4cfd2b448643b8a4409dd612aef0d1"
     ]
    },
    "id": "XIHocAuTQbBR",
    "outputId": "cc1a70b2-7b4d-410b-f997-1f1c47c3c9e5"
   },
   "outputs": [
    {
     "name": "stderr",
     "output_type": "stream",
     "text": [
      "Loading cached processed dataset at /workspace/.cache/huggingface/datasets/common_voice/ga-IE/6.1.0/0041e06ab061b91d0a23234a2221e87970a19cf3a81b20901474cffffeb7869f/cache-6dcac2c666a7c585.arrow\n",
      "Loading cached processed dataset at /workspace/.cache/huggingface/datasets/common_voice/ga-IE/6.1.0/0041e06ab061b91d0a23234a2221e87970a19cf3a81b20901474cffffeb7869f/cache-9efe187275030497.arrow\n"
     ]
    }
   ],
   "source": [
    "common_voice_train = common_voice_train.map(remove_special_characters)\n",
    "common_voice_test = common_voice_test.map(remove_special_characters)"
   ]
  },
  {
   "cell_type": "code",
   "execution_count": 11,
   "metadata": {
    "colab": {
     "base_uri": "https://localhost:8080/",
     "height": 359
    },
    "id": "RBDRAAYxRE6n",
    "outputId": "c3a72eaa-8ddc-4283-ccb8-52e50215b84d"
   },
   "outputs": [
    {
     "data": {
      "text/html": [
       "<table border=\"1\" class=\"dataframe\">\n",
       "  <thead>\n",
       "    <tr style=\"text-align: right;\">\n",
       "      <th></th>\n",
       "      <th>sentence</th>\n",
       "    </tr>\n",
       "  </thead>\n",
       "  <tbody>\n",
       "    <tr>\n",
       "      <th>0</th>\n",
       "      <td>tá dúshlán romhainn anois daoine a mhealladh chuig an ngaeilge</td>\n",
       "    </tr>\n",
       "    <tr>\n",
       "      <th>1</th>\n",
       "      <td>an bord stiúrthóirí</td>\n",
       "    </tr>\n",
       "    <tr>\n",
       "      <th>2</th>\n",
       "      <td>an bord gráin</td>\n",
       "    </tr>\n",
       "    <tr>\n",
       "      <th>3</th>\n",
       "      <td>agus comhghairdeas libh arís</td>\n",
       "    </tr>\n",
       "    <tr>\n",
       "      <th>4</th>\n",
       "      <td>tháinig buíon saighdiúirí an bealach</td>\n",
       "    </tr>\n",
       "    <tr>\n",
       "      <th>5</th>\n",
       "      <td>ba dhaor é</td>\n",
       "    </tr>\n",
       "    <tr>\n",
       "      <th>6</th>\n",
       "      <td>beidh nora ar scoil leis</td>\n",
       "    </tr>\n",
       "    <tr>\n",
       "      <th>7</th>\n",
       "      <td>thar ceann saidhbhín an t-aire doherty agus ár dtoscaireacht ar fad táimid an-bhuíoch díot</td>\n",
       "    </tr>\n",
       "    <tr>\n",
       "      <th>8</th>\n",
       "      <td>an coileach agus an madra rua</td>\n",
       "    </tr>\n",
       "    <tr>\n",
       "      <th>9</th>\n",
       "      <td>cén scannán is fearr leat</td>\n",
       "    </tr>\n",
       "  </tbody>\n",
       "</table>"
      ],
      "text/plain": [
       "<IPython.core.display.HTML object>"
      ]
     },
     "metadata": {},
     "output_type": "display_data"
    }
   ],
   "source": [
    "show_random_elements(common_voice_train.remove_columns([\"path\"]))"
   ]
  },
  {
   "cell_type": "markdown",
   "metadata": {
    "id": "jwfaptH5RJwA"
   },
   "source": [
    "Good! This looks better. We have removed most special characters from transcriptions and normalized them to lower-case only.\n",
    "\n",
    "In CTC, it is common to classify speech chunks into letters, so we will do the same here. \n",
    "Let's extract all distinct letters of the training and test data and build our vocabulary from this set of letters.\n",
    "\n",
    "We write a mapping function that concatenates all transcriptions into one long transcription and then transforms the string into a set of chars. \n",
    "It is important to pass the argument `batched=True` to the `map(...)` function so that the mapping function has access to all transcriptions at once."
   ]
  },
  {
   "cell_type": "code",
   "execution_count": 12,
   "metadata": {
    "id": "LwCshNbbeRZR"
   },
   "outputs": [],
   "source": [
    "def extract_all_chars(batch):\n",
    "  all_text = \" \".join(batch[\"sentence\"])\n",
    "  vocab = list(set(all_text))\n",
    "  return {\"vocab\": [vocab], \"all_text\": [all_text]}"
   ]
  },
  {
   "cell_type": "code",
   "execution_count": 13,
   "metadata": {
    "colab": {
     "base_uri": "https://localhost:8080/",
     "height": 117,
     "referenced_widgets": [
      "304e9130c12f4110941bfbd3db49a28c",
      "5e6bae23461b4378b6e5fc890fe6bc97",
      "75e00c38605f44cfb584067db1160349",
      "8c07a528fc4a4e108b393ab117fe2e46",
      "c01aca3229a24d41841be2b4a3a65bcc",
      "73ecbfc3c5c5456bb42e19b8a34b1576",
      "813fc95246034f5cb9e5198897b4ed42",
      "8bb78a89ff81400791e3005098fdcb94",
      "bd0958ea97b141b1aca367c71721c549",
      "0354ab33471e4c34a0c1b3c062bcd6bb",
      "d080668299ef42fabb8ab6fbcf329cea",
      "aafd4b2c56db43378c4627797665db17",
      "b0f3a205ad4546188fc6e7e7cf96ab32",
      "f972527479e74337a98f236ed018ae1d",
      "ccb720bf256e42f7b0251494ccb7741f",
      "ad428686450f4ebdb50a0356b2e5a8c4"
     ]
    },
    "id": "_m6uUjjcfbjH",
    "outputId": "75a1a23f-a9c7-4c8b-8777-dad120a9aa9a"
   },
   "outputs": [
    {
     "data": {
      "application/vnd.jupyter.widget-view+json": {
       "model_id": "1dd24c86204e46cfb4eacef854010203",
       "version_major": 2,
       "version_minor": 0
      },
      "text/plain": [
       "HBox(children=(FloatProgress(value=0.0, max=1.0), HTML(value='')))"
      ]
     },
     "metadata": {},
     "output_type": "display_data"
    },
    {
     "name": "stdout",
     "output_type": "stream",
     "text": [
      "\n"
     ]
    },
    {
     "data": {
      "application/vnd.jupyter.widget-view+json": {
       "model_id": "ed6c3e297cee4b4287b01a7881073ff8",
       "version_major": 2,
       "version_minor": 0
      },
      "text/plain": [
       "HBox(children=(FloatProgress(value=0.0, max=1.0), HTML(value='')))"
      ]
     },
     "metadata": {},
     "output_type": "display_data"
    },
    {
     "name": "stdout",
     "output_type": "stream",
     "text": [
      "\n"
     ]
    }
   ],
   "source": [
    "vocab_train = common_voice_train.map(extract_all_chars, batched=True, batch_size=-1, keep_in_memory=True, remove_columns=common_voice_train.column_names)\n",
    "vocab_test = common_voice_test.map(extract_all_chars, batched=True, batch_size=-1, keep_in_memory=True, remove_columns=common_voice_test.column_names)"
   ]
  },
  {
   "cell_type": "markdown",
   "metadata": {
    "id": "7oVgE8RZSJNP"
   },
   "source": [
    "Now, we create the union of all distinct letters in the training dataset and test dataset and convert the resulting list into an enumerated dictionary."
   ]
  },
  {
   "cell_type": "code",
   "execution_count": 14,
   "metadata": {
    "id": "aQfneNsmlJI0"
   },
   "outputs": [],
   "source": [
    "vocab_list = list(set(vocab_train[\"vocab\"][0]) | set(vocab_test[\"vocab\"][0]))"
   ]
  },
  {
   "cell_type": "code",
   "execution_count": 15,
   "metadata": {
    "colab": {
     "base_uri": "https://localhost:8080/"
    },
    "id": "_0kRndSvqaKk",
    "outputId": "29f5d23f-75b1-44d0-9975-87f9ec4c0aa5"
   },
   "outputs": [
    {
     "data": {
      "text/plain": [
       "{'u': 0,\n",
       " 'j': 1,\n",
       " ' ': 2,\n",
       " 'v': 3,\n",
       " 'd': 4,\n",
       " '-': 5,\n",
       " 'y': 6,\n",
       " 'í': 7,\n",
       " 'n': 8,\n",
       " 'r': 9,\n",
       " 'á': 10,\n",
       " 'f': 11,\n",
       " 'g': 12,\n",
       " 'c': 13,\n",
       " 'a': 14,\n",
       " 'x': 15,\n",
       " 'b': 16,\n",
       " 'p': 17,\n",
       " 't': 18,\n",
       " 'e': 19,\n",
       " 'é': 20,\n",
       " 'i': 21,\n",
       " 'o': 22,\n",
       " \"'\": 23,\n",
       " 'm': 24,\n",
       " 'h': 25,\n",
       " 'ú': 26,\n",
       " 'w': 27,\n",
       " 'ó': 28,\n",
       " 's': 29,\n",
       " 'k': 30,\n",
       " 'l': 31}"
      ]
     },
     "execution_count": 15,
     "metadata": {},
     "output_type": "execute_result"
    }
   ],
   "source": [
    "vocab_dict = {v: k for k, v in enumerate(vocab_list)}\n",
    "vocab_dict"
   ]
  },
  {
   "cell_type": "markdown",
   "metadata": {
    "id": "JOSzbvs9SXT1"
   },
   "source": [
    "Cool, we see that all letters of the alphabet occur in the dataset (which is not really surprising) and we also extracted the special characters `\" \"` and `'`. Note that we did not exclude those special characters because: \n",
    "\n",
    "- The model has to learn to predict when a word is finished or else the model prediction would always be a sequence of chars which would make it impossible to separate words from each other.\n",
    "- From the transcriptions above it seems that words that include an apostrophe, such as `maktouf'un` do exist in Turkish, so I decided to keep the apostrophe in the dataset. This might be a wrong assumption though.\n",
    "\n",
    "One should always keep in mind that the data-preprocessing is a very important step before training your model. E.g., we don't want our model to differentiate between `a` and `A` just because we forgot to normalize the data. The difference between `a` and `A` does not depend on the \"sound\" of the letter at all, but more on grammatical rules - *e.g.* use a capitalized letter at the beginning of the sentence. So it is sensible to remove the difference between capitalized and non-capitalized letters so that the model has an easier time learning to transcribe speech. \n",
    "\n",
    "It is always advantageous to get help from a native speaker of the language you would like to transcribe to verify whether the assumptions you made are sensible, *e.g.* I should have made sure that keeping `'`, but removing other special characters is a sensible choice for Turkish. "
   ]
  },
  {
   "cell_type": "markdown",
   "metadata": {
    "id": "b1fBRCn-TRaO"
   },
   "source": [
    "To make it clearer that `\" \"` has its own token class, we give it a more visible character `|`. In addition, we also add an \"unknown\" token so that the model can later deal with characters not encountered in Common Voice's training set. \n",
    "\n",
    "Finally, we also add a padding token that corresponds to CTC's \"*blank token*\". The \"blank token\" is a core component of the CTC algorithm. For more information, please take a look at the \"Alignment\" section [here](https://distill.pub/2017/ctc/)."
   ]
  },
  {
   "cell_type": "code",
   "execution_count": 16,
   "metadata": {
    "id": "npbIbBoLgaFX"
   },
   "outputs": [],
   "source": [
    "vocab_dict[\"|\"] = vocab_dict[\" \"]\n",
    "del vocab_dict[\" \"]"
   ]
  },
  {
   "cell_type": "code",
   "execution_count": 17,
   "metadata": {
    "colab": {
     "base_uri": "https://localhost:8080/"
    },
    "id": "znF0bNunsjbl",
    "outputId": "6dd50862-f4c5-4a05-87a7-da03d157e30e"
   },
   "outputs": [
    {
     "data": {
      "text/plain": [
       "34"
      ]
     },
     "execution_count": 17,
     "metadata": {},
     "output_type": "execute_result"
    }
   ],
   "source": [
    "vocab_dict[\"[UNK]\"] = len(vocab_dict)\n",
    "vocab_dict[\"[PAD]\"] = len(vocab_dict)\n",
    "len(vocab_dict)"
   ]
  },
  {
   "cell_type": "markdown",
   "metadata": {
    "id": "SFPGfet8U5sL"
   },
   "source": [
    "Cool, now our vocabulary is complete and consists of 39 tokens, which means that the linear layer that we will add on top of the pretrained XLSR-Wav2Vec2 checkpoint will have an output dimension of 39."
   ]
  },
  {
   "cell_type": "markdown",
   "metadata": {
    "id": "1CujRgBNVRaD"
   },
   "source": [
    "Let's now save the vocabulary as a json file."
   ]
  },
  {
   "cell_type": "code",
   "execution_count": 18,
   "metadata": {
    "id": "ehyUoh9vk191"
   },
   "outputs": [],
   "source": [
    "import json\n",
    "with open('vocab.json', 'w') as vocab_file:\n",
    "    json.dump(vocab_dict, vocab_file)"
   ]
  },
  {
   "cell_type": "markdown",
   "metadata": {
    "id": "SHJDaKlIVVim"
   },
   "source": [
    "In a final step, we use the json file to instantiate an object of the `Wav2Vec2CTCTokenizer` class."
   ]
  },
  {
   "cell_type": "code",
   "execution_count": 19,
   "metadata": {
    "id": "xriFGEWQkO4M"
   },
   "outputs": [],
   "source": [
    "from transformers import Wav2Vec2CTCTokenizer\n",
    "\n",
    "tokenizer = Wav2Vec2CTCTokenizer(\"./vocab.json\", unk_token=\"[UNK]\", pad_token=\"[PAD]\", word_delimiter_token=\"|\")"
   ]
  },
  {
   "cell_type": "markdown",
   "metadata": {
    "id": "KvL12DrNV4cx"
   },
   "source": [
    "Next, we will create the feature extractor."
   ]
  },
  {
   "cell_type": "markdown",
   "metadata": {
    "id": "mYcIiR2FQ96i"
   },
   "source": [
    "### Create XLSR-Wav2Vec2 Feature Extractor"
   ]
  },
  {
   "cell_type": "markdown",
   "metadata": {
    "id": "Y6mDEyW719rx"
   },
   "source": [
    "Speech is a continuous signal and to be treated by computers, it first has to be discretized, which is usually called **sampling**. The sampling rate hereby plays an important role in that it defines how many data points of the speech signal are measured per second. Therefore, sampling with a higher sampling rate results in a better approximation of the *real* speech signal but also necessitates more values per second.\n",
    "\n",
    "A pretrained checkpoint expects its input data to have been sampled more or less from the same distribution as the data it was trained on. The same speech signals sampled at two different rates have a very different distribution, *e.g.*, doubling the sampling rate results in data points being twice as long. Thus, \n",
    "before fine-tuning a pretrained checkpoint of an ASR model, it is crucial to verify that the sampling rate of the data that was used to pretrain the model matches the sampling rate of the dataset used to fine-tune the model.\n",
    "\n",
    "XLSR-Wav2Vec2 was pretrained on the audio data of [Babel](https://huggingface.co/datasets/librispeech_asr), \n",
    "[Multilingual LibriSpeech (MLS)](https://ai.facebook.com/blog/a-new-open-data-set-for-multilingual-speech-research/), and [Common Voice](https://huggingface.co/datasets/common_voice). Most of those datasets were sampled at 16kHz, so that Common Voice, sampled at 48kHz, has to be downsampled to 16kHz for training. Therefore, we will have to downsample our fine-tuning data to 16kHz in the following.\n",
    "\n"
   ]
  },
  {
   "cell_type": "markdown",
   "metadata": {
    "id": "KuUbPW7oV-B5"
   },
   "source": [
    "A XLSR-Wav2Vec2 feature extractor object requires the following parameters to be instantiated:\n",
    "\n",
    "- `feature_size`: Speech models take a sequence of feature vectors as an input. While the length of this sequence obviously varies, the feature size should not. In the case of Wav2Vec2, the feature size is 1 because the model was trained on the raw speech signal ${}^2$.\n",
    "- `sampling_rate`: The sampling rate at which the model is trained on.\n",
    "- `padding_value`: For batched inference, shorter inputs need to be padded with a specific value\n",
    "- `do_normalize`: Whether the input should be *zero-mean-unit-variance* normalized or not. Usually, speech models perform better when normalizing the input\n",
    "- `return_attention_mask`: Whether the model should make use of an `attention_mask` for batched inference. In general, XLSR-Wav2Vec2 models should **always** make use of the `attention_mask`."
   ]
  },
  {
   "cell_type": "code",
   "execution_count": 20,
   "metadata": {
    "id": "kAR0-2KLkopp"
   },
   "outputs": [],
   "source": [
    "from transformers import Wav2Vec2FeatureExtractor\n",
    "\n",
    "feature_extractor = Wav2Vec2FeatureExtractor(feature_size=1, sampling_rate=16000, padding_value=0.0, do_normalize=True, return_attention_mask=True)"
   ]
  },
  {
   "cell_type": "markdown",
   "metadata": {
    "id": "qUETetgqYC3W"
   },
   "source": [
    "Great, XLSR-Wav2Vec2's feature extraction pipeline is thereby fully defined!\n",
    "\n",
    "To make the usage of XLSR-Wav2Vec2 as user-friendly as possible, the feature extractor and tokenizer are *wrapped* into a single `Wav2Vec2Processor` class so that one only needs a `model` and `processor` object."
   ]
  },
  {
   "cell_type": "code",
   "execution_count": 21,
   "metadata": {
    "id": "KYZtoW-tlZgl"
   },
   "outputs": [],
   "source": [
    "from transformers import Wav2Vec2Processor\n",
    "\n",
    "processor = Wav2Vec2Processor(feature_extractor=feature_extractor, tokenizer=tokenizer)"
   ]
  },
  {
   "cell_type": "markdown",
   "metadata": {
    "id": "fTfFDSS0YfMN"
   },
   "source": [
    "If one wants to re-use the just created processor and the fine-tuned model of this notebook, one can mount his/her google drive to the notebook and save all relevant files there. To do so, please uncomment the following lines. \n",
    "\n",
    "We will give the fine-tuned model the name `\"wav2vec2-large-xlsr-turkish-demo\"`."
   ]
  },
  {
   "cell_type": "code",
   "execution_count": null,
   "metadata": {
    "colab": {
     "base_uri": "https://localhost:8080/"
    },
    "id": "yq7Bzuzz4zjQ",
    "outputId": "419faa94-b24f-4044-877a-ce511978c97d"
   },
   "outputs": [],
   "source": []
  },
  {
   "cell_type": "code",
   "execution_count": 22,
   "metadata": {
    "id": "Par9rpypPsml"
   },
   "outputs": [],
   "source": [
    "processor.save_pretrained(output_models_dir)"
   ]
  },
  {
   "cell_type": "markdown",
   "metadata": {
    "id": "DrKnYuvDIoOO"
   },
   "source": [
    "Next, we can prepare the dataset."
   ]
  },
  {
   "cell_type": "markdown",
   "metadata": {
    "id": "YFmShnl7RE35"
   },
   "source": [
    "### Preprocess Data\n",
    "\n",
    "So far, we have not looked at the actual values of the speech signal but just kept the path to its file in the dataset. `XLSR-Wav2Vec2` expects the audio file in the format of a 1-dimensional array, so in the first step, let's load all audio files into the dataset object.\n",
    "\n",
    "Let's first check the serialization format of the downloaded audio files by looking at the first training sample."
   ]
  },
  {
   "cell_type": "code",
   "execution_count": 23,
   "metadata": {
    "colab": {
     "base_uri": "https://localhost:8080/"
    },
    "id": "TTCS7W6XJ9BG",
    "outputId": "9c3b8cc0-3bcd-43fe-87ca-2825239b365a"
   },
   "outputs": [
    {
     "data": {
      "text/plain": [
       "{'path': '/workspace/.cache/huggingface/datasets/downloads/extracted/675355d789c7a2ca90f09972ad34430ae41f452938ac69c49acd49e2e253bebe/cv-corpus-6.1-2020-12-11/ga-IE/clips/common_voice_ga-IE_18183217.mp3',\n",
       " 'sentence': \"d'ísligh máire ar a glúine le hais an chliabháin \"}"
      ]
     },
     "execution_count": 23,
     "metadata": {},
     "output_type": "execute_result"
    }
   ],
   "source": [
    "common_voice_train[0]"
   ]
  },
  {
   "cell_type": "markdown",
   "metadata": {
    "id": "wSBIGEiaKHMn"
   },
   "source": [
    "Alright, the audio file is saved in the `.mp3` format. The `.mp3` format is usually not the easiest format to deal with. We found that the [`torchaudio`](https://pytorch.org/audio/stable/index.html) library works best for reading in `.mp3` data. \n",
    "\n",
    "An audio file usually stores both its values and the sampling rate with which the speech signal was digitalized. We want to store both in the dataset and write a `map(...)` function accordingly."
   ]
  },
  {
   "cell_type": "code",
   "execution_count": 24,
   "metadata": {
    "id": "al9Luo4LPpwJ"
   },
   "outputs": [
    {
     "name": "stderr",
     "output_type": "stream",
     "text": [
      "/opt/conda/lib/python3.7/site-packages/torchaudio/backend/utils.py:54: UserWarning: \"sox\" backend is being deprecated. The default backend will be changed to \"sox_io\" backend in 0.8.0 and \"sox\" backend will be removed in 0.9.0. Please migrate to \"sox_io\" backend. Please refer to https://github.com/pytorch/audio/issues/903 for the detail.\n",
      "  '\"sox\" backend is being deprecated. '\n"
     ]
    }
   ],
   "source": [
    "import torchaudio\n",
    "\n",
    "def speech_file_to_array_fn(batch):\n",
    "    speech_array, sampling_rate = torchaudio.load(batch[\"path\"])\n",
    "    batch[\"speech\"] = speech_array[0].numpy()\n",
    "    batch[\"sampling_rate\"] = sampling_rate\n",
    "    batch[\"target_text\"] = batch[\"sentence\"]\n",
    "    return batch"
   ]
  },
  {
   "cell_type": "code",
   "execution_count": 25,
   "metadata": {
    "colab": {
     "base_uri": "https://localhost:8080/",
     "height": 117,
     "referenced_widgets": [
      "348ef54c80b2449f8a3bc950cccd62cc",
      "b78413dcc0584a0c8f71731a06aaa1b8",
      "7edbecaccdd94ede8fddc0e1807e777e",
      "5e3aad95e52f4be2bd670d1345398f1b",
      "b9c5c6dd54cc4dc5ad5a2bb69a24ab05",
      "3e3a022a9f304b0f9f7ef067fcee1e56",
      "7aa70322bdfe46938b583a20003093d5",
      "99d5c44ea54b45ee9bd89380cb1ad189",
      "5f48f54986924e418aa4ac22aa54b714",
      "db71db50799c404aafa4a54de8b9b799",
      "a58c203a7cc54086aea45f2029821207",
      "8d409ca0372a48e2972ca1d8eee5ffa1",
      "c8fdf261ac294093a355778a3a4aba3b",
      "b1b6a4649fc34c9996f993c57671766b",
      "d362345c05234c97a675c6bacdad0e92",
      "b0479f03f96241ca959f6fe7bcbd1aba"
     ]
    },
    "id": "afeicUeWlrRL",
    "outputId": "d5e4d41a-61d6-4094-eba9-a5bbed02cedc"
   },
   "outputs": [
    {
     "name": "stderr",
     "output_type": "stream",
     "text": [
      "Loading cached processed dataset at /workspace/.cache/huggingface/datasets/common_voice/ga-IE/6.1.0/0041e06ab061b91d0a23234a2221e87970a19cf3a81b20901474cffffeb7869f/cache-d7c07715e3b23568.arrow\n",
      "Loading cached processed dataset at /workspace/.cache/huggingface/datasets/common_voice/ga-IE/6.1.0/0041e06ab061b91d0a23234a2221e87970a19cf3a81b20901474cffffeb7869f/cache-9dd0ddcff2f1ad58.arrow\n"
     ]
    }
   ],
   "source": [
    "common_voice_train = common_voice_train.map(speech_file_to_array_fn, remove_columns=common_voice_train.column_names)\n",
    "common_voice_test = common_voice_test.map(speech_file_to_array_fn, remove_columns=common_voice_test.column_names)"
   ]
  },
  {
   "cell_type": "markdown",
   "metadata": {
    "id": "ki5sXmzucc9Q"
   },
   "source": [
    "Great, now we've successfully read in all the audio files, but since we know that Common Voice is sampled at 48kHz, we need to resample the audio files to 16kHz. \n",
    "\n",
    "Let's make use of the [`librosa`](https://github.com/librosa/librosa) library to downsample the data."
   ]
  },
  {
   "cell_type": "code",
   "execution_count": 26,
   "metadata": {
    "id": "6Y6AK3Z-kHwP"
   },
   "outputs": [],
   "source": [
    "import librosa\n",
    "import numpy as np\n",
    "\n",
    "def resample(batch):\n",
    "    batch[\"speech\"] = librosa.resample(np.asarray(batch[\"speech\"]), 48_000, 16_000)\n",
    "    batch[\"sampling_rate\"] = 16_000\n",
    "    return batch"
   ]
  },
  {
   "cell_type": "code",
   "execution_count": 27,
   "metadata": {
    "colab": {
     "base_uri": "https://localhost:8080/",
     "height": 453,
     "referenced_widgets": [
      "ee641bbf54a7499597713c517baa81bb",
      "3d929b9e2518402b81a71757ffb753d2",
      "4f8957dc035d4c1a9e8630fc8ab8cd10",
      "757e7bd0e6c5410da0490d191b4e68c8",
      "596aea0362924c7db583203268dd5a3e",
      "47a6c3c427614f21a6dab1c048e5dd37",
      "0b795d4b68014de19bf9579c67b55ffb",
      "9185f86719af476da41e3835e8f06f8d",
      "771959e46cb64b3ebafe931f96f5ff52",
      "0e999af234bd4b63ad2937e61d08b693",
      "f792530a76ee486688cbc2502dfae594",
      "d69468d63dd74fdd807fe061b92aa84e",
      "1261590ef796493798f7068ea0547b74",
      "7e50f8027fb74d669daae5e46082026c",
      "7f5203fde6b64bf7ad53d6ecd3041bfc",
      "84e7f0001ebe458dad3c96e7e9a38cdc",
      "24ea17ae8ab14e8a871e5e115c3f4c06",
      "f57d087016124ebeb073fd7428dcb68b",
      "f3905820a42c499fba04af9c1ad19705",
      "4e1a725fd90b45e280b8b0028ba65250",
      "4c0ad31e73234e46aac0a297ec18bdeb",
      "fc9504846f424542a7feb932964f1f5b",
      "9f79629ad6a94201acf3283862d1ae17",
      "491fd969d61a478f8e85ffcd3e1a3e20",
      "76d162d3ea0845cc837651a77a5a2d36",
      "98c594f1e41e4b3fab10f0763bd93d75",
      "f6b01ad0433a40178ef3ba5657bc1583",
      "eed2ccc12daa4c71b080794a7a18f5cb",
      "beca070c32124a119a08cb21c2ca95e5",
      "69828f4a101f4340916a4be141866904",
      "20347ed29fdc4c0a96da28c09aacf44d",
      "f18eddbd3d994ddc88f37e02d754c206",
      "b7c43fb5efdd4afbb82c81b923f2815a",
      "c0a661f20e7e4649a3c8c42a5fd01956",
      "8dddd0245dcb4532917cbfa0181d2a00",
      "3bdb4058f40f40e3a10e323325a64638",
      "024989cea06f435894776b0a921164b2",
      "b1d93a7521fa47b8a815445b5232da59",
      "751ae6b9e2da4b85be9600561485f1ac",
      "d7f27e9cf8a844349ca90393e0c49a03",
      "82015055d32449b89346ea18e7474c4d",
      "a170c0cb21cf425fbee97fd6d5584e2c",
      "f5f1f0865d7e4d8b810ccb9c3c4d2683",
      "416badb151ee4660b53fdbc136e0c8fb",
      "a47f1ea64f894f0b8e6b277c31ae9f7d",
      "e51b5fd9d5a6416d986fac1526d1666f",
      "824569c63ec445c08362659ca228dd2a",
      "0f3756509e3b405d87936f599b153de2",
      "d96e01ad62c342cdb7d9b1eceb39afa3",
      "e6ce9330460d4a0fb67cc493ca74ae96",
      "e6178f7b148c4bf39f2826f208e0cc64",
      "f78ff14b9c8f46448ed1ecb3fe1f5e0b",
      "929cde17b3484f3e9e8f8774bc43e374",
      "6ba6d07674a34836be53cf173c2b61ca",
      "5a5bc8b4a1c644dea08a60128d888d10",
      "b054b00a32e64fc5988fbd2966ebbce6",
      "5ccd12253fff448f9c15c9b03c70a408",
      "330226a977694de1bd88c0aa3789be47",
      "f203c54e7e054d97aa4d1097f320f611",
      "6266a4019e124aff877bb55f21740180",
      "3ec3285e9f3e4a5abcefabb7f140f4a3",
      "0cd1932178c945d48604ffd299e65d2c",
      "8ad3e4b211e34c048d0f48e36fdbfe48",
      "55071fc1b7484620803aeba453e9af72"
     ]
    },
    "id": "Ws8DyIL_kjwT",
    "outputId": "6176aea2-5986-4da0-a2ad-6ef5e2c85493"
   },
   "outputs": [
    {
     "name": "stdout",
     "output_type": "stream",
     "text": [
      "  "
     ]
    },
    {
     "name": "stderr",
     "output_type": "stream",
     "text": [
      "Loading cached processed dataset at /workspace/.cache/huggingface/datasets/common_voice/ga-IE/6.1.0/0041e06ab061b91d0a23234a2221e87970a19cf3a81b20901474cffffeb7869f/cache-5d5d8ca3d7517c11.arrow\n",
      "Loading cached processed dataset at /workspace/.cache/huggingface/datasets/common_voice/ga-IE/6.1.0/0041e06ab061b91d0a23234a2221e87970a19cf3a81b20901474cffffeb7869f/cache-55c5d052c0dc5835.arrow\n"
     ]
    },
    {
     "name": "stdout",
     "output_type": "stream",
     "text": [
      "  "
     ]
    },
    {
     "name": "stderr",
     "output_type": "stream",
     "text": [
      "Loading cached processed dataset at /workspace/.cache/huggingface/datasets/common_voice/ga-IE/6.1.0/0041e06ab061b91d0a23234a2221e87970a19cf3a81b20901474cffffeb7869f/cache-341ab7a821deb3e9.arrow\n",
      "Loading cached processed dataset at /workspace/.cache/huggingface/datasets/common_voice/ga-IE/6.1.0/0041e06ab061b91d0a23234a2221e87970a19cf3a81b20901474cffffeb7869f/cache-96800fe293075c22.arrow\n"
     ]
    },
    {
     "name": "stdout",
     "output_type": "stream",
     "text": [
      "  "
     ]
    },
    {
     "name": "stderr",
     "output_type": "stream",
     "text": [
      "Loading cached processed dataset at /workspace/.cache/huggingface/datasets/common_voice/ga-IE/6.1.0/0041e06ab061b91d0a23234a2221e87970a19cf3a81b20901474cffffeb7869f/cache-2d9e145deda3b906.arrow\n"
     ]
    },
    {
     "name": "stdout",
     "output_type": "stream",
     "text": [
      "  "
     ]
    },
    {
     "name": "stderr",
     "output_type": "stream",
     "text": [
      "Loading cached processed dataset at /workspace/.cache/huggingface/datasets/common_voice/ga-IE/6.1.0/0041e06ab061b91d0a23234a2221e87970a19cf3a81b20901474cffffeb7869f/cache-7527ab5544143d8c.arrow\n",
      "Loading cached processed dataset at /workspace/.cache/huggingface/datasets/common_voice/ga-IE/6.1.0/0041e06ab061b91d0a23234a2221e87970a19cf3a81b20901474cffffeb7869f/cache-adfe16381828ead1.arrow\n",
      "Loading cached processed dataset at /workspace/.cache/huggingface/datasets/common_voice/ga-IE/6.1.0/0041e06ab061b91d0a23234a2221e87970a19cf3a81b20901474cffffeb7869f/cache-ed19c3f4bc8ab8af.arrow\n"
     ]
    }
   ],
   "source": [
    "common_voice_train = common_voice_train.map(resample, num_proc=4)\n",
    "common_voice_test = common_voice_test.map(resample, num_proc=4)"
   ]
  },
  {
   "cell_type": "markdown",
   "metadata": {
    "id": "SOckzFd4Mbzq"
   },
   "source": [
    "This seemed to have worked! Let's listen to a couple of audio files to better understand the dataset and verify that the audio was correctly loaded. \n",
    "\n",
    "**Note**: *You can click the following cell a couple of times to listen to different speech samples.*"
   ]
  },
  {
   "cell_type": "code",
   "execution_count": 28,
   "metadata": {
    "colab": {
     "base_uri": "https://localhost:8080/",
     "height": 74
    },
    "id": "dueM6U7Ev0OA",
    "outputId": "1a3e579d-213e-4c7a-b2ec-9a7725d95afc"
   },
   "outputs": [
    {
     "data": {
      "text/html": [
       "\n",
       "                <audio  controls=\"controls\" autoplay=\"autoplay\">\n",
       "                    <source src=\"data:audio/wav;base64,UklGRiT5AABXQVZFZm10IBAAAAABAAEAgD4AAAB9AAACABAAZGF0YQD5AAAAAAAAAAAAAAAAAAAAAAAAAAAAAAAAAAAAAAAAAAAAAAAAAAAAAAAAAAAAAAAAAAAAAAAAAAAAAAAAAAAAAAAAAAAAAAAAAAAAAAAAAAAAAAAAAAAAAAAAAAAAAAAAAAAAAAAAAAAAAAAAAAAAAAAAAAAAAAAAAAAAAAAAAAAAAAAAAAAAAAAAAAAAAAAAAAAAAAAAAAAAAAAAAAAAAAAAAAAAAAAAAAAAAAAAAAAAAAAAAAAAAAAAAAAAAAAAAAAAAAAAAAAAAAAAAAAAAAAAAAAAAAAAAAAAAAAAAAAAAAAAAAAAAAAAAAAAAAAAAAAAAAAAAAAAAAAAAAAAAAAAAAAAAAAAAAAAAAAAAAAAAAAAAAAAAAAAAAAAAAAAAAAAAAAAAAAAAAAAAAAAAAAAAAAAAAAAAAAAAAAAAAAAAAAAAAAAAAAAAAAAAAAAAAAAAAAAAAAAAAAAAAAAAAAAAAAAAAAAAAAAAAAAAAAAAAAAAAAAAAAAAAAAAAAAAAAAAAAAAAAAAAAAAAAAAAAAAAAAAAAAAAAAAAAAAAAAAAAAAAAAAAAAAAAAAAAAAAAAAAAAAAAAAAAAAAAAAAAAAAAAAAAAAAAAAAAAAAAAAAAAAAAAAAAAAAAAAAAAAAAAAAAAAAAAAAAAAAAAAAAAAAAAAAAAAAAAAAAAAAAAAAAAAAAAAAAAAAAAAAAAAAAAAAAAAAAAAAAAAAAAAAAAAAAAAAAAAAAAAAAAAAAAAAAAAAAAAAAAAAAAAAAAAAAAAAAAAAAAAAAAAAAAAAAAAAAAAAAAAAAAAAAAAAAAAAAAAAAAAAAAAAAAAAAAAAAAAAAAAAAAAAAAAAD//wAAAAAAAAAAAAAAAAAAAAAAAAAAAAAAAAAAAAAAAAAAAAAAAAAAAAAAAAAAAAAAAAAAAAAAAAAAAAAAAAAAAAAAAAAAAAAAAAAAAAAAAAAAAAAAAAAAAAAAAAAAAAAAAAAAAAAAAAAAAAAAAAAAAAAAAAAAAAAAAAAAAAAAAP//AAAAAAAAAAAAAAAAAAAAAAAAAAAAAAAAAAAAAAAAAAAAAAAAAAAAAAAAAAAAAAAAAAAAAAAAAAAAAAAAAQACAAEAAAABAAAA//8AAAAAAAAAAAAAAAAAAAAAAAAAAAAAAQAAAP///f///wAAAAAAAAAAAAAAAP//AAD///3//f8AAAAA///9////AAAAAAQABAADAAMAAAAAAAEAAQABAAAAAAAAAP///f/+/wAAAQAAAAoAIQAkAB8AFAAFAP//+P/4/wAAAgD8//n/BgAdAC8ANgAwACoAJQAjABoADgAIAAMA/v/+/wIAEgAfACQAIwAZABoAIgArACUAEwADAPf/8//y//f/+f/2//v/AAADAA0AFQAZABMAAwD9/wAAAAD4/+//6P/n//D//v8HAA4ADQAJAAUAAAD+//v/7v/b/9H/yP/N/9z/6f/0//v/BwATABcAFwAQAAMA8v/k/97/1P/Q/9H/0v/R/9v/+P8QABUADQAGAAMAAAD9//X/5v/a/9X/1f/Y/+P/9v///wAAAAD6////AwABAPX/5v/e/93/4f/l/+b/4//o//f/CQAWABcADwADAPv/8//z//b/8f/l/93/4//x/wQAGAAeAB0AHAAcAB8AIgAcAA0AAgD7//T/9P/6////AAAGABEAIwAtACwAJAAaAA4AAwAAAAAA/v/3//X/9f/3/wcAGQAcABQACwADAAQACAAGAAAA9v/z//X/+/8JABIAEgAMAAsADwASABEADAABAPL/6v/m/+X/3//g/+v/8v/+/woAFAAbAB8AGgAQAAkABgAEAP3/8P/m/+3//f8LABEAEAAOAAoADwATABAADAAAAPH/6f/p/+v/7f/z//j//f8DAA0AFAAUAAkA/P/0/+//6//t/+3/5P/k/+n/8f/+/wwAEwAGAPz/9//4//X/7//i/87/xv/L/97/8////wAAAAAEAAoAEQAUAAYA8f/i/9b/1f/d/+P/5//l/+j/9P8EABQAFwATAA4ACQAHAAcAAwD6//L/6//p//P/BwASABIADgAMABIAGwAiABkAAwDv/+f/7P/3/wAABAABAAAACAAUACAAIAAaAA0A/f/1//b/+P/z//L/8f/z//3/CAAVABwAHQAZABcAGAATAAkA+//r/+P/6f/y//T/9v/5//z/BwAXACQAJAAZAAsA/P/z//b///////f/7//s//X/BgATABIACQABAAAAAAAAAAIA/f/x/+n/8P8AABEAHAAYAA4ACgARABUAEgAHAPX/4//c/+L/6v/w//T/8v/1/wIAEwAeAB8AEgAEAPX/8v/6//z/8//o/9r/1v/q/wAACgAEAP3/9f/t//P//P/3/+z/5P/f/9//6f/2//j/8P/y//3/BwAQAA4AAgDw/+v/8//6//r/8//u/+P/5v/5/wwAGQAWAA8A/v/5/wgADgAGAPv/6v/e/+L/8v8CAAwADgARABQAGAAjACQAGgAKAP3/9//4//7////8//f///8LABcAIQAeABEABwAJABEAEwAOAAMA8v/o/+///P8JAA4ACQAEAAIABQAMAA0ACgD///P/7v/t//j/AQD+//f/9//7/wQAEwAYABAABgABAAAA/P/5//T/7f/s//D//P8KABYAGAAXABMAFAAdAB0AEQABAPX/7P/u//v/AAD9////BwANABEAHAAYAAkAAQD6//D/7//0//T/7P/q/+//+P8GAA4ACwADAAEABAACAPj/6//i/9n/2f/q//v/BgAKAAkABgADAAQA///y/+v/5//f/93/4v/l/+f/6f/w//n///8NABoAFQAKAAAA+f////7/+f/z/+n/8f8CAA0AFAAYABIACAAIAA8AEgAHAAAA+f/t//H//f8EAA8AEgAPAAwACAAOABMADQAHAAAA9P/0//n/AAD+//H/9P/8/wMAEAARAAcAAwAAAAIABgABAPr/7P/h/+v/9/8AAAYABAACAAEABgAUABsAFAAKAPz/9P/0//P/+f/+////AQADAAkAGgAiABwAFAAGAP//AAAAAAUA/f/x//D/9P8EABMAFgAVABEAEwAZABIACwADAPH/6f/t//H/9v/3//j/+f/6/wcAEwAXABUACAD4//D/8f/3//X/6//r/+z/7v/7/wkAEAANAAcACAAGAAQABgAAAPP/8f/u/+b/5//s//T/+v8CAA4AEwAVABUADgABAPT/8P/y//H/6v/r/+7/+P8KABIAEAAJAAIA///+//7//f/0/+z/7P/w//r/AAAEAA0ADwATABcAEQANAAkAAAD6//T/7P/p/+j/7v/3//z/AwAJAA8AFQASAAwABgD+//r//P/2//P/9v/5/wIACQAJAAoACAALAA8ADQAMAAoAAwD7//X/8f/3//v/+/8AAAAABgAOABUAFQAOAAgAAwAAAAQABgD+//n/+//+/wMACgAOAA0ADQAPABAAEAANAAYA+v/w/+v/7//z//X///8CAAMACQARABUAFQAOAAYA/P/0//L/6v/j/+L/3//i/+7/+f8DAAgAEAAeAB8AFgALAPz/8P/r/+b/4f/g/+v/+v8BAA0AFwAWABoAIAAYAAgA+v/v/+j/4v/g/+L/4//t//z/AwANAB0AJQAnACAAEwABAO3/4f/f/93/3v/k//H/BAASABgAGgAZABkAGAAMAP7/8P/l/9//3//n/+n/6v/3/wQAFgAiACMAIAAaAA4A/v/x/+f/5v/m/+b/7P/y//7/CQAUABoAGQAUABAADAAIAP7/8f/v//j/////////AQALABQAGwAhABwAEgAIAP7/9//t/+f/6P/r//H/+P///wkAGAAmACsAKAAbAA8ACAAGAAUA+f/r/+P/5v/v//X//v8KABUAHwAiABwAEAADAPz/8//n/+D/3P/d/+j/+f8CAAkAEgAaAB0AFwAOAAAA+f/z/+j/4v/i/+b/8f/+/w4AFgAaACEAJAAhABEA/f/q/93/1v/W/97/6//8/wkAFwAfACQAJAAbABIABgD3/+j/3v/i/+L/3//l/+3/+f8KABgAHQAeABsAFgAJAPv/8f/j/9z/4f/s//P/+v8FAA8AEAAGAP///f/8//f/7f/o/+j/6v/t//L/9f/5/wAA//8LABsAGwAVAA4ABwD///T/7P/s/+7/7//y//b///8FAAkAEQAYAB4AGQAOAAwABwADAP//9//7//3//P8DAA0AEwAaAB0AGwAVAAkAAAD3//D/8v/q/+z/+P8BAA8AFgAbABkAFgAWAA8AAwD8//j/8P/q/+3/7P/u//r/BAANABYAHgAeABsAGQASAAMA7//f/9X/1f/d/+H/7P/8/w8AHQAcAB0AGgAOAAMA/P/1//D/6v/o/+3/+P8BAAoAFAAXABoAFgASAA8ACAD5/+P/2P/T/9r/7P/6/wcAEwAfACQAIwAdAA8A///x/+r/6v/n/+b/6P/p//P/9v/6/wMADQASABIAFwASAAgAAAD1/+b/3f/c/93/5P/y//z/AQAGAAwADAAFAAAA+v/1//P/7f/p/+T/4//r//L/+P/+/wUADwAZAB0AGQATAAgA/v/1/+3/5//m/+7/+v8IABAAEwAaABwAGwAWABIADAADAPz/9//5//3/AAAAAAIADAAUABcAHQAjAB8AEwAGAP7/9//z/+3/6//y//v/BAAOABgAIQAkACAAHAARAAQA9f/p/+b/5f/n/+v/8v/8/wkAFwAiACgAKgAlABYAAgDy/+X/3P/b/9n/2//p//j/BQATAB0AIQAcABcADQD9//P/7P/k/+n/8f/0//j//v8HABAAEwAZABoAFQAMAAAA9//v/+r/6f/t//L/9//8/wQADgASABAACgAFAAEA/f/z//D/8P/v/+7/6//s//P///8GAAsADwAQAA4ACwAGAP7/+P/u/+L/3P/e/+L/6f/3/wIABgAMAA4ADAAKAAYAAwABAAAA/v/5//D/7P/w//T//P8DAAsADwARAA4ACgAJAAMA+P/u/+n/6v/w//z/AwAPABsAHAAcABYAEQANAAkABAD7//D/6f/j/+X/7//2/wAADwAfACkALAAsACgAHgANAPn/5f/e/+D/4//t//n/AAAFAA4AFwAWABgAGAARAA0ABQD7//H/7P/t/+7/9v8AAAgADwAWABkAGAAUAAsA///3//L/6P/i/+r/+f8CAAkAEQAVABsAHQAXABEADAAEAPv/8P/l/+H/5v/u//P/+/8HABAAFwAYABMAFAARAAEA8f/p/+b/5P/m/+//+f/+/wEABgAGAAkADAAKAAQA/P/y/+3/7P/o/+v/8v/8/wEAAQACAAIABgAGAAIA///4//f/9f/t/+n/6//v//f/+//9/wIACAALAAgABgADAP//+//3//P/8f/y//r/AQACAAQACgAPAA4ADQAPAAwAAwD6//H/6v/o/+v/8v/5////CAAQABMAFQAVABMADQAHAAAA+//7//j/+/8AAP//AAABAAgADQAPAA4ACgAIAAYABAAAAPn/+P/5/wAABAAGAAkADQAQABEAEQALAAkABwD+//j/9P/y//L/9P/5//3/BQANABUAFgATABYAEAAHAP7/9v/y/+7/7f/u//T/+v/+/wQABQAFAAkADQANAAYABAAAAPv/+f/2//n//f/9//7/AgAHAA0ACwAFAAMA/f/4//b/8P/r/+7/9P/7//7/AQAGAAsAFAAWABUACgABAP//+v/x/+3/5//l/+v/9P/+/wgAFAAWABUAEQAHAP7/9v/z//P/8f/u//T/+/8BAAgACAAHAAcABQADAP//9v/0//f/9//0//f//v8DAAcABwALABMAFAAMAAMA+P/x/+7/7P/s/+7/9f/+/wEAAgAEAAsADwAMAAgAAAD6//v//f8AAAIAAAAEAAoABgADAAgACQAFAAIAAAABAAUABgAGAAYABgAAAP7/9//1//v//f8BAAUABwAIAAoABQACAAAA/P/5//j/+P/7////+//9/wYADQATABkAFwAQAAoABQABAPv/8//0//f/+v/8//7/AgAJAA8ADAAGAAIAAAD///7/+P/y//P/9f/3//v/AgAMAA4AEQAUABUADgAFAAAA+f/z/+z/6f/s//L/+f8AAAIABwAKAA0ADAAEAAAA/v/8//X/7//s/+v/7v/z//v//f/9////AAAAAP7//P////7/+P/z//H/8f/0//f/9v/5/wAABgAJAAwADgAKAAYAAQD5//T/8f/r/+z/7//0//3/BQALABMAFQAOAAgAAQD7//X/8f/x//T/9//+/wMACgATABYAFQAPAAcAAQD+//v/+v/9/wIAAwAGAA4AFAAXABcAEwAMAAYA/P/5//z/AAACAP7//P/+/wAAAgAFAAQAAAAAAAIABAAEAAUABgAGAAcAAgABAAIAAQAAAAEAAgAAAP///v8CAAYABAACAP7/9//3//n/+f/2//b/+//9////AQADAAMAAAAAAAAA/P/4//n/+v/2//j///8AAAMABgAGAAoADQAKAAsACAACAPv/9f/x/+7/8v/8/wYADAAQABIAEQANAAUA/v/3//P/8P/n/+n/8//9/wYACwAOABIAEQAMAAkABwAGAAEA/f/4//b/+f/+/wMABgAGAAUAAQD///z/+v/7//v/+//4//j/+v/8/wIAAwAAAPj/9P/2//r//P/4//r///8AAAAAAAD//wAA///7//f/9v/6//7/BgANAA8ADwAMAAoACgAEAP7//f/9//z//f8BAAcADQATABQADwAJAAAA+////wEAAAD9//3//f/+/wIAAgAAAAEABgAIAAcAAwADAAEA/P/6//n//f8AAAYACwANAA4ADwAOAAkACgADAPr/9P/z//b/+P/7/wEABgAGAAUABAAEAAUABQAFAAEA/v/7//v/AQAHAAwADAADAPv/+//9//f/9v/6//z//P/5//r//f/+//3/+//1/+//8//9/wIABgAHAAQAAgADAAAAAgADAAIAAQD5//L/9P/2//b/+f8AAAMAAgAFAAoACwALAAQA/f/2//L/9P/1//j//P8AAAMABwAIAAUAAAD6//X/7//t/+z/7f/0//z/AwADAAIAAwAIAAwACwAIAAQAAgD///3///8BAAQABQAGAAgACAAJAA0ACgAIAAMAAAD///7/AwALAAoAAAD+/wAA/v/6//3/AgABAAAAAQAAAAMABwAHAAIA+v/4//j/+f/8/wEAAgAAAAEABQAIAAgACwASABEABwAAAP3/AAACAAcADAAJAAYABQAGAAcABwADAPn/8P/t/+3/7v/u//D/9f///wEAAQAHAAwADAAHAAEA+//y//P//P8BAAEAAAAGAAkACgAMAAoAAwD4//D/7v/r/+3/9f///wAAAAAGAAcABgAEAAMAAAD5//b/9//6////AgAFAAYAAgABAAEAAgABAPn/+f/5//b/+f8AAAcABwAIAAYA///3//L/9f/5//j/9f/3//z//P///woADgAJAAMAAAD6//X/+v8AAP///P8BAAUABwAOABIAEQALAP7/9P/z//P/7//0//3///8CAAcACwAKAAkADgAKAP7/+P/4//f/+/8BAAUABwAIAAYABgAJAAwADQALAAcAAgAAAAIAAAAAAAUAAwD9//7/BAAGAAIA/v/7//v//v8DAAYABgAKAAwACQAIAAUAAAAAAP///f/+/wMABgAHAAgABwAAAP3/AAAAAP///P/7//j/+P/9/wMACgAQABcAGAASAAgAAQAAAPz/+P/6//7//P/6/wMADQARABEACwAAAPP/7P/u//L/8v/x//L/8P/z//r//v8GAAcAAAD8//T/6f/q//b//P///wAAAgAFAAoAFAAYAA0AAQD6//D/7P/r/+//9//6//j/+P/8/wAAAQADAAEA9//p/+n/8v/2//z/AwAIAAkABQACAAAA/P/8/wAA/P/5//3/BAAKAA0ACwAKAAoAAgD8//f/8P/r//D/9//8/wAABgAKAA0AEAAOAAoABgAAAP7/AQD///3/AAAGAA0AFgAgABwAEQAKAAUA/f/1//H/8f/z//n/AwAPABYAFQAWABIABwD6//T/9f/2//b/9v/4//3/BgAOABEACwAHAAUACAAIAAEAAAADAAQABAACAAIAAwAFAAcACAACAPf/9v/3//L/9//5//f/AQAHAAYACAAFAAAAAAAAAPb/7v/x//j/AQAIAAgABgD///n/+v/6//r/9v/u/+v/6//1/wAACAALAAkABQAAAAAA/P/7////9//t/+r/7v/4/wEACQALABAAEgAMAAUAAQD7//H/7P/p/+v/9P8BAAoADQAKAAUAAwD9//f/8//t/+r/7P/0//7/AgADAAYADgAVABQADQAHAAIA+//3//n/+P/3//r/AQAIAAsADwAKAAQA//8AAAIA/f/7//3//f8AAAcADgASABAACQAAAPr/9//2//v/AQADAAYADAAQABIAFAAPAAIA+v/1//f//v8BAAQAAwABAAIACAAJAAgAAwD///z/9v/2//n/+P/3//z/AgAHABAAFQAUABIADAAFAAAA+//1//T/9v/6////BwAOAAsABwAEAAQAAAD7//b/8//0//f///8CAAAA/v/+/////v8AAAUACAAEAPz/+P/2//r/AAAJAAsABQABAPv//f8BAAMAAAD7//f/9P/2//v///8AAAAA+v/0//X/+f/5//T/9P/3//3/AAAAAAAAAAD///z//f/5//L/9v8AAAYACAAGAAQAAAD8/wAABgAKAAcAAAD6//T/8v/z//f/+v/6////AwAHAA0ADgALAAUA/f/2//f//f8CAAUAAwADAAUABgAIAAgABQAEAAEA/v/9/wAAAgAFAAcABwAGAAUACAALAAgAAgD8//f/9v/+/wAA/v8AAAIABgAJAAsACQAHAAUABwALAAcA/v/7//7/AAADAAUABgADAAEABQAJAAYAAAD7//j/+f/+/wIABQADAPz/9P/t/+3/9f8BAAYABQAFAAMABAADAAMACAAHAAIAAAABAAIABgAEAAAA/v/9//7//f///wEAAAAAAPz/+f/4//n/+//9/wAAAAABAAEAAAD+//3///////v/+P/3//b/+v8AAAQA///5//f/+v///wEABQAJAAgAAQD4//P/9/8AAAAA/P/1//P/+v8AAAQABAABAP7//v8CAAQABgAHAAUAAAD+//z//P///////P/8/wAABQAIAAgABQAAAPz/+v/4//r//f8DAAUABAAGAAUABwAFAP//+v/9/wMABQAFAAIAAQADAAQABAAFAAUACgANAAsABQD+//v/+f/7//7/AgAGAAgACgAEAP7//f8EAAwACgACAP7/AAAAAP7///8AAAAAAAADAAkACwALAA4ACgAFAAIA//8AAAEA+//y/+7/9f/+/wAAAwADAAMAAgABAAIA/f/6//v/+/8AAAAAAAD///7//v/+//7///8BAAIAAwD///z//P/6//f/9f/z//X/+v8AAAQAAAD7//n/+v/9/////f/3//T/+f/9/wIAAgD+//3/+P/4//7/AQAFAAQABAD7//H/9//8/wEABAAAAPz//f///wEABQAEAAAA/v8AAP//AAD///n/9//3//j/+P/7/wAABwAMAAoABgAFAAoACgAHAP//+v8AAAAA+//3//3/BQALAA0ADAAHAAUABQAJABAADAACAPz/+//9//7///8AAAMAAgAAAAIACAAPABIABwD7//j/AAAHAAQAAAD8//7/AwAJABAADwAKAAkACAAGAAMAAwAEAAIAAQD///z/AQAIAA0ADAAGAAQABQAHAAIA8v/r//P///8HAAQAAQACAAkAEAALAAAA+//6//n/9f/w//T/+v/9//r/9P/3//z/BAAPAAsAAwD9//n//P8BAP//+f/0//T/8v/0//n/+/8AAAEA/v8AAAUABgAJAAUAAAD+/wAAAAD6//r/9f/z//b/+////wAA/v/6//v/AAAHAAUA///5//b/9v/3////AgD///j/9f/8/wIACQAJAAEA+v/8/wMABgAEAP3/+f/5//3/AQAFAAUAAAAAAP//+v/7//v/+f/2//b//v8KABQAFgATAAsABQAGAAsABwAAAPj/8//x//f/+//9//////8CAAgADQAQABMADwAKAAUABQAIAAUAAAD6//v/AgADAAYABwAEAAUABgALABAAEgAQAAgAAgADAAMAAwD///v/+P/z//T//P8FAAoAAgD3//P/+/8EAAUAAgD///7/BAAIAAcACgAKAAQAAwAAAP7/AAD+//z/+v/6//r///8FAAIA/v/9////BgAGAP//+f/1//X/9//7//v/9P/z//f/+v8DAAUABQAJAAYA/P/1//v//v/8//j/8f/u//f///8EAAQAAQD8//z//v/9//z/9f/x//T/+f/8//z/9//1//X/9f/6/wAAAgAAAPj/9v/5/wIACwAEAP3/9f/1//3/AwAIAAYAAgADAAIAAgAEAAIABAAAAPf/9//9/wQABwAIAAYAAwAJAA8ACgAEAAEAAAABAAYACgAKAAcABgAFAAoADQAMAAoABQABAAIABwAQAA8ABgD9//T/+P8AAAYACQACAP//AgAGAAsACgAFAAUAAAD5//X/9v/5//v//v///wIACAAFAAoABwAAAP3/+P/6//3//P/5//b//P8BAAMABQD+//T/8v/3////AgAEAAUAAwD/////AQADAAIA+v/y//L///8EAAMAAAD5//z/+//4//r/9v/2//T/9v/+/wAABQAHAAcABQABAAEABAAAAPn/9f/2//z/AgAIAAIA/f8DAAMABgALAAUAAwABAAAA/f/9/wAAAQAAAP3/9//5/wMABQAIAAUA/P/6////AgABAPz/9//8/wQACgANAA8ACgAGAAAA/f/4//P/9v/1//T/9//4////BgAEAP7/+v/8/wAAAwACAAAAAAD+//3/AwAEAP7/AAAAAAAAAgAAAAAAAgAFAAMAAAAGAAkACAABAPP/6//x//7/BAAHAAUAAgAEAAgAAwD////////+//z///8IAA8ADwAJAAEA/f/9/wQABAAAAAAA/P8DABEAFAAMAAUABgAJAAcABQABAAEAAgD+/wAACAAPAA8ADAADAP7/AAAGAAkAAwD9//T//v8PABMAEAALAAgAAAD+/wAA+P/z//L/8v/2//n//v8EAAYA///1//P/9P/3//r/9//z//P/9//+/wMA/v/2//H/8v/3//3//v/7//f/8f/y//j//P/6//f/8P/s//H/+P8AAAAAAAD8//P/9P/7/wAAAgAFAAQAAAAAAAIABQAGAAUABQACAAYACwAIAAEA+//5////CAALAAcABAAFAAgACgANABAADAAFAAAA//8CAAQACQALAAgACAALAAwAEAAVABQACwACAAAAAAAAAPz/+P/1//3/BwAIAAYAAwAAAAAABwAFAAAA/v/7//n/9//7/wAAAQD///r/+f/8//3/AwAGAAQA///8//z////9//r/+P/x//H/+P///wEAAgAAAP7/AAABAAAAAQAAAAAA/v/8/wEABgABAP///f///wMABAAFAP//9//1//f//f8AAP///v/9//r/AAAFAAMABAD///v/+//7//z/AAAAAAAA+//5//r//P8AAAAAAgAEAAoACwAFAAEA//8AAP///P8AAAQAAQD///7/AgAGAAkACQADAP7/+//8/wIACAAGAAEA/v8AAAIAAgACAAIAAAD7//z/AAADAAMAAQABAP3//f8AAAAA/f/6//v//v8FAAkABQAAAP3/+v/7/wEAAwADAAIAAAD+////AQACAAIAAAD6//j//v8AAAEAAgD///r/+f/9/wAA/v/5//r///8DAAUABgAHAAQA///5//v/AAADAAUABwALAA0ADQANAA4ACwAEAP3/+f/5//7/AwAEAAAA/P8AAAUABgAIAAQA//8AAAYACgAGAAMAAgAAAP7///8AAAAA/v/8//7/AwAFAAcABAD///v/9//2//f/9f/1//j/+//+///////8//r/+v/4//n/+//6//3////+/wAAAAD+////AAD+/wEAAgAAAP7/+f/6////AgACAP3/+P/1//P/+P/+/wEAAgABAAAAAAD9//j/9f/1//n/+//8/wAA//8AAP7/+f/8/wIACwAQAAoAAQAAAAAAAQADAAAA/v///wAAAQAGAAoADwAPAAkABAACAAYACQAIAAUAAwAEAAYABgADAAAAAAAAAAIACgANAAkABQABAP3/AAAGAAYA///6//n/AAAKAA0ADwAMAAUAAQABAAUABgABAP//+v/5//7/AwADAP///f8BAAYACgAMAAgA///y/+7/7v/z//n/+v/8//z///8HAAsACAABAPr/9f/y//T/9f/1//j/9P/2/wAACQAPAA4ABQD8//r//P8AAP//+v/y/+//9P/6/wIABgAFAAAA/f/+/wAAAQAAAP7//f/+/wIABgAIAAUAAAD9////BgAMAAoAAAD3//X/+/8EAA0ACwAAAPn/8//2/wAABQAHAAYABgABAAAAAAAAAAAAAgACAAMABwAIAAQAAAD5//P/9/8AAAkACwALAAgAAgAFAAgABgACAP//AAACAAMABAAEAAAA/v/8//7/BAADAAAA/P/8//n/8//3//7//P/5//j/+f/7//7/AwAIAAcABwAEAAEABAADAP7/+f/5//r///8BAAIABgAJAAoACQAFAAIA//8AAAAA/v8AAAIAAwACAAEAAAADAAwADQAPAA4ABgD8//n/+v/3//3/BQAFAAcADAAMAAkACQAFAAAA/f/1//H/8//9/wYACQAIAAAA/P/9//7/BQANAAkAAQD6//H/8P/6/wIABAACAAIAAgAGAAgABQD+//j/8v/v//H/8f/y//b//v///wEABwAIAAUAAQD///r/+v/2//D/6//q//D/+v8BAAYABwAAAPT/7f/s/+7/9P/8//z/9v/3//r/+/8DAAYAAwAEAAMA/v8CAAkABwAAAPv/+//9/wYADQAJAAUAAwAAAAQACwAPABAACwADAAIAAwACAAUABwAKAA0AEAASAAwACAAAAPb/9P/9/wIAAgAEAAQABAAEAAsACgAJAAkABQACAP3/+f/3//7/AQACAAUACAALAA0ACwD///X/9P/1//f//v8CAAIABAABAAIACwARABIADwAKAAUAAAD7//j/9//6//n//f8BAAEABAAIAAYABAAFAP7/+P/4//r/+v/6//r/+//+/////P/5/wEACQAAAPv/8//r/+v/6f/p/+z/9v8CAAgADAAKAAMAAAAAAAAAAAD7//D/6v/s//T/+/8BAAEA///7//z///8BAAIA+v/0//P/9f/9/wMABAD///z/+P/8/wIAAwABAPz/9//1//n//v/+//r/+v/7////BgAOABQAFAAOAAgABwADAAAA///9//3/AAAGAAgADgASAA0ABgD/////CAAQAA8ADAAGAAAAAgAKAA4ADgALAAMA/f/9/wUABgABAP3/8//1/wEADAARAA4ABQD7//X/+P/8//z//f/7//r/AQAJAAsADAALAAoABwAGAAYA///7//r/9f/4/wEABgAKAAoABgADAAEABAAIAAQAAAD8//v///8AAAMACAAKAAcABAACAAcABwAEAAMAAAD5//f/+P/9/wAA/v/+//v//P8DAAgABgAGAAIA+//4//j/9f/1//T/8P/w//b/AAACAP7/+P/3//v/+v/9//n/8//4//v/9P/y//P/8P/w//L/9//5//v/+//4//j/+f/y/+v/6v/u//b/AgALAAYABAAFAAYACwALAAQA/f/+/wAAAAAAAAUACgAFAAEABAAJAA8AEAAKAAQA///8//z//P/9/wAAAQAIAAwACAAIAAQAAAAAAP7//v8AAP///P/5//f//v8KABQAGwAbABUACAAAAAAA+v/5//3//v8AAAIABgAPABMACwAFAP3/+/8BAAYACwAJAP///f8DAA4AFAASAAwACwALAAkACQAFAAAA///+////BAAIAAUAAwADAAMAAgABAAIAAAD+//3/AAADAAAA/v///wEAAwACAAMABgAGAAAA+//3//X/+f/7//3//P/3//T/8//y//P/+f/6//r/9v/z//X/9//y/+r/5v/p//H/9/8AAAAA/P/8//n/9v/2//X/8v/0//j//P8AAAMAAQD//wAAAgAEAAgABgD+//n//P/+//z/+//8/wQADgASABEADQALAAYAAAD8//f/+/8AAAAA//8AAAEABAAMAA8ADgALAAUAAwAAAPv/9f/y//f/AAAFAAsADgAMAA0ADgANAA4ACwACAPz/+v/8//7/AgAGAAcABwAIAAwAEAATAA0ABgD+//X/9f/6/wAAAQAHAAoADAARABAACgAEAAAA///+//z/9//2//r//v8GABAAFgAUABQADwAIAAUAAgD5//P/8v/1//7//f/9/wEABgAJAAIA+//2//b//f////n/9f/0//v/CAALAAgABAAAAAAAAwADAAEA/f/5//f/8v/w//P//f/9//f/9//3//n//P/9//r//f8AAP7/9P/s/+r/8v/6//r/+f/5//v/+//6//r/+v/4//X/8v/1//z/AAABAAYABgACAAAA+f/5//v//P/3//L/7v/s//L/9//8/wMACQAKAAUAAQAAAPn/9f/1//f/9//8/wQADAAVABMAEQAPAA4ACQADAAAAAAAEAAMAAAADAAgACwANAAwADwAQAA0ACgADAAAAAgAAAPv/+//6//z/BgANABAADgAFAAEAAgACAAAA///6//j/+P/+/wcAEAAWABQACQAFAAkACQANAAsAAQD5//n/AgAIAAoABwAGAAgADwAWABIADAAHAAAA+P/2//j//v8FAAsAEAAPAAsACwAKAAoABQAAAPv/8//v/+v/7//4////AgAJAA4ADQAGAP7/9P/t/+v/6v/p/+j/7v/y//T/+v8AAAIA/f/5//b/8//t/+n/6//v//P/9f/2//n//f///wEAAQAAAP7//f/9//n/9//0//T/9P/1//f/8v/y//z/AwAFAAMAAAAAAAEA/P/2//T/8f/1//z//f8AAAIABAAFAAIAAAD///3/+v/2//L/8v/5/wUAEAAUABIADQAIAAEA/v/3//f/+//9//3//f/+/wQADAAPABEADwAMAAcAAAD1//H/9v/+/wYACwANABEAGAAZABgAEAAJAAcABwAFAAAAAgADAAgACQALAA4AFQAWABIADgAHAAIAAgAGAAQA///8//z//f/+/wAAAwAHAAgACwAIAAAA///+//v/8v/t//b/AgAEAAIABgAHAAcABwAEAAQAAAD7//T/9P/5//z///////v/AAAOAA4ADwAOAAIA8//p/+j/6v/w//j/AAAAAAEABAABAP7/+v/y//D/6//l/+b/6f/u//H/+P/+/wMACAAHAAMA9v/v/+r/4f/e/+H/7f/5//z/AQAEAAEA/f/9/wAAAAD+//v/+P/0//H/+P8AAAcADgAOAAkABQAGAAcABQD///n//P8BAAIAAgABAP7/AAAFAAsACgAHAA4ADgAJAAcABwAFAAEABQANAA0ADgASABcAEwAMAAoABQACAP///f/+//7/AwAKAAoADQAUABcAFAAHAAAAAQD+//z//P/8/wAAAQAFAAwADgAQABMADgADAP///P/5//j/9v/4//3/BgATABoAHAAbABsADgAAAPf/9P/0//r/BAAEAAIAAQACAAIAAwAGAAYABAD///b/8f/r/+n/9P/9//z/+f/9/wAA/f/6//z/9//2//r//P/8//v/+v/0//L/+P8AAAAA+P/3//j/+v/9//n/9//z//L/9f/5/wAAAgAAAAEA/f/8/wIABwAAAPb/9f/v/+n/7f/2//7/AwAMAAwAAAD8//n/8v/u/+3/7//v/+3/8/8AAAUABwAMABIAFwAWABEACwABAPX/7P/n/+///f8GAAwADQAUABQAEAAGAP//AAAAAAAA//8CAAYACwAOAAwACAAJAA0ACgAEAAUABwADAAAAAwANAA8ADwAPAAoAAwABAP//+//8//7//v8AAAcADwANAAYABQAFAAcADAALAAwAEAAKAAUAAAD6//f//P8AAAEAAQACAAkADQALAAkABwAFAAEA/P/4//f/+v/9//v///8MABIACwAEAAQABQADAAAA/P/2//H/9P/2//3/CAAJAAgACwANAAwABAD4/+7/7//z//T/9v/4//z//P/7//z/+v/8//r/+f/9/////f/5//H/7v/x//L/7v/s//X/+v/7//3/+v/1//H/9f/7//z/+f/1//P/9v/+/wQABAAAAPv/+P/7/wAAAgACAAAAAQAJAAkABgALAAsACQAMABIADgAEAAAA+f/5/wAAAgACAAUACQASABwAHQAUAAsACAAGAAIAAgAAAPj/8v/4/wQADAANAA8AEgAQAA8ADwAIAAAA+f/5//r//P8AAAMAAwAAAAUACAACAAAAAwAJAA0ACAABAP3/+//6//7/BgAGAAIAAAAAAAMACgAIAPv/8f/4/wIABQAFAAMAAQD+//7/AAADAAEAAQAFAAgADgALAAEA+//9/wQABAD///3//f/8////AgAFAP7/9P/x//L/9f/4//z//v8AAAMABwAEAPj/7v/s/+3/8v/2//T/7f/q//L/+/8AAAAAAAAAAAAAAQADAAAA9v/1//v///8AAAMAAAAAAAYADQAMAAMA/P/1//T//v8EAAMAAQADAAMAAAACAAUABQAGAAYABwACAPz/+v/8//7/AQAEAAAA/P/6//v/AQAEAAcABgABAAEABAACAAAA/////wMABwAHAAYABQACAAEABgALAAQA+//8/wAAAAAFAAgABAACAAMABwAGAAcAAwD9//z/+/8AAAEA+//6////BAAIAAYAAAD5//b/+f/9/wQABgD///b/+v8AAAIABgAOAA4ADQALAAoABAD9//v/+f/6//7//////wAABQAGAAQAAgD9//7/BwAJAAUABwAMAAkAAAD8//n/+P/6//z//v8EAAYAAAD4//T/+P/9/wEAAAAAAP//+v/5//P/7v/y//v/+P/3//r////9//v////8//f/+v/9//j/+v8AAAEA///6//f/9f/1//r///8CAAIAAAAAAP3/9v/1//n/+f/8/wAAAAD4//X/9f/3//7/AAD7//v//v8AAAYABAAAAAAAAAAEAAYACQANAA0ADQANAAkAAwAEAAQAAAAHAAwACQAKAA8AEAAMAAIAAQAFAAcACgAGAAYACAAIAAYA/v/5//n//f/9//z/AAD/////AAD8//n/AQAIAAgAAgD9/////v8CAAUAAAD9/wAABQADAAAA//8CAAYABAADAAQABAAFAAgACwAPAA8AAgD5//T/9f/5//v//P/+//7//f/8//j/+f/3//P/9v/5//z/AAD///v//P/+//7//f/9/wEABgAHAAcABAD8//P/7//z//r/AAACAAIAAwACAAAA/v/7//z/AAABAAMAAQD8//r/+v/9/wAAAwACAAAABQAHAAYABgADAAAA+v/3//X/9//4//j/+v/8//z//P8AAAEAAQAAAAAAAAAAAAEAAQADAAUABgAFAAAA/f8AAAUABgADAAEAAAACAAgACAAFAAUABwAHAAIAAgABAP3/+v///wEA//8AAAEA/v/8/wAAAQADAAMAAwAEAAIAAAD/////AAAEAAkACQAGAAYABAACAAMAAAD//wAABQAMAAoABwAJAAgABgAHAAkACQAIAAsACwADAAAA/P/+//7/+v/+////AAABAAEABAAGAAcABQD///n/+P/6//r/+/8AAAMAAgADAAAAAAABAAAAAwADAAMABQACAAEABAACAAAA/P/2//X/9v/3//r//v8AAAEA///4//f/AAAEAAMAAQD9//r/+f/5//f/8//1//n/9//5//f/8f/0/wAAAwAAAP7///8DAAYABAAAAP7/9//0//H/7//0//f/9//4//n//P/8////BQALAAkAAwD9//v//f/+/wAAAgAGAAcABQAAAP3///8AAAEAAwAEAAIAAgAFAAYABAACAP7/+//5//j/9v/8/wcACQAEAAEAAAADAAcABQADAAQACAAJAAkACAAFAAAA/f8AAAEAAgAGAAoACgAMAAkABAD///r/+//6//z/AgAIAAoACQAEAAIAAgACAAEA///8//r/+v/6//z//v///wAAAAABAAMAAwADAAUADAAOAAUA+f/0//X/+f/9/////f8AAAIA//8AAAUACAACAPr/9//3//7/AwAEAAAA/f/6//b/8//4/wIACAAFAAEAAAD8//z//f/8//r//f8BAAAAAAD///n/+f///wQAAAD4//n//P/+/wEAAwACAP7//v/+//v///8EAAQAAAABAP//+/8AAAQAAgAAAPn/8//z//z/AAD9//z///8AAAAA/////wMACwALAAoACAALAAwABAABAAAAAAD8//z/AwAGAAYABwAEAAMAAgD9//7/AAABAAEAAQACAP///v/+//r/+/8AAAIABQAEAAUABQAGAAUAAwAEAAAA+v/6////AAAAAPv/+f/6//n/+P/3//z/BQAKAAoACQAIAAkACAAIAAQAAQAAAP//AAAAAAAA/v/9/wEABQACAAMACAAFAAUABwADAP7/AQAEAAIAAAD+//z/+//8//r/AAAAAAEAAAAAAAQAAQD9/wAAAgAAAAEA/f/8////AAAFAAgACgAGAAAA/P/6//z//f/7//T/8//6/wAA/v/5//3//v/5//n//P/8//v/+P/y//L/9v/2//b/+v8AAAEAAgACAP///P/6//n/+//7//z/+P/z//P/9//7//f/9v/4//z//v///wAAAgAIAAkADAARABEADQAKAAYAAwAGAAUABQAEAAgACQAAAP///f8AAAgACAAEAAQABAAAAP7/AQD9//j/+f///wIABAAHAAYACAAMAAoACgAOAAwACgAFAAAA/P/5//z//v/7//3/AQACAAMAAgAHAAgAAwAJAAoABQADAAAAAAAAAAAAAAACAAgABgAAAP3/AAAFAAkAAAD0//L/9//9//3/9//3//v/+f/7//3/AAADAAAAAAAAAAAA/v/6//z/AQAEAAUAAwD///3//f8AAP///v8AAAEAAwABAP///v////j/9/8AAAEA+f/3//b/9f/3//3/+//3//P/8//6//z/+v/y//D/9f/8//v/9//9/wAABgAIAAUABQAGAAgABAD+/wAAAgD7//f/+P/6//3/AgACAAAACAAMAAgAAAAAAAEA///8//v/AQAGAAUABQAGAAoACgAEAAQABwAKAAwACgAFAAQABgACAPv/9f/4//7/AQD+/////f/7/wEABQAGAAUAAgACAAQABAAEAP///P8FAAsACgAGAAMAAAAAAAEABAACAAAAAgACAP3/9//1//T/+P/9//3/9v/4/wQACwAOAAcAAAAGAA0ACwAIAAsADQAMAAYAAAD8//3/AAABAAAA/v////z//f8AAAEAAAD//wAAAQAAAP3/+P/5/wAAAQAEAAYABQAFAAQABQAEAAMAAQD9//j/9v/8////+v/1//X/9P/0//f//P/9//v/+//4//v/AAADAAMA///7//v//P/6//z/AAD7//j/+f/4//j/+v///wEAAAAAAAAAAAD///7//f/8//7/AQAAAPr/+f/7//v/AAAHAA0ACAAEAAAAAAAFAAYABgABAP7/AgAEAAUAAgABAAMAAwAFAAQAAwD+//3/AQADAAMABAADAAMABAAFAAUAAwAEAAcACAAFAP7//f8DAAMAAQAAAPv/+/8DAAoADAAHAAAAAAABAAMABgACAPr//f8HAAsABgD+//z/AAAKAAwAAwD//wAABgANAAoAAQD7//v/AAAHAAkAAAD7/wAABgAIAAEA///+////BQAEAPj/7v/z//3/AAD+//j/7//z//z/AAD///3/AAAJAA4ACgAAAP7/AQABAAAA+v/u/+v/8//9//3/9//1//X/9//7//3/+f/4/wAABAAGAAEA+f/z//X/AAABAPz/+P/6/wAA///7//3/AQAGAAUAAAD6//b/+v8AAAAA/f/5//v/AAACAAgABAD9/wEACAAKAAIA/v8CAAcACgALAAgABAAGAAsACAAGAAUAAAAAAAUABgD///b/+f8FAAkAAADz/+//+P/+/wMA///2//r/AwANAAwAAgD+/wAABAAIAAYA/f/1//7/BwAKAAYAAAD+/wIABgAKAAQA+v/3/wAACgADAPz/+f///wgAAwD+//3///8HAAwABQD9//f//P8IABEACgD+//j//v8KAA8ACQD//wAABQAGAAQA/P/x//b/+v/+/wEA/f/6////CAALAAMA/P8BABAADwAAAPn/+P8BAAcA/v/4//r//v8DAAUAAQD5//T/8//3////+v/x//X//v8DAP//8v/r//L//P/4//H/8v/1//z/AgAJAAoAAwACAAoADQAFAPr/9//8/wAA///6//j/+//7//z/+v/6//n/9f/8/wkADgACAPz/BgAQAA4ABAD//wAABgAMAAsAAQABAAgADAAKAAUAAAD5//n/BAALAAEA9//9/wYABAD8////AwABAAQABQABAAAA+////wsADAACAPr/+f8CAAgABQD7//v/AwADAAAA+//8/wAAAgAEAAAA9//x//X//v8EAAYA/v/6/////v/6//n//P8AAAEABgAKAAgA/f/4/wIADQAOAAgABQAHAAwADQAGAAAA/P///wMAAAD4//f/+P/7/wAAAwABAP3/AgALAAgA///7//z/9//2//3/AQAAAP3/+//8//3///8AAAEAAgAAAPz/9P/x//P/9P/0//n//P/6//v/AAADAAMABAAEAAQAAQD9//v/+f/9/wAA+//1//z/BQALAAoABQADAAEABQAJAAMA/v/+/wAA/f/6//3//v/8//z/AQAAAPj/8v/1//z/AgAGAAQAAQAFAAkABAAAAP3/AAAAAPj/9P/6////AAADAAYABAAAAAAAAAAEAAQAAAACAAQABQACAP7/AAABAAEAAAACAAIAAAADAAgACQAJAAcABAAEAAYABgADAAIAAgAAAAAAAQABAAcACgAHAAUABwAGAAAAAQAGAAIAAAAAAAEAAAD9//b/9P/5//7/AQABAP//AAAFAAkABwADAPv/9f/4//r/+P/4//r/+/8AAP//9//3//3///8AAAMAAwABAAEAAQACAAMA///9/wIABgAFAAQAAgABAAEAAAD9//7//P/5//z//v8AAAAA///+/wMABgAAAPz///8AAPr/8v/z//P/9f/4//j/+P/2//P/9/8AAAAAAAD+//v//f8AAAEA/f/5//f/+f/6//r/+P/3//n//v8HAAgABQALAAkABQAGAAQABAAGAAQAAQAGAA0ADAANABMAFgAQAAcABgANAAsABgAJAAYAAwADAAIA/////wAAAAD8//3/AAADAAMABgALAAoACQADAAAA/P/3//L/9P/3//r//v//////+//7/wAAAQD///r/AAAKAAkABAAEAAAAAAD/////AgABAAIABwADAAIACAAIAAYABgAEAPz/9f/z//T/8//2//X/+P8AAAIAAgACAAIA//8AAAEAAwACAAAABQAFAAEAAQAAAPr/9P/x//D/9f/6/wAAAAAAAAQAAAD7//v/+//7//j/+P/6//7/AAAAAAIAAwAGAAQAAAD+/wAA///3//z/AwAEAAAA/P/6//3/AAD+//3//v8BAAUAAQAAAAIABwAGAP///f/4//P/+v/+//7/AgAHAAkACAAEAAMA/v/5//n//P/+//7/AgAFAAUABwALAAkABgAKAAgAAwAFAAQABQAGAP//+v///wEAAQAAAP3///8CAAQABQAIAA4AEAARAA8ACQAHAAUA//8AAAQACQAJAAUABQAEAAIA/v/6//n/9f/w/+r/6v/w//j/+//9/wAA/v/5//r//f/9/wEABAADAAYADwAUABEADAAGAAAA+v/y/+3/7f/w//b/AAACAAAAAgD+/wAAAgABAAEAAwACAAAAAAD+////BgAMAA0ACwAFAAAAAAACAAcACAAGAAAAAAABAPz/+f/3//H/6P/p//H/+v8AAAEABgAIAAQA/f/0//H/8P/x//j/+v/6//3//f/6//7/AgACAAAA+f/3//b/+P/9/wEAAgAAAPv/9v/z//b/+//6//n/9//3/wAAAgAAAAYACgAHAAoADgAMAAoACAAEAAQADAAUABUAFwAVABQAEAAFAAAAAAD///r/+v/9/wYADQAMAAYABAADAP////8AAAEAAgACAAQACAAKAAYAAAD6//X/+v8AAAAABQAJAAoACwAGAAUABwAEAPn/7v/r/+7/9v/8//3/AAAGAAYABAAFAAIAAwAEAP///P8DAAgABgAEAAQABQAIAAUAAwAFAAQAAgD8//n/+v/7//3/+P/0//T/9v/y//D/7f/t//H/9f8AAA4AEQAOAAgAAAD9/wAABAAEAAIA/v/4//b/9v/4//z/AAD7//T/9P/0//f/+//5//j//v8AAAAA/v/5//n//f8AAAIACAAJAAcACgAPABIAEgAMAAYACAAFAP7//P///wAAAQAAAP7//v8CAAUAAQABAAAA+v/5/wEABgAKAAoACAAGAP///P/8//n///8HAAwAEgAVABAACwAHAAEA+//2//P/8v/0//X/9v/4//r/+v/2//L/8P/z//7/BAAHAAUAAAD//wMABQADAAEA+////wEAAQAJAA8AEQAKAAIAAAD///7//v8AAAAAAgAJAA4ACwAGAAMABQAEAAIAAgAEAAYABAADAAMAAAD9//////8AAAcADAAOAAgABwADAAAA/f/7//z//v8AAP7//f/7//r/+//5//r/AAAIAAwADQANAAwABgD///X/7//r/+3/9P/6/wMABQACAAIAAAD8//z/9//1//L/7v/1//7/AAAAAPz/9//x/+3/9v/+/wIACQAOABEADgAJAAQA+//y//H/7f/t//H/8//5//z/+v/6//n/+f/6//z/AAADAAgADgALAAYAAAD7//v/+/8AAA0AEgAPAAoACwAPAA8ACwAFAAAA/P/7//3//v/7//n/9f/t/+r/9P8AAAoADwAPAA4ACgAGAAAA//8AAAIAAwAIAA8AEQANAAIA/f/2//r/AQAAAAIACQAOAA0ABwAAAPn/8f/t//L/+/8AAAoAFAAUAA4ABwADAAAA+v/y//b//v///wMACQAMAAkABAAAAAAAAAD8//7/AAD//wEAAQD5//L/7//t/+3/8v/3//v/AQAGAAsADQAQAA8ABgAAAPr/9v/1//b/+P/+/wEAAAD8//r/AAAFAAYAAgD///7/AAAAAPv/8//s/+n/6//u//L/+v8EAA8AEgAUABkAGgAWAAwABgAFAAIAAAABAAAA//////3/AAAAAAAAAwAEAAAA//8AAP3/+//3//L/7//s/+j/6//x//j/AQAMABEAFAAYABUAFAAOAAgABwAGAAUAAgD7//f/+P/z/+z/7P/u//D/9P/3/wAABgAHAAcABQAEAAEA+//y/+//7v/0//7/BwATABkAFgAPABAADAAEAAEA+v/1//T/+P8BAAgACQAHAP7/9v/0//b/+/8AAAcADgAVABoAEwALAAEA+v/5//r//v8AAAgADwAVABMAEQAOAAgAAQD8//n/+P///wEABQAGAAMAAQD9//r/+//6//n//f///wAAAAAFAAMA/P/5//L/9f/5//j/+f///wQABwANAA8ACwAHAAAA+f/0//P/8f/x//P/8//z//b/+f8AAAMAAAABAAYABgAEAAEA///6//T/7//o/+b/7P/x//j//v8DAAcACAAIAAgABwADAAIA/f/0//P/8v/v//P/+//+/wAAAgAEAAYAEAAZABcAFQAPAAYAAAD+//r/9f/4////AQAFAAwAEAAWABoAFgAQAAoABAD+////BQAFAAYABgABAPr/9f/3//j//f8GAAoADAAQABEAEgAUABIABgD3/+r/4//k/+f/8f///wwADwAJAAYACAAHAAMAAAD8//z//P/9/wEAAAD9//j/9P/y/+//8v/4/wAABwAOABEACQAAAPr/7//o/+f/4v/k/+z/9P/9/wQACwASABYAEQAIAAEA/v/3//T/+P/8//3//P/8//3/AAAAAAAAAAAAAAMACAALAAcABQAGAAAA9//0/+7/8P/5/wAABQAJAAoACQALAAoACwAKAAYABAD+//T/8v/w/+7/8//4//j//f8JAA4AEQASABAACwAHAP7/7v/l/+T/7P/x//f/AgAKABIAFQAOABAAFQANAAQA+//z//D/9v/3//f/+f/1//P/9f/7/wIACAAPABgAGAAYABkAEAABAPr/9P/t/+v/6v/t//j/BQARABwAIwAfABQABAD7//L/7f/v/+//7//0//z/AwAQABgAFQAPAAcAAgACAAUABwAHAAUA///6//n/+P/1//f/+v/8//3//P8BAAYACgAKAAYAAgAAAP3//P/9/wAAAQAAAPz/+f/5//j/+//+/wAAAAAAAAAA/v8AAAQABwABAPv/9//2//P/9P/+/wUACAAHAAQABAAGAAYACAAGAP//+//7//j/+/8AAAAA+f/1//T/9f/7/wAACAAOAA8ADgAJAAMA/v/8//z/+v/3//b/9v/1//n/AAAEAAcABgAAAAAAAgABAAIAAAD7//P/7P/q//L/+//+/wQACAAFAAcADQANAAoABwACAAAA/v/7//7/AQADAAQAAQAEAAYABAAHAAwACgAHAAgAAAD//wEAAQAAAP3/+v/6/wAAAgAGAA0AFAAZABQADAAIAAQAAQAAAPr/8P/s/+z/7//6//7/AAAFAAIABgAKAAQAAwACAP3/+f/2//b//v8FAAUAAQD9//r//v8EAAoAEQATAA4ABQD/////+//1//z/AwAAAP//+P/u//f/BAACAP7/+v/0//b//P/6//7/AgABAAAA///6//v//f8AAAsACwAEAP7/+P/6/wMABAD//wAA/f/7//3/+P/4/wAAAQD7//z/+f/2//X/8//5/wIAAQD8//7/AQADAAIA/f/7/wAABQAFAAEAAQAHAAwACQAAAPv//P/9//f/8v/0//D/8//5//7/AgADAP///P8AAAIAAwAGAAUABgAJAAwACgAGAAcACwALAAsACgAFAAYACQAEAAMAAgD//wcADgAGAP//+v/2//P/8P/t//T//P/8///////8/wEABQAIAA4ACQACAAAA+v/9/wIAAAADAAgADAAPAA0ACgAHAAcAAwD7//f/8v/z//j///8FAAsACQADAAMABgAJAAkAAQD//wIAAAD4//j/AQAHAAIA/P/7//v//v8AAAAAAgAEAAAA+v/3//f//f////n/8//1//n//P/8/wAACAAKAAsABQAAAAAABgAMAAkABQD9//n///8CAAUABwABAAIACAAAAPX/9//+////AAD9//b/8v/y//P/+v8AAAEAAwAAAPr/9//4//v/AgAFAAIAAwD///n/+P/8//7/+f/2//X/9f/8/wEA/v/6//v////+//3///8AAAcACwAOAAwACwANAA0ADgALAAYABAAFAAQABgAHAAgADAAGAAMAAwD6//L/8P/t/+//9v/5//n//v//////AAD//wMACAAIAAcABQAAAP3/AAD///z//P/9////AQAFAAUACAAPABYAEwAIAAAAAAAAAP7/+v/5//z///8AAAAAAQAEAAsADAAIAAgABgADAAAAAAABAAMA/v/3//j//v8BAAcACwAHAAQABwAIAAMA+//z/+//7//z//r/AAABAAgADQAHAAUABgAFAAIA+v/w/+v/6P/o/+j/8P/4//r/+//7////AAADAAQAAQD9//n/9//x//D/+P/+/wEABwAJAAcABgALABAAEQAPAAkAAwD7//X/9v/8/wEABgAKAAcABgAJAAYABQAFAAAA+//3/+7/6f/v//H/8f/3//r//P///wQACQALAAkACwAQAAgA/P/5//r/+v8CAAwACgAIAA0ADAAGAAIABwAHAAEA+//0//P/8//3////BgAKAAwACgAJAAYABgAGAAQAAAD9//n/9P/w/+//+v8IAAUAAQAAAPj/9f8AAAUAAgADAAAA+v/3//f/+/8BAAUABgAHAAcADAAQABIAEQASAA4ACAABAPn/9f/2//n/+v/8/wMACwALAAYABwAIAAYABAD8//D/6v/r/+3/8v/z//b/9//7/wAAAQAEAAQAAwADAP//+v/4//n/+v/6//z/AwAMAAwACgAKAAgABQALAA8ABAD6//f/8//x//n/BgANAAkABAAJAA8AEgAPAAoAAADy/+v/7P/w//H/9f/1//L/9v///wcABwAAAAAAAQD9//r/+P/0/+v/6//3/wAABgAFAAcAEAARABIAEwASAA8ACAADAP7/+v/6//7//v8AAAcADQAOAAUA/v/7//3///8AAP3/7//o/+7//P8AAAAAAQACAAEAAAAIAAgAAQADAAUAAwD///7/AAD//wAACAALAAwAEQARAAkABAABAAEAAgD7/+3/7f/z//X//P8FAAcAAwAHAAwADAALAAgAAAD7//n/+f/6//b/9v/+/wgABQACAAMA/v///wEA/v/5//j/8f/r/+z/7f/w//7/BgADAAAAAgAEAAcACQAFAAYABgD///3//v/8//3/AgAFAAoAEgARAAsADAAOAAoAAwD8//T/7//t/+z/6//u//D/9P/+/wIABgAOAA0ACgAEAAEAAQD+//v/+P/1//f//f8HAAwADgAMAAcABAADAAIA/f/3//P/8//y/+7/8f/6/wQABwAJAAoACwAMAAgABwADAP7/+//5//b/+v///wIABwAMAA8ADQANABAADgAJAP7/9f/1//b/9f/1//b/9v/7/wYADAANAA4ACgAFAAUAAgADAP7/9//4//3/+//5//3/AAAFAAsACwAEAAQACQADAAAA+v/z//P/+f/3//T/AAAFAAUACQAKAAQABQAIAAQA+//2//L/9f/8//7///8AAAEACAARABAAEAANAAUA///6//H/6v/r/+7/7f/u//T/+v8AAAkABwACAAIAAgADAAQAAgAAAP///v8AAAgACgAIAAoADgALAAMAAAD///3/+//1//D/7//z//f//v8CAAQACAALAA4ACQAGAAUAAAD///r/9f/y/+//9f/6//v/AAAHAAkACgANAAwABgAEAAMA/v/z/+3/8P/0//b/+f/9//3/AAAIAAwACQAEAAIAAwABAAEAAAD8//7/AwAFAAMABwAKAAoADwALAAMAAAD+//j/9//7//j/+/8GAA0ADQAIAAYACgAOAA0ABwAAAPn/+P/6//b/8f/t/+7/9P/4//3/AgAHAA4ADwAOAAsABAAAAPz/+P/y/+3/7f/0//3/BAAKABAAFQAXABIACgAAAPn/+P/y//P/9v/5//7/BwAOAAsADQAPAAwABgAAAPr/9P/y//H/8P/0//P/9v8AAAEAAwAIAAwADgAPAAgA/v/3//T/9f/7/////////wAAAAABAAYAAgAAAP///P/9//v/+f/1//b/+v///wAA//8AAAQABgAHAAcACAAFAAEAAQD///j/9//8//3/AAACAP7/+P/+/wEAAQAFAAAA+v/2//H/8P/z//n/+v///wEAAQADAAkADAANABAADwANAAkAAwD+//7/AAACAAEAAwAIAAcACgAOAA8ADQANAA0ACQABAPj/8f/s//D/9//5//r//f8BAAAAAwAGAAgACQAJAAMA9//w/+//8v/0//b/+/8CAAgADQASABUAEAAGAAAA+P/y//X/+v8AAAUABAAFAAcACgASABYAEwALAAYAAAD8//f/8//v/+v/7v/z//z/AwAJABAADgAMAA0ADQAHAAAA9//s/+T/4//r//H/+P8AAAQACAAPABQAEgAKAP//8v/t/+j/5P/q//f/AwANABUAGQAYABUADQAAAPX/8P/r/+j/5//s//f///8DAAIAAgADAAMABQAEAAEA+//4//r/+f/4//r/+v/4//r//v8AAAAAAwAFAAUA///6//r/9v/y//L/9f/6/wAABgAKAAwADAALAA4AFAASAA0ABgD///j/+P/+////BAALAA0ACAADAAAAAgADAAIAAAD6//P/8P/3//z/AAAFAAsADgANAA0ACgAIAAMAAgAAAP3//P/7//v/+//8////AQAAAAAAAwACAAEAAgAHAAoABQABAAEA/P/5//n/+f/4//z/AgADAAMABwAOABAADAAMAAoAAQD6//j/+f/2//T/AAAOAA4ADgAPAA4ADgAMAAoAAwD4//X/9v/0//T/+v////////8AAAYACAAHAAkAAwDy/+n/6P/k/+P/5v/r//H/9f/8/wYADQATABkAEwAEAPj/7//t/+n/5//r/+v/7f/6/wgADQAOABEADgAIAAEA+//1/+//8//5//z/AwAOABcAGwAcABkAFAAMAAMA/v/z/+b/5v/q//D/+/8AAAQACgAMABAAEgANAAUAAgD7//T/7//v//X//f8HAA8ADgAMABEADAADAPz/7//p/+T/4v/q//T/+f8DAA0ADQALAAwACwAKAAYAAAD7//r//v8CAAEAAAACAAUABgAHAAUAAwADAAEAAAD9//3//v8AAAAAAQAAAP7/AAAGAA0AEgAQAA0ADQAMAAoABwAFAAAA+v/3//r/+v/8/wAAAAD+//z/+f/9/wQABgALAA0ABwAFAAEA/P/3//D/7//x//T/+P/+/wAAAAAHAAYAAQABAPv/+v/8//f/9f/z//f/AAAEAAkAEQAUABUAFAARAA4ADAAJAAAA+f/t/+v/8//y//T/+P/+/wUAEAAVABIADQACAPn/7P/f/9n/1//h//L//v8KABQAGwAcABYADAD///L/5//k/+X/5f/r//P//f8GAAsADgARABIAEQAWABcADgAIAAMA/P/4//X/+f8CAAgAEAAcACQAHgAWABMADQABAPn/9v/x//D/9v/9/wcAEQAVABUAEAAIAAQAAAD3//D/7v/w/+3/7v/y//T/8v/0//v/+//3//L/7v/x/+7/7//z/+//7f/y//j//P8IABAAGAAiACIAIQAYAA8ACAD///v///8EAAcADQAYABwAGwAeABsAEAD9//P/9P/t//T/BAALAA4ACwALAA8ABQD3//z/AAD6//r/AgAIAP//9v/6//b/5//e/+X/5P/X/93/7P/t/+j/6P/q/+P/1//b/+X/5f/o//P/+v8BAAAA/v8BAAAAAgAMABoAHQAkACoAKAAiABQADQD+//b/+f/8//z/DwAqACsALAAoAB8ADgDz/+z/7//m/+b/9v8AAAYADwAaACAAGQAKAAgABAD+///////7//j/9f/x/+3/6//t/+r/8f/+/wUABAAMABYAAADt/+7/7v/l/9//6f/x//j/AwAZACkAIAAbABsACQDs/+L/6P/t//n/BwAgAB4AGAAqABwAAwABAPz/6//t//3/EwAEAOL/8P/P/3z/X/+B/6z/s//z/3sAsQCTAJIAjwAjAK//d/9Z/37/vf8vANoAHgExASkBgAD2/6//Cv+i/hf/0f8RABYAqACBAUoAuP5f/2b/Lf6c/YH/hgF2ABMAbAIFA7n/Y/5IACwArf2L/bcBHwOTADsBDQT+ArT+of2q/8b+2vv8/BsBiwHM//MA+wLBARH+PP2T/p/9GPyF/YEAWwEUAQgByAGpAQj/5f2E/m//t/+I/4MBJASvA0kBjQFGAtL/8PyH/WYA1/8l/tgAqQO2Aeb+dv+NAOb9iPqF/K//bf6x/S0BvAPJAcv/FgHqARX/ZP3+/2UBVgC8AO0CAAQiAtYAcgG0AI7+7P38/m7/jv9+/zAA7ACO/2z+BP6l/UL96Pxw/Sb/eQBoAEYBWAIRAhQBKwDBAOkAz/9VACkCegLaASECkwLaAcn/5P5V/03+Kf37/Vf/dP8R/5n/ZQCD/wH+K/6K/hT+3v3v/qQAGgEoAR8CvQLqAREBOgEPAaIAigDpAHcBLwG/AHIA7/9W/2L+0P1D/mj+5P0y/if/Jv9Y/lD+Mv9a/5L+NP//ADkBaAAaAWsCkgE0AM8AjgGnALP/hQCPAaQAuv+0APIAnf8c/7b/6f///uf+AQDB/+n+L/8d/yD+2/0r/hb+Ov5J/3QAyAAFAQECOwK+AFAADwGcAKD/XABiAn8CnwEcAt8CYwHL/rL+Ev+t/db8Sv42ANz/SP+gAOkAHv/G/RT+dP61/fz94f9sAYYBywGwAi0CTAEkAKX/JwDg/zgAUwGoAhUDmQJOAuEBowBL/oz9m/3q/Lv8g/0m/43/Df9//xYALP+//Uj+Wv91/7D/UQFCAw4DhAIMA/QCdAEeAIsAsAD7/wcA8wBnAcwAMADR/7T/kf5i/ZT9sv2v/an9Jf4m//z/r/+h/9wA4wDt/47/mQDpAOb/5v86ATAC6gDuAPgCIANgAfkAKwJmAej+0P0A/0b+qPtj/Jr+c/6V/ev+4QB6ANL+Nf88ABv/Hv5D/9sA/gAEASAC/gI8AgwB4wCcANL/SP+6/0gAdgCRAFsASQCz/4D+yf2h/Xr9YP23/c/+n/+q/xgAbAApAKT/X/+D/+T/3P9mAOABOQKpAuwCvQKPAl0BZwDy/2r/uP72/k7/Sv+G/xf/H/+9/ur95f0J/k7+Cv8iANEApgFEAhUCtwFMAe8ANQDE/4kALAECAZEBfwJRAjQBcAA9AB//Jv3d/BL+ov0+/fX+fgCOAAkAwgBwAfn/zP7B/xsASf/i/zoB5AH3AcgBDgK3AV0A4P+t/93+6P6W/3r/qv+rAIkArf93/3b/qP5m/av9y/7C/pH+dQBMAscBuwHpAs4C6AC6/wkAq/8Y/uL99P9aAFH/igAAAgkBtP/C/6r/av40/an9qv5O/oT+WwA2AfAAdgHkAYMBzQAIAI//2f7z/dn9OP4N/rH+AgAWAIoAbAEWAZoAcQD1/4n/R/8W//T/iABPAGQBIwKJAX0BbgG7ADsAkv8t/4n/I//h/sr/9v/X/0EAQQBMADEAZP9U/7j//P7k/vv/WQCpAGEBBAJtAjgCtgGeAUoBDwCg/7b/OP8L/y//WP9+/4b/RP9W/3r/3f6w/v3++P70/ij/xv/EAAEB7gAuApMCVAE1AXcBcABd/+b+B/8k/z/+XP7M/4z/7v4JAIUA7P/v/zIAPwDQ/13/mP94//H+Wv/1/87/TwAXAQwB6QD3APUASwCc/7j/z/9l/2r/RQCpAGYAhgAoAf8ADgAkAFsA4v+z/9b/SwBvAB4AcwDXACkAuP8TAKT/QP+N/8r/EQD0/0YA2gB4APP/PABvAJv/gP8DAO3/1v8AAHgAmgB7ALIA8ACaADkAlgA4AG7/o/+Y//X+tf74/mP/Hv/m/tj/LgA8/1L/UABu/yv+pP65/rD94vyk/ZT+7P0d/hsALAG9AJwBIwPHAikCKgIeApYBwwDeANgAZgBiAEQAuP8p/zn/ZP5r/fD9Of4x/oz+EwCJAZcBGwJ3AwYEoQIjAs0CkQEmABQAvQCFANb/sgB/AdcA+v9TAFIAAf/C/i//IP8S/3b/DwDo/77/q/8M/yf+uP0E/mX9RP0K/xQA6P/CAIYCagIZAe4ADwGz/6P9bf33/fL8RvyA/Vb+Cv41/sL+E/8D/7n++v7g/1kAiQBwAZQCBQOeApsC6ALQAXQAWQATAAf/3v6t/8z/0//SAMgBMgK1As8DqwTMBCQFkAV8BQwFugRzBAIEyANoAyUDQgPZAg0CoAFLARYAwf6l/mz+c/1u/Wv+nf7K/RX+yv7T/dr8nv3H/sX+r/9SAhsEtARZBXIG9QV6A3IBdf8y/Aj4m/QL8tfueOt36QLpMejQ5wPqN+2I8Gj0i/lA/5ADXwdsC2MOMA8fD+IOQg2oCpQHoQSiAVT+Cfxx+v34//f995z43Pl//Cb/3gGkBUYJ+QuSDikR0hG3EKcPnA6XDNgJkwh3CKwHCAevB8kILwgLBo0EjQNtAfv+5v5QAM4A0wGoBKkHzgiKCKQIxgiJCPQIRgugDuwR0hU7GAQY4RX2D5UElPZY66HgbNNtyt3JvMq1yNnM09cl3cnc5+Fi7JXx2PR+AIUPHxlKIOYr9DVeNeUtsybbHbUNL/zz8OPnON1P1tfXm9tO3d7gZua66qDuzvQq+/f/Iga1DYcT4RfBHRYi9R9eG9cZNxieEWYK7QccBhIB2v0DACUBS/0X+qP6bPqd92n2LffI9oT2Uvmp/RoAUAIhBt0I8AkFDAgPnw5SCycKnwqRCV8HKQekBzsGdQVaBk4HPgbyA6ACoALBBDsH5Qn8DS0SuxSzFEgUpBCCBeH2Duvr4Y7VWsq8xzvJ3cg1ylPUZ98K4gnkuO06+XX+egSWEQ4eaCSvKd0x+zQhLrEj0xmmDXj9e+855h3dxtR30tfV49dW2CvdjuQ86VntzvUCAOwFtwlsEbUaCx+KH+8h0CQvI5sfdx6QHNoVFQ7FCJQC7fmE8nTt7ufq48bkEOhc69fvVfZG/J4AegWCCUIKYwphDd4Q6hK7Fj4deCGkIdMiriQFInca4xKeDU8I7gTTBOsGhQu9ENkT0BOUExIQUQIf75Dgm9YRyLa5P7cxu4C7dLyFyNrW49qW3VLpQfjUAPoK1R0uLuE2WT81SplMoUFVM58kTxDH94XjBdWlxrO6r7bXubO/j8aczyvaz+WE8iz/dgtOF5ohwyjKLbwyUTWgMkcrSSIpGh0SxgkJAoH7Afcg9GvzdvQ19dD0vPI68ePx5PPt9Xn2Jfgg/EEAtQN2BrMIuQdcBC4DNQRNBboFjwheDfIQYxVPGzwf/BxtF6cU2BOkEtMQGxLrFncaphvvG18cSxbJBGHwhOGT1d/EvrXEshC2Q7cAu6PJ0tmH32zk0/JQA/oMthfmKfo4SkAdSFZRAFASQvkynSN1Dcbztt/v0DTBl7Oqri2yIbgFvXHEcdFc4fTua/uFDKUeSyoOMtg7SkMjQaA5kzKuKMIaHQ+QB7L+gPUu8hXyhO8m7W/u8e6M6wnq3+z/7tvv4/Mf+/UAvwX/C1wQCRGuEAsQfwyGB7wGvgf9BfAEiwhODdcO+xDZFDYU5w9gEK4VOxafE48XvR0EHKgWCReDE9z/IemQ3nnWe8MIslOxv7WMs5C1o8VE1vfaauGV9PUHPxHsGmMt1jzPQlpJblIlUQxCyDEUI98M6+8d1oLC+7Azo1yeAKPKrZK658jz2+vzEgl1FbgfSy0uN9047zmlPRY7xjASKfQkBxt5DLUCePxx80ns8+y37uDrYOuu8Sr32/bx9p76CP11/UcAMAX/B1AJYguYDH4M3wsACeEDfwFcAxUEdgNxBpoLHQ4bD+oRWhKnDJcG+wQDBdgDTwWjDI4VaRwkIjInaCaQGgcIMvZZ5l3UEcGntVu0q7UMt2e/ns5F2Fbbn+MC8nP89wLvD40hGS9VO/JJx1POUUlJ3D67LK4RCPXI2z7E3a7SoVKeNKEAqZ62wMqh4V32VQYYFPciVC8QNsA4ZDlGN0Eyoy2qKJYg+haGDqQHUwHJ/E35VvNU7PLoA+oB6+rpj+rI7hP1U/yKBFUMWxFAFEMWOBfaFbAQGgliAlr+LvzI+xH+mQBnAnsHahCqFZoRQQrKBgIFMgHY/dj/+AUrDNsUfyOlMZMxeSEcEJoE+/RB26bDg7ifsUeqoa0svsPKwcvH0F/hl/BB+GwClRK0IPstTEExVH9aclU6ToVD+i6VEz/40d1swgSry57xm6KcG6HirkLGKt+C9BsI8BtvLZw5mEFtRbhDMj3mM00qxSEIGoEQEQV7/Vb8XP0M/Ij4mPSS8KXuwO/w75ztNu328XH4BP5VBv0QtRY4FsEVABZ4EdEJhASY/1n6ePrN/gcAswEJC1kTDhCKCEgGAAQ7/cf3wfW/9UD7mQaCEkIfmysSKgIZzg0lDXz+Yd7SyYPGqbywrme1C8fExh6/+suu44jtsvCo/ikQUBuTKBs8BEr0S/lIDUQ7OZwogBTC/ADiycjntZuqcKVeo3Cl/7CpxnHf8vN4BcIYVSySOrlA0EFMPzU3TyuNIOcY+RCQB/UA9P/BA1QI5wj3BFQAQf5N+1jztuqY527pmOvF7wr7igimENIU9xjZGWMUiA5SCkYC7Phb9pv4z/h5+6IF6A7SEG4QwBBRDvcJGAXV/B727vg4/2ABoAn6G9whnBLzCFwQpAwt8dzadNdC0I2+4rmxxWHIZr8Tw7DWM+UJ6qb0vQW2E18iJDfwSDtNN0oGSAZDkjYGIjoJi/CA2RDEIrMerXetFKx8r03AXtcD6D32lwk1G8klkS5mOLY7ODXsLcUpiSPDGfwR5Q3mBwIBcf9hAGH9D/iU9SXzX+0I6t/rg+5L8LH0sf0ICBoRPRdWGp4bHhnSElMM4gf0Ak/8zPgU+p79UgExBeEJ/wzgDBwMnw4wEDIKUQReCP0OwQ7kEPkZCRikBk79fwPY/8rpWNoj2kzVh8eKxJzMGMpvvjLA5dBr3IPfEOnl+o4Mwh5rNJpF70pmScFGQ0G3NWcj5gtA803dxMqVvMm0PrEUr/Syf8G41IzkIfMWBUUWpyJxLYc3cDpBNLAtoipQJVAcyBUXEyoOTAc7BHcDrP8T+cHyvOwC6MXmOOfv59zrjPQP/1AK9hbyIOUj7CEUH44a1RILCv4BuPo/9if3zPqR/ZMAlgUrCZwHqgZhCiILaAVeAhYIUA5lETEZjCDzGWMLugYYB6T4wuFF1kfSGcgrvxfEAMrUw2a/OMpK2v/hsueM89kAqQ7zHzkyOD6fQYtBkT9zOxwzACNWDm75U+WC0hDEVLvtspesD7HKvwTQAd+B8uwHgxd6JG4zXj5OPUU1ES/WJ0UdnxQrEGILIAQhAVYE/AYiBWL/T/o7+AX1xe676Snq9OyH7+33iwZkEq0X1RvLIMkffRhJEb8KkwJn+qz2/PYu+Pr6o/+dBKwH7gjdCsELDArnBpsFuQhTDPsPoBdxHtQaGhDODMgMN/7h55jcgdZSx3W7BMHpxVi+Mb59zqLcXOEw63X6xwN7DBwcbivWMk826zk3OuY20i+gIyUVFwTm7kXac83pxIS3xqxOsKG8bMjX1uvskQKDEoEjWDUxPl87NzVfLeof8RNPD9YK9QFv/akCfwlPDY4PdA3nBbf9YvcX7xrl4t6T3H7eLumk+u0JSRQvHgsn+SniJgIgoBVsCFz8nfUz8w3zdfUE+lL/CQUlDLERaxF8DoUNhA3kDDEPyBRYFIkMsgj5C4YKGf2i7lPn9N7v0DTHHsc9xF25T7ZKwknPTtSQ24/ryftwCfwZqSvGNj06ezzZP3U/RzY+Jv0Wpgn79w3jJNNgyOi7+7AnsW256cAFypbbXvIcBgMXlCiENlo7yzhWM2orTCD5FDoLIwOe/t/+QwKnBTAIsQmfCG4FaQCu+H7v6uel4z3iFuWn7bT5JAaREWAcjSWuKTAnkiBuGZ0R0gct/sv3n/Vj9oD40ft3AWAIkwwWDjgR1xTBExwRQhNyFAkMLQHF/wYCNPt678DqEepK49LZc9Yo1N7KBMKYw2rJAMurzmjbPevg+O4IaRygKzAz5zeIPFo91DYzK2gf7RNQBYX0v+YU3IDQ0cXZwJ/AXcInyKzTU+Fx71wAchIeIF0n9yrFK0koCSItGywUig03CcEIwQpSDvURzBIjEbYOUQu/A0X43+3R5RngA94b4ZHoZ/GW/MoJzRU/HkUicCPmIAEb3hOsC1cE1/5I+zb5jvnf/uMEngifDRsVshoRG2UcACCKHNYQeQYzA4D+CfLN5oTiwd9M2UbUXtVy1FLOQMurzwPVK9Vc1+Xgzeyn9zMDdhGSHdwk5SvWMqg1PjKyLKMnox7aETgFAPp37WveitILzOPHM8Tfw27Lktf945/xoAFwESAcFiKFJa4mdSVaIDYZ6hMCEp0RFRHDEpUVHRfwF0oXLRPrCpIB5Pfk7O/jkd6J3M/d9+JV7Dn4Nwa3EloagR9lI4AkLSBaGN0QXgm3Atj9fPtc+zX8zP81BUUKDQ+JFGoajBsHF6wR0Q1ICfj/jPTX68Hkkdwo1PPPSs6MynnHZsk4zzfUVtiF3k7mlO+Y+tYFrg7bFH8bLSNAKUorLyqlKDQm/CD2GCEQGwcZ/DnvI+NS2tvT6M2nyszMp9Pi3CLoHfVHAQYMqhVAHHkeTR6MHccaAhYFEk0Q4RAkE7EV7hctG8oezB7jGawSOQpa/x7zZOgn4Jvaldjg2mPhVutw91YDkQ0JFsgc9CCNIO0b2hU2EOsKowXeAWMA/gAnBPQI9w0RE7EY1ByzG30WfhHqDB0FUvkz7jnmQ9+a2LvT39CGzlbNCM9S0qrVb9kh3lLjRulB8UH6uQFVB1ANKRXNHGkhayPDJEwljCO4H4IaQhPQCZL/x/XR7FHlpN952y/ZJNpA3+fmYe7O9IT7KAOxCWwN7g5RD+4O0w0+DAsLmQvPDc4PDBJJF3EeICPaI6wiSSCRG0sUewrY/vvzwut35dfgJ+Ah5CzqnPD495UApAi7DU4Pdg7PDKEKbAeLAyoA6v5wAPcDfwgsDjYVzhuDH+sfmB4NHHwW9gzNAdD3FO+f5izfotl11cHSQtIZ08rT59Qo15fZINwe4MHl6Ovz8Sz4Df/uBjAPHxb8GooebCEaI48iWB/TGfgSlQv9A5P8v/X779frnelX6YXrnu8Y8y/18fdS/CwAwQFsAjYDswOvA6ID9QNOBPwEkwbaCRwP2RSWGdgcXx9dIU8hAB69F+YPKgf4/dD1r++36+/pi+pb7cfxy/fw/fUBDgSKBV8GkwVoA8wASv7k/Fz9Zf/+AkEI8w3SEnIXAxxZHi8dvRkuFWAPEgg3ANL4JPJs7NTne+QT4mXget9u3vncItxb3I/cM9wL3Zzf5eIX56fscvPI+hkC2QjzDr4UxRjdGUoZ+xcfFYsQ3wtTBzwC7/12+1n6E/ra+pf8Z/4uAP8BbQMYBOIDVQOIAjoBxf/P/pr+4/5GAFIDSgeUC7MPAROTFcgXxBhiF3kUDBFmDHEGEgFS/RX6Efdz9Wn1FvYm95n45fmo+mH7M/wx/Bf7/vlk+Sr58Pkl/D3/5QJ3B2QMsRCjFDcYHBrUGZMYUxbUEQ8M5wZOAj39APjm8+vwVe726/jpRehq5mjkSuIt4FDektxQ237b9N044i3nMu3C9AD9wwShC0IRyhQ7FkYW2RS1EboNEwp9BuAClQA+AAEBHgKgA2sFtAYuBycHTQYyBHwBAv/Y/AL7/vlg+k78YP9hA3cIlQ1JEdQT/BUsF2IWDhQQEVEN9wj0BAkC+P8V/qj8Yfy9/F38UfuM+nX5aPd/9Wz0/PLn8APwBPH88tr18/mj/mYDSwiwDB4Q+hIcFdoVOBXVE+MRMg9DDNYJtgcPBT8CDgCq/WP6Mveh9IPxIO2j6KjkhuBr3IfZQdgu2PPZ29274mXoW+8R93r+MAUJC1YP3BG3EjAS1RDEDjUMdAn2BosFSgWYBeQFXQbqBtEGBQZ8BPABrf6W+2X57fdB9/j3Ffo1/WcBtQbjC+IP/RJIFVEW2BUSFGYRJg7RCgQI+QVhBB8DdgJcAnwCWAJeAVL/pfzG+ZH2SfOc8KfuaO2s7evvOvP89nz7ggAwBRYJdQwAD1QQ2hD+EKAQwA/HDr4Npwz9C6ILAwvyCWcIKwZRAwgA8/vW9iLxfuty5hHiNd5f21Da8Nrp3GPgB+UT6mPvDvWY+nT/ZgMeBowHSwjFCKsI6Qc/B/oGrga0BloHrAf8BggGNgXUA68BFv8t/FD5Pvez9mP3m/i/+nf+HgOxBx8MIBD2Er8U2xXhFWMUFRLmD7ENhwtLCsAJsAhqB/IGkwZBBUsD4wCj/ev5lPas8+3wxO7/7bvuavDV8gj2Y/mK/P3/mQN9BnEI7Ak1C0sMLA3mDXIOqQ6mDpUOaw4DDgENQwtLCTgHYwS8AMb8dPip8xzve+tH6OrkDuLM4CnhX+Jv5JrnTesX73bzQ/gR/Kn++AD7AikEtAQ8BZ4FxgVPBl4HfwhQCbAJZgmMCGUHewWaAlD/Ifxi+Yn3+PZQ93D4+/rd/ioDUQdQC9UOQRGqEmcTKBOSEWkPmQ3lCzAK7ggWCGEH0wZ9BtoFhwTQAq4A/v1M+/z4j/Ym9Ovy1PIj8yv0Qfah+Ln6Ov0yAI4CLwTYBYMHkwhLCSkKyArrCgYLSgtbC/0KPQozCRAI3QZVBWQDHAF//qL7uPgD9jbzC/Ai7Rnryenz6N/ou+lC62ntWfCl8z/2E/gi+jT8Rv2j/Sb+qv75/uX/ugF7A7ME/gVkBysIKgh6B9YFYgPJAGP+V/zl+hf6DfpP+9391wC5A6wGegmCC94M5w0kDjQN4QsRC3QKnwkZCSkJWQlSCVcJRglqCMkG4QTFAjEAWP2q+in4JfYh9Sf15/X79lP48Pnm+wv+0P8QAScCQwMfBLIEZQUoBsEGgQejCJ4JBQpSCtgKFgvcCn8Ktwn3B5kFaAMxAUn+3/qD91/0mPFi75jtJuxx667rpewZ7tXvjPEc88b0yfar+O352/rQ+/n8mv6TAEgCcwORBNoFugalBsIFZwR5AjgASf6O/MH6Yfn9+J/5JPtI/XD/MgHhAtIEpga8BwgI4Ad8B3UHCwiOCOAIlwmxCpwLVgz+DOsMugsHCm4IiwbeAwUBhf5Z/N/6Yvpd+mD6wfrE+xv9U/49/9H/BwAhAHEAxQDAALoAIgH2ATkDuQQdBmsH1whTCncLIAxFDKcLRAqkCBQH2wTEAcn+LPxv+a72WvQj8s3vCO4n7Ybsy+tq66TrLew17QDv5vCJ8nr0DPfh+Zz8Gf8vAfcCuwRKBjEHUQf+BnkGsAXJBNQDmwJCATEAkv9K/zL/DP+3/nL+mP4L/0j/Mf9O/wAADQE2AoQD9AR7BhQIpgkJCxMMgwxIDMILLAtICt4IMweXBf8DggJzAZsAjP+V/jD++/2q/a/9EP5U/qf+av80AIMAngD8AGIBmwELArICUQMzBKkFRQe6CDsKoQt/DMoMoAzOCzcKHgi/BfQC7P8d/Vv6QfdH9Aby+e+C7RHrNem953fm2+U75h7nbOi06tHtB/Ft9Er4A/wi/+0BgwR9BsEHnQglCUAJEwnWCFQIdAelBuoF9QTLA3MC/ACp/4f+df17/NP7pPvp+3D8O/2P/kIAGQIXBEUGdwhACqcL+gwuDskOzw6tDiEOEg3qC7oKQAl3B7QFEwRvAu8Ay//o/if+xP3Y/ff9+P0P/k3+mv7l/iH/bf/w/6gAsAE3AzUFhAfrCSUMMA7nD+oQCxFWEMIOTgxDCdEF/QHj/fH5X/a88tfuIevD52rkKOFs3k/c7tqK2krbQt144P7kdupr8Ln2E/3dArAHxAsrD4sR3hJZExgTOxIIEZsP0A3TC+0J5gd1BfkC6gDZ/kD8tfnI9wP2G/TV8sfyavNt9GP2bPm//BoAIwSnCJsMyQ+fEtUU5hUbFtgV3hQNE+0Q7Q67DAgKVgceBRwDEAEu/5v9LvzD+p/58/iF+Dn4LPh4+Bf5KfrR+xj++gAlBHkHNQsfD3kS7hTjFlUYexgLF6cUrxHIDREJQARs/yP6i/Qw7wTqrORA3zXa09U70srP5M7Qz6/Sa9fC3XrlHe7Y9jv/DQezDdsSwxZYGTsa1xkgGSYYWBYgFEMSUBB8DUsKTAesAwD/S/o99iTyw+2H6g7pT+gy6OXpbe1k8ZT14fr8AMMG9gvjEBUVGRhZGvQbZhzCG+4a8hksGLwVKxOAEEENiwnKBRUCbv6z+lP39fS18wTzdPLm8rD0mfYQ+Ab6Bf3E/+EB6ARgCcsNVhFYFTEaFB7/H6wgUiDIHQgZURPxDGUF7/y29ADtUuWa3RXWOM8OyZLDf7/EvYe+PcGSxknPNNrw5Ujy5v4aCgETdhpaIK0j3CSEJdwlASVbI4gh/R7eGnYVnw8cCUwBnvja8Pnq9eVG4VTeJt4y3yXgbOIb54vsY/EU9+X+ZQf3DgIWAh0WI4ongirwK38rvSliJxIkfx9aGocVtBBFC+QFawGN/WL5RvVi8t7wyO+Z7m3uMfDx8or1sPhp/aMCVwdyDJYSSRhsHEEgVCT/Ji8n/iU/JIUg5BkUEsUKuAJC+DLtBuSg29DR5secwCC7cbVGsWOxx7RXuYvAS8xe2hLo5/VUBA0RmxqWIlAp/SwjLjwvBDBALr4qhCdPI/MbaxJDCX0AWPYL66LhftzA2WXWFNRL1r3actwd3cHhsOhH7ePxY/u1ByESmxtxJpgvHjTMNZ41RDFPKQoiyRvqE2YM2wgNB9sCQf71+734J/J461znPuTe4Y/iQ+ae66bywPoTAkUIDw5HEnYUMBeIG08fLyIEJ1EtXTBuLyUufCs3IgwUhAjs/nnwBeCR1s/RlMivvRa67LkytKatta8utkm5SL4ZzBHdwuoQ+YcKAhniIQ4qwTEUNFMy9THeMbstiydSI0UfcxeZDIYCQfpJ8SXmP9z711/XEdVU0uPUytq63B3cp+A/6XruFvLO+/kJ3xQBHXAnXTEiNbA05DNsMGUoTSAPG7oVUA9SC9oJnAYKAVj8Ofjl8abqOObs5AHl3ebJ6/XyXvrdAG8GZQtfD5QR1hLRFUob8yAkJhkt0jTCN8U06TAALHMfDw2l/473c+ot2lbTatMNzLq/erwQvkq2PKtorLu0OLfnurPLKuFC70P8Kw9VHg0jiiaMLa4vUysFKqQs1ioiJW0ijSC5GBYNawOP+m3vKuRy3FbYTNaY1R3WYNiY23/dSd5s4X3n5uwx8hr83AnAFU4f+SkEM401DDS9Mk8vIieXHgMa8hZXEgUO9QtsCWQDpPsY9RjvHeh94n/hX+TU6KvuCvZs/VMDnQdtClgM+g1WD5cRsxYZHvsk9ioTMas0cTKHLGEmYR3EDr4AqPkD9CLpp9+V3rncJ9HaxevDd8Dps7ascLScvVrAtcm/3m7wJfhkAUwPihZZFcoWYR3NIDMgoCL8J5YpfSY2I2wfBhcXC7UA+vgy8fjpr+b15iTnleaB59joP+f/45Lj2OWY50bqAfJr/c4HOhECHFollSg9J88loyMLHkgXxxNVE7ESQBGaEGQQ0A23B94A4Ps59zvxVO0p74vzRva5+ToAXAWwBUgFMgfvB70FPwXrCYQQYBUpGg8hzibAJoUizR4tGgMQOwO9+w75ovO867HoWumA5ADaF9PCzzfHvrtFuaS/I8SCx+vSS+Pl7ZzzG/y1BGAGqARVBxYNaBCXEvIXrR4VIuwheiARHcEVZQyPBN/+B/pf9mL1Q/bu9tn2Q/YU9JjvGOuj6H7ngefB6rfxOPqQAx8OqBdYHY4fLCA8HyUcDxi7FBITnxKBEqkS7xL2EUQO0gizA/T+k/l99InyV/QV9/T4s/vc/7EB8v8B/80AVwEAABwCoQiSDtESqxjfHlghTiFaISIfMRlWE/oOzQiqAWX+C/1a93nvt+t16GHe+NHKyzLIasCguhC/QsdWyknOYdqJ5i3qPuwE9AH7y/uD/VwFMg2yEFwUlhoFH98eeBzGGToWlxHQDAEJKAagA2kBkP+C/c36cfcT8wjuRupa6LTmM+bg6QTx1vdj/t8Gvg5qEswT3RUYF88VExQAFCUVcxZ1F8YXoBe9FnkTAw64COcD1/0t+F729/ac9m72l/id+ub50fh5+ar5Zvjk+LT8DgGpBAwKixGVFxobwR59ImwiQR7LGjgZHxXJDZEI2wbbAmL69/KW7hLnZdrxzyzLucW5vSy7tsCBxqbJBtFZ3d/l8OgE7uD1xvk1+kT+4gU1C20O7RNZGiQd7xzmHNUbOhc+ESUN0AkMBZoApP7Y/Pz4o/WR9JnydO5V7MntyO7b7o3ytfk9/zUD+AmtERQVohXWFzQaMRkFF0UXihhWGIMXGBeoFRoSBQ07B5EBf/yu96PzCvKW8uPy4PJ89KD2z/Z/9lX4+/qP/AD/7gNbCdMNfxKnF8obdh5BIFQhpyGiIIIdNBkZFacPkAf4/+T6nPQU6xTjlt7/19TNmsZDxBXBmryVvY3EpMrDzi7WjeDM523rsvDu9838pv8cBTcNRROKFpUaWx/kIJwe1xsbGe0TDg3bBywEQf/R+bX2G/WP8m3wu/Bi8ajwOvGE9GX3BPkb/RkEFQrjDmAVoRvvHTgepR/GH24cFhkNGLYWuxNgEcIPfQyTB4UCZ/0h+Irzzu8q7RXtOO/c8JrxiPND9nj3Bvi7+jv/hQO+BzENcRPAGDQceh4cIdsjpCTtI2YkCyXXIZ4b6RYMEhYIGPyh9BrvPeXY2rXWMtQvzJzD58Flwmm+s7uEwbrKRdDm1djgd+wZ8/73qP9oB6oLGw9PFYIcICGHI/sliyenJWEgLRqpE28LewJd+2j2LPKS7uDsneyd7MTs5uwX7frt8u+D8gD28PuNA9AK/RHDGSwgLyMfJFgkUyLQHXgZcRZdEy4QOA6jDCcJ1wMA/o/3VPCA6ZLkGuJW4mHlHeou72L0kfnT/d4A9gMhCJoM/hCkFrkdBCSQJy8pfiruKpcpHyfxJBgj5h/cGhkVdw4RBdn4tu2+5Rfe3NVq0GzOL8ucxVDCH8FXvZu4zbnmwBPIz89K3OjqAvYx/o8GZg1AEGkRMBRvGHwcwh9OIksk1iQCIs0bUxRSDNMCbPk684XvPOyA6t7rZe7U7w/xWvJ88tXySvXy+Ov88QKUC/kTKRtHIqEncSjBJckikR+HGrIU8w/MDEQKOAePA3b/LvqD8jXqw+TF4bjeRN0G4ZXote9O9r797QMmB4wJOA04EeUUSxnnHoslZywKMX0xHC/AK5km0h8uGkYW9hG3DeoLRQrMBFj8FvN56EndU9Vj0EXLTsiSyr3Nv80+zrbQZM8byx/NZtVa20vgHuwC+3YDMAhOD/QT2BA1DBsN5Q/BD3EP8RG/FEQUoxAPDL8GSP+I9p7wQe/y7ubtO+8E9Hf42/qy/dYApgEFAoQFbwrGDUQRkhbtGuUc9h66ILAe/RlvFmsTnw40CbwE4f+M+q/2ovPR71nsReqc6AToauom7ijxJPUy+y8B3wWHCtsOqREuFJQXIxtqHnYhayNjJJYlUCVMIYQbGhbnD4gJnwbABkYGFgYrCPoIdwXz/774ZO2w4Q/cYdrZ13XYet8J5fXjdOK64hLdOdEVy2rO19Kv1qHgre/Z+kkA3AQ6CPAGfALx/90BVwaGCl4OJRNtF4UXThPqDSUHE/579v3zo/QF9mT5QP6RAXIDfgWBBmQFGgSWBLMGSAodD9MTvhfOGtwbNRoFF58SEwywBBX/2ftJ+vf5pflJ+Mr2S/Vo8gPvp+1F7invR/HZ9l/+MQRLBzwK5Q5eEogSwhKgFbYXxBYyFzkaxBrrF8UVWhWfFGETAxGqDM4JpwmrB7EEnQbZCocK2AnxDhcS9Qqs/8/4TPQw7cblFuNv5Lfj390J2frYw9OQxB+6fr6qxbvGgc2f303ukvLW988BHQXk//L+sQYrD/gUhBtEIn8k8CFiHfcWBA+eB5sB6P2e/ugBlwL/AEkBwAHT/q77kfuB+5X60/wQAmYGvQmcDOIMpAw6Dy4QIwxaCTcLrQolBtcF3ggKBtf/Ev9VAC78gPbU9N/zY/Io9GD3YPhI+t/+MgGhAXEGvQwrDuoP4RbGGxAasBh2GooZfxbnFeoVJxUTFqMXcxYpFHUSrw2XB08GagciB00J5Q58EXwQJxCJCkn7iu5864TmzNtZ2hXjpeG21P/Q69SVyt62ZbMqvuHBYsO31FjsIvc/+xEFrAw3CfoDRwUICh4RXxvgJFIq/ys6KJIdbRGbB0D9U/Tw8nr30/t2/8QDFgWlAT39hvl19hf2+/iu/T0EGw2/FLoXFhhlF9MTSA51CicJggjoCJIKEQqjBmgDIAAn+gf0BvKc8Sfvk+668jP2U/bA9xP8d/99ARYFTAknDPgOQxIQFjMbWh9/H/0dNx6HHIcWzBLEE6MSyg5yDxEU0RQGETYNkgipAmn/+P3Z+kX70wNTC6wKigsPEXkJG/I95LnmgeEv0tDUCufC5zXat9sT4l/R47rTvaTLBM7I1L/rrv5EA7gHBw61CncCrP8LABcECBAWG1sc/RvIHpUYageB+rr0n+3p6c3xJv3KAeMDgAbOAxX9TPnj94T28/i3ANsIag8kFZcWVRO0EMQOmQkjBK0DggW4BekG/giOB0oDdv97+8X2rfNZ8t/xG/Uv/E4BrwPuBzkNiw/LD04R6BLFEggT3BTMF0YaLBozGeQZAxofFqoQqQ39CYcD6P8MAWUClgG7AOEBPwSMBvgGAQXFA6sE0QYYCR8JCwmNDhwWRRYKE2gYuBuBCrb1sfWA+HjlLdP43EroI9q3zl/bdODyyjO9ysq61N3N7tH55/f3ePwFBbAPdhBbDI8KMAlbC+kSLxbEElwUpBn1Eo8DRPvN9sftCOml7k30M/VA+NT7DvpS+Kf5IPgx9qH7AgPeA+AF/g6IEo4L/wjoDqAOMgZiBe0NXBH2DXsN4Q92DpsJKga7BMcDbQN3AzkEFAYrB5gGYQVcBT4HVAlGCtQJcgotDRwOggz0Cv4JOAhiBtgH3QorDIMNERCYEqkTSxM6EtcP/A0sD+IRtRNJEyARPQ2fBzQEsQLT/a73BveZ+gr8r/xEAboGVAkHCxcOwhGRD5gDlPh0+DD42etE5Fvu/++03bDXBOTV3MbBiL/X0ljRMcje27T1ufQU8TICEQs6/T33UQA2ATr9+AZ1EqkOvQrqD3cLTfx69+j6JvVd76X5UQTbAPD/4gieCdH/LP5DBaAF3wKBCHoPxA/UDv0PFw8GDOUKmwpQCi8NQxBfD7YNJg1cCrEFLATmBIIDtwOmCCQM0Ap9CfMJbwe2Ar8Cbga2B7YHfQrcDmcQHw83DmQNIwwxDGwOrBG0E4wUPxXvFEQTMhGhD3QN/Ak1CCsINwYMAz4BOv9P+374bfgQ+LD2g/Ye+A/65/rY+9L9z/43/mH+HADZAGP/w/7UAPkC0AJqApQEGwXj/cz00fJZ8Xjnp94N4ofmJ9+j2OTekuEl1WDNT9Zi29rU+dhp6sby2/Fq+VUEQgNu/sIBxwQDAt0DnQukDd8KGAzVC7IDgvyr+xP5zfMd9Yz7UP50/6YDygV2A2QDkAYTB+0GRQyREsQTJRYKHZMeSxgTFm0ZmhccE/MViBvUGvEXaBl2GhYWWBCaDaUMYAveCr0LMgxIC0oJwwZsBJwCzADj/mz+fgCzA6sF6wV2BiEIqwiwB54HkQjFCKEICgpxDJkNZg31DLwL5Aj+BdwDqgAg/Sj8q/z5+7b7Rv0b/f35bvgp+Z73kPR89Cr2afbk9rf5O/zG+xj6/fnT+gT6X/iq+DL6W/oM+gn8T/4k/Xf6wfmM+eH28/F87ZrrNeot5t7ioeR/5YHf1dqI3sjgT9oL2I/htecV5cbpO/cP/Er5T/+tCXUJPgWzCVkP2gw/C8kQHBPEDuMNjRCNDXgHVwbkBgcE0QJ8Bp4IPQZUBVMIPQlJBq4F/AinCpUJGgtyD9cQFQ9wDzkS5RKgEU0S/BOZEyQT0hQhFSMSUA97DZMJCwUpBGIErgHr/3ICAgQdAf/+7v/X/mf7ifvr/tv/lv95AsUF1QVCBfYF5QQ0Acb+4P7G/jj+nP+xAkYEsgNRA84C1v8N+4P3UPZ19Yv0dPW49334//YG9vj1p/MK8DjvF/G48p70YvnD/s4A9wDeAQcCi/+y/Lb8AP59/g4AAQObBLQDkwFl/+r8RPr/+CH6PPzW/fH/eAKzAhgADP2T+jb4g/Yj97f5dvtx/Iz+/f+v/sf8w/vE+ev36fnv/QQAxQFxBcMH1AXTAsIBpP85+7P5xvyD/xUAswEVBIAD8gB5/0v+QvwQ+0r8h/7YAEYEcQcLCFcHCAeNBZUCKwHnAVIC9wIMBloJ+QmCCZ4JXwg8BWcDYAOnAu8BaAPzBQEHxgbeBh0G6gJp/5T9J/x5+nD65PxK/+7/aQCRAVYBof6s/KH9Nf4k/Zv++gIHBU4EOwVVB08GpQL6ACQBZv9S/XD+9gCRAX0BVALZAcH/Hf60/A/7wfp3/CX+C//GABYDkQPmAR4BkgEjAHL9AP3//kwAHgBYAQkEJQTdAHb+K/42/Pn4CfnY+2T9GP4YAIIBwP90/Pj5M/cf9F/zaPRG9Xz3T/tV/cj8fPwf/Of4iPVi9jT5xfp5/UoDuAemBw8H9QZLA3v96fpb+5z7dvyp/zsDMQSQAyIDKQHl/Hv5zPgW+UD66/3VAnIG5wcWCE4HLgQe/w78+/uL+7X7af8HBIMFHQWeBSgFuQHI/bL8Ff2Y/Ob9+wE7BV0GVQd1B8cERAFd/qD7KvoW++z9eABvAqcFgAi9By0FsgRJBO4BVgEaBPIG4gc4CcgLrgwKCjgG7AP7AAb9Zvsa/BP9n/7/AG4CVgIkASL/V/y4+f340/kN+678zv+PApkC1wEMAef+pPtl+Tb5Tvrl+4b9lP//AKAA+/6G/D76hPiG9w34kfov/rMAVwK2A00D3AD2/bH83vwB/Xb+qwK4Bp0Hjgc+BzUE9v7J+rL5kvkm+vH9VQM3BhQH3Ac+BWD/jvqB9yP1PvUa+tL/1QN7BoMHQAaDAL/5svXH8qnx6fXj/EwCXAjaCxAKsgarATL7tfXy8yL3efzDADEGswwjDPAF5wF6/Qz2AvFC8xz5dv2JArEJ/w2gC4kHNgV/AH76O/n3/ND/RwL9BxIMiwqnBuYEogFt+jv2L/ji+kj6I/34A1EFmwGYAGYCvv4t+Or3L/yo/P75Sf6sBMICOP8gAr8E5f/W+9D+egFj/h/97QJHBcMAHQCtA4ABgPt9+zH+tPsJ+Rv9UwK2AJ3+UQNmBdT/7P2wArcCRv6DAPYGmAeWA6EELQiDA3v8kP12AKj88PpCATAFmQKjAQoFswPO/Hb6J/12/Eb57Px7AkoBQf9AApcDAP7r+uT9QP5w+6b9LATxBQQEDQaUCfkFdAA5AkMD5f1M/OgAIwLP/2kA7QK2ACf7nvow/Ff4GfUg+f77M/oT/FkBdQKa//z/kAIIAKj7PP1EAJP+K//+BBYI7gYXB4IIswXj/3b9Jf0L+nf4vfznACMB/wHnBCMEif6b+tz5H/eM8yL2sv0jAq0DxAfNC5gJkAMeAYgA0fzW+YX9UQSNBnQGLQnwCgIFWfwE+nv41/L18Ij25/u//H/+YgMIBJ394vnP+of3lvPR9y3+eQBbA9wIsgv1CDcF0wNlAbD7Yvrb/xUDiATcCZYOOg5HC04HiwP2/v33CPZa+qD8Gf6GAywI7wfqBNEAqf1Z+VLzHvNL+LD7G/+fBuILSgtdCUkGDwI5/CH39feL+gL8/wDiBzIJ/QemB/kCbvsB9vXzHPMw8+T38f6QAgQEfAZhBg0Blfsg+pf5FPhI+4ACJAepCc0L7AzjCckDS/+O/ZX71PlV/R4CCgRsBLMEyATJADv7Wvpn++X5hPnY/p4D1wILAR0CIAKP/Iv4TPrV+3v6D/stAP0CqgCA/2oB7wAv/TP89/7qANT/FQF5BYcFiwLeATgCUgB2/QH9Bf7s/ez8iP77AFYAf//4/20Aof5I/ZD+X/+w/u3+ogHuAtgBpwKrA0MC+f+1//kAU/+5/qf/SQBhAOf//f+RAN4AWv5X/g//jP1L/TL9Kv2y/ln/uf5GAvMC1/+wAMEAOf9Y/TX8eP7CAGX+4P7BBewCJP2MAFsA1/su+Yr73f/S/gv/4AVOCbQCNwHzBGEAmPqM+uX+1P9v/jUDdAmjB6MBzgJlAyj8//ZT+nb9bPtA/egDlwiRBcgBJAX6Apf59feR/Wr7lfgiAjIHqQUcB0cHtgXcAe36ffhr/Tv5KPajAtAFlwE4BmMJbwNK/i/8mPjT+rP41fdHBOcIJQOgB4oPVgWH/w8CjPxH/FH7EflBAQwGkP4BAi0JpwBo/Nr7XvpJ+W/04fYA/+kAZf8YBj0JhgRHA0L+dP6M/CT0R/o3AFH9zABwB0kDAAM+BNf59PyY/Kvy6vty/v/4rwVwCJn9hwjMC6/7agFmBHj4J/30/7v5+wSOBpX7ZQoDDZH8qAKUBnP3fvYI/Lv1Dv1FAA38iQm/CWP+0wRJBSL2lfa5/H33svuOBKcC3wXYC9AE/ADXAuH8M/jd/Bj+uv2rBnsFNgEmCO8Dxftp/4X/a/ls/lkCAf+wBA0DZ/7qA3n/TPoLBKEDiPzEB2gJ8/7MBDAGDvzU/LL+VvwQAGP+Vv0ZBocC1vgaAAgC8/VX9x/+3fsj/B3++gC5BQQBzP5IBisBS/p2ACj/DfybACn/TwBcBfMB5QEwBTQA2f4Z/wz57/np/Xb7z/yuArYEKwUOBLsCeQIJ/rv4gPkP/RP+5/9MBGwJhQkZBX8DSwEV/ND24/eN/eX+0/8HBoMK+AfMBKgA8f7d/W/1HfcVAtj/KP14B8QIMgM7ArD96/ws+/b0n/mMAZb94v1nBs0EuQFyAvcAg/4q/S78t/wLABYA1QAQBFUEvgQ9ByAEvv/UAWP+qPkp/Tj+WP3lAIkCBwMGBuABsPwW/pb5AfdK+6/7iv5XA1YC0wQNCUkCMf8vAaf87/so/sn+hAFgApsAuQPzA6r/7P75/JT7H/uy+8f8Iv3//pL/qf4TAJQCK//l/B3///7m/kX/GwD/AlEDdQBHA+wFOAIuAKYBAALv/80ADQElASMB3P7uAJ0AC//Q/1r/fv4+/s7+k/1C/mH9mfzc/uP9fP6B/6T+UP5Q/vn9Pv5k/8r/UwCmAZ4DRgKDAsMDMQHaAEwA3gATAfn+0f8rArn/wvwjAcr/4vwR/3L/1wDB/wT/iAHTATP/Z/+LAZ8CFgJ8AWQFJgUDAnoCIgMaAUb+vP3+/SL/avyA/SEC9f1F/cQAEP7c+jz71Pth+nP60v03AekB2QEGBTYGbwJJ/5wBzgGK+in9twTxAYQAswX9BrcCbf+W/xYB7PtT+Yn/kwAz/igBrQMLAnQBNf92AMcA9/wT/8z+QP7K/pv/2ACX/oD/sAG8/qP8+gEtABH7V/8DAcv/iP73/+gDb/+U/MsCEwEw/cj/Ff+6/1D/Mf1lAWEAq/zA/yEA5P+hAJX/uAKeAd/62AJABI34jgOzBUH/rgU8As8FHgQ6+hkARwPS+u38BAd4AvADfQXWAcYETPtA+Mj8WvjE+fL9Bv8YBb0F7/9uBD4CYPl6/A/9oPns/1oD/v8PBl4HdgIqAHr8nAFf/g/22/7FBVb90/qTB4IE//uX/igAOgMu/bj7kgZQBdn+dQIHBzkFE/6v/XUDufuW+cH+Nv5wAWUBVwMCCIEEmAGwAkH5OPbA/Jf1JvojB9cGMgzMETIM6wgX/oTvZu1I5uXmqvOf+CwFGhaFEV4N4g9F+1jrSuic42DsR/V0Aagb5CSMHigizxmVAvbyGOfx5M/oTOsw/b8RmhaVF8AYMRLe/2bva+n95B/hIep3/IQIABQ/HPseQhqJCwX/k/Lk5rzidudf8aYAFQ8QGKUeghoOEeMBJfE16GDg2+Ga773+iAx3G8gj+x52FBUHKPfK52vfMeMo7FL5BApmF2gftxwuE54HD/kV7CDlE+YG77X7nAcRFSId/hnbEQ8Iyvs977rmVebE7oz19f50DLYRDRB2CcwBY/lO7UbmN+kl7uX0Tf83CjgRHw6kCTQGMvxN8U7vavHp8lT5pQOkDb4O8Qy0DoMGCPlv9LXzLe9a7xv5WwL6BPcH9wzZCZUAnPpQ99DyTvBS9HX8ggGjBSgNsQ5DCooGagJz/Mb2/fZD+Dj5ef98A/EE8AiwBroBGwF7/Nb3+/eV+rn77vsGAq4F7gTFBAkHDAad/4H/dgBP/on8h//MA4cBdALxB9sG8wGdAlcBCf/l/dX97QJ4AqYCswayBsUELgPv/qP7+vx0+Zz5X/93AXoAdQLjBr4EDQA4/poB8/tr9+ABTgJQ/gMFywqDBcEEoAceBScBc/pjAKgBZ/hP/iwG0AF4AI0FCQZqBXT8N/xOAmv2pfQk/WH9yfq3/roBfAL4ATn6D/zu+470VvZL+6r9PQARAV4EfglJAzwCeAOS/d/7A/re+gT/jv08+9MCzgLJ/cUA3P4k/Mv35PTY+Vv6efbz/HIC+P5GAYQD4QEo/if7uvsy/Df8H/1tAMIBHQN3A7oC+wN3APH9T/7Y/Ij+XQCb/h0A7wOcAYYA6QLIAK//RP4d/FkAKQDJ+h7/5wE4/mf/8QBzA6sCgv1oAXsGrADK/vAEIQMZ/zz/4gC1AkL+KfuWAbAB3PuzAEwDVf+6/hf/QQBhAC//7AHvBDYE3AeuCpYIewmKCHYFUQOVANoAQAAc/Y4AtARkAu8C+wWqA+MAUf/U/Qb+svyd/TYBdgPbBFcGRAeKBpgEwgF3/5X9gf7K/wr/OgK3BtoESQL8Arr/c/r49Zv0B/ek+NH5H//DBcsEoAOvBd0CPP3J++v7fvkD+8z/QgK4A0UGqAhRCKIFjgVQBeL/Hvtz/IUBuAGoAa0JthEtDhkIjwyfCIz0Hudd6ofpxN1u4ajxT/P06iDwGPla7rTeTOGs6eDmouoi/0sOPRFNF08ghh97FI0KswaaABn68vqC/noAcgLmAnX/mPyO+b7xd+n66mLzi/RV9wMIuhbMFaEUnBz5HA4QLAetCfEHlgHJA1ELlw57DDELkAv2CI8BJvw0+lj3mPf9+gL/uwM1B+IHWQctBy0GZgK9/ZP8H/4e/6P/sAHQA4oDqwGfAkME8wFGAvkEDAV5BqYKTAsnCFsG3QQAArv8Z/pL/K75Jfd9/S0DFACL/6UCg/8s+D73Mv7+APACAhGnI2Iqeyx4MI0m2w289hTpFtlrxqHDZM6E0o3Qddhm3k3TicFzu+i/pMHlyqvmlwnrIzo5NEwWU1RMxDujKaIYcgpXAXn9VgCgBGQEvvxv8SrkTtNjxEm+HcPvzgnggvatDWsfhSq/MIsx4iz/JG0bFhN6DkMLLgtQD/QSVRPsDwsJFP8l8qHk691k3Zfe/OQb8J37kQWqDYQS/BPMEq4PBAtLBnUGewhjCfELHA/mDjIIuv409wHwaufK5E7qyO/p9J77vQPfCY0JsghmC4oKTAUOBFcGfAb2BNwF2AmECkAG3wMUA4j+evl0+Lf5JPrG+mP/WwW2BycIxglrCi8HzQEE/+gAJQJvAXQFVwyODioMTgmDBgICivw1+mD8Rf8/A5YHmAaaAwwGrwuSDWcNUhRtITInnCX7JjwdUfmK04XHIcUEt02x7sJjz0vKuNDt4DfYG72ms6i/tc+65iQKfS4CSQBa4GLuXklO0DHcDJnvX+Oa3/ncN+D16HPuUu5/657lotgVykLG8M5e4Hv4fhQKLkI/h0nGT85OMkGuKpoUHATw+u73bfjO+dz8PQEEAv/9N/c27xXmEt+C4LzrmvpxBs0R8R1BJUwksR0FFfkHUvmH8FPv4fFJ9jX+kQUuCnQNlAzBBYz9xvjK9GLxmfTJ/RAFSQcaCCEJegYGAO751PSO71PsHu/49N36oQBsBH8I3AxkD1kPcwypCL8FlAULCFcLPAq9BMAAXf2Y++/7X/qr9SbxvvEV+JX/7AUhDWERJBHAEaESww8GCRQDaQGjAN3+PgDrA9wB/fro+E/9JwHo/PP0kfLf9yMFHhTXHdMmwTdcSP5NclBPRaYTIMzqpriudK/Mocqw8tAC09nOJO0CACfejrgrwH7YPeUXAbkyVFb4YWxw/39XdIBNeRwm7gXP3sRpxODHpdf76Fnu4vFP+173vN30yzDS6eAI8lwPsDKNRxxQ7Vh+WMVCnyCoAHfk/tES0fDZ4+Rg8zIEzAxHC0QGGfzQ7J/hceKb7Hj71A14HvkoZi1jK+of9Q3b/EntMOFo3+XoefTA/XMIjhFLEkMLAAPY+ujxV+z27aP2bgF1ChYRthV+F4cTWwzxBQsAp/lS9bn2Hfpw/L3+HAG3Ac3+bPtQ+Or1tPUs+CD+7wQjCwcPABDaDowLZwc4Am39KPpI+Lf4PvxzArMHVgzYEWwTMw5GBtL/tfgT8kjxIvaT/SAGnA3pD8ANbwoFBLP5mPNM9jf65Ps/AJcHXg/wF64ejh9sHw8oJjI0MfEqUxmF6qG1xah5uxTCbbxuxvTYx9sM4Ijy1e2jx9WuAb1O3Jn/kShITHRhgmyUct9qK0/eIxrvpsRKt6y+dcg71ZHlFOxZ60fv8/Eg5VbR5c7U3w74yxSgNOlLilMeUTtIpzjbIPUAcODYzKbMsNda5r/4/ArZFEUWqhNeDHX/VvLJ7OfwZPwsDbYd0Ca6J68i6RcqBy/y/N1g0XbPj9bz47z0jgbIFBMcwh32GmoTWQgP/4f78f2TBOIM5hLBE6gQdwvnBc3+VvSs6m3lveDQ3Snk3e5K9KX4nAHUBioDHgE4BuEHuAMaB64Q9BJ8ETsU/hMsDo4JyQQz/qf6Bfnh9NnxbPMX9cHzovPZ9e71q/XU+Zj/hQN8CAgQRRZVGMEX1xWiEuENkwczAV38R/lU9772v/aG+O39qQJSAYL9af4nAXkCMwb7C5kRlBzVLNw3XDxPOLUZCeC2tCuzcL1YtZSuGr42zgTV/+f3+lTrJcpswufTxe1FEUo4VlPGY55zaXcvYBM5dA023N6yMqTpqaa1osaX2vHow/AY9tfyh+PL2D/fdPFlDAkwDlLMZV5o1Vx0RfklZwPc3sG91rC/vOPPFeBT8RQCJgtmCl4D0vqs9MTz8PlyBvYXqyrHNeM1MzBgJ0sXCADq6b3aL9J40ELYBOfK9UoCZwyqEOMNaAnwBToCIwGLBT0NthXoHSQg2xf3ChD/pvLm5f3de9t12x7ja/TlAvIFggUoBrIBmvpA+Ej4C/dY+zQIehLWFecYXhkKD4P+1fKW7JnpiO2c+CkEXwxQEqoU2RG2CST9APKZ7hbywvZC/KIFJxC5Fs8X0BR+DjsG8P1v95314vem+tH9RARlCUcGXv9c+hb2vPIK9cj9SAW/BhQH1gr4DnsPzAwfCroL2xGpHVQw2jawF5Pbiq4gqTC1eruGwcnP5d7R7swEXhFWApngsMdPxqTbgQBwKNtJLGDraA1hcUlWJaX2YsdgqAqi/bCRzt7uuQOjCuIJywPg9ujmuNwQ3e3opAHdJOJInF5cXcdKKTFfE+PxANREwi3BjM/T52YBqxNqGiAUtQS59HfqjOZ46aj2Cw1tJSk3aj8eP3kzpBq7+r7cksW3uXq9As5L4934ygwNGQsaHBZUEugMUgYrA8IGAQ91F6AdHB+jGGELrvzl7gbiRtiK19bgq+39+s8InxMGFk0OWALi+gT3efGZ7x73cgH0BuMK6A4MCln9JPV68JnqN+2D+9wIoBHUGjsgghyrFJQM7f9H82LwIvIM8y75awMnCP0HgQaFAfD84v6MA9wDawKVA5wDhgE7AnsEawIW/oX8/Px+/RD9t/23A0cMtQ/uDN8HOwAF9hrxLfjwBMYL/g0BFPIfrC3qLQsNWNCPn6SZ/bAqyIjYTuYd7Mnvj/5lCxD+WtwWxWzKAuzzHnBMpmE/Yw9dVUuqLSIO2+y4x52uBbMfy0TjMPZAAOr5LOln3qbbJ9uV4YH1qxPFM5hQZWJoYShP4DHRD/zwJ9xKz5nIFM3L23brDfaK/YYCFgOPArgEfAgkDQsVzx++KjU0fjdFL0AcKgR164nUgMTuv3nGmtPY4iDzzAPmEYEZ7BrtGdAYXhg+GeYaIxvQGYQXSBIiCIL6i+1L4yrcy9nX3M7j5+uF8lH3Yfty/7QCdATMBq8LexArEhUSKRCSCtIBQ/ly9Ofy8PP09l76n/70AvIDSQGt/oT94f3UAI4FcQqtDm4SKhPUDeQGUgIq/h77UP3AATQBvv6fAV0J5g7lDbsHyf4s+aX7bgFbAycCAAG7/6cAJgWsCb4J4AVfAwUDzwGc/ff1v+4n7j/1Tf0dAZ8D4AqJFXMccSA/ImMVY/DWxgm49MIF0sbh5PY5Auv4E+6l7RjnDNK8wnTIVN4AAVcrLkysV0JU0kZoLK4M9vIj4fvXE92j7bX8YQNAAeX1wuOG09LLM84T3c723RPkLaZCy013Sic78SRUDCv3Getw6OPrGfRS/msEuAJp/ML06uuY5fzmwu+A/OUMzh9LLuExoipFHP4JtPf06SDitt9948vr4PPh+ZH+jwEjAtwBTQPRBXEHHQqDEC4YVR12HsIaihImBg/3MehI3AfWoNb+3c3qJvmsA8oJPg2IC5oEH/0w+kP95wPfChMP5Q8FDsYJiAKB+rn0sfAh8EzzEvd4+kP/YAX/CMcISQYlBLsDQAVtCD4L9AyzC7sGiQHo/cX6OPjC+K38cQEdBRIHwQg2CnkJ5AZaBekF2AT7AIr95/qD+Gn46/pJ/Nr8hP/+ADb+0fqx+p35pPM67g/vNfMH9o36/AKgCNIGNQRSBuEHJAc3CnAQyxPzFXwVOAaq6r/Wgs/8yqnMbNrY5aLlB+cO78bwo+xv8Of5BALcEFcoCjoqP4U9TzPjG1QA1+ug3h3WjNVX3SPo9/I++vX6f/cP9sP50QAbC8kXjiNeKkIsAiurI6wV3gR49Z/p0uMh5vns/fPo+QT/6wEwAzUGsgk3DDUP9BIMFq4XzhdeFRUQhgiq/7/2eu+H6ubmceWY58Lrg/DN9sX+Oge1DpkTVxVbFJAQ8wrNBUwCkP9b/Y79t//XAHD/1PuW9lHx2u4f8Fz1Uv48B3wMRQ4hDnMKUAIJ+k71EvPt8oT3M/+EBCIGCgYbBEP/nvuY/WgCHAeIDZAVyBnNF7ISqAu3AZP3NvEX7x/w/fMX+Xr82v0J/vj8s/p2+P/3Y/p6/08FLgohDfsL+QVe/pf4SvRi8B/v9PGs9r760P0V/9j9vvsx++T8l/9EA1YGZAbSBCYENQNk/337JPvK+mb3u/af+8v+Bf46/zYCvwBo/DD8Svxm+DD3bPsv/Kb2kvT79ajyDu5x8X34H/pf+7UBdgZWBpkIAw6pD0kOkQ5GDnYKpQZAA9L7y/N98S7yQPLz88v3f/nx+I36vf2EAEMFgQwIEuQVXRpXHHAZbhTLD6oJkgLr/Yv7Gfpo+g38F/1Z/oIAKAHWAIgCWwSAAjcANQKhBPIDjQPSBMkDfgAZ/0b/GP+DAO8D1ARSArkAGgEhAXQBMwRVB38IWghAB6ME/wCJ/Zz6lvgQ92L1dvQo9nf6j/6HASwFgwmkDEwO2w4rDmkMpgkDBpEB2vyP+az4Tfl0+qr7yvwu/Rf8NPoX+Xn46vcL+VL8eQCxA58FuAZFBtgDOgC9+yX2C/FH7pTu6PFR91P9DAEoALf8cfng9tv1u/dR/GgBqwVhCZ0L6gldBDb9BPa58HLvWfK29yn97gD9ASYAHP2k+uT5Dvvz/F3/iAOxCOULQAxICmYF3v2M97D1XPZV9575rfwq/t7+3gAnA5AERwbAB3UHWwf+CUUN0Q0iCyQGIwC8+676Kvpw+Cb3m/Tf7qPqJexu8Pv0k/utA5wIKgryDJYP6Q07ClAIcAezBmwHvQlEC50J/wQw/4X5ZfT67wvviPOk+bb9DgF/BBgF6ALpAagDOQbgCZYQIRdEGeUWbxEyCf//Jfmc9d/0W/Yd+YT7+/wU/gf/IAD0AdQDpwRwBWUHCwnlCDsIgggMCbYIuAc0BpIDIgAC/eH66/nX+cf63vxt/0gBewEHALX92vs4+z781f2c/jL/kf/C/tz8F/s5+tL5ePlx+kD9FQDrAf0C5gLtAJH9R/pc9zD0a/EZ8fXz7/eR+z7++v6g/VP7NvrZ+u377fzk/sUBeQSeBtAHlgeIBdICOgFrAEL/xP3L/Pn77/qy+uH7n/0S/jH9LPwk+6v6Xvsf/Un/8QFlBWcIhwmWCG8GVAPz/439vvyl/QsAtQJdAwECAwCa/ZX6zvhD+rz9QwFgBMcGNwcABmoE8AKzAUEBEQIhAwYEFATNAdL96fqJ+pX7hv1h/yD/8Pyi+9n9cgLkB9cNCRKiEmQQvAzfByMCi/x1+OH27feS+mv86vxg/Kb6A/lW+Xr7hf0//xMC3wVbCY0MyQ7kDecJUAUPAZj8JPn89zv44Phl+n/8wPxk+qj3Rvbn9hf6DP9sA5YFygXpBP0DlANLA74ChAJkAwkFsga1B9gGLwNz/uf6TPho9u31tPbE9w/5q/vX/jMBFgPXBMEFtAUnBUgDJACP/VH9Bv9NAQAEsAUKBfoCIAEe/7n7jfci9PjykvS5+AD+RgKXBBEFdAQMAyoBjP8k/wkAbgFxA9oF0wYEBeYBO/+5/I36JPqD+4r85Pzx/f3+Nv41/EP7Hfvg+mb7OP1q/x8BfwOCBtcHCAZHArr++/vM+nr8LQFMBv4IFAn8BjEDjf4K+735yfnx+vz8zf5o/6n/IQAZAMj/y//a/wL/7/28/Ur+vf83As0E4wXfBXEFqANjAXUABwHeAbQC1wPLA/IBzP9k/rP87vox+nH5t/j/+MP6Hv2G/3wC+wSdBpwHbAc3BWECAQFoAP0ADwTAB/YHcQRNAFX8ufhI9/D49fp2+wj8Av35/ab/zQHcAvUCkwM2BPEDhgMcAzABQ/4G/TP9wPwF/Pv71fvT+zj+jQJEBvQHjAdeBVoCogBaAEUAeAAJAbgAPP+v/cb7cvkc+B35LPyw/5kCkQMMAo3/D/56/hEBAwWJB2IHDgaVBPMCyAGPAWUBAQC+/T/84vsZ/Ij81fx8/dH+Xv8g/8v/lwDy/73+yf4c/639+/t9+3r6LPmv+tH+dgIUBV8H0weJBf0C+AGJAQoCAATcBLQCgf/2/Cj60vcl+Mn5xPms+Jv4Y/mc+kf9JwGHBKYGaAeGBroEhAOkAoIBigGpAm0CfwD8/v39HPx1+uH6P/yq/DP9if4O/8z+hv8YAQoC3wJBBNoEyAM6Ah4B1f/X/iX/z/82/8/9GP3s/PP8/f2gAGgD2ARXBVQFDQUzBBUD1AKfAqABhQCc/8L+Lf7j/Qv+CP7d/NH7EfvX+av5IvuT/W4AeQOhBpkIdgiPB7wGMAWmA2IDtwMbAyIBBP8V/Sz7HPpT+jT7zftN/Er9xP62ALQCQgRrBTkGRQaRBfYEDwV7BWwF7ASXA44AWPwB+LP0UfMZ9MP2/vnq/GP/qQDYALsBwQNBBe4FxQZ6B94GdAUJBQAFVwPEAN/+Av1z+jP4JfcI92T3pfiu+3n/+wE4AxUElwTdA5kBIACyACgB7wCQAUcCKgGF/hv84Ppm+bL3G/jQ+c/7gf/NA0MGqQazBfkDAwIVAZ0CYgRiBFAEnAOTAM38QfrY+Lz3Gfe19wD5Pfqm+4D8uPwX/RH9vvw6/e7+WgD6/0f/Of8r/qn8Bf2z/v//rQChARYDqAO8A9YE2QXsBdMFRAUZBEEDswLHAYUAU/9I/j398Pwx/pD/5f+mAC4C/AJPA0MElAWgBmQHQAgBCcYIvgdnBrYEJgPmAQYB/gCQAQwCNwIJAlwByv8h/cr6hvmy+Or4e/p5/Bv+hP+OAdkDAAX1BIQEHQPfAH3/S//Y/1EAr/+M/pD95/vG+tz7tvw9/JL8gf1P/ev7JPyv/tv+Z/2q/wYB1v1//dsAXAH7/mD+SwBi/xL8Rf4lAuf/cP76ANEARv/U/+4AbgA0/uz9e/4M/K37J/5+/HL6o/y0/ej9FQFSBWgHdAbtBf4FdAJEAF0D8gOeARACxADs+jP2M/X89C7zMvN59iH30PZl+0T/wP71/qj/Wv7G/RYAGgO2A6kDSAU6BGEANQB6AZ//uf4lATgDEgM6A1AFLgbFBK0EJQUABEgEEgYtBtIFiQUGA8X/uP4Q/2H+WP1u/uL/d/+QAFkEnwZOBzcJ3AqHCnEJ8QiTCLQGagR1AxUCHgDE/7z/m/4V/lf+Hv5A/Tj8xvs8+2X6EPtF/Cz85vuc+9z64fqH++f7efyU/eD+Wv9q/x0BfAI+AT8B4gO3BHID8wNWBX8DLgDp/87/tPwr+w38pfot+Dj4BPlO+FT4EPvv/GL84/1/APv/mP+aAY4CeQKGA70EcARHA0wD1wJrAAgAXQC5/LP6Ff3H+3z3xfdi+Uz29fJZ9X73SvMC8c/0XPU689b2fPtU/Nn+tgNMBmEHbQrbDJcL8AucD7cO/ArWDG8Ofwp3CJoJtAeNA6wCHwT+AmQBhwLnAJL8Ev2Y/SD6MPvM/xr/9fvd/Y4Bc/9R/CYBvARI/5v+FwUxBRcCxgS7B0EFVwKjA94D9v+FAJwEPgKs/68BjP6i97T2KPnV+Nv3r/oK/oP84ft5/2X/8fyq/hMA9f4SAOsCuwMQA58EyAaVBKgCUwWnBWkDdgUcCKgGaQWjBqMG3wN0AvoCLwBB/J386PyM+r36zfw3/AL6mfkG+0j75Pqw/C7+Z/2n/UP/6ACpAyUGoAVQAxYCvAF3AOoAtgXeCJUGJQT1Amv/VPuU+jj8svxe+zL64viq9kH0XPDY6zbquuiv5Ajj7+Ux6EDoAOsX8Qf0YfOB9p38BQBIAxUJfA26DpkPPRHsEaMRNBI9En4QqQ+ZD+ENdgyJDPQLagpLCc0IxAczBsAFoQV8A5wA6f5K/s7+lv8TAJYA1v/H/Sr9Zv6z/7QAVwKpBM4FowWOBhEIEwj6B6cIRAi2BnYFBQRiAR3/WP4L/Yb6BPpU+0n6CPja+EX6yvcq9UL2jPaI84byMfU39qr0O/Vv9wD3Mvan+Pb68Pql/GAAjALPA2IGaQjfB48HKQl8CeoHogekB1EFHwNYA6gDegK9ARACPQGl/9r/dQC9/y8AaAIyA2kCWwN/BYkF3ATMBkQIYgXFATgBQQHb/4P/PQFKApIBMgFyAUMBwAARACr/cv4g/tX9Ef3Y/Aj/UAEUAI790f50AksCBwCSA3cHywC1+tcCYAqyAtT6OP4k/M7t4em59Lbym+LM3+flNN+D16vftedi4xnjXe3r8IntCfVjAdYDDQcuElQVzg9eEzwd6B1EGugcxRyqE3YPlRToFPUOKg0dDOMFlQJaBYwEjf///iEAEPy9+Hr7/fv+9hb2OPoF+r72cPjj+4j7YvxbAS4EUgOLBJ0H9gfqBzMKSQpPByIHagngCPIGsQb0BLcAA/+bAHAAfP5N/pX9pfre+cr7qfsV+kf6Ivo7+BD45Pmc+Qv43/i1+fL33feR+v76vPm7+wT/bP/u/20DwQUeBcIF6AekB4wGrQfgB/kEVwKdAeH/1f0H/80ACv/5/Lr9c/5Y/tT/lAHDACj/NQCuAukDwAUfCOcGFAT+BGcHDwfEBTAGNQaQA6UBqwOeBcMDpwHKAXEBMv+f/bb+KQBTACcBPAJhAW0B/gTpB34HRQdQBuH+3fbk+o8EzgMb/cz7vfe56ZzhD+kg7SLiEtpn3YDcl9bu2q/luujy59LsHvKu8Uvzi/v6Al8JkRJrFgUSRRFvFxUcUx6eIWYhphm7El0UnxdRFlEU1RA0CdgDigNDAj3/bP6Q/Tn5N/aC+F/5fPUx9YX5v/mu9gL3+fiu+Db5aP3lAD0Afv/6AJgCxAWZCusLrwnNCCcJpQjsCNoLxw0pCn0FmQX1BfUC0AFkA2oCXv77+gT6TvlA9w/3b/np+Ur4WvfB9n72EPcS+A76t/t0+6z7YfxW+wT74vxz/v3+m/+gAOgABgBhAaEFJQcqBlIH1AdvBW8E2AXvBdkDkAJWA80CRgC8/5oARACJAG8B2ADq/23/bv83AfkDRQUmBI0CUAQ2CKUJJwkLCBgFIALhAX0EggjjCDoETABU/+r/tAEHA6QDkATnAub+8P2/AmMKgw3aCkcKygdN+qDwsPm4BakCjfiY8wHtOt9o2yDpqO8g5MzZ5tVd0B7Q89od5izpbukd67bpmeh48jYABQawC88T1hLGDI4PRhkoIB8jTSTeH/gV3xGtFkMazhqPGuwT1QinA9cEVAV+AywCBwAB+hX16fXH9mv1f/ZH+Gb33/Ur9VT12fYb+nD+gQCv/7//lgDoASEHew3kDqUMaArfCA4IygjbC+INJAsoBwkFZgL4/9T/9f/x/mX9w/uL+ij5Bfif+F/5vPjf9+T2WvXr82vzqfVt+WX60vkO+5X7Xvpd+37/GwNvA+EC6wQ7B50HOwmdC2MLPQoGCjkKjwr0CZIIEQePBBQD1wOXAjn/t/31/K/7ivv1/L/+p/7V/YH/GQGmAKkBsAIqAWcBnAQZB74HBgewBVQEOQMkBGcGwwdJCLIGEAO/AaQCWgJXAmADWQQGBdEC5/04/QUEVgr6CLAGkQeP/k7tFO4jAXsH4Pt280vuad9F1E/gPfE77RLgKdoS1N7P59lY6Bbsreud7lHtmuj1724BBwqdDP8VHxrlD30KhhQ0H78isCVdJSsaFA5NDzwXdhoTGy0YRwzX/4f9HQBnAAQBUAEs+0vy+u+88XDwVPBM9eX3JfX786L1xfWa9tn7dgHsAqYCIAPcAmkDegj4DQQO6wuZC5gKkAg1CXYMbQ0fCgoHPQbtA9AArADNAB3/S/4R/r38APtF+jf6PPjc9b33vPmd9lH0Vvaw90j3cPgP/EX+uvsH+sD9DAF5AfACVQXuBgsHGgbrBnsIpAfJBpEHTQhyCLgGQwTWAzEDXAHFADUA9f15+7L65/yB/y3/l/75/hH+2/2/ALkElgZ6BbMEnwY2CEwI6QihCbAJ7QhABxsHDwkPCXsGZwXNBiAHlwSLAs8C4AI6Aq4BOgC3/9ICRgVFBD0FHgaq+xLstuzD+qD+yvbt8cTqh9gVzvTa2+lB5uzczdjO0erMMNft5tXsMe6I8SnwIuwj804CwAoaECYagB29FYsSzhjJHYMgyCWZJskc8xJ3EiEUihNXFVkU4AmC//f9x/70/M/8wf1V+XDySvFo8qnvxu5K8zf21fWE91367/n7+I38bwFqA8QFQAk+CcIHJAqODWcOHw+sEKwPBwzxCr4Migz/ClULegp5BsUC2v+a/ET7sfwt/aD63Pf59ZzypPCO9Nz4OvcX9BP0WPT58zn3wv3JAPv+KP55/2oAHANnCNMLrAvLClkKAgm+BxEJ+Ar3CSEIkwfTBdgCpQEAAm8BmP/2/Vr8DPoh+bX6yPuV+2f8ff0+/Uf9H/8zAQ8CSAM1BqoI9ghiCMMHCgcPBzIIjgnyCasIbwbhBL0ETwUYBpoGrwXGA9cCvgHF/sz9bwFmBHIDbAOFAxf7bu547XL2gfgj9Ijzou6h3anRGNg04WLf/Nyq3vrYxM/B06PgOOh27rf3oPmk8+70lf8qCN0P5BzSJPAeOhi4Gjkeex9hJHgoDCMSGZUTEBFiDkAOLQ/zClMDHf7T+cb0TvO/9eT22fUC9VTztO+37RHwNvRE94j5yvpb+rf6If7TAogGBAmRCpMLagxTDcsOnRC+EVsS1hIaEsMP7AxqCuMH1wX0BXIG2wKN/I/4tPXS8ePwCPQ+9Q/yQ+9W7zPvUe+782H5sfqJ+jf87/yU/SACsQdVCRQJwgrNC7YJnwl2DY8Owwv+CvkKWAeUA3cD3wO2Aar/+f7s+1z3gPd5+2r9sf1s/rD9dfty+7j+8QEoA1IEtwWJBXMFPAedCB4IOgcZB4wHrwcEB9cFaARcAzsDrAPVBLsFQwQQAnkB1QAOALQCJQjiCi4JcgUh/qHxjunj7uz3X/hy8wPsxtzLy2zJ69Ty3BTc7tmB1WvMH8rC1CPhUekb8q34oPel9h/+gAjHEPobMCiLKp0knSEoIu8hWyTwKZcq8CMFHBAV9Q0oCr0KSgneAx//1/op9Kbux+3z7QTtV+6y8fzxmO8275Dw1PJu+NP/dQRdBoYHWAeOBvgIIw8+FIQWRxg9GIEU+RCaENQRkRNRFG0RKQuIBSACmv56+y77U/oB9SLwI/Bf8Mvt8OwN8IbyHvLX8hz2hPiD+RP8aADKBNIIfgtlDBQNQA7oDuYOig+8ENgPdgzkCUUIMgXBARwAdP8s/gP85vlG+L32aPaM90r4Xvgz+Mb3oPjP+63/MwJVA5QEhQb0BxUJqgrRC1MMAw3RDacNrAvOCCAHLwcWCNAIQgh/BtAEEwSgA/4CqAMVBkUHhwWrA6QAL/dk67To5u4c8gLvCOt94zzTt8R2xY7OWdKl0szTTNHXy+rMSNZi4L7pSfSH+1f9ggFDCnMQERaGIT4sIS0cKtQqEiojJV4kQim/KfgjPh/xGc0PnQdEBtgEwf/z+5T4kPAl6KLmquiu6Czqze6G8AzvXfAB9AP20vjK/yAHSgupDkcSbxNUE6UV/RhNGo4ahhpqGAkVsxJNECsLRwXtAWr/UPtq9yz1u/Gs7O3pTevM7ZjuvO5b75nvPPDz8xD6GQBFBf0IdgoxCrIKJQ0GEMQSUBaYGIEW0BHsDX8LXwmZB4UGZgTj/9n6p/dk9lb2NfZD9d7zTvIg8b7wq/EU9Of2x/mR/R4BNALQAdECoAVyCGcLKQ8IEcUOHgxgDe8PuRA/EawRww9VDE8KFQnmB64JMg5pD+QLEgi5AGLx8uQr5z3vvO/T62zoht10yXm9JMKKyWPLIs5N0VjODMqIzV/W4t6+6ab2M/44AdQHyw9GEwcYgSJeK+IsjSykLaIquyO8H8kerBynGqwZaRXfDOMEyv4/+M3zOPRQ9SDynO2c6yzq6ujK6qzv4vOt9tP5EP1//6gCOwdvC/cOoBNmGD0aURnDF4oWtxT1EsUS1RJEEKcKgwTQ/yv8A/k094P2RvWS8sbvrO127AXtb++W8sb1L/lK+037Vvv+/dsBaARLB3ULSw7lDosP9BByEaYQUhCHEM4Pmw74DO0JMwZfAz0B0v7P/In7KfpZ+Dv3WPft9+74Pvrr+pT6kfq2+1T9Uf83Aj0FbAZzBSEFyAZQCAsJxwpMDZoOQQ+REOUQdw+ED/gQOA9aC7UJPgUj+fTuz+8t8jjsuua15RjdJMuEwZrFC8hVxrbLftQj1e3Sq9ii4Gnk+OvC+W0DBAcSDqkWTxjfGEsg3SfiJzsmriewJZoeHRpOGccWIROPEb8OuQewAEn7HPXW7wjvmfC/7wXu3+0p7arrk+xC8KPzwPZJ+7z/tQL7BccKVw5RD5UQ4RMbF4wYqxniGpMZvRR0D3AMrgqGCFIG1gPV/5z66vVT8iXwNPBU8XHxvvA68RjyzfFH8g31pfhr+1b+9AHdBCIHfQkxCxwMkA16D0QQZxBDETMRyg4mDEQLuQoFCYYHIwYFA8T+V/wz/Dv8HPyZ/An9yvtd+ev3E/gJ+bv60P0CAq8FYAfYB/UIXAsJDuUP8hCtET0SEBIHEdQPYg7lCa4AVfdH8xnyoO2/5+HkAuDg0yzIWMY0yY3IvMnG0WnY1dct2Gjf3uYv7M71JwN2DDARGxe7HFke8B/lJEApKym7J6smFiOrHXUZyRbpE9APtQoxBIv9Tfj58+3w4O8x8LnvCe7B7FXs4+3e8R72MPn2+5T+7f6E/kICawnzDYoOkw8FEUwPlgxlDQsQ8Q+qDf0Lmgm4BVgDIQM/AmUA9/9n/8L7Qvja+Kb6ifkC+Db5yvmh9+j2J/qR/ZD+vP/7AQcDBQNKBFwGmAfLCH4K3QqaCRIJkgkkCesHwwe6B2oFGwLVANgB7gKQAxEFZwZoBaQC7ABCAf4BrwJHBBgGbgbVBZsFFQWKBKAFbAdWBnsCtf+4/Mr1j+7P7UPw4OzX5Q/j/+BL2CfPI9AW1v/VCdT32DrfDd9z3/DnNvHr9Hv5CQO+CosNpxLTGiQe5xxyHi0ihCEZHhYeGR87G3IUkxBuDtwJ0QQdA1EDSQFr/aT6lvj69Sf0DPUt9xX4+/gJ+yb8mftM/Hv/OwI9A3sFuQkHDAQLGAriCi8LIQq+Ce0K4AsVCyQJewfcBlYGqQSnAugBzAFPAGL+jf4JANT/W/00+4X6zfnd+HT5nPsl/df82PuA+6v7+Puh/Oj9yP+fAZAC2gJ8A58ESAUWBQsFywWXBnEGGQbtBiYIVgjVBzMIowmeCsAKawvMDKUNdg0LDUUNZQ18DEYKUQebBHcBS/1J+cf2VfRG79jo4OPw313bVNe/1UDVnNMu0krTltUV11bZEd5Z44/nq+zg8zL6BP5FAjMINg1UEBoUCBmLG38aTBnyGREaTxg7F6AXbhZgEjoO4wttCcIF8wLEAQcAH/1i+0375vqm+cT5vPvk/Lv8uf1QAMQBiwGqAvYFKwhgCOAJEw1HDkwMiwrTCpYKfAhoB5EI0Qh6BgEENgM3Av//pv4S/wH/vf1H/Rv+u/68/kL/TQBkAGb/Kv/s/xIAvv9nAL8BHAKSAdABUAMTBI0DrgPlBEkF8QPBAhQDgQPPAnICYgMXBEwDHwLnAQACNwEzACAASgDl/1f/Wf9B/23+uP10/fH8vPuL+sv5sfj59qj17PRe887wxe6n7XDsTetg613sm+wc7ErsSe1n7hbwHPOB9hb5e/pq+778EP5Q/0wBBAQpBgsHbQcbCIsIAAi9B9cI2wltCW4IOwg+CCwHtQVWBVgFrwQlBE0ERwQ6Ax4C5wHvARQC+gJOBAIFhAXJBlYITwnMCZIKbAtFC44KggqzCkcKewnlCDYIvwaFBDkChQB1/9z+qf5i/on9S/wf+076wvnW+eb6Yvxx/aT9cP3J/cX+ff9eAFECVwRCBTQF3ASGBOgDWQPZAxIFYQUbBHsCngENAaz/AP6q/cv9afwm+hn5Yvlp+db4+PgB+sD6PfvU+zn8bfzw/BX+N/+s/6r/0P+4/yP/E/9y/2z/kP5E/U/8fvtQ+hf51Pjz+Hz4vvca97X2P/at9X/11/Uu9n32UPeC+LP5s/p5+7j7jvvG+7r8Bf73/tz/GgERAiMC3AGJAiUEZAXkBW4GSwevBy4HpQbhBlAHHgcQByYIXwmFCR0JAQnNCBYIrgdoCF0JIAlrCCUIfgcrBqcFygZCB4AFkQODA88DawIIAYUBvgLsAZn/qf90ATEB0P66/Tn/ggBS/+H9Hf+GAO7/Df8i/5//O/9u/kP+q/6u/uL+yv87/77+EADdAOX/7f6p/3YAff+Y/er9B/9U/ZX7Dfx+/av9M/xy+wr8B/zo+gr7r/t0+z/7P/vf+yb8S/vH+s37e/zC+6P76vv6++D7qPsm/K/8Wfwh/Cz9gv1E/On7lPwy/YH9Dv4g/0//wf7P/n7/lP9T/8P/AwAOAEEAfAAGAC//xP/TAOgALQAYADUBGgIuAqIBwwGRAi4DlwOdA0wEggXcBfAF2AYyBykG7gXCBrsGpAUwBWMG9waeBQ4FvQVzBVkEOgQMBZ8EvgLtAcYC9gJWAi8CzwFZAZUAq//a/xMA3//CAPQBdQHQAAsBFwGDAf8B7AHWAVsBfwEIAxkDGQG8AF4CuAKPAYMA2QBrAbD/Tv7X/nr+d/zl+kX9WP9r+8j3mfmR/OD7E/k0+Pr6ivzO+Sr5U/os+l/7pPxV/PD8a/3R/IP94v1W/T3+rv7U/ZP+Mf/6/e78h/z2/Dj9Q/yP+0f8wPzX+xb83PyN/If8Sf2n/sX+6/2x/q8A5ABo//wAmQNdA/UCQwNEBXEG9QMsA10EFgTpA2MEewOtAgQDagLqAawA0v+PAawBbQB6/8D++f6v/+//1/7Z/sn/BAHvAR8BZ/+U/50C/gIuArUCBANZBJYEfQMrBE4DlwCpAsYE4wHg/7UAHQINArX/w/1Q/lX/8P72/QD9s/36/tf+iv7b/T7/jwDX/6QBBwOaAfEBywM0A5ECrAIuAroDDwQ0Ai8C0gHrAKAAzv9h/hf9Rv2q/XL8qPnW+IP6qvps+Ur4APqG/H379/m2+rr87/2Q/lv/5f/eAKQCKgMZAmAByQHbA3AE4AEWAfUERQVLAOj+UQHkAWn9avpi/dX/G/x++cL8c/1i+2j6VfsX/TH9xfyi/oIAIP/P/nEAOAFvAvwCqgIlBfwGogStBEAGDwVeBWcGOAU6BM4EoQSmA7wBaQAnAogB3P0y/loBkP8y+0j74f2q/gT8F/pu/Qv+DvsJ/eb+pvxJ/BT/IwFnAM/9jf6xA84DmP+H/zYB4wFwAcUAQgBPAeUC2wCA/27/a/9KAI//rf1//ZwAlQGK/b/78/7NAeUBSgAQ/1UC0AS9AtkBIwKQA1wFQASGAjkDYANAA0IDpAAYAIwBr/9B/fP9z/6t/Yz8Hvug/Cn/W/oG+K38nvzv+8r+Vv11/PT/KQAa/oz+Ov/FANoDpAFK/uv/QALlAXb/uv4nAEUDbwMv//v+OQEIAaX+2/7JAK7/qwGnAuL/UgCQAUYBLwI7Ao4APwIgBJ0B1P/9APUALgDEAOcAJgBKAHoAhP7P/aj+Yv2A/q3/s/5d/3H+K/38/uoAYP33+x4BgQFn//X/TwEtAt0AbwH1AOb+oP+kAJACSAF1/jEA7wFiAL/9wv0z/nv+awH4AOX9Ivwl/g4CMP3n+Cf9zAIsBLv+S/x3Aa8DQv7s/skCjv/rAhQGjgPRARkAxQNaBW4AMP0oA3IH0gGG/q0A9QJB/wP97P2y/cD/jv0d/SYAQ/wt+8L/pfxV+nf/5f85ABcADv+iAeD/rP2iAPwCNAE8AYsCYgNNA4X+hf4IAroAVf83/6r/wwB+/8r7T/0OAO/8b/0OATT/Nv1pAJ8ALf4o/1IBwwK2AFv/mwEiBswEWvx1AQ4IfwHh/zwC2wGYAr4DiAAf/3IB0/9MAA4A/vn/+1wEPQDl+GP80QAk/3X7Wft6/F3/LP9M+3P+c/8z/dn+v//g/aj9ygCMAacBxQCw/3oBbQK1AIL+tAHeBCMC1QBwA4oDuwDBADEAIf+vAj4CDP9HAv8Bb/6d/3f/5v2Q/pz/YAF/Akv/yv6kAd//V/7QAL0BCAAEAUYCEwKQ/6b9iQAu/3P+NwBrAOkA8P6t/jL/bf37+bz8xwE6/nX87f5eAWH/r/v3/PD+4f/4/gYAdwG2ACMBAgB2/mb/6wELAvwAxgHTAU4CYgL0AEEA7//YAAgCcAEtAeYBiwGgAIr/8v3A/0wBb/+4/0gAGgJMAr39Y/7hAKH/jf+e/4gAvwKYAEn+7f+FAHv/lACXAe/9MwC+A83+JP5J/v3+8AEl/0j9q/+YAVz/Zf9b/w38c//OAHj+l/0I/RwB+gFo/Qr9af9BAPAAkv1c/J8CYAKw/hz/SQH8AZX/qv/jACADJAIj/90BuwKbAJUA8AJoAe//QwMbAm0AhADYACMCdgBd/dD+1wKeACP+Of9b/yD/zf7J/pn9//0aAGcAP/42/an/LAAU/439SP8HAjH/of+MAAn/tQAJ/279gQE8Auz9Pv4gAeT/Af93/lb+DwADAJr/qv/Y/5b/bP9BAIP/V/+vAEIBKQGBAfAAFgAfAX4AXQAiAUsBAwIvAOMABAOzAKP+ev9QAWEB5gA+AJ8AcQK8AND+gP8LAJEAkQH4/yf+XQFSAV/+Dv8B/wEAAAAZ/CH+6QHd/sr9KP0B/XwCI/+d+fH+DQHm/6D/+fwS/+YCdgBf/r/++v/TA0cDsv8DACcBRgM7BHP/hP2+AqME3QL+/+j9tgIBBG3/Rv6m/lcBGAEb/ukAwgDd/fv+vwBcAJT9Fv1DAJwC1P/m/cr/iwCMABf/Kf9YAD8ATAFSAR3/nf5iAAUATP+N/7P+JQCJAeL9/Px1AKv/cf6M/vD9HQG+AWX9Qf3z/4j/ZP//AAf/Tf+2AfgA/ADF/S79cwL7At//f/7oAD8D3QEJ/9D9W/+7AXkCHAA8/8gBHAJzAE7/lP74/5oBgQDeAKMB5P/Z/1wArP/L/un+o/9rAOsAsP/g/sj+CP/+/mX+0f3m/pwA3P8I/xf/DgBa/6T+rP/J/+3/6/8nAbcBOwAMALUBSQCD/osBSAKJAC8AAQEJAq8Bov+G/iQBFQLw/y7/PACEASABNQBf/wT/ZwCnAFQASQA0/+YAeQL+/7L+hf9LAG4Akf/F/rQAKgJE/zD/QQCx/j3+sf7xAHYB0P6F/r8B1QBb/Vb+lP9JAXUAh/4bAbsBBv/8/ksAO/7R/sAAwQCvAPr+FgBQAE/+Mf5v/tsAPAHq/dL/iwMsAJn94f6Z/34BnQCs/+gBVAKdAXUAbv8T/5sACwLvAFYAUAHPAZn/+P7O/9j+cf4j/5wA0wDX/gX+Xv+A/g79+/39/gf/F/8oAOf/BP89/qz+WADg/p7+TQH7AIoAbAHWALf/gf5vAGYCGADZ/hYBYgPfAD7+vf9ZAB0A3f/j/xUAdACjATIBGf+L/cYA+wEP/jP/rgH2AgECpP7h/6YB3f9T/0QBDwGuAasCLgBeAVcBM/4FADkASP/xAbIBlf8RAW4AYP4O/4L8Nf4SAzj/Qv07AcQAIv/P/m77hP14Adn+0P+mAeP+BAECAnz8OP7LAPn+yAHZAXcAUgN3Adv+PQE5/x7+CwJWAdkAcwLNAC0AQAA2/lj+bf+1/s4AUwKa/yD/JQDE/8P+Sv2R/aIAGAITANv/JwC+/2gA5v5H/Tj/WAE6AZ8ADwAVADwAyv92/7L+/v7iABYCLAFe/5f/dQALAGD+i/7CAL4A6ACgAJb/tP8v//n+Av/1/rz/KQFCAJL/AQEk//L9FP/V/l4A3gBp/9MACwL1/0L+af/Y/5IAKgFXAJIBsQETAbsAcf/V/rf/zgHBAY4AGgAJAdsBnP4l/YH/NwB2/+v/6QDY/6v/lv+D/pD+Ff4Z/+UA4ADh/0QAuwDh/s3+TQDF/9/+pgA3ArsBbQAT/6MAEAG1/jL/LQFIAaIBcgFy/xkAAgDl/sn/+/5j/00BOwHI/1r/Yf+Z/r7+Bv9E/0j/5/8WAa0AvP+7/tz+KADq/0f/CgAkAcgBWgHC/43/dABGAEEAIABxAKYBdQFaAGMAOwAO/7H/PQDS/8D/EQAxAez/hv68/3H/jv4Y/0P/FwBmACn/YgDIANn+o/8rAGX/PQD9AIMAUgAQAfoBmgA7/msA9wGJ/yH/2gD4AZYADv/u/0AABP/c/hEA+f/v/uX/DAF0/wT+fv9+/9z9Uf/l/4//+//A/24Ae/+a/pH/0P/W/8r/MgAaAYMB5AANAPv/9/+GANn/Kf+KAbYBIQB5AAIBdgAg//L+iP/+/2EAHACcAGcBHACW/+j/hP4T/1sBWAB0/zEBkQG1Adv/ov2n/1UBzQCf//T/pgGgAvQA3f2N/lYAlADN/6/+0ACjATAAKgD5/YX9zf8DAHL/5v4iAIgBaQDQ/p3+Mf97/xgADgAMADsBawGVALT/IP91//3/DgBsAEUBlQAgACgBnf81/l//sP8GAGYAXAD8AIgAhP9n/2T/yP5Y/94ApABmALEAEQG///P9w/8pABb/PQANAW8B/wD1/uv+DwBg/1T/3v8/AIEBUgHc/0n/u/42/zwAev9k/9QAsAEcAWb/hv5k/xsA5P+b//D/JQG0AWcADf8E/2b/wv8CAFMAZQB8AB8BdQAA/7P+hv8VAPb/dQDEANEAyABGAIz/xP51/zUAEgCKALoAXQCHADQA8v74/oD/rf8pAEkAiADZAG0AlP87/zb/gv8HAPP/QwDVANAAbgBR//b+6f/q/1D/pv/YAGwBbACb/6H/hf+J/7z/0v8zAAcBPgF5ALj/if/d/6n/eP8KAGcA4wDwACAAd/9p/5n/fP+F/9L/VgDbAHEAAADO/zT/m/+o/0r/RwC2AIoAaQANANb/1v/b/6H/uv/w/5MA6wAAAPj/MADa/7D/O/96/0oAcgD8//X/NwDf/8//p/9C/4b/DgCuAIAApf87AO0A8P9E/9P/bAB9ACgACwDfAOAAev+i/2AAt/9Z/wIAfAD//7z/DAAIAM//Vv+C/xQA1//M/yEAIQDp//P/HADU/8v/WgBcAJ7/sP9PADIAEADo/8j/JAABAJ//2P/i/6n/HwBDAIX/lf89AEEAuP9n//v/lQB8APP/xf9HACQA5P9OAFAAMgBmAKoAXgC4//P/eQBEAMb/9f9qAE0A9P/K//L/8//H/xQATADv//j/JwC8/5T/xP8UAD0A3P/w/1MAGgCQ/5f/EgD6/8D/BgA1AOP/sf/9/97/jf+7/xYANQD+//L/IwAAAKz/zP8oAA8Avv8/ALwA7v9l/+//bAASAJH/5P9ZAHgAKgDr/wIA9/9EAFQAy/+6/0wAzQAbAHL/SQDCAAAAk/8TAFMADQDd//n/RAD9/+D/IwDB/33/+P8WAG//pf9hAB0Ar/+a/+7/KQCz/67/JgBaACMA8v8nAPD/of/3/yAAu/++/1UAYgD6/7v/lv+u//L/w/+s//X/AwAjAAsAtP+//y4ANQDC/+3/NgBOAFAAAAAOAEYASAAZAAsASAAcABwAUwALAOP/AgANANn/3f/2/+//FwD4/+f/9//E/7r/5f/4/+f/JwBlACsACQDq/+j/GgDw/+3/NgBbADQA7P/6////6f/O/9D/DAAiABYAvP+Z/9v/xv/d//L/3/87AEUA6f+w/8H/AwAhAA0A7f9SAIEADwDR/83/KQBBAAsAKQAnADIAJwDQ/6b/1P8fAC4AIQDz/woAPQC7/4H/y/8AACsACgAOAD8AFQDb/+D/4/+//+n/NwBEACcA+v8jADIA0P/k/zoAKgABABwARAAfAP3/EgAWAPb/9P8cADwAGADb//T/CQDe/9f/+P8DAPL/9f8RABMA6//T//X/AQDm/+n/FwAOAOL//v8UAOT/v//w/wwA3v/l//7/6f/v/9X/pf/M/8v/rf/h/+P/w//s/xAA8v+2/7P/AQA1AAsA9f8eAE0ANwAIAB0ACwD4/zEAQQAbABwAWwBRAAAA5f8DACgAEgAJABsAKgAhAOr/9v/2/93/IwBDAA8AFgBGABQA0f/j/wkAJQAQAAIAOQAzAOv/2//l/9f/6f8QAAkA+v8HABAA7f+3/8b/+P8AAPP/6f8CABwA9v/b/+v/6f/6/yIAEwD+/wMABAAOAPn/4P8FACkAFgD4/wQAEQD///j//f8DAB0AMgAcAPT/4f/9/xIA9v/i//b/GAAUAOf/4//+//f/5f/i/+z/BQADAPf/+v/r//H/EgAOAO//8v8UACQADQDz/wQAFQACAPr/CQASAAkACgD4/+D/8v////7//f/2/wgAJQAYAPb/7v/6/wMADAAaABYACwAWABgAAQDw//j/CAD///j/CQAIAPL/y//C/+r/5//Z/+//9f/y/+3/4//h/+L/4f/w/wwAGwAmABkA+v/o//X/FgAJAAAAIgAoABMAAAD3/+7/2v/U//z/FQAFABQAGAD0/+j/+P/5//T/EgApAB4AEgAJAAoACgAGAAMAFgAtACAABwD6/wYABgD0//7/CwAhAB8AAgAAAPr/9v/9/wAA/P/+/xMAEQACAPL/9/8LAP7/5v/e/wMAEADq/+3/8P/4/wUA9//o/+T/+/8OAPn/5/8BACQAGwD4/+D/9/8GAPr/+v/8/w4AHgARAAAA7//6/wsABwD8//v/GQAtABQA9f8AABkAFwAPABAAIQAkABUAEAAAAPf/AAAAAP//9////xMA+P/J/8P/0v/g/+H/3P/o//L/7f/e/8n/v//F/9f/5v/p//z/GAAGAN7/zv/V/+b/5v/n//X/8/8IABcA9P/k/+b/8P/8//H/BwAwACkAFQAOABYAIwASAAsAGgAoAEsASAAkAB0AFQAeACkAEAARACcALgAeAAAA/f8GAAIA/P/z/wIAJwAhAAAA9P/y//n/9//w//X/+f8VACIAAADx//H/8v/o/9f/5v8BAAoAAADr/+P/6//x/+z/6P/u/xAAMQAbAP3//v8GAAUA7//l/wYAKQArAB4ADQAKAA0A/f/v//X/EAAxADAAGAANABIADAD2/+3/+f8SACoAJgAOAAIAAQD3/+D/1P/l/wMAEgAKAAEA+P/n/97/1f/M/+H/AQAMAAgA8//g/+b/5P/e/+D/8/8ZACAABgD9//j/9f/p/9r/7v8HABYAJAATAAAAAAD2/+L/1//g/wMAGgAfACEAEAAHAP3/7f/y//X/DAAoABcABwADAPb/6P/f/+D/8v8BAAgAAADu/+r/7P/l/9z/3P/6/xgACwAFABAABAD4/+z/5v/y/wMAHAAgABAAFQAeAAcA7P/t/wcAIwAeABQAHwAkABQA/v/1/wEAFAAjACUAGwAiACsAHAD//+j/9v8QABYAEgAXACEAHwAIAOr/3v/p//r/+//2//3/AwAAAOv/1v/W/+D/7//0//H/9v/8/+7/2v/R/9P/5v/5//3/AAACAAIA///g/8X/y//o/wUADQAOACYANAAjAAYA9P///xUAGQAbACUANAA9ACcABAD9/w4AIQAiABkAJQA6AC0ADwDx/+n/AQAMAAIAAAARAB0ACQDi/8z/3f/p/+j/6v/x/wYACQDy/9r/x//O/9//2f/O/9n/8//4/9b/uP+//8//1v/b/+j/BAATAA4A+v/Y/9P/7f8BAAkADgAlAD8ANgAWAAMACAAaABkAEgAdACkANAAuAA8ABgAPAB4AKwAaABYALgAvABkA+v/p//n//P/4/wgAEAAbACAAAgDs/+L/6P/7//v/+P8FAAgAAADr/9D/0f/W/9T/4P/o//H/9//p/+b/5f/d/+f/8f8AABEADAAKAAoAAwD8//L/9v8HABEAGgAmACcAIQAXAAgABQAIAA4AFwAWABUAHQAZAA8AAQD5/wgAEAAJAAwADwAVAAoA9P/z//v/AQAEAP//AgAMAAgA/f/v/+f/7P/r/+X/7f/6///////3//f/9f/r/+7/7//v//T/9f/5//T/5v/p/+//7v/0//z/AgALAAoADAAKAAAAAgALAAoABgAJABQAGgARAAwACAAEAAcAAgD6//X/+f8CAAEA9f/9/w0ACwAFAP3/AAANAAUA+//1//L/+v/+//b/9f/8/woAEwAEAPv///8EAAYA9//r//f/AwADAPv/8P/y//3//P/y/+v/8P/9//r/7P/q//f/CAANAAUAAQALABoAHAAKAPn/AAAPAAsA+//2/wYAFAAKAP3//P8DAAkABAD9//z/AwAHAAAA9//0//z/BgACAAAABQAHAAoAAwD7//3//f8FAA0ACQAMAAwACAAEAPn/9P/7/wAABAACAPb/8v/1//b/+v/0//b/AQAAAP///v8AAAYABQD//wAACgANAA8AEAALAAYABAAEAPz/9v/9/wgADAAKAAUAAAD+//r/9v/1//n//f/+//j/8P/w//j/AgABAAAAAwADAAEA+//2//f//v8CAAMABAACAAgADgAKAAAA/P/5//L/7v/l/+f/7//y//f/9v/2/wAAEAAUAAsAAwAFAAUA9f/u//D/9/8DAAgADAAMAA0AFwAWAAUAAAAIAA4ACQAAAAMADwARAAsABwACAAIABwAAAPT/7//0/////f/6/wcAEwAUABMAEgAQAAYAAQD///P/7P/z//7////9/wEABAAEAAEA+v/y//L/8P/r//H/9v/+/wQABwAQABAAEAAUAAwAAAD7//b/7P/s//L/+P/3//7/DwAVABIAEQAWABYABwAAAAAA/v/3//X/9v/2//j//P/9//n/8v/3/////f/5//v/AgAFAAUACQAOABIAEgAKAP//9v/x/+z/6//r//P/AAADAAEABQAKAAkAAQD7//j/+///////AgAHAAwAFwAXABAADgAOAA4AAgDv/+X/5v/q/+7/8/8AAA0AGAAeABEA///4//n/8v/j/+H/8f8AAAMAAwACAAMABgACAPf/6f/s//n/+v/w//P/CAAaABoAGAAaABYADQD9/+X/2//d/+f/8v/0//3/DgAYABcAEAANABAACwADAP7//f8EAAYABQAEAAgAEwASAAkA///3//b/9P/w//H/9P/8/wUADAANAA8AEwAKAP//9//z//f/9f/t/+//+P8AAAYACgARABMADQAGAAAA+v/2//n//v///wEACQAKAAcABgALAA0ABgAAAPr/9P/x//D/7//8/w4AFAARAAkABQAFAAQA/f/2//L/9v/5//X/9P/6/wAAAgAAAP//AAADAAQA/f/0//v/AQAAAAAAAgADAAQAAQD6//T/8v/z//f/+P/4////BgAIAAQABQADAAEAAAD4//P/9v/6/wAABQACAP7/AAADAAAA/P/5//j/+f/3//X/+f8AAAYACAAHAAQABQAKAAUA/f/8/////////////v8EAA4AEQAMAAMA/v//////+//2//T/9v/4//n/AQAOABIAEgAQAAcAAQACAP7/9//3//3/BgAOAAwADAATABkAFAAOAAkAAgD5/+7/6v/t//b/+//7//z//v////////8AAAEAAwABAP7/AAAAAAMABQADAAUACgALAAYA/v/0//f/+v/2//n///8IAA4ADAAHAAMA///2//P/9P/1//r//P/2//b/+/8BAAUABgAIAAgABgD///n/+f/7//7/AAD///r/+P/8//7//v8BAAUABQABAP7/+//8//v/+P/5//X/8f/4//3//f8AAAMAAwADAAAA////////AAAAAP///v8AAAIAAgAGAA4AEAAHAAAAAAAEAAkACAAGAAQAAgD///n/+f/1//P/9//4//j//f8FAAkABwAHAAUABQABAPr/9v/4////AgAFAAkACwALAAwACQACAP///v/7//f/9P/2//7/AgAEAAUABAADAAMAAgD///3//f//////AAADAAIAAgAHAAgABQAGAAYAAwAAAP///v/6//j/+P/6//3/AAACAAEAAQAFAAYABQAFAPn/7f/1//3/AAAIABAADQAOAA8ACQAEAAAA/v/4//H/7v/z//z///8DAAMABAAKAAcAAAD7//j/9//2//n/+f/8/wEABAACAAAABAAEAAIAAAD//wAAAwAIAAQAAgAEAAEAAAAAAPn/9//7//z/+//4//v/+//3//r/+//7/wAA/f/y//L/9//5//n/9//3//v///8CAAMAAAABAAEA/f/+//7/+v/6//z/+P/8/wUABwAEAAAA+//4//j/+v/8/wIABgAGAAMAAAAHABAADQAIAAQA///8/wEAAwAHABcAIAAcABUADAAIAAcAAwD+//b/9P/3//f/9f/6/wAABwAPAAsABgAGAAAA+//5//f/+P/8//7///8CAAoAFAATAAwABQAAAAAA///5//X/9P/4//v//f///wAABAAHAAYAAwAEAAMA/P/7//v/+f/9/wAAAAAEAAkACAAEAAAA/P/6//7//P/2//T/9//+/wIAAQD9//n/+f/8/wAAAAD+//j/8v/y//r////+/wAAAQACAAgABgD//wAA///9//3/+//5//z//f/4//f/+f/8//7///8AAAIAAQAGABAACgABAAEA/f/8/wAAAAD+//7/AAD//wEAAwACAAAA///9//3//f////7/+P/6//7/AQAEAAIA///7//z//P/7//z//////wEACAAJAAoACgAIAAUAAQAAAPz/AAAGAAUABwAIAAgABAABAAEA+v/0//j//v8AAAMAAQD+/wAABgALAAoABQAAAPn/+v/8//v/+//6//v///8AAAAAAwAEAAYABQABAAAA///+/wAAAQAAAAEABAAIAAYAAAD7//b/+v8FABEAEwAKAAEA/f/8/wAAAgAAAPb/8/8AAA8AEQALAAEA9//0//7/AwD+//T/8P/0//v/AQAIAAQA/P/5//3/AAADAAEA/P/1//P//f8DAAUAAgD9//z//v8BAAEAAwAAAPz//f8AAAIABAAEAP//9f/1//r/AAAGAAcAAwD6//b/+/8AAAMAAAD8//3/AQAKAA4ACwADAP7//P/4//b/9v/5//n/9v/1//b//P8AAAEA+//z//b/AAANAA0AAAD0//X//v8GAAwADgAKAAQABwAOAA8ADQALAAQAAwAKAAsACQAFAAMAAAD6//3/AgAEAAAA+v/2//n/AAAGAAUAAAD8/wAACAAIAAMAAAD//wAAAgAEAAIAAQAGAAgAAgD+////AgADAAAA+f/z//X/AAALAAgA/P/2//z/BAAIAAEA/P/5//j/AAAFAAUAAgAHAAkABQABAAMADgARAA4ABwAAAAAABQAHAAAA9P/v//n/AQABAP7/+v/3//b//P8BAAMAAQAAAP7/8//t//j////9//j/9f/2/wAADwATAAkA+f/z//7/CAAJAP7/7f/q//T/AQAGAP3/9v/8/wAABAAEAAQABQADAAIA///7//3/AgAGAAAA+f/8/wgAEwAPAAEA9//y//v/AgAAAPn/9//5//z//f/+/////v/+/wAAAAAAAAAAAAD///r/+/8EAA0AFAAPAAYABAAHAA0ADAADAPn/9f/8/wIA/v/6//n//P8BAAEA/v/5//f//v8DAAAA/P8BAAoADQAKAAQAAAAAAAMABAD7//H/9v8DAAgABQACAAAAAwAGAAYAAAD1//X/+v/+/////v///wIABQAGAAQAAQAEAAkABgAAAP//AAACAAQABAAAAP3///8BAAAA/v/9///////7//f/9P/4//3/AAABAP//+//9/wYACAAAAP////8CAAIAAwAAAPn/9//8/wMAAwABAP////8EAAYABAACAPz/+P/5//b/9v/5////AwD///b/9P/9/wUACgAHAPv/8v/1//z/AAD6/+//8f/4////AwACAAAABAAFAAEA///+/wAA/v/2//b/+f///wcACAAAAPn/+/8DAAsADAAJAAEAAAADAAcACgAFAAIABgAKAAsABgACAAYACQAJAAMA/f/9/wAAAwAAAPn/9//+/wQABgAAAPz//f8AAAAA///6//r/AQAHAAcAAgAEAAkACgAGAAAA/f/+/wIABAAAAPf/+P/9/wEAAQD6//j/+f/7//3/+f/3//7/CAAPAA0AAwD///7///8AAPv/9//8/wIACAAGAAAA/f///wQABAD+//n/+f/9////+v/1//v/AAABAP//+f/7/wAACQAJAAMA/P/4////BAAEAP7/+//8/wAAAAD+//7/AAAHAAYA/f/3//r/AQABAPr/9P/z//v/AgADAAAAAAAJAA8ADAACAPz//P///wAA/f/5//X//P8DAAQAAwADAAcACQAEAP7//P///wIABQABAPz/+f/7/wAAAQAAAAAAAwAFAAYAAQD8//3/AQAFAAMA/f/4//3/CAAOAAwABQAAAAAAAQAAAPj/9f/9/wQAAgD8//v///8CAAYABgD7//X//P8EAAYAAQACAAgACwAKAAIA+v/8/wEACwALAAEA/f/+/wEAAQAAAP//AAD///7//f/7/wAACQAMAAcA/v/6//3/AAAAAAAA///+/wAAAwAEAAQABwAHAAUAAAD0//H/8//4//z/+//4//r/AAACAAIAAgAAAP///P/2//X/+P/9/wIACAAFAP///v8AAAAA/v///wAAAAAAAAAAAgAAAAIABwADAPz/9f/0//b/9//7/wMACAAIAAgABgACAAAAAAAAAAAA+//8//7//f/9//3//f/9////AAD9//r/+f/9//7/+//7//z//f/9//7//////wAAAQACAAIAAQAGAAsACAACAP//AAAAAAAAAQAEAAIAAgAFAAUABwANABAADgALAAcAAwD///r/+f///wAAAAACAAIA/v///wQABQAGAAcABgADAP7//v8BAAIAAAD8//j/9//7/wIABQAAAP//AQAAAPr/+P/8//v/+v/7//b/9P/2//3/BAAFAAQABgAGAAUABAAFAAQAAwAEAAQAAAD7//r/AAAHAAYAAAAAAP///v8AAAIAAAD+//7//f/6//n//P8BAAUAAwACAAAA/v8AAAQABQACAAAAAAD///z//P8BAAQA///7//f/8f/w//P/8v/x//X/+f/9//3//v8AAAEA////////+//5////BAAFAAUABwAFAAAA/f/9////AAACAAIAAAD+//7/AQAEAAMA/v/6//r/+////wMABQAFAAoADAAJAAUAAwAEAAIA//8AAAAA/f/6//z/AAAAAAMABgAGAAMAAAD///7//P///wAA///9//z///8BAAMAAwABAAEAAAAAAAAAAAAAAAAA/v/7//n/+f/8//7/AAABAAQABQAGAAgABwAHAAYABwAFAAAA///9//3/AAABAAMAAgAAAAEABQAFAAYABQACAAAAAAD///3//v8AAAAAAAD//wUADAANAA0ADAAKAAYABQAEAAMA/v/3//f/+f/5//v//P/7//3/AgAGAAQAAAAAAAIABAADAAAA/v/8//z/AAACAAEAAAACAAMAAAAAAAAA/v/4//X/9//4//v//P///wAA/f/9//v/9f/y//L/9v/3//r//v/+/wAAAQACAAIA+//w/+3/7//v//L/+P/6//r//P8AAAAA/P/7//v//P/9//7///8AAAEABwALAAoACgALAAgAAQAAAAIABAAEAAYABwAGAAYACAAKAAgAAgD+/////v8AAAYACAAFAAQACAANAAsACQAJAAUAAgACAAIAAgAAAP/////9//3//P/8//n/9v/4//v/+v/6//3//P/2//X/+P/6//r/+v/8/wAABgAKAAoABwADAAIAAAAAAP///P/8//j/9P/1//n//f8AAAgADQAPAA4ADAALAAoABQAAAPz/9f/2//r//v8AAP//AQAGAAsACgAFAPz/8P/q/+3/8P/v/+7/8v/2//b/+f/9//3/+//5//r/+v/3//j/+f/2//L/9P/9/wAAAAAAAAAAAQAGAAsADwAOAAoACgAMAAsACAAGAAEABAAMABIAFQAVABYAFAALAAQAAwADAAAAAAACAAEAAwAGAAoACwAHAAMAAQAAAPv/+P/6//r/9//5////AgADAAQAAAD4//b/9//4//P/8P/w//H/9P/1//b/9f/z//X/+v/9/////v///////f8AAAQABAAEAAMABAAFAAUABgAGAAQAAgACAAUACAAKAAsABgABAP///v8AAAEAAAAAAPz/+v8AAAgACwAMAA4ADwAIAAAA+//0/+z/7P/z//n//P/+//z/+P/1//j/AAAEAAMAAQD6//D/8f/4/wAABgAIAAoADgAPABAADQAAAPv/+//+/wIABgAHAAMAAAD7//3/AgACAAYACwAMAA0ADgAPAAoAAQD9//z//P/+/////v/6//j/+f/9/wIAAQAAAPz/8f/r/+r/6v/r/+r/6v/v//H/9/8AAAIAAAD9////AAAAAPz/8f/r/+n/7v/5/wAABwALAAsACQAJAA0ADgAMAAwAEgAWABcAFwAWABAACQAJABEAGQAZABoAFAAKAAMAAwAEAAMAAwACAAEA/v/9/wMABQADAAgACgAJAAYAAQD+//P/6P/o/+z/7v/0//v/AQAEAAAA+v/3//L/8//3//r/+//3//b/+f/3//P/9//7//7/AwAHAAYAAwABAAIAAwAHAA8ADwAIAAIAAAAAAAEAAgACAAYADQASABYAFAAHAPn/7//p/+r/8P/4////AAABAAIAAAAAAAAA/P/2//T/8//0//L/7f/r/+3/8//9/wcABwD///j/9f/3//r//P/8//r/+v/9/wAAAQABAAAA/v///wQADgAUABQADwAKAAYABAAFAAMA///6//f//f8GAA4AGQAmACcAIgAjAB8AFgAMAP7/+P/3////CgAPAA4ACQAHAAUABwAFAAQA/v/y//P/9//5//P/6v/o/+n/7f/6/wAA///9//v/9v/v/+3/7//s/+P/4//k/+T/5P/m/+//+P/9/wYAEQASAAsABQABAP///P/6//v/+v8DABQAIQApACsAKgAjABkAEQAMAAcAAQAAAAEABgANABMAGAAWABIAEQAQAA8ACwABAPX/5v/g/+L/5//u//X/+P/9//z/+v/5//H/6f/p/+7/8f/v/+7/6v/k/+T/6f/y//n/AwAPABAAEgAUAA0ABAD///r/+P/4//r///8FAA4AFAAaAB8AIAAcABUAEQAKAAAA+//6//f/9//6/wAABQAHAAYABAACAAIABAAAAPn/9v/2//P/7//r/+n/5//n/+3/9f/7/wAAAgACAAAA/v/9//j/7v/l/+L/5f/q//P//f8IABIAGgAeABsAFgAQAAgAAgAEAAcABwAGAAUABAAHABMAIgAvADcANQAvACgAGwAOAAUA/P/4//v/AQAFAAYABwAFAAAAAQAFAAYAAwAAAPX/5f/b/9f/2//g/+b/7//6/wQACwAHAP7/9f/v/+//8//0//D/6v/q//D/8//6/wEABwAKABAAHAAfAB0AGgATAAwACAAKAAwACgADAP//AgALAA8AFAAXABEACQADAAAA+f/w/+r/6f/q/+z/8//2//X/9v/5////AwABAPb/6v/f/9T/1P/b/+X/7v/2//v//f/7//r//P/8//j//P8EAAYAAwAAAP7//f8AAAYAEAAVABgAHQAeABsAGAAYABcAFQAUABIADQAJAAIA/f/5//n//v8EAA0AFAARAAcA///1/+n/3//c/9z/4//u//n/AAABAAUAAwD+//v/+f/3//P/7//s/+v/7//1//r/AAAMABEAFgAaABgAFQAQAA0ACAAAAPz///8CAAQACgAPABEAFAAYABsAHAAYABYAEgAJAAUAAAD5//T/8f/y//j///8EAAsAEQATABMACQD6/+7/4v/c/9z/4v/p/+7/8//3//v/AQAJAAoABgAEAP//9v/t/+j/6P/r//H/9v///wwAGAAdABwAGwAWAA8ABwADAAMAAAD7//f/+v8HABYAHAAgACAAHgAbABcADwAGAP//9//u/+3/8//6//3///8AAP3/+//7//3/+f/w/+b/3v/e/+H/6P/t//D/+P///wAA/f/5//j/+f/4//X/9v/6//j/9v/5////BQALAAwADAAKAAcABwAGAAcACAAFAAQAAwABAP//+f/1//j/AAAHAAsADAAMAAwACQADAP///P/7//j/9f/0//T/9v/5////AQAEAAcABgACAP7/9v/t/+j/5P/l/+r/7v/2//z/AAAEAAkACwANAAwABwACAP7/+v/4//X/9//+/wQADQASABMAFgAdABwAFAAKAAAA9//x/+3/6//t//P/+/8CAAoAEQAVABQADQAIAAMA///9//v/9f/v/+v/6v/z/wMAEwAeACUAKwArACQAGAANAAEA9//v/+v/7f/5/wcADgASABQAEwAXABgAEwALAAAA9f/s/+f/5v/l/+f/7f/2//7/BgALAA4ADAACAPf/6P/d/9j/2P/a/+P/7f/3/wEACAAMAA0ADAAIAAYAAAD3//D/6//r//D/+P8AAAoAFAAcACMAJAAeABYACwACAP3/9//1//j/+//+/wQADAAQABQAGQAVAA8ACQADAP3/9P/t/+j/6P/q//H//P////7/+//6//z/9//x/+v/5v/h/93/3//j/+f/4v/e/+X/7v/2//v//v/9//3/+v/3//b/9f/z//X/+f/9/wEABgAHAAYABQAEAAYADAANAA0ACwAJAAUAAAD4//L/8v/1//z/AAAFAAsADwAQAAsABgABAPz/9f/0//X/9//8////AAACAAQABgAHAAYABgAGAAQAAAD///z/+v/3//r/AAAGAAoADQAPABEAEgARAA8ADQALAAYAAAD8//X/8P/x//P/9////wgAEAAVABYAEwAPAAoAAwD7//T/8f/u/+3/7v/w//X/AAANABkAHwAbABMACQAAAPX/6v/k/+L/4v/p//f/CQAaACUAKQAlABkAEAAKAAMA/v/4//n//P8AAAQACwAUAB4AJgAvADMALwAnABoADAD///j/9v/4//7/CAAUAB4AJgAoACQAGgALAPz/9P/u/+j/5f/n/+7/+P8BAAYACQAJAAsACQABAPv/9P/s/+b/4v/h/+n/9P8AAAoADQANAAoACAAEAP3/9P/u/+v/7P/q/+j/6v/u//L/9//8////AQABAP3/9//x/+7/7P/p/+b/6f/t/+7/7P/r/+3/6f/h/9z/3f/i/+X/5//i/97/4f/j/+L/4v/l/+f/6v/s/+v/7f/u/+7/7f/t/+7/8P/x/+7/7f/q/+f/5v/m/+f/5v/p/+7/9f/6//z//f/9//n/8v/o/+P/5f/n/+z/9P/3//r/AgAJAAwADgAMAAYAAAD8//b/7//q/+n/7//3/wAACQAWACMALQAtACYAGgAMAAIA+//5//z/AAAFAAoAEQAYACAAJQAnACUAIQAZABAACAACAAAAAQAHAA8AHQArADUAPAA+ADgALQAfABMACwAHAAcACQAMABEAFgAdACQAJwAnACgAKAAjABwAFAAMAAkACgAIAAgADwAZACEAKQAvAC0AJAAbABEACAAEAAMABAAIAA0AEQAVABgAHAAcABkAFwAVABYAFQAPAAcAAwAAAAAAAwAHAAwAEQATAA8ABwAAAPv/9f/z//T/8v/y//L/8P/y//P/8f/x/+7/7f/v/+7/7v/u/+3/7v/r/+n/6f/p/+v/6f/j/+D/3//b/9j/2P/g/+j/7v/x/+7/6v/l/93/1f/T/9b/2f/f/+P/5f/m/+j/6//t/+z/7P/o/+T/4f/c/9v/2//c/9//5v/r/+3/8v/2//b/8v/w/+3/5f/d/9v/3//j/+j/8P/1//n///8AAP///v/6//P/7v/r/+r/6//r/+z/8f/3/wAACQAOABEAEgATAA4ABQD+//j/9f/1//n/AQAKAA4AEwAXABYAEQANAAoABgAEAAMAAAD///7/AAAGAAgADwAUABkAIQAgABsAGAAWABEACgAEAAUACgARABcAFwAXABsAHgAfACAAIgAkACEAHAAVAA4ACAAJAA0AEQAWABwAIwAnACkAKAAkABsAEAAKAAgABgAGAAsAEQATABUAFwAYABoAGwAZABcAFAAPAAoABAACAAIAAgADAAMACQAPAA4ADQAJAAUAAQD7//f/+P/5//3///8AAAEAAgADAAIA//8AAAUABQADAAAA+v/4//n//P/+/wAAAgAAAP///f/4//H/7P/q/+//9v/5//3////+//r/9f/v/+//8P/z//P/8v/0//X/8v/x//L/9//8//7////8//n/9f/v/+j/5P/o/+3/9f/6//z//f/8//v/+f/0/+//6//p/+3/7//y//f/+/8AAAQABAAEAAMAAwAAAPf/8f/z//T/9f/3//v/AAAAAAcAEQAVABIACQACAP//9//x//L/8f/0//z/AAAJABAADwALAAcAAwD///7//v/9//v/+P/2//b/+f8AAAcADgAWABkAFQAQAAkAAAD6//X/8//1//n//f8EAAsADgAQAAwACQAQABIADAADAPn/8//1//j/+f/9/wAAAwAJAA4ADQAJAAUA///5//f/+P/6//z//f///wEABgAGAAYACgAMAA0ACgAFAP7/9//0//X/9////wUACAANABAAEAAOAAkAAwD///7//////////f/7//r//P/+/wEABAAFAAgACQAIAAUAAgD9//v/+v8AAAUABwAOAA4ACQAFAAAA+v/2//X/+/8AAAIABAACAP//+//7//z//f8BAAUAAwAAAP///P/4//v/AAAAAAAAAQAEAAQAAwD+//n/9//2//r/AAABAAMAAwABAAAA/v/8//r/+P/5//r/+v/0/+//8f/2//7/BAAIAAUAAgADAAEAAAD8//b/8//w/+7/8v/5/wIACwAQAA8ACwAJAAcAAwD+//r/9P/z//X/+P///wQABwAKAAsACQAKAAgAAgAAAP7/9f/u//D/9P/3//v/AQAMABIAFAAQAAgA/v/0/+7/7v/v//H/9v/7/wAAAwAGAAkADgAQAAsABgAFAAIA///8//r/+f/3//n/+v8AAA0AFgAYABMACwAEAP7/+f/4//j/+v/8//7/AAADAAcACwAOABEAEAAIAAMAAQAAAAAAAAD9//z//P8AAAsAEQARAA0ABQD///z/+//8/////f/6//j/9//3//f/9//7/wEABgAGAAQABQAEAAAA/P/6//n///8JAAkABAAAAP7/AAACAAAAAAD//wAABAACAP//+f/0//X/+f/8////AAAFAAgABQAAAPr/+f/8/wIABgAFAAIAAQAAAP3/+f/5//7/AgAGAAkACQAEAAAAAQAAAP3/+P/1//X/+v8AAAQABAAAAAAAAAABAAQABgAIAAsACAD+/+//5//q//T//f8BAAQABgAHAAkABwADAAEA///+//3/9v/1//X/9/8AAAQAAwAAAAIABAAJAAoAAgD8//n/+P/6//n/8f/t//P//f8FAAkACgAKAAoADgAPAAIA+P/x//D/9//8/wAACwASABIAEQALAAYACgAQAA8ACwABAPj/8//w//H/9////wgAFgAdABUACgD///n/8//t/+7/8v8=\" type=\"audio/wav\" />\n",
       "                    Your browser does not support the audio element.\n",
       "                </audio>\n",
       "              "
      ],
      "text/plain": [
       "<IPython.lib.display.Audio object>"
      ]
     },
     "execution_count": 28,
     "metadata": {},
     "output_type": "execute_result"
    }
   ],
   "source": [
    "import IPython.display as ipd\n",
    "import numpy as np\n",
    "import random\n",
    "\n",
    "rand_int = random.randint(0, len(common_voice_train)-1)\n",
    "\n",
    "ipd.Audio(data=np.asarray(common_voice_train[rand_int][\"speech\"]), autoplay=True, rate=16000)"
   ]
  },
  {
   "cell_type": "markdown",
   "metadata": {
    "id": "1MaL9J2dNVtG"
   },
   "source": [
    "It can be heard, that the speakers change along with their speaking rate, accent, and background environment, etc. Overall, the recordings sound acceptably clear though, which is to be expected from a crowd-sourced read speech corpus.\n",
    "\n",
    "Let's do a final check that the data is correctly prepared, by printing the shape of the speech input, its transcription, and the corresponding sampling rate.\n",
    "\n",
    "**Note**: *You can click the following cell a couple of times to verify multiple samples.*"
   ]
  },
  {
   "cell_type": "code",
   "execution_count": 29,
   "metadata": {
    "colab": {
     "base_uri": "https://localhost:8080/"
    },
    "id": "1Po2g7YPuRTx",
    "outputId": "96b0b82c-a5df-4ae6-d17b-9c7d4f710b42"
   },
   "outputs": [
    {
     "name": "stdout",
     "output_type": "stream",
     "text": [
      "Target text: an leabhar dubh \n",
      "Input array shape: (22272,)\n",
      "Sampling rate: 16000\n"
     ]
    }
   ],
   "source": [
    "rand_int = random.randint(0, len(common_voice_train)-1)\n",
    "\n",
    "print(\"Target text:\", common_voice_train[rand_int][\"target_text\"])\n",
    "print(\"Input array shape:\", np.asarray(common_voice_train[rand_int][\"speech\"]).shape)\n",
    "print(\"Sampling rate:\", common_voice_train[rand_int][\"sampling_rate\"])"
   ]
  },
  {
   "cell_type": "markdown",
   "metadata": {
    "id": "M9teZcSwOBJ4"
   },
   "source": [
    "Good! Everything looks fine - the data is a 1-dimensional array, the sampling rate always corresponds to 16kHz, and the target text is normalized."
   ]
  },
  {
   "cell_type": "markdown",
   "metadata": {
    "id": "k3Pbn5WvOYZF"
   },
   "source": [
    "Finally, we can process the dataset to the format expected by the model for training. We will again make use of the `map(...)` function.\n",
    "\n",
    "First, we check that the data samples have the same sampling rate of 16kHz.\n",
    "Second, we extract the `input_values` from the loaded audio file. In our case, this includes only normalization, but for other speech models, this step could correspond to extracting, *e.g.* [Log-Mel features](https://en.wikipedia.org/wiki/Mel-frequency_cepstrum). \n",
    "Third, we encode the transcriptions to label ids.\n",
    "\n",
    "**Note**: This mapping function is a good example of how the `Wav2Vec2Processor` class should be used. In \"normal\" context, calling `processor(...)` is redirected to `Wav2Vec2FeatureExtractor`'s call method. When wrapping the processor into the `as_target_processor` context, however, the same method is redirected to `Wav2Vec2CTCTokenizer`'s call method.\n",
    "For more information please check the [docs](https://huggingface.co/transformers/master/model_doc/wav2vec2.html#transformers.Wav2Vec2Processor.__call__)."
   ]
  },
  {
   "cell_type": "code",
   "execution_count": 30,
   "metadata": {
    "id": "eJY7I0XAwe9p"
   },
   "outputs": [],
   "source": [
    "def prepare_dataset(batch):\n",
    "    # check that all files have the correct sampling rate\n",
    "    assert (\n",
    "        len(set(batch[\"sampling_rate\"])) == 1\n",
    "    ), f\"Make sure all inputs have the same sampling rate of {processor.feature_extractor.sampling_rate}.\"\n",
    "\n",
    "    batch[\"input_values\"] = processor(batch[\"speech\"], sampling_rate=batch[\"sampling_rate\"][0]).input_values\n",
    "    \n",
    "    with processor.as_target_processor():\n",
    "        batch[\"labels\"] = processor(batch[\"target_text\"]).input_ids\n",
    "    return batch"
   ]
  },
  {
   "cell_type": "code",
   "execution_count": 31,
   "metadata": {
    "colab": {
     "base_uri": "https://localhost:8080/",
     "height": 509,
     "referenced_widgets": [
      "4797f1acd9924b4e97f12f964c83078c",
      "73940df84ffd4e0f96637342e9fd12b7",
      "5370c0f2d54b45c0a89f11fb5b70cd4b",
      "018c1f8e198e4df4b480e609bd1be602",
      "fa7926bbe77e48b3a0648b45f5d2dc7a",
      "020bdb330b0d40f5b89697ff37025f69",
      "d35c15beeb33476894b07c3563f8facd",
      "768ab09956774f50a79b2493a8bf179b",
      "7ef969e47c2d429a9848d5ab3f5bb2d9",
      "fe62265afdc74026b7e9c5a50ef61d2c",
      "015c5690e1ea4281954c7efda1c80a6a",
      "f4135dd72864445391f43f387635bfdc",
      "2f727c76652944e3892dd584bea11af2",
      "dec796237765477ea904834d9a824b61",
      "8df9d19602cb4951b397c385458a11ef",
      "923ed9e127524187ab8cfcac31164ba7",
      "bf9e57d81135412d9a9a2281f28bd52a",
      "c41610c0baef412984f8661d96e08b7e",
      "579b6055028f473981ce789a0733a753",
      "4fb7347e9ca542e6ab9003bf4db218e0",
      "3133b378b9294a759c8dfb786ed8f815",
      "6de66d6b7a73434cbdc59b2109bdf0a0",
      "6d4a26d876fb4ac6b5948a09945bdc6b",
      "0987aac282af415da2fbc9dc1b4d5069",
      "ac35dca0845149a284b9867d9e607232",
      "b54bff6261964119bcb562c1a9f74ce6",
      "5071a31d06f544a5b7340a4e863d8fdf",
      "542027ba12f444d586e8072452badea0",
      "49defa4284554baf85f32de242b22709",
      "b2473405490e4556bf30c0cc81237aa5",
      "02bdb06c176145feaa842b97ae58609c",
      "bc41384bbae04044b9780651c6b5a47c",
      "7040945accce4739a41746cc75bb7fce",
      "71011f0d2bc942ac8f9ea1d1fd30c78d",
      "6f60626242534f44a6381195e6eb6530",
      "9fee9d9dd1164d97a9109e942444c332",
      "5ab30242cd154ec0b560c23c0f178546",
      "0ffcbedb8d4444508ac0c3c0b41ea8ac",
      "f9efaa7678c2450f847ff2c2f21ff96e",
      "c126ea97019149848396e593cfab016f",
      "0f99011a13754ed99f3c51a478b0e793",
      "4abe2731ec624729b401d60a392cae63",
      "bd187486ac2548f2961cfcb63d852de1",
      "3f780f0aa8834fc189b292e0474e2ffa",
      "231c66f195d34f86b216805518f4bccd",
      "58f3e8002f984594ac05c973aa78ef69",
      "ec36a94ee2574ac8b227ccaefdee5520",
      "a868dea9d9b047a4b853b390e138e4c1",
      "6462bd9561e24abb98fce6ce4675d810",
      "bd3447291ce54812af10ac6245ea4328",
      "e273548a15aa4d4994132b317adb66fc",
      "f6930dd5519d4dfda64c597def220a30",
      "7d62810674c8482abe46c60fc08884b4",
      "80697300a4394b909f1c499ba80aeb13",
      "ab72c80dfd5e4ab19a183f4204486b59",
      "56ad6231a0a04228be29ceecbc6b7c0e",
      "b6221b4c04e64c9da9eb9e11539bac89",
      "dc6862530f6e429ba61a169b4c95722c",
      "02d1f77324854fbca0df9384c57faac8",
      "8e63ba7f1fd24555bf11bc9dbe9c770b",
      "704ea5e05fd744d998b76d6435992995",
      "d4a3f79644fc41848450ba29e6fdfc3d",
      "405b5de4ae854cf9896f63d15f2207dd",
      "26e7bab0f3bf4797bfcef83dcace24f0"
     ]
    },
    "id": "-np9xYK-wl8q",
    "outputId": "6155b5f0-a5a2-4e20-d0e2-0b3a60c13f98"
   },
   "outputs": [
    {
     "name": "stdout",
     "output_type": "stream",
     "text": [
      "  "
     ]
    },
    {
     "data": {
      "application/vnd.jupyter.widget-view+json": {
       "model_id": "eaeff4d7517d420ca9a9fb98e68e99e2",
       "version_major": 2,
       "version_minor": 0
      },
      "text/plain": [
       "HBox(children=(FloatProgress(value=0.0, description='#0', max=33.0, style=ProgressStyle(description_width='ini…"
      ]
     },
     "metadata": {},
     "output_type": "display_data"
    },
    {
     "name": "stdout",
     "output_type": "stream",
     "text": [
      " "
     ]
    },
    {
     "data": {
      "application/vnd.jupyter.widget-view+json": {
       "model_id": "1c045f86f18b45c79c60204d2ed7768e",
       "version_major": 2,
       "version_minor": 0
      },
      "text/plain": [
       "HBox(children=(FloatProgress(value=0.0, description='#1', max=33.0, style=ProgressStyle(description_width='ini…"
      ]
     },
     "metadata": {},
     "output_type": "display_data"
    },
    {
     "data": {
      "application/vnd.jupyter.widget-view+json": {
       "model_id": "09918733c3c54d01865ef733b1377e26",
       "version_major": 2,
       "version_minor": 0
      },
      "text/plain": [
       "HBox(children=(FloatProgress(value=0.0, description='#3', max=33.0, style=ProgressStyle(description_width='ini…"
      ]
     },
     "metadata": {},
     "output_type": "display_data"
    },
    {
     "data": {
      "application/vnd.jupyter.widget-view+json": {
       "model_id": "432930727c754f648de8d48e6a10238e",
       "version_major": 2,
       "version_minor": 0
      },
      "text/plain": [
       "HBox(children=(FloatProgress(value=0.0, description='#2', max=33.0, style=ProgressStyle(description_width='ini…"
      ]
     },
     "metadata": {},
     "output_type": "display_data"
    },
    {
     "name": "stdout",
     "output_type": "stream",
     "text": [
      "\n",
      "\n",
      "\n",
      "\n",
      "  "
     ]
    },
    {
     "data": {
      "application/vnd.jupyter.widget-view+json": {
       "model_id": "9ead98f6f52b45bcb722707537075eef",
       "version_major": 2,
       "version_minor": 0
      },
      "text/plain": [
       "HBox(children=(FloatProgress(value=0.0, description='#0', max=16.0, style=ProgressStyle(description_width='ini…"
      ]
     },
     "metadata": {},
     "output_type": "display_data"
    },
    {
     "name": "stdout",
     "output_type": "stream",
     "text": [
      "  "
     ]
    },
    {
     "data": {
      "application/vnd.jupyter.widget-view+json": {
       "model_id": "140bccd970f34b5e8837bc02d31b1e26",
       "version_major": 2,
       "version_minor": 0
      },
      "text/plain": [
       "HBox(children=(FloatProgress(value=0.0, description='#1', max=16.0, style=ProgressStyle(description_width='ini…"
      ]
     },
     "metadata": {},
     "output_type": "display_data"
    },
    {
     "data": {
      "application/vnd.jupyter.widget-view+json": {
       "model_id": "9bdc71408994487ea31d01b9e8d64fe3",
       "version_major": 2,
       "version_minor": 0
      },
      "text/plain": [
       "HBox(children=(FloatProgress(value=0.0, description='#3', max=16.0, style=ProgressStyle(description_width='ini…"
      ]
     },
     "metadata": {},
     "output_type": "display_data"
    },
    {
     "data": {
      "application/vnd.jupyter.widget-view+json": {
       "model_id": "c866829e7f07473d98ef903d445744d4",
       "version_major": 2,
       "version_minor": 0
      },
      "text/plain": [
       "HBox(children=(FloatProgress(value=0.0, description='#2', max=16.0, style=ProgressStyle(description_width='ini…"
      ]
     },
     "metadata": {},
     "output_type": "display_data"
    },
    {
     "name": "stdout",
     "output_type": "stream",
     "text": [
      "\n",
      "\n",
      "\n",
      "\n"
     ]
    }
   ],
   "source": [
    "common_voice_train = common_voice_train.map(prepare_dataset, remove_columns=common_voice_train.column_names, batch_size=8, num_proc=4, batched=True)\n",
    "common_voice_test = common_voice_test.map(prepare_dataset, remove_columns=common_voice_test.column_names, batch_size=8, num_proc=4, batched=True)"
   ]
  },
  {
   "cell_type": "markdown",
   "metadata": {
    "id": "gYlQkKVoRUos"
   },
   "source": [
    "## Training\n",
    "\n",
    "The data is processed so that we are ready to start setting up the training pipeline. We will make use of 🤗's [Trainer](https://huggingface.co/transformers/master/main_classes/trainer.html?highlight=trainer) for which we essentially need to do the following:\n",
    "\n",
    "- Define a data collator. In contrast to most NLP models, XLSR-Wav2Vec2 has a much larger input length than output length. *E.g.*, a sample of input length 50000 has an output length of no more than 100. Given the large input sizes, it is much more efficient to pad the training batches dynamically meaning that all training samples should only be padded to the longest sample in their batch and not the overall longest sample. Therefore, fine-tuning XLSR-Wav2Vec2 requires a special padding data collator, which we will define below\n",
    "\n",
    "- Evaluation metric. During training, the model should be evaluated on the word error rate. We should define a `compute_metrics` function accordingly\n",
    "\n",
    "- Load a pretrained checkpoint. We need to load a pretrained checkpoint and configure it correctly for training.\n",
    "\n",
    "- Define the training configuration.\n",
    "\n",
    "After having fine-tuned the model, we will correctly evaluate it on the test data and verify that it has indeed learned to correctly transcribe speech."
   ]
  },
  {
   "cell_type": "markdown",
   "metadata": {
    "id": "Slk403unUS91"
   },
   "source": [
    "### Set-up Trainer\n",
    "\n",
    "Let's start by defining the data collator. The code for the data collator was copied from [this example](https://github.com/huggingface/transformers/blob/9a06b6b11bdfc42eea08fa91d0c737d1863c99e3/examples/research_projects/wav2vec2/run_asr.py#L81).\n",
    "\n",
    "Without going into too many details, in contrast to the common data collators, this data collator treats the `input_values` and `labels` differently and thus applies to separate padding functions on them (again making use of XLSR-Wav2Vec2's context manager). This is necessary because in speech input and output are of different modalities meaning that they should not be treated by the same padding function.\n",
    "Analogous to the common data collators, the padding tokens in the labels with `-100` so that those tokens are **not** taken into account when computing the loss."
   ]
  },
  {
   "cell_type": "code",
   "execution_count": 32,
   "metadata": {
    "id": "tborvC9hx88e"
   },
   "outputs": [],
   "source": [
    "import torch\n",
    "\n",
    "from dataclasses import dataclass, field\n",
    "from typing import Any, Dict, List, Optional, Union\n",
    "\n",
    "@dataclass\n",
    "class DataCollatorCTCWithPadding:\n",
    "    \"\"\"\n",
    "    Data collator that will dynamically pad the inputs received.\n",
    "    Args:\n",
    "        processor (:class:`~transformers.Wav2Vec2Processor`)\n",
    "            The processor used for proccessing the data.\n",
    "        padding (:obj:`bool`, :obj:`str` or :class:`~transformers.tokenization_utils_base.PaddingStrategy`, `optional`, defaults to :obj:`True`):\n",
    "            Select a strategy to pad the returned sequences (according to the model's padding side and padding index)\n",
    "            among:\n",
    "            * :obj:`True` or :obj:`'longest'`: Pad to the longest sequence in the batch (or no padding if only a single\n",
    "              sequence if provided).\n",
    "            * :obj:`'max_length'`: Pad to a maximum length specified with the argument :obj:`max_length` or to the\n",
    "              maximum acceptable input length for the model if that argument is not provided.\n",
    "            * :obj:`False` or :obj:`'do_not_pad'` (default): No padding (i.e., can output a batch with sequences of\n",
    "              different lengths).\n",
    "        max_length (:obj:`int`, `optional`):\n",
    "            Maximum length of the ``input_values`` of the returned list and optionally padding length (see above).\n",
    "        max_length_labels (:obj:`int`, `optional`):\n",
    "            Maximum length of the ``labels`` returned list and optionally padding length (see above).\n",
    "        pad_to_multiple_of (:obj:`int`, `optional`):\n",
    "            If set will pad the sequence to a multiple of the provided value.\n",
    "            This is especially useful to enable the use of Tensor Cores on NVIDIA hardware with compute capability >=\n",
    "            7.5 (Volta).\n",
    "    \"\"\"\n",
    "\n",
    "    processor: Wav2Vec2Processor\n",
    "    padding: Union[bool, str] = True\n",
    "    max_length: Optional[int] = None\n",
    "    max_length_labels: Optional[int] = None\n",
    "    pad_to_multiple_of: Optional[int] = None\n",
    "    pad_to_multiple_of_labels: Optional[int] = None\n",
    "\n",
    "    def __call__(self, features: List[Dict[str, Union[List[int], torch.Tensor]]]) -> Dict[str, torch.Tensor]:\n",
    "        # split inputs and labels since they have to be of different lenghts and need\n",
    "        # different padding methods\n",
    "        input_features = [{\"input_values\": feature[\"input_values\"]} for feature in features]\n",
    "        label_features = [{\"input_ids\": feature[\"labels\"]} for feature in features]\n",
    "\n",
    "        batch = self.processor.pad(\n",
    "            input_features,\n",
    "            padding=self.padding,\n",
    "            max_length=self.max_length,\n",
    "            pad_to_multiple_of=self.pad_to_multiple_of,\n",
    "            return_tensors=\"pt\",\n",
    "        )\n",
    "        with self.processor.as_target_processor():\n",
    "            labels_batch = self.processor.pad(\n",
    "                label_features,\n",
    "                padding=self.padding,\n",
    "                max_length=self.max_length_labels,\n",
    "                pad_to_multiple_of=self.pad_to_multiple_of_labels,\n",
    "                return_tensors=\"pt\",\n",
    "            )\n",
    "\n",
    "        # replace padding with -100 to ignore loss correctly\n",
    "        labels = labels_batch[\"input_ids\"].masked_fill(labels_batch.attention_mask.ne(1), -100)\n",
    "\n",
    "        batch[\"labels\"] = labels\n",
    "\n",
    "        return batch"
   ]
  },
  {
   "cell_type": "code",
   "execution_count": 33,
   "metadata": {
    "id": "lbQf5GuZyQ4_"
   },
   "outputs": [],
   "source": [
    "data_collator = DataCollatorCTCWithPadding(processor=processor, padding=True)"
   ]
  },
  {
   "cell_type": "markdown",
   "metadata": {
    "id": "xO-Zdj-5cxXp"
   },
   "source": [
    "Next, the evaluation metric is defined. As mentioned earlier, the \n",
    "predominant metric in ASR is the word error rate (WER), hence we will use it in this notebook as well."
   ]
  },
  {
   "cell_type": "code",
   "execution_count": 34,
   "metadata": {
    "colab": {
     "base_uri": "https://localhost:8080/",
     "height": 67,
     "referenced_widgets": [
      "d5fb02debe4347e781543a996ce39be3",
      "da12267c52144292adb9896249d61a6a",
      "8e1a85a4a6214a16b7431da23a301ada",
      "57198e3250374e1fa64c5a4be255861e",
      "a3c04c75ec9743feb795f69e7c4dff4f",
      "d453bd4a35e54bfba20dac1fe86c60c1",
      "969080b52ad44ee997829986d198c505",
      "8f737725708c4097a8caaf4da6229636"
     ]
    },
    "id": "9Xsux2gmyXso",
    "outputId": "58e0e6f5-6131-4147-bccb-6c42223833db"
   },
   "outputs": [],
   "source": [
    "wer_metric = load_metric(\"wer\")"
   ]
  },
  {
   "cell_type": "markdown",
   "metadata": {
    "id": "E1qZU5p-deqB"
   },
   "source": [
    "The model will return a sequence of logit vectors:\n",
    "$\\mathbf{y}_1, \\ldots, \\mathbf{y}_m$ with $\\mathbf{y}_1 = f_{\\theta}(x_1, \\ldots, x_n)[0]$ and $n >> m$.\n",
    "\n",
    "A logit vector $\\mathbf{y}_1$ contains the log-odds for each word in the vocabulary we defined earlier, thus $\\text{len}(\\mathbf{y}_i) =$ `config.vocab_size`. We are interested in the most likely prediction of the model and thus take the `argmax(...)` of the logits. Also, we transform the encoded labels back to the original string by replacing `-100` with the `pad_token_id` and decoding the ids while making sure that consecutive tokens are **not** grouped to the same token in CTC style ${}^1$."
   ]
  },
  {
   "cell_type": "code",
   "execution_count": 35,
   "metadata": {
    "id": "1XZ-kjweyTy_"
   },
   "outputs": [],
   "source": [
    "def compute_metrics(pred):\n",
    "    pred_logits = pred.predictions\n",
    "    pred_ids = np.argmax(pred_logits, axis=-1)\n",
    "\n",
    "    pred.label_ids[pred.label_ids == -100] = processor.tokenizer.pad_token_id\n",
    "\n",
    "    pred_str = processor.batch_decode(pred_ids)\n",
    "    # we do not want to group tokens when computing the metrics\n",
    "    label_str = processor.batch_decode(pred.label_ids, group_tokens=False)\n",
    "\n",
    "    wer = wer_metric.compute(predictions=pred_str, references=label_str)\n",
    "\n",
    "    return {\"wer\": wer}"
   ]
  },
  {
   "cell_type": "markdown",
   "metadata": {
    "id": "Xmgrx4bRwLIH"
   },
   "source": [
    "Now, we can load the pretrained `XLSR-Wav2Vec2` checkpoint. The tokenizer's `pad_token_id` must be to define the model's `pad_token_id` or in the case of `Wav2Vec2ForCTC` also CTC's *blank token* ${}^2$. To save GPU memory, we enable PyTorch's [gradient checkpointing](https://pytorch.org/docs/stable/checkpoint.html) and also set the loss reduction to \"*mean*\".\n",
    "\n",
    "Because the dataset is quite small (~6h of training data) and because Common Voice is quite noisy, fine-tuning Facebook's [wav2vec2-large-xlsr-53 checkpoint](https://huggingface.co/facebook/wav2vec2-large-xlsr-53) seems to require some hyper-parameter tuning. Therefore, I had to play around a bit with different values for dropout, [SpecAugment](https://arxiv.org/abs/1904.08779)'s masking dropout rate, layer dropout, and the learning rate until training seemed to be stable enough. \n",
    "\n",
    "**Note**: When using this notebook to train XLSR-Wav2Vec2 on another language of Common Voice those hyper-parameter settings might not work very well. Feel free to adapt those depending on your use case. "
   ]
  },
  {
   "cell_type": "code",
   "execution_count": 36,
   "metadata": {
    "colab": {
     "base_uri": "https://localhost:8080/"
    },
    "id": "e7cqAWIayn6w",
    "outputId": "0a5ab559-6c38-47c6-b4f5-64480ed1df65"
   },
   "outputs": [
    {
     "name": "stderr",
     "output_type": "stream",
     "text": [
      "Some weights of Wav2Vec2ForCTC were not initialized from the model checkpoint at facebook/wav2vec2-large-xlsr-53 and are newly initialized: ['lm_head.weight', 'lm_head.bias']\n",
      "You should probably TRAIN this model on a down-stream task to be able to use it for predictions and inference.\n"
     ]
    }
   ],
   "source": [
    "from transformers import Wav2Vec2ForCTC\n",
    "\n",
    "model = Wav2Vec2ForCTC.from_pretrained(\n",
    "    \"facebook/wav2vec2-large-xlsr-53\", \n",
    "    attention_dropout=0.1,\n",
    "    hidden_dropout=0.1,\n",
    "    feat_proj_dropout=0.0,\n",
    "    mask_time_prob=0.05,\n",
    "    layerdrop=0.1,\n",
    "    gradient_checkpointing=True, \n",
    "    ctc_loss_reduction=\"mean\", \n",
    "    pad_token_id=processor.tokenizer.pad_token_id,\n",
    "    vocab_size=len(processor.tokenizer)\n",
    ")"
   ]
  },
  {
   "cell_type": "markdown",
   "metadata": {
    "id": "1DwR3XLSzGDD"
   },
   "source": [
    "The first component of XLSR-Wav2Vec2 consists of a stack of CNN layers that are used to extract acoustically meaningful - but contextually independent - features from the raw speech signal. This part of the model has already been sufficiently trained during pretraining and as stated in the [paper](https://arxiv.org/pdf/2006.13979.pdf) does not need to be fine-tuned anymore. \n",
    "Thus, we can set the `requires_grad` to `False` for all parameters of the *feature extraction* part."
   ]
  },
  {
   "cell_type": "code",
   "execution_count": 37,
   "metadata": {
    "id": "oGI8zObtZ3V0"
   },
   "outputs": [],
   "source": [
    "model.freeze_feature_extractor()"
   ]
  },
  {
   "cell_type": "markdown",
   "metadata": {
    "id": "lD4aGhQM0K-D"
   },
   "source": [
    "In a final step, we define all parameters related to training. \n",
    "To give more explanation on some of the parameters:\n",
    "- `group_by_length` makes training more efficient by grouping training samples of similar input length into one batch. This can significantly speed up training time by heavily reducing the overall number of useless padding tokens that are passed through the model\n",
    "- `learning_rate` and `weight_decay` were heuristically tuned until fine-tuning has become stable. Note that those parameters strongly depend on the Common Voice dataset and might be suboptimal for other speech datasets.\n",
    "\n",
    "For more explanations on other parameters, one can take a look at the [docs](https://huggingface.co/transformers/master/main_classes/trainer.html?highlight=trainer#trainingarguments).\n",
    "\n",
    "**Note**: If one wants to save the trained models in his/her google drive the commented-out `output_dir` can be used instead."
   ]
  },
  {
   "cell_type": "code",
   "execution_count": 38,
   "metadata": {
    "id": "KbeKSV7uzGPP"
   },
   "outputs": [],
   "source": [
    "from transformers import TrainingArguments\n",
    "\n",
    "training_args = TrainingArguments(\n",
    "  output_dir=output_models_dir,\n",
    "  group_by_length=True,\n",
    "  per_device_train_batch_size=16,\n",
    "  gradient_accumulation_steps=2,\n",
    "  evaluation_strategy=\"steps\",\n",
    "  num_train_epochs=60,\n",
    "  fp16=True,\n",
    "  save_steps=400,\n",
    "  eval_steps=400,\n",
    "  logging_steps=400,\n",
    "  learning_rate=3e-4,\n",
    "  warmup_steps=500,\n",
    "  save_total_limit=2,\n",
    ")"
   ]
  },
  {
   "cell_type": "markdown",
   "metadata": {
    "id": "OsW-WZcL1ZtN"
   },
   "source": [
    "Now, all instances can be passed to Trainer and we are ready to start training!"
   ]
  },
  {
   "cell_type": "code",
   "execution_count": 39,
   "metadata": {
    "id": "rY7vBmFCPFgC"
   },
   "outputs": [],
   "source": [
    "from transformers import Trainer\n",
    "\n",
    "trainer = Trainer(\n",
    "    model=model,\n",
    "    data_collator=data_collator,\n",
    "    args=training_args,\n",
    "    compute_metrics=compute_metrics,\n",
    "    train_dataset=common_voice_train,\n",
    "    eval_dataset=common_voice_test,\n",
    "    tokenizer=processor.feature_extractor,\n",
    ")"
   ]
  },
  {
   "cell_type": "markdown",
   "metadata": {
    "id": "UoXBx1JAA0DX"
   },
   "source": [
    "\n",
    "\n",
    "---\n",
    "\n",
    "${}^1$ To allow models to become independent of the speaker rate, in CTC, consecutive tokens that are identical are simply grouped as a single token. However, the encoded labels should not be grouped when decoding since they don't correspond to the predicted tokens of the model, which is why the `group_tokens=False` parameter has to be passed. If we wouldn't pass this parameter a word like `\"hello\"` would incorrectly be encoded, and decoded as `\"helo\"`.\n",
    "\n",
    "${}^2$ The blank token allows the model to predict a word, such as `\"hello\"` by forcing it to insert the blank token between the two l's. A CTC-conform prediction of `\"hello\"` of our model would be `[PAD] [PAD] \"h\" \"e\" \"e\" \"l\" \"l\" [PAD] \"l\" \"o\" \"o\" [PAD]`."
   ]
  },
  {
   "cell_type": "markdown",
   "metadata": {
    "id": "rpvZHM1xReIW"
   },
   "source": [
    "### Training"
   ]
  },
  {
   "cell_type": "markdown",
   "metadata": {
    "id": "j-3oKSzZ1hGq"
   },
   "source": [
    "Training will take between 180 and 240 minutes depending on the GPU allocated to this notebook. While the trained model yields somewhat satisfying results on *Common Voice*'s test data of Turkish, it is by no means an optimally fine-tuned model. The purpose of this notebook is to demonstrate how XLSR-Wav2Vec2's [checkpoint](https://huggingface.co/facebook/wav2vec2-large-xlsr-53) can be fine-tuned on a low-resource ASR dataset.\n",
    "\n",
    "In case you want to use this google colab to fine-tune your model, you should make sure that your training doesn't stop due to inactivity. A simple hack to prevent this is to paste the following code into the console of this tab (*right mouse click -> inspect -> Console tab and insert code*)."
   ]
  },
  {
   "cell_type": "markdown",
   "metadata": {
    "id": "VYYAvgkW4P0m"
   },
   "source": [
    "```javascript\n",
    "function ConnectButton(){\n",
    "    console.log(\"Connect pushed\"); \n",
    "    document.querySelector(\"#top-toolbar > colab-connect-button\").shadowRoot.querySelector(\"#connect\").click() \n",
    "}\n",
    "setInterval(ConnectButton,60000);\n",
    "```"
   ]
  },
  {
   "cell_type": "code",
   "execution_count": 40,
   "metadata": {
    "colab": {
     "base_uri": "https://localhost:8080/",
     "height": 348
    },
    "id": "_UEjJqGsQw24",
    "outputId": "2e23b190-ca76-48ad-8117-376d1d7c058e"
   },
   "outputs": [
    {
     "name": "stderr",
     "output_type": "stream",
     "text": [
      "\u001b[34m\u001b[1mwandb\u001b[0m: Currently logged in as: \u001b[33mjimregan\u001b[0m (use `wandb login --relogin` to force relogin)\n",
      "\u001b[34m\u001b[1mwandb\u001b[0m: wandb version 0.10.23 is available!  To upgrade, please run:\n",
      "\u001b[34m\u001b[1mwandb\u001b[0m:  $ pip install wandb --upgrade\n"
     ]
    },
    {
     "data": {
      "text/html": [
       "\n",
       "                Tracking run with wandb version 0.10.12<br/>\n",
       "                Syncing run <strong style=\"color:#cdcd00\">/workspace/output_models/ga-IE/wav2vec2-large-xlsr-irish-base</strong> to <a href=\"https://wandb.ai\" target=\"_blank\">Weights & Biases</a> <a href=\"https://docs.wandb.com/integrations/jupyter.html\" target=\"_blank\">(Documentation)</a>.<br/>\n",
       "                Project page: <a href=\"https://wandb.ai/jimregan/huggingface\" target=\"_blank\">https://wandb.ai/jimregan/huggingface</a><br/>\n",
       "                Run page: <a href=\"https://wandb.ai/jimregan/huggingface/runs/1rey37f3\" target=\"_blank\">https://wandb.ai/jimregan/huggingface/runs/1rey37f3</a><br/>\n",
       "                Run data is saved locally in <code>/workspace/wav2vec2-sprint/irish/wandb/run-20210327_011426-1rey37f3</code><br/><br/>\n",
       "            "
      ],
      "text/plain": [
       "<IPython.core.display.HTML object>"
      ]
     },
     "metadata": {},
     "output_type": "display_data"
    },
    {
     "name": "stderr",
     "output_type": "stream",
     "text": [
      "/opt/conda/lib/python3.7/site-packages/torch/optim/lr_scheduler.py:136: UserWarning: Detected call of `lr_scheduler.step()` before `optimizer.step()`. In PyTorch 1.1.0 and later, you should call them in the opposite order: `optimizer.step()` before `lr_scheduler.step()`.  Failure to do this will result in PyTorch skipping the first value of the learning rate schedule. See more details at https://pytorch.org/docs/stable/optim.html#how-to-adjust-learning-rate\n",
      "  \"https://pytorch.org/docs/stable/optim.html#how-to-adjust-learning-rate\", UserWarning)\n"
     ]
    },
    {
     "data": {
      "text/html": [
       "\n",
       "    <div>\n",
       "        <style>\n",
       "            /* Turns off some styling */\n",
       "            progress {\n",
       "                /* gets rid of default border in Firefox and Opera. */\n",
       "                border: none;\n",
       "                /* Needs to be in here for Safari polyfill so background images work as expected. */\n",
       "                background-size: auto;\n",
       "            }\n",
       "        </style>\n",
       "      \n",
       "      <progress value='1920' max='1920' style='width:300px; height:20px; vertical-align: middle;'></progress>\n",
       "      [1920/1920 1:39:48, Epoch 59/60]\n",
       "    </div>\n",
       "    <table border=\"1\" class=\"dataframe\">\n",
       "  <thead>\n",
       "    <tr style=\"text-align: left;\">\n",
       "      <th>Step</th>\n",
       "      <th>Training Loss</th>\n",
       "      <th>Validation Loss</th>\n",
       "      <th>Wer</th>\n",
       "      <th>Runtime</th>\n",
       "      <th>Samples Per Second</th>\n",
       "    </tr>\n",
       "  </thead>\n",
       "  <tbody>\n",
       "    <tr>\n",
       "      <td>400</td>\n",
       "      <td>5.439400</td>\n",
       "      <td>2.899571</td>\n",
       "      <td>1.000000</td>\n",
       "      <td>45.604700</td>\n",
       "      <td>11.095000</td>\n",
       "    </tr>\n",
       "    <tr>\n",
       "      <td>800</td>\n",
       "      <td>1.079500</td>\n",
       "      <td>1.060601</td>\n",
       "      <td>0.705297</td>\n",
       "      <td>47.535600</td>\n",
       "      <td>10.645000</td>\n",
       "    </tr>\n",
       "    <tr>\n",
       "      <td>1200</td>\n",
       "      <td>0.179700</td>\n",
       "      <td>1.224803</td>\n",
       "      <td>0.618086</td>\n",
       "      <td>47.412300</td>\n",
       "      <td>10.672000</td>\n",
       "    </tr>\n",
       "    <tr>\n",
       "      <td>1600</td>\n",
       "      <td>0.090200</td>\n",
       "      <td>1.344401</td>\n",
       "      <td>0.605795</td>\n",
       "      <td>47.204600</td>\n",
       "      <td>10.719000</td>\n",
       "    </tr>\n",
       "  </tbody>\n",
       "</table><p>"
      ],
      "text/plain": [
       "<IPython.core.display.HTML object>"
      ]
     },
     "metadata": {},
     "output_type": "display_data"
    },
    {
     "data": {
      "text/plain": [
       "TrainOutput(global_step=1920, training_loss=1.42433001101017, metrics={'train_runtime': 5995.6669, 'train_samples_per_second': 0.32, 'total_flos': 7.310191602581176e+18, 'epoch': 59.98, 'init_mem_cpu_alloc_delta': 9487892, 'init_mem_gpu_alloc_delta': 1261894656, 'init_mem_cpu_peaked_delta': 18306, 'init_mem_gpu_peaked_delta': 0, 'train_mem_cpu_alloc_delta': 12601268, 'train_mem_gpu_alloc_delta': 3778387456, 'train_mem_cpu_peaked_delta': 104480592, 'train_mem_gpu_peaked_delta': 3712770560})"
      ]
     },
     "execution_count": 40,
     "metadata": {},
     "output_type": "execute_result"
    }
   ],
   "source": [
    "trainer.train()"
   ]
  },
  {
   "cell_type": "code",
   "execution_count": 41,
   "metadata": {},
   "outputs": [
    {
     "data": {
      "text/plain": [
       "('/workspace/output_models/ga-IE/wav2vec2-large-xlsr-irish-base/tokenizer_config.json',\n",
       " '/workspace/output_models/ga-IE/wav2vec2-large-xlsr-irish-base/special_tokens_map.json',\n",
       " '/workspace/output_models/ga-IE/wav2vec2-large-xlsr-irish-base/vocab.json',\n",
       " '/workspace/output_models/ga-IE/wav2vec2-large-xlsr-irish-base/added_tokens.json')"
      ]
     },
     "execution_count": 41,
     "metadata": {},
     "output_type": "execute_result"
    }
   ],
   "source": [
    "trainer.save_model(output_models_dir)\n",
    "tokenizer.save_pretrained(output_models_dir)"
   ]
  },
  {
   "cell_type": "markdown",
   "metadata": {
    "id": "RHIVc44_fY2N"
   },
   "source": [
    "The training loss goes down and we can see that the WER on the test set also improves nicely. Because this notebook is just for demonstration purposes, we can stop here.\n",
    "\n",
    "The resulting model of this notebook has been saved to [`jimregan/wav2vec2-large-xlsr-irish-basic`](https://huggingface.co/jimregan/wav2vec2-large-xlsr-irish-basic)\n",
    "\n",
    "As a final check, let's load the model and verify that it indeed has learned to transcribe Turkish speech.\n",
    "\n",
    "Let's first load the pretrained checkpoint."
   ]
  },
  {
   "cell_type": "code",
   "execution_count": 42,
   "metadata": {
    "colab": {
     "base_uri": "https://localhost:8080/"
    },
    "id": "J8E8pxJ9hgZS",
    "outputId": "5d137935-475d-4dbf-d833-d26780311e18"
   },
   "outputs": [
    {
     "name": "stderr",
     "output_type": "stream",
     "text": [
      "Special tokens have been added in the vocabulary, make sure the associated word embedding are fine-tuned or trained.\n"
     ]
    }
   ],
   "source": [
    "model2 = Wav2Vec2ForCTC.from_pretrained(output_models_dir).to(\"cuda\")\n",
    "processor2 = Wav2Vec2Processor.from_pretrained(output_models_dir)"
   ]
  },
  {
   "cell_type": "markdown",
   "metadata": {
    "id": "QsfGCQYSvY8C"
   },
   "source": [
    "Now, we will just take the first example of the test set, run it through the model and take the `argmax(...)` of the logits to retrieve the predicted token ids."
   ]
  },
  {
   "cell_type": "code",
   "execution_count": 43,
   "metadata": {
    "colab": {
     "base_uri": "https://localhost:8080/"
    },
    "id": "EA6fxk-jiHby",
    "outputId": "8b91a977-2559-4adc-8298-b4ad6b7ff196"
   },
   "outputs": [
    {
     "name": "stderr",
     "output_type": "stream",
     "text": [
      "It is strongly recommended to pass the ``sampling_rate`` argument to this function.Failing to do so can result in silent errors that might be hard to debug.\n"
     ]
    }
   ],
   "source": [
    "input_dict = processor2(common_voice_test[\"input_values\"][0], return_tensors=\"pt\", padding=True)\n",
    "\n",
    "logits = model2(input_dict.input_values.to(\"cuda\")).logits\n",
    "\n",
    "pred_ids = torch.argmax(logits, dim=-1)[0]"
   ]
  },
  {
   "cell_type": "markdown",
   "metadata": {
    "id": "1JDyVCMDvlYd"
   },
   "source": [
    "We adapted `common_voice_test` quite a bit so that the dataset instance does not contain the original sentence label anymore. Thus, we re-use the original dataset to get the label of the first example."
   ]
  },
  {
   "cell_type": "code",
   "execution_count": 44,
   "metadata": {
    "colab": {
     "base_uri": "https://localhost:8080/"
    },
    "id": "8dPE2GRIgtx-",
    "outputId": "a211d1ee-d850-481d-8bac-dc46c3efa561"
   },
   "outputs": [
    {
     "name": "stderr",
     "output_type": "stream",
     "text": [
      "Using custom data configuration ga-IE-d1da170b20bac7b9\n",
      "Reusing dataset common_voice (/workspace/.cache/huggingface/datasets/common_voice/ga-IE-d1da170b20bac7b9/6.1.0/0041e06ab061b91d0a23234a2221e87970a19cf3a81b20901474cffffeb7869f)\n"
     ]
    }
   ],
   "source": [
    "common_voice_test_transcription = load_dataset(\"common_voice\", language_code, data_dir=data_dir, split=\"test\")"
   ]
  },
  {
   "cell_type": "markdown",
   "metadata": {
    "id": "ApS3MmN4v5P7"
   },
   "source": [
    "Finally, we can decode the example."
   ]
  },
  {
   "cell_type": "code",
   "execution_count": 45,
   "metadata": {
    "colab": {
     "base_uri": "https://localhost:8080/"
    },
    "id": "Phqxa1O1jMDk",
    "outputId": "60d48c9f-f745-45ac-9105-446dc71025ca"
   },
   "outputs": [
    {
     "name": "stdout",
     "output_type": "stream",
     "text": [
      "Prediction:\n",
      "bhí tara mhioscéiri agus meadbh óruirc ag seaintaí ngárdaoin na mlá\n",
      "\n",
      "Reference:\n",
      "\"bhí tara viscardi agus meadhbh o'rourke ag seinnt i ngairdín na mbláth\"\n"
     ]
    }
   ],
   "source": [
    "print(\"Prediction:\")\n",
    "print(processor2.decode(pred_ids))\n",
    "\n",
    "print(\"\\nReference:\")\n",
    "print(common_voice_test_transcription[\"sentence\"][0].lower())\n"
   ]
  },
  {
   "cell_type": "markdown",
   "metadata": {
    "id": "4n_8vhzUv7aw"
   },
   "source": [
    "Alright! The transcription can definitely be recognized from our prediction, but it is far from being perfect. Training the model a bit longer, spending more time on the data preprocessing, and especially using a language model for decoding would certainly improve the model's overall performance. \n",
    "\n",
    "For a demonstration model on a low-resource language, the results are acceptable, however 🤗."
   ]
  },
  {
   "cell_type": "code",
   "execution_count": 46,
   "metadata": {},
   "outputs": [
    {
     "name": "stderr",
     "output_type": "stream",
     "text": [
      "Reusing dataset common_voice (/workspace/.cache/huggingface/datasets/common_voice/ga-IE/6.1.0/0041e06ab061b91d0a23234a2221e87970a19cf3a81b20901474cffffeb7869f)\n",
      "Loading cached processed dataset at /workspace/.cache/huggingface/datasets/common_voice/ga-IE/6.1.0/0041e06ab061b91d0a23234a2221e87970a19cf3a81b20901474cffffeb7869f/cache-97fff0ec51dc91d3.arrow\n"
     ]
    },
    {
     "data": {
      "application/vnd.jupyter.widget-view+json": {
       "model_id": "05942a656eec4b2dbea489534fb61eb8",
       "version_major": 2,
       "version_minor": 0
      },
      "text/plain": [
       "HBox(children=(FloatProgress(value=0.0, max=64.0), HTML(value='')))"
      ]
     },
     "metadata": {},
     "output_type": "display_data"
    },
    {
     "name": "stdout",
     "output_type": "stream",
     "text": [
      "\n",
      "WER: 47.366881\n"
     ]
    }
   ],
   "source": [
    "import torch\n",
    "import torchaudio\n",
    "from datasets import load_dataset, load_metric\n",
    "from transformers import Wav2Vec2ForCTC, Wav2Vec2Processor\n",
    "import re\n",
    "test_dataset = load_dataset(\"common_voice\", \"ga-IE\", split=\"test\")\n",
    "wer = load_metric(\"wer\")\n",
    "def is_upper_vowel(letter):\n",
    "    if letter in ['A', 'E', 'I', 'O', 'U', 'Á', 'É', 'Í', 'Ó', 'Ú']:\n",
    "        return True\n",
    "    else:\n",
    "        return False\n",
    "def irish_lower(word):\n",
    "    if len(word) > 1 and word[0] in ['n', 't'] and is_upper_vowel(word[1]):\n",
    "        return word[0] + '-' + word[1:].lower()\n",
    "    else:\n",
    "        return word.lower()\n",
    "def irish_lower_sentence(sentence):\n",
    "    return \" \".join([irish_lower(w) for w in sentence.split(\" \")])\n",
    "chars_to_ignore_regex = '[,\\?\\.\\!\\;\\:\\\"\\“\\%\\‘\\”\\(\\)\\*]'\n",
    "def remove_special_characters(sentence):\n",
    "  tmp = re.sub('’ ', ' ', sentence)\n",
    "  tmp = re.sub(\"’$\", '', tmp)\n",
    "  tmp = re.sub('’', '\\'', tmp)\n",
    "  tmp = re.sub(chars_to_ignore_regex, '', tmp)\n",
    "  sentence = irish_lower_sentence(tmp) + ' '\n",
    "  return sentence\n",
    "resampler = torchaudio.transforms.Resample(48_000, 16_000)\n",
    "# Preprocessing the datasets.\n",
    "# We need to read the audio files as arrays\n",
    "def speech_file_to_array_fn(batch):\n",
    "    batch[\"sentence\"] = remove_special_characters(batch[\"sentence\"])\n",
    "    speech_array, sampling_rate = torchaudio.load(batch[\"path\"])\n",
    "    batch[\"speech\"] = resampler(speech_array).squeeze().numpy()\n",
    "    return batch\n",
    "test_dataset = test_dataset.map(speech_file_to_array_fn)\n",
    "\n",
    "# Preprocessing the datasets.\n",
    "# We need to read the aduio files as arrays\n",
    "def evaluate(batch):\n",
    "    inputs = processor2(batch[\"speech\"], sampling_rate=16_000, return_tensors=\"pt\", padding=True)\n",
    "\n",
    "    with torch.no_grad():\n",
    "        logits = model2(inputs.input_values.to(\"cuda\"), attention_mask=inputs.attention_mask.to(\"cuda\")).logits\n",
    "\n",
    "    pred_ids = torch.argmax(logits, dim=-1)\n",
    "    batch[\"pred_strings\"] = processor.batch_decode(pred_ids)\n",
    "    return batch\n",
    "\n",
    "result = test_dataset.map(evaluate, batched=True, batch_size=8)\n",
    "\n",
    "print(\"WER: {:2f}\".format(100 * wer.compute(predictions=result[\"pred_strings\"], references=result[\"sentence\"])))"
   ]
  }
 ],
 "metadata": {
  "accelerator": "GPU",
  "colab": {
   "collapsed_sections": [],
   "include_colab_link": true,
   "machine_shape": "hm",
   "name": "Fine-Tune XLSR-Wav2Vec2 on Turkish ASR with 🤗 Transformers.ipynb",
   "provenance": []
  },
  "kernelspec": {
   "display_name": "Python 3",
   "language": "python",
   "name": "python3"
  },
  "language_info": {
   "codemirror_mode": {
    "name": "ipython",
    "version": 3
   },
   "file_extension": ".py",
   "mimetype": "text/x-python",
   "name": "python",
   "nbconvert_exporter": "python",
   "pygments_lexer": "ipython3",
   "version": "3.7.6"
  },
  "widgets": {
   "application/vnd.jupyter.widget-state+json": {
    "015c5690e1ea4281954c7efda1c80a6a": {
     "model_module": "@jupyter-widgets/controls",
     "model_name": "FloatProgressModel",
     "state": {
      "_dom_classes": [],
      "_model_module": "@jupyter-widgets/controls",
      "_model_module_version": "1.5.0",
      "_model_name": "FloatProgressModel",
      "_view_count": null,
      "_view_module": "@jupyter-widgets/controls",
      "_view_module_version": "1.5.0",
      "_view_name": "ProgressView",
      "bar_style": "success",
      "description": "#1: 100%",
      "description_tooltip": null,
      "layout": "IPY_MODEL_dec796237765477ea904834d9a824b61",
      "max": 109,
      "min": 0,
      "orientation": "horizontal",
      "style": "IPY_MODEL_2f727c76652944e3892dd584bea11af2",
      "value": 109
     }
    },
    "018c1f8e198e4df4b480e609bd1be602": {
     "model_module": "@jupyter-widgets/controls",
     "model_name": "HTMLModel",
     "state": {
      "_dom_classes": [],
      "_model_module": "@jupyter-widgets/controls",
      "_model_module_version": "1.5.0",
      "_model_name": "HTMLModel",
      "_view_count": null,
      "_view_module": "@jupyter-widgets/controls",
      "_view_module_version": "1.5.0",
      "_view_name": "HTMLView",
      "description": "",
      "description_tooltip": null,
      "layout": "IPY_MODEL_768ab09956774f50a79b2493a8bf179b",
      "placeholder": "​",
      "style": "IPY_MODEL_d35c15beeb33476894b07c3563f8facd",
      "value": " 109/109 [00:56&lt;00:00,  1.92ba/s]"
     }
    },
    "020bdb330b0d40f5b89697ff37025f69": {
     "model_module": "@jupyter-widgets/base",
     "model_name": "LayoutModel",
     "state": {
      "_model_module": "@jupyter-widgets/base",
      "_model_module_version": "1.2.0",
      "_model_name": "LayoutModel",
      "_view_count": null,
      "_view_module": "@jupyter-widgets/base",
      "_view_module_version": "1.2.0",
      "_view_name": "LayoutView",
      "align_content": null,
      "align_items": null,
      "align_self": null,
      "border": null,
      "bottom": null,
      "display": null,
      "flex": null,
      "flex_flow": null,
      "grid_area": null,
      "grid_auto_columns": null,
      "grid_auto_flow": null,
      "grid_auto_rows": null,
      "grid_column": null,
      "grid_gap": null,
      "grid_row": null,
      "grid_template_areas": null,
      "grid_template_columns": null,
      "grid_template_rows": null,
      "height": null,
      "justify_content": null,
      "justify_items": null,
      "left": null,
      "margin": null,
      "max_height": null,
      "max_width": null,
      "min_height": null,
      "min_width": null,
      "object_fit": null,
      "object_position": null,
      "order": null,
      "overflow": null,
      "overflow_x": null,
      "overflow_y": null,
      "padding": null,
      "right": null,
      "top": null,
      "visibility": null,
      "width": null
     }
    },
    "024989cea06f435894776b0a921164b2": {
     "model_module": "@jupyter-widgets/controls",
     "model_name": "ProgressStyleModel",
     "state": {
      "_model_module": "@jupyter-widgets/controls",
      "_model_module_version": "1.5.0",
      "_model_name": "ProgressStyleModel",
      "_view_count": null,
      "_view_module": "@jupyter-widgets/base",
      "_view_module_version": "1.2.0",
      "_view_name": "StyleView",
      "bar_color": null,
      "description_width": "initial"
     }
    },
    "02bdb06c176145feaa842b97ae58609c": {
     "model_module": "@jupyter-widgets/controls",
     "model_name": "DescriptionStyleModel",
     "state": {
      "_model_module": "@jupyter-widgets/controls",
      "_model_module_version": "1.5.0",
      "_model_name": "DescriptionStyleModel",
      "_view_count": null,
      "_view_module": "@jupyter-widgets/base",
      "_view_module_version": "1.2.0",
      "_view_name": "StyleView",
      "description_width": ""
     }
    },
    "02d1f77324854fbca0df9384c57faac8": {
     "model_module": "@jupyter-widgets/controls",
     "model_name": "FloatProgressModel",
     "state": {
      "_dom_classes": [],
      "_model_module": "@jupyter-widgets/controls",
      "_model_module_version": "1.5.0",
      "_model_name": "FloatProgressModel",
      "_view_count": null,
      "_view_module": "@jupyter-widgets/controls",
      "_view_module_version": "1.5.0",
      "_view_name": "ProgressView",
      "bar_style": "success",
      "description": "#3: 100%",
      "description_tooltip": null,
      "layout": "IPY_MODEL_d4a3f79644fc41848450ba29e6fdfc3d",
      "max": 52,
      "min": 0,
      "orientation": "horizontal",
      "style": "IPY_MODEL_704ea5e05fd744d998b76d6435992995",
      "value": 52
     }
    },
    "0354ab33471e4c34a0c1b3c062bcd6bb": {
     "model_module": "@jupyter-widgets/base",
     "model_name": "LayoutModel",
     "state": {
      "_model_module": "@jupyter-widgets/base",
      "_model_module_version": "1.2.0",
      "_model_name": "LayoutModel",
      "_view_count": null,
      "_view_module": "@jupyter-widgets/base",
      "_view_module_version": "1.2.0",
      "_view_name": "LayoutView",
      "align_content": null,
      "align_items": null,
      "align_self": null,
      "border": null,
      "bottom": null,
      "display": null,
      "flex": null,
      "flex_flow": null,
      "grid_area": null,
      "grid_auto_columns": null,
      "grid_auto_flow": null,
      "grid_auto_rows": null,
      "grid_column": null,
      "grid_gap": null,
      "grid_row": null,
      "grid_template_areas": null,
      "grid_template_columns": null,
      "grid_template_rows": null,
      "height": null,
      "justify_content": null,
      "justify_items": null,
      "left": null,
      "margin": null,
      "max_height": null,
      "max_width": null,
      "min_height": null,
      "min_width": null,
      "object_fit": null,
      "object_position": null,
      "order": null,
      "overflow": null,
      "overflow_x": null,
      "overflow_y": null,
      "padding": null,
      "right": null,
      "top": null,
      "visibility": null,
      "width": null
     }
    },
    "03b33c17734d49e28c4636dddd6e833d": {
     "model_module": "@jupyter-widgets/controls",
     "model_name": "FloatProgressModel",
     "state": {
      "_dom_classes": [],
      "_model_module": "@jupyter-widgets/controls",
      "_model_module_version": "1.5.0",
      "_model_name": "FloatProgressModel",
      "_view_count": null,
      "_view_module": "@jupyter-widgets/controls",
      "_view_module_version": "1.5.0",
      "_view_name": "ProgressView",
      "bar_style": "info",
      "description": "",
      "description_tooltip": null,
      "layout": "IPY_MODEL_bee0f50055eb4f738636142a10da0ddd",
      "max": 1,
      "min": 0,
      "orientation": "horizontal",
      "style": "IPY_MODEL_da1ff50f8b9241108a325ada04224642",
      "value": 1
     }
    },
    "05f83d714f864a399083f0e34a812467": {
     "model_module": "@jupyter-widgets/controls",
     "model_name": "DescriptionStyleModel",
     "state": {
      "_model_module": "@jupyter-widgets/controls",
      "_model_module_version": "1.5.0",
      "_model_name": "DescriptionStyleModel",
      "_view_count": null,
      "_view_module": "@jupyter-widgets/base",
      "_view_module_version": "1.2.0",
      "_view_name": "StyleView",
      "description_width": ""
     }
    },
    "089428f56e66419f85ea149d9d102454": {
     "model_module": "@jupyter-widgets/controls",
     "model_name": "HBoxModel",
     "state": {
      "_dom_classes": [],
      "_model_module": "@jupyter-widgets/controls",
      "_model_module_version": "1.5.0",
      "_model_name": "HBoxModel",
      "_view_count": null,
      "_view_module": "@jupyter-widgets/controls",
      "_view_module_version": "1.5.0",
      "_view_name": "HBoxView",
      "box_style": "",
      "children": [
       "IPY_MODEL_4db5037af3f64a3a8a8a1203018a80ff",
       "IPY_MODEL_6a957c1c17474d8d89c27ddecf702fda"
      ],
      "layout": "IPY_MODEL_d649c0f9c1c24634a84b7ef697721ffa"
     }
    },
    "0987aac282af415da2fbc9dc1b4d5069": {
     "model_module": "@jupyter-widgets/base",
     "model_name": "LayoutModel",
     "state": {
      "_model_module": "@jupyter-widgets/base",
      "_model_module_version": "1.2.0",
      "_model_name": "LayoutModel",
      "_view_count": null,
      "_view_module": "@jupyter-widgets/base",
      "_view_module_version": "1.2.0",
      "_view_name": "LayoutView",
      "align_content": null,
      "align_items": null,
      "align_self": null,
      "border": null,
      "bottom": null,
      "display": null,
      "flex": null,
      "flex_flow": null,
      "grid_area": null,
      "grid_auto_columns": null,
      "grid_auto_flow": null,
      "grid_auto_rows": null,
      "grid_column": null,
      "grid_gap": null,
      "grid_row": null,
      "grid_template_areas": null,
      "grid_template_columns": null,
      "grid_template_rows": null,
      "height": null,
      "justify_content": null,
      "justify_items": null,
      "left": null,
      "margin": null,
      "max_height": null,
      "max_width": null,
      "min_height": null,
      "min_width": null,
      "object_fit": null,
      "object_position": null,
      "order": null,
      "overflow": null,
      "overflow_x": null,
      "overflow_y": null,
      "padding": null,
      "right": null,
      "top": null,
      "visibility": null,
      "width": null
     }
    },
    "0a9b58c98508420d8f8936189f064316": {
     "model_module": "@jupyter-widgets/controls",
     "model_name": "FloatProgressModel",
     "state": {
      "_dom_classes": [],
      "_model_module": "@jupyter-widgets/controls",
      "_model_module_version": "1.5.0",
      "_model_name": "FloatProgressModel",
      "_view_count": null,
      "_view_module": "@jupyter-widgets/controls",
      "_view_module_version": "1.5.0",
      "_view_name": "ProgressView",
      "bar_style": "info",
      "description": "",
      "description_tooltip": null,
      "layout": "IPY_MODEL_af85713f677243d19cba9fe69a4a5f46",
      "max": 1,
      "min": 0,
      "orientation": "horizontal",
      "style": "IPY_MODEL_c546bca23ee248a1be7bd8ead3e82a8f",
      "value": 1
     }
    },
    "0b795d4b68014de19bf9579c67b55ffb": {
     "model_module": "@jupyter-widgets/controls",
     "model_name": "DescriptionStyleModel",
     "state": {
      "_model_module": "@jupyter-widgets/controls",
      "_model_module_version": "1.5.0",
      "_model_name": "DescriptionStyleModel",
      "_view_count": null,
      "_view_module": "@jupyter-widgets/base",
      "_view_module_version": "1.2.0",
      "_view_name": "StyleView",
      "description_width": ""
     }
    },
    "0cd1932178c945d48604ffd299e65d2c": {
     "model_module": "@jupyter-widgets/base",
     "model_name": "LayoutModel",
     "state": {
      "_model_module": "@jupyter-widgets/base",
      "_model_module_version": "1.2.0",
      "_model_name": "LayoutModel",
      "_view_count": null,
      "_view_module": "@jupyter-widgets/base",
      "_view_module_version": "1.2.0",
      "_view_name": "LayoutView",
      "align_content": null,
      "align_items": null,
      "align_self": null,
      "border": null,
      "bottom": null,
      "display": null,
      "flex": null,
      "flex_flow": null,
      "grid_area": null,
      "grid_auto_columns": null,
      "grid_auto_flow": null,
      "grid_auto_rows": null,
      "grid_column": null,
      "grid_gap": null,
      "grid_row": null,
      "grid_template_areas": null,
      "grid_template_columns": null,
      "grid_template_rows": null,
      "height": null,
      "justify_content": null,
      "justify_items": null,
      "left": null,
      "margin": null,
      "max_height": null,
      "max_width": null,
      "min_height": null,
      "min_width": null,
      "object_fit": null,
      "object_position": null,
      "order": null,
      "overflow": null,
      "overflow_x": null,
      "overflow_y": null,
      "padding": null,
      "right": null,
      "top": null,
      "visibility": null,
      "width": null
     }
    },
    "0e999af234bd4b63ad2937e61d08b693": {
     "model_module": "@jupyter-widgets/base",
     "model_name": "LayoutModel",
     "state": {
      "_model_module": "@jupyter-widgets/base",
      "_model_module_version": "1.2.0",
      "_model_name": "LayoutModel",
      "_view_count": null,
      "_view_module": "@jupyter-widgets/base",
      "_view_module_version": "1.2.0",
      "_view_name": "LayoutView",
      "align_content": null,
      "align_items": null,
      "align_self": null,
      "border": null,
      "bottom": null,
      "display": null,
      "flex": null,
      "flex_flow": null,
      "grid_area": null,
      "grid_auto_columns": null,
      "grid_auto_flow": null,
      "grid_auto_rows": null,
      "grid_column": null,
      "grid_gap": null,
      "grid_row": null,
      "grid_template_areas": null,
      "grid_template_columns": null,
      "grid_template_rows": null,
      "height": null,
      "justify_content": null,
      "justify_items": null,
      "left": null,
      "margin": null,
      "max_height": null,
      "max_width": null,
      "min_height": null,
      "min_width": null,
      "object_fit": null,
      "object_position": null,
      "order": null,
      "overflow": null,
      "overflow_x": null,
      "overflow_y": null,
      "padding": null,
      "right": null,
      "top": null,
      "visibility": null,
      "width": null
     }
    },
    "0f3756509e3b405d87936f599b153de2": {
     "model_module": "@jupyter-widgets/base",
     "model_name": "LayoutModel",
     "state": {
      "_model_module": "@jupyter-widgets/base",
      "_model_module_version": "1.2.0",
      "_model_name": "LayoutModel",
      "_view_count": null,
      "_view_module": "@jupyter-widgets/base",
      "_view_module_version": "1.2.0",
      "_view_name": "LayoutView",
      "align_content": null,
      "align_items": null,
      "align_self": null,
      "border": null,
      "bottom": null,
      "display": null,
      "flex": null,
      "flex_flow": null,
      "grid_area": null,
      "grid_auto_columns": null,
      "grid_auto_flow": null,
      "grid_auto_rows": null,
      "grid_column": null,
      "grid_gap": null,
      "grid_row": null,
      "grid_template_areas": null,
      "grid_template_columns": null,
      "grid_template_rows": null,
      "height": null,
      "justify_content": null,
      "justify_items": null,
      "left": null,
      "margin": null,
      "max_height": null,
      "max_width": null,
      "min_height": null,
      "min_width": null,
      "object_fit": null,
      "object_position": null,
      "order": null,
      "overflow": null,
      "overflow_x": null,
      "overflow_y": null,
      "padding": null,
      "right": null,
      "top": null,
      "visibility": null,
      "width": null
     }
    },
    "0f99011a13754ed99f3c51a478b0e793": {
     "model_module": "@jupyter-widgets/controls",
     "model_name": "HBoxModel",
     "state": {
      "_dom_classes": [],
      "_model_module": "@jupyter-widgets/controls",
      "_model_module_version": "1.5.0",
      "_model_name": "HBoxModel",
      "_view_count": null,
      "_view_module": "@jupyter-widgets/controls",
      "_view_module_version": "1.5.0",
      "_view_name": "HBoxView",
      "box_style": "",
      "children": [
       "IPY_MODEL_bd187486ac2548f2961cfcb63d852de1",
       "IPY_MODEL_3f780f0aa8834fc189b292e0474e2ffa"
      ],
      "layout": "IPY_MODEL_4abe2731ec624729b401d60a392cae63"
     }
    },
    "0ffcbedb8d4444508ac0c3c0b41ea8ac": {
     "model_module": "@jupyter-widgets/base",
     "model_name": "LayoutModel",
     "state": {
      "_model_module": "@jupyter-widgets/base",
      "_model_module_version": "1.2.0",
      "_model_name": "LayoutModel",
      "_view_count": null,
      "_view_module": "@jupyter-widgets/base",
      "_view_module_version": "1.2.0",
      "_view_name": "LayoutView",
      "align_content": null,
      "align_items": null,
      "align_self": null,
      "border": null,
      "bottom": null,
      "display": null,
      "flex": null,
      "flex_flow": null,
      "grid_area": null,
      "grid_auto_columns": null,
      "grid_auto_flow": null,
      "grid_auto_rows": null,
      "grid_column": null,
      "grid_gap": null,
      "grid_row": null,
      "grid_template_areas": null,
      "grid_template_columns": null,
      "grid_template_rows": null,
      "height": null,
      "justify_content": null,
      "justify_items": null,
      "left": null,
      "margin": null,
      "max_height": null,
      "max_width": null,
      "min_height": null,
      "min_width": null,
      "object_fit": null,
      "object_position": null,
      "order": null,
      "overflow": null,
      "overflow_x": null,
      "overflow_y": null,
      "padding": null,
      "right": null,
      "top": null,
      "visibility": null,
      "width": null
     }
    },
    "1261590ef796493798f7068ea0547b74": {
     "model_module": "@jupyter-widgets/controls",
     "model_name": "ProgressStyleModel",
     "state": {
      "_model_module": "@jupyter-widgets/controls",
      "_model_module_version": "1.5.0",
      "_model_name": "ProgressStyleModel",
      "_view_count": null,
      "_view_module": "@jupyter-widgets/base",
      "_view_module_version": "1.2.0",
      "_view_name": "StyleView",
      "bar_color": null,
      "description_width": "initial"
     }
    },
    "12696cc03f464a63a411efb2b5e5ac3b": {
     "model_module": "@jupyter-widgets/controls",
     "model_name": "HTMLModel",
     "state": {
      "_dom_classes": [],
      "_model_module": "@jupyter-widgets/controls",
      "_model_module_version": "1.5.0",
      "_model_name": "HTMLModel",
      "_view_count": null,
      "_view_module": "@jupyter-widgets/controls",
      "_view_module_version": "1.5.0",
      "_view_name": "HTMLView",
      "description": "",
      "description_tooltip": null,
      "layout": "IPY_MODEL_ceb44ba4fdf34da19a52469acf1ce63f",
      "placeholder": "​",
      "style": "IPY_MODEL_68a3178fe7a54e838e798ff28ff9aa0b",
      "value": " 139k/? [00:00&lt;00:00, 2.38MB/s]"
     }
    },
    "1813458f75514f039ba0214597a09bb4": {
     "model_module": "@jupyter-widgets/base",
     "model_name": "LayoutModel",
     "state": {
      "_model_module": "@jupyter-widgets/base",
      "_model_module_version": "1.2.0",
      "_model_name": "LayoutModel",
      "_view_count": null,
      "_view_module": "@jupyter-widgets/base",
      "_view_module_version": "1.2.0",
      "_view_name": "LayoutView",
      "align_content": null,
      "align_items": null,
      "align_self": null,
      "border": null,
      "bottom": null,
      "display": null,
      "flex": null,
      "flex_flow": null,
      "grid_area": null,
      "grid_auto_columns": null,
      "grid_auto_flow": null,
      "grid_auto_rows": null,
      "grid_column": null,
      "grid_gap": null,
      "grid_row": null,
      "grid_template_areas": null,
      "grid_template_columns": null,
      "grid_template_rows": null,
      "height": null,
      "justify_content": null,
      "justify_items": null,
      "left": null,
      "margin": null,
      "max_height": null,
      "max_width": null,
      "min_height": null,
      "min_width": null,
      "object_fit": null,
      "object_position": null,
      "order": null,
      "overflow": null,
      "overflow_x": null,
      "overflow_y": null,
      "padding": null,
      "right": null,
      "top": null,
      "visibility": null,
      "width": null
     }
    },
    "19e263785ea343ba99ee2127d9b83d1d": {
     "model_module": "@jupyter-widgets/controls",
     "model_name": "DescriptionStyleModel",
     "state": {
      "_model_module": "@jupyter-widgets/controls",
      "_model_module_version": "1.5.0",
      "_model_name": "DescriptionStyleModel",
      "_view_count": null,
      "_view_module": "@jupyter-widgets/base",
      "_view_module_version": "1.2.0",
      "_view_name": "StyleView",
      "description_width": ""
     }
    },
    "1f1faa7b986e475c9e6839b2e7b55c74": {
     "model_module": "@jupyter-widgets/controls",
     "model_name": "HTMLModel",
     "state": {
      "_dom_classes": [],
      "_model_module": "@jupyter-widgets/controls",
      "_model_module_version": "1.5.0",
      "_model_name": "HTMLModel",
      "_view_count": null,
      "_view_module": "@jupyter-widgets/controls",
      "_view_module_version": "1.5.0",
      "_view_name": "HTMLView",
      "description": "",
      "description_tooltip": null,
      "layout": "IPY_MODEL_b320306eaf264ad9872d507a1a1cb2da",
      "placeholder": "​",
      "style": "IPY_MODEL_2ca2f397c4ef405bba27ae2b1415cada",
      "value": " 3478/3478 [03:59&lt;00:00, 14.53ex/s]"
     }
    },
    "20347ed29fdc4c0a96da28c09aacf44d": {
     "model_module": "@jupyter-widgets/controls",
     "model_name": "DescriptionStyleModel",
     "state": {
      "_model_module": "@jupyter-widgets/controls",
      "_model_module_version": "1.5.0",
      "_model_name": "DescriptionStyleModel",
      "_view_count": null,
      "_view_module": "@jupyter-widgets/base",
      "_view_module_version": "1.2.0",
      "_view_name": "StyleView",
      "description_width": ""
     }
    },
    "231c66f195d34f86b216805518f4bccd": {
     "model_module": "@jupyter-widgets/controls",
     "model_name": "ProgressStyleModel",
     "state": {
      "_model_module": "@jupyter-widgets/controls",
      "_model_module_version": "1.5.0",
      "_model_name": "ProgressStyleModel",
      "_view_count": null,
      "_view_module": "@jupyter-widgets/base",
      "_view_module_version": "1.2.0",
      "_view_name": "StyleView",
      "bar_color": null,
      "description_width": "initial"
     }
    },
    "24ea17ae8ab14e8a871e5e115c3f4c06": {
     "model_module": "@jupyter-widgets/controls",
     "model_name": "HBoxModel",
     "state": {
      "_dom_classes": [],
      "_model_module": "@jupyter-widgets/controls",
      "_model_module_version": "1.5.0",
      "_model_name": "HBoxModel",
      "_view_count": null,
      "_view_module": "@jupyter-widgets/controls",
      "_view_module_version": "1.5.0",
      "_view_name": "HBoxView",
      "box_style": "",
      "children": [
       "IPY_MODEL_f3905820a42c499fba04af9c1ad19705",
       "IPY_MODEL_4e1a725fd90b45e280b8b0028ba65250"
      ],
      "layout": "IPY_MODEL_f57d087016124ebeb073fd7428dcb68b"
     }
    },
    "25ba4f4c8b9c44af9885b3903a9261fd": {
     "model_module": "@jupyter-widgets/controls",
     "model_name": "HBoxModel",
     "state": {
      "_dom_classes": [],
      "_model_module": "@jupyter-widgets/controls",
      "_model_module_version": "1.5.0",
      "_model_name": "HBoxModel",
      "_view_count": null,
      "_view_module": "@jupyter-widgets/controls",
      "_view_module_version": "1.5.0",
      "_view_name": "HBoxView",
      "box_style": "",
      "children": [
       "IPY_MODEL_03b33c17734d49e28c4636dddd6e833d",
       "IPY_MODEL_71c059a0f3c246f3a40d55744331daaa"
      ],
      "layout": "IPY_MODEL_dde7ae43ef954ef1b901c80f0a4e11fd"
     }
    },
    "26e7bab0f3bf4797bfcef83dcace24f0": {
     "model_module": "@jupyter-widgets/base",
     "model_name": "LayoutModel",
     "state": {
      "_model_module": "@jupyter-widgets/base",
      "_model_module_version": "1.2.0",
      "_model_name": "LayoutModel",
      "_view_count": null,
      "_view_module": "@jupyter-widgets/base",
      "_view_module_version": "1.2.0",
      "_view_name": "LayoutView",
      "align_content": null,
      "align_items": null,
      "align_self": null,
      "border": null,
      "bottom": null,
      "display": null,
      "flex": null,
      "flex_flow": null,
      "grid_area": null,
      "grid_auto_columns": null,
      "grid_auto_flow": null,
      "grid_auto_rows": null,
      "grid_column": null,
      "grid_gap": null,
      "grid_row": null,
      "grid_template_areas": null,
      "grid_template_columns": null,
      "grid_template_rows": null,
      "height": null,
      "justify_content": null,
      "justify_items": null,
      "left": null,
      "margin": null,
      "max_height": null,
      "max_width": null,
      "min_height": null,
      "min_width": null,
      "object_fit": null,
      "object_position": null,
      "order": null,
      "overflow": null,
      "overflow_x": null,
      "overflow_y": null,
      "padding": null,
      "right": null,
      "top": null,
      "visibility": null,
      "width": null
     }
    },
    "2a6e1185a6a247f5acba8111824ad36b": {
     "model_module": "@jupyter-widgets/controls",
     "model_name": "ProgressStyleModel",
     "state": {
      "_model_module": "@jupyter-widgets/controls",
      "_model_module_version": "1.5.0",
      "_model_name": "ProgressStyleModel",
      "_view_count": null,
      "_view_module": "@jupyter-widgets/base",
      "_view_module_version": "1.2.0",
      "_view_name": "StyleView",
      "bar_color": null,
      "description_width": "initial"
     }
    },
    "2ca2f397c4ef405bba27ae2b1415cada": {
     "model_module": "@jupyter-widgets/controls",
     "model_name": "DescriptionStyleModel",
     "state": {
      "_model_module": "@jupyter-widgets/controls",
      "_model_module_version": "1.5.0",
      "_model_name": "DescriptionStyleModel",
      "_view_count": null,
      "_view_module": "@jupyter-widgets/base",
      "_view_module_version": "1.2.0",
      "_view_name": "StyleView",
      "description_width": ""
     }
    },
    "2cd13e03a2ab45dc8570c8c739a613b4": {
     "model_module": "@jupyter-widgets/base",
     "model_name": "LayoutModel",
     "state": {
      "_model_module": "@jupyter-widgets/base",
      "_model_module_version": "1.2.0",
      "_model_name": "LayoutModel",
      "_view_count": null,
      "_view_module": "@jupyter-widgets/base",
      "_view_module_version": "1.2.0",
      "_view_name": "LayoutView",
      "align_content": null,
      "align_items": null,
      "align_self": null,
      "border": null,
      "bottom": null,
      "display": null,
      "flex": null,
      "flex_flow": null,
      "grid_area": null,
      "grid_auto_columns": null,
      "grid_auto_flow": null,
      "grid_auto_rows": null,
      "grid_column": null,
      "grid_gap": null,
      "grid_row": null,
      "grid_template_areas": null,
      "grid_template_columns": null,
      "grid_template_rows": null,
      "height": null,
      "justify_content": null,
      "justify_items": null,
      "left": null,
      "margin": null,
      "max_height": null,
      "max_width": null,
      "min_height": null,
      "min_width": null,
      "object_fit": null,
      "object_position": null,
      "order": null,
      "overflow": null,
      "overflow_x": null,
      "overflow_y": null,
      "padding": null,
      "right": null,
      "top": null,
      "visibility": null,
      "width": null
     }
    },
    "2f18d89c684343b69c3f44ffbb9b42a0": {
     "model_module": "@jupyter-widgets/controls",
     "model_name": "DescriptionStyleModel",
     "state": {
      "_model_module": "@jupyter-widgets/controls",
      "_model_module_version": "1.5.0",
      "_model_name": "DescriptionStyleModel",
      "_view_count": null,
      "_view_module": "@jupyter-widgets/base",
      "_view_module_version": "1.2.0",
      "_view_name": "StyleView",
      "description_width": ""
     }
    },
    "2f5406546970425282a881b5d2f7c248": {
     "model_module": "@jupyter-widgets/base",
     "model_name": "LayoutModel",
     "state": {
      "_model_module": "@jupyter-widgets/base",
      "_model_module_version": "1.2.0",
      "_model_name": "LayoutModel",
      "_view_count": null,
      "_view_module": "@jupyter-widgets/base",
      "_view_module_version": "1.2.0",
      "_view_name": "LayoutView",
      "align_content": null,
      "align_items": null,
      "align_self": null,
      "border": null,
      "bottom": null,
      "display": null,
      "flex": null,
      "flex_flow": null,
      "grid_area": null,
      "grid_auto_columns": null,
      "grid_auto_flow": null,
      "grid_auto_rows": null,
      "grid_column": null,
      "grid_gap": null,
      "grid_row": null,
      "grid_template_areas": null,
      "grid_template_columns": null,
      "grid_template_rows": null,
      "height": null,
      "justify_content": null,
      "justify_items": null,
      "left": null,
      "margin": null,
      "max_height": null,
      "max_width": null,
      "min_height": null,
      "min_width": null,
      "object_fit": null,
      "object_position": null,
      "order": null,
      "overflow": null,
      "overflow_x": null,
      "overflow_y": null,
      "padding": null,
      "right": null,
      "top": null,
      "visibility": null,
      "width": null
     }
    },
    "2f727c76652944e3892dd584bea11af2": {
     "model_module": "@jupyter-widgets/controls",
     "model_name": "ProgressStyleModel",
     "state": {
      "_model_module": "@jupyter-widgets/controls",
      "_model_module_version": "1.5.0",
      "_model_name": "ProgressStyleModel",
      "_view_count": null,
      "_view_module": "@jupyter-widgets/base",
      "_view_module_version": "1.2.0",
      "_view_name": "StyleView",
      "bar_color": null,
      "description_width": "initial"
     }
    },
    "2fd148d5587b4139919b0158f9dad71e": {
     "model_module": "@jupyter-widgets/base",
     "model_name": "LayoutModel",
     "state": {
      "_model_module": "@jupyter-widgets/base",
      "_model_module_version": "1.2.0",
      "_model_name": "LayoutModel",
      "_view_count": null,
      "_view_module": "@jupyter-widgets/base",
      "_view_module_version": "1.2.0",
      "_view_name": "LayoutView",
      "align_content": null,
      "align_items": null,
      "align_self": null,
      "border": null,
      "bottom": null,
      "display": null,
      "flex": null,
      "flex_flow": null,
      "grid_area": null,
      "grid_auto_columns": null,
      "grid_auto_flow": null,
      "grid_auto_rows": null,
      "grid_column": null,
      "grid_gap": null,
      "grid_row": null,
      "grid_template_areas": null,
      "grid_template_columns": null,
      "grid_template_rows": null,
      "height": null,
      "justify_content": null,
      "justify_items": null,
      "left": null,
      "margin": null,
      "max_height": null,
      "max_width": null,
      "min_height": null,
      "min_width": null,
      "object_fit": null,
      "object_position": null,
      "order": null,
      "overflow": null,
      "overflow_x": null,
      "overflow_y": null,
      "padding": null,
      "right": null,
      "top": null,
      "visibility": null,
      "width": null
     }
    },
    "304e9130c12f4110941bfbd3db49a28c": {
     "model_module": "@jupyter-widgets/controls",
     "model_name": "HBoxModel",
     "state": {
      "_dom_classes": [],
      "_model_module": "@jupyter-widgets/controls",
      "_model_module_version": "1.5.0",
      "_model_name": "HBoxModel",
      "_view_count": null,
      "_view_module": "@jupyter-widgets/controls",
      "_view_module_version": "1.5.0",
      "_view_name": "HBoxView",
      "box_style": "",
      "children": [
       "IPY_MODEL_75e00c38605f44cfb584067db1160349",
       "IPY_MODEL_8c07a528fc4a4e108b393ab117fe2e46"
      ],
      "layout": "IPY_MODEL_5e6bae23461b4378b6e5fc890fe6bc97"
     }
    },
    "3133b378b9294a759c8dfb786ed8f815": {
     "model_module": "@jupyter-widgets/controls",
     "model_name": "ProgressStyleModel",
     "state": {
      "_model_module": "@jupyter-widgets/controls",
      "_model_module_version": "1.5.0",
      "_model_name": "ProgressStyleModel",
      "_view_count": null,
      "_view_module": "@jupyter-widgets/base",
      "_view_module_version": "1.2.0",
      "_view_name": "StyleView",
      "bar_color": null,
      "description_width": "initial"
     }
    },
    "330226a977694de1bd88c0aa3789be47": {
     "model_module": "@jupyter-widgets/base",
     "model_name": "LayoutModel",
     "state": {
      "_model_module": "@jupyter-widgets/base",
      "_model_module_version": "1.2.0",
      "_model_name": "LayoutModel",
      "_view_count": null,
      "_view_module": "@jupyter-widgets/base",
      "_view_module_version": "1.2.0",
      "_view_name": "LayoutView",
      "align_content": null,
      "align_items": null,
      "align_self": null,
      "border": null,
      "bottom": null,
      "display": null,
      "flex": null,
      "flex_flow": null,
      "grid_area": null,
      "grid_auto_columns": null,
      "grid_auto_flow": null,
      "grid_auto_rows": null,
      "grid_column": null,
      "grid_gap": null,
      "grid_row": null,
      "grid_template_areas": null,
      "grid_template_columns": null,
      "grid_template_rows": null,
      "height": null,
      "justify_content": null,
      "justify_items": null,
      "left": null,
      "margin": null,
      "max_height": null,
      "max_width": null,
      "min_height": null,
      "min_width": null,
      "object_fit": null,
      "object_position": null,
      "order": null,
      "overflow": null,
      "overflow_x": null,
      "overflow_y": null,
      "padding": null,
      "right": null,
      "top": null,
      "visibility": null,
      "width": null
     }
    },
    "33c92b5afd1d4b6d88016aabfb434194": {
     "model_module": "@jupyter-widgets/controls",
     "model_name": "FloatProgressModel",
     "state": {
      "_dom_classes": [],
      "_model_module": "@jupyter-widgets/controls",
      "_model_module_version": "1.5.0",
      "_model_name": "FloatProgressModel",
      "_view_count": null,
      "_view_module": "@jupyter-widgets/controls",
      "_view_module_version": "1.5.0",
      "_view_name": "ProgressView",
      "bar_style": "success",
      "description": "100%",
      "description_tooltip": null,
      "layout": "IPY_MODEL_3dc9ea77b842455a91f00e9ca9f41948",
      "max": 1647,
      "min": 0,
      "orientation": "horizontal",
      "style": "IPY_MODEL_45f0a2f361da4608bc8314a27657a56c",
      "value": 1647
     }
    },
    "348ef54c80b2449f8a3bc950cccd62cc": {
     "model_module": "@jupyter-widgets/controls",
     "model_name": "HBoxModel",
     "state": {
      "_dom_classes": [],
      "_model_module": "@jupyter-widgets/controls",
      "_model_module_version": "1.5.0",
      "_model_name": "HBoxModel",
      "_view_count": null,
      "_view_module": "@jupyter-widgets/controls",
      "_view_module_version": "1.5.0",
      "_view_name": "HBoxView",
      "box_style": "",
      "children": [
       "IPY_MODEL_7edbecaccdd94ede8fddc0e1807e777e",
       "IPY_MODEL_5e3aad95e52f4be2bd670d1345398f1b"
      ],
      "layout": "IPY_MODEL_b78413dcc0584a0c8f71731a06aaa1b8"
     }
    },
    "389e43e47a734193a507817ebad955f7": {
     "model_module": "@jupyter-widgets/base",
     "model_name": "LayoutModel",
     "state": {
      "_model_module": "@jupyter-widgets/base",
      "_model_module_version": "1.2.0",
      "_model_name": "LayoutModel",
      "_view_count": null,
      "_view_module": "@jupyter-widgets/base",
      "_view_module_version": "1.2.0",
      "_view_name": "LayoutView",
      "align_content": null,
      "align_items": null,
      "align_self": null,
      "border": null,
      "bottom": null,
      "display": null,
      "flex": null,
      "flex_flow": null,
      "grid_area": null,
      "grid_auto_columns": null,
      "grid_auto_flow": null,
      "grid_auto_rows": null,
      "grid_column": null,
      "grid_gap": null,
      "grid_row": null,
      "grid_template_areas": null,
      "grid_template_columns": null,
      "grid_template_rows": null,
      "height": null,
      "justify_content": null,
      "justify_items": null,
      "left": null,
      "margin": null,
      "max_height": null,
      "max_width": null,
      "min_height": null,
      "min_width": null,
      "object_fit": null,
      "object_position": null,
      "order": null,
      "overflow": null,
      "overflow_x": null,
      "overflow_y": null,
      "padding": null,
      "right": null,
      "top": null,
      "visibility": null,
      "width": null
     }
    },
    "3bdb4058f40f40e3a10e323325a64638": {
     "model_module": "@jupyter-widgets/controls",
     "model_name": "HTMLModel",
     "state": {
      "_dom_classes": [],
      "_model_module": "@jupyter-widgets/controls",
      "_model_module_version": "1.5.0",
      "_model_name": "HTMLModel",
      "_view_count": null,
      "_view_module": "@jupyter-widgets/controls",
      "_view_module_version": "1.5.0",
      "_view_name": "HTMLView",
      "description": "",
      "description_tooltip": null,
      "layout": "IPY_MODEL_d7f27e9cf8a844349ca90393e0c49a03",
      "placeholder": "​",
      "style": "IPY_MODEL_751ae6b9e2da4b85be9600561485f1ac",
      "value": " 412/412 [03:04&lt;00:00,  2.23ex/s]"
     }
    },
    "3d929b9e2518402b81a71757ffb753d2": {
     "model_module": "@jupyter-widgets/base",
     "model_name": "LayoutModel",
     "state": {
      "_model_module": "@jupyter-widgets/base",
      "_model_module_version": "1.2.0",
      "_model_name": "LayoutModel",
      "_view_count": null,
      "_view_module": "@jupyter-widgets/base",
      "_view_module_version": "1.2.0",
      "_view_name": "LayoutView",
      "align_content": null,
      "align_items": null,
      "align_self": null,
      "border": null,
      "bottom": null,
      "display": null,
      "flex": null,
      "flex_flow": null,
      "grid_area": null,
      "grid_auto_columns": null,
      "grid_auto_flow": null,
      "grid_auto_rows": null,
      "grid_column": null,
      "grid_gap": null,
      "grid_row": null,
      "grid_template_areas": null,
      "grid_template_columns": null,
      "grid_template_rows": null,
      "height": null,
      "justify_content": null,
      "justify_items": null,
      "left": null,
      "margin": null,
      "max_height": null,
      "max_width": null,
      "min_height": null,
      "min_width": null,
      "object_fit": null,
      "object_position": null,
      "order": null,
      "overflow": null,
      "overflow_x": null,
      "overflow_y": null,
      "padding": null,
      "right": null,
      "top": null,
      "visibility": null,
      "width": null
     }
    },
    "3dc9ea77b842455a91f00e9ca9f41948": {
     "model_module": "@jupyter-widgets/base",
     "model_name": "LayoutModel",
     "state": {
      "_model_module": "@jupyter-widgets/base",
      "_model_module_version": "1.2.0",
      "_model_name": "LayoutModel",
      "_view_count": null,
      "_view_module": "@jupyter-widgets/base",
      "_view_module_version": "1.2.0",
      "_view_name": "LayoutView",
      "align_content": null,
      "align_items": null,
      "align_self": null,
      "border": null,
      "bottom": null,
      "display": null,
      "flex": null,
      "flex_flow": null,
      "grid_area": null,
      "grid_auto_columns": null,
      "grid_auto_flow": null,
      "grid_auto_rows": null,
      "grid_column": null,
      "grid_gap": null,
      "grid_row": null,
      "grid_template_areas": null,
      "grid_template_columns": null,
      "grid_template_rows": null,
      "height": null,
      "justify_content": null,
      "justify_items": null,
      "left": null,
      "margin": null,
      "max_height": null,
      "max_width": null,
      "min_height": null,
      "min_width": null,
      "object_fit": null,
      "object_position": null,
      "order": null,
      "overflow": null,
      "overflow_x": null,
      "overflow_y": null,
      "padding": null,
      "right": null,
      "top": null,
      "visibility": null,
      "width": null
     }
    },
    "3e2cd59ac697495f8db14b894b783f95": {
     "model_module": "@jupyter-widgets/base",
     "model_name": "LayoutModel",
     "state": {
      "_model_module": "@jupyter-widgets/base",
      "_model_module_version": "1.2.0",
      "_model_name": "LayoutModel",
      "_view_count": null,
      "_view_module": "@jupyter-widgets/base",
      "_view_module_version": "1.2.0",
      "_view_name": "LayoutView",
      "align_content": null,
      "align_items": null,
      "align_self": null,
      "border": null,
      "bottom": null,
      "display": null,
      "flex": null,
      "flex_flow": null,
      "grid_area": null,
      "grid_auto_columns": null,
      "grid_auto_flow": null,
      "grid_auto_rows": null,
      "grid_column": null,
      "grid_gap": null,
      "grid_row": null,
      "grid_template_areas": null,
      "grid_template_columns": null,
      "grid_template_rows": null,
      "height": null,
      "justify_content": null,
      "justify_items": null,
      "left": null,
      "margin": null,
      "max_height": null,
      "max_width": null,
      "min_height": null,
      "min_width": null,
      "object_fit": null,
      "object_position": null,
      "order": null,
      "overflow": null,
      "overflow_x": null,
      "overflow_y": null,
      "padding": null,
      "right": null,
      "top": null,
      "visibility": null,
      "width": null
     }
    },
    "3e3a022a9f304b0f9f7ef067fcee1e56": {
     "model_module": "@jupyter-widgets/base",
     "model_name": "LayoutModel",
     "state": {
      "_model_module": "@jupyter-widgets/base",
      "_model_module_version": "1.2.0",
      "_model_name": "LayoutModel",
      "_view_count": null,
      "_view_module": "@jupyter-widgets/base",
      "_view_module_version": "1.2.0",
      "_view_name": "LayoutView",
      "align_content": null,
      "align_items": null,
      "align_self": null,
      "border": null,
      "bottom": null,
      "display": null,
      "flex": null,
      "flex_flow": null,
      "grid_area": null,
      "grid_auto_columns": null,
      "grid_auto_flow": null,
      "grid_auto_rows": null,
      "grid_column": null,
      "grid_gap": null,
      "grid_row": null,
      "grid_template_areas": null,
      "grid_template_columns": null,
      "grid_template_rows": null,
      "height": null,
      "justify_content": null,
      "justify_items": null,
      "left": null,
      "margin": null,
      "max_height": null,
      "max_width": null,
      "min_height": null,
      "min_width": null,
      "object_fit": null,
      "object_position": null,
      "order": null,
      "overflow": null,
      "overflow_x": null,
      "overflow_y": null,
      "padding": null,
      "right": null,
      "top": null,
      "visibility": null,
      "width": null
     }
    },
    "3ec3285e9f3e4a5abcefabb7f140f4a3": {
     "model_module": "@jupyter-widgets/controls",
     "model_name": "ProgressStyleModel",
     "state": {
      "_model_module": "@jupyter-widgets/controls",
      "_model_module_version": "1.5.0",
      "_model_name": "ProgressStyleModel",
      "_view_count": null,
      "_view_module": "@jupyter-widgets/base",
      "_view_module_version": "1.2.0",
      "_view_name": "StyleView",
      "bar_color": null,
      "description_width": "initial"
     }
    },
    "3f780f0aa8834fc189b292e0474e2ffa": {
     "model_module": "@jupyter-widgets/controls",
     "model_name": "HTMLModel",
     "state": {
      "_dom_classes": [],
      "_model_module": "@jupyter-widgets/controls",
      "_model_module_version": "1.5.0",
      "_model_name": "HTMLModel",
      "_view_count": null,
      "_view_module": "@jupyter-widgets/controls",
      "_view_module_version": "1.5.0",
      "_view_name": "HTMLView",
      "description": "",
      "description_tooltip": null,
      "layout": "IPY_MODEL_a868dea9d9b047a4b853b390e138e4c1",
      "placeholder": "​",
      "style": "IPY_MODEL_ec36a94ee2574ac8b227ccaefdee5520",
      "value": " 52/52 [00:31&lt;00:00,  1.67ba/s]"
     }
    },
    "405b5de4ae854cf9896f63d15f2207dd": {
     "model_module": "@jupyter-widgets/controls",
     "model_name": "DescriptionStyleModel",
     "state": {
      "_model_module": "@jupyter-widgets/controls",
      "_model_module_version": "1.5.0",
      "_model_name": "DescriptionStyleModel",
      "_view_count": null,
      "_view_module": "@jupyter-widgets/base",
      "_view_module_version": "1.2.0",
      "_view_name": "StyleView",
      "description_width": ""
     }
    },
    "416badb151ee4660b53fdbc136e0c8fb": {
     "model_module": "@jupyter-widgets/controls",
     "model_name": "HTMLModel",
     "state": {
      "_dom_classes": [],
      "_model_module": "@jupyter-widgets/controls",
      "_model_module_version": "1.5.0",
      "_model_name": "HTMLModel",
      "_view_count": null,
      "_view_module": "@jupyter-widgets/controls",
      "_view_module_version": "1.5.0",
      "_view_name": "HTMLView",
      "description": "",
      "description_tooltip": null,
      "layout": "IPY_MODEL_0f3756509e3b405d87936f599b153de2",
      "placeholder": "​",
      "style": "IPY_MODEL_824569c63ec445c08362659ca228dd2a",
      "value": " 412/412 [03:01&lt;00:00,  2.28ex/s]"
     }
    },
    "430c3c079d0e4006b90e72df7986ffb0": {
     "model_module": "@jupyter-widgets/base",
     "model_name": "LayoutModel",
     "state": {
      "_model_module": "@jupyter-widgets/base",
      "_model_module_version": "1.2.0",
      "_model_name": "LayoutModel",
      "_view_count": null,
      "_view_module": "@jupyter-widgets/base",
      "_view_module_version": "1.2.0",
      "_view_name": "LayoutView",
      "align_content": null,
      "align_items": null,
      "align_self": null,
      "border": null,
      "bottom": null,
      "display": null,
      "flex": null,
      "flex_flow": null,
      "grid_area": null,
      "grid_auto_columns": null,
      "grid_auto_flow": null,
      "grid_auto_rows": null,
      "grid_column": null,
      "grid_gap": null,
      "grid_row": null,
      "grid_template_areas": null,
      "grid_template_columns": null,
      "grid_template_rows": null,
      "height": null,
      "justify_content": null,
      "justify_items": null,
      "left": null,
      "margin": null,
      "max_height": null,
      "max_width": null,
      "min_height": null,
      "min_width": null,
      "object_fit": null,
      "object_position": null,
      "order": null,
      "overflow": null,
      "overflow_x": null,
      "overflow_y": null,
      "padding": null,
      "right": null,
      "top": null,
      "visibility": null,
      "width": null
     }
    },
    "4382726ef043441a9b1a4a647d84f242": {
     "model_module": "@jupyter-widgets/controls",
     "model_name": "ProgressStyleModel",
     "state": {
      "_model_module": "@jupyter-widgets/controls",
      "_model_module_version": "1.5.0",
      "_model_name": "ProgressStyleModel",
      "_view_count": null,
      "_view_module": "@jupyter-widgets/base",
      "_view_module_version": "1.2.0",
      "_view_name": "StyleView",
      "bar_color": null,
      "description_width": "initial"
     }
    },
    "45f0a2f361da4608bc8314a27657a56c": {
     "model_module": "@jupyter-widgets/controls",
     "model_name": "ProgressStyleModel",
     "state": {
      "_model_module": "@jupyter-widgets/controls",
      "_model_module_version": "1.5.0",
      "_model_name": "ProgressStyleModel",
      "_view_count": null,
      "_view_module": "@jupyter-widgets/base",
      "_view_module_version": "1.2.0",
      "_view_name": "StyleView",
      "bar_color": null,
      "description_width": "initial"
     }
    },
    "4797f1acd9924b4e97f12f964c83078c": {
     "model_module": "@jupyter-widgets/controls",
     "model_name": "HBoxModel",
     "state": {
      "_dom_classes": [],
      "_model_module": "@jupyter-widgets/controls",
      "_model_module_version": "1.5.0",
      "_model_name": "HBoxModel",
      "_view_count": null,
      "_view_module": "@jupyter-widgets/controls",
      "_view_module_version": "1.5.0",
      "_view_name": "HBoxView",
      "box_style": "",
      "children": [
       "IPY_MODEL_5370c0f2d54b45c0a89f11fb5b70cd4b",
       "IPY_MODEL_018c1f8e198e4df4b480e609bd1be602"
      ],
      "layout": "IPY_MODEL_73940df84ffd4e0f96637342e9fd12b7"
     }
    },
    "47a6c3c427614f21a6dab1c048e5dd37": {
     "model_module": "@jupyter-widgets/base",
     "model_name": "LayoutModel",
     "state": {
      "_model_module": "@jupyter-widgets/base",
      "_model_module_version": "1.2.0",
      "_model_name": "LayoutModel",
      "_view_count": null,
      "_view_module": "@jupyter-widgets/base",
      "_view_module_version": "1.2.0",
      "_view_name": "LayoutView",
      "align_content": null,
      "align_items": null,
      "align_self": null,
      "border": null,
      "bottom": null,
      "display": null,
      "flex": null,
      "flex_flow": null,
      "grid_area": null,
      "grid_auto_columns": null,
      "grid_auto_flow": null,
      "grid_auto_rows": null,
      "grid_column": null,
      "grid_gap": null,
      "grid_row": null,
      "grid_template_areas": null,
      "grid_template_columns": null,
      "grid_template_rows": null,
      "height": null,
      "justify_content": null,
      "justify_items": null,
      "left": null,
      "margin": null,
      "max_height": null,
      "max_width": null,
      "min_height": null,
      "min_width": null,
      "object_fit": null,
      "object_position": null,
      "order": null,
      "overflow": null,
      "overflow_x": null,
      "overflow_y": null,
      "padding": null,
      "right": null,
      "top": null,
      "visibility": null,
      "width": null
     }
    },
    "491fd969d61a478f8e85ffcd3e1a3e20": {
     "model_module": "@jupyter-widgets/base",
     "model_name": "LayoutModel",
     "state": {
      "_model_module": "@jupyter-widgets/base",
      "_model_module_version": "1.2.0",
      "_model_name": "LayoutModel",
      "_view_count": null,
      "_view_module": "@jupyter-widgets/base",
      "_view_module_version": "1.2.0",
      "_view_name": "LayoutView",
      "align_content": null,
      "align_items": null,
      "align_self": null,
      "border": null,
      "bottom": null,
      "display": null,
      "flex": null,
      "flex_flow": null,
      "grid_area": null,
      "grid_auto_columns": null,
      "grid_auto_flow": null,
      "grid_auto_rows": null,
      "grid_column": null,
      "grid_gap": null,
      "grid_row": null,
      "grid_template_areas": null,
      "grid_template_columns": null,
      "grid_template_rows": null,
      "height": null,
      "justify_content": null,
      "justify_items": null,
      "left": null,
      "margin": null,
      "max_height": null,
      "max_width": null,
      "min_height": null,
      "min_width": null,
      "object_fit": null,
      "object_position": null,
      "order": null,
      "overflow": null,
      "overflow_x": null,
      "overflow_y": null,
      "padding": null,
      "right": null,
      "top": null,
      "visibility": null,
      "width": null
     }
    },
    "49defa4284554baf85f32de242b22709": {
     "model_module": "@jupyter-widgets/controls",
     "model_name": "ProgressStyleModel",
     "state": {
      "_model_module": "@jupyter-widgets/controls",
      "_model_module_version": "1.5.0",
      "_model_name": "ProgressStyleModel",
      "_view_count": null,
      "_view_module": "@jupyter-widgets/base",
      "_view_module_version": "1.2.0",
      "_view_name": "StyleView",
      "bar_color": null,
      "description_width": "initial"
     }
    },
    "4abe2731ec624729b401d60a392cae63": {
     "model_module": "@jupyter-widgets/base",
     "model_name": "LayoutModel",
     "state": {
      "_model_module": "@jupyter-widgets/base",
      "_model_module_version": "1.2.0",
      "_model_name": "LayoutModel",
      "_view_count": null,
      "_view_module": "@jupyter-widgets/base",
      "_view_module_version": "1.2.0",
      "_view_name": "LayoutView",
      "align_content": null,
      "align_items": null,
      "align_self": null,
      "border": null,
      "bottom": null,
      "display": null,
      "flex": null,
      "flex_flow": null,
      "grid_area": null,
      "grid_auto_columns": null,
      "grid_auto_flow": null,
      "grid_auto_rows": null,
      "grid_column": null,
      "grid_gap": null,
      "grid_row": null,
      "grid_template_areas": null,
      "grid_template_columns": null,
      "grid_template_rows": null,
      "height": null,
      "justify_content": null,
      "justify_items": null,
      "left": null,
      "margin": null,
      "max_height": null,
      "max_width": null,
      "min_height": null,
      "min_width": null,
      "object_fit": null,
      "object_position": null,
      "order": null,
      "overflow": null,
      "overflow_x": null,
      "overflow_y": null,
      "padding": null,
      "right": null,
      "top": null,
      "visibility": null,
      "width": null
     }
    },
    "4c0ad31e73234e46aac0a297ec18bdeb": {
     "model_module": "@jupyter-widgets/controls",
     "model_name": "ProgressStyleModel",
     "state": {
      "_model_module": "@jupyter-widgets/controls",
      "_model_module_version": "1.5.0",
      "_model_name": "ProgressStyleModel",
      "_view_count": null,
      "_view_module": "@jupyter-widgets/base",
      "_view_module_version": "1.2.0",
      "_view_name": "StyleView",
      "bar_color": null,
      "description_width": "initial"
     }
    },
    "4db5037af3f64a3a8a8a1203018a80ff": {
     "model_module": "@jupyter-widgets/controls",
     "model_name": "FloatProgressModel",
     "state": {
      "_dom_classes": [],
      "_model_module": "@jupyter-widgets/controls",
      "_model_module_version": "1.5.0",
      "_model_name": "FloatProgressModel",
      "_view_count": null,
      "_view_module": "@jupyter-widgets/controls",
      "_view_module_version": "1.5.0",
      "_view_name": "ProgressView",
      "bar_style": "info",
      "description": "",
      "description_tooltip": null,
      "layout": "IPY_MODEL_c0e6b6e6395d4dbd827eb1c0de1ad21a",
      "max": 1,
      "min": 0,
      "orientation": "horizontal",
      "style": "IPY_MODEL_2a6e1185a6a247f5acba8111824ad36b",
      "value": 1
     }
    },
    "4e1a725fd90b45e280b8b0028ba65250": {
     "model_module": "@jupyter-widgets/controls",
     "model_name": "HTMLModel",
     "state": {
      "_dom_classes": [],
      "_model_module": "@jupyter-widgets/controls",
      "_model_module_version": "1.5.0",
      "_model_name": "HTMLModel",
      "_view_count": null,
      "_view_module": "@jupyter-widgets/controls",
      "_view_module_version": "1.5.0",
      "_view_name": "HTMLView",
      "description": "",
      "description_tooltip": null,
      "layout": "IPY_MODEL_491fd969d61a478f8e85ffcd3e1a3e20",
      "placeholder": "​",
      "style": "IPY_MODEL_9f79629ad6a94201acf3283862d1ae17",
      "value": " 869/869 [05:48&lt;00:00,  2.49ex/s]"
     }
    },
    "4f8957dc035d4c1a9e8630fc8ab8cd10": {
     "model_module": "@jupyter-widgets/controls",
     "model_name": "FloatProgressModel",
     "state": {
      "_dom_classes": [],
      "_model_module": "@jupyter-widgets/controls",
      "_model_module_version": "1.5.0",
      "_model_name": "FloatProgressModel",
      "_view_count": null,
      "_view_module": "@jupyter-widgets/controls",
      "_view_module_version": "1.5.0",
      "_view_name": "ProgressView",
      "bar_style": "success",
      "description": "#1: 100%",
      "description_tooltip": null,
      "layout": "IPY_MODEL_47a6c3c427614f21a6dab1c048e5dd37",
      "max": 870,
      "min": 0,
      "orientation": "horizontal",
      "style": "IPY_MODEL_596aea0362924c7db583203268dd5a3e",
      "value": 870
     }
    },
    "4fb7347e9ca542e6ab9003bf4db218e0": {
     "model_module": "@jupyter-widgets/controls",
     "model_name": "HTMLModel",
     "state": {
      "_dom_classes": [],
      "_model_module": "@jupyter-widgets/controls",
      "_model_module_version": "1.5.0",
      "_model_name": "HTMLModel",
      "_view_count": null,
      "_view_module": "@jupyter-widgets/controls",
      "_view_module_version": "1.5.0",
      "_view_name": "HTMLView",
      "description": "",
      "description_tooltip": null,
      "layout": "IPY_MODEL_0987aac282af415da2fbc9dc1b4d5069",
      "placeholder": "​",
      "style": "IPY_MODEL_6d4a26d876fb4ac6b5948a09945bdc6b",
      "value": " 109/109 [00:58&lt;00:00,  1.88ba/s]"
     }
    },
    "4ff7ccffc36a4a0f93031f5cdc3b718d": {
     "model_module": "@jupyter-widgets/controls",
     "model_name": "ProgressStyleModel",
     "state": {
      "_model_module": "@jupyter-widgets/controls",
      "_model_module_version": "1.5.0",
      "_model_name": "ProgressStyleModel",
      "_view_count": null,
      "_view_module": "@jupyter-widgets/base",
      "_view_module_version": "1.2.0",
      "_view_name": "StyleView",
      "bar_color": null,
      "description_width": "initial"
     }
    },
    "5071a31d06f544a5b7340a4e863d8fdf": {
     "model_module": "@jupyter-widgets/controls",
     "model_name": "FloatProgressModel",
     "state": {
      "_dom_classes": [],
      "_model_module": "@jupyter-widgets/controls",
      "_model_module_version": "1.5.0",
      "_model_name": "FloatProgressModel",
      "_view_count": null,
      "_view_module": "@jupyter-widgets/controls",
      "_view_module_version": "1.5.0",
      "_view_name": "ProgressView",
      "bar_style": "success",
      "description": "#3: 100%",
      "description_tooltip": null,
      "layout": "IPY_MODEL_b2473405490e4556bf30c0cc81237aa5",
      "max": 109,
      "min": 0,
      "orientation": "horizontal",
      "style": "IPY_MODEL_49defa4284554baf85f32de242b22709",
      "value": 109
     }
    },
    "530f66ac087e4f8f979fcaa33941c60d": {
     "model_module": "@jupyter-widgets/controls",
     "model_name": "ProgressStyleModel",
     "state": {
      "_model_module": "@jupyter-widgets/controls",
      "_model_module_version": "1.5.0",
      "_model_name": "ProgressStyleModel",
      "_view_count": null,
      "_view_module": "@jupyter-widgets/base",
      "_view_module_version": "1.2.0",
      "_view_name": "StyleView",
      "bar_color": null,
      "description_width": "initial"
     }
    },
    "5370c0f2d54b45c0a89f11fb5b70cd4b": {
     "model_module": "@jupyter-widgets/controls",
     "model_name": "FloatProgressModel",
     "state": {
      "_dom_classes": [],
      "_model_module": "@jupyter-widgets/controls",
      "_model_module_version": "1.5.0",
      "_model_name": "FloatProgressModel",
      "_view_count": null,
      "_view_module": "@jupyter-widgets/controls",
      "_view_module_version": "1.5.0",
      "_view_name": "ProgressView",
      "bar_style": "success",
      "description": "#0: 100%",
      "description_tooltip": null,
      "layout": "IPY_MODEL_020bdb330b0d40f5b89697ff37025f69",
      "max": 109,
      "min": 0,
      "orientation": "horizontal",
      "style": "IPY_MODEL_fa7926bbe77e48b3a0648b45f5d2dc7a",
      "value": 109
     }
    },
    "540510088d3947f1b3cf6f4c983c1a53": {
     "model_module": "@jupyter-widgets/base",
     "model_name": "LayoutModel",
     "state": {
      "_model_module": "@jupyter-widgets/base",
      "_model_module_version": "1.2.0",
      "_model_name": "LayoutModel",
      "_view_count": null,
      "_view_module": "@jupyter-widgets/base",
      "_view_module_version": "1.2.0",
      "_view_name": "LayoutView",
      "align_content": null,
      "align_items": null,
      "align_self": null,
      "border": null,
      "bottom": null,
      "display": null,
      "flex": null,
      "flex_flow": null,
      "grid_area": null,
      "grid_auto_columns": null,
      "grid_auto_flow": null,
      "grid_auto_rows": null,
      "grid_column": null,
      "grid_gap": null,
      "grid_row": null,
      "grid_template_areas": null,
      "grid_template_columns": null,
      "grid_template_rows": null,
      "height": null,
      "justify_content": null,
      "justify_items": null,
      "left": null,
      "margin": null,
      "max_height": null,
      "max_width": null,
      "min_height": null,
      "min_width": null,
      "object_fit": null,
      "object_position": null,
      "order": null,
      "overflow": null,
      "overflow_x": null,
      "overflow_y": null,
      "padding": null,
      "right": null,
      "top": null,
      "visibility": null,
      "width": null
     }
    },
    "542027ba12f444d586e8072452badea0": {
     "model_module": "@jupyter-widgets/controls",
     "model_name": "HTMLModel",
     "state": {
      "_dom_classes": [],
      "_model_module": "@jupyter-widgets/controls",
      "_model_module_version": "1.5.0",
      "_model_name": "HTMLModel",
      "_view_count": null,
      "_view_module": "@jupyter-widgets/controls",
      "_view_module_version": "1.5.0",
      "_view_name": "HTMLView",
      "description": "",
      "description_tooltip": null,
      "layout": "IPY_MODEL_bc41384bbae04044b9780651c6b5a47c",
      "placeholder": "​",
      "style": "IPY_MODEL_02bdb06c176145feaa842b97ae58609c",
      "value": " 109/109 [00:58&lt;00:00,  1.88ba/s]"
     }
    },
    "55071fc1b7484620803aeba453e9af72": {
     "model_module": "@jupyter-widgets/base",
     "model_name": "LayoutModel",
     "state": {
      "_model_module": "@jupyter-widgets/base",
      "_model_module_version": "1.2.0",
      "_model_name": "LayoutModel",
      "_view_count": null,
      "_view_module": "@jupyter-widgets/base",
      "_view_module_version": "1.2.0",
      "_view_name": "LayoutView",
      "align_content": null,
      "align_items": null,
      "align_self": null,
      "border": null,
      "bottom": null,
      "display": null,
      "flex": null,
      "flex_flow": null,
      "grid_area": null,
      "grid_auto_columns": null,
      "grid_auto_flow": null,
      "grid_auto_rows": null,
      "grid_column": null,
      "grid_gap": null,
      "grid_row": null,
      "grid_template_areas": null,
      "grid_template_columns": null,
      "grid_template_rows": null,
      "height": null,
      "justify_content": null,
      "justify_items": null,
      "left": null,
      "margin": null,
      "max_height": null,
      "max_width": null,
      "min_height": null,
      "min_width": null,
      "object_fit": null,
      "object_position": null,
      "order": null,
      "overflow": null,
      "overflow_x": null,
      "overflow_y": null,
      "padding": null,
      "right": null,
      "top": null,
      "visibility": null,
      "width": null
     }
    },
    "56ad6231a0a04228be29ceecbc6b7c0e": {
     "model_module": "@jupyter-widgets/base",
     "model_name": "LayoutModel",
     "state": {
      "_model_module": "@jupyter-widgets/base",
      "_model_module_version": "1.2.0",
      "_model_name": "LayoutModel",
      "_view_count": null,
      "_view_module": "@jupyter-widgets/base",
      "_view_module_version": "1.2.0",
      "_view_name": "LayoutView",
      "align_content": null,
      "align_items": null,
      "align_self": null,
      "border": null,
      "bottom": null,
      "display": null,
      "flex": null,
      "flex_flow": null,
      "grid_area": null,
      "grid_auto_columns": null,
      "grid_auto_flow": null,
      "grid_auto_rows": null,
      "grid_column": null,
      "grid_gap": null,
      "grid_row": null,
      "grid_template_areas": null,
      "grid_template_columns": null,
      "grid_template_rows": null,
      "height": null,
      "justify_content": null,
      "justify_items": null,
      "left": null,
      "margin": null,
      "max_height": null,
      "max_width": null,
      "min_height": null,
      "min_width": null,
      "object_fit": null,
      "object_position": null,
      "order": null,
      "overflow": null,
      "overflow_x": null,
      "overflow_y": null,
      "padding": null,
      "right": null,
      "top": null,
      "visibility": null,
      "width": null
     }
    },
    "57198e3250374e1fa64c5a4be255861e": {
     "model_module": "@jupyter-widgets/controls",
     "model_name": "HTMLModel",
     "state": {
      "_dom_classes": [],
      "_model_module": "@jupyter-widgets/controls",
      "_model_module_version": "1.5.0",
      "_model_name": "HTMLModel",
      "_view_count": null,
      "_view_module": "@jupyter-widgets/controls",
      "_view_module_version": "1.5.0",
      "_view_name": "HTMLView",
      "description": "",
      "description_tooltip": null,
      "layout": "IPY_MODEL_8f737725708c4097a8caaf4da6229636",
      "placeholder": "​",
      "style": "IPY_MODEL_969080b52ad44ee997829986d198c505",
      "value": " 3.90k/? [00:00&lt;00:00, 23.0kB/s]"
     }
    },
    "579b6055028f473981ce789a0733a753": {
     "model_module": "@jupyter-widgets/controls",
     "model_name": "FloatProgressModel",
     "state": {
      "_dom_classes": [],
      "_model_module": "@jupyter-widgets/controls",
      "_model_module_version": "1.5.0",
      "_model_name": "FloatProgressModel",
      "_view_count": null,
      "_view_module": "@jupyter-widgets/controls",
      "_view_module_version": "1.5.0",
      "_view_name": "ProgressView",
      "bar_style": "success",
      "description": "#2: 100%",
      "description_tooltip": null,
      "layout": "IPY_MODEL_6de66d6b7a73434cbdc59b2109bdf0a0",
      "max": 109,
      "min": 0,
      "orientation": "horizontal",
      "style": "IPY_MODEL_3133b378b9294a759c8dfb786ed8f815",
      "value": 109
     }
    },
    "58f3e8002f984594ac05c973aa78ef69": {
     "model_module": "@jupyter-widgets/base",
     "model_name": "LayoutModel",
     "state": {
      "_model_module": "@jupyter-widgets/base",
      "_model_module_version": "1.2.0",
      "_model_name": "LayoutModel",
      "_view_count": null,
      "_view_module": "@jupyter-widgets/base",
      "_view_module_version": "1.2.0",
      "_view_name": "LayoutView",
      "align_content": null,
      "align_items": null,
      "align_self": null,
      "border": null,
      "bottom": null,
      "display": null,
      "flex": null,
      "flex_flow": null,
      "grid_area": null,
      "grid_auto_columns": null,
      "grid_auto_flow": null,
      "grid_auto_rows": null,
      "grid_column": null,
      "grid_gap": null,
      "grid_row": null,
      "grid_template_areas": null,
      "grid_template_columns": null,
      "grid_template_rows": null,
      "height": null,
      "justify_content": null,
      "justify_items": null,
      "left": null,
      "margin": null,
      "max_height": null,
      "max_width": null,
      "min_height": null,
      "min_width": null,
      "object_fit": null,
      "object_position": null,
      "order": null,
      "overflow": null,
      "overflow_x": null,
      "overflow_y": null,
      "padding": null,
      "right": null,
      "top": null,
      "visibility": null,
      "width": null
     }
    },
    "596aea0362924c7db583203268dd5a3e": {
     "model_module": "@jupyter-widgets/controls",
     "model_name": "ProgressStyleModel",
     "state": {
      "_model_module": "@jupyter-widgets/controls",
      "_model_module_version": "1.5.0",
      "_model_name": "ProgressStyleModel",
      "_view_count": null,
      "_view_module": "@jupyter-widgets/base",
      "_view_module_version": "1.2.0",
      "_view_name": "StyleView",
      "bar_color": null,
      "description_width": "initial"
     }
    },
    "59e0f5200068461cbfb256ad5479c4c8": {
     "model_module": "@jupyter-widgets/controls",
     "model_name": "DescriptionStyleModel",
     "state": {
      "_model_module": "@jupyter-widgets/controls",
      "_model_module_version": "1.5.0",
      "_model_name": "DescriptionStyleModel",
      "_view_count": null,
      "_view_module": "@jupyter-widgets/base",
      "_view_module_version": "1.2.0",
      "_view_name": "StyleView",
      "description_width": ""
     }
    },
    "5a5bc8b4a1c644dea08a60128d888d10": {
     "model_module": "@jupyter-widgets/controls",
     "model_name": "DescriptionStyleModel",
     "state": {
      "_model_module": "@jupyter-widgets/controls",
      "_model_module_version": "1.5.0",
      "_model_name": "DescriptionStyleModel",
      "_view_count": null,
      "_view_module": "@jupyter-widgets/base",
      "_view_module_version": "1.2.0",
      "_view_name": "StyleView",
      "description_width": ""
     }
    },
    "5ab30242cd154ec0b560c23c0f178546": {
     "model_module": "@jupyter-widgets/controls",
     "model_name": "ProgressStyleModel",
     "state": {
      "_model_module": "@jupyter-widgets/controls",
      "_model_module_version": "1.5.0",
      "_model_name": "ProgressStyleModel",
      "_view_count": null,
      "_view_module": "@jupyter-widgets/base",
      "_view_module_version": "1.2.0",
      "_view_name": "StyleView",
      "bar_color": null,
      "description_width": "initial"
     }
    },
    "5ccd12253fff448f9c15c9b03c70a408": {
     "model_module": "@jupyter-widgets/controls",
     "model_name": "HBoxModel",
     "state": {
      "_dom_classes": [],
      "_model_module": "@jupyter-widgets/controls",
      "_model_module_version": "1.5.0",
      "_model_name": "HBoxModel",
      "_view_count": null,
      "_view_module": "@jupyter-widgets/controls",
      "_view_module_version": "1.5.0",
      "_view_name": "HBoxView",
      "box_style": "",
      "children": [
       "IPY_MODEL_f203c54e7e054d97aa4d1097f320f611",
       "IPY_MODEL_6266a4019e124aff877bb55f21740180"
      ],
      "layout": "IPY_MODEL_330226a977694de1bd88c0aa3789be47"
     }
    },
    "5e3aad95e52f4be2bd670d1345398f1b": {
     "model_module": "@jupyter-widgets/controls",
     "model_name": "HTMLModel",
     "state": {
      "_dom_classes": [],
      "_model_module": "@jupyter-widgets/controls",
      "_model_module_version": "1.5.0",
      "_model_name": "HTMLModel",
      "_view_count": null,
      "_view_module": "@jupyter-widgets/controls",
      "_view_module_version": "1.5.0",
      "_view_name": "HTMLView",
      "description": "",
      "description_tooltip": null,
      "layout": "IPY_MODEL_99d5c44ea54b45ee9bd89380cb1ad189",
      "placeholder": "​",
      "style": "IPY_MODEL_7aa70322bdfe46938b583a20003093d5",
      "value": " 3478/3478 [03:16&lt;00:00, 17.67ex/s]"
     }
    },
    "5e6bae23461b4378b6e5fc890fe6bc97": {
     "model_module": "@jupyter-widgets/base",
     "model_name": "LayoutModel",
     "state": {
      "_model_module": "@jupyter-widgets/base",
      "_model_module_version": "1.2.0",
      "_model_name": "LayoutModel",
      "_view_count": null,
      "_view_module": "@jupyter-widgets/base",
      "_view_module_version": "1.2.0",
      "_view_name": "LayoutView",
      "align_content": null,
      "align_items": null,
      "align_self": null,
      "border": null,
      "bottom": null,
      "display": null,
      "flex": null,
      "flex_flow": null,
      "grid_area": null,
      "grid_auto_columns": null,
      "grid_auto_flow": null,
      "grid_auto_rows": null,
      "grid_column": null,
      "grid_gap": null,
      "grid_row": null,
      "grid_template_areas": null,
      "grid_template_columns": null,
      "grid_template_rows": null,
      "height": null,
      "justify_content": null,
      "justify_items": null,
      "left": null,
      "margin": null,
      "max_height": null,
      "max_width": null,
      "min_height": null,
      "min_width": null,
      "object_fit": null,
      "object_position": null,
      "order": null,
      "overflow": null,
      "overflow_x": null,
      "overflow_y": null,
      "padding": null,
      "right": null,
      "top": null,
      "visibility": null,
      "width": null
     }
    },
    "5f48f54986924e418aa4ac22aa54b714": {
     "model_module": "@jupyter-widgets/controls",
     "model_name": "HBoxModel",
     "state": {
      "_dom_classes": [],
      "_model_module": "@jupyter-widgets/controls",
      "_model_module_version": "1.5.0",
      "_model_name": "HBoxModel",
      "_view_count": null,
      "_view_module": "@jupyter-widgets/controls",
      "_view_module_version": "1.5.0",
      "_view_name": "HBoxView",
      "box_style": "",
      "children": [
       "IPY_MODEL_a58c203a7cc54086aea45f2029821207",
       "IPY_MODEL_8d409ca0372a48e2972ca1d8eee5ffa1"
      ],
      "layout": "IPY_MODEL_db71db50799c404aafa4a54de8b9b799"
     }
    },
    "6266a4019e124aff877bb55f21740180": {
     "model_module": "@jupyter-widgets/controls",
     "model_name": "HTMLModel",
     "state": {
      "_dom_classes": [],
      "_model_module": "@jupyter-widgets/controls",
      "_model_module_version": "1.5.0",
      "_model_name": "HTMLModel",
      "_view_count": null,
      "_view_module": "@jupyter-widgets/controls",
      "_view_module_version": "1.5.0",
      "_view_name": "HTMLView",
      "description": "",
      "description_tooltip": null,
      "layout": "IPY_MODEL_55071fc1b7484620803aeba453e9af72",
      "placeholder": "​",
      "style": "IPY_MODEL_8ad3e4b211e34c048d0f48e36fdbfe48",
      "value": " 411/411 [02:58&lt;00:00,  2.30ex/s]"
     }
    },
    "6462bd9561e24abb98fce6ce4675d810": {
     "model_module": "@jupyter-widgets/controls",
     "model_name": "HBoxModel",
     "state": {
      "_dom_classes": [],
      "_model_module": "@jupyter-widgets/controls",
      "_model_module_version": "1.5.0",
      "_model_name": "HBoxModel",
      "_view_count": null,
      "_view_module": "@jupyter-widgets/controls",
      "_view_module_version": "1.5.0",
      "_view_name": "HBoxView",
      "box_style": "",
      "children": [
       "IPY_MODEL_e273548a15aa4d4994132b317adb66fc",
       "IPY_MODEL_f6930dd5519d4dfda64c597def220a30"
      ],
      "layout": "IPY_MODEL_bd3447291ce54812af10ac6245ea4328"
     }
    },
    "68a3178fe7a54e838e798ff28ff9aa0b": {
     "model_module": "@jupyter-widgets/controls",
     "model_name": "DescriptionStyleModel",
     "state": {
      "_model_module": "@jupyter-widgets/controls",
      "_model_module_version": "1.5.0",
      "_model_name": "DescriptionStyleModel",
      "_view_count": null,
      "_view_module": "@jupyter-widgets/base",
      "_view_module_version": "1.2.0",
      "_view_name": "StyleView",
      "description_width": ""
     }
    },
    "69828f4a101f4340916a4be141866904": {
     "model_module": "@jupyter-widgets/base",
     "model_name": "LayoutModel",
     "state": {
      "_model_module": "@jupyter-widgets/base",
      "_model_module_version": "1.2.0",
      "_model_name": "LayoutModel",
      "_view_count": null,
      "_view_module": "@jupyter-widgets/base",
      "_view_module_version": "1.2.0",
      "_view_name": "LayoutView",
      "align_content": null,
      "align_items": null,
      "align_self": null,
      "border": null,
      "bottom": null,
      "display": null,
      "flex": null,
      "flex_flow": null,
      "grid_area": null,
      "grid_auto_columns": null,
      "grid_auto_flow": null,
      "grid_auto_rows": null,
      "grid_column": null,
      "grid_gap": null,
      "grid_row": null,
      "grid_template_areas": null,
      "grid_template_columns": null,
      "grid_template_rows": null,
      "height": null,
      "justify_content": null,
      "justify_items": null,
      "left": null,
      "margin": null,
      "max_height": null,
      "max_width": null,
      "min_height": null,
      "min_width": null,
      "object_fit": null,
      "object_position": null,
      "order": null,
      "overflow": null,
      "overflow_x": null,
      "overflow_y": null,
      "padding": null,
      "right": null,
      "top": null,
      "visibility": null,
      "width": null
     }
    },
    "6a957c1c17474d8d89c27ddecf702fda": {
     "model_module": "@jupyter-widgets/controls",
     "model_name": "HTMLModel",
     "state": {
      "_dom_classes": [],
      "_model_module": "@jupyter-widgets/controls",
      "_model_module_version": "1.5.0",
      "_model_name": "HTMLModel",
      "_view_count": null,
      "_view_module": "@jupyter-widgets/controls",
      "_view_module_version": "1.5.0",
      "_view_name": "HTMLView",
      "description": "",
      "description_tooltip": null,
      "layout": "IPY_MODEL_91fcf0641fe3489ab96f3aaa40adf245",
      "placeholder": "​",
      "style": "IPY_MODEL_05f83d714f864a399083f0e34a812467",
      "value": " 1647/0 [00:00&lt;00:00, 14016.07 examples/s]"
     }
    },
    "6abfbe44a1bd4518b41f5f53f920e936": {
     "model_module": "@jupyter-widgets/base",
     "model_name": "LayoutModel",
     "state": {
      "_model_module": "@jupyter-widgets/base",
      "_model_module_version": "1.2.0",
      "_model_name": "LayoutModel",
      "_view_count": null,
      "_view_module": "@jupyter-widgets/base",
      "_view_module_version": "1.2.0",
      "_view_name": "LayoutView",
      "align_content": null,
      "align_items": null,
      "align_self": null,
      "border": null,
      "bottom": null,
      "display": null,
      "flex": null,
      "flex_flow": null,
      "grid_area": null,
      "grid_auto_columns": null,
      "grid_auto_flow": null,
      "grid_auto_rows": null,
      "grid_column": null,
      "grid_gap": null,
      "grid_row": null,
      "grid_template_areas": null,
      "grid_template_columns": null,
      "grid_template_rows": null,
      "height": null,
      "justify_content": null,
      "justify_items": null,
      "left": null,
      "margin": null,
      "max_height": null,
      "max_width": null,
      "min_height": null,
      "min_width": null,
      "object_fit": null,
      "object_position": null,
      "order": null,
      "overflow": null,
      "overflow_x": null,
      "overflow_y": null,
      "padding": null,
      "right": null,
      "top": null,
      "visibility": null,
      "width": null
     }
    },
    "6ba6d07674a34836be53cf173c2b61ca": {
     "model_module": "@jupyter-widgets/base",
     "model_name": "LayoutModel",
     "state": {
      "_model_module": "@jupyter-widgets/base",
      "_model_module_version": "1.2.0",
      "_model_name": "LayoutModel",
      "_view_count": null,
      "_view_module": "@jupyter-widgets/base",
      "_view_module_version": "1.2.0",
      "_view_name": "LayoutView",
      "align_content": null,
      "align_items": null,
      "align_self": null,
      "border": null,
      "bottom": null,
      "display": null,
      "flex": null,
      "flex_flow": null,
      "grid_area": null,
      "grid_auto_columns": null,
      "grid_auto_flow": null,
      "grid_auto_rows": null,
      "grid_column": null,
      "grid_gap": null,
      "grid_row": null,
      "grid_template_areas": null,
      "grid_template_columns": null,
      "grid_template_rows": null,
      "height": null,
      "justify_content": null,
      "justify_items": null,
      "left": null,
      "margin": null,
      "max_height": null,
      "max_width": null,
      "min_height": null,
      "min_width": null,
      "object_fit": null,
      "object_position": null,
      "order": null,
      "overflow": null,
      "overflow_x": null,
      "overflow_y": null,
      "padding": null,
      "right": null,
      "top": null,
      "visibility": null,
      "width": null
     }
    },
    "6c065aa34661469ca1efb4c5e90fe136": {
     "model_module": "@jupyter-widgets/controls",
     "model_name": "HBoxModel",
     "state": {
      "_dom_classes": [],
      "_model_module": "@jupyter-widgets/controls",
      "_model_module_version": "1.5.0",
      "_model_name": "HBoxModel",
      "_view_count": null,
      "_view_module": "@jupyter-widgets/controls",
      "_view_module_version": "1.5.0",
      "_view_name": "HBoxView",
      "box_style": "",
      "children": [
       "IPY_MODEL_0a9b58c98508420d8f8936189f064316",
       "IPY_MODEL_8dd5b08bb5bd4e608d04122424796ae7"
      ],
      "layout": "IPY_MODEL_540510088d3947f1b3cf6f4c983c1a53"
     }
    },
    "6d4a26d876fb4ac6b5948a09945bdc6b": {
     "model_module": "@jupyter-widgets/controls",
     "model_name": "DescriptionStyleModel",
     "state": {
      "_model_module": "@jupyter-widgets/controls",
      "_model_module_version": "1.5.0",
      "_model_name": "DescriptionStyleModel",
      "_view_count": null,
      "_view_module": "@jupyter-widgets/base",
      "_view_module_version": "1.2.0",
      "_view_name": "StyleView",
      "description_width": ""
     }
    },
    "6de66d6b7a73434cbdc59b2109bdf0a0": {
     "model_module": "@jupyter-widgets/base",
     "model_name": "LayoutModel",
     "state": {
      "_model_module": "@jupyter-widgets/base",
      "_model_module_version": "1.2.0",
      "_model_name": "LayoutModel",
      "_view_count": null,
      "_view_module": "@jupyter-widgets/base",
      "_view_module_version": "1.2.0",
      "_view_name": "LayoutView",
      "align_content": null,
      "align_items": null,
      "align_self": null,
      "border": null,
      "bottom": null,
      "display": null,
      "flex": null,
      "flex_flow": null,
      "grid_area": null,
      "grid_auto_columns": null,
      "grid_auto_flow": null,
      "grid_auto_rows": null,
      "grid_column": null,
      "grid_gap": null,
      "grid_row": null,
      "grid_template_areas": null,
      "grid_template_columns": null,
      "grid_template_rows": null,
      "height": null,
      "justify_content": null,
      "justify_items": null,
      "left": null,
      "margin": null,
      "max_height": null,
      "max_width": null,
      "min_height": null,
      "min_width": null,
      "object_fit": null,
      "object_position": null,
      "order": null,
      "overflow": null,
      "overflow_x": null,
      "overflow_y": null,
      "padding": null,
      "right": null,
      "top": null,
      "visibility": null,
      "width": null
     }
    },
    "6f60626242534f44a6381195e6eb6530": {
     "model_module": "@jupyter-widgets/controls",
     "model_name": "FloatProgressModel",
     "state": {
      "_dom_classes": [],
      "_model_module": "@jupyter-widgets/controls",
      "_model_module_version": "1.5.0",
      "_model_name": "FloatProgressModel",
      "_view_count": null,
      "_view_module": "@jupyter-widgets/controls",
      "_view_module_version": "1.5.0",
      "_view_name": "ProgressView",
      "bar_style": "success",
      "description": "#2: 100%",
      "description_tooltip": null,
      "layout": "IPY_MODEL_0ffcbedb8d4444508ac0c3c0b41ea8ac",
      "max": 52,
      "min": 0,
      "orientation": "horizontal",
      "style": "IPY_MODEL_5ab30242cd154ec0b560c23c0f178546",
      "value": 52
     }
    },
    "7040945accce4739a41746cc75bb7fce": {
     "model_module": "@jupyter-widgets/controls",
     "model_name": "HBoxModel",
     "state": {
      "_dom_classes": [],
      "_model_module": "@jupyter-widgets/controls",
      "_model_module_version": "1.5.0",
      "_model_name": "HBoxModel",
      "_view_count": null,
      "_view_module": "@jupyter-widgets/controls",
      "_view_module_version": "1.5.0",
      "_view_name": "HBoxView",
      "box_style": "",
      "children": [
       "IPY_MODEL_6f60626242534f44a6381195e6eb6530",
       "IPY_MODEL_9fee9d9dd1164d97a9109e942444c332"
      ],
      "layout": "IPY_MODEL_71011f0d2bc942ac8f9ea1d1fd30c78d"
     }
    },
    "704ea5e05fd744d998b76d6435992995": {
     "model_module": "@jupyter-widgets/controls",
     "model_name": "ProgressStyleModel",
     "state": {
      "_model_module": "@jupyter-widgets/controls",
      "_model_module_version": "1.5.0",
      "_model_name": "ProgressStyleModel",
      "_view_count": null,
      "_view_module": "@jupyter-widgets/base",
      "_view_module_version": "1.2.0",
      "_view_name": "StyleView",
      "bar_color": null,
      "description_width": "initial"
     }
    },
    "71011f0d2bc942ac8f9ea1d1fd30c78d": {
     "model_module": "@jupyter-widgets/base",
     "model_name": "LayoutModel",
     "state": {
      "_model_module": "@jupyter-widgets/base",
      "_model_module_version": "1.2.0",
      "_model_name": "LayoutModel",
      "_view_count": null,
      "_view_module": "@jupyter-widgets/base",
      "_view_module_version": "1.2.0",
      "_view_name": "LayoutView",
      "align_content": null,
      "align_items": null,
      "align_self": null,
      "border": null,
      "bottom": null,
      "display": null,
      "flex": null,
      "flex_flow": null,
      "grid_area": null,
      "grid_auto_columns": null,
      "grid_auto_flow": null,
      "grid_auto_rows": null,
      "grid_column": null,
      "grid_gap": null,
      "grid_row": null,
      "grid_template_areas": null,
      "grid_template_columns": null,
      "grid_template_rows": null,
      "height": null,
      "justify_content": null,
      "justify_items": null,
      "left": null,
      "margin": null,
      "max_height": null,
      "max_width": null,
      "min_height": null,
      "min_width": null,
      "object_fit": null,
      "object_position": null,
      "order": null,
      "overflow": null,
      "overflow_x": null,
      "overflow_y": null,
      "padding": null,
      "right": null,
      "top": null,
      "visibility": null,
      "width": null
     }
    },
    "71c059a0f3c246f3a40d55744331daaa": {
     "model_module": "@jupyter-widgets/controls",
     "model_name": "HTMLModel",
     "state": {
      "_dom_classes": [],
      "_model_module": "@jupyter-widgets/controls",
      "_model_module_version": "1.5.0",
      "_model_name": "HTMLModel",
      "_view_count": null,
      "_view_module": "@jupyter-widgets/controls",
      "_view_module_version": "1.5.0",
      "_view_name": "HTMLView",
      "description": "",
      "description_tooltip": null,
      "layout": "IPY_MODEL_430c3c079d0e4006b90e72df7986ffb0",
      "placeholder": "​",
      "style": "IPY_MODEL_cb5666eb8ebb4d1392e98d6b5af8761c",
      "value": " 325/0 [00:00&lt;00:00, 7071.04 examples/s]"
     }
    },
    "71ffdf6f26ba4381a8e671958e679f88": {
     "model_module": "@jupyter-widgets/controls",
     "model_name": "ProgressStyleModel",
     "state": {
      "_model_module": "@jupyter-widgets/controls",
      "_model_module_version": "1.5.0",
      "_model_name": "ProgressStyleModel",
      "_view_count": null,
      "_view_module": "@jupyter-widgets/base",
      "_view_module_version": "1.2.0",
      "_view_name": "StyleView",
      "bar_color": null,
      "description_width": "initial"
     }
    },
    "73940df84ffd4e0f96637342e9fd12b7": {
     "model_module": "@jupyter-widgets/base",
     "model_name": "LayoutModel",
     "state": {
      "_model_module": "@jupyter-widgets/base",
      "_model_module_version": "1.2.0",
      "_model_name": "LayoutModel",
      "_view_count": null,
      "_view_module": "@jupyter-widgets/base",
      "_view_module_version": "1.2.0",
      "_view_name": "LayoutView",
      "align_content": null,
      "align_items": null,
      "align_self": null,
      "border": null,
      "bottom": null,
      "display": null,
      "flex": null,
      "flex_flow": null,
      "grid_area": null,
      "grid_auto_columns": null,
      "grid_auto_flow": null,
      "grid_auto_rows": null,
      "grid_column": null,
      "grid_gap": null,
      "grid_row": null,
      "grid_template_areas": null,
      "grid_template_columns": null,
      "grid_template_rows": null,
      "height": null,
      "justify_content": null,
      "justify_items": null,
      "left": null,
      "margin": null,
      "max_height": null,
      "max_width": null,
      "min_height": null,
      "min_width": null,
      "object_fit": null,
      "object_position": null,
      "order": null,
      "overflow": null,
      "overflow_x": null,
      "overflow_y": null,
      "padding": null,
      "right": null,
      "top": null,
      "visibility": null,
      "width": null
     }
    },
    "73ecbfc3c5c5456bb42e19b8a34b1576": {
     "model_module": "@jupyter-widgets/base",
     "model_name": "LayoutModel",
     "state": {
      "_model_module": "@jupyter-widgets/base",
      "_model_module_version": "1.2.0",
      "_model_name": "LayoutModel",
      "_view_count": null,
      "_view_module": "@jupyter-widgets/base",
      "_view_module_version": "1.2.0",
      "_view_name": "LayoutView",
      "align_content": null,
      "align_items": null,
      "align_self": null,
      "border": null,
      "bottom": null,
      "display": null,
      "flex": null,
      "flex_flow": null,
      "grid_area": null,
      "grid_auto_columns": null,
      "grid_auto_flow": null,
      "grid_auto_rows": null,
      "grid_column": null,
      "grid_gap": null,
      "grid_row": null,
      "grid_template_areas": null,
      "grid_template_columns": null,
      "grid_template_rows": null,
      "height": null,
      "justify_content": null,
      "justify_items": null,
      "left": null,
      "margin": null,
      "max_height": null,
      "max_width": null,
      "min_height": null,
      "min_width": null,
      "object_fit": null,
      "object_position": null,
      "order": null,
      "overflow": null,
      "overflow_x": null,
      "overflow_y": null,
      "padding": null,
      "right": null,
      "top": null,
      "visibility": null,
      "width": null
     }
    },
    "751ae6b9e2da4b85be9600561485f1ac": {
     "model_module": "@jupyter-widgets/controls",
     "model_name": "DescriptionStyleModel",
     "state": {
      "_model_module": "@jupyter-widgets/controls",
      "_model_module_version": "1.5.0",
      "_model_name": "DescriptionStyleModel",
      "_view_count": null,
      "_view_module": "@jupyter-widgets/base",
      "_view_module_version": "1.2.0",
      "_view_name": "StyleView",
      "description_width": ""
     }
    },
    "757e7bd0e6c5410da0490d191b4e68c8": {
     "model_module": "@jupyter-widgets/controls",
     "model_name": "HTMLModel",
     "state": {
      "_dom_classes": [],
      "_model_module": "@jupyter-widgets/controls",
      "_model_module_version": "1.5.0",
      "_model_name": "HTMLModel",
      "_view_count": null,
      "_view_module": "@jupyter-widgets/controls",
      "_view_module_version": "1.5.0",
      "_view_name": "HTMLView",
      "description": "",
      "description_tooltip": null,
      "layout": "IPY_MODEL_9185f86719af476da41e3835e8f06f8d",
      "placeholder": "​",
      "style": "IPY_MODEL_0b795d4b68014de19bf9579c67b55ffb",
      "value": " 870/870 [05:35&lt;00:00,  2.59ex/s]"
     }
    },
    "75e00c38605f44cfb584067db1160349": {
     "model_module": "@jupyter-widgets/controls",
     "model_name": "FloatProgressModel",
     "state": {
      "_dom_classes": [],
      "_model_module": "@jupyter-widgets/controls",
      "_model_module_version": "1.5.0",
      "_model_name": "FloatProgressModel",
      "_view_count": null,
      "_view_module": "@jupyter-widgets/controls",
      "_view_module_version": "1.5.0",
      "_view_name": "ProgressView",
      "bar_style": "success",
      "description": "100%",
      "description_tooltip": null,
      "layout": "IPY_MODEL_73ecbfc3c5c5456bb42e19b8a34b1576",
      "max": 1,
      "min": 0,
      "orientation": "horizontal",
      "style": "IPY_MODEL_c01aca3229a24d41841be2b4a3a65bcc",
      "value": 1
     }
    },
    "768ab09956774f50a79b2493a8bf179b": {
     "model_module": "@jupyter-widgets/base",
     "model_name": "LayoutModel",
     "state": {
      "_model_module": "@jupyter-widgets/base",
      "_model_module_version": "1.2.0",
      "_model_name": "LayoutModel",
      "_view_count": null,
      "_view_module": "@jupyter-widgets/base",
      "_view_module_version": "1.2.0",
      "_view_name": "LayoutView",
      "align_content": null,
      "align_items": null,
      "align_self": null,
      "border": null,
      "bottom": null,
      "display": null,
      "flex": null,
      "flex_flow": null,
      "grid_area": null,
      "grid_auto_columns": null,
      "grid_auto_flow": null,
      "grid_auto_rows": null,
      "grid_column": null,
      "grid_gap": null,
      "grid_row": null,
      "grid_template_areas": null,
      "grid_template_columns": null,
      "grid_template_rows": null,
      "height": null,
      "justify_content": null,
      "justify_items": null,
      "left": null,
      "margin": null,
      "max_height": null,
      "max_width": null,
      "min_height": null,
      "min_width": null,
      "object_fit": null,
      "object_position": null,
      "order": null,
      "overflow": null,
      "overflow_x": null,
      "overflow_y": null,
      "padding": null,
      "right": null,
      "top": null,
      "visibility": null,
      "width": null
     }
    },
    "76d162d3ea0845cc837651a77a5a2d36": {
     "model_module": "@jupyter-widgets/controls",
     "model_name": "HBoxModel",
     "state": {
      "_dom_classes": [],
      "_model_module": "@jupyter-widgets/controls",
      "_model_module_version": "1.5.0",
      "_model_name": "HBoxModel",
      "_view_count": null,
      "_view_module": "@jupyter-widgets/controls",
      "_view_module_version": "1.5.0",
      "_view_name": "HBoxView",
      "box_style": "",
      "children": [
       "IPY_MODEL_f6b01ad0433a40178ef3ba5657bc1583",
       "IPY_MODEL_eed2ccc12daa4c71b080794a7a18f5cb"
      ],
      "layout": "IPY_MODEL_98c594f1e41e4b3fab10f0763bd93d75"
     }
    },
    "771959e46cb64b3ebafe931f96f5ff52": {
     "model_module": "@jupyter-widgets/controls",
     "model_name": "HBoxModel",
     "state": {
      "_dom_classes": [],
      "_model_module": "@jupyter-widgets/controls",
      "_model_module_version": "1.5.0",
      "_model_name": "HBoxModel",
      "_view_count": null,
      "_view_module": "@jupyter-widgets/controls",
      "_view_module_version": "1.5.0",
      "_view_name": "HBoxView",
      "box_style": "",
      "children": [
       "IPY_MODEL_f792530a76ee486688cbc2502dfae594",
       "IPY_MODEL_d69468d63dd74fdd807fe061b92aa84e"
      ],
      "layout": "IPY_MODEL_0e999af234bd4b63ad2937e61d08b693"
     }
    },
    "7916b06da182435a9cc1d13c73310500": {
     "model_module": "@jupyter-widgets/base",
     "model_name": "LayoutModel",
     "state": {
      "_model_module": "@jupyter-widgets/base",
      "_model_module_version": "1.2.0",
      "_model_name": "LayoutModel",
      "_view_count": null,
      "_view_module": "@jupyter-widgets/base",
      "_view_module_version": "1.2.0",
      "_view_name": "LayoutView",
      "align_content": null,
      "align_items": null,
      "align_self": null,
      "border": null,
      "bottom": null,
      "display": null,
      "flex": null,
      "flex_flow": null,
      "grid_area": null,
      "grid_auto_columns": null,
      "grid_auto_flow": null,
      "grid_auto_rows": null,
      "grid_column": null,
      "grid_gap": null,
      "grid_row": null,
      "grid_template_areas": null,
      "grid_template_columns": null,
      "grid_template_rows": null,
      "height": null,
      "justify_content": null,
      "justify_items": null,
      "left": null,
      "margin": null,
      "max_height": null,
      "max_width": null,
      "min_height": null,
      "min_width": null,
      "object_fit": null,
      "object_position": null,
      "order": null,
      "overflow": null,
      "overflow_x": null,
      "overflow_y": null,
      "padding": null,
      "right": null,
      "top": null,
      "visibility": null,
      "width": null
     }
    },
    "7aa70322bdfe46938b583a20003093d5": {
     "model_module": "@jupyter-widgets/controls",
     "model_name": "DescriptionStyleModel",
     "state": {
      "_model_module": "@jupyter-widgets/controls",
      "_model_module_version": "1.5.0",
      "_model_name": "DescriptionStyleModel",
      "_view_count": null,
      "_view_module": "@jupyter-widgets/base",
      "_view_module_version": "1.2.0",
      "_view_name": "StyleView",
      "description_width": ""
     }
    },
    "7b4cfd2b448643b8a4409dd612aef0d1": {
     "model_module": "@jupyter-widgets/base",
     "model_name": "LayoutModel",
     "state": {
      "_model_module": "@jupyter-widgets/base",
      "_model_module_version": "1.2.0",
      "_model_name": "LayoutModel",
      "_view_count": null,
      "_view_module": "@jupyter-widgets/base",
      "_view_module_version": "1.2.0",
      "_view_name": "LayoutView",
      "align_content": null,
      "align_items": null,
      "align_self": null,
      "border": null,
      "bottom": null,
      "display": null,
      "flex": null,
      "flex_flow": null,
      "grid_area": null,
      "grid_auto_columns": null,
      "grid_auto_flow": null,
      "grid_auto_rows": null,
      "grid_column": null,
      "grid_gap": null,
      "grid_row": null,
      "grid_template_areas": null,
      "grid_template_columns": null,
      "grid_template_rows": null,
      "height": null,
      "justify_content": null,
      "justify_items": null,
      "left": null,
      "margin": null,
      "max_height": null,
      "max_width": null,
      "min_height": null,
      "min_width": null,
      "object_fit": null,
      "object_position": null,
      "order": null,
      "overflow": null,
      "overflow_x": null,
      "overflow_y": null,
      "padding": null,
      "right": null,
      "top": null,
      "visibility": null,
      "width": null
     }
    },
    "7bf5b2b625764f63ad57a360c3fd0a61": {
     "model_module": "@jupyter-widgets/controls",
     "model_name": "DescriptionStyleModel",
     "state": {
      "_model_module": "@jupyter-widgets/controls",
      "_model_module_version": "1.5.0",
      "_model_name": "DescriptionStyleModel",
      "_view_count": null,
      "_view_module": "@jupyter-widgets/base",
      "_view_module_version": "1.2.0",
      "_view_name": "StyleView",
      "description_width": ""
     }
    },
    "7d62810674c8482abe46c60fc08884b4": {
     "model_module": "@jupyter-widgets/controls",
     "model_name": "ProgressStyleModel",
     "state": {
      "_model_module": "@jupyter-widgets/controls",
      "_model_module_version": "1.5.0",
      "_model_name": "ProgressStyleModel",
      "_view_count": null,
      "_view_module": "@jupyter-widgets/base",
      "_view_module_version": "1.2.0",
      "_view_name": "StyleView",
      "bar_color": null,
      "description_width": "initial"
     }
    },
    "7e50f8027fb74d669daae5e46082026c": {
     "model_module": "@jupyter-widgets/base",
     "model_name": "LayoutModel",
     "state": {
      "_model_module": "@jupyter-widgets/base",
      "_model_module_version": "1.2.0",
      "_model_name": "LayoutModel",
      "_view_count": null,
      "_view_module": "@jupyter-widgets/base",
      "_view_module_version": "1.2.0",
      "_view_name": "LayoutView",
      "align_content": null,
      "align_items": null,
      "align_self": null,
      "border": null,
      "bottom": null,
      "display": null,
      "flex": null,
      "flex_flow": null,
      "grid_area": null,
      "grid_auto_columns": null,
      "grid_auto_flow": null,
      "grid_auto_rows": null,
      "grid_column": null,
      "grid_gap": null,
      "grid_row": null,
      "grid_template_areas": null,
      "grid_template_columns": null,
      "grid_template_rows": null,
      "height": null,
      "justify_content": null,
      "justify_items": null,
      "left": null,
      "margin": null,
      "max_height": null,
      "max_width": null,
      "min_height": null,
      "min_width": null,
      "object_fit": null,
      "object_position": null,
      "order": null,
      "overflow": null,
      "overflow_x": null,
      "overflow_y": null,
      "padding": null,
      "right": null,
      "top": null,
      "visibility": null,
      "width": null
     }
    },
    "7edbecaccdd94ede8fddc0e1807e777e": {
     "model_module": "@jupyter-widgets/controls",
     "model_name": "FloatProgressModel",
     "state": {
      "_dom_classes": [],
      "_model_module": "@jupyter-widgets/controls",
      "_model_module_version": "1.5.0",
      "_model_name": "FloatProgressModel",
      "_view_count": null,
      "_view_module": "@jupyter-widgets/controls",
      "_view_module_version": "1.5.0",
      "_view_name": "ProgressView",
      "bar_style": "success",
      "description": "100%",
      "description_tooltip": null,
      "layout": "IPY_MODEL_3e3a022a9f304b0f9f7ef067fcee1e56",
      "max": 3478,
      "min": 0,
      "orientation": "horizontal",
      "style": "IPY_MODEL_b9c5c6dd54cc4dc5ad5a2bb69a24ab05",
      "value": 3478
     }
    },
    "7ef969e47c2d429a9848d5ab3f5bb2d9": {
     "model_module": "@jupyter-widgets/controls",
     "model_name": "HBoxModel",
     "state": {
      "_dom_classes": [],
      "_model_module": "@jupyter-widgets/controls",
      "_model_module_version": "1.5.0",
      "_model_name": "HBoxModel",
      "_view_count": null,
      "_view_module": "@jupyter-widgets/controls",
      "_view_module_version": "1.5.0",
      "_view_name": "HBoxView",
      "box_style": "",
      "children": [
       "IPY_MODEL_015c5690e1ea4281954c7efda1c80a6a",
       "IPY_MODEL_f4135dd72864445391f43f387635bfdc"
      ],
      "layout": "IPY_MODEL_fe62265afdc74026b7e9c5a50ef61d2c"
     }
    },
    "7f5203fde6b64bf7ad53d6ecd3041bfc": {
     "model_module": "@jupyter-widgets/controls",
     "model_name": "DescriptionStyleModel",
     "state": {
      "_model_module": "@jupyter-widgets/controls",
      "_model_module_version": "1.5.0",
      "_model_name": "DescriptionStyleModel",
      "_view_count": null,
      "_view_module": "@jupyter-widgets/base",
      "_view_module_version": "1.2.0",
      "_view_name": "StyleView",
      "description_width": ""
     }
    },
    "7f787df324514a8c915785e272a8af18": {
     "model_module": "@jupyter-widgets/controls",
     "model_name": "FloatProgressModel",
     "state": {
      "_dom_classes": [],
      "_model_module": "@jupyter-widgets/controls",
      "_model_module_version": "1.5.0",
      "_model_name": "FloatProgressModel",
      "_view_count": null,
      "_view_module": "@jupyter-widgets/controls",
      "_view_module_version": "1.5.0",
      "_view_name": "ProgressView",
      "bar_style": "info",
      "description": "",
      "description_tooltip": null,
      "layout": "IPY_MODEL_7916b06da182435a9cc1d13c73310500",
      "max": 1,
      "min": 0,
      "orientation": "horizontal",
      "style": "IPY_MODEL_71ffdf6f26ba4381a8e671958e679f88",
      "value": 1
     }
    },
    "80697300a4394b909f1c499ba80aeb13": {
     "model_module": "@jupyter-widgets/base",
     "model_name": "LayoutModel",
     "state": {
      "_model_module": "@jupyter-widgets/base",
      "_model_module_version": "1.2.0",
      "_model_name": "LayoutModel",
      "_view_count": null,
      "_view_module": "@jupyter-widgets/base",
      "_view_module_version": "1.2.0",
      "_view_name": "LayoutView",
      "align_content": null,
      "align_items": null,
      "align_self": null,
      "border": null,
      "bottom": null,
      "display": null,
      "flex": null,
      "flex_flow": null,
      "grid_area": null,
      "grid_auto_columns": null,
      "grid_auto_flow": null,
      "grid_auto_rows": null,
      "grid_column": null,
      "grid_gap": null,
      "grid_row": null,
      "grid_template_areas": null,
      "grid_template_columns": null,
      "grid_template_rows": null,
      "height": null,
      "justify_content": null,
      "justify_items": null,
      "left": null,
      "margin": null,
      "max_height": null,
      "max_width": null,
      "min_height": null,
      "min_width": null,
      "object_fit": null,
      "object_position": null,
      "order": null,
      "overflow": null,
      "overflow_x": null,
      "overflow_y": null,
      "padding": null,
      "right": null,
      "top": null,
      "visibility": null,
      "width": null
     }
    },
    "813fc95246034f5cb9e5198897b4ed42": {
     "model_module": "@jupyter-widgets/controls",
     "model_name": "DescriptionStyleModel",
     "state": {
      "_model_module": "@jupyter-widgets/controls",
      "_model_module_version": "1.5.0",
      "_model_name": "DescriptionStyleModel",
      "_view_count": null,
      "_view_module": "@jupyter-widgets/base",
      "_view_module_version": "1.2.0",
      "_view_name": "StyleView",
      "description_width": ""
     }
    },
    "82015055d32449b89346ea18e7474c4d": {
     "model_module": "@jupyter-widgets/controls",
     "model_name": "HBoxModel",
     "state": {
      "_dom_classes": [],
      "_model_module": "@jupyter-widgets/controls",
      "_model_module_version": "1.5.0",
      "_model_name": "HBoxModel",
      "_view_count": null,
      "_view_module": "@jupyter-widgets/controls",
      "_view_module_version": "1.5.0",
      "_view_name": "HBoxView",
      "box_style": "",
      "children": [
       "IPY_MODEL_f5f1f0865d7e4d8b810ccb9c3c4d2683",
       "IPY_MODEL_416badb151ee4660b53fdbc136e0c8fb"
      ],
      "layout": "IPY_MODEL_a170c0cb21cf425fbee97fd6d5584e2c"
     }
    },
    "824569c63ec445c08362659ca228dd2a": {
     "model_module": "@jupyter-widgets/controls",
     "model_name": "DescriptionStyleModel",
     "state": {
      "_model_module": "@jupyter-widgets/controls",
      "_model_module_version": "1.5.0",
      "_model_name": "DescriptionStyleModel",
      "_view_count": null,
      "_view_module": "@jupyter-widgets/base",
      "_view_module_version": "1.2.0",
      "_view_name": "StyleView",
      "description_width": ""
     }
    },
    "8292dafcd40745958d0f3c563bf6b9b0": {
     "model_module": "@jupyter-widgets/controls",
     "model_name": "ProgressStyleModel",
     "state": {
      "_model_module": "@jupyter-widgets/controls",
      "_model_module_version": "1.5.0",
      "_model_name": "ProgressStyleModel",
      "_view_count": null,
      "_view_module": "@jupyter-widgets/base",
      "_view_module_version": "1.2.0",
      "_view_name": "StyleView",
      "bar_color": null,
      "description_width": "initial"
     }
    },
    "83b51e16d88046c48dcd745cf09d2e56": {
     "model_module": "@jupyter-widgets/base",
     "model_name": "LayoutModel",
     "state": {
      "_model_module": "@jupyter-widgets/base",
      "_model_module_version": "1.2.0",
      "_model_name": "LayoutModel",
      "_view_count": null,
      "_view_module": "@jupyter-widgets/base",
      "_view_module_version": "1.2.0",
      "_view_name": "LayoutView",
      "align_content": null,
      "align_items": null,
      "align_self": null,
      "border": null,
      "bottom": null,
      "display": null,
      "flex": null,
      "flex_flow": null,
      "grid_area": null,
      "grid_auto_columns": null,
      "grid_auto_flow": null,
      "grid_auto_rows": null,
      "grid_column": null,
      "grid_gap": null,
      "grid_row": null,
      "grid_template_areas": null,
      "grid_template_columns": null,
      "grid_template_rows": null,
      "height": null,
      "justify_content": null,
      "justify_items": null,
      "left": null,
      "margin": null,
      "max_height": null,
      "max_width": null,
      "min_height": null,
      "min_width": null,
      "object_fit": null,
      "object_position": null,
      "order": null,
      "overflow": null,
      "overflow_x": null,
      "overflow_y": null,
      "padding": null,
      "right": null,
      "top": null,
      "visibility": null,
      "width": null
     }
    },
    "84e7f0001ebe458dad3c96e7e9a38cdc": {
     "model_module": "@jupyter-widgets/base",
     "model_name": "LayoutModel",
     "state": {
      "_model_module": "@jupyter-widgets/base",
      "_model_module_version": "1.2.0",
      "_model_name": "LayoutModel",
      "_view_count": null,
      "_view_module": "@jupyter-widgets/base",
      "_view_module_version": "1.2.0",
      "_view_name": "LayoutView",
      "align_content": null,
      "align_items": null,
      "align_self": null,
      "border": null,
      "bottom": null,
      "display": null,
      "flex": null,
      "flex_flow": null,
      "grid_area": null,
      "grid_auto_columns": null,
      "grid_auto_flow": null,
      "grid_auto_rows": null,
      "grid_column": null,
      "grid_gap": null,
      "grid_row": null,
      "grid_template_areas": null,
      "grid_template_columns": null,
      "grid_template_rows": null,
      "height": null,
      "justify_content": null,
      "justify_items": null,
      "left": null,
      "margin": null,
      "max_height": null,
      "max_width": null,
      "min_height": null,
      "min_width": null,
      "object_fit": null,
      "object_position": null,
      "order": null,
      "overflow": null,
      "overflow_x": null,
      "overflow_y": null,
      "padding": null,
      "right": null,
      "top": null,
      "visibility": null,
      "width": null
     }
    },
    "8701fb161cec47e89fc4d57b599ee7fe": {
     "model_module": "@jupyter-widgets/controls",
     "model_name": "HBoxModel",
     "state": {
      "_dom_classes": [],
      "_model_module": "@jupyter-widgets/controls",
      "_model_module_version": "1.5.0",
      "_model_name": "HBoxModel",
      "_view_count": null,
      "_view_module": "@jupyter-widgets/controls",
      "_view_module_version": "1.5.0",
      "_view_name": "HBoxView",
      "box_style": "",
      "children": [
       "IPY_MODEL_7f787df324514a8c915785e272a8af18",
       "IPY_MODEL_889da3e5ed2945849d3c8a6a75175747"
      ],
      "layout": "IPY_MODEL_1813458f75514f039ba0214597a09bb4"
     }
    },
    "889da3e5ed2945849d3c8a6a75175747": {
     "model_module": "@jupyter-widgets/controls",
     "model_name": "HTMLModel",
     "state": {
      "_dom_classes": [],
      "_model_module": "@jupyter-widgets/controls",
      "_model_module_version": "1.5.0",
      "_model_name": "HTMLModel",
      "_view_count": null,
      "_view_module": "@jupyter-widgets/controls",
      "_view_module_version": "1.5.0",
      "_view_name": "HTMLView",
      "description": "",
      "description_tooltip": null,
      "layout": "IPY_MODEL_2cd13e03a2ab45dc8570c8c739a613b4",
      "placeholder": "​",
      "style": "IPY_MODEL_59e0f5200068461cbfb256ad5479c4c8",
      "value": " 1647/0 [00:00&lt;00:00, 14767.90 examples/s]"
     }
    },
    "8ad3e4b211e34c048d0f48e36fdbfe48": {
     "model_module": "@jupyter-widgets/controls",
     "model_name": "DescriptionStyleModel",
     "state": {
      "_model_module": "@jupyter-widgets/controls",
      "_model_module_version": "1.5.0",
      "_model_name": "DescriptionStyleModel",
      "_view_count": null,
      "_view_module": "@jupyter-widgets/base",
      "_view_module_version": "1.2.0",
      "_view_name": "StyleView",
      "description_width": ""
     }
    },
    "8bb78a89ff81400791e3005098fdcb94": {
     "model_module": "@jupyter-widgets/base",
     "model_name": "LayoutModel",
     "state": {
      "_model_module": "@jupyter-widgets/base",
      "_model_module_version": "1.2.0",
      "_model_name": "LayoutModel",
      "_view_count": null,
      "_view_module": "@jupyter-widgets/base",
      "_view_module_version": "1.2.0",
      "_view_name": "LayoutView",
      "align_content": null,
      "align_items": null,
      "align_self": null,
      "border": null,
      "bottom": null,
      "display": null,
      "flex": null,
      "flex_flow": null,
      "grid_area": null,
      "grid_auto_columns": null,
      "grid_auto_flow": null,
      "grid_auto_rows": null,
      "grid_column": null,
      "grid_gap": null,
      "grid_row": null,
      "grid_template_areas": null,
      "grid_template_columns": null,
      "grid_template_rows": null,
      "height": null,
      "justify_content": null,
      "justify_items": null,
      "left": null,
      "margin": null,
      "max_height": null,
      "max_width": null,
      "min_height": null,
      "min_width": null,
      "object_fit": null,
      "object_position": null,
      "order": null,
      "overflow": null,
      "overflow_x": null,
      "overflow_y": null,
      "padding": null,
      "right": null,
      "top": null,
      "visibility": null,
      "width": null
     }
    },
    "8c07a528fc4a4e108b393ab117fe2e46": {
     "model_module": "@jupyter-widgets/controls",
     "model_name": "HTMLModel",
     "state": {
      "_dom_classes": [],
      "_model_module": "@jupyter-widgets/controls",
      "_model_module_version": "1.5.0",
      "_model_name": "HTMLModel",
      "_view_count": null,
      "_view_module": "@jupyter-widgets/controls",
      "_view_module_version": "1.5.0",
      "_view_name": "HTMLView",
      "description": "",
      "description_tooltip": null,
      "layout": "IPY_MODEL_8bb78a89ff81400791e3005098fdcb94",
      "placeholder": "​",
      "style": "IPY_MODEL_813fc95246034f5cb9e5198897b4ed42",
      "value": " 1/1 [00:00&lt;00:00, 13.94ba/s]"
     }
    },
    "8d409ca0372a48e2972ca1d8eee5ffa1": {
     "model_module": "@jupyter-widgets/controls",
     "model_name": "HTMLModel",
     "state": {
      "_dom_classes": [],
      "_model_module": "@jupyter-widgets/controls",
      "_model_module_version": "1.5.0",
      "_model_name": "HTMLModel",
      "_view_count": null,
      "_view_module": "@jupyter-widgets/controls",
      "_view_module_version": "1.5.0",
      "_view_name": "HTMLView",
      "description": "",
      "description_tooltip": null,
      "layout": "IPY_MODEL_b0479f03f96241ca959f6fe7bcbd1aba",
      "placeholder": "​",
      "style": "IPY_MODEL_d362345c05234c97a675c6bacdad0e92",
      "value": " 1647/1647 [01:20&lt;00:00, 20.38ex/s]"
     }
    },
    "8dd5b08bb5bd4e608d04122424796ae7": {
     "model_module": "@jupyter-widgets/controls",
     "model_name": "HTMLModel",
     "state": {
      "_dom_classes": [],
      "_model_module": "@jupyter-widgets/controls",
      "_model_module_version": "1.5.0",
      "_model_name": "HTMLModel",
      "_view_count": null,
      "_view_module": "@jupyter-widgets/controls",
      "_view_module_version": "1.5.0",
      "_view_name": "HTMLView",
      "description": "",
      "description_tooltip": null,
      "layout": "IPY_MODEL_9eb51a6ecf3f41578aa397a5c2a33673",
      "placeholder": "​",
      "style": "IPY_MODEL_2f18d89c684343b69c3f44ffbb9b42a0",
      "value": " 1726/0 [00:00&lt;00:00, 13986.88 examples/s]"
     }
    },
    "8dddd0245dcb4532917cbfa0181d2a00": {
     "model_module": "@jupyter-widgets/controls",
     "model_name": "FloatProgressModel",
     "state": {
      "_dom_classes": [],
      "_model_module": "@jupyter-widgets/controls",
      "_model_module_version": "1.5.0",
      "_model_name": "FloatProgressModel",
      "_view_count": null,
      "_view_module": "@jupyter-widgets/controls",
      "_view_module_version": "1.5.0",
      "_view_name": "ProgressView",
      "bar_style": "success",
      "description": "#2: 100%",
      "description_tooltip": null,
      "layout": "IPY_MODEL_b1d93a7521fa47b8a815445b5232da59",
      "max": 412,
      "min": 0,
      "orientation": "horizontal",
      "style": "IPY_MODEL_024989cea06f435894776b0a921164b2",
      "value": 412
     }
    },
    "8df9d19602cb4951b397c385458a11ef": {
     "model_module": "@jupyter-widgets/controls",
     "model_name": "DescriptionStyleModel",
     "state": {
      "_model_module": "@jupyter-widgets/controls",
      "_model_module_version": "1.5.0",
      "_model_name": "DescriptionStyleModel",
      "_view_count": null,
      "_view_module": "@jupyter-widgets/base",
      "_view_module_version": "1.2.0",
      "_view_name": "StyleView",
      "description_width": ""
     }
    },
    "8e1a85a4a6214a16b7431da23a301ada": {
     "model_module": "@jupyter-widgets/controls",
     "model_name": "FloatProgressModel",
     "state": {
      "_dom_classes": [],
      "_model_module": "@jupyter-widgets/controls",
      "_model_module_version": "1.5.0",
      "_model_name": "FloatProgressModel",
      "_view_count": null,
      "_view_module": "@jupyter-widgets/controls",
      "_view_module_version": "1.5.0",
      "_view_name": "ProgressView",
      "bar_style": "success",
      "description": "Downloading: ",
      "description_tooltip": null,
      "layout": "IPY_MODEL_d453bd4a35e54bfba20dac1fe86c60c1",
      "max": 1764,
      "min": 0,
      "orientation": "horizontal",
      "style": "IPY_MODEL_a3c04c75ec9743feb795f69e7c4dff4f",
      "value": 1764
     }
    },
    "8e63ba7f1fd24555bf11bc9dbe9c770b": {
     "model_module": "@jupyter-widgets/controls",
     "model_name": "HTMLModel",
     "state": {
      "_dom_classes": [],
      "_model_module": "@jupyter-widgets/controls",
      "_model_module_version": "1.5.0",
      "_model_name": "HTMLModel",
      "_view_count": null,
      "_view_module": "@jupyter-widgets/controls",
      "_view_module_version": "1.5.0",
      "_view_name": "HTMLView",
      "description": "",
      "description_tooltip": null,
      "layout": "IPY_MODEL_26e7bab0f3bf4797bfcef83dcace24f0",
      "placeholder": "​",
      "style": "IPY_MODEL_405b5de4ae854cf9896f63d15f2207dd",
      "value": " 52/52 [00:30&lt;00:00,  1.68ba/s]"
     }
    },
    "8f737725708c4097a8caaf4da6229636": {
     "model_module": "@jupyter-widgets/base",
     "model_name": "LayoutModel",
     "state": {
      "_model_module": "@jupyter-widgets/base",
      "_model_module_version": "1.2.0",
      "_model_name": "LayoutModel",
      "_view_count": null,
      "_view_module": "@jupyter-widgets/base",
      "_view_module_version": "1.2.0",
      "_view_name": "LayoutView",
      "align_content": null,
      "align_items": null,
      "align_self": null,
      "border": null,
      "bottom": null,
      "display": null,
      "flex": null,
      "flex_flow": null,
      "grid_area": null,
      "grid_auto_columns": null,
      "grid_auto_flow": null,
      "grid_auto_rows": null,
      "grid_column": null,
      "grid_gap": null,
      "grid_row": null,
      "grid_template_areas": null,
      "grid_template_columns": null,
      "grid_template_rows": null,
      "height": null,
      "justify_content": null,
      "justify_items": null,
      "left": null,
      "margin": null,
      "max_height": null,
      "max_width": null,
      "min_height": null,
      "min_width": null,
      "object_fit": null,
      "object_position": null,
      "order": null,
      "overflow": null,
      "overflow_x": null,
      "overflow_y": null,
      "padding": null,
      "right": null,
      "top": null,
      "visibility": null,
      "width": null
     }
    },
    "90b8bc59e26a46009e1d3763f86f227a": {
     "model_module": "@jupyter-widgets/controls",
     "model_name": "HBoxModel",
     "state": {
      "_dom_classes": [],
      "_model_module": "@jupyter-widgets/controls",
      "_model_module_version": "1.5.0",
      "_model_name": "HBoxModel",
      "_view_count": null,
      "_view_module": "@jupyter-widgets/controls",
      "_view_module_version": "1.5.0",
      "_view_name": "HBoxView",
      "box_style": "",
      "children": [
       "IPY_MODEL_98e7ab5f7ebf426fbb71a37bbad4c28f",
       "IPY_MODEL_e3b719c0ffcc4fd1b410ffb7f969b7a5"
      ],
      "layout": "IPY_MODEL_3e2cd59ac697495f8db14b894b783f95"
     }
    },
    "9185f86719af476da41e3835e8f06f8d": {
     "model_module": "@jupyter-widgets/base",
     "model_name": "LayoutModel",
     "state": {
      "_model_module": "@jupyter-widgets/base",
      "_model_module_version": "1.2.0",
      "_model_name": "LayoutModel",
      "_view_count": null,
      "_view_module": "@jupyter-widgets/base",
      "_view_module_version": "1.2.0",
      "_view_name": "LayoutView",
      "align_content": null,
      "align_items": null,
      "align_self": null,
      "border": null,
      "bottom": null,
      "display": null,
      "flex": null,
      "flex_flow": null,
      "grid_area": null,
      "grid_auto_columns": null,
      "grid_auto_flow": null,
      "grid_auto_rows": null,
      "grid_column": null,
      "grid_gap": null,
      "grid_row": null,
      "grid_template_areas": null,
      "grid_template_columns": null,
      "grid_template_rows": null,
      "height": null,
      "justify_content": null,
      "justify_items": null,
      "left": null,
      "margin": null,
      "max_height": null,
      "max_width": null,
      "min_height": null,
      "min_width": null,
      "object_fit": null,
      "object_position": null,
      "order": null,
      "overflow": null,
      "overflow_x": null,
      "overflow_y": null,
      "padding": null,
      "right": null,
      "top": null,
      "visibility": null,
      "width": null
     }
    },
    "91fcf0641fe3489ab96f3aaa40adf245": {
     "model_module": "@jupyter-widgets/base",
     "model_name": "LayoutModel",
     "state": {
      "_model_module": "@jupyter-widgets/base",
      "_model_module_version": "1.2.0",
      "_model_name": "LayoutModel",
      "_view_count": null,
      "_view_module": "@jupyter-widgets/base",
      "_view_module_version": "1.2.0",
      "_view_name": "LayoutView",
      "align_content": null,
      "align_items": null,
      "align_self": null,
      "border": null,
      "bottom": null,
      "display": null,
      "flex": null,
      "flex_flow": null,
      "grid_area": null,
      "grid_auto_columns": null,
      "grid_auto_flow": null,
      "grid_auto_rows": null,
      "grid_column": null,
      "grid_gap": null,
      "grid_row": null,
      "grid_template_areas": null,
      "grid_template_columns": null,
      "grid_template_rows": null,
      "height": null,
      "justify_content": null,
      "justify_items": null,
      "left": null,
      "margin": null,
      "max_height": null,
      "max_width": null,
      "min_height": null,
      "min_width": null,
      "object_fit": null,
      "object_position": null,
      "order": null,
      "overflow": null,
      "overflow_x": null,
      "overflow_y": null,
      "padding": null,
      "right": null,
      "top": null,
      "visibility": null,
      "width": null
     }
    },
    "923ed9e127524187ab8cfcac31164ba7": {
     "model_module": "@jupyter-widgets/base",
     "model_name": "LayoutModel",
     "state": {
      "_model_module": "@jupyter-widgets/base",
      "_model_module_version": "1.2.0",
      "_model_name": "LayoutModel",
      "_view_count": null,
      "_view_module": "@jupyter-widgets/base",
      "_view_module_version": "1.2.0",
      "_view_name": "LayoutView",
      "align_content": null,
      "align_items": null,
      "align_self": null,
      "border": null,
      "bottom": null,
      "display": null,
      "flex": null,
      "flex_flow": null,
      "grid_area": null,
      "grid_auto_columns": null,
      "grid_auto_flow": null,
      "grid_auto_rows": null,
      "grid_column": null,
      "grid_gap": null,
      "grid_row": null,
      "grid_template_areas": null,
      "grid_template_columns": null,
      "grid_template_rows": null,
      "height": null,
      "justify_content": null,
      "justify_items": null,
      "left": null,
      "margin": null,
      "max_height": null,
      "max_width": null,
      "min_height": null,
      "min_width": null,
      "object_fit": null,
      "object_position": null,
      "order": null,
      "overflow": null,
      "overflow_x": null,
      "overflow_y": null,
      "padding": null,
      "right": null,
      "top": null,
      "visibility": null,
      "width": null
     }
    },
    "929cde17b3484f3e9e8f8774bc43e374": {
     "model_module": "@jupyter-widgets/controls",
     "model_name": "ProgressStyleModel",
     "state": {
      "_model_module": "@jupyter-widgets/controls",
      "_model_module_version": "1.5.0",
      "_model_name": "ProgressStyleModel",
      "_view_count": null,
      "_view_module": "@jupyter-widgets/base",
      "_view_module_version": "1.2.0",
      "_view_name": "StyleView",
      "bar_color": null,
      "description_width": "initial"
     }
    },
    "92a35db69bbf4ad6af44c53aa3870be5": {
     "model_module": "@jupyter-widgets/controls",
     "model_name": "HBoxModel",
     "state": {
      "_dom_classes": [],
      "_model_module": "@jupyter-widgets/controls",
      "_model_module_version": "1.5.0",
      "_model_name": "HBoxModel",
      "_view_count": null,
      "_view_module": "@jupyter-widgets/controls",
      "_view_module_version": "1.5.0",
      "_view_name": "HBoxView",
      "box_style": "",
      "children": [
       "IPY_MODEL_b94e374d92c146009447c3827b977267",
       "IPY_MODEL_1f1faa7b986e475c9e6839b2e7b55c74"
      ],
      "layout": "IPY_MODEL_389e43e47a734193a507817ebad955f7"
     }
    },
    "93f191a48b3141e1889fd94870b6ac0e": {
     "model_module": "@jupyter-widgets/base",
     "model_name": "LayoutModel",
     "state": {
      "_model_module": "@jupyter-widgets/base",
      "_model_module_version": "1.2.0",
      "_model_name": "LayoutModel",
      "_view_count": null,
      "_view_module": "@jupyter-widgets/base",
      "_view_module_version": "1.2.0",
      "_view_name": "LayoutView",
      "align_content": null,
      "align_items": null,
      "align_self": null,
      "border": null,
      "bottom": null,
      "display": null,
      "flex": null,
      "flex_flow": null,
      "grid_area": null,
      "grid_auto_columns": null,
      "grid_auto_flow": null,
      "grid_auto_rows": null,
      "grid_column": null,
      "grid_gap": null,
      "grid_row": null,
      "grid_template_areas": null,
      "grid_template_columns": null,
      "grid_template_rows": null,
      "height": null,
      "justify_content": null,
      "justify_items": null,
      "left": null,
      "margin": null,
      "max_height": null,
      "max_width": null,
      "min_height": null,
      "min_width": null,
      "object_fit": null,
      "object_position": null,
      "order": null,
      "overflow": null,
      "overflow_x": null,
      "overflow_y": null,
      "padding": null,
      "right": null,
      "top": null,
      "visibility": null,
      "width": null
     }
    },
    "9532db4cdc5e4371a4a02055a4c67a08": {
     "model_module": "@jupyter-widgets/controls",
     "model_name": "DescriptionStyleModel",
     "state": {
      "_model_module": "@jupyter-widgets/controls",
      "_model_module_version": "1.5.0",
      "_model_name": "DescriptionStyleModel",
      "_view_count": null,
      "_view_module": "@jupyter-widgets/base",
      "_view_module_version": "1.2.0",
      "_view_name": "StyleView",
      "description_width": ""
     }
    },
    "969080b52ad44ee997829986d198c505": {
     "model_module": "@jupyter-widgets/controls",
     "model_name": "DescriptionStyleModel",
     "state": {
      "_model_module": "@jupyter-widgets/controls",
      "_model_module_version": "1.5.0",
      "_model_name": "DescriptionStyleModel",
      "_view_count": null,
      "_view_module": "@jupyter-widgets/base",
      "_view_module_version": "1.2.0",
      "_view_name": "StyleView",
      "description_width": ""
     }
    },
    "98c594f1e41e4b3fab10f0763bd93d75": {
     "model_module": "@jupyter-widgets/base",
     "model_name": "LayoutModel",
     "state": {
      "_model_module": "@jupyter-widgets/base",
      "_model_module_version": "1.2.0",
      "_model_name": "LayoutModel",
      "_view_count": null,
      "_view_module": "@jupyter-widgets/base",
      "_view_module_version": "1.2.0",
      "_view_name": "LayoutView",
      "align_content": null,
      "align_items": null,
      "align_self": null,
      "border": null,
      "bottom": null,
      "display": null,
      "flex": null,
      "flex_flow": null,
      "grid_area": null,
      "grid_auto_columns": null,
      "grid_auto_flow": null,
      "grid_auto_rows": null,
      "grid_column": null,
      "grid_gap": null,
      "grid_row": null,
      "grid_template_areas": null,
      "grid_template_columns": null,
      "grid_template_rows": null,
      "height": null,
      "justify_content": null,
      "justify_items": null,
      "left": null,
      "margin": null,
      "max_height": null,
      "max_width": null,
      "min_height": null,
      "min_width": null,
      "object_fit": null,
      "object_position": null,
      "order": null,
      "overflow": null,
      "overflow_x": null,
      "overflow_y": null,
      "padding": null,
      "right": null,
      "top": null,
      "visibility": null,
      "width": null
     }
    },
    "98e7ab5f7ebf426fbb71a37bbad4c28f": {
     "model_module": "@jupyter-widgets/controls",
     "model_name": "FloatProgressModel",
     "state": {
      "_dom_classes": [],
      "_model_module": "@jupyter-widgets/controls",
      "_model_module_version": "1.5.0",
      "_model_name": "FloatProgressModel",
      "_view_count": null,
      "_view_module": "@jupyter-widgets/controls",
      "_view_module_version": "1.5.0",
      "_view_name": "ProgressView",
      "bar_style": "info",
      "description": "",
      "description_tooltip": null,
      "layout": "IPY_MODEL_2f5406546970425282a881b5d2f7c248",
      "max": 1,
      "min": 0,
      "orientation": "horizontal",
      "style": "IPY_MODEL_4382726ef043441a9b1a4a647d84f242",
      "value": 1
     }
    },
    "998676d59f9c464e8463d65baad6448b": {
     "model_module": "@jupyter-widgets/controls",
     "model_name": "HTMLModel",
     "state": {
      "_dom_classes": [],
      "_model_module": "@jupyter-widgets/controls",
      "_model_module_version": "1.5.0",
      "_model_name": "HTMLModel",
      "_view_count": null,
      "_view_module": "@jupyter-widgets/controls",
      "_view_module_version": "1.5.0",
      "_view_name": "HTMLView",
      "description": "",
      "description_tooltip": null,
      "layout": "IPY_MODEL_7b4cfd2b448643b8a4409dd612aef0d1",
      "placeholder": "​",
      "style": "IPY_MODEL_7bf5b2b625764f63ad57a360c3fd0a61",
      "value": " 1647/1647 [00:45&lt;00:00, 36.39ex/s]"
     }
    },
    "99d5c44ea54b45ee9bd89380cb1ad189": {
     "model_module": "@jupyter-widgets/base",
     "model_name": "LayoutModel",
     "state": {
      "_model_module": "@jupyter-widgets/base",
      "_model_module_version": "1.2.0",
      "_model_name": "LayoutModel",
      "_view_count": null,
      "_view_module": "@jupyter-widgets/base",
      "_view_module_version": "1.2.0",
      "_view_name": "LayoutView",
      "align_content": null,
      "align_items": null,
      "align_self": null,
      "border": null,
      "bottom": null,
      "display": null,
      "flex": null,
      "flex_flow": null,
      "grid_area": null,
      "grid_auto_columns": null,
      "grid_auto_flow": null,
      "grid_auto_rows": null,
      "grid_column": null,
      "grid_gap": null,
      "grid_row": null,
      "grid_template_areas": null,
      "grid_template_columns": null,
      "grid_template_rows": null,
      "height": null,
      "justify_content": null,
      "justify_items": null,
      "left": null,
      "margin": null,
      "max_height": null,
      "max_width": null,
      "min_height": null,
      "min_width": null,
      "object_fit": null,
      "object_position": null,
      "order": null,
      "overflow": null,
      "overflow_x": null,
      "overflow_y": null,
      "padding": null,
      "right": null,
      "top": null,
      "visibility": null,
      "width": null
     }
    },
    "9eb51a6ecf3f41578aa397a5c2a33673": {
     "model_module": "@jupyter-widgets/base",
     "model_name": "LayoutModel",
     "state": {
      "_model_module": "@jupyter-widgets/base",
      "_model_module_version": "1.2.0",
      "_model_name": "LayoutModel",
      "_view_count": null,
      "_view_module": "@jupyter-widgets/base",
      "_view_module_version": "1.2.0",
      "_view_name": "LayoutView",
      "align_content": null,
      "align_items": null,
      "align_self": null,
      "border": null,
      "bottom": null,
      "display": null,
      "flex": null,
      "flex_flow": null,
      "grid_area": null,
      "grid_auto_columns": null,
      "grid_auto_flow": null,
      "grid_auto_rows": null,
      "grid_column": null,
      "grid_gap": null,
      "grid_row": null,
      "grid_template_areas": null,
      "grid_template_columns": null,
      "grid_template_rows": null,
      "height": null,
      "justify_content": null,
      "justify_items": null,
      "left": null,
      "margin": null,
      "max_height": null,
      "max_width": null,
      "min_height": null,
      "min_width": null,
      "object_fit": null,
      "object_position": null,
      "order": null,
      "overflow": null,
      "overflow_x": null,
      "overflow_y": null,
      "padding": null,
      "right": null,
      "top": null,
      "visibility": null,
      "width": null
     }
    },
    "9f79629ad6a94201acf3283862d1ae17": {
     "model_module": "@jupyter-widgets/controls",
     "model_name": "DescriptionStyleModel",
     "state": {
      "_model_module": "@jupyter-widgets/controls",
      "_model_module_version": "1.5.0",
      "_model_name": "DescriptionStyleModel",
      "_view_count": null,
      "_view_module": "@jupyter-widgets/base",
      "_view_module_version": "1.2.0",
      "_view_name": "StyleView",
      "description_width": ""
     }
    },
    "9fee9d9dd1164d97a9109e942444c332": {
     "model_module": "@jupyter-widgets/controls",
     "model_name": "HTMLModel",
     "state": {
      "_dom_classes": [],
      "_model_module": "@jupyter-widgets/controls",
      "_model_module_version": "1.5.0",
      "_model_name": "HTMLModel",
      "_view_count": null,
      "_view_module": "@jupyter-widgets/controls",
      "_view_module_version": "1.5.0",
      "_view_name": "HTMLView",
      "description": "",
      "description_tooltip": null,
      "layout": "IPY_MODEL_c126ea97019149848396e593cfab016f",
      "placeholder": "​",
      "style": "IPY_MODEL_f9efaa7678c2450f847ff2c2f21ff96e",
      "value": " 52/52 [00:31&lt;00:00,  1.66ba/s]"
     }
    },
    "a170c0cb21cf425fbee97fd6d5584e2c": {
     "model_module": "@jupyter-widgets/base",
     "model_name": "LayoutModel",
     "state": {
      "_model_module": "@jupyter-widgets/base",
      "_model_module_version": "1.2.0",
      "_model_name": "LayoutModel",
      "_view_count": null,
      "_view_module": "@jupyter-widgets/base",
      "_view_module_version": "1.2.0",
      "_view_name": "LayoutView",
      "align_content": null,
      "align_items": null,
      "align_self": null,
      "border": null,
      "bottom": null,
      "display": null,
      "flex": null,
      "flex_flow": null,
      "grid_area": null,
      "grid_auto_columns": null,
      "grid_auto_flow": null,
      "grid_auto_rows": null,
      "grid_column": null,
      "grid_gap": null,
      "grid_row": null,
      "grid_template_areas": null,
      "grid_template_columns": null,
      "grid_template_rows": null,
      "height": null,
      "justify_content": null,
      "justify_items": null,
      "left": null,
      "margin": null,
      "max_height": null,
      "max_width": null,
      "min_height": null,
      "min_width": null,
      "object_fit": null,
      "object_position": null,
      "order": null,
      "overflow": null,
      "overflow_x": null,
      "overflow_y": null,
      "padding": null,
      "right": null,
      "top": null,
      "visibility": null,
      "width": null
     }
    },
    "a34dae18d9994b848630d4e3d836e0cb": {
     "model_module": "@jupyter-widgets/base",
     "model_name": "LayoutModel",
     "state": {
      "_model_module": "@jupyter-widgets/base",
      "_model_module_version": "1.2.0",
      "_model_name": "LayoutModel",
      "_view_count": null,
      "_view_module": "@jupyter-widgets/base",
      "_view_module_version": "1.2.0",
      "_view_name": "LayoutView",
      "align_content": null,
      "align_items": null,
      "align_self": null,
      "border": null,
      "bottom": null,
      "display": null,
      "flex": null,
      "flex_flow": null,
      "grid_area": null,
      "grid_auto_columns": null,
      "grid_auto_flow": null,
      "grid_auto_rows": null,
      "grid_column": null,
      "grid_gap": null,
      "grid_row": null,
      "grid_template_areas": null,
      "grid_template_columns": null,
      "grid_template_rows": null,
      "height": null,
      "justify_content": null,
      "justify_items": null,
      "left": null,
      "margin": null,
      "max_height": null,
      "max_width": null,
      "min_height": null,
      "min_width": null,
      "object_fit": null,
      "object_position": null,
      "order": null,
      "overflow": null,
      "overflow_x": null,
      "overflow_y": null,
      "padding": null,
      "right": null,
      "top": null,
      "visibility": null,
      "width": null
     }
    },
    "a3c04c75ec9743feb795f69e7c4dff4f": {
     "model_module": "@jupyter-widgets/controls",
     "model_name": "ProgressStyleModel",
     "state": {
      "_model_module": "@jupyter-widgets/controls",
      "_model_module_version": "1.5.0",
      "_model_name": "ProgressStyleModel",
      "_view_count": null,
      "_view_module": "@jupyter-widgets/base",
      "_view_module_version": "1.2.0",
      "_view_name": "StyleView",
      "bar_color": null,
      "description_width": "initial"
     }
    },
    "a47f1ea64f894f0b8e6b277c31ae9f7d": {
     "model_module": "@jupyter-widgets/controls",
     "model_name": "ProgressStyleModel",
     "state": {
      "_model_module": "@jupyter-widgets/controls",
      "_model_module_version": "1.5.0",
      "_model_name": "ProgressStyleModel",
      "_view_count": null,
      "_view_module": "@jupyter-widgets/base",
      "_view_module_version": "1.2.0",
      "_view_name": "StyleView",
      "bar_color": null,
      "description_width": "initial"
     }
    },
    "a58c203a7cc54086aea45f2029821207": {
     "model_module": "@jupyter-widgets/controls",
     "model_name": "FloatProgressModel",
     "state": {
      "_dom_classes": [],
      "_model_module": "@jupyter-widgets/controls",
      "_model_module_version": "1.5.0",
      "_model_name": "FloatProgressModel",
      "_view_count": null,
      "_view_module": "@jupyter-widgets/controls",
      "_view_module_version": "1.5.0",
      "_view_name": "ProgressView",
      "bar_style": "success",
      "description": "100%",
      "description_tooltip": null,
      "layout": "IPY_MODEL_b1b6a4649fc34c9996f993c57671766b",
      "max": 1647,
      "min": 0,
      "orientation": "horizontal",
      "style": "IPY_MODEL_c8fdf261ac294093a355778a3a4aba3b",
      "value": 1647
     }
    },
    "a868dea9d9b047a4b853b390e138e4c1": {
     "model_module": "@jupyter-widgets/base",
     "model_name": "LayoutModel",
     "state": {
      "_model_module": "@jupyter-widgets/base",
      "_model_module_version": "1.2.0",
      "_model_name": "LayoutModel",
      "_view_count": null,
      "_view_module": "@jupyter-widgets/base",
      "_view_module_version": "1.2.0",
      "_view_name": "LayoutView",
      "align_content": null,
      "align_items": null,
      "align_self": null,
      "border": null,
      "bottom": null,
      "display": null,
      "flex": null,
      "flex_flow": null,
      "grid_area": null,
      "grid_auto_columns": null,
      "grid_auto_flow": null,
      "grid_auto_rows": null,
      "grid_column": null,
      "grid_gap": null,
      "grid_row": null,
      "grid_template_areas": null,
      "grid_template_columns": null,
      "grid_template_rows": null,
      "height": null,
      "justify_content": null,
      "justify_items": null,
      "left": null,
      "margin": null,
      "max_height": null,
      "max_width": null,
      "min_height": null,
      "min_width": null,
      "object_fit": null,
      "object_position": null,
      "order": null,
      "overflow": null,
      "overflow_x": null,
      "overflow_y": null,
      "padding": null,
      "right": null,
      "top": null,
      "visibility": null,
      "width": null
     }
    },
    "aafd4b2c56db43378c4627797665db17": {
     "model_module": "@jupyter-widgets/controls",
     "model_name": "HTMLModel",
     "state": {
      "_dom_classes": [],
      "_model_module": "@jupyter-widgets/controls",
      "_model_module_version": "1.5.0",
      "_model_name": "HTMLModel",
      "_view_count": null,
      "_view_module": "@jupyter-widgets/controls",
      "_view_module_version": "1.5.0",
      "_view_name": "HTMLView",
      "description": "",
      "description_tooltip": null,
      "layout": "IPY_MODEL_ad428686450f4ebdb50a0356b2e5a8c4",
      "placeholder": "​",
      "style": "IPY_MODEL_ccb720bf256e42f7b0251494ccb7741f",
      "value": " 1/1 [00:45&lt;00:00, 45.03s/ba]"
     }
    },
    "ab72c80dfd5e4ab19a183f4204486b59": {
     "model_module": "@jupyter-widgets/controls",
     "model_name": "DescriptionStyleModel",
     "state": {
      "_model_module": "@jupyter-widgets/controls",
      "_model_module_version": "1.5.0",
      "_model_name": "DescriptionStyleModel",
      "_view_count": null,
      "_view_module": "@jupyter-widgets/base",
      "_view_module_version": "1.2.0",
      "_view_name": "StyleView",
      "description_width": ""
     }
    },
    "ac35dca0845149a284b9867d9e607232": {
     "model_module": "@jupyter-widgets/controls",
     "model_name": "HBoxModel",
     "state": {
      "_dom_classes": [],
      "_model_module": "@jupyter-widgets/controls",
      "_model_module_version": "1.5.0",
      "_model_name": "HBoxModel",
      "_view_count": null,
      "_view_module": "@jupyter-widgets/controls",
      "_view_module_version": "1.5.0",
      "_view_name": "HBoxView",
      "box_style": "",
      "children": [
       "IPY_MODEL_5071a31d06f544a5b7340a4e863d8fdf",
       "IPY_MODEL_542027ba12f444d586e8072452badea0"
      ],
      "layout": "IPY_MODEL_b54bff6261964119bcb562c1a9f74ce6"
     }
    },
    "ad428686450f4ebdb50a0356b2e5a8c4": {
     "model_module": "@jupyter-widgets/base",
     "model_name": "LayoutModel",
     "state": {
      "_model_module": "@jupyter-widgets/base",
      "_model_module_version": "1.2.0",
      "_model_name": "LayoutModel",
      "_view_count": null,
      "_view_module": "@jupyter-widgets/base",
      "_view_module_version": "1.2.0",
      "_view_name": "LayoutView",
      "align_content": null,
      "align_items": null,
      "align_self": null,
      "border": null,
      "bottom": null,
      "display": null,
      "flex": null,
      "flex_flow": null,
      "grid_area": null,
      "grid_auto_columns": null,
      "grid_auto_flow": null,
      "grid_auto_rows": null,
      "grid_column": null,
      "grid_gap": null,
      "grid_row": null,
      "grid_template_areas": null,
      "grid_template_columns": null,
      "grid_template_rows": null,
      "height": null,
      "justify_content": null,
      "justify_items": null,
      "left": null,
      "margin": null,
      "max_height": null,
      "max_width": null,
      "min_height": null,
      "min_width": null,
      "object_fit": null,
      "object_position": null,
      "order": null,
      "overflow": null,
      "overflow_x": null,
      "overflow_y": null,
      "padding": null,
      "right": null,
      "top": null,
      "visibility": null,
      "width": null
     }
    },
    "af85713f677243d19cba9fe69a4a5f46": {
     "model_module": "@jupyter-widgets/base",
     "model_name": "LayoutModel",
     "state": {
      "_model_module": "@jupyter-widgets/base",
      "_model_module_version": "1.2.0",
      "_model_name": "LayoutModel",
      "_view_count": null,
      "_view_module": "@jupyter-widgets/base",
      "_view_module_version": "1.2.0",
      "_view_name": "LayoutView",
      "align_content": null,
      "align_items": null,
      "align_self": null,
      "border": null,
      "bottom": null,
      "display": null,
      "flex": null,
      "flex_flow": null,
      "grid_area": null,
      "grid_auto_columns": null,
      "grid_auto_flow": null,
      "grid_auto_rows": null,
      "grid_column": null,
      "grid_gap": null,
      "grid_row": null,
      "grid_template_areas": null,
      "grid_template_columns": null,
      "grid_template_rows": null,
      "height": null,
      "justify_content": null,
      "justify_items": null,
      "left": null,
      "margin": null,
      "max_height": null,
      "max_width": null,
      "min_height": null,
      "min_width": null,
      "object_fit": null,
      "object_position": null,
      "order": null,
      "overflow": null,
      "overflow_x": null,
      "overflow_y": null,
      "padding": null,
      "right": null,
      "top": null,
      "visibility": null,
      "width": null
     }
    },
    "b0479f03f96241ca959f6fe7bcbd1aba": {
     "model_module": "@jupyter-widgets/base",
     "model_name": "LayoutModel",
     "state": {
      "_model_module": "@jupyter-widgets/base",
      "_model_module_version": "1.2.0",
      "_model_name": "LayoutModel",
      "_view_count": null,
      "_view_module": "@jupyter-widgets/base",
      "_view_module_version": "1.2.0",
      "_view_name": "LayoutView",
      "align_content": null,
      "align_items": null,
      "align_self": null,
      "border": null,
      "bottom": null,
      "display": null,
      "flex": null,
      "flex_flow": null,
      "grid_area": null,
      "grid_auto_columns": null,
      "grid_auto_flow": null,
      "grid_auto_rows": null,
      "grid_column": null,
      "grid_gap": null,
      "grid_row": null,
      "grid_template_areas": null,
      "grid_template_columns": null,
      "grid_template_rows": null,
      "height": null,
      "justify_content": null,
      "justify_items": null,
      "left": null,
      "margin": null,
      "max_height": null,
      "max_width": null,
      "min_height": null,
      "min_width": null,
      "object_fit": null,
      "object_position": null,
      "order": null,
      "overflow": null,
      "overflow_x": null,
      "overflow_y": null,
      "padding": null,
      "right": null,
      "top": null,
      "visibility": null,
      "width": null
     }
    },
    "b054b00a32e64fc5988fbd2966ebbce6": {
     "model_module": "@jupyter-widgets/base",
     "model_name": "LayoutModel",
     "state": {
      "_model_module": "@jupyter-widgets/base",
      "_model_module_version": "1.2.0",
      "_model_name": "LayoutModel",
      "_view_count": null,
      "_view_module": "@jupyter-widgets/base",
      "_view_module_version": "1.2.0",
      "_view_name": "LayoutView",
      "align_content": null,
      "align_items": null,
      "align_self": null,
      "border": null,
      "bottom": null,
      "display": null,
      "flex": null,
      "flex_flow": null,
      "grid_area": null,
      "grid_auto_columns": null,
      "grid_auto_flow": null,
      "grid_auto_rows": null,
      "grid_column": null,
      "grid_gap": null,
      "grid_row": null,
      "grid_template_areas": null,
      "grid_template_columns": null,
      "grid_template_rows": null,
      "height": null,
      "justify_content": null,
      "justify_items": null,
      "left": null,
      "margin": null,
      "max_height": null,
      "max_width": null,
      "min_height": null,
      "min_width": null,
      "object_fit": null,
      "object_position": null,
      "order": null,
      "overflow": null,
      "overflow_x": null,
      "overflow_y": null,
      "padding": null,
      "right": null,
      "top": null,
      "visibility": null,
      "width": null
     }
    },
    "b0e3a36279d243ab9943149705c72c3e": {
     "model_module": "@jupyter-widgets/controls",
     "model_name": "FloatProgressModel",
     "state": {
      "_dom_classes": [],
      "_model_module": "@jupyter-widgets/controls",
      "_model_module_version": "1.5.0",
      "_model_name": "FloatProgressModel",
      "_view_count": null,
      "_view_module": "@jupyter-widgets/controls",
      "_view_module_version": "1.5.0",
      "_view_name": "ProgressView",
      "bar_style": "success",
      "description": "Downloading: ",
      "description_tooltip": null,
      "layout": "IPY_MODEL_a34dae18d9994b848630d4e3d836e0cb",
      "max": 5925,
      "min": 0,
      "orientation": "horizontal",
      "style": "IPY_MODEL_530f66ac087e4f8f979fcaa33941c60d",
      "value": 5925
     }
    },
    "b0f3a205ad4546188fc6e7e7cf96ab32": {
     "model_module": "@jupyter-widgets/controls",
     "model_name": "ProgressStyleModel",
     "state": {
      "_model_module": "@jupyter-widgets/controls",
      "_model_module_version": "1.5.0",
      "_model_name": "ProgressStyleModel",
      "_view_count": null,
      "_view_module": "@jupyter-widgets/base",
      "_view_module_version": "1.2.0",
      "_view_name": "StyleView",
      "bar_color": null,
      "description_width": "initial"
     }
    },
    "b177a8cb85a24b88ab6d56205b630f1d": {
     "model_module": "@jupyter-widgets/base",
     "model_name": "LayoutModel",
     "state": {
      "_model_module": "@jupyter-widgets/base",
      "_model_module_version": "1.2.0",
      "_model_name": "LayoutModel",
      "_view_count": null,
      "_view_module": "@jupyter-widgets/base",
      "_view_module_version": "1.2.0",
      "_view_name": "LayoutView",
      "align_content": null,
      "align_items": null,
      "align_self": null,
      "border": null,
      "bottom": null,
      "display": null,
      "flex": null,
      "flex_flow": null,
      "grid_area": null,
      "grid_auto_columns": null,
      "grid_auto_flow": null,
      "grid_auto_rows": null,
      "grid_column": null,
      "grid_gap": null,
      "grid_row": null,
      "grid_template_areas": null,
      "grid_template_columns": null,
      "grid_template_rows": null,
      "height": null,
      "justify_content": null,
      "justify_items": null,
      "left": null,
      "margin": null,
      "max_height": null,
      "max_width": null,
      "min_height": null,
      "min_width": null,
      "object_fit": null,
      "object_position": null,
      "order": null,
      "overflow": null,
      "overflow_x": null,
      "overflow_y": null,
      "padding": null,
      "right": null,
      "top": null,
      "visibility": null,
      "width": null
     }
    },
    "b1b6a4649fc34c9996f993c57671766b": {
     "model_module": "@jupyter-widgets/base",
     "model_name": "LayoutModel",
     "state": {
      "_model_module": "@jupyter-widgets/base",
      "_model_module_version": "1.2.0",
      "_model_name": "LayoutModel",
      "_view_count": null,
      "_view_module": "@jupyter-widgets/base",
      "_view_module_version": "1.2.0",
      "_view_name": "LayoutView",
      "align_content": null,
      "align_items": null,
      "align_self": null,
      "border": null,
      "bottom": null,
      "display": null,
      "flex": null,
      "flex_flow": null,
      "grid_area": null,
      "grid_auto_columns": null,
      "grid_auto_flow": null,
      "grid_auto_rows": null,
      "grid_column": null,
      "grid_gap": null,
      "grid_row": null,
      "grid_template_areas": null,
      "grid_template_columns": null,
      "grid_template_rows": null,
      "height": null,
      "justify_content": null,
      "justify_items": null,
      "left": null,
      "margin": null,
      "max_height": null,
      "max_width": null,
      "min_height": null,
      "min_width": null,
      "object_fit": null,
      "object_position": null,
      "order": null,
      "overflow": null,
      "overflow_x": null,
      "overflow_y": null,
      "padding": null,
      "right": null,
      "top": null,
      "visibility": null,
      "width": null
     }
    },
    "b1d93a7521fa47b8a815445b5232da59": {
     "model_module": "@jupyter-widgets/base",
     "model_name": "LayoutModel",
     "state": {
      "_model_module": "@jupyter-widgets/base",
      "_model_module_version": "1.2.0",
      "_model_name": "LayoutModel",
      "_view_count": null,
      "_view_module": "@jupyter-widgets/base",
      "_view_module_version": "1.2.0",
      "_view_name": "LayoutView",
      "align_content": null,
      "align_items": null,
      "align_self": null,
      "border": null,
      "bottom": null,
      "display": null,
      "flex": null,
      "flex_flow": null,
      "grid_area": null,
      "grid_auto_columns": null,
      "grid_auto_flow": null,
      "grid_auto_rows": null,
      "grid_column": null,
      "grid_gap": null,
      "grid_row": null,
      "grid_template_areas": null,
      "grid_template_columns": null,
      "grid_template_rows": null,
      "height": null,
      "justify_content": null,
      "justify_items": null,
      "left": null,
      "margin": null,
      "max_height": null,
      "max_width": null,
      "min_height": null,
      "min_width": null,
      "object_fit": null,
      "object_position": null,
      "order": null,
      "overflow": null,
      "overflow_x": null,
      "overflow_y": null,
      "padding": null,
      "right": null,
      "top": null,
      "visibility": null,
      "width": null
     }
    },
    "b2473405490e4556bf30c0cc81237aa5": {
     "model_module": "@jupyter-widgets/base",
     "model_name": "LayoutModel",
     "state": {
      "_model_module": "@jupyter-widgets/base",
      "_model_module_version": "1.2.0",
      "_model_name": "LayoutModel",
      "_view_count": null,
      "_view_module": "@jupyter-widgets/base",
      "_view_module_version": "1.2.0",
      "_view_name": "LayoutView",
      "align_content": null,
      "align_items": null,
      "align_self": null,
      "border": null,
      "bottom": null,
      "display": null,
      "flex": null,
      "flex_flow": null,
      "grid_area": null,
      "grid_auto_columns": null,
      "grid_auto_flow": null,
      "grid_auto_rows": null,
      "grid_column": null,
      "grid_gap": null,
      "grid_row": null,
      "grid_template_areas": null,
      "grid_template_columns": null,
      "grid_template_rows": null,
      "height": null,
      "justify_content": null,
      "justify_items": null,
      "left": null,
      "margin": null,
      "max_height": null,
      "max_width": null,
      "min_height": null,
      "min_width": null,
      "object_fit": null,
      "object_position": null,
      "order": null,
      "overflow": null,
      "overflow_x": null,
      "overflow_y": null,
      "padding": null,
      "right": null,
      "top": null,
      "visibility": null,
      "width": null
     }
    },
    "b320306eaf264ad9872d507a1a1cb2da": {
     "model_module": "@jupyter-widgets/base",
     "model_name": "LayoutModel",
     "state": {
      "_model_module": "@jupyter-widgets/base",
      "_model_module_version": "1.2.0",
      "_model_name": "LayoutModel",
      "_view_count": null,
      "_view_module": "@jupyter-widgets/base",
      "_view_module_version": "1.2.0",
      "_view_name": "LayoutView",
      "align_content": null,
      "align_items": null,
      "align_self": null,
      "border": null,
      "bottom": null,
      "display": null,
      "flex": null,
      "flex_flow": null,
      "grid_area": null,
      "grid_auto_columns": null,
      "grid_auto_flow": null,
      "grid_auto_rows": null,
      "grid_column": null,
      "grid_gap": null,
      "grid_row": null,
      "grid_template_areas": null,
      "grid_template_columns": null,
      "grid_template_rows": null,
      "height": null,
      "justify_content": null,
      "justify_items": null,
      "left": null,
      "margin": null,
      "max_height": null,
      "max_width": null,
      "min_height": null,
      "min_width": null,
      "object_fit": null,
      "object_position": null,
      "order": null,
      "overflow": null,
      "overflow_x": null,
      "overflow_y": null,
      "padding": null,
      "right": null,
      "top": null,
      "visibility": null,
      "width": null
     }
    },
    "b54bff6261964119bcb562c1a9f74ce6": {
     "model_module": "@jupyter-widgets/base",
     "model_name": "LayoutModel",
     "state": {
      "_model_module": "@jupyter-widgets/base",
      "_model_module_version": "1.2.0",
      "_model_name": "LayoutModel",
      "_view_count": null,
      "_view_module": "@jupyter-widgets/base",
      "_view_module_version": "1.2.0",
      "_view_name": "LayoutView",
      "align_content": null,
      "align_items": null,
      "align_self": null,
      "border": null,
      "bottom": null,
      "display": null,
      "flex": null,
      "flex_flow": null,
      "grid_area": null,
      "grid_auto_columns": null,
      "grid_auto_flow": null,
      "grid_auto_rows": null,
      "grid_column": null,
      "grid_gap": null,
      "grid_row": null,
      "grid_template_areas": null,
      "grid_template_columns": null,
      "grid_template_rows": null,
      "height": null,
      "justify_content": null,
      "justify_items": null,
      "left": null,
      "margin": null,
      "max_height": null,
      "max_width": null,
      "min_height": null,
      "min_width": null,
      "object_fit": null,
      "object_position": null,
      "order": null,
      "overflow": null,
      "overflow_x": null,
      "overflow_y": null,
      "padding": null,
      "right": null,
      "top": null,
      "visibility": null,
      "width": null
     }
    },
    "b6221b4c04e64c9da9eb9e11539bac89": {
     "model_module": "@jupyter-widgets/controls",
     "model_name": "HBoxModel",
     "state": {
      "_dom_classes": [],
      "_model_module": "@jupyter-widgets/controls",
      "_model_module_version": "1.5.0",
      "_model_name": "HBoxModel",
      "_view_count": null,
      "_view_module": "@jupyter-widgets/controls",
      "_view_module_version": "1.5.0",
      "_view_name": "HBoxView",
      "box_style": "",
      "children": [
       "IPY_MODEL_02d1f77324854fbca0df9384c57faac8",
       "IPY_MODEL_8e63ba7f1fd24555bf11bc9dbe9c770b"
      ],
      "layout": "IPY_MODEL_dc6862530f6e429ba61a169b4c95722c"
     }
    },
    "b78413dcc0584a0c8f71731a06aaa1b8": {
     "model_module": "@jupyter-widgets/base",
     "model_name": "LayoutModel",
     "state": {
      "_model_module": "@jupyter-widgets/base",
      "_model_module_version": "1.2.0",
      "_model_name": "LayoutModel",
      "_view_count": null,
      "_view_module": "@jupyter-widgets/base",
      "_view_module_version": "1.2.0",
      "_view_name": "LayoutView",
      "align_content": null,
      "align_items": null,
      "align_self": null,
      "border": null,
      "bottom": null,
      "display": null,
      "flex": null,
      "flex_flow": null,
      "grid_area": null,
      "grid_auto_columns": null,
      "grid_auto_flow": null,
      "grid_auto_rows": null,
      "grid_column": null,
      "grid_gap": null,
      "grid_row": null,
      "grid_template_areas": null,
      "grid_template_columns": null,
      "grid_template_rows": null,
      "height": null,
      "justify_content": null,
      "justify_items": null,
      "left": null,
      "margin": null,
      "max_height": null,
      "max_width": null,
      "min_height": null,
      "min_width": null,
      "object_fit": null,
      "object_position": null,
      "order": null,
      "overflow": null,
      "overflow_x": null,
      "overflow_y": null,
      "padding": null,
      "right": null,
      "top": null,
      "visibility": null,
      "width": null
     }
    },
    "b7c43fb5efdd4afbb82c81b923f2815a": {
     "model_module": "@jupyter-widgets/controls",
     "model_name": "HBoxModel",
     "state": {
      "_dom_classes": [],
      "_model_module": "@jupyter-widgets/controls",
      "_model_module_version": "1.5.0",
      "_model_name": "HBoxModel",
      "_view_count": null,
      "_view_module": "@jupyter-widgets/controls",
      "_view_module_version": "1.5.0",
      "_view_name": "HBoxView",
      "box_style": "",
      "children": [
       "IPY_MODEL_8dddd0245dcb4532917cbfa0181d2a00",
       "IPY_MODEL_3bdb4058f40f40e3a10e323325a64638"
      ],
      "layout": "IPY_MODEL_c0a661f20e7e4649a3c8c42a5fd01956"
     }
    },
    "b94e374d92c146009447c3827b977267": {
     "model_module": "@jupyter-widgets/controls",
     "model_name": "FloatProgressModel",
     "state": {
      "_dom_classes": [],
      "_model_module": "@jupyter-widgets/controls",
      "_model_module_version": "1.5.0",
      "_model_name": "FloatProgressModel",
      "_view_count": null,
      "_view_module": "@jupyter-widgets/controls",
      "_view_module_version": "1.5.0",
      "_view_name": "ProgressView",
      "bar_style": "success",
      "description": "100%",
      "description_tooltip": null,
      "layout": "IPY_MODEL_b177a8cb85a24b88ab6d56205b630f1d",
      "max": 3478,
      "min": 0,
      "orientation": "horizontal",
      "style": "IPY_MODEL_4ff7ccffc36a4a0f93031f5cdc3b718d",
      "value": 3478
     }
    },
    "b9c5c6dd54cc4dc5ad5a2bb69a24ab05": {
     "model_module": "@jupyter-widgets/controls",
     "model_name": "ProgressStyleModel",
     "state": {
      "_model_module": "@jupyter-widgets/controls",
      "_model_module_version": "1.5.0",
      "_model_name": "ProgressStyleModel",
      "_view_count": null,
      "_view_module": "@jupyter-widgets/base",
      "_view_module_version": "1.2.0",
      "_view_name": "StyleView",
      "bar_color": null,
      "description_width": "initial"
     }
    },
    "bc41384bbae04044b9780651c6b5a47c": {
     "model_module": "@jupyter-widgets/base",
     "model_name": "LayoutModel",
     "state": {
      "_model_module": "@jupyter-widgets/base",
      "_model_module_version": "1.2.0",
      "_model_name": "LayoutModel",
      "_view_count": null,
      "_view_module": "@jupyter-widgets/base",
      "_view_module_version": "1.2.0",
      "_view_name": "LayoutView",
      "align_content": null,
      "align_items": null,
      "align_self": null,
      "border": null,
      "bottom": null,
      "display": null,
      "flex": null,
      "flex_flow": null,
      "grid_area": null,
      "grid_auto_columns": null,
      "grid_auto_flow": null,
      "grid_auto_rows": null,
      "grid_column": null,
      "grid_gap": null,
      "grid_row": null,
      "grid_template_areas": null,
      "grid_template_columns": null,
      "grid_template_rows": null,
      "height": null,
      "justify_content": null,
      "justify_items": null,
      "left": null,
      "margin": null,
      "max_height": null,
      "max_width": null,
      "min_height": null,
      "min_width": null,
      "object_fit": null,
      "object_position": null,
      "order": null,
      "overflow": null,
      "overflow_x": null,
      "overflow_y": null,
      "padding": null,
      "right": null,
      "top": null,
      "visibility": null,
      "width": null
     }
    },
    "bd0958ea97b141b1aca367c71721c549": {
     "model_module": "@jupyter-widgets/controls",
     "model_name": "HBoxModel",
     "state": {
      "_dom_classes": [],
      "_model_module": "@jupyter-widgets/controls",
      "_model_module_version": "1.5.0",
      "_model_name": "HBoxModel",
      "_view_count": null,
      "_view_module": "@jupyter-widgets/controls",
      "_view_module_version": "1.5.0",
      "_view_name": "HBoxView",
      "box_style": "",
      "children": [
       "IPY_MODEL_d080668299ef42fabb8ab6fbcf329cea",
       "IPY_MODEL_aafd4b2c56db43378c4627797665db17"
      ],
      "layout": "IPY_MODEL_0354ab33471e4c34a0c1b3c062bcd6bb"
     }
    },
    "bd187486ac2548f2961cfcb63d852de1": {
     "model_module": "@jupyter-widgets/controls",
     "model_name": "FloatProgressModel",
     "state": {
      "_dom_classes": [],
      "_model_module": "@jupyter-widgets/controls",
      "_model_module_version": "1.5.0",
      "_model_name": "FloatProgressModel",
      "_view_count": null,
      "_view_module": "@jupyter-widgets/controls",
      "_view_module_version": "1.5.0",
      "_view_name": "ProgressView",
      "bar_style": "success",
      "description": "#1: 100%",
      "description_tooltip": null,
      "layout": "IPY_MODEL_58f3e8002f984594ac05c973aa78ef69",
      "max": 52,
      "min": 0,
      "orientation": "horizontal",
      "style": "IPY_MODEL_231c66f195d34f86b216805518f4bccd",
      "value": 52
     }
    },
    "bd3447291ce54812af10ac6245ea4328": {
     "model_module": "@jupyter-widgets/base",
     "model_name": "LayoutModel",
     "state": {
      "_model_module": "@jupyter-widgets/base",
      "_model_module_version": "1.2.0",
      "_model_name": "LayoutModel",
      "_view_count": null,
      "_view_module": "@jupyter-widgets/base",
      "_view_module_version": "1.2.0",
      "_view_name": "LayoutView",
      "align_content": null,
      "align_items": null,
      "align_self": null,
      "border": null,
      "bottom": null,
      "display": null,
      "flex": null,
      "flex_flow": null,
      "grid_area": null,
      "grid_auto_columns": null,
      "grid_auto_flow": null,
      "grid_auto_rows": null,
      "grid_column": null,
      "grid_gap": null,
      "grid_row": null,
      "grid_template_areas": null,
      "grid_template_columns": null,
      "grid_template_rows": null,
      "height": null,
      "justify_content": null,
      "justify_items": null,
      "left": null,
      "margin": null,
      "max_height": null,
      "max_width": null,
      "min_height": null,
      "min_width": null,
      "object_fit": null,
      "object_position": null,
      "order": null,
      "overflow": null,
      "overflow_x": null,
      "overflow_y": null,
      "padding": null,
      "right": null,
      "top": null,
      "visibility": null,
      "width": null
     }
    },
    "beca070c32124a119a08cb21c2ca95e5": {
     "model_module": "@jupyter-widgets/controls",
     "model_name": "ProgressStyleModel",
     "state": {
      "_model_module": "@jupyter-widgets/controls",
      "_model_module_version": "1.5.0",
      "_model_name": "ProgressStyleModel",
      "_view_count": null,
      "_view_module": "@jupyter-widgets/base",
      "_view_module_version": "1.2.0",
      "_view_name": "StyleView",
      "bar_color": null,
      "description_width": "initial"
     }
    },
    "bee0f50055eb4f738636142a10da0ddd": {
     "model_module": "@jupyter-widgets/base",
     "model_name": "LayoutModel",
     "state": {
      "_model_module": "@jupyter-widgets/base",
      "_model_module_version": "1.2.0",
      "_model_name": "LayoutModel",
      "_view_count": null,
      "_view_module": "@jupyter-widgets/base",
      "_view_module_version": "1.2.0",
      "_view_name": "LayoutView",
      "align_content": null,
      "align_items": null,
      "align_self": null,
      "border": null,
      "bottom": null,
      "display": null,
      "flex": null,
      "flex_flow": null,
      "grid_area": null,
      "grid_auto_columns": null,
      "grid_auto_flow": null,
      "grid_auto_rows": null,
      "grid_column": null,
      "grid_gap": null,
      "grid_row": null,
      "grid_template_areas": null,
      "grid_template_columns": null,
      "grid_template_rows": null,
      "height": null,
      "justify_content": null,
      "justify_items": null,
      "left": null,
      "margin": null,
      "max_height": null,
      "max_width": null,
      "min_height": null,
      "min_width": null,
      "object_fit": null,
      "object_position": null,
      "order": null,
      "overflow": null,
      "overflow_x": null,
      "overflow_y": null,
      "padding": null,
      "right": null,
      "top": null,
      "visibility": null,
      "width": null
     }
    },
    "bf9e57d81135412d9a9a2281f28bd52a": {
     "model_module": "@jupyter-widgets/controls",
     "model_name": "HBoxModel",
     "state": {
      "_dom_classes": [],
      "_model_module": "@jupyter-widgets/controls",
      "_model_module_version": "1.5.0",
      "_model_name": "HBoxModel",
      "_view_count": null,
      "_view_module": "@jupyter-widgets/controls",
      "_view_module_version": "1.5.0",
      "_view_name": "HBoxView",
      "box_style": "",
      "children": [
       "IPY_MODEL_579b6055028f473981ce789a0733a753",
       "IPY_MODEL_4fb7347e9ca542e6ab9003bf4db218e0"
      ],
      "layout": "IPY_MODEL_c41610c0baef412984f8661d96e08b7e"
     }
    },
    "c01aca3229a24d41841be2b4a3a65bcc": {
     "model_module": "@jupyter-widgets/controls",
     "model_name": "ProgressStyleModel",
     "state": {
      "_model_module": "@jupyter-widgets/controls",
      "_model_module_version": "1.5.0",
      "_model_name": "ProgressStyleModel",
      "_view_count": null,
      "_view_module": "@jupyter-widgets/base",
      "_view_module_version": "1.2.0",
      "_view_name": "StyleView",
      "bar_color": null,
      "description_width": "initial"
     }
    },
    "c0a661f20e7e4649a3c8c42a5fd01956": {
     "model_module": "@jupyter-widgets/base",
     "model_name": "LayoutModel",
     "state": {
      "_model_module": "@jupyter-widgets/base",
      "_model_module_version": "1.2.0",
      "_model_name": "LayoutModel",
      "_view_count": null,
      "_view_module": "@jupyter-widgets/base",
      "_view_module_version": "1.2.0",
      "_view_name": "LayoutView",
      "align_content": null,
      "align_items": null,
      "align_self": null,
      "border": null,
      "bottom": null,
      "display": null,
      "flex": null,
      "flex_flow": null,
      "grid_area": null,
      "grid_auto_columns": null,
      "grid_auto_flow": null,
      "grid_auto_rows": null,
      "grid_column": null,
      "grid_gap": null,
      "grid_row": null,
      "grid_template_areas": null,
      "grid_template_columns": null,
      "grid_template_rows": null,
      "height": null,
      "justify_content": null,
      "justify_items": null,
      "left": null,
      "margin": null,
      "max_height": null,
      "max_width": null,
      "min_height": null,
      "min_width": null,
      "object_fit": null,
      "object_position": null,
      "order": null,
      "overflow": null,
      "overflow_x": null,
      "overflow_y": null,
      "padding": null,
      "right": null,
      "top": null,
      "visibility": null,
      "width": null
     }
    },
    "c0e6b6e6395d4dbd827eb1c0de1ad21a": {
     "model_module": "@jupyter-widgets/base",
     "model_name": "LayoutModel",
     "state": {
      "_model_module": "@jupyter-widgets/base",
      "_model_module_version": "1.2.0",
      "_model_name": "LayoutModel",
      "_view_count": null,
      "_view_module": "@jupyter-widgets/base",
      "_view_module_version": "1.2.0",
      "_view_name": "LayoutView",
      "align_content": null,
      "align_items": null,
      "align_self": null,
      "border": null,
      "bottom": null,
      "display": null,
      "flex": null,
      "flex_flow": null,
      "grid_area": null,
      "grid_auto_columns": null,
      "grid_auto_flow": null,
      "grid_auto_rows": null,
      "grid_column": null,
      "grid_gap": null,
      "grid_row": null,
      "grid_template_areas": null,
      "grid_template_columns": null,
      "grid_template_rows": null,
      "height": null,
      "justify_content": null,
      "justify_items": null,
      "left": null,
      "margin": null,
      "max_height": null,
      "max_width": null,
      "min_height": null,
      "min_width": null,
      "object_fit": null,
      "object_position": null,
      "order": null,
      "overflow": null,
      "overflow_x": null,
      "overflow_y": null,
      "padding": null,
      "right": null,
      "top": null,
      "visibility": null,
      "width": null
     }
    },
    "c126ea97019149848396e593cfab016f": {
     "model_module": "@jupyter-widgets/base",
     "model_name": "LayoutModel",
     "state": {
      "_model_module": "@jupyter-widgets/base",
      "_model_module_version": "1.2.0",
      "_model_name": "LayoutModel",
      "_view_count": null,
      "_view_module": "@jupyter-widgets/base",
      "_view_module_version": "1.2.0",
      "_view_name": "LayoutView",
      "align_content": null,
      "align_items": null,
      "align_self": null,
      "border": null,
      "bottom": null,
      "display": null,
      "flex": null,
      "flex_flow": null,
      "grid_area": null,
      "grid_auto_columns": null,
      "grid_auto_flow": null,
      "grid_auto_rows": null,
      "grid_column": null,
      "grid_gap": null,
      "grid_row": null,
      "grid_template_areas": null,
      "grid_template_columns": null,
      "grid_template_rows": null,
      "height": null,
      "justify_content": null,
      "justify_items": null,
      "left": null,
      "margin": null,
      "max_height": null,
      "max_width": null,
      "min_height": null,
      "min_width": null,
      "object_fit": null,
      "object_position": null,
      "order": null,
      "overflow": null,
      "overflow_x": null,
      "overflow_y": null,
      "padding": null,
      "right": null,
      "top": null,
      "visibility": null,
      "width": null
     }
    },
    "c41610c0baef412984f8661d96e08b7e": {
     "model_module": "@jupyter-widgets/base",
     "model_name": "LayoutModel",
     "state": {
      "_model_module": "@jupyter-widgets/base",
      "_model_module_version": "1.2.0",
      "_model_name": "LayoutModel",
      "_view_count": null,
      "_view_module": "@jupyter-widgets/base",
      "_view_module_version": "1.2.0",
      "_view_name": "LayoutView",
      "align_content": null,
      "align_items": null,
      "align_self": null,
      "border": null,
      "bottom": null,
      "display": null,
      "flex": null,
      "flex_flow": null,
      "grid_area": null,
      "grid_auto_columns": null,
      "grid_auto_flow": null,
      "grid_auto_rows": null,
      "grid_column": null,
      "grid_gap": null,
      "grid_row": null,
      "grid_template_areas": null,
      "grid_template_columns": null,
      "grid_template_rows": null,
      "height": null,
      "justify_content": null,
      "justify_items": null,
      "left": null,
      "margin": null,
      "max_height": null,
      "max_width": null,
      "min_height": null,
      "min_width": null,
      "object_fit": null,
      "object_position": null,
      "order": null,
      "overflow": null,
      "overflow_x": null,
      "overflow_y": null,
      "padding": null,
      "right": null,
      "top": null,
      "visibility": null,
      "width": null
     }
    },
    "c546bca23ee248a1be7bd8ead3e82a8f": {
     "model_module": "@jupyter-widgets/controls",
     "model_name": "ProgressStyleModel",
     "state": {
      "_model_module": "@jupyter-widgets/controls",
      "_model_module_version": "1.5.0",
      "_model_name": "ProgressStyleModel",
      "_view_count": null,
      "_view_module": "@jupyter-widgets/base",
      "_view_module_version": "1.2.0",
      "_view_name": "StyleView",
      "bar_color": null,
      "description_width": "initial"
     }
    },
    "c8fdf261ac294093a355778a3a4aba3b": {
     "model_module": "@jupyter-widgets/controls",
     "model_name": "ProgressStyleModel",
     "state": {
      "_model_module": "@jupyter-widgets/controls",
      "_model_module_version": "1.5.0",
      "_model_name": "ProgressStyleModel",
      "_view_count": null,
      "_view_module": "@jupyter-widgets/base",
      "_view_module_version": "1.2.0",
      "_view_name": "StyleView",
      "bar_color": null,
      "description_width": "initial"
     }
    },
    "c9dc4421940241c59f1151aeabedc98b": {
     "model_module": "@jupyter-widgets/base",
     "model_name": "LayoutModel",
     "state": {
      "_model_module": "@jupyter-widgets/base",
      "_model_module_version": "1.2.0",
      "_model_name": "LayoutModel",
      "_view_count": null,
      "_view_module": "@jupyter-widgets/base",
      "_view_module_version": "1.2.0",
      "_view_name": "LayoutView",
      "align_content": null,
      "align_items": null,
      "align_self": null,
      "border": null,
      "bottom": null,
      "display": null,
      "flex": null,
      "flex_flow": null,
      "grid_area": null,
      "grid_auto_columns": null,
      "grid_auto_flow": null,
      "grid_auto_rows": null,
      "grid_column": null,
      "grid_gap": null,
      "grid_row": null,
      "grid_template_areas": null,
      "grid_template_columns": null,
      "grid_template_rows": null,
      "height": null,
      "justify_content": null,
      "justify_items": null,
      "left": null,
      "margin": null,
      "max_height": null,
      "max_width": null,
      "min_height": null,
      "min_width": null,
      "object_fit": null,
      "object_position": null,
      "order": null,
      "overflow": null,
      "overflow_x": null,
      "overflow_y": null,
      "padding": null,
      "right": null,
      "top": null,
      "visibility": null,
      "width": null
     }
    },
    "cb5666eb8ebb4d1392e98d6b5af8761c": {
     "model_module": "@jupyter-widgets/controls",
     "model_name": "DescriptionStyleModel",
     "state": {
      "_model_module": "@jupyter-widgets/controls",
      "_model_module_version": "1.5.0",
      "_model_name": "DescriptionStyleModel",
      "_view_count": null,
      "_view_module": "@jupyter-widgets/base",
      "_view_module_version": "1.2.0",
      "_view_name": "StyleView",
      "description_width": ""
     }
    },
    "cc9c1e00c2d34516b8fd9edff96bb0d8": {
     "model_module": "@jupyter-widgets/controls",
     "model_name": "HBoxModel",
     "state": {
      "_dom_classes": [],
      "_model_module": "@jupyter-widgets/controls",
      "_model_module_version": "1.5.0",
      "_model_name": "HBoxModel",
      "_view_count": null,
      "_view_module": "@jupyter-widgets/controls",
      "_view_module_version": "1.5.0",
      "_view_name": "HBoxView",
      "box_style": "",
      "children": [
       "IPY_MODEL_33c92b5afd1d4b6d88016aabfb434194",
       "IPY_MODEL_998676d59f9c464e8463d65baad6448b"
      ],
      "layout": "IPY_MODEL_6abfbe44a1bd4518b41f5f53f920e936"
     }
    },
    "ccb720bf256e42f7b0251494ccb7741f": {
     "model_module": "@jupyter-widgets/controls",
     "model_name": "DescriptionStyleModel",
     "state": {
      "_model_module": "@jupyter-widgets/controls",
      "_model_module_version": "1.5.0",
      "_model_name": "DescriptionStyleModel",
      "_view_count": null,
      "_view_module": "@jupyter-widgets/base",
      "_view_module_version": "1.2.0",
      "_view_name": "StyleView",
      "description_width": ""
     }
    },
    "ce337f50183942e6a74ca1b33735ade9": {
     "model_module": "@jupyter-widgets/controls",
     "model_name": "HTMLModel",
     "state": {
      "_dom_classes": [],
      "_model_module": "@jupyter-widgets/controls",
      "_model_module_version": "1.5.0",
      "_model_name": "HTMLModel",
      "_view_count": null,
      "_view_module": "@jupyter-widgets/controls",
      "_view_module_version": "1.5.0",
      "_view_name": "HTMLView",
      "description": "",
      "description_tooltip": null,
      "layout": "IPY_MODEL_e9a702f10538415b970ea1345804d72c",
      "placeholder": "​",
      "style": "IPY_MODEL_9532db4cdc5e4371a4a02055a4c67a08",
      "value": " 23.0k/? [00:00&lt;00:00, 72.2kB/s]"
     }
    },
    "ceb44ba4fdf34da19a52469acf1ce63f": {
     "model_module": "@jupyter-widgets/base",
     "model_name": "LayoutModel",
     "state": {
      "_model_module": "@jupyter-widgets/base",
      "_model_module_version": "1.2.0",
      "_model_name": "LayoutModel",
      "_view_count": null,
      "_view_module": "@jupyter-widgets/base",
      "_view_module_version": "1.2.0",
      "_view_name": "LayoutView",
      "align_content": null,
      "align_items": null,
      "align_self": null,
      "border": null,
      "bottom": null,
      "display": null,
      "flex": null,
      "flex_flow": null,
      "grid_area": null,
      "grid_auto_columns": null,
      "grid_auto_flow": null,
      "grid_auto_rows": null,
      "grid_column": null,
      "grid_gap": null,
      "grid_row": null,
      "grid_template_areas": null,
      "grid_template_columns": null,
      "grid_template_rows": null,
      "height": null,
      "justify_content": null,
      "justify_items": null,
      "left": null,
      "margin": null,
      "max_height": null,
      "max_width": null,
      "min_height": null,
      "min_width": null,
      "object_fit": null,
      "object_position": null,
      "order": null,
      "overflow": null,
      "overflow_x": null,
      "overflow_y": null,
      "padding": null,
      "right": null,
      "top": null,
      "visibility": null,
      "width": null
     }
    },
    "d080668299ef42fabb8ab6fbcf329cea": {
     "model_module": "@jupyter-widgets/controls",
     "model_name": "FloatProgressModel",
     "state": {
      "_dom_classes": [],
      "_model_module": "@jupyter-widgets/controls",
      "_model_module_version": "1.5.0",
      "_model_name": "FloatProgressModel",
      "_view_count": null,
      "_view_module": "@jupyter-widgets/controls",
      "_view_module_version": "1.5.0",
      "_view_name": "ProgressView",
      "bar_style": "success",
      "description": "100%",
      "description_tooltip": null,
      "layout": "IPY_MODEL_f972527479e74337a98f236ed018ae1d",
      "max": 1,
      "min": 0,
      "orientation": "horizontal",
      "style": "IPY_MODEL_b0f3a205ad4546188fc6e7e7cf96ab32",
      "value": 1
     }
    },
    "d35c15beeb33476894b07c3563f8facd": {
     "model_module": "@jupyter-widgets/controls",
     "model_name": "DescriptionStyleModel",
     "state": {
      "_model_module": "@jupyter-widgets/controls",
      "_model_module_version": "1.5.0",
      "_model_name": "DescriptionStyleModel",
      "_view_count": null,
      "_view_module": "@jupyter-widgets/base",
      "_view_module_version": "1.2.0",
      "_view_name": "StyleView",
      "description_width": ""
     }
    },
    "d362345c05234c97a675c6bacdad0e92": {
     "model_module": "@jupyter-widgets/controls",
     "model_name": "DescriptionStyleModel",
     "state": {
      "_model_module": "@jupyter-widgets/controls",
      "_model_module_version": "1.5.0",
      "_model_name": "DescriptionStyleModel",
      "_view_count": null,
      "_view_module": "@jupyter-widgets/base",
      "_view_module_version": "1.2.0",
      "_view_name": "StyleView",
      "description_width": ""
     }
    },
    "d453bd4a35e54bfba20dac1fe86c60c1": {
     "model_module": "@jupyter-widgets/base",
     "model_name": "LayoutModel",
     "state": {
      "_model_module": "@jupyter-widgets/base",
      "_model_module_version": "1.2.0",
      "_model_name": "LayoutModel",
      "_view_count": null,
      "_view_module": "@jupyter-widgets/base",
      "_view_module_version": "1.2.0",
      "_view_name": "LayoutView",
      "align_content": null,
      "align_items": null,
      "align_self": null,
      "border": null,
      "bottom": null,
      "display": null,
      "flex": null,
      "flex_flow": null,
      "grid_area": null,
      "grid_auto_columns": null,
      "grid_auto_flow": null,
      "grid_auto_rows": null,
      "grid_column": null,
      "grid_gap": null,
      "grid_row": null,
      "grid_template_areas": null,
      "grid_template_columns": null,
      "grid_template_rows": null,
      "height": null,
      "justify_content": null,
      "justify_items": null,
      "left": null,
      "margin": null,
      "max_height": null,
      "max_width": null,
      "min_height": null,
      "min_width": null,
      "object_fit": null,
      "object_position": null,
      "order": null,
      "overflow": null,
      "overflow_x": null,
      "overflow_y": null,
      "padding": null,
      "right": null,
      "top": null,
      "visibility": null,
      "width": null
     }
    },
    "d4a3f79644fc41848450ba29e6fdfc3d": {
     "model_module": "@jupyter-widgets/base",
     "model_name": "LayoutModel",
     "state": {
      "_model_module": "@jupyter-widgets/base",
      "_model_module_version": "1.2.0",
      "_model_name": "LayoutModel",
      "_view_count": null,
      "_view_module": "@jupyter-widgets/base",
      "_view_module_version": "1.2.0",
      "_view_name": "LayoutView",
      "align_content": null,
      "align_items": null,
      "align_self": null,
      "border": null,
      "bottom": null,
      "display": null,
      "flex": null,
      "flex_flow": null,
      "grid_area": null,
      "grid_auto_columns": null,
      "grid_auto_flow": null,
      "grid_auto_rows": null,
      "grid_column": null,
      "grid_gap": null,
      "grid_row": null,
      "grid_template_areas": null,
      "grid_template_columns": null,
      "grid_template_rows": null,
      "height": null,
      "justify_content": null,
      "justify_items": null,
      "left": null,
      "margin": null,
      "max_height": null,
      "max_width": null,
      "min_height": null,
      "min_width": null,
      "object_fit": null,
      "object_position": null,
      "order": null,
      "overflow": null,
      "overflow_x": null,
      "overflow_y": null,
      "padding": null,
      "right": null,
      "top": null,
      "visibility": null,
      "width": null
     }
    },
    "d5fb02debe4347e781543a996ce39be3": {
     "model_module": "@jupyter-widgets/controls",
     "model_name": "HBoxModel",
     "state": {
      "_dom_classes": [],
      "_model_module": "@jupyter-widgets/controls",
      "_model_module_version": "1.5.0",
      "_model_name": "HBoxModel",
      "_view_count": null,
      "_view_module": "@jupyter-widgets/controls",
      "_view_module_version": "1.5.0",
      "_view_name": "HBoxView",
      "box_style": "",
      "children": [
       "IPY_MODEL_8e1a85a4a6214a16b7431da23a301ada",
       "IPY_MODEL_57198e3250374e1fa64c5a4be255861e"
      ],
      "layout": "IPY_MODEL_da12267c52144292adb9896249d61a6a"
     }
    },
    "d649c0f9c1c24634a84b7ef697721ffa": {
     "model_module": "@jupyter-widgets/base",
     "model_name": "LayoutModel",
     "state": {
      "_model_module": "@jupyter-widgets/base",
      "_model_module_version": "1.2.0",
      "_model_name": "LayoutModel",
      "_view_count": null,
      "_view_module": "@jupyter-widgets/base",
      "_view_module_version": "1.2.0",
      "_view_name": "LayoutView",
      "align_content": null,
      "align_items": null,
      "align_self": null,
      "border": null,
      "bottom": null,
      "display": null,
      "flex": null,
      "flex_flow": null,
      "grid_area": null,
      "grid_auto_columns": null,
      "grid_auto_flow": null,
      "grid_auto_rows": null,
      "grid_column": null,
      "grid_gap": null,
      "grid_row": null,
      "grid_template_areas": null,
      "grid_template_columns": null,
      "grid_template_rows": null,
      "height": null,
      "justify_content": null,
      "justify_items": null,
      "left": null,
      "margin": null,
      "max_height": null,
      "max_width": null,
      "min_height": null,
      "min_width": null,
      "object_fit": null,
      "object_position": null,
      "order": null,
      "overflow": null,
      "overflow_x": null,
      "overflow_y": null,
      "padding": null,
      "right": null,
      "top": null,
      "visibility": null,
      "width": null
     }
    },
    "d69468d63dd74fdd807fe061b92aa84e": {
     "model_module": "@jupyter-widgets/controls",
     "model_name": "HTMLModel",
     "state": {
      "_dom_classes": [],
      "_model_module": "@jupyter-widgets/controls",
      "_model_module_version": "1.5.0",
      "_model_name": "HTMLModel",
      "_view_count": null,
      "_view_module": "@jupyter-widgets/controls",
      "_view_module_version": "1.5.0",
      "_view_name": "HTMLView",
      "description": "",
      "description_tooltip": null,
      "layout": "IPY_MODEL_84e7f0001ebe458dad3c96e7e9a38cdc",
      "placeholder": "​",
      "style": "IPY_MODEL_7f5203fde6b64bf7ad53d6ecd3041bfc",
      "value": " 869/869 [05:47&lt;00:00,  2.50ex/s]"
     }
    },
    "d7f27e9cf8a844349ca90393e0c49a03": {
     "model_module": "@jupyter-widgets/base",
     "model_name": "LayoutModel",
     "state": {
      "_model_module": "@jupyter-widgets/base",
      "_model_module_version": "1.2.0",
      "_model_name": "LayoutModel",
      "_view_count": null,
      "_view_module": "@jupyter-widgets/base",
      "_view_module_version": "1.2.0",
      "_view_name": "LayoutView",
      "align_content": null,
      "align_items": null,
      "align_self": null,
      "border": null,
      "bottom": null,
      "display": null,
      "flex": null,
      "flex_flow": null,
      "grid_area": null,
      "grid_auto_columns": null,
      "grid_auto_flow": null,
      "grid_auto_rows": null,
      "grid_column": null,
      "grid_gap": null,
      "grid_row": null,
      "grid_template_areas": null,
      "grid_template_columns": null,
      "grid_template_rows": null,
      "height": null,
      "justify_content": null,
      "justify_items": null,
      "left": null,
      "margin": null,
      "max_height": null,
      "max_width": null,
      "min_height": null,
      "min_width": null,
      "object_fit": null,
      "object_position": null,
      "order": null,
      "overflow": null,
      "overflow_x": null,
      "overflow_y": null,
      "padding": null,
      "right": null,
      "top": null,
      "visibility": null,
      "width": null
     }
    },
    "d96e01ad62c342cdb7d9b1eceb39afa3": {
     "model_module": "@jupyter-widgets/controls",
     "model_name": "HBoxModel",
     "state": {
      "_dom_classes": [],
      "_model_module": "@jupyter-widgets/controls",
      "_model_module_version": "1.5.0",
      "_model_name": "HBoxModel",
      "_view_count": null,
      "_view_module": "@jupyter-widgets/controls",
      "_view_module_version": "1.5.0",
      "_view_name": "HBoxView",
      "box_style": "",
      "children": [
       "IPY_MODEL_e6178f7b148c4bf39f2826f208e0cc64",
       "IPY_MODEL_f78ff14b9c8f46448ed1ecb3fe1f5e0b"
      ],
      "layout": "IPY_MODEL_e6ce9330460d4a0fb67cc493ca74ae96"
     }
    },
    "da12267c52144292adb9896249d61a6a": {
     "model_module": "@jupyter-widgets/base",
     "model_name": "LayoutModel",
     "state": {
      "_model_module": "@jupyter-widgets/base",
      "_model_module_version": "1.2.0",
      "_model_name": "LayoutModel",
      "_view_count": null,
      "_view_module": "@jupyter-widgets/base",
      "_view_module_version": "1.2.0",
      "_view_name": "LayoutView",
      "align_content": null,
      "align_items": null,
      "align_self": null,
      "border": null,
      "bottom": null,
      "display": null,
      "flex": null,
      "flex_flow": null,
      "grid_area": null,
      "grid_auto_columns": null,
      "grid_auto_flow": null,
      "grid_auto_rows": null,
      "grid_column": null,
      "grid_gap": null,
      "grid_row": null,
      "grid_template_areas": null,
      "grid_template_columns": null,
      "grid_template_rows": null,
      "height": null,
      "justify_content": null,
      "justify_items": null,
      "left": null,
      "margin": null,
      "max_height": null,
      "max_width": null,
      "min_height": null,
      "min_width": null,
      "object_fit": null,
      "object_position": null,
      "order": null,
      "overflow": null,
      "overflow_x": null,
      "overflow_y": null,
      "padding": null,
      "right": null,
      "top": null,
      "visibility": null,
      "width": null
     }
    },
    "da1ff50f8b9241108a325ada04224642": {
     "model_module": "@jupyter-widgets/controls",
     "model_name": "ProgressStyleModel",
     "state": {
      "_model_module": "@jupyter-widgets/controls",
      "_model_module_version": "1.5.0",
      "_model_name": "ProgressStyleModel",
      "_view_count": null,
      "_view_module": "@jupyter-widgets/base",
      "_view_module_version": "1.2.0",
      "_view_name": "StyleView",
      "bar_color": null,
      "description_width": "initial"
     }
    },
    "db71db50799c404aafa4a54de8b9b799": {
     "model_module": "@jupyter-widgets/base",
     "model_name": "LayoutModel",
     "state": {
      "_model_module": "@jupyter-widgets/base",
      "_model_module_version": "1.2.0",
      "_model_name": "LayoutModel",
      "_view_count": null,
      "_view_module": "@jupyter-widgets/base",
      "_view_module_version": "1.2.0",
      "_view_name": "LayoutView",
      "align_content": null,
      "align_items": null,
      "align_self": null,
      "border": null,
      "bottom": null,
      "display": null,
      "flex": null,
      "flex_flow": null,
      "grid_area": null,
      "grid_auto_columns": null,
      "grid_auto_flow": null,
      "grid_auto_rows": null,
      "grid_column": null,
      "grid_gap": null,
      "grid_row": null,
      "grid_template_areas": null,
      "grid_template_columns": null,
      "grid_template_rows": null,
      "height": null,
      "justify_content": null,
      "justify_items": null,
      "left": null,
      "margin": null,
      "max_height": null,
      "max_width": null,
      "min_height": null,
      "min_width": null,
      "object_fit": null,
      "object_position": null,
      "order": null,
      "overflow": null,
      "overflow_x": null,
      "overflow_y": null,
      "padding": null,
      "right": null,
      "top": null,
      "visibility": null,
      "width": null
     }
    },
    "dc6862530f6e429ba61a169b4c95722c": {
     "model_module": "@jupyter-widgets/base",
     "model_name": "LayoutModel",
     "state": {
      "_model_module": "@jupyter-widgets/base",
      "_model_module_version": "1.2.0",
      "_model_name": "LayoutModel",
      "_view_count": null,
      "_view_module": "@jupyter-widgets/base",
      "_view_module_version": "1.2.0",
      "_view_name": "LayoutView",
      "align_content": null,
      "align_items": null,
      "align_self": null,
      "border": null,
      "bottom": null,
      "display": null,
      "flex": null,
      "flex_flow": null,
      "grid_area": null,
      "grid_auto_columns": null,
      "grid_auto_flow": null,
      "grid_auto_rows": null,
      "grid_column": null,
      "grid_gap": null,
      "grid_row": null,
      "grid_template_areas": null,
      "grid_template_columns": null,
      "grid_template_rows": null,
      "height": null,
      "justify_content": null,
      "justify_items": null,
      "left": null,
      "margin": null,
      "max_height": null,
      "max_width": null,
      "min_height": null,
      "min_width": null,
      "object_fit": null,
      "object_position": null,
      "order": null,
      "overflow": null,
      "overflow_x": null,
      "overflow_y": null,
      "padding": null,
      "right": null,
      "top": null,
      "visibility": null,
      "width": null
     }
    },
    "dde7ae43ef954ef1b901c80f0a4e11fd": {
     "model_module": "@jupyter-widgets/base",
     "model_name": "LayoutModel",
     "state": {
      "_model_module": "@jupyter-widgets/base",
      "_model_module_version": "1.2.0",
      "_model_name": "LayoutModel",
      "_view_count": null,
      "_view_module": "@jupyter-widgets/base",
      "_view_module_version": "1.2.0",
      "_view_name": "LayoutView",
      "align_content": null,
      "align_items": null,
      "align_self": null,
      "border": null,
      "bottom": null,
      "display": null,
      "flex": null,
      "flex_flow": null,
      "grid_area": null,
      "grid_auto_columns": null,
      "grid_auto_flow": null,
      "grid_auto_rows": null,
      "grid_column": null,
      "grid_gap": null,
      "grid_row": null,
      "grid_template_areas": null,
      "grid_template_columns": null,
      "grid_template_rows": null,
      "height": null,
      "justify_content": null,
      "justify_items": null,
      "left": null,
      "margin": null,
      "max_height": null,
      "max_width": null,
      "min_height": null,
      "min_width": null,
      "object_fit": null,
      "object_position": null,
      "order": null,
      "overflow": null,
      "overflow_x": null,
      "overflow_y": null,
      "padding": null,
      "right": null,
      "top": null,
      "visibility": null,
      "width": null
     }
    },
    "dec796237765477ea904834d9a824b61": {
     "model_module": "@jupyter-widgets/base",
     "model_name": "LayoutModel",
     "state": {
      "_model_module": "@jupyter-widgets/base",
      "_model_module_version": "1.2.0",
      "_model_name": "LayoutModel",
      "_view_count": null,
      "_view_module": "@jupyter-widgets/base",
      "_view_module_version": "1.2.0",
      "_view_name": "LayoutView",
      "align_content": null,
      "align_items": null,
      "align_self": null,
      "border": null,
      "bottom": null,
      "display": null,
      "flex": null,
      "flex_flow": null,
      "grid_area": null,
      "grid_auto_columns": null,
      "grid_auto_flow": null,
      "grid_auto_rows": null,
      "grid_column": null,
      "grid_gap": null,
      "grid_row": null,
      "grid_template_areas": null,
      "grid_template_columns": null,
      "grid_template_rows": null,
      "height": null,
      "justify_content": null,
      "justify_items": null,
      "left": null,
      "margin": null,
      "max_height": null,
      "max_width": null,
      "min_height": null,
      "min_width": null,
      "object_fit": null,
      "object_position": null,
      "order": null,
      "overflow": null,
      "overflow_x": null,
      "overflow_y": null,
      "padding": null,
      "right": null,
      "top": null,
      "visibility": null,
      "width": null
     }
    },
    "def702d8f8354fa4999587a5c68d0034": {
     "model_module": "@jupyter-widgets/controls",
     "model_name": "HBoxModel",
     "state": {
      "_dom_classes": [],
      "_model_module": "@jupyter-widgets/controls",
      "_model_module_version": "1.5.0",
      "_model_name": "HBoxModel",
      "_view_count": null,
      "_view_module": "@jupyter-widgets/controls",
      "_view_module_version": "1.5.0",
      "_view_name": "HBoxView",
      "box_style": "",
      "children": [
       "IPY_MODEL_edf36819322e4f9fa227a11592fef429",
       "IPY_MODEL_ce337f50183942e6a74ca1b33735ade9"
      ],
      "layout": "IPY_MODEL_2fd148d5587b4139919b0158f9dad71e"
     }
    },
    "e273548a15aa4d4994132b317adb66fc": {
     "model_module": "@jupyter-widgets/controls",
     "model_name": "FloatProgressModel",
     "state": {
      "_dom_classes": [],
      "_model_module": "@jupyter-widgets/controls",
      "_model_module_version": "1.5.0",
      "_model_name": "FloatProgressModel",
      "_view_count": null,
      "_view_module": "@jupyter-widgets/controls",
      "_view_module_version": "1.5.0",
      "_view_name": "ProgressView",
      "bar_style": "success",
      "description": "#0: 100%",
      "description_tooltip": null,
      "layout": "IPY_MODEL_80697300a4394b909f1c499ba80aeb13",
      "max": 52,
      "min": 0,
      "orientation": "horizontal",
      "style": "IPY_MODEL_7d62810674c8482abe46c60fc08884b4",
      "value": 52
     }
    },
    "e3b719c0ffcc4fd1b410ffb7f969b7a5": {
     "model_module": "@jupyter-widgets/controls",
     "model_name": "HTMLModel",
     "state": {
      "_dom_classes": [],
      "_model_module": "@jupyter-widgets/controls",
      "_model_module_version": "1.5.0",
      "_model_name": "HTMLModel",
      "_view_count": null,
      "_view_module": "@jupyter-widgets/controls",
      "_view_module_version": "1.5.0",
      "_view_name": "HTMLView",
      "description": "",
      "description_tooltip": null,
      "layout": "IPY_MODEL_c9dc4421940241c59f1151aeabedc98b",
      "placeholder": "​",
      "style": "IPY_MODEL_19e263785ea343ba99ee2127d9b83d1d",
      "value": " 1831/0 [00:04&lt;00:00,  4.82s/ examples]"
     }
    },
    "e51b5fd9d5a6416d986fac1526d1666f": {
     "model_module": "@jupyter-widgets/base",
     "model_name": "LayoutModel",
     "state": {
      "_model_module": "@jupyter-widgets/base",
      "_model_module_version": "1.2.0",
      "_model_name": "LayoutModel",
      "_view_count": null,
      "_view_module": "@jupyter-widgets/base",
      "_view_module_version": "1.2.0",
      "_view_name": "LayoutView",
      "align_content": null,
      "align_items": null,
      "align_self": null,
      "border": null,
      "bottom": null,
      "display": null,
      "flex": null,
      "flex_flow": null,
      "grid_area": null,
      "grid_auto_columns": null,
      "grid_auto_flow": null,
      "grid_auto_rows": null,
      "grid_column": null,
      "grid_gap": null,
      "grid_row": null,
      "grid_template_areas": null,
      "grid_template_columns": null,
      "grid_template_rows": null,
      "height": null,
      "justify_content": null,
      "justify_items": null,
      "left": null,
      "margin": null,
      "max_height": null,
      "max_width": null,
      "min_height": null,
      "min_width": null,
      "object_fit": null,
      "object_position": null,
      "order": null,
      "overflow": null,
      "overflow_x": null,
      "overflow_y": null,
      "padding": null,
      "right": null,
      "top": null,
      "visibility": null,
      "width": null
     }
    },
    "e6178f7b148c4bf39f2826f208e0cc64": {
     "model_module": "@jupyter-widgets/controls",
     "model_name": "FloatProgressModel",
     "state": {
      "_dom_classes": [],
      "_model_module": "@jupyter-widgets/controls",
      "_model_module_version": "1.5.0",
      "_model_name": "FloatProgressModel",
      "_view_count": null,
      "_view_module": "@jupyter-widgets/controls",
      "_view_module_version": "1.5.0",
      "_view_name": "ProgressView",
      "bar_style": "success",
      "description": "#0: 100%",
      "description_tooltip": null,
      "layout": "IPY_MODEL_6ba6d07674a34836be53cf173c2b61ca",
      "max": 412,
      "min": 0,
      "orientation": "horizontal",
      "style": "IPY_MODEL_929cde17b3484f3e9e8f8774bc43e374",
      "value": 412
     }
    },
    "e6ce9330460d4a0fb67cc493ca74ae96": {
     "model_module": "@jupyter-widgets/base",
     "model_name": "LayoutModel",
     "state": {
      "_model_module": "@jupyter-widgets/base",
      "_model_module_version": "1.2.0",
      "_model_name": "LayoutModel",
      "_view_count": null,
      "_view_module": "@jupyter-widgets/base",
      "_view_module_version": "1.2.0",
      "_view_name": "LayoutView",
      "align_content": null,
      "align_items": null,
      "align_self": null,
      "border": null,
      "bottom": null,
      "display": null,
      "flex": null,
      "flex_flow": null,
      "grid_area": null,
      "grid_auto_columns": null,
      "grid_auto_flow": null,
      "grid_auto_rows": null,
      "grid_column": null,
      "grid_gap": null,
      "grid_row": null,
      "grid_template_areas": null,
      "grid_template_columns": null,
      "grid_template_rows": null,
      "height": null,
      "justify_content": null,
      "justify_items": null,
      "left": null,
      "margin": null,
      "max_height": null,
      "max_width": null,
      "min_height": null,
      "min_width": null,
      "object_fit": null,
      "object_position": null,
      "order": null,
      "overflow": null,
      "overflow_x": null,
      "overflow_y": null,
      "padding": null,
      "right": null,
      "top": null,
      "visibility": null,
      "width": null
     }
    },
    "e9a702f10538415b970ea1345804d72c": {
     "model_module": "@jupyter-widgets/base",
     "model_name": "LayoutModel",
     "state": {
      "_model_module": "@jupyter-widgets/base",
      "_model_module_version": "1.2.0",
      "_model_name": "LayoutModel",
      "_view_count": null,
      "_view_module": "@jupyter-widgets/base",
      "_view_module_version": "1.2.0",
      "_view_name": "LayoutView",
      "align_content": null,
      "align_items": null,
      "align_self": null,
      "border": null,
      "bottom": null,
      "display": null,
      "flex": null,
      "flex_flow": null,
      "grid_area": null,
      "grid_auto_columns": null,
      "grid_auto_flow": null,
      "grid_auto_rows": null,
      "grid_column": null,
      "grid_gap": null,
      "grid_row": null,
      "grid_template_areas": null,
      "grid_template_columns": null,
      "grid_template_rows": null,
      "height": null,
      "justify_content": null,
      "justify_items": null,
      "left": null,
      "margin": null,
      "max_height": null,
      "max_width": null,
      "min_height": null,
      "min_width": null,
      "object_fit": null,
      "object_position": null,
      "order": null,
      "overflow": null,
      "overflow_x": null,
      "overflow_y": null,
      "padding": null,
      "right": null,
      "top": null,
      "visibility": null,
      "width": null
     }
    },
    "ec36a94ee2574ac8b227ccaefdee5520": {
     "model_module": "@jupyter-widgets/controls",
     "model_name": "DescriptionStyleModel",
     "state": {
      "_model_module": "@jupyter-widgets/controls",
      "_model_module_version": "1.5.0",
      "_model_name": "DescriptionStyleModel",
      "_view_count": null,
      "_view_module": "@jupyter-widgets/base",
      "_view_module_version": "1.2.0",
      "_view_name": "StyleView",
      "description_width": ""
     }
    },
    "edf36819322e4f9fa227a11592fef429": {
     "model_module": "@jupyter-widgets/controls",
     "model_name": "FloatProgressModel",
     "state": {
      "_dom_classes": [],
      "_model_module": "@jupyter-widgets/controls",
      "_model_module_version": "1.5.0",
      "_model_name": "FloatProgressModel",
      "_view_count": null,
      "_view_module": "@jupyter-widgets/controls",
      "_view_module_version": "1.5.0",
      "_view_name": "ProgressView",
      "bar_style": "success",
      "description": "Downloading: ",
      "description_tooltip": null,
      "layout": "IPY_MODEL_93f191a48b3141e1889fd94870b6ac0e",
      "max": 4662,
      "min": 0,
      "orientation": "horizontal",
      "style": "IPY_MODEL_8292dafcd40745958d0f3c563bf6b9b0",
      "value": 4662
     }
    },
    "ee641bbf54a7499597713c517baa81bb": {
     "model_module": "@jupyter-widgets/controls",
     "model_name": "HBoxModel",
     "state": {
      "_dom_classes": [],
      "_model_module": "@jupyter-widgets/controls",
      "_model_module_version": "1.5.0",
      "_model_name": "HBoxModel",
      "_view_count": null,
      "_view_module": "@jupyter-widgets/controls",
      "_view_module_version": "1.5.0",
      "_view_name": "HBoxView",
      "box_style": "",
      "children": [
       "IPY_MODEL_4f8957dc035d4c1a9e8630fc8ab8cd10",
       "IPY_MODEL_757e7bd0e6c5410da0490d191b4e68c8"
      ],
      "layout": "IPY_MODEL_3d929b9e2518402b81a71757ffb753d2"
     }
    },
    "eed2ccc12daa4c71b080794a7a18f5cb": {
     "model_module": "@jupyter-widgets/controls",
     "model_name": "HTMLModel",
     "state": {
      "_dom_classes": [],
      "_model_module": "@jupyter-widgets/controls",
      "_model_module_version": "1.5.0",
      "_model_name": "HTMLModel",
      "_view_count": null,
      "_view_module": "@jupyter-widgets/controls",
      "_view_module_version": "1.5.0",
      "_view_name": "HTMLView",
      "description": "",
      "description_tooltip": null,
      "layout": "IPY_MODEL_f18eddbd3d994ddc88f37e02d754c206",
      "placeholder": "​",
      "style": "IPY_MODEL_20347ed29fdc4c0a96da28c09aacf44d",
      "value": " 870/870 [05:39&lt;00:00,  2.45ex/s]"
     }
    },
    "f18eddbd3d994ddc88f37e02d754c206": {
     "model_module": "@jupyter-widgets/base",
     "model_name": "LayoutModel",
     "state": {
      "_model_module": "@jupyter-widgets/base",
      "_model_module_version": "1.2.0",
      "_model_name": "LayoutModel",
      "_view_count": null,
      "_view_module": "@jupyter-widgets/base",
      "_view_module_version": "1.2.0",
      "_view_name": "LayoutView",
      "align_content": null,
      "align_items": null,
      "align_self": null,
      "border": null,
      "bottom": null,
      "display": null,
      "flex": null,
      "flex_flow": null,
      "grid_area": null,
      "grid_auto_columns": null,
      "grid_auto_flow": null,
      "grid_auto_rows": null,
      "grid_column": null,
      "grid_gap": null,
      "grid_row": null,
      "grid_template_areas": null,
      "grid_template_columns": null,
      "grid_template_rows": null,
      "height": null,
      "justify_content": null,
      "justify_items": null,
      "left": null,
      "margin": null,
      "max_height": null,
      "max_width": null,
      "min_height": null,
      "min_width": null,
      "object_fit": null,
      "object_position": null,
      "order": null,
      "overflow": null,
      "overflow_x": null,
      "overflow_y": null,
      "padding": null,
      "right": null,
      "top": null,
      "visibility": null,
      "width": null
     }
    },
    "f203c54e7e054d97aa4d1097f320f611": {
     "model_module": "@jupyter-widgets/controls",
     "model_name": "FloatProgressModel",
     "state": {
      "_dom_classes": [],
      "_model_module": "@jupyter-widgets/controls",
      "_model_module_version": "1.5.0",
      "_model_name": "FloatProgressModel",
      "_view_count": null,
      "_view_module": "@jupyter-widgets/controls",
      "_view_module_version": "1.5.0",
      "_view_name": "ProgressView",
      "bar_style": "success",
      "description": "#3: 100%",
      "description_tooltip": null,
      "layout": "IPY_MODEL_0cd1932178c945d48604ffd299e65d2c",
      "max": 411,
      "min": 0,
      "orientation": "horizontal",
      "style": "IPY_MODEL_3ec3285e9f3e4a5abcefabb7f140f4a3",
      "value": 411
     }
    },
    "f3905820a42c499fba04af9c1ad19705": {
     "model_module": "@jupyter-widgets/controls",
     "model_name": "FloatProgressModel",
     "state": {
      "_dom_classes": [],
      "_model_module": "@jupyter-widgets/controls",
      "_model_module_version": "1.5.0",
      "_model_name": "FloatProgressModel",
      "_view_count": null,
      "_view_module": "@jupyter-widgets/controls",
      "_view_module_version": "1.5.0",
      "_view_name": "ProgressView",
      "bar_style": "success",
      "description": "#2: 100%",
      "description_tooltip": null,
      "layout": "IPY_MODEL_fc9504846f424542a7feb932964f1f5b",
      "max": 869,
      "min": 0,
      "orientation": "horizontal",
      "style": "IPY_MODEL_4c0ad31e73234e46aac0a297ec18bdeb",
      "value": 869
     }
    },
    "f3adb92e618743cca3299e3e7b6e369f": {
     "model_module": "@jupyter-widgets/controls",
     "model_name": "HBoxModel",
     "state": {
      "_dom_classes": [],
      "_model_module": "@jupyter-widgets/controls",
      "_model_module_version": "1.5.0",
      "_model_name": "HBoxModel",
      "_view_count": null,
      "_view_module": "@jupyter-widgets/controls",
      "_view_module_version": "1.5.0",
      "_view_name": "HBoxView",
      "box_style": "",
      "children": [
       "IPY_MODEL_b0e3a36279d243ab9943149705c72c3e",
       "IPY_MODEL_12696cc03f464a63a411efb2b5e5ac3b"
      ],
      "layout": "IPY_MODEL_83b51e16d88046c48dcd745cf09d2e56"
     }
    },
    "f4135dd72864445391f43f387635bfdc": {
     "model_module": "@jupyter-widgets/controls",
     "model_name": "HTMLModel",
     "state": {
      "_dom_classes": [],
      "_model_module": "@jupyter-widgets/controls",
      "_model_module_version": "1.5.0",
      "_model_name": "HTMLModel",
      "_view_count": null,
      "_view_module": "@jupyter-widgets/controls",
      "_view_module_version": "1.5.0",
      "_view_name": "HTMLView",
      "description": "",
      "description_tooltip": null,
      "layout": "IPY_MODEL_923ed9e127524187ab8cfcac31164ba7",
      "placeholder": "​",
      "style": "IPY_MODEL_8df9d19602cb4951b397c385458a11ef",
      "value": " 109/109 [00:56&lt;00:00,  1.93ba/s]"
     }
    },
    "f57d087016124ebeb073fd7428dcb68b": {
     "model_module": "@jupyter-widgets/base",
     "model_name": "LayoutModel",
     "state": {
      "_model_module": "@jupyter-widgets/base",
      "_model_module_version": "1.2.0",
      "_model_name": "LayoutModel",
      "_view_count": null,
      "_view_module": "@jupyter-widgets/base",
      "_view_module_version": "1.2.0",
      "_view_name": "LayoutView",
      "align_content": null,
      "align_items": null,
      "align_self": null,
      "border": null,
      "bottom": null,
      "display": null,
      "flex": null,
      "flex_flow": null,
      "grid_area": null,
      "grid_auto_columns": null,
      "grid_auto_flow": null,
      "grid_auto_rows": null,
      "grid_column": null,
      "grid_gap": null,
      "grid_row": null,
      "grid_template_areas": null,
      "grid_template_columns": null,
      "grid_template_rows": null,
      "height": null,
      "justify_content": null,
      "justify_items": null,
      "left": null,
      "margin": null,
      "max_height": null,
      "max_width": null,
      "min_height": null,
      "min_width": null,
      "object_fit": null,
      "object_position": null,
      "order": null,
      "overflow": null,
      "overflow_x": null,
      "overflow_y": null,
      "padding": null,
      "right": null,
      "top": null,
      "visibility": null,
      "width": null
     }
    },
    "f5f1f0865d7e4d8b810ccb9c3c4d2683": {
     "model_module": "@jupyter-widgets/controls",
     "model_name": "FloatProgressModel",
     "state": {
      "_dom_classes": [],
      "_model_module": "@jupyter-widgets/controls",
      "_model_module_version": "1.5.0",
      "_model_name": "FloatProgressModel",
      "_view_count": null,
      "_view_module": "@jupyter-widgets/controls",
      "_view_module_version": "1.5.0",
      "_view_name": "ProgressView",
      "bar_style": "success",
      "description": "#1: 100%",
      "description_tooltip": null,
      "layout": "IPY_MODEL_e51b5fd9d5a6416d986fac1526d1666f",
      "max": 412,
      "min": 0,
      "orientation": "horizontal",
      "style": "IPY_MODEL_a47f1ea64f894f0b8e6b277c31ae9f7d",
      "value": 412
     }
    },
    "f6930dd5519d4dfda64c597def220a30": {
     "model_module": "@jupyter-widgets/controls",
     "model_name": "HTMLModel",
     "state": {
      "_dom_classes": [],
      "_model_module": "@jupyter-widgets/controls",
      "_model_module_version": "1.5.0",
      "_model_name": "HTMLModel",
      "_view_count": null,
      "_view_module": "@jupyter-widgets/controls",
      "_view_module_version": "1.5.0",
      "_view_name": "HTMLView",
      "description": "",
      "description_tooltip": null,
      "layout": "IPY_MODEL_56ad6231a0a04228be29ceecbc6b7c0e",
      "placeholder": "​",
      "style": "IPY_MODEL_ab72c80dfd5e4ab19a183f4204486b59",
      "value": " 52/52 [00:31&lt;00:00,  1.63ba/s]"
     }
    },
    "f6b01ad0433a40178ef3ba5657bc1583": {
     "model_module": "@jupyter-widgets/controls",
     "model_name": "FloatProgressModel",
     "state": {
      "_dom_classes": [],
      "_model_module": "@jupyter-widgets/controls",
      "_model_module_version": "1.5.0",
      "_model_name": "FloatProgressModel",
      "_view_count": null,
      "_view_module": "@jupyter-widgets/controls",
      "_view_module_version": "1.5.0",
      "_view_name": "ProgressView",
      "bar_style": "success",
      "description": "#0: 100%",
      "description_tooltip": null,
      "layout": "IPY_MODEL_69828f4a101f4340916a4be141866904",
      "max": 870,
      "min": 0,
      "orientation": "horizontal",
      "style": "IPY_MODEL_beca070c32124a119a08cb21c2ca95e5",
      "value": 870
     }
    },
    "f78ff14b9c8f46448ed1ecb3fe1f5e0b": {
     "model_module": "@jupyter-widgets/controls",
     "model_name": "HTMLModel",
     "state": {
      "_dom_classes": [],
      "_model_module": "@jupyter-widgets/controls",
      "_model_module_version": "1.5.0",
      "_model_name": "HTMLModel",
      "_view_count": null,
      "_view_module": "@jupyter-widgets/controls",
      "_view_module_version": "1.5.0",
      "_view_name": "HTMLView",
      "description": "",
      "description_tooltip": null,
      "layout": "IPY_MODEL_b054b00a32e64fc5988fbd2966ebbce6",
      "placeholder": "​",
      "style": "IPY_MODEL_5a5bc8b4a1c644dea08a60128d888d10",
      "value": " 412/412 [03:06&lt;00:00,  2.20ex/s]"
     }
    },
    "f792530a76ee486688cbc2502dfae594": {
     "model_module": "@jupyter-widgets/controls",
     "model_name": "FloatProgressModel",
     "state": {
      "_dom_classes": [],
      "_model_module": "@jupyter-widgets/controls",
      "_model_module_version": "1.5.0",
      "_model_name": "FloatProgressModel",
      "_view_count": null,
      "_view_module": "@jupyter-widgets/controls",
      "_view_module_version": "1.5.0",
      "_view_name": "ProgressView",
      "bar_style": "success",
      "description": "#3: 100%",
      "description_tooltip": null,
      "layout": "IPY_MODEL_7e50f8027fb74d669daae5e46082026c",
      "max": 869,
      "min": 0,
      "orientation": "horizontal",
      "style": "IPY_MODEL_1261590ef796493798f7068ea0547b74",
      "value": 869
     }
    },
    "f972527479e74337a98f236ed018ae1d": {
     "model_module": "@jupyter-widgets/base",
     "model_name": "LayoutModel",
     "state": {
      "_model_module": "@jupyter-widgets/base",
      "_model_module_version": "1.2.0",
      "_model_name": "LayoutModel",
      "_view_count": null,
      "_view_module": "@jupyter-widgets/base",
      "_view_module_version": "1.2.0",
      "_view_name": "LayoutView",
      "align_content": null,
      "align_items": null,
      "align_self": null,
      "border": null,
      "bottom": null,
      "display": null,
      "flex": null,
      "flex_flow": null,
      "grid_area": null,
      "grid_auto_columns": null,
      "grid_auto_flow": null,
      "grid_auto_rows": null,
      "grid_column": null,
      "grid_gap": null,
      "grid_row": null,
      "grid_template_areas": null,
      "grid_template_columns": null,
      "grid_template_rows": null,
      "height": null,
      "justify_content": null,
      "justify_items": null,
      "left": null,
      "margin": null,
      "max_height": null,
      "max_width": null,
      "min_height": null,
      "min_width": null,
      "object_fit": null,
      "object_position": null,
      "order": null,
      "overflow": null,
      "overflow_x": null,
      "overflow_y": null,
      "padding": null,
      "right": null,
      "top": null,
      "visibility": null,
      "width": null
     }
    },
    "f9efaa7678c2450f847ff2c2f21ff96e": {
     "model_module": "@jupyter-widgets/controls",
     "model_name": "DescriptionStyleModel",
     "state": {
      "_model_module": "@jupyter-widgets/controls",
      "_model_module_version": "1.5.0",
      "_model_name": "DescriptionStyleModel",
      "_view_count": null,
      "_view_module": "@jupyter-widgets/base",
      "_view_module_version": "1.2.0",
      "_view_name": "StyleView",
      "description_width": ""
     }
    },
    "fa7926bbe77e48b3a0648b45f5d2dc7a": {
     "model_module": "@jupyter-widgets/controls",
     "model_name": "ProgressStyleModel",
     "state": {
      "_model_module": "@jupyter-widgets/controls",
      "_model_module_version": "1.5.0",
      "_model_name": "ProgressStyleModel",
      "_view_count": null,
      "_view_module": "@jupyter-widgets/base",
      "_view_module_version": "1.2.0",
      "_view_name": "StyleView",
      "bar_color": null,
      "description_width": "initial"
     }
    },
    "fc9504846f424542a7feb932964f1f5b": {
     "model_module": "@jupyter-widgets/base",
     "model_name": "LayoutModel",
     "state": {
      "_model_module": "@jupyter-widgets/base",
      "_model_module_version": "1.2.0",
      "_model_name": "LayoutModel",
      "_view_count": null,
      "_view_module": "@jupyter-widgets/base",
      "_view_module_version": "1.2.0",
      "_view_name": "LayoutView",
      "align_content": null,
      "align_items": null,
      "align_self": null,
      "border": null,
      "bottom": null,
      "display": null,
      "flex": null,
      "flex_flow": null,
      "grid_area": null,
      "grid_auto_columns": null,
      "grid_auto_flow": null,
      "grid_auto_rows": null,
      "grid_column": null,
      "grid_gap": null,
      "grid_row": null,
      "grid_template_areas": null,
      "grid_template_columns": null,
      "grid_template_rows": null,
      "height": null,
      "justify_content": null,
      "justify_items": null,
      "left": null,
      "margin": null,
      "max_height": null,
      "max_width": null,
      "min_height": null,
      "min_width": null,
      "object_fit": null,
      "object_position": null,
      "order": null,
      "overflow": null,
      "overflow_x": null,
      "overflow_y": null,
      "padding": null,
      "right": null,
      "top": null,
      "visibility": null,
      "width": null
     }
    },
    "fe62265afdc74026b7e9c5a50ef61d2c": {
     "model_module": "@jupyter-widgets/base",
     "model_name": "LayoutModel",
     "state": {
      "_model_module": "@jupyter-widgets/base",
      "_model_module_version": "1.2.0",
      "_model_name": "LayoutModel",
      "_view_count": null,
      "_view_module": "@jupyter-widgets/base",
      "_view_module_version": "1.2.0",
      "_view_name": "LayoutView",
      "align_content": null,
      "align_items": null,
      "align_self": null,
      "border": null,
      "bottom": null,
      "display": null,
      "flex": null,
      "flex_flow": null,
      "grid_area": null,
      "grid_auto_columns": null,
      "grid_auto_flow": null,
      "grid_auto_rows": null,
      "grid_column": null,
      "grid_gap": null,
      "grid_row": null,
      "grid_template_areas": null,
      "grid_template_columns": null,
      "grid_template_rows": null,
      "height": null,
      "justify_content": null,
      "justify_items": null,
      "left": null,
      "margin": null,
      "max_height": null,
      "max_width": null,
      "min_height": null,
      "min_width": null,
      "object_fit": null,
      "object_position": null,
      "order": null,
      "overflow": null,
      "overflow_x": null,
      "overflow_y": null,
      "padding": null,
      "right": null,
      "top": null,
      "visibility": null,
      "width": null
     }
    }
   }
  }
 },
 "nbformat": 4,
 "nbformat_minor": 4
}
