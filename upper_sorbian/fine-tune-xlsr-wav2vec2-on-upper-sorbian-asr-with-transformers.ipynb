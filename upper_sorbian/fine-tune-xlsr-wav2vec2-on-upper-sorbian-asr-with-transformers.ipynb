{
 "cells": [
  {
   "cell_type": "markdown",
   "metadata": {
    "id": "LBSYoWbi-45k"
   },
   "source": [
    "# **Fine-tuning XLSR-Wav2Vec2 for Multi-Lingual ASR with 🤗 Transformers**"
   ]
  },
  {
   "cell_type": "markdown",
   "metadata": {},
   "source": [
    "## Pre-configuration"
   ]
  },
  {
   "cell_type": "code",
   "execution_count": 1,
   "metadata": {},
   "outputs": [],
   "source": [
    "from ipywidgets import widgets"
   ]
  },
  {
   "cell_type": "code",
   "execution_count": 2,
   "metadata": {},
   "outputs": [],
   "source": [
    "import os"
   ]
  },
  {
   "cell_type": "code",
   "execution_count": 3,
   "metadata": {},
   "outputs": [],
   "source": [
    "language_code = 'hsb'\n",
    "language_name = 'upper-sorbian'\n",
    "base_model = \"facebook/wav2vec2-large-xlsr-53\"\n",
    "pretrain_model = f\"jimregan/wav2vec2-large-xlsr-{language_name}-mixed\"\n",
    "\n",
    "data_dir = f\"/workspace/data/{language_code}\"\n",
    "output_models_dir = f\"/workspace/output_models/{language_code}/wav2vec2-large-xlsr-{language_name}-demo\""
   ]
  },
  {
   "cell_type": "markdown",
   "metadata": {},
   "source": [
    "## Presentation"
   ]
  },
  {
   "cell_type": "markdown",
   "metadata": {
    "id": "V7YOT2mnUiea"
   },
   "source": [
    "Wav2Vec2 is a pretrained model for Automatic Speech Recognition (ASR) and was released in [September 2020](https://ai.facebook.com/blog/wav2vec-20-learning-the-structure-of-speech-from-raw-audio/) by Alexei Baevski, Michael Auli, and Alex Conneau.  Soon after the superior performance of Wav2Vec2 was demonstrated on the English ASR dataset LibriSpeech, *Facebook AI* presented XLSR-Wav2Vec2 (click [here](https://arxiv.org/abs/2006.13979)). XLSR stands for *cross-lingual  speech representations* and refers to XLSR-Wav2Vec2`s ability to learn speech representations that are useful across multiple languages.\n",
    "\n",
    "Similar to Wav2Vec2, XLSR-Wav2Vec2 learns powerful speech representations from hundreds of thousands of hours of speech in more than 50 languages of unlabeled speech. Similar, to [BERT's masked language modeling](http://jalammar.github.io/illustrated-bert/), the model learns contextualized speech representations by randomly masking feature vectors before passing them to a transformer network.\n",
    "\n",
    "![wav2vec2_structure](https://raw.githubusercontent.com/patrickvonplaten/scientific_images/master/xlsr_wav2vec2.png)\n",
    "\n",
    "The authors show for the first time that massively pretraining an ASR model on cross-lingual unlabeled speech data, followed by language-specific fine-tuning on very little labeled data achieves state-of-the-art results. See Table 1-5 of the official [paper](https://arxiv.org/pdf/2006.13979.pdf)."
   ]
  },
  {
   "cell_type": "markdown",
   "metadata": {
    "id": "nT_QrfWtsxIz"
   },
   "source": [
    "In this notebook, we will give an in-detail explanation of how XLSR-Wav2Vec2's pretrained checkpoint can be fine-tuned on a low-resource ASR dataset of any language. Note that in this notebook, we will fine-tune XLSR-Wav2Vec2 without making use of a language model. It is much simpler and more efficient to use XLSR-Wav2Vec2 without a language model, but better results can be achieved by including a language model. \n",
    "\n",
    "For demonstration purposes, we fine-tune the [wav2vec2-large-xlsr-53](https://huggingface.co/facebook/wav2vec2-large-xlsr-53) on the low resource Turkish ASR dataset of [Common Voice](https://huggingface.co/datasets/common_voice) that contains just ~6h of validated training data."
   ]
  },
  {
   "cell_type": "markdown",
   "metadata": {
    "id": "Gx9OdDYrCtQ1"
   },
   "source": [
    "XLSR-Wav2Vec2 is fine-tuned using Connectionist Temporal Classification (CTC), which is an algorithm that is used to train neural networks for sequence-to-sequence problems and mainly in Automatic Speech Recognition and handwriting recognition. \n",
    "\n",
    "I highly recommend reading the blog post [Sequence Modeling with CTC (2017)](https://distill.pub/2017/ctc/) very well-written blog post by Awni Hannun."
   ]
  },
  {
   "cell_type": "markdown",
   "metadata": {
    "id": "e335hPmdtASZ"
   },
   "source": [
    "Before we start, let's install both `datasets` and `transformers` from master. Also, we need the `torchaudio` and `librosa` package to load audio files and the `jiwer` to evaluate our fine-tuned model using the [word error rate (WER)](https://huggingface.co/metrics/wer) metric ${}^1$."
   ]
  },
  {
   "cell_type": "markdown",
   "metadata": {
    "id": "Mn9swf6EQ9Vd"
   },
   "source": [
    "\n",
    "\n",
    "\n",
    "---\n",
    "\n",
    "${}^1$ In the [paper](https://arxiv.org/pdf/2006.13979.pdf), the model was evaluated using the phoneme error rate (PER), but by far the most common metric in ASR is the word error rate (WER). To keep this notebook as general as possible we decided to evaluate the model using WER."
   ]
  },
  {
   "cell_type": "markdown",
   "metadata": {
    "id": "0mW-C1Nt-j7k"
   },
   "source": [
    "## Prepare Data, Tokenizer, Feature Extractor"
   ]
  },
  {
   "cell_type": "markdown",
   "metadata": {
    "id": "BeBosnY9BH3e"
   },
   "source": [
    "ASR models transcribe speech to text, which means that we both need a feature extractor that processes the speech signal to the model's input format, *e.g.* a feature vector, and a tokenizer that processes the model's output format to text. \n",
    "\n",
    "In 🤗 Transformers, the XLSR-Wav2Vec2 model is thus accompanied by both a tokenizer, called [Wav2Vec2CTCTokenizer](https://huggingface.co/transformers/master/model_doc/wav2vec2.html#wav2vec2ctctokenizer), and a feature extractor, called [Wav2Vec2FeatureExtractor](https://huggingface.co/transformers/master/model_doc/wav2vec2.html#wav2vec2featureextractor).\n",
    "\n",
    "Let's start by creating the tokenizer responsible for decoding the model's predictions."
   ]
  },
  {
   "cell_type": "markdown",
   "metadata": {
    "id": "sEXEWEJGQPqD"
   },
   "source": [
    "### Create Wav2Vec2CTCTokenizer"
   ]
  },
  {
   "cell_type": "markdown",
   "metadata": {
    "id": "tWmMikuNEKl_"
   },
   "source": [
    "The [pretrained Wav2Vec2 checkpoint]( ) maps the speech signal to a sequence of context representations as illustrated in the figure above. A fine-tuned XLSR-Wav2Vec2 checkpoint needs to map this sequence of context representations to its corresponding transcription so that a linear layer has to be added on top of the transformer block (shown in yellow). This linear layer is used to classifies each context representation to a token class analogous how, *e.g.*, after pretraining a linear layer is added on top of BERT's embeddings for further classification - *cf.* with *\"BERT\"* section of this [blog post](https://huggingface.co/blog/warm-starting-encoder-decoder).\n",
    "\n",
    "The output size of this layer corresponds to the number of tokens in the vocabulary, which does **not** depend on XLSR-Wav2Vec2's pretraining task, but only on the labeled dataset used for fine-tuning. So in the first step, we will take a look at Common Voice and define a vocabulary based on the dataset's transcriptions."
   ]
  },
  {
   "cell_type": "markdown",
   "metadata": {
    "id": "idBczw8mWzgt"
   },
   "source": [
    "First, let's go to [Common Voice](https://commonvoice.mozilla.org/en/datasets) and pick a language to fine-tune XLSR-Wav2Vec2 on. For this notebook, we will use Turkish. \n",
    "\n",
    "For each language-specific dataset, you can find a language code corresponding to your chosen language. On [Common Voice](https://commonvoice.mozilla.org/en/datasets), look for the field \"Version\". The language code then corresponds to the prefix before the underscore. For Turkish, *e.g.* the language code is `\"tr\"`.\n",
    "\n",
    "Great, now we can use 🤗 Datasets' simple API to download the data. The dataset name will be `\"common_voice\"`, the config name corresponds to the language code - `\"tr\"` in our case."
   ]
  },
  {
   "cell_type": "markdown",
   "metadata": {
    "id": "bee4g9rpLxll"
   },
   "source": [
    "Common Voice has many different splits including `invalidated`, which refers to data that was not rated as \"clean enough\" to be considered useful. In this notebook, we will only make use of the splits `\"train\"`, `\"validation\"` and `\"test\"`. \n",
    "\n",
    "Because the Turkish dataset is so small, we will merge both the validation and training data into a training dataset and simply use the test data for validation."
   ]
  },
  {
   "cell_type": "code",
   "execution_count": 4,
   "metadata": {
    "colab": {
     "base_uri": "https://localhost:8080/",
     "height": 227,
     "referenced_widgets": [
      "def702d8f8354fa4999587a5c68d0034",
      "2fd148d5587b4139919b0158f9dad71e",
      "edf36819322e4f9fa227a11592fef429",
      "ce337f50183942e6a74ca1b33735ade9",
      "8292dafcd40745958d0f3c563bf6b9b0",
      "93f191a48b3141e1889fd94870b6ac0e",
      "9532db4cdc5e4371a4a02055a4c67a08",
      "e9a702f10538415b970ea1345804d72c",
      "f3adb92e618743cca3299e3e7b6e369f",
      "83b51e16d88046c48dcd745cf09d2e56",
      "b0e3a36279d243ab9943149705c72c3e",
      "12696cc03f464a63a411efb2b5e5ac3b",
      "530f66ac087e4f8f979fcaa33941c60d",
      "a34dae18d9994b848630d4e3d836e0cb",
      "68a3178fe7a54e838e798ff28ff9aa0b",
      "ceb44ba4fdf34da19a52469acf1ce63f",
      "90b8bc59e26a46009e1d3763f86f227a",
      "3e2cd59ac697495f8db14b894b783f95",
      "98e7ab5f7ebf426fbb71a37bbad4c28f",
      "e3b719c0ffcc4fd1b410ffb7f969b7a5",
      "4382726ef043441a9b1a4a647d84f242",
      "2f5406546970425282a881b5d2f7c248",
      "19e263785ea343ba99ee2127d9b83d1d",
      "c9dc4421940241c59f1151aeabedc98b",
      "8701fb161cec47e89fc4d57b599ee7fe",
      "1813458f75514f039ba0214597a09bb4",
      "7f787df324514a8c915785e272a8af18",
      "889da3e5ed2945849d3c8a6a75175747",
      "71ffdf6f26ba4381a8e671958e679f88",
      "7916b06da182435a9cc1d13c73310500",
      "59e0f5200068461cbfb256ad5479c4c8",
      "2cd13e03a2ab45dc8570c8c739a613b4",
      "089428f56e66419f85ea149d9d102454",
      "d649c0f9c1c24634a84b7ef697721ffa",
      "4db5037af3f64a3a8a8a1203018a80ff",
      "6a957c1c17474d8d89c27ddecf702fda",
      "2a6e1185a6a247f5acba8111824ad36b",
      "c0e6b6e6395d4dbd827eb1c0de1ad21a",
      "05f83d714f864a399083f0e34a812467",
      "91fcf0641fe3489ab96f3aaa40adf245",
      "25ba4f4c8b9c44af9885b3903a9261fd",
      "dde7ae43ef954ef1b901c80f0a4e11fd",
      "03b33c17734d49e28c4636dddd6e833d",
      "71c059a0f3c246f3a40d55744331daaa",
      "da1ff50f8b9241108a325ada04224642",
      "bee0f50055eb4f738636142a10da0ddd",
      "cb5666eb8ebb4d1392e98d6b5af8761c",
      "430c3c079d0e4006b90e72df7986ffb0",
      "6c065aa34661469ca1efb4c5e90fe136",
      "540510088d3947f1b3cf6f4c983c1a53",
      "0a9b58c98508420d8f8936189f064316",
      "8dd5b08bb5bd4e608d04122424796ae7",
      "c546bca23ee248a1be7bd8ead3e82a8f",
      "af85713f677243d19cba9fe69a4a5f46",
      "2f18d89c684343b69c3f44ffbb9b42a0",
      "9eb51a6ecf3f41578aa397a5c2a33673"
     ]
    },
    "id": "2MMXcWFFgCXU",
    "outputId": "dc239772-da3b-4ef0-d029-f161f0625fff"
   },
   "outputs": [
    {
     "data": {
      "application/vnd.jupyter.widget-view+json": {
       "model_id": "cc297c31a7b549d59f0300675f2b78ed",
       "version_major": 2,
       "version_minor": 0
      },
      "text/plain": [
       "HBox(children=(FloatProgress(value=0.0, description='Downloading', max=4323.0, style=ProgressStyle(description…"
      ]
     },
     "metadata": {},
     "output_type": "display_data"
    },
    {
     "name": "stdout",
     "output_type": "stream",
     "text": [
      "\n"
     ]
    },
    {
     "data": {
      "application/vnd.jupyter.widget-view+json": {
       "model_id": "6b38c13d97f74a2aa949b62cc1fc59b9",
       "version_major": 2,
       "version_minor": 0
      },
      "text/plain": [
       "HBox(children=(FloatProgress(value=0.0, description='Downloading', max=9954.0, style=ProgressStyle(description…"
      ]
     },
     "metadata": {},
     "output_type": "display_data"
    },
    {
     "name": "stdout",
     "output_type": "stream",
     "text": [
      "\n",
      "Downloading and preparing dataset common_voice/hsb (download: 75.69 MiB, generated: 732.27 KiB, post-processed: Unknown size, total: 76.40 MiB) to /workspace/.cache/huggingface/datasets/common_voice/hsb/6.1.0/0041e06ab061b91d0a23234a2221e87970a19cf3a81b20901474cffffeb7869f...\n"
     ]
    },
    {
     "data": {
      "application/vnd.jupyter.widget-view+json": {
       "model_id": "fc30fd83ef6841c0bdc9a91a3e1a959f",
       "version_major": 2,
       "version_minor": 0
      },
      "text/plain": [
       "HBox(children=(FloatProgress(value=0.0, description='Downloading', max=79362060.0, style=ProgressStyle(descrip…"
      ]
     },
     "metadata": {},
     "output_type": "display_data"
    },
    {
     "name": "stdout",
     "output_type": "stream",
     "text": [
      "\n"
     ]
    },
    {
     "data": {
      "application/vnd.jupyter.widget-view+json": {
       "model_id": "",
       "version_major": 2,
       "version_minor": 0
      },
      "text/plain": [
       "HBox(children=(FloatProgress(value=1.0, bar_style='info', max=1.0), HTML(value='')))"
      ]
     },
     "metadata": {},
     "output_type": "display_data"
    },
    {
     "data": {
      "application/vnd.jupyter.widget-view+json": {
       "model_id": "",
       "version_major": 2,
       "version_minor": 0
      },
      "text/plain": [
       "HBox(children=(FloatProgress(value=1.0, bar_style='info', max=1.0), HTML(value='')))"
      ]
     },
     "metadata": {},
     "output_type": "display_data"
    },
    {
     "data": {
      "application/vnd.jupyter.widget-view+json": {
       "model_id": "",
       "version_major": 2,
       "version_minor": 0
      },
      "text/plain": [
       "HBox(children=(FloatProgress(value=1.0, bar_style='info', max=1.0), HTML(value='')))"
      ]
     },
     "metadata": {},
     "output_type": "display_data"
    },
    {
     "data": {
      "application/vnd.jupyter.widget-view+json": {
       "model_id": "",
       "version_major": 2,
       "version_minor": 0
      },
      "text/plain": [
       "HBox(children=(FloatProgress(value=1.0, bar_style='info', max=1.0), HTML(value='')))"
      ]
     },
     "metadata": {},
     "output_type": "display_data"
    },
    {
     "data": {
      "application/vnd.jupyter.widget-view+json": {
       "model_id": "",
       "version_major": 2,
       "version_minor": 0
      },
      "text/plain": [
       "HBox(children=(FloatProgress(value=1.0, bar_style='info', max=1.0), HTML(value='')))"
      ]
     },
     "metadata": {},
     "output_type": "display_data"
    },
    {
     "name": "stdout",
     "output_type": "stream",
     "text": [
      "Dataset common_voice downloaded and prepared to /workspace/.cache/huggingface/datasets/common_voice/hsb/6.1.0/0041e06ab061b91d0a23234a2221e87970a19cf3a81b20901474cffffeb7869f. Subsequent calls will reuse this data.\n"
     ]
    },
    {
     "name": "stderr",
     "output_type": "stream",
     "text": [
      "Reusing dataset common_voice (/workspace/.cache/huggingface/datasets/common_voice/hsb/6.1.0/0041e06ab061b91d0a23234a2221e87970a19cf3a81b20901474cffffeb7869f)\n"
     ]
    }
   ],
   "source": [
    "from datasets import load_dataset, load_metric\n",
    "\n",
    "common_voice_train = load_dataset(\"common_voice\", language_code, split=\"train+validation\")\n",
    "common_voice_test = load_dataset(\"common_voice\", language_code, split=\"test\")"
   ]
  },
  {
   "cell_type": "markdown",
   "metadata": {
    "id": "ri5y5N_HMANq"
   },
   "source": [
    "Many ASR datasets only provide the target text, `'sentence'` for each audio file `'path'`. Common Voice actually provides much more information about each audio file, such as the `'accent'`, etc. However, we want to keep the notebook as general as possible, so that we will only consider the transcribed text for fine-tuning.\n",
    "\n"
   ]
  },
  {
   "cell_type": "code",
   "execution_count": 5,
   "metadata": {
    "id": "kbyq6lDgQc2a"
   },
   "outputs": [],
   "source": [
    "common_voice_train = common_voice_train.remove_columns([\"accent\", \"age\", \"client_id\", \"down_votes\", \"gender\", \"locale\", \"segment\", \"up_votes\"])\n",
    "common_voice_test = common_voice_test.remove_columns([\"accent\", \"age\", \"client_id\", \"down_votes\", \"gender\", \"locale\", \"segment\", \"up_votes\"])"
   ]
  },
  {
   "cell_type": "markdown",
   "metadata": {
    "id": "Go9Hq4e4NDT9"
   },
   "source": [
    "Let's write a short function to display some random samples of the dataset and run it a couple of times to get a feeling for the transcriptions."
   ]
  },
  {
   "cell_type": "code",
   "execution_count": 6,
   "metadata": {
    "id": "72737oog2F6U"
   },
   "outputs": [],
   "source": [
    "from datasets import ClassLabel\n",
    "import random\n",
    "import pandas as pd\n",
    "from IPython.display import display, HTML\n",
    "\n",
    "def show_random_elements(dataset, num_examples=10):\n",
    "    assert num_examples <= len(dataset), \"Can't pick more elements than there are in the dataset.\"\n",
    "    picks = []\n",
    "    for _ in range(num_examples):\n",
    "        pick = random.randint(0, len(dataset)-1)\n",
    "        while pick in picks:\n",
    "            pick = random.randint(0, len(dataset)-1)\n",
    "        picks.append(pick)\n",
    "    \n",
    "    df = pd.DataFrame(dataset[picks])\n",
    "    display(HTML(df.to_html()))"
   ]
  },
  {
   "cell_type": "code",
   "execution_count": 7,
   "metadata": {
    "colab": {
     "base_uri": "https://localhost:8080/",
     "height": 669
    },
    "id": "K_JUmf3G3b9S",
    "outputId": "a8fe6d21-b0ce-4d5b-e3a2-abe08ae551f7"
   },
   "outputs": [
    {
     "data": {
      "text/html": [
       "<table border=\"1\" class=\"dataframe\">\n",
       "  <thead>\n",
       "    <tr style=\"text-align: right;\">\n",
       "      <th></th>\n",
       "      <th>sentence</th>\n",
       "    </tr>\n",
       "  </thead>\n",
       "  <tbody>\n",
       "    <tr>\n",
       "      <th>0</th>\n",
       "      <td>Prawidłownje wustupuja z programom na Wikach přirody w biosferowym rezerwaće w Stróži.</td>\n",
       "    </tr>\n",
       "    <tr>\n",
       "      <th>1</th>\n",
       "      <td>Woni orientuja so na potrjebach a dožiwjenskim wobswěće šulerjow.</td>\n",
       "    </tr>\n",
       "    <tr>\n",
       "      <th>2</th>\n",
       "      <td>Dźělić mamy tež rumnosće za wuměłcow a wopytowarski areal.</td>\n",
       "    </tr>\n",
       "    <tr>\n",
       "      <th>3</th>\n",
       "      <td>Wobě jězdźence móža sej zajimcy jako abonement na znajmjeńša dwanaće měsacow kupić.</td>\n",
       "    </tr>\n",
       "    <tr>\n",
       "      <th>4</th>\n",
       "      <td>Zo by hnězdo tež prawje dołho dźeržało, zatwarjamy hišće rostlinske stwjelca.</td>\n",
       "    </tr>\n",
       "    <tr>\n",
       "      <th>5</th>\n",
       "      <td>Tute bě sejm njedawno na posedźenju w Choćebuzu schwalił.</td>\n",
       "    </tr>\n",
       "    <tr>\n",
       "      <th>6</th>\n",
       "      <td>Zmjerzlina přińdźe z Italskeje!</td>\n",
       "    </tr>\n",
       "    <tr>\n",
       "      <th>7</th>\n",
       "      <td>Kedźbyhódne su powostanki nimale sto wuškrěwanskich pjecow za dobywanje železa.</td>\n",
       "    </tr>\n",
       "    <tr>\n",
       "      <th>8</th>\n",
       "      <td>Wój daritej sej lětsa k hodam kartki za koncert.</td>\n",
       "    </tr>\n",
       "    <tr>\n",
       "      <th>9</th>\n",
       "      <td>Z toho nasta jedna z prěnich ewangelskich cyrkwjow w Europje.</td>\n",
       "    </tr>\n",
       "    <tr>\n",
       "      <th>10</th>\n",
       "      <td>Podobna iniciatiwa w samsnym gremiju je před lětami hižo raz zwrěšćiła.</td>\n",
       "    </tr>\n",
       "    <tr>\n",
       "      <th>11</th>\n",
       "      <td>Najwjetši problem je baterija.</td>\n",
       "    </tr>\n",
       "    <tr>\n",
       "      <th>12</th>\n",
       "      <td>Dale dźiwa so na serbsku zhromadnosć, dyrdomdej, sportowanje, wočerstwjenje a wubědźowanje.</td>\n",
       "    </tr>\n",
       "    <tr>\n",
       "      <th>13</th>\n",
       "      <td>\"Mjeno \"\"Ochranowska bratrowska wosada\"\" poćahuje so konkretnje na Ochranow.\"</td>\n",
       "    </tr>\n",
       "    <tr>\n",
       "      <th>14</th>\n",
       "      <td>Bydlachu pod ćmowym sewjernym bokom hory, pod čornym bokom.</td>\n",
       "    </tr>\n",
       "    <tr>\n",
       "      <th>15</th>\n",
       "      <td>Wopyt je statysacy Panamačanow mobilizował a křesćansku wěru wožiwił.</td>\n",
       "    </tr>\n",
       "    <tr>\n",
       "      <th>16</th>\n",
       "      <td>Wona njedźěleše jenož Zapadnu Němsku wot Wuchodneje Němskeje, ale tež wsy a swójby.</td>\n",
       "    </tr>\n",
       "    <tr>\n",
       "      <th>17</th>\n",
       "      <td>Nimo zwěrjatow spózna tež čłowjek rjanosć tuteje rěčneje krajiny jako městno za wočerstwjenje.</td>\n",
       "    </tr>\n",
       "    <tr>\n",
       "      <th>18</th>\n",
       "      <td>To běchu předewšěm naprawy na priwatnych domach a přemysłowych objektach.</td>\n",
       "    </tr>\n",
       "    <tr>\n",
       "      <th>19</th>\n",
       "      <td>Na zaběru ze serbskej narodnej drastu so wažnosć kładźe.</td>\n",
       "    </tr>\n",
       "  </tbody>\n",
       "</table>"
      ],
      "text/plain": [
       "<IPython.core.display.HTML object>"
      ]
     },
     "metadata": {},
     "output_type": "display_data"
    }
   ],
   "source": [
    "show_random_elements(common_voice_train.remove_columns([\"path\"]), num_examples=20)"
   ]
  },
  {
   "cell_type": "markdown",
   "metadata": {
    "id": "fowcOllGNNju"
   },
   "source": [
    "Alright! The transcriptions look fairly clean. Having translated the transcribed sentences (I'm sadly not a native speaker in Turkish), it seems that the language corresponds more to written text than noisy dialogue. This makes sense taking into account that [Common Voice](https://huggingface.co/datasets/common_voice) is a crowd-sourced read speech corpus."
   ]
  },
  {
   "cell_type": "markdown",
   "metadata": {
    "id": "vq7OR50LN49m"
   },
   "source": [
    "We can see that the transcriptions contain some special characters, such as `,.?!;:`. Without a language model, it is much harder to classify speech chunks to such special characters because they don't really correspond to a characteristic sound unit. *E.g.*, the letter `\"s\"` has a more or less clear sound, whereas the special character `\".\"` does not.\n",
    "Also in order to understand the meaning of a speech signal, it is usually not necessary to include special characters in the transcription.\n",
    "\n",
    "In addition, we normalize the text to only have lower case letters and append a word separator token at the end."
   ]
  },
  {
   "cell_type": "code",
   "execution_count": 8,
   "metadata": {
    "id": "svKzVJ_hQGK6"
   },
   "outputs": [],
   "source": [
    "import re\n",
    "chars_to_ignore_regex = '[\\,\\?\\.\\!\\-\\;\\:\\\"\\“\\%\\‘\\”\\�„«»–]'\n",
    "\n",
    "def remove_special_characters(batch):\n",
    "    batch[\"sentence\"] = re.sub(chars_to_ignore_regex, '', batch[\"sentence\"]).lower() + \" \"\n",
    "    return batch"
   ]
  },
  {
   "cell_type": "code",
   "execution_count": 9,
   "metadata": {
    "colab": {
     "base_uri": "https://localhost:8080/",
     "height": 117,
     "referenced_widgets": [
      "92a35db69bbf4ad6af44c53aa3870be5",
      "389e43e47a734193a507817ebad955f7",
      "b94e374d92c146009447c3827b977267",
      "1f1faa7b986e475c9e6839b2e7b55c74",
      "4ff7ccffc36a4a0f93031f5cdc3b718d",
      "b177a8cb85a24b88ab6d56205b630f1d",
      "2ca2f397c4ef405bba27ae2b1415cada",
      "b320306eaf264ad9872d507a1a1cb2da",
      "cc9c1e00c2d34516b8fd9edff96bb0d8",
      "6abfbe44a1bd4518b41f5f53f920e936",
      "33c92b5afd1d4b6d88016aabfb434194",
      "998676d59f9c464e8463d65baad6448b",
      "45f0a2f361da4608bc8314a27657a56c",
      "3dc9ea77b842455a91f00e9ca9f41948",
      "7bf5b2b625764f63ad57a360c3fd0a61",
      "7b4cfd2b448643b8a4409dd612aef0d1"
     ]
    },
    "id": "XIHocAuTQbBR",
    "outputId": "cc1a70b2-7b4d-410b-f997-1f1c47c3c9e5"
   },
   "outputs": [
    {
     "data": {
      "application/vnd.jupyter.widget-view+json": {
       "model_id": "dda30f1899e141748bbecbb9c14c8524",
       "version_major": 2,
       "version_minor": 0
      },
      "text/plain": [
       "HBox(children=(FloatProgress(value=0.0, max=980.0), HTML(value='')))"
      ]
     },
     "metadata": {},
     "output_type": "display_data"
    },
    {
     "name": "stdout",
     "output_type": "stream",
     "text": [
      "\n"
     ]
    },
    {
     "data": {
      "application/vnd.jupyter.widget-view+json": {
       "model_id": "49b4b94308444b0eac128c2c11a4193b",
       "version_major": 2,
       "version_minor": 0
      },
      "text/plain": [
       "HBox(children=(FloatProgress(value=0.0, max=387.0), HTML(value='')))"
      ]
     },
     "metadata": {},
     "output_type": "display_data"
    },
    {
     "name": "stdout",
     "output_type": "stream",
     "text": [
      "\n"
     ]
    }
   ],
   "source": [
    "common_voice_train = common_voice_train.map(remove_special_characters)\n",
    "common_voice_test = common_voice_test.map(remove_special_characters)"
   ]
  },
  {
   "cell_type": "code",
   "execution_count": 10,
   "metadata": {
    "colab": {
     "base_uri": "https://localhost:8080/",
     "height": 359
    },
    "id": "RBDRAAYxRE6n",
    "outputId": "c3a72eaa-8ddc-4283-ccb8-52e50215b84d"
   },
   "outputs": [
    {
     "data": {
      "text/html": [
       "<table border=\"1\" class=\"dataframe\">\n",
       "  <thead>\n",
       "    <tr style=\"text-align: right;\">\n",
       "      <th></th>\n",
       "      <th>sentence</th>\n",
       "    </tr>\n",
       "  </thead>\n",
       "  <tbody>\n",
       "    <tr>\n",
       "      <th>0</th>\n",
       "      <td>wona njedźěleše jenož zapadnu němsku wot wuchodneje němskeje ale tež wsy a swójby</td>\n",
       "    </tr>\n",
       "    <tr>\n",
       "      <th>1</th>\n",
       "      <td>abo jeli bychmy nowozałožene předewzaća za wěsty čas wot přemysłoweho dawka wuswobodźili</td>\n",
       "    </tr>\n",
       "    <tr>\n",
       "      <th>2</th>\n",
       "      <td>wón praji zo njeje žane špatne nazhonjenja z ćěkancami činił</td>\n",
       "    </tr>\n",
       "    <tr>\n",
       "      <th>3</th>\n",
       "      <td>škitarka njeje bul prawje widźała tohodla je so bul do wrotow kulił</td>\n",
       "    </tr>\n",
       "    <tr>\n",
       "      <th>4</th>\n",
       "      <td>wotpowěduja wěcy hišće mojemu słodej a mojej starobje</td>\n",
       "    </tr>\n",
       "    <tr>\n",
       "      <th>5</th>\n",
       "      <td>na polu kulturneho turizma žadamy sej prawu prezentaciju serbskich wobsahow</td>\n",
       "    </tr>\n",
       "    <tr>\n",
       "      <th>6</th>\n",
       "      <td>ty maš kluče stajnje w prawej ruce prawje</td>\n",
       "    </tr>\n",
       "    <tr>\n",
       "      <th>7</th>\n",
       "      <td>jedyn runa so wulkej klamje druhi njesměrnje wulkej heji</td>\n",
       "    </tr>\n",
       "    <tr>\n",
       "      <th>8</th>\n",
       "      <td>tam sym wo mari grólmusec zhoniła a kontakty nawjazała</td>\n",
       "    </tr>\n",
       "    <tr>\n",
       "      <th>9</th>\n",
       "      <td>wone pokazuja na to što město na kulturnym polu wuznamjenja</td>\n",
       "    </tr>\n",
       "  </tbody>\n",
       "</table>"
      ],
      "text/plain": [
       "<IPython.core.display.HTML object>"
      ]
     },
     "metadata": {},
     "output_type": "display_data"
    }
   ],
   "source": [
    "show_random_elements(common_voice_train.remove_columns([\"path\"]))"
   ]
  },
  {
   "cell_type": "markdown",
   "metadata": {
    "id": "jwfaptH5RJwA"
   },
   "source": [
    "Good! This looks better. We have removed most special characters from transcriptions and normalized them to lower-case only.\n",
    "\n",
    "In CTC, it is common to classify speech chunks into letters, so we will do the same here. \n",
    "Let's extract all distinct letters of the training and test data and build our vocabulary from this set of letters.\n",
    "\n",
    "We write a mapping function that concatenates all transcriptions into one long transcription and then transforms the string into a set of chars. \n",
    "It is important to pass the argument `batched=True` to the `map(...)` function so that the mapping function has access to all transcriptions at once."
   ]
  },
  {
   "cell_type": "markdown",
   "metadata": {},
   "source": [
    "Plugging in extra data from an online [Sorbian course](https://sprachkurs.sorbischlernen.de/); the the code I used to clean the transcripts and create a dataset is [here](https://github.com/jimregan/wav2vec2-sprint/blob/main/upper_sorbian/sprachkurs.ipynb), to merge with Common Voice following the example [here](https://colab.research.google.com/drive/1iCNnh2TEcpdco-FiIbyDEMvOYHlJuyaZ); `load_dataset` isn't happy with a big JSON array, though, so it needs to be tweaked a bit."
   ]
  },
  {
   "cell_type": "code",
   "execution_count": 11,
   "metadata": {},
   "outputs": [],
   "source": [
    "import json\n",
    "with open('/workspace/data/upper_sorbian/sprachkurs.json') as jsfile:\n",
    "    data = json.load(jsfile)\n",
    "sentences = [s['sentence'] for s in data]\n",
    "paths = [p['path'] for p in data]\n",
    "ids = [id['id'] for id in data]\n",
    "# order matters!\n",
    "dataraw = {'path': paths,\n",
    "           'sentence': sentences}"
   ]
  },
  {
   "cell_type": "code",
   "execution_count": 12,
   "metadata": {},
   "outputs": [],
   "source": [
    "from datasets import Dataset\n",
    "sprachkurs = Dataset.from_dict(dataraw)"
   ]
  },
  {
   "cell_type": "markdown",
   "metadata": {},
   "source": [
    "Arrow isn't happy about mixing in-memory and on-disk datasets, so save it to disk and reload"
   ]
  },
  {
   "cell_type": "code",
   "execution_count": 13,
   "metadata": {},
   "outputs": [],
   "source": [
    "sprachkurs.save_to_disk('/workspace/data/upper_sorbian/dsjson')"
   ]
  },
  {
   "cell_type": "code",
   "execution_count": 14,
   "metadata": {},
   "outputs": [],
   "source": [
    "from datasets import Dataset\n",
    "sprachkurs2 = Dataset.load_from_disk('/workspace/data/upper_sorbian/dsjson')"
   ]
  },
  {
   "cell_type": "code",
   "execution_count": 15,
   "metadata": {},
   "outputs": [],
   "source": [
    "import datasets\n",
    "train_dataset = datasets.concatenate_datasets([sprachkurs2, common_voice_train])"
   ]
  },
  {
   "cell_type": "code",
   "execution_count": 16,
   "metadata": {
    "id": "LwCshNbbeRZR"
   },
   "outputs": [],
   "source": [
    "def extract_all_chars(batch):\n",
    "  all_text = \" \".join(batch[\"sentence\"])\n",
    "  vocab = list(set(all_text))\n",
    "  return {\"vocab\": [vocab], \"all_text\": [all_text]}"
   ]
  },
  {
   "cell_type": "code",
   "execution_count": 17,
   "metadata": {
    "colab": {
     "base_uri": "https://localhost:8080/",
     "height": 117,
     "referenced_widgets": [
      "304e9130c12f4110941bfbd3db49a28c",
      "5e6bae23461b4378b6e5fc890fe6bc97",
      "75e00c38605f44cfb584067db1160349",
      "8c07a528fc4a4e108b393ab117fe2e46",
      "c01aca3229a24d41841be2b4a3a65bcc",
      "73ecbfc3c5c5456bb42e19b8a34b1576",
      "813fc95246034f5cb9e5198897b4ed42",
      "8bb78a89ff81400791e3005098fdcb94",
      "bd0958ea97b141b1aca367c71721c549",
      "0354ab33471e4c34a0c1b3c062bcd6bb",
      "d080668299ef42fabb8ab6fbcf329cea",
      "aafd4b2c56db43378c4627797665db17",
      "b0f3a205ad4546188fc6e7e7cf96ab32",
      "f972527479e74337a98f236ed018ae1d",
      "ccb720bf256e42f7b0251494ccb7741f",
      "ad428686450f4ebdb50a0356b2e5a8c4"
     ]
    },
    "id": "_m6uUjjcfbjH",
    "outputId": "75a1a23f-a9c7-4c8b-8777-dad120a9aa9a"
   },
   "outputs": [
    {
     "data": {
      "application/vnd.jupyter.widget-view+json": {
       "model_id": "93d16c4e795b4237939e90aefec2fc33",
       "version_major": 2,
       "version_minor": 0
      },
      "text/plain": [
       "HBox(children=(FloatProgress(value=0.0, max=1.0), HTML(value='')))"
      ]
     },
     "metadata": {},
     "output_type": "display_data"
    },
    {
     "name": "stdout",
     "output_type": "stream",
     "text": [
      "\n"
     ]
    },
    {
     "data": {
      "application/vnd.jupyter.widget-view+json": {
       "model_id": "9f7fa22d6b5d4a888612cbc5b2800ab2",
       "version_major": 2,
       "version_minor": 0
      },
      "text/plain": [
       "HBox(children=(FloatProgress(value=0.0, max=1.0), HTML(value='')))"
      ]
     },
     "metadata": {},
     "output_type": "display_data"
    },
    {
     "name": "stdout",
     "output_type": "stream",
     "text": [
      "\n"
     ]
    }
   ],
   "source": [
    "vocab_train = train_dataset.map(extract_all_chars, batched=True, batch_size=-1, keep_in_memory=True, remove_columns=common_voice_train.column_names)\n",
    "vocab_test = common_voice_test.map(extract_all_chars, batched=True, batch_size=-1, keep_in_memory=True, remove_columns=common_voice_test.column_names)"
   ]
  },
  {
   "cell_type": "markdown",
   "metadata": {
    "id": "7oVgE8RZSJNP"
   },
   "source": [
    "Now, we create the union of all distinct letters in the training dataset and test dataset and convert the resulting list into an enumerated dictionary."
   ]
  },
  {
   "cell_type": "code",
   "execution_count": 18,
   "metadata": {
    "id": "aQfneNsmlJI0"
   },
   "outputs": [],
   "source": [
    "vocab_list = list(set(vocab_train[\"vocab\"][0]) | set(vocab_test[\"vocab\"][0]))"
   ]
  },
  {
   "cell_type": "code",
   "execution_count": 19,
   "metadata": {
    "colab": {
     "base_uri": "https://localhost:8080/"
    },
    "id": "_0kRndSvqaKk",
    "outputId": "29f5d23f-75b1-44d0-9975-87f9ec4c0aa5"
   },
   "outputs": [
    {
     "data": {
      "text/plain": [
       "{'ě': 0,\n",
       " 'l': 1,\n",
       " 'c': 2,\n",
       " 'e': 3,\n",
       " 'b': 4,\n",
       " 'j': 5,\n",
       " 'u': 6,\n",
       " 'ś': 7,\n",
       " 'q': 8,\n",
       " 'm': 9,\n",
       " 'i': 10,\n",
       " 'č': 11,\n",
       " 'ź': 12,\n",
       " 'r': 13,\n",
       " 'ö': 14,\n",
       " 'ć': 15,\n",
       " 'f': 16,\n",
       " 'ń': 17,\n",
       " 'ó': 18,\n",
       " 'p': 19,\n",
       " 't': 20,\n",
       " 'ü': 21,\n",
       " 'd': 22,\n",
       " 'ł': 23,\n",
       " 'v': 24,\n",
       " 'o': 25,\n",
       " 'n': 26,\n",
       " 'á': 27,\n",
       " 'g': 28,\n",
       " 'ž': 29,\n",
       " 'k': 30,\n",
       " 'a': 31,\n",
       " 'y': 32,\n",
       " ' ': 33,\n",
       " 'h': 34,\n",
       " 'z': 35,\n",
       " 'š': 36,\n",
       " 'ň': 37,\n",
       " 'w': 38,\n",
       " 's': 39,\n",
       " 'ř': 40,\n",
       " '-': 41,\n",
       " 'x': 42}"
      ]
     },
     "execution_count": 19,
     "metadata": {},
     "output_type": "execute_result"
    }
   ],
   "source": [
    "vocab_dict = {v: k for k, v in enumerate(vocab_list)}\n",
    "vocab_dict"
   ]
  },
  {
   "cell_type": "markdown",
   "metadata": {
    "id": "JOSzbvs9SXT1"
   },
   "source": [
    "Cool, we see that all letters of the alphabet occur in the dataset (which is not really surprising) and we also extracted the special characters `\" \"` and `'`. Note that we did not exclude those special characters because: \n",
    "\n",
    "- The model has to learn to predict when a word is finished or else the model prediction would always be a sequence of chars which would make it impossible to separate words from each other.\n",
    "- From the transcriptions above it seems that words that include an apostrophe, such as `maktouf'un` do exist in Turkish, so I decided to keep the apostrophe in the dataset. This might be a wrong assumption though.\n",
    "\n",
    "One should always keep in mind that the data-preprocessing is a very important step before training your model. E.g., we don't want our model to differentiate between `a` and `A` just because we forgot to normalize the data. The difference between `a` and `A` does not depend on the \"sound\" of the letter at all, but more on grammatical rules - *e.g.* use a capitalized letter at the beginning of the sentence. So it is sensible to remove the difference between capitalized and non-capitalized letters so that the model has an easier time learning to transcribe speech. \n",
    "\n",
    "It is always advantageous to get help from a native speaker of the language you would like to transcribe to verify whether the assumptions you made are sensible, *e.g.* I should have made sure that keeping `'`, but removing other special characters is a sensible choice for Turkish. "
   ]
  },
  {
   "cell_type": "markdown",
   "metadata": {
    "id": "b1fBRCn-TRaO"
   },
   "source": [
    "To make it clearer that `\" \"` has its own token class, we give it a more visible character `|`. In addition, we also add an \"unknown\" token so that the model can later deal with characters not encountered in Common Voice's training set. \n",
    "\n",
    "Finally, we also add a padding token that corresponds to CTC's \"*blank token*\". The \"blank token\" is a core component of the CTC algorithm. For more information, please take a look at the \"Alignment\" section [here](https://distill.pub/2017/ctc/)."
   ]
  },
  {
   "cell_type": "code",
   "execution_count": 20,
   "metadata": {
    "id": "npbIbBoLgaFX"
   },
   "outputs": [],
   "source": [
    "vocab_dict[\"|\"] = vocab_dict[\" \"]\n",
    "del vocab_dict[\" \"]"
   ]
  },
  {
   "cell_type": "code",
   "execution_count": 21,
   "metadata": {
    "colab": {
     "base_uri": "https://localhost:8080/"
    },
    "id": "znF0bNunsjbl",
    "outputId": "6dd50862-f4c5-4a05-87a7-da03d157e30e"
   },
   "outputs": [
    {
     "data": {
      "text/plain": [
       "45"
      ]
     },
     "execution_count": 21,
     "metadata": {},
     "output_type": "execute_result"
    }
   ],
   "source": [
    "vocab_dict[\"[UNK]\"] = len(vocab_dict)\n",
    "vocab_dict[\"[PAD]\"] = len(vocab_dict)\n",
    "len(vocab_dict)"
   ]
  },
  {
   "cell_type": "markdown",
   "metadata": {
    "id": "SFPGfet8U5sL"
   },
   "source": [
    "Cool, now our vocabulary is complete and consists of 39 tokens, which means that the linear layer that we will add on top of the pretrained XLSR-Wav2Vec2 checkpoint will have an output dimension of 39."
   ]
  },
  {
   "cell_type": "markdown",
   "metadata": {
    "id": "1CujRgBNVRaD"
   },
   "source": [
    "Let's now save the vocabulary as a json file."
   ]
  },
  {
   "cell_type": "code",
   "execution_count": 22,
   "metadata": {
    "id": "ehyUoh9vk191"
   },
   "outputs": [],
   "source": [
    "import json\n",
    "with open('vocab.json', 'w') as vocab_file:\n",
    "    json.dump(vocab_dict, vocab_file)"
   ]
  },
  {
   "cell_type": "markdown",
   "metadata": {
    "id": "SHJDaKlIVVim"
   },
   "source": [
    "In a final step, we use the json file to instantiate an object of the `Wav2Vec2CTCTokenizer` class."
   ]
  },
  {
   "cell_type": "code",
   "execution_count": 23,
   "metadata": {
    "id": "xriFGEWQkO4M"
   },
   "outputs": [],
   "source": [
    "from transformers import Wav2Vec2CTCTokenizer\n",
    "\n",
    "tokenizer = Wav2Vec2CTCTokenizer(\"./vocab.json\", unk_token=\"[UNK]\", pad_token=\"[PAD]\", word_delimiter_token=\"|\")"
   ]
  },
  {
   "cell_type": "markdown",
   "metadata": {
    "id": "KvL12DrNV4cx"
   },
   "source": [
    "Next, we will create the feature extractor."
   ]
  },
  {
   "cell_type": "markdown",
   "metadata": {
    "id": "mYcIiR2FQ96i"
   },
   "source": [
    "### Create XLSR-Wav2Vec2 Feature Extractor"
   ]
  },
  {
   "cell_type": "markdown",
   "metadata": {
    "id": "Y6mDEyW719rx"
   },
   "source": [
    "Speech is a continuous signal and to be treated by computers, it first has to be discretized, which is usually called **sampling**. The sampling rate hereby plays an important role in that it defines how many data points of the speech signal are measured per second. Therefore, sampling with a higher sampling rate results in a better approximation of the *real* speech signal but also necessitates more values per second.\n",
    "\n",
    "A pretrained checkpoint expects its input data to have been sampled more or less from the same distribution as the data it was trained on. The same speech signals sampled at two different rates have a very different distribution, *e.g.*, doubling the sampling rate results in data points being twice as long. Thus, \n",
    "before fine-tuning a pretrained checkpoint of an ASR model, it is crucial to verify that the sampling rate of the data that was used to pretrain the model matches the sampling rate of the dataset used to fine-tune the model.\n",
    "\n",
    "XLSR-Wav2Vec2 was pretrained on the audio data of [Babel](https://huggingface.co/datasets/librispeech_asr), \n",
    "[Multilingual LibriSpeech (MLS)](https://ai.facebook.com/blog/a-new-open-data-set-for-multilingual-speech-research/), and [Common Voice](https://huggingface.co/datasets/common_voice). Most of those datasets were sampled at 16kHz, so that Common Voice, sampled at 48kHz, has to be downsampled to 16kHz for training. Therefore, we will have to downsample our fine-tuning data to 16kHz in the following.\n",
    "\n"
   ]
  },
  {
   "cell_type": "markdown",
   "metadata": {
    "id": "KuUbPW7oV-B5"
   },
   "source": [
    "A XLSR-Wav2Vec2 feature extractor object requires the following parameters to be instantiated:\n",
    "\n",
    "- `feature_size`: Speech models take a sequence of feature vectors as an input. While the length of this sequence obviously varies, the feature size should not. In the case of Wav2Vec2, the feature size is 1 because the model was trained on the raw speech signal ${}^2$.\n",
    "- `sampling_rate`: The sampling rate at which the model is trained on.\n",
    "- `padding_value`: For batched inference, shorter inputs need to be padded with a specific value\n",
    "- `do_normalize`: Whether the input should be *zero-mean-unit-variance* normalized or not. Usually, speech models perform better when normalizing the input\n",
    "- `return_attention_mask`: Whether the model should make use of an `attention_mask` for batched inference. In general, XLSR-Wav2Vec2 models should **always** make use of the `attention_mask`."
   ]
  },
  {
   "cell_type": "code",
   "execution_count": 24,
   "metadata": {
    "id": "kAR0-2KLkopp"
   },
   "outputs": [],
   "source": [
    "from transformers import Wav2Vec2FeatureExtractor\n",
    "\n",
    "feature_extractor = Wav2Vec2FeatureExtractor(feature_size=1, sampling_rate=16000, padding_value=0.0, do_normalize=True, return_attention_mask=True)"
   ]
  },
  {
   "cell_type": "markdown",
   "metadata": {
    "id": "qUETetgqYC3W"
   },
   "source": [
    "Great, XLSR-Wav2Vec2's feature extraction pipeline is thereby fully defined!\n",
    "\n",
    "To make the usage of XLSR-Wav2Vec2 as user-friendly as possible, the feature extractor and tokenizer are *wrapped* into a single `Wav2Vec2Processor` class so that one only needs a `model` and `processor` object."
   ]
  },
  {
   "cell_type": "code",
   "execution_count": 25,
   "metadata": {
    "id": "KYZtoW-tlZgl"
   },
   "outputs": [],
   "source": [
    "from transformers import Wav2Vec2Processor\n",
    "\n",
    "processor = Wav2Vec2Processor(feature_extractor=feature_extractor, tokenizer=tokenizer)"
   ]
  },
  {
   "cell_type": "markdown",
   "metadata": {
    "id": "fTfFDSS0YfMN"
   },
   "source": [
    "If one wants to re-use the just created processor and the fine-tuned model of this notebook, one can mount his/her google drive to the notebook and save all relevant files there. To do so, please uncomment the following lines. \n",
    "\n",
    "We will give the fine-tuned model the name `\"wav2vec2-large-xlsr-turkish-demo\"`."
   ]
  },
  {
   "cell_type": "code",
   "execution_count": null,
   "metadata": {
    "colab": {
     "base_uri": "https://localhost:8080/"
    },
    "id": "yq7Bzuzz4zjQ",
    "outputId": "419faa94-b24f-4044-877a-ce511978c97d"
   },
   "outputs": [],
   "source": []
  },
  {
   "cell_type": "code",
   "execution_count": 26,
   "metadata": {
    "id": "Par9rpypPsml"
   },
   "outputs": [],
   "source": [
    "processor.save_pretrained(output_models_dir)"
   ]
  },
  {
   "cell_type": "markdown",
   "metadata": {
    "id": "DrKnYuvDIoOO"
   },
   "source": [
    "Next, we can prepare the dataset."
   ]
  },
  {
   "cell_type": "markdown",
   "metadata": {
    "id": "YFmShnl7RE35"
   },
   "source": [
    "### Preprocess Data\n",
    "\n",
    "So far, we have not looked at the actual values of the speech signal but just kept the path to its file in the dataset. `XLSR-Wav2Vec2` expects the audio file in the format of a 1-dimensional array, so in the first step, let's load all audio files into the dataset object.\n",
    "\n",
    "Let's first check the serialization format of the downloaded audio files by looking at the first training sample."
   ]
  },
  {
   "cell_type": "code",
   "execution_count": 27,
   "metadata": {
    "colab": {
     "base_uri": "https://localhost:8080/"
    },
    "id": "TTCS7W6XJ9BG",
    "outputId": "9c3b8cc0-3bcd-43fe-87ca-2825239b365a"
   },
   "outputs": [
    {
     "data": {
      "text/plain": [
       "{'path': '/workspace/.cache/huggingface/datasets/downloads/extracted/609b9d85d452399dcba97547599ad94641f4f013cfae0d23b04ffae64874e3f3/cv-corpus-6.1-2020-12-11/hsb/clips/common_voice_hsb_20359315.mp3',\n",
       " 'sentence': 'po tachantskim kapitlu je wone druhe najstarše zhromadźenstwo w biskopstwje drježdźanymišnjo '}"
      ]
     },
     "execution_count": 27,
     "metadata": {},
     "output_type": "execute_result"
    }
   ],
   "source": [
    "common_voice_train[0]"
   ]
  },
  {
   "cell_type": "markdown",
   "metadata": {
    "id": "wSBIGEiaKHMn"
   },
   "source": [
    "Alright, the audio file is saved in the `.mp3` format. The `.mp3` format is usually not the easiest format to deal with. We found that the [`torchaudio`](https://pytorch.org/audio/stable/index.html) library works best for reading in `.mp3` data. \n",
    "\n",
    "An audio file usually stores both its values and the sampling rate with which the speech signal was digitalized. We want to store both in the dataset and write a `map(...)` function accordingly."
   ]
  },
  {
   "cell_type": "code",
   "execution_count": 28,
   "metadata": {
    "id": "al9Luo4LPpwJ"
   },
   "outputs": [
    {
     "name": "stderr",
     "output_type": "stream",
     "text": [
      "/opt/conda/lib/python3.7/site-packages/torchaudio/backend/utils.py:54: UserWarning: \"sox\" backend is being deprecated. The default backend will be changed to \"sox_io\" backend in 0.8.0 and \"sox\" backend will be removed in 0.9.0. Please migrate to \"sox_io\" backend. Please refer to https://github.com/pytorch/audio/issues/903 for the detail.\n",
      "  '\"sox\" backend is being deprecated. '\n"
     ]
    }
   ],
   "source": [
    "import torchaudio\n",
    "\n",
    "def speech_file_to_array_fn(batch):\n",
    "    speech_array, sampling_rate = torchaudio.load(batch[\"path\"])\n",
    "    batch[\"speech\"] = speech_array[0].numpy()\n",
    "    batch[\"sampling_rate\"] = sampling_rate\n",
    "    batch[\"target_text\"] = batch[\"sentence\"]\n",
    "    return batch"
   ]
  },
  {
   "cell_type": "code",
   "execution_count": 29,
   "metadata": {
    "colab": {
     "base_uri": "https://localhost:8080/",
     "height": 117,
     "referenced_widgets": [
      "348ef54c80b2449f8a3bc950cccd62cc",
      "b78413dcc0584a0c8f71731a06aaa1b8",
      "7edbecaccdd94ede8fddc0e1807e777e",
      "5e3aad95e52f4be2bd670d1345398f1b",
      "b9c5c6dd54cc4dc5ad5a2bb69a24ab05",
      "3e3a022a9f304b0f9f7ef067fcee1e56",
      "7aa70322bdfe46938b583a20003093d5",
      "99d5c44ea54b45ee9bd89380cb1ad189",
      "5f48f54986924e418aa4ac22aa54b714",
      "db71db50799c404aafa4a54de8b9b799",
      "a58c203a7cc54086aea45f2029821207",
      "8d409ca0372a48e2972ca1d8eee5ffa1",
      "c8fdf261ac294093a355778a3a4aba3b",
      "b1b6a4649fc34c9996f993c57671766b",
      "d362345c05234c97a675c6bacdad0e92",
      "b0479f03f96241ca959f6fe7bcbd1aba"
     ]
    },
    "id": "afeicUeWlrRL",
    "outputId": "d5e4d41a-61d6-4094-eba9-a5bbed02cedc"
   },
   "outputs": [
    {
     "data": {
      "application/vnd.jupyter.widget-view+json": {
       "model_id": "df05bf92bb2f4160ad6c9b7591600706",
       "version_major": 2,
       "version_minor": 0
      },
      "text/plain": [
       "HBox(children=(FloatProgress(value=0.0, max=2064.0), HTML(value='')))"
      ]
     },
     "metadata": {},
     "output_type": "display_data"
    },
    {
     "name": "stdout",
     "output_type": "stream",
     "text": [
      "\n"
     ]
    },
    {
     "data": {
      "application/vnd.jupyter.widget-view+json": {
       "model_id": "a0131823416e478ea7f1fd3aa3b7d3a2",
       "version_major": 2,
       "version_minor": 0
      },
      "text/plain": [
       "HBox(children=(FloatProgress(value=0.0, max=387.0), HTML(value='')))"
      ]
     },
     "metadata": {},
     "output_type": "display_data"
    },
    {
     "name": "stdout",
     "output_type": "stream",
     "text": [
      "\n"
     ]
    }
   ],
   "source": [
    "common_voice_train = train_dataset.map(speech_file_to_array_fn, remove_columns=common_voice_train.column_names)\n",
    "common_voice_test = common_voice_test.map(speech_file_to_array_fn, remove_columns=common_voice_test.column_names)"
   ]
  },
  {
   "cell_type": "markdown",
   "metadata": {
    "id": "ki5sXmzucc9Q"
   },
   "source": [
    "Great, now we've successfully read in all the audio files, but since we know that Common Voice is sampled at 48kHz, we need to resample the audio files to 16kHz. \n",
    "\n",
    "Let's make use of the [`librosa`](https://github.com/librosa/librosa) library to downsample the data."
   ]
  },
  {
   "cell_type": "code",
   "execution_count": 30,
   "metadata": {
    "id": "6Y6AK3Z-kHwP"
   },
   "outputs": [],
   "source": [
    "import librosa\n",
    "import numpy as np\n",
    "\n",
    "def resample(batch):\n",
    "    batch[\"speech\"] = librosa.resample(np.asarray(batch[\"speech\"]), 48_000, 16_000)\n",
    "    batch[\"sampling_rate\"] = 16_000\n",
    "    return batch"
   ]
  },
  {
   "cell_type": "code",
   "execution_count": 31,
   "metadata": {
    "colab": {
     "base_uri": "https://localhost:8080/",
     "height": 453,
     "referenced_widgets": [
      "ee641bbf54a7499597713c517baa81bb",
      "3d929b9e2518402b81a71757ffb753d2",
      "4f8957dc035d4c1a9e8630fc8ab8cd10",
      "757e7bd0e6c5410da0490d191b4e68c8",
      "596aea0362924c7db583203268dd5a3e",
      "47a6c3c427614f21a6dab1c048e5dd37",
      "0b795d4b68014de19bf9579c67b55ffb",
      "9185f86719af476da41e3835e8f06f8d",
      "771959e46cb64b3ebafe931f96f5ff52",
      "0e999af234bd4b63ad2937e61d08b693",
      "f792530a76ee486688cbc2502dfae594",
      "d69468d63dd74fdd807fe061b92aa84e",
      "1261590ef796493798f7068ea0547b74",
      "7e50f8027fb74d669daae5e46082026c",
      "7f5203fde6b64bf7ad53d6ecd3041bfc",
      "84e7f0001ebe458dad3c96e7e9a38cdc",
      "24ea17ae8ab14e8a871e5e115c3f4c06",
      "f57d087016124ebeb073fd7428dcb68b",
      "f3905820a42c499fba04af9c1ad19705",
      "4e1a725fd90b45e280b8b0028ba65250",
      "4c0ad31e73234e46aac0a297ec18bdeb",
      "fc9504846f424542a7feb932964f1f5b",
      "9f79629ad6a94201acf3283862d1ae17",
      "491fd969d61a478f8e85ffcd3e1a3e20",
      "76d162d3ea0845cc837651a77a5a2d36",
      "98c594f1e41e4b3fab10f0763bd93d75",
      "f6b01ad0433a40178ef3ba5657bc1583",
      "eed2ccc12daa4c71b080794a7a18f5cb",
      "beca070c32124a119a08cb21c2ca95e5",
      "69828f4a101f4340916a4be141866904",
      "20347ed29fdc4c0a96da28c09aacf44d",
      "f18eddbd3d994ddc88f37e02d754c206",
      "b7c43fb5efdd4afbb82c81b923f2815a",
      "c0a661f20e7e4649a3c8c42a5fd01956",
      "8dddd0245dcb4532917cbfa0181d2a00",
      "3bdb4058f40f40e3a10e323325a64638",
      "024989cea06f435894776b0a921164b2",
      "b1d93a7521fa47b8a815445b5232da59",
      "751ae6b9e2da4b85be9600561485f1ac",
      "d7f27e9cf8a844349ca90393e0c49a03",
      "82015055d32449b89346ea18e7474c4d",
      "a170c0cb21cf425fbee97fd6d5584e2c",
      "f5f1f0865d7e4d8b810ccb9c3c4d2683",
      "416badb151ee4660b53fdbc136e0c8fb",
      "a47f1ea64f894f0b8e6b277c31ae9f7d",
      "e51b5fd9d5a6416d986fac1526d1666f",
      "824569c63ec445c08362659ca228dd2a",
      "0f3756509e3b405d87936f599b153de2",
      "d96e01ad62c342cdb7d9b1eceb39afa3",
      "e6ce9330460d4a0fb67cc493ca74ae96",
      "e6178f7b148c4bf39f2826f208e0cc64",
      "f78ff14b9c8f46448ed1ecb3fe1f5e0b",
      "929cde17b3484f3e9e8f8774bc43e374",
      "6ba6d07674a34836be53cf173c2b61ca",
      "5a5bc8b4a1c644dea08a60128d888d10",
      "b054b00a32e64fc5988fbd2966ebbce6",
      "5ccd12253fff448f9c15c9b03c70a408",
      "330226a977694de1bd88c0aa3789be47",
      "f203c54e7e054d97aa4d1097f320f611",
      "6266a4019e124aff877bb55f21740180",
      "3ec3285e9f3e4a5abcefabb7f140f4a3",
      "0cd1932178c945d48604ffd299e65d2c",
      "8ad3e4b211e34c048d0f48e36fdbfe48",
      "55071fc1b7484620803aeba453e9af72"
     ]
    },
    "id": "Ws8DyIL_kjwT",
    "outputId": "6176aea2-5986-4da0-a2ad-6ef5e2c85493"
   },
   "outputs": [
    {
     "name": "stdout",
     "output_type": "stream",
     "text": [
      "  "
     ]
    },
    {
     "data": {
      "application/vnd.jupyter.widget-view+json": {
       "model_id": "b67b9c88f567495eaecbcf11b454a8c9",
       "version_major": 2,
       "version_minor": 0
      },
      "text/plain": [
       "HBox(children=(FloatProgress(value=0.0, description='#0', max=516.0, style=ProgressStyle(description_width='in…"
      ]
     },
     "metadata": {},
     "output_type": "display_data"
    },
    {
     "data": {
      "application/vnd.jupyter.widget-view+json": {
       "model_id": "399c8ce24e9242889a548c747e33b7ea",
       "version_major": 2,
       "version_minor": 0
      },
      "text/plain": [
       "HBox(children=(FloatProgress(value=0.0, description='#1', max=516.0, style=ProgressStyle(description_width='in…"
      ]
     },
     "metadata": {},
     "output_type": "display_data"
    },
    {
     "data": {
      "application/vnd.jupyter.widget-view+json": {
       "model_id": "98144f908a2f44c4b63d0295553def2e",
       "version_major": 2,
       "version_minor": 0
      },
      "text/plain": [
       "HBox(children=(FloatProgress(value=0.0, description='#2', max=516.0, style=ProgressStyle(description_width='in…"
      ]
     },
     "metadata": {},
     "output_type": "display_data"
    },
    {
     "data": {
      "application/vnd.jupyter.widget-view+json": {
       "model_id": "3470803a452c47a6a2281a169d507f19",
       "version_major": 2,
       "version_minor": 0
      },
      "text/plain": [
       "HBox(children=(FloatProgress(value=0.0, description='#3', max=516.0, style=ProgressStyle(description_width='in…"
      ]
     },
     "metadata": {},
     "output_type": "display_data"
    },
    {
     "name": "stdout",
     "output_type": "stream",
     "text": [
      "\n",
      "\n",
      "\n",
      "\n",
      "    "
     ]
    },
    {
     "data": {
      "application/vnd.jupyter.widget-view+json": {
       "model_id": "08a1a76dd97f478cb6fa725d73eca3c5",
       "version_major": 2,
       "version_minor": 0
      },
      "text/plain": [
       "HBox(children=(FloatProgress(value=0.0, description='#0', max=97.0, style=ProgressStyle(description_width='ini…"
      ]
     },
     "metadata": {},
     "output_type": "display_data"
    },
    {
     "data": {
      "application/vnd.jupyter.widget-view+json": {
       "model_id": "2f293b6868ab4d4d8f0bdbc46b73a760",
       "version_major": 2,
       "version_minor": 0
      },
      "text/plain": [
       "HBox(children=(FloatProgress(value=0.0, description='#1', max=97.0, style=ProgressStyle(description_width='ini…"
      ]
     },
     "metadata": {},
     "output_type": "display_data"
    },
    {
     "data": {
      "application/vnd.jupyter.widget-view+json": {
       "model_id": "1490d3ee5e0548419f2616a849b9cd80",
       "version_major": 2,
       "version_minor": 0
      },
      "text/plain": [
       "HBox(children=(FloatProgress(value=0.0, description='#2', max=97.0, style=ProgressStyle(description_width='ini…"
      ]
     },
     "metadata": {},
     "output_type": "display_data"
    },
    {
     "data": {
      "application/vnd.jupyter.widget-view+json": {
       "model_id": "dd878c866dd145d68349025ad529c159",
       "version_major": 2,
       "version_minor": 0
      },
      "text/plain": [
       "HBox(children=(FloatProgress(value=0.0, description='#3', max=96.0, style=ProgressStyle(description_width='ini…"
      ]
     },
     "metadata": {},
     "output_type": "display_data"
    },
    {
     "name": "stdout",
     "output_type": "stream",
     "text": [
      "\n",
      "\n",
      "\n",
      "\n"
     ]
    }
   ],
   "source": [
    "common_voice_train = common_voice_train.map(resample, num_proc=4)\n",
    "common_voice_test = common_voice_test.map(resample, num_proc=4)"
   ]
  },
  {
   "cell_type": "markdown",
   "metadata": {
    "id": "SOckzFd4Mbzq"
   },
   "source": [
    "This seemed to have worked! Let's listen to a couple of audio files to better understand the dataset and verify that the audio was correctly loaded. \n",
    "\n",
    "**Note**: *You can click the following cell a couple of times to listen to different speech samples.*"
   ]
  },
  {
   "cell_type": "code",
   "execution_count": 32,
   "metadata": {
    "colab": {
     "base_uri": "https://localhost:8080/",
     "height": 74
    },
    "id": "dueM6U7Ev0OA",
    "outputId": "1a3e579d-213e-4c7a-b2ec-9a7725d95afc"
   },
   "outputs": [
    {
     "data": {
      "text/html": [
       "\n",
       "                <audio  controls=\"controls\" autoplay=\"autoplay\">\n",
       "                    <source src=\"data:audio/wav;base64,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\" type=\"audio/wav\" />\n",
       "                    Your browser does not support the audio element.\n",
       "                </audio>\n",
       "              "
      ],
      "text/plain": [
       "<IPython.lib.display.Audio object>"
      ]
     },
     "execution_count": 32,
     "metadata": {},
     "output_type": "execute_result"
    }
   ],
   "source": [
    "import IPython.display as ipd\n",
    "import numpy as np\n",
    "import random\n",
    "\n",
    "rand_int = random.randint(0, len(common_voice_train)-1)\n",
    "\n",
    "ipd.Audio(data=np.asarray(common_voice_train[rand_int][\"speech\"]), autoplay=True, rate=16000)"
   ]
  },
  {
   "cell_type": "markdown",
   "metadata": {
    "id": "1MaL9J2dNVtG"
   },
   "source": [
    "It can be heard, that the speakers change along with their speaking rate, accent, and background environment, etc. Overall, the recordings sound acceptably clear though, which is to be expected from a crowd-sourced read speech corpus.\n",
    "\n",
    "Let's do a final check that the data is correctly prepared, by printing the shape of the speech input, its transcription, and the corresponding sampling rate.\n",
    "\n",
    "**Note**: *You can click the following cell a couple of times to verify multiple samples.*"
   ]
  },
  {
   "cell_type": "code",
   "execution_count": 33,
   "metadata": {
    "colab": {
     "base_uri": "https://localhost:8080/"
    },
    "id": "1Po2g7YPuRTx",
    "outputId": "96b0b82c-a5df-4ae6-d17b-9c7d4f710b42"
   },
   "outputs": [
    {
     "name": "stdout",
     "output_type": "stream",
     "text": [
      "Target text: hotowy tajki projekt ženje njeje přetož dwurěčny korpus rosće \n",
      "Input array shape: (100992,)\n",
      "Sampling rate: 16000\n"
     ]
    }
   ],
   "source": [
    "rand_int = random.randint(0, len(common_voice_train)-1)\n",
    "\n",
    "print(\"Target text:\", common_voice_train[rand_int][\"target_text\"])\n",
    "print(\"Input array shape:\", np.asarray(common_voice_train[rand_int][\"speech\"]).shape)\n",
    "print(\"Sampling rate:\", common_voice_train[rand_int][\"sampling_rate\"])"
   ]
  },
  {
   "cell_type": "markdown",
   "metadata": {
    "id": "M9teZcSwOBJ4"
   },
   "source": [
    "Good! Everything looks fine - the data is a 1-dimensional array, the sampling rate always corresponds to 16kHz, and the target text is normalized."
   ]
  },
  {
   "cell_type": "markdown",
   "metadata": {
    "id": "k3Pbn5WvOYZF"
   },
   "source": [
    "Finally, we can process the dataset to the format expected by the model for training. We will again make use of the `map(...)` function.\n",
    "\n",
    "First, we check that the data samples have the same sampling rate of 16kHz.\n",
    "Second, we extract the `input_values` from the loaded audio file. In our case, this includes only normalization, but for other speech models, this step could correspond to extracting, *e.g.* [Log-Mel features](https://en.wikipedia.org/wiki/Mel-frequency_cepstrum). \n",
    "Third, we encode the transcriptions to label ids.\n",
    "\n",
    "**Note**: This mapping function is a good example of how the `Wav2Vec2Processor` class should be used. In \"normal\" context, calling `processor(...)` is redirected to `Wav2Vec2FeatureExtractor`'s call method. When wrapping the processor into the `as_target_processor` context, however, the same method is redirected to `Wav2Vec2CTCTokenizer`'s call method.\n",
    "For more information please check the [docs](https://huggingface.co/transformers/master/model_doc/wav2vec2.html#transformers.Wav2Vec2Processor.__call__)."
   ]
  },
  {
   "cell_type": "code",
   "execution_count": 34,
   "metadata": {
    "id": "eJY7I0XAwe9p"
   },
   "outputs": [],
   "source": [
    "def prepare_dataset(batch):\n",
    "    # check that all files have the correct sampling rate\n",
    "    assert (\n",
    "        len(set(batch[\"sampling_rate\"])) == 1\n",
    "    ), f\"Make sure all inputs have the same sampling rate of {processor.feature_extractor.sampling_rate}.\"\n",
    "\n",
    "    batch[\"input_values\"] = processor(batch[\"speech\"], sampling_rate=batch[\"sampling_rate\"][0]).input_values\n",
    "    \n",
    "    with processor.as_target_processor():\n",
    "        batch[\"labels\"] = processor(batch[\"target_text\"]).input_ids\n",
    "    return batch"
   ]
  },
  {
   "cell_type": "code",
   "execution_count": 35,
   "metadata": {
    "colab": {
     "base_uri": "https://localhost:8080/",
     "height": 509,
     "referenced_widgets": [
      "4797f1acd9924b4e97f12f964c83078c",
      "73940df84ffd4e0f96637342e9fd12b7",
      "5370c0f2d54b45c0a89f11fb5b70cd4b",
      "018c1f8e198e4df4b480e609bd1be602",
      "fa7926bbe77e48b3a0648b45f5d2dc7a",
      "020bdb330b0d40f5b89697ff37025f69",
      "d35c15beeb33476894b07c3563f8facd",
      "768ab09956774f50a79b2493a8bf179b",
      "7ef969e47c2d429a9848d5ab3f5bb2d9",
      "fe62265afdc74026b7e9c5a50ef61d2c",
      "015c5690e1ea4281954c7efda1c80a6a",
      "f4135dd72864445391f43f387635bfdc",
      "2f727c76652944e3892dd584bea11af2",
      "dec796237765477ea904834d9a824b61",
      "8df9d19602cb4951b397c385458a11ef",
      "923ed9e127524187ab8cfcac31164ba7",
      "bf9e57d81135412d9a9a2281f28bd52a",
      "c41610c0baef412984f8661d96e08b7e",
      "579b6055028f473981ce789a0733a753",
      "4fb7347e9ca542e6ab9003bf4db218e0",
      "3133b378b9294a759c8dfb786ed8f815",
      "6de66d6b7a73434cbdc59b2109bdf0a0",
      "6d4a26d876fb4ac6b5948a09945bdc6b",
      "0987aac282af415da2fbc9dc1b4d5069",
      "ac35dca0845149a284b9867d9e607232",
      "b54bff6261964119bcb562c1a9f74ce6",
      "5071a31d06f544a5b7340a4e863d8fdf",
      "542027ba12f444d586e8072452badea0",
      "49defa4284554baf85f32de242b22709",
      "b2473405490e4556bf30c0cc81237aa5",
      "02bdb06c176145feaa842b97ae58609c",
      "bc41384bbae04044b9780651c6b5a47c",
      "7040945accce4739a41746cc75bb7fce",
      "71011f0d2bc942ac8f9ea1d1fd30c78d",
      "6f60626242534f44a6381195e6eb6530",
      "9fee9d9dd1164d97a9109e942444c332",
      "5ab30242cd154ec0b560c23c0f178546",
      "0ffcbedb8d4444508ac0c3c0b41ea8ac",
      "f9efaa7678c2450f847ff2c2f21ff96e",
      "c126ea97019149848396e593cfab016f",
      "0f99011a13754ed99f3c51a478b0e793",
      "4abe2731ec624729b401d60a392cae63",
      "bd187486ac2548f2961cfcb63d852de1",
      "3f780f0aa8834fc189b292e0474e2ffa",
      "231c66f195d34f86b216805518f4bccd",
      "58f3e8002f984594ac05c973aa78ef69",
      "ec36a94ee2574ac8b227ccaefdee5520",
      "a868dea9d9b047a4b853b390e138e4c1",
      "6462bd9561e24abb98fce6ce4675d810",
      "bd3447291ce54812af10ac6245ea4328",
      "e273548a15aa4d4994132b317adb66fc",
      "f6930dd5519d4dfda64c597def220a30",
      "7d62810674c8482abe46c60fc08884b4",
      "80697300a4394b909f1c499ba80aeb13",
      "ab72c80dfd5e4ab19a183f4204486b59",
      "56ad6231a0a04228be29ceecbc6b7c0e",
      "b6221b4c04e64c9da9eb9e11539bac89",
      "dc6862530f6e429ba61a169b4c95722c",
      "02d1f77324854fbca0df9384c57faac8",
      "8e63ba7f1fd24555bf11bc9dbe9c770b",
      "704ea5e05fd744d998b76d6435992995",
      "d4a3f79644fc41848450ba29e6fdfc3d",
      "405b5de4ae854cf9896f63d15f2207dd",
      "26e7bab0f3bf4797bfcef83dcace24f0"
     ]
    },
    "id": "-np9xYK-wl8q",
    "outputId": "6155b5f0-a5a2-4e20-d0e2-0b3a60c13f98"
   },
   "outputs": [
    {
     "name": "stdout",
     "output_type": "stream",
     "text": [
      "    "
     ]
    },
    {
     "data": {
      "application/vnd.jupyter.widget-view+json": {
       "model_id": "9b2d425c9b3742d4aeac93bcaeed09b0",
       "version_major": 2,
       "version_minor": 0
      },
      "text/plain": [
       "HBox(children=(FloatProgress(value=0.0, description='#1', max=65.0, style=ProgressStyle(description_width='ini…"
      ]
     },
     "metadata": {},
     "output_type": "display_data"
    },
    {
     "data": {
      "application/vnd.jupyter.widget-view+json": {
       "model_id": "55ae8184389f4f2cbeeb064de3f66f9f",
       "version_major": 2,
       "version_minor": 0
      },
      "text/plain": [
       "HBox(children=(FloatProgress(value=0.0, description='#3', max=65.0, style=ProgressStyle(description_width='ini…"
      ]
     },
     "metadata": {},
     "output_type": "display_data"
    },
    {
     "data": {
      "application/vnd.jupyter.widget-view+json": {
       "model_id": "ce253644e2254fac90453566afed7fe8",
       "version_major": 2,
       "version_minor": 0
      },
      "text/plain": [
       "HBox(children=(FloatProgress(value=0.0, description='#2', max=65.0, style=ProgressStyle(description_width='ini…"
      ]
     },
     "metadata": {},
     "output_type": "display_data"
    },
    {
     "data": {
      "application/vnd.jupyter.widget-view+json": {
       "model_id": "dc729551f2d144c8b24c33fa04d7496e",
       "version_major": 2,
       "version_minor": 0
      },
      "text/plain": [
       "HBox(children=(FloatProgress(value=0.0, description='#0', max=65.0, style=ProgressStyle(description_width='ini…"
      ]
     },
     "metadata": {},
     "output_type": "display_data"
    },
    {
     "name": "stdout",
     "output_type": "stream",
     "text": [
      "\n",
      "\n",
      "\n",
      "\n",
      "    "
     ]
    },
    {
     "data": {
      "application/vnd.jupyter.widget-view+json": {
       "model_id": "c2f897d9e6ff41b492350327abcf5cf3",
       "version_major": 2,
       "version_minor": 0
      },
      "text/plain": [
       "HBox(children=(FloatProgress(value=0.0, description='#0', max=13.0, style=ProgressStyle(description_width='ini…"
      ]
     },
     "metadata": {},
     "output_type": "display_data"
    },
    {
     "data": {
      "application/vnd.jupyter.widget-view+json": {
       "model_id": "889bee21e5da4cd99c4530beb0147540",
       "version_major": 2,
       "version_minor": 0
      },
      "text/plain": [
       "HBox(children=(FloatProgress(value=0.0, description='#1', max=13.0, style=ProgressStyle(description_width='ini…"
      ]
     },
     "metadata": {},
     "output_type": "display_data"
    },
    {
     "data": {
      "application/vnd.jupyter.widget-view+json": {
       "model_id": "7714d0f8dd9a40b29a78a49140ab0251",
       "version_major": 2,
       "version_minor": 0
      },
      "text/plain": [
       "HBox(children=(FloatProgress(value=0.0, description='#3', max=12.0, style=ProgressStyle(description_width='ini…"
      ]
     },
     "metadata": {},
     "output_type": "display_data"
    },
    {
     "data": {
      "application/vnd.jupyter.widget-view+json": {
       "model_id": "2b7af47ccffe4227bce1d31aae5947f8",
       "version_major": 2,
       "version_minor": 0
      },
      "text/plain": [
       "HBox(children=(FloatProgress(value=0.0, description='#2', max=13.0, style=ProgressStyle(description_width='ini…"
      ]
     },
     "metadata": {},
     "output_type": "display_data"
    },
    {
     "name": "stdout",
     "output_type": "stream",
     "text": [
      "\n",
      "\n",
      "\n",
      "\n"
     ]
    }
   ],
   "source": [
    "common_voice_train = common_voice_train.map(prepare_dataset, remove_columns=common_voice_train.column_names, batch_size=8, num_proc=4, batched=True)\n",
    "common_voice_test = common_voice_test.map(prepare_dataset, remove_columns=common_voice_test.column_names, batch_size=8, num_proc=4, batched=True)"
   ]
  },
  {
   "cell_type": "markdown",
   "metadata": {
    "id": "gYlQkKVoRUos"
   },
   "source": [
    "## Training\n",
    "\n",
    "The data is processed so that we are ready to start setting up the training pipeline. We will make use of 🤗's [Trainer](https://huggingface.co/transformers/master/main_classes/trainer.html?highlight=trainer) for which we essentially need to do the following:\n",
    "\n",
    "- Define a data collator. In contrast to most NLP models, XLSR-Wav2Vec2 has a much larger input length than output length. *E.g.*, a sample of input length 50000 has an output length of no more than 100. Given the large input sizes, it is much more efficient to pad the training batches dynamically meaning that all training samples should only be padded to the longest sample in their batch and not the overall longest sample. Therefore, fine-tuning XLSR-Wav2Vec2 requires a special padding data collator, which we will define below\n",
    "\n",
    "- Evaluation metric. During training, the model should be evaluated on the word error rate. We should define a `compute_metrics` function accordingly\n",
    "\n",
    "- Load a pretrained checkpoint. We need to load a pretrained checkpoint and configure it correctly for training.\n",
    "\n",
    "- Define the training configuration.\n",
    "\n",
    "After having fine-tuned the model, we will correctly evaluate it on the test data and verify that it has indeed learned to correctly transcribe speech."
   ]
  },
  {
   "cell_type": "markdown",
   "metadata": {
    "id": "Slk403unUS91"
   },
   "source": [
    "### Set-up Trainer\n",
    "\n",
    "Let's start by defining the data collator. The code for the data collator was copied from [this example](https://github.com/huggingface/transformers/blob/9a06b6b11bdfc42eea08fa91d0c737d1863c99e3/examples/research_projects/wav2vec2/run_asr.py#L81).\n",
    "\n",
    "Without going into too many details, in contrast to the common data collators, this data collator treats the `input_values` and `labels` differently and thus applies to separate padding functions on them (again making use of XLSR-Wav2Vec2's context manager). This is necessary because in speech input and output are of different modalities meaning that they should not be treated by the same padding function.\n",
    "Analogous to the common data collators, the padding tokens in the labels with `-100` so that those tokens are **not** taken into account when computing the loss."
   ]
  },
  {
   "cell_type": "code",
   "execution_count": 36,
   "metadata": {
    "id": "tborvC9hx88e"
   },
   "outputs": [],
   "source": [
    "import torch\n",
    "\n",
    "from dataclasses import dataclass, field\n",
    "from typing import Any, Dict, List, Optional, Union\n",
    "\n",
    "@dataclass\n",
    "class DataCollatorCTCWithPadding:\n",
    "    \"\"\"\n",
    "    Data collator that will dynamically pad the inputs received.\n",
    "    Args:\n",
    "        processor (:class:`~transformers.Wav2Vec2Processor`)\n",
    "            The processor used for proccessing the data.\n",
    "        padding (:obj:`bool`, :obj:`str` or :class:`~transformers.tokenization_utils_base.PaddingStrategy`, `optional`, defaults to :obj:`True`):\n",
    "            Select a strategy to pad the returned sequences (according to the model's padding side and padding index)\n",
    "            among:\n",
    "            * :obj:`True` or :obj:`'longest'`: Pad to the longest sequence in the batch (or no padding if only a single\n",
    "              sequence if provided).\n",
    "            * :obj:`'max_length'`: Pad to a maximum length specified with the argument :obj:`max_length` or to the\n",
    "              maximum acceptable input length for the model if that argument is not provided.\n",
    "            * :obj:`False` or :obj:`'do_not_pad'` (default): No padding (i.e., can output a batch with sequences of\n",
    "              different lengths).\n",
    "        max_length (:obj:`int`, `optional`):\n",
    "            Maximum length of the ``input_values`` of the returned list and optionally padding length (see above).\n",
    "        max_length_labels (:obj:`int`, `optional`):\n",
    "            Maximum length of the ``labels`` returned list and optionally padding length (see above).\n",
    "        pad_to_multiple_of (:obj:`int`, `optional`):\n",
    "            If set will pad the sequence to a multiple of the provided value.\n",
    "            This is especially useful to enable the use of Tensor Cores on NVIDIA hardware with compute capability >=\n",
    "            7.5 (Volta).\n",
    "    \"\"\"\n",
    "\n",
    "    processor: Wav2Vec2Processor\n",
    "    padding: Union[bool, str] = True\n",
    "    max_length: Optional[int] = None\n",
    "    max_length_labels: Optional[int] = None\n",
    "    pad_to_multiple_of: Optional[int] = None\n",
    "    pad_to_multiple_of_labels: Optional[int] = None\n",
    "\n",
    "    def __call__(self, features: List[Dict[str, Union[List[int], torch.Tensor]]]) -> Dict[str, torch.Tensor]:\n",
    "        # split inputs and labels since they have to be of different lenghts and need\n",
    "        # different padding methods\n",
    "        input_features = [{\"input_values\": feature[\"input_values\"]} for feature in features]\n",
    "        label_features = [{\"input_ids\": feature[\"labels\"]} for feature in features]\n",
    "\n",
    "        batch = self.processor.pad(\n",
    "            input_features,\n",
    "            padding=self.padding,\n",
    "            max_length=self.max_length,\n",
    "            pad_to_multiple_of=self.pad_to_multiple_of,\n",
    "            return_tensors=\"pt\",\n",
    "        )\n",
    "        with self.processor.as_target_processor():\n",
    "            labels_batch = self.processor.pad(\n",
    "                label_features,\n",
    "                padding=self.padding,\n",
    "                max_length=self.max_length_labels,\n",
    "                pad_to_multiple_of=self.pad_to_multiple_of_labels,\n",
    "                return_tensors=\"pt\",\n",
    "            )\n",
    "\n",
    "        # replace padding with -100 to ignore loss correctly\n",
    "        labels = labels_batch[\"input_ids\"].masked_fill(labels_batch.attention_mask.ne(1), -100)\n",
    "\n",
    "        batch[\"labels\"] = labels\n",
    "\n",
    "        return batch"
   ]
  },
  {
   "cell_type": "code",
   "execution_count": 37,
   "metadata": {
    "id": "lbQf5GuZyQ4_"
   },
   "outputs": [],
   "source": [
    "data_collator = DataCollatorCTCWithPadding(processor=processor, padding=True)"
   ]
  },
  {
   "cell_type": "markdown",
   "metadata": {
    "id": "xO-Zdj-5cxXp"
   },
   "source": [
    "Next, the evaluation metric is defined. As mentioned earlier, the \n",
    "predominant metric in ASR is the word error rate (WER), hence we will use it in this notebook as well."
   ]
  },
  {
   "cell_type": "code",
   "execution_count": 38,
   "metadata": {
    "colab": {
     "base_uri": "https://localhost:8080/",
     "height": 67,
     "referenced_widgets": [
      "d5fb02debe4347e781543a996ce39be3",
      "da12267c52144292adb9896249d61a6a",
      "8e1a85a4a6214a16b7431da23a301ada",
      "57198e3250374e1fa64c5a4be255861e",
      "a3c04c75ec9743feb795f69e7c4dff4f",
      "d453bd4a35e54bfba20dac1fe86c60c1",
      "969080b52ad44ee997829986d198c505",
      "8f737725708c4097a8caaf4da6229636"
     ]
    },
    "id": "9Xsux2gmyXso",
    "outputId": "58e0e6f5-6131-4147-bccb-6c42223833db"
   },
   "outputs": [
    {
     "data": {
      "application/vnd.jupyter.widget-view+json": {
       "model_id": "3f03fc68379f44b88ea9eae44539609f",
       "version_major": 2,
       "version_minor": 0
      },
      "text/plain": [
       "HBox(children=(FloatProgress(value=0.0, description='Downloading', max=1764.0, style=ProgressStyle(description…"
      ]
     },
     "metadata": {},
     "output_type": "display_data"
    },
    {
     "name": "stdout",
     "output_type": "stream",
     "text": [
      "\n"
     ]
    }
   ],
   "source": [
    "wer_metric = load_metric(\"wer\")"
   ]
  },
  {
   "cell_type": "markdown",
   "metadata": {
    "id": "E1qZU5p-deqB"
   },
   "source": [
    "The model will return a sequence of logit vectors:\n",
    "$\\mathbf{y}_1, \\ldots, \\mathbf{y}_m$ with $\\mathbf{y}_1 = f_{\\theta}(x_1, \\ldots, x_n)[0]$ and $n >> m$.\n",
    "\n",
    "A logit vector $\\mathbf{y}_1$ contains the log-odds for each word in the vocabulary we defined earlier, thus $\\text{len}(\\mathbf{y}_i) =$ `config.vocab_size`. We are interested in the most likely prediction of the model and thus take the `argmax(...)` of the logits. Also, we transform the encoded labels back to the original string by replacing `-100` with the `pad_token_id` and decoding the ids while making sure that consecutive tokens are **not** grouped to the same token in CTC style ${}^1$."
   ]
  },
  {
   "cell_type": "code",
   "execution_count": 39,
   "metadata": {
    "id": "1XZ-kjweyTy_"
   },
   "outputs": [],
   "source": [
    "def compute_metrics(pred):\n",
    "    pred_logits = pred.predictions\n",
    "    pred_ids = np.argmax(pred_logits, axis=-1)\n",
    "\n",
    "    pred.label_ids[pred.label_ids == -100] = processor.tokenizer.pad_token_id\n",
    "\n",
    "    pred_str = processor.batch_decode(pred_ids)\n",
    "    # we do not want to group tokens when computing the metrics\n",
    "    label_str = processor.batch_decode(pred.label_ids, group_tokens=False)\n",
    "\n",
    "    wer = wer_metric.compute(predictions=pred_str, references=label_str)\n",
    "\n",
    "    return {\"wer\": wer}"
   ]
  },
  {
   "cell_type": "markdown",
   "metadata": {
    "id": "Xmgrx4bRwLIH"
   },
   "source": [
    "Now, we can load the pretrained `XLSR-Wav2Vec2` checkpoint. The tokenizer's `pad_token_id` must be to define the model's `pad_token_id` or in the case of `Wav2Vec2ForCTC` also CTC's *blank token* ${}^2$. To save GPU memory, we enable PyTorch's [gradient checkpointing](https://pytorch.org/docs/stable/checkpoint.html) and also set the loss reduction to \"*mean*\".\n",
    "\n",
    "Because the dataset is quite small (~6h of training data) and because Common Voice is quite noisy, fine-tuning Facebook's [wav2vec2-large-xlsr-53 checkpoint](https://huggingface.co/facebook/wav2vec2-large-xlsr-53) seems to require some hyper-parameter tuning. Therefore, I had to play around a bit with different values for dropout, [SpecAugment](https://arxiv.org/abs/1904.08779)'s masking dropout rate, layer dropout, and the learning rate until training seemed to be stable enough. \n",
    "\n",
    "**Note**: When using this notebook to train XLSR-Wav2Vec2 on another language of Common Voice those hyper-parameter settings might not work very well. Feel free to adapt those depending on your use case. "
   ]
  },
  {
   "cell_type": "code",
   "execution_count": 40,
   "metadata": {
    "colab": {
     "base_uri": "https://localhost:8080/"
    },
    "id": "e7cqAWIayn6w",
    "outputId": "0a5ab559-6c38-47c6-b4f5-64480ed1df65"
   },
   "outputs": [
    {
     "data": {
      "application/vnd.jupyter.widget-view+json": {
       "model_id": "260a692d30f2424caccfc7a5262663ae",
       "version_major": 2,
       "version_minor": 0
      },
      "text/plain": [
       "HBox(children=(FloatProgress(value=0.0, description='Downloading', max=1451.0, style=ProgressStyle(description…"
      ]
     },
     "metadata": {},
     "output_type": "display_data"
    },
    {
     "name": "stdout",
     "output_type": "stream",
     "text": [
      "\n"
     ]
    },
    {
     "data": {
      "application/vnd.jupyter.widget-view+json": {
       "model_id": "fce59155d79d47748922aca14d4e30c5",
       "version_major": 2,
       "version_minor": 0
      },
      "text/plain": [
       "HBox(children=(FloatProgress(value=0.0, description='Downloading', max=1261920069.0, style=ProgressStyle(descr…"
      ]
     },
     "metadata": {},
     "output_type": "display_data"
    },
    {
     "name": "stdout",
     "output_type": "stream",
     "text": [
      "\n"
     ]
    },
    {
     "name": "stderr",
     "output_type": "stream",
     "text": [
      "Some weights of Wav2Vec2ForCTC were not initialized from the model checkpoint at facebook/wav2vec2-large-xlsr-53 and are newly initialized: ['lm_head.bias', 'lm_head.weight']\n",
      "You should probably TRAIN this model on a down-stream task to be able to use it for predictions and inference.\n"
     ]
    }
   ],
   "source": [
    "from transformers import Wav2Vec2ForCTC\n",
    "\n",
    "model = Wav2Vec2ForCTC.from_pretrained(\n",
    "    \"facebook/wav2vec2-large-xlsr-53\", \n",
    "    attention_dropout=0.1,\n",
    "    hidden_dropout=0.1,\n",
    "    feat_proj_dropout=0.0,\n",
    "    mask_time_prob=0.05,\n",
    "    layerdrop=0.1,\n",
    "    gradient_checkpointing=True, \n",
    "    ctc_loss_reduction=\"mean\", \n",
    "    pad_token_id=processor.tokenizer.pad_token_id,\n",
    "    vocab_size=len(processor.tokenizer)\n",
    ")"
   ]
  },
  {
   "cell_type": "markdown",
   "metadata": {
    "id": "1DwR3XLSzGDD"
   },
   "source": [
    "The first component of XLSR-Wav2Vec2 consists of a stack of CNN layers that are used to extract acoustically meaningful - but contextually independent - features from the raw speech signal. This part of the model has already been sufficiently trained during pretraining and as stated in the [paper](https://arxiv.org/pdf/2006.13979.pdf) does not need to be fine-tuned anymore. \n",
    "Thus, we can set the `requires_grad` to `False` for all parameters of the *feature extraction* part."
   ]
  },
  {
   "cell_type": "code",
   "execution_count": 41,
   "metadata": {
    "id": "oGI8zObtZ3V0"
   },
   "outputs": [],
   "source": [
    "model.freeze_feature_extractor()"
   ]
  },
  {
   "cell_type": "markdown",
   "metadata": {
    "id": "lD4aGhQM0K-D"
   },
   "source": [
    "In a final step, we define all parameters related to training. \n",
    "To give more explanation on some of the parameters:\n",
    "- `group_by_length` makes training more efficient by grouping training samples of similar input length into one batch. This can significantly speed up training time by heavily reducing the overall number of useless padding tokens that are passed through the model\n",
    "- `learning_rate` and `weight_decay` were heuristically tuned until fine-tuning has become stable. Note that those parameters strongly depend on the Common Voice dataset and might be suboptimal for other speech datasets.\n",
    "\n",
    "For more explanations on other parameters, one can take a look at the [docs](https://huggingface.co/transformers/master/main_classes/trainer.html?highlight=trainer#trainingarguments).\n",
    "\n",
    "**Note**: If one wants to save the trained models in his/her google drive the commented-out `output_dir` can be used instead."
   ]
  },
  {
   "cell_type": "code",
   "execution_count": 42,
   "metadata": {
    "id": "KbeKSV7uzGPP"
   },
   "outputs": [],
   "source": [
    "from transformers import TrainingArguments\n",
    "\n",
    "training_args = TrainingArguments(\n",
    "  output_dir=output_models_dir,\n",
    "  group_by_length=True,\n",
    "  per_device_train_batch_size=16,\n",
    "  gradient_accumulation_steps=2,\n",
    "  evaluation_strategy=\"steps\",\n",
    "  num_train_epochs=100,\n",
    "  fp16=True,\n",
    "  save_steps=400,\n",
    "  eval_steps=400,\n",
    "  logging_steps=400,\n",
    "  learning_rate=3e-4,\n",
    "  warmup_steps=500,\n",
    "  save_total_limit=2,\n",
    ")"
   ]
  },
  {
   "cell_type": "markdown",
   "metadata": {
    "id": "OsW-WZcL1ZtN"
   },
   "source": [
    "Now, all instances can be passed to Trainer and we are ready to start training!"
   ]
  },
  {
   "cell_type": "code",
   "execution_count": 44,
   "metadata": {
    "id": "rY7vBmFCPFgC"
   },
   "outputs": [],
   "source": [
    "from transformers import Trainer\n",
    "\n",
    "trainer = Trainer(\n",
    "    model=model,\n",
    "    data_collator=data_collator,\n",
    "    args=training_args,\n",
    "    compute_metrics=compute_metrics,\n",
    "    train_dataset=common_voice_train,\n",
    "    eval_dataset=common_voice_test,\n",
    "    tokenizer=processor.feature_extractor,\n",
    ")"
   ]
  },
  {
   "cell_type": "markdown",
   "metadata": {
    "id": "UoXBx1JAA0DX"
   },
   "source": [
    "\n",
    "\n",
    "---\n",
    "\n",
    "${}^1$ To allow models to become independent of the speaker rate, in CTC, consecutive tokens that are identical are simply grouped as a single token. However, the encoded labels should not be grouped when decoding since they don't correspond to the predicted tokens of the model, which is why the `group_tokens=False` parameter has to be passed. If we wouldn't pass this parameter a word like `\"hello\"` would incorrectly be encoded, and decoded as `\"helo\"`.\n",
    "\n",
    "${}^2$ The blank token allows the model to predict a word, such as `\"hello\"` by forcing it to insert the blank token between the two l's. A CTC-conform prediction of `\"hello\"` of our model would be `[PAD] [PAD] \"h\" \"e\" \"e\" \"l\" \"l\" [PAD] \"l\" \"o\" \"o\" [PAD]`."
   ]
  },
  {
   "cell_type": "markdown",
   "metadata": {
    "id": "rpvZHM1xReIW"
   },
   "source": [
    "### Training"
   ]
  },
  {
   "cell_type": "markdown",
   "metadata": {
    "id": "j-3oKSzZ1hGq"
   },
   "source": [
    "Training will take between 180 and 240 minutes depending on the GPU allocated to this notebook. While the trained model yields somewhat satisfying results on *Common Voice*'s test data of Turkish, it is by no means an optimally fine-tuned model. The purpose of this notebook is to demonstrate how XLSR-Wav2Vec2's [checkpoint](https://huggingface.co/facebook/wav2vec2-large-xlsr-53) can be fine-tuned on a low-resource ASR dataset.\n",
    "\n",
    "In case you want to use this google colab to fine-tune your model, you should make sure that your training doesn't stop due to inactivity. A simple hack to prevent this is to paste the following code into the console of this tab (*right mouse click -> inspect -> Console tab and insert code*)."
   ]
  },
  {
   "cell_type": "markdown",
   "metadata": {
    "id": "VYYAvgkW4P0m"
   },
   "source": [
    "```javascript\n",
    "function ConnectButton(){\n",
    "    console.log(\"Connect pushed\"); \n",
    "    document.querySelector(\"#top-toolbar > colab-connect-button\").shadowRoot.querySelector(\"#connect\").click() \n",
    "}\n",
    "setInterval(ConnectButton,60000);\n",
    "```"
   ]
  },
  {
   "cell_type": "code",
   "execution_count": 45,
   "metadata": {
    "colab": {
     "base_uri": "https://localhost:8080/",
     "height": 348
    },
    "id": "_UEjJqGsQw24",
    "outputId": "2e23b190-ca76-48ad-8117-376d1d7c058e"
   },
   "outputs": [
    {
     "name": "stderr",
     "output_type": "stream",
     "text": [
      "\u001b[34m\u001b[1mwandb\u001b[0m: You can find your API key in your browser here: https://wandb.ai/authorize\n"
     ]
    },
    {
     "name": "stdin",
     "output_type": "stream",
     "text": [
      "\u001b[34m\u001b[1mwandb\u001b[0m: Paste an API key from your profile and hit enter:  ········································\n"
     ]
    },
    {
     "name": "stderr",
     "output_type": "stream",
     "text": [
      "\u001b[34m\u001b[1mwandb\u001b[0m: Appending key for api.wandb.ai to your netrc file: /workspace/.netrc\n",
      "\u001b[34m\u001b[1mwandb\u001b[0m: wandb version 0.10.23 is available!  To upgrade, please run:\n",
      "\u001b[34m\u001b[1mwandb\u001b[0m:  $ pip install wandb --upgrade\n"
     ]
    },
    {
     "data": {
      "text/html": [
       "\n",
       "                Tracking run with wandb version 0.10.12<br/>\n",
       "                Syncing run <strong style=\"color:#cdcd00\">/workspace/output_models/hsb/wav2vec2-large-xlsr-upper-sorbian-demo</strong> to <a href=\"https://wandb.ai\" target=\"_blank\">Weights & Biases</a> <a href=\"https://docs.wandb.com/integrations/jupyter.html\" target=\"_blank\">(Documentation)</a>.<br/>\n",
       "                Project page: <a href=\"https://wandb.ai/jimregan/huggingface\" target=\"_blank\">https://wandb.ai/jimregan/huggingface</a><br/>\n",
       "                Run page: <a href=\"https://wandb.ai/jimregan/huggingface/runs/3oa5k10d\" target=\"_blank\">https://wandb.ai/jimregan/huggingface/runs/3oa5k10d</a><br/>\n",
       "                Run data is saved locally in <code>/workspace/wav2vec2-sprint/upper_sorbian/wandb/run-20210328_023604-3oa5k10d</code><br/><br/>\n",
       "            "
      ],
      "text/plain": [
       "<IPython.core.display.HTML object>"
      ]
     },
     "metadata": {},
     "output_type": "display_data"
    },
    {
     "name": "stderr",
     "output_type": "stream",
     "text": [
      "/opt/conda/lib/python3.7/site-packages/torch/optim/lr_scheduler.py:136: UserWarning: Detected call of `lr_scheduler.step()` before `optimizer.step()`. In PyTorch 1.1.0 and later, you should call them in the opposite order: `optimizer.step()` before `lr_scheduler.step()`.  Failure to do this will result in PyTorch skipping the first value of the learning rate schedule. See more details at https://pytorch.org/docs/stable/optim.html#how-to-adjust-learning-rate\n",
      "  \"https://pytorch.org/docs/stable/optim.html#how-to-adjust-learning-rate\", UserWarning)\n"
     ]
    },
    {
     "data": {
      "text/html": [
       "\n",
       "    <div>\n",
       "        <style>\n",
       "            /* Turns off some styling */\n",
       "            progress {\n",
       "                /* gets rid of default border in Firefox and Opera. */\n",
       "                border: none;\n",
       "                /* Needs to be in here for Safari polyfill so background images work as expected. */\n",
       "                background-size: auto;\n",
       "            }\n",
       "        </style>\n",
       "      \n",
       "      <progress value='6400' max='6400' style='width:300px; height:20px; vertical-align: middle;'></progress>\n",
       "      [6400/6400 6:00:06, Epoch 99/100]\n",
       "    </div>\n",
       "    <table border=\"1\" class=\"dataframe\">\n",
       "  <thead>\n",
       "    <tr style=\"text-align: left;\">\n",
       "      <th>Step</th>\n",
       "      <th>Training Loss</th>\n",
       "      <th>Validation Loss</th>\n",
       "      <th>Wer</th>\n",
       "      <th>Runtime</th>\n",
       "      <th>Samples Per Second</th>\n",
       "    </tr>\n",
       "  </thead>\n",
       "  <tbody>\n",
       "    <tr>\n",
       "      <td>400</td>\n",
       "      <td>7.371100</td>\n",
       "      <td>3.190095</td>\n",
       "      <td>1.000000</td>\n",
       "      <td>49.608700</td>\n",
       "      <td>7.801000</td>\n",
       "    </tr>\n",
       "    <tr>\n",
       "      <td>800</td>\n",
       "      <td>3.267300</td>\n",
       "      <td>2.004231</td>\n",
       "      <td>1.000000</td>\n",
       "      <td>50.277000</td>\n",
       "      <td>7.697000</td>\n",
       "    </tr>\n",
       "    <tr>\n",
       "      <td>1200</td>\n",
       "      <td>0.749100</td>\n",
       "      <td>0.783366</td>\n",
       "      <td>0.799893</td>\n",
       "      <td>51.439600</td>\n",
       "      <td>7.523000</td>\n",
       "    </tr>\n",
       "    <tr>\n",
       "      <td>1600</td>\n",
       "      <td>0.237900</td>\n",
       "      <td>0.770811</td>\n",
       "      <td>0.699839</td>\n",
       "      <td>52.077500</td>\n",
       "      <td>7.431000</td>\n",
       "    </tr>\n",
       "    <tr>\n",
       "      <td>2000</td>\n",
       "      <td>0.142700</td>\n",
       "      <td>0.758479</td>\n",
       "      <td>0.662285</td>\n",
       "      <td>52.535100</td>\n",
       "      <td>7.367000</td>\n",
       "    </tr>\n",
       "    <tr>\n",
       "      <td>2400</td>\n",
       "      <td>0.099800</td>\n",
       "      <td>0.755917</td>\n",
       "      <td>0.630097</td>\n",
       "      <td>52.954400</td>\n",
       "      <td>7.308000</td>\n",
       "    </tr>\n",
       "    <tr>\n",
       "      <td>2800</td>\n",
       "      <td>0.080700</td>\n",
       "      <td>0.850527</td>\n",
       "      <td>0.624732</td>\n",
       "      <td>53.023500</td>\n",
       "      <td>7.299000</td>\n",
       "    </tr>\n",
       "    <tr>\n",
       "      <td>3200</td>\n",
       "      <td>0.064200</td>\n",
       "      <td>0.813221</td>\n",
       "      <td>0.625536</td>\n",
       "      <td>54.092500</td>\n",
       "      <td>7.154000</td>\n",
       "    </tr>\n",
       "    <tr>\n",
       "      <td>3600</td>\n",
       "      <td>0.053700</td>\n",
       "      <td>0.787634</td>\n",
       "      <td>0.596298</td>\n",
       "      <td>53.111400</td>\n",
       "      <td>7.287000</td>\n",
       "    </tr>\n",
       "    <tr>\n",
       "      <td>4000</td>\n",
       "      <td>0.050100</td>\n",
       "      <td>0.801641</td>\n",
       "      <td>0.581545</td>\n",
       "      <td>53.104100</td>\n",
       "      <td>7.288000</td>\n",
       "    </tr>\n",
       "    <tr>\n",
       "      <td>4400</td>\n",
       "      <td>0.044500</td>\n",
       "      <td>0.815269</td>\n",
       "      <td>0.596030</td>\n",
       "      <td>54.304100</td>\n",
       "      <td>7.127000</td>\n",
       "    </tr>\n",
       "    <tr>\n",
       "      <td>4800</td>\n",
       "      <td>0.036600</td>\n",
       "      <td>0.893226</td>\n",
       "      <td>0.600590</td>\n",
       "      <td>53.624000</td>\n",
       "      <td>7.217000</td>\n",
       "    </tr>\n",
       "    <tr>\n",
       "      <td>5200</td>\n",
       "      <td>0.031200</td>\n",
       "      <td>0.836675</td>\n",
       "      <td>0.574034</td>\n",
       "      <td>54.362700</td>\n",
       "      <td>7.119000</td>\n",
       "    </tr>\n",
       "    <tr>\n",
       "      <td>5600</td>\n",
       "      <td>0.027700</td>\n",
       "      <td>0.836848</td>\n",
       "      <td>0.568401</td>\n",
       "      <td>54.337000</td>\n",
       "      <td>7.122000</td>\n",
       "    </tr>\n",
       "    <tr>\n",
       "      <td>6000</td>\n",
       "      <td>0.029200</td>\n",
       "      <td>0.809740</td>\n",
       "      <td>0.553916</td>\n",
       "      <td>54.981600</td>\n",
       "      <td>7.039000</td>\n",
       "    </tr>\n",
       "    <tr>\n",
       "      <td>6400</td>\n",
       "      <td>0.023100</td>\n",
       "      <td>0.834777</td>\n",
       "      <td>0.558476</td>\n",
       "      <td>55.396400</td>\n",
       "      <td>6.986000</td>\n",
       "    </tr>\n",
       "  </tbody>\n",
       "</table><p>"
      ],
      "text/plain": [
       "<IPython.core.display.HTML object>"
      ]
     },
     "metadata": {},
     "output_type": "display_data"
    },
    {
     "data": {
      "text/plain": [
       "TrainOutput(global_step=6400, training_loss=0.7692945793271064, metrics={'train_runtime': 21639.5598, 'train_samples_per_second': 0.296, 'total_flos': 2.5217366370839286e+19, 'epoch': 99.99, 'init_mem_cpu_alloc_delta': 11090746, 'init_mem_gpu_alloc_delta': 1261939712, 'init_mem_cpu_peaked_delta': 18306, 'init_mem_gpu_peaked_delta': 0, 'train_mem_cpu_alloc_delta': 28829006, 'train_mem_gpu_alloc_delta': 3779394560, 'train_mem_cpu_peaked_delta': 124781402, 'train_mem_gpu_peaked_delta': 3864851456})"
      ]
     },
     "execution_count": 45,
     "metadata": {},
     "output_type": "execute_result"
    }
   ],
   "source": [
    "trainer.train()"
   ]
  },
  {
   "cell_type": "code",
   "execution_count": 46,
   "metadata": {},
   "outputs": [
    {
     "data": {
      "text/plain": [
       "('/workspace/output_models/hsb/done/tokenizer_config.json',\n",
       " '/workspace/output_models/hsb/done/special_tokens_map.json',\n",
       " '/workspace/output_models/hsb/done/vocab.json',\n",
       " '/workspace/output_models/hsb/done/added_tokens.json')"
      ]
     },
     "execution_count": 46,
     "metadata": {},
     "output_type": "execute_result"
    }
   ],
   "source": [
    "#trainer.save_model(output_models_dir)\n",
    "#tokenizer.save_pretrained(output_models_dir)\n",
    "trainer.save_model('/workspace/output_models/hsb/done')\n",
    "tokenizer.save_pretrained('/workspace/output_models/hsb/done')"
   ]
  },
  {
   "cell_type": "markdown",
   "metadata": {
    "id": "RHIVc44_fY2N"
   },
   "source": [
    "The training loss goes down and we can see that the WER on the test set also improves nicely. Because this notebook is just for demonstration purposes, we can stop here.\n",
    "\n",
    "The resulting model of this notebook has been saved to [`patrickvonplaten/wav2vec2-large-xlsr-turkish-demo`](https://huggingface.co/patrickvonplaten/wav2vec2-large-xlsr-turkish-demo)\n",
    "\n",
    "As a final check, let's load the model and verify that it indeed has learned to transcribe Turkish speech.\n",
    "\n",
    "Let's first load the pretrained checkpoint."
   ]
  },
  {
   "cell_type": "code",
   "execution_count": null,
   "metadata": {
    "colab": {
     "base_uri": "https://localhost:8080/"
    },
    "id": "J8E8pxJ9hgZS",
    "outputId": "5d137935-475d-4dbf-d833-d26780311e18"
   },
   "outputs": [],
   "source": [
    "model = Wav2Vec2ForCTC.from_pretrained(pretrain_model).to(\"cuda\")\n",
    "processor = Wav2Vec2Processor.from_pretrained(pretrain_model)"
   ]
  },
  {
   "cell_type": "markdown",
   "metadata": {
    "id": "QsfGCQYSvY8C"
   },
   "source": [
    "Now, we will just take the first example of the test set, run it through the model and take the `argmax(...)` of the logits to retrieve the predicted token ids."
   ]
  },
  {
   "cell_type": "code",
   "execution_count": null,
   "metadata": {
    "colab": {
     "base_uri": "https://localhost:8080/"
    },
    "id": "EA6fxk-jiHby",
    "outputId": "8b91a977-2559-4adc-8298-b4ad6b7ff196"
   },
   "outputs": [],
   "source": [
    "input_dict = processor(common_voice_test[\"input_values\"][0], return_tensors=\"pt\", padding=True)\n",
    "\n",
    "logits = model(input_dict.input_values.to(\"cuda\")).logits\n",
    "\n",
    "pred_ids = torch.argmax(logits, dim=-1)[0]"
   ]
  },
  {
   "cell_type": "markdown",
   "metadata": {
    "id": "1JDyVCMDvlYd"
   },
   "source": [
    "We adapted `common_voice_test` quite a bit so that the dataset instance does not contain the original sentence label anymore. Thus, we re-use the original dataset to get the label of the first example."
   ]
  },
  {
   "cell_type": "code",
   "execution_count": null,
   "metadata": {
    "colab": {
     "base_uri": "https://localhost:8080/"
    },
    "id": "8dPE2GRIgtx-",
    "outputId": "a211d1ee-d850-481d-8bac-dc46c3efa561"
   },
   "outputs": [],
   "source": [
    "common_voice_test_transcription = load_dataset(\"common_voice\", language_code, data_dir=data_dir, split=\"test\")"
   ]
  },
  {
   "cell_type": "markdown",
   "metadata": {
    "id": "ApS3MmN4v5P7"
   },
   "source": [
    "Finally, we can decode the example."
   ]
  },
  {
   "cell_type": "code",
   "execution_count": null,
   "metadata": {
    "colab": {
     "base_uri": "https://localhost:8080/"
    },
    "id": "Phqxa1O1jMDk",
    "outputId": "60d48c9f-f745-45ac-9105-446dc71025ca"
   },
   "outputs": [],
   "source": [
    "print(\"Prediction:\")\n",
    "print(processor.decode(pred_ids))\n",
    "\n",
    "print(\"\\nReference:\")\n",
    "print(common_voice_test_transcription[\"sentence\"][0].lower())\n"
   ]
  },
  {
   "cell_type": "code",
   "execution_count": 47,
   "metadata": {},
   "outputs": [
    {
     "name": "stderr",
     "output_type": "stream",
     "text": [
      "Reusing dataset common_voice (/workspace/.cache/huggingface/datasets/common_voice/hsb/6.1.0/0041e06ab061b91d0a23234a2221e87970a19cf3a81b20901474cffffeb7869f)\n",
      "Special tokens have been added in the vocabulary, make sure the associated word embedding are fine-tuned or trained.\n"
     ]
    },
    {
     "data": {
      "application/vnd.jupyter.widget-view+json": {
       "model_id": "2d33cc6e3e2245cf9916b3638e4b75d5",
       "version_major": 2,
       "version_minor": 0
      },
      "text/plain": [
       "HBox(children=(FloatProgress(value=0.0, max=387.0), HTML(value='')))"
      ]
     },
     "metadata": {},
     "output_type": "display_data"
    },
    {
     "name": "stdout",
     "output_type": "stream",
     "text": [
      "\n"
     ]
    },
    {
     "data": {
      "application/vnd.jupyter.widget-view+json": {
       "model_id": "6352bc6f9eec497a8788a401d10e6947",
       "version_major": 2,
       "version_minor": 0
      },
      "text/plain": [
       "HBox(children=(FloatProgress(value=0.0, max=49.0), HTML(value='')))"
      ]
     },
     "metadata": {},
     "output_type": "display_data"
    },
    {
     "name": "stdout",
     "output_type": "stream",
     "text": [
      "\n",
      "WER: 48.229614\n"
     ]
    }
   ],
   "source": [
    "import torch\n",
    "import torchaudio\n",
    "from datasets import load_dataset, load_metric\n",
    "from transformers import Wav2Vec2ForCTC, Wav2Vec2Processor\n",
    "import re\n",
    "\n",
    "test_dataset = load_dataset(\"common_voice\", \"hsb\", split=\"test\")\n",
    "wer = load_metric(\"wer\")\n",
    "\n",
    "processor = Wav2Vec2Processor.from_pretrained(\"/workspace/output_models/hsb/done\")\n",
    "model = Wav2Vec2ForCTC.from_pretrained(\"/workspace/output_models/hsb/done\")\n",
    "model.to(\"cuda\")\n",
    "\n",
    "chars_to_ignore_regex = '[\\,\\?\\.\\!\\-\\;\\:\\\"\\“\\%\\‘\\”\\�„«»–]'\n",
    "resampler = torchaudio.transforms.Resample(48_000, 16_000)\n",
    "\n",
    "def speech_file_to_array_fn(batch):\n",
    "    batch[\"sentence\"] = re.sub(chars_to_ignore_regex, '', batch[\"sentence\"]).lower()\n",
    "    speech_array, sampling_rate = torchaudio.load(batch[\"path\"])\n",
    "    batch[\"speech\"] = resampler(speech_array).squeeze().numpy()\n",
    "    return batch\n",
    "\n",
    "test_dataset = test_dataset.map(speech_file_to_array_fn)\n",
    "\n",
    "def evaluate(batch):\n",
    "    inputs = processor(batch[\"speech\"], sampling_rate=16_000, return_tensors=\"pt\", padding=True)\n",
    "\n",
    "    with torch.no_grad():\n",
    "        logits = model(inputs.input_values.to(\"cuda\"), attention_mask=inputs.attention_mask.to(\"cuda\")).logits\n",
    "\n",
    "    pred_ids = torch.argmax(logits, dim=-1)\n",
    "    batch[\"pred_strings\"] = processor.batch_decode(pred_ids)\n",
    "    return batch\n",
    "\n",
    "result = test_dataset.map(evaluate, batched=True, batch_size=8)\n",
    "\n",
    "print(\"WER: {:2f}\".format(100 * wer.compute(predictions=result[\"pred_strings\"], references=result[\"sentence\"])))"
   ]
  },
  {
   "cell_type": "markdown",
   "metadata": {
    "id": "4n_8vhzUv7aw"
   },
   "source": [
    "Alright! The transcription can definitely be recognized from our prediction, but it is far from being perfect. Training the model a bit longer, spending more time on the data preprocessing, and especially using a language model for decoding would certainly improve the model's overall performance. \n",
    "\n",
    "For a demonstration model on a low-resource language, the results are acceptable, however 🤗."
   ]
  }
 ],
 "metadata": {
  "accelerator": "GPU",
  "colab": {
   "collapsed_sections": [],
   "include_colab_link": true,
   "machine_shape": "hm",
   "name": "Fine-Tune XLSR-Wav2Vec2 on Turkish ASR with 🤗 Transformers.ipynb",
   "provenance": []
  },
  "kernelspec": {
   "display_name": "Python 3",
   "language": "python",
   "name": "python3"
  },
  "language_info": {
   "codemirror_mode": {
    "name": "ipython",
    "version": 3
   },
   "file_extension": ".py",
   "mimetype": "text/x-python",
   "name": "python",
   "nbconvert_exporter": "python",
   "pygments_lexer": "ipython3",
   "version": "3.7.6"
  },
  "widgets": {
   "application/vnd.jupyter.widget-state+json": {
    "015c5690e1ea4281954c7efda1c80a6a": {
     "model_module": "@jupyter-widgets/controls",
     "model_name": "FloatProgressModel",
     "state": {
      "_dom_classes": [],
      "_model_module": "@jupyter-widgets/controls",
      "_model_module_version": "1.5.0",
      "_model_name": "FloatProgressModel",
      "_view_count": null,
      "_view_module": "@jupyter-widgets/controls",
      "_view_module_version": "1.5.0",
      "_view_name": "ProgressView",
      "bar_style": "success",
      "description": "#1: 100%",
      "description_tooltip": null,
      "layout": "IPY_MODEL_dec796237765477ea904834d9a824b61",
      "max": 109,
      "min": 0,
      "orientation": "horizontal",
      "style": "IPY_MODEL_2f727c76652944e3892dd584bea11af2",
      "value": 109
     }
    },
    "018c1f8e198e4df4b480e609bd1be602": {
     "model_module": "@jupyter-widgets/controls",
     "model_name": "HTMLModel",
     "state": {
      "_dom_classes": [],
      "_model_module": "@jupyter-widgets/controls",
      "_model_module_version": "1.5.0",
      "_model_name": "HTMLModel",
      "_view_count": null,
      "_view_module": "@jupyter-widgets/controls",
      "_view_module_version": "1.5.0",
      "_view_name": "HTMLView",
      "description": "",
      "description_tooltip": null,
      "layout": "IPY_MODEL_768ab09956774f50a79b2493a8bf179b",
      "placeholder": "​",
      "style": "IPY_MODEL_d35c15beeb33476894b07c3563f8facd",
      "value": " 109/109 [00:56&lt;00:00,  1.92ba/s]"
     }
    },
    "020bdb330b0d40f5b89697ff37025f69": {
     "model_module": "@jupyter-widgets/base",
     "model_name": "LayoutModel",
     "state": {
      "_model_module": "@jupyter-widgets/base",
      "_model_module_version": "1.2.0",
      "_model_name": "LayoutModel",
      "_view_count": null,
      "_view_module": "@jupyter-widgets/base",
      "_view_module_version": "1.2.0",
      "_view_name": "LayoutView",
      "align_content": null,
      "align_items": null,
      "align_self": null,
      "border": null,
      "bottom": null,
      "display": null,
      "flex": null,
      "flex_flow": null,
      "grid_area": null,
      "grid_auto_columns": null,
      "grid_auto_flow": null,
      "grid_auto_rows": null,
      "grid_column": null,
      "grid_gap": null,
      "grid_row": null,
      "grid_template_areas": null,
      "grid_template_columns": null,
      "grid_template_rows": null,
      "height": null,
      "justify_content": null,
      "justify_items": null,
      "left": null,
      "margin": null,
      "max_height": null,
      "max_width": null,
      "min_height": null,
      "min_width": null,
      "object_fit": null,
      "object_position": null,
      "order": null,
      "overflow": null,
      "overflow_x": null,
      "overflow_y": null,
      "padding": null,
      "right": null,
      "top": null,
      "visibility": null,
      "width": null
     }
    },
    "024989cea06f435894776b0a921164b2": {
     "model_module": "@jupyter-widgets/controls",
     "model_name": "ProgressStyleModel",
     "state": {
      "_model_module": "@jupyter-widgets/controls",
      "_model_module_version": "1.5.0",
      "_model_name": "ProgressStyleModel",
      "_view_count": null,
      "_view_module": "@jupyter-widgets/base",
      "_view_module_version": "1.2.0",
      "_view_name": "StyleView",
      "bar_color": null,
      "description_width": "initial"
     }
    },
    "02bdb06c176145feaa842b97ae58609c": {
     "model_module": "@jupyter-widgets/controls",
     "model_name": "DescriptionStyleModel",
     "state": {
      "_model_module": "@jupyter-widgets/controls",
      "_model_module_version": "1.5.0",
      "_model_name": "DescriptionStyleModel",
      "_view_count": null,
      "_view_module": "@jupyter-widgets/base",
      "_view_module_version": "1.2.0",
      "_view_name": "StyleView",
      "description_width": ""
     }
    },
    "02d1f77324854fbca0df9384c57faac8": {
     "model_module": "@jupyter-widgets/controls",
     "model_name": "FloatProgressModel",
     "state": {
      "_dom_classes": [],
      "_model_module": "@jupyter-widgets/controls",
      "_model_module_version": "1.5.0",
      "_model_name": "FloatProgressModel",
      "_view_count": null,
      "_view_module": "@jupyter-widgets/controls",
      "_view_module_version": "1.5.0",
      "_view_name": "ProgressView",
      "bar_style": "success",
      "description": "#3: 100%",
      "description_tooltip": null,
      "layout": "IPY_MODEL_d4a3f79644fc41848450ba29e6fdfc3d",
      "max": 52,
      "min": 0,
      "orientation": "horizontal",
      "style": "IPY_MODEL_704ea5e05fd744d998b76d6435992995",
      "value": 52
     }
    },
    "0354ab33471e4c34a0c1b3c062bcd6bb": {
     "model_module": "@jupyter-widgets/base",
     "model_name": "LayoutModel",
     "state": {
      "_model_module": "@jupyter-widgets/base",
      "_model_module_version": "1.2.0",
      "_model_name": "LayoutModel",
      "_view_count": null,
      "_view_module": "@jupyter-widgets/base",
      "_view_module_version": "1.2.0",
      "_view_name": "LayoutView",
      "align_content": null,
      "align_items": null,
      "align_self": null,
      "border": null,
      "bottom": null,
      "display": null,
      "flex": null,
      "flex_flow": null,
      "grid_area": null,
      "grid_auto_columns": null,
      "grid_auto_flow": null,
      "grid_auto_rows": null,
      "grid_column": null,
      "grid_gap": null,
      "grid_row": null,
      "grid_template_areas": null,
      "grid_template_columns": null,
      "grid_template_rows": null,
      "height": null,
      "justify_content": null,
      "justify_items": null,
      "left": null,
      "margin": null,
      "max_height": null,
      "max_width": null,
      "min_height": null,
      "min_width": null,
      "object_fit": null,
      "object_position": null,
      "order": null,
      "overflow": null,
      "overflow_x": null,
      "overflow_y": null,
      "padding": null,
      "right": null,
      "top": null,
      "visibility": null,
      "width": null
     }
    },
    "03b33c17734d49e28c4636dddd6e833d": {
     "model_module": "@jupyter-widgets/controls",
     "model_name": "FloatProgressModel",
     "state": {
      "_dom_classes": [],
      "_model_module": "@jupyter-widgets/controls",
      "_model_module_version": "1.5.0",
      "_model_name": "FloatProgressModel",
      "_view_count": null,
      "_view_module": "@jupyter-widgets/controls",
      "_view_module_version": "1.5.0",
      "_view_name": "ProgressView",
      "bar_style": "info",
      "description": "",
      "description_tooltip": null,
      "layout": "IPY_MODEL_bee0f50055eb4f738636142a10da0ddd",
      "max": 1,
      "min": 0,
      "orientation": "horizontal",
      "style": "IPY_MODEL_da1ff50f8b9241108a325ada04224642",
      "value": 1
     }
    },
    "05f83d714f864a399083f0e34a812467": {
     "model_module": "@jupyter-widgets/controls",
     "model_name": "DescriptionStyleModel",
     "state": {
      "_model_module": "@jupyter-widgets/controls",
      "_model_module_version": "1.5.0",
      "_model_name": "DescriptionStyleModel",
      "_view_count": null,
      "_view_module": "@jupyter-widgets/base",
      "_view_module_version": "1.2.0",
      "_view_name": "StyleView",
      "description_width": ""
     }
    },
    "089428f56e66419f85ea149d9d102454": {
     "model_module": "@jupyter-widgets/controls",
     "model_name": "HBoxModel",
     "state": {
      "_dom_classes": [],
      "_model_module": "@jupyter-widgets/controls",
      "_model_module_version": "1.5.0",
      "_model_name": "HBoxModel",
      "_view_count": null,
      "_view_module": "@jupyter-widgets/controls",
      "_view_module_version": "1.5.0",
      "_view_name": "HBoxView",
      "box_style": "",
      "children": [
       "IPY_MODEL_4db5037af3f64a3a8a8a1203018a80ff",
       "IPY_MODEL_6a957c1c17474d8d89c27ddecf702fda"
      ],
      "layout": "IPY_MODEL_d649c0f9c1c24634a84b7ef697721ffa"
     }
    },
    "0987aac282af415da2fbc9dc1b4d5069": {
     "model_module": "@jupyter-widgets/base",
     "model_name": "LayoutModel",
     "state": {
      "_model_module": "@jupyter-widgets/base",
      "_model_module_version": "1.2.0",
      "_model_name": "LayoutModel",
      "_view_count": null,
      "_view_module": "@jupyter-widgets/base",
      "_view_module_version": "1.2.0",
      "_view_name": "LayoutView",
      "align_content": null,
      "align_items": null,
      "align_self": null,
      "border": null,
      "bottom": null,
      "display": null,
      "flex": null,
      "flex_flow": null,
      "grid_area": null,
      "grid_auto_columns": null,
      "grid_auto_flow": null,
      "grid_auto_rows": null,
      "grid_column": null,
      "grid_gap": null,
      "grid_row": null,
      "grid_template_areas": null,
      "grid_template_columns": null,
      "grid_template_rows": null,
      "height": null,
      "justify_content": null,
      "justify_items": null,
      "left": null,
      "margin": null,
      "max_height": null,
      "max_width": null,
      "min_height": null,
      "min_width": null,
      "object_fit": null,
      "object_position": null,
      "order": null,
      "overflow": null,
      "overflow_x": null,
      "overflow_y": null,
      "padding": null,
      "right": null,
      "top": null,
      "visibility": null,
      "width": null
     }
    },
    "0a9b58c98508420d8f8936189f064316": {
     "model_module": "@jupyter-widgets/controls",
     "model_name": "FloatProgressModel",
     "state": {
      "_dom_classes": [],
      "_model_module": "@jupyter-widgets/controls",
      "_model_module_version": "1.5.0",
      "_model_name": "FloatProgressModel",
      "_view_count": null,
      "_view_module": "@jupyter-widgets/controls",
      "_view_module_version": "1.5.0",
      "_view_name": "ProgressView",
      "bar_style": "info",
      "description": "",
      "description_tooltip": null,
      "layout": "IPY_MODEL_af85713f677243d19cba9fe69a4a5f46",
      "max": 1,
      "min": 0,
      "orientation": "horizontal",
      "style": "IPY_MODEL_c546bca23ee248a1be7bd8ead3e82a8f",
      "value": 1
     }
    },
    "0b795d4b68014de19bf9579c67b55ffb": {
     "model_module": "@jupyter-widgets/controls",
     "model_name": "DescriptionStyleModel",
     "state": {
      "_model_module": "@jupyter-widgets/controls",
      "_model_module_version": "1.5.0",
      "_model_name": "DescriptionStyleModel",
      "_view_count": null,
      "_view_module": "@jupyter-widgets/base",
      "_view_module_version": "1.2.0",
      "_view_name": "StyleView",
      "description_width": ""
     }
    },
    "0cd1932178c945d48604ffd299e65d2c": {
     "model_module": "@jupyter-widgets/base",
     "model_name": "LayoutModel",
     "state": {
      "_model_module": "@jupyter-widgets/base",
      "_model_module_version": "1.2.0",
      "_model_name": "LayoutModel",
      "_view_count": null,
      "_view_module": "@jupyter-widgets/base",
      "_view_module_version": "1.2.0",
      "_view_name": "LayoutView",
      "align_content": null,
      "align_items": null,
      "align_self": null,
      "border": null,
      "bottom": null,
      "display": null,
      "flex": null,
      "flex_flow": null,
      "grid_area": null,
      "grid_auto_columns": null,
      "grid_auto_flow": null,
      "grid_auto_rows": null,
      "grid_column": null,
      "grid_gap": null,
      "grid_row": null,
      "grid_template_areas": null,
      "grid_template_columns": null,
      "grid_template_rows": null,
      "height": null,
      "justify_content": null,
      "justify_items": null,
      "left": null,
      "margin": null,
      "max_height": null,
      "max_width": null,
      "min_height": null,
      "min_width": null,
      "object_fit": null,
      "object_position": null,
      "order": null,
      "overflow": null,
      "overflow_x": null,
      "overflow_y": null,
      "padding": null,
      "right": null,
      "top": null,
      "visibility": null,
      "width": null
     }
    },
    "0e999af234bd4b63ad2937e61d08b693": {
     "model_module": "@jupyter-widgets/base",
     "model_name": "LayoutModel",
     "state": {
      "_model_module": "@jupyter-widgets/base",
      "_model_module_version": "1.2.0",
      "_model_name": "LayoutModel",
      "_view_count": null,
      "_view_module": "@jupyter-widgets/base",
      "_view_module_version": "1.2.0",
      "_view_name": "LayoutView",
      "align_content": null,
      "align_items": null,
      "align_self": null,
      "border": null,
      "bottom": null,
      "display": null,
      "flex": null,
      "flex_flow": null,
      "grid_area": null,
      "grid_auto_columns": null,
      "grid_auto_flow": null,
      "grid_auto_rows": null,
      "grid_column": null,
      "grid_gap": null,
      "grid_row": null,
      "grid_template_areas": null,
      "grid_template_columns": null,
      "grid_template_rows": null,
      "height": null,
      "justify_content": null,
      "justify_items": null,
      "left": null,
      "margin": null,
      "max_height": null,
      "max_width": null,
      "min_height": null,
      "min_width": null,
      "object_fit": null,
      "object_position": null,
      "order": null,
      "overflow": null,
      "overflow_x": null,
      "overflow_y": null,
      "padding": null,
      "right": null,
      "top": null,
      "visibility": null,
      "width": null
     }
    },
    "0f3756509e3b405d87936f599b153de2": {
     "model_module": "@jupyter-widgets/base",
     "model_name": "LayoutModel",
     "state": {
      "_model_module": "@jupyter-widgets/base",
      "_model_module_version": "1.2.0",
      "_model_name": "LayoutModel",
      "_view_count": null,
      "_view_module": "@jupyter-widgets/base",
      "_view_module_version": "1.2.0",
      "_view_name": "LayoutView",
      "align_content": null,
      "align_items": null,
      "align_self": null,
      "border": null,
      "bottom": null,
      "display": null,
      "flex": null,
      "flex_flow": null,
      "grid_area": null,
      "grid_auto_columns": null,
      "grid_auto_flow": null,
      "grid_auto_rows": null,
      "grid_column": null,
      "grid_gap": null,
      "grid_row": null,
      "grid_template_areas": null,
      "grid_template_columns": null,
      "grid_template_rows": null,
      "height": null,
      "justify_content": null,
      "justify_items": null,
      "left": null,
      "margin": null,
      "max_height": null,
      "max_width": null,
      "min_height": null,
      "min_width": null,
      "object_fit": null,
      "object_position": null,
      "order": null,
      "overflow": null,
      "overflow_x": null,
      "overflow_y": null,
      "padding": null,
      "right": null,
      "top": null,
      "visibility": null,
      "width": null
     }
    },
    "0f99011a13754ed99f3c51a478b0e793": {
     "model_module": "@jupyter-widgets/controls",
     "model_name": "HBoxModel",
     "state": {
      "_dom_classes": [],
      "_model_module": "@jupyter-widgets/controls",
      "_model_module_version": "1.5.0",
      "_model_name": "HBoxModel",
      "_view_count": null,
      "_view_module": "@jupyter-widgets/controls",
      "_view_module_version": "1.5.0",
      "_view_name": "HBoxView",
      "box_style": "",
      "children": [
       "IPY_MODEL_bd187486ac2548f2961cfcb63d852de1",
       "IPY_MODEL_3f780f0aa8834fc189b292e0474e2ffa"
      ],
      "layout": "IPY_MODEL_4abe2731ec624729b401d60a392cae63"
     }
    },
    "0ffcbedb8d4444508ac0c3c0b41ea8ac": {
     "model_module": "@jupyter-widgets/base",
     "model_name": "LayoutModel",
     "state": {
      "_model_module": "@jupyter-widgets/base",
      "_model_module_version": "1.2.0",
      "_model_name": "LayoutModel",
      "_view_count": null,
      "_view_module": "@jupyter-widgets/base",
      "_view_module_version": "1.2.0",
      "_view_name": "LayoutView",
      "align_content": null,
      "align_items": null,
      "align_self": null,
      "border": null,
      "bottom": null,
      "display": null,
      "flex": null,
      "flex_flow": null,
      "grid_area": null,
      "grid_auto_columns": null,
      "grid_auto_flow": null,
      "grid_auto_rows": null,
      "grid_column": null,
      "grid_gap": null,
      "grid_row": null,
      "grid_template_areas": null,
      "grid_template_columns": null,
      "grid_template_rows": null,
      "height": null,
      "justify_content": null,
      "justify_items": null,
      "left": null,
      "margin": null,
      "max_height": null,
      "max_width": null,
      "min_height": null,
      "min_width": null,
      "object_fit": null,
      "object_position": null,
      "order": null,
      "overflow": null,
      "overflow_x": null,
      "overflow_y": null,
      "padding": null,
      "right": null,
      "top": null,
      "visibility": null,
      "width": null
     }
    },
    "1261590ef796493798f7068ea0547b74": {
     "model_module": "@jupyter-widgets/controls",
     "model_name": "ProgressStyleModel",
     "state": {
      "_model_module": "@jupyter-widgets/controls",
      "_model_module_version": "1.5.0",
      "_model_name": "ProgressStyleModel",
      "_view_count": null,
      "_view_module": "@jupyter-widgets/base",
      "_view_module_version": "1.2.0",
      "_view_name": "StyleView",
      "bar_color": null,
      "description_width": "initial"
     }
    },
    "12696cc03f464a63a411efb2b5e5ac3b": {
     "model_module": "@jupyter-widgets/controls",
     "model_name": "HTMLModel",
     "state": {
      "_dom_classes": [],
      "_model_module": "@jupyter-widgets/controls",
      "_model_module_version": "1.5.0",
      "_model_name": "HTMLModel",
      "_view_count": null,
      "_view_module": "@jupyter-widgets/controls",
      "_view_module_version": "1.5.0",
      "_view_name": "HTMLView",
      "description": "",
      "description_tooltip": null,
      "layout": "IPY_MODEL_ceb44ba4fdf34da19a52469acf1ce63f",
      "placeholder": "​",
      "style": "IPY_MODEL_68a3178fe7a54e838e798ff28ff9aa0b",
      "value": " 139k/? [00:00&lt;00:00, 2.38MB/s]"
     }
    },
    "1813458f75514f039ba0214597a09bb4": {
     "model_module": "@jupyter-widgets/base",
     "model_name": "LayoutModel",
     "state": {
      "_model_module": "@jupyter-widgets/base",
      "_model_module_version": "1.2.0",
      "_model_name": "LayoutModel",
      "_view_count": null,
      "_view_module": "@jupyter-widgets/base",
      "_view_module_version": "1.2.0",
      "_view_name": "LayoutView",
      "align_content": null,
      "align_items": null,
      "align_self": null,
      "border": null,
      "bottom": null,
      "display": null,
      "flex": null,
      "flex_flow": null,
      "grid_area": null,
      "grid_auto_columns": null,
      "grid_auto_flow": null,
      "grid_auto_rows": null,
      "grid_column": null,
      "grid_gap": null,
      "grid_row": null,
      "grid_template_areas": null,
      "grid_template_columns": null,
      "grid_template_rows": null,
      "height": null,
      "justify_content": null,
      "justify_items": null,
      "left": null,
      "margin": null,
      "max_height": null,
      "max_width": null,
      "min_height": null,
      "min_width": null,
      "object_fit": null,
      "object_position": null,
      "order": null,
      "overflow": null,
      "overflow_x": null,
      "overflow_y": null,
      "padding": null,
      "right": null,
      "top": null,
      "visibility": null,
      "width": null
     }
    },
    "19e263785ea343ba99ee2127d9b83d1d": {
     "model_module": "@jupyter-widgets/controls",
     "model_name": "DescriptionStyleModel",
     "state": {
      "_model_module": "@jupyter-widgets/controls",
      "_model_module_version": "1.5.0",
      "_model_name": "DescriptionStyleModel",
      "_view_count": null,
      "_view_module": "@jupyter-widgets/base",
      "_view_module_version": "1.2.0",
      "_view_name": "StyleView",
      "description_width": ""
     }
    },
    "1f1faa7b986e475c9e6839b2e7b55c74": {
     "model_module": "@jupyter-widgets/controls",
     "model_name": "HTMLModel",
     "state": {
      "_dom_classes": [],
      "_model_module": "@jupyter-widgets/controls",
      "_model_module_version": "1.5.0",
      "_model_name": "HTMLModel",
      "_view_count": null,
      "_view_module": "@jupyter-widgets/controls",
      "_view_module_version": "1.5.0",
      "_view_name": "HTMLView",
      "description": "",
      "description_tooltip": null,
      "layout": "IPY_MODEL_b320306eaf264ad9872d507a1a1cb2da",
      "placeholder": "​",
      "style": "IPY_MODEL_2ca2f397c4ef405bba27ae2b1415cada",
      "value": " 3478/3478 [03:59&lt;00:00, 14.53ex/s]"
     }
    },
    "20347ed29fdc4c0a96da28c09aacf44d": {
     "model_module": "@jupyter-widgets/controls",
     "model_name": "DescriptionStyleModel",
     "state": {
      "_model_module": "@jupyter-widgets/controls",
      "_model_module_version": "1.5.0",
      "_model_name": "DescriptionStyleModel",
      "_view_count": null,
      "_view_module": "@jupyter-widgets/base",
      "_view_module_version": "1.2.0",
      "_view_name": "StyleView",
      "description_width": ""
     }
    },
    "231c66f195d34f86b216805518f4bccd": {
     "model_module": "@jupyter-widgets/controls",
     "model_name": "ProgressStyleModel",
     "state": {
      "_model_module": "@jupyter-widgets/controls",
      "_model_module_version": "1.5.0",
      "_model_name": "ProgressStyleModel",
      "_view_count": null,
      "_view_module": "@jupyter-widgets/base",
      "_view_module_version": "1.2.0",
      "_view_name": "StyleView",
      "bar_color": null,
      "description_width": "initial"
     }
    },
    "24ea17ae8ab14e8a871e5e115c3f4c06": {
     "model_module": "@jupyter-widgets/controls",
     "model_name": "HBoxModel",
     "state": {
      "_dom_classes": [],
      "_model_module": "@jupyter-widgets/controls",
      "_model_module_version": "1.5.0",
      "_model_name": "HBoxModel",
      "_view_count": null,
      "_view_module": "@jupyter-widgets/controls",
      "_view_module_version": "1.5.0",
      "_view_name": "HBoxView",
      "box_style": "",
      "children": [
       "IPY_MODEL_f3905820a42c499fba04af9c1ad19705",
       "IPY_MODEL_4e1a725fd90b45e280b8b0028ba65250"
      ],
      "layout": "IPY_MODEL_f57d087016124ebeb073fd7428dcb68b"
     }
    },
    "25ba4f4c8b9c44af9885b3903a9261fd": {
     "model_module": "@jupyter-widgets/controls",
     "model_name": "HBoxModel",
     "state": {
      "_dom_classes": [],
      "_model_module": "@jupyter-widgets/controls",
      "_model_module_version": "1.5.0",
      "_model_name": "HBoxModel",
      "_view_count": null,
      "_view_module": "@jupyter-widgets/controls",
      "_view_module_version": "1.5.0",
      "_view_name": "HBoxView",
      "box_style": "",
      "children": [
       "IPY_MODEL_03b33c17734d49e28c4636dddd6e833d",
       "IPY_MODEL_71c059a0f3c246f3a40d55744331daaa"
      ],
      "layout": "IPY_MODEL_dde7ae43ef954ef1b901c80f0a4e11fd"
     }
    },
    "26e7bab0f3bf4797bfcef83dcace24f0": {
     "model_module": "@jupyter-widgets/base",
     "model_name": "LayoutModel",
     "state": {
      "_model_module": "@jupyter-widgets/base",
      "_model_module_version": "1.2.0",
      "_model_name": "LayoutModel",
      "_view_count": null,
      "_view_module": "@jupyter-widgets/base",
      "_view_module_version": "1.2.0",
      "_view_name": "LayoutView",
      "align_content": null,
      "align_items": null,
      "align_self": null,
      "border": null,
      "bottom": null,
      "display": null,
      "flex": null,
      "flex_flow": null,
      "grid_area": null,
      "grid_auto_columns": null,
      "grid_auto_flow": null,
      "grid_auto_rows": null,
      "grid_column": null,
      "grid_gap": null,
      "grid_row": null,
      "grid_template_areas": null,
      "grid_template_columns": null,
      "grid_template_rows": null,
      "height": null,
      "justify_content": null,
      "justify_items": null,
      "left": null,
      "margin": null,
      "max_height": null,
      "max_width": null,
      "min_height": null,
      "min_width": null,
      "object_fit": null,
      "object_position": null,
      "order": null,
      "overflow": null,
      "overflow_x": null,
      "overflow_y": null,
      "padding": null,
      "right": null,
      "top": null,
      "visibility": null,
      "width": null
     }
    },
    "2a6e1185a6a247f5acba8111824ad36b": {
     "model_module": "@jupyter-widgets/controls",
     "model_name": "ProgressStyleModel",
     "state": {
      "_model_module": "@jupyter-widgets/controls",
      "_model_module_version": "1.5.0",
      "_model_name": "ProgressStyleModel",
      "_view_count": null,
      "_view_module": "@jupyter-widgets/base",
      "_view_module_version": "1.2.0",
      "_view_name": "StyleView",
      "bar_color": null,
      "description_width": "initial"
     }
    },
    "2ca2f397c4ef405bba27ae2b1415cada": {
     "model_module": "@jupyter-widgets/controls",
     "model_name": "DescriptionStyleModel",
     "state": {
      "_model_module": "@jupyter-widgets/controls",
      "_model_module_version": "1.5.0",
      "_model_name": "DescriptionStyleModel",
      "_view_count": null,
      "_view_module": "@jupyter-widgets/base",
      "_view_module_version": "1.2.0",
      "_view_name": "StyleView",
      "description_width": ""
     }
    },
    "2cd13e03a2ab45dc8570c8c739a613b4": {
     "model_module": "@jupyter-widgets/base",
     "model_name": "LayoutModel",
     "state": {
      "_model_module": "@jupyter-widgets/base",
      "_model_module_version": "1.2.0",
      "_model_name": "LayoutModel",
      "_view_count": null,
      "_view_module": "@jupyter-widgets/base",
      "_view_module_version": "1.2.0",
      "_view_name": "LayoutView",
      "align_content": null,
      "align_items": null,
      "align_self": null,
      "border": null,
      "bottom": null,
      "display": null,
      "flex": null,
      "flex_flow": null,
      "grid_area": null,
      "grid_auto_columns": null,
      "grid_auto_flow": null,
      "grid_auto_rows": null,
      "grid_column": null,
      "grid_gap": null,
      "grid_row": null,
      "grid_template_areas": null,
      "grid_template_columns": null,
      "grid_template_rows": null,
      "height": null,
      "justify_content": null,
      "justify_items": null,
      "left": null,
      "margin": null,
      "max_height": null,
      "max_width": null,
      "min_height": null,
      "min_width": null,
      "object_fit": null,
      "object_position": null,
      "order": null,
      "overflow": null,
      "overflow_x": null,
      "overflow_y": null,
      "padding": null,
      "right": null,
      "top": null,
      "visibility": null,
      "width": null
     }
    },
    "2f18d89c684343b69c3f44ffbb9b42a0": {
     "model_module": "@jupyter-widgets/controls",
     "model_name": "DescriptionStyleModel",
     "state": {
      "_model_module": "@jupyter-widgets/controls",
      "_model_module_version": "1.5.0",
      "_model_name": "DescriptionStyleModel",
      "_view_count": null,
      "_view_module": "@jupyter-widgets/base",
      "_view_module_version": "1.2.0",
      "_view_name": "StyleView",
      "description_width": ""
     }
    },
    "2f5406546970425282a881b5d2f7c248": {
     "model_module": "@jupyter-widgets/base",
     "model_name": "LayoutModel",
     "state": {
      "_model_module": "@jupyter-widgets/base",
      "_model_module_version": "1.2.0",
      "_model_name": "LayoutModel",
      "_view_count": null,
      "_view_module": "@jupyter-widgets/base",
      "_view_module_version": "1.2.0",
      "_view_name": "LayoutView",
      "align_content": null,
      "align_items": null,
      "align_self": null,
      "border": null,
      "bottom": null,
      "display": null,
      "flex": null,
      "flex_flow": null,
      "grid_area": null,
      "grid_auto_columns": null,
      "grid_auto_flow": null,
      "grid_auto_rows": null,
      "grid_column": null,
      "grid_gap": null,
      "grid_row": null,
      "grid_template_areas": null,
      "grid_template_columns": null,
      "grid_template_rows": null,
      "height": null,
      "justify_content": null,
      "justify_items": null,
      "left": null,
      "margin": null,
      "max_height": null,
      "max_width": null,
      "min_height": null,
      "min_width": null,
      "object_fit": null,
      "object_position": null,
      "order": null,
      "overflow": null,
      "overflow_x": null,
      "overflow_y": null,
      "padding": null,
      "right": null,
      "top": null,
      "visibility": null,
      "width": null
     }
    },
    "2f727c76652944e3892dd584bea11af2": {
     "model_module": "@jupyter-widgets/controls",
     "model_name": "ProgressStyleModel",
     "state": {
      "_model_module": "@jupyter-widgets/controls",
      "_model_module_version": "1.5.0",
      "_model_name": "ProgressStyleModel",
      "_view_count": null,
      "_view_module": "@jupyter-widgets/base",
      "_view_module_version": "1.2.0",
      "_view_name": "StyleView",
      "bar_color": null,
      "description_width": "initial"
     }
    },
    "2fd148d5587b4139919b0158f9dad71e": {
     "model_module": "@jupyter-widgets/base",
     "model_name": "LayoutModel",
     "state": {
      "_model_module": "@jupyter-widgets/base",
      "_model_module_version": "1.2.0",
      "_model_name": "LayoutModel",
      "_view_count": null,
      "_view_module": "@jupyter-widgets/base",
      "_view_module_version": "1.2.0",
      "_view_name": "LayoutView",
      "align_content": null,
      "align_items": null,
      "align_self": null,
      "border": null,
      "bottom": null,
      "display": null,
      "flex": null,
      "flex_flow": null,
      "grid_area": null,
      "grid_auto_columns": null,
      "grid_auto_flow": null,
      "grid_auto_rows": null,
      "grid_column": null,
      "grid_gap": null,
      "grid_row": null,
      "grid_template_areas": null,
      "grid_template_columns": null,
      "grid_template_rows": null,
      "height": null,
      "justify_content": null,
      "justify_items": null,
      "left": null,
      "margin": null,
      "max_height": null,
      "max_width": null,
      "min_height": null,
      "min_width": null,
      "object_fit": null,
      "object_position": null,
      "order": null,
      "overflow": null,
      "overflow_x": null,
      "overflow_y": null,
      "padding": null,
      "right": null,
      "top": null,
      "visibility": null,
      "width": null
     }
    },
    "304e9130c12f4110941bfbd3db49a28c": {
     "model_module": "@jupyter-widgets/controls",
     "model_name": "HBoxModel",
     "state": {
      "_dom_classes": [],
      "_model_module": "@jupyter-widgets/controls",
      "_model_module_version": "1.5.0",
      "_model_name": "HBoxModel",
      "_view_count": null,
      "_view_module": "@jupyter-widgets/controls",
      "_view_module_version": "1.5.0",
      "_view_name": "HBoxView",
      "box_style": "",
      "children": [
       "IPY_MODEL_75e00c38605f44cfb584067db1160349",
       "IPY_MODEL_8c07a528fc4a4e108b393ab117fe2e46"
      ],
      "layout": "IPY_MODEL_5e6bae23461b4378b6e5fc890fe6bc97"
     }
    },
    "3133b378b9294a759c8dfb786ed8f815": {
     "model_module": "@jupyter-widgets/controls",
     "model_name": "ProgressStyleModel",
     "state": {
      "_model_module": "@jupyter-widgets/controls",
      "_model_module_version": "1.5.0",
      "_model_name": "ProgressStyleModel",
      "_view_count": null,
      "_view_module": "@jupyter-widgets/base",
      "_view_module_version": "1.2.0",
      "_view_name": "StyleView",
      "bar_color": null,
      "description_width": "initial"
     }
    },
    "330226a977694de1bd88c0aa3789be47": {
     "model_module": "@jupyter-widgets/base",
     "model_name": "LayoutModel",
     "state": {
      "_model_module": "@jupyter-widgets/base",
      "_model_module_version": "1.2.0",
      "_model_name": "LayoutModel",
      "_view_count": null,
      "_view_module": "@jupyter-widgets/base",
      "_view_module_version": "1.2.0",
      "_view_name": "LayoutView",
      "align_content": null,
      "align_items": null,
      "align_self": null,
      "border": null,
      "bottom": null,
      "display": null,
      "flex": null,
      "flex_flow": null,
      "grid_area": null,
      "grid_auto_columns": null,
      "grid_auto_flow": null,
      "grid_auto_rows": null,
      "grid_column": null,
      "grid_gap": null,
      "grid_row": null,
      "grid_template_areas": null,
      "grid_template_columns": null,
      "grid_template_rows": null,
      "height": null,
      "justify_content": null,
      "justify_items": null,
      "left": null,
      "margin": null,
      "max_height": null,
      "max_width": null,
      "min_height": null,
      "min_width": null,
      "object_fit": null,
      "object_position": null,
      "order": null,
      "overflow": null,
      "overflow_x": null,
      "overflow_y": null,
      "padding": null,
      "right": null,
      "top": null,
      "visibility": null,
      "width": null
     }
    },
    "33c92b5afd1d4b6d88016aabfb434194": {
     "model_module": "@jupyter-widgets/controls",
     "model_name": "FloatProgressModel",
     "state": {
      "_dom_classes": [],
      "_model_module": "@jupyter-widgets/controls",
      "_model_module_version": "1.5.0",
      "_model_name": "FloatProgressModel",
      "_view_count": null,
      "_view_module": "@jupyter-widgets/controls",
      "_view_module_version": "1.5.0",
      "_view_name": "ProgressView",
      "bar_style": "success",
      "description": "100%",
      "description_tooltip": null,
      "layout": "IPY_MODEL_3dc9ea77b842455a91f00e9ca9f41948",
      "max": 1647,
      "min": 0,
      "orientation": "horizontal",
      "style": "IPY_MODEL_45f0a2f361da4608bc8314a27657a56c",
      "value": 1647
     }
    },
    "348ef54c80b2449f8a3bc950cccd62cc": {
     "model_module": "@jupyter-widgets/controls",
     "model_name": "HBoxModel",
     "state": {
      "_dom_classes": [],
      "_model_module": "@jupyter-widgets/controls",
      "_model_module_version": "1.5.0",
      "_model_name": "HBoxModel",
      "_view_count": null,
      "_view_module": "@jupyter-widgets/controls",
      "_view_module_version": "1.5.0",
      "_view_name": "HBoxView",
      "box_style": "",
      "children": [
       "IPY_MODEL_7edbecaccdd94ede8fddc0e1807e777e",
       "IPY_MODEL_5e3aad95e52f4be2bd670d1345398f1b"
      ],
      "layout": "IPY_MODEL_b78413dcc0584a0c8f71731a06aaa1b8"
     }
    },
    "389e43e47a734193a507817ebad955f7": {
     "model_module": "@jupyter-widgets/base",
     "model_name": "LayoutModel",
     "state": {
      "_model_module": "@jupyter-widgets/base",
      "_model_module_version": "1.2.0",
      "_model_name": "LayoutModel",
      "_view_count": null,
      "_view_module": "@jupyter-widgets/base",
      "_view_module_version": "1.2.0",
      "_view_name": "LayoutView",
      "align_content": null,
      "align_items": null,
      "align_self": null,
      "border": null,
      "bottom": null,
      "display": null,
      "flex": null,
      "flex_flow": null,
      "grid_area": null,
      "grid_auto_columns": null,
      "grid_auto_flow": null,
      "grid_auto_rows": null,
      "grid_column": null,
      "grid_gap": null,
      "grid_row": null,
      "grid_template_areas": null,
      "grid_template_columns": null,
      "grid_template_rows": null,
      "height": null,
      "justify_content": null,
      "justify_items": null,
      "left": null,
      "margin": null,
      "max_height": null,
      "max_width": null,
      "min_height": null,
      "min_width": null,
      "object_fit": null,
      "object_position": null,
      "order": null,
      "overflow": null,
      "overflow_x": null,
      "overflow_y": null,
      "padding": null,
      "right": null,
      "top": null,
      "visibility": null,
      "width": null
     }
    },
    "3bdb4058f40f40e3a10e323325a64638": {
     "model_module": "@jupyter-widgets/controls",
     "model_name": "HTMLModel",
     "state": {
      "_dom_classes": [],
      "_model_module": "@jupyter-widgets/controls",
      "_model_module_version": "1.5.0",
      "_model_name": "HTMLModel",
      "_view_count": null,
      "_view_module": "@jupyter-widgets/controls",
      "_view_module_version": "1.5.0",
      "_view_name": "HTMLView",
      "description": "",
      "description_tooltip": null,
      "layout": "IPY_MODEL_d7f27e9cf8a844349ca90393e0c49a03",
      "placeholder": "​",
      "style": "IPY_MODEL_751ae6b9e2da4b85be9600561485f1ac",
      "value": " 412/412 [03:04&lt;00:00,  2.23ex/s]"
     }
    },
    "3d929b9e2518402b81a71757ffb753d2": {
     "model_module": "@jupyter-widgets/base",
     "model_name": "LayoutModel",
     "state": {
      "_model_module": "@jupyter-widgets/base",
      "_model_module_version": "1.2.0",
      "_model_name": "LayoutModel",
      "_view_count": null,
      "_view_module": "@jupyter-widgets/base",
      "_view_module_version": "1.2.0",
      "_view_name": "LayoutView",
      "align_content": null,
      "align_items": null,
      "align_self": null,
      "border": null,
      "bottom": null,
      "display": null,
      "flex": null,
      "flex_flow": null,
      "grid_area": null,
      "grid_auto_columns": null,
      "grid_auto_flow": null,
      "grid_auto_rows": null,
      "grid_column": null,
      "grid_gap": null,
      "grid_row": null,
      "grid_template_areas": null,
      "grid_template_columns": null,
      "grid_template_rows": null,
      "height": null,
      "justify_content": null,
      "justify_items": null,
      "left": null,
      "margin": null,
      "max_height": null,
      "max_width": null,
      "min_height": null,
      "min_width": null,
      "object_fit": null,
      "object_position": null,
      "order": null,
      "overflow": null,
      "overflow_x": null,
      "overflow_y": null,
      "padding": null,
      "right": null,
      "top": null,
      "visibility": null,
      "width": null
     }
    },
    "3dc9ea77b842455a91f00e9ca9f41948": {
     "model_module": "@jupyter-widgets/base",
     "model_name": "LayoutModel",
     "state": {
      "_model_module": "@jupyter-widgets/base",
      "_model_module_version": "1.2.0",
      "_model_name": "LayoutModel",
      "_view_count": null,
      "_view_module": "@jupyter-widgets/base",
      "_view_module_version": "1.2.0",
      "_view_name": "LayoutView",
      "align_content": null,
      "align_items": null,
      "align_self": null,
      "border": null,
      "bottom": null,
      "display": null,
      "flex": null,
      "flex_flow": null,
      "grid_area": null,
      "grid_auto_columns": null,
      "grid_auto_flow": null,
      "grid_auto_rows": null,
      "grid_column": null,
      "grid_gap": null,
      "grid_row": null,
      "grid_template_areas": null,
      "grid_template_columns": null,
      "grid_template_rows": null,
      "height": null,
      "justify_content": null,
      "justify_items": null,
      "left": null,
      "margin": null,
      "max_height": null,
      "max_width": null,
      "min_height": null,
      "min_width": null,
      "object_fit": null,
      "object_position": null,
      "order": null,
      "overflow": null,
      "overflow_x": null,
      "overflow_y": null,
      "padding": null,
      "right": null,
      "top": null,
      "visibility": null,
      "width": null
     }
    },
    "3e2cd59ac697495f8db14b894b783f95": {
     "model_module": "@jupyter-widgets/base",
     "model_name": "LayoutModel",
     "state": {
      "_model_module": "@jupyter-widgets/base",
      "_model_module_version": "1.2.0",
      "_model_name": "LayoutModel",
      "_view_count": null,
      "_view_module": "@jupyter-widgets/base",
      "_view_module_version": "1.2.0",
      "_view_name": "LayoutView",
      "align_content": null,
      "align_items": null,
      "align_self": null,
      "border": null,
      "bottom": null,
      "display": null,
      "flex": null,
      "flex_flow": null,
      "grid_area": null,
      "grid_auto_columns": null,
      "grid_auto_flow": null,
      "grid_auto_rows": null,
      "grid_column": null,
      "grid_gap": null,
      "grid_row": null,
      "grid_template_areas": null,
      "grid_template_columns": null,
      "grid_template_rows": null,
      "height": null,
      "justify_content": null,
      "justify_items": null,
      "left": null,
      "margin": null,
      "max_height": null,
      "max_width": null,
      "min_height": null,
      "min_width": null,
      "object_fit": null,
      "object_position": null,
      "order": null,
      "overflow": null,
      "overflow_x": null,
      "overflow_y": null,
      "padding": null,
      "right": null,
      "top": null,
      "visibility": null,
      "width": null
     }
    },
    "3e3a022a9f304b0f9f7ef067fcee1e56": {
     "model_module": "@jupyter-widgets/base",
     "model_name": "LayoutModel",
     "state": {
      "_model_module": "@jupyter-widgets/base",
      "_model_module_version": "1.2.0",
      "_model_name": "LayoutModel",
      "_view_count": null,
      "_view_module": "@jupyter-widgets/base",
      "_view_module_version": "1.2.0",
      "_view_name": "LayoutView",
      "align_content": null,
      "align_items": null,
      "align_self": null,
      "border": null,
      "bottom": null,
      "display": null,
      "flex": null,
      "flex_flow": null,
      "grid_area": null,
      "grid_auto_columns": null,
      "grid_auto_flow": null,
      "grid_auto_rows": null,
      "grid_column": null,
      "grid_gap": null,
      "grid_row": null,
      "grid_template_areas": null,
      "grid_template_columns": null,
      "grid_template_rows": null,
      "height": null,
      "justify_content": null,
      "justify_items": null,
      "left": null,
      "margin": null,
      "max_height": null,
      "max_width": null,
      "min_height": null,
      "min_width": null,
      "object_fit": null,
      "object_position": null,
      "order": null,
      "overflow": null,
      "overflow_x": null,
      "overflow_y": null,
      "padding": null,
      "right": null,
      "top": null,
      "visibility": null,
      "width": null
     }
    },
    "3ec3285e9f3e4a5abcefabb7f140f4a3": {
     "model_module": "@jupyter-widgets/controls",
     "model_name": "ProgressStyleModel",
     "state": {
      "_model_module": "@jupyter-widgets/controls",
      "_model_module_version": "1.5.0",
      "_model_name": "ProgressStyleModel",
      "_view_count": null,
      "_view_module": "@jupyter-widgets/base",
      "_view_module_version": "1.2.0",
      "_view_name": "StyleView",
      "bar_color": null,
      "description_width": "initial"
     }
    },
    "3f780f0aa8834fc189b292e0474e2ffa": {
     "model_module": "@jupyter-widgets/controls",
     "model_name": "HTMLModel",
     "state": {
      "_dom_classes": [],
      "_model_module": "@jupyter-widgets/controls",
      "_model_module_version": "1.5.0",
      "_model_name": "HTMLModel",
      "_view_count": null,
      "_view_module": "@jupyter-widgets/controls",
      "_view_module_version": "1.5.0",
      "_view_name": "HTMLView",
      "description": "",
      "description_tooltip": null,
      "layout": "IPY_MODEL_a868dea9d9b047a4b853b390e138e4c1",
      "placeholder": "​",
      "style": "IPY_MODEL_ec36a94ee2574ac8b227ccaefdee5520",
      "value": " 52/52 [00:31&lt;00:00,  1.67ba/s]"
     }
    },
    "405b5de4ae854cf9896f63d15f2207dd": {
     "model_module": "@jupyter-widgets/controls",
     "model_name": "DescriptionStyleModel",
     "state": {
      "_model_module": "@jupyter-widgets/controls",
      "_model_module_version": "1.5.0",
      "_model_name": "DescriptionStyleModel",
      "_view_count": null,
      "_view_module": "@jupyter-widgets/base",
      "_view_module_version": "1.2.0",
      "_view_name": "StyleView",
      "description_width": ""
     }
    },
    "416badb151ee4660b53fdbc136e0c8fb": {
     "model_module": "@jupyter-widgets/controls",
     "model_name": "HTMLModel",
     "state": {
      "_dom_classes": [],
      "_model_module": "@jupyter-widgets/controls",
      "_model_module_version": "1.5.0",
      "_model_name": "HTMLModel",
      "_view_count": null,
      "_view_module": "@jupyter-widgets/controls",
      "_view_module_version": "1.5.0",
      "_view_name": "HTMLView",
      "description": "",
      "description_tooltip": null,
      "layout": "IPY_MODEL_0f3756509e3b405d87936f599b153de2",
      "placeholder": "​",
      "style": "IPY_MODEL_824569c63ec445c08362659ca228dd2a",
      "value": " 412/412 [03:01&lt;00:00,  2.28ex/s]"
     }
    },
    "430c3c079d0e4006b90e72df7986ffb0": {
     "model_module": "@jupyter-widgets/base",
     "model_name": "LayoutModel",
     "state": {
      "_model_module": "@jupyter-widgets/base",
      "_model_module_version": "1.2.0",
      "_model_name": "LayoutModel",
      "_view_count": null,
      "_view_module": "@jupyter-widgets/base",
      "_view_module_version": "1.2.0",
      "_view_name": "LayoutView",
      "align_content": null,
      "align_items": null,
      "align_self": null,
      "border": null,
      "bottom": null,
      "display": null,
      "flex": null,
      "flex_flow": null,
      "grid_area": null,
      "grid_auto_columns": null,
      "grid_auto_flow": null,
      "grid_auto_rows": null,
      "grid_column": null,
      "grid_gap": null,
      "grid_row": null,
      "grid_template_areas": null,
      "grid_template_columns": null,
      "grid_template_rows": null,
      "height": null,
      "justify_content": null,
      "justify_items": null,
      "left": null,
      "margin": null,
      "max_height": null,
      "max_width": null,
      "min_height": null,
      "min_width": null,
      "object_fit": null,
      "object_position": null,
      "order": null,
      "overflow": null,
      "overflow_x": null,
      "overflow_y": null,
      "padding": null,
      "right": null,
      "top": null,
      "visibility": null,
      "width": null
     }
    },
    "4382726ef043441a9b1a4a647d84f242": {
     "model_module": "@jupyter-widgets/controls",
     "model_name": "ProgressStyleModel",
     "state": {
      "_model_module": "@jupyter-widgets/controls",
      "_model_module_version": "1.5.0",
      "_model_name": "ProgressStyleModel",
      "_view_count": null,
      "_view_module": "@jupyter-widgets/base",
      "_view_module_version": "1.2.0",
      "_view_name": "StyleView",
      "bar_color": null,
      "description_width": "initial"
     }
    },
    "45f0a2f361da4608bc8314a27657a56c": {
     "model_module": "@jupyter-widgets/controls",
     "model_name": "ProgressStyleModel",
     "state": {
      "_model_module": "@jupyter-widgets/controls",
      "_model_module_version": "1.5.0",
      "_model_name": "ProgressStyleModel",
      "_view_count": null,
      "_view_module": "@jupyter-widgets/base",
      "_view_module_version": "1.2.0",
      "_view_name": "StyleView",
      "bar_color": null,
      "description_width": "initial"
     }
    },
    "4797f1acd9924b4e97f12f964c83078c": {
     "model_module": "@jupyter-widgets/controls",
     "model_name": "HBoxModel",
     "state": {
      "_dom_classes": [],
      "_model_module": "@jupyter-widgets/controls",
      "_model_module_version": "1.5.0",
      "_model_name": "HBoxModel",
      "_view_count": null,
      "_view_module": "@jupyter-widgets/controls",
      "_view_module_version": "1.5.0",
      "_view_name": "HBoxView",
      "box_style": "",
      "children": [
       "IPY_MODEL_5370c0f2d54b45c0a89f11fb5b70cd4b",
       "IPY_MODEL_018c1f8e198e4df4b480e609bd1be602"
      ],
      "layout": "IPY_MODEL_73940df84ffd4e0f96637342e9fd12b7"
     }
    },
    "47a6c3c427614f21a6dab1c048e5dd37": {
     "model_module": "@jupyter-widgets/base",
     "model_name": "LayoutModel",
     "state": {
      "_model_module": "@jupyter-widgets/base",
      "_model_module_version": "1.2.0",
      "_model_name": "LayoutModel",
      "_view_count": null,
      "_view_module": "@jupyter-widgets/base",
      "_view_module_version": "1.2.0",
      "_view_name": "LayoutView",
      "align_content": null,
      "align_items": null,
      "align_self": null,
      "border": null,
      "bottom": null,
      "display": null,
      "flex": null,
      "flex_flow": null,
      "grid_area": null,
      "grid_auto_columns": null,
      "grid_auto_flow": null,
      "grid_auto_rows": null,
      "grid_column": null,
      "grid_gap": null,
      "grid_row": null,
      "grid_template_areas": null,
      "grid_template_columns": null,
      "grid_template_rows": null,
      "height": null,
      "justify_content": null,
      "justify_items": null,
      "left": null,
      "margin": null,
      "max_height": null,
      "max_width": null,
      "min_height": null,
      "min_width": null,
      "object_fit": null,
      "object_position": null,
      "order": null,
      "overflow": null,
      "overflow_x": null,
      "overflow_y": null,
      "padding": null,
      "right": null,
      "top": null,
      "visibility": null,
      "width": null
     }
    },
    "491fd969d61a478f8e85ffcd3e1a3e20": {
     "model_module": "@jupyter-widgets/base",
     "model_name": "LayoutModel",
     "state": {
      "_model_module": "@jupyter-widgets/base",
      "_model_module_version": "1.2.0",
      "_model_name": "LayoutModel",
      "_view_count": null,
      "_view_module": "@jupyter-widgets/base",
      "_view_module_version": "1.2.0",
      "_view_name": "LayoutView",
      "align_content": null,
      "align_items": null,
      "align_self": null,
      "border": null,
      "bottom": null,
      "display": null,
      "flex": null,
      "flex_flow": null,
      "grid_area": null,
      "grid_auto_columns": null,
      "grid_auto_flow": null,
      "grid_auto_rows": null,
      "grid_column": null,
      "grid_gap": null,
      "grid_row": null,
      "grid_template_areas": null,
      "grid_template_columns": null,
      "grid_template_rows": null,
      "height": null,
      "justify_content": null,
      "justify_items": null,
      "left": null,
      "margin": null,
      "max_height": null,
      "max_width": null,
      "min_height": null,
      "min_width": null,
      "object_fit": null,
      "object_position": null,
      "order": null,
      "overflow": null,
      "overflow_x": null,
      "overflow_y": null,
      "padding": null,
      "right": null,
      "top": null,
      "visibility": null,
      "width": null
     }
    },
    "49defa4284554baf85f32de242b22709": {
     "model_module": "@jupyter-widgets/controls",
     "model_name": "ProgressStyleModel",
     "state": {
      "_model_module": "@jupyter-widgets/controls",
      "_model_module_version": "1.5.0",
      "_model_name": "ProgressStyleModel",
      "_view_count": null,
      "_view_module": "@jupyter-widgets/base",
      "_view_module_version": "1.2.0",
      "_view_name": "StyleView",
      "bar_color": null,
      "description_width": "initial"
     }
    },
    "4abe2731ec624729b401d60a392cae63": {
     "model_module": "@jupyter-widgets/base",
     "model_name": "LayoutModel",
     "state": {
      "_model_module": "@jupyter-widgets/base",
      "_model_module_version": "1.2.0",
      "_model_name": "LayoutModel",
      "_view_count": null,
      "_view_module": "@jupyter-widgets/base",
      "_view_module_version": "1.2.0",
      "_view_name": "LayoutView",
      "align_content": null,
      "align_items": null,
      "align_self": null,
      "border": null,
      "bottom": null,
      "display": null,
      "flex": null,
      "flex_flow": null,
      "grid_area": null,
      "grid_auto_columns": null,
      "grid_auto_flow": null,
      "grid_auto_rows": null,
      "grid_column": null,
      "grid_gap": null,
      "grid_row": null,
      "grid_template_areas": null,
      "grid_template_columns": null,
      "grid_template_rows": null,
      "height": null,
      "justify_content": null,
      "justify_items": null,
      "left": null,
      "margin": null,
      "max_height": null,
      "max_width": null,
      "min_height": null,
      "min_width": null,
      "object_fit": null,
      "object_position": null,
      "order": null,
      "overflow": null,
      "overflow_x": null,
      "overflow_y": null,
      "padding": null,
      "right": null,
      "top": null,
      "visibility": null,
      "width": null
     }
    },
    "4c0ad31e73234e46aac0a297ec18bdeb": {
     "model_module": "@jupyter-widgets/controls",
     "model_name": "ProgressStyleModel",
     "state": {
      "_model_module": "@jupyter-widgets/controls",
      "_model_module_version": "1.5.0",
      "_model_name": "ProgressStyleModel",
      "_view_count": null,
      "_view_module": "@jupyter-widgets/base",
      "_view_module_version": "1.2.0",
      "_view_name": "StyleView",
      "bar_color": null,
      "description_width": "initial"
     }
    },
    "4db5037af3f64a3a8a8a1203018a80ff": {
     "model_module": "@jupyter-widgets/controls",
     "model_name": "FloatProgressModel",
     "state": {
      "_dom_classes": [],
      "_model_module": "@jupyter-widgets/controls",
      "_model_module_version": "1.5.0",
      "_model_name": "FloatProgressModel",
      "_view_count": null,
      "_view_module": "@jupyter-widgets/controls",
      "_view_module_version": "1.5.0",
      "_view_name": "ProgressView",
      "bar_style": "info",
      "description": "",
      "description_tooltip": null,
      "layout": "IPY_MODEL_c0e6b6e6395d4dbd827eb1c0de1ad21a",
      "max": 1,
      "min": 0,
      "orientation": "horizontal",
      "style": "IPY_MODEL_2a6e1185a6a247f5acba8111824ad36b",
      "value": 1
     }
    },
    "4e1a725fd90b45e280b8b0028ba65250": {
     "model_module": "@jupyter-widgets/controls",
     "model_name": "HTMLModel",
     "state": {
      "_dom_classes": [],
      "_model_module": "@jupyter-widgets/controls",
      "_model_module_version": "1.5.0",
      "_model_name": "HTMLModel",
      "_view_count": null,
      "_view_module": "@jupyter-widgets/controls",
      "_view_module_version": "1.5.0",
      "_view_name": "HTMLView",
      "description": "",
      "description_tooltip": null,
      "layout": "IPY_MODEL_491fd969d61a478f8e85ffcd3e1a3e20",
      "placeholder": "​",
      "style": "IPY_MODEL_9f79629ad6a94201acf3283862d1ae17",
      "value": " 869/869 [05:48&lt;00:00,  2.49ex/s]"
     }
    },
    "4f8957dc035d4c1a9e8630fc8ab8cd10": {
     "model_module": "@jupyter-widgets/controls",
     "model_name": "FloatProgressModel",
     "state": {
      "_dom_classes": [],
      "_model_module": "@jupyter-widgets/controls",
      "_model_module_version": "1.5.0",
      "_model_name": "FloatProgressModel",
      "_view_count": null,
      "_view_module": "@jupyter-widgets/controls",
      "_view_module_version": "1.5.0",
      "_view_name": "ProgressView",
      "bar_style": "success",
      "description": "#1: 100%",
      "description_tooltip": null,
      "layout": "IPY_MODEL_47a6c3c427614f21a6dab1c048e5dd37",
      "max": 870,
      "min": 0,
      "orientation": "horizontal",
      "style": "IPY_MODEL_596aea0362924c7db583203268dd5a3e",
      "value": 870
     }
    },
    "4fb7347e9ca542e6ab9003bf4db218e0": {
     "model_module": "@jupyter-widgets/controls",
     "model_name": "HTMLModel",
     "state": {
      "_dom_classes": [],
      "_model_module": "@jupyter-widgets/controls",
      "_model_module_version": "1.5.0",
      "_model_name": "HTMLModel",
      "_view_count": null,
      "_view_module": "@jupyter-widgets/controls",
      "_view_module_version": "1.5.0",
      "_view_name": "HTMLView",
      "description": "",
      "description_tooltip": null,
      "layout": "IPY_MODEL_0987aac282af415da2fbc9dc1b4d5069",
      "placeholder": "​",
      "style": "IPY_MODEL_6d4a26d876fb4ac6b5948a09945bdc6b",
      "value": " 109/109 [00:58&lt;00:00,  1.88ba/s]"
     }
    },
    "4ff7ccffc36a4a0f93031f5cdc3b718d": {
     "model_module": "@jupyter-widgets/controls",
     "model_name": "ProgressStyleModel",
     "state": {
      "_model_module": "@jupyter-widgets/controls",
      "_model_module_version": "1.5.0",
      "_model_name": "ProgressStyleModel",
      "_view_count": null,
      "_view_module": "@jupyter-widgets/base",
      "_view_module_version": "1.2.0",
      "_view_name": "StyleView",
      "bar_color": null,
      "description_width": "initial"
     }
    },
    "5071a31d06f544a5b7340a4e863d8fdf": {
     "model_module": "@jupyter-widgets/controls",
     "model_name": "FloatProgressModel",
     "state": {
      "_dom_classes": [],
      "_model_module": "@jupyter-widgets/controls",
      "_model_module_version": "1.5.0",
      "_model_name": "FloatProgressModel",
      "_view_count": null,
      "_view_module": "@jupyter-widgets/controls",
      "_view_module_version": "1.5.0",
      "_view_name": "ProgressView",
      "bar_style": "success",
      "description": "#3: 100%",
      "description_tooltip": null,
      "layout": "IPY_MODEL_b2473405490e4556bf30c0cc81237aa5",
      "max": 109,
      "min": 0,
      "orientation": "horizontal",
      "style": "IPY_MODEL_49defa4284554baf85f32de242b22709",
      "value": 109
     }
    },
    "530f66ac087e4f8f979fcaa33941c60d": {
     "model_module": "@jupyter-widgets/controls",
     "model_name": "ProgressStyleModel",
     "state": {
      "_model_module": "@jupyter-widgets/controls",
      "_model_module_version": "1.5.0",
      "_model_name": "ProgressStyleModel",
      "_view_count": null,
      "_view_module": "@jupyter-widgets/base",
      "_view_module_version": "1.2.0",
      "_view_name": "StyleView",
      "bar_color": null,
      "description_width": "initial"
     }
    },
    "5370c0f2d54b45c0a89f11fb5b70cd4b": {
     "model_module": "@jupyter-widgets/controls",
     "model_name": "FloatProgressModel",
     "state": {
      "_dom_classes": [],
      "_model_module": "@jupyter-widgets/controls",
      "_model_module_version": "1.5.0",
      "_model_name": "FloatProgressModel",
      "_view_count": null,
      "_view_module": "@jupyter-widgets/controls",
      "_view_module_version": "1.5.0",
      "_view_name": "ProgressView",
      "bar_style": "success",
      "description": "#0: 100%",
      "description_tooltip": null,
      "layout": "IPY_MODEL_020bdb330b0d40f5b89697ff37025f69",
      "max": 109,
      "min": 0,
      "orientation": "horizontal",
      "style": "IPY_MODEL_fa7926bbe77e48b3a0648b45f5d2dc7a",
      "value": 109
     }
    },
    "540510088d3947f1b3cf6f4c983c1a53": {
     "model_module": "@jupyter-widgets/base",
     "model_name": "LayoutModel",
     "state": {
      "_model_module": "@jupyter-widgets/base",
      "_model_module_version": "1.2.0",
      "_model_name": "LayoutModel",
      "_view_count": null,
      "_view_module": "@jupyter-widgets/base",
      "_view_module_version": "1.2.0",
      "_view_name": "LayoutView",
      "align_content": null,
      "align_items": null,
      "align_self": null,
      "border": null,
      "bottom": null,
      "display": null,
      "flex": null,
      "flex_flow": null,
      "grid_area": null,
      "grid_auto_columns": null,
      "grid_auto_flow": null,
      "grid_auto_rows": null,
      "grid_column": null,
      "grid_gap": null,
      "grid_row": null,
      "grid_template_areas": null,
      "grid_template_columns": null,
      "grid_template_rows": null,
      "height": null,
      "justify_content": null,
      "justify_items": null,
      "left": null,
      "margin": null,
      "max_height": null,
      "max_width": null,
      "min_height": null,
      "min_width": null,
      "object_fit": null,
      "object_position": null,
      "order": null,
      "overflow": null,
      "overflow_x": null,
      "overflow_y": null,
      "padding": null,
      "right": null,
      "top": null,
      "visibility": null,
      "width": null
     }
    },
    "542027ba12f444d586e8072452badea0": {
     "model_module": "@jupyter-widgets/controls",
     "model_name": "HTMLModel",
     "state": {
      "_dom_classes": [],
      "_model_module": "@jupyter-widgets/controls",
      "_model_module_version": "1.5.0",
      "_model_name": "HTMLModel",
      "_view_count": null,
      "_view_module": "@jupyter-widgets/controls",
      "_view_module_version": "1.5.0",
      "_view_name": "HTMLView",
      "description": "",
      "description_tooltip": null,
      "layout": "IPY_MODEL_bc41384bbae04044b9780651c6b5a47c",
      "placeholder": "​",
      "style": "IPY_MODEL_02bdb06c176145feaa842b97ae58609c",
      "value": " 109/109 [00:58&lt;00:00,  1.88ba/s]"
     }
    },
    "55071fc1b7484620803aeba453e9af72": {
     "model_module": "@jupyter-widgets/base",
     "model_name": "LayoutModel",
     "state": {
      "_model_module": "@jupyter-widgets/base",
      "_model_module_version": "1.2.0",
      "_model_name": "LayoutModel",
      "_view_count": null,
      "_view_module": "@jupyter-widgets/base",
      "_view_module_version": "1.2.0",
      "_view_name": "LayoutView",
      "align_content": null,
      "align_items": null,
      "align_self": null,
      "border": null,
      "bottom": null,
      "display": null,
      "flex": null,
      "flex_flow": null,
      "grid_area": null,
      "grid_auto_columns": null,
      "grid_auto_flow": null,
      "grid_auto_rows": null,
      "grid_column": null,
      "grid_gap": null,
      "grid_row": null,
      "grid_template_areas": null,
      "grid_template_columns": null,
      "grid_template_rows": null,
      "height": null,
      "justify_content": null,
      "justify_items": null,
      "left": null,
      "margin": null,
      "max_height": null,
      "max_width": null,
      "min_height": null,
      "min_width": null,
      "object_fit": null,
      "object_position": null,
      "order": null,
      "overflow": null,
      "overflow_x": null,
      "overflow_y": null,
      "padding": null,
      "right": null,
      "top": null,
      "visibility": null,
      "width": null
     }
    },
    "56ad6231a0a04228be29ceecbc6b7c0e": {
     "model_module": "@jupyter-widgets/base",
     "model_name": "LayoutModel",
     "state": {
      "_model_module": "@jupyter-widgets/base",
      "_model_module_version": "1.2.0",
      "_model_name": "LayoutModel",
      "_view_count": null,
      "_view_module": "@jupyter-widgets/base",
      "_view_module_version": "1.2.0",
      "_view_name": "LayoutView",
      "align_content": null,
      "align_items": null,
      "align_self": null,
      "border": null,
      "bottom": null,
      "display": null,
      "flex": null,
      "flex_flow": null,
      "grid_area": null,
      "grid_auto_columns": null,
      "grid_auto_flow": null,
      "grid_auto_rows": null,
      "grid_column": null,
      "grid_gap": null,
      "grid_row": null,
      "grid_template_areas": null,
      "grid_template_columns": null,
      "grid_template_rows": null,
      "height": null,
      "justify_content": null,
      "justify_items": null,
      "left": null,
      "margin": null,
      "max_height": null,
      "max_width": null,
      "min_height": null,
      "min_width": null,
      "object_fit": null,
      "object_position": null,
      "order": null,
      "overflow": null,
      "overflow_x": null,
      "overflow_y": null,
      "padding": null,
      "right": null,
      "top": null,
      "visibility": null,
      "width": null
     }
    },
    "57198e3250374e1fa64c5a4be255861e": {
     "model_module": "@jupyter-widgets/controls",
     "model_name": "HTMLModel",
     "state": {
      "_dom_classes": [],
      "_model_module": "@jupyter-widgets/controls",
      "_model_module_version": "1.5.0",
      "_model_name": "HTMLModel",
      "_view_count": null,
      "_view_module": "@jupyter-widgets/controls",
      "_view_module_version": "1.5.0",
      "_view_name": "HTMLView",
      "description": "",
      "description_tooltip": null,
      "layout": "IPY_MODEL_8f737725708c4097a8caaf4da6229636",
      "placeholder": "​",
      "style": "IPY_MODEL_969080b52ad44ee997829986d198c505",
      "value": " 3.90k/? [00:00&lt;00:00, 23.0kB/s]"
     }
    },
    "579b6055028f473981ce789a0733a753": {
     "model_module": "@jupyter-widgets/controls",
     "model_name": "FloatProgressModel",
     "state": {
      "_dom_classes": [],
      "_model_module": "@jupyter-widgets/controls",
      "_model_module_version": "1.5.0",
      "_model_name": "FloatProgressModel",
      "_view_count": null,
      "_view_module": "@jupyter-widgets/controls",
      "_view_module_version": "1.5.0",
      "_view_name": "ProgressView",
      "bar_style": "success",
      "description": "#2: 100%",
      "description_tooltip": null,
      "layout": "IPY_MODEL_6de66d6b7a73434cbdc59b2109bdf0a0",
      "max": 109,
      "min": 0,
      "orientation": "horizontal",
      "style": "IPY_MODEL_3133b378b9294a759c8dfb786ed8f815",
      "value": 109
     }
    },
    "58f3e8002f984594ac05c973aa78ef69": {
     "model_module": "@jupyter-widgets/base",
     "model_name": "LayoutModel",
     "state": {
      "_model_module": "@jupyter-widgets/base",
      "_model_module_version": "1.2.0",
      "_model_name": "LayoutModel",
      "_view_count": null,
      "_view_module": "@jupyter-widgets/base",
      "_view_module_version": "1.2.0",
      "_view_name": "LayoutView",
      "align_content": null,
      "align_items": null,
      "align_self": null,
      "border": null,
      "bottom": null,
      "display": null,
      "flex": null,
      "flex_flow": null,
      "grid_area": null,
      "grid_auto_columns": null,
      "grid_auto_flow": null,
      "grid_auto_rows": null,
      "grid_column": null,
      "grid_gap": null,
      "grid_row": null,
      "grid_template_areas": null,
      "grid_template_columns": null,
      "grid_template_rows": null,
      "height": null,
      "justify_content": null,
      "justify_items": null,
      "left": null,
      "margin": null,
      "max_height": null,
      "max_width": null,
      "min_height": null,
      "min_width": null,
      "object_fit": null,
      "object_position": null,
      "order": null,
      "overflow": null,
      "overflow_x": null,
      "overflow_y": null,
      "padding": null,
      "right": null,
      "top": null,
      "visibility": null,
      "width": null
     }
    },
    "596aea0362924c7db583203268dd5a3e": {
     "model_module": "@jupyter-widgets/controls",
     "model_name": "ProgressStyleModel",
     "state": {
      "_model_module": "@jupyter-widgets/controls",
      "_model_module_version": "1.5.0",
      "_model_name": "ProgressStyleModel",
      "_view_count": null,
      "_view_module": "@jupyter-widgets/base",
      "_view_module_version": "1.2.0",
      "_view_name": "StyleView",
      "bar_color": null,
      "description_width": "initial"
     }
    },
    "59e0f5200068461cbfb256ad5479c4c8": {
     "model_module": "@jupyter-widgets/controls",
     "model_name": "DescriptionStyleModel",
     "state": {
      "_model_module": "@jupyter-widgets/controls",
      "_model_module_version": "1.5.0",
      "_model_name": "DescriptionStyleModel",
      "_view_count": null,
      "_view_module": "@jupyter-widgets/base",
      "_view_module_version": "1.2.0",
      "_view_name": "StyleView",
      "description_width": ""
     }
    },
    "5a5bc8b4a1c644dea08a60128d888d10": {
     "model_module": "@jupyter-widgets/controls",
     "model_name": "DescriptionStyleModel",
     "state": {
      "_model_module": "@jupyter-widgets/controls",
      "_model_module_version": "1.5.0",
      "_model_name": "DescriptionStyleModel",
      "_view_count": null,
      "_view_module": "@jupyter-widgets/base",
      "_view_module_version": "1.2.0",
      "_view_name": "StyleView",
      "description_width": ""
     }
    },
    "5ab30242cd154ec0b560c23c0f178546": {
     "model_module": "@jupyter-widgets/controls",
     "model_name": "ProgressStyleModel",
     "state": {
      "_model_module": "@jupyter-widgets/controls",
      "_model_module_version": "1.5.0",
      "_model_name": "ProgressStyleModel",
      "_view_count": null,
      "_view_module": "@jupyter-widgets/base",
      "_view_module_version": "1.2.0",
      "_view_name": "StyleView",
      "bar_color": null,
      "description_width": "initial"
     }
    },
    "5ccd12253fff448f9c15c9b03c70a408": {
     "model_module": "@jupyter-widgets/controls",
     "model_name": "HBoxModel",
     "state": {
      "_dom_classes": [],
      "_model_module": "@jupyter-widgets/controls",
      "_model_module_version": "1.5.0",
      "_model_name": "HBoxModel",
      "_view_count": null,
      "_view_module": "@jupyter-widgets/controls",
      "_view_module_version": "1.5.0",
      "_view_name": "HBoxView",
      "box_style": "",
      "children": [
       "IPY_MODEL_f203c54e7e054d97aa4d1097f320f611",
       "IPY_MODEL_6266a4019e124aff877bb55f21740180"
      ],
      "layout": "IPY_MODEL_330226a977694de1bd88c0aa3789be47"
     }
    },
    "5e3aad95e52f4be2bd670d1345398f1b": {
     "model_module": "@jupyter-widgets/controls",
     "model_name": "HTMLModel",
     "state": {
      "_dom_classes": [],
      "_model_module": "@jupyter-widgets/controls",
      "_model_module_version": "1.5.0",
      "_model_name": "HTMLModel",
      "_view_count": null,
      "_view_module": "@jupyter-widgets/controls",
      "_view_module_version": "1.5.0",
      "_view_name": "HTMLView",
      "description": "",
      "description_tooltip": null,
      "layout": "IPY_MODEL_99d5c44ea54b45ee9bd89380cb1ad189",
      "placeholder": "​",
      "style": "IPY_MODEL_7aa70322bdfe46938b583a20003093d5",
      "value": " 3478/3478 [03:16&lt;00:00, 17.67ex/s]"
     }
    },
    "5e6bae23461b4378b6e5fc890fe6bc97": {
     "model_module": "@jupyter-widgets/base",
     "model_name": "LayoutModel",
     "state": {
      "_model_module": "@jupyter-widgets/base",
      "_model_module_version": "1.2.0",
      "_model_name": "LayoutModel",
      "_view_count": null,
      "_view_module": "@jupyter-widgets/base",
      "_view_module_version": "1.2.0",
      "_view_name": "LayoutView",
      "align_content": null,
      "align_items": null,
      "align_self": null,
      "border": null,
      "bottom": null,
      "display": null,
      "flex": null,
      "flex_flow": null,
      "grid_area": null,
      "grid_auto_columns": null,
      "grid_auto_flow": null,
      "grid_auto_rows": null,
      "grid_column": null,
      "grid_gap": null,
      "grid_row": null,
      "grid_template_areas": null,
      "grid_template_columns": null,
      "grid_template_rows": null,
      "height": null,
      "justify_content": null,
      "justify_items": null,
      "left": null,
      "margin": null,
      "max_height": null,
      "max_width": null,
      "min_height": null,
      "min_width": null,
      "object_fit": null,
      "object_position": null,
      "order": null,
      "overflow": null,
      "overflow_x": null,
      "overflow_y": null,
      "padding": null,
      "right": null,
      "top": null,
      "visibility": null,
      "width": null
     }
    },
    "5f48f54986924e418aa4ac22aa54b714": {
     "model_module": "@jupyter-widgets/controls",
     "model_name": "HBoxModel",
     "state": {
      "_dom_classes": [],
      "_model_module": "@jupyter-widgets/controls",
      "_model_module_version": "1.5.0",
      "_model_name": "HBoxModel",
      "_view_count": null,
      "_view_module": "@jupyter-widgets/controls",
      "_view_module_version": "1.5.0",
      "_view_name": "HBoxView",
      "box_style": "",
      "children": [
       "IPY_MODEL_a58c203a7cc54086aea45f2029821207",
       "IPY_MODEL_8d409ca0372a48e2972ca1d8eee5ffa1"
      ],
      "layout": "IPY_MODEL_db71db50799c404aafa4a54de8b9b799"
     }
    },
    "6266a4019e124aff877bb55f21740180": {
     "model_module": "@jupyter-widgets/controls",
     "model_name": "HTMLModel",
     "state": {
      "_dom_classes": [],
      "_model_module": "@jupyter-widgets/controls",
      "_model_module_version": "1.5.0",
      "_model_name": "HTMLModel",
      "_view_count": null,
      "_view_module": "@jupyter-widgets/controls",
      "_view_module_version": "1.5.0",
      "_view_name": "HTMLView",
      "description": "",
      "description_tooltip": null,
      "layout": "IPY_MODEL_55071fc1b7484620803aeba453e9af72",
      "placeholder": "​",
      "style": "IPY_MODEL_8ad3e4b211e34c048d0f48e36fdbfe48",
      "value": " 411/411 [02:58&lt;00:00,  2.30ex/s]"
     }
    },
    "6462bd9561e24abb98fce6ce4675d810": {
     "model_module": "@jupyter-widgets/controls",
     "model_name": "HBoxModel",
     "state": {
      "_dom_classes": [],
      "_model_module": "@jupyter-widgets/controls",
      "_model_module_version": "1.5.0",
      "_model_name": "HBoxModel",
      "_view_count": null,
      "_view_module": "@jupyter-widgets/controls",
      "_view_module_version": "1.5.0",
      "_view_name": "HBoxView",
      "box_style": "",
      "children": [
       "IPY_MODEL_e273548a15aa4d4994132b317adb66fc",
       "IPY_MODEL_f6930dd5519d4dfda64c597def220a30"
      ],
      "layout": "IPY_MODEL_bd3447291ce54812af10ac6245ea4328"
     }
    },
    "68a3178fe7a54e838e798ff28ff9aa0b": {
     "model_module": "@jupyter-widgets/controls",
     "model_name": "DescriptionStyleModel",
     "state": {
      "_model_module": "@jupyter-widgets/controls",
      "_model_module_version": "1.5.0",
      "_model_name": "DescriptionStyleModel",
      "_view_count": null,
      "_view_module": "@jupyter-widgets/base",
      "_view_module_version": "1.2.0",
      "_view_name": "StyleView",
      "description_width": ""
     }
    },
    "69828f4a101f4340916a4be141866904": {
     "model_module": "@jupyter-widgets/base",
     "model_name": "LayoutModel",
     "state": {
      "_model_module": "@jupyter-widgets/base",
      "_model_module_version": "1.2.0",
      "_model_name": "LayoutModel",
      "_view_count": null,
      "_view_module": "@jupyter-widgets/base",
      "_view_module_version": "1.2.0",
      "_view_name": "LayoutView",
      "align_content": null,
      "align_items": null,
      "align_self": null,
      "border": null,
      "bottom": null,
      "display": null,
      "flex": null,
      "flex_flow": null,
      "grid_area": null,
      "grid_auto_columns": null,
      "grid_auto_flow": null,
      "grid_auto_rows": null,
      "grid_column": null,
      "grid_gap": null,
      "grid_row": null,
      "grid_template_areas": null,
      "grid_template_columns": null,
      "grid_template_rows": null,
      "height": null,
      "justify_content": null,
      "justify_items": null,
      "left": null,
      "margin": null,
      "max_height": null,
      "max_width": null,
      "min_height": null,
      "min_width": null,
      "object_fit": null,
      "object_position": null,
      "order": null,
      "overflow": null,
      "overflow_x": null,
      "overflow_y": null,
      "padding": null,
      "right": null,
      "top": null,
      "visibility": null,
      "width": null
     }
    },
    "6a957c1c17474d8d89c27ddecf702fda": {
     "model_module": "@jupyter-widgets/controls",
     "model_name": "HTMLModel",
     "state": {
      "_dom_classes": [],
      "_model_module": "@jupyter-widgets/controls",
      "_model_module_version": "1.5.0",
      "_model_name": "HTMLModel",
      "_view_count": null,
      "_view_module": "@jupyter-widgets/controls",
      "_view_module_version": "1.5.0",
      "_view_name": "HTMLView",
      "description": "",
      "description_tooltip": null,
      "layout": "IPY_MODEL_91fcf0641fe3489ab96f3aaa40adf245",
      "placeholder": "​",
      "style": "IPY_MODEL_05f83d714f864a399083f0e34a812467",
      "value": " 1647/0 [00:00&lt;00:00, 14016.07 examples/s]"
     }
    },
    "6abfbe44a1bd4518b41f5f53f920e936": {
     "model_module": "@jupyter-widgets/base",
     "model_name": "LayoutModel",
     "state": {
      "_model_module": "@jupyter-widgets/base",
      "_model_module_version": "1.2.0",
      "_model_name": "LayoutModel",
      "_view_count": null,
      "_view_module": "@jupyter-widgets/base",
      "_view_module_version": "1.2.0",
      "_view_name": "LayoutView",
      "align_content": null,
      "align_items": null,
      "align_self": null,
      "border": null,
      "bottom": null,
      "display": null,
      "flex": null,
      "flex_flow": null,
      "grid_area": null,
      "grid_auto_columns": null,
      "grid_auto_flow": null,
      "grid_auto_rows": null,
      "grid_column": null,
      "grid_gap": null,
      "grid_row": null,
      "grid_template_areas": null,
      "grid_template_columns": null,
      "grid_template_rows": null,
      "height": null,
      "justify_content": null,
      "justify_items": null,
      "left": null,
      "margin": null,
      "max_height": null,
      "max_width": null,
      "min_height": null,
      "min_width": null,
      "object_fit": null,
      "object_position": null,
      "order": null,
      "overflow": null,
      "overflow_x": null,
      "overflow_y": null,
      "padding": null,
      "right": null,
      "top": null,
      "visibility": null,
      "width": null
     }
    },
    "6ba6d07674a34836be53cf173c2b61ca": {
     "model_module": "@jupyter-widgets/base",
     "model_name": "LayoutModel",
     "state": {
      "_model_module": "@jupyter-widgets/base",
      "_model_module_version": "1.2.0",
      "_model_name": "LayoutModel",
      "_view_count": null,
      "_view_module": "@jupyter-widgets/base",
      "_view_module_version": "1.2.0",
      "_view_name": "LayoutView",
      "align_content": null,
      "align_items": null,
      "align_self": null,
      "border": null,
      "bottom": null,
      "display": null,
      "flex": null,
      "flex_flow": null,
      "grid_area": null,
      "grid_auto_columns": null,
      "grid_auto_flow": null,
      "grid_auto_rows": null,
      "grid_column": null,
      "grid_gap": null,
      "grid_row": null,
      "grid_template_areas": null,
      "grid_template_columns": null,
      "grid_template_rows": null,
      "height": null,
      "justify_content": null,
      "justify_items": null,
      "left": null,
      "margin": null,
      "max_height": null,
      "max_width": null,
      "min_height": null,
      "min_width": null,
      "object_fit": null,
      "object_position": null,
      "order": null,
      "overflow": null,
      "overflow_x": null,
      "overflow_y": null,
      "padding": null,
      "right": null,
      "top": null,
      "visibility": null,
      "width": null
     }
    },
    "6c065aa34661469ca1efb4c5e90fe136": {
     "model_module": "@jupyter-widgets/controls",
     "model_name": "HBoxModel",
     "state": {
      "_dom_classes": [],
      "_model_module": "@jupyter-widgets/controls",
      "_model_module_version": "1.5.0",
      "_model_name": "HBoxModel",
      "_view_count": null,
      "_view_module": "@jupyter-widgets/controls",
      "_view_module_version": "1.5.0",
      "_view_name": "HBoxView",
      "box_style": "",
      "children": [
       "IPY_MODEL_0a9b58c98508420d8f8936189f064316",
       "IPY_MODEL_8dd5b08bb5bd4e608d04122424796ae7"
      ],
      "layout": "IPY_MODEL_540510088d3947f1b3cf6f4c983c1a53"
     }
    },
    "6d4a26d876fb4ac6b5948a09945bdc6b": {
     "model_module": "@jupyter-widgets/controls",
     "model_name": "DescriptionStyleModel",
     "state": {
      "_model_module": "@jupyter-widgets/controls",
      "_model_module_version": "1.5.0",
      "_model_name": "DescriptionStyleModel",
      "_view_count": null,
      "_view_module": "@jupyter-widgets/base",
      "_view_module_version": "1.2.0",
      "_view_name": "StyleView",
      "description_width": ""
     }
    },
    "6de66d6b7a73434cbdc59b2109bdf0a0": {
     "model_module": "@jupyter-widgets/base",
     "model_name": "LayoutModel",
     "state": {
      "_model_module": "@jupyter-widgets/base",
      "_model_module_version": "1.2.0",
      "_model_name": "LayoutModel",
      "_view_count": null,
      "_view_module": "@jupyter-widgets/base",
      "_view_module_version": "1.2.0",
      "_view_name": "LayoutView",
      "align_content": null,
      "align_items": null,
      "align_self": null,
      "border": null,
      "bottom": null,
      "display": null,
      "flex": null,
      "flex_flow": null,
      "grid_area": null,
      "grid_auto_columns": null,
      "grid_auto_flow": null,
      "grid_auto_rows": null,
      "grid_column": null,
      "grid_gap": null,
      "grid_row": null,
      "grid_template_areas": null,
      "grid_template_columns": null,
      "grid_template_rows": null,
      "height": null,
      "justify_content": null,
      "justify_items": null,
      "left": null,
      "margin": null,
      "max_height": null,
      "max_width": null,
      "min_height": null,
      "min_width": null,
      "object_fit": null,
      "object_position": null,
      "order": null,
      "overflow": null,
      "overflow_x": null,
      "overflow_y": null,
      "padding": null,
      "right": null,
      "top": null,
      "visibility": null,
      "width": null
     }
    },
    "6f60626242534f44a6381195e6eb6530": {
     "model_module": "@jupyter-widgets/controls",
     "model_name": "FloatProgressModel",
     "state": {
      "_dom_classes": [],
      "_model_module": "@jupyter-widgets/controls",
      "_model_module_version": "1.5.0",
      "_model_name": "FloatProgressModel",
      "_view_count": null,
      "_view_module": "@jupyter-widgets/controls",
      "_view_module_version": "1.5.0",
      "_view_name": "ProgressView",
      "bar_style": "success",
      "description": "#2: 100%",
      "description_tooltip": null,
      "layout": "IPY_MODEL_0ffcbedb8d4444508ac0c3c0b41ea8ac",
      "max": 52,
      "min": 0,
      "orientation": "horizontal",
      "style": "IPY_MODEL_5ab30242cd154ec0b560c23c0f178546",
      "value": 52
     }
    },
    "7040945accce4739a41746cc75bb7fce": {
     "model_module": "@jupyter-widgets/controls",
     "model_name": "HBoxModel",
     "state": {
      "_dom_classes": [],
      "_model_module": "@jupyter-widgets/controls",
      "_model_module_version": "1.5.0",
      "_model_name": "HBoxModel",
      "_view_count": null,
      "_view_module": "@jupyter-widgets/controls",
      "_view_module_version": "1.5.0",
      "_view_name": "HBoxView",
      "box_style": "",
      "children": [
       "IPY_MODEL_6f60626242534f44a6381195e6eb6530",
       "IPY_MODEL_9fee9d9dd1164d97a9109e942444c332"
      ],
      "layout": "IPY_MODEL_71011f0d2bc942ac8f9ea1d1fd30c78d"
     }
    },
    "704ea5e05fd744d998b76d6435992995": {
     "model_module": "@jupyter-widgets/controls",
     "model_name": "ProgressStyleModel",
     "state": {
      "_model_module": "@jupyter-widgets/controls",
      "_model_module_version": "1.5.0",
      "_model_name": "ProgressStyleModel",
      "_view_count": null,
      "_view_module": "@jupyter-widgets/base",
      "_view_module_version": "1.2.0",
      "_view_name": "StyleView",
      "bar_color": null,
      "description_width": "initial"
     }
    },
    "71011f0d2bc942ac8f9ea1d1fd30c78d": {
     "model_module": "@jupyter-widgets/base",
     "model_name": "LayoutModel",
     "state": {
      "_model_module": "@jupyter-widgets/base",
      "_model_module_version": "1.2.0",
      "_model_name": "LayoutModel",
      "_view_count": null,
      "_view_module": "@jupyter-widgets/base",
      "_view_module_version": "1.2.0",
      "_view_name": "LayoutView",
      "align_content": null,
      "align_items": null,
      "align_self": null,
      "border": null,
      "bottom": null,
      "display": null,
      "flex": null,
      "flex_flow": null,
      "grid_area": null,
      "grid_auto_columns": null,
      "grid_auto_flow": null,
      "grid_auto_rows": null,
      "grid_column": null,
      "grid_gap": null,
      "grid_row": null,
      "grid_template_areas": null,
      "grid_template_columns": null,
      "grid_template_rows": null,
      "height": null,
      "justify_content": null,
      "justify_items": null,
      "left": null,
      "margin": null,
      "max_height": null,
      "max_width": null,
      "min_height": null,
      "min_width": null,
      "object_fit": null,
      "object_position": null,
      "order": null,
      "overflow": null,
      "overflow_x": null,
      "overflow_y": null,
      "padding": null,
      "right": null,
      "top": null,
      "visibility": null,
      "width": null
     }
    },
    "71c059a0f3c246f3a40d55744331daaa": {
     "model_module": "@jupyter-widgets/controls",
     "model_name": "HTMLModel",
     "state": {
      "_dom_classes": [],
      "_model_module": "@jupyter-widgets/controls",
      "_model_module_version": "1.5.0",
      "_model_name": "HTMLModel",
      "_view_count": null,
      "_view_module": "@jupyter-widgets/controls",
      "_view_module_version": "1.5.0",
      "_view_name": "HTMLView",
      "description": "",
      "description_tooltip": null,
      "layout": "IPY_MODEL_430c3c079d0e4006b90e72df7986ffb0",
      "placeholder": "​",
      "style": "IPY_MODEL_cb5666eb8ebb4d1392e98d6b5af8761c",
      "value": " 325/0 [00:00&lt;00:00, 7071.04 examples/s]"
     }
    },
    "71ffdf6f26ba4381a8e671958e679f88": {
     "model_module": "@jupyter-widgets/controls",
     "model_name": "ProgressStyleModel",
     "state": {
      "_model_module": "@jupyter-widgets/controls",
      "_model_module_version": "1.5.0",
      "_model_name": "ProgressStyleModel",
      "_view_count": null,
      "_view_module": "@jupyter-widgets/base",
      "_view_module_version": "1.2.0",
      "_view_name": "StyleView",
      "bar_color": null,
      "description_width": "initial"
     }
    },
    "73940df84ffd4e0f96637342e9fd12b7": {
     "model_module": "@jupyter-widgets/base",
     "model_name": "LayoutModel",
     "state": {
      "_model_module": "@jupyter-widgets/base",
      "_model_module_version": "1.2.0",
      "_model_name": "LayoutModel",
      "_view_count": null,
      "_view_module": "@jupyter-widgets/base",
      "_view_module_version": "1.2.0",
      "_view_name": "LayoutView",
      "align_content": null,
      "align_items": null,
      "align_self": null,
      "border": null,
      "bottom": null,
      "display": null,
      "flex": null,
      "flex_flow": null,
      "grid_area": null,
      "grid_auto_columns": null,
      "grid_auto_flow": null,
      "grid_auto_rows": null,
      "grid_column": null,
      "grid_gap": null,
      "grid_row": null,
      "grid_template_areas": null,
      "grid_template_columns": null,
      "grid_template_rows": null,
      "height": null,
      "justify_content": null,
      "justify_items": null,
      "left": null,
      "margin": null,
      "max_height": null,
      "max_width": null,
      "min_height": null,
      "min_width": null,
      "object_fit": null,
      "object_position": null,
      "order": null,
      "overflow": null,
      "overflow_x": null,
      "overflow_y": null,
      "padding": null,
      "right": null,
      "top": null,
      "visibility": null,
      "width": null
     }
    },
    "73ecbfc3c5c5456bb42e19b8a34b1576": {
     "model_module": "@jupyter-widgets/base",
     "model_name": "LayoutModel",
     "state": {
      "_model_module": "@jupyter-widgets/base",
      "_model_module_version": "1.2.0",
      "_model_name": "LayoutModel",
      "_view_count": null,
      "_view_module": "@jupyter-widgets/base",
      "_view_module_version": "1.2.0",
      "_view_name": "LayoutView",
      "align_content": null,
      "align_items": null,
      "align_self": null,
      "border": null,
      "bottom": null,
      "display": null,
      "flex": null,
      "flex_flow": null,
      "grid_area": null,
      "grid_auto_columns": null,
      "grid_auto_flow": null,
      "grid_auto_rows": null,
      "grid_column": null,
      "grid_gap": null,
      "grid_row": null,
      "grid_template_areas": null,
      "grid_template_columns": null,
      "grid_template_rows": null,
      "height": null,
      "justify_content": null,
      "justify_items": null,
      "left": null,
      "margin": null,
      "max_height": null,
      "max_width": null,
      "min_height": null,
      "min_width": null,
      "object_fit": null,
      "object_position": null,
      "order": null,
      "overflow": null,
      "overflow_x": null,
      "overflow_y": null,
      "padding": null,
      "right": null,
      "top": null,
      "visibility": null,
      "width": null
     }
    },
    "751ae6b9e2da4b85be9600561485f1ac": {
     "model_module": "@jupyter-widgets/controls",
     "model_name": "DescriptionStyleModel",
     "state": {
      "_model_module": "@jupyter-widgets/controls",
      "_model_module_version": "1.5.0",
      "_model_name": "DescriptionStyleModel",
      "_view_count": null,
      "_view_module": "@jupyter-widgets/base",
      "_view_module_version": "1.2.0",
      "_view_name": "StyleView",
      "description_width": ""
     }
    },
    "757e7bd0e6c5410da0490d191b4e68c8": {
     "model_module": "@jupyter-widgets/controls",
     "model_name": "HTMLModel",
     "state": {
      "_dom_classes": [],
      "_model_module": "@jupyter-widgets/controls",
      "_model_module_version": "1.5.0",
      "_model_name": "HTMLModel",
      "_view_count": null,
      "_view_module": "@jupyter-widgets/controls",
      "_view_module_version": "1.5.0",
      "_view_name": "HTMLView",
      "description": "",
      "description_tooltip": null,
      "layout": "IPY_MODEL_9185f86719af476da41e3835e8f06f8d",
      "placeholder": "​",
      "style": "IPY_MODEL_0b795d4b68014de19bf9579c67b55ffb",
      "value": " 870/870 [05:35&lt;00:00,  2.59ex/s]"
     }
    },
    "75e00c38605f44cfb584067db1160349": {
     "model_module": "@jupyter-widgets/controls",
     "model_name": "FloatProgressModel",
     "state": {
      "_dom_classes": [],
      "_model_module": "@jupyter-widgets/controls",
      "_model_module_version": "1.5.0",
      "_model_name": "FloatProgressModel",
      "_view_count": null,
      "_view_module": "@jupyter-widgets/controls",
      "_view_module_version": "1.5.0",
      "_view_name": "ProgressView",
      "bar_style": "success",
      "description": "100%",
      "description_tooltip": null,
      "layout": "IPY_MODEL_73ecbfc3c5c5456bb42e19b8a34b1576",
      "max": 1,
      "min": 0,
      "orientation": "horizontal",
      "style": "IPY_MODEL_c01aca3229a24d41841be2b4a3a65bcc",
      "value": 1
     }
    },
    "768ab09956774f50a79b2493a8bf179b": {
     "model_module": "@jupyter-widgets/base",
     "model_name": "LayoutModel",
     "state": {
      "_model_module": "@jupyter-widgets/base",
      "_model_module_version": "1.2.0",
      "_model_name": "LayoutModel",
      "_view_count": null,
      "_view_module": "@jupyter-widgets/base",
      "_view_module_version": "1.2.0",
      "_view_name": "LayoutView",
      "align_content": null,
      "align_items": null,
      "align_self": null,
      "border": null,
      "bottom": null,
      "display": null,
      "flex": null,
      "flex_flow": null,
      "grid_area": null,
      "grid_auto_columns": null,
      "grid_auto_flow": null,
      "grid_auto_rows": null,
      "grid_column": null,
      "grid_gap": null,
      "grid_row": null,
      "grid_template_areas": null,
      "grid_template_columns": null,
      "grid_template_rows": null,
      "height": null,
      "justify_content": null,
      "justify_items": null,
      "left": null,
      "margin": null,
      "max_height": null,
      "max_width": null,
      "min_height": null,
      "min_width": null,
      "object_fit": null,
      "object_position": null,
      "order": null,
      "overflow": null,
      "overflow_x": null,
      "overflow_y": null,
      "padding": null,
      "right": null,
      "top": null,
      "visibility": null,
      "width": null
     }
    },
    "76d162d3ea0845cc837651a77a5a2d36": {
     "model_module": "@jupyter-widgets/controls",
     "model_name": "HBoxModel",
     "state": {
      "_dom_classes": [],
      "_model_module": "@jupyter-widgets/controls",
      "_model_module_version": "1.5.0",
      "_model_name": "HBoxModel",
      "_view_count": null,
      "_view_module": "@jupyter-widgets/controls",
      "_view_module_version": "1.5.0",
      "_view_name": "HBoxView",
      "box_style": "",
      "children": [
       "IPY_MODEL_f6b01ad0433a40178ef3ba5657bc1583",
       "IPY_MODEL_eed2ccc12daa4c71b080794a7a18f5cb"
      ],
      "layout": "IPY_MODEL_98c594f1e41e4b3fab10f0763bd93d75"
     }
    },
    "771959e46cb64b3ebafe931f96f5ff52": {
     "model_module": "@jupyter-widgets/controls",
     "model_name": "HBoxModel",
     "state": {
      "_dom_classes": [],
      "_model_module": "@jupyter-widgets/controls",
      "_model_module_version": "1.5.0",
      "_model_name": "HBoxModel",
      "_view_count": null,
      "_view_module": "@jupyter-widgets/controls",
      "_view_module_version": "1.5.0",
      "_view_name": "HBoxView",
      "box_style": "",
      "children": [
       "IPY_MODEL_f792530a76ee486688cbc2502dfae594",
       "IPY_MODEL_d69468d63dd74fdd807fe061b92aa84e"
      ],
      "layout": "IPY_MODEL_0e999af234bd4b63ad2937e61d08b693"
     }
    },
    "7916b06da182435a9cc1d13c73310500": {
     "model_module": "@jupyter-widgets/base",
     "model_name": "LayoutModel",
     "state": {
      "_model_module": "@jupyter-widgets/base",
      "_model_module_version": "1.2.0",
      "_model_name": "LayoutModel",
      "_view_count": null,
      "_view_module": "@jupyter-widgets/base",
      "_view_module_version": "1.2.0",
      "_view_name": "LayoutView",
      "align_content": null,
      "align_items": null,
      "align_self": null,
      "border": null,
      "bottom": null,
      "display": null,
      "flex": null,
      "flex_flow": null,
      "grid_area": null,
      "grid_auto_columns": null,
      "grid_auto_flow": null,
      "grid_auto_rows": null,
      "grid_column": null,
      "grid_gap": null,
      "grid_row": null,
      "grid_template_areas": null,
      "grid_template_columns": null,
      "grid_template_rows": null,
      "height": null,
      "justify_content": null,
      "justify_items": null,
      "left": null,
      "margin": null,
      "max_height": null,
      "max_width": null,
      "min_height": null,
      "min_width": null,
      "object_fit": null,
      "object_position": null,
      "order": null,
      "overflow": null,
      "overflow_x": null,
      "overflow_y": null,
      "padding": null,
      "right": null,
      "top": null,
      "visibility": null,
      "width": null
     }
    },
    "7aa70322bdfe46938b583a20003093d5": {
     "model_module": "@jupyter-widgets/controls",
     "model_name": "DescriptionStyleModel",
     "state": {
      "_model_module": "@jupyter-widgets/controls",
      "_model_module_version": "1.5.0",
      "_model_name": "DescriptionStyleModel",
      "_view_count": null,
      "_view_module": "@jupyter-widgets/base",
      "_view_module_version": "1.2.0",
      "_view_name": "StyleView",
      "description_width": ""
     }
    },
    "7b4cfd2b448643b8a4409dd612aef0d1": {
     "model_module": "@jupyter-widgets/base",
     "model_name": "LayoutModel",
     "state": {
      "_model_module": "@jupyter-widgets/base",
      "_model_module_version": "1.2.0",
      "_model_name": "LayoutModel",
      "_view_count": null,
      "_view_module": "@jupyter-widgets/base",
      "_view_module_version": "1.2.0",
      "_view_name": "LayoutView",
      "align_content": null,
      "align_items": null,
      "align_self": null,
      "border": null,
      "bottom": null,
      "display": null,
      "flex": null,
      "flex_flow": null,
      "grid_area": null,
      "grid_auto_columns": null,
      "grid_auto_flow": null,
      "grid_auto_rows": null,
      "grid_column": null,
      "grid_gap": null,
      "grid_row": null,
      "grid_template_areas": null,
      "grid_template_columns": null,
      "grid_template_rows": null,
      "height": null,
      "justify_content": null,
      "justify_items": null,
      "left": null,
      "margin": null,
      "max_height": null,
      "max_width": null,
      "min_height": null,
      "min_width": null,
      "object_fit": null,
      "object_position": null,
      "order": null,
      "overflow": null,
      "overflow_x": null,
      "overflow_y": null,
      "padding": null,
      "right": null,
      "top": null,
      "visibility": null,
      "width": null
     }
    },
    "7bf5b2b625764f63ad57a360c3fd0a61": {
     "model_module": "@jupyter-widgets/controls",
     "model_name": "DescriptionStyleModel",
     "state": {
      "_model_module": "@jupyter-widgets/controls",
      "_model_module_version": "1.5.0",
      "_model_name": "DescriptionStyleModel",
      "_view_count": null,
      "_view_module": "@jupyter-widgets/base",
      "_view_module_version": "1.2.0",
      "_view_name": "StyleView",
      "description_width": ""
     }
    },
    "7d62810674c8482abe46c60fc08884b4": {
     "model_module": "@jupyter-widgets/controls",
     "model_name": "ProgressStyleModel",
     "state": {
      "_model_module": "@jupyter-widgets/controls",
      "_model_module_version": "1.5.0",
      "_model_name": "ProgressStyleModel",
      "_view_count": null,
      "_view_module": "@jupyter-widgets/base",
      "_view_module_version": "1.2.0",
      "_view_name": "StyleView",
      "bar_color": null,
      "description_width": "initial"
     }
    },
    "7e50f8027fb74d669daae5e46082026c": {
     "model_module": "@jupyter-widgets/base",
     "model_name": "LayoutModel",
     "state": {
      "_model_module": "@jupyter-widgets/base",
      "_model_module_version": "1.2.0",
      "_model_name": "LayoutModel",
      "_view_count": null,
      "_view_module": "@jupyter-widgets/base",
      "_view_module_version": "1.2.0",
      "_view_name": "LayoutView",
      "align_content": null,
      "align_items": null,
      "align_self": null,
      "border": null,
      "bottom": null,
      "display": null,
      "flex": null,
      "flex_flow": null,
      "grid_area": null,
      "grid_auto_columns": null,
      "grid_auto_flow": null,
      "grid_auto_rows": null,
      "grid_column": null,
      "grid_gap": null,
      "grid_row": null,
      "grid_template_areas": null,
      "grid_template_columns": null,
      "grid_template_rows": null,
      "height": null,
      "justify_content": null,
      "justify_items": null,
      "left": null,
      "margin": null,
      "max_height": null,
      "max_width": null,
      "min_height": null,
      "min_width": null,
      "object_fit": null,
      "object_position": null,
      "order": null,
      "overflow": null,
      "overflow_x": null,
      "overflow_y": null,
      "padding": null,
      "right": null,
      "top": null,
      "visibility": null,
      "width": null
     }
    },
    "7edbecaccdd94ede8fddc0e1807e777e": {
     "model_module": "@jupyter-widgets/controls",
     "model_name": "FloatProgressModel",
     "state": {
      "_dom_classes": [],
      "_model_module": "@jupyter-widgets/controls",
      "_model_module_version": "1.5.0",
      "_model_name": "FloatProgressModel",
      "_view_count": null,
      "_view_module": "@jupyter-widgets/controls",
      "_view_module_version": "1.5.0",
      "_view_name": "ProgressView",
      "bar_style": "success",
      "description": "100%",
      "description_tooltip": null,
      "layout": "IPY_MODEL_3e3a022a9f304b0f9f7ef067fcee1e56",
      "max": 3478,
      "min": 0,
      "orientation": "horizontal",
      "style": "IPY_MODEL_b9c5c6dd54cc4dc5ad5a2bb69a24ab05",
      "value": 3478
     }
    },
    "7ef969e47c2d429a9848d5ab3f5bb2d9": {
     "model_module": "@jupyter-widgets/controls",
     "model_name": "HBoxModel",
     "state": {
      "_dom_classes": [],
      "_model_module": "@jupyter-widgets/controls",
      "_model_module_version": "1.5.0",
      "_model_name": "HBoxModel",
      "_view_count": null,
      "_view_module": "@jupyter-widgets/controls",
      "_view_module_version": "1.5.0",
      "_view_name": "HBoxView",
      "box_style": "",
      "children": [
       "IPY_MODEL_015c5690e1ea4281954c7efda1c80a6a",
       "IPY_MODEL_f4135dd72864445391f43f387635bfdc"
      ],
      "layout": "IPY_MODEL_fe62265afdc74026b7e9c5a50ef61d2c"
     }
    },
    "7f5203fde6b64bf7ad53d6ecd3041bfc": {
     "model_module": "@jupyter-widgets/controls",
     "model_name": "DescriptionStyleModel",
     "state": {
      "_model_module": "@jupyter-widgets/controls",
      "_model_module_version": "1.5.0",
      "_model_name": "DescriptionStyleModel",
      "_view_count": null,
      "_view_module": "@jupyter-widgets/base",
      "_view_module_version": "1.2.0",
      "_view_name": "StyleView",
      "description_width": ""
     }
    },
    "7f787df324514a8c915785e272a8af18": {
     "model_module": "@jupyter-widgets/controls",
     "model_name": "FloatProgressModel",
     "state": {
      "_dom_classes": [],
      "_model_module": "@jupyter-widgets/controls",
      "_model_module_version": "1.5.0",
      "_model_name": "FloatProgressModel",
      "_view_count": null,
      "_view_module": "@jupyter-widgets/controls",
      "_view_module_version": "1.5.0",
      "_view_name": "ProgressView",
      "bar_style": "info",
      "description": "",
      "description_tooltip": null,
      "layout": "IPY_MODEL_7916b06da182435a9cc1d13c73310500",
      "max": 1,
      "min": 0,
      "orientation": "horizontal",
      "style": "IPY_MODEL_71ffdf6f26ba4381a8e671958e679f88",
      "value": 1
     }
    },
    "80697300a4394b909f1c499ba80aeb13": {
     "model_module": "@jupyter-widgets/base",
     "model_name": "LayoutModel",
     "state": {
      "_model_module": "@jupyter-widgets/base",
      "_model_module_version": "1.2.0",
      "_model_name": "LayoutModel",
      "_view_count": null,
      "_view_module": "@jupyter-widgets/base",
      "_view_module_version": "1.2.0",
      "_view_name": "LayoutView",
      "align_content": null,
      "align_items": null,
      "align_self": null,
      "border": null,
      "bottom": null,
      "display": null,
      "flex": null,
      "flex_flow": null,
      "grid_area": null,
      "grid_auto_columns": null,
      "grid_auto_flow": null,
      "grid_auto_rows": null,
      "grid_column": null,
      "grid_gap": null,
      "grid_row": null,
      "grid_template_areas": null,
      "grid_template_columns": null,
      "grid_template_rows": null,
      "height": null,
      "justify_content": null,
      "justify_items": null,
      "left": null,
      "margin": null,
      "max_height": null,
      "max_width": null,
      "min_height": null,
      "min_width": null,
      "object_fit": null,
      "object_position": null,
      "order": null,
      "overflow": null,
      "overflow_x": null,
      "overflow_y": null,
      "padding": null,
      "right": null,
      "top": null,
      "visibility": null,
      "width": null
     }
    },
    "813fc95246034f5cb9e5198897b4ed42": {
     "model_module": "@jupyter-widgets/controls",
     "model_name": "DescriptionStyleModel",
     "state": {
      "_model_module": "@jupyter-widgets/controls",
      "_model_module_version": "1.5.0",
      "_model_name": "DescriptionStyleModel",
      "_view_count": null,
      "_view_module": "@jupyter-widgets/base",
      "_view_module_version": "1.2.0",
      "_view_name": "StyleView",
      "description_width": ""
     }
    },
    "82015055d32449b89346ea18e7474c4d": {
     "model_module": "@jupyter-widgets/controls",
     "model_name": "HBoxModel",
     "state": {
      "_dom_classes": [],
      "_model_module": "@jupyter-widgets/controls",
      "_model_module_version": "1.5.0",
      "_model_name": "HBoxModel",
      "_view_count": null,
      "_view_module": "@jupyter-widgets/controls",
      "_view_module_version": "1.5.0",
      "_view_name": "HBoxView",
      "box_style": "",
      "children": [
       "IPY_MODEL_f5f1f0865d7e4d8b810ccb9c3c4d2683",
       "IPY_MODEL_416badb151ee4660b53fdbc136e0c8fb"
      ],
      "layout": "IPY_MODEL_a170c0cb21cf425fbee97fd6d5584e2c"
     }
    },
    "824569c63ec445c08362659ca228dd2a": {
     "model_module": "@jupyter-widgets/controls",
     "model_name": "DescriptionStyleModel",
     "state": {
      "_model_module": "@jupyter-widgets/controls",
      "_model_module_version": "1.5.0",
      "_model_name": "DescriptionStyleModel",
      "_view_count": null,
      "_view_module": "@jupyter-widgets/base",
      "_view_module_version": "1.2.0",
      "_view_name": "StyleView",
      "description_width": ""
     }
    },
    "8292dafcd40745958d0f3c563bf6b9b0": {
     "model_module": "@jupyter-widgets/controls",
     "model_name": "ProgressStyleModel",
     "state": {
      "_model_module": "@jupyter-widgets/controls",
      "_model_module_version": "1.5.0",
      "_model_name": "ProgressStyleModel",
      "_view_count": null,
      "_view_module": "@jupyter-widgets/base",
      "_view_module_version": "1.2.0",
      "_view_name": "StyleView",
      "bar_color": null,
      "description_width": "initial"
     }
    },
    "83b51e16d88046c48dcd745cf09d2e56": {
     "model_module": "@jupyter-widgets/base",
     "model_name": "LayoutModel",
     "state": {
      "_model_module": "@jupyter-widgets/base",
      "_model_module_version": "1.2.0",
      "_model_name": "LayoutModel",
      "_view_count": null,
      "_view_module": "@jupyter-widgets/base",
      "_view_module_version": "1.2.0",
      "_view_name": "LayoutView",
      "align_content": null,
      "align_items": null,
      "align_self": null,
      "border": null,
      "bottom": null,
      "display": null,
      "flex": null,
      "flex_flow": null,
      "grid_area": null,
      "grid_auto_columns": null,
      "grid_auto_flow": null,
      "grid_auto_rows": null,
      "grid_column": null,
      "grid_gap": null,
      "grid_row": null,
      "grid_template_areas": null,
      "grid_template_columns": null,
      "grid_template_rows": null,
      "height": null,
      "justify_content": null,
      "justify_items": null,
      "left": null,
      "margin": null,
      "max_height": null,
      "max_width": null,
      "min_height": null,
      "min_width": null,
      "object_fit": null,
      "object_position": null,
      "order": null,
      "overflow": null,
      "overflow_x": null,
      "overflow_y": null,
      "padding": null,
      "right": null,
      "top": null,
      "visibility": null,
      "width": null
     }
    },
    "84e7f0001ebe458dad3c96e7e9a38cdc": {
     "model_module": "@jupyter-widgets/base",
     "model_name": "LayoutModel",
     "state": {
      "_model_module": "@jupyter-widgets/base",
      "_model_module_version": "1.2.0",
      "_model_name": "LayoutModel",
      "_view_count": null,
      "_view_module": "@jupyter-widgets/base",
      "_view_module_version": "1.2.0",
      "_view_name": "LayoutView",
      "align_content": null,
      "align_items": null,
      "align_self": null,
      "border": null,
      "bottom": null,
      "display": null,
      "flex": null,
      "flex_flow": null,
      "grid_area": null,
      "grid_auto_columns": null,
      "grid_auto_flow": null,
      "grid_auto_rows": null,
      "grid_column": null,
      "grid_gap": null,
      "grid_row": null,
      "grid_template_areas": null,
      "grid_template_columns": null,
      "grid_template_rows": null,
      "height": null,
      "justify_content": null,
      "justify_items": null,
      "left": null,
      "margin": null,
      "max_height": null,
      "max_width": null,
      "min_height": null,
      "min_width": null,
      "object_fit": null,
      "object_position": null,
      "order": null,
      "overflow": null,
      "overflow_x": null,
      "overflow_y": null,
      "padding": null,
      "right": null,
      "top": null,
      "visibility": null,
      "width": null
     }
    },
    "8701fb161cec47e89fc4d57b599ee7fe": {
     "model_module": "@jupyter-widgets/controls",
     "model_name": "HBoxModel",
     "state": {
      "_dom_classes": [],
      "_model_module": "@jupyter-widgets/controls",
      "_model_module_version": "1.5.0",
      "_model_name": "HBoxModel",
      "_view_count": null,
      "_view_module": "@jupyter-widgets/controls",
      "_view_module_version": "1.5.0",
      "_view_name": "HBoxView",
      "box_style": "",
      "children": [
       "IPY_MODEL_7f787df324514a8c915785e272a8af18",
       "IPY_MODEL_889da3e5ed2945849d3c8a6a75175747"
      ],
      "layout": "IPY_MODEL_1813458f75514f039ba0214597a09bb4"
     }
    },
    "889da3e5ed2945849d3c8a6a75175747": {
     "model_module": "@jupyter-widgets/controls",
     "model_name": "HTMLModel",
     "state": {
      "_dom_classes": [],
      "_model_module": "@jupyter-widgets/controls",
      "_model_module_version": "1.5.0",
      "_model_name": "HTMLModel",
      "_view_count": null,
      "_view_module": "@jupyter-widgets/controls",
      "_view_module_version": "1.5.0",
      "_view_name": "HTMLView",
      "description": "",
      "description_tooltip": null,
      "layout": "IPY_MODEL_2cd13e03a2ab45dc8570c8c739a613b4",
      "placeholder": "​",
      "style": "IPY_MODEL_59e0f5200068461cbfb256ad5479c4c8",
      "value": " 1647/0 [00:00&lt;00:00, 14767.90 examples/s]"
     }
    },
    "8ad3e4b211e34c048d0f48e36fdbfe48": {
     "model_module": "@jupyter-widgets/controls",
     "model_name": "DescriptionStyleModel",
     "state": {
      "_model_module": "@jupyter-widgets/controls",
      "_model_module_version": "1.5.0",
      "_model_name": "DescriptionStyleModel",
      "_view_count": null,
      "_view_module": "@jupyter-widgets/base",
      "_view_module_version": "1.2.0",
      "_view_name": "StyleView",
      "description_width": ""
     }
    },
    "8bb78a89ff81400791e3005098fdcb94": {
     "model_module": "@jupyter-widgets/base",
     "model_name": "LayoutModel",
     "state": {
      "_model_module": "@jupyter-widgets/base",
      "_model_module_version": "1.2.0",
      "_model_name": "LayoutModel",
      "_view_count": null,
      "_view_module": "@jupyter-widgets/base",
      "_view_module_version": "1.2.0",
      "_view_name": "LayoutView",
      "align_content": null,
      "align_items": null,
      "align_self": null,
      "border": null,
      "bottom": null,
      "display": null,
      "flex": null,
      "flex_flow": null,
      "grid_area": null,
      "grid_auto_columns": null,
      "grid_auto_flow": null,
      "grid_auto_rows": null,
      "grid_column": null,
      "grid_gap": null,
      "grid_row": null,
      "grid_template_areas": null,
      "grid_template_columns": null,
      "grid_template_rows": null,
      "height": null,
      "justify_content": null,
      "justify_items": null,
      "left": null,
      "margin": null,
      "max_height": null,
      "max_width": null,
      "min_height": null,
      "min_width": null,
      "object_fit": null,
      "object_position": null,
      "order": null,
      "overflow": null,
      "overflow_x": null,
      "overflow_y": null,
      "padding": null,
      "right": null,
      "top": null,
      "visibility": null,
      "width": null
     }
    },
    "8c07a528fc4a4e108b393ab117fe2e46": {
     "model_module": "@jupyter-widgets/controls",
     "model_name": "HTMLModel",
     "state": {
      "_dom_classes": [],
      "_model_module": "@jupyter-widgets/controls",
      "_model_module_version": "1.5.0",
      "_model_name": "HTMLModel",
      "_view_count": null,
      "_view_module": "@jupyter-widgets/controls",
      "_view_module_version": "1.5.0",
      "_view_name": "HTMLView",
      "description": "",
      "description_tooltip": null,
      "layout": "IPY_MODEL_8bb78a89ff81400791e3005098fdcb94",
      "placeholder": "​",
      "style": "IPY_MODEL_813fc95246034f5cb9e5198897b4ed42",
      "value": " 1/1 [00:00&lt;00:00, 13.94ba/s]"
     }
    },
    "8d409ca0372a48e2972ca1d8eee5ffa1": {
     "model_module": "@jupyter-widgets/controls",
     "model_name": "HTMLModel",
     "state": {
      "_dom_classes": [],
      "_model_module": "@jupyter-widgets/controls",
      "_model_module_version": "1.5.0",
      "_model_name": "HTMLModel",
      "_view_count": null,
      "_view_module": "@jupyter-widgets/controls",
      "_view_module_version": "1.5.0",
      "_view_name": "HTMLView",
      "description": "",
      "description_tooltip": null,
      "layout": "IPY_MODEL_b0479f03f96241ca959f6fe7bcbd1aba",
      "placeholder": "​",
      "style": "IPY_MODEL_d362345c05234c97a675c6bacdad0e92",
      "value": " 1647/1647 [01:20&lt;00:00, 20.38ex/s]"
     }
    },
    "8dd5b08bb5bd4e608d04122424796ae7": {
     "model_module": "@jupyter-widgets/controls",
     "model_name": "HTMLModel",
     "state": {
      "_dom_classes": [],
      "_model_module": "@jupyter-widgets/controls",
      "_model_module_version": "1.5.0",
      "_model_name": "HTMLModel",
      "_view_count": null,
      "_view_module": "@jupyter-widgets/controls",
      "_view_module_version": "1.5.0",
      "_view_name": "HTMLView",
      "description": "",
      "description_tooltip": null,
      "layout": "IPY_MODEL_9eb51a6ecf3f41578aa397a5c2a33673",
      "placeholder": "​",
      "style": "IPY_MODEL_2f18d89c684343b69c3f44ffbb9b42a0",
      "value": " 1726/0 [00:00&lt;00:00, 13986.88 examples/s]"
     }
    },
    "8dddd0245dcb4532917cbfa0181d2a00": {
     "model_module": "@jupyter-widgets/controls",
     "model_name": "FloatProgressModel",
     "state": {
      "_dom_classes": [],
      "_model_module": "@jupyter-widgets/controls",
      "_model_module_version": "1.5.0",
      "_model_name": "FloatProgressModel",
      "_view_count": null,
      "_view_module": "@jupyter-widgets/controls",
      "_view_module_version": "1.5.0",
      "_view_name": "ProgressView",
      "bar_style": "success",
      "description": "#2: 100%",
      "description_tooltip": null,
      "layout": "IPY_MODEL_b1d93a7521fa47b8a815445b5232da59",
      "max": 412,
      "min": 0,
      "orientation": "horizontal",
      "style": "IPY_MODEL_024989cea06f435894776b0a921164b2",
      "value": 412
     }
    },
    "8df9d19602cb4951b397c385458a11ef": {
     "model_module": "@jupyter-widgets/controls",
     "model_name": "DescriptionStyleModel",
     "state": {
      "_model_module": "@jupyter-widgets/controls",
      "_model_module_version": "1.5.0",
      "_model_name": "DescriptionStyleModel",
      "_view_count": null,
      "_view_module": "@jupyter-widgets/base",
      "_view_module_version": "1.2.0",
      "_view_name": "StyleView",
      "description_width": ""
     }
    },
    "8e1a85a4a6214a16b7431da23a301ada": {
     "model_module": "@jupyter-widgets/controls",
     "model_name": "FloatProgressModel",
     "state": {
      "_dom_classes": [],
      "_model_module": "@jupyter-widgets/controls",
      "_model_module_version": "1.5.0",
      "_model_name": "FloatProgressModel",
      "_view_count": null,
      "_view_module": "@jupyter-widgets/controls",
      "_view_module_version": "1.5.0",
      "_view_name": "ProgressView",
      "bar_style": "success",
      "description": "Downloading: ",
      "description_tooltip": null,
      "layout": "IPY_MODEL_d453bd4a35e54bfba20dac1fe86c60c1",
      "max": 1764,
      "min": 0,
      "orientation": "horizontal",
      "style": "IPY_MODEL_a3c04c75ec9743feb795f69e7c4dff4f",
      "value": 1764
     }
    },
    "8e63ba7f1fd24555bf11bc9dbe9c770b": {
     "model_module": "@jupyter-widgets/controls",
     "model_name": "HTMLModel",
     "state": {
      "_dom_classes": [],
      "_model_module": "@jupyter-widgets/controls",
      "_model_module_version": "1.5.0",
      "_model_name": "HTMLModel",
      "_view_count": null,
      "_view_module": "@jupyter-widgets/controls",
      "_view_module_version": "1.5.0",
      "_view_name": "HTMLView",
      "description": "",
      "description_tooltip": null,
      "layout": "IPY_MODEL_26e7bab0f3bf4797bfcef83dcace24f0",
      "placeholder": "​",
      "style": "IPY_MODEL_405b5de4ae854cf9896f63d15f2207dd",
      "value": " 52/52 [00:30&lt;00:00,  1.68ba/s]"
     }
    },
    "8f737725708c4097a8caaf4da6229636": {
     "model_module": "@jupyter-widgets/base",
     "model_name": "LayoutModel",
     "state": {
      "_model_module": "@jupyter-widgets/base",
      "_model_module_version": "1.2.0",
      "_model_name": "LayoutModel",
      "_view_count": null,
      "_view_module": "@jupyter-widgets/base",
      "_view_module_version": "1.2.0",
      "_view_name": "LayoutView",
      "align_content": null,
      "align_items": null,
      "align_self": null,
      "border": null,
      "bottom": null,
      "display": null,
      "flex": null,
      "flex_flow": null,
      "grid_area": null,
      "grid_auto_columns": null,
      "grid_auto_flow": null,
      "grid_auto_rows": null,
      "grid_column": null,
      "grid_gap": null,
      "grid_row": null,
      "grid_template_areas": null,
      "grid_template_columns": null,
      "grid_template_rows": null,
      "height": null,
      "justify_content": null,
      "justify_items": null,
      "left": null,
      "margin": null,
      "max_height": null,
      "max_width": null,
      "min_height": null,
      "min_width": null,
      "object_fit": null,
      "object_position": null,
      "order": null,
      "overflow": null,
      "overflow_x": null,
      "overflow_y": null,
      "padding": null,
      "right": null,
      "top": null,
      "visibility": null,
      "width": null
     }
    },
    "90b8bc59e26a46009e1d3763f86f227a": {
     "model_module": "@jupyter-widgets/controls",
     "model_name": "HBoxModel",
     "state": {
      "_dom_classes": [],
      "_model_module": "@jupyter-widgets/controls",
      "_model_module_version": "1.5.0",
      "_model_name": "HBoxModel",
      "_view_count": null,
      "_view_module": "@jupyter-widgets/controls",
      "_view_module_version": "1.5.0",
      "_view_name": "HBoxView",
      "box_style": "",
      "children": [
       "IPY_MODEL_98e7ab5f7ebf426fbb71a37bbad4c28f",
       "IPY_MODEL_e3b719c0ffcc4fd1b410ffb7f969b7a5"
      ],
      "layout": "IPY_MODEL_3e2cd59ac697495f8db14b894b783f95"
     }
    },
    "9185f86719af476da41e3835e8f06f8d": {
     "model_module": "@jupyter-widgets/base",
     "model_name": "LayoutModel",
     "state": {
      "_model_module": "@jupyter-widgets/base",
      "_model_module_version": "1.2.0",
      "_model_name": "LayoutModel",
      "_view_count": null,
      "_view_module": "@jupyter-widgets/base",
      "_view_module_version": "1.2.0",
      "_view_name": "LayoutView",
      "align_content": null,
      "align_items": null,
      "align_self": null,
      "border": null,
      "bottom": null,
      "display": null,
      "flex": null,
      "flex_flow": null,
      "grid_area": null,
      "grid_auto_columns": null,
      "grid_auto_flow": null,
      "grid_auto_rows": null,
      "grid_column": null,
      "grid_gap": null,
      "grid_row": null,
      "grid_template_areas": null,
      "grid_template_columns": null,
      "grid_template_rows": null,
      "height": null,
      "justify_content": null,
      "justify_items": null,
      "left": null,
      "margin": null,
      "max_height": null,
      "max_width": null,
      "min_height": null,
      "min_width": null,
      "object_fit": null,
      "object_position": null,
      "order": null,
      "overflow": null,
      "overflow_x": null,
      "overflow_y": null,
      "padding": null,
      "right": null,
      "top": null,
      "visibility": null,
      "width": null
     }
    },
    "91fcf0641fe3489ab96f3aaa40adf245": {
     "model_module": "@jupyter-widgets/base",
     "model_name": "LayoutModel",
     "state": {
      "_model_module": "@jupyter-widgets/base",
      "_model_module_version": "1.2.0",
      "_model_name": "LayoutModel",
      "_view_count": null,
      "_view_module": "@jupyter-widgets/base",
      "_view_module_version": "1.2.0",
      "_view_name": "LayoutView",
      "align_content": null,
      "align_items": null,
      "align_self": null,
      "border": null,
      "bottom": null,
      "display": null,
      "flex": null,
      "flex_flow": null,
      "grid_area": null,
      "grid_auto_columns": null,
      "grid_auto_flow": null,
      "grid_auto_rows": null,
      "grid_column": null,
      "grid_gap": null,
      "grid_row": null,
      "grid_template_areas": null,
      "grid_template_columns": null,
      "grid_template_rows": null,
      "height": null,
      "justify_content": null,
      "justify_items": null,
      "left": null,
      "margin": null,
      "max_height": null,
      "max_width": null,
      "min_height": null,
      "min_width": null,
      "object_fit": null,
      "object_position": null,
      "order": null,
      "overflow": null,
      "overflow_x": null,
      "overflow_y": null,
      "padding": null,
      "right": null,
      "top": null,
      "visibility": null,
      "width": null
     }
    },
    "923ed9e127524187ab8cfcac31164ba7": {
     "model_module": "@jupyter-widgets/base",
     "model_name": "LayoutModel",
     "state": {
      "_model_module": "@jupyter-widgets/base",
      "_model_module_version": "1.2.0",
      "_model_name": "LayoutModel",
      "_view_count": null,
      "_view_module": "@jupyter-widgets/base",
      "_view_module_version": "1.2.0",
      "_view_name": "LayoutView",
      "align_content": null,
      "align_items": null,
      "align_self": null,
      "border": null,
      "bottom": null,
      "display": null,
      "flex": null,
      "flex_flow": null,
      "grid_area": null,
      "grid_auto_columns": null,
      "grid_auto_flow": null,
      "grid_auto_rows": null,
      "grid_column": null,
      "grid_gap": null,
      "grid_row": null,
      "grid_template_areas": null,
      "grid_template_columns": null,
      "grid_template_rows": null,
      "height": null,
      "justify_content": null,
      "justify_items": null,
      "left": null,
      "margin": null,
      "max_height": null,
      "max_width": null,
      "min_height": null,
      "min_width": null,
      "object_fit": null,
      "object_position": null,
      "order": null,
      "overflow": null,
      "overflow_x": null,
      "overflow_y": null,
      "padding": null,
      "right": null,
      "top": null,
      "visibility": null,
      "width": null
     }
    },
    "929cde17b3484f3e9e8f8774bc43e374": {
     "model_module": "@jupyter-widgets/controls",
     "model_name": "ProgressStyleModel",
     "state": {
      "_model_module": "@jupyter-widgets/controls",
      "_model_module_version": "1.5.0",
      "_model_name": "ProgressStyleModel",
      "_view_count": null,
      "_view_module": "@jupyter-widgets/base",
      "_view_module_version": "1.2.0",
      "_view_name": "StyleView",
      "bar_color": null,
      "description_width": "initial"
     }
    },
    "92a35db69bbf4ad6af44c53aa3870be5": {
     "model_module": "@jupyter-widgets/controls",
     "model_name": "HBoxModel",
     "state": {
      "_dom_classes": [],
      "_model_module": "@jupyter-widgets/controls",
      "_model_module_version": "1.5.0",
      "_model_name": "HBoxModel",
      "_view_count": null,
      "_view_module": "@jupyter-widgets/controls",
      "_view_module_version": "1.5.0",
      "_view_name": "HBoxView",
      "box_style": "",
      "children": [
       "IPY_MODEL_b94e374d92c146009447c3827b977267",
       "IPY_MODEL_1f1faa7b986e475c9e6839b2e7b55c74"
      ],
      "layout": "IPY_MODEL_389e43e47a734193a507817ebad955f7"
     }
    },
    "93f191a48b3141e1889fd94870b6ac0e": {
     "model_module": "@jupyter-widgets/base",
     "model_name": "LayoutModel",
     "state": {
      "_model_module": "@jupyter-widgets/base",
      "_model_module_version": "1.2.0",
      "_model_name": "LayoutModel",
      "_view_count": null,
      "_view_module": "@jupyter-widgets/base",
      "_view_module_version": "1.2.0",
      "_view_name": "LayoutView",
      "align_content": null,
      "align_items": null,
      "align_self": null,
      "border": null,
      "bottom": null,
      "display": null,
      "flex": null,
      "flex_flow": null,
      "grid_area": null,
      "grid_auto_columns": null,
      "grid_auto_flow": null,
      "grid_auto_rows": null,
      "grid_column": null,
      "grid_gap": null,
      "grid_row": null,
      "grid_template_areas": null,
      "grid_template_columns": null,
      "grid_template_rows": null,
      "height": null,
      "justify_content": null,
      "justify_items": null,
      "left": null,
      "margin": null,
      "max_height": null,
      "max_width": null,
      "min_height": null,
      "min_width": null,
      "object_fit": null,
      "object_position": null,
      "order": null,
      "overflow": null,
      "overflow_x": null,
      "overflow_y": null,
      "padding": null,
      "right": null,
      "top": null,
      "visibility": null,
      "width": null
     }
    },
    "9532db4cdc5e4371a4a02055a4c67a08": {
     "model_module": "@jupyter-widgets/controls",
     "model_name": "DescriptionStyleModel",
     "state": {
      "_model_module": "@jupyter-widgets/controls",
      "_model_module_version": "1.5.0",
      "_model_name": "DescriptionStyleModel",
      "_view_count": null,
      "_view_module": "@jupyter-widgets/base",
      "_view_module_version": "1.2.0",
      "_view_name": "StyleView",
      "description_width": ""
     }
    },
    "969080b52ad44ee997829986d198c505": {
     "model_module": "@jupyter-widgets/controls",
     "model_name": "DescriptionStyleModel",
     "state": {
      "_model_module": "@jupyter-widgets/controls",
      "_model_module_version": "1.5.0",
      "_model_name": "DescriptionStyleModel",
      "_view_count": null,
      "_view_module": "@jupyter-widgets/base",
      "_view_module_version": "1.2.0",
      "_view_name": "StyleView",
      "description_width": ""
     }
    },
    "98c594f1e41e4b3fab10f0763bd93d75": {
     "model_module": "@jupyter-widgets/base",
     "model_name": "LayoutModel",
     "state": {
      "_model_module": "@jupyter-widgets/base",
      "_model_module_version": "1.2.0",
      "_model_name": "LayoutModel",
      "_view_count": null,
      "_view_module": "@jupyter-widgets/base",
      "_view_module_version": "1.2.0",
      "_view_name": "LayoutView",
      "align_content": null,
      "align_items": null,
      "align_self": null,
      "border": null,
      "bottom": null,
      "display": null,
      "flex": null,
      "flex_flow": null,
      "grid_area": null,
      "grid_auto_columns": null,
      "grid_auto_flow": null,
      "grid_auto_rows": null,
      "grid_column": null,
      "grid_gap": null,
      "grid_row": null,
      "grid_template_areas": null,
      "grid_template_columns": null,
      "grid_template_rows": null,
      "height": null,
      "justify_content": null,
      "justify_items": null,
      "left": null,
      "margin": null,
      "max_height": null,
      "max_width": null,
      "min_height": null,
      "min_width": null,
      "object_fit": null,
      "object_position": null,
      "order": null,
      "overflow": null,
      "overflow_x": null,
      "overflow_y": null,
      "padding": null,
      "right": null,
      "top": null,
      "visibility": null,
      "width": null
     }
    },
    "98e7ab5f7ebf426fbb71a37bbad4c28f": {
     "model_module": "@jupyter-widgets/controls",
     "model_name": "FloatProgressModel",
     "state": {
      "_dom_classes": [],
      "_model_module": "@jupyter-widgets/controls",
      "_model_module_version": "1.5.0",
      "_model_name": "FloatProgressModel",
      "_view_count": null,
      "_view_module": "@jupyter-widgets/controls",
      "_view_module_version": "1.5.0",
      "_view_name": "ProgressView",
      "bar_style": "info",
      "description": "",
      "description_tooltip": null,
      "layout": "IPY_MODEL_2f5406546970425282a881b5d2f7c248",
      "max": 1,
      "min": 0,
      "orientation": "horizontal",
      "style": "IPY_MODEL_4382726ef043441a9b1a4a647d84f242",
      "value": 1
     }
    },
    "998676d59f9c464e8463d65baad6448b": {
     "model_module": "@jupyter-widgets/controls",
     "model_name": "HTMLModel",
     "state": {
      "_dom_classes": [],
      "_model_module": "@jupyter-widgets/controls",
      "_model_module_version": "1.5.0",
      "_model_name": "HTMLModel",
      "_view_count": null,
      "_view_module": "@jupyter-widgets/controls",
      "_view_module_version": "1.5.0",
      "_view_name": "HTMLView",
      "description": "",
      "description_tooltip": null,
      "layout": "IPY_MODEL_7b4cfd2b448643b8a4409dd612aef0d1",
      "placeholder": "​",
      "style": "IPY_MODEL_7bf5b2b625764f63ad57a360c3fd0a61",
      "value": " 1647/1647 [00:45&lt;00:00, 36.39ex/s]"
     }
    },
    "99d5c44ea54b45ee9bd89380cb1ad189": {
     "model_module": "@jupyter-widgets/base",
     "model_name": "LayoutModel",
     "state": {
      "_model_module": "@jupyter-widgets/base",
      "_model_module_version": "1.2.0",
      "_model_name": "LayoutModel",
      "_view_count": null,
      "_view_module": "@jupyter-widgets/base",
      "_view_module_version": "1.2.0",
      "_view_name": "LayoutView",
      "align_content": null,
      "align_items": null,
      "align_self": null,
      "border": null,
      "bottom": null,
      "display": null,
      "flex": null,
      "flex_flow": null,
      "grid_area": null,
      "grid_auto_columns": null,
      "grid_auto_flow": null,
      "grid_auto_rows": null,
      "grid_column": null,
      "grid_gap": null,
      "grid_row": null,
      "grid_template_areas": null,
      "grid_template_columns": null,
      "grid_template_rows": null,
      "height": null,
      "justify_content": null,
      "justify_items": null,
      "left": null,
      "margin": null,
      "max_height": null,
      "max_width": null,
      "min_height": null,
      "min_width": null,
      "object_fit": null,
      "object_position": null,
      "order": null,
      "overflow": null,
      "overflow_x": null,
      "overflow_y": null,
      "padding": null,
      "right": null,
      "top": null,
      "visibility": null,
      "width": null
     }
    },
    "9eb51a6ecf3f41578aa397a5c2a33673": {
     "model_module": "@jupyter-widgets/base",
     "model_name": "LayoutModel",
     "state": {
      "_model_module": "@jupyter-widgets/base",
      "_model_module_version": "1.2.0",
      "_model_name": "LayoutModel",
      "_view_count": null,
      "_view_module": "@jupyter-widgets/base",
      "_view_module_version": "1.2.0",
      "_view_name": "LayoutView",
      "align_content": null,
      "align_items": null,
      "align_self": null,
      "border": null,
      "bottom": null,
      "display": null,
      "flex": null,
      "flex_flow": null,
      "grid_area": null,
      "grid_auto_columns": null,
      "grid_auto_flow": null,
      "grid_auto_rows": null,
      "grid_column": null,
      "grid_gap": null,
      "grid_row": null,
      "grid_template_areas": null,
      "grid_template_columns": null,
      "grid_template_rows": null,
      "height": null,
      "justify_content": null,
      "justify_items": null,
      "left": null,
      "margin": null,
      "max_height": null,
      "max_width": null,
      "min_height": null,
      "min_width": null,
      "object_fit": null,
      "object_position": null,
      "order": null,
      "overflow": null,
      "overflow_x": null,
      "overflow_y": null,
      "padding": null,
      "right": null,
      "top": null,
      "visibility": null,
      "width": null
     }
    },
    "9f79629ad6a94201acf3283862d1ae17": {
     "model_module": "@jupyter-widgets/controls",
     "model_name": "DescriptionStyleModel",
     "state": {
      "_model_module": "@jupyter-widgets/controls",
      "_model_module_version": "1.5.0",
      "_model_name": "DescriptionStyleModel",
      "_view_count": null,
      "_view_module": "@jupyter-widgets/base",
      "_view_module_version": "1.2.0",
      "_view_name": "StyleView",
      "description_width": ""
     }
    },
    "9fee9d9dd1164d97a9109e942444c332": {
     "model_module": "@jupyter-widgets/controls",
     "model_name": "HTMLModel",
     "state": {
      "_dom_classes": [],
      "_model_module": "@jupyter-widgets/controls",
      "_model_module_version": "1.5.0",
      "_model_name": "HTMLModel",
      "_view_count": null,
      "_view_module": "@jupyter-widgets/controls",
      "_view_module_version": "1.5.0",
      "_view_name": "HTMLView",
      "description": "",
      "description_tooltip": null,
      "layout": "IPY_MODEL_c126ea97019149848396e593cfab016f",
      "placeholder": "​",
      "style": "IPY_MODEL_f9efaa7678c2450f847ff2c2f21ff96e",
      "value": " 52/52 [00:31&lt;00:00,  1.66ba/s]"
     }
    },
    "a170c0cb21cf425fbee97fd6d5584e2c": {
     "model_module": "@jupyter-widgets/base",
     "model_name": "LayoutModel",
     "state": {
      "_model_module": "@jupyter-widgets/base",
      "_model_module_version": "1.2.0",
      "_model_name": "LayoutModel",
      "_view_count": null,
      "_view_module": "@jupyter-widgets/base",
      "_view_module_version": "1.2.0",
      "_view_name": "LayoutView",
      "align_content": null,
      "align_items": null,
      "align_self": null,
      "border": null,
      "bottom": null,
      "display": null,
      "flex": null,
      "flex_flow": null,
      "grid_area": null,
      "grid_auto_columns": null,
      "grid_auto_flow": null,
      "grid_auto_rows": null,
      "grid_column": null,
      "grid_gap": null,
      "grid_row": null,
      "grid_template_areas": null,
      "grid_template_columns": null,
      "grid_template_rows": null,
      "height": null,
      "justify_content": null,
      "justify_items": null,
      "left": null,
      "margin": null,
      "max_height": null,
      "max_width": null,
      "min_height": null,
      "min_width": null,
      "object_fit": null,
      "object_position": null,
      "order": null,
      "overflow": null,
      "overflow_x": null,
      "overflow_y": null,
      "padding": null,
      "right": null,
      "top": null,
      "visibility": null,
      "width": null
     }
    },
    "a34dae18d9994b848630d4e3d836e0cb": {
     "model_module": "@jupyter-widgets/base",
     "model_name": "LayoutModel",
     "state": {
      "_model_module": "@jupyter-widgets/base",
      "_model_module_version": "1.2.0",
      "_model_name": "LayoutModel",
      "_view_count": null,
      "_view_module": "@jupyter-widgets/base",
      "_view_module_version": "1.2.0",
      "_view_name": "LayoutView",
      "align_content": null,
      "align_items": null,
      "align_self": null,
      "border": null,
      "bottom": null,
      "display": null,
      "flex": null,
      "flex_flow": null,
      "grid_area": null,
      "grid_auto_columns": null,
      "grid_auto_flow": null,
      "grid_auto_rows": null,
      "grid_column": null,
      "grid_gap": null,
      "grid_row": null,
      "grid_template_areas": null,
      "grid_template_columns": null,
      "grid_template_rows": null,
      "height": null,
      "justify_content": null,
      "justify_items": null,
      "left": null,
      "margin": null,
      "max_height": null,
      "max_width": null,
      "min_height": null,
      "min_width": null,
      "object_fit": null,
      "object_position": null,
      "order": null,
      "overflow": null,
      "overflow_x": null,
      "overflow_y": null,
      "padding": null,
      "right": null,
      "top": null,
      "visibility": null,
      "width": null
     }
    },
    "a3c04c75ec9743feb795f69e7c4dff4f": {
     "model_module": "@jupyter-widgets/controls",
     "model_name": "ProgressStyleModel",
     "state": {
      "_model_module": "@jupyter-widgets/controls",
      "_model_module_version": "1.5.0",
      "_model_name": "ProgressStyleModel",
      "_view_count": null,
      "_view_module": "@jupyter-widgets/base",
      "_view_module_version": "1.2.0",
      "_view_name": "StyleView",
      "bar_color": null,
      "description_width": "initial"
     }
    },
    "a47f1ea64f894f0b8e6b277c31ae9f7d": {
     "model_module": "@jupyter-widgets/controls",
     "model_name": "ProgressStyleModel",
     "state": {
      "_model_module": "@jupyter-widgets/controls",
      "_model_module_version": "1.5.0",
      "_model_name": "ProgressStyleModel",
      "_view_count": null,
      "_view_module": "@jupyter-widgets/base",
      "_view_module_version": "1.2.0",
      "_view_name": "StyleView",
      "bar_color": null,
      "description_width": "initial"
     }
    },
    "a58c203a7cc54086aea45f2029821207": {
     "model_module": "@jupyter-widgets/controls",
     "model_name": "FloatProgressModel",
     "state": {
      "_dom_classes": [],
      "_model_module": "@jupyter-widgets/controls",
      "_model_module_version": "1.5.0",
      "_model_name": "FloatProgressModel",
      "_view_count": null,
      "_view_module": "@jupyter-widgets/controls",
      "_view_module_version": "1.5.0",
      "_view_name": "ProgressView",
      "bar_style": "success",
      "description": "100%",
      "description_tooltip": null,
      "layout": "IPY_MODEL_b1b6a4649fc34c9996f993c57671766b",
      "max": 1647,
      "min": 0,
      "orientation": "horizontal",
      "style": "IPY_MODEL_c8fdf261ac294093a355778a3a4aba3b",
      "value": 1647
     }
    },
    "a868dea9d9b047a4b853b390e138e4c1": {
     "model_module": "@jupyter-widgets/base",
     "model_name": "LayoutModel",
     "state": {
      "_model_module": "@jupyter-widgets/base",
      "_model_module_version": "1.2.0",
      "_model_name": "LayoutModel",
      "_view_count": null,
      "_view_module": "@jupyter-widgets/base",
      "_view_module_version": "1.2.0",
      "_view_name": "LayoutView",
      "align_content": null,
      "align_items": null,
      "align_self": null,
      "border": null,
      "bottom": null,
      "display": null,
      "flex": null,
      "flex_flow": null,
      "grid_area": null,
      "grid_auto_columns": null,
      "grid_auto_flow": null,
      "grid_auto_rows": null,
      "grid_column": null,
      "grid_gap": null,
      "grid_row": null,
      "grid_template_areas": null,
      "grid_template_columns": null,
      "grid_template_rows": null,
      "height": null,
      "justify_content": null,
      "justify_items": null,
      "left": null,
      "margin": null,
      "max_height": null,
      "max_width": null,
      "min_height": null,
      "min_width": null,
      "object_fit": null,
      "object_position": null,
      "order": null,
      "overflow": null,
      "overflow_x": null,
      "overflow_y": null,
      "padding": null,
      "right": null,
      "top": null,
      "visibility": null,
      "width": null
     }
    },
    "aafd4b2c56db43378c4627797665db17": {
     "model_module": "@jupyter-widgets/controls",
     "model_name": "HTMLModel",
     "state": {
      "_dom_classes": [],
      "_model_module": "@jupyter-widgets/controls",
      "_model_module_version": "1.5.0",
      "_model_name": "HTMLModel",
      "_view_count": null,
      "_view_module": "@jupyter-widgets/controls",
      "_view_module_version": "1.5.0",
      "_view_name": "HTMLView",
      "description": "",
      "description_tooltip": null,
      "layout": "IPY_MODEL_ad428686450f4ebdb50a0356b2e5a8c4",
      "placeholder": "​",
      "style": "IPY_MODEL_ccb720bf256e42f7b0251494ccb7741f",
      "value": " 1/1 [00:45&lt;00:00, 45.03s/ba]"
     }
    },
    "ab72c80dfd5e4ab19a183f4204486b59": {
     "model_module": "@jupyter-widgets/controls",
     "model_name": "DescriptionStyleModel",
     "state": {
      "_model_module": "@jupyter-widgets/controls",
      "_model_module_version": "1.5.0",
      "_model_name": "DescriptionStyleModel",
      "_view_count": null,
      "_view_module": "@jupyter-widgets/base",
      "_view_module_version": "1.2.0",
      "_view_name": "StyleView",
      "description_width": ""
     }
    },
    "ac35dca0845149a284b9867d9e607232": {
     "model_module": "@jupyter-widgets/controls",
     "model_name": "HBoxModel",
     "state": {
      "_dom_classes": [],
      "_model_module": "@jupyter-widgets/controls",
      "_model_module_version": "1.5.0",
      "_model_name": "HBoxModel",
      "_view_count": null,
      "_view_module": "@jupyter-widgets/controls",
      "_view_module_version": "1.5.0",
      "_view_name": "HBoxView",
      "box_style": "",
      "children": [
       "IPY_MODEL_5071a31d06f544a5b7340a4e863d8fdf",
       "IPY_MODEL_542027ba12f444d586e8072452badea0"
      ],
      "layout": "IPY_MODEL_b54bff6261964119bcb562c1a9f74ce6"
     }
    },
    "ad428686450f4ebdb50a0356b2e5a8c4": {
     "model_module": "@jupyter-widgets/base",
     "model_name": "LayoutModel",
     "state": {
      "_model_module": "@jupyter-widgets/base",
      "_model_module_version": "1.2.0",
      "_model_name": "LayoutModel",
      "_view_count": null,
      "_view_module": "@jupyter-widgets/base",
      "_view_module_version": "1.2.0",
      "_view_name": "LayoutView",
      "align_content": null,
      "align_items": null,
      "align_self": null,
      "border": null,
      "bottom": null,
      "display": null,
      "flex": null,
      "flex_flow": null,
      "grid_area": null,
      "grid_auto_columns": null,
      "grid_auto_flow": null,
      "grid_auto_rows": null,
      "grid_column": null,
      "grid_gap": null,
      "grid_row": null,
      "grid_template_areas": null,
      "grid_template_columns": null,
      "grid_template_rows": null,
      "height": null,
      "justify_content": null,
      "justify_items": null,
      "left": null,
      "margin": null,
      "max_height": null,
      "max_width": null,
      "min_height": null,
      "min_width": null,
      "object_fit": null,
      "object_position": null,
      "order": null,
      "overflow": null,
      "overflow_x": null,
      "overflow_y": null,
      "padding": null,
      "right": null,
      "top": null,
      "visibility": null,
      "width": null
     }
    },
    "af85713f677243d19cba9fe69a4a5f46": {
     "model_module": "@jupyter-widgets/base",
     "model_name": "LayoutModel",
     "state": {
      "_model_module": "@jupyter-widgets/base",
      "_model_module_version": "1.2.0",
      "_model_name": "LayoutModel",
      "_view_count": null,
      "_view_module": "@jupyter-widgets/base",
      "_view_module_version": "1.2.0",
      "_view_name": "LayoutView",
      "align_content": null,
      "align_items": null,
      "align_self": null,
      "border": null,
      "bottom": null,
      "display": null,
      "flex": null,
      "flex_flow": null,
      "grid_area": null,
      "grid_auto_columns": null,
      "grid_auto_flow": null,
      "grid_auto_rows": null,
      "grid_column": null,
      "grid_gap": null,
      "grid_row": null,
      "grid_template_areas": null,
      "grid_template_columns": null,
      "grid_template_rows": null,
      "height": null,
      "justify_content": null,
      "justify_items": null,
      "left": null,
      "margin": null,
      "max_height": null,
      "max_width": null,
      "min_height": null,
      "min_width": null,
      "object_fit": null,
      "object_position": null,
      "order": null,
      "overflow": null,
      "overflow_x": null,
      "overflow_y": null,
      "padding": null,
      "right": null,
      "top": null,
      "visibility": null,
      "width": null
     }
    },
    "b0479f03f96241ca959f6fe7bcbd1aba": {
     "model_module": "@jupyter-widgets/base",
     "model_name": "LayoutModel",
     "state": {
      "_model_module": "@jupyter-widgets/base",
      "_model_module_version": "1.2.0",
      "_model_name": "LayoutModel",
      "_view_count": null,
      "_view_module": "@jupyter-widgets/base",
      "_view_module_version": "1.2.0",
      "_view_name": "LayoutView",
      "align_content": null,
      "align_items": null,
      "align_self": null,
      "border": null,
      "bottom": null,
      "display": null,
      "flex": null,
      "flex_flow": null,
      "grid_area": null,
      "grid_auto_columns": null,
      "grid_auto_flow": null,
      "grid_auto_rows": null,
      "grid_column": null,
      "grid_gap": null,
      "grid_row": null,
      "grid_template_areas": null,
      "grid_template_columns": null,
      "grid_template_rows": null,
      "height": null,
      "justify_content": null,
      "justify_items": null,
      "left": null,
      "margin": null,
      "max_height": null,
      "max_width": null,
      "min_height": null,
      "min_width": null,
      "object_fit": null,
      "object_position": null,
      "order": null,
      "overflow": null,
      "overflow_x": null,
      "overflow_y": null,
      "padding": null,
      "right": null,
      "top": null,
      "visibility": null,
      "width": null
     }
    },
    "b054b00a32e64fc5988fbd2966ebbce6": {
     "model_module": "@jupyter-widgets/base",
     "model_name": "LayoutModel",
     "state": {
      "_model_module": "@jupyter-widgets/base",
      "_model_module_version": "1.2.0",
      "_model_name": "LayoutModel",
      "_view_count": null,
      "_view_module": "@jupyter-widgets/base",
      "_view_module_version": "1.2.0",
      "_view_name": "LayoutView",
      "align_content": null,
      "align_items": null,
      "align_self": null,
      "border": null,
      "bottom": null,
      "display": null,
      "flex": null,
      "flex_flow": null,
      "grid_area": null,
      "grid_auto_columns": null,
      "grid_auto_flow": null,
      "grid_auto_rows": null,
      "grid_column": null,
      "grid_gap": null,
      "grid_row": null,
      "grid_template_areas": null,
      "grid_template_columns": null,
      "grid_template_rows": null,
      "height": null,
      "justify_content": null,
      "justify_items": null,
      "left": null,
      "margin": null,
      "max_height": null,
      "max_width": null,
      "min_height": null,
      "min_width": null,
      "object_fit": null,
      "object_position": null,
      "order": null,
      "overflow": null,
      "overflow_x": null,
      "overflow_y": null,
      "padding": null,
      "right": null,
      "top": null,
      "visibility": null,
      "width": null
     }
    },
    "b0e3a36279d243ab9943149705c72c3e": {
     "model_module": "@jupyter-widgets/controls",
     "model_name": "FloatProgressModel",
     "state": {
      "_dom_classes": [],
      "_model_module": "@jupyter-widgets/controls",
      "_model_module_version": "1.5.0",
      "_model_name": "FloatProgressModel",
      "_view_count": null,
      "_view_module": "@jupyter-widgets/controls",
      "_view_module_version": "1.5.0",
      "_view_name": "ProgressView",
      "bar_style": "success",
      "description": "Downloading: ",
      "description_tooltip": null,
      "layout": "IPY_MODEL_a34dae18d9994b848630d4e3d836e0cb",
      "max": 5925,
      "min": 0,
      "orientation": "horizontal",
      "style": "IPY_MODEL_530f66ac087e4f8f979fcaa33941c60d",
      "value": 5925
     }
    },
    "b0f3a205ad4546188fc6e7e7cf96ab32": {
     "model_module": "@jupyter-widgets/controls",
     "model_name": "ProgressStyleModel",
     "state": {
      "_model_module": "@jupyter-widgets/controls",
      "_model_module_version": "1.5.0",
      "_model_name": "ProgressStyleModel",
      "_view_count": null,
      "_view_module": "@jupyter-widgets/base",
      "_view_module_version": "1.2.0",
      "_view_name": "StyleView",
      "bar_color": null,
      "description_width": "initial"
     }
    },
    "b177a8cb85a24b88ab6d56205b630f1d": {
     "model_module": "@jupyter-widgets/base",
     "model_name": "LayoutModel",
     "state": {
      "_model_module": "@jupyter-widgets/base",
      "_model_module_version": "1.2.0",
      "_model_name": "LayoutModel",
      "_view_count": null,
      "_view_module": "@jupyter-widgets/base",
      "_view_module_version": "1.2.0",
      "_view_name": "LayoutView",
      "align_content": null,
      "align_items": null,
      "align_self": null,
      "border": null,
      "bottom": null,
      "display": null,
      "flex": null,
      "flex_flow": null,
      "grid_area": null,
      "grid_auto_columns": null,
      "grid_auto_flow": null,
      "grid_auto_rows": null,
      "grid_column": null,
      "grid_gap": null,
      "grid_row": null,
      "grid_template_areas": null,
      "grid_template_columns": null,
      "grid_template_rows": null,
      "height": null,
      "justify_content": null,
      "justify_items": null,
      "left": null,
      "margin": null,
      "max_height": null,
      "max_width": null,
      "min_height": null,
      "min_width": null,
      "object_fit": null,
      "object_position": null,
      "order": null,
      "overflow": null,
      "overflow_x": null,
      "overflow_y": null,
      "padding": null,
      "right": null,
      "top": null,
      "visibility": null,
      "width": null
     }
    },
    "b1b6a4649fc34c9996f993c57671766b": {
     "model_module": "@jupyter-widgets/base",
     "model_name": "LayoutModel",
     "state": {
      "_model_module": "@jupyter-widgets/base",
      "_model_module_version": "1.2.0",
      "_model_name": "LayoutModel",
      "_view_count": null,
      "_view_module": "@jupyter-widgets/base",
      "_view_module_version": "1.2.0",
      "_view_name": "LayoutView",
      "align_content": null,
      "align_items": null,
      "align_self": null,
      "border": null,
      "bottom": null,
      "display": null,
      "flex": null,
      "flex_flow": null,
      "grid_area": null,
      "grid_auto_columns": null,
      "grid_auto_flow": null,
      "grid_auto_rows": null,
      "grid_column": null,
      "grid_gap": null,
      "grid_row": null,
      "grid_template_areas": null,
      "grid_template_columns": null,
      "grid_template_rows": null,
      "height": null,
      "justify_content": null,
      "justify_items": null,
      "left": null,
      "margin": null,
      "max_height": null,
      "max_width": null,
      "min_height": null,
      "min_width": null,
      "object_fit": null,
      "object_position": null,
      "order": null,
      "overflow": null,
      "overflow_x": null,
      "overflow_y": null,
      "padding": null,
      "right": null,
      "top": null,
      "visibility": null,
      "width": null
     }
    },
    "b1d93a7521fa47b8a815445b5232da59": {
     "model_module": "@jupyter-widgets/base",
     "model_name": "LayoutModel",
     "state": {
      "_model_module": "@jupyter-widgets/base",
      "_model_module_version": "1.2.0",
      "_model_name": "LayoutModel",
      "_view_count": null,
      "_view_module": "@jupyter-widgets/base",
      "_view_module_version": "1.2.0",
      "_view_name": "LayoutView",
      "align_content": null,
      "align_items": null,
      "align_self": null,
      "border": null,
      "bottom": null,
      "display": null,
      "flex": null,
      "flex_flow": null,
      "grid_area": null,
      "grid_auto_columns": null,
      "grid_auto_flow": null,
      "grid_auto_rows": null,
      "grid_column": null,
      "grid_gap": null,
      "grid_row": null,
      "grid_template_areas": null,
      "grid_template_columns": null,
      "grid_template_rows": null,
      "height": null,
      "justify_content": null,
      "justify_items": null,
      "left": null,
      "margin": null,
      "max_height": null,
      "max_width": null,
      "min_height": null,
      "min_width": null,
      "object_fit": null,
      "object_position": null,
      "order": null,
      "overflow": null,
      "overflow_x": null,
      "overflow_y": null,
      "padding": null,
      "right": null,
      "top": null,
      "visibility": null,
      "width": null
     }
    },
    "b2473405490e4556bf30c0cc81237aa5": {
     "model_module": "@jupyter-widgets/base",
     "model_name": "LayoutModel",
     "state": {
      "_model_module": "@jupyter-widgets/base",
      "_model_module_version": "1.2.0",
      "_model_name": "LayoutModel",
      "_view_count": null,
      "_view_module": "@jupyter-widgets/base",
      "_view_module_version": "1.2.0",
      "_view_name": "LayoutView",
      "align_content": null,
      "align_items": null,
      "align_self": null,
      "border": null,
      "bottom": null,
      "display": null,
      "flex": null,
      "flex_flow": null,
      "grid_area": null,
      "grid_auto_columns": null,
      "grid_auto_flow": null,
      "grid_auto_rows": null,
      "grid_column": null,
      "grid_gap": null,
      "grid_row": null,
      "grid_template_areas": null,
      "grid_template_columns": null,
      "grid_template_rows": null,
      "height": null,
      "justify_content": null,
      "justify_items": null,
      "left": null,
      "margin": null,
      "max_height": null,
      "max_width": null,
      "min_height": null,
      "min_width": null,
      "object_fit": null,
      "object_position": null,
      "order": null,
      "overflow": null,
      "overflow_x": null,
      "overflow_y": null,
      "padding": null,
      "right": null,
      "top": null,
      "visibility": null,
      "width": null
     }
    },
    "b320306eaf264ad9872d507a1a1cb2da": {
     "model_module": "@jupyter-widgets/base",
     "model_name": "LayoutModel",
     "state": {
      "_model_module": "@jupyter-widgets/base",
      "_model_module_version": "1.2.0",
      "_model_name": "LayoutModel",
      "_view_count": null,
      "_view_module": "@jupyter-widgets/base",
      "_view_module_version": "1.2.0",
      "_view_name": "LayoutView",
      "align_content": null,
      "align_items": null,
      "align_self": null,
      "border": null,
      "bottom": null,
      "display": null,
      "flex": null,
      "flex_flow": null,
      "grid_area": null,
      "grid_auto_columns": null,
      "grid_auto_flow": null,
      "grid_auto_rows": null,
      "grid_column": null,
      "grid_gap": null,
      "grid_row": null,
      "grid_template_areas": null,
      "grid_template_columns": null,
      "grid_template_rows": null,
      "height": null,
      "justify_content": null,
      "justify_items": null,
      "left": null,
      "margin": null,
      "max_height": null,
      "max_width": null,
      "min_height": null,
      "min_width": null,
      "object_fit": null,
      "object_position": null,
      "order": null,
      "overflow": null,
      "overflow_x": null,
      "overflow_y": null,
      "padding": null,
      "right": null,
      "top": null,
      "visibility": null,
      "width": null
     }
    },
    "b54bff6261964119bcb562c1a9f74ce6": {
     "model_module": "@jupyter-widgets/base",
     "model_name": "LayoutModel",
     "state": {
      "_model_module": "@jupyter-widgets/base",
      "_model_module_version": "1.2.0",
      "_model_name": "LayoutModel",
      "_view_count": null,
      "_view_module": "@jupyter-widgets/base",
      "_view_module_version": "1.2.0",
      "_view_name": "LayoutView",
      "align_content": null,
      "align_items": null,
      "align_self": null,
      "border": null,
      "bottom": null,
      "display": null,
      "flex": null,
      "flex_flow": null,
      "grid_area": null,
      "grid_auto_columns": null,
      "grid_auto_flow": null,
      "grid_auto_rows": null,
      "grid_column": null,
      "grid_gap": null,
      "grid_row": null,
      "grid_template_areas": null,
      "grid_template_columns": null,
      "grid_template_rows": null,
      "height": null,
      "justify_content": null,
      "justify_items": null,
      "left": null,
      "margin": null,
      "max_height": null,
      "max_width": null,
      "min_height": null,
      "min_width": null,
      "object_fit": null,
      "object_position": null,
      "order": null,
      "overflow": null,
      "overflow_x": null,
      "overflow_y": null,
      "padding": null,
      "right": null,
      "top": null,
      "visibility": null,
      "width": null
     }
    },
    "b6221b4c04e64c9da9eb9e11539bac89": {
     "model_module": "@jupyter-widgets/controls",
     "model_name": "HBoxModel",
     "state": {
      "_dom_classes": [],
      "_model_module": "@jupyter-widgets/controls",
      "_model_module_version": "1.5.0",
      "_model_name": "HBoxModel",
      "_view_count": null,
      "_view_module": "@jupyter-widgets/controls",
      "_view_module_version": "1.5.0",
      "_view_name": "HBoxView",
      "box_style": "",
      "children": [
       "IPY_MODEL_02d1f77324854fbca0df9384c57faac8",
       "IPY_MODEL_8e63ba7f1fd24555bf11bc9dbe9c770b"
      ],
      "layout": "IPY_MODEL_dc6862530f6e429ba61a169b4c95722c"
     }
    },
    "b78413dcc0584a0c8f71731a06aaa1b8": {
     "model_module": "@jupyter-widgets/base",
     "model_name": "LayoutModel",
     "state": {
      "_model_module": "@jupyter-widgets/base",
      "_model_module_version": "1.2.0",
      "_model_name": "LayoutModel",
      "_view_count": null,
      "_view_module": "@jupyter-widgets/base",
      "_view_module_version": "1.2.0",
      "_view_name": "LayoutView",
      "align_content": null,
      "align_items": null,
      "align_self": null,
      "border": null,
      "bottom": null,
      "display": null,
      "flex": null,
      "flex_flow": null,
      "grid_area": null,
      "grid_auto_columns": null,
      "grid_auto_flow": null,
      "grid_auto_rows": null,
      "grid_column": null,
      "grid_gap": null,
      "grid_row": null,
      "grid_template_areas": null,
      "grid_template_columns": null,
      "grid_template_rows": null,
      "height": null,
      "justify_content": null,
      "justify_items": null,
      "left": null,
      "margin": null,
      "max_height": null,
      "max_width": null,
      "min_height": null,
      "min_width": null,
      "object_fit": null,
      "object_position": null,
      "order": null,
      "overflow": null,
      "overflow_x": null,
      "overflow_y": null,
      "padding": null,
      "right": null,
      "top": null,
      "visibility": null,
      "width": null
     }
    },
    "b7c43fb5efdd4afbb82c81b923f2815a": {
     "model_module": "@jupyter-widgets/controls",
     "model_name": "HBoxModel",
     "state": {
      "_dom_classes": [],
      "_model_module": "@jupyter-widgets/controls",
      "_model_module_version": "1.5.0",
      "_model_name": "HBoxModel",
      "_view_count": null,
      "_view_module": "@jupyter-widgets/controls",
      "_view_module_version": "1.5.0",
      "_view_name": "HBoxView",
      "box_style": "",
      "children": [
       "IPY_MODEL_8dddd0245dcb4532917cbfa0181d2a00",
       "IPY_MODEL_3bdb4058f40f40e3a10e323325a64638"
      ],
      "layout": "IPY_MODEL_c0a661f20e7e4649a3c8c42a5fd01956"
     }
    },
    "b94e374d92c146009447c3827b977267": {
     "model_module": "@jupyter-widgets/controls",
     "model_name": "FloatProgressModel",
     "state": {
      "_dom_classes": [],
      "_model_module": "@jupyter-widgets/controls",
      "_model_module_version": "1.5.0",
      "_model_name": "FloatProgressModel",
      "_view_count": null,
      "_view_module": "@jupyter-widgets/controls",
      "_view_module_version": "1.5.0",
      "_view_name": "ProgressView",
      "bar_style": "success",
      "description": "100%",
      "description_tooltip": null,
      "layout": "IPY_MODEL_b177a8cb85a24b88ab6d56205b630f1d",
      "max": 3478,
      "min": 0,
      "orientation": "horizontal",
      "style": "IPY_MODEL_4ff7ccffc36a4a0f93031f5cdc3b718d",
      "value": 3478
     }
    },
    "b9c5c6dd54cc4dc5ad5a2bb69a24ab05": {
     "model_module": "@jupyter-widgets/controls",
     "model_name": "ProgressStyleModel",
     "state": {
      "_model_module": "@jupyter-widgets/controls",
      "_model_module_version": "1.5.0",
      "_model_name": "ProgressStyleModel",
      "_view_count": null,
      "_view_module": "@jupyter-widgets/base",
      "_view_module_version": "1.2.0",
      "_view_name": "StyleView",
      "bar_color": null,
      "description_width": "initial"
     }
    },
    "bc41384bbae04044b9780651c6b5a47c": {
     "model_module": "@jupyter-widgets/base",
     "model_name": "LayoutModel",
     "state": {
      "_model_module": "@jupyter-widgets/base",
      "_model_module_version": "1.2.0",
      "_model_name": "LayoutModel",
      "_view_count": null,
      "_view_module": "@jupyter-widgets/base",
      "_view_module_version": "1.2.0",
      "_view_name": "LayoutView",
      "align_content": null,
      "align_items": null,
      "align_self": null,
      "border": null,
      "bottom": null,
      "display": null,
      "flex": null,
      "flex_flow": null,
      "grid_area": null,
      "grid_auto_columns": null,
      "grid_auto_flow": null,
      "grid_auto_rows": null,
      "grid_column": null,
      "grid_gap": null,
      "grid_row": null,
      "grid_template_areas": null,
      "grid_template_columns": null,
      "grid_template_rows": null,
      "height": null,
      "justify_content": null,
      "justify_items": null,
      "left": null,
      "margin": null,
      "max_height": null,
      "max_width": null,
      "min_height": null,
      "min_width": null,
      "object_fit": null,
      "object_position": null,
      "order": null,
      "overflow": null,
      "overflow_x": null,
      "overflow_y": null,
      "padding": null,
      "right": null,
      "top": null,
      "visibility": null,
      "width": null
     }
    },
    "bd0958ea97b141b1aca367c71721c549": {
     "model_module": "@jupyter-widgets/controls",
     "model_name": "HBoxModel",
     "state": {
      "_dom_classes": [],
      "_model_module": "@jupyter-widgets/controls",
      "_model_module_version": "1.5.0",
      "_model_name": "HBoxModel",
      "_view_count": null,
      "_view_module": "@jupyter-widgets/controls",
      "_view_module_version": "1.5.0",
      "_view_name": "HBoxView",
      "box_style": "",
      "children": [
       "IPY_MODEL_d080668299ef42fabb8ab6fbcf329cea",
       "IPY_MODEL_aafd4b2c56db43378c4627797665db17"
      ],
      "layout": "IPY_MODEL_0354ab33471e4c34a0c1b3c062bcd6bb"
     }
    },
    "bd187486ac2548f2961cfcb63d852de1": {
     "model_module": "@jupyter-widgets/controls",
     "model_name": "FloatProgressModel",
     "state": {
      "_dom_classes": [],
      "_model_module": "@jupyter-widgets/controls",
      "_model_module_version": "1.5.0",
      "_model_name": "FloatProgressModel",
      "_view_count": null,
      "_view_module": "@jupyter-widgets/controls",
      "_view_module_version": "1.5.0",
      "_view_name": "ProgressView",
      "bar_style": "success",
      "description": "#1: 100%",
      "description_tooltip": null,
      "layout": "IPY_MODEL_58f3e8002f984594ac05c973aa78ef69",
      "max": 52,
      "min": 0,
      "orientation": "horizontal",
      "style": "IPY_MODEL_231c66f195d34f86b216805518f4bccd",
      "value": 52
     }
    },
    "bd3447291ce54812af10ac6245ea4328": {
     "model_module": "@jupyter-widgets/base",
     "model_name": "LayoutModel",
     "state": {
      "_model_module": "@jupyter-widgets/base",
      "_model_module_version": "1.2.0",
      "_model_name": "LayoutModel",
      "_view_count": null,
      "_view_module": "@jupyter-widgets/base",
      "_view_module_version": "1.2.0",
      "_view_name": "LayoutView",
      "align_content": null,
      "align_items": null,
      "align_self": null,
      "border": null,
      "bottom": null,
      "display": null,
      "flex": null,
      "flex_flow": null,
      "grid_area": null,
      "grid_auto_columns": null,
      "grid_auto_flow": null,
      "grid_auto_rows": null,
      "grid_column": null,
      "grid_gap": null,
      "grid_row": null,
      "grid_template_areas": null,
      "grid_template_columns": null,
      "grid_template_rows": null,
      "height": null,
      "justify_content": null,
      "justify_items": null,
      "left": null,
      "margin": null,
      "max_height": null,
      "max_width": null,
      "min_height": null,
      "min_width": null,
      "object_fit": null,
      "object_position": null,
      "order": null,
      "overflow": null,
      "overflow_x": null,
      "overflow_y": null,
      "padding": null,
      "right": null,
      "top": null,
      "visibility": null,
      "width": null
     }
    },
    "beca070c32124a119a08cb21c2ca95e5": {
     "model_module": "@jupyter-widgets/controls",
     "model_name": "ProgressStyleModel",
     "state": {
      "_model_module": "@jupyter-widgets/controls",
      "_model_module_version": "1.5.0",
      "_model_name": "ProgressStyleModel",
      "_view_count": null,
      "_view_module": "@jupyter-widgets/base",
      "_view_module_version": "1.2.0",
      "_view_name": "StyleView",
      "bar_color": null,
      "description_width": "initial"
     }
    },
    "bee0f50055eb4f738636142a10da0ddd": {
     "model_module": "@jupyter-widgets/base",
     "model_name": "LayoutModel",
     "state": {
      "_model_module": "@jupyter-widgets/base",
      "_model_module_version": "1.2.0",
      "_model_name": "LayoutModel",
      "_view_count": null,
      "_view_module": "@jupyter-widgets/base",
      "_view_module_version": "1.2.0",
      "_view_name": "LayoutView",
      "align_content": null,
      "align_items": null,
      "align_self": null,
      "border": null,
      "bottom": null,
      "display": null,
      "flex": null,
      "flex_flow": null,
      "grid_area": null,
      "grid_auto_columns": null,
      "grid_auto_flow": null,
      "grid_auto_rows": null,
      "grid_column": null,
      "grid_gap": null,
      "grid_row": null,
      "grid_template_areas": null,
      "grid_template_columns": null,
      "grid_template_rows": null,
      "height": null,
      "justify_content": null,
      "justify_items": null,
      "left": null,
      "margin": null,
      "max_height": null,
      "max_width": null,
      "min_height": null,
      "min_width": null,
      "object_fit": null,
      "object_position": null,
      "order": null,
      "overflow": null,
      "overflow_x": null,
      "overflow_y": null,
      "padding": null,
      "right": null,
      "top": null,
      "visibility": null,
      "width": null
     }
    },
    "bf9e57d81135412d9a9a2281f28bd52a": {
     "model_module": "@jupyter-widgets/controls",
     "model_name": "HBoxModel",
     "state": {
      "_dom_classes": [],
      "_model_module": "@jupyter-widgets/controls",
      "_model_module_version": "1.5.0",
      "_model_name": "HBoxModel",
      "_view_count": null,
      "_view_module": "@jupyter-widgets/controls",
      "_view_module_version": "1.5.0",
      "_view_name": "HBoxView",
      "box_style": "",
      "children": [
       "IPY_MODEL_579b6055028f473981ce789a0733a753",
       "IPY_MODEL_4fb7347e9ca542e6ab9003bf4db218e0"
      ],
      "layout": "IPY_MODEL_c41610c0baef412984f8661d96e08b7e"
     }
    },
    "c01aca3229a24d41841be2b4a3a65bcc": {
     "model_module": "@jupyter-widgets/controls",
     "model_name": "ProgressStyleModel",
     "state": {
      "_model_module": "@jupyter-widgets/controls",
      "_model_module_version": "1.5.0",
      "_model_name": "ProgressStyleModel",
      "_view_count": null,
      "_view_module": "@jupyter-widgets/base",
      "_view_module_version": "1.2.0",
      "_view_name": "StyleView",
      "bar_color": null,
      "description_width": "initial"
     }
    },
    "c0a661f20e7e4649a3c8c42a5fd01956": {
     "model_module": "@jupyter-widgets/base",
     "model_name": "LayoutModel",
     "state": {
      "_model_module": "@jupyter-widgets/base",
      "_model_module_version": "1.2.0",
      "_model_name": "LayoutModel",
      "_view_count": null,
      "_view_module": "@jupyter-widgets/base",
      "_view_module_version": "1.2.0",
      "_view_name": "LayoutView",
      "align_content": null,
      "align_items": null,
      "align_self": null,
      "border": null,
      "bottom": null,
      "display": null,
      "flex": null,
      "flex_flow": null,
      "grid_area": null,
      "grid_auto_columns": null,
      "grid_auto_flow": null,
      "grid_auto_rows": null,
      "grid_column": null,
      "grid_gap": null,
      "grid_row": null,
      "grid_template_areas": null,
      "grid_template_columns": null,
      "grid_template_rows": null,
      "height": null,
      "justify_content": null,
      "justify_items": null,
      "left": null,
      "margin": null,
      "max_height": null,
      "max_width": null,
      "min_height": null,
      "min_width": null,
      "object_fit": null,
      "object_position": null,
      "order": null,
      "overflow": null,
      "overflow_x": null,
      "overflow_y": null,
      "padding": null,
      "right": null,
      "top": null,
      "visibility": null,
      "width": null
     }
    },
    "c0e6b6e6395d4dbd827eb1c0de1ad21a": {
     "model_module": "@jupyter-widgets/base",
     "model_name": "LayoutModel",
     "state": {
      "_model_module": "@jupyter-widgets/base",
      "_model_module_version": "1.2.0",
      "_model_name": "LayoutModel",
      "_view_count": null,
      "_view_module": "@jupyter-widgets/base",
      "_view_module_version": "1.2.0",
      "_view_name": "LayoutView",
      "align_content": null,
      "align_items": null,
      "align_self": null,
      "border": null,
      "bottom": null,
      "display": null,
      "flex": null,
      "flex_flow": null,
      "grid_area": null,
      "grid_auto_columns": null,
      "grid_auto_flow": null,
      "grid_auto_rows": null,
      "grid_column": null,
      "grid_gap": null,
      "grid_row": null,
      "grid_template_areas": null,
      "grid_template_columns": null,
      "grid_template_rows": null,
      "height": null,
      "justify_content": null,
      "justify_items": null,
      "left": null,
      "margin": null,
      "max_height": null,
      "max_width": null,
      "min_height": null,
      "min_width": null,
      "object_fit": null,
      "object_position": null,
      "order": null,
      "overflow": null,
      "overflow_x": null,
      "overflow_y": null,
      "padding": null,
      "right": null,
      "top": null,
      "visibility": null,
      "width": null
     }
    },
    "c126ea97019149848396e593cfab016f": {
     "model_module": "@jupyter-widgets/base",
     "model_name": "LayoutModel",
     "state": {
      "_model_module": "@jupyter-widgets/base",
      "_model_module_version": "1.2.0",
      "_model_name": "LayoutModel",
      "_view_count": null,
      "_view_module": "@jupyter-widgets/base",
      "_view_module_version": "1.2.0",
      "_view_name": "LayoutView",
      "align_content": null,
      "align_items": null,
      "align_self": null,
      "border": null,
      "bottom": null,
      "display": null,
      "flex": null,
      "flex_flow": null,
      "grid_area": null,
      "grid_auto_columns": null,
      "grid_auto_flow": null,
      "grid_auto_rows": null,
      "grid_column": null,
      "grid_gap": null,
      "grid_row": null,
      "grid_template_areas": null,
      "grid_template_columns": null,
      "grid_template_rows": null,
      "height": null,
      "justify_content": null,
      "justify_items": null,
      "left": null,
      "margin": null,
      "max_height": null,
      "max_width": null,
      "min_height": null,
      "min_width": null,
      "object_fit": null,
      "object_position": null,
      "order": null,
      "overflow": null,
      "overflow_x": null,
      "overflow_y": null,
      "padding": null,
      "right": null,
      "top": null,
      "visibility": null,
      "width": null
     }
    },
    "c41610c0baef412984f8661d96e08b7e": {
     "model_module": "@jupyter-widgets/base",
     "model_name": "LayoutModel",
     "state": {
      "_model_module": "@jupyter-widgets/base",
      "_model_module_version": "1.2.0",
      "_model_name": "LayoutModel",
      "_view_count": null,
      "_view_module": "@jupyter-widgets/base",
      "_view_module_version": "1.2.0",
      "_view_name": "LayoutView",
      "align_content": null,
      "align_items": null,
      "align_self": null,
      "border": null,
      "bottom": null,
      "display": null,
      "flex": null,
      "flex_flow": null,
      "grid_area": null,
      "grid_auto_columns": null,
      "grid_auto_flow": null,
      "grid_auto_rows": null,
      "grid_column": null,
      "grid_gap": null,
      "grid_row": null,
      "grid_template_areas": null,
      "grid_template_columns": null,
      "grid_template_rows": null,
      "height": null,
      "justify_content": null,
      "justify_items": null,
      "left": null,
      "margin": null,
      "max_height": null,
      "max_width": null,
      "min_height": null,
      "min_width": null,
      "object_fit": null,
      "object_position": null,
      "order": null,
      "overflow": null,
      "overflow_x": null,
      "overflow_y": null,
      "padding": null,
      "right": null,
      "top": null,
      "visibility": null,
      "width": null
     }
    },
    "c546bca23ee248a1be7bd8ead3e82a8f": {
     "model_module": "@jupyter-widgets/controls",
     "model_name": "ProgressStyleModel",
     "state": {
      "_model_module": "@jupyter-widgets/controls",
      "_model_module_version": "1.5.0",
      "_model_name": "ProgressStyleModel",
      "_view_count": null,
      "_view_module": "@jupyter-widgets/base",
      "_view_module_version": "1.2.0",
      "_view_name": "StyleView",
      "bar_color": null,
      "description_width": "initial"
     }
    },
    "c8fdf261ac294093a355778a3a4aba3b": {
     "model_module": "@jupyter-widgets/controls",
     "model_name": "ProgressStyleModel",
     "state": {
      "_model_module": "@jupyter-widgets/controls",
      "_model_module_version": "1.5.0",
      "_model_name": "ProgressStyleModel",
      "_view_count": null,
      "_view_module": "@jupyter-widgets/base",
      "_view_module_version": "1.2.0",
      "_view_name": "StyleView",
      "bar_color": null,
      "description_width": "initial"
     }
    },
    "c9dc4421940241c59f1151aeabedc98b": {
     "model_module": "@jupyter-widgets/base",
     "model_name": "LayoutModel",
     "state": {
      "_model_module": "@jupyter-widgets/base",
      "_model_module_version": "1.2.0",
      "_model_name": "LayoutModel",
      "_view_count": null,
      "_view_module": "@jupyter-widgets/base",
      "_view_module_version": "1.2.0",
      "_view_name": "LayoutView",
      "align_content": null,
      "align_items": null,
      "align_self": null,
      "border": null,
      "bottom": null,
      "display": null,
      "flex": null,
      "flex_flow": null,
      "grid_area": null,
      "grid_auto_columns": null,
      "grid_auto_flow": null,
      "grid_auto_rows": null,
      "grid_column": null,
      "grid_gap": null,
      "grid_row": null,
      "grid_template_areas": null,
      "grid_template_columns": null,
      "grid_template_rows": null,
      "height": null,
      "justify_content": null,
      "justify_items": null,
      "left": null,
      "margin": null,
      "max_height": null,
      "max_width": null,
      "min_height": null,
      "min_width": null,
      "object_fit": null,
      "object_position": null,
      "order": null,
      "overflow": null,
      "overflow_x": null,
      "overflow_y": null,
      "padding": null,
      "right": null,
      "top": null,
      "visibility": null,
      "width": null
     }
    },
    "cb5666eb8ebb4d1392e98d6b5af8761c": {
     "model_module": "@jupyter-widgets/controls",
     "model_name": "DescriptionStyleModel",
     "state": {
      "_model_module": "@jupyter-widgets/controls",
      "_model_module_version": "1.5.0",
      "_model_name": "DescriptionStyleModel",
      "_view_count": null,
      "_view_module": "@jupyter-widgets/base",
      "_view_module_version": "1.2.0",
      "_view_name": "StyleView",
      "description_width": ""
     }
    },
    "cc9c1e00c2d34516b8fd9edff96bb0d8": {
     "model_module": "@jupyter-widgets/controls",
     "model_name": "HBoxModel",
     "state": {
      "_dom_classes": [],
      "_model_module": "@jupyter-widgets/controls",
      "_model_module_version": "1.5.0",
      "_model_name": "HBoxModel",
      "_view_count": null,
      "_view_module": "@jupyter-widgets/controls",
      "_view_module_version": "1.5.0",
      "_view_name": "HBoxView",
      "box_style": "",
      "children": [
       "IPY_MODEL_33c92b5afd1d4b6d88016aabfb434194",
       "IPY_MODEL_998676d59f9c464e8463d65baad6448b"
      ],
      "layout": "IPY_MODEL_6abfbe44a1bd4518b41f5f53f920e936"
     }
    },
    "ccb720bf256e42f7b0251494ccb7741f": {
     "model_module": "@jupyter-widgets/controls",
     "model_name": "DescriptionStyleModel",
     "state": {
      "_model_module": "@jupyter-widgets/controls",
      "_model_module_version": "1.5.0",
      "_model_name": "DescriptionStyleModel",
      "_view_count": null,
      "_view_module": "@jupyter-widgets/base",
      "_view_module_version": "1.2.0",
      "_view_name": "StyleView",
      "description_width": ""
     }
    },
    "ce337f50183942e6a74ca1b33735ade9": {
     "model_module": "@jupyter-widgets/controls",
     "model_name": "HTMLModel",
     "state": {
      "_dom_classes": [],
      "_model_module": "@jupyter-widgets/controls",
      "_model_module_version": "1.5.0",
      "_model_name": "HTMLModel",
      "_view_count": null,
      "_view_module": "@jupyter-widgets/controls",
      "_view_module_version": "1.5.0",
      "_view_name": "HTMLView",
      "description": "",
      "description_tooltip": null,
      "layout": "IPY_MODEL_e9a702f10538415b970ea1345804d72c",
      "placeholder": "​",
      "style": "IPY_MODEL_9532db4cdc5e4371a4a02055a4c67a08",
      "value": " 23.0k/? [00:00&lt;00:00, 72.2kB/s]"
     }
    },
    "ceb44ba4fdf34da19a52469acf1ce63f": {
     "model_module": "@jupyter-widgets/base",
     "model_name": "LayoutModel",
     "state": {
      "_model_module": "@jupyter-widgets/base",
      "_model_module_version": "1.2.0",
      "_model_name": "LayoutModel",
      "_view_count": null,
      "_view_module": "@jupyter-widgets/base",
      "_view_module_version": "1.2.0",
      "_view_name": "LayoutView",
      "align_content": null,
      "align_items": null,
      "align_self": null,
      "border": null,
      "bottom": null,
      "display": null,
      "flex": null,
      "flex_flow": null,
      "grid_area": null,
      "grid_auto_columns": null,
      "grid_auto_flow": null,
      "grid_auto_rows": null,
      "grid_column": null,
      "grid_gap": null,
      "grid_row": null,
      "grid_template_areas": null,
      "grid_template_columns": null,
      "grid_template_rows": null,
      "height": null,
      "justify_content": null,
      "justify_items": null,
      "left": null,
      "margin": null,
      "max_height": null,
      "max_width": null,
      "min_height": null,
      "min_width": null,
      "object_fit": null,
      "object_position": null,
      "order": null,
      "overflow": null,
      "overflow_x": null,
      "overflow_y": null,
      "padding": null,
      "right": null,
      "top": null,
      "visibility": null,
      "width": null
     }
    },
    "d080668299ef42fabb8ab6fbcf329cea": {
     "model_module": "@jupyter-widgets/controls",
     "model_name": "FloatProgressModel",
     "state": {
      "_dom_classes": [],
      "_model_module": "@jupyter-widgets/controls",
      "_model_module_version": "1.5.0",
      "_model_name": "FloatProgressModel",
      "_view_count": null,
      "_view_module": "@jupyter-widgets/controls",
      "_view_module_version": "1.5.0",
      "_view_name": "ProgressView",
      "bar_style": "success",
      "description": "100%",
      "description_tooltip": null,
      "layout": "IPY_MODEL_f972527479e74337a98f236ed018ae1d",
      "max": 1,
      "min": 0,
      "orientation": "horizontal",
      "style": "IPY_MODEL_b0f3a205ad4546188fc6e7e7cf96ab32",
      "value": 1
     }
    },
    "d35c15beeb33476894b07c3563f8facd": {
     "model_module": "@jupyter-widgets/controls",
     "model_name": "DescriptionStyleModel",
     "state": {
      "_model_module": "@jupyter-widgets/controls",
      "_model_module_version": "1.5.0",
      "_model_name": "DescriptionStyleModel",
      "_view_count": null,
      "_view_module": "@jupyter-widgets/base",
      "_view_module_version": "1.2.0",
      "_view_name": "StyleView",
      "description_width": ""
     }
    },
    "d362345c05234c97a675c6bacdad0e92": {
     "model_module": "@jupyter-widgets/controls",
     "model_name": "DescriptionStyleModel",
     "state": {
      "_model_module": "@jupyter-widgets/controls",
      "_model_module_version": "1.5.0",
      "_model_name": "DescriptionStyleModel",
      "_view_count": null,
      "_view_module": "@jupyter-widgets/base",
      "_view_module_version": "1.2.0",
      "_view_name": "StyleView",
      "description_width": ""
     }
    },
    "d453bd4a35e54bfba20dac1fe86c60c1": {
     "model_module": "@jupyter-widgets/base",
     "model_name": "LayoutModel",
     "state": {
      "_model_module": "@jupyter-widgets/base",
      "_model_module_version": "1.2.0",
      "_model_name": "LayoutModel",
      "_view_count": null,
      "_view_module": "@jupyter-widgets/base",
      "_view_module_version": "1.2.0",
      "_view_name": "LayoutView",
      "align_content": null,
      "align_items": null,
      "align_self": null,
      "border": null,
      "bottom": null,
      "display": null,
      "flex": null,
      "flex_flow": null,
      "grid_area": null,
      "grid_auto_columns": null,
      "grid_auto_flow": null,
      "grid_auto_rows": null,
      "grid_column": null,
      "grid_gap": null,
      "grid_row": null,
      "grid_template_areas": null,
      "grid_template_columns": null,
      "grid_template_rows": null,
      "height": null,
      "justify_content": null,
      "justify_items": null,
      "left": null,
      "margin": null,
      "max_height": null,
      "max_width": null,
      "min_height": null,
      "min_width": null,
      "object_fit": null,
      "object_position": null,
      "order": null,
      "overflow": null,
      "overflow_x": null,
      "overflow_y": null,
      "padding": null,
      "right": null,
      "top": null,
      "visibility": null,
      "width": null
     }
    },
    "d4a3f79644fc41848450ba29e6fdfc3d": {
     "model_module": "@jupyter-widgets/base",
     "model_name": "LayoutModel",
     "state": {
      "_model_module": "@jupyter-widgets/base",
      "_model_module_version": "1.2.0",
      "_model_name": "LayoutModel",
      "_view_count": null,
      "_view_module": "@jupyter-widgets/base",
      "_view_module_version": "1.2.0",
      "_view_name": "LayoutView",
      "align_content": null,
      "align_items": null,
      "align_self": null,
      "border": null,
      "bottom": null,
      "display": null,
      "flex": null,
      "flex_flow": null,
      "grid_area": null,
      "grid_auto_columns": null,
      "grid_auto_flow": null,
      "grid_auto_rows": null,
      "grid_column": null,
      "grid_gap": null,
      "grid_row": null,
      "grid_template_areas": null,
      "grid_template_columns": null,
      "grid_template_rows": null,
      "height": null,
      "justify_content": null,
      "justify_items": null,
      "left": null,
      "margin": null,
      "max_height": null,
      "max_width": null,
      "min_height": null,
      "min_width": null,
      "object_fit": null,
      "object_position": null,
      "order": null,
      "overflow": null,
      "overflow_x": null,
      "overflow_y": null,
      "padding": null,
      "right": null,
      "top": null,
      "visibility": null,
      "width": null
     }
    },
    "d5fb02debe4347e781543a996ce39be3": {
     "model_module": "@jupyter-widgets/controls",
     "model_name": "HBoxModel",
     "state": {
      "_dom_classes": [],
      "_model_module": "@jupyter-widgets/controls",
      "_model_module_version": "1.5.0",
      "_model_name": "HBoxModel",
      "_view_count": null,
      "_view_module": "@jupyter-widgets/controls",
      "_view_module_version": "1.5.0",
      "_view_name": "HBoxView",
      "box_style": "",
      "children": [
       "IPY_MODEL_8e1a85a4a6214a16b7431da23a301ada",
       "IPY_MODEL_57198e3250374e1fa64c5a4be255861e"
      ],
      "layout": "IPY_MODEL_da12267c52144292adb9896249d61a6a"
     }
    },
    "d649c0f9c1c24634a84b7ef697721ffa": {
     "model_module": "@jupyter-widgets/base",
     "model_name": "LayoutModel",
     "state": {
      "_model_module": "@jupyter-widgets/base",
      "_model_module_version": "1.2.0",
      "_model_name": "LayoutModel",
      "_view_count": null,
      "_view_module": "@jupyter-widgets/base",
      "_view_module_version": "1.2.0",
      "_view_name": "LayoutView",
      "align_content": null,
      "align_items": null,
      "align_self": null,
      "border": null,
      "bottom": null,
      "display": null,
      "flex": null,
      "flex_flow": null,
      "grid_area": null,
      "grid_auto_columns": null,
      "grid_auto_flow": null,
      "grid_auto_rows": null,
      "grid_column": null,
      "grid_gap": null,
      "grid_row": null,
      "grid_template_areas": null,
      "grid_template_columns": null,
      "grid_template_rows": null,
      "height": null,
      "justify_content": null,
      "justify_items": null,
      "left": null,
      "margin": null,
      "max_height": null,
      "max_width": null,
      "min_height": null,
      "min_width": null,
      "object_fit": null,
      "object_position": null,
      "order": null,
      "overflow": null,
      "overflow_x": null,
      "overflow_y": null,
      "padding": null,
      "right": null,
      "top": null,
      "visibility": null,
      "width": null
     }
    },
    "d69468d63dd74fdd807fe061b92aa84e": {
     "model_module": "@jupyter-widgets/controls",
     "model_name": "HTMLModel",
     "state": {
      "_dom_classes": [],
      "_model_module": "@jupyter-widgets/controls",
      "_model_module_version": "1.5.0",
      "_model_name": "HTMLModel",
      "_view_count": null,
      "_view_module": "@jupyter-widgets/controls",
      "_view_module_version": "1.5.0",
      "_view_name": "HTMLView",
      "description": "",
      "description_tooltip": null,
      "layout": "IPY_MODEL_84e7f0001ebe458dad3c96e7e9a38cdc",
      "placeholder": "​",
      "style": "IPY_MODEL_7f5203fde6b64bf7ad53d6ecd3041bfc",
      "value": " 869/869 [05:47&lt;00:00,  2.50ex/s]"
     }
    },
    "d7f27e9cf8a844349ca90393e0c49a03": {
     "model_module": "@jupyter-widgets/base",
     "model_name": "LayoutModel",
     "state": {
      "_model_module": "@jupyter-widgets/base",
      "_model_module_version": "1.2.0",
      "_model_name": "LayoutModel",
      "_view_count": null,
      "_view_module": "@jupyter-widgets/base",
      "_view_module_version": "1.2.0",
      "_view_name": "LayoutView",
      "align_content": null,
      "align_items": null,
      "align_self": null,
      "border": null,
      "bottom": null,
      "display": null,
      "flex": null,
      "flex_flow": null,
      "grid_area": null,
      "grid_auto_columns": null,
      "grid_auto_flow": null,
      "grid_auto_rows": null,
      "grid_column": null,
      "grid_gap": null,
      "grid_row": null,
      "grid_template_areas": null,
      "grid_template_columns": null,
      "grid_template_rows": null,
      "height": null,
      "justify_content": null,
      "justify_items": null,
      "left": null,
      "margin": null,
      "max_height": null,
      "max_width": null,
      "min_height": null,
      "min_width": null,
      "object_fit": null,
      "object_position": null,
      "order": null,
      "overflow": null,
      "overflow_x": null,
      "overflow_y": null,
      "padding": null,
      "right": null,
      "top": null,
      "visibility": null,
      "width": null
     }
    },
    "d96e01ad62c342cdb7d9b1eceb39afa3": {
     "model_module": "@jupyter-widgets/controls",
     "model_name": "HBoxModel",
     "state": {
      "_dom_classes": [],
      "_model_module": "@jupyter-widgets/controls",
      "_model_module_version": "1.5.0",
      "_model_name": "HBoxModel",
      "_view_count": null,
      "_view_module": "@jupyter-widgets/controls",
      "_view_module_version": "1.5.0",
      "_view_name": "HBoxView",
      "box_style": "",
      "children": [
       "IPY_MODEL_e6178f7b148c4bf39f2826f208e0cc64",
       "IPY_MODEL_f78ff14b9c8f46448ed1ecb3fe1f5e0b"
      ],
      "layout": "IPY_MODEL_e6ce9330460d4a0fb67cc493ca74ae96"
     }
    },
    "da12267c52144292adb9896249d61a6a": {
     "model_module": "@jupyter-widgets/base",
     "model_name": "LayoutModel",
     "state": {
      "_model_module": "@jupyter-widgets/base",
      "_model_module_version": "1.2.0",
      "_model_name": "LayoutModel",
      "_view_count": null,
      "_view_module": "@jupyter-widgets/base",
      "_view_module_version": "1.2.0",
      "_view_name": "LayoutView",
      "align_content": null,
      "align_items": null,
      "align_self": null,
      "border": null,
      "bottom": null,
      "display": null,
      "flex": null,
      "flex_flow": null,
      "grid_area": null,
      "grid_auto_columns": null,
      "grid_auto_flow": null,
      "grid_auto_rows": null,
      "grid_column": null,
      "grid_gap": null,
      "grid_row": null,
      "grid_template_areas": null,
      "grid_template_columns": null,
      "grid_template_rows": null,
      "height": null,
      "justify_content": null,
      "justify_items": null,
      "left": null,
      "margin": null,
      "max_height": null,
      "max_width": null,
      "min_height": null,
      "min_width": null,
      "object_fit": null,
      "object_position": null,
      "order": null,
      "overflow": null,
      "overflow_x": null,
      "overflow_y": null,
      "padding": null,
      "right": null,
      "top": null,
      "visibility": null,
      "width": null
     }
    },
    "da1ff50f8b9241108a325ada04224642": {
     "model_module": "@jupyter-widgets/controls",
     "model_name": "ProgressStyleModel",
     "state": {
      "_model_module": "@jupyter-widgets/controls",
      "_model_module_version": "1.5.0",
      "_model_name": "ProgressStyleModel",
      "_view_count": null,
      "_view_module": "@jupyter-widgets/base",
      "_view_module_version": "1.2.0",
      "_view_name": "StyleView",
      "bar_color": null,
      "description_width": "initial"
     }
    },
    "db71db50799c404aafa4a54de8b9b799": {
     "model_module": "@jupyter-widgets/base",
     "model_name": "LayoutModel",
     "state": {
      "_model_module": "@jupyter-widgets/base",
      "_model_module_version": "1.2.0",
      "_model_name": "LayoutModel",
      "_view_count": null,
      "_view_module": "@jupyter-widgets/base",
      "_view_module_version": "1.2.0",
      "_view_name": "LayoutView",
      "align_content": null,
      "align_items": null,
      "align_self": null,
      "border": null,
      "bottom": null,
      "display": null,
      "flex": null,
      "flex_flow": null,
      "grid_area": null,
      "grid_auto_columns": null,
      "grid_auto_flow": null,
      "grid_auto_rows": null,
      "grid_column": null,
      "grid_gap": null,
      "grid_row": null,
      "grid_template_areas": null,
      "grid_template_columns": null,
      "grid_template_rows": null,
      "height": null,
      "justify_content": null,
      "justify_items": null,
      "left": null,
      "margin": null,
      "max_height": null,
      "max_width": null,
      "min_height": null,
      "min_width": null,
      "object_fit": null,
      "object_position": null,
      "order": null,
      "overflow": null,
      "overflow_x": null,
      "overflow_y": null,
      "padding": null,
      "right": null,
      "top": null,
      "visibility": null,
      "width": null
     }
    },
    "dc6862530f6e429ba61a169b4c95722c": {
     "model_module": "@jupyter-widgets/base",
     "model_name": "LayoutModel",
     "state": {
      "_model_module": "@jupyter-widgets/base",
      "_model_module_version": "1.2.0",
      "_model_name": "LayoutModel",
      "_view_count": null,
      "_view_module": "@jupyter-widgets/base",
      "_view_module_version": "1.2.0",
      "_view_name": "LayoutView",
      "align_content": null,
      "align_items": null,
      "align_self": null,
      "border": null,
      "bottom": null,
      "display": null,
      "flex": null,
      "flex_flow": null,
      "grid_area": null,
      "grid_auto_columns": null,
      "grid_auto_flow": null,
      "grid_auto_rows": null,
      "grid_column": null,
      "grid_gap": null,
      "grid_row": null,
      "grid_template_areas": null,
      "grid_template_columns": null,
      "grid_template_rows": null,
      "height": null,
      "justify_content": null,
      "justify_items": null,
      "left": null,
      "margin": null,
      "max_height": null,
      "max_width": null,
      "min_height": null,
      "min_width": null,
      "object_fit": null,
      "object_position": null,
      "order": null,
      "overflow": null,
      "overflow_x": null,
      "overflow_y": null,
      "padding": null,
      "right": null,
      "top": null,
      "visibility": null,
      "width": null
     }
    },
    "dde7ae43ef954ef1b901c80f0a4e11fd": {
     "model_module": "@jupyter-widgets/base",
     "model_name": "LayoutModel",
     "state": {
      "_model_module": "@jupyter-widgets/base",
      "_model_module_version": "1.2.0",
      "_model_name": "LayoutModel",
      "_view_count": null,
      "_view_module": "@jupyter-widgets/base",
      "_view_module_version": "1.2.0",
      "_view_name": "LayoutView",
      "align_content": null,
      "align_items": null,
      "align_self": null,
      "border": null,
      "bottom": null,
      "display": null,
      "flex": null,
      "flex_flow": null,
      "grid_area": null,
      "grid_auto_columns": null,
      "grid_auto_flow": null,
      "grid_auto_rows": null,
      "grid_column": null,
      "grid_gap": null,
      "grid_row": null,
      "grid_template_areas": null,
      "grid_template_columns": null,
      "grid_template_rows": null,
      "height": null,
      "justify_content": null,
      "justify_items": null,
      "left": null,
      "margin": null,
      "max_height": null,
      "max_width": null,
      "min_height": null,
      "min_width": null,
      "object_fit": null,
      "object_position": null,
      "order": null,
      "overflow": null,
      "overflow_x": null,
      "overflow_y": null,
      "padding": null,
      "right": null,
      "top": null,
      "visibility": null,
      "width": null
     }
    },
    "dec796237765477ea904834d9a824b61": {
     "model_module": "@jupyter-widgets/base",
     "model_name": "LayoutModel",
     "state": {
      "_model_module": "@jupyter-widgets/base",
      "_model_module_version": "1.2.0",
      "_model_name": "LayoutModel",
      "_view_count": null,
      "_view_module": "@jupyter-widgets/base",
      "_view_module_version": "1.2.0",
      "_view_name": "LayoutView",
      "align_content": null,
      "align_items": null,
      "align_self": null,
      "border": null,
      "bottom": null,
      "display": null,
      "flex": null,
      "flex_flow": null,
      "grid_area": null,
      "grid_auto_columns": null,
      "grid_auto_flow": null,
      "grid_auto_rows": null,
      "grid_column": null,
      "grid_gap": null,
      "grid_row": null,
      "grid_template_areas": null,
      "grid_template_columns": null,
      "grid_template_rows": null,
      "height": null,
      "justify_content": null,
      "justify_items": null,
      "left": null,
      "margin": null,
      "max_height": null,
      "max_width": null,
      "min_height": null,
      "min_width": null,
      "object_fit": null,
      "object_position": null,
      "order": null,
      "overflow": null,
      "overflow_x": null,
      "overflow_y": null,
      "padding": null,
      "right": null,
      "top": null,
      "visibility": null,
      "width": null
     }
    },
    "def702d8f8354fa4999587a5c68d0034": {
     "model_module": "@jupyter-widgets/controls",
     "model_name": "HBoxModel",
     "state": {
      "_dom_classes": [],
      "_model_module": "@jupyter-widgets/controls",
      "_model_module_version": "1.5.0",
      "_model_name": "HBoxModel",
      "_view_count": null,
      "_view_module": "@jupyter-widgets/controls",
      "_view_module_version": "1.5.0",
      "_view_name": "HBoxView",
      "box_style": "",
      "children": [
       "IPY_MODEL_edf36819322e4f9fa227a11592fef429",
       "IPY_MODEL_ce337f50183942e6a74ca1b33735ade9"
      ],
      "layout": "IPY_MODEL_2fd148d5587b4139919b0158f9dad71e"
     }
    },
    "e273548a15aa4d4994132b317adb66fc": {
     "model_module": "@jupyter-widgets/controls",
     "model_name": "FloatProgressModel",
     "state": {
      "_dom_classes": [],
      "_model_module": "@jupyter-widgets/controls",
      "_model_module_version": "1.5.0",
      "_model_name": "FloatProgressModel",
      "_view_count": null,
      "_view_module": "@jupyter-widgets/controls",
      "_view_module_version": "1.5.0",
      "_view_name": "ProgressView",
      "bar_style": "success",
      "description": "#0: 100%",
      "description_tooltip": null,
      "layout": "IPY_MODEL_80697300a4394b909f1c499ba80aeb13",
      "max": 52,
      "min": 0,
      "orientation": "horizontal",
      "style": "IPY_MODEL_7d62810674c8482abe46c60fc08884b4",
      "value": 52
     }
    },
    "e3b719c0ffcc4fd1b410ffb7f969b7a5": {
     "model_module": "@jupyter-widgets/controls",
     "model_name": "HTMLModel",
     "state": {
      "_dom_classes": [],
      "_model_module": "@jupyter-widgets/controls",
      "_model_module_version": "1.5.0",
      "_model_name": "HTMLModel",
      "_view_count": null,
      "_view_module": "@jupyter-widgets/controls",
      "_view_module_version": "1.5.0",
      "_view_name": "HTMLView",
      "description": "",
      "description_tooltip": null,
      "layout": "IPY_MODEL_c9dc4421940241c59f1151aeabedc98b",
      "placeholder": "​",
      "style": "IPY_MODEL_19e263785ea343ba99ee2127d9b83d1d",
      "value": " 1831/0 [00:04&lt;00:00,  4.82s/ examples]"
     }
    },
    "e51b5fd9d5a6416d986fac1526d1666f": {
     "model_module": "@jupyter-widgets/base",
     "model_name": "LayoutModel",
     "state": {
      "_model_module": "@jupyter-widgets/base",
      "_model_module_version": "1.2.0",
      "_model_name": "LayoutModel",
      "_view_count": null,
      "_view_module": "@jupyter-widgets/base",
      "_view_module_version": "1.2.0",
      "_view_name": "LayoutView",
      "align_content": null,
      "align_items": null,
      "align_self": null,
      "border": null,
      "bottom": null,
      "display": null,
      "flex": null,
      "flex_flow": null,
      "grid_area": null,
      "grid_auto_columns": null,
      "grid_auto_flow": null,
      "grid_auto_rows": null,
      "grid_column": null,
      "grid_gap": null,
      "grid_row": null,
      "grid_template_areas": null,
      "grid_template_columns": null,
      "grid_template_rows": null,
      "height": null,
      "justify_content": null,
      "justify_items": null,
      "left": null,
      "margin": null,
      "max_height": null,
      "max_width": null,
      "min_height": null,
      "min_width": null,
      "object_fit": null,
      "object_position": null,
      "order": null,
      "overflow": null,
      "overflow_x": null,
      "overflow_y": null,
      "padding": null,
      "right": null,
      "top": null,
      "visibility": null,
      "width": null
     }
    },
    "e6178f7b148c4bf39f2826f208e0cc64": {
     "model_module": "@jupyter-widgets/controls",
     "model_name": "FloatProgressModel",
     "state": {
      "_dom_classes": [],
      "_model_module": "@jupyter-widgets/controls",
      "_model_module_version": "1.5.0",
      "_model_name": "FloatProgressModel",
      "_view_count": null,
      "_view_module": "@jupyter-widgets/controls",
      "_view_module_version": "1.5.0",
      "_view_name": "ProgressView",
      "bar_style": "success",
      "description": "#0: 100%",
      "description_tooltip": null,
      "layout": "IPY_MODEL_6ba6d07674a34836be53cf173c2b61ca",
      "max": 412,
      "min": 0,
      "orientation": "horizontal",
      "style": "IPY_MODEL_929cde17b3484f3e9e8f8774bc43e374",
      "value": 412
     }
    },
    "e6ce9330460d4a0fb67cc493ca74ae96": {
     "model_module": "@jupyter-widgets/base",
     "model_name": "LayoutModel",
     "state": {
      "_model_module": "@jupyter-widgets/base",
      "_model_module_version": "1.2.0",
      "_model_name": "LayoutModel",
      "_view_count": null,
      "_view_module": "@jupyter-widgets/base",
      "_view_module_version": "1.2.0",
      "_view_name": "LayoutView",
      "align_content": null,
      "align_items": null,
      "align_self": null,
      "border": null,
      "bottom": null,
      "display": null,
      "flex": null,
      "flex_flow": null,
      "grid_area": null,
      "grid_auto_columns": null,
      "grid_auto_flow": null,
      "grid_auto_rows": null,
      "grid_column": null,
      "grid_gap": null,
      "grid_row": null,
      "grid_template_areas": null,
      "grid_template_columns": null,
      "grid_template_rows": null,
      "height": null,
      "justify_content": null,
      "justify_items": null,
      "left": null,
      "margin": null,
      "max_height": null,
      "max_width": null,
      "min_height": null,
      "min_width": null,
      "object_fit": null,
      "object_position": null,
      "order": null,
      "overflow": null,
      "overflow_x": null,
      "overflow_y": null,
      "padding": null,
      "right": null,
      "top": null,
      "visibility": null,
      "width": null
     }
    },
    "e9a702f10538415b970ea1345804d72c": {
     "model_module": "@jupyter-widgets/base",
     "model_name": "LayoutModel",
     "state": {
      "_model_module": "@jupyter-widgets/base",
      "_model_module_version": "1.2.0",
      "_model_name": "LayoutModel",
      "_view_count": null,
      "_view_module": "@jupyter-widgets/base",
      "_view_module_version": "1.2.0",
      "_view_name": "LayoutView",
      "align_content": null,
      "align_items": null,
      "align_self": null,
      "border": null,
      "bottom": null,
      "display": null,
      "flex": null,
      "flex_flow": null,
      "grid_area": null,
      "grid_auto_columns": null,
      "grid_auto_flow": null,
      "grid_auto_rows": null,
      "grid_column": null,
      "grid_gap": null,
      "grid_row": null,
      "grid_template_areas": null,
      "grid_template_columns": null,
      "grid_template_rows": null,
      "height": null,
      "justify_content": null,
      "justify_items": null,
      "left": null,
      "margin": null,
      "max_height": null,
      "max_width": null,
      "min_height": null,
      "min_width": null,
      "object_fit": null,
      "object_position": null,
      "order": null,
      "overflow": null,
      "overflow_x": null,
      "overflow_y": null,
      "padding": null,
      "right": null,
      "top": null,
      "visibility": null,
      "width": null
     }
    },
    "ec36a94ee2574ac8b227ccaefdee5520": {
     "model_module": "@jupyter-widgets/controls",
     "model_name": "DescriptionStyleModel",
     "state": {
      "_model_module": "@jupyter-widgets/controls",
      "_model_module_version": "1.5.0",
      "_model_name": "DescriptionStyleModel",
      "_view_count": null,
      "_view_module": "@jupyter-widgets/base",
      "_view_module_version": "1.2.0",
      "_view_name": "StyleView",
      "description_width": ""
     }
    },
    "edf36819322e4f9fa227a11592fef429": {
     "model_module": "@jupyter-widgets/controls",
     "model_name": "FloatProgressModel",
     "state": {
      "_dom_classes": [],
      "_model_module": "@jupyter-widgets/controls",
      "_model_module_version": "1.5.0",
      "_model_name": "FloatProgressModel",
      "_view_count": null,
      "_view_module": "@jupyter-widgets/controls",
      "_view_module_version": "1.5.0",
      "_view_name": "ProgressView",
      "bar_style": "success",
      "description": "Downloading: ",
      "description_tooltip": null,
      "layout": "IPY_MODEL_93f191a48b3141e1889fd94870b6ac0e",
      "max": 4662,
      "min": 0,
      "orientation": "horizontal",
      "style": "IPY_MODEL_8292dafcd40745958d0f3c563bf6b9b0",
      "value": 4662
     }
    },
    "ee641bbf54a7499597713c517baa81bb": {
     "model_module": "@jupyter-widgets/controls",
     "model_name": "HBoxModel",
     "state": {
      "_dom_classes": [],
      "_model_module": "@jupyter-widgets/controls",
      "_model_module_version": "1.5.0",
      "_model_name": "HBoxModel",
      "_view_count": null,
      "_view_module": "@jupyter-widgets/controls",
      "_view_module_version": "1.5.0",
      "_view_name": "HBoxView",
      "box_style": "",
      "children": [
       "IPY_MODEL_4f8957dc035d4c1a9e8630fc8ab8cd10",
       "IPY_MODEL_757e7bd0e6c5410da0490d191b4e68c8"
      ],
      "layout": "IPY_MODEL_3d929b9e2518402b81a71757ffb753d2"
     }
    },
    "eed2ccc12daa4c71b080794a7a18f5cb": {
     "model_module": "@jupyter-widgets/controls",
     "model_name": "HTMLModel",
     "state": {
      "_dom_classes": [],
      "_model_module": "@jupyter-widgets/controls",
      "_model_module_version": "1.5.0",
      "_model_name": "HTMLModel",
      "_view_count": null,
      "_view_module": "@jupyter-widgets/controls",
      "_view_module_version": "1.5.0",
      "_view_name": "HTMLView",
      "description": "",
      "description_tooltip": null,
      "layout": "IPY_MODEL_f18eddbd3d994ddc88f37e02d754c206",
      "placeholder": "​",
      "style": "IPY_MODEL_20347ed29fdc4c0a96da28c09aacf44d",
      "value": " 870/870 [05:39&lt;00:00,  2.45ex/s]"
     }
    },
    "f18eddbd3d994ddc88f37e02d754c206": {
     "model_module": "@jupyter-widgets/base",
     "model_name": "LayoutModel",
     "state": {
      "_model_module": "@jupyter-widgets/base",
      "_model_module_version": "1.2.0",
      "_model_name": "LayoutModel",
      "_view_count": null,
      "_view_module": "@jupyter-widgets/base",
      "_view_module_version": "1.2.0",
      "_view_name": "LayoutView",
      "align_content": null,
      "align_items": null,
      "align_self": null,
      "border": null,
      "bottom": null,
      "display": null,
      "flex": null,
      "flex_flow": null,
      "grid_area": null,
      "grid_auto_columns": null,
      "grid_auto_flow": null,
      "grid_auto_rows": null,
      "grid_column": null,
      "grid_gap": null,
      "grid_row": null,
      "grid_template_areas": null,
      "grid_template_columns": null,
      "grid_template_rows": null,
      "height": null,
      "justify_content": null,
      "justify_items": null,
      "left": null,
      "margin": null,
      "max_height": null,
      "max_width": null,
      "min_height": null,
      "min_width": null,
      "object_fit": null,
      "object_position": null,
      "order": null,
      "overflow": null,
      "overflow_x": null,
      "overflow_y": null,
      "padding": null,
      "right": null,
      "top": null,
      "visibility": null,
      "width": null
     }
    },
    "f203c54e7e054d97aa4d1097f320f611": {
     "model_module": "@jupyter-widgets/controls",
     "model_name": "FloatProgressModel",
     "state": {
      "_dom_classes": [],
      "_model_module": "@jupyter-widgets/controls",
      "_model_module_version": "1.5.0",
      "_model_name": "FloatProgressModel",
      "_view_count": null,
      "_view_module": "@jupyter-widgets/controls",
      "_view_module_version": "1.5.0",
      "_view_name": "ProgressView",
      "bar_style": "success",
      "description": "#3: 100%",
      "description_tooltip": null,
      "layout": "IPY_MODEL_0cd1932178c945d48604ffd299e65d2c",
      "max": 411,
      "min": 0,
      "orientation": "horizontal",
      "style": "IPY_MODEL_3ec3285e9f3e4a5abcefabb7f140f4a3",
      "value": 411
     }
    },
    "f3905820a42c499fba04af9c1ad19705": {
     "model_module": "@jupyter-widgets/controls",
     "model_name": "FloatProgressModel",
     "state": {
      "_dom_classes": [],
      "_model_module": "@jupyter-widgets/controls",
      "_model_module_version": "1.5.0",
      "_model_name": "FloatProgressModel",
      "_view_count": null,
      "_view_module": "@jupyter-widgets/controls",
      "_view_module_version": "1.5.0",
      "_view_name": "ProgressView",
      "bar_style": "success",
      "description": "#2: 100%",
      "description_tooltip": null,
      "layout": "IPY_MODEL_fc9504846f424542a7feb932964f1f5b",
      "max": 869,
      "min": 0,
      "orientation": "horizontal",
      "style": "IPY_MODEL_4c0ad31e73234e46aac0a297ec18bdeb",
      "value": 869
     }
    },
    "f3adb92e618743cca3299e3e7b6e369f": {
     "model_module": "@jupyter-widgets/controls",
     "model_name": "HBoxModel",
     "state": {
      "_dom_classes": [],
      "_model_module": "@jupyter-widgets/controls",
      "_model_module_version": "1.5.0",
      "_model_name": "HBoxModel",
      "_view_count": null,
      "_view_module": "@jupyter-widgets/controls",
      "_view_module_version": "1.5.0",
      "_view_name": "HBoxView",
      "box_style": "",
      "children": [
       "IPY_MODEL_b0e3a36279d243ab9943149705c72c3e",
       "IPY_MODEL_12696cc03f464a63a411efb2b5e5ac3b"
      ],
      "layout": "IPY_MODEL_83b51e16d88046c48dcd745cf09d2e56"
     }
    },
    "f4135dd72864445391f43f387635bfdc": {
     "model_module": "@jupyter-widgets/controls",
     "model_name": "HTMLModel",
     "state": {
      "_dom_classes": [],
      "_model_module": "@jupyter-widgets/controls",
      "_model_module_version": "1.5.0",
      "_model_name": "HTMLModel",
      "_view_count": null,
      "_view_module": "@jupyter-widgets/controls",
      "_view_module_version": "1.5.0",
      "_view_name": "HTMLView",
      "description": "",
      "description_tooltip": null,
      "layout": "IPY_MODEL_923ed9e127524187ab8cfcac31164ba7",
      "placeholder": "​",
      "style": "IPY_MODEL_8df9d19602cb4951b397c385458a11ef",
      "value": " 109/109 [00:56&lt;00:00,  1.93ba/s]"
     }
    },
    "f57d087016124ebeb073fd7428dcb68b": {
     "model_module": "@jupyter-widgets/base",
     "model_name": "LayoutModel",
     "state": {
      "_model_module": "@jupyter-widgets/base",
      "_model_module_version": "1.2.0",
      "_model_name": "LayoutModel",
      "_view_count": null,
      "_view_module": "@jupyter-widgets/base",
      "_view_module_version": "1.2.0",
      "_view_name": "LayoutView",
      "align_content": null,
      "align_items": null,
      "align_self": null,
      "border": null,
      "bottom": null,
      "display": null,
      "flex": null,
      "flex_flow": null,
      "grid_area": null,
      "grid_auto_columns": null,
      "grid_auto_flow": null,
      "grid_auto_rows": null,
      "grid_column": null,
      "grid_gap": null,
      "grid_row": null,
      "grid_template_areas": null,
      "grid_template_columns": null,
      "grid_template_rows": null,
      "height": null,
      "justify_content": null,
      "justify_items": null,
      "left": null,
      "margin": null,
      "max_height": null,
      "max_width": null,
      "min_height": null,
      "min_width": null,
      "object_fit": null,
      "object_position": null,
      "order": null,
      "overflow": null,
      "overflow_x": null,
      "overflow_y": null,
      "padding": null,
      "right": null,
      "top": null,
      "visibility": null,
      "width": null
     }
    },
    "f5f1f0865d7e4d8b810ccb9c3c4d2683": {
     "model_module": "@jupyter-widgets/controls",
     "model_name": "FloatProgressModel",
     "state": {
      "_dom_classes": [],
      "_model_module": "@jupyter-widgets/controls",
      "_model_module_version": "1.5.0",
      "_model_name": "FloatProgressModel",
      "_view_count": null,
      "_view_module": "@jupyter-widgets/controls",
      "_view_module_version": "1.5.0",
      "_view_name": "ProgressView",
      "bar_style": "success",
      "description": "#1: 100%",
      "description_tooltip": null,
      "layout": "IPY_MODEL_e51b5fd9d5a6416d986fac1526d1666f",
      "max": 412,
      "min": 0,
      "orientation": "horizontal",
      "style": "IPY_MODEL_a47f1ea64f894f0b8e6b277c31ae9f7d",
      "value": 412
     }
    },
    "f6930dd5519d4dfda64c597def220a30": {
     "model_module": "@jupyter-widgets/controls",
     "model_name": "HTMLModel",
     "state": {
      "_dom_classes": [],
      "_model_module": "@jupyter-widgets/controls",
      "_model_module_version": "1.5.0",
      "_model_name": "HTMLModel",
      "_view_count": null,
      "_view_module": "@jupyter-widgets/controls",
      "_view_module_version": "1.5.0",
      "_view_name": "HTMLView",
      "description": "",
      "description_tooltip": null,
      "layout": "IPY_MODEL_56ad6231a0a04228be29ceecbc6b7c0e",
      "placeholder": "​",
      "style": "IPY_MODEL_ab72c80dfd5e4ab19a183f4204486b59",
      "value": " 52/52 [00:31&lt;00:00,  1.63ba/s]"
     }
    },
    "f6b01ad0433a40178ef3ba5657bc1583": {
     "model_module": "@jupyter-widgets/controls",
     "model_name": "FloatProgressModel",
     "state": {
      "_dom_classes": [],
      "_model_module": "@jupyter-widgets/controls",
      "_model_module_version": "1.5.0",
      "_model_name": "FloatProgressModel",
      "_view_count": null,
      "_view_module": "@jupyter-widgets/controls",
      "_view_module_version": "1.5.0",
      "_view_name": "ProgressView",
      "bar_style": "success",
      "description": "#0: 100%",
      "description_tooltip": null,
      "layout": "IPY_MODEL_69828f4a101f4340916a4be141866904",
      "max": 870,
      "min": 0,
      "orientation": "horizontal",
      "style": "IPY_MODEL_beca070c32124a119a08cb21c2ca95e5",
      "value": 870
     }
    },
    "f78ff14b9c8f46448ed1ecb3fe1f5e0b": {
     "model_module": "@jupyter-widgets/controls",
     "model_name": "HTMLModel",
     "state": {
      "_dom_classes": [],
      "_model_module": "@jupyter-widgets/controls",
      "_model_module_version": "1.5.0",
      "_model_name": "HTMLModel",
      "_view_count": null,
      "_view_module": "@jupyter-widgets/controls",
      "_view_module_version": "1.5.0",
      "_view_name": "HTMLView",
      "description": "",
      "description_tooltip": null,
      "layout": "IPY_MODEL_b054b00a32e64fc5988fbd2966ebbce6",
      "placeholder": "​",
      "style": "IPY_MODEL_5a5bc8b4a1c644dea08a60128d888d10",
      "value": " 412/412 [03:06&lt;00:00,  2.20ex/s]"
     }
    },
    "f792530a76ee486688cbc2502dfae594": {
     "model_module": "@jupyter-widgets/controls",
     "model_name": "FloatProgressModel",
     "state": {
      "_dom_classes": [],
      "_model_module": "@jupyter-widgets/controls",
      "_model_module_version": "1.5.0",
      "_model_name": "FloatProgressModel",
      "_view_count": null,
      "_view_module": "@jupyter-widgets/controls",
      "_view_module_version": "1.5.0",
      "_view_name": "ProgressView",
      "bar_style": "success",
      "description": "#3: 100%",
      "description_tooltip": null,
      "layout": "IPY_MODEL_7e50f8027fb74d669daae5e46082026c",
      "max": 869,
      "min": 0,
      "orientation": "horizontal",
      "style": "IPY_MODEL_1261590ef796493798f7068ea0547b74",
      "value": 869
     }
    },
    "f972527479e74337a98f236ed018ae1d": {
     "model_module": "@jupyter-widgets/base",
     "model_name": "LayoutModel",
     "state": {
      "_model_module": "@jupyter-widgets/base",
      "_model_module_version": "1.2.0",
      "_model_name": "LayoutModel",
      "_view_count": null,
      "_view_module": "@jupyter-widgets/base",
      "_view_module_version": "1.2.0",
      "_view_name": "LayoutView",
      "align_content": null,
      "align_items": null,
      "align_self": null,
      "border": null,
      "bottom": null,
      "display": null,
      "flex": null,
      "flex_flow": null,
      "grid_area": null,
      "grid_auto_columns": null,
      "grid_auto_flow": null,
      "grid_auto_rows": null,
      "grid_column": null,
      "grid_gap": null,
      "grid_row": null,
      "grid_template_areas": null,
      "grid_template_columns": null,
      "grid_template_rows": null,
      "height": null,
      "justify_content": null,
      "justify_items": null,
      "left": null,
      "margin": null,
      "max_height": null,
      "max_width": null,
      "min_height": null,
      "min_width": null,
      "object_fit": null,
      "object_position": null,
      "order": null,
      "overflow": null,
      "overflow_x": null,
      "overflow_y": null,
      "padding": null,
      "right": null,
      "top": null,
      "visibility": null,
      "width": null
     }
    },
    "f9efaa7678c2450f847ff2c2f21ff96e": {
     "model_module": "@jupyter-widgets/controls",
     "model_name": "DescriptionStyleModel",
     "state": {
      "_model_module": "@jupyter-widgets/controls",
      "_model_module_version": "1.5.0",
      "_model_name": "DescriptionStyleModel",
      "_view_count": null,
      "_view_module": "@jupyter-widgets/base",
      "_view_module_version": "1.2.0",
      "_view_name": "StyleView",
      "description_width": ""
     }
    },
    "fa7926bbe77e48b3a0648b45f5d2dc7a": {
     "model_module": "@jupyter-widgets/controls",
     "model_name": "ProgressStyleModel",
     "state": {
      "_model_module": "@jupyter-widgets/controls",
      "_model_module_version": "1.5.0",
      "_model_name": "ProgressStyleModel",
      "_view_count": null,
      "_view_module": "@jupyter-widgets/base",
      "_view_module_version": "1.2.0",
      "_view_name": "StyleView",
      "bar_color": null,
      "description_width": "initial"
     }
    },
    "fc9504846f424542a7feb932964f1f5b": {
     "model_module": "@jupyter-widgets/base",
     "model_name": "LayoutModel",
     "state": {
      "_model_module": "@jupyter-widgets/base",
      "_model_module_version": "1.2.0",
      "_model_name": "LayoutModel",
      "_view_count": null,
      "_view_module": "@jupyter-widgets/base",
      "_view_module_version": "1.2.0",
      "_view_name": "LayoutView",
      "align_content": null,
      "align_items": null,
      "align_self": null,
      "border": null,
      "bottom": null,
      "display": null,
      "flex": null,
      "flex_flow": null,
      "grid_area": null,
      "grid_auto_columns": null,
      "grid_auto_flow": null,
      "grid_auto_rows": null,
      "grid_column": null,
      "grid_gap": null,
      "grid_row": null,
      "grid_template_areas": null,
      "grid_template_columns": null,
      "grid_template_rows": null,
      "height": null,
      "justify_content": null,
      "justify_items": null,
      "left": null,
      "margin": null,
      "max_height": null,
      "max_width": null,
      "min_height": null,
      "min_width": null,
      "object_fit": null,
      "object_position": null,
      "order": null,
      "overflow": null,
      "overflow_x": null,
      "overflow_y": null,
      "padding": null,
      "right": null,
      "top": null,
      "visibility": null,
      "width": null
     }
    },
    "fe62265afdc74026b7e9c5a50ef61d2c": {
     "model_module": "@jupyter-widgets/base",
     "model_name": "LayoutModel",
     "state": {
      "_model_module": "@jupyter-widgets/base",
      "_model_module_version": "1.2.0",
      "_model_name": "LayoutModel",
      "_view_count": null,
      "_view_module": "@jupyter-widgets/base",
      "_view_module_version": "1.2.0",
      "_view_name": "LayoutView",
      "align_content": null,
      "align_items": null,
      "align_self": null,
      "border": null,
      "bottom": null,
      "display": null,
      "flex": null,
      "flex_flow": null,
      "grid_area": null,
      "grid_auto_columns": null,
      "grid_auto_flow": null,
      "grid_auto_rows": null,
      "grid_column": null,
      "grid_gap": null,
      "grid_row": null,
      "grid_template_areas": null,
      "grid_template_columns": null,
      "grid_template_rows": null,
      "height": null,
      "justify_content": null,
      "justify_items": null,
      "left": null,
      "margin": null,
      "max_height": null,
      "max_width": null,
      "min_height": null,
      "min_width": null,
      "object_fit": null,
      "object_position": null,
      "order": null,
      "overflow": null,
      "overflow_x": null,
      "overflow_y": null,
      "padding": null,
      "right": null,
      "top": null,
      "visibility": null,
      "width": null
     }
    }
   }
  }
 },
 "nbformat": 4,
 "nbformat_minor": 4
}
