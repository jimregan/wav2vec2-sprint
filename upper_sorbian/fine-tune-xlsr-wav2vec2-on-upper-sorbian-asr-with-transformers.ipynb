{
 "cells": [
  {
   "cell_type": "markdown",
   "metadata": {
    "id": "LBSYoWbi-45k"
   },
   "source": [
    "# **Fine-tuning XLSR-Wav2Vec2 for Multi-Lingual ASR with 🤗 Transformers**"
   ]
  },
  {
   "cell_type": "markdown",
   "metadata": {},
   "source": [
    "## Pre-configuration"
   ]
  },
  {
   "cell_type": "code",
   "execution_count": 1,
   "metadata": {},
   "outputs": [],
   "source": [
    "from ipywidgets import widgets"
   ]
  },
  {
   "cell_type": "code",
   "execution_count": 2,
   "metadata": {},
   "outputs": [],
   "source": [
    "import os"
   ]
  },
  {
   "cell_type": "code",
   "execution_count": 3,
   "metadata": {},
   "outputs": [],
   "source": [
    "language_code = 'hsb'\n",
    "language_name = 'upper-sorbian'\n",
    "base_model = \"facebook/wav2vec2-large-xlsr-53\"\n",
    "pretrain_model = f\"jimregan/wav2vec2-large-xlsr-{language_name}-mixed\"\n",
    "\n",
    "data_dir = f\"/workspace/data/{language_code}\"\n",
    "output_models_dir = f\"/workspace/output_models/{language_code}/wav2vec2-large-xlsr-{language_name}-demo\""
   ]
  },
  {
   "cell_type": "markdown",
   "metadata": {},
   "source": [
    "## Presentation"
   ]
  },
  {
   "cell_type": "markdown",
   "metadata": {
    "id": "V7YOT2mnUiea"
   },
   "source": [
    "Wav2Vec2 is a pretrained model for Automatic Speech Recognition (ASR) and was released in [September 2020](https://ai.facebook.com/blog/wav2vec-20-learning-the-structure-of-speech-from-raw-audio/) by Alexei Baevski, Michael Auli, and Alex Conneau.  Soon after the superior performance of Wav2Vec2 was demonstrated on the English ASR dataset LibriSpeech, *Facebook AI* presented XLSR-Wav2Vec2 (click [here](https://arxiv.org/abs/2006.13979)). XLSR stands for *cross-lingual  speech representations* and refers to XLSR-Wav2Vec2`s ability to learn speech representations that are useful across multiple languages.\n",
    "\n",
    "Similar to Wav2Vec2, XLSR-Wav2Vec2 learns powerful speech representations from hundreds of thousands of hours of speech in more than 50 languages of unlabeled speech. Similar, to [BERT's masked language modeling](http://jalammar.github.io/illustrated-bert/), the model learns contextualized speech representations by randomly masking feature vectors before passing them to a transformer network.\n",
    "\n",
    "![wav2vec2_structure](https://raw.githubusercontent.com/patrickvonplaten/scientific_images/master/xlsr_wav2vec2.png)\n",
    "\n",
    "The authors show for the first time that massively pretraining an ASR model on cross-lingual unlabeled speech data, followed by language-specific fine-tuning on very little labeled data achieves state-of-the-art results. See Table 1-5 of the official [paper](https://arxiv.org/pdf/2006.13979.pdf)."
   ]
  },
  {
   "cell_type": "markdown",
   "metadata": {
    "id": "nT_QrfWtsxIz"
   },
   "source": [
    "In this notebook, we will give an in-detail explanation of how XLSR-Wav2Vec2's pretrained checkpoint can be fine-tuned on a low-resource ASR dataset of any language. Note that in this notebook, we will fine-tune XLSR-Wav2Vec2 without making use of a language model. It is much simpler and more efficient to use XLSR-Wav2Vec2 without a language model, but better results can be achieved by including a language model. \n",
    "\n",
    "For demonstration purposes, we fine-tune the [wav2vec2-large-xlsr-53](https://huggingface.co/facebook/wav2vec2-large-xlsr-53) on the low resource Turkish ASR dataset of [Common Voice](https://huggingface.co/datasets/common_voice) that contains just ~6h of validated training data."
   ]
  },
  {
   "cell_type": "markdown",
   "metadata": {
    "id": "Gx9OdDYrCtQ1"
   },
   "source": [
    "XLSR-Wav2Vec2 is fine-tuned using Connectionist Temporal Classification (CTC), which is an algorithm that is used to train neural networks for sequence-to-sequence problems and mainly in Automatic Speech Recognition and handwriting recognition. \n",
    "\n",
    "I highly recommend reading the blog post [Sequence Modeling with CTC (2017)](https://distill.pub/2017/ctc/) very well-written blog post by Awni Hannun."
   ]
  },
  {
   "cell_type": "markdown",
   "metadata": {
    "id": "e335hPmdtASZ"
   },
   "source": [
    "Before we start, let's install both `datasets` and `transformers` from master. Also, we need the `torchaudio` and `librosa` package to load audio files and the `jiwer` to evaluate our fine-tuned model using the [word error rate (WER)](https://huggingface.co/metrics/wer) metric ${}^1$."
   ]
  },
  {
   "cell_type": "markdown",
   "metadata": {
    "id": "Mn9swf6EQ9Vd"
   },
   "source": [
    "\n",
    "\n",
    "\n",
    "---\n",
    "\n",
    "${}^1$ In the [paper](https://arxiv.org/pdf/2006.13979.pdf), the model was evaluated using the phoneme error rate (PER), but by far the most common metric in ASR is the word error rate (WER). To keep this notebook as general as possible we decided to evaluate the model using WER."
   ]
  },
  {
   "cell_type": "markdown",
   "metadata": {
    "id": "0mW-C1Nt-j7k"
   },
   "source": [
    "## Prepare Data, Tokenizer, Feature Extractor"
   ]
  },
  {
   "cell_type": "markdown",
   "metadata": {
    "id": "BeBosnY9BH3e"
   },
   "source": [
    "ASR models transcribe speech to text, which means that we both need a feature extractor that processes the speech signal to the model's input format, *e.g.* a feature vector, and a tokenizer that processes the model's output format to text. \n",
    "\n",
    "In 🤗 Transformers, the XLSR-Wav2Vec2 model is thus accompanied by both a tokenizer, called [Wav2Vec2CTCTokenizer](https://huggingface.co/transformers/master/model_doc/wav2vec2.html#wav2vec2ctctokenizer), and a feature extractor, called [Wav2Vec2FeatureExtractor](https://huggingface.co/transformers/master/model_doc/wav2vec2.html#wav2vec2featureextractor).\n",
    "\n",
    "Let's start by creating the tokenizer responsible for decoding the model's predictions."
   ]
  },
  {
   "cell_type": "markdown",
   "metadata": {
    "id": "sEXEWEJGQPqD"
   },
   "source": [
    "### Create Wav2Vec2CTCTokenizer"
   ]
  },
  {
   "cell_type": "markdown",
   "metadata": {
    "id": "tWmMikuNEKl_"
   },
   "source": [
    "The [pretrained Wav2Vec2 checkpoint]( ) maps the speech signal to a sequence of context representations as illustrated in the figure above. A fine-tuned XLSR-Wav2Vec2 checkpoint needs to map this sequence of context representations to its corresponding transcription so that a linear layer has to be added on top of the transformer block (shown in yellow). This linear layer is used to classifies each context representation to a token class analogous how, *e.g.*, after pretraining a linear layer is added on top of BERT's embeddings for further classification - *cf.* with *\"BERT\"* section of this [blog post](https://huggingface.co/blog/warm-starting-encoder-decoder).\n",
    "\n",
    "The output size of this layer corresponds to the number of tokens in the vocabulary, which does **not** depend on XLSR-Wav2Vec2's pretraining task, but only on the labeled dataset used for fine-tuning. So in the first step, we will take a look at Common Voice and define a vocabulary based on the dataset's transcriptions."
   ]
  },
  {
   "cell_type": "markdown",
   "metadata": {
    "id": "idBczw8mWzgt"
   },
   "source": [
    "First, let's go to [Common Voice](https://commonvoice.mozilla.org/en/datasets) and pick a language to fine-tune XLSR-Wav2Vec2 on. For this notebook, we will use Turkish. \n",
    "\n",
    "For each language-specific dataset, you can find a language code corresponding to your chosen language. On [Common Voice](https://commonvoice.mozilla.org/en/datasets), look for the field \"Version\". The language code then corresponds to the prefix before the underscore. For Turkish, *e.g.* the language code is `\"tr\"`.\n",
    "\n",
    "Great, now we can use 🤗 Datasets' simple API to download the data. The dataset name will be `\"common_voice\"`, the config name corresponds to the language code - `\"tr\"` in our case."
   ]
  },
  {
   "cell_type": "markdown",
   "metadata": {
    "id": "bee4g9rpLxll"
   },
   "source": [
    "Common Voice has many different splits including `invalidated`, which refers to data that was not rated as \"clean enough\" to be considered useful. In this notebook, we will only make use of the splits `\"train\"`, `\"validation\"` and `\"test\"`. \n",
    "\n",
    "Because the Turkish dataset is so small, we will merge both the validation and training data into a training dataset and simply use the test data for validation."
   ]
  },
  {
   "cell_type": "code",
   "execution_count": 4,
   "metadata": {
    "colab": {
     "base_uri": "https://localhost:8080/",
     "height": 227,
     "referenced_widgets": [
      "def702d8f8354fa4999587a5c68d0034",
      "2fd148d5587b4139919b0158f9dad71e",
      "edf36819322e4f9fa227a11592fef429",
      "ce337f50183942e6a74ca1b33735ade9",
      "8292dafcd40745958d0f3c563bf6b9b0",
      "93f191a48b3141e1889fd94870b6ac0e",
      "9532db4cdc5e4371a4a02055a4c67a08",
      "e9a702f10538415b970ea1345804d72c",
      "f3adb92e618743cca3299e3e7b6e369f",
      "83b51e16d88046c48dcd745cf09d2e56",
      "b0e3a36279d243ab9943149705c72c3e",
      "12696cc03f464a63a411efb2b5e5ac3b",
      "530f66ac087e4f8f979fcaa33941c60d",
      "a34dae18d9994b848630d4e3d836e0cb",
      "68a3178fe7a54e838e798ff28ff9aa0b",
      "ceb44ba4fdf34da19a52469acf1ce63f",
      "90b8bc59e26a46009e1d3763f86f227a",
      "3e2cd59ac697495f8db14b894b783f95",
      "98e7ab5f7ebf426fbb71a37bbad4c28f",
      "e3b719c0ffcc4fd1b410ffb7f969b7a5",
      "4382726ef043441a9b1a4a647d84f242",
      "2f5406546970425282a881b5d2f7c248",
      "19e263785ea343ba99ee2127d9b83d1d",
      "c9dc4421940241c59f1151aeabedc98b",
      "8701fb161cec47e89fc4d57b599ee7fe",
      "1813458f75514f039ba0214597a09bb4",
      "7f787df324514a8c915785e272a8af18",
      "889da3e5ed2945849d3c8a6a75175747",
      "71ffdf6f26ba4381a8e671958e679f88",
      "7916b06da182435a9cc1d13c73310500",
      "59e0f5200068461cbfb256ad5479c4c8",
      "2cd13e03a2ab45dc8570c8c739a613b4",
      "089428f56e66419f85ea149d9d102454",
      "d649c0f9c1c24634a84b7ef697721ffa",
      "4db5037af3f64a3a8a8a1203018a80ff",
      "6a957c1c17474d8d89c27ddecf702fda",
      "2a6e1185a6a247f5acba8111824ad36b",
      "c0e6b6e6395d4dbd827eb1c0de1ad21a",
      "05f83d714f864a399083f0e34a812467",
      "91fcf0641fe3489ab96f3aaa40adf245",
      "25ba4f4c8b9c44af9885b3903a9261fd",
      "dde7ae43ef954ef1b901c80f0a4e11fd",
      "03b33c17734d49e28c4636dddd6e833d",
      "71c059a0f3c246f3a40d55744331daaa",
      "da1ff50f8b9241108a325ada04224642",
      "bee0f50055eb4f738636142a10da0ddd",
      "cb5666eb8ebb4d1392e98d6b5af8761c",
      "430c3c079d0e4006b90e72df7986ffb0",
      "6c065aa34661469ca1efb4c5e90fe136",
      "540510088d3947f1b3cf6f4c983c1a53",
      "0a9b58c98508420d8f8936189f064316",
      "8dd5b08bb5bd4e608d04122424796ae7",
      "c546bca23ee248a1be7bd8ead3e82a8f",
      "af85713f677243d19cba9fe69a4a5f46",
      "2f18d89c684343b69c3f44ffbb9b42a0",
      "9eb51a6ecf3f41578aa397a5c2a33673"
     ]
    },
    "id": "2MMXcWFFgCXU",
    "outputId": "dc239772-da3b-4ef0-d029-f161f0625fff"
   },
   "outputs": [
    {
     "name": "stderr",
     "output_type": "stream",
     "text": [
      "Reusing dataset common_voice (/workspace/.cache/huggingface/datasets/common_voice/hsb/6.1.0/0041e06ab061b91d0a23234a2221e87970a19cf3a81b20901474cffffeb7869f)\n",
      "Reusing dataset common_voice (/workspace/.cache/huggingface/datasets/common_voice/hsb/6.1.0/0041e06ab061b91d0a23234a2221e87970a19cf3a81b20901474cffffeb7869f)\n"
     ]
    }
   ],
   "source": [
    "from datasets import load_dataset, load_metric\n",
    "\n",
    "common_voice_train = load_dataset(\"common_voice\", language_code, split=\"train+validation\")\n",
    "common_voice_test = load_dataset(\"common_voice\", language_code, split=\"test\")"
   ]
  },
  {
   "cell_type": "markdown",
   "metadata": {
    "id": "ri5y5N_HMANq"
   },
   "source": [
    "Many ASR datasets only provide the target text, `'sentence'` for each audio file `'path'`. Common Voice actually provides much more information about each audio file, such as the `'accent'`, etc. However, we want to keep the notebook as general as possible, so that we will only consider the transcribed text for fine-tuning.\n",
    "\n"
   ]
  },
  {
   "cell_type": "code",
   "execution_count": 5,
   "metadata": {
    "id": "kbyq6lDgQc2a"
   },
   "outputs": [],
   "source": [
    "common_voice_train = common_voice_train.remove_columns([\"accent\", \"age\", \"client_id\", \"down_votes\", \"gender\", \"locale\", \"segment\", \"up_votes\"])\n",
    "common_voice_test = common_voice_test.remove_columns([\"accent\", \"age\", \"client_id\", \"down_votes\", \"gender\", \"locale\", \"segment\", \"up_votes\"])"
   ]
  },
  {
   "cell_type": "markdown",
   "metadata": {
    "id": "Go9Hq4e4NDT9"
   },
   "source": [
    "Let's write a short function to display some random samples of the dataset and run it a couple of times to get a feeling for the transcriptions."
   ]
  },
  {
   "cell_type": "code",
   "execution_count": 6,
   "metadata": {
    "id": "72737oog2F6U"
   },
   "outputs": [],
   "source": [
    "from datasets import ClassLabel\n",
    "import random\n",
    "import pandas as pd\n",
    "from IPython.display import display, HTML\n",
    "\n",
    "def show_random_elements(dataset, num_examples=10):\n",
    "    assert num_examples <= len(dataset), \"Can't pick more elements than there are in the dataset.\"\n",
    "    picks = []\n",
    "    for _ in range(num_examples):\n",
    "        pick = random.randint(0, len(dataset)-1)\n",
    "        while pick in picks:\n",
    "            pick = random.randint(0, len(dataset)-1)\n",
    "        picks.append(pick)\n",
    "    \n",
    "    df = pd.DataFrame(dataset[picks])\n",
    "    display(HTML(df.to_html()))"
   ]
  },
  {
   "cell_type": "code",
   "execution_count": 7,
   "metadata": {
    "colab": {
     "base_uri": "https://localhost:8080/",
     "height": 669
    },
    "id": "K_JUmf3G3b9S",
    "outputId": "a8fe6d21-b0ce-4d5b-e3a2-abe08ae551f7"
   },
   "outputs": [
    {
     "data": {
      "text/html": [
       "<table border=\"1\" class=\"dataframe\">\n",
       "  <thead>\n",
       "    <tr style=\"text-align: right;\">\n",
       "      <th></th>\n",
       "      <th>sentence</th>\n",
       "    </tr>\n",
       "  </thead>\n",
       "  <tbody>\n",
       "    <tr>\n",
       "      <th>0</th>\n",
       "      <td>Proces wuhódnoćenja a hódnoćenje pisomnych pruwowanjow njeměł dwě njedźeli překročić.</td>\n",
       "    </tr>\n",
       "    <tr>\n",
       "      <th>1</th>\n",
       "      <td>Lěto pozdźišo wotměchu so prěnje direktne wólby Rady za serbske naležnosće w Braniborskej.</td>\n",
       "    </tr>\n",
       "    <tr>\n",
       "      <th>2</th>\n",
       "      <td>Tójšto zarjadowanjow wotmě so w małoměstach a na wsach.</td>\n",
       "    </tr>\n",
       "    <tr>\n",
       "      <th>3</th>\n",
       "      <td>Sakska trjeba přełožowarjow za komuny.</td>\n",
       "    </tr>\n",
       "    <tr>\n",
       "      <th>4</th>\n",
       "      <td>Jedne ćežišćo leži tohodla na polu serbskich stawiznow.</td>\n",
       "    </tr>\n",
       "    <tr>\n",
       "      <th>5</th>\n",
       "      <td>Haj, jeli bychu móžnosć měli, do serbskeje pěstowarnje chodźić.</td>\n",
       "    </tr>\n",
       "    <tr>\n",
       "      <th>6</th>\n",
       "      <td>Hdyž hladaš z Čornoboha k połnocy, tak widźiš zady Kubšic někotre hórki.</td>\n",
       "    </tr>\n",
       "    <tr>\n",
       "      <th>7</th>\n",
       "      <td>Wy sće wašemu synej kóčku darili, hačrunjež chcyše papagajika.</td>\n",
       "    </tr>\n",
       "    <tr>\n",
       "      <th>8</th>\n",
       "      <td>Woni běchu w měsće a nětko po puću domoj.</td>\n",
       "    </tr>\n",
       "    <tr>\n",
       "      <th>9</th>\n",
       "      <td>Ty bě tołsta, dokelž sy přewjele słódkosćow jědła.</td>\n",
       "    </tr>\n",
       "    <tr>\n",
       "      <th>10</th>\n",
       "      <td>Mam samsne abo podobne wěcy dwójce?</td>\n",
       "    </tr>\n",
       "    <tr>\n",
       "      <th>11</th>\n",
       "      <td>Tam su oficialne widejowe dohladowanje zahajili.</td>\n",
       "    </tr>\n",
       "    <tr>\n",
       "      <th>12</th>\n",
       "      <td>A potom je wšitko jara spěšnje šło?</td>\n",
       "    </tr>\n",
       "    <tr>\n",
       "      <th>13</th>\n",
       "      <td>To su katalanšćina, baskišćina, walizišćina, iršćina, gelšćina, frizišćina a galicišćina.</td>\n",
       "    </tr>\n",
       "    <tr>\n",
       "      <th>14</th>\n",
       "      <td>Woženjenym mužam móža so měšniske nadawki we wobmjezowanej formje přenjesć.</td>\n",
       "    </tr>\n",
       "    <tr>\n",
       "      <th>15</th>\n",
       "      <td>W dwurěčnej knize zajimowachu nas předewšěm te mnohe wobrazy.</td>\n",
       "    </tr>\n",
       "    <tr>\n",
       "      <th>16</th>\n",
       "      <td>We wotměnjawych zwučowanjach so leksika zwučuje a skruća.</td>\n",
       "    </tr>\n",
       "    <tr>\n",
       "      <th>17</th>\n",
       "      <td>Snadź sej potom tón abo tamny serbske mjeno wsy spomjatkuje.</td>\n",
       "    </tr>\n",
       "    <tr>\n",
       "      <th>18</th>\n",
       "      <td>Dźensa wječor póńdu ja ze swojim mandźelskim preč.</td>\n",
       "    </tr>\n",
       "    <tr>\n",
       "      <th>19</th>\n",
       "      <td>Tež wokrjes Zhorjelc so za narodnu mjeńšinu Serbow zasadźa.</td>\n",
       "    </tr>\n",
       "  </tbody>\n",
       "</table>"
      ],
      "text/plain": [
       "<IPython.core.display.HTML object>"
      ]
     },
     "metadata": {},
     "output_type": "display_data"
    }
   ],
   "source": [
    "show_random_elements(common_voice_train.remove_columns([\"path\"]), num_examples=20)"
   ]
  },
  {
   "cell_type": "markdown",
   "metadata": {
    "id": "fowcOllGNNju"
   },
   "source": [
    "Alright! The transcriptions look fairly clean. Having translated the transcribed sentences (I'm sadly not a native speaker in Turkish), it seems that the language corresponds more to written text than noisy dialogue. This makes sense taking into account that [Common Voice](https://huggingface.co/datasets/common_voice) is a crowd-sourced read speech corpus."
   ]
  },
  {
   "cell_type": "markdown",
   "metadata": {
    "id": "vq7OR50LN49m"
   },
   "source": [
    "We can see that the transcriptions contain some special characters, such as `,.?!;:`. Without a language model, it is much harder to classify speech chunks to such special characters because they don't really correspond to a characteristic sound unit. *E.g.*, the letter `\"s\"` has a more or less clear sound, whereas the special character `\".\"` does not.\n",
    "Also in order to understand the meaning of a speech signal, it is usually not necessary to include special characters in the transcription.\n",
    "\n",
    "In addition, we normalize the text to only have lower case letters and append a word separator token at the end."
   ]
  },
  {
   "cell_type": "code",
   "execution_count": 8,
   "metadata": {
    "id": "svKzVJ_hQGK6"
   },
   "outputs": [],
   "source": [
    "import re\n",
    "chars_to_ignore_regex = '[\\,\\?\\.\\!\\-\\;\\:\\\"\\“\\%\\‘\\”\\�„«»–]'\n",
    "\n",
    "def remove_special_characters(batch):\n",
    "    batch[\"sentence\"] = re.sub(chars_to_ignore_regex, '', batch[\"sentence\"]).lower() + \" \"\n",
    "    return batch"
   ]
  },
  {
   "cell_type": "code",
   "execution_count": 9,
   "metadata": {
    "colab": {
     "base_uri": "https://localhost:8080/",
     "height": 117,
     "referenced_widgets": [
      "92a35db69bbf4ad6af44c53aa3870be5",
      "389e43e47a734193a507817ebad955f7",
      "b94e374d92c146009447c3827b977267",
      "1f1faa7b986e475c9e6839b2e7b55c74",
      "4ff7ccffc36a4a0f93031f5cdc3b718d",
      "b177a8cb85a24b88ab6d56205b630f1d",
      "2ca2f397c4ef405bba27ae2b1415cada",
      "b320306eaf264ad9872d507a1a1cb2da",
      "cc9c1e00c2d34516b8fd9edff96bb0d8",
      "6abfbe44a1bd4518b41f5f53f920e936",
      "33c92b5afd1d4b6d88016aabfb434194",
      "998676d59f9c464e8463d65baad6448b",
      "45f0a2f361da4608bc8314a27657a56c",
      "3dc9ea77b842455a91f00e9ca9f41948",
      "7bf5b2b625764f63ad57a360c3fd0a61",
      "7b4cfd2b448643b8a4409dd612aef0d1"
     ]
    },
    "id": "XIHocAuTQbBR",
    "outputId": "cc1a70b2-7b4d-410b-f997-1f1c47c3c9e5"
   },
   "outputs": [
    {
     "name": "stderr",
     "output_type": "stream",
     "text": [
      "Loading cached processed dataset at /workspace/.cache/huggingface/datasets/common_voice/hsb/6.1.0/0041e06ab061b91d0a23234a2221e87970a19cf3a81b20901474cffffeb7869f/cache-8b58ee0df26cc81f.arrow\n",
      "Loading cached processed dataset at /workspace/.cache/huggingface/datasets/common_voice/hsb/6.1.0/0041e06ab061b91d0a23234a2221e87970a19cf3a81b20901474cffffeb7869f/cache-94852ea53d6affc2.arrow\n"
     ]
    }
   ],
   "source": [
    "common_voice_train = common_voice_train.map(remove_special_characters)\n",
    "common_voice_test = common_voice_test.map(remove_special_characters)"
   ]
  },
  {
   "cell_type": "code",
   "execution_count": 10,
   "metadata": {
    "colab": {
     "base_uri": "https://localhost:8080/",
     "height": 359
    },
    "id": "RBDRAAYxRE6n",
    "outputId": "c3a72eaa-8ddc-4283-ccb8-52e50215b84d"
   },
   "outputs": [
    {
     "data": {
      "text/html": [
       "<table border=\"1\" class=\"dataframe\">\n",
       "  <thead>\n",
       "    <tr style=\"text-align: right;\">\n",
       "      <th></th>\n",
       "      <th>sentence</th>\n",
       "    </tr>\n",
       "  </thead>\n",
       "  <tbody>\n",
       "    <tr>\n",
       "      <th>0</th>\n",
       "      <td>nan třoch dźěći přisłuša prezidijej ortodoksnej konferency rabinow němskeje</td>\n",
       "    </tr>\n",
       "    <tr>\n",
       "      <th>1</th>\n",
       "      <td>zwjazkowe předsydstwo faworizuje model skrućenja domowiny w dotalnej prawniskej formje</td>\n",
       "    </tr>\n",
       "    <tr>\n",
       "      <th>2</th>\n",
       "      <td>njejsmy jenož našu wosadu wožiwili ale ludźo přichadźachu tež z druhich wosadow</td>\n",
       "    </tr>\n",
       "    <tr>\n",
       "      <th>3</th>\n",
       "      <td>do gmejny słušeja wjeski kaž chelno bronjo a kamjenjej</td>\n",
       "    </tr>\n",
       "    <tr>\n",
       "      <th>4</th>\n",
       "      <td>hakle pozdźe so poněčim poradźi negatiwne sćěhi wurunać</td>\n",
       "    </tr>\n",
       "    <tr>\n",
       "      <th>5</th>\n",
       "      <td>situacija dopomina mje na lětuši januar</td>\n",
       "    </tr>\n",
       "    <tr>\n",
       "      <th>6</th>\n",
       "      <td>kónčina wojerecywjelcej ma so jako mjezy přesahowacy testowy region wutwarić</td>\n",
       "    </tr>\n",
       "    <tr>\n",
       "      <th>7</th>\n",
       "      <td>wój staj wódnu krokawu w šěrokim morju widźałoj</td>\n",
       "    </tr>\n",
       "    <tr>\n",
       "      <th>8</th>\n",
       "      <td>wón skutkuje tež jako sologitarist na koncertach we łužicy a zwonka njeje</td>\n",
       "    </tr>\n",
       "    <tr>\n",
       "      <th>9</th>\n",
       "      <td>žehliwa škleńca so na to wupřestrěwaše a běžeše hač do pincy</td>\n",
       "    </tr>\n",
       "  </tbody>\n",
       "</table>"
      ],
      "text/plain": [
       "<IPython.core.display.HTML object>"
      ]
     },
     "metadata": {},
     "output_type": "display_data"
    }
   ],
   "source": [
    "show_random_elements(common_voice_train.remove_columns([\"path\"]))"
   ]
  },
  {
   "cell_type": "markdown",
   "metadata": {
    "id": "jwfaptH5RJwA"
   },
   "source": [
    "Good! This looks better. We have removed most special characters from transcriptions and normalized them to lower-case only.\n",
    "\n",
    "In CTC, it is common to classify speech chunks into letters, so we will do the same here. \n",
    "Let's extract all distinct letters of the training and test data and build our vocabulary from this set of letters.\n",
    "\n",
    "We write a mapping function that concatenates all transcriptions into one long transcription and then transforms the string into a set of chars. \n",
    "It is important to pass the argument `batched=True` to the `map(...)` function so that the mapping function has access to all transcriptions at once."
   ]
  },
  {
   "cell_type": "markdown",
   "metadata": {},
   "source": [
    "Plugging in extra data from an online [Sorbian course](https://sprachkurs.sorbischlernen.de/); the data isn't quite scraped - I downloaded the JSON and MP3s manually - but the code I used to turn the json files into a dataset is [here](https://github.com/jimregan/wav2vec2-sprint/blob/main/sprachkurs.ipynb), to merge with Common Voice following the example [here](https://colab.research.google.com/drive/1iCNnh2TEcpdco-FiIbyDEMvOYHlJuyaZ); `load_dataset` isn't happy with a big JSON array, though, so it needs to be tweaked a bit."
   ]
  },
  {
   "cell_type": "code",
   "execution_count": 11,
   "metadata": {},
   "outputs": [],
   "source": [
    "import json\n",
    "with open('/workspace/data/upper_sorbian/sprachkurs.json') as jsfile:\n",
    "    data = json.load(jsfile)\n",
    "sentences = [s['sentence'] for s in data]\n",
    "paths = [p['path'] for p in data]\n",
    "ids = [id['id'] for id in data]\n",
    "# order matters!\n",
    "dataraw = {'path': paths,\n",
    "           'sentence': sentences}"
   ]
  },
  {
   "cell_type": "code",
   "execution_count": 12,
   "metadata": {},
   "outputs": [],
   "source": [
    "from datasets import Dataset\n",
    "sprachkurs = Dataset.from_dict(dataraw)"
   ]
  },
  {
   "cell_type": "markdown",
   "metadata": {},
   "source": [
    "Arrow isn't happy about mixing in-memory and on-disk datasets, so save it to disk and reload"
   ]
  },
  {
   "cell_type": "code",
   "execution_count": 13,
   "metadata": {},
   "outputs": [],
   "source": [
    "sprachkurs.save_to_disk('/workspace/data/upper_sorbian/dsjson')"
   ]
  },
  {
   "cell_type": "code",
   "execution_count": 14,
   "metadata": {},
   "outputs": [],
   "source": [
    "from datasets import Dataset\n",
    "sprachkurs2 = Dataset.load_from_disk('/workspace/data/upper_sorbian/dsjson')"
   ]
  },
  {
   "cell_type": "code",
   "execution_count": 15,
   "metadata": {},
   "outputs": [],
   "source": [
    "import datasets\n",
    "train_dataset = datasets.concatenate_datasets([sprachkurs2, common_voice_train])"
   ]
  },
  {
   "cell_type": "code",
   "execution_count": 16,
   "metadata": {
    "id": "LwCshNbbeRZR"
   },
   "outputs": [],
   "source": [
    "def extract_all_chars(batch):\n",
    "  all_text = \" \".join(batch[\"sentence\"])\n",
    "  vocab = list(set(all_text))\n",
    "  return {\"vocab\": [vocab], \"all_text\": [all_text]}"
   ]
  },
  {
   "cell_type": "code",
   "execution_count": 17,
   "metadata": {
    "colab": {
     "base_uri": "https://localhost:8080/",
     "height": 117,
     "referenced_widgets": [
      "304e9130c12f4110941bfbd3db49a28c",
      "5e6bae23461b4378b6e5fc890fe6bc97",
      "75e00c38605f44cfb584067db1160349",
      "8c07a528fc4a4e108b393ab117fe2e46",
      "c01aca3229a24d41841be2b4a3a65bcc",
      "73ecbfc3c5c5456bb42e19b8a34b1576",
      "813fc95246034f5cb9e5198897b4ed42",
      "8bb78a89ff81400791e3005098fdcb94",
      "bd0958ea97b141b1aca367c71721c549",
      "0354ab33471e4c34a0c1b3c062bcd6bb",
      "d080668299ef42fabb8ab6fbcf329cea",
      "aafd4b2c56db43378c4627797665db17",
      "b0f3a205ad4546188fc6e7e7cf96ab32",
      "f972527479e74337a98f236ed018ae1d",
      "ccb720bf256e42f7b0251494ccb7741f",
      "ad428686450f4ebdb50a0356b2e5a8c4"
     ]
    },
    "id": "_m6uUjjcfbjH",
    "outputId": "75a1a23f-a9c7-4c8b-8777-dad120a9aa9a"
   },
   "outputs": [
    {
     "data": {
      "application/vnd.jupyter.widget-view+json": {
       "model_id": "90afc345d3a2400b8e8b8f0ed6b14d59",
       "version_major": 2,
       "version_minor": 0
      },
      "text/plain": [
       "HBox(children=(FloatProgress(value=0.0, max=1.0), HTML(value='')))"
      ]
     },
     "metadata": {},
     "output_type": "display_data"
    },
    {
     "name": "stdout",
     "output_type": "stream",
     "text": [
      "\n"
     ]
    },
    {
     "data": {
      "application/vnd.jupyter.widget-view+json": {
       "model_id": "db2460d5977648529886019c4438128a",
       "version_major": 2,
       "version_minor": 0
      },
      "text/plain": [
       "HBox(children=(FloatProgress(value=0.0, max=1.0), HTML(value='')))"
      ]
     },
     "metadata": {},
     "output_type": "display_data"
    },
    {
     "name": "stdout",
     "output_type": "stream",
     "text": [
      "\n"
     ]
    }
   ],
   "source": [
    "vocab_train = train_dataset.map(extract_all_chars, batched=True, batch_size=-1, keep_in_memory=True, remove_columns=common_voice_train.column_names)\n",
    "vocab_test = common_voice_test.map(extract_all_chars, batched=True, batch_size=-1, keep_in_memory=True, remove_columns=common_voice_test.column_names)"
   ]
  },
  {
   "cell_type": "markdown",
   "metadata": {
    "id": "7oVgE8RZSJNP"
   },
   "source": [
    "Now, we create the union of all distinct letters in the training dataset and test dataset and convert the resulting list into an enumerated dictionary."
   ]
  },
  {
   "cell_type": "code",
   "execution_count": 18,
   "metadata": {
    "id": "aQfneNsmlJI0"
   },
   "outputs": [],
   "source": [
    "vocab_list = list(set(vocab_train[\"vocab\"][0]) | set(vocab_test[\"vocab\"][0]))"
   ]
  },
  {
   "cell_type": "code",
   "execution_count": 19,
   "metadata": {
    "colab": {
     "base_uri": "https://localhost:8080/"
    },
    "id": "_0kRndSvqaKk",
    "outputId": "29f5d23f-75b1-44d0-9975-87f9ec4c0aa5"
   },
   "outputs": [
    {
     "data": {
      "text/plain": [
       "{'c': 0,\n",
       " 'ł': 1,\n",
       " 'ř': 2,\n",
       " 'ň': 3,\n",
       " 'q': 4,\n",
       " 'ž': 5,\n",
       " 'ö': 6,\n",
       " 'i': 7,\n",
       " 'k': 8,\n",
       " 's': 9,\n",
       " 'o': 10,\n",
       " 'j': 11,\n",
       " 'n': 12,\n",
       " 'g': 13,\n",
       " 'č': 14,\n",
       " 'y': 15,\n",
       " 'e': 16,\n",
       " 'h': 17,\n",
       " 'ó': 18,\n",
       " 'z': 19,\n",
       " 'ź': 20,\n",
       " 'š': 21,\n",
       " 'd': 22,\n",
       " 'b': 23,\n",
       " 'w': 24,\n",
       " 'ć': 25,\n",
       " 'r': 26,\n",
       " 'x': 27,\n",
       " 'ń': 28,\n",
       " 'ě': 29,\n",
       " 'm': 30,\n",
       " 'ü': 31,\n",
       " 'u': 32,\n",
       " ' ': 33,\n",
       " 'l': 34,\n",
       " 'ś': 35,\n",
       " 'p': 36,\n",
       " 't': 37,\n",
       " 'v': 38,\n",
       " 'a': 39,\n",
       " 'f': 40,\n",
       " 'á': 41,\n",
       " '-': 42}"
      ]
     },
     "execution_count": 19,
     "metadata": {},
     "output_type": "execute_result"
    }
   ],
   "source": [
    "vocab_dict = {v: k for k, v in enumerate(vocab_list)}\n",
    "vocab_dict"
   ]
  },
  {
   "cell_type": "markdown",
   "metadata": {
    "id": "JOSzbvs9SXT1"
   },
   "source": [
    "Cool, we see that all letters of the alphabet occur in the dataset (which is not really surprising) and we also extracted the special characters `\" \"` and `'`. Note that we did not exclude those special characters because: \n",
    "\n",
    "- The model has to learn to predict when a word is finished or else the model prediction would always be a sequence of chars which would make it impossible to separate words from each other.\n",
    "- From the transcriptions above it seems that words that include an apostrophe, such as `maktouf'un` do exist in Turkish, so I decided to keep the apostrophe in the dataset. This might be a wrong assumption though.\n",
    "\n",
    "One should always keep in mind that the data-preprocessing is a very important step before training your model. E.g., we don't want our model to differentiate between `a` and `A` just because we forgot to normalize the data. The difference between `a` and `A` does not depend on the \"sound\" of the letter at all, but more on grammatical rules - *e.g.* use a capitalized letter at the beginning of the sentence. So it is sensible to remove the difference between capitalized and non-capitalized letters so that the model has an easier time learning to transcribe speech. \n",
    "\n",
    "It is always advantageous to get help from a native speaker of the language you would like to transcribe to verify whether the assumptions you made are sensible, *e.g.* I should have made sure that keeping `'`, but removing other special characters is a sensible choice for Turkish. "
   ]
  },
  {
   "cell_type": "markdown",
   "metadata": {
    "id": "b1fBRCn-TRaO"
   },
   "source": [
    "To make it clearer that `\" \"` has its own token class, we give it a more visible character `|`. In addition, we also add an \"unknown\" token so that the model can later deal with characters not encountered in Common Voice's training set. \n",
    "\n",
    "Finally, we also add a padding token that corresponds to CTC's \"*blank token*\". The \"blank token\" is a core component of the CTC algorithm. For more information, please take a look at the \"Alignment\" section [here](https://distill.pub/2017/ctc/)."
   ]
  },
  {
   "cell_type": "code",
   "execution_count": 20,
   "metadata": {
    "id": "npbIbBoLgaFX"
   },
   "outputs": [],
   "source": [
    "vocab_dict[\"|\"] = vocab_dict[\" \"]\n",
    "del vocab_dict[\" \"]"
   ]
  },
  {
   "cell_type": "code",
   "execution_count": 21,
   "metadata": {
    "colab": {
     "base_uri": "https://localhost:8080/"
    },
    "id": "znF0bNunsjbl",
    "outputId": "6dd50862-f4c5-4a05-87a7-da03d157e30e"
   },
   "outputs": [
    {
     "data": {
      "text/plain": [
       "45"
      ]
     },
     "execution_count": 21,
     "metadata": {},
     "output_type": "execute_result"
    }
   ],
   "source": [
    "vocab_dict[\"[UNK]\"] = len(vocab_dict)\n",
    "vocab_dict[\"[PAD]\"] = len(vocab_dict)\n",
    "len(vocab_dict)"
   ]
  },
  {
   "cell_type": "markdown",
   "metadata": {
    "id": "SFPGfet8U5sL"
   },
   "source": [
    "Cool, now our vocabulary is complete and consists of 39 tokens, which means that the linear layer that we will add on top of the pretrained XLSR-Wav2Vec2 checkpoint will have an output dimension of 39."
   ]
  },
  {
   "cell_type": "markdown",
   "metadata": {
    "id": "1CujRgBNVRaD"
   },
   "source": [
    "Let's now save the vocabulary as a json file."
   ]
  },
  {
   "cell_type": "code",
   "execution_count": 22,
   "metadata": {
    "id": "ehyUoh9vk191"
   },
   "outputs": [],
   "source": [
    "import json\n",
    "with open('vocab.json', 'w') as vocab_file:\n",
    "    json.dump(vocab_dict, vocab_file)"
   ]
  },
  {
   "cell_type": "markdown",
   "metadata": {
    "id": "SHJDaKlIVVim"
   },
   "source": [
    "In a final step, we use the json file to instantiate an object of the `Wav2Vec2CTCTokenizer` class."
   ]
  },
  {
   "cell_type": "code",
   "execution_count": 23,
   "metadata": {
    "id": "xriFGEWQkO4M"
   },
   "outputs": [],
   "source": [
    "from transformers import Wav2Vec2CTCTokenizer\n",
    "\n",
    "tokenizer = Wav2Vec2CTCTokenizer(\"./vocab.json\", unk_token=\"[UNK]\", pad_token=\"[PAD]\", word_delimiter_token=\"|\")"
   ]
  },
  {
   "cell_type": "markdown",
   "metadata": {
    "id": "KvL12DrNV4cx"
   },
   "source": [
    "Next, we will create the feature extractor."
   ]
  },
  {
   "cell_type": "markdown",
   "metadata": {
    "id": "mYcIiR2FQ96i"
   },
   "source": [
    "### Create XLSR-Wav2Vec2 Feature Extractor"
   ]
  },
  {
   "cell_type": "markdown",
   "metadata": {
    "id": "Y6mDEyW719rx"
   },
   "source": [
    "Speech is a continuous signal and to be treated by computers, it first has to be discretized, which is usually called **sampling**. The sampling rate hereby plays an important role in that it defines how many data points of the speech signal are measured per second. Therefore, sampling with a higher sampling rate results in a better approximation of the *real* speech signal but also necessitates more values per second.\n",
    "\n",
    "A pretrained checkpoint expects its input data to have been sampled more or less from the same distribution as the data it was trained on. The same speech signals sampled at two different rates have a very different distribution, *e.g.*, doubling the sampling rate results in data points being twice as long. Thus, \n",
    "before fine-tuning a pretrained checkpoint of an ASR model, it is crucial to verify that the sampling rate of the data that was used to pretrain the model matches the sampling rate of the dataset used to fine-tune the model.\n",
    "\n",
    "XLSR-Wav2Vec2 was pretrained on the audio data of [Babel](https://huggingface.co/datasets/librispeech_asr), \n",
    "[Multilingual LibriSpeech (MLS)](https://ai.facebook.com/blog/a-new-open-data-set-for-multilingual-speech-research/), and [Common Voice](https://huggingface.co/datasets/common_voice). Most of those datasets were sampled at 16kHz, so that Common Voice, sampled at 48kHz, has to be downsampled to 16kHz for training. Therefore, we will have to downsample our fine-tuning data to 16kHz in the following.\n",
    "\n"
   ]
  },
  {
   "cell_type": "markdown",
   "metadata": {
    "id": "KuUbPW7oV-B5"
   },
   "source": [
    "A XLSR-Wav2Vec2 feature extractor object requires the following parameters to be instantiated:\n",
    "\n",
    "- `feature_size`: Speech models take a sequence of feature vectors as an input. While the length of this sequence obviously varies, the feature size should not. In the case of Wav2Vec2, the feature size is 1 because the model was trained on the raw speech signal ${}^2$.\n",
    "- `sampling_rate`: The sampling rate at which the model is trained on.\n",
    "- `padding_value`: For batched inference, shorter inputs need to be padded with a specific value\n",
    "- `do_normalize`: Whether the input should be *zero-mean-unit-variance* normalized or not. Usually, speech models perform better when normalizing the input\n",
    "- `return_attention_mask`: Whether the model should make use of an `attention_mask` for batched inference. In general, XLSR-Wav2Vec2 models should **always** make use of the `attention_mask`."
   ]
  },
  {
   "cell_type": "code",
   "execution_count": 24,
   "metadata": {
    "id": "kAR0-2KLkopp"
   },
   "outputs": [],
   "source": [
    "from transformers import Wav2Vec2FeatureExtractor\n",
    "\n",
    "feature_extractor = Wav2Vec2FeatureExtractor(feature_size=1, sampling_rate=16000, padding_value=0.0, do_normalize=True, return_attention_mask=True)"
   ]
  },
  {
   "cell_type": "markdown",
   "metadata": {
    "id": "qUETetgqYC3W"
   },
   "source": [
    "Great, XLSR-Wav2Vec2's feature extraction pipeline is thereby fully defined!\n",
    "\n",
    "To make the usage of XLSR-Wav2Vec2 as user-friendly as possible, the feature extractor and tokenizer are *wrapped* into a single `Wav2Vec2Processor` class so that one only needs a `model` and `processor` object."
   ]
  },
  {
   "cell_type": "code",
   "execution_count": 25,
   "metadata": {
    "id": "KYZtoW-tlZgl"
   },
   "outputs": [],
   "source": [
    "from transformers import Wav2Vec2Processor\n",
    "\n",
    "processor = Wav2Vec2Processor(feature_extractor=feature_extractor, tokenizer=tokenizer)"
   ]
  },
  {
   "cell_type": "markdown",
   "metadata": {
    "id": "fTfFDSS0YfMN"
   },
   "source": [
    "If one wants to re-use the just created processor and the fine-tuned model of this notebook, one can mount his/her google drive to the notebook and save all relevant files there. To do so, please uncomment the following lines. \n",
    "\n",
    "We will give the fine-tuned model the name `\"wav2vec2-large-xlsr-turkish-demo\"`."
   ]
  },
  {
   "cell_type": "code",
   "execution_count": null,
   "metadata": {
    "colab": {
     "base_uri": "https://localhost:8080/"
    },
    "id": "yq7Bzuzz4zjQ",
    "outputId": "419faa94-b24f-4044-877a-ce511978c97d"
   },
   "outputs": [],
   "source": []
  },
  {
   "cell_type": "code",
   "execution_count": 26,
   "metadata": {
    "id": "Par9rpypPsml"
   },
   "outputs": [],
   "source": [
    "processor.save_pretrained(output_models_dir)"
   ]
  },
  {
   "cell_type": "markdown",
   "metadata": {
    "id": "DrKnYuvDIoOO"
   },
   "source": [
    "Next, we can prepare the dataset."
   ]
  },
  {
   "cell_type": "markdown",
   "metadata": {
    "id": "YFmShnl7RE35"
   },
   "source": [
    "### Preprocess Data\n",
    "\n",
    "So far, we have not looked at the actual values of the speech signal but just kept the path to its file in the dataset. `XLSR-Wav2Vec2` expects the audio file in the format of a 1-dimensional array, so in the first step, let's load all audio files into the dataset object.\n",
    "\n",
    "Let's first check the serialization format of the downloaded audio files by looking at the first training sample."
   ]
  },
  {
   "cell_type": "code",
   "execution_count": 27,
   "metadata": {
    "colab": {
     "base_uri": "https://localhost:8080/"
    },
    "id": "TTCS7W6XJ9BG",
    "outputId": "9c3b8cc0-3bcd-43fe-87ca-2825239b365a"
   },
   "outputs": [
    {
     "data": {
      "text/plain": [
       "{'path': '/workspace/.cache/huggingface/datasets/downloads/extracted/609b9d85d452399dcba97547599ad94641f4f013cfae0d23b04ffae64874e3f3/cv-corpus-6.1-2020-12-11/hsb/clips/common_voice_hsb_20359315.mp3',\n",
       " 'sentence': 'po tachantskim kapitlu je wone druhe najstarše zhromadźenstwo w biskopstwje drježdźanymišnjo '}"
      ]
     },
     "execution_count": 27,
     "metadata": {},
     "output_type": "execute_result"
    }
   ],
   "source": [
    "common_voice_train[0]"
   ]
  },
  {
   "cell_type": "markdown",
   "metadata": {
    "id": "wSBIGEiaKHMn"
   },
   "source": [
    "Alright, the audio file is saved in the `.mp3` format. The `.mp3` format is usually not the easiest format to deal with. We found that the [`torchaudio`](https://pytorch.org/audio/stable/index.html) library works best for reading in `.mp3` data. \n",
    "\n",
    "An audio file usually stores both its values and the sampling rate with which the speech signal was digitalized. We want to store both in the dataset and write a `map(...)` function accordingly."
   ]
  },
  {
   "cell_type": "code",
   "execution_count": 28,
   "metadata": {
    "id": "al9Luo4LPpwJ"
   },
   "outputs": [
    {
     "name": "stderr",
     "output_type": "stream",
     "text": [
      "/opt/conda/lib/python3.7/site-packages/torchaudio/backend/utils.py:54: UserWarning: \"sox\" backend is being deprecated. The default backend will be changed to \"sox_io\" backend in 0.8.0 and \"sox\" backend will be removed in 0.9.0. Please migrate to \"sox_io\" backend. Please refer to https://github.com/pytorch/audio/issues/903 for the detail.\n",
      "  '\"sox\" backend is being deprecated. '\n"
     ]
    }
   ],
   "source": [
    "import torchaudio\n",
    "\n",
    "def speech_file_to_array_fn(batch):\n",
    "    speech_array, sampling_rate = torchaudio.load(batch[\"path\"])\n",
    "    batch[\"speech\"] = speech_array[0].numpy()\n",
    "    batch[\"sampling_rate\"] = sampling_rate\n",
    "    batch[\"target_text\"] = batch[\"sentence\"]\n",
    "    return batch"
   ]
  },
  {
   "cell_type": "code",
   "execution_count": 29,
   "metadata": {
    "colab": {
     "base_uri": "https://localhost:8080/",
     "height": 117,
     "referenced_widgets": [
      "348ef54c80b2449f8a3bc950cccd62cc",
      "b78413dcc0584a0c8f71731a06aaa1b8",
      "7edbecaccdd94ede8fddc0e1807e777e",
      "5e3aad95e52f4be2bd670d1345398f1b",
      "b9c5c6dd54cc4dc5ad5a2bb69a24ab05",
      "3e3a022a9f304b0f9f7ef067fcee1e56",
      "7aa70322bdfe46938b583a20003093d5",
      "99d5c44ea54b45ee9bd89380cb1ad189",
      "5f48f54986924e418aa4ac22aa54b714",
      "db71db50799c404aafa4a54de8b9b799",
      "a58c203a7cc54086aea45f2029821207",
      "8d409ca0372a48e2972ca1d8eee5ffa1",
      "c8fdf261ac294093a355778a3a4aba3b",
      "b1b6a4649fc34c9996f993c57671766b",
      "d362345c05234c97a675c6bacdad0e92",
      "b0479f03f96241ca959f6fe7bcbd1aba"
     ]
    },
    "id": "afeicUeWlrRL",
    "outputId": "d5e4d41a-61d6-4094-eba9-a5bbed02cedc"
   },
   "outputs": [
    {
     "name": "stderr",
     "output_type": "stream",
     "text": [
      "Loading cached processed dataset at /workspace/data/upper_sorbian/dsjson/cache-5f62edce95b3c1b3.arrow\n",
      "Loading cached processed dataset at /workspace/.cache/huggingface/datasets/common_voice/hsb/6.1.0/0041e06ab061b91d0a23234a2221e87970a19cf3a81b20901474cffffeb7869f/cache-c8503aa9415a79e8.arrow\n"
     ]
    }
   ],
   "source": [
    "common_voice_train = train_dataset.map(speech_file_to_array_fn, remove_columns=common_voice_train.column_names)\n",
    "common_voice_test = common_voice_test.map(speech_file_to_array_fn, remove_columns=common_voice_test.column_names)"
   ]
  },
  {
   "cell_type": "markdown",
   "metadata": {
    "id": "ki5sXmzucc9Q"
   },
   "source": [
    "Great, now we've successfully read in all the audio files, but since we know that Common Voice is sampled at 48kHz, we need to resample the audio files to 16kHz. \n",
    "\n",
    "Let's make use of the [`librosa`](https://github.com/librosa/librosa) library to downsample the data."
   ]
  },
  {
   "cell_type": "code",
   "execution_count": 30,
   "metadata": {
    "id": "6Y6AK3Z-kHwP"
   },
   "outputs": [],
   "source": [
    "import librosa\n",
    "import numpy as np\n",
    "\n",
    "def resample(batch):\n",
    "    batch[\"speech\"] = librosa.resample(np.asarray(batch[\"speech\"]), 48_000, 16_000)\n",
    "    batch[\"sampling_rate\"] = 16_000\n",
    "    return batch"
   ]
  },
  {
   "cell_type": "code",
   "execution_count": 31,
   "metadata": {
    "colab": {
     "base_uri": "https://localhost:8080/",
     "height": 453,
     "referenced_widgets": [
      "ee641bbf54a7499597713c517baa81bb",
      "3d929b9e2518402b81a71757ffb753d2",
      "4f8957dc035d4c1a9e8630fc8ab8cd10",
      "757e7bd0e6c5410da0490d191b4e68c8",
      "596aea0362924c7db583203268dd5a3e",
      "47a6c3c427614f21a6dab1c048e5dd37",
      "0b795d4b68014de19bf9579c67b55ffb",
      "9185f86719af476da41e3835e8f06f8d",
      "771959e46cb64b3ebafe931f96f5ff52",
      "0e999af234bd4b63ad2937e61d08b693",
      "f792530a76ee486688cbc2502dfae594",
      "d69468d63dd74fdd807fe061b92aa84e",
      "1261590ef796493798f7068ea0547b74",
      "7e50f8027fb74d669daae5e46082026c",
      "7f5203fde6b64bf7ad53d6ecd3041bfc",
      "84e7f0001ebe458dad3c96e7e9a38cdc",
      "24ea17ae8ab14e8a871e5e115c3f4c06",
      "f57d087016124ebeb073fd7428dcb68b",
      "f3905820a42c499fba04af9c1ad19705",
      "4e1a725fd90b45e280b8b0028ba65250",
      "4c0ad31e73234e46aac0a297ec18bdeb",
      "fc9504846f424542a7feb932964f1f5b",
      "9f79629ad6a94201acf3283862d1ae17",
      "491fd969d61a478f8e85ffcd3e1a3e20",
      "76d162d3ea0845cc837651a77a5a2d36",
      "98c594f1e41e4b3fab10f0763bd93d75",
      "f6b01ad0433a40178ef3ba5657bc1583",
      "eed2ccc12daa4c71b080794a7a18f5cb",
      "beca070c32124a119a08cb21c2ca95e5",
      "69828f4a101f4340916a4be141866904",
      "20347ed29fdc4c0a96da28c09aacf44d",
      "f18eddbd3d994ddc88f37e02d754c206",
      "b7c43fb5efdd4afbb82c81b923f2815a",
      "c0a661f20e7e4649a3c8c42a5fd01956",
      "8dddd0245dcb4532917cbfa0181d2a00",
      "3bdb4058f40f40e3a10e323325a64638",
      "024989cea06f435894776b0a921164b2",
      "b1d93a7521fa47b8a815445b5232da59",
      "751ae6b9e2da4b85be9600561485f1ac",
      "d7f27e9cf8a844349ca90393e0c49a03",
      "82015055d32449b89346ea18e7474c4d",
      "a170c0cb21cf425fbee97fd6d5584e2c",
      "f5f1f0865d7e4d8b810ccb9c3c4d2683",
      "416badb151ee4660b53fdbc136e0c8fb",
      "a47f1ea64f894f0b8e6b277c31ae9f7d",
      "e51b5fd9d5a6416d986fac1526d1666f",
      "824569c63ec445c08362659ca228dd2a",
      "0f3756509e3b405d87936f599b153de2",
      "d96e01ad62c342cdb7d9b1eceb39afa3",
      "e6ce9330460d4a0fb67cc493ca74ae96",
      "e6178f7b148c4bf39f2826f208e0cc64",
      "f78ff14b9c8f46448ed1ecb3fe1f5e0b",
      "929cde17b3484f3e9e8f8774bc43e374",
      "6ba6d07674a34836be53cf173c2b61ca",
      "5a5bc8b4a1c644dea08a60128d888d10",
      "b054b00a32e64fc5988fbd2966ebbce6",
      "5ccd12253fff448f9c15c9b03c70a408",
      "330226a977694de1bd88c0aa3789be47",
      "f203c54e7e054d97aa4d1097f320f611",
      "6266a4019e124aff877bb55f21740180",
      "3ec3285e9f3e4a5abcefabb7f140f4a3",
      "0cd1932178c945d48604ffd299e65d2c",
      "8ad3e4b211e34c048d0f48e36fdbfe48",
      "55071fc1b7484620803aeba453e9af72"
     ]
    },
    "id": "Ws8DyIL_kjwT",
    "outputId": "6176aea2-5986-4da0-a2ad-6ef5e2c85493"
   },
   "outputs": [
    {
     "name": "stdout",
     "output_type": "stream",
     "text": [
      "    "
     ]
    },
    {
     "name": "stderr",
     "output_type": "stream",
     "text": [
      "Loading cached processed dataset at /workspace/data/upper_sorbian/dsjson/cache-f34da2b9a8a4ba2d.arrow\n",
      "Loading cached processed dataset at /workspace/data/upper_sorbian/dsjson/cache-908c0400e34d39c9.arrow\n",
      "Loading cached processed dataset at /workspace/data/upper_sorbian/dsjson/cache-0263e07e4a76a870.arrow\n",
      "Loading cached processed dataset at /workspace/data/upper_sorbian/dsjson/cache-de17ca1ee9c0e10e.arrow\n"
     ]
    },
    {
     "name": "stdout",
     "output_type": "stream",
     "text": [
      "  "
     ]
    },
    {
     "name": "stderr",
     "output_type": "stream",
     "text": [
      "Loading cached processed dataset at /workspace/.cache/huggingface/datasets/common_voice/hsb/6.1.0/0041e06ab061b91d0a23234a2221e87970a19cf3a81b20901474cffffeb7869f/cache-e964866f3ef648fa.arrow\n",
      "Loading cached processed dataset at /workspace/.cache/huggingface/datasets/common_voice/hsb/6.1.0/0041e06ab061b91d0a23234a2221e87970a19cf3a81b20901474cffffeb7869f/cache-d0e84a911bdd1874.arrow\n"
     ]
    },
    {
     "name": "stdout",
     "output_type": "stream",
     "text": [
      "  "
     ]
    },
    {
     "name": "stderr",
     "output_type": "stream",
     "text": [
      "Loading cached processed dataset at /workspace/.cache/huggingface/datasets/common_voice/hsb/6.1.0/0041e06ab061b91d0a23234a2221e87970a19cf3a81b20901474cffffeb7869f/cache-9f0c3f782177e9a5.arrow\n",
      "Loading cached processed dataset at /workspace/.cache/huggingface/datasets/common_voice/hsb/6.1.0/0041e06ab061b91d0a23234a2221e87970a19cf3a81b20901474cffffeb7869f/cache-72edadb16b82e3fc.arrow\n"
     ]
    }
   ],
   "source": [
    "common_voice_train = common_voice_train.map(resample, num_proc=4)\n",
    "common_voice_test = common_voice_test.map(resample, num_proc=4)"
   ]
  },
  {
   "cell_type": "markdown",
   "metadata": {
    "id": "SOckzFd4Mbzq"
   },
   "source": [
    "This seemed to have worked! Let's listen to a couple of audio files to better understand the dataset and verify that the audio was correctly loaded. \n",
    "\n",
    "**Note**: *You can click the following cell a couple of times to listen to different speech samples.*"
   ]
  },
  {
   "cell_type": "code",
   "execution_count": 32,
   "metadata": {
    "colab": {
     "base_uri": "https://localhost:8080/",
     "height": 74
    },
    "id": "dueM6U7Ev0OA",
    "outputId": "1a3e579d-213e-4c7a-b2ec-9a7725d95afc"
   },
   "outputs": [
    {
     "data": {
      "text/html": [
       "\n",
       "                <audio  controls=\"controls\" autoplay=\"autoplay\">\n",
       "                    <source src=\"data:audio/wav;base64,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\" type=\"audio/wav\" />\n",
       "                    Your browser does not support the audio element.\n",
       "                </audio>\n",
       "              "
      ],
      "text/plain": [
       "<IPython.lib.display.Audio object>"
      ]
     },
     "execution_count": 32,
     "metadata": {},
     "output_type": "execute_result"
    }
   ],
   "source": [
    "import IPython.display as ipd\n",
    "import numpy as np\n",
    "import random\n",
    "\n",
    "rand_int = random.randint(0, len(common_voice_train)-1)\n",
    "\n",
    "ipd.Audio(data=np.asarray(common_voice_train[rand_int][\"speech\"]), autoplay=True, rate=16000)"
   ]
  },
  {
   "cell_type": "markdown",
   "metadata": {
    "id": "1MaL9J2dNVtG"
   },
   "source": [
    "It can be heard, that the speakers change along with their speaking rate, accent, and background environment, etc. Overall, the recordings sound acceptably clear though, which is to be expected from a crowd-sourced read speech corpus.\n",
    "\n",
    "Let's do a final check that the data is correctly prepared, by printing the shape of the speech input, its transcription, and the corresponding sampling rate.\n",
    "\n",
    "**Note**: *You can click the following cell a couple of times to verify multiple samples.*"
   ]
  },
  {
   "cell_type": "code",
   "execution_count": 33,
   "metadata": {
    "colab": {
     "base_uri": "https://localhost:8080/"
    },
    "id": "1Po2g7YPuRTx",
    "outputId": "96b0b82c-a5df-4ae6-d17b-9c7d4f710b42"
   },
   "outputs": [
    {
     "name": "stdout",
     "output_type": "stream",
     "text": [
      "Target text: miłoraz móhł so zachować bjez toho zo hórnicy swoje dźěło zhubja \n",
      "Input array shape: (101760,)\n",
      "Sampling rate: 16000\n"
     ]
    }
   ],
   "source": [
    "rand_int = random.randint(0, len(common_voice_train)-1)\n",
    "\n",
    "print(\"Target text:\", common_voice_train[rand_int][\"target_text\"])\n",
    "print(\"Input array shape:\", np.asarray(common_voice_train[rand_int][\"speech\"]).shape)\n",
    "print(\"Sampling rate:\", common_voice_train[rand_int][\"sampling_rate\"])"
   ]
  },
  {
   "cell_type": "markdown",
   "metadata": {
    "id": "M9teZcSwOBJ4"
   },
   "source": [
    "Good! Everything looks fine - the data is a 1-dimensional array, the sampling rate always corresponds to 16kHz, and the target text is normalized."
   ]
  },
  {
   "cell_type": "markdown",
   "metadata": {
    "id": "k3Pbn5WvOYZF"
   },
   "source": [
    "Finally, we can process the dataset to the format expected by the model for training. We will again make use of the `map(...)` function.\n",
    "\n",
    "First, we check that the data samples have the same sampling rate of 16kHz.\n",
    "Second, we extract the `input_values` from the loaded audio file. In our case, this includes only normalization, but for other speech models, this step could correspond to extracting, *e.g.* [Log-Mel features](https://en.wikipedia.org/wiki/Mel-frequency_cepstrum). \n",
    "Third, we encode the transcriptions to label ids.\n",
    "\n",
    "**Note**: This mapping function is a good example of how the `Wav2Vec2Processor` class should be used. In \"normal\" context, calling `processor(...)` is redirected to `Wav2Vec2FeatureExtractor`'s call method. When wrapping the processor into the `as_target_processor` context, however, the same method is redirected to `Wav2Vec2CTCTokenizer`'s call method.\n",
    "For more information please check the [docs](https://huggingface.co/transformers/master/model_doc/wav2vec2.html#transformers.Wav2Vec2Processor.__call__)."
   ]
  },
  {
   "cell_type": "code",
   "execution_count": 34,
   "metadata": {
    "id": "eJY7I0XAwe9p"
   },
   "outputs": [],
   "source": [
    "def prepare_dataset(batch):\n",
    "    # check that all files have the correct sampling rate\n",
    "    assert (\n",
    "        len(set(batch[\"sampling_rate\"])) == 1\n",
    "    ), f\"Make sure all inputs have the same sampling rate of {processor.feature_extractor.sampling_rate}.\"\n",
    "\n",
    "    batch[\"input_values\"] = processor(batch[\"speech\"], sampling_rate=batch[\"sampling_rate\"][0]).input_values\n",
    "    \n",
    "    with processor.as_target_processor():\n",
    "        batch[\"labels\"] = processor(batch[\"target_text\"]).input_ids\n",
    "    return batch"
   ]
  },
  {
   "cell_type": "code",
   "execution_count": 35,
   "metadata": {
    "colab": {
     "base_uri": "https://localhost:8080/",
     "height": 509,
     "referenced_widgets": [
      "4797f1acd9924b4e97f12f964c83078c",
      "73940df84ffd4e0f96637342e9fd12b7",
      "5370c0f2d54b45c0a89f11fb5b70cd4b",
      "018c1f8e198e4df4b480e609bd1be602",
      "fa7926bbe77e48b3a0648b45f5d2dc7a",
      "020bdb330b0d40f5b89697ff37025f69",
      "d35c15beeb33476894b07c3563f8facd",
      "768ab09956774f50a79b2493a8bf179b",
      "7ef969e47c2d429a9848d5ab3f5bb2d9",
      "fe62265afdc74026b7e9c5a50ef61d2c",
      "015c5690e1ea4281954c7efda1c80a6a",
      "f4135dd72864445391f43f387635bfdc",
      "2f727c76652944e3892dd584bea11af2",
      "dec796237765477ea904834d9a824b61",
      "8df9d19602cb4951b397c385458a11ef",
      "923ed9e127524187ab8cfcac31164ba7",
      "bf9e57d81135412d9a9a2281f28bd52a",
      "c41610c0baef412984f8661d96e08b7e",
      "579b6055028f473981ce789a0733a753",
      "4fb7347e9ca542e6ab9003bf4db218e0",
      "3133b378b9294a759c8dfb786ed8f815",
      "6de66d6b7a73434cbdc59b2109bdf0a0",
      "6d4a26d876fb4ac6b5948a09945bdc6b",
      "0987aac282af415da2fbc9dc1b4d5069",
      "ac35dca0845149a284b9867d9e607232",
      "b54bff6261964119bcb562c1a9f74ce6",
      "5071a31d06f544a5b7340a4e863d8fdf",
      "542027ba12f444d586e8072452badea0",
      "49defa4284554baf85f32de242b22709",
      "b2473405490e4556bf30c0cc81237aa5",
      "02bdb06c176145feaa842b97ae58609c",
      "bc41384bbae04044b9780651c6b5a47c",
      "7040945accce4739a41746cc75bb7fce",
      "71011f0d2bc942ac8f9ea1d1fd30c78d",
      "6f60626242534f44a6381195e6eb6530",
      "9fee9d9dd1164d97a9109e942444c332",
      "5ab30242cd154ec0b560c23c0f178546",
      "0ffcbedb8d4444508ac0c3c0b41ea8ac",
      "f9efaa7678c2450f847ff2c2f21ff96e",
      "c126ea97019149848396e593cfab016f",
      "0f99011a13754ed99f3c51a478b0e793",
      "4abe2731ec624729b401d60a392cae63",
      "bd187486ac2548f2961cfcb63d852de1",
      "3f780f0aa8834fc189b292e0474e2ffa",
      "231c66f195d34f86b216805518f4bccd",
      "58f3e8002f984594ac05c973aa78ef69",
      "ec36a94ee2574ac8b227ccaefdee5520",
      "a868dea9d9b047a4b853b390e138e4c1",
      "6462bd9561e24abb98fce6ce4675d810",
      "bd3447291ce54812af10ac6245ea4328",
      "e273548a15aa4d4994132b317adb66fc",
      "f6930dd5519d4dfda64c597def220a30",
      "7d62810674c8482abe46c60fc08884b4",
      "80697300a4394b909f1c499ba80aeb13",
      "ab72c80dfd5e4ab19a183f4204486b59",
      "56ad6231a0a04228be29ceecbc6b7c0e",
      "b6221b4c04e64c9da9eb9e11539bac89",
      "dc6862530f6e429ba61a169b4c95722c",
      "02d1f77324854fbca0df9384c57faac8",
      "8e63ba7f1fd24555bf11bc9dbe9c770b",
      "704ea5e05fd744d998b76d6435992995",
      "d4a3f79644fc41848450ba29e6fdfc3d",
      "405b5de4ae854cf9896f63d15f2207dd",
      "26e7bab0f3bf4797bfcef83dcace24f0"
     ]
    },
    "id": "-np9xYK-wl8q",
    "outputId": "6155b5f0-a5a2-4e20-d0e2-0b3a60c13f98"
   },
   "outputs": [
    {
     "name": "stdout",
     "output_type": "stream",
     "text": [
      "  "
     ]
    },
    {
     "data": {
      "application/vnd.jupyter.widget-view+json": {
       "model_id": "c64f9ca3518a49339e93af6117ebc375",
       "version_major": 2,
       "version_minor": 0
      },
      "text/plain": [
       "HBox(children=(FloatProgress(value=0.0, description='#0', max=65.0, style=ProgressStyle(description_width='ini…"
      ]
     },
     "metadata": {},
     "output_type": "display_data"
    },
    {
     "name": "stdout",
     "output_type": "stream",
     "text": [
      " "
     ]
    },
    {
     "data": {
      "application/vnd.jupyter.widget-view+json": {
       "model_id": "91d536be273849b0a12ad03f13ccc9ac",
       "version_major": 2,
       "version_minor": 0
      },
      "text/plain": [
       "HBox(children=(FloatProgress(value=0.0, description='#2', max=65.0, style=ProgressStyle(description_width='ini…"
      ]
     },
     "metadata": {},
     "output_type": "display_data"
    },
    {
     "data": {
      "application/vnd.jupyter.widget-view+json": {
       "model_id": "8a79139097984ce687e9216e78ede56b",
       "version_major": 2,
       "version_minor": 0
      },
      "text/plain": [
       "HBox(children=(FloatProgress(value=0.0, description='#1', max=65.0, style=ProgressStyle(description_width='ini…"
      ]
     },
     "metadata": {},
     "output_type": "display_data"
    },
    {
     "data": {
      "application/vnd.jupyter.widget-view+json": {
       "model_id": "91547d23cc9642d2aeae6f56e62b30b1",
       "version_major": 2,
       "version_minor": 0
      },
      "text/plain": [
       "HBox(children=(FloatProgress(value=0.0, description='#3', max=65.0, style=ProgressStyle(description_width='ini…"
      ]
     },
     "metadata": {},
     "output_type": "display_data"
    },
    {
     "name": "stdout",
     "output_type": "stream",
     "text": [
      "\n",
      "\n",
      "\n",
      "\n",
      "  "
     ]
    },
    {
     "data": {
      "application/vnd.jupyter.widget-view+json": {
       "model_id": "c292ea86a09e4ba4b996fcf0b9803e48",
       "version_major": 2,
       "version_minor": 0
      },
      "text/plain": [
       "HBox(children=(FloatProgress(value=0.0, description='#0', max=13.0, style=ProgressStyle(description_width='ini…"
      ]
     },
     "metadata": {},
     "output_type": "display_data"
    },
    {
     "name": "stdout",
     "output_type": "stream",
     "text": [
      "  "
     ]
    },
    {
     "data": {
      "application/vnd.jupyter.widget-view+json": {
       "model_id": "5c5ab2c4ff06441f88c23c4191122b8a",
       "version_major": 2,
       "version_minor": 0
      },
      "text/plain": [
       "HBox(children=(FloatProgress(value=0.0, description='#1', max=13.0, style=ProgressStyle(description_width='ini…"
      ]
     },
     "metadata": {},
     "output_type": "display_data"
    },
    {
     "data": {
      "application/vnd.jupyter.widget-view+json": {
       "model_id": "dee6a22ca99d456f9a24ea1f42b2e0d4",
       "version_major": 2,
       "version_minor": 0
      },
      "text/plain": [
       "HBox(children=(FloatProgress(value=0.0, description='#2', max=13.0, style=ProgressStyle(description_width='ini…"
      ]
     },
     "metadata": {},
     "output_type": "display_data"
    },
    {
     "data": {
      "application/vnd.jupyter.widget-view+json": {
       "model_id": "a7245eeff42945f287778d633d2f3031",
       "version_major": 2,
       "version_minor": 0
      },
      "text/plain": [
       "HBox(children=(FloatProgress(value=0.0, description='#3', max=12.0, style=ProgressStyle(description_width='ini…"
      ]
     },
     "metadata": {},
     "output_type": "display_data"
    },
    {
     "name": "stdout",
     "output_type": "stream",
     "text": [
      "\n",
      "\n",
      "\n",
      "\n"
     ]
    }
   ],
   "source": [
    "common_voice_train = common_voice_train.map(prepare_dataset, remove_columns=common_voice_train.column_names, batch_size=8, num_proc=4, batched=True)\n",
    "common_voice_test = common_voice_test.map(prepare_dataset, remove_columns=common_voice_test.column_names, batch_size=8, num_proc=4, batched=True)"
   ]
  },
  {
   "cell_type": "markdown",
   "metadata": {
    "id": "gYlQkKVoRUos"
   },
   "source": [
    "## Training\n",
    "\n",
    "The data is processed so that we are ready to start setting up the training pipeline. We will make use of 🤗's [Trainer](https://huggingface.co/transformers/master/main_classes/trainer.html?highlight=trainer) for which we essentially need to do the following:\n",
    "\n",
    "- Define a data collator. In contrast to most NLP models, XLSR-Wav2Vec2 has a much larger input length than output length. *E.g.*, a sample of input length 50000 has an output length of no more than 100. Given the large input sizes, it is much more efficient to pad the training batches dynamically meaning that all training samples should only be padded to the longest sample in their batch and not the overall longest sample. Therefore, fine-tuning XLSR-Wav2Vec2 requires a special padding data collator, which we will define below\n",
    "\n",
    "- Evaluation metric. During training, the model should be evaluated on the word error rate. We should define a `compute_metrics` function accordingly\n",
    "\n",
    "- Load a pretrained checkpoint. We need to load a pretrained checkpoint and configure it correctly for training.\n",
    "\n",
    "- Define the training configuration.\n",
    "\n",
    "After having fine-tuned the model, we will correctly evaluate it on the test data and verify that it has indeed learned to correctly transcribe speech."
   ]
  },
  {
   "cell_type": "markdown",
   "metadata": {
    "id": "Slk403unUS91"
   },
   "source": [
    "### Set-up Trainer\n",
    "\n",
    "Let's start by defining the data collator. The code for the data collator was copied from [this example](https://github.com/huggingface/transformers/blob/9a06b6b11bdfc42eea08fa91d0c737d1863c99e3/examples/research_projects/wav2vec2/run_asr.py#L81).\n",
    "\n",
    "Without going into too many details, in contrast to the common data collators, this data collator treats the `input_values` and `labels` differently and thus applies to separate padding functions on them (again making use of XLSR-Wav2Vec2's context manager). This is necessary because in speech input and output are of different modalities meaning that they should not be treated by the same padding function.\n",
    "Analogous to the common data collators, the padding tokens in the labels with `-100` so that those tokens are **not** taken into account when computing the loss."
   ]
  },
  {
   "cell_type": "code",
   "execution_count": 36,
   "metadata": {
    "id": "tborvC9hx88e"
   },
   "outputs": [],
   "source": [
    "import torch\n",
    "\n",
    "from dataclasses import dataclass, field\n",
    "from typing import Any, Dict, List, Optional, Union\n",
    "\n",
    "@dataclass\n",
    "class DataCollatorCTCWithPadding:\n",
    "    \"\"\"\n",
    "    Data collator that will dynamically pad the inputs received.\n",
    "    Args:\n",
    "        processor (:class:`~transformers.Wav2Vec2Processor`)\n",
    "            The processor used for proccessing the data.\n",
    "        padding (:obj:`bool`, :obj:`str` or :class:`~transformers.tokenization_utils_base.PaddingStrategy`, `optional`, defaults to :obj:`True`):\n",
    "            Select a strategy to pad the returned sequences (according to the model's padding side and padding index)\n",
    "            among:\n",
    "            * :obj:`True` or :obj:`'longest'`: Pad to the longest sequence in the batch (or no padding if only a single\n",
    "              sequence if provided).\n",
    "            * :obj:`'max_length'`: Pad to a maximum length specified with the argument :obj:`max_length` or to the\n",
    "              maximum acceptable input length for the model if that argument is not provided.\n",
    "            * :obj:`False` or :obj:`'do_not_pad'` (default): No padding (i.e., can output a batch with sequences of\n",
    "              different lengths).\n",
    "        max_length (:obj:`int`, `optional`):\n",
    "            Maximum length of the ``input_values`` of the returned list and optionally padding length (see above).\n",
    "        max_length_labels (:obj:`int`, `optional`):\n",
    "            Maximum length of the ``labels`` returned list and optionally padding length (see above).\n",
    "        pad_to_multiple_of (:obj:`int`, `optional`):\n",
    "            If set will pad the sequence to a multiple of the provided value.\n",
    "            This is especially useful to enable the use of Tensor Cores on NVIDIA hardware with compute capability >=\n",
    "            7.5 (Volta).\n",
    "    \"\"\"\n",
    "\n",
    "    processor: Wav2Vec2Processor\n",
    "    padding: Union[bool, str] = True\n",
    "    max_length: Optional[int] = None\n",
    "    max_length_labels: Optional[int] = None\n",
    "    pad_to_multiple_of: Optional[int] = None\n",
    "    pad_to_multiple_of_labels: Optional[int] = None\n",
    "\n",
    "    def __call__(self, features: List[Dict[str, Union[List[int], torch.Tensor]]]) -> Dict[str, torch.Tensor]:\n",
    "        # split inputs and labels since they have to be of different lenghts and need\n",
    "        # different padding methods\n",
    "        input_features = [{\"input_values\": feature[\"input_values\"]} for feature in features]\n",
    "        label_features = [{\"input_ids\": feature[\"labels\"]} for feature in features]\n",
    "\n",
    "        batch = self.processor.pad(\n",
    "            input_features,\n",
    "            padding=self.padding,\n",
    "            max_length=self.max_length,\n",
    "            pad_to_multiple_of=self.pad_to_multiple_of,\n",
    "            return_tensors=\"pt\",\n",
    "        )\n",
    "        with self.processor.as_target_processor():\n",
    "            labels_batch = self.processor.pad(\n",
    "                label_features,\n",
    "                padding=self.padding,\n",
    "                max_length=self.max_length_labels,\n",
    "                pad_to_multiple_of=self.pad_to_multiple_of_labels,\n",
    "                return_tensors=\"pt\",\n",
    "            )\n",
    "\n",
    "        # replace padding with -100 to ignore loss correctly\n",
    "        labels = labels_batch[\"input_ids\"].masked_fill(labels_batch.attention_mask.ne(1), -100)\n",
    "\n",
    "        batch[\"labels\"] = labels\n",
    "\n",
    "        return batch"
   ]
  },
  {
   "cell_type": "code",
   "execution_count": 37,
   "metadata": {
    "id": "lbQf5GuZyQ4_"
   },
   "outputs": [],
   "source": [
    "data_collator = DataCollatorCTCWithPadding(processor=processor, padding=True)"
   ]
  },
  {
   "cell_type": "markdown",
   "metadata": {
    "id": "xO-Zdj-5cxXp"
   },
   "source": [
    "Next, the evaluation metric is defined. As mentioned earlier, the \n",
    "predominant metric in ASR is the word error rate (WER), hence we will use it in this notebook as well."
   ]
  },
  {
   "cell_type": "code",
   "execution_count": 38,
   "metadata": {
    "colab": {
     "base_uri": "https://localhost:8080/",
     "height": 67,
     "referenced_widgets": [
      "d5fb02debe4347e781543a996ce39be3",
      "da12267c52144292adb9896249d61a6a",
      "8e1a85a4a6214a16b7431da23a301ada",
      "57198e3250374e1fa64c5a4be255861e",
      "a3c04c75ec9743feb795f69e7c4dff4f",
      "d453bd4a35e54bfba20dac1fe86c60c1",
      "969080b52ad44ee997829986d198c505",
      "8f737725708c4097a8caaf4da6229636"
     ]
    },
    "id": "9Xsux2gmyXso",
    "outputId": "58e0e6f5-6131-4147-bccb-6c42223833db"
   },
   "outputs": [],
   "source": [
    "wer_metric = load_metric(\"wer\")"
   ]
  },
  {
   "cell_type": "markdown",
   "metadata": {
    "id": "E1qZU5p-deqB"
   },
   "source": [
    "The model will return a sequence of logit vectors:\n",
    "$\\mathbf{y}_1, \\ldots, \\mathbf{y}_m$ with $\\mathbf{y}_1 = f_{\\theta}(x_1, \\ldots, x_n)[0]$ and $n >> m$.\n",
    "\n",
    "A logit vector $\\mathbf{y}_1$ contains the log-odds for each word in the vocabulary we defined earlier, thus $\\text{len}(\\mathbf{y}_i) =$ `config.vocab_size`. We are interested in the most likely prediction of the model and thus take the `argmax(...)` of the logits. Also, we transform the encoded labels back to the original string by replacing `-100` with the `pad_token_id` and decoding the ids while making sure that consecutive tokens are **not** grouped to the same token in CTC style ${}^1$."
   ]
  },
  {
   "cell_type": "code",
   "execution_count": 39,
   "metadata": {
    "id": "1XZ-kjweyTy_"
   },
   "outputs": [],
   "source": [
    "def compute_metrics(pred):\n",
    "    pred_logits = pred.predictions\n",
    "    pred_ids = np.argmax(pred_logits, axis=-1)\n",
    "\n",
    "    pred.label_ids[pred.label_ids == -100] = processor.tokenizer.pad_token_id\n",
    "\n",
    "    pred_str = processor.batch_decode(pred_ids)\n",
    "    # we do not want to group tokens when computing the metrics\n",
    "    label_str = processor.batch_decode(pred.label_ids, group_tokens=False)\n",
    "\n",
    "    wer = wer_metric.compute(predictions=pred_str, references=label_str)\n",
    "\n",
    "    return {\"wer\": wer}"
   ]
  },
  {
   "cell_type": "markdown",
   "metadata": {
    "id": "Xmgrx4bRwLIH"
   },
   "source": [
    "Now, we can load the pretrained `XLSR-Wav2Vec2` checkpoint. The tokenizer's `pad_token_id` must be to define the model's `pad_token_id` or in the case of `Wav2Vec2ForCTC` also CTC's *blank token* ${}^2$. To save GPU memory, we enable PyTorch's [gradient checkpointing](https://pytorch.org/docs/stable/checkpoint.html) and also set the loss reduction to \"*mean*\".\n",
    "\n",
    "Because the dataset is quite small (~6h of training data) and because Common Voice is quite noisy, fine-tuning Facebook's [wav2vec2-large-xlsr-53 checkpoint](https://huggingface.co/facebook/wav2vec2-large-xlsr-53) seems to require some hyper-parameter tuning. Therefore, I had to play around a bit with different values for dropout, [SpecAugment](https://arxiv.org/abs/1904.08779)'s masking dropout rate, layer dropout, and the learning rate until training seemed to be stable enough. \n",
    "\n",
    "**Note**: When using this notebook to train XLSR-Wav2Vec2 on another language of Common Voice those hyper-parameter settings might not work very well. Feel free to adapt those depending on your use case. "
   ]
  },
  {
   "cell_type": "code",
   "execution_count": 40,
   "metadata": {
    "colab": {
     "base_uri": "https://localhost:8080/"
    },
    "id": "e7cqAWIayn6w",
    "outputId": "0a5ab559-6c38-47c6-b4f5-64480ed1df65"
   },
   "outputs": [
    {
     "name": "stderr",
     "output_type": "stream",
     "text": [
      "Some weights of Wav2Vec2ForCTC were not initialized from the model checkpoint at facebook/wav2vec2-large-xlsr-53 and are newly initialized: ['lm_head.bias', 'lm_head.weight']\n",
      "You should probably TRAIN this model on a down-stream task to be able to use it for predictions and inference.\n"
     ]
    }
   ],
   "source": [
    "from transformers import Wav2Vec2ForCTC\n",
    "\n",
    "model = Wav2Vec2ForCTC.from_pretrained(\n",
    "    \"facebook/wav2vec2-large-xlsr-53\", \n",
    "    attention_dropout=0.1,\n",
    "    hidden_dropout=0.1,\n",
    "    feat_proj_dropout=0.0,\n",
    "    mask_time_prob=0.05,\n",
    "    layerdrop=0.1,\n",
    "    gradient_checkpointing=True, \n",
    "    ctc_loss_reduction=\"mean\", \n",
    "    pad_token_id=processor.tokenizer.pad_token_id,\n",
    "    vocab_size=len(processor.tokenizer)\n",
    ")"
   ]
  },
  {
   "cell_type": "markdown",
   "metadata": {
    "id": "1DwR3XLSzGDD"
   },
   "source": [
    "The first component of XLSR-Wav2Vec2 consists of a stack of CNN layers that are used to extract acoustically meaningful - but contextually independent - features from the raw speech signal. This part of the model has already been sufficiently trained during pretraining and as stated in the [paper](https://arxiv.org/pdf/2006.13979.pdf) does not need to be fine-tuned anymore. \n",
    "Thus, we can set the `requires_grad` to `False` for all parameters of the *feature extraction* part."
   ]
  },
  {
   "cell_type": "code",
   "execution_count": 41,
   "metadata": {
    "id": "oGI8zObtZ3V0"
   },
   "outputs": [],
   "source": [
    "model.freeze_feature_extractor()"
   ]
  },
  {
   "cell_type": "markdown",
   "metadata": {
    "id": "lD4aGhQM0K-D"
   },
   "source": [
    "In a final step, we define all parameters related to training. \n",
    "To give more explanation on some of the parameters:\n",
    "- `group_by_length` makes training more efficient by grouping training samples of similar input length into one batch. This can significantly speed up training time by heavily reducing the overall number of useless padding tokens that are passed through the model\n",
    "- `learning_rate` and `weight_decay` were heuristically tuned until fine-tuning has become stable. Note that those parameters strongly depend on the Common Voice dataset and might be suboptimal for other speech datasets.\n",
    "\n",
    "For more explanations on other parameters, one can take a look at the [docs](https://huggingface.co/transformers/master/main_classes/trainer.html?highlight=trainer#trainingarguments).\n",
    "\n",
    "**Note**: If one wants to save the trained models in his/her google drive the commented-out `output_dir` can be used instead."
   ]
  },
  {
   "cell_type": "code",
   "execution_count": 42,
   "metadata": {
    "id": "KbeKSV7uzGPP"
   },
   "outputs": [],
   "source": [
    "from transformers import TrainingArguments\n",
    "\n",
    "training_args = TrainingArguments(\n",
    "  output_dir=output_models_dir,\n",
    "  group_by_length=True,\n",
    "  per_device_train_batch_size=16,\n",
    "  gradient_accumulation_steps=2,\n",
    "  evaluation_strategy=\"steps\",\n",
    "  num_train_epochs=60,\n",
    "  fp16=True,\n",
    "  save_steps=400,\n",
    "  eval_steps=400,\n",
    "  logging_steps=400,\n",
    "  learning_rate=3e-4,\n",
    "  warmup_steps=500,\n",
    "  save_total_limit=2,\n",
    ")"
   ]
  },
  {
   "cell_type": "markdown",
   "metadata": {
    "id": "OsW-WZcL1ZtN"
   },
   "source": [
    "Now, all instances can be passed to Trainer and we are ready to start training!"
   ]
  },
  {
   "cell_type": "code",
   "execution_count": 43,
   "metadata": {
    "id": "rY7vBmFCPFgC"
   },
   "outputs": [
    {
     "ename": "AttributeError",
     "evalue": "'str' object has no attribute 'to'",
     "output_type": "error",
     "traceback": [
      "\u001b[0;31m---------------------------------------------------------------------------\u001b[0m",
      "\u001b[0;31mAttributeError\u001b[0m                            Traceback (most recent call last)",
      "\u001b[0;32m<ipython-input-43-c73836a20cfa>\u001b[0m in \u001b[0;36m<module>\u001b[0;34m\u001b[0m\n\u001b[1;32m      8\u001b[0m     \u001b[0mtrain_dataset\u001b[0m\u001b[0;34m=\u001b[0m\u001b[0mcommon_voice_train\u001b[0m\u001b[0;34m,\u001b[0m\u001b[0;34m\u001b[0m\u001b[0;34m\u001b[0m\u001b[0m\n\u001b[1;32m      9\u001b[0m     \u001b[0meval_dataset\u001b[0m\u001b[0;34m=\u001b[0m\u001b[0mcommon_voice_test\u001b[0m\u001b[0;34m,\u001b[0m\u001b[0;34m\u001b[0m\u001b[0;34m\u001b[0m\u001b[0m\n\u001b[0;32m---> 10\u001b[0;31m     \u001b[0mtokenizer\u001b[0m\u001b[0;34m=\u001b[0m\u001b[0mprocessor\u001b[0m\u001b[0;34m.\u001b[0m\u001b[0mfeature_extractor\u001b[0m\u001b[0;34m,\u001b[0m\u001b[0;34m\u001b[0m\u001b[0;34m\u001b[0m\u001b[0m\n\u001b[0m\u001b[1;32m     11\u001b[0m )\n",
      "\u001b[0;32m/opt/conda/lib/python3.7/site-packages/transformers/trainer.py\u001b[0m in \u001b[0;36m__init__\u001b[0;34m(self, model, args, data_collator, train_dataset, eval_dataset, tokenizer, model_init, compute_metrics, callbacks, optimizers)\u001b[0m\n\u001b[1;32m    335\u001b[0m \u001b[0;34m\u001b[0m\u001b[0m\n\u001b[1;32m    336\u001b[0m         \u001b[0;32mif\u001b[0m \u001b[0mself\u001b[0m\u001b[0;34m.\u001b[0m\u001b[0mplace_model_on_device\u001b[0m\u001b[0;34m:\u001b[0m\u001b[0;34m\u001b[0m\u001b[0;34m\u001b[0m\u001b[0m\n\u001b[0;32m--> 337\u001b[0;31m             \u001b[0mmodel\u001b[0m \u001b[0;34m=\u001b[0m \u001b[0mmodel\u001b[0m\u001b[0;34m.\u001b[0m\u001b[0mto\u001b[0m\u001b[0;34m(\u001b[0m\u001b[0margs\u001b[0m\u001b[0;34m.\u001b[0m\u001b[0mdevice\u001b[0m\u001b[0;34m)\u001b[0m\u001b[0;34m\u001b[0m\u001b[0;34m\u001b[0m\u001b[0m\n\u001b[0m\u001b[1;32m    338\u001b[0m \u001b[0;34m\u001b[0m\u001b[0m\n\u001b[1;32m    339\u001b[0m         \u001b[0;31m# Force n_gpu to 1 to avoid DataParallel as MP will manage the GPUs\u001b[0m\u001b[0;34m\u001b[0m\u001b[0;34m\u001b[0m\u001b[0;34m\u001b[0m\u001b[0m\n",
      "\u001b[0;31mAttributeError\u001b[0m: 'str' object has no attribute 'to'"
     ]
    }
   ],
   "source": [
    "from transformers import Trainer\n",
    "\n",
    "trainer = Trainer(\n",
    "    model=base_model,\n",
    "    data_collator=data_collator,\n",
    "    args=training_args,\n",
    "    compute_metrics=compute_metrics,\n",
    "    train_dataset=common_voice_train,\n",
    "    eval_dataset=common_voice_test,\n",
    "    tokenizer=processor.feature_extractor,\n",
    ")"
   ]
  },
  {
   "cell_type": "markdown",
   "metadata": {
    "id": "UoXBx1JAA0DX"
   },
   "source": [
    "\n",
    "\n",
    "---\n",
    "\n",
    "${}^1$ To allow models to become independent of the speaker rate, in CTC, consecutive tokens that are identical are simply grouped as a single token. However, the encoded labels should not be grouped when decoding since they don't correspond to the predicted tokens of the model, which is why the `group_tokens=False` parameter has to be passed. If we wouldn't pass this parameter a word like `\"hello\"` would incorrectly be encoded, and decoded as `\"helo\"`.\n",
    "\n",
    "${}^2$ The blank token allows the model to predict a word, such as `\"hello\"` by forcing it to insert the blank token between the two l's. A CTC-conform prediction of `\"hello\"` of our model would be `[PAD] [PAD] \"h\" \"e\" \"e\" \"l\" \"l\" [PAD] \"l\" \"o\" \"o\" [PAD]`."
   ]
  },
  {
   "cell_type": "markdown",
   "metadata": {
    "id": "rpvZHM1xReIW"
   },
   "source": [
    "### Training"
   ]
  },
  {
   "cell_type": "markdown",
   "metadata": {
    "id": "j-3oKSzZ1hGq"
   },
   "source": [
    "Training will take between 180 and 240 minutes depending on the GPU allocated to this notebook. While the trained model yields somewhat satisfying results on *Common Voice*'s test data of Turkish, it is by no means an optimally fine-tuned model. The purpose of this notebook is to demonstrate how XLSR-Wav2Vec2's [checkpoint](https://huggingface.co/facebook/wav2vec2-large-xlsr-53) can be fine-tuned on a low-resource ASR dataset.\n",
    "\n",
    "In case you want to use this google colab to fine-tune your model, you should make sure that your training doesn't stop due to inactivity. A simple hack to prevent this is to paste the following code into the console of this tab (*right mouse click -> inspect -> Console tab and insert code*)."
   ]
  },
  {
   "cell_type": "markdown",
   "metadata": {
    "id": "VYYAvgkW4P0m"
   },
   "source": [
    "```javascript\n",
    "function ConnectButton(){\n",
    "    console.log(\"Connect pushed\"); \n",
    "    document.querySelector(\"#top-toolbar > colab-connect-button\").shadowRoot.querySelector(\"#connect\").click() \n",
    "}\n",
    "setInterval(ConnectButton,60000);\n",
    "```"
   ]
  },
  {
   "cell_type": "code",
   "execution_count": null,
   "metadata": {
    "colab": {
     "base_uri": "https://localhost:8080/",
     "height": 348
    },
    "id": "_UEjJqGsQw24",
    "outputId": "2e23b190-ca76-48ad-8117-376d1d7c058e"
   },
   "outputs": [],
   "source": [
    "trainer.train()"
   ]
  },
  {
   "cell_type": "markdown",
   "metadata": {
    "id": "RHIVc44_fY2N"
   },
   "source": [
    "The training loss goes down and we can see that the WER on the test set also improves nicely. Because this notebook is just for demonstration purposes, we can stop here.\n",
    "\n",
    "The resulting model of this notebook has been saved to [`patrickvonplaten/wav2vec2-large-xlsr-turkish-demo`](https://huggingface.co/patrickvonplaten/wav2vec2-large-xlsr-turkish-demo)\n",
    "\n",
    "As a final check, let's load the model and verify that it indeed has learned to transcribe Turkish speech.\n",
    "\n",
    "Let's first load the pretrained checkpoint."
   ]
  },
  {
   "cell_type": "code",
   "execution_count": null,
   "metadata": {
    "colab": {
     "base_uri": "https://localhost:8080/"
    },
    "id": "J8E8pxJ9hgZS",
    "outputId": "5d137935-475d-4dbf-d833-d26780311e18"
   },
   "outputs": [],
   "source": [
    "model = Wav2Vec2ForCTC.from_pretrained(pretrain_model).to(\"cuda\")\n",
    "processor = Wav2Vec2Processor.from_pretrained(pretrain_model)"
   ]
  },
  {
   "cell_type": "markdown",
   "metadata": {
    "id": "QsfGCQYSvY8C"
   },
   "source": [
    "Now, we will just take the first example of the test set, run it through the model and take the `argmax(...)` of the logits to retrieve the predicted token ids."
   ]
  },
  {
   "cell_type": "code",
   "execution_count": null,
   "metadata": {
    "colab": {
     "base_uri": "https://localhost:8080/"
    },
    "id": "EA6fxk-jiHby",
    "outputId": "8b91a977-2559-4adc-8298-b4ad6b7ff196"
   },
   "outputs": [],
   "source": [
    "input_dict = processor(common_voice_test[\"input_values\"][0], return_tensors=\"pt\", padding=True)\n",
    "\n",
    "logits = model(input_dict.input_values.to(\"cuda\")).logits\n",
    "\n",
    "pred_ids = torch.argmax(logits, dim=-1)[0]"
   ]
  },
  {
   "cell_type": "markdown",
   "metadata": {
    "id": "1JDyVCMDvlYd"
   },
   "source": [
    "We adapted `common_voice_test` quite a bit so that the dataset instance does not contain the original sentence label anymore. Thus, we re-use the original dataset to get the label of the first example."
   ]
  },
  {
   "cell_type": "code",
   "execution_count": null,
   "metadata": {
    "colab": {
     "base_uri": "https://localhost:8080/"
    },
    "id": "8dPE2GRIgtx-",
    "outputId": "a211d1ee-d850-481d-8bac-dc46c3efa561"
   },
   "outputs": [],
   "source": [
    "common_voice_test_transcription = load_dataset(\"common_voice\", language_code, data_dir=data_dir, split=\"test\")"
   ]
  },
  {
   "cell_type": "markdown",
   "metadata": {
    "id": "ApS3MmN4v5P7"
   },
   "source": [
    "Finally, we can decode the example."
   ]
  },
  {
   "cell_type": "code",
   "execution_count": null,
   "metadata": {
    "colab": {
     "base_uri": "https://localhost:8080/"
    },
    "id": "Phqxa1O1jMDk",
    "outputId": "60d48c9f-f745-45ac-9105-446dc71025ca"
   },
   "outputs": [],
   "source": [
    "print(\"Prediction:\")\n",
    "print(processor.decode(pred_ids))\n",
    "\n",
    "print(\"\\nReference:\")\n",
    "print(common_voice_test_transcription[\"sentence\"][0].lower())\n"
   ]
  },
  {
   "cell_type": "markdown",
   "metadata": {
    "id": "4n_8vhzUv7aw"
   },
   "source": [
    "Alright! The transcription can definitely be recognized from our prediction, but it is far from being perfect. Training the model a bit longer, spending more time on the data preprocessing, and especially using a language model for decoding would certainly improve the model's overall performance. \n",
    "\n",
    "For a demonstration model on a low-resource language, the results are acceptable, however 🤗."
   ]
  }
 ],
 "metadata": {
  "accelerator": "GPU",
  "colab": {
   "collapsed_sections": [],
   "include_colab_link": true,
   "machine_shape": "hm",
   "name": "Fine-Tune XLSR-Wav2Vec2 on Turkish ASR with 🤗 Transformers.ipynb",
   "provenance": []
  },
  "kernelspec": {
   "display_name": "Python 3",
   "language": "python",
   "name": "python3"
  },
  "language_info": {
   "codemirror_mode": {
    "name": "ipython",
    "version": 3
   },
   "file_extension": ".py",
   "mimetype": "text/x-python",
   "name": "python",
   "nbconvert_exporter": "python",
   "pygments_lexer": "ipython3",
   "version": "3.7.6"
  },
  "widgets": {
   "application/vnd.jupyter.widget-state+json": {
    "015c5690e1ea4281954c7efda1c80a6a": {
     "model_module": "@jupyter-widgets/controls",
     "model_name": "FloatProgressModel",
     "state": {
      "_dom_classes": [],
      "_model_module": "@jupyter-widgets/controls",
      "_model_module_version": "1.5.0",
      "_model_name": "FloatProgressModel",
      "_view_count": null,
      "_view_module": "@jupyter-widgets/controls",
      "_view_module_version": "1.5.0",
      "_view_name": "ProgressView",
      "bar_style": "success",
      "description": "#1: 100%",
      "description_tooltip": null,
      "layout": "IPY_MODEL_dec796237765477ea904834d9a824b61",
      "max": 109,
      "min": 0,
      "orientation": "horizontal",
      "style": "IPY_MODEL_2f727c76652944e3892dd584bea11af2",
      "value": 109
     }
    },
    "018c1f8e198e4df4b480e609bd1be602": {
     "model_module": "@jupyter-widgets/controls",
     "model_name": "HTMLModel",
     "state": {
      "_dom_classes": [],
      "_model_module": "@jupyter-widgets/controls",
      "_model_module_version": "1.5.0",
      "_model_name": "HTMLModel",
      "_view_count": null,
      "_view_module": "@jupyter-widgets/controls",
      "_view_module_version": "1.5.0",
      "_view_name": "HTMLView",
      "description": "",
      "description_tooltip": null,
      "layout": "IPY_MODEL_768ab09956774f50a79b2493a8bf179b",
      "placeholder": "​",
      "style": "IPY_MODEL_d35c15beeb33476894b07c3563f8facd",
      "value": " 109/109 [00:56&lt;00:00,  1.92ba/s]"
     }
    },
    "020bdb330b0d40f5b89697ff37025f69": {
     "model_module": "@jupyter-widgets/base",
     "model_name": "LayoutModel",
     "state": {
      "_model_module": "@jupyter-widgets/base",
      "_model_module_version": "1.2.0",
      "_model_name": "LayoutModel",
      "_view_count": null,
      "_view_module": "@jupyter-widgets/base",
      "_view_module_version": "1.2.0",
      "_view_name": "LayoutView",
      "align_content": null,
      "align_items": null,
      "align_self": null,
      "border": null,
      "bottom": null,
      "display": null,
      "flex": null,
      "flex_flow": null,
      "grid_area": null,
      "grid_auto_columns": null,
      "grid_auto_flow": null,
      "grid_auto_rows": null,
      "grid_column": null,
      "grid_gap": null,
      "grid_row": null,
      "grid_template_areas": null,
      "grid_template_columns": null,
      "grid_template_rows": null,
      "height": null,
      "justify_content": null,
      "justify_items": null,
      "left": null,
      "margin": null,
      "max_height": null,
      "max_width": null,
      "min_height": null,
      "min_width": null,
      "object_fit": null,
      "object_position": null,
      "order": null,
      "overflow": null,
      "overflow_x": null,
      "overflow_y": null,
      "padding": null,
      "right": null,
      "top": null,
      "visibility": null,
      "width": null
     }
    },
    "024989cea06f435894776b0a921164b2": {
     "model_module": "@jupyter-widgets/controls",
     "model_name": "ProgressStyleModel",
     "state": {
      "_model_module": "@jupyter-widgets/controls",
      "_model_module_version": "1.5.0",
      "_model_name": "ProgressStyleModel",
      "_view_count": null,
      "_view_module": "@jupyter-widgets/base",
      "_view_module_version": "1.2.0",
      "_view_name": "StyleView",
      "bar_color": null,
      "description_width": "initial"
     }
    },
    "02bdb06c176145feaa842b97ae58609c": {
     "model_module": "@jupyter-widgets/controls",
     "model_name": "DescriptionStyleModel",
     "state": {
      "_model_module": "@jupyter-widgets/controls",
      "_model_module_version": "1.5.0",
      "_model_name": "DescriptionStyleModel",
      "_view_count": null,
      "_view_module": "@jupyter-widgets/base",
      "_view_module_version": "1.2.0",
      "_view_name": "StyleView",
      "description_width": ""
     }
    },
    "02d1f77324854fbca0df9384c57faac8": {
     "model_module": "@jupyter-widgets/controls",
     "model_name": "FloatProgressModel",
     "state": {
      "_dom_classes": [],
      "_model_module": "@jupyter-widgets/controls",
      "_model_module_version": "1.5.0",
      "_model_name": "FloatProgressModel",
      "_view_count": null,
      "_view_module": "@jupyter-widgets/controls",
      "_view_module_version": "1.5.0",
      "_view_name": "ProgressView",
      "bar_style": "success",
      "description": "#3: 100%",
      "description_tooltip": null,
      "layout": "IPY_MODEL_d4a3f79644fc41848450ba29e6fdfc3d",
      "max": 52,
      "min": 0,
      "orientation": "horizontal",
      "style": "IPY_MODEL_704ea5e05fd744d998b76d6435992995",
      "value": 52
     }
    },
    "0354ab33471e4c34a0c1b3c062bcd6bb": {
     "model_module": "@jupyter-widgets/base",
     "model_name": "LayoutModel",
     "state": {
      "_model_module": "@jupyter-widgets/base",
      "_model_module_version": "1.2.0",
      "_model_name": "LayoutModel",
      "_view_count": null,
      "_view_module": "@jupyter-widgets/base",
      "_view_module_version": "1.2.0",
      "_view_name": "LayoutView",
      "align_content": null,
      "align_items": null,
      "align_self": null,
      "border": null,
      "bottom": null,
      "display": null,
      "flex": null,
      "flex_flow": null,
      "grid_area": null,
      "grid_auto_columns": null,
      "grid_auto_flow": null,
      "grid_auto_rows": null,
      "grid_column": null,
      "grid_gap": null,
      "grid_row": null,
      "grid_template_areas": null,
      "grid_template_columns": null,
      "grid_template_rows": null,
      "height": null,
      "justify_content": null,
      "justify_items": null,
      "left": null,
      "margin": null,
      "max_height": null,
      "max_width": null,
      "min_height": null,
      "min_width": null,
      "object_fit": null,
      "object_position": null,
      "order": null,
      "overflow": null,
      "overflow_x": null,
      "overflow_y": null,
      "padding": null,
      "right": null,
      "top": null,
      "visibility": null,
      "width": null
     }
    },
    "03b33c17734d49e28c4636dddd6e833d": {
     "model_module": "@jupyter-widgets/controls",
     "model_name": "FloatProgressModel",
     "state": {
      "_dom_classes": [],
      "_model_module": "@jupyter-widgets/controls",
      "_model_module_version": "1.5.0",
      "_model_name": "FloatProgressModel",
      "_view_count": null,
      "_view_module": "@jupyter-widgets/controls",
      "_view_module_version": "1.5.0",
      "_view_name": "ProgressView",
      "bar_style": "info",
      "description": "",
      "description_tooltip": null,
      "layout": "IPY_MODEL_bee0f50055eb4f738636142a10da0ddd",
      "max": 1,
      "min": 0,
      "orientation": "horizontal",
      "style": "IPY_MODEL_da1ff50f8b9241108a325ada04224642",
      "value": 1
     }
    },
    "05f83d714f864a399083f0e34a812467": {
     "model_module": "@jupyter-widgets/controls",
     "model_name": "DescriptionStyleModel",
     "state": {
      "_model_module": "@jupyter-widgets/controls",
      "_model_module_version": "1.5.0",
      "_model_name": "DescriptionStyleModel",
      "_view_count": null,
      "_view_module": "@jupyter-widgets/base",
      "_view_module_version": "1.2.0",
      "_view_name": "StyleView",
      "description_width": ""
     }
    },
    "089428f56e66419f85ea149d9d102454": {
     "model_module": "@jupyter-widgets/controls",
     "model_name": "HBoxModel",
     "state": {
      "_dom_classes": [],
      "_model_module": "@jupyter-widgets/controls",
      "_model_module_version": "1.5.0",
      "_model_name": "HBoxModel",
      "_view_count": null,
      "_view_module": "@jupyter-widgets/controls",
      "_view_module_version": "1.5.0",
      "_view_name": "HBoxView",
      "box_style": "",
      "children": [
       "IPY_MODEL_4db5037af3f64a3a8a8a1203018a80ff",
       "IPY_MODEL_6a957c1c17474d8d89c27ddecf702fda"
      ],
      "layout": "IPY_MODEL_d649c0f9c1c24634a84b7ef697721ffa"
     }
    },
    "0987aac282af415da2fbc9dc1b4d5069": {
     "model_module": "@jupyter-widgets/base",
     "model_name": "LayoutModel",
     "state": {
      "_model_module": "@jupyter-widgets/base",
      "_model_module_version": "1.2.0",
      "_model_name": "LayoutModel",
      "_view_count": null,
      "_view_module": "@jupyter-widgets/base",
      "_view_module_version": "1.2.0",
      "_view_name": "LayoutView",
      "align_content": null,
      "align_items": null,
      "align_self": null,
      "border": null,
      "bottom": null,
      "display": null,
      "flex": null,
      "flex_flow": null,
      "grid_area": null,
      "grid_auto_columns": null,
      "grid_auto_flow": null,
      "grid_auto_rows": null,
      "grid_column": null,
      "grid_gap": null,
      "grid_row": null,
      "grid_template_areas": null,
      "grid_template_columns": null,
      "grid_template_rows": null,
      "height": null,
      "justify_content": null,
      "justify_items": null,
      "left": null,
      "margin": null,
      "max_height": null,
      "max_width": null,
      "min_height": null,
      "min_width": null,
      "object_fit": null,
      "object_position": null,
      "order": null,
      "overflow": null,
      "overflow_x": null,
      "overflow_y": null,
      "padding": null,
      "right": null,
      "top": null,
      "visibility": null,
      "width": null
     }
    },
    "0a9b58c98508420d8f8936189f064316": {
     "model_module": "@jupyter-widgets/controls",
     "model_name": "FloatProgressModel",
     "state": {
      "_dom_classes": [],
      "_model_module": "@jupyter-widgets/controls",
      "_model_module_version": "1.5.0",
      "_model_name": "FloatProgressModel",
      "_view_count": null,
      "_view_module": "@jupyter-widgets/controls",
      "_view_module_version": "1.5.0",
      "_view_name": "ProgressView",
      "bar_style": "info",
      "description": "",
      "description_tooltip": null,
      "layout": "IPY_MODEL_af85713f677243d19cba9fe69a4a5f46",
      "max": 1,
      "min": 0,
      "orientation": "horizontal",
      "style": "IPY_MODEL_c546bca23ee248a1be7bd8ead3e82a8f",
      "value": 1
     }
    },
    "0b795d4b68014de19bf9579c67b55ffb": {
     "model_module": "@jupyter-widgets/controls",
     "model_name": "DescriptionStyleModel",
     "state": {
      "_model_module": "@jupyter-widgets/controls",
      "_model_module_version": "1.5.0",
      "_model_name": "DescriptionStyleModel",
      "_view_count": null,
      "_view_module": "@jupyter-widgets/base",
      "_view_module_version": "1.2.0",
      "_view_name": "StyleView",
      "description_width": ""
     }
    },
    "0cd1932178c945d48604ffd299e65d2c": {
     "model_module": "@jupyter-widgets/base",
     "model_name": "LayoutModel",
     "state": {
      "_model_module": "@jupyter-widgets/base",
      "_model_module_version": "1.2.0",
      "_model_name": "LayoutModel",
      "_view_count": null,
      "_view_module": "@jupyter-widgets/base",
      "_view_module_version": "1.2.0",
      "_view_name": "LayoutView",
      "align_content": null,
      "align_items": null,
      "align_self": null,
      "border": null,
      "bottom": null,
      "display": null,
      "flex": null,
      "flex_flow": null,
      "grid_area": null,
      "grid_auto_columns": null,
      "grid_auto_flow": null,
      "grid_auto_rows": null,
      "grid_column": null,
      "grid_gap": null,
      "grid_row": null,
      "grid_template_areas": null,
      "grid_template_columns": null,
      "grid_template_rows": null,
      "height": null,
      "justify_content": null,
      "justify_items": null,
      "left": null,
      "margin": null,
      "max_height": null,
      "max_width": null,
      "min_height": null,
      "min_width": null,
      "object_fit": null,
      "object_position": null,
      "order": null,
      "overflow": null,
      "overflow_x": null,
      "overflow_y": null,
      "padding": null,
      "right": null,
      "top": null,
      "visibility": null,
      "width": null
     }
    },
    "0e999af234bd4b63ad2937e61d08b693": {
     "model_module": "@jupyter-widgets/base",
     "model_name": "LayoutModel",
     "state": {
      "_model_module": "@jupyter-widgets/base",
      "_model_module_version": "1.2.0",
      "_model_name": "LayoutModel",
      "_view_count": null,
      "_view_module": "@jupyter-widgets/base",
      "_view_module_version": "1.2.0",
      "_view_name": "LayoutView",
      "align_content": null,
      "align_items": null,
      "align_self": null,
      "border": null,
      "bottom": null,
      "display": null,
      "flex": null,
      "flex_flow": null,
      "grid_area": null,
      "grid_auto_columns": null,
      "grid_auto_flow": null,
      "grid_auto_rows": null,
      "grid_column": null,
      "grid_gap": null,
      "grid_row": null,
      "grid_template_areas": null,
      "grid_template_columns": null,
      "grid_template_rows": null,
      "height": null,
      "justify_content": null,
      "justify_items": null,
      "left": null,
      "margin": null,
      "max_height": null,
      "max_width": null,
      "min_height": null,
      "min_width": null,
      "object_fit": null,
      "object_position": null,
      "order": null,
      "overflow": null,
      "overflow_x": null,
      "overflow_y": null,
      "padding": null,
      "right": null,
      "top": null,
      "visibility": null,
      "width": null
     }
    },
    "0f3756509e3b405d87936f599b153de2": {
     "model_module": "@jupyter-widgets/base",
     "model_name": "LayoutModel",
     "state": {
      "_model_module": "@jupyter-widgets/base",
      "_model_module_version": "1.2.0",
      "_model_name": "LayoutModel",
      "_view_count": null,
      "_view_module": "@jupyter-widgets/base",
      "_view_module_version": "1.2.0",
      "_view_name": "LayoutView",
      "align_content": null,
      "align_items": null,
      "align_self": null,
      "border": null,
      "bottom": null,
      "display": null,
      "flex": null,
      "flex_flow": null,
      "grid_area": null,
      "grid_auto_columns": null,
      "grid_auto_flow": null,
      "grid_auto_rows": null,
      "grid_column": null,
      "grid_gap": null,
      "grid_row": null,
      "grid_template_areas": null,
      "grid_template_columns": null,
      "grid_template_rows": null,
      "height": null,
      "justify_content": null,
      "justify_items": null,
      "left": null,
      "margin": null,
      "max_height": null,
      "max_width": null,
      "min_height": null,
      "min_width": null,
      "object_fit": null,
      "object_position": null,
      "order": null,
      "overflow": null,
      "overflow_x": null,
      "overflow_y": null,
      "padding": null,
      "right": null,
      "top": null,
      "visibility": null,
      "width": null
     }
    },
    "0f99011a13754ed99f3c51a478b0e793": {
     "model_module": "@jupyter-widgets/controls",
     "model_name": "HBoxModel",
     "state": {
      "_dom_classes": [],
      "_model_module": "@jupyter-widgets/controls",
      "_model_module_version": "1.5.0",
      "_model_name": "HBoxModel",
      "_view_count": null,
      "_view_module": "@jupyter-widgets/controls",
      "_view_module_version": "1.5.0",
      "_view_name": "HBoxView",
      "box_style": "",
      "children": [
       "IPY_MODEL_bd187486ac2548f2961cfcb63d852de1",
       "IPY_MODEL_3f780f0aa8834fc189b292e0474e2ffa"
      ],
      "layout": "IPY_MODEL_4abe2731ec624729b401d60a392cae63"
     }
    },
    "0ffcbedb8d4444508ac0c3c0b41ea8ac": {
     "model_module": "@jupyter-widgets/base",
     "model_name": "LayoutModel",
     "state": {
      "_model_module": "@jupyter-widgets/base",
      "_model_module_version": "1.2.0",
      "_model_name": "LayoutModel",
      "_view_count": null,
      "_view_module": "@jupyter-widgets/base",
      "_view_module_version": "1.2.0",
      "_view_name": "LayoutView",
      "align_content": null,
      "align_items": null,
      "align_self": null,
      "border": null,
      "bottom": null,
      "display": null,
      "flex": null,
      "flex_flow": null,
      "grid_area": null,
      "grid_auto_columns": null,
      "grid_auto_flow": null,
      "grid_auto_rows": null,
      "grid_column": null,
      "grid_gap": null,
      "grid_row": null,
      "grid_template_areas": null,
      "grid_template_columns": null,
      "grid_template_rows": null,
      "height": null,
      "justify_content": null,
      "justify_items": null,
      "left": null,
      "margin": null,
      "max_height": null,
      "max_width": null,
      "min_height": null,
      "min_width": null,
      "object_fit": null,
      "object_position": null,
      "order": null,
      "overflow": null,
      "overflow_x": null,
      "overflow_y": null,
      "padding": null,
      "right": null,
      "top": null,
      "visibility": null,
      "width": null
     }
    },
    "1261590ef796493798f7068ea0547b74": {
     "model_module": "@jupyter-widgets/controls",
     "model_name": "ProgressStyleModel",
     "state": {
      "_model_module": "@jupyter-widgets/controls",
      "_model_module_version": "1.5.0",
      "_model_name": "ProgressStyleModel",
      "_view_count": null,
      "_view_module": "@jupyter-widgets/base",
      "_view_module_version": "1.2.0",
      "_view_name": "StyleView",
      "bar_color": null,
      "description_width": "initial"
     }
    },
    "12696cc03f464a63a411efb2b5e5ac3b": {
     "model_module": "@jupyter-widgets/controls",
     "model_name": "HTMLModel",
     "state": {
      "_dom_classes": [],
      "_model_module": "@jupyter-widgets/controls",
      "_model_module_version": "1.5.0",
      "_model_name": "HTMLModel",
      "_view_count": null,
      "_view_module": "@jupyter-widgets/controls",
      "_view_module_version": "1.5.0",
      "_view_name": "HTMLView",
      "description": "",
      "description_tooltip": null,
      "layout": "IPY_MODEL_ceb44ba4fdf34da19a52469acf1ce63f",
      "placeholder": "​",
      "style": "IPY_MODEL_68a3178fe7a54e838e798ff28ff9aa0b",
      "value": " 139k/? [00:00&lt;00:00, 2.38MB/s]"
     }
    },
    "1813458f75514f039ba0214597a09bb4": {
     "model_module": "@jupyter-widgets/base",
     "model_name": "LayoutModel",
     "state": {
      "_model_module": "@jupyter-widgets/base",
      "_model_module_version": "1.2.0",
      "_model_name": "LayoutModel",
      "_view_count": null,
      "_view_module": "@jupyter-widgets/base",
      "_view_module_version": "1.2.0",
      "_view_name": "LayoutView",
      "align_content": null,
      "align_items": null,
      "align_self": null,
      "border": null,
      "bottom": null,
      "display": null,
      "flex": null,
      "flex_flow": null,
      "grid_area": null,
      "grid_auto_columns": null,
      "grid_auto_flow": null,
      "grid_auto_rows": null,
      "grid_column": null,
      "grid_gap": null,
      "grid_row": null,
      "grid_template_areas": null,
      "grid_template_columns": null,
      "grid_template_rows": null,
      "height": null,
      "justify_content": null,
      "justify_items": null,
      "left": null,
      "margin": null,
      "max_height": null,
      "max_width": null,
      "min_height": null,
      "min_width": null,
      "object_fit": null,
      "object_position": null,
      "order": null,
      "overflow": null,
      "overflow_x": null,
      "overflow_y": null,
      "padding": null,
      "right": null,
      "top": null,
      "visibility": null,
      "width": null
     }
    },
    "19e263785ea343ba99ee2127d9b83d1d": {
     "model_module": "@jupyter-widgets/controls",
     "model_name": "DescriptionStyleModel",
     "state": {
      "_model_module": "@jupyter-widgets/controls",
      "_model_module_version": "1.5.0",
      "_model_name": "DescriptionStyleModel",
      "_view_count": null,
      "_view_module": "@jupyter-widgets/base",
      "_view_module_version": "1.2.0",
      "_view_name": "StyleView",
      "description_width": ""
     }
    },
    "1f1faa7b986e475c9e6839b2e7b55c74": {
     "model_module": "@jupyter-widgets/controls",
     "model_name": "HTMLModel",
     "state": {
      "_dom_classes": [],
      "_model_module": "@jupyter-widgets/controls",
      "_model_module_version": "1.5.0",
      "_model_name": "HTMLModel",
      "_view_count": null,
      "_view_module": "@jupyter-widgets/controls",
      "_view_module_version": "1.5.0",
      "_view_name": "HTMLView",
      "description": "",
      "description_tooltip": null,
      "layout": "IPY_MODEL_b320306eaf264ad9872d507a1a1cb2da",
      "placeholder": "​",
      "style": "IPY_MODEL_2ca2f397c4ef405bba27ae2b1415cada",
      "value": " 3478/3478 [03:59&lt;00:00, 14.53ex/s]"
     }
    },
    "20347ed29fdc4c0a96da28c09aacf44d": {
     "model_module": "@jupyter-widgets/controls",
     "model_name": "DescriptionStyleModel",
     "state": {
      "_model_module": "@jupyter-widgets/controls",
      "_model_module_version": "1.5.0",
      "_model_name": "DescriptionStyleModel",
      "_view_count": null,
      "_view_module": "@jupyter-widgets/base",
      "_view_module_version": "1.2.0",
      "_view_name": "StyleView",
      "description_width": ""
     }
    },
    "231c66f195d34f86b216805518f4bccd": {
     "model_module": "@jupyter-widgets/controls",
     "model_name": "ProgressStyleModel",
     "state": {
      "_model_module": "@jupyter-widgets/controls",
      "_model_module_version": "1.5.0",
      "_model_name": "ProgressStyleModel",
      "_view_count": null,
      "_view_module": "@jupyter-widgets/base",
      "_view_module_version": "1.2.0",
      "_view_name": "StyleView",
      "bar_color": null,
      "description_width": "initial"
     }
    },
    "24ea17ae8ab14e8a871e5e115c3f4c06": {
     "model_module": "@jupyter-widgets/controls",
     "model_name": "HBoxModel",
     "state": {
      "_dom_classes": [],
      "_model_module": "@jupyter-widgets/controls",
      "_model_module_version": "1.5.0",
      "_model_name": "HBoxModel",
      "_view_count": null,
      "_view_module": "@jupyter-widgets/controls",
      "_view_module_version": "1.5.0",
      "_view_name": "HBoxView",
      "box_style": "",
      "children": [
       "IPY_MODEL_f3905820a42c499fba04af9c1ad19705",
       "IPY_MODEL_4e1a725fd90b45e280b8b0028ba65250"
      ],
      "layout": "IPY_MODEL_f57d087016124ebeb073fd7428dcb68b"
     }
    },
    "25ba4f4c8b9c44af9885b3903a9261fd": {
     "model_module": "@jupyter-widgets/controls",
     "model_name": "HBoxModel",
     "state": {
      "_dom_classes": [],
      "_model_module": "@jupyter-widgets/controls",
      "_model_module_version": "1.5.0",
      "_model_name": "HBoxModel",
      "_view_count": null,
      "_view_module": "@jupyter-widgets/controls",
      "_view_module_version": "1.5.0",
      "_view_name": "HBoxView",
      "box_style": "",
      "children": [
       "IPY_MODEL_03b33c17734d49e28c4636dddd6e833d",
       "IPY_MODEL_71c059a0f3c246f3a40d55744331daaa"
      ],
      "layout": "IPY_MODEL_dde7ae43ef954ef1b901c80f0a4e11fd"
     }
    },
    "26e7bab0f3bf4797bfcef83dcace24f0": {
     "model_module": "@jupyter-widgets/base",
     "model_name": "LayoutModel",
     "state": {
      "_model_module": "@jupyter-widgets/base",
      "_model_module_version": "1.2.0",
      "_model_name": "LayoutModel",
      "_view_count": null,
      "_view_module": "@jupyter-widgets/base",
      "_view_module_version": "1.2.0",
      "_view_name": "LayoutView",
      "align_content": null,
      "align_items": null,
      "align_self": null,
      "border": null,
      "bottom": null,
      "display": null,
      "flex": null,
      "flex_flow": null,
      "grid_area": null,
      "grid_auto_columns": null,
      "grid_auto_flow": null,
      "grid_auto_rows": null,
      "grid_column": null,
      "grid_gap": null,
      "grid_row": null,
      "grid_template_areas": null,
      "grid_template_columns": null,
      "grid_template_rows": null,
      "height": null,
      "justify_content": null,
      "justify_items": null,
      "left": null,
      "margin": null,
      "max_height": null,
      "max_width": null,
      "min_height": null,
      "min_width": null,
      "object_fit": null,
      "object_position": null,
      "order": null,
      "overflow": null,
      "overflow_x": null,
      "overflow_y": null,
      "padding": null,
      "right": null,
      "top": null,
      "visibility": null,
      "width": null
     }
    },
    "2a6e1185a6a247f5acba8111824ad36b": {
     "model_module": "@jupyter-widgets/controls",
     "model_name": "ProgressStyleModel",
     "state": {
      "_model_module": "@jupyter-widgets/controls",
      "_model_module_version": "1.5.0",
      "_model_name": "ProgressStyleModel",
      "_view_count": null,
      "_view_module": "@jupyter-widgets/base",
      "_view_module_version": "1.2.0",
      "_view_name": "StyleView",
      "bar_color": null,
      "description_width": "initial"
     }
    },
    "2ca2f397c4ef405bba27ae2b1415cada": {
     "model_module": "@jupyter-widgets/controls",
     "model_name": "DescriptionStyleModel",
     "state": {
      "_model_module": "@jupyter-widgets/controls",
      "_model_module_version": "1.5.0",
      "_model_name": "DescriptionStyleModel",
      "_view_count": null,
      "_view_module": "@jupyter-widgets/base",
      "_view_module_version": "1.2.0",
      "_view_name": "StyleView",
      "description_width": ""
     }
    },
    "2cd13e03a2ab45dc8570c8c739a613b4": {
     "model_module": "@jupyter-widgets/base",
     "model_name": "LayoutModel",
     "state": {
      "_model_module": "@jupyter-widgets/base",
      "_model_module_version": "1.2.0",
      "_model_name": "LayoutModel",
      "_view_count": null,
      "_view_module": "@jupyter-widgets/base",
      "_view_module_version": "1.2.0",
      "_view_name": "LayoutView",
      "align_content": null,
      "align_items": null,
      "align_self": null,
      "border": null,
      "bottom": null,
      "display": null,
      "flex": null,
      "flex_flow": null,
      "grid_area": null,
      "grid_auto_columns": null,
      "grid_auto_flow": null,
      "grid_auto_rows": null,
      "grid_column": null,
      "grid_gap": null,
      "grid_row": null,
      "grid_template_areas": null,
      "grid_template_columns": null,
      "grid_template_rows": null,
      "height": null,
      "justify_content": null,
      "justify_items": null,
      "left": null,
      "margin": null,
      "max_height": null,
      "max_width": null,
      "min_height": null,
      "min_width": null,
      "object_fit": null,
      "object_position": null,
      "order": null,
      "overflow": null,
      "overflow_x": null,
      "overflow_y": null,
      "padding": null,
      "right": null,
      "top": null,
      "visibility": null,
      "width": null
     }
    },
    "2f18d89c684343b69c3f44ffbb9b42a0": {
     "model_module": "@jupyter-widgets/controls",
     "model_name": "DescriptionStyleModel",
     "state": {
      "_model_module": "@jupyter-widgets/controls",
      "_model_module_version": "1.5.0",
      "_model_name": "DescriptionStyleModel",
      "_view_count": null,
      "_view_module": "@jupyter-widgets/base",
      "_view_module_version": "1.2.0",
      "_view_name": "StyleView",
      "description_width": ""
     }
    },
    "2f5406546970425282a881b5d2f7c248": {
     "model_module": "@jupyter-widgets/base",
     "model_name": "LayoutModel",
     "state": {
      "_model_module": "@jupyter-widgets/base",
      "_model_module_version": "1.2.0",
      "_model_name": "LayoutModel",
      "_view_count": null,
      "_view_module": "@jupyter-widgets/base",
      "_view_module_version": "1.2.0",
      "_view_name": "LayoutView",
      "align_content": null,
      "align_items": null,
      "align_self": null,
      "border": null,
      "bottom": null,
      "display": null,
      "flex": null,
      "flex_flow": null,
      "grid_area": null,
      "grid_auto_columns": null,
      "grid_auto_flow": null,
      "grid_auto_rows": null,
      "grid_column": null,
      "grid_gap": null,
      "grid_row": null,
      "grid_template_areas": null,
      "grid_template_columns": null,
      "grid_template_rows": null,
      "height": null,
      "justify_content": null,
      "justify_items": null,
      "left": null,
      "margin": null,
      "max_height": null,
      "max_width": null,
      "min_height": null,
      "min_width": null,
      "object_fit": null,
      "object_position": null,
      "order": null,
      "overflow": null,
      "overflow_x": null,
      "overflow_y": null,
      "padding": null,
      "right": null,
      "top": null,
      "visibility": null,
      "width": null
     }
    },
    "2f727c76652944e3892dd584bea11af2": {
     "model_module": "@jupyter-widgets/controls",
     "model_name": "ProgressStyleModel",
     "state": {
      "_model_module": "@jupyter-widgets/controls",
      "_model_module_version": "1.5.0",
      "_model_name": "ProgressStyleModel",
      "_view_count": null,
      "_view_module": "@jupyter-widgets/base",
      "_view_module_version": "1.2.0",
      "_view_name": "StyleView",
      "bar_color": null,
      "description_width": "initial"
     }
    },
    "2fd148d5587b4139919b0158f9dad71e": {
     "model_module": "@jupyter-widgets/base",
     "model_name": "LayoutModel",
     "state": {
      "_model_module": "@jupyter-widgets/base",
      "_model_module_version": "1.2.0",
      "_model_name": "LayoutModel",
      "_view_count": null,
      "_view_module": "@jupyter-widgets/base",
      "_view_module_version": "1.2.0",
      "_view_name": "LayoutView",
      "align_content": null,
      "align_items": null,
      "align_self": null,
      "border": null,
      "bottom": null,
      "display": null,
      "flex": null,
      "flex_flow": null,
      "grid_area": null,
      "grid_auto_columns": null,
      "grid_auto_flow": null,
      "grid_auto_rows": null,
      "grid_column": null,
      "grid_gap": null,
      "grid_row": null,
      "grid_template_areas": null,
      "grid_template_columns": null,
      "grid_template_rows": null,
      "height": null,
      "justify_content": null,
      "justify_items": null,
      "left": null,
      "margin": null,
      "max_height": null,
      "max_width": null,
      "min_height": null,
      "min_width": null,
      "object_fit": null,
      "object_position": null,
      "order": null,
      "overflow": null,
      "overflow_x": null,
      "overflow_y": null,
      "padding": null,
      "right": null,
      "top": null,
      "visibility": null,
      "width": null
     }
    },
    "304e9130c12f4110941bfbd3db49a28c": {
     "model_module": "@jupyter-widgets/controls",
     "model_name": "HBoxModel",
     "state": {
      "_dom_classes": [],
      "_model_module": "@jupyter-widgets/controls",
      "_model_module_version": "1.5.0",
      "_model_name": "HBoxModel",
      "_view_count": null,
      "_view_module": "@jupyter-widgets/controls",
      "_view_module_version": "1.5.0",
      "_view_name": "HBoxView",
      "box_style": "",
      "children": [
       "IPY_MODEL_75e00c38605f44cfb584067db1160349",
       "IPY_MODEL_8c07a528fc4a4e108b393ab117fe2e46"
      ],
      "layout": "IPY_MODEL_5e6bae23461b4378b6e5fc890fe6bc97"
     }
    },
    "3133b378b9294a759c8dfb786ed8f815": {
     "model_module": "@jupyter-widgets/controls",
     "model_name": "ProgressStyleModel",
     "state": {
      "_model_module": "@jupyter-widgets/controls",
      "_model_module_version": "1.5.0",
      "_model_name": "ProgressStyleModel",
      "_view_count": null,
      "_view_module": "@jupyter-widgets/base",
      "_view_module_version": "1.2.0",
      "_view_name": "StyleView",
      "bar_color": null,
      "description_width": "initial"
     }
    },
    "330226a977694de1bd88c0aa3789be47": {
     "model_module": "@jupyter-widgets/base",
     "model_name": "LayoutModel",
     "state": {
      "_model_module": "@jupyter-widgets/base",
      "_model_module_version": "1.2.0",
      "_model_name": "LayoutModel",
      "_view_count": null,
      "_view_module": "@jupyter-widgets/base",
      "_view_module_version": "1.2.0",
      "_view_name": "LayoutView",
      "align_content": null,
      "align_items": null,
      "align_self": null,
      "border": null,
      "bottom": null,
      "display": null,
      "flex": null,
      "flex_flow": null,
      "grid_area": null,
      "grid_auto_columns": null,
      "grid_auto_flow": null,
      "grid_auto_rows": null,
      "grid_column": null,
      "grid_gap": null,
      "grid_row": null,
      "grid_template_areas": null,
      "grid_template_columns": null,
      "grid_template_rows": null,
      "height": null,
      "justify_content": null,
      "justify_items": null,
      "left": null,
      "margin": null,
      "max_height": null,
      "max_width": null,
      "min_height": null,
      "min_width": null,
      "object_fit": null,
      "object_position": null,
      "order": null,
      "overflow": null,
      "overflow_x": null,
      "overflow_y": null,
      "padding": null,
      "right": null,
      "top": null,
      "visibility": null,
      "width": null
     }
    },
    "33c92b5afd1d4b6d88016aabfb434194": {
     "model_module": "@jupyter-widgets/controls",
     "model_name": "FloatProgressModel",
     "state": {
      "_dom_classes": [],
      "_model_module": "@jupyter-widgets/controls",
      "_model_module_version": "1.5.0",
      "_model_name": "FloatProgressModel",
      "_view_count": null,
      "_view_module": "@jupyter-widgets/controls",
      "_view_module_version": "1.5.0",
      "_view_name": "ProgressView",
      "bar_style": "success",
      "description": "100%",
      "description_tooltip": null,
      "layout": "IPY_MODEL_3dc9ea77b842455a91f00e9ca9f41948",
      "max": 1647,
      "min": 0,
      "orientation": "horizontal",
      "style": "IPY_MODEL_45f0a2f361da4608bc8314a27657a56c",
      "value": 1647
     }
    },
    "348ef54c80b2449f8a3bc950cccd62cc": {
     "model_module": "@jupyter-widgets/controls",
     "model_name": "HBoxModel",
     "state": {
      "_dom_classes": [],
      "_model_module": "@jupyter-widgets/controls",
      "_model_module_version": "1.5.0",
      "_model_name": "HBoxModel",
      "_view_count": null,
      "_view_module": "@jupyter-widgets/controls",
      "_view_module_version": "1.5.0",
      "_view_name": "HBoxView",
      "box_style": "",
      "children": [
       "IPY_MODEL_7edbecaccdd94ede8fddc0e1807e777e",
       "IPY_MODEL_5e3aad95e52f4be2bd670d1345398f1b"
      ],
      "layout": "IPY_MODEL_b78413dcc0584a0c8f71731a06aaa1b8"
     }
    },
    "389e43e47a734193a507817ebad955f7": {
     "model_module": "@jupyter-widgets/base",
     "model_name": "LayoutModel",
     "state": {
      "_model_module": "@jupyter-widgets/base",
      "_model_module_version": "1.2.0",
      "_model_name": "LayoutModel",
      "_view_count": null,
      "_view_module": "@jupyter-widgets/base",
      "_view_module_version": "1.2.0",
      "_view_name": "LayoutView",
      "align_content": null,
      "align_items": null,
      "align_self": null,
      "border": null,
      "bottom": null,
      "display": null,
      "flex": null,
      "flex_flow": null,
      "grid_area": null,
      "grid_auto_columns": null,
      "grid_auto_flow": null,
      "grid_auto_rows": null,
      "grid_column": null,
      "grid_gap": null,
      "grid_row": null,
      "grid_template_areas": null,
      "grid_template_columns": null,
      "grid_template_rows": null,
      "height": null,
      "justify_content": null,
      "justify_items": null,
      "left": null,
      "margin": null,
      "max_height": null,
      "max_width": null,
      "min_height": null,
      "min_width": null,
      "object_fit": null,
      "object_position": null,
      "order": null,
      "overflow": null,
      "overflow_x": null,
      "overflow_y": null,
      "padding": null,
      "right": null,
      "top": null,
      "visibility": null,
      "width": null
     }
    },
    "3bdb4058f40f40e3a10e323325a64638": {
     "model_module": "@jupyter-widgets/controls",
     "model_name": "HTMLModel",
     "state": {
      "_dom_classes": [],
      "_model_module": "@jupyter-widgets/controls",
      "_model_module_version": "1.5.0",
      "_model_name": "HTMLModel",
      "_view_count": null,
      "_view_module": "@jupyter-widgets/controls",
      "_view_module_version": "1.5.0",
      "_view_name": "HTMLView",
      "description": "",
      "description_tooltip": null,
      "layout": "IPY_MODEL_d7f27e9cf8a844349ca90393e0c49a03",
      "placeholder": "​",
      "style": "IPY_MODEL_751ae6b9e2da4b85be9600561485f1ac",
      "value": " 412/412 [03:04&lt;00:00,  2.23ex/s]"
     }
    },
    "3d929b9e2518402b81a71757ffb753d2": {
     "model_module": "@jupyter-widgets/base",
     "model_name": "LayoutModel",
     "state": {
      "_model_module": "@jupyter-widgets/base",
      "_model_module_version": "1.2.0",
      "_model_name": "LayoutModel",
      "_view_count": null,
      "_view_module": "@jupyter-widgets/base",
      "_view_module_version": "1.2.0",
      "_view_name": "LayoutView",
      "align_content": null,
      "align_items": null,
      "align_self": null,
      "border": null,
      "bottom": null,
      "display": null,
      "flex": null,
      "flex_flow": null,
      "grid_area": null,
      "grid_auto_columns": null,
      "grid_auto_flow": null,
      "grid_auto_rows": null,
      "grid_column": null,
      "grid_gap": null,
      "grid_row": null,
      "grid_template_areas": null,
      "grid_template_columns": null,
      "grid_template_rows": null,
      "height": null,
      "justify_content": null,
      "justify_items": null,
      "left": null,
      "margin": null,
      "max_height": null,
      "max_width": null,
      "min_height": null,
      "min_width": null,
      "object_fit": null,
      "object_position": null,
      "order": null,
      "overflow": null,
      "overflow_x": null,
      "overflow_y": null,
      "padding": null,
      "right": null,
      "top": null,
      "visibility": null,
      "width": null
     }
    },
    "3dc9ea77b842455a91f00e9ca9f41948": {
     "model_module": "@jupyter-widgets/base",
     "model_name": "LayoutModel",
     "state": {
      "_model_module": "@jupyter-widgets/base",
      "_model_module_version": "1.2.0",
      "_model_name": "LayoutModel",
      "_view_count": null,
      "_view_module": "@jupyter-widgets/base",
      "_view_module_version": "1.2.0",
      "_view_name": "LayoutView",
      "align_content": null,
      "align_items": null,
      "align_self": null,
      "border": null,
      "bottom": null,
      "display": null,
      "flex": null,
      "flex_flow": null,
      "grid_area": null,
      "grid_auto_columns": null,
      "grid_auto_flow": null,
      "grid_auto_rows": null,
      "grid_column": null,
      "grid_gap": null,
      "grid_row": null,
      "grid_template_areas": null,
      "grid_template_columns": null,
      "grid_template_rows": null,
      "height": null,
      "justify_content": null,
      "justify_items": null,
      "left": null,
      "margin": null,
      "max_height": null,
      "max_width": null,
      "min_height": null,
      "min_width": null,
      "object_fit": null,
      "object_position": null,
      "order": null,
      "overflow": null,
      "overflow_x": null,
      "overflow_y": null,
      "padding": null,
      "right": null,
      "top": null,
      "visibility": null,
      "width": null
     }
    },
    "3e2cd59ac697495f8db14b894b783f95": {
     "model_module": "@jupyter-widgets/base",
     "model_name": "LayoutModel",
     "state": {
      "_model_module": "@jupyter-widgets/base",
      "_model_module_version": "1.2.0",
      "_model_name": "LayoutModel",
      "_view_count": null,
      "_view_module": "@jupyter-widgets/base",
      "_view_module_version": "1.2.0",
      "_view_name": "LayoutView",
      "align_content": null,
      "align_items": null,
      "align_self": null,
      "border": null,
      "bottom": null,
      "display": null,
      "flex": null,
      "flex_flow": null,
      "grid_area": null,
      "grid_auto_columns": null,
      "grid_auto_flow": null,
      "grid_auto_rows": null,
      "grid_column": null,
      "grid_gap": null,
      "grid_row": null,
      "grid_template_areas": null,
      "grid_template_columns": null,
      "grid_template_rows": null,
      "height": null,
      "justify_content": null,
      "justify_items": null,
      "left": null,
      "margin": null,
      "max_height": null,
      "max_width": null,
      "min_height": null,
      "min_width": null,
      "object_fit": null,
      "object_position": null,
      "order": null,
      "overflow": null,
      "overflow_x": null,
      "overflow_y": null,
      "padding": null,
      "right": null,
      "top": null,
      "visibility": null,
      "width": null
     }
    },
    "3e3a022a9f304b0f9f7ef067fcee1e56": {
     "model_module": "@jupyter-widgets/base",
     "model_name": "LayoutModel",
     "state": {
      "_model_module": "@jupyter-widgets/base",
      "_model_module_version": "1.2.0",
      "_model_name": "LayoutModel",
      "_view_count": null,
      "_view_module": "@jupyter-widgets/base",
      "_view_module_version": "1.2.0",
      "_view_name": "LayoutView",
      "align_content": null,
      "align_items": null,
      "align_self": null,
      "border": null,
      "bottom": null,
      "display": null,
      "flex": null,
      "flex_flow": null,
      "grid_area": null,
      "grid_auto_columns": null,
      "grid_auto_flow": null,
      "grid_auto_rows": null,
      "grid_column": null,
      "grid_gap": null,
      "grid_row": null,
      "grid_template_areas": null,
      "grid_template_columns": null,
      "grid_template_rows": null,
      "height": null,
      "justify_content": null,
      "justify_items": null,
      "left": null,
      "margin": null,
      "max_height": null,
      "max_width": null,
      "min_height": null,
      "min_width": null,
      "object_fit": null,
      "object_position": null,
      "order": null,
      "overflow": null,
      "overflow_x": null,
      "overflow_y": null,
      "padding": null,
      "right": null,
      "top": null,
      "visibility": null,
      "width": null
     }
    },
    "3ec3285e9f3e4a5abcefabb7f140f4a3": {
     "model_module": "@jupyter-widgets/controls",
     "model_name": "ProgressStyleModel",
     "state": {
      "_model_module": "@jupyter-widgets/controls",
      "_model_module_version": "1.5.0",
      "_model_name": "ProgressStyleModel",
      "_view_count": null,
      "_view_module": "@jupyter-widgets/base",
      "_view_module_version": "1.2.0",
      "_view_name": "StyleView",
      "bar_color": null,
      "description_width": "initial"
     }
    },
    "3f780f0aa8834fc189b292e0474e2ffa": {
     "model_module": "@jupyter-widgets/controls",
     "model_name": "HTMLModel",
     "state": {
      "_dom_classes": [],
      "_model_module": "@jupyter-widgets/controls",
      "_model_module_version": "1.5.0",
      "_model_name": "HTMLModel",
      "_view_count": null,
      "_view_module": "@jupyter-widgets/controls",
      "_view_module_version": "1.5.0",
      "_view_name": "HTMLView",
      "description": "",
      "description_tooltip": null,
      "layout": "IPY_MODEL_a868dea9d9b047a4b853b390e138e4c1",
      "placeholder": "​",
      "style": "IPY_MODEL_ec36a94ee2574ac8b227ccaefdee5520",
      "value": " 52/52 [00:31&lt;00:00,  1.67ba/s]"
     }
    },
    "405b5de4ae854cf9896f63d15f2207dd": {
     "model_module": "@jupyter-widgets/controls",
     "model_name": "DescriptionStyleModel",
     "state": {
      "_model_module": "@jupyter-widgets/controls",
      "_model_module_version": "1.5.0",
      "_model_name": "DescriptionStyleModel",
      "_view_count": null,
      "_view_module": "@jupyter-widgets/base",
      "_view_module_version": "1.2.0",
      "_view_name": "StyleView",
      "description_width": ""
     }
    },
    "416badb151ee4660b53fdbc136e0c8fb": {
     "model_module": "@jupyter-widgets/controls",
     "model_name": "HTMLModel",
     "state": {
      "_dom_classes": [],
      "_model_module": "@jupyter-widgets/controls",
      "_model_module_version": "1.5.0",
      "_model_name": "HTMLModel",
      "_view_count": null,
      "_view_module": "@jupyter-widgets/controls",
      "_view_module_version": "1.5.0",
      "_view_name": "HTMLView",
      "description": "",
      "description_tooltip": null,
      "layout": "IPY_MODEL_0f3756509e3b405d87936f599b153de2",
      "placeholder": "​",
      "style": "IPY_MODEL_824569c63ec445c08362659ca228dd2a",
      "value": " 412/412 [03:01&lt;00:00,  2.28ex/s]"
     }
    },
    "430c3c079d0e4006b90e72df7986ffb0": {
     "model_module": "@jupyter-widgets/base",
     "model_name": "LayoutModel",
     "state": {
      "_model_module": "@jupyter-widgets/base",
      "_model_module_version": "1.2.0",
      "_model_name": "LayoutModel",
      "_view_count": null,
      "_view_module": "@jupyter-widgets/base",
      "_view_module_version": "1.2.0",
      "_view_name": "LayoutView",
      "align_content": null,
      "align_items": null,
      "align_self": null,
      "border": null,
      "bottom": null,
      "display": null,
      "flex": null,
      "flex_flow": null,
      "grid_area": null,
      "grid_auto_columns": null,
      "grid_auto_flow": null,
      "grid_auto_rows": null,
      "grid_column": null,
      "grid_gap": null,
      "grid_row": null,
      "grid_template_areas": null,
      "grid_template_columns": null,
      "grid_template_rows": null,
      "height": null,
      "justify_content": null,
      "justify_items": null,
      "left": null,
      "margin": null,
      "max_height": null,
      "max_width": null,
      "min_height": null,
      "min_width": null,
      "object_fit": null,
      "object_position": null,
      "order": null,
      "overflow": null,
      "overflow_x": null,
      "overflow_y": null,
      "padding": null,
      "right": null,
      "top": null,
      "visibility": null,
      "width": null
     }
    },
    "4382726ef043441a9b1a4a647d84f242": {
     "model_module": "@jupyter-widgets/controls",
     "model_name": "ProgressStyleModel",
     "state": {
      "_model_module": "@jupyter-widgets/controls",
      "_model_module_version": "1.5.0",
      "_model_name": "ProgressStyleModel",
      "_view_count": null,
      "_view_module": "@jupyter-widgets/base",
      "_view_module_version": "1.2.0",
      "_view_name": "StyleView",
      "bar_color": null,
      "description_width": "initial"
     }
    },
    "45f0a2f361da4608bc8314a27657a56c": {
     "model_module": "@jupyter-widgets/controls",
     "model_name": "ProgressStyleModel",
     "state": {
      "_model_module": "@jupyter-widgets/controls",
      "_model_module_version": "1.5.0",
      "_model_name": "ProgressStyleModel",
      "_view_count": null,
      "_view_module": "@jupyter-widgets/base",
      "_view_module_version": "1.2.0",
      "_view_name": "StyleView",
      "bar_color": null,
      "description_width": "initial"
     }
    },
    "4797f1acd9924b4e97f12f964c83078c": {
     "model_module": "@jupyter-widgets/controls",
     "model_name": "HBoxModel",
     "state": {
      "_dom_classes": [],
      "_model_module": "@jupyter-widgets/controls",
      "_model_module_version": "1.5.0",
      "_model_name": "HBoxModel",
      "_view_count": null,
      "_view_module": "@jupyter-widgets/controls",
      "_view_module_version": "1.5.0",
      "_view_name": "HBoxView",
      "box_style": "",
      "children": [
       "IPY_MODEL_5370c0f2d54b45c0a89f11fb5b70cd4b",
       "IPY_MODEL_018c1f8e198e4df4b480e609bd1be602"
      ],
      "layout": "IPY_MODEL_73940df84ffd4e0f96637342e9fd12b7"
     }
    },
    "47a6c3c427614f21a6dab1c048e5dd37": {
     "model_module": "@jupyter-widgets/base",
     "model_name": "LayoutModel",
     "state": {
      "_model_module": "@jupyter-widgets/base",
      "_model_module_version": "1.2.0",
      "_model_name": "LayoutModel",
      "_view_count": null,
      "_view_module": "@jupyter-widgets/base",
      "_view_module_version": "1.2.0",
      "_view_name": "LayoutView",
      "align_content": null,
      "align_items": null,
      "align_self": null,
      "border": null,
      "bottom": null,
      "display": null,
      "flex": null,
      "flex_flow": null,
      "grid_area": null,
      "grid_auto_columns": null,
      "grid_auto_flow": null,
      "grid_auto_rows": null,
      "grid_column": null,
      "grid_gap": null,
      "grid_row": null,
      "grid_template_areas": null,
      "grid_template_columns": null,
      "grid_template_rows": null,
      "height": null,
      "justify_content": null,
      "justify_items": null,
      "left": null,
      "margin": null,
      "max_height": null,
      "max_width": null,
      "min_height": null,
      "min_width": null,
      "object_fit": null,
      "object_position": null,
      "order": null,
      "overflow": null,
      "overflow_x": null,
      "overflow_y": null,
      "padding": null,
      "right": null,
      "top": null,
      "visibility": null,
      "width": null
     }
    },
    "491fd969d61a478f8e85ffcd3e1a3e20": {
     "model_module": "@jupyter-widgets/base",
     "model_name": "LayoutModel",
     "state": {
      "_model_module": "@jupyter-widgets/base",
      "_model_module_version": "1.2.0",
      "_model_name": "LayoutModel",
      "_view_count": null,
      "_view_module": "@jupyter-widgets/base",
      "_view_module_version": "1.2.0",
      "_view_name": "LayoutView",
      "align_content": null,
      "align_items": null,
      "align_self": null,
      "border": null,
      "bottom": null,
      "display": null,
      "flex": null,
      "flex_flow": null,
      "grid_area": null,
      "grid_auto_columns": null,
      "grid_auto_flow": null,
      "grid_auto_rows": null,
      "grid_column": null,
      "grid_gap": null,
      "grid_row": null,
      "grid_template_areas": null,
      "grid_template_columns": null,
      "grid_template_rows": null,
      "height": null,
      "justify_content": null,
      "justify_items": null,
      "left": null,
      "margin": null,
      "max_height": null,
      "max_width": null,
      "min_height": null,
      "min_width": null,
      "object_fit": null,
      "object_position": null,
      "order": null,
      "overflow": null,
      "overflow_x": null,
      "overflow_y": null,
      "padding": null,
      "right": null,
      "top": null,
      "visibility": null,
      "width": null
     }
    },
    "49defa4284554baf85f32de242b22709": {
     "model_module": "@jupyter-widgets/controls",
     "model_name": "ProgressStyleModel",
     "state": {
      "_model_module": "@jupyter-widgets/controls",
      "_model_module_version": "1.5.0",
      "_model_name": "ProgressStyleModel",
      "_view_count": null,
      "_view_module": "@jupyter-widgets/base",
      "_view_module_version": "1.2.0",
      "_view_name": "StyleView",
      "bar_color": null,
      "description_width": "initial"
     }
    },
    "4abe2731ec624729b401d60a392cae63": {
     "model_module": "@jupyter-widgets/base",
     "model_name": "LayoutModel",
     "state": {
      "_model_module": "@jupyter-widgets/base",
      "_model_module_version": "1.2.0",
      "_model_name": "LayoutModel",
      "_view_count": null,
      "_view_module": "@jupyter-widgets/base",
      "_view_module_version": "1.2.0",
      "_view_name": "LayoutView",
      "align_content": null,
      "align_items": null,
      "align_self": null,
      "border": null,
      "bottom": null,
      "display": null,
      "flex": null,
      "flex_flow": null,
      "grid_area": null,
      "grid_auto_columns": null,
      "grid_auto_flow": null,
      "grid_auto_rows": null,
      "grid_column": null,
      "grid_gap": null,
      "grid_row": null,
      "grid_template_areas": null,
      "grid_template_columns": null,
      "grid_template_rows": null,
      "height": null,
      "justify_content": null,
      "justify_items": null,
      "left": null,
      "margin": null,
      "max_height": null,
      "max_width": null,
      "min_height": null,
      "min_width": null,
      "object_fit": null,
      "object_position": null,
      "order": null,
      "overflow": null,
      "overflow_x": null,
      "overflow_y": null,
      "padding": null,
      "right": null,
      "top": null,
      "visibility": null,
      "width": null
     }
    },
    "4c0ad31e73234e46aac0a297ec18bdeb": {
     "model_module": "@jupyter-widgets/controls",
     "model_name": "ProgressStyleModel",
     "state": {
      "_model_module": "@jupyter-widgets/controls",
      "_model_module_version": "1.5.0",
      "_model_name": "ProgressStyleModel",
      "_view_count": null,
      "_view_module": "@jupyter-widgets/base",
      "_view_module_version": "1.2.0",
      "_view_name": "StyleView",
      "bar_color": null,
      "description_width": "initial"
     }
    },
    "4db5037af3f64a3a8a8a1203018a80ff": {
     "model_module": "@jupyter-widgets/controls",
     "model_name": "FloatProgressModel",
     "state": {
      "_dom_classes": [],
      "_model_module": "@jupyter-widgets/controls",
      "_model_module_version": "1.5.0",
      "_model_name": "FloatProgressModel",
      "_view_count": null,
      "_view_module": "@jupyter-widgets/controls",
      "_view_module_version": "1.5.0",
      "_view_name": "ProgressView",
      "bar_style": "info",
      "description": "",
      "description_tooltip": null,
      "layout": "IPY_MODEL_c0e6b6e6395d4dbd827eb1c0de1ad21a",
      "max": 1,
      "min": 0,
      "orientation": "horizontal",
      "style": "IPY_MODEL_2a6e1185a6a247f5acba8111824ad36b",
      "value": 1
     }
    },
    "4e1a725fd90b45e280b8b0028ba65250": {
     "model_module": "@jupyter-widgets/controls",
     "model_name": "HTMLModel",
     "state": {
      "_dom_classes": [],
      "_model_module": "@jupyter-widgets/controls",
      "_model_module_version": "1.5.0",
      "_model_name": "HTMLModel",
      "_view_count": null,
      "_view_module": "@jupyter-widgets/controls",
      "_view_module_version": "1.5.0",
      "_view_name": "HTMLView",
      "description": "",
      "description_tooltip": null,
      "layout": "IPY_MODEL_491fd969d61a478f8e85ffcd3e1a3e20",
      "placeholder": "​",
      "style": "IPY_MODEL_9f79629ad6a94201acf3283862d1ae17",
      "value": " 869/869 [05:48&lt;00:00,  2.49ex/s]"
     }
    },
    "4f8957dc035d4c1a9e8630fc8ab8cd10": {
     "model_module": "@jupyter-widgets/controls",
     "model_name": "FloatProgressModel",
     "state": {
      "_dom_classes": [],
      "_model_module": "@jupyter-widgets/controls",
      "_model_module_version": "1.5.0",
      "_model_name": "FloatProgressModel",
      "_view_count": null,
      "_view_module": "@jupyter-widgets/controls",
      "_view_module_version": "1.5.0",
      "_view_name": "ProgressView",
      "bar_style": "success",
      "description": "#1: 100%",
      "description_tooltip": null,
      "layout": "IPY_MODEL_47a6c3c427614f21a6dab1c048e5dd37",
      "max": 870,
      "min": 0,
      "orientation": "horizontal",
      "style": "IPY_MODEL_596aea0362924c7db583203268dd5a3e",
      "value": 870
     }
    },
    "4fb7347e9ca542e6ab9003bf4db218e0": {
     "model_module": "@jupyter-widgets/controls",
     "model_name": "HTMLModel",
     "state": {
      "_dom_classes": [],
      "_model_module": "@jupyter-widgets/controls",
      "_model_module_version": "1.5.0",
      "_model_name": "HTMLModel",
      "_view_count": null,
      "_view_module": "@jupyter-widgets/controls",
      "_view_module_version": "1.5.0",
      "_view_name": "HTMLView",
      "description": "",
      "description_tooltip": null,
      "layout": "IPY_MODEL_0987aac282af415da2fbc9dc1b4d5069",
      "placeholder": "​",
      "style": "IPY_MODEL_6d4a26d876fb4ac6b5948a09945bdc6b",
      "value": " 109/109 [00:58&lt;00:00,  1.88ba/s]"
     }
    },
    "4ff7ccffc36a4a0f93031f5cdc3b718d": {
     "model_module": "@jupyter-widgets/controls",
     "model_name": "ProgressStyleModel",
     "state": {
      "_model_module": "@jupyter-widgets/controls",
      "_model_module_version": "1.5.0",
      "_model_name": "ProgressStyleModel",
      "_view_count": null,
      "_view_module": "@jupyter-widgets/base",
      "_view_module_version": "1.2.0",
      "_view_name": "StyleView",
      "bar_color": null,
      "description_width": "initial"
     }
    },
    "5071a31d06f544a5b7340a4e863d8fdf": {
     "model_module": "@jupyter-widgets/controls",
     "model_name": "FloatProgressModel",
     "state": {
      "_dom_classes": [],
      "_model_module": "@jupyter-widgets/controls",
      "_model_module_version": "1.5.0",
      "_model_name": "FloatProgressModel",
      "_view_count": null,
      "_view_module": "@jupyter-widgets/controls",
      "_view_module_version": "1.5.0",
      "_view_name": "ProgressView",
      "bar_style": "success",
      "description": "#3: 100%",
      "description_tooltip": null,
      "layout": "IPY_MODEL_b2473405490e4556bf30c0cc81237aa5",
      "max": 109,
      "min": 0,
      "orientation": "horizontal",
      "style": "IPY_MODEL_49defa4284554baf85f32de242b22709",
      "value": 109
     }
    },
    "530f66ac087e4f8f979fcaa33941c60d": {
     "model_module": "@jupyter-widgets/controls",
     "model_name": "ProgressStyleModel",
     "state": {
      "_model_module": "@jupyter-widgets/controls",
      "_model_module_version": "1.5.0",
      "_model_name": "ProgressStyleModel",
      "_view_count": null,
      "_view_module": "@jupyter-widgets/base",
      "_view_module_version": "1.2.0",
      "_view_name": "StyleView",
      "bar_color": null,
      "description_width": "initial"
     }
    },
    "5370c0f2d54b45c0a89f11fb5b70cd4b": {
     "model_module": "@jupyter-widgets/controls",
     "model_name": "FloatProgressModel",
     "state": {
      "_dom_classes": [],
      "_model_module": "@jupyter-widgets/controls",
      "_model_module_version": "1.5.0",
      "_model_name": "FloatProgressModel",
      "_view_count": null,
      "_view_module": "@jupyter-widgets/controls",
      "_view_module_version": "1.5.0",
      "_view_name": "ProgressView",
      "bar_style": "success",
      "description": "#0: 100%",
      "description_tooltip": null,
      "layout": "IPY_MODEL_020bdb330b0d40f5b89697ff37025f69",
      "max": 109,
      "min": 0,
      "orientation": "horizontal",
      "style": "IPY_MODEL_fa7926bbe77e48b3a0648b45f5d2dc7a",
      "value": 109
     }
    },
    "540510088d3947f1b3cf6f4c983c1a53": {
     "model_module": "@jupyter-widgets/base",
     "model_name": "LayoutModel",
     "state": {
      "_model_module": "@jupyter-widgets/base",
      "_model_module_version": "1.2.0",
      "_model_name": "LayoutModel",
      "_view_count": null,
      "_view_module": "@jupyter-widgets/base",
      "_view_module_version": "1.2.0",
      "_view_name": "LayoutView",
      "align_content": null,
      "align_items": null,
      "align_self": null,
      "border": null,
      "bottom": null,
      "display": null,
      "flex": null,
      "flex_flow": null,
      "grid_area": null,
      "grid_auto_columns": null,
      "grid_auto_flow": null,
      "grid_auto_rows": null,
      "grid_column": null,
      "grid_gap": null,
      "grid_row": null,
      "grid_template_areas": null,
      "grid_template_columns": null,
      "grid_template_rows": null,
      "height": null,
      "justify_content": null,
      "justify_items": null,
      "left": null,
      "margin": null,
      "max_height": null,
      "max_width": null,
      "min_height": null,
      "min_width": null,
      "object_fit": null,
      "object_position": null,
      "order": null,
      "overflow": null,
      "overflow_x": null,
      "overflow_y": null,
      "padding": null,
      "right": null,
      "top": null,
      "visibility": null,
      "width": null
     }
    },
    "542027ba12f444d586e8072452badea0": {
     "model_module": "@jupyter-widgets/controls",
     "model_name": "HTMLModel",
     "state": {
      "_dom_classes": [],
      "_model_module": "@jupyter-widgets/controls",
      "_model_module_version": "1.5.0",
      "_model_name": "HTMLModel",
      "_view_count": null,
      "_view_module": "@jupyter-widgets/controls",
      "_view_module_version": "1.5.0",
      "_view_name": "HTMLView",
      "description": "",
      "description_tooltip": null,
      "layout": "IPY_MODEL_bc41384bbae04044b9780651c6b5a47c",
      "placeholder": "​",
      "style": "IPY_MODEL_02bdb06c176145feaa842b97ae58609c",
      "value": " 109/109 [00:58&lt;00:00,  1.88ba/s]"
     }
    },
    "55071fc1b7484620803aeba453e9af72": {
     "model_module": "@jupyter-widgets/base",
     "model_name": "LayoutModel",
     "state": {
      "_model_module": "@jupyter-widgets/base",
      "_model_module_version": "1.2.0",
      "_model_name": "LayoutModel",
      "_view_count": null,
      "_view_module": "@jupyter-widgets/base",
      "_view_module_version": "1.2.0",
      "_view_name": "LayoutView",
      "align_content": null,
      "align_items": null,
      "align_self": null,
      "border": null,
      "bottom": null,
      "display": null,
      "flex": null,
      "flex_flow": null,
      "grid_area": null,
      "grid_auto_columns": null,
      "grid_auto_flow": null,
      "grid_auto_rows": null,
      "grid_column": null,
      "grid_gap": null,
      "grid_row": null,
      "grid_template_areas": null,
      "grid_template_columns": null,
      "grid_template_rows": null,
      "height": null,
      "justify_content": null,
      "justify_items": null,
      "left": null,
      "margin": null,
      "max_height": null,
      "max_width": null,
      "min_height": null,
      "min_width": null,
      "object_fit": null,
      "object_position": null,
      "order": null,
      "overflow": null,
      "overflow_x": null,
      "overflow_y": null,
      "padding": null,
      "right": null,
      "top": null,
      "visibility": null,
      "width": null
     }
    },
    "56ad6231a0a04228be29ceecbc6b7c0e": {
     "model_module": "@jupyter-widgets/base",
     "model_name": "LayoutModel",
     "state": {
      "_model_module": "@jupyter-widgets/base",
      "_model_module_version": "1.2.0",
      "_model_name": "LayoutModel",
      "_view_count": null,
      "_view_module": "@jupyter-widgets/base",
      "_view_module_version": "1.2.0",
      "_view_name": "LayoutView",
      "align_content": null,
      "align_items": null,
      "align_self": null,
      "border": null,
      "bottom": null,
      "display": null,
      "flex": null,
      "flex_flow": null,
      "grid_area": null,
      "grid_auto_columns": null,
      "grid_auto_flow": null,
      "grid_auto_rows": null,
      "grid_column": null,
      "grid_gap": null,
      "grid_row": null,
      "grid_template_areas": null,
      "grid_template_columns": null,
      "grid_template_rows": null,
      "height": null,
      "justify_content": null,
      "justify_items": null,
      "left": null,
      "margin": null,
      "max_height": null,
      "max_width": null,
      "min_height": null,
      "min_width": null,
      "object_fit": null,
      "object_position": null,
      "order": null,
      "overflow": null,
      "overflow_x": null,
      "overflow_y": null,
      "padding": null,
      "right": null,
      "top": null,
      "visibility": null,
      "width": null
     }
    },
    "57198e3250374e1fa64c5a4be255861e": {
     "model_module": "@jupyter-widgets/controls",
     "model_name": "HTMLModel",
     "state": {
      "_dom_classes": [],
      "_model_module": "@jupyter-widgets/controls",
      "_model_module_version": "1.5.0",
      "_model_name": "HTMLModel",
      "_view_count": null,
      "_view_module": "@jupyter-widgets/controls",
      "_view_module_version": "1.5.0",
      "_view_name": "HTMLView",
      "description": "",
      "description_tooltip": null,
      "layout": "IPY_MODEL_8f737725708c4097a8caaf4da6229636",
      "placeholder": "​",
      "style": "IPY_MODEL_969080b52ad44ee997829986d198c505",
      "value": " 3.90k/? [00:00&lt;00:00, 23.0kB/s]"
     }
    },
    "579b6055028f473981ce789a0733a753": {
     "model_module": "@jupyter-widgets/controls",
     "model_name": "FloatProgressModel",
     "state": {
      "_dom_classes": [],
      "_model_module": "@jupyter-widgets/controls",
      "_model_module_version": "1.5.0",
      "_model_name": "FloatProgressModel",
      "_view_count": null,
      "_view_module": "@jupyter-widgets/controls",
      "_view_module_version": "1.5.0",
      "_view_name": "ProgressView",
      "bar_style": "success",
      "description": "#2: 100%",
      "description_tooltip": null,
      "layout": "IPY_MODEL_6de66d6b7a73434cbdc59b2109bdf0a0",
      "max": 109,
      "min": 0,
      "orientation": "horizontal",
      "style": "IPY_MODEL_3133b378b9294a759c8dfb786ed8f815",
      "value": 109
     }
    },
    "58f3e8002f984594ac05c973aa78ef69": {
     "model_module": "@jupyter-widgets/base",
     "model_name": "LayoutModel",
     "state": {
      "_model_module": "@jupyter-widgets/base",
      "_model_module_version": "1.2.0",
      "_model_name": "LayoutModel",
      "_view_count": null,
      "_view_module": "@jupyter-widgets/base",
      "_view_module_version": "1.2.0",
      "_view_name": "LayoutView",
      "align_content": null,
      "align_items": null,
      "align_self": null,
      "border": null,
      "bottom": null,
      "display": null,
      "flex": null,
      "flex_flow": null,
      "grid_area": null,
      "grid_auto_columns": null,
      "grid_auto_flow": null,
      "grid_auto_rows": null,
      "grid_column": null,
      "grid_gap": null,
      "grid_row": null,
      "grid_template_areas": null,
      "grid_template_columns": null,
      "grid_template_rows": null,
      "height": null,
      "justify_content": null,
      "justify_items": null,
      "left": null,
      "margin": null,
      "max_height": null,
      "max_width": null,
      "min_height": null,
      "min_width": null,
      "object_fit": null,
      "object_position": null,
      "order": null,
      "overflow": null,
      "overflow_x": null,
      "overflow_y": null,
      "padding": null,
      "right": null,
      "top": null,
      "visibility": null,
      "width": null
     }
    },
    "596aea0362924c7db583203268dd5a3e": {
     "model_module": "@jupyter-widgets/controls",
     "model_name": "ProgressStyleModel",
     "state": {
      "_model_module": "@jupyter-widgets/controls",
      "_model_module_version": "1.5.0",
      "_model_name": "ProgressStyleModel",
      "_view_count": null,
      "_view_module": "@jupyter-widgets/base",
      "_view_module_version": "1.2.0",
      "_view_name": "StyleView",
      "bar_color": null,
      "description_width": "initial"
     }
    },
    "59e0f5200068461cbfb256ad5479c4c8": {
     "model_module": "@jupyter-widgets/controls",
     "model_name": "DescriptionStyleModel",
     "state": {
      "_model_module": "@jupyter-widgets/controls",
      "_model_module_version": "1.5.0",
      "_model_name": "DescriptionStyleModel",
      "_view_count": null,
      "_view_module": "@jupyter-widgets/base",
      "_view_module_version": "1.2.0",
      "_view_name": "StyleView",
      "description_width": ""
     }
    },
    "5a5bc8b4a1c644dea08a60128d888d10": {
     "model_module": "@jupyter-widgets/controls",
     "model_name": "DescriptionStyleModel",
     "state": {
      "_model_module": "@jupyter-widgets/controls",
      "_model_module_version": "1.5.0",
      "_model_name": "DescriptionStyleModel",
      "_view_count": null,
      "_view_module": "@jupyter-widgets/base",
      "_view_module_version": "1.2.0",
      "_view_name": "StyleView",
      "description_width": ""
     }
    },
    "5ab30242cd154ec0b560c23c0f178546": {
     "model_module": "@jupyter-widgets/controls",
     "model_name": "ProgressStyleModel",
     "state": {
      "_model_module": "@jupyter-widgets/controls",
      "_model_module_version": "1.5.0",
      "_model_name": "ProgressStyleModel",
      "_view_count": null,
      "_view_module": "@jupyter-widgets/base",
      "_view_module_version": "1.2.0",
      "_view_name": "StyleView",
      "bar_color": null,
      "description_width": "initial"
     }
    },
    "5ccd12253fff448f9c15c9b03c70a408": {
     "model_module": "@jupyter-widgets/controls",
     "model_name": "HBoxModel",
     "state": {
      "_dom_classes": [],
      "_model_module": "@jupyter-widgets/controls",
      "_model_module_version": "1.5.0",
      "_model_name": "HBoxModel",
      "_view_count": null,
      "_view_module": "@jupyter-widgets/controls",
      "_view_module_version": "1.5.0",
      "_view_name": "HBoxView",
      "box_style": "",
      "children": [
       "IPY_MODEL_f203c54e7e054d97aa4d1097f320f611",
       "IPY_MODEL_6266a4019e124aff877bb55f21740180"
      ],
      "layout": "IPY_MODEL_330226a977694de1bd88c0aa3789be47"
     }
    },
    "5e3aad95e52f4be2bd670d1345398f1b": {
     "model_module": "@jupyter-widgets/controls",
     "model_name": "HTMLModel",
     "state": {
      "_dom_classes": [],
      "_model_module": "@jupyter-widgets/controls",
      "_model_module_version": "1.5.0",
      "_model_name": "HTMLModel",
      "_view_count": null,
      "_view_module": "@jupyter-widgets/controls",
      "_view_module_version": "1.5.0",
      "_view_name": "HTMLView",
      "description": "",
      "description_tooltip": null,
      "layout": "IPY_MODEL_99d5c44ea54b45ee9bd89380cb1ad189",
      "placeholder": "​",
      "style": "IPY_MODEL_7aa70322bdfe46938b583a20003093d5",
      "value": " 3478/3478 [03:16&lt;00:00, 17.67ex/s]"
     }
    },
    "5e6bae23461b4378b6e5fc890fe6bc97": {
     "model_module": "@jupyter-widgets/base",
     "model_name": "LayoutModel",
     "state": {
      "_model_module": "@jupyter-widgets/base",
      "_model_module_version": "1.2.0",
      "_model_name": "LayoutModel",
      "_view_count": null,
      "_view_module": "@jupyter-widgets/base",
      "_view_module_version": "1.2.0",
      "_view_name": "LayoutView",
      "align_content": null,
      "align_items": null,
      "align_self": null,
      "border": null,
      "bottom": null,
      "display": null,
      "flex": null,
      "flex_flow": null,
      "grid_area": null,
      "grid_auto_columns": null,
      "grid_auto_flow": null,
      "grid_auto_rows": null,
      "grid_column": null,
      "grid_gap": null,
      "grid_row": null,
      "grid_template_areas": null,
      "grid_template_columns": null,
      "grid_template_rows": null,
      "height": null,
      "justify_content": null,
      "justify_items": null,
      "left": null,
      "margin": null,
      "max_height": null,
      "max_width": null,
      "min_height": null,
      "min_width": null,
      "object_fit": null,
      "object_position": null,
      "order": null,
      "overflow": null,
      "overflow_x": null,
      "overflow_y": null,
      "padding": null,
      "right": null,
      "top": null,
      "visibility": null,
      "width": null
     }
    },
    "5f48f54986924e418aa4ac22aa54b714": {
     "model_module": "@jupyter-widgets/controls",
     "model_name": "HBoxModel",
     "state": {
      "_dom_classes": [],
      "_model_module": "@jupyter-widgets/controls",
      "_model_module_version": "1.5.0",
      "_model_name": "HBoxModel",
      "_view_count": null,
      "_view_module": "@jupyter-widgets/controls",
      "_view_module_version": "1.5.0",
      "_view_name": "HBoxView",
      "box_style": "",
      "children": [
       "IPY_MODEL_a58c203a7cc54086aea45f2029821207",
       "IPY_MODEL_8d409ca0372a48e2972ca1d8eee5ffa1"
      ],
      "layout": "IPY_MODEL_db71db50799c404aafa4a54de8b9b799"
     }
    },
    "6266a4019e124aff877bb55f21740180": {
     "model_module": "@jupyter-widgets/controls",
     "model_name": "HTMLModel",
     "state": {
      "_dom_classes": [],
      "_model_module": "@jupyter-widgets/controls",
      "_model_module_version": "1.5.0",
      "_model_name": "HTMLModel",
      "_view_count": null,
      "_view_module": "@jupyter-widgets/controls",
      "_view_module_version": "1.5.0",
      "_view_name": "HTMLView",
      "description": "",
      "description_tooltip": null,
      "layout": "IPY_MODEL_55071fc1b7484620803aeba453e9af72",
      "placeholder": "​",
      "style": "IPY_MODEL_8ad3e4b211e34c048d0f48e36fdbfe48",
      "value": " 411/411 [02:58&lt;00:00,  2.30ex/s]"
     }
    },
    "6462bd9561e24abb98fce6ce4675d810": {
     "model_module": "@jupyter-widgets/controls",
     "model_name": "HBoxModel",
     "state": {
      "_dom_classes": [],
      "_model_module": "@jupyter-widgets/controls",
      "_model_module_version": "1.5.0",
      "_model_name": "HBoxModel",
      "_view_count": null,
      "_view_module": "@jupyter-widgets/controls",
      "_view_module_version": "1.5.0",
      "_view_name": "HBoxView",
      "box_style": "",
      "children": [
       "IPY_MODEL_e273548a15aa4d4994132b317adb66fc",
       "IPY_MODEL_f6930dd5519d4dfda64c597def220a30"
      ],
      "layout": "IPY_MODEL_bd3447291ce54812af10ac6245ea4328"
     }
    },
    "68a3178fe7a54e838e798ff28ff9aa0b": {
     "model_module": "@jupyter-widgets/controls",
     "model_name": "DescriptionStyleModel",
     "state": {
      "_model_module": "@jupyter-widgets/controls",
      "_model_module_version": "1.5.0",
      "_model_name": "DescriptionStyleModel",
      "_view_count": null,
      "_view_module": "@jupyter-widgets/base",
      "_view_module_version": "1.2.0",
      "_view_name": "StyleView",
      "description_width": ""
     }
    },
    "69828f4a101f4340916a4be141866904": {
     "model_module": "@jupyter-widgets/base",
     "model_name": "LayoutModel",
     "state": {
      "_model_module": "@jupyter-widgets/base",
      "_model_module_version": "1.2.0",
      "_model_name": "LayoutModel",
      "_view_count": null,
      "_view_module": "@jupyter-widgets/base",
      "_view_module_version": "1.2.0",
      "_view_name": "LayoutView",
      "align_content": null,
      "align_items": null,
      "align_self": null,
      "border": null,
      "bottom": null,
      "display": null,
      "flex": null,
      "flex_flow": null,
      "grid_area": null,
      "grid_auto_columns": null,
      "grid_auto_flow": null,
      "grid_auto_rows": null,
      "grid_column": null,
      "grid_gap": null,
      "grid_row": null,
      "grid_template_areas": null,
      "grid_template_columns": null,
      "grid_template_rows": null,
      "height": null,
      "justify_content": null,
      "justify_items": null,
      "left": null,
      "margin": null,
      "max_height": null,
      "max_width": null,
      "min_height": null,
      "min_width": null,
      "object_fit": null,
      "object_position": null,
      "order": null,
      "overflow": null,
      "overflow_x": null,
      "overflow_y": null,
      "padding": null,
      "right": null,
      "top": null,
      "visibility": null,
      "width": null
     }
    },
    "6a957c1c17474d8d89c27ddecf702fda": {
     "model_module": "@jupyter-widgets/controls",
     "model_name": "HTMLModel",
     "state": {
      "_dom_classes": [],
      "_model_module": "@jupyter-widgets/controls",
      "_model_module_version": "1.5.0",
      "_model_name": "HTMLModel",
      "_view_count": null,
      "_view_module": "@jupyter-widgets/controls",
      "_view_module_version": "1.5.0",
      "_view_name": "HTMLView",
      "description": "",
      "description_tooltip": null,
      "layout": "IPY_MODEL_91fcf0641fe3489ab96f3aaa40adf245",
      "placeholder": "​",
      "style": "IPY_MODEL_05f83d714f864a399083f0e34a812467",
      "value": " 1647/0 [00:00&lt;00:00, 14016.07 examples/s]"
     }
    },
    "6abfbe44a1bd4518b41f5f53f920e936": {
     "model_module": "@jupyter-widgets/base",
     "model_name": "LayoutModel",
     "state": {
      "_model_module": "@jupyter-widgets/base",
      "_model_module_version": "1.2.0",
      "_model_name": "LayoutModel",
      "_view_count": null,
      "_view_module": "@jupyter-widgets/base",
      "_view_module_version": "1.2.0",
      "_view_name": "LayoutView",
      "align_content": null,
      "align_items": null,
      "align_self": null,
      "border": null,
      "bottom": null,
      "display": null,
      "flex": null,
      "flex_flow": null,
      "grid_area": null,
      "grid_auto_columns": null,
      "grid_auto_flow": null,
      "grid_auto_rows": null,
      "grid_column": null,
      "grid_gap": null,
      "grid_row": null,
      "grid_template_areas": null,
      "grid_template_columns": null,
      "grid_template_rows": null,
      "height": null,
      "justify_content": null,
      "justify_items": null,
      "left": null,
      "margin": null,
      "max_height": null,
      "max_width": null,
      "min_height": null,
      "min_width": null,
      "object_fit": null,
      "object_position": null,
      "order": null,
      "overflow": null,
      "overflow_x": null,
      "overflow_y": null,
      "padding": null,
      "right": null,
      "top": null,
      "visibility": null,
      "width": null
     }
    },
    "6ba6d07674a34836be53cf173c2b61ca": {
     "model_module": "@jupyter-widgets/base",
     "model_name": "LayoutModel",
     "state": {
      "_model_module": "@jupyter-widgets/base",
      "_model_module_version": "1.2.0",
      "_model_name": "LayoutModel",
      "_view_count": null,
      "_view_module": "@jupyter-widgets/base",
      "_view_module_version": "1.2.0",
      "_view_name": "LayoutView",
      "align_content": null,
      "align_items": null,
      "align_self": null,
      "border": null,
      "bottom": null,
      "display": null,
      "flex": null,
      "flex_flow": null,
      "grid_area": null,
      "grid_auto_columns": null,
      "grid_auto_flow": null,
      "grid_auto_rows": null,
      "grid_column": null,
      "grid_gap": null,
      "grid_row": null,
      "grid_template_areas": null,
      "grid_template_columns": null,
      "grid_template_rows": null,
      "height": null,
      "justify_content": null,
      "justify_items": null,
      "left": null,
      "margin": null,
      "max_height": null,
      "max_width": null,
      "min_height": null,
      "min_width": null,
      "object_fit": null,
      "object_position": null,
      "order": null,
      "overflow": null,
      "overflow_x": null,
      "overflow_y": null,
      "padding": null,
      "right": null,
      "top": null,
      "visibility": null,
      "width": null
     }
    },
    "6c065aa34661469ca1efb4c5e90fe136": {
     "model_module": "@jupyter-widgets/controls",
     "model_name": "HBoxModel",
     "state": {
      "_dom_classes": [],
      "_model_module": "@jupyter-widgets/controls",
      "_model_module_version": "1.5.0",
      "_model_name": "HBoxModel",
      "_view_count": null,
      "_view_module": "@jupyter-widgets/controls",
      "_view_module_version": "1.5.0",
      "_view_name": "HBoxView",
      "box_style": "",
      "children": [
       "IPY_MODEL_0a9b58c98508420d8f8936189f064316",
       "IPY_MODEL_8dd5b08bb5bd4e608d04122424796ae7"
      ],
      "layout": "IPY_MODEL_540510088d3947f1b3cf6f4c983c1a53"
     }
    },
    "6d4a26d876fb4ac6b5948a09945bdc6b": {
     "model_module": "@jupyter-widgets/controls",
     "model_name": "DescriptionStyleModel",
     "state": {
      "_model_module": "@jupyter-widgets/controls",
      "_model_module_version": "1.5.0",
      "_model_name": "DescriptionStyleModel",
      "_view_count": null,
      "_view_module": "@jupyter-widgets/base",
      "_view_module_version": "1.2.0",
      "_view_name": "StyleView",
      "description_width": ""
     }
    },
    "6de66d6b7a73434cbdc59b2109bdf0a0": {
     "model_module": "@jupyter-widgets/base",
     "model_name": "LayoutModel",
     "state": {
      "_model_module": "@jupyter-widgets/base",
      "_model_module_version": "1.2.0",
      "_model_name": "LayoutModel",
      "_view_count": null,
      "_view_module": "@jupyter-widgets/base",
      "_view_module_version": "1.2.0",
      "_view_name": "LayoutView",
      "align_content": null,
      "align_items": null,
      "align_self": null,
      "border": null,
      "bottom": null,
      "display": null,
      "flex": null,
      "flex_flow": null,
      "grid_area": null,
      "grid_auto_columns": null,
      "grid_auto_flow": null,
      "grid_auto_rows": null,
      "grid_column": null,
      "grid_gap": null,
      "grid_row": null,
      "grid_template_areas": null,
      "grid_template_columns": null,
      "grid_template_rows": null,
      "height": null,
      "justify_content": null,
      "justify_items": null,
      "left": null,
      "margin": null,
      "max_height": null,
      "max_width": null,
      "min_height": null,
      "min_width": null,
      "object_fit": null,
      "object_position": null,
      "order": null,
      "overflow": null,
      "overflow_x": null,
      "overflow_y": null,
      "padding": null,
      "right": null,
      "top": null,
      "visibility": null,
      "width": null
     }
    },
    "6f60626242534f44a6381195e6eb6530": {
     "model_module": "@jupyter-widgets/controls",
     "model_name": "FloatProgressModel",
     "state": {
      "_dom_classes": [],
      "_model_module": "@jupyter-widgets/controls",
      "_model_module_version": "1.5.0",
      "_model_name": "FloatProgressModel",
      "_view_count": null,
      "_view_module": "@jupyter-widgets/controls",
      "_view_module_version": "1.5.0",
      "_view_name": "ProgressView",
      "bar_style": "success",
      "description": "#2: 100%",
      "description_tooltip": null,
      "layout": "IPY_MODEL_0ffcbedb8d4444508ac0c3c0b41ea8ac",
      "max": 52,
      "min": 0,
      "orientation": "horizontal",
      "style": "IPY_MODEL_5ab30242cd154ec0b560c23c0f178546",
      "value": 52
     }
    },
    "7040945accce4739a41746cc75bb7fce": {
     "model_module": "@jupyter-widgets/controls",
     "model_name": "HBoxModel",
     "state": {
      "_dom_classes": [],
      "_model_module": "@jupyter-widgets/controls",
      "_model_module_version": "1.5.0",
      "_model_name": "HBoxModel",
      "_view_count": null,
      "_view_module": "@jupyter-widgets/controls",
      "_view_module_version": "1.5.0",
      "_view_name": "HBoxView",
      "box_style": "",
      "children": [
       "IPY_MODEL_6f60626242534f44a6381195e6eb6530",
       "IPY_MODEL_9fee9d9dd1164d97a9109e942444c332"
      ],
      "layout": "IPY_MODEL_71011f0d2bc942ac8f9ea1d1fd30c78d"
     }
    },
    "704ea5e05fd744d998b76d6435992995": {
     "model_module": "@jupyter-widgets/controls",
     "model_name": "ProgressStyleModel",
     "state": {
      "_model_module": "@jupyter-widgets/controls",
      "_model_module_version": "1.5.0",
      "_model_name": "ProgressStyleModel",
      "_view_count": null,
      "_view_module": "@jupyter-widgets/base",
      "_view_module_version": "1.2.0",
      "_view_name": "StyleView",
      "bar_color": null,
      "description_width": "initial"
     }
    },
    "71011f0d2bc942ac8f9ea1d1fd30c78d": {
     "model_module": "@jupyter-widgets/base",
     "model_name": "LayoutModel",
     "state": {
      "_model_module": "@jupyter-widgets/base",
      "_model_module_version": "1.2.0",
      "_model_name": "LayoutModel",
      "_view_count": null,
      "_view_module": "@jupyter-widgets/base",
      "_view_module_version": "1.2.0",
      "_view_name": "LayoutView",
      "align_content": null,
      "align_items": null,
      "align_self": null,
      "border": null,
      "bottom": null,
      "display": null,
      "flex": null,
      "flex_flow": null,
      "grid_area": null,
      "grid_auto_columns": null,
      "grid_auto_flow": null,
      "grid_auto_rows": null,
      "grid_column": null,
      "grid_gap": null,
      "grid_row": null,
      "grid_template_areas": null,
      "grid_template_columns": null,
      "grid_template_rows": null,
      "height": null,
      "justify_content": null,
      "justify_items": null,
      "left": null,
      "margin": null,
      "max_height": null,
      "max_width": null,
      "min_height": null,
      "min_width": null,
      "object_fit": null,
      "object_position": null,
      "order": null,
      "overflow": null,
      "overflow_x": null,
      "overflow_y": null,
      "padding": null,
      "right": null,
      "top": null,
      "visibility": null,
      "width": null
     }
    },
    "71c059a0f3c246f3a40d55744331daaa": {
     "model_module": "@jupyter-widgets/controls",
     "model_name": "HTMLModel",
     "state": {
      "_dom_classes": [],
      "_model_module": "@jupyter-widgets/controls",
      "_model_module_version": "1.5.0",
      "_model_name": "HTMLModel",
      "_view_count": null,
      "_view_module": "@jupyter-widgets/controls",
      "_view_module_version": "1.5.0",
      "_view_name": "HTMLView",
      "description": "",
      "description_tooltip": null,
      "layout": "IPY_MODEL_430c3c079d0e4006b90e72df7986ffb0",
      "placeholder": "​",
      "style": "IPY_MODEL_cb5666eb8ebb4d1392e98d6b5af8761c",
      "value": " 325/0 [00:00&lt;00:00, 7071.04 examples/s]"
     }
    },
    "71ffdf6f26ba4381a8e671958e679f88": {
     "model_module": "@jupyter-widgets/controls",
     "model_name": "ProgressStyleModel",
     "state": {
      "_model_module": "@jupyter-widgets/controls",
      "_model_module_version": "1.5.0",
      "_model_name": "ProgressStyleModel",
      "_view_count": null,
      "_view_module": "@jupyter-widgets/base",
      "_view_module_version": "1.2.0",
      "_view_name": "StyleView",
      "bar_color": null,
      "description_width": "initial"
     }
    },
    "73940df84ffd4e0f96637342e9fd12b7": {
     "model_module": "@jupyter-widgets/base",
     "model_name": "LayoutModel",
     "state": {
      "_model_module": "@jupyter-widgets/base",
      "_model_module_version": "1.2.0",
      "_model_name": "LayoutModel",
      "_view_count": null,
      "_view_module": "@jupyter-widgets/base",
      "_view_module_version": "1.2.0",
      "_view_name": "LayoutView",
      "align_content": null,
      "align_items": null,
      "align_self": null,
      "border": null,
      "bottom": null,
      "display": null,
      "flex": null,
      "flex_flow": null,
      "grid_area": null,
      "grid_auto_columns": null,
      "grid_auto_flow": null,
      "grid_auto_rows": null,
      "grid_column": null,
      "grid_gap": null,
      "grid_row": null,
      "grid_template_areas": null,
      "grid_template_columns": null,
      "grid_template_rows": null,
      "height": null,
      "justify_content": null,
      "justify_items": null,
      "left": null,
      "margin": null,
      "max_height": null,
      "max_width": null,
      "min_height": null,
      "min_width": null,
      "object_fit": null,
      "object_position": null,
      "order": null,
      "overflow": null,
      "overflow_x": null,
      "overflow_y": null,
      "padding": null,
      "right": null,
      "top": null,
      "visibility": null,
      "width": null
     }
    },
    "73ecbfc3c5c5456bb42e19b8a34b1576": {
     "model_module": "@jupyter-widgets/base",
     "model_name": "LayoutModel",
     "state": {
      "_model_module": "@jupyter-widgets/base",
      "_model_module_version": "1.2.0",
      "_model_name": "LayoutModel",
      "_view_count": null,
      "_view_module": "@jupyter-widgets/base",
      "_view_module_version": "1.2.0",
      "_view_name": "LayoutView",
      "align_content": null,
      "align_items": null,
      "align_self": null,
      "border": null,
      "bottom": null,
      "display": null,
      "flex": null,
      "flex_flow": null,
      "grid_area": null,
      "grid_auto_columns": null,
      "grid_auto_flow": null,
      "grid_auto_rows": null,
      "grid_column": null,
      "grid_gap": null,
      "grid_row": null,
      "grid_template_areas": null,
      "grid_template_columns": null,
      "grid_template_rows": null,
      "height": null,
      "justify_content": null,
      "justify_items": null,
      "left": null,
      "margin": null,
      "max_height": null,
      "max_width": null,
      "min_height": null,
      "min_width": null,
      "object_fit": null,
      "object_position": null,
      "order": null,
      "overflow": null,
      "overflow_x": null,
      "overflow_y": null,
      "padding": null,
      "right": null,
      "top": null,
      "visibility": null,
      "width": null
     }
    },
    "751ae6b9e2da4b85be9600561485f1ac": {
     "model_module": "@jupyter-widgets/controls",
     "model_name": "DescriptionStyleModel",
     "state": {
      "_model_module": "@jupyter-widgets/controls",
      "_model_module_version": "1.5.0",
      "_model_name": "DescriptionStyleModel",
      "_view_count": null,
      "_view_module": "@jupyter-widgets/base",
      "_view_module_version": "1.2.0",
      "_view_name": "StyleView",
      "description_width": ""
     }
    },
    "757e7bd0e6c5410da0490d191b4e68c8": {
     "model_module": "@jupyter-widgets/controls",
     "model_name": "HTMLModel",
     "state": {
      "_dom_classes": [],
      "_model_module": "@jupyter-widgets/controls",
      "_model_module_version": "1.5.0",
      "_model_name": "HTMLModel",
      "_view_count": null,
      "_view_module": "@jupyter-widgets/controls",
      "_view_module_version": "1.5.0",
      "_view_name": "HTMLView",
      "description": "",
      "description_tooltip": null,
      "layout": "IPY_MODEL_9185f86719af476da41e3835e8f06f8d",
      "placeholder": "​",
      "style": "IPY_MODEL_0b795d4b68014de19bf9579c67b55ffb",
      "value": " 870/870 [05:35&lt;00:00,  2.59ex/s]"
     }
    },
    "75e00c38605f44cfb584067db1160349": {
     "model_module": "@jupyter-widgets/controls",
     "model_name": "FloatProgressModel",
     "state": {
      "_dom_classes": [],
      "_model_module": "@jupyter-widgets/controls",
      "_model_module_version": "1.5.0",
      "_model_name": "FloatProgressModel",
      "_view_count": null,
      "_view_module": "@jupyter-widgets/controls",
      "_view_module_version": "1.5.0",
      "_view_name": "ProgressView",
      "bar_style": "success",
      "description": "100%",
      "description_tooltip": null,
      "layout": "IPY_MODEL_73ecbfc3c5c5456bb42e19b8a34b1576",
      "max": 1,
      "min": 0,
      "orientation": "horizontal",
      "style": "IPY_MODEL_c01aca3229a24d41841be2b4a3a65bcc",
      "value": 1
     }
    },
    "768ab09956774f50a79b2493a8bf179b": {
     "model_module": "@jupyter-widgets/base",
     "model_name": "LayoutModel",
     "state": {
      "_model_module": "@jupyter-widgets/base",
      "_model_module_version": "1.2.0",
      "_model_name": "LayoutModel",
      "_view_count": null,
      "_view_module": "@jupyter-widgets/base",
      "_view_module_version": "1.2.0",
      "_view_name": "LayoutView",
      "align_content": null,
      "align_items": null,
      "align_self": null,
      "border": null,
      "bottom": null,
      "display": null,
      "flex": null,
      "flex_flow": null,
      "grid_area": null,
      "grid_auto_columns": null,
      "grid_auto_flow": null,
      "grid_auto_rows": null,
      "grid_column": null,
      "grid_gap": null,
      "grid_row": null,
      "grid_template_areas": null,
      "grid_template_columns": null,
      "grid_template_rows": null,
      "height": null,
      "justify_content": null,
      "justify_items": null,
      "left": null,
      "margin": null,
      "max_height": null,
      "max_width": null,
      "min_height": null,
      "min_width": null,
      "object_fit": null,
      "object_position": null,
      "order": null,
      "overflow": null,
      "overflow_x": null,
      "overflow_y": null,
      "padding": null,
      "right": null,
      "top": null,
      "visibility": null,
      "width": null
     }
    },
    "76d162d3ea0845cc837651a77a5a2d36": {
     "model_module": "@jupyter-widgets/controls",
     "model_name": "HBoxModel",
     "state": {
      "_dom_classes": [],
      "_model_module": "@jupyter-widgets/controls",
      "_model_module_version": "1.5.0",
      "_model_name": "HBoxModel",
      "_view_count": null,
      "_view_module": "@jupyter-widgets/controls",
      "_view_module_version": "1.5.0",
      "_view_name": "HBoxView",
      "box_style": "",
      "children": [
       "IPY_MODEL_f6b01ad0433a40178ef3ba5657bc1583",
       "IPY_MODEL_eed2ccc12daa4c71b080794a7a18f5cb"
      ],
      "layout": "IPY_MODEL_98c594f1e41e4b3fab10f0763bd93d75"
     }
    },
    "771959e46cb64b3ebafe931f96f5ff52": {
     "model_module": "@jupyter-widgets/controls",
     "model_name": "HBoxModel",
     "state": {
      "_dom_classes": [],
      "_model_module": "@jupyter-widgets/controls",
      "_model_module_version": "1.5.0",
      "_model_name": "HBoxModel",
      "_view_count": null,
      "_view_module": "@jupyter-widgets/controls",
      "_view_module_version": "1.5.0",
      "_view_name": "HBoxView",
      "box_style": "",
      "children": [
       "IPY_MODEL_f792530a76ee486688cbc2502dfae594",
       "IPY_MODEL_d69468d63dd74fdd807fe061b92aa84e"
      ],
      "layout": "IPY_MODEL_0e999af234bd4b63ad2937e61d08b693"
     }
    },
    "7916b06da182435a9cc1d13c73310500": {
     "model_module": "@jupyter-widgets/base",
     "model_name": "LayoutModel",
     "state": {
      "_model_module": "@jupyter-widgets/base",
      "_model_module_version": "1.2.0",
      "_model_name": "LayoutModel",
      "_view_count": null,
      "_view_module": "@jupyter-widgets/base",
      "_view_module_version": "1.2.0",
      "_view_name": "LayoutView",
      "align_content": null,
      "align_items": null,
      "align_self": null,
      "border": null,
      "bottom": null,
      "display": null,
      "flex": null,
      "flex_flow": null,
      "grid_area": null,
      "grid_auto_columns": null,
      "grid_auto_flow": null,
      "grid_auto_rows": null,
      "grid_column": null,
      "grid_gap": null,
      "grid_row": null,
      "grid_template_areas": null,
      "grid_template_columns": null,
      "grid_template_rows": null,
      "height": null,
      "justify_content": null,
      "justify_items": null,
      "left": null,
      "margin": null,
      "max_height": null,
      "max_width": null,
      "min_height": null,
      "min_width": null,
      "object_fit": null,
      "object_position": null,
      "order": null,
      "overflow": null,
      "overflow_x": null,
      "overflow_y": null,
      "padding": null,
      "right": null,
      "top": null,
      "visibility": null,
      "width": null
     }
    },
    "7aa70322bdfe46938b583a20003093d5": {
     "model_module": "@jupyter-widgets/controls",
     "model_name": "DescriptionStyleModel",
     "state": {
      "_model_module": "@jupyter-widgets/controls",
      "_model_module_version": "1.5.0",
      "_model_name": "DescriptionStyleModel",
      "_view_count": null,
      "_view_module": "@jupyter-widgets/base",
      "_view_module_version": "1.2.0",
      "_view_name": "StyleView",
      "description_width": ""
     }
    },
    "7b4cfd2b448643b8a4409dd612aef0d1": {
     "model_module": "@jupyter-widgets/base",
     "model_name": "LayoutModel",
     "state": {
      "_model_module": "@jupyter-widgets/base",
      "_model_module_version": "1.2.0",
      "_model_name": "LayoutModel",
      "_view_count": null,
      "_view_module": "@jupyter-widgets/base",
      "_view_module_version": "1.2.0",
      "_view_name": "LayoutView",
      "align_content": null,
      "align_items": null,
      "align_self": null,
      "border": null,
      "bottom": null,
      "display": null,
      "flex": null,
      "flex_flow": null,
      "grid_area": null,
      "grid_auto_columns": null,
      "grid_auto_flow": null,
      "grid_auto_rows": null,
      "grid_column": null,
      "grid_gap": null,
      "grid_row": null,
      "grid_template_areas": null,
      "grid_template_columns": null,
      "grid_template_rows": null,
      "height": null,
      "justify_content": null,
      "justify_items": null,
      "left": null,
      "margin": null,
      "max_height": null,
      "max_width": null,
      "min_height": null,
      "min_width": null,
      "object_fit": null,
      "object_position": null,
      "order": null,
      "overflow": null,
      "overflow_x": null,
      "overflow_y": null,
      "padding": null,
      "right": null,
      "top": null,
      "visibility": null,
      "width": null
     }
    },
    "7bf5b2b625764f63ad57a360c3fd0a61": {
     "model_module": "@jupyter-widgets/controls",
     "model_name": "DescriptionStyleModel",
     "state": {
      "_model_module": "@jupyter-widgets/controls",
      "_model_module_version": "1.5.0",
      "_model_name": "DescriptionStyleModel",
      "_view_count": null,
      "_view_module": "@jupyter-widgets/base",
      "_view_module_version": "1.2.0",
      "_view_name": "StyleView",
      "description_width": ""
     }
    },
    "7d62810674c8482abe46c60fc08884b4": {
     "model_module": "@jupyter-widgets/controls",
     "model_name": "ProgressStyleModel",
     "state": {
      "_model_module": "@jupyter-widgets/controls",
      "_model_module_version": "1.5.0",
      "_model_name": "ProgressStyleModel",
      "_view_count": null,
      "_view_module": "@jupyter-widgets/base",
      "_view_module_version": "1.2.0",
      "_view_name": "StyleView",
      "bar_color": null,
      "description_width": "initial"
     }
    },
    "7e50f8027fb74d669daae5e46082026c": {
     "model_module": "@jupyter-widgets/base",
     "model_name": "LayoutModel",
     "state": {
      "_model_module": "@jupyter-widgets/base",
      "_model_module_version": "1.2.0",
      "_model_name": "LayoutModel",
      "_view_count": null,
      "_view_module": "@jupyter-widgets/base",
      "_view_module_version": "1.2.0",
      "_view_name": "LayoutView",
      "align_content": null,
      "align_items": null,
      "align_self": null,
      "border": null,
      "bottom": null,
      "display": null,
      "flex": null,
      "flex_flow": null,
      "grid_area": null,
      "grid_auto_columns": null,
      "grid_auto_flow": null,
      "grid_auto_rows": null,
      "grid_column": null,
      "grid_gap": null,
      "grid_row": null,
      "grid_template_areas": null,
      "grid_template_columns": null,
      "grid_template_rows": null,
      "height": null,
      "justify_content": null,
      "justify_items": null,
      "left": null,
      "margin": null,
      "max_height": null,
      "max_width": null,
      "min_height": null,
      "min_width": null,
      "object_fit": null,
      "object_position": null,
      "order": null,
      "overflow": null,
      "overflow_x": null,
      "overflow_y": null,
      "padding": null,
      "right": null,
      "top": null,
      "visibility": null,
      "width": null
     }
    },
    "7edbecaccdd94ede8fddc0e1807e777e": {
     "model_module": "@jupyter-widgets/controls",
     "model_name": "FloatProgressModel",
     "state": {
      "_dom_classes": [],
      "_model_module": "@jupyter-widgets/controls",
      "_model_module_version": "1.5.0",
      "_model_name": "FloatProgressModel",
      "_view_count": null,
      "_view_module": "@jupyter-widgets/controls",
      "_view_module_version": "1.5.0",
      "_view_name": "ProgressView",
      "bar_style": "success",
      "description": "100%",
      "description_tooltip": null,
      "layout": "IPY_MODEL_3e3a022a9f304b0f9f7ef067fcee1e56",
      "max": 3478,
      "min": 0,
      "orientation": "horizontal",
      "style": "IPY_MODEL_b9c5c6dd54cc4dc5ad5a2bb69a24ab05",
      "value": 3478
     }
    },
    "7ef969e47c2d429a9848d5ab3f5bb2d9": {
     "model_module": "@jupyter-widgets/controls",
     "model_name": "HBoxModel",
     "state": {
      "_dom_classes": [],
      "_model_module": "@jupyter-widgets/controls",
      "_model_module_version": "1.5.0",
      "_model_name": "HBoxModel",
      "_view_count": null,
      "_view_module": "@jupyter-widgets/controls",
      "_view_module_version": "1.5.0",
      "_view_name": "HBoxView",
      "box_style": "",
      "children": [
       "IPY_MODEL_015c5690e1ea4281954c7efda1c80a6a",
       "IPY_MODEL_f4135dd72864445391f43f387635bfdc"
      ],
      "layout": "IPY_MODEL_fe62265afdc74026b7e9c5a50ef61d2c"
     }
    },
    "7f5203fde6b64bf7ad53d6ecd3041bfc": {
     "model_module": "@jupyter-widgets/controls",
     "model_name": "DescriptionStyleModel",
     "state": {
      "_model_module": "@jupyter-widgets/controls",
      "_model_module_version": "1.5.0",
      "_model_name": "DescriptionStyleModel",
      "_view_count": null,
      "_view_module": "@jupyter-widgets/base",
      "_view_module_version": "1.2.0",
      "_view_name": "StyleView",
      "description_width": ""
     }
    },
    "7f787df324514a8c915785e272a8af18": {
     "model_module": "@jupyter-widgets/controls",
     "model_name": "FloatProgressModel",
     "state": {
      "_dom_classes": [],
      "_model_module": "@jupyter-widgets/controls",
      "_model_module_version": "1.5.0",
      "_model_name": "FloatProgressModel",
      "_view_count": null,
      "_view_module": "@jupyter-widgets/controls",
      "_view_module_version": "1.5.0",
      "_view_name": "ProgressView",
      "bar_style": "info",
      "description": "",
      "description_tooltip": null,
      "layout": "IPY_MODEL_7916b06da182435a9cc1d13c73310500",
      "max": 1,
      "min": 0,
      "orientation": "horizontal",
      "style": "IPY_MODEL_71ffdf6f26ba4381a8e671958e679f88",
      "value": 1
     }
    },
    "80697300a4394b909f1c499ba80aeb13": {
     "model_module": "@jupyter-widgets/base",
     "model_name": "LayoutModel",
     "state": {
      "_model_module": "@jupyter-widgets/base",
      "_model_module_version": "1.2.0",
      "_model_name": "LayoutModel",
      "_view_count": null,
      "_view_module": "@jupyter-widgets/base",
      "_view_module_version": "1.2.0",
      "_view_name": "LayoutView",
      "align_content": null,
      "align_items": null,
      "align_self": null,
      "border": null,
      "bottom": null,
      "display": null,
      "flex": null,
      "flex_flow": null,
      "grid_area": null,
      "grid_auto_columns": null,
      "grid_auto_flow": null,
      "grid_auto_rows": null,
      "grid_column": null,
      "grid_gap": null,
      "grid_row": null,
      "grid_template_areas": null,
      "grid_template_columns": null,
      "grid_template_rows": null,
      "height": null,
      "justify_content": null,
      "justify_items": null,
      "left": null,
      "margin": null,
      "max_height": null,
      "max_width": null,
      "min_height": null,
      "min_width": null,
      "object_fit": null,
      "object_position": null,
      "order": null,
      "overflow": null,
      "overflow_x": null,
      "overflow_y": null,
      "padding": null,
      "right": null,
      "top": null,
      "visibility": null,
      "width": null
     }
    },
    "813fc95246034f5cb9e5198897b4ed42": {
     "model_module": "@jupyter-widgets/controls",
     "model_name": "DescriptionStyleModel",
     "state": {
      "_model_module": "@jupyter-widgets/controls",
      "_model_module_version": "1.5.0",
      "_model_name": "DescriptionStyleModel",
      "_view_count": null,
      "_view_module": "@jupyter-widgets/base",
      "_view_module_version": "1.2.0",
      "_view_name": "StyleView",
      "description_width": ""
     }
    },
    "82015055d32449b89346ea18e7474c4d": {
     "model_module": "@jupyter-widgets/controls",
     "model_name": "HBoxModel",
     "state": {
      "_dom_classes": [],
      "_model_module": "@jupyter-widgets/controls",
      "_model_module_version": "1.5.0",
      "_model_name": "HBoxModel",
      "_view_count": null,
      "_view_module": "@jupyter-widgets/controls",
      "_view_module_version": "1.5.0",
      "_view_name": "HBoxView",
      "box_style": "",
      "children": [
       "IPY_MODEL_f5f1f0865d7e4d8b810ccb9c3c4d2683",
       "IPY_MODEL_416badb151ee4660b53fdbc136e0c8fb"
      ],
      "layout": "IPY_MODEL_a170c0cb21cf425fbee97fd6d5584e2c"
     }
    },
    "824569c63ec445c08362659ca228dd2a": {
     "model_module": "@jupyter-widgets/controls",
     "model_name": "DescriptionStyleModel",
     "state": {
      "_model_module": "@jupyter-widgets/controls",
      "_model_module_version": "1.5.0",
      "_model_name": "DescriptionStyleModel",
      "_view_count": null,
      "_view_module": "@jupyter-widgets/base",
      "_view_module_version": "1.2.0",
      "_view_name": "StyleView",
      "description_width": ""
     }
    },
    "8292dafcd40745958d0f3c563bf6b9b0": {
     "model_module": "@jupyter-widgets/controls",
     "model_name": "ProgressStyleModel",
     "state": {
      "_model_module": "@jupyter-widgets/controls",
      "_model_module_version": "1.5.0",
      "_model_name": "ProgressStyleModel",
      "_view_count": null,
      "_view_module": "@jupyter-widgets/base",
      "_view_module_version": "1.2.0",
      "_view_name": "StyleView",
      "bar_color": null,
      "description_width": "initial"
     }
    },
    "83b51e16d88046c48dcd745cf09d2e56": {
     "model_module": "@jupyter-widgets/base",
     "model_name": "LayoutModel",
     "state": {
      "_model_module": "@jupyter-widgets/base",
      "_model_module_version": "1.2.0",
      "_model_name": "LayoutModel",
      "_view_count": null,
      "_view_module": "@jupyter-widgets/base",
      "_view_module_version": "1.2.0",
      "_view_name": "LayoutView",
      "align_content": null,
      "align_items": null,
      "align_self": null,
      "border": null,
      "bottom": null,
      "display": null,
      "flex": null,
      "flex_flow": null,
      "grid_area": null,
      "grid_auto_columns": null,
      "grid_auto_flow": null,
      "grid_auto_rows": null,
      "grid_column": null,
      "grid_gap": null,
      "grid_row": null,
      "grid_template_areas": null,
      "grid_template_columns": null,
      "grid_template_rows": null,
      "height": null,
      "justify_content": null,
      "justify_items": null,
      "left": null,
      "margin": null,
      "max_height": null,
      "max_width": null,
      "min_height": null,
      "min_width": null,
      "object_fit": null,
      "object_position": null,
      "order": null,
      "overflow": null,
      "overflow_x": null,
      "overflow_y": null,
      "padding": null,
      "right": null,
      "top": null,
      "visibility": null,
      "width": null
     }
    },
    "84e7f0001ebe458dad3c96e7e9a38cdc": {
     "model_module": "@jupyter-widgets/base",
     "model_name": "LayoutModel",
     "state": {
      "_model_module": "@jupyter-widgets/base",
      "_model_module_version": "1.2.0",
      "_model_name": "LayoutModel",
      "_view_count": null,
      "_view_module": "@jupyter-widgets/base",
      "_view_module_version": "1.2.0",
      "_view_name": "LayoutView",
      "align_content": null,
      "align_items": null,
      "align_self": null,
      "border": null,
      "bottom": null,
      "display": null,
      "flex": null,
      "flex_flow": null,
      "grid_area": null,
      "grid_auto_columns": null,
      "grid_auto_flow": null,
      "grid_auto_rows": null,
      "grid_column": null,
      "grid_gap": null,
      "grid_row": null,
      "grid_template_areas": null,
      "grid_template_columns": null,
      "grid_template_rows": null,
      "height": null,
      "justify_content": null,
      "justify_items": null,
      "left": null,
      "margin": null,
      "max_height": null,
      "max_width": null,
      "min_height": null,
      "min_width": null,
      "object_fit": null,
      "object_position": null,
      "order": null,
      "overflow": null,
      "overflow_x": null,
      "overflow_y": null,
      "padding": null,
      "right": null,
      "top": null,
      "visibility": null,
      "width": null
     }
    },
    "8701fb161cec47e89fc4d57b599ee7fe": {
     "model_module": "@jupyter-widgets/controls",
     "model_name": "HBoxModel",
     "state": {
      "_dom_classes": [],
      "_model_module": "@jupyter-widgets/controls",
      "_model_module_version": "1.5.0",
      "_model_name": "HBoxModel",
      "_view_count": null,
      "_view_module": "@jupyter-widgets/controls",
      "_view_module_version": "1.5.0",
      "_view_name": "HBoxView",
      "box_style": "",
      "children": [
       "IPY_MODEL_7f787df324514a8c915785e272a8af18",
       "IPY_MODEL_889da3e5ed2945849d3c8a6a75175747"
      ],
      "layout": "IPY_MODEL_1813458f75514f039ba0214597a09bb4"
     }
    },
    "889da3e5ed2945849d3c8a6a75175747": {
     "model_module": "@jupyter-widgets/controls",
     "model_name": "HTMLModel",
     "state": {
      "_dom_classes": [],
      "_model_module": "@jupyter-widgets/controls",
      "_model_module_version": "1.5.0",
      "_model_name": "HTMLModel",
      "_view_count": null,
      "_view_module": "@jupyter-widgets/controls",
      "_view_module_version": "1.5.0",
      "_view_name": "HTMLView",
      "description": "",
      "description_tooltip": null,
      "layout": "IPY_MODEL_2cd13e03a2ab45dc8570c8c739a613b4",
      "placeholder": "​",
      "style": "IPY_MODEL_59e0f5200068461cbfb256ad5479c4c8",
      "value": " 1647/0 [00:00&lt;00:00, 14767.90 examples/s]"
     }
    },
    "8ad3e4b211e34c048d0f48e36fdbfe48": {
     "model_module": "@jupyter-widgets/controls",
     "model_name": "DescriptionStyleModel",
     "state": {
      "_model_module": "@jupyter-widgets/controls",
      "_model_module_version": "1.5.0",
      "_model_name": "DescriptionStyleModel",
      "_view_count": null,
      "_view_module": "@jupyter-widgets/base",
      "_view_module_version": "1.2.0",
      "_view_name": "StyleView",
      "description_width": ""
     }
    },
    "8bb78a89ff81400791e3005098fdcb94": {
     "model_module": "@jupyter-widgets/base",
     "model_name": "LayoutModel",
     "state": {
      "_model_module": "@jupyter-widgets/base",
      "_model_module_version": "1.2.0",
      "_model_name": "LayoutModel",
      "_view_count": null,
      "_view_module": "@jupyter-widgets/base",
      "_view_module_version": "1.2.0",
      "_view_name": "LayoutView",
      "align_content": null,
      "align_items": null,
      "align_self": null,
      "border": null,
      "bottom": null,
      "display": null,
      "flex": null,
      "flex_flow": null,
      "grid_area": null,
      "grid_auto_columns": null,
      "grid_auto_flow": null,
      "grid_auto_rows": null,
      "grid_column": null,
      "grid_gap": null,
      "grid_row": null,
      "grid_template_areas": null,
      "grid_template_columns": null,
      "grid_template_rows": null,
      "height": null,
      "justify_content": null,
      "justify_items": null,
      "left": null,
      "margin": null,
      "max_height": null,
      "max_width": null,
      "min_height": null,
      "min_width": null,
      "object_fit": null,
      "object_position": null,
      "order": null,
      "overflow": null,
      "overflow_x": null,
      "overflow_y": null,
      "padding": null,
      "right": null,
      "top": null,
      "visibility": null,
      "width": null
     }
    },
    "8c07a528fc4a4e108b393ab117fe2e46": {
     "model_module": "@jupyter-widgets/controls",
     "model_name": "HTMLModel",
     "state": {
      "_dom_classes": [],
      "_model_module": "@jupyter-widgets/controls",
      "_model_module_version": "1.5.0",
      "_model_name": "HTMLModel",
      "_view_count": null,
      "_view_module": "@jupyter-widgets/controls",
      "_view_module_version": "1.5.0",
      "_view_name": "HTMLView",
      "description": "",
      "description_tooltip": null,
      "layout": "IPY_MODEL_8bb78a89ff81400791e3005098fdcb94",
      "placeholder": "​",
      "style": "IPY_MODEL_813fc95246034f5cb9e5198897b4ed42",
      "value": " 1/1 [00:00&lt;00:00, 13.94ba/s]"
     }
    },
    "8d409ca0372a48e2972ca1d8eee5ffa1": {
     "model_module": "@jupyter-widgets/controls",
     "model_name": "HTMLModel",
     "state": {
      "_dom_classes": [],
      "_model_module": "@jupyter-widgets/controls",
      "_model_module_version": "1.5.0",
      "_model_name": "HTMLModel",
      "_view_count": null,
      "_view_module": "@jupyter-widgets/controls",
      "_view_module_version": "1.5.0",
      "_view_name": "HTMLView",
      "description": "",
      "description_tooltip": null,
      "layout": "IPY_MODEL_b0479f03f96241ca959f6fe7bcbd1aba",
      "placeholder": "​",
      "style": "IPY_MODEL_d362345c05234c97a675c6bacdad0e92",
      "value": " 1647/1647 [01:20&lt;00:00, 20.38ex/s]"
     }
    },
    "8dd5b08bb5bd4e608d04122424796ae7": {
     "model_module": "@jupyter-widgets/controls",
     "model_name": "HTMLModel",
     "state": {
      "_dom_classes": [],
      "_model_module": "@jupyter-widgets/controls",
      "_model_module_version": "1.5.0",
      "_model_name": "HTMLModel",
      "_view_count": null,
      "_view_module": "@jupyter-widgets/controls",
      "_view_module_version": "1.5.0",
      "_view_name": "HTMLView",
      "description": "",
      "description_tooltip": null,
      "layout": "IPY_MODEL_9eb51a6ecf3f41578aa397a5c2a33673",
      "placeholder": "​",
      "style": "IPY_MODEL_2f18d89c684343b69c3f44ffbb9b42a0",
      "value": " 1726/0 [00:00&lt;00:00, 13986.88 examples/s]"
     }
    },
    "8dddd0245dcb4532917cbfa0181d2a00": {
     "model_module": "@jupyter-widgets/controls",
     "model_name": "FloatProgressModel",
     "state": {
      "_dom_classes": [],
      "_model_module": "@jupyter-widgets/controls",
      "_model_module_version": "1.5.0",
      "_model_name": "FloatProgressModel",
      "_view_count": null,
      "_view_module": "@jupyter-widgets/controls",
      "_view_module_version": "1.5.0",
      "_view_name": "ProgressView",
      "bar_style": "success",
      "description": "#2: 100%",
      "description_tooltip": null,
      "layout": "IPY_MODEL_b1d93a7521fa47b8a815445b5232da59",
      "max": 412,
      "min": 0,
      "orientation": "horizontal",
      "style": "IPY_MODEL_024989cea06f435894776b0a921164b2",
      "value": 412
     }
    },
    "8df9d19602cb4951b397c385458a11ef": {
     "model_module": "@jupyter-widgets/controls",
     "model_name": "DescriptionStyleModel",
     "state": {
      "_model_module": "@jupyter-widgets/controls",
      "_model_module_version": "1.5.0",
      "_model_name": "DescriptionStyleModel",
      "_view_count": null,
      "_view_module": "@jupyter-widgets/base",
      "_view_module_version": "1.2.0",
      "_view_name": "StyleView",
      "description_width": ""
     }
    },
    "8e1a85a4a6214a16b7431da23a301ada": {
     "model_module": "@jupyter-widgets/controls",
     "model_name": "FloatProgressModel",
     "state": {
      "_dom_classes": [],
      "_model_module": "@jupyter-widgets/controls",
      "_model_module_version": "1.5.0",
      "_model_name": "FloatProgressModel",
      "_view_count": null,
      "_view_module": "@jupyter-widgets/controls",
      "_view_module_version": "1.5.0",
      "_view_name": "ProgressView",
      "bar_style": "success",
      "description": "Downloading: ",
      "description_tooltip": null,
      "layout": "IPY_MODEL_d453bd4a35e54bfba20dac1fe86c60c1",
      "max": 1764,
      "min": 0,
      "orientation": "horizontal",
      "style": "IPY_MODEL_a3c04c75ec9743feb795f69e7c4dff4f",
      "value": 1764
     }
    },
    "8e63ba7f1fd24555bf11bc9dbe9c770b": {
     "model_module": "@jupyter-widgets/controls",
     "model_name": "HTMLModel",
     "state": {
      "_dom_classes": [],
      "_model_module": "@jupyter-widgets/controls",
      "_model_module_version": "1.5.0",
      "_model_name": "HTMLModel",
      "_view_count": null,
      "_view_module": "@jupyter-widgets/controls",
      "_view_module_version": "1.5.0",
      "_view_name": "HTMLView",
      "description": "",
      "description_tooltip": null,
      "layout": "IPY_MODEL_26e7bab0f3bf4797bfcef83dcace24f0",
      "placeholder": "​",
      "style": "IPY_MODEL_405b5de4ae854cf9896f63d15f2207dd",
      "value": " 52/52 [00:30&lt;00:00,  1.68ba/s]"
     }
    },
    "8f737725708c4097a8caaf4da6229636": {
     "model_module": "@jupyter-widgets/base",
     "model_name": "LayoutModel",
     "state": {
      "_model_module": "@jupyter-widgets/base",
      "_model_module_version": "1.2.0",
      "_model_name": "LayoutModel",
      "_view_count": null,
      "_view_module": "@jupyter-widgets/base",
      "_view_module_version": "1.2.0",
      "_view_name": "LayoutView",
      "align_content": null,
      "align_items": null,
      "align_self": null,
      "border": null,
      "bottom": null,
      "display": null,
      "flex": null,
      "flex_flow": null,
      "grid_area": null,
      "grid_auto_columns": null,
      "grid_auto_flow": null,
      "grid_auto_rows": null,
      "grid_column": null,
      "grid_gap": null,
      "grid_row": null,
      "grid_template_areas": null,
      "grid_template_columns": null,
      "grid_template_rows": null,
      "height": null,
      "justify_content": null,
      "justify_items": null,
      "left": null,
      "margin": null,
      "max_height": null,
      "max_width": null,
      "min_height": null,
      "min_width": null,
      "object_fit": null,
      "object_position": null,
      "order": null,
      "overflow": null,
      "overflow_x": null,
      "overflow_y": null,
      "padding": null,
      "right": null,
      "top": null,
      "visibility": null,
      "width": null
     }
    },
    "90b8bc59e26a46009e1d3763f86f227a": {
     "model_module": "@jupyter-widgets/controls",
     "model_name": "HBoxModel",
     "state": {
      "_dom_classes": [],
      "_model_module": "@jupyter-widgets/controls",
      "_model_module_version": "1.5.0",
      "_model_name": "HBoxModel",
      "_view_count": null,
      "_view_module": "@jupyter-widgets/controls",
      "_view_module_version": "1.5.0",
      "_view_name": "HBoxView",
      "box_style": "",
      "children": [
       "IPY_MODEL_98e7ab5f7ebf426fbb71a37bbad4c28f",
       "IPY_MODEL_e3b719c0ffcc4fd1b410ffb7f969b7a5"
      ],
      "layout": "IPY_MODEL_3e2cd59ac697495f8db14b894b783f95"
     }
    },
    "9185f86719af476da41e3835e8f06f8d": {
     "model_module": "@jupyter-widgets/base",
     "model_name": "LayoutModel",
     "state": {
      "_model_module": "@jupyter-widgets/base",
      "_model_module_version": "1.2.0",
      "_model_name": "LayoutModel",
      "_view_count": null,
      "_view_module": "@jupyter-widgets/base",
      "_view_module_version": "1.2.0",
      "_view_name": "LayoutView",
      "align_content": null,
      "align_items": null,
      "align_self": null,
      "border": null,
      "bottom": null,
      "display": null,
      "flex": null,
      "flex_flow": null,
      "grid_area": null,
      "grid_auto_columns": null,
      "grid_auto_flow": null,
      "grid_auto_rows": null,
      "grid_column": null,
      "grid_gap": null,
      "grid_row": null,
      "grid_template_areas": null,
      "grid_template_columns": null,
      "grid_template_rows": null,
      "height": null,
      "justify_content": null,
      "justify_items": null,
      "left": null,
      "margin": null,
      "max_height": null,
      "max_width": null,
      "min_height": null,
      "min_width": null,
      "object_fit": null,
      "object_position": null,
      "order": null,
      "overflow": null,
      "overflow_x": null,
      "overflow_y": null,
      "padding": null,
      "right": null,
      "top": null,
      "visibility": null,
      "width": null
     }
    },
    "91fcf0641fe3489ab96f3aaa40adf245": {
     "model_module": "@jupyter-widgets/base",
     "model_name": "LayoutModel",
     "state": {
      "_model_module": "@jupyter-widgets/base",
      "_model_module_version": "1.2.0",
      "_model_name": "LayoutModel",
      "_view_count": null,
      "_view_module": "@jupyter-widgets/base",
      "_view_module_version": "1.2.0",
      "_view_name": "LayoutView",
      "align_content": null,
      "align_items": null,
      "align_self": null,
      "border": null,
      "bottom": null,
      "display": null,
      "flex": null,
      "flex_flow": null,
      "grid_area": null,
      "grid_auto_columns": null,
      "grid_auto_flow": null,
      "grid_auto_rows": null,
      "grid_column": null,
      "grid_gap": null,
      "grid_row": null,
      "grid_template_areas": null,
      "grid_template_columns": null,
      "grid_template_rows": null,
      "height": null,
      "justify_content": null,
      "justify_items": null,
      "left": null,
      "margin": null,
      "max_height": null,
      "max_width": null,
      "min_height": null,
      "min_width": null,
      "object_fit": null,
      "object_position": null,
      "order": null,
      "overflow": null,
      "overflow_x": null,
      "overflow_y": null,
      "padding": null,
      "right": null,
      "top": null,
      "visibility": null,
      "width": null
     }
    },
    "923ed9e127524187ab8cfcac31164ba7": {
     "model_module": "@jupyter-widgets/base",
     "model_name": "LayoutModel",
     "state": {
      "_model_module": "@jupyter-widgets/base",
      "_model_module_version": "1.2.0",
      "_model_name": "LayoutModel",
      "_view_count": null,
      "_view_module": "@jupyter-widgets/base",
      "_view_module_version": "1.2.0",
      "_view_name": "LayoutView",
      "align_content": null,
      "align_items": null,
      "align_self": null,
      "border": null,
      "bottom": null,
      "display": null,
      "flex": null,
      "flex_flow": null,
      "grid_area": null,
      "grid_auto_columns": null,
      "grid_auto_flow": null,
      "grid_auto_rows": null,
      "grid_column": null,
      "grid_gap": null,
      "grid_row": null,
      "grid_template_areas": null,
      "grid_template_columns": null,
      "grid_template_rows": null,
      "height": null,
      "justify_content": null,
      "justify_items": null,
      "left": null,
      "margin": null,
      "max_height": null,
      "max_width": null,
      "min_height": null,
      "min_width": null,
      "object_fit": null,
      "object_position": null,
      "order": null,
      "overflow": null,
      "overflow_x": null,
      "overflow_y": null,
      "padding": null,
      "right": null,
      "top": null,
      "visibility": null,
      "width": null
     }
    },
    "929cde17b3484f3e9e8f8774bc43e374": {
     "model_module": "@jupyter-widgets/controls",
     "model_name": "ProgressStyleModel",
     "state": {
      "_model_module": "@jupyter-widgets/controls",
      "_model_module_version": "1.5.0",
      "_model_name": "ProgressStyleModel",
      "_view_count": null,
      "_view_module": "@jupyter-widgets/base",
      "_view_module_version": "1.2.0",
      "_view_name": "StyleView",
      "bar_color": null,
      "description_width": "initial"
     }
    },
    "92a35db69bbf4ad6af44c53aa3870be5": {
     "model_module": "@jupyter-widgets/controls",
     "model_name": "HBoxModel",
     "state": {
      "_dom_classes": [],
      "_model_module": "@jupyter-widgets/controls",
      "_model_module_version": "1.5.0",
      "_model_name": "HBoxModel",
      "_view_count": null,
      "_view_module": "@jupyter-widgets/controls",
      "_view_module_version": "1.5.0",
      "_view_name": "HBoxView",
      "box_style": "",
      "children": [
       "IPY_MODEL_b94e374d92c146009447c3827b977267",
       "IPY_MODEL_1f1faa7b986e475c9e6839b2e7b55c74"
      ],
      "layout": "IPY_MODEL_389e43e47a734193a507817ebad955f7"
     }
    },
    "93f191a48b3141e1889fd94870b6ac0e": {
     "model_module": "@jupyter-widgets/base",
     "model_name": "LayoutModel",
     "state": {
      "_model_module": "@jupyter-widgets/base",
      "_model_module_version": "1.2.0",
      "_model_name": "LayoutModel",
      "_view_count": null,
      "_view_module": "@jupyter-widgets/base",
      "_view_module_version": "1.2.0",
      "_view_name": "LayoutView",
      "align_content": null,
      "align_items": null,
      "align_self": null,
      "border": null,
      "bottom": null,
      "display": null,
      "flex": null,
      "flex_flow": null,
      "grid_area": null,
      "grid_auto_columns": null,
      "grid_auto_flow": null,
      "grid_auto_rows": null,
      "grid_column": null,
      "grid_gap": null,
      "grid_row": null,
      "grid_template_areas": null,
      "grid_template_columns": null,
      "grid_template_rows": null,
      "height": null,
      "justify_content": null,
      "justify_items": null,
      "left": null,
      "margin": null,
      "max_height": null,
      "max_width": null,
      "min_height": null,
      "min_width": null,
      "object_fit": null,
      "object_position": null,
      "order": null,
      "overflow": null,
      "overflow_x": null,
      "overflow_y": null,
      "padding": null,
      "right": null,
      "top": null,
      "visibility": null,
      "width": null
     }
    },
    "9532db4cdc5e4371a4a02055a4c67a08": {
     "model_module": "@jupyter-widgets/controls",
     "model_name": "DescriptionStyleModel",
     "state": {
      "_model_module": "@jupyter-widgets/controls",
      "_model_module_version": "1.5.0",
      "_model_name": "DescriptionStyleModel",
      "_view_count": null,
      "_view_module": "@jupyter-widgets/base",
      "_view_module_version": "1.2.0",
      "_view_name": "StyleView",
      "description_width": ""
     }
    },
    "969080b52ad44ee997829986d198c505": {
     "model_module": "@jupyter-widgets/controls",
     "model_name": "DescriptionStyleModel",
     "state": {
      "_model_module": "@jupyter-widgets/controls",
      "_model_module_version": "1.5.0",
      "_model_name": "DescriptionStyleModel",
      "_view_count": null,
      "_view_module": "@jupyter-widgets/base",
      "_view_module_version": "1.2.0",
      "_view_name": "StyleView",
      "description_width": ""
     }
    },
    "98c594f1e41e4b3fab10f0763bd93d75": {
     "model_module": "@jupyter-widgets/base",
     "model_name": "LayoutModel",
     "state": {
      "_model_module": "@jupyter-widgets/base",
      "_model_module_version": "1.2.0",
      "_model_name": "LayoutModel",
      "_view_count": null,
      "_view_module": "@jupyter-widgets/base",
      "_view_module_version": "1.2.0",
      "_view_name": "LayoutView",
      "align_content": null,
      "align_items": null,
      "align_self": null,
      "border": null,
      "bottom": null,
      "display": null,
      "flex": null,
      "flex_flow": null,
      "grid_area": null,
      "grid_auto_columns": null,
      "grid_auto_flow": null,
      "grid_auto_rows": null,
      "grid_column": null,
      "grid_gap": null,
      "grid_row": null,
      "grid_template_areas": null,
      "grid_template_columns": null,
      "grid_template_rows": null,
      "height": null,
      "justify_content": null,
      "justify_items": null,
      "left": null,
      "margin": null,
      "max_height": null,
      "max_width": null,
      "min_height": null,
      "min_width": null,
      "object_fit": null,
      "object_position": null,
      "order": null,
      "overflow": null,
      "overflow_x": null,
      "overflow_y": null,
      "padding": null,
      "right": null,
      "top": null,
      "visibility": null,
      "width": null
     }
    },
    "98e7ab5f7ebf426fbb71a37bbad4c28f": {
     "model_module": "@jupyter-widgets/controls",
     "model_name": "FloatProgressModel",
     "state": {
      "_dom_classes": [],
      "_model_module": "@jupyter-widgets/controls",
      "_model_module_version": "1.5.0",
      "_model_name": "FloatProgressModel",
      "_view_count": null,
      "_view_module": "@jupyter-widgets/controls",
      "_view_module_version": "1.5.0",
      "_view_name": "ProgressView",
      "bar_style": "info",
      "description": "",
      "description_tooltip": null,
      "layout": "IPY_MODEL_2f5406546970425282a881b5d2f7c248",
      "max": 1,
      "min": 0,
      "orientation": "horizontal",
      "style": "IPY_MODEL_4382726ef043441a9b1a4a647d84f242",
      "value": 1
     }
    },
    "998676d59f9c464e8463d65baad6448b": {
     "model_module": "@jupyter-widgets/controls",
     "model_name": "HTMLModel",
     "state": {
      "_dom_classes": [],
      "_model_module": "@jupyter-widgets/controls",
      "_model_module_version": "1.5.0",
      "_model_name": "HTMLModel",
      "_view_count": null,
      "_view_module": "@jupyter-widgets/controls",
      "_view_module_version": "1.5.0",
      "_view_name": "HTMLView",
      "description": "",
      "description_tooltip": null,
      "layout": "IPY_MODEL_7b4cfd2b448643b8a4409dd612aef0d1",
      "placeholder": "​",
      "style": "IPY_MODEL_7bf5b2b625764f63ad57a360c3fd0a61",
      "value": " 1647/1647 [00:45&lt;00:00, 36.39ex/s]"
     }
    },
    "99d5c44ea54b45ee9bd89380cb1ad189": {
     "model_module": "@jupyter-widgets/base",
     "model_name": "LayoutModel",
     "state": {
      "_model_module": "@jupyter-widgets/base",
      "_model_module_version": "1.2.0",
      "_model_name": "LayoutModel",
      "_view_count": null,
      "_view_module": "@jupyter-widgets/base",
      "_view_module_version": "1.2.0",
      "_view_name": "LayoutView",
      "align_content": null,
      "align_items": null,
      "align_self": null,
      "border": null,
      "bottom": null,
      "display": null,
      "flex": null,
      "flex_flow": null,
      "grid_area": null,
      "grid_auto_columns": null,
      "grid_auto_flow": null,
      "grid_auto_rows": null,
      "grid_column": null,
      "grid_gap": null,
      "grid_row": null,
      "grid_template_areas": null,
      "grid_template_columns": null,
      "grid_template_rows": null,
      "height": null,
      "justify_content": null,
      "justify_items": null,
      "left": null,
      "margin": null,
      "max_height": null,
      "max_width": null,
      "min_height": null,
      "min_width": null,
      "object_fit": null,
      "object_position": null,
      "order": null,
      "overflow": null,
      "overflow_x": null,
      "overflow_y": null,
      "padding": null,
      "right": null,
      "top": null,
      "visibility": null,
      "width": null
     }
    },
    "9eb51a6ecf3f41578aa397a5c2a33673": {
     "model_module": "@jupyter-widgets/base",
     "model_name": "LayoutModel",
     "state": {
      "_model_module": "@jupyter-widgets/base",
      "_model_module_version": "1.2.0",
      "_model_name": "LayoutModel",
      "_view_count": null,
      "_view_module": "@jupyter-widgets/base",
      "_view_module_version": "1.2.0",
      "_view_name": "LayoutView",
      "align_content": null,
      "align_items": null,
      "align_self": null,
      "border": null,
      "bottom": null,
      "display": null,
      "flex": null,
      "flex_flow": null,
      "grid_area": null,
      "grid_auto_columns": null,
      "grid_auto_flow": null,
      "grid_auto_rows": null,
      "grid_column": null,
      "grid_gap": null,
      "grid_row": null,
      "grid_template_areas": null,
      "grid_template_columns": null,
      "grid_template_rows": null,
      "height": null,
      "justify_content": null,
      "justify_items": null,
      "left": null,
      "margin": null,
      "max_height": null,
      "max_width": null,
      "min_height": null,
      "min_width": null,
      "object_fit": null,
      "object_position": null,
      "order": null,
      "overflow": null,
      "overflow_x": null,
      "overflow_y": null,
      "padding": null,
      "right": null,
      "top": null,
      "visibility": null,
      "width": null
     }
    },
    "9f79629ad6a94201acf3283862d1ae17": {
     "model_module": "@jupyter-widgets/controls",
     "model_name": "DescriptionStyleModel",
     "state": {
      "_model_module": "@jupyter-widgets/controls",
      "_model_module_version": "1.5.0",
      "_model_name": "DescriptionStyleModel",
      "_view_count": null,
      "_view_module": "@jupyter-widgets/base",
      "_view_module_version": "1.2.0",
      "_view_name": "StyleView",
      "description_width": ""
     }
    },
    "9fee9d9dd1164d97a9109e942444c332": {
     "model_module": "@jupyter-widgets/controls",
     "model_name": "HTMLModel",
     "state": {
      "_dom_classes": [],
      "_model_module": "@jupyter-widgets/controls",
      "_model_module_version": "1.5.0",
      "_model_name": "HTMLModel",
      "_view_count": null,
      "_view_module": "@jupyter-widgets/controls",
      "_view_module_version": "1.5.0",
      "_view_name": "HTMLView",
      "description": "",
      "description_tooltip": null,
      "layout": "IPY_MODEL_c126ea97019149848396e593cfab016f",
      "placeholder": "​",
      "style": "IPY_MODEL_f9efaa7678c2450f847ff2c2f21ff96e",
      "value": " 52/52 [00:31&lt;00:00,  1.66ba/s]"
     }
    },
    "a170c0cb21cf425fbee97fd6d5584e2c": {
     "model_module": "@jupyter-widgets/base",
     "model_name": "LayoutModel",
     "state": {
      "_model_module": "@jupyter-widgets/base",
      "_model_module_version": "1.2.0",
      "_model_name": "LayoutModel",
      "_view_count": null,
      "_view_module": "@jupyter-widgets/base",
      "_view_module_version": "1.2.0",
      "_view_name": "LayoutView",
      "align_content": null,
      "align_items": null,
      "align_self": null,
      "border": null,
      "bottom": null,
      "display": null,
      "flex": null,
      "flex_flow": null,
      "grid_area": null,
      "grid_auto_columns": null,
      "grid_auto_flow": null,
      "grid_auto_rows": null,
      "grid_column": null,
      "grid_gap": null,
      "grid_row": null,
      "grid_template_areas": null,
      "grid_template_columns": null,
      "grid_template_rows": null,
      "height": null,
      "justify_content": null,
      "justify_items": null,
      "left": null,
      "margin": null,
      "max_height": null,
      "max_width": null,
      "min_height": null,
      "min_width": null,
      "object_fit": null,
      "object_position": null,
      "order": null,
      "overflow": null,
      "overflow_x": null,
      "overflow_y": null,
      "padding": null,
      "right": null,
      "top": null,
      "visibility": null,
      "width": null
     }
    },
    "a34dae18d9994b848630d4e3d836e0cb": {
     "model_module": "@jupyter-widgets/base",
     "model_name": "LayoutModel",
     "state": {
      "_model_module": "@jupyter-widgets/base",
      "_model_module_version": "1.2.0",
      "_model_name": "LayoutModel",
      "_view_count": null,
      "_view_module": "@jupyter-widgets/base",
      "_view_module_version": "1.2.0",
      "_view_name": "LayoutView",
      "align_content": null,
      "align_items": null,
      "align_self": null,
      "border": null,
      "bottom": null,
      "display": null,
      "flex": null,
      "flex_flow": null,
      "grid_area": null,
      "grid_auto_columns": null,
      "grid_auto_flow": null,
      "grid_auto_rows": null,
      "grid_column": null,
      "grid_gap": null,
      "grid_row": null,
      "grid_template_areas": null,
      "grid_template_columns": null,
      "grid_template_rows": null,
      "height": null,
      "justify_content": null,
      "justify_items": null,
      "left": null,
      "margin": null,
      "max_height": null,
      "max_width": null,
      "min_height": null,
      "min_width": null,
      "object_fit": null,
      "object_position": null,
      "order": null,
      "overflow": null,
      "overflow_x": null,
      "overflow_y": null,
      "padding": null,
      "right": null,
      "top": null,
      "visibility": null,
      "width": null
     }
    },
    "a3c04c75ec9743feb795f69e7c4dff4f": {
     "model_module": "@jupyter-widgets/controls",
     "model_name": "ProgressStyleModel",
     "state": {
      "_model_module": "@jupyter-widgets/controls",
      "_model_module_version": "1.5.0",
      "_model_name": "ProgressStyleModel",
      "_view_count": null,
      "_view_module": "@jupyter-widgets/base",
      "_view_module_version": "1.2.0",
      "_view_name": "StyleView",
      "bar_color": null,
      "description_width": "initial"
     }
    },
    "a47f1ea64f894f0b8e6b277c31ae9f7d": {
     "model_module": "@jupyter-widgets/controls",
     "model_name": "ProgressStyleModel",
     "state": {
      "_model_module": "@jupyter-widgets/controls",
      "_model_module_version": "1.5.0",
      "_model_name": "ProgressStyleModel",
      "_view_count": null,
      "_view_module": "@jupyter-widgets/base",
      "_view_module_version": "1.2.0",
      "_view_name": "StyleView",
      "bar_color": null,
      "description_width": "initial"
     }
    },
    "a58c203a7cc54086aea45f2029821207": {
     "model_module": "@jupyter-widgets/controls",
     "model_name": "FloatProgressModel",
     "state": {
      "_dom_classes": [],
      "_model_module": "@jupyter-widgets/controls",
      "_model_module_version": "1.5.0",
      "_model_name": "FloatProgressModel",
      "_view_count": null,
      "_view_module": "@jupyter-widgets/controls",
      "_view_module_version": "1.5.0",
      "_view_name": "ProgressView",
      "bar_style": "success",
      "description": "100%",
      "description_tooltip": null,
      "layout": "IPY_MODEL_b1b6a4649fc34c9996f993c57671766b",
      "max": 1647,
      "min": 0,
      "orientation": "horizontal",
      "style": "IPY_MODEL_c8fdf261ac294093a355778a3a4aba3b",
      "value": 1647
     }
    },
    "a868dea9d9b047a4b853b390e138e4c1": {
     "model_module": "@jupyter-widgets/base",
     "model_name": "LayoutModel",
     "state": {
      "_model_module": "@jupyter-widgets/base",
      "_model_module_version": "1.2.0",
      "_model_name": "LayoutModel",
      "_view_count": null,
      "_view_module": "@jupyter-widgets/base",
      "_view_module_version": "1.2.0",
      "_view_name": "LayoutView",
      "align_content": null,
      "align_items": null,
      "align_self": null,
      "border": null,
      "bottom": null,
      "display": null,
      "flex": null,
      "flex_flow": null,
      "grid_area": null,
      "grid_auto_columns": null,
      "grid_auto_flow": null,
      "grid_auto_rows": null,
      "grid_column": null,
      "grid_gap": null,
      "grid_row": null,
      "grid_template_areas": null,
      "grid_template_columns": null,
      "grid_template_rows": null,
      "height": null,
      "justify_content": null,
      "justify_items": null,
      "left": null,
      "margin": null,
      "max_height": null,
      "max_width": null,
      "min_height": null,
      "min_width": null,
      "object_fit": null,
      "object_position": null,
      "order": null,
      "overflow": null,
      "overflow_x": null,
      "overflow_y": null,
      "padding": null,
      "right": null,
      "top": null,
      "visibility": null,
      "width": null
     }
    },
    "aafd4b2c56db43378c4627797665db17": {
     "model_module": "@jupyter-widgets/controls",
     "model_name": "HTMLModel",
     "state": {
      "_dom_classes": [],
      "_model_module": "@jupyter-widgets/controls",
      "_model_module_version": "1.5.0",
      "_model_name": "HTMLModel",
      "_view_count": null,
      "_view_module": "@jupyter-widgets/controls",
      "_view_module_version": "1.5.0",
      "_view_name": "HTMLView",
      "description": "",
      "description_tooltip": null,
      "layout": "IPY_MODEL_ad428686450f4ebdb50a0356b2e5a8c4",
      "placeholder": "​",
      "style": "IPY_MODEL_ccb720bf256e42f7b0251494ccb7741f",
      "value": " 1/1 [00:45&lt;00:00, 45.03s/ba]"
     }
    },
    "ab72c80dfd5e4ab19a183f4204486b59": {
     "model_module": "@jupyter-widgets/controls",
     "model_name": "DescriptionStyleModel",
     "state": {
      "_model_module": "@jupyter-widgets/controls",
      "_model_module_version": "1.5.0",
      "_model_name": "DescriptionStyleModel",
      "_view_count": null,
      "_view_module": "@jupyter-widgets/base",
      "_view_module_version": "1.2.0",
      "_view_name": "StyleView",
      "description_width": ""
     }
    },
    "ac35dca0845149a284b9867d9e607232": {
     "model_module": "@jupyter-widgets/controls",
     "model_name": "HBoxModel",
     "state": {
      "_dom_classes": [],
      "_model_module": "@jupyter-widgets/controls",
      "_model_module_version": "1.5.0",
      "_model_name": "HBoxModel",
      "_view_count": null,
      "_view_module": "@jupyter-widgets/controls",
      "_view_module_version": "1.5.0",
      "_view_name": "HBoxView",
      "box_style": "",
      "children": [
       "IPY_MODEL_5071a31d06f544a5b7340a4e863d8fdf",
       "IPY_MODEL_542027ba12f444d586e8072452badea0"
      ],
      "layout": "IPY_MODEL_b54bff6261964119bcb562c1a9f74ce6"
     }
    },
    "ad428686450f4ebdb50a0356b2e5a8c4": {
     "model_module": "@jupyter-widgets/base",
     "model_name": "LayoutModel",
     "state": {
      "_model_module": "@jupyter-widgets/base",
      "_model_module_version": "1.2.0",
      "_model_name": "LayoutModel",
      "_view_count": null,
      "_view_module": "@jupyter-widgets/base",
      "_view_module_version": "1.2.0",
      "_view_name": "LayoutView",
      "align_content": null,
      "align_items": null,
      "align_self": null,
      "border": null,
      "bottom": null,
      "display": null,
      "flex": null,
      "flex_flow": null,
      "grid_area": null,
      "grid_auto_columns": null,
      "grid_auto_flow": null,
      "grid_auto_rows": null,
      "grid_column": null,
      "grid_gap": null,
      "grid_row": null,
      "grid_template_areas": null,
      "grid_template_columns": null,
      "grid_template_rows": null,
      "height": null,
      "justify_content": null,
      "justify_items": null,
      "left": null,
      "margin": null,
      "max_height": null,
      "max_width": null,
      "min_height": null,
      "min_width": null,
      "object_fit": null,
      "object_position": null,
      "order": null,
      "overflow": null,
      "overflow_x": null,
      "overflow_y": null,
      "padding": null,
      "right": null,
      "top": null,
      "visibility": null,
      "width": null
     }
    },
    "af85713f677243d19cba9fe69a4a5f46": {
     "model_module": "@jupyter-widgets/base",
     "model_name": "LayoutModel",
     "state": {
      "_model_module": "@jupyter-widgets/base",
      "_model_module_version": "1.2.0",
      "_model_name": "LayoutModel",
      "_view_count": null,
      "_view_module": "@jupyter-widgets/base",
      "_view_module_version": "1.2.0",
      "_view_name": "LayoutView",
      "align_content": null,
      "align_items": null,
      "align_self": null,
      "border": null,
      "bottom": null,
      "display": null,
      "flex": null,
      "flex_flow": null,
      "grid_area": null,
      "grid_auto_columns": null,
      "grid_auto_flow": null,
      "grid_auto_rows": null,
      "grid_column": null,
      "grid_gap": null,
      "grid_row": null,
      "grid_template_areas": null,
      "grid_template_columns": null,
      "grid_template_rows": null,
      "height": null,
      "justify_content": null,
      "justify_items": null,
      "left": null,
      "margin": null,
      "max_height": null,
      "max_width": null,
      "min_height": null,
      "min_width": null,
      "object_fit": null,
      "object_position": null,
      "order": null,
      "overflow": null,
      "overflow_x": null,
      "overflow_y": null,
      "padding": null,
      "right": null,
      "top": null,
      "visibility": null,
      "width": null
     }
    },
    "b0479f03f96241ca959f6fe7bcbd1aba": {
     "model_module": "@jupyter-widgets/base",
     "model_name": "LayoutModel",
     "state": {
      "_model_module": "@jupyter-widgets/base",
      "_model_module_version": "1.2.0",
      "_model_name": "LayoutModel",
      "_view_count": null,
      "_view_module": "@jupyter-widgets/base",
      "_view_module_version": "1.2.0",
      "_view_name": "LayoutView",
      "align_content": null,
      "align_items": null,
      "align_self": null,
      "border": null,
      "bottom": null,
      "display": null,
      "flex": null,
      "flex_flow": null,
      "grid_area": null,
      "grid_auto_columns": null,
      "grid_auto_flow": null,
      "grid_auto_rows": null,
      "grid_column": null,
      "grid_gap": null,
      "grid_row": null,
      "grid_template_areas": null,
      "grid_template_columns": null,
      "grid_template_rows": null,
      "height": null,
      "justify_content": null,
      "justify_items": null,
      "left": null,
      "margin": null,
      "max_height": null,
      "max_width": null,
      "min_height": null,
      "min_width": null,
      "object_fit": null,
      "object_position": null,
      "order": null,
      "overflow": null,
      "overflow_x": null,
      "overflow_y": null,
      "padding": null,
      "right": null,
      "top": null,
      "visibility": null,
      "width": null
     }
    },
    "b054b00a32e64fc5988fbd2966ebbce6": {
     "model_module": "@jupyter-widgets/base",
     "model_name": "LayoutModel",
     "state": {
      "_model_module": "@jupyter-widgets/base",
      "_model_module_version": "1.2.0",
      "_model_name": "LayoutModel",
      "_view_count": null,
      "_view_module": "@jupyter-widgets/base",
      "_view_module_version": "1.2.0",
      "_view_name": "LayoutView",
      "align_content": null,
      "align_items": null,
      "align_self": null,
      "border": null,
      "bottom": null,
      "display": null,
      "flex": null,
      "flex_flow": null,
      "grid_area": null,
      "grid_auto_columns": null,
      "grid_auto_flow": null,
      "grid_auto_rows": null,
      "grid_column": null,
      "grid_gap": null,
      "grid_row": null,
      "grid_template_areas": null,
      "grid_template_columns": null,
      "grid_template_rows": null,
      "height": null,
      "justify_content": null,
      "justify_items": null,
      "left": null,
      "margin": null,
      "max_height": null,
      "max_width": null,
      "min_height": null,
      "min_width": null,
      "object_fit": null,
      "object_position": null,
      "order": null,
      "overflow": null,
      "overflow_x": null,
      "overflow_y": null,
      "padding": null,
      "right": null,
      "top": null,
      "visibility": null,
      "width": null
     }
    },
    "b0e3a36279d243ab9943149705c72c3e": {
     "model_module": "@jupyter-widgets/controls",
     "model_name": "FloatProgressModel",
     "state": {
      "_dom_classes": [],
      "_model_module": "@jupyter-widgets/controls",
      "_model_module_version": "1.5.0",
      "_model_name": "FloatProgressModel",
      "_view_count": null,
      "_view_module": "@jupyter-widgets/controls",
      "_view_module_version": "1.5.0",
      "_view_name": "ProgressView",
      "bar_style": "success",
      "description": "Downloading: ",
      "description_tooltip": null,
      "layout": "IPY_MODEL_a34dae18d9994b848630d4e3d836e0cb",
      "max": 5925,
      "min": 0,
      "orientation": "horizontal",
      "style": "IPY_MODEL_530f66ac087e4f8f979fcaa33941c60d",
      "value": 5925
     }
    },
    "b0f3a205ad4546188fc6e7e7cf96ab32": {
     "model_module": "@jupyter-widgets/controls",
     "model_name": "ProgressStyleModel",
     "state": {
      "_model_module": "@jupyter-widgets/controls",
      "_model_module_version": "1.5.0",
      "_model_name": "ProgressStyleModel",
      "_view_count": null,
      "_view_module": "@jupyter-widgets/base",
      "_view_module_version": "1.2.0",
      "_view_name": "StyleView",
      "bar_color": null,
      "description_width": "initial"
     }
    },
    "b177a8cb85a24b88ab6d56205b630f1d": {
     "model_module": "@jupyter-widgets/base",
     "model_name": "LayoutModel",
     "state": {
      "_model_module": "@jupyter-widgets/base",
      "_model_module_version": "1.2.0",
      "_model_name": "LayoutModel",
      "_view_count": null,
      "_view_module": "@jupyter-widgets/base",
      "_view_module_version": "1.2.0",
      "_view_name": "LayoutView",
      "align_content": null,
      "align_items": null,
      "align_self": null,
      "border": null,
      "bottom": null,
      "display": null,
      "flex": null,
      "flex_flow": null,
      "grid_area": null,
      "grid_auto_columns": null,
      "grid_auto_flow": null,
      "grid_auto_rows": null,
      "grid_column": null,
      "grid_gap": null,
      "grid_row": null,
      "grid_template_areas": null,
      "grid_template_columns": null,
      "grid_template_rows": null,
      "height": null,
      "justify_content": null,
      "justify_items": null,
      "left": null,
      "margin": null,
      "max_height": null,
      "max_width": null,
      "min_height": null,
      "min_width": null,
      "object_fit": null,
      "object_position": null,
      "order": null,
      "overflow": null,
      "overflow_x": null,
      "overflow_y": null,
      "padding": null,
      "right": null,
      "top": null,
      "visibility": null,
      "width": null
     }
    },
    "b1b6a4649fc34c9996f993c57671766b": {
     "model_module": "@jupyter-widgets/base",
     "model_name": "LayoutModel",
     "state": {
      "_model_module": "@jupyter-widgets/base",
      "_model_module_version": "1.2.0",
      "_model_name": "LayoutModel",
      "_view_count": null,
      "_view_module": "@jupyter-widgets/base",
      "_view_module_version": "1.2.0",
      "_view_name": "LayoutView",
      "align_content": null,
      "align_items": null,
      "align_self": null,
      "border": null,
      "bottom": null,
      "display": null,
      "flex": null,
      "flex_flow": null,
      "grid_area": null,
      "grid_auto_columns": null,
      "grid_auto_flow": null,
      "grid_auto_rows": null,
      "grid_column": null,
      "grid_gap": null,
      "grid_row": null,
      "grid_template_areas": null,
      "grid_template_columns": null,
      "grid_template_rows": null,
      "height": null,
      "justify_content": null,
      "justify_items": null,
      "left": null,
      "margin": null,
      "max_height": null,
      "max_width": null,
      "min_height": null,
      "min_width": null,
      "object_fit": null,
      "object_position": null,
      "order": null,
      "overflow": null,
      "overflow_x": null,
      "overflow_y": null,
      "padding": null,
      "right": null,
      "top": null,
      "visibility": null,
      "width": null
     }
    },
    "b1d93a7521fa47b8a815445b5232da59": {
     "model_module": "@jupyter-widgets/base",
     "model_name": "LayoutModel",
     "state": {
      "_model_module": "@jupyter-widgets/base",
      "_model_module_version": "1.2.0",
      "_model_name": "LayoutModel",
      "_view_count": null,
      "_view_module": "@jupyter-widgets/base",
      "_view_module_version": "1.2.0",
      "_view_name": "LayoutView",
      "align_content": null,
      "align_items": null,
      "align_self": null,
      "border": null,
      "bottom": null,
      "display": null,
      "flex": null,
      "flex_flow": null,
      "grid_area": null,
      "grid_auto_columns": null,
      "grid_auto_flow": null,
      "grid_auto_rows": null,
      "grid_column": null,
      "grid_gap": null,
      "grid_row": null,
      "grid_template_areas": null,
      "grid_template_columns": null,
      "grid_template_rows": null,
      "height": null,
      "justify_content": null,
      "justify_items": null,
      "left": null,
      "margin": null,
      "max_height": null,
      "max_width": null,
      "min_height": null,
      "min_width": null,
      "object_fit": null,
      "object_position": null,
      "order": null,
      "overflow": null,
      "overflow_x": null,
      "overflow_y": null,
      "padding": null,
      "right": null,
      "top": null,
      "visibility": null,
      "width": null
     }
    },
    "b2473405490e4556bf30c0cc81237aa5": {
     "model_module": "@jupyter-widgets/base",
     "model_name": "LayoutModel",
     "state": {
      "_model_module": "@jupyter-widgets/base",
      "_model_module_version": "1.2.0",
      "_model_name": "LayoutModel",
      "_view_count": null,
      "_view_module": "@jupyter-widgets/base",
      "_view_module_version": "1.2.0",
      "_view_name": "LayoutView",
      "align_content": null,
      "align_items": null,
      "align_self": null,
      "border": null,
      "bottom": null,
      "display": null,
      "flex": null,
      "flex_flow": null,
      "grid_area": null,
      "grid_auto_columns": null,
      "grid_auto_flow": null,
      "grid_auto_rows": null,
      "grid_column": null,
      "grid_gap": null,
      "grid_row": null,
      "grid_template_areas": null,
      "grid_template_columns": null,
      "grid_template_rows": null,
      "height": null,
      "justify_content": null,
      "justify_items": null,
      "left": null,
      "margin": null,
      "max_height": null,
      "max_width": null,
      "min_height": null,
      "min_width": null,
      "object_fit": null,
      "object_position": null,
      "order": null,
      "overflow": null,
      "overflow_x": null,
      "overflow_y": null,
      "padding": null,
      "right": null,
      "top": null,
      "visibility": null,
      "width": null
     }
    },
    "b320306eaf264ad9872d507a1a1cb2da": {
     "model_module": "@jupyter-widgets/base",
     "model_name": "LayoutModel",
     "state": {
      "_model_module": "@jupyter-widgets/base",
      "_model_module_version": "1.2.0",
      "_model_name": "LayoutModel",
      "_view_count": null,
      "_view_module": "@jupyter-widgets/base",
      "_view_module_version": "1.2.0",
      "_view_name": "LayoutView",
      "align_content": null,
      "align_items": null,
      "align_self": null,
      "border": null,
      "bottom": null,
      "display": null,
      "flex": null,
      "flex_flow": null,
      "grid_area": null,
      "grid_auto_columns": null,
      "grid_auto_flow": null,
      "grid_auto_rows": null,
      "grid_column": null,
      "grid_gap": null,
      "grid_row": null,
      "grid_template_areas": null,
      "grid_template_columns": null,
      "grid_template_rows": null,
      "height": null,
      "justify_content": null,
      "justify_items": null,
      "left": null,
      "margin": null,
      "max_height": null,
      "max_width": null,
      "min_height": null,
      "min_width": null,
      "object_fit": null,
      "object_position": null,
      "order": null,
      "overflow": null,
      "overflow_x": null,
      "overflow_y": null,
      "padding": null,
      "right": null,
      "top": null,
      "visibility": null,
      "width": null
     }
    },
    "b54bff6261964119bcb562c1a9f74ce6": {
     "model_module": "@jupyter-widgets/base",
     "model_name": "LayoutModel",
     "state": {
      "_model_module": "@jupyter-widgets/base",
      "_model_module_version": "1.2.0",
      "_model_name": "LayoutModel",
      "_view_count": null,
      "_view_module": "@jupyter-widgets/base",
      "_view_module_version": "1.2.0",
      "_view_name": "LayoutView",
      "align_content": null,
      "align_items": null,
      "align_self": null,
      "border": null,
      "bottom": null,
      "display": null,
      "flex": null,
      "flex_flow": null,
      "grid_area": null,
      "grid_auto_columns": null,
      "grid_auto_flow": null,
      "grid_auto_rows": null,
      "grid_column": null,
      "grid_gap": null,
      "grid_row": null,
      "grid_template_areas": null,
      "grid_template_columns": null,
      "grid_template_rows": null,
      "height": null,
      "justify_content": null,
      "justify_items": null,
      "left": null,
      "margin": null,
      "max_height": null,
      "max_width": null,
      "min_height": null,
      "min_width": null,
      "object_fit": null,
      "object_position": null,
      "order": null,
      "overflow": null,
      "overflow_x": null,
      "overflow_y": null,
      "padding": null,
      "right": null,
      "top": null,
      "visibility": null,
      "width": null
     }
    },
    "b6221b4c04e64c9da9eb9e11539bac89": {
     "model_module": "@jupyter-widgets/controls",
     "model_name": "HBoxModel",
     "state": {
      "_dom_classes": [],
      "_model_module": "@jupyter-widgets/controls",
      "_model_module_version": "1.5.0",
      "_model_name": "HBoxModel",
      "_view_count": null,
      "_view_module": "@jupyter-widgets/controls",
      "_view_module_version": "1.5.0",
      "_view_name": "HBoxView",
      "box_style": "",
      "children": [
       "IPY_MODEL_02d1f77324854fbca0df9384c57faac8",
       "IPY_MODEL_8e63ba7f1fd24555bf11bc9dbe9c770b"
      ],
      "layout": "IPY_MODEL_dc6862530f6e429ba61a169b4c95722c"
     }
    },
    "b78413dcc0584a0c8f71731a06aaa1b8": {
     "model_module": "@jupyter-widgets/base",
     "model_name": "LayoutModel",
     "state": {
      "_model_module": "@jupyter-widgets/base",
      "_model_module_version": "1.2.0",
      "_model_name": "LayoutModel",
      "_view_count": null,
      "_view_module": "@jupyter-widgets/base",
      "_view_module_version": "1.2.0",
      "_view_name": "LayoutView",
      "align_content": null,
      "align_items": null,
      "align_self": null,
      "border": null,
      "bottom": null,
      "display": null,
      "flex": null,
      "flex_flow": null,
      "grid_area": null,
      "grid_auto_columns": null,
      "grid_auto_flow": null,
      "grid_auto_rows": null,
      "grid_column": null,
      "grid_gap": null,
      "grid_row": null,
      "grid_template_areas": null,
      "grid_template_columns": null,
      "grid_template_rows": null,
      "height": null,
      "justify_content": null,
      "justify_items": null,
      "left": null,
      "margin": null,
      "max_height": null,
      "max_width": null,
      "min_height": null,
      "min_width": null,
      "object_fit": null,
      "object_position": null,
      "order": null,
      "overflow": null,
      "overflow_x": null,
      "overflow_y": null,
      "padding": null,
      "right": null,
      "top": null,
      "visibility": null,
      "width": null
     }
    },
    "b7c43fb5efdd4afbb82c81b923f2815a": {
     "model_module": "@jupyter-widgets/controls",
     "model_name": "HBoxModel",
     "state": {
      "_dom_classes": [],
      "_model_module": "@jupyter-widgets/controls",
      "_model_module_version": "1.5.0",
      "_model_name": "HBoxModel",
      "_view_count": null,
      "_view_module": "@jupyter-widgets/controls",
      "_view_module_version": "1.5.0",
      "_view_name": "HBoxView",
      "box_style": "",
      "children": [
       "IPY_MODEL_8dddd0245dcb4532917cbfa0181d2a00",
       "IPY_MODEL_3bdb4058f40f40e3a10e323325a64638"
      ],
      "layout": "IPY_MODEL_c0a661f20e7e4649a3c8c42a5fd01956"
     }
    },
    "b94e374d92c146009447c3827b977267": {
     "model_module": "@jupyter-widgets/controls",
     "model_name": "FloatProgressModel",
     "state": {
      "_dom_classes": [],
      "_model_module": "@jupyter-widgets/controls",
      "_model_module_version": "1.5.0",
      "_model_name": "FloatProgressModel",
      "_view_count": null,
      "_view_module": "@jupyter-widgets/controls",
      "_view_module_version": "1.5.0",
      "_view_name": "ProgressView",
      "bar_style": "success",
      "description": "100%",
      "description_tooltip": null,
      "layout": "IPY_MODEL_b177a8cb85a24b88ab6d56205b630f1d",
      "max": 3478,
      "min": 0,
      "orientation": "horizontal",
      "style": "IPY_MODEL_4ff7ccffc36a4a0f93031f5cdc3b718d",
      "value": 3478
     }
    },
    "b9c5c6dd54cc4dc5ad5a2bb69a24ab05": {
     "model_module": "@jupyter-widgets/controls",
     "model_name": "ProgressStyleModel",
     "state": {
      "_model_module": "@jupyter-widgets/controls",
      "_model_module_version": "1.5.0",
      "_model_name": "ProgressStyleModel",
      "_view_count": null,
      "_view_module": "@jupyter-widgets/base",
      "_view_module_version": "1.2.0",
      "_view_name": "StyleView",
      "bar_color": null,
      "description_width": "initial"
     }
    },
    "bc41384bbae04044b9780651c6b5a47c": {
     "model_module": "@jupyter-widgets/base",
     "model_name": "LayoutModel",
     "state": {
      "_model_module": "@jupyter-widgets/base",
      "_model_module_version": "1.2.0",
      "_model_name": "LayoutModel",
      "_view_count": null,
      "_view_module": "@jupyter-widgets/base",
      "_view_module_version": "1.2.0",
      "_view_name": "LayoutView",
      "align_content": null,
      "align_items": null,
      "align_self": null,
      "border": null,
      "bottom": null,
      "display": null,
      "flex": null,
      "flex_flow": null,
      "grid_area": null,
      "grid_auto_columns": null,
      "grid_auto_flow": null,
      "grid_auto_rows": null,
      "grid_column": null,
      "grid_gap": null,
      "grid_row": null,
      "grid_template_areas": null,
      "grid_template_columns": null,
      "grid_template_rows": null,
      "height": null,
      "justify_content": null,
      "justify_items": null,
      "left": null,
      "margin": null,
      "max_height": null,
      "max_width": null,
      "min_height": null,
      "min_width": null,
      "object_fit": null,
      "object_position": null,
      "order": null,
      "overflow": null,
      "overflow_x": null,
      "overflow_y": null,
      "padding": null,
      "right": null,
      "top": null,
      "visibility": null,
      "width": null
     }
    },
    "bd0958ea97b141b1aca367c71721c549": {
     "model_module": "@jupyter-widgets/controls",
     "model_name": "HBoxModel",
     "state": {
      "_dom_classes": [],
      "_model_module": "@jupyter-widgets/controls",
      "_model_module_version": "1.5.0",
      "_model_name": "HBoxModel",
      "_view_count": null,
      "_view_module": "@jupyter-widgets/controls",
      "_view_module_version": "1.5.0",
      "_view_name": "HBoxView",
      "box_style": "",
      "children": [
       "IPY_MODEL_d080668299ef42fabb8ab6fbcf329cea",
       "IPY_MODEL_aafd4b2c56db43378c4627797665db17"
      ],
      "layout": "IPY_MODEL_0354ab33471e4c34a0c1b3c062bcd6bb"
     }
    },
    "bd187486ac2548f2961cfcb63d852de1": {
     "model_module": "@jupyter-widgets/controls",
     "model_name": "FloatProgressModel",
     "state": {
      "_dom_classes": [],
      "_model_module": "@jupyter-widgets/controls",
      "_model_module_version": "1.5.0",
      "_model_name": "FloatProgressModel",
      "_view_count": null,
      "_view_module": "@jupyter-widgets/controls",
      "_view_module_version": "1.5.0",
      "_view_name": "ProgressView",
      "bar_style": "success",
      "description": "#1: 100%",
      "description_tooltip": null,
      "layout": "IPY_MODEL_58f3e8002f984594ac05c973aa78ef69",
      "max": 52,
      "min": 0,
      "orientation": "horizontal",
      "style": "IPY_MODEL_231c66f195d34f86b216805518f4bccd",
      "value": 52
     }
    },
    "bd3447291ce54812af10ac6245ea4328": {
     "model_module": "@jupyter-widgets/base",
     "model_name": "LayoutModel",
     "state": {
      "_model_module": "@jupyter-widgets/base",
      "_model_module_version": "1.2.0",
      "_model_name": "LayoutModel",
      "_view_count": null,
      "_view_module": "@jupyter-widgets/base",
      "_view_module_version": "1.2.0",
      "_view_name": "LayoutView",
      "align_content": null,
      "align_items": null,
      "align_self": null,
      "border": null,
      "bottom": null,
      "display": null,
      "flex": null,
      "flex_flow": null,
      "grid_area": null,
      "grid_auto_columns": null,
      "grid_auto_flow": null,
      "grid_auto_rows": null,
      "grid_column": null,
      "grid_gap": null,
      "grid_row": null,
      "grid_template_areas": null,
      "grid_template_columns": null,
      "grid_template_rows": null,
      "height": null,
      "justify_content": null,
      "justify_items": null,
      "left": null,
      "margin": null,
      "max_height": null,
      "max_width": null,
      "min_height": null,
      "min_width": null,
      "object_fit": null,
      "object_position": null,
      "order": null,
      "overflow": null,
      "overflow_x": null,
      "overflow_y": null,
      "padding": null,
      "right": null,
      "top": null,
      "visibility": null,
      "width": null
     }
    },
    "beca070c32124a119a08cb21c2ca95e5": {
     "model_module": "@jupyter-widgets/controls",
     "model_name": "ProgressStyleModel",
     "state": {
      "_model_module": "@jupyter-widgets/controls",
      "_model_module_version": "1.5.0",
      "_model_name": "ProgressStyleModel",
      "_view_count": null,
      "_view_module": "@jupyter-widgets/base",
      "_view_module_version": "1.2.0",
      "_view_name": "StyleView",
      "bar_color": null,
      "description_width": "initial"
     }
    },
    "bee0f50055eb4f738636142a10da0ddd": {
     "model_module": "@jupyter-widgets/base",
     "model_name": "LayoutModel",
     "state": {
      "_model_module": "@jupyter-widgets/base",
      "_model_module_version": "1.2.0",
      "_model_name": "LayoutModel",
      "_view_count": null,
      "_view_module": "@jupyter-widgets/base",
      "_view_module_version": "1.2.0",
      "_view_name": "LayoutView",
      "align_content": null,
      "align_items": null,
      "align_self": null,
      "border": null,
      "bottom": null,
      "display": null,
      "flex": null,
      "flex_flow": null,
      "grid_area": null,
      "grid_auto_columns": null,
      "grid_auto_flow": null,
      "grid_auto_rows": null,
      "grid_column": null,
      "grid_gap": null,
      "grid_row": null,
      "grid_template_areas": null,
      "grid_template_columns": null,
      "grid_template_rows": null,
      "height": null,
      "justify_content": null,
      "justify_items": null,
      "left": null,
      "margin": null,
      "max_height": null,
      "max_width": null,
      "min_height": null,
      "min_width": null,
      "object_fit": null,
      "object_position": null,
      "order": null,
      "overflow": null,
      "overflow_x": null,
      "overflow_y": null,
      "padding": null,
      "right": null,
      "top": null,
      "visibility": null,
      "width": null
     }
    },
    "bf9e57d81135412d9a9a2281f28bd52a": {
     "model_module": "@jupyter-widgets/controls",
     "model_name": "HBoxModel",
     "state": {
      "_dom_classes": [],
      "_model_module": "@jupyter-widgets/controls",
      "_model_module_version": "1.5.0",
      "_model_name": "HBoxModel",
      "_view_count": null,
      "_view_module": "@jupyter-widgets/controls",
      "_view_module_version": "1.5.0",
      "_view_name": "HBoxView",
      "box_style": "",
      "children": [
       "IPY_MODEL_579b6055028f473981ce789a0733a753",
       "IPY_MODEL_4fb7347e9ca542e6ab9003bf4db218e0"
      ],
      "layout": "IPY_MODEL_c41610c0baef412984f8661d96e08b7e"
     }
    },
    "c01aca3229a24d41841be2b4a3a65bcc": {
     "model_module": "@jupyter-widgets/controls",
     "model_name": "ProgressStyleModel",
     "state": {
      "_model_module": "@jupyter-widgets/controls",
      "_model_module_version": "1.5.0",
      "_model_name": "ProgressStyleModel",
      "_view_count": null,
      "_view_module": "@jupyter-widgets/base",
      "_view_module_version": "1.2.0",
      "_view_name": "StyleView",
      "bar_color": null,
      "description_width": "initial"
     }
    },
    "c0a661f20e7e4649a3c8c42a5fd01956": {
     "model_module": "@jupyter-widgets/base",
     "model_name": "LayoutModel",
     "state": {
      "_model_module": "@jupyter-widgets/base",
      "_model_module_version": "1.2.0",
      "_model_name": "LayoutModel",
      "_view_count": null,
      "_view_module": "@jupyter-widgets/base",
      "_view_module_version": "1.2.0",
      "_view_name": "LayoutView",
      "align_content": null,
      "align_items": null,
      "align_self": null,
      "border": null,
      "bottom": null,
      "display": null,
      "flex": null,
      "flex_flow": null,
      "grid_area": null,
      "grid_auto_columns": null,
      "grid_auto_flow": null,
      "grid_auto_rows": null,
      "grid_column": null,
      "grid_gap": null,
      "grid_row": null,
      "grid_template_areas": null,
      "grid_template_columns": null,
      "grid_template_rows": null,
      "height": null,
      "justify_content": null,
      "justify_items": null,
      "left": null,
      "margin": null,
      "max_height": null,
      "max_width": null,
      "min_height": null,
      "min_width": null,
      "object_fit": null,
      "object_position": null,
      "order": null,
      "overflow": null,
      "overflow_x": null,
      "overflow_y": null,
      "padding": null,
      "right": null,
      "top": null,
      "visibility": null,
      "width": null
     }
    },
    "c0e6b6e6395d4dbd827eb1c0de1ad21a": {
     "model_module": "@jupyter-widgets/base",
     "model_name": "LayoutModel",
     "state": {
      "_model_module": "@jupyter-widgets/base",
      "_model_module_version": "1.2.0",
      "_model_name": "LayoutModel",
      "_view_count": null,
      "_view_module": "@jupyter-widgets/base",
      "_view_module_version": "1.2.0",
      "_view_name": "LayoutView",
      "align_content": null,
      "align_items": null,
      "align_self": null,
      "border": null,
      "bottom": null,
      "display": null,
      "flex": null,
      "flex_flow": null,
      "grid_area": null,
      "grid_auto_columns": null,
      "grid_auto_flow": null,
      "grid_auto_rows": null,
      "grid_column": null,
      "grid_gap": null,
      "grid_row": null,
      "grid_template_areas": null,
      "grid_template_columns": null,
      "grid_template_rows": null,
      "height": null,
      "justify_content": null,
      "justify_items": null,
      "left": null,
      "margin": null,
      "max_height": null,
      "max_width": null,
      "min_height": null,
      "min_width": null,
      "object_fit": null,
      "object_position": null,
      "order": null,
      "overflow": null,
      "overflow_x": null,
      "overflow_y": null,
      "padding": null,
      "right": null,
      "top": null,
      "visibility": null,
      "width": null
     }
    },
    "c126ea97019149848396e593cfab016f": {
     "model_module": "@jupyter-widgets/base",
     "model_name": "LayoutModel",
     "state": {
      "_model_module": "@jupyter-widgets/base",
      "_model_module_version": "1.2.0",
      "_model_name": "LayoutModel",
      "_view_count": null,
      "_view_module": "@jupyter-widgets/base",
      "_view_module_version": "1.2.0",
      "_view_name": "LayoutView",
      "align_content": null,
      "align_items": null,
      "align_self": null,
      "border": null,
      "bottom": null,
      "display": null,
      "flex": null,
      "flex_flow": null,
      "grid_area": null,
      "grid_auto_columns": null,
      "grid_auto_flow": null,
      "grid_auto_rows": null,
      "grid_column": null,
      "grid_gap": null,
      "grid_row": null,
      "grid_template_areas": null,
      "grid_template_columns": null,
      "grid_template_rows": null,
      "height": null,
      "justify_content": null,
      "justify_items": null,
      "left": null,
      "margin": null,
      "max_height": null,
      "max_width": null,
      "min_height": null,
      "min_width": null,
      "object_fit": null,
      "object_position": null,
      "order": null,
      "overflow": null,
      "overflow_x": null,
      "overflow_y": null,
      "padding": null,
      "right": null,
      "top": null,
      "visibility": null,
      "width": null
     }
    },
    "c41610c0baef412984f8661d96e08b7e": {
     "model_module": "@jupyter-widgets/base",
     "model_name": "LayoutModel",
     "state": {
      "_model_module": "@jupyter-widgets/base",
      "_model_module_version": "1.2.0",
      "_model_name": "LayoutModel",
      "_view_count": null,
      "_view_module": "@jupyter-widgets/base",
      "_view_module_version": "1.2.0",
      "_view_name": "LayoutView",
      "align_content": null,
      "align_items": null,
      "align_self": null,
      "border": null,
      "bottom": null,
      "display": null,
      "flex": null,
      "flex_flow": null,
      "grid_area": null,
      "grid_auto_columns": null,
      "grid_auto_flow": null,
      "grid_auto_rows": null,
      "grid_column": null,
      "grid_gap": null,
      "grid_row": null,
      "grid_template_areas": null,
      "grid_template_columns": null,
      "grid_template_rows": null,
      "height": null,
      "justify_content": null,
      "justify_items": null,
      "left": null,
      "margin": null,
      "max_height": null,
      "max_width": null,
      "min_height": null,
      "min_width": null,
      "object_fit": null,
      "object_position": null,
      "order": null,
      "overflow": null,
      "overflow_x": null,
      "overflow_y": null,
      "padding": null,
      "right": null,
      "top": null,
      "visibility": null,
      "width": null
     }
    },
    "c546bca23ee248a1be7bd8ead3e82a8f": {
     "model_module": "@jupyter-widgets/controls",
     "model_name": "ProgressStyleModel",
     "state": {
      "_model_module": "@jupyter-widgets/controls",
      "_model_module_version": "1.5.0",
      "_model_name": "ProgressStyleModel",
      "_view_count": null,
      "_view_module": "@jupyter-widgets/base",
      "_view_module_version": "1.2.0",
      "_view_name": "StyleView",
      "bar_color": null,
      "description_width": "initial"
     }
    },
    "c8fdf261ac294093a355778a3a4aba3b": {
     "model_module": "@jupyter-widgets/controls",
     "model_name": "ProgressStyleModel",
     "state": {
      "_model_module": "@jupyter-widgets/controls",
      "_model_module_version": "1.5.0",
      "_model_name": "ProgressStyleModel",
      "_view_count": null,
      "_view_module": "@jupyter-widgets/base",
      "_view_module_version": "1.2.0",
      "_view_name": "StyleView",
      "bar_color": null,
      "description_width": "initial"
     }
    },
    "c9dc4421940241c59f1151aeabedc98b": {
     "model_module": "@jupyter-widgets/base",
     "model_name": "LayoutModel",
     "state": {
      "_model_module": "@jupyter-widgets/base",
      "_model_module_version": "1.2.0",
      "_model_name": "LayoutModel",
      "_view_count": null,
      "_view_module": "@jupyter-widgets/base",
      "_view_module_version": "1.2.0",
      "_view_name": "LayoutView",
      "align_content": null,
      "align_items": null,
      "align_self": null,
      "border": null,
      "bottom": null,
      "display": null,
      "flex": null,
      "flex_flow": null,
      "grid_area": null,
      "grid_auto_columns": null,
      "grid_auto_flow": null,
      "grid_auto_rows": null,
      "grid_column": null,
      "grid_gap": null,
      "grid_row": null,
      "grid_template_areas": null,
      "grid_template_columns": null,
      "grid_template_rows": null,
      "height": null,
      "justify_content": null,
      "justify_items": null,
      "left": null,
      "margin": null,
      "max_height": null,
      "max_width": null,
      "min_height": null,
      "min_width": null,
      "object_fit": null,
      "object_position": null,
      "order": null,
      "overflow": null,
      "overflow_x": null,
      "overflow_y": null,
      "padding": null,
      "right": null,
      "top": null,
      "visibility": null,
      "width": null
     }
    },
    "cb5666eb8ebb4d1392e98d6b5af8761c": {
     "model_module": "@jupyter-widgets/controls",
     "model_name": "DescriptionStyleModel",
     "state": {
      "_model_module": "@jupyter-widgets/controls",
      "_model_module_version": "1.5.0",
      "_model_name": "DescriptionStyleModel",
      "_view_count": null,
      "_view_module": "@jupyter-widgets/base",
      "_view_module_version": "1.2.0",
      "_view_name": "StyleView",
      "description_width": ""
     }
    },
    "cc9c1e00c2d34516b8fd9edff96bb0d8": {
     "model_module": "@jupyter-widgets/controls",
     "model_name": "HBoxModel",
     "state": {
      "_dom_classes": [],
      "_model_module": "@jupyter-widgets/controls",
      "_model_module_version": "1.5.0",
      "_model_name": "HBoxModel",
      "_view_count": null,
      "_view_module": "@jupyter-widgets/controls",
      "_view_module_version": "1.5.0",
      "_view_name": "HBoxView",
      "box_style": "",
      "children": [
       "IPY_MODEL_33c92b5afd1d4b6d88016aabfb434194",
       "IPY_MODEL_998676d59f9c464e8463d65baad6448b"
      ],
      "layout": "IPY_MODEL_6abfbe44a1bd4518b41f5f53f920e936"
     }
    },
    "ccb720bf256e42f7b0251494ccb7741f": {
     "model_module": "@jupyter-widgets/controls",
     "model_name": "DescriptionStyleModel",
     "state": {
      "_model_module": "@jupyter-widgets/controls",
      "_model_module_version": "1.5.0",
      "_model_name": "DescriptionStyleModel",
      "_view_count": null,
      "_view_module": "@jupyter-widgets/base",
      "_view_module_version": "1.2.0",
      "_view_name": "StyleView",
      "description_width": ""
     }
    },
    "ce337f50183942e6a74ca1b33735ade9": {
     "model_module": "@jupyter-widgets/controls",
     "model_name": "HTMLModel",
     "state": {
      "_dom_classes": [],
      "_model_module": "@jupyter-widgets/controls",
      "_model_module_version": "1.5.0",
      "_model_name": "HTMLModel",
      "_view_count": null,
      "_view_module": "@jupyter-widgets/controls",
      "_view_module_version": "1.5.0",
      "_view_name": "HTMLView",
      "description": "",
      "description_tooltip": null,
      "layout": "IPY_MODEL_e9a702f10538415b970ea1345804d72c",
      "placeholder": "​",
      "style": "IPY_MODEL_9532db4cdc5e4371a4a02055a4c67a08",
      "value": " 23.0k/? [00:00&lt;00:00, 72.2kB/s]"
     }
    },
    "ceb44ba4fdf34da19a52469acf1ce63f": {
     "model_module": "@jupyter-widgets/base",
     "model_name": "LayoutModel",
     "state": {
      "_model_module": "@jupyter-widgets/base",
      "_model_module_version": "1.2.0",
      "_model_name": "LayoutModel",
      "_view_count": null,
      "_view_module": "@jupyter-widgets/base",
      "_view_module_version": "1.2.0",
      "_view_name": "LayoutView",
      "align_content": null,
      "align_items": null,
      "align_self": null,
      "border": null,
      "bottom": null,
      "display": null,
      "flex": null,
      "flex_flow": null,
      "grid_area": null,
      "grid_auto_columns": null,
      "grid_auto_flow": null,
      "grid_auto_rows": null,
      "grid_column": null,
      "grid_gap": null,
      "grid_row": null,
      "grid_template_areas": null,
      "grid_template_columns": null,
      "grid_template_rows": null,
      "height": null,
      "justify_content": null,
      "justify_items": null,
      "left": null,
      "margin": null,
      "max_height": null,
      "max_width": null,
      "min_height": null,
      "min_width": null,
      "object_fit": null,
      "object_position": null,
      "order": null,
      "overflow": null,
      "overflow_x": null,
      "overflow_y": null,
      "padding": null,
      "right": null,
      "top": null,
      "visibility": null,
      "width": null
     }
    },
    "d080668299ef42fabb8ab6fbcf329cea": {
     "model_module": "@jupyter-widgets/controls",
     "model_name": "FloatProgressModel",
     "state": {
      "_dom_classes": [],
      "_model_module": "@jupyter-widgets/controls",
      "_model_module_version": "1.5.0",
      "_model_name": "FloatProgressModel",
      "_view_count": null,
      "_view_module": "@jupyter-widgets/controls",
      "_view_module_version": "1.5.0",
      "_view_name": "ProgressView",
      "bar_style": "success",
      "description": "100%",
      "description_tooltip": null,
      "layout": "IPY_MODEL_f972527479e74337a98f236ed018ae1d",
      "max": 1,
      "min": 0,
      "orientation": "horizontal",
      "style": "IPY_MODEL_b0f3a205ad4546188fc6e7e7cf96ab32",
      "value": 1
     }
    },
    "d35c15beeb33476894b07c3563f8facd": {
     "model_module": "@jupyter-widgets/controls",
     "model_name": "DescriptionStyleModel",
     "state": {
      "_model_module": "@jupyter-widgets/controls",
      "_model_module_version": "1.5.0",
      "_model_name": "DescriptionStyleModel",
      "_view_count": null,
      "_view_module": "@jupyter-widgets/base",
      "_view_module_version": "1.2.0",
      "_view_name": "StyleView",
      "description_width": ""
     }
    },
    "d362345c05234c97a675c6bacdad0e92": {
     "model_module": "@jupyter-widgets/controls",
     "model_name": "DescriptionStyleModel",
     "state": {
      "_model_module": "@jupyter-widgets/controls",
      "_model_module_version": "1.5.0",
      "_model_name": "DescriptionStyleModel",
      "_view_count": null,
      "_view_module": "@jupyter-widgets/base",
      "_view_module_version": "1.2.0",
      "_view_name": "StyleView",
      "description_width": ""
     }
    },
    "d453bd4a35e54bfba20dac1fe86c60c1": {
     "model_module": "@jupyter-widgets/base",
     "model_name": "LayoutModel",
     "state": {
      "_model_module": "@jupyter-widgets/base",
      "_model_module_version": "1.2.0",
      "_model_name": "LayoutModel",
      "_view_count": null,
      "_view_module": "@jupyter-widgets/base",
      "_view_module_version": "1.2.0",
      "_view_name": "LayoutView",
      "align_content": null,
      "align_items": null,
      "align_self": null,
      "border": null,
      "bottom": null,
      "display": null,
      "flex": null,
      "flex_flow": null,
      "grid_area": null,
      "grid_auto_columns": null,
      "grid_auto_flow": null,
      "grid_auto_rows": null,
      "grid_column": null,
      "grid_gap": null,
      "grid_row": null,
      "grid_template_areas": null,
      "grid_template_columns": null,
      "grid_template_rows": null,
      "height": null,
      "justify_content": null,
      "justify_items": null,
      "left": null,
      "margin": null,
      "max_height": null,
      "max_width": null,
      "min_height": null,
      "min_width": null,
      "object_fit": null,
      "object_position": null,
      "order": null,
      "overflow": null,
      "overflow_x": null,
      "overflow_y": null,
      "padding": null,
      "right": null,
      "top": null,
      "visibility": null,
      "width": null
     }
    },
    "d4a3f79644fc41848450ba29e6fdfc3d": {
     "model_module": "@jupyter-widgets/base",
     "model_name": "LayoutModel",
     "state": {
      "_model_module": "@jupyter-widgets/base",
      "_model_module_version": "1.2.0",
      "_model_name": "LayoutModel",
      "_view_count": null,
      "_view_module": "@jupyter-widgets/base",
      "_view_module_version": "1.2.0",
      "_view_name": "LayoutView",
      "align_content": null,
      "align_items": null,
      "align_self": null,
      "border": null,
      "bottom": null,
      "display": null,
      "flex": null,
      "flex_flow": null,
      "grid_area": null,
      "grid_auto_columns": null,
      "grid_auto_flow": null,
      "grid_auto_rows": null,
      "grid_column": null,
      "grid_gap": null,
      "grid_row": null,
      "grid_template_areas": null,
      "grid_template_columns": null,
      "grid_template_rows": null,
      "height": null,
      "justify_content": null,
      "justify_items": null,
      "left": null,
      "margin": null,
      "max_height": null,
      "max_width": null,
      "min_height": null,
      "min_width": null,
      "object_fit": null,
      "object_position": null,
      "order": null,
      "overflow": null,
      "overflow_x": null,
      "overflow_y": null,
      "padding": null,
      "right": null,
      "top": null,
      "visibility": null,
      "width": null
     }
    },
    "d5fb02debe4347e781543a996ce39be3": {
     "model_module": "@jupyter-widgets/controls",
     "model_name": "HBoxModel",
     "state": {
      "_dom_classes": [],
      "_model_module": "@jupyter-widgets/controls",
      "_model_module_version": "1.5.0",
      "_model_name": "HBoxModel",
      "_view_count": null,
      "_view_module": "@jupyter-widgets/controls",
      "_view_module_version": "1.5.0",
      "_view_name": "HBoxView",
      "box_style": "",
      "children": [
       "IPY_MODEL_8e1a85a4a6214a16b7431da23a301ada",
       "IPY_MODEL_57198e3250374e1fa64c5a4be255861e"
      ],
      "layout": "IPY_MODEL_da12267c52144292adb9896249d61a6a"
     }
    },
    "d649c0f9c1c24634a84b7ef697721ffa": {
     "model_module": "@jupyter-widgets/base",
     "model_name": "LayoutModel",
     "state": {
      "_model_module": "@jupyter-widgets/base",
      "_model_module_version": "1.2.0",
      "_model_name": "LayoutModel",
      "_view_count": null,
      "_view_module": "@jupyter-widgets/base",
      "_view_module_version": "1.2.0",
      "_view_name": "LayoutView",
      "align_content": null,
      "align_items": null,
      "align_self": null,
      "border": null,
      "bottom": null,
      "display": null,
      "flex": null,
      "flex_flow": null,
      "grid_area": null,
      "grid_auto_columns": null,
      "grid_auto_flow": null,
      "grid_auto_rows": null,
      "grid_column": null,
      "grid_gap": null,
      "grid_row": null,
      "grid_template_areas": null,
      "grid_template_columns": null,
      "grid_template_rows": null,
      "height": null,
      "justify_content": null,
      "justify_items": null,
      "left": null,
      "margin": null,
      "max_height": null,
      "max_width": null,
      "min_height": null,
      "min_width": null,
      "object_fit": null,
      "object_position": null,
      "order": null,
      "overflow": null,
      "overflow_x": null,
      "overflow_y": null,
      "padding": null,
      "right": null,
      "top": null,
      "visibility": null,
      "width": null
     }
    },
    "d69468d63dd74fdd807fe061b92aa84e": {
     "model_module": "@jupyter-widgets/controls",
     "model_name": "HTMLModel",
     "state": {
      "_dom_classes": [],
      "_model_module": "@jupyter-widgets/controls",
      "_model_module_version": "1.5.0",
      "_model_name": "HTMLModel",
      "_view_count": null,
      "_view_module": "@jupyter-widgets/controls",
      "_view_module_version": "1.5.0",
      "_view_name": "HTMLView",
      "description": "",
      "description_tooltip": null,
      "layout": "IPY_MODEL_84e7f0001ebe458dad3c96e7e9a38cdc",
      "placeholder": "​",
      "style": "IPY_MODEL_7f5203fde6b64bf7ad53d6ecd3041bfc",
      "value": " 869/869 [05:47&lt;00:00,  2.50ex/s]"
     }
    },
    "d7f27e9cf8a844349ca90393e0c49a03": {
     "model_module": "@jupyter-widgets/base",
     "model_name": "LayoutModel",
     "state": {
      "_model_module": "@jupyter-widgets/base",
      "_model_module_version": "1.2.0",
      "_model_name": "LayoutModel",
      "_view_count": null,
      "_view_module": "@jupyter-widgets/base",
      "_view_module_version": "1.2.0",
      "_view_name": "LayoutView",
      "align_content": null,
      "align_items": null,
      "align_self": null,
      "border": null,
      "bottom": null,
      "display": null,
      "flex": null,
      "flex_flow": null,
      "grid_area": null,
      "grid_auto_columns": null,
      "grid_auto_flow": null,
      "grid_auto_rows": null,
      "grid_column": null,
      "grid_gap": null,
      "grid_row": null,
      "grid_template_areas": null,
      "grid_template_columns": null,
      "grid_template_rows": null,
      "height": null,
      "justify_content": null,
      "justify_items": null,
      "left": null,
      "margin": null,
      "max_height": null,
      "max_width": null,
      "min_height": null,
      "min_width": null,
      "object_fit": null,
      "object_position": null,
      "order": null,
      "overflow": null,
      "overflow_x": null,
      "overflow_y": null,
      "padding": null,
      "right": null,
      "top": null,
      "visibility": null,
      "width": null
     }
    },
    "d96e01ad62c342cdb7d9b1eceb39afa3": {
     "model_module": "@jupyter-widgets/controls",
     "model_name": "HBoxModel",
     "state": {
      "_dom_classes": [],
      "_model_module": "@jupyter-widgets/controls",
      "_model_module_version": "1.5.0",
      "_model_name": "HBoxModel",
      "_view_count": null,
      "_view_module": "@jupyter-widgets/controls",
      "_view_module_version": "1.5.0",
      "_view_name": "HBoxView",
      "box_style": "",
      "children": [
       "IPY_MODEL_e6178f7b148c4bf39f2826f208e0cc64",
       "IPY_MODEL_f78ff14b9c8f46448ed1ecb3fe1f5e0b"
      ],
      "layout": "IPY_MODEL_e6ce9330460d4a0fb67cc493ca74ae96"
     }
    },
    "da12267c52144292adb9896249d61a6a": {
     "model_module": "@jupyter-widgets/base",
     "model_name": "LayoutModel",
     "state": {
      "_model_module": "@jupyter-widgets/base",
      "_model_module_version": "1.2.0",
      "_model_name": "LayoutModel",
      "_view_count": null,
      "_view_module": "@jupyter-widgets/base",
      "_view_module_version": "1.2.0",
      "_view_name": "LayoutView",
      "align_content": null,
      "align_items": null,
      "align_self": null,
      "border": null,
      "bottom": null,
      "display": null,
      "flex": null,
      "flex_flow": null,
      "grid_area": null,
      "grid_auto_columns": null,
      "grid_auto_flow": null,
      "grid_auto_rows": null,
      "grid_column": null,
      "grid_gap": null,
      "grid_row": null,
      "grid_template_areas": null,
      "grid_template_columns": null,
      "grid_template_rows": null,
      "height": null,
      "justify_content": null,
      "justify_items": null,
      "left": null,
      "margin": null,
      "max_height": null,
      "max_width": null,
      "min_height": null,
      "min_width": null,
      "object_fit": null,
      "object_position": null,
      "order": null,
      "overflow": null,
      "overflow_x": null,
      "overflow_y": null,
      "padding": null,
      "right": null,
      "top": null,
      "visibility": null,
      "width": null
     }
    },
    "da1ff50f8b9241108a325ada04224642": {
     "model_module": "@jupyter-widgets/controls",
     "model_name": "ProgressStyleModel",
     "state": {
      "_model_module": "@jupyter-widgets/controls",
      "_model_module_version": "1.5.0",
      "_model_name": "ProgressStyleModel",
      "_view_count": null,
      "_view_module": "@jupyter-widgets/base",
      "_view_module_version": "1.2.0",
      "_view_name": "StyleView",
      "bar_color": null,
      "description_width": "initial"
     }
    },
    "db71db50799c404aafa4a54de8b9b799": {
     "model_module": "@jupyter-widgets/base",
     "model_name": "LayoutModel",
     "state": {
      "_model_module": "@jupyter-widgets/base",
      "_model_module_version": "1.2.0",
      "_model_name": "LayoutModel",
      "_view_count": null,
      "_view_module": "@jupyter-widgets/base",
      "_view_module_version": "1.2.0",
      "_view_name": "LayoutView",
      "align_content": null,
      "align_items": null,
      "align_self": null,
      "border": null,
      "bottom": null,
      "display": null,
      "flex": null,
      "flex_flow": null,
      "grid_area": null,
      "grid_auto_columns": null,
      "grid_auto_flow": null,
      "grid_auto_rows": null,
      "grid_column": null,
      "grid_gap": null,
      "grid_row": null,
      "grid_template_areas": null,
      "grid_template_columns": null,
      "grid_template_rows": null,
      "height": null,
      "justify_content": null,
      "justify_items": null,
      "left": null,
      "margin": null,
      "max_height": null,
      "max_width": null,
      "min_height": null,
      "min_width": null,
      "object_fit": null,
      "object_position": null,
      "order": null,
      "overflow": null,
      "overflow_x": null,
      "overflow_y": null,
      "padding": null,
      "right": null,
      "top": null,
      "visibility": null,
      "width": null
     }
    },
    "dc6862530f6e429ba61a169b4c95722c": {
     "model_module": "@jupyter-widgets/base",
     "model_name": "LayoutModel",
     "state": {
      "_model_module": "@jupyter-widgets/base",
      "_model_module_version": "1.2.0",
      "_model_name": "LayoutModel",
      "_view_count": null,
      "_view_module": "@jupyter-widgets/base",
      "_view_module_version": "1.2.0",
      "_view_name": "LayoutView",
      "align_content": null,
      "align_items": null,
      "align_self": null,
      "border": null,
      "bottom": null,
      "display": null,
      "flex": null,
      "flex_flow": null,
      "grid_area": null,
      "grid_auto_columns": null,
      "grid_auto_flow": null,
      "grid_auto_rows": null,
      "grid_column": null,
      "grid_gap": null,
      "grid_row": null,
      "grid_template_areas": null,
      "grid_template_columns": null,
      "grid_template_rows": null,
      "height": null,
      "justify_content": null,
      "justify_items": null,
      "left": null,
      "margin": null,
      "max_height": null,
      "max_width": null,
      "min_height": null,
      "min_width": null,
      "object_fit": null,
      "object_position": null,
      "order": null,
      "overflow": null,
      "overflow_x": null,
      "overflow_y": null,
      "padding": null,
      "right": null,
      "top": null,
      "visibility": null,
      "width": null
     }
    },
    "dde7ae43ef954ef1b901c80f0a4e11fd": {
     "model_module": "@jupyter-widgets/base",
     "model_name": "LayoutModel",
     "state": {
      "_model_module": "@jupyter-widgets/base",
      "_model_module_version": "1.2.0",
      "_model_name": "LayoutModel",
      "_view_count": null,
      "_view_module": "@jupyter-widgets/base",
      "_view_module_version": "1.2.0",
      "_view_name": "LayoutView",
      "align_content": null,
      "align_items": null,
      "align_self": null,
      "border": null,
      "bottom": null,
      "display": null,
      "flex": null,
      "flex_flow": null,
      "grid_area": null,
      "grid_auto_columns": null,
      "grid_auto_flow": null,
      "grid_auto_rows": null,
      "grid_column": null,
      "grid_gap": null,
      "grid_row": null,
      "grid_template_areas": null,
      "grid_template_columns": null,
      "grid_template_rows": null,
      "height": null,
      "justify_content": null,
      "justify_items": null,
      "left": null,
      "margin": null,
      "max_height": null,
      "max_width": null,
      "min_height": null,
      "min_width": null,
      "object_fit": null,
      "object_position": null,
      "order": null,
      "overflow": null,
      "overflow_x": null,
      "overflow_y": null,
      "padding": null,
      "right": null,
      "top": null,
      "visibility": null,
      "width": null
     }
    },
    "dec796237765477ea904834d9a824b61": {
     "model_module": "@jupyter-widgets/base",
     "model_name": "LayoutModel",
     "state": {
      "_model_module": "@jupyter-widgets/base",
      "_model_module_version": "1.2.0",
      "_model_name": "LayoutModel",
      "_view_count": null,
      "_view_module": "@jupyter-widgets/base",
      "_view_module_version": "1.2.0",
      "_view_name": "LayoutView",
      "align_content": null,
      "align_items": null,
      "align_self": null,
      "border": null,
      "bottom": null,
      "display": null,
      "flex": null,
      "flex_flow": null,
      "grid_area": null,
      "grid_auto_columns": null,
      "grid_auto_flow": null,
      "grid_auto_rows": null,
      "grid_column": null,
      "grid_gap": null,
      "grid_row": null,
      "grid_template_areas": null,
      "grid_template_columns": null,
      "grid_template_rows": null,
      "height": null,
      "justify_content": null,
      "justify_items": null,
      "left": null,
      "margin": null,
      "max_height": null,
      "max_width": null,
      "min_height": null,
      "min_width": null,
      "object_fit": null,
      "object_position": null,
      "order": null,
      "overflow": null,
      "overflow_x": null,
      "overflow_y": null,
      "padding": null,
      "right": null,
      "top": null,
      "visibility": null,
      "width": null
     }
    },
    "def702d8f8354fa4999587a5c68d0034": {
     "model_module": "@jupyter-widgets/controls",
     "model_name": "HBoxModel",
     "state": {
      "_dom_classes": [],
      "_model_module": "@jupyter-widgets/controls",
      "_model_module_version": "1.5.0",
      "_model_name": "HBoxModel",
      "_view_count": null,
      "_view_module": "@jupyter-widgets/controls",
      "_view_module_version": "1.5.0",
      "_view_name": "HBoxView",
      "box_style": "",
      "children": [
       "IPY_MODEL_edf36819322e4f9fa227a11592fef429",
       "IPY_MODEL_ce337f50183942e6a74ca1b33735ade9"
      ],
      "layout": "IPY_MODEL_2fd148d5587b4139919b0158f9dad71e"
     }
    },
    "e273548a15aa4d4994132b317adb66fc": {
     "model_module": "@jupyter-widgets/controls",
     "model_name": "FloatProgressModel",
     "state": {
      "_dom_classes": [],
      "_model_module": "@jupyter-widgets/controls",
      "_model_module_version": "1.5.0",
      "_model_name": "FloatProgressModel",
      "_view_count": null,
      "_view_module": "@jupyter-widgets/controls",
      "_view_module_version": "1.5.0",
      "_view_name": "ProgressView",
      "bar_style": "success",
      "description": "#0: 100%",
      "description_tooltip": null,
      "layout": "IPY_MODEL_80697300a4394b909f1c499ba80aeb13",
      "max": 52,
      "min": 0,
      "orientation": "horizontal",
      "style": "IPY_MODEL_7d62810674c8482abe46c60fc08884b4",
      "value": 52
     }
    },
    "e3b719c0ffcc4fd1b410ffb7f969b7a5": {
     "model_module": "@jupyter-widgets/controls",
     "model_name": "HTMLModel",
     "state": {
      "_dom_classes": [],
      "_model_module": "@jupyter-widgets/controls",
      "_model_module_version": "1.5.0",
      "_model_name": "HTMLModel",
      "_view_count": null,
      "_view_module": "@jupyter-widgets/controls",
      "_view_module_version": "1.5.0",
      "_view_name": "HTMLView",
      "description": "",
      "description_tooltip": null,
      "layout": "IPY_MODEL_c9dc4421940241c59f1151aeabedc98b",
      "placeholder": "​",
      "style": "IPY_MODEL_19e263785ea343ba99ee2127d9b83d1d",
      "value": " 1831/0 [00:04&lt;00:00,  4.82s/ examples]"
     }
    },
    "e51b5fd9d5a6416d986fac1526d1666f": {
     "model_module": "@jupyter-widgets/base",
     "model_name": "LayoutModel",
     "state": {
      "_model_module": "@jupyter-widgets/base",
      "_model_module_version": "1.2.0",
      "_model_name": "LayoutModel",
      "_view_count": null,
      "_view_module": "@jupyter-widgets/base",
      "_view_module_version": "1.2.0",
      "_view_name": "LayoutView",
      "align_content": null,
      "align_items": null,
      "align_self": null,
      "border": null,
      "bottom": null,
      "display": null,
      "flex": null,
      "flex_flow": null,
      "grid_area": null,
      "grid_auto_columns": null,
      "grid_auto_flow": null,
      "grid_auto_rows": null,
      "grid_column": null,
      "grid_gap": null,
      "grid_row": null,
      "grid_template_areas": null,
      "grid_template_columns": null,
      "grid_template_rows": null,
      "height": null,
      "justify_content": null,
      "justify_items": null,
      "left": null,
      "margin": null,
      "max_height": null,
      "max_width": null,
      "min_height": null,
      "min_width": null,
      "object_fit": null,
      "object_position": null,
      "order": null,
      "overflow": null,
      "overflow_x": null,
      "overflow_y": null,
      "padding": null,
      "right": null,
      "top": null,
      "visibility": null,
      "width": null
     }
    },
    "e6178f7b148c4bf39f2826f208e0cc64": {
     "model_module": "@jupyter-widgets/controls",
     "model_name": "FloatProgressModel",
     "state": {
      "_dom_classes": [],
      "_model_module": "@jupyter-widgets/controls",
      "_model_module_version": "1.5.0",
      "_model_name": "FloatProgressModel",
      "_view_count": null,
      "_view_module": "@jupyter-widgets/controls",
      "_view_module_version": "1.5.0",
      "_view_name": "ProgressView",
      "bar_style": "success",
      "description": "#0: 100%",
      "description_tooltip": null,
      "layout": "IPY_MODEL_6ba6d07674a34836be53cf173c2b61ca",
      "max": 412,
      "min": 0,
      "orientation": "horizontal",
      "style": "IPY_MODEL_929cde17b3484f3e9e8f8774bc43e374",
      "value": 412
     }
    },
    "e6ce9330460d4a0fb67cc493ca74ae96": {
     "model_module": "@jupyter-widgets/base",
     "model_name": "LayoutModel",
     "state": {
      "_model_module": "@jupyter-widgets/base",
      "_model_module_version": "1.2.0",
      "_model_name": "LayoutModel",
      "_view_count": null,
      "_view_module": "@jupyter-widgets/base",
      "_view_module_version": "1.2.0",
      "_view_name": "LayoutView",
      "align_content": null,
      "align_items": null,
      "align_self": null,
      "border": null,
      "bottom": null,
      "display": null,
      "flex": null,
      "flex_flow": null,
      "grid_area": null,
      "grid_auto_columns": null,
      "grid_auto_flow": null,
      "grid_auto_rows": null,
      "grid_column": null,
      "grid_gap": null,
      "grid_row": null,
      "grid_template_areas": null,
      "grid_template_columns": null,
      "grid_template_rows": null,
      "height": null,
      "justify_content": null,
      "justify_items": null,
      "left": null,
      "margin": null,
      "max_height": null,
      "max_width": null,
      "min_height": null,
      "min_width": null,
      "object_fit": null,
      "object_position": null,
      "order": null,
      "overflow": null,
      "overflow_x": null,
      "overflow_y": null,
      "padding": null,
      "right": null,
      "top": null,
      "visibility": null,
      "width": null
     }
    },
    "e9a702f10538415b970ea1345804d72c": {
     "model_module": "@jupyter-widgets/base",
     "model_name": "LayoutModel",
     "state": {
      "_model_module": "@jupyter-widgets/base",
      "_model_module_version": "1.2.0",
      "_model_name": "LayoutModel",
      "_view_count": null,
      "_view_module": "@jupyter-widgets/base",
      "_view_module_version": "1.2.0",
      "_view_name": "LayoutView",
      "align_content": null,
      "align_items": null,
      "align_self": null,
      "border": null,
      "bottom": null,
      "display": null,
      "flex": null,
      "flex_flow": null,
      "grid_area": null,
      "grid_auto_columns": null,
      "grid_auto_flow": null,
      "grid_auto_rows": null,
      "grid_column": null,
      "grid_gap": null,
      "grid_row": null,
      "grid_template_areas": null,
      "grid_template_columns": null,
      "grid_template_rows": null,
      "height": null,
      "justify_content": null,
      "justify_items": null,
      "left": null,
      "margin": null,
      "max_height": null,
      "max_width": null,
      "min_height": null,
      "min_width": null,
      "object_fit": null,
      "object_position": null,
      "order": null,
      "overflow": null,
      "overflow_x": null,
      "overflow_y": null,
      "padding": null,
      "right": null,
      "top": null,
      "visibility": null,
      "width": null
     }
    },
    "ec36a94ee2574ac8b227ccaefdee5520": {
     "model_module": "@jupyter-widgets/controls",
     "model_name": "DescriptionStyleModel",
     "state": {
      "_model_module": "@jupyter-widgets/controls",
      "_model_module_version": "1.5.0",
      "_model_name": "DescriptionStyleModel",
      "_view_count": null,
      "_view_module": "@jupyter-widgets/base",
      "_view_module_version": "1.2.0",
      "_view_name": "StyleView",
      "description_width": ""
     }
    },
    "edf36819322e4f9fa227a11592fef429": {
     "model_module": "@jupyter-widgets/controls",
     "model_name": "FloatProgressModel",
     "state": {
      "_dom_classes": [],
      "_model_module": "@jupyter-widgets/controls",
      "_model_module_version": "1.5.0",
      "_model_name": "FloatProgressModel",
      "_view_count": null,
      "_view_module": "@jupyter-widgets/controls",
      "_view_module_version": "1.5.0",
      "_view_name": "ProgressView",
      "bar_style": "success",
      "description": "Downloading: ",
      "description_tooltip": null,
      "layout": "IPY_MODEL_93f191a48b3141e1889fd94870b6ac0e",
      "max": 4662,
      "min": 0,
      "orientation": "horizontal",
      "style": "IPY_MODEL_8292dafcd40745958d0f3c563bf6b9b0",
      "value": 4662
     }
    },
    "ee641bbf54a7499597713c517baa81bb": {
     "model_module": "@jupyter-widgets/controls",
     "model_name": "HBoxModel",
     "state": {
      "_dom_classes": [],
      "_model_module": "@jupyter-widgets/controls",
      "_model_module_version": "1.5.0",
      "_model_name": "HBoxModel",
      "_view_count": null,
      "_view_module": "@jupyter-widgets/controls",
      "_view_module_version": "1.5.0",
      "_view_name": "HBoxView",
      "box_style": "",
      "children": [
       "IPY_MODEL_4f8957dc035d4c1a9e8630fc8ab8cd10",
       "IPY_MODEL_757e7bd0e6c5410da0490d191b4e68c8"
      ],
      "layout": "IPY_MODEL_3d929b9e2518402b81a71757ffb753d2"
     }
    },
    "eed2ccc12daa4c71b080794a7a18f5cb": {
     "model_module": "@jupyter-widgets/controls",
     "model_name": "HTMLModel",
     "state": {
      "_dom_classes": [],
      "_model_module": "@jupyter-widgets/controls",
      "_model_module_version": "1.5.0",
      "_model_name": "HTMLModel",
      "_view_count": null,
      "_view_module": "@jupyter-widgets/controls",
      "_view_module_version": "1.5.0",
      "_view_name": "HTMLView",
      "description": "",
      "description_tooltip": null,
      "layout": "IPY_MODEL_f18eddbd3d994ddc88f37e02d754c206",
      "placeholder": "​",
      "style": "IPY_MODEL_20347ed29fdc4c0a96da28c09aacf44d",
      "value": " 870/870 [05:39&lt;00:00,  2.45ex/s]"
     }
    },
    "f18eddbd3d994ddc88f37e02d754c206": {
     "model_module": "@jupyter-widgets/base",
     "model_name": "LayoutModel",
     "state": {
      "_model_module": "@jupyter-widgets/base",
      "_model_module_version": "1.2.0",
      "_model_name": "LayoutModel",
      "_view_count": null,
      "_view_module": "@jupyter-widgets/base",
      "_view_module_version": "1.2.0",
      "_view_name": "LayoutView",
      "align_content": null,
      "align_items": null,
      "align_self": null,
      "border": null,
      "bottom": null,
      "display": null,
      "flex": null,
      "flex_flow": null,
      "grid_area": null,
      "grid_auto_columns": null,
      "grid_auto_flow": null,
      "grid_auto_rows": null,
      "grid_column": null,
      "grid_gap": null,
      "grid_row": null,
      "grid_template_areas": null,
      "grid_template_columns": null,
      "grid_template_rows": null,
      "height": null,
      "justify_content": null,
      "justify_items": null,
      "left": null,
      "margin": null,
      "max_height": null,
      "max_width": null,
      "min_height": null,
      "min_width": null,
      "object_fit": null,
      "object_position": null,
      "order": null,
      "overflow": null,
      "overflow_x": null,
      "overflow_y": null,
      "padding": null,
      "right": null,
      "top": null,
      "visibility": null,
      "width": null
     }
    },
    "f203c54e7e054d97aa4d1097f320f611": {
     "model_module": "@jupyter-widgets/controls",
     "model_name": "FloatProgressModel",
     "state": {
      "_dom_classes": [],
      "_model_module": "@jupyter-widgets/controls",
      "_model_module_version": "1.5.0",
      "_model_name": "FloatProgressModel",
      "_view_count": null,
      "_view_module": "@jupyter-widgets/controls",
      "_view_module_version": "1.5.0",
      "_view_name": "ProgressView",
      "bar_style": "success",
      "description": "#3: 100%",
      "description_tooltip": null,
      "layout": "IPY_MODEL_0cd1932178c945d48604ffd299e65d2c",
      "max": 411,
      "min": 0,
      "orientation": "horizontal",
      "style": "IPY_MODEL_3ec3285e9f3e4a5abcefabb7f140f4a3",
      "value": 411
     }
    },
    "f3905820a42c499fba04af9c1ad19705": {
     "model_module": "@jupyter-widgets/controls",
     "model_name": "FloatProgressModel",
     "state": {
      "_dom_classes": [],
      "_model_module": "@jupyter-widgets/controls",
      "_model_module_version": "1.5.0",
      "_model_name": "FloatProgressModel",
      "_view_count": null,
      "_view_module": "@jupyter-widgets/controls",
      "_view_module_version": "1.5.0",
      "_view_name": "ProgressView",
      "bar_style": "success",
      "description": "#2: 100%",
      "description_tooltip": null,
      "layout": "IPY_MODEL_fc9504846f424542a7feb932964f1f5b",
      "max": 869,
      "min": 0,
      "orientation": "horizontal",
      "style": "IPY_MODEL_4c0ad31e73234e46aac0a297ec18bdeb",
      "value": 869
     }
    },
    "f3adb92e618743cca3299e3e7b6e369f": {
     "model_module": "@jupyter-widgets/controls",
     "model_name": "HBoxModel",
     "state": {
      "_dom_classes": [],
      "_model_module": "@jupyter-widgets/controls",
      "_model_module_version": "1.5.0",
      "_model_name": "HBoxModel",
      "_view_count": null,
      "_view_module": "@jupyter-widgets/controls",
      "_view_module_version": "1.5.0",
      "_view_name": "HBoxView",
      "box_style": "",
      "children": [
       "IPY_MODEL_b0e3a36279d243ab9943149705c72c3e",
       "IPY_MODEL_12696cc03f464a63a411efb2b5e5ac3b"
      ],
      "layout": "IPY_MODEL_83b51e16d88046c48dcd745cf09d2e56"
     }
    },
    "f4135dd72864445391f43f387635bfdc": {
     "model_module": "@jupyter-widgets/controls",
     "model_name": "HTMLModel",
     "state": {
      "_dom_classes": [],
      "_model_module": "@jupyter-widgets/controls",
      "_model_module_version": "1.5.0",
      "_model_name": "HTMLModel",
      "_view_count": null,
      "_view_module": "@jupyter-widgets/controls",
      "_view_module_version": "1.5.0",
      "_view_name": "HTMLView",
      "description": "",
      "description_tooltip": null,
      "layout": "IPY_MODEL_923ed9e127524187ab8cfcac31164ba7",
      "placeholder": "​",
      "style": "IPY_MODEL_8df9d19602cb4951b397c385458a11ef",
      "value": " 109/109 [00:56&lt;00:00,  1.93ba/s]"
     }
    },
    "f57d087016124ebeb073fd7428dcb68b": {
     "model_module": "@jupyter-widgets/base",
     "model_name": "LayoutModel",
     "state": {
      "_model_module": "@jupyter-widgets/base",
      "_model_module_version": "1.2.0",
      "_model_name": "LayoutModel",
      "_view_count": null,
      "_view_module": "@jupyter-widgets/base",
      "_view_module_version": "1.2.0",
      "_view_name": "LayoutView",
      "align_content": null,
      "align_items": null,
      "align_self": null,
      "border": null,
      "bottom": null,
      "display": null,
      "flex": null,
      "flex_flow": null,
      "grid_area": null,
      "grid_auto_columns": null,
      "grid_auto_flow": null,
      "grid_auto_rows": null,
      "grid_column": null,
      "grid_gap": null,
      "grid_row": null,
      "grid_template_areas": null,
      "grid_template_columns": null,
      "grid_template_rows": null,
      "height": null,
      "justify_content": null,
      "justify_items": null,
      "left": null,
      "margin": null,
      "max_height": null,
      "max_width": null,
      "min_height": null,
      "min_width": null,
      "object_fit": null,
      "object_position": null,
      "order": null,
      "overflow": null,
      "overflow_x": null,
      "overflow_y": null,
      "padding": null,
      "right": null,
      "top": null,
      "visibility": null,
      "width": null
     }
    },
    "f5f1f0865d7e4d8b810ccb9c3c4d2683": {
     "model_module": "@jupyter-widgets/controls",
     "model_name": "FloatProgressModel",
     "state": {
      "_dom_classes": [],
      "_model_module": "@jupyter-widgets/controls",
      "_model_module_version": "1.5.0",
      "_model_name": "FloatProgressModel",
      "_view_count": null,
      "_view_module": "@jupyter-widgets/controls",
      "_view_module_version": "1.5.0",
      "_view_name": "ProgressView",
      "bar_style": "success",
      "description": "#1: 100%",
      "description_tooltip": null,
      "layout": "IPY_MODEL_e51b5fd9d5a6416d986fac1526d1666f",
      "max": 412,
      "min": 0,
      "orientation": "horizontal",
      "style": "IPY_MODEL_a47f1ea64f894f0b8e6b277c31ae9f7d",
      "value": 412
     }
    },
    "f6930dd5519d4dfda64c597def220a30": {
     "model_module": "@jupyter-widgets/controls",
     "model_name": "HTMLModel",
     "state": {
      "_dom_classes": [],
      "_model_module": "@jupyter-widgets/controls",
      "_model_module_version": "1.5.0",
      "_model_name": "HTMLModel",
      "_view_count": null,
      "_view_module": "@jupyter-widgets/controls",
      "_view_module_version": "1.5.0",
      "_view_name": "HTMLView",
      "description": "",
      "description_tooltip": null,
      "layout": "IPY_MODEL_56ad6231a0a04228be29ceecbc6b7c0e",
      "placeholder": "​",
      "style": "IPY_MODEL_ab72c80dfd5e4ab19a183f4204486b59",
      "value": " 52/52 [00:31&lt;00:00,  1.63ba/s]"
     }
    },
    "f6b01ad0433a40178ef3ba5657bc1583": {
     "model_module": "@jupyter-widgets/controls",
     "model_name": "FloatProgressModel",
     "state": {
      "_dom_classes": [],
      "_model_module": "@jupyter-widgets/controls",
      "_model_module_version": "1.5.0",
      "_model_name": "FloatProgressModel",
      "_view_count": null,
      "_view_module": "@jupyter-widgets/controls",
      "_view_module_version": "1.5.0",
      "_view_name": "ProgressView",
      "bar_style": "success",
      "description": "#0: 100%",
      "description_tooltip": null,
      "layout": "IPY_MODEL_69828f4a101f4340916a4be141866904",
      "max": 870,
      "min": 0,
      "orientation": "horizontal",
      "style": "IPY_MODEL_beca070c32124a119a08cb21c2ca95e5",
      "value": 870
     }
    },
    "f78ff14b9c8f46448ed1ecb3fe1f5e0b": {
     "model_module": "@jupyter-widgets/controls",
     "model_name": "HTMLModel",
     "state": {
      "_dom_classes": [],
      "_model_module": "@jupyter-widgets/controls",
      "_model_module_version": "1.5.0",
      "_model_name": "HTMLModel",
      "_view_count": null,
      "_view_module": "@jupyter-widgets/controls",
      "_view_module_version": "1.5.0",
      "_view_name": "HTMLView",
      "description": "",
      "description_tooltip": null,
      "layout": "IPY_MODEL_b054b00a32e64fc5988fbd2966ebbce6",
      "placeholder": "​",
      "style": "IPY_MODEL_5a5bc8b4a1c644dea08a60128d888d10",
      "value": " 412/412 [03:06&lt;00:00,  2.20ex/s]"
     }
    },
    "f792530a76ee486688cbc2502dfae594": {
     "model_module": "@jupyter-widgets/controls",
     "model_name": "FloatProgressModel",
     "state": {
      "_dom_classes": [],
      "_model_module": "@jupyter-widgets/controls",
      "_model_module_version": "1.5.0",
      "_model_name": "FloatProgressModel",
      "_view_count": null,
      "_view_module": "@jupyter-widgets/controls",
      "_view_module_version": "1.5.0",
      "_view_name": "ProgressView",
      "bar_style": "success",
      "description": "#3: 100%",
      "description_tooltip": null,
      "layout": "IPY_MODEL_7e50f8027fb74d669daae5e46082026c",
      "max": 869,
      "min": 0,
      "orientation": "horizontal",
      "style": "IPY_MODEL_1261590ef796493798f7068ea0547b74",
      "value": 869
     }
    },
    "f972527479e74337a98f236ed018ae1d": {
     "model_module": "@jupyter-widgets/base",
     "model_name": "LayoutModel",
     "state": {
      "_model_module": "@jupyter-widgets/base",
      "_model_module_version": "1.2.0",
      "_model_name": "LayoutModel",
      "_view_count": null,
      "_view_module": "@jupyter-widgets/base",
      "_view_module_version": "1.2.0",
      "_view_name": "LayoutView",
      "align_content": null,
      "align_items": null,
      "align_self": null,
      "border": null,
      "bottom": null,
      "display": null,
      "flex": null,
      "flex_flow": null,
      "grid_area": null,
      "grid_auto_columns": null,
      "grid_auto_flow": null,
      "grid_auto_rows": null,
      "grid_column": null,
      "grid_gap": null,
      "grid_row": null,
      "grid_template_areas": null,
      "grid_template_columns": null,
      "grid_template_rows": null,
      "height": null,
      "justify_content": null,
      "justify_items": null,
      "left": null,
      "margin": null,
      "max_height": null,
      "max_width": null,
      "min_height": null,
      "min_width": null,
      "object_fit": null,
      "object_position": null,
      "order": null,
      "overflow": null,
      "overflow_x": null,
      "overflow_y": null,
      "padding": null,
      "right": null,
      "top": null,
      "visibility": null,
      "width": null
     }
    },
    "f9efaa7678c2450f847ff2c2f21ff96e": {
     "model_module": "@jupyter-widgets/controls",
     "model_name": "DescriptionStyleModel",
     "state": {
      "_model_module": "@jupyter-widgets/controls",
      "_model_module_version": "1.5.0",
      "_model_name": "DescriptionStyleModel",
      "_view_count": null,
      "_view_module": "@jupyter-widgets/base",
      "_view_module_version": "1.2.0",
      "_view_name": "StyleView",
      "description_width": ""
     }
    },
    "fa7926bbe77e48b3a0648b45f5d2dc7a": {
     "model_module": "@jupyter-widgets/controls",
     "model_name": "ProgressStyleModel",
     "state": {
      "_model_module": "@jupyter-widgets/controls",
      "_model_module_version": "1.5.0",
      "_model_name": "ProgressStyleModel",
      "_view_count": null,
      "_view_module": "@jupyter-widgets/base",
      "_view_module_version": "1.2.0",
      "_view_name": "StyleView",
      "bar_color": null,
      "description_width": "initial"
     }
    },
    "fc9504846f424542a7feb932964f1f5b": {
     "model_module": "@jupyter-widgets/base",
     "model_name": "LayoutModel",
     "state": {
      "_model_module": "@jupyter-widgets/base",
      "_model_module_version": "1.2.0",
      "_model_name": "LayoutModel",
      "_view_count": null,
      "_view_module": "@jupyter-widgets/base",
      "_view_module_version": "1.2.0",
      "_view_name": "LayoutView",
      "align_content": null,
      "align_items": null,
      "align_self": null,
      "border": null,
      "bottom": null,
      "display": null,
      "flex": null,
      "flex_flow": null,
      "grid_area": null,
      "grid_auto_columns": null,
      "grid_auto_flow": null,
      "grid_auto_rows": null,
      "grid_column": null,
      "grid_gap": null,
      "grid_row": null,
      "grid_template_areas": null,
      "grid_template_columns": null,
      "grid_template_rows": null,
      "height": null,
      "justify_content": null,
      "justify_items": null,
      "left": null,
      "margin": null,
      "max_height": null,
      "max_width": null,
      "min_height": null,
      "min_width": null,
      "object_fit": null,
      "object_position": null,
      "order": null,
      "overflow": null,
      "overflow_x": null,
      "overflow_y": null,
      "padding": null,
      "right": null,
      "top": null,
      "visibility": null,
      "width": null
     }
    },
    "fe62265afdc74026b7e9c5a50ef61d2c": {
     "model_module": "@jupyter-widgets/base",
     "model_name": "LayoutModel",
     "state": {
      "_model_module": "@jupyter-widgets/base",
      "_model_module_version": "1.2.0",
      "_model_name": "LayoutModel",
      "_view_count": null,
      "_view_module": "@jupyter-widgets/base",
      "_view_module_version": "1.2.0",
      "_view_name": "LayoutView",
      "align_content": null,
      "align_items": null,
      "align_self": null,
      "border": null,
      "bottom": null,
      "display": null,
      "flex": null,
      "flex_flow": null,
      "grid_area": null,
      "grid_auto_columns": null,
      "grid_auto_flow": null,
      "grid_auto_rows": null,
      "grid_column": null,
      "grid_gap": null,
      "grid_row": null,
      "grid_template_areas": null,
      "grid_template_columns": null,
      "grid_template_rows": null,
      "height": null,
      "justify_content": null,
      "justify_items": null,
      "left": null,
      "margin": null,
      "max_height": null,
      "max_width": null,
      "min_height": null,
      "min_width": null,
      "object_fit": null,
      "object_position": null,
      "order": null,
      "overflow": null,
      "overflow_x": null,
      "overflow_y": null,
      "padding": null,
      "right": null,
      "top": null,
      "visibility": null,
      "width": null
     }
    }
   }
  }
 },
 "nbformat": 4,
 "nbformat_minor": 4
}
