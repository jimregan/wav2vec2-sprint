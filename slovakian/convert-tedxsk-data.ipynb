{
 "cells": [
  {
   "cell_type": "code",
   "execution_count": 1,
   "metadata": {},
   "outputs": [],
   "source": [
    "# License: Apache 2.0\n",
    "_URL='https://nlp.kemt.fei.tuke.sk/tedx'\n",
    "_AUDIO='https://nlp.kemt.fei.tuke.sk/static/files/_TEDxSK/training_set/training_set.zip'\n",
    "_TEXT='https://nlp.kemt.fei.tuke.sk/static/files/_TEDxSK/manual_transcriptions_v1/manual_transcriptions_v1.zip'\n",
    "\n",
    "_CITATION = \"\"\"\\\n",
    "@article{stavs2017tedxsk,\n",
    "  title={TEDxSK and JumpSK: A new Slovak speech recognition dedicated corpus},\n",
    "  author={Sta{\\v{s}}, J{\\'a}n and Hl{\\'a}dek, Daniel and Viszlay, Peter and Koct{\\'u}r, Tom{\\'a}{\\v{s}}},\n",
    "  journal={Journal of Linguistics/Jazykovedn{\\`y} \\v{c}asopis},\n",
    "  volume={68},\n",
    "  number={2},\n",
    "  pages={346--354},\n",
    "  year={2017},\n",
    "  publisher={Sciendo}\n",
    "}\n",
    "@inproceedings{stas_automaticka_2016,\n",
    "  address = {Smolenice, Slovakia},\n",
    "  title = {Automatick{\\'a} anot{\\'a}cia a tvorba re\\v{c}ov{\\'e}ho korpusu predn{\\'a}\\v{s}ok {TEDxSK} a {JumpSK}},\n",
    "  isbn = {978-80-227-4619-9},\n",
    "  url = {https://wikt-daz2016.fiit.stuba.sk/wp-content/uploads/2016/11/WIKT-DaZ-2016_Proceedings.pdf},\n",
    "  language = {Slovakian},\n",
    "  booktitle = {Proc. of 11th {Workshop} on {Intelligent} and {Knowledge} {Oriented} {Technologies}},\n",
    "  author = {Sta{\\v{s}}, J{\\'a}n and Koct{\\'u}r, Tom{\\'a}{\\v{s}} and Viszlay, Peter},\n",
    "  year = {2016},\n",
    "  pages = {127--132},\n",
    "}\n",
    "\"\"\""
   ]
  },
  {
   "cell_type": "code",
   "execution_count": null,
   "metadata": {},
   "outputs": [],
   "source": [
    "!wget https://nlp.kemt.fei.tuke.sk/static/files/_TEDxSK/training_set/training_set.zip -O /workspace/data/slovakian/training_set.zip\n",
    "!mkdir -p /workspace/data/slovakian/training\n",
    "!unzip /workspace/data/slovakian/training_set.zip -d /workspace/data/slovakian/training"
   ]
  },
  {
   "cell_type": "code",
   "execution_count": null,
   "metadata": {},
   "outputs": [],
   "source": [
    "!wget https://nlp.kemt.fei.tuke.sk/static/files/_TEDxSK/manual_transcriptions_v1/manual_transcriptions_v1.zip -O /workspace/data/slovakian/transcript.zip\n",
    "!mkdir -p /workspace/data/slovakian/transcript\n",
    "!unzip /workspace/data/slovakian/transcript.zip -d /workspace/data/slovakian/transcript"
   ]
  },
  {
   "cell_type": "code",
   "execution_count": 50,
   "metadata": {},
   "outputs": [],
   "source": [
    "import re\n",
    "def clean_text(text):\n",
    "    # it makes processing easier to rejoin, replace underscores, and resplit\n",
    "    # the newline sneaks in, for reasons I can't understand\n",
    "    tmptext = ' '.join(text).replace('_', ' ').replace('\\n', ' ')\n",
    "    text = tmptext.split(' ')\n",
    "    out = list()\n",
    "    for tok in text:\n",
    "        if tok == '%@':\n",
    "            continue\n",
    "        # might be useful for other ASR; '[i]' is 'inhalation'; '[ex]', exhalation, etc.\n",
    "        # see: http://trans.sourceforge.net/en/transguidFR.php\n",
    "        elif len(tok) > 2 and tok[0] == '[' and tok[-1] == ']':\n",
    "            continue\n",
    "        elif len(tok) > 1 and tok[0] == '^':\n",
    "            if len(tok) > 2 and tok[1] == '^':\n",
    "                if '/' in tok:\n",
    "                    # first part is the original word, second a phonetic rendering\n",
    "                    out.append(tok[2:].split('/')[0])\n",
    "                else:\n",
    "                    out.append(tok[2:])\n",
    "            else:\n",
    "                out.append(tok[1:])\n",
    "        elif len(tok) > 1 and tok[0] in ['@', '~']:\n",
    "            out.append(tok[1:])\n",
    "        elif tok.startswith('((') and tok.endswith('))'):\n",
    "            out.append(tok[2:-2])\n",
    "        elif '*/' in tok:\n",
    "            out.append(tok.split('*')[0])\n",
    "        elif len(tok) > 1 and tok[0] == '/':\n",
    "            # seems to have been intended to be the above, \n",
    "            continue\n",
    "        else:\n",
    "            out.append(tok)\n",
    "    cleaned = re.sub('[\\.\\!\\?,%@\\n\\r]', '', ' '.join(out))\n",
    "    return cleaned.lower().strip()"
   ]
  },
  {
   "cell_type": "code",
   "execution_count": 54,
   "metadata": {},
   "outputs": [],
   "source": [
    "import glob\n",
    "items = list()\n",
    "for path in glob.glob('/workspace/data/slovakian/transcript/*.stm'):\n",
    "    file = open(path, 'r')\n",
    "    for line in file.readlines():\n",
    "        item = dict()\n",
    "        line = line.rstrip()\n",
    "        if line.startswith(';'):\n",
    "            continue\n",
    "        tmp = line.split(' ')\n",
    "        if len(tmp) < 6:\n",
    "            continue\n",
    "        if tmp[2] in ['excluded_region', 'inter_segment_gap']:\n",
    "            continue\n",
    "        item['source_wav'] = tmp[0]\n",
    "        item['speaker_id'] = tmp[2]\n",
    "        item['start'] = tmp[3]\n",
    "        item['end'] = tmp[4]\n",
    "        ctrl = tmp[5]\n",
    "        if ctrl[0] == '<' and ctrl[-1] == '>':\n",
    "            ctrl_inner = ctrl[1:-1].split(',')\n",
    "            if ctrl_inner[2] in ['male', 'female']:\n",
    "                item['gender'] = ctrl_inner[2]\n",
    "        item['text'] = clean_text(tmp[6:])\n",
    "        item['id'] = '{}_{}_{}_{}'.format(tmp[2], tmp[0], tmp[3], tmp[4])\n",
    "        if(item['text'] != ''):\n",
    "            items.append(item)"
   ]
  },
  {
   "cell_type": "code",
   "execution_count": 59,
   "metadata": {},
   "outputs": [],
   "source": [
    "path = '/workspace/data/slovakian/training'\n",
    "with open('write-wavs.sh', 'w') as gensh:\n",
    "    gensh.write('#!/bin/sh\\n')\n",
    "    for item in items:\n",
    "        dur = float(item['end']) - float(item['start'])\n",
    "        inwav = '{}/{}.wav'.format(path, item['source_wav'])\n",
    "        outwav = '{}/{}.wav'.format(path, item['id'])\n",
    "        gensh.write('ffmpeg -ss {} -t {} -i {} {}\\n'.format(item['start'], dur, inwav, outwav))"
   ]
  },
  {
   "cell_type": "code",
   "execution_count": null,
   "metadata": {},
   "outputs": [],
   "source": [
    "!sh write-wavs.sh"
   ]
  },
  {
   "cell_type": "code",
   "execution_count": null,
   "metadata": {},
   "outputs": [],
   "source": []
  }
 ],
 "metadata": {
  "kernelspec": {
   "display_name": "Python 3",
   "language": "python",
   "name": "python3"
  },
  "language_info": {
   "codemirror_mode": {
    "name": "ipython",
    "version": 3
   },
   "file_extension": ".py",
   "mimetype": "text/x-python",
   "name": "python",
   "nbconvert_exporter": "python",
   "pygments_lexer": "ipython3",
   "version": "3.7.6"
  }
 },
 "nbformat": 4,
 "nbformat_minor": 4
}
