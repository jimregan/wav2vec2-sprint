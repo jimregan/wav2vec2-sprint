{
 "cells": [
  {
   "cell_type": "code",
   "execution_count": 1,
   "metadata": {
    "jupyter": {
     "source_hidden": true
    }
   },
   "outputs": [],
   "source": [
    "# License: Apache 2.0\n",
    "_URL='https://nlp.kemt.fei.tuke.sk/tedx'\n",
    "_AUDIO='https://nlp.kemt.fei.tuke.sk/static/files/_TEDxSK/training_set/training_set.zip'\n",
    "_TEXT='https://nlp.kemt.fei.tuke.sk/static/files/_TEDxSK/manual_transcriptions_v1/manual_transcriptions_v1.zip'\n",
    "\n",
    "_CITATION = \"\"\"\\\n",
    "@article{stavs2017tedxsk,\n",
    "  title={TEDxSK and JumpSK: A new Slovak speech recognition dedicated corpus},\n",
    "  author={Sta{\\v{s}}, J{\\'a}n and Hl{\\'a}dek, Daniel and Viszlay, Peter and Koct{\\'u}r, Tom{\\'a}{\\v{s}}},\n",
    "  journal={Journal of Linguistics/Jazykovedn{\\`y} \\v{c}asopis},\n",
    "  volume={68},\n",
    "  number={2},\n",
    "  pages={346--354},\n",
    "  year={2017},\n",
    "  publisher={Sciendo}\n",
    "}\n",
    "@inproceedings{stas_automaticka_2016,\n",
    "  address = {Smolenice, Slovakia},\n",
    "  title = {Automatick{\\'a} anot{\\'a}cia a tvorba re\\v{c}ov{\\'e}ho korpusu predn{\\'a}\\v{s}ok {TEDxSK} a {JumpSK}},\n",
    "  isbn = {978-80-227-4619-9},\n",
    "  url = {https://wikt-daz2016.fiit.stuba.sk/wp-content/uploads/2016/11/WIKT-DaZ-2016_Proceedings.pdf},\n",
    "  language = {Slovakian},\n",
    "  booktitle = {Proc. of 11th {Workshop} on {Intelligent} and {Knowledge} {Oriented} {Technologies}},\n",
    "  author = {Sta{\\v{s}}, J{\\'a}n and Koct{\\'u}r, Tom{\\'a}{\\v{s}} and Viszlay, Peter},\n",
    "  year = {2016},\n",
    "  pages = {127--132},\n",
    "}\n",
    "\"\"\""
   ]
  },
  {
   "cell_type": "code",
   "execution_count": null,
   "metadata": {},
   "outputs": [],
   "source": [
    "!wget https://nlp.kemt.fei.tuke.sk/static/files/_TEDxSK/training_set/training_set.zip -O /workspace/data/slovakian/training_set.zip\n",
    "!mkdir -p /workspace/data/slovakian/training\n",
    "!unzip /workspace/data/slovakian/training_set.zip -d /workspace/data/slovakian/training"
   ]
  },
  {
   "cell_type": "code",
   "execution_count": null,
   "metadata": {},
   "outputs": [],
   "source": [
    "!wget https://nlp.kemt.fei.tuke.sk/static/files/_TEDxSK/manual_transcriptions_v1/manual_transcriptions_v1.zip -O /workspace/data/slovakian/transcript.zip\n",
    "!mkdir -p /workspace/data/slovakian/transcript\n",
    "!unzip /workspace/data/slovakian/transcript.zip -d /workspace/data/slovakian/transcript"
   ]
  },
  {
   "cell_type": "code",
   "execution_count": 56,
   "metadata": {},
   "outputs": [],
   "source": [
    "import re\n",
    "def split_pronounced(text):\n",
    "    if '*/' in text:\n",
    "        return text.split('*/')[0].replace('_', ' ')\n",
    "    elif '/*' in text:\n",
    "        return text.split('/*')[0].replace('_', ' ')\n",
    "    elif '/' in text:\n",
    "        return text.split('/')[0].replace('_', ' ')\n",
    "    else:\n",
    "        return text\n",
    "# might be useful for other ASR; '[i]' is 'inhalation'; '[ex]', exhalation, etc.\n",
    "# see: http://trans.sourceforge.net/en/transguidFR.php\n",
    "# for now, only keeping 'mm'\n",
    "def do_bracket(tok):\n",
    "    if tok == '[mm]':\n",
    "        return 'mm'\n",
    "    elif len(tok) > 2 and tok[0] == '[' and tok[-1] == ']':\n",
    "        return ''\n",
    "    else:\n",
    "        return tok\n",
    "def do_carets(tok):\n",
    "    if tok.startswith('^^'):\n",
    "        return split_pronounced(tok[2:])\n",
    "    elif tok.startswith('^'):\n",
    "        return split_pronounced(tok[1:])\n",
    "    else:\n",
    "        return split_pronounced(tok)\n",
    "def unknown_mark(tok):\n",
    "    if tok == '%@':\n",
    "        return ''\n",
    "    elif '%@' in tok:\n",
    "        return tok.replace('%@', '')\n",
    "    else:\n",
    "        return tok\n",
    "def do_parens(tok):\n",
    "    if tok.startswith('((') and tok.endswith('))'):\n",
    "        return do_carets(tok[2:-2])\n",
    "    else:\n",
    "        return do_carets(tok)\n",
    "def clean_text(text):\n",
    "    tmptext = ' '.join(text)\n",
    "    tmptext = tmptext.replace('[ ', '[').replace(' ]', ']')\n",
    "    tmptext = tmptext.replace('(( ', ' ((').replace(' ))', ')) ')\n",
    "    # make sure there's a space before these\n",
    "    tmptext = tmptext.replace('((', ' ((').replace('))', ')) ')\n",
    "    tmptext = tmptext.replace('/ ', '/').replace(' /', '/')\n",
    "    text = tmptext.split()\n",
    "    out = list()\n",
    "    for tok in text:\n",
    "        tok = unknown_mark(tok)\n",
    "        tok = do_bracket(tok)\n",
    "        tok = do_parens(tok)\n",
    "        if len(tok) > 1 and tok[0] in ['@', '~']:\n",
    "            tok = tok[1:]\n",
    "        out.append(tok)\n",
    "    cleaned = re.sub('[\\.\\!\\?,%@\\n\\r:;]', '', ' '.join(out))\n",
    "    return cleaned.lower().strip()\n",
    "def is_unclear(text):\n",
    "    for xx in ['((xx))', '((xxx))', '((xxxx))', '((xxxxx))', '((xxxxxx']:\n",
    "        if xx in text:\n",
    "            return True\n",
    "    return False\n",
    "def has_control_char(text):\n",
    "    for ch in ['(', ')', '@', '^', '[', ']', '´', '*', '~', '_']:\n",
    "        if ch in text:\n",
    "            return True\n",
    "    return False"
   ]
  },
  {
   "cell_type": "code",
   "execution_count": 57,
   "metadata": {},
   "outputs": [],
   "source": [
    "import glob\n",
    "items = list()\n",
    "for path in glob.glob('/workspace/data/slovakian/transcript/*.stm'):\n",
    "    file = open(path, 'r')\n",
    "    for line in file.readlines():\n",
    "        item = dict()\n",
    "        line = line.rstrip()\n",
    "        if line.startswith(';'):\n",
    "            continue\n",
    "        tmp = line.split(' ')\n",
    "        if len(tmp) < 6:\n",
    "            continue\n",
    "        if tmp[2] in ['excluded_region', 'inter_segment_gap']:\n",
    "            continue\n",
    "        item['source_wav'] = tmp[0]\n",
    "        item['speaker_id'] = tmp[2]\n",
    "        item['start'] = tmp[3]\n",
    "        item['end'] = tmp[4]\n",
    "        ctrl = tmp[5]\n",
    "        if ctrl[0] == '<' and ctrl[-1] == '>':\n",
    "            ctrl_inner = ctrl[1:-1].split(',')\n",
    "            if ctrl_inner[2] in ['male', 'female']:\n",
    "                item['gender'] = ctrl_inner[2]\n",
    "        if is_unclear(' '.join(tmp[6:])):\n",
    "            continue\n",
    "        if(len(' '.join(tmp[6:])) == 0):\n",
    "            continue\n",
    "        item['text'] = clean_text(tmp[6:])\n",
    "        # there's more processing that could be done to recover more\n",
    "        # but for now, skip the remaining noise\n",
    "        if has_control_char(item['text']):\n",
    "            item['text'] = ''\n",
    "            continue\n",
    "        item['id'] = '{}_{}_{}_{}'.format(tmp[2], tmp[0], tmp[3], tmp[4])\n",
    "        if(item['text'] != ''):\n",
    "            items.append(item)"
   ]
  },
  {
   "cell_type": "code",
   "execution_count": 65,
   "metadata": {},
   "outputs": [],
   "source": [
    "path = '/workspace/data/slovakian/training'\n",
    "with open('write-wavs.sh', 'w') as gensh:\n",
    "    gensh.write('#!/bin/sh\\n')\n",
    "    for item in items:\n",
    "        dur = float(item['end']) - float(item['start'])\n",
    "        inwav = '{}/{}.wav'.format(path, item['source_wav'])\n",
    "        outwav = '{}/{}.wav'.format(path, item['id'])\n",
    "        gensh.write('ffmpeg -y -ss {} -t {} -i {} {}\\n'.format(item['start'], dur, inwav, outwav))"
   ]
  },
  {
   "cell_type": "code",
   "execution_count": null,
   "metadata": {},
   "outputs": [],
   "source": [
    "!sh write-wavs.sh"
   ]
  },
  {
   "cell_type": "code",
   "execution_count": 71,
   "metadata": {},
   "outputs": [],
   "source": [
    "sentences = [s['text'] for s in items]\n",
    "paths = ['{}/{}.wav'.format(path, item['id']) for item in items]"
   ]
  },
  {
   "cell_type": "code",
   "execution_count": 72,
   "metadata": {},
   "outputs": [],
   "source": [
    "datain = {'sentence': sentences,\n",
    "          'path': paths}"
   ]
  },
  {
   "cell_type": "code",
   "execution_count": 73,
   "metadata": {},
   "outputs": [],
   "source": [
    "from datasets import Dataset\n",
    "dataset = Dataset.from_dict(datain)"
   ]
  },
  {
   "cell_type": "code",
   "execution_count": 74,
   "metadata": {},
   "outputs": [],
   "source": [
    "dataset.save_to_disk('/workspace/data/slovakian/tedxsk')"
   ]
  }
 ],
 "metadata": {
  "kernelspec": {
   "display_name": "Python 3",
   "language": "python",
   "name": "python3"
  },
  "language_info": {
   "codemirror_mode": {
    "name": "ipython",
    "version": 3
   },
   "file_extension": ".py",
   "mimetype": "text/x-python",
   "name": "python",
   "nbconvert_exporter": "python",
   "pygments_lexer": "ipython3",
   "version": "3.7.6"
  }
 },
 "nbformat": 4,
 "nbformat_minor": 4
}
