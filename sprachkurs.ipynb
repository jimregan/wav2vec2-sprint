{
  "nbformat": 4,
  "nbformat_minor": 0,
  "metadata": {
    "colab": {
      "name": "sprachkurs.ipynb",
      "provenance": [],
      "authorship_tag": "ABX9TyPtmPAvmjorkgEBFcnyJ7Im"
    },
    "kernelspec": {
      "name": "python3",
      "display_name": "Python 3"
    },
    "language_info": {
      "name": "python"
    }
  },
  "cells": [
    {
      "cell_type": "code",
      "metadata": {
        "id": "qV1aOWMDckeL"
      },
      "source": [
        "# License: Apache 2.0\n",
        "!pip install requests"
      ],
      "execution_count": null,
      "outputs": []
    },
    {
      "cell_type": "code",
      "metadata": {
        "id": "GlTe2CxTcrIY"
      },
      "source": [
        "BASE = 'https://sprachkurs.sorbischlernen.de'\n",
        "COURSE = 'C3_EN-OSO'\n",
        "limits = {\n",
        "    1: 5,\n",
        "    2: 6,\n",
        "    3: 5,\n",
        "    4: 5,\n",
        "    5: 6,\n",
        "    6: 5,\n",
        "    7: 5,\n",
        "    8: 6\n",
        "}\n",
        "\n",
        "lessons = list()\n",
        "for i in range(1, 9):\n",
        "    for j in range (1, limits[i] + 1):\n",
        "        lessons.append('k{}/b{}'.format(i, j))\n",
        "    lessons.append('k{}/extra'.format(i))\n",
        "urls = ['{}/api/vocabulary/section/{}/{}/605d42cf99a9854f73ae241d'.format(BASE, COURSE, l) for l in lessons]"
      ],
      "execution_count": null,
      "outputs": []
    },
    {
      "cell_type": "code",
      "metadata": {
        "id": "ykiTXcjkcvnq"
      },
      "source": [
        "import requests\n",
        "# doesn't work, need to post an authorisation token\n",
        "#lessons_json = list()\n",
        "#for url in urls:\n",
        "#    r = requests.get(url)\n",
        "#    if r.status_code != 200:\n",
        "#        raise Exception('Error fetching json ' + url)\n",
        "#    lessons_json.append(r.content)"
      ],
      "execution_count": null,
      "outputs": []
    },
    {
      "cell_type": "code",
      "metadata": {
        "id": "YNPW2muKczco"
      },
      "source": [
        "genders = {\n",
        "    'k1': 'm',\n",
        "    'k2': 'f',\n",
        "    'k2b6': 'm',\n",
        "    'k3': 'f',\n",
        "    'k4': 'm',\n",
        "    'k4b2': 'm'\n",
        "}\n",
        "\n",
        "def speakerid(entry):\n",
        "    if entry['chapterId'] == 'k2' and entry['sectionId'] == 'b6':\n",
        "        return 'k2b6'\n",
        "    elif entry['chapterId'] == 'k3' and entry['sectionId'] == 'b1':\n",
        "        return 'k4'\n",
        "    elif entry['chapterId'] == 'k4' and entry['sectionId'] in ['b2', 'b3']:\n",
        "        return 'k4b2'\n",
        "    else:\n",
        "        entry['chapterId']"
      ],
      "execution_count": null,
      "outputs": []
    },
    {
      "cell_type": "code",
      "metadata": {
        "id": "eqQBXXpnc2dG"
      },
      "source": [
        "import re\n",
        "def rpronouns(text):\n",
        "    return re.sub(r'\\([^\\)]+\\)', '', text)\n",
        "\n",
        "def kpronouns(text):\n",
        "    return re.sub(r'[\\(\\)]', '', text)"
      ],
      "execution_count": null,
      "outputs": []
    },
    {
      "cell_type": "code",
      "metadata": {
        "id": "B9vlMZA6c43A"
      },
      "source": [
        "def dopronouns(entry):\n",
        "    if entry['chapterId'] == 'k1':\n",
        "        return kpronouns(entry['textForeign'])\n",
        "    elif entry['chapterId'] == 'k2':\n",
        "        if entry['sectionId'] == 'b1' and entry['itemId'] in [1, 2]:\n",
        "            return rpronouns(entry['textForeign'])\n",
        "        else:\n",
        "            return kpronouns(entry['textForeign'])\n",
        "    elif entry['chapterId'] == 'k3':\n",
        "        if entry['sectionId'] == 'b1' and entry['itemId'] in [4, 9, 27, 29, 30]:\n",
        "            return rpronouns(entry['textForeign'])\n",
        "        elif entry['sectionId'] == 'b3':\n",
        "            return rpronouns(entry['textForeign'])\n",
        "        else:\n",
        "            return kpronouns(entry['textForeign'])\n",
        "    elif entry['chapterId'] == 'k4':\n",
        "        if entry['sectionId'] == 'b1' and entry['itemId'] in [1, 2, 3, 41, 42]:\n",
        "            return rpronouns(entry['textForeign'])\n",
        "        elif entry['sectionId'] == 'b2' and entry['itemId'] in [2]:\n",
        "            return rpronouns(entry['textForeign'])\n",
        "        elif entry['sectionId'] == 'b3' and entry['itemId'] in [3]:\n",
        "            return rpronouns(entry['textForeign'])\n",
        "        elif entry['sectionId'] == 'b4':\n",
        "            return rpronouns(entry['textForeign'])\n",
        "        else:\n",
        "            return kpronouns(entry['textForeign'])\n"
      ],
      "execution_count": null,
      "outputs": []
    }
  ]
}