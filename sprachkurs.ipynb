{
  "nbformat": 4,
  "nbformat_minor": 0,
  "metadata": {
    "colab": {
      "name": "sprachkurs.ipynb",
      "provenance": [],
      "collapsed_sections": [],
      "authorship_tag": "ABX9TyM/wFmkU65UpzoLZFgQB2C+"
    },
    "kernelspec": {
      "name": "python3",
      "display_name": "Python 3"
    },
    "language_info": {
      "name": "python"
    }
  },
  "cells": [
    {
      "cell_type": "code",
      "metadata": {
        "id": "qV1aOWMDckeL"
      },
      "source": [
        "# License: Apache 2.0\n",
        "!pip install requests"
      ],
      "execution_count": null,
      "outputs": []
    },
    {
      "cell_type": "markdown",
      "metadata": {
        "id": "5iZdnj4GZmh-"
      },
      "source": [
        "You need an authorisation token, so the next part is no use"
      ]
    },
    {
      "cell_type": "code",
      "metadata": {
        "id": "GlTe2CxTcrIY"
      },
      "source": [
        "BASE = 'https://sprachkurs.sorbischlernen.de'\n",
        "COURSE = 'C3_EN-OSO'\n",
        "limits = {\n",
        "    1: 5,\n",
        "    2: 6,\n",
        "    3: 5,\n",
        "    4: 5,\n",
        "    5: 6,\n",
        "    6: 5,\n",
        "    7: 5,\n",
        "    8: 6\n",
        "}\n",
        "\n",
        "lessons = list()\n",
        "for i in range(1, 9):\n",
        "    for j in range (1, limits[i] + 1):\n",
        "        lessons.append('k{}/b{}'.format(i, j))\n",
        "    lessons.append('k{}/extra'.format(i))\n",
        "urls = ['{}/api/vocabulary/section/{}/{}/605d42cf99a9854f73ae241d'.format(BASE, COURSE, l) for l in lessons]"
      ],
      "execution_count": null,
      "outputs": []
    },
    {
      "cell_type": "code",
      "metadata": {
        "id": "ykiTXcjkcvnq"
      },
      "source": [
        "import requests\n",
        "# doesn't work, need to post an authorisation token\n",
        "#lessons_json = list()\n",
        "#for url in urls:\n",
        "#    r = requests.get(url)\n",
        "#    if r.status_code != 200:\n",
        "#        raise Exception('Error fetching json ' + url)\n",
        "#    lessons_json.append(r.content)"
      ],
      "execution_count": null,
      "outputs": []
    },
    {
      "cell_type": "code",
      "metadata": {
        "id": "YNPW2muKczco"
      },
      "source": [
        "genders = {\n",
        "    'k1': 'm',\n",
        "    'k2': 'f',\n",
        "    'k2b6': 'm',\n",
        "    'k3': 'f',\n",
        "    'k4': 'm',\n",
        "    'k4b2': 'm',\n",
        "    'k5': 'm',\n",
        "    'k5b6': 'm',\n",
        "    'k6': 'm',\n",
        "    'k6b6': 'm',\n",
        "    'k7': 'f',\n",
        "    'k7b5': 'm',\n",
        "    'k8': 'm',\n",
        "    'k8b6': 'm',\n",
        "}\n",
        "\n",
        "def speakerid(entry):\n",
        "    if entry['chapterId'] == 'k2' and entry['sectionId'] == 'b6':\n",
        "        return 'k2b6'\n",
        "    elif entry['chapterId'] == 'k3' and entry['sectionId'] == 'b1':\n",
        "        return 'k4'\n",
        "    elif entry['chapterId'] == 'k4' and entry['sectionId'] in ['b2', 'b3']:\n",
        "        return 'k4b2'\n",
        "    elif entry['chapterId'] == 'k5' and entry['sectionId'] == 'b6':\n",
        "        return 'k5b6'\n",
        "    elif entry['chapterId'] == 'k6' and entry['sectionId'] == 'b6':\n",
        "        return 'k6b6'\n",
        "    elif entry['chapterId'] == 'k7' and entry['sectionId'] == 'b5':\n",
        "        return 'k7b5'\n",
        "    elif entry['chapterId'] == 'k8' and entry['sectionId'] == 'b6':\n",
        "        return 'k8b6'\n",
        "    else:\n",
        "        return entry['chapterId']"
      ],
      "execution_count": 59,
      "outputs": []
    },
    {
      "cell_type": "code",
      "metadata": {
        "id": "eqQBXXpnc2dG"
      },
      "source": [
        "import re\n",
        "def rpronouns(text):\n",
        "    return re.sub(r'\\([^\\)]+\\)', '', text)\n",
        "\n",
        "def kpronouns(text):\n",
        "    return re.sub(r'[\\(\\)]', '', text)"
      ],
      "execution_count": 37,
      "outputs": []
    },
    {
      "cell_type": "code",
      "metadata": {
        "id": "B9vlMZA6c43A"
      },
      "source": [
        "def dopronouns(entry):\n",
        "    if entry['chapterId'] == 'k1':\n",
        "        return kpronouns(entry['textForeign'])\n",
        "    elif entry['chapterId'] == 'k2':\n",
        "        if entry['sectionId'] == 'b1' and entry['itemId'] in [1, 2]:\n",
        "            return rpronouns(entry['textForeign'])\n",
        "        else:\n",
        "            return kpronouns(entry['textForeign'])\n",
        "    elif entry['chapterId'] == 'k3':\n",
        "        if entry['sectionId'] == 'b1' and entry['itemId'] in [4, 9, 27, 29, 30]:\n",
        "            return rpronouns(entry['textForeign'])\n",
        "        elif entry['sectionId'] == 'b3':\n",
        "            return rpronouns(entry['textForeign'])\n",
        "        else:\n",
        "            return kpronouns(entry['textForeign'])\n",
        "    elif entry['chapterId'] == 'k4':\n",
        "        if entry['sectionId'] == 'b1' and entry['itemId'] in [1, 2, 3, 41, 42]:\n",
        "            return rpronouns(entry['textForeign'])\n",
        "        elif entry['sectionId'] == 'b2' and entry['itemId'] in [2]:\n",
        "            return rpronouns(entry['textForeign'])\n",
        "        elif entry['sectionId'] == 'b3' and entry['itemId'] in [3]:\n",
        "            return rpronouns(entry['textForeign'])\n",
        "        elif entry['sectionId'] == 'b4':\n",
        "            return rpronouns(entry['textForeign'])\n",
        "        else:\n",
        "            return kpronouns(entry['textForeign'])\n",
        "    elif entry['chapterId'] == 'k5':\n",
        "        if entry['sectionId'] == 'b1' and entry['itemId'] in [2, 3, 8, 9, 16, 17, 26]:\n",
        "            return rpronouns(entry['textForeign'])\n",
        "        elif entry['sectionId'] == 'b3' and entry['itemId'] in [11, 12, 13, 14, 15, 17, 28, 30]:\n",
        "            return rpronouns(entry['textForeign'])\n",
        "        elif entry['sectionId'] == 'b6':\n",
        "            entry['textEn'] = entry['textForeign']\n",
        "            entry['textForeign'] = entry['textDe']\n",
        "            if entry['itemId'] == 8:\n",
        "              return rpronouns(entry['textForeign'])\n",
        "            else:\n",
        "              return kpronouns(entry['textForeign'])\n",
        "        else:\n",
        "            return kpronouns(entry['textForeign'])\n",
        "    elif entry['chapterId'] == 'k6':\n",
        "        if entry['sectionId'] == 'b1':\n",
        "          if entry['itemId'] == 2:\n",
        "            return ' '.join(entry['textForeign'].split(' ')[-2:])\n",
        "          elif entry['itemId'] in [2, 3]:\n",
        "            return rpronouns(entry['textForeign'])\n",
        "          elif entry['itemId'] in [8, 9]:\n",
        "            return kpronouns(' '.join(entry['textForeign'].split(' ')[0:2]))\n",
        "          elif entry['itemId'] in [17]:\n",
        "            return kpronouns(entry['textForeign'].split('/')[0])\n",
        "          else:\n",
        "            return kpronouns(entry['textForeign'])\n",
        "        elif entry['sectionId'] == 'b3' and entry['itemId'] in [1, 23, 24, 25]:\n",
        "            return rpronouns(entry['textForeign'])\n",
        "        elif entry['sectionId'] == 'b4' and entry['itemId'] in [33]:\n",
        "            return rpronouns(entry['textForeign'])\n",
        "        else:\n",
        "          return kpronouns(entry['textForeign'])\n",
        "    elif entry['chapterId'] == 'k7':\n",
        "        if entry['sectionId'] == 'b1':\n",
        "          if entry['itemId'] == 1:\n",
        "            return rpronouns(entry['textForeign'].replace('26.', 'šesć-a-dwaceteho'))\n",
        "          elif entry['itemId'] == 14:\n",
        "            return rpronouns(entry['textForeign'].replace('/', ''))\n",
        "          elif entry['itemId'] == 28:\n",
        "            return rpronouns(entry['textForeign'].replace('2011', 'dwaj tysac jědenaće'))\n",
        "          else:\n",
        "            return rpronouns(entry['textForeign'])\n",
        "        elif entry['sectionId'] == 'b2':\n",
        "          return rpronouns(entry['textForeign'])\n",
        "        elif entry['sectionId'] == 'b3':\n",
        "          return kpronouns(entry['textForeign'])\n",
        "        elif entry['sectionId'] == 'b4':\n",
        "          if entry['itemId'] in [27, 30, 31, 38]:\n",
        "            return kpronouns(entry['textForeign'])\n",
        "          else:\n",
        "            return rpronouns(entry['textForeign'])\n",
        "        else:\n",
        "          return kpronouns(entry['textForeign'])\n",
        "    elif entry['chapterId'] == 'k8':\n",
        "        if entry['sectionId'] == 'b1':\n",
        "          return rpronouns(entry['textForeign'])\n",
        "        elif entry['sectionId'] == 'b2':\n",
        "          return rpronouns(entry['textForeign'])\n",
        "        elif entry['sectionId'] == 'b3':\n",
        "          if entry['itemId'] == 2:\n",
        "            tmp = entry['textForeign'].split(' ')\n",
        "            tmp2 = tmp[0:2]\n",
        "            tmp2.append(tmp[-1])\n",
        "            tmp2.append(tmp[-2])\n",
        "            return ' '.join(tmp2)\n",
        "          elif entry['itemId'] == 15:\n",
        "            tmp = entry['textForeign'].split(' ')\n",
        "            tmp[-1] = 'jutře'\n",
        "            return ' '.join(tmp)\n",
        "          else:\n",
        "            return rpronouns(entry['textForeign'])\n",
        "        elif entry['sectionId'] == 'b4':\n",
        "          if entry['itemId'] == 6:\n",
        "            tmp = entry['textForeign'].split(' ')\n",
        "            tmp.pop(2)\n",
        "            return ' '.join(tmp)\n",
        "          else:\n",
        "            return rpronouns(entry['textForeign'])\n",
        "        elif entry['sectionId'] == 'b5':\n",
        "          return rpronouns(entry['textForeign'])\n",
        "        else:\n",
        "          return rpronouns(entry['textForeign'])"
      ],
      "execution_count": 48,
      "outputs": []
    },
    {
      "cell_type": "code",
      "metadata": {
        "id": "2jsxG_AL5TDI"
      },
      "source": [
        "import glob\n",
        "import json\n",
        "files = glob.glob('./upper_sorbian/sprachkurs/*.json')\n",
        "rawjson = list()\n",
        "for f in files:\n",
        "  with open(f) as fh:\n",
        "    rawjson.append(json.load(fh))"
      ],
      "execution_count": null,
      "outputs": []
    },
    {
      "cell_type": "code",
      "metadata": {
        "id": "aUkt9TmK-dFd"
      },
      "source": [
        "import re\n",
        "def cleaner(text):\n",
        "  text = re.sub(r\"[\\.,;:\\|\\?\\!…\\/]\", '', text)\n",
        "  text = re.sub('\\s+', ' ', text)\n",
        "  return text.lower().strip()"
      ],
      "execution_count": 69,
      "outputs": []
    },
    {
      "cell_type": "code",
      "metadata": {
        "id": "hEnrObWX8zQb"
      },
      "source": [
        "corpus = list()\n",
        "basepath = '/workspace/data/upper_sorbian/sprachkurs/'\n",
        "for section in rawjson:\n",
        "  for item in section:\n",
        "    entry = dict()\n",
        "    pron = dopronouns(item)\n",
        "    entry['sentence'] = cleaner(pron)\n",
        "    spkid = speakerid(item)\n",
        "    entry['speaker_id'] = spkid\n",
        "    entry['gender'] = genders.get(spkid)\n",
        "    entry['path'] = '{}{}'.format(basepath, item['audio'])\n",
        "    entry['id'] = 'sk{}_{}_{}_{}'.format(spkid, item['chapterId'], item['sectionId'], item['itemId'])\n",
        "    corpus.append(entry)"
      ],
      "execution_count": 70,
      "outputs": []
    },
    {
      "cell_type": "code",
      "metadata": {
        "id": "bJ0PMtsyAT_Y"
      },
      "source": [
        "import json\n",
        "with open('sprachkurs.json', 'w') as outfile:\n",
        "    json.dump(corpus, outfile)"
      ],
      "execution_count": 71,
      "outputs": []
    }
  ]
}