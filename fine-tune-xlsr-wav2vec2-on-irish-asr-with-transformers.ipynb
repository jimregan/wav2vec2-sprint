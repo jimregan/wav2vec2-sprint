{
 "cells": [
  {
   "cell_type": "markdown",
   "metadata": {
    "id": "LBSYoWbi-45k"
   },
   "source": [
    "# **Fine-tuning XLSR-Wav2Vec2 for Multi-Lingual ASR with 🤗 Transformers**"
   ]
  },
  {
   "cell_type": "markdown",
   "metadata": {},
   "source": [
    "## Pre-configuration"
   ]
  },
  {
   "cell_type": "code",
   "execution_count": 1,
   "metadata": {},
   "outputs": [],
   "source": [
    "from ipywidgets import widgets"
   ]
  },
  {
   "cell_type": "code",
   "execution_count": 2,
   "metadata": {},
   "outputs": [],
   "source": [
    "import os"
   ]
  },
  {
   "cell_type": "code",
   "execution_count": 3,
   "metadata": {},
   "outputs": [],
   "source": [
    "language_code = 'ga-IE'\n",
    "language_name = 'irish'\n",
    "base_model = \"facebook/wav2vec2-large-xlsr-53\"\n",
    "pretrain_model = f\"jimregan/wav2vec2-large-xlsr-{language_name}-base\"\n",
    "\n",
    "data_dir = f\"/workspace/data/{language_code}\"\n",
    "output_models_dir = f\"/workspace/output_models/{language_code}/wav2vec2-large-xlsr-{language_name}-base\""
   ]
  },
  {
   "cell_type": "code",
   "execution_count": null,
   "metadata": {},
   "outputs": [],
   "source": [
    "### Wandb configuration\n",
    "#!wandb login \n",
    "display(\"For wandb login please visit https://wandb.ai/authorize\")\n",
    "\n",
    "wandb_login = widgets.Text(description=\"Token :\")\n",
    "wandb_button = widgets.Button(description=\"Validate\")\n",
    "\n",
    "def handle_wb_submit(sender):\n",
    "    token = wandb_login.value\n",
    "    os.system(f\"wandb login {token}\")\n",
    "    \n",
    "if 'WANDB_API_KEY' not in os.environ:\n",
    "    display(wandb_login)\n",
    "    display(wandb_button)\n",
    "    wandb_button.on_click(handle_wb_submit)\n",
    "    \n",
    "\n",
    "\n",
    "\n",
    "\n",
    "    \n",
    "    \n"
   ]
  },
  {
   "cell_type": "code",
   "execution_count": null,
   "metadata": {},
   "outputs": [],
   "source": [
    "# optional c\n",
    "!wandb login"
   ]
  },
  {
   "cell_type": "markdown",
   "metadata": {},
   "source": [
    "## Presentation"
   ]
  },
  {
   "cell_type": "markdown",
   "metadata": {
    "id": "V7YOT2mnUiea"
   },
   "source": [
    "Wav2Vec2 is a pretrained model for Automatic Speech Recognition (ASR) and was released in [September 2020](https://ai.facebook.com/blog/wav2vec-20-learning-the-structure-of-speech-from-raw-audio/) by Alexei Baevski, Michael Auli, and Alex Conneau.  Soon after the superior performance of Wav2Vec2 was demonstrated on the English ASR dataset LibriSpeech, *Facebook AI* presented XLSR-Wav2Vec2 (click [here](https://arxiv.org/abs/2006.13979)). XLSR stands for *cross-lingual  speech representations* and refers to XLSR-Wav2Vec2`s ability to learn speech representations that are useful across multiple languages.\n",
    "\n",
    "Similar to Wav2Vec2, XLSR-Wav2Vec2 learns powerful speech representations from hundreds of thousands of hours of speech in more than 50 languages of unlabeled speech. Similar, to [BERT's masked language modeling](http://jalammar.github.io/illustrated-bert/), the model learns contextualized speech representations by randomly masking feature vectors before passing them to a transformer network.\n",
    "\n",
    "![wav2vec2_structure](https://raw.githubusercontent.com/patrickvonplaten/scientific_images/master/xlsr_wav2vec2.png)\n",
    "\n",
    "The authors show for the first time that massively pretraining an ASR model on cross-lingual unlabeled speech data, followed by language-specific fine-tuning on very little labeled data achieves state-of-the-art results. See Table 1-5 of the official [paper](https://arxiv.org/pdf/2006.13979.pdf)."
   ]
  },
  {
   "cell_type": "markdown",
   "metadata": {
    "id": "nT_QrfWtsxIz"
   },
   "source": [
    "In this notebook, we will give an in-detail explanation of how XLSR-Wav2Vec2's pretrained checkpoint can be fine-tuned on a low-resource ASR dataset of any language. Note that in this notebook, we will fine-tune XLSR-Wav2Vec2 without making use of a language model. It is much simpler and more efficient to use XLSR-Wav2Vec2 without a language model, but better results can be achieved by including a language model. \n",
    "\n",
    "For demonstration purposes, we fine-tune the [wav2vec2-large-xlsr-53](https://huggingface.co/facebook/wav2vec2-large-xlsr-53) on the low resource Turkish ASR dataset of [Common Voice](https://huggingface.co/datasets/common_voice) that contains just ~6h of validated training data."
   ]
  },
  {
   "cell_type": "markdown",
   "metadata": {
    "id": "Gx9OdDYrCtQ1"
   },
   "source": [
    "XLSR-Wav2Vec2 is fine-tuned using Connectionist Temporal Classification (CTC), which is an algorithm that is used to train neural networks for sequence-to-sequence problems and mainly in Automatic Speech Recognition and handwriting recognition. \n",
    "\n",
    "I highly recommend reading the blog post [Sequence Modeling with CTC (2017)](https://distill.pub/2017/ctc/) very well-written blog post by Awni Hannun."
   ]
  },
  {
   "cell_type": "markdown",
   "metadata": {
    "id": "e335hPmdtASZ"
   },
   "source": [
    "Before we start, let's install both `datasets` and `transformers` from master. Also, we need the `torchaudio` and `librosa` package to load audio files and the `jiwer` to evaluate our fine-tuned model using the [word error rate (WER)](https://huggingface.co/metrics/wer) metric ${}^1$."
   ]
  },
  {
   "cell_type": "markdown",
   "metadata": {
    "id": "Mn9swf6EQ9Vd"
   },
   "source": [
    "\n",
    "\n",
    "\n",
    "---\n",
    "\n",
    "${}^1$ In the [paper](https://arxiv.org/pdf/2006.13979.pdf), the model was evaluated using the phoneme error rate (PER), but by far the most common metric in ASR is the word error rate (WER). To keep this notebook as general as possible we decided to evaluate the model using WER."
   ]
  },
  {
   "cell_type": "markdown",
   "metadata": {
    "id": "0mW-C1Nt-j7k"
   },
   "source": [
    "## Prepare Data, Tokenizer, Feature Extractor"
   ]
  },
  {
   "cell_type": "markdown",
   "metadata": {
    "id": "BeBosnY9BH3e"
   },
   "source": [
    "ASR models transcribe speech to text, which means that we both need a feature extractor that processes the speech signal to the model's input format, *e.g.* a feature vector, and a tokenizer that processes the model's output format to text. \n",
    "\n",
    "In 🤗 Transformers, the XLSR-Wav2Vec2 model is thus accompanied by both a tokenizer, called [Wav2Vec2CTCTokenizer](https://huggingface.co/transformers/master/model_doc/wav2vec2.html#wav2vec2ctctokenizer), and a feature extractor, called [Wav2Vec2FeatureExtractor](https://huggingface.co/transformers/master/model_doc/wav2vec2.html#wav2vec2featureextractor).\n",
    "\n",
    "Let's start by creating the tokenizer responsible for decoding the model's predictions."
   ]
  },
  {
   "cell_type": "markdown",
   "metadata": {
    "id": "sEXEWEJGQPqD"
   },
   "source": [
    "### Create Wav2Vec2CTCTokenizer"
   ]
  },
  {
   "cell_type": "markdown",
   "metadata": {
    "id": "tWmMikuNEKl_"
   },
   "source": [
    "The [pretrained Wav2Vec2 checkpoint]( ) maps the speech signal to a sequence of context representations as illustrated in the figure above. A fine-tuned XLSR-Wav2Vec2 checkpoint needs to map this sequence of context representations to its corresponding transcription so that a linear layer has to be added on top of the transformer block (shown in yellow). This linear layer is used to classifies each context representation to a token class analogous how, *e.g.*, after pretraining a linear layer is added on top of BERT's embeddings for further classification - *cf.* with *\"BERT\"* section of this [blog post](https://huggingface.co/blog/warm-starting-encoder-decoder).\n",
    "\n",
    "The output size of this layer corresponds to the number of tokens in the vocabulary, which does **not** depend on XLSR-Wav2Vec2's pretraining task, but only on the labeled dataset used for fine-tuning. So in the first step, we will take a look at Common Voice and define a vocabulary based on the dataset's transcriptions."
   ]
  },
  {
   "cell_type": "markdown",
   "metadata": {
    "id": "idBczw8mWzgt"
   },
   "source": [
    "First, let's go to [Common Voice](https://commonvoice.mozilla.org/en/datasets) and pick a language to fine-tune XLSR-Wav2Vec2 on. For this notebook, we will use Turkish. \n",
    "\n",
    "For each language-specific dataset, you can find a language code corresponding to your chosen language. On [Common Voice](https://commonvoice.mozilla.org/en/datasets), look for the field \"Version\". The language code then corresponds to the prefix before the underscore. For Turkish, *e.g.* the language code is `\"tr\"`.\n",
    "\n",
    "Great, now we can use 🤗 Datasets' simple API to download the data. The dataset name will be `\"common_voice\"`, the config name corresponds to the language code - `\"tr\"` in our case."
   ]
  },
  {
   "cell_type": "markdown",
   "metadata": {
    "id": "bee4g9rpLxll"
   },
   "source": [
    "Common Voice has many different splits including `invalidated`, which refers to data that was not rated as \"clean enough\" to be considered useful. In this notebook, we will only make use of the splits `\"train\"`, `\"validation\"` and `\"test\"`. \n",
    "\n",
    "Because the Turkish dataset is so small, we will merge both the validation and training data into a training dataset and simply use the test data for validation."
   ]
  },
  {
   "cell_type": "code",
   "execution_count": 4,
   "metadata": {
    "colab": {
     "base_uri": "https://localhost:8080/",
     "height": 227,
     "referenced_widgets": [
      "def702d8f8354fa4999587a5c68d0034",
      "2fd148d5587b4139919b0158f9dad71e",
      "edf36819322e4f9fa227a11592fef429",
      "ce337f50183942e6a74ca1b33735ade9",
      "8292dafcd40745958d0f3c563bf6b9b0",
      "93f191a48b3141e1889fd94870b6ac0e",
      "9532db4cdc5e4371a4a02055a4c67a08",
      "e9a702f10538415b970ea1345804d72c",
      "f3adb92e618743cca3299e3e7b6e369f",
      "83b51e16d88046c48dcd745cf09d2e56",
      "b0e3a36279d243ab9943149705c72c3e",
      "12696cc03f464a63a411efb2b5e5ac3b",
      "530f66ac087e4f8f979fcaa33941c60d",
      "a34dae18d9994b848630d4e3d836e0cb",
      "68a3178fe7a54e838e798ff28ff9aa0b",
      "ceb44ba4fdf34da19a52469acf1ce63f",
      "90b8bc59e26a46009e1d3763f86f227a",
      "3e2cd59ac697495f8db14b894b783f95",
      "98e7ab5f7ebf426fbb71a37bbad4c28f",
      "e3b719c0ffcc4fd1b410ffb7f969b7a5",
      "4382726ef043441a9b1a4a647d84f242",
      "2f5406546970425282a881b5d2f7c248",
      "19e263785ea343ba99ee2127d9b83d1d",
      "c9dc4421940241c59f1151aeabedc98b",
      "8701fb161cec47e89fc4d57b599ee7fe",
      "1813458f75514f039ba0214597a09bb4",
      "7f787df324514a8c915785e272a8af18",
      "889da3e5ed2945849d3c8a6a75175747",
      "71ffdf6f26ba4381a8e671958e679f88",
      "7916b06da182435a9cc1d13c73310500",
      "59e0f5200068461cbfb256ad5479c4c8",
      "2cd13e03a2ab45dc8570c8c739a613b4",
      "089428f56e66419f85ea149d9d102454",
      "d649c0f9c1c24634a84b7ef697721ffa",
      "4db5037af3f64a3a8a8a1203018a80ff",
      "6a957c1c17474d8d89c27ddecf702fda",
      "2a6e1185a6a247f5acba8111824ad36b",
      "c0e6b6e6395d4dbd827eb1c0de1ad21a",
      "05f83d714f864a399083f0e34a812467",
      "91fcf0641fe3489ab96f3aaa40adf245",
      "25ba4f4c8b9c44af9885b3903a9261fd",
      "dde7ae43ef954ef1b901c80f0a4e11fd",
      "03b33c17734d49e28c4636dddd6e833d",
      "71c059a0f3c246f3a40d55744331daaa",
      "da1ff50f8b9241108a325ada04224642",
      "bee0f50055eb4f738636142a10da0ddd",
      "cb5666eb8ebb4d1392e98d6b5af8761c",
      "430c3c079d0e4006b90e72df7986ffb0",
      "6c065aa34661469ca1efb4c5e90fe136",
      "540510088d3947f1b3cf6f4c983c1a53",
      "0a9b58c98508420d8f8936189f064316",
      "8dd5b08bb5bd4e608d04122424796ae7",
      "c546bca23ee248a1be7bd8ead3e82a8f",
      "af85713f677243d19cba9fe69a4a5f46",
      "2f18d89c684343b69c3f44ffbb9b42a0",
      "9eb51a6ecf3f41578aa397a5c2a33673"
     ]
    },
    "id": "2MMXcWFFgCXU",
    "outputId": "dc239772-da3b-4ef0-d029-f161f0625fff"
   },
   "outputs": [
    {
     "data": {
      "application/vnd.jupyter.widget-view+json": {
       "model_id": "1aef4f6bca4d4e848b9f0267eb5f8903",
       "version_major": 2,
       "version_minor": 0
      },
      "text/plain": [
       "HBox(children=(FloatProgress(value=0.0, description='Downloading', max=4323.0, style=ProgressStyle(description…"
      ]
     },
     "metadata": {},
     "output_type": "display_data"
    },
    {
     "name": "stdout",
     "output_type": "stream",
     "text": [
      "\n"
     ]
    },
    {
     "data": {
      "application/vnd.jupyter.widget-view+json": {
       "model_id": "c15d6d72666e4b3cbda183e2fb050c29",
       "version_major": 2,
       "version_minor": 0
      },
      "text/plain": [
       "HBox(children=(FloatProgress(value=0.0, description='Downloading', max=9954.0, style=ProgressStyle(description…"
      ]
     },
     "metadata": {},
     "output_type": "display_data"
    },
    {
     "name": "stdout",
     "output_type": "stream",
     "text": [
      "\n",
      "Downloading and preparing dataset common_voice/ga-IE (download: 149.30 MiB, generated: 1.68 MiB, post-processed: Unknown size, total: 150.98 MiB) to /workspace/.cache/huggingface/datasets/common_voice/ga-IE/6.1.0/0041e06ab061b91d0a23234a2221e87970a19cf3a81b20901474cffffeb7869f...\n"
     ]
    },
    {
     "data": {
      "application/vnd.jupyter.widget-view+json": {
       "model_id": "46713f1c5340422cab91213c911bca0f",
       "version_major": 2,
       "version_minor": 0
      },
      "text/plain": [
       "HBox(children=(FloatProgress(value=0.0, description='Downloading', max=156553447.0, style=ProgressStyle(descri…"
      ]
     },
     "metadata": {},
     "output_type": "display_data"
    },
    {
     "name": "stdout",
     "output_type": "stream",
     "text": [
      "\n"
     ]
    },
    {
     "data": {
      "application/vnd.jupyter.widget-view+json": {
       "model_id": "",
       "version_major": 2,
       "version_minor": 0
      },
      "text/plain": [
       "HBox(children=(FloatProgress(value=1.0, bar_style='info', max=1.0), HTML(value='')))"
      ]
     },
     "metadata": {},
     "output_type": "display_data"
    },
    {
     "data": {
      "application/vnd.jupyter.widget-view+json": {
       "model_id": "",
       "version_major": 2,
       "version_minor": 0
      },
      "text/plain": [
       "HBox(children=(FloatProgress(value=1.0, bar_style='info', max=1.0), HTML(value='')))"
      ]
     },
     "metadata": {},
     "output_type": "display_data"
    },
    {
     "data": {
      "application/vnd.jupyter.widget-view+json": {
       "model_id": "",
       "version_major": 2,
       "version_minor": 0
      },
      "text/plain": [
       "HBox(children=(FloatProgress(value=1.0, bar_style='info', max=1.0), HTML(value='')))"
      ]
     },
     "metadata": {},
     "output_type": "display_data"
    },
    {
     "data": {
      "application/vnd.jupyter.widget-view+json": {
       "model_id": "",
       "version_major": 2,
       "version_minor": 0
      },
      "text/plain": [
       "HBox(children=(FloatProgress(value=1.0, bar_style='info', max=1.0), HTML(value='')))"
      ]
     },
     "metadata": {},
     "output_type": "display_data"
    },
    {
     "data": {
      "application/vnd.jupyter.widget-view+json": {
       "model_id": "",
       "version_major": 2,
       "version_minor": 0
      },
      "text/plain": [
       "HBox(children=(FloatProgress(value=1.0, bar_style='info', max=1.0), HTML(value='')))"
      ]
     },
     "metadata": {},
     "output_type": "display_data"
    },
    {
     "name": "stdout",
     "output_type": "stream",
     "text": [
      "Dataset common_voice downloaded and prepared to /workspace/.cache/huggingface/datasets/common_voice/ga-IE/6.1.0/0041e06ab061b91d0a23234a2221e87970a19cf3a81b20901474cffffeb7869f. Subsequent calls will reuse this data.\n"
     ]
    },
    {
     "name": "stderr",
     "output_type": "stream",
     "text": [
      "Reusing dataset common_voice (/workspace/.cache/huggingface/datasets/common_voice/ga-IE/6.1.0/0041e06ab061b91d0a23234a2221e87970a19cf3a81b20901474cffffeb7869f)\n"
     ]
    }
   ],
   "source": [
    "from datasets import load_dataset, load_metric\n",
    "\n",
    "common_voice_train = load_dataset(\"common_voice\", language_code, split=\"train+validation\")\n",
    "common_voice_test = load_dataset(\"common_voice\", language_code, split=\"test\")"
   ]
  },
  {
   "cell_type": "markdown",
   "metadata": {
    "id": "ri5y5N_HMANq"
   },
   "source": [
    "Many ASR datasets only provide the target text, `'sentence'` for each audio file `'path'`. Common Voice actually provides much more information about each audio file, such as the `'accent'`, etc. However, we want to keep the notebook as general as possible, so that we will only consider the transcribed text for fine-tuning.\n",
    "\n"
   ]
  },
  {
   "cell_type": "code",
   "execution_count": 5,
   "metadata": {
    "id": "kbyq6lDgQc2a"
   },
   "outputs": [],
   "source": [
    "common_voice_train = common_voice_train.remove_columns([\"accent\", \"age\", \"client_id\", \"down_votes\", \"gender\", \"locale\", \"segment\", \"up_votes\"])\n",
    "common_voice_test = common_voice_test.remove_columns([\"accent\", \"age\", \"client_id\", \"down_votes\", \"gender\", \"locale\", \"segment\", \"up_votes\"])"
   ]
  },
  {
   "cell_type": "markdown",
   "metadata": {
    "id": "Go9Hq4e4NDT9"
   },
   "source": [
    "Let's write a short function to display some random samples of the dataset and run it a couple of times to get a feeling for the transcriptions."
   ]
  },
  {
   "cell_type": "code",
   "execution_count": 6,
   "metadata": {
    "id": "72737oog2F6U"
   },
   "outputs": [],
   "source": [
    "from datasets import ClassLabel\n",
    "import random\n",
    "import pandas as pd\n",
    "from IPython.display import display, HTML\n",
    "\n",
    "def show_random_elements(dataset, num_examples=10):\n",
    "    assert num_examples <= len(dataset), \"Can't pick more elements than there are in the dataset.\"\n",
    "    picks = []\n",
    "    for _ in range(num_examples):\n",
    "        pick = random.randint(0, len(dataset)-1)\n",
    "        while pick in picks:\n",
    "            pick = random.randint(0, len(dataset)-1)\n",
    "        picks.append(pick)\n",
    "    \n",
    "    df = pd.DataFrame(dataset[picks])\n",
    "    display(HTML(df.to_html()))"
   ]
  },
  {
   "cell_type": "code",
   "execution_count": 7,
   "metadata": {
    "colab": {
     "base_uri": "https://localhost:8080/",
     "height": 669
    },
    "id": "K_JUmf3G3b9S",
    "outputId": "a8fe6d21-b0ce-4d5b-e3a2-abe08ae551f7"
   },
   "outputs": [
    {
     "data": {
      "text/html": [
       "<table border=\"1\" class=\"dataframe\">\n",
       "  <thead>\n",
       "    <tr style=\"text-align: right;\">\n",
       "      <th></th>\n",
       "      <th>sentence</th>\n",
       "    </tr>\n",
       "  </thead>\n",
       "  <tbody>\n",
       "    <tr>\n",
       "      <th>0</th>\n",
       "      <td>Airleacain ó údaráis tithe chun tithe a athfhoirgniú, a dheisiú agus a fheabhsú.</td>\n",
       "    </tr>\n",
       "    <tr>\n",
       "      <th>1</th>\n",
       "      <td>tá sé ar an gcapall</td>\n",
       "    </tr>\n",
       "    <tr>\n",
       "      <th>2</th>\n",
       "      <td>Ag an ngeata</td>\n",
       "    </tr>\n",
       "    <tr>\n",
       "      <th>3</th>\n",
       "      <td>Tá sibh le moladh.</td>\n",
       "    </tr>\n",
       "    <tr>\n",
       "      <th>4</th>\n",
       "      <td>Is maith an rud é go dtéann na bóithre i gCiarraí as Ciarraí</td>\n",
       "    </tr>\n",
       "    <tr>\n",
       "      <th>5</th>\n",
       "      <td>Déan duit féin é</td>\n",
       "    </tr>\n",
       "    <tr>\n",
       "      <th>6</th>\n",
       "      <td>Na bróga móra</td>\n",
       "    </tr>\n",
       "    <tr>\n",
       "      <th>7</th>\n",
       "      <td>Bhí sé ar dhuine d’intinní dlíthúla móra ár linne</td>\n",
       "    </tr>\n",
       "    <tr>\n",
       "      <th>8</th>\n",
       "      <td>Thit an duilleog den chrann.</td>\n",
       "    </tr>\n",
       "    <tr>\n",
       "      <th>9</th>\n",
       "      <td>Is iad an Amasóin agus an Níl na haibhneacha is faide ar domhan</td>\n",
       "    </tr>\n",
       "    <tr>\n",
       "      <th>10</th>\n",
       "      <td>A chomhaltaí na Comhairle Stáit</td>\n",
       "    </tr>\n",
       "    <tr>\n",
       "      <th>11</th>\n",
       "      <td>Tá áthas orm a bheith anseo inniú chun ‘Ollamh Éireann le Filíocht’ nua a fhógairt</td>\n",
       "    </tr>\n",
       "    <tr>\n",
       "      <th>12</th>\n",
       "      <td>Tuigimid go léir a thábhachtaí agus atá ról na dtuismitheoirí in oideachas a bpáistí.</td>\n",
       "    </tr>\n",
       "    <tr>\n",
       "      <th>13</th>\n",
       "      <td>Go raibh míle maith agaibh</td>\n",
       "    </tr>\n",
       "    <tr>\n",
       "      <th>14</th>\n",
       "      <td>Chreid Leonardo féin go láidir i gcumhacht an phictiúir mar uirlis eolais</td>\n",
       "    </tr>\n",
       "    <tr>\n",
       "      <th>15</th>\n",
       "      <td>Scór bliain ó shin ar Oíche Shamhna, déanadh éacht i stair na tíre</td>\n",
       "    </tr>\n",
       "    <tr>\n",
       "      <th>16</th>\n",
       "      <td>Nuair a bhíonn an t-ól istigh, bíonn an chiall amuigh</td>\n",
       "    </tr>\n",
       "    <tr>\n",
       "      <th>17</th>\n",
       "      <td>Ní raibh a thuairimí radacacha inghlactha ag muintir na cathrach ag an am sin</td>\n",
       "    </tr>\n",
       "    <tr>\n",
       "      <th>18</th>\n",
       "      <td>An mbeidh do dheirfiúr anseo</td>\n",
       "    </tr>\n",
       "    <tr>\n",
       "      <th>19</th>\n",
       "      <td>ó na háiteanna seo</td>\n",
       "    </tr>\n",
       "  </tbody>\n",
       "</table>"
      ],
      "text/plain": [
       "<IPython.core.display.HTML object>"
      ]
     },
     "metadata": {},
     "output_type": "display_data"
    }
   ],
   "source": [
    "show_random_elements(common_voice_train.remove_columns([\"path\"]), num_examples=20)"
   ]
  },
  {
   "cell_type": "markdown",
   "metadata": {
    "id": "fowcOllGNNju"
   },
   "source": [
    "Alright! The transcriptions look fairly clean. Having translated the transcribed sentences (I'm sadly not a native speaker in Turkish), it seems that the language corresponds more to written text than noisy dialogue. This makes sense taking into account that [Common Voice](https://huggingface.co/datasets/common_voice) is a crowd-sourced read speech corpus."
   ]
  },
  {
   "cell_type": "markdown",
   "metadata": {
    "id": "vq7OR50LN49m"
   },
   "source": [
    "We can see that the transcriptions contain some special characters, such as `,.?!;:`. Without a language model, it is much harder to classify speech chunks to such special characters because they don't really correspond to a characteristic sound unit. *E.g.*, the letter `\"s\"` has a more or less clear sound, whereas the special character `\".\"` does not.\n",
    "Also in order to understand the meaning of a speech signal, it is usually not necessary to include special characters in the transcription.\n",
    "\n",
    "In addition, we normalize the text to only have lower case letters and append a word separator token at the end."
   ]
  },
  {
   "cell_type": "code",
   "execution_count": 10,
   "metadata": {},
   "outputs": [],
   "source": [
    "def is_upper_vowel(letter):\n",
    "  if letter in ['A', 'E', 'I', 'O', 'U', 'Á', 'É', 'Í', 'Ó', 'Ú']:\n",
    "    return True\n",
    "  else:\n",
    "    return False\n",
    "\n",
    "def irish_lower(word):\n",
    "  if len(word) > 1 and word[0] in ['n', 't'] and is_upper_vowel(word[1]):\n",
    "    return word[0] + '-' + word[1:].lower()\n",
    "  else:\n",
    "    return word.lower()\n",
    "\n",
    "def irish_lower_sentence(sentence):\n",
    "  return \" \".join([irish_lower(w) for w in sentence.split(\" \")])\n"
   ]
  },
  {
   "cell_type": "code",
   "execution_count": 11,
   "metadata": {
    "id": "svKzVJ_hQGK6"
   },
   "outputs": [],
   "source": [
    "import re\n",
    "chars_to_ignore_regex = '[,\\?\\.\\!\\;\\:\\\"\\“\\%\\‘\\”\\(\\)\\*\\–]'\n",
    "\n",
    "def remove_special_characters(batch):\n",
    "    tmp = re.sub('’ ', ' ', batch[\"sentence\"])\n",
    "    tmp = re.sub(\"’$\", '', tmp)\n",
    "    tmp = re.sub('’', '\\'', tmp)\n",
    "    tmp = re.sub(chars_to_ignore_regex, '', tmp)\n",
    "    batch[\"sentence\"] = irish_lower_sentence(tmp) + ' '\n",
    "    return batch"
   ]
  },
  {
   "cell_type": "code",
   "execution_count": 12,
   "metadata": {
    "colab": {
     "base_uri": "https://localhost:8080/",
     "height": 117,
     "referenced_widgets": [
      "92a35db69bbf4ad6af44c53aa3870be5",
      "389e43e47a734193a507817ebad955f7",
      "b94e374d92c146009447c3827b977267",
      "1f1faa7b986e475c9e6839b2e7b55c74",
      "4ff7ccffc36a4a0f93031f5cdc3b718d",
      "b177a8cb85a24b88ab6d56205b630f1d",
      "2ca2f397c4ef405bba27ae2b1415cada",
      "b320306eaf264ad9872d507a1a1cb2da",
      "cc9c1e00c2d34516b8fd9edff96bb0d8",
      "6abfbe44a1bd4518b41f5f53f920e936",
      "33c92b5afd1d4b6d88016aabfb434194",
      "998676d59f9c464e8463d65baad6448b",
      "45f0a2f361da4608bc8314a27657a56c",
      "3dc9ea77b842455a91f00e9ca9f41948",
      "7bf5b2b625764f63ad57a360c3fd0a61",
      "7b4cfd2b448643b8a4409dd612aef0d1"
     ]
    },
    "id": "XIHocAuTQbBR",
    "outputId": "cc1a70b2-7b4d-410b-f997-1f1c47c3c9e5"
   },
   "outputs": [
    {
     "data": {
      "application/vnd.jupyter.widget-view+json": {
       "model_id": "7e62707b1a584ff882134d0c85de4258",
       "version_major": 2,
       "version_minor": 0
      },
      "text/plain": [
       "HBox(children=(FloatProgress(value=0.0, max=1038.0), HTML(value='')))"
      ]
     },
     "metadata": {},
     "output_type": "display_data"
    },
    {
     "name": "stdout",
     "output_type": "stream",
     "text": [
      "\n"
     ]
    },
    {
     "data": {
      "application/vnd.jupyter.widget-view+json": {
       "model_id": "4a0f11f2df5441cebe6c2c895be29111",
       "version_major": 2,
       "version_minor": 0
      },
      "text/plain": [
       "HBox(children=(FloatProgress(value=0.0, max=506.0), HTML(value='')))"
      ]
     },
     "metadata": {},
     "output_type": "display_data"
    },
    {
     "name": "stdout",
     "output_type": "stream",
     "text": [
      "\n"
     ]
    }
   ],
   "source": [
    "common_voice_train = common_voice_train.map(remove_special_characters)\n",
    "common_voice_test = common_voice_test.map(remove_special_characters)"
   ]
  },
  {
   "cell_type": "code",
   "execution_count": 13,
   "metadata": {
    "colab": {
     "base_uri": "https://localhost:8080/",
     "height": 359
    },
    "id": "RBDRAAYxRE6n",
    "outputId": "c3a72eaa-8ddc-4283-ccb8-52e50215b84d"
   },
   "outputs": [
    {
     "data": {
      "text/html": [
       "<table border=\"1\" class=\"dataframe\">\n",
       "  <thead>\n",
       "    <tr style=\"text-align: right;\">\n",
       "      <th></th>\n",
       "      <th>sentence</th>\n",
       "    </tr>\n",
       "  </thead>\n",
       "  <tbody>\n",
       "    <tr>\n",
       "      <th>0</th>\n",
       "      <td>ach ní h-aon íontas an méid sin</td>\n",
       "    </tr>\n",
       "    <tr>\n",
       "      <th>1</th>\n",
       "      <td>osclaígí go léir bhur leabhair a bhuachaillí</td>\n",
       "    </tr>\n",
       "    <tr>\n",
       "      <th>2</th>\n",
       "      <td>craic ar dóigh a bhí ann</td>\n",
       "    </tr>\n",
       "    <tr>\n",
       "      <th>3</th>\n",
       "      <td>cá mbeidh sí</td>\n",
       "    </tr>\n",
       "    <tr>\n",
       "      <th>4</th>\n",
       "      <td>a sheansailéir a leas-sheansailéir a mhic léinn a dhaoine uaisle</td>\n",
       "    </tr>\n",
       "    <tr>\n",
       "      <th>5</th>\n",
       "      <td>tá súil agam go bhfuil sibh ag baint taitnimh as an lá</td>\n",
       "    </tr>\n",
       "    <tr>\n",
       "      <th>6</th>\n",
       "      <td>bíonn grásta dé idir an diallait agus an talamh</td>\n",
       "    </tr>\n",
       "    <tr>\n",
       "      <th>7</th>\n",
       "      <td>cúigear</td>\n",
       "    </tr>\n",
       "    <tr>\n",
       "      <th>8</th>\n",
       "      <td>ainm an cheantair iascaigh</td>\n",
       "    </tr>\n",
       "    <tr>\n",
       "      <th>9</th>\n",
       "      <td>an maoirseoir tithe an oireachtais agus captaen an gharda tithe an oireachtais a cheapadh</td>\n",
       "    </tr>\n",
       "  </tbody>\n",
       "</table>"
      ],
      "text/plain": [
       "<IPython.core.display.HTML object>"
      ]
     },
     "metadata": {},
     "output_type": "display_data"
    }
   ],
   "source": [
    "show_random_elements(common_voice_train.remove_columns([\"path\"]))"
   ]
  },
  {
   "cell_type": "markdown",
   "metadata": {
    "id": "jwfaptH5RJwA"
   },
   "source": [
    "Good! This looks better. We have removed most special characters from transcriptions and normalized them to lower-case only.\n",
    "\n",
    "In CTC, it is common to classify speech chunks into letters, so we will do the same here. \n",
    "Let's extract all distinct letters of the training and test data and build our vocabulary from this set of letters.\n",
    "\n",
    "We write a mapping function that concatenates all transcriptions into one long transcription and then transforms the string into a set of chars. \n",
    "It is important to pass the argument `batched=True` to the `map(...)` function so that the mapping function has access to all transcriptions at once."
   ]
  },
  {
   "cell_type": "code",
   "execution_count": 14,
   "metadata": {
    "id": "LwCshNbbeRZR"
   },
   "outputs": [],
   "source": [
    "def extract_all_chars(batch):\n",
    "  all_text = \" \".join(batch[\"sentence\"])\n",
    "  vocab = list(set(all_text))\n",
    "  return {\"vocab\": [vocab], \"all_text\": [all_text]}"
   ]
  },
  {
   "cell_type": "code",
   "execution_count": 15,
   "metadata": {
    "colab": {
     "base_uri": "https://localhost:8080/",
     "height": 117,
     "referenced_widgets": [
      "304e9130c12f4110941bfbd3db49a28c",
      "5e6bae23461b4378b6e5fc890fe6bc97",
      "75e00c38605f44cfb584067db1160349",
      "8c07a528fc4a4e108b393ab117fe2e46",
      "c01aca3229a24d41841be2b4a3a65bcc",
      "73ecbfc3c5c5456bb42e19b8a34b1576",
      "813fc95246034f5cb9e5198897b4ed42",
      "8bb78a89ff81400791e3005098fdcb94",
      "bd0958ea97b141b1aca367c71721c549",
      "0354ab33471e4c34a0c1b3c062bcd6bb",
      "d080668299ef42fabb8ab6fbcf329cea",
      "aafd4b2c56db43378c4627797665db17",
      "b0f3a205ad4546188fc6e7e7cf96ab32",
      "f972527479e74337a98f236ed018ae1d",
      "ccb720bf256e42f7b0251494ccb7741f",
      "ad428686450f4ebdb50a0356b2e5a8c4"
     ]
    },
    "id": "_m6uUjjcfbjH",
    "outputId": "75a1a23f-a9c7-4c8b-8777-dad120a9aa9a"
   },
   "outputs": [
    {
     "data": {
      "application/vnd.jupyter.widget-view+json": {
       "model_id": "568b3d44c4e94506a37f30641dc4a63e",
       "version_major": 2,
       "version_minor": 0
      },
      "text/plain": [
       "HBox(children=(FloatProgress(value=0.0, max=1.0), HTML(value='')))"
      ]
     },
     "metadata": {},
     "output_type": "display_data"
    },
    {
     "name": "stdout",
     "output_type": "stream",
     "text": [
      "\n"
     ]
    },
    {
     "data": {
      "application/vnd.jupyter.widget-view+json": {
       "model_id": "197470dc307148808e1db81df3553f8f",
       "version_major": 2,
       "version_minor": 0
      },
      "text/plain": [
       "HBox(children=(FloatProgress(value=0.0, max=1.0), HTML(value='')))"
      ]
     },
     "metadata": {},
     "output_type": "display_data"
    },
    {
     "name": "stdout",
     "output_type": "stream",
     "text": [
      "\n"
     ]
    }
   ],
   "source": [
    "vocab_train = common_voice_train.map(extract_all_chars, batched=True, batch_size=-1, keep_in_memory=True, remove_columns=common_voice_train.column_names)\n",
    "vocab_test = common_voice_test.map(extract_all_chars, batched=True, batch_size=-1, keep_in_memory=True, remove_columns=common_voice_test.column_names)"
   ]
  },
  {
   "cell_type": "markdown",
   "metadata": {
    "id": "7oVgE8RZSJNP"
   },
   "source": [
    "Now, we create the union of all distinct letters in the training dataset and test dataset and convert the resulting list into an enumerated dictionary."
   ]
  },
  {
   "cell_type": "code",
   "execution_count": 16,
   "metadata": {
    "id": "aQfneNsmlJI0"
   },
   "outputs": [],
   "source": [
    "vocab_list = list(set(vocab_train[\"vocab\"][0]) | set(vocab_test[\"vocab\"][0]))"
   ]
  },
  {
   "cell_type": "code",
   "execution_count": 17,
   "metadata": {
    "colab": {
     "base_uri": "https://localhost:8080/"
    },
    "id": "_0kRndSvqaKk",
    "outputId": "29f5d23f-75b1-44d0-9975-87f9ec4c0aa5"
   },
   "outputs": [
    {
     "data": {
      "text/plain": [
       "{'x': 0,\n",
       " 'm': 1,\n",
       " 'í': 2,\n",
       " 'w': 3,\n",
       " 'y': 4,\n",
       " 'a': 5,\n",
       " 'r': 6,\n",
       " 'c': 7,\n",
       " 'e': 8,\n",
       " 't': 9,\n",
       " 'v': 10,\n",
       " 'g': 11,\n",
       " 'u': 12,\n",
       " 'f': 13,\n",
       " 'ó': 14,\n",
       " 'n': 15,\n",
       " 'á': 16,\n",
       " 'ú': 17,\n",
       " 'h': 18,\n",
       " 'j': 19,\n",
       " '-': 20,\n",
       " 'l': 21,\n",
       " 'p': 22,\n",
       " \"'\": 23,\n",
       " 's': 24,\n",
       " ' ': 25,\n",
       " 'i': 26,\n",
       " 'd': 27,\n",
       " 'b': 28,\n",
       " 'k': 29,\n",
       " 'é': 30,\n",
       " 'o': 31}"
      ]
     },
     "execution_count": 17,
     "metadata": {},
     "output_type": "execute_result"
    }
   ],
   "source": [
    "vocab_dict = {v: k for k, v in enumerate(vocab_list)}\n",
    "vocab_dict"
   ]
  },
  {
   "cell_type": "markdown",
   "metadata": {
    "id": "JOSzbvs9SXT1"
   },
   "source": [
    "Cool, we see that all letters of the alphabet occur in the dataset (which is not really surprising) and we also extracted the special characters `\" \"` and `'`. Note that we did not exclude those special characters because: \n",
    "\n",
    "- The model has to learn to predict when a word is finished or else the model prediction would always be a sequence of chars which would make it impossible to separate words from each other.\n",
    "- From the transcriptions above it seems that words that include an apostrophe, such as `maktouf'un` do exist in Turkish, so I decided to keep the apostrophe in the dataset. This might be a wrong assumption though.\n",
    "\n",
    "One should always keep in mind that the data-preprocessing is a very important step before training your model. E.g., we don't want our model to differentiate between `a` and `A` just because we forgot to normalize the data. The difference between `a` and `A` does not depend on the \"sound\" of the letter at all, but more on grammatical rules - *e.g.* use a capitalized letter at the beginning of the sentence. So it is sensible to remove the difference between capitalized and non-capitalized letters so that the model has an easier time learning to transcribe speech. \n",
    "\n",
    "It is always advantageous to get help from a native speaker of the language you would like to transcribe to verify whether the assumptions you made are sensible, *e.g.* I should have made sure that keeping `'`, but removing other special characters is a sensible choice for Turkish. "
   ]
  },
  {
   "cell_type": "markdown",
   "metadata": {
    "id": "b1fBRCn-TRaO"
   },
   "source": [
    "To make it clearer that `\" \"` has its own token class, we give it a more visible character `|`. In addition, we also add an \"unknown\" token so that the model can later deal with characters not encountered in Common Voice's training set. \n",
    "\n",
    "Finally, we also add a padding token that corresponds to CTC's \"*blank token*\". The \"blank token\" is a core component of the CTC algorithm. For more information, please take a look at the \"Alignment\" section [here](https://distill.pub/2017/ctc/)."
   ]
  },
  {
   "cell_type": "code",
   "execution_count": 18,
   "metadata": {
    "id": "npbIbBoLgaFX"
   },
   "outputs": [],
   "source": [
    "vocab_dict[\"|\"] = vocab_dict[\" \"]\n",
    "del vocab_dict[\" \"]"
   ]
  },
  {
   "cell_type": "code",
   "execution_count": 19,
   "metadata": {
    "colab": {
     "base_uri": "https://localhost:8080/"
    },
    "id": "znF0bNunsjbl",
    "outputId": "6dd50862-f4c5-4a05-87a7-da03d157e30e"
   },
   "outputs": [
    {
     "data": {
      "text/plain": [
       "34"
      ]
     },
     "execution_count": 19,
     "metadata": {},
     "output_type": "execute_result"
    }
   ],
   "source": [
    "vocab_dict[\"[UNK]\"] = len(vocab_dict)\n",
    "vocab_dict[\"[PAD]\"] = len(vocab_dict)\n",
    "len(vocab_dict)"
   ]
  },
  {
   "cell_type": "markdown",
   "metadata": {
    "id": "SFPGfet8U5sL"
   },
   "source": [
    "Cool, now our vocabulary is complete and consists of 39 tokens, which means that the linear layer that we will add on top of the pretrained XLSR-Wav2Vec2 checkpoint will have an output dimension of 39."
   ]
  },
  {
   "cell_type": "markdown",
   "metadata": {
    "id": "1CujRgBNVRaD"
   },
   "source": [
    "Let's now save the vocabulary as a json file."
   ]
  },
  {
   "cell_type": "code",
   "execution_count": 20,
   "metadata": {
    "id": "ehyUoh9vk191"
   },
   "outputs": [],
   "source": [
    "import json\n",
    "with open('vocab.json', 'w') as vocab_file:\n",
    "    json.dump(vocab_dict, vocab_file)"
   ]
  },
  {
   "cell_type": "markdown",
   "metadata": {
    "id": "SHJDaKlIVVim"
   },
   "source": [
    "In a final step, we use the json file to instantiate an object of the `Wav2Vec2CTCTokenizer` class."
   ]
  },
  {
   "cell_type": "code",
   "execution_count": 21,
   "metadata": {
    "id": "xriFGEWQkO4M"
   },
   "outputs": [],
   "source": [
    "from transformers import Wav2Vec2CTCTokenizer\n",
    "\n",
    "tokenizer = Wav2Vec2CTCTokenizer(\"./vocab.json\", unk_token=\"[UNK]\", pad_token=\"[PAD]\", word_delimiter_token=\"|\")"
   ]
  },
  {
   "cell_type": "markdown",
   "metadata": {
    "id": "KvL12DrNV4cx"
   },
   "source": [
    "Next, we will create the feature extractor."
   ]
  },
  {
   "cell_type": "markdown",
   "metadata": {
    "id": "mYcIiR2FQ96i"
   },
   "source": [
    "### Create XLSR-Wav2Vec2 Feature Extractor"
   ]
  },
  {
   "cell_type": "markdown",
   "metadata": {
    "id": "Y6mDEyW719rx"
   },
   "source": [
    "Speech is a continuous signal and to be treated by computers, it first has to be discretized, which is usually called **sampling**. The sampling rate hereby plays an important role in that it defines how many data points of the speech signal are measured per second. Therefore, sampling with a higher sampling rate results in a better approximation of the *real* speech signal but also necessitates more values per second.\n",
    "\n",
    "A pretrained checkpoint expects its input data to have been sampled more or less from the same distribution as the data it was trained on. The same speech signals sampled at two different rates have a very different distribution, *e.g.*, doubling the sampling rate results in data points being twice as long. Thus, \n",
    "before fine-tuning a pretrained checkpoint of an ASR model, it is crucial to verify that the sampling rate of the data that was used to pretrain the model matches the sampling rate of the dataset used to fine-tune the model.\n",
    "\n",
    "XLSR-Wav2Vec2 was pretrained on the audio data of [Babel](https://huggingface.co/datasets/librispeech_asr), \n",
    "[Multilingual LibriSpeech (MLS)](https://ai.facebook.com/blog/a-new-open-data-set-for-multilingual-speech-research/), and [Common Voice](https://huggingface.co/datasets/common_voice). Most of those datasets were sampled at 16kHz, so that Common Voice, sampled at 48kHz, has to be downsampled to 16kHz for training. Therefore, we will have to downsample our fine-tuning data to 16kHz in the following.\n",
    "\n"
   ]
  },
  {
   "cell_type": "markdown",
   "metadata": {
    "id": "KuUbPW7oV-B5"
   },
   "source": [
    "A XLSR-Wav2Vec2 feature extractor object requires the following parameters to be instantiated:\n",
    "\n",
    "- `feature_size`: Speech models take a sequence of feature vectors as an input. While the length of this sequence obviously varies, the feature size should not. In the case of Wav2Vec2, the feature size is 1 because the model was trained on the raw speech signal ${}^2$.\n",
    "- `sampling_rate`: The sampling rate at which the model is trained on.\n",
    "- `padding_value`: For batched inference, shorter inputs need to be padded with a specific value\n",
    "- `do_normalize`: Whether the input should be *zero-mean-unit-variance* normalized or not. Usually, speech models perform better when normalizing the input\n",
    "- `return_attention_mask`: Whether the model should make use of an `attention_mask` for batched inference. In general, XLSR-Wav2Vec2 models should **always** make use of the `attention_mask`."
   ]
  },
  {
   "cell_type": "code",
   "execution_count": 22,
   "metadata": {
    "id": "kAR0-2KLkopp"
   },
   "outputs": [],
   "source": [
    "from transformers import Wav2Vec2FeatureExtractor\n",
    "\n",
    "feature_extractor = Wav2Vec2FeatureExtractor(feature_size=1, sampling_rate=16000, padding_value=0.0, do_normalize=True, return_attention_mask=True)"
   ]
  },
  {
   "cell_type": "markdown",
   "metadata": {
    "id": "qUETetgqYC3W"
   },
   "source": [
    "Great, XLSR-Wav2Vec2's feature extraction pipeline is thereby fully defined!\n",
    "\n",
    "To make the usage of XLSR-Wav2Vec2 as user-friendly as possible, the feature extractor and tokenizer are *wrapped* into a single `Wav2Vec2Processor` class so that one only needs a `model` and `processor` object."
   ]
  },
  {
   "cell_type": "code",
   "execution_count": 23,
   "metadata": {
    "id": "KYZtoW-tlZgl"
   },
   "outputs": [],
   "source": [
    "from transformers import Wav2Vec2Processor\n",
    "\n",
    "processor = Wav2Vec2Processor(feature_extractor=feature_extractor, tokenizer=tokenizer)"
   ]
  },
  {
   "cell_type": "markdown",
   "metadata": {
    "id": "fTfFDSS0YfMN"
   },
   "source": [
    "If one wants to re-use the just created processor and the fine-tuned model of this notebook, one can mount his/her google drive to the notebook and save all relevant files there. To do so, please uncomment the following lines. \n",
    "\n",
    "We will give the fine-tuned model the name `\"wav2vec2-large-xlsr-turkish-demo\"`."
   ]
  },
  {
   "cell_type": "code",
   "execution_count": null,
   "metadata": {
    "colab": {
     "base_uri": "https://localhost:8080/"
    },
    "id": "yq7Bzuzz4zjQ",
    "outputId": "419faa94-b24f-4044-877a-ce511978c97d"
   },
   "outputs": [],
   "source": []
  },
  {
   "cell_type": "code",
   "execution_count": 24,
   "metadata": {
    "id": "Par9rpypPsml"
   },
   "outputs": [],
   "source": [
    "processor.save_pretrained(output_models_dir)"
   ]
  },
  {
   "cell_type": "markdown",
   "metadata": {
    "id": "DrKnYuvDIoOO"
   },
   "source": [
    "Next, we can prepare the dataset."
   ]
  },
  {
   "cell_type": "markdown",
   "metadata": {
    "id": "YFmShnl7RE35"
   },
   "source": [
    "### Preprocess Data\n",
    "\n",
    "So far, we have not looked at the actual values of the speech signal but just kept the path to its file in the dataset. `XLSR-Wav2Vec2` expects the audio file in the format of a 1-dimensional array, so in the first step, let's load all audio files into the dataset object.\n",
    "\n",
    "Let's first check the serialization format of the downloaded audio files by looking at the first training sample."
   ]
  },
  {
   "cell_type": "code",
   "execution_count": 25,
   "metadata": {
    "colab": {
     "base_uri": "https://localhost:8080/"
    },
    "id": "TTCS7W6XJ9BG",
    "outputId": "9c3b8cc0-3bcd-43fe-87ca-2825239b365a"
   },
   "outputs": [
    {
     "data": {
      "text/plain": [
       "{'path': '/workspace/.cache/huggingface/datasets/downloads/extracted/675355d789c7a2ca90f09972ad34430ae41f452938ac69c49acd49e2e253bebe/cv-corpus-6.1-2020-12-11/ga-IE/clips/common_voice_ga-IE_18183217.mp3',\n",
       " 'sentence': \"d'ísligh máire ar a glúine le hais an chliabháin \"}"
      ]
     },
     "execution_count": 25,
     "metadata": {},
     "output_type": "execute_result"
    }
   ],
   "source": [
    "common_voice_train[0]"
   ]
  },
  {
   "cell_type": "markdown",
   "metadata": {
    "id": "wSBIGEiaKHMn"
   },
   "source": [
    "Alright, the audio file is saved in the `.mp3` format. The `.mp3` format is usually not the easiest format to deal with. We found that the [`torchaudio`](https://pytorch.org/audio/stable/index.html) library works best for reading in `.mp3` data. \n",
    "\n",
    "An audio file usually stores both its values and the sampling rate with which the speech signal was digitalized. We want to store both in the dataset and write a `map(...)` function accordingly."
   ]
  },
  {
   "cell_type": "code",
   "execution_count": 26,
   "metadata": {
    "id": "al9Luo4LPpwJ"
   },
   "outputs": [
    {
     "name": "stderr",
     "output_type": "stream",
     "text": [
      "/opt/conda/lib/python3.7/site-packages/torchaudio/backend/utils.py:54: UserWarning: \"sox\" backend is being deprecated. The default backend will be changed to \"sox_io\" backend in 0.8.0 and \"sox\" backend will be removed in 0.9.0. Please migrate to \"sox_io\" backend. Please refer to https://github.com/pytorch/audio/issues/903 for the detail.\n",
      "  '\"sox\" backend is being deprecated. '\n"
     ]
    }
   ],
   "source": [
    "import torchaudio\n",
    "\n",
    "def speech_file_to_array_fn(batch):\n",
    "    speech_array, sampling_rate = torchaudio.load(batch[\"path\"])\n",
    "    batch[\"speech\"] = speech_array[0].numpy()\n",
    "    batch[\"sampling_rate\"] = sampling_rate\n",
    "    batch[\"target_text\"] = batch[\"sentence\"]\n",
    "    return batch"
   ]
  },
  {
   "cell_type": "code",
   "execution_count": 27,
   "metadata": {
    "colab": {
     "base_uri": "https://localhost:8080/",
     "height": 117,
     "referenced_widgets": [
      "348ef54c80b2449f8a3bc950cccd62cc",
      "b78413dcc0584a0c8f71731a06aaa1b8",
      "7edbecaccdd94ede8fddc0e1807e777e",
      "5e3aad95e52f4be2bd670d1345398f1b",
      "b9c5c6dd54cc4dc5ad5a2bb69a24ab05",
      "3e3a022a9f304b0f9f7ef067fcee1e56",
      "7aa70322bdfe46938b583a20003093d5",
      "99d5c44ea54b45ee9bd89380cb1ad189",
      "5f48f54986924e418aa4ac22aa54b714",
      "db71db50799c404aafa4a54de8b9b799",
      "a58c203a7cc54086aea45f2029821207",
      "8d409ca0372a48e2972ca1d8eee5ffa1",
      "c8fdf261ac294093a355778a3a4aba3b",
      "b1b6a4649fc34c9996f993c57671766b",
      "d362345c05234c97a675c6bacdad0e92",
      "b0479f03f96241ca959f6fe7bcbd1aba"
     ]
    },
    "id": "afeicUeWlrRL",
    "outputId": "d5e4d41a-61d6-4094-eba9-a5bbed02cedc"
   },
   "outputs": [
    {
     "data": {
      "application/vnd.jupyter.widget-view+json": {
       "model_id": "fd91dc3e454c4fc2a0cdf79896349790",
       "version_major": 2,
       "version_minor": 0
      },
      "text/plain": [
       "HBox(children=(FloatProgress(value=0.0, max=1038.0), HTML(value='')))"
      ]
     },
     "metadata": {},
     "output_type": "display_data"
    },
    {
     "name": "stdout",
     "output_type": "stream",
     "text": [
      "\n"
     ]
    },
    {
     "data": {
      "application/vnd.jupyter.widget-view+json": {
       "model_id": "0b7f258f19714f6888d2e8d5819d4c5f",
       "version_major": 2,
       "version_minor": 0
      },
      "text/plain": [
       "HBox(children=(FloatProgress(value=0.0, max=506.0), HTML(value='')))"
      ]
     },
     "metadata": {},
     "output_type": "display_data"
    },
    {
     "name": "stdout",
     "output_type": "stream",
     "text": [
      "\n"
     ]
    }
   ],
   "source": [
    "common_voice_train = common_voice_train.map(speech_file_to_array_fn, remove_columns=common_voice_train.column_names)\n",
    "common_voice_test = common_voice_test.map(speech_file_to_array_fn, remove_columns=common_voice_test.column_names)"
   ]
  },
  {
   "cell_type": "markdown",
   "metadata": {
    "id": "ki5sXmzucc9Q"
   },
   "source": [
    "Great, now we've successfully read in all the audio files, but since we know that Common Voice is sampled at 48kHz, we need to resample the audio files to 16kHz. \n",
    "\n",
    "Let's make use of the [`librosa`](https://github.com/librosa/librosa) library to downsample the data."
   ]
  },
  {
   "cell_type": "code",
   "execution_count": 28,
   "metadata": {
    "id": "6Y6AK3Z-kHwP"
   },
   "outputs": [],
   "source": [
    "import librosa\n",
    "import numpy as np\n",
    "\n",
    "def resample(batch):\n",
    "    batch[\"speech\"] = librosa.resample(np.asarray(batch[\"speech\"]), 48_000, 16_000)\n",
    "    batch[\"sampling_rate\"] = 16_000\n",
    "    return batch"
   ]
  },
  {
   "cell_type": "code",
   "execution_count": 29,
   "metadata": {
    "colab": {
     "base_uri": "https://localhost:8080/",
     "height": 453,
     "referenced_widgets": [
      "ee641bbf54a7499597713c517baa81bb",
      "3d929b9e2518402b81a71757ffb753d2",
      "4f8957dc035d4c1a9e8630fc8ab8cd10",
      "757e7bd0e6c5410da0490d191b4e68c8",
      "596aea0362924c7db583203268dd5a3e",
      "47a6c3c427614f21a6dab1c048e5dd37",
      "0b795d4b68014de19bf9579c67b55ffb",
      "9185f86719af476da41e3835e8f06f8d",
      "771959e46cb64b3ebafe931f96f5ff52",
      "0e999af234bd4b63ad2937e61d08b693",
      "f792530a76ee486688cbc2502dfae594",
      "d69468d63dd74fdd807fe061b92aa84e",
      "1261590ef796493798f7068ea0547b74",
      "7e50f8027fb74d669daae5e46082026c",
      "7f5203fde6b64bf7ad53d6ecd3041bfc",
      "84e7f0001ebe458dad3c96e7e9a38cdc",
      "24ea17ae8ab14e8a871e5e115c3f4c06",
      "f57d087016124ebeb073fd7428dcb68b",
      "f3905820a42c499fba04af9c1ad19705",
      "4e1a725fd90b45e280b8b0028ba65250",
      "4c0ad31e73234e46aac0a297ec18bdeb",
      "fc9504846f424542a7feb932964f1f5b",
      "9f79629ad6a94201acf3283862d1ae17",
      "491fd969d61a478f8e85ffcd3e1a3e20",
      "76d162d3ea0845cc837651a77a5a2d36",
      "98c594f1e41e4b3fab10f0763bd93d75",
      "f6b01ad0433a40178ef3ba5657bc1583",
      "eed2ccc12daa4c71b080794a7a18f5cb",
      "beca070c32124a119a08cb21c2ca95e5",
      "69828f4a101f4340916a4be141866904",
      "20347ed29fdc4c0a96da28c09aacf44d",
      "f18eddbd3d994ddc88f37e02d754c206",
      "b7c43fb5efdd4afbb82c81b923f2815a",
      "c0a661f20e7e4649a3c8c42a5fd01956",
      "8dddd0245dcb4532917cbfa0181d2a00",
      "3bdb4058f40f40e3a10e323325a64638",
      "024989cea06f435894776b0a921164b2",
      "b1d93a7521fa47b8a815445b5232da59",
      "751ae6b9e2da4b85be9600561485f1ac",
      "d7f27e9cf8a844349ca90393e0c49a03",
      "82015055d32449b89346ea18e7474c4d",
      "a170c0cb21cf425fbee97fd6d5584e2c",
      "f5f1f0865d7e4d8b810ccb9c3c4d2683",
      "416badb151ee4660b53fdbc136e0c8fb",
      "a47f1ea64f894f0b8e6b277c31ae9f7d",
      "e51b5fd9d5a6416d986fac1526d1666f",
      "824569c63ec445c08362659ca228dd2a",
      "0f3756509e3b405d87936f599b153de2",
      "d96e01ad62c342cdb7d9b1eceb39afa3",
      "e6ce9330460d4a0fb67cc493ca74ae96",
      "e6178f7b148c4bf39f2826f208e0cc64",
      "f78ff14b9c8f46448ed1ecb3fe1f5e0b",
      "929cde17b3484f3e9e8f8774bc43e374",
      "6ba6d07674a34836be53cf173c2b61ca",
      "5a5bc8b4a1c644dea08a60128d888d10",
      "b054b00a32e64fc5988fbd2966ebbce6",
      "5ccd12253fff448f9c15c9b03c70a408",
      "330226a977694de1bd88c0aa3789be47",
      "f203c54e7e054d97aa4d1097f320f611",
      "6266a4019e124aff877bb55f21740180",
      "3ec3285e9f3e4a5abcefabb7f140f4a3",
      "0cd1932178c945d48604ffd299e65d2c",
      "8ad3e4b211e34c048d0f48e36fdbfe48",
      "55071fc1b7484620803aeba453e9af72"
     ]
    },
    "id": "Ws8DyIL_kjwT",
    "outputId": "6176aea2-5986-4da0-a2ad-6ef5e2c85493"
   },
   "outputs": [
    {
     "name": "stdout",
     "output_type": "stream",
     "text": [
      "    "
     ]
    },
    {
     "data": {
      "application/vnd.jupyter.widget-view+json": {
       "model_id": "4fd4482c78e1439198a36b575e488f97",
       "version_major": 2,
       "version_minor": 0
      },
      "text/plain": [
       "HBox(children=(FloatProgress(value=0.0, description='#0', max=260.0, style=ProgressStyle(description_width='in…"
      ]
     },
     "metadata": {},
     "output_type": "display_data"
    },
    {
     "data": {
      "application/vnd.jupyter.widget-view+json": {
       "model_id": "d3975605733b40419fa12ad166b9f0ba",
       "version_major": 2,
       "version_minor": 0
      },
      "text/plain": [
       "HBox(children=(FloatProgress(value=0.0, description='#1', max=260.0, style=ProgressStyle(description_width='in…"
      ]
     },
     "metadata": {},
     "output_type": "display_data"
    },
    {
     "data": {
      "application/vnd.jupyter.widget-view+json": {
       "model_id": "33b52770b6774e81b8babe014faee8bf",
       "version_major": 2,
       "version_minor": 0
      },
      "text/plain": [
       "HBox(children=(FloatProgress(value=0.0, description='#2', max=259.0, style=ProgressStyle(description_width='in…"
      ]
     },
     "metadata": {},
     "output_type": "display_data"
    },
    {
     "data": {
      "application/vnd.jupyter.widget-view+json": {
       "model_id": "4a003518ee6e4189881fe8f8be602d7c",
       "version_major": 2,
       "version_minor": 0
      },
      "text/plain": [
       "HBox(children=(FloatProgress(value=0.0, description='#3', max=259.0, style=ProgressStyle(description_width='in…"
      ]
     },
     "metadata": {},
     "output_type": "display_data"
    },
    {
     "name": "stdout",
     "output_type": "stream",
     "text": [
      "\n",
      "\n",
      "\n",
      "\n",
      "    "
     ]
    },
    {
     "data": {
      "application/vnd.jupyter.widget-view+json": {
       "model_id": "3793155de32746d0824cb9bb29406a25",
       "version_major": 2,
       "version_minor": 0
      },
      "text/plain": [
       "HBox(children=(FloatProgress(value=0.0, description='#0', max=127.0, style=ProgressStyle(description_width='in…"
      ]
     },
     "metadata": {},
     "output_type": "display_data"
    },
    {
     "data": {
      "application/vnd.jupyter.widget-view+json": {
       "model_id": "0dcd87da25694921921ab5a53f229307",
       "version_major": 2,
       "version_minor": 0
      },
      "text/plain": [
       "HBox(children=(FloatProgress(value=0.0, description='#2', max=126.0, style=ProgressStyle(description_width='in…"
      ]
     },
     "metadata": {},
     "output_type": "display_data"
    },
    {
     "data": {
      "application/vnd.jupyter.widget-view+json": {
       "model_id": "466fa6b28737452d8b51c5a60034a2be",
       "version_major": 2,
       "version_minor": 0
      },
      "text/plain": [
       "HBox(children=(FloatProgress(value=0.0, description='#3', max=126.0, style=ProgressStyle(description_width='in…"
      ]
     },
     "metadata": {},
     "output_type": "display_data"
    },
    {
     "data": {
      "application/vnd.jupyter.widget-view+json": {
       "model_id": "80e2c0ffa27d4a329e53e0269d0d9f1a",
       "version_major": 2,
       "version_minor": 0
      },
      "text/plain": [
       "HBox(children=(FloatProgress(value=0.0, description='#1', max=127.0, style=ProgressStyle(description_width='in…"
      ]
     },
     "metadata": {},
     "output_type": "display_data"
    },
    {
     "name": "stdout",
     "output_type": "stream",
     "text": [
      "\n",
      "\n",
      "\n",
      "\n"
     ]
    }
   ],
   "source": [
    "common_voice_train = common_voice_train.map(resample, num_proc=4)\n",
    "common_voice_test = common_voice_test.map(resample, num_proc=4)"
   ]
  },
  {
   "cell_type": "markdown",
   "metadata": {
    "id": "SOckzFd4Mbzq"
   },
   "source": [
    "This seemed to have worked! Let's listen to a couple of audio files to better understand the dataset and verify that the audio was correctly loaded. \n",
    "\n",
    "**Note**: *You can click the following cell a couple of times to listen to different speech samples.*"
   ]
  },
  {
   "cell_type": "code",
   "execution_count": 30,
   "metadata": {
    "colab": {
     "base_uri": "https://localhost:8080/",
     "height": 74
    },
    "id": "dueM6U7Ev0OA",
    "outputId": "1a3e579d-213e-4c7a-b2ec-9a7725d95afc"
   },
   "outputs": [
    {
     "data": {
      "text/html": [
       "\n",
       "                <audio  controls=\"controls\" autoplay=\"autoplay\">\n",
       "                    <source src=\"data:audio/wav;base64,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\" type=\"audio/wav\" />\n",
       "                    Your browser does not support the audio element.\n",
       "                </audio>\n",
       "              "
      ],
      "text/plain": [
       "<IPython.lib.display.Audio object>"
      ]
     },
     "execution_count": 30,
     "metadata": {},
     "output_type": "execute_result"
    }
   ],
   "source": [
    "import IPython.display as ipd\n",
    "import numpy as np\n",
    "import random\n",
    "\n",
    "rand_int = random.randint(0, len(common_voice_train)-1)\n",
    "\n",
    "ipd.Audio(data=np.asarray(common_voice_train[rand_int][\"speech\"]), autoplay=True, rate=16000)"
   ]
  },
  {
   "cell_type": "markdown",
   "metadata": {
    "id": "1MaL9J2dNVtG"
   },
   "source": [
    "It can be heard, that the speakers change along with their speaking rate, accent, and background environment, etc. Overall, the recordings sound acceptably clear though, which is to be expected from a crowd-sourced read speech corpus.\n",
    "\n",
    "Let's do a final check that the data is correctly prepared, by printing the shape of the speech input, its transcription, and the corresponding sampling rate.\n",
    "\n",
    "**Note**: *You can click the following cell a couple of times to verify multiple samples.*"
   ]
  },
  {
   "cell_type": "code",
   "execution_count": 31,
   "metadata": {
    "colab": {
     "base_uri": "https://localhost:8080/"
    },
    "id": "1Po2g7YPuRTx",
    "outputId": "96b0b82c-a5df-4ae6-d17b-9c7d4f710b42"
   },
   "outputs": [
    {
     "name": "stdout",
     "output_type": "stream",
     "text": [
      "Target text: cad é an dhath atá ar an leabhar atá agat \n",
      "Input array shape: (62976,)\n",
      "Sampling rate: 16000\n"
     ]
    }
   ],
   "source": [
    "rand_int = random.randint(0, len(common_voice_train)-1)\n",
    "\n",
    "print(\"Target text:\", common_voice_train[rand_int][\"target_text\"])\n",
    "print(\"Input array shape:\", np.asarray(common_voice_train[rand_int][\"speech\"]).shape)\n",
    "print(\"Sampling rate:\", common_voice_train[rand_int][\"sampling_rate\"])"
   ]
  },
  {
   "cell_type": "markdown",
   "metadata": {
    "id": "M9teZcSwOBJ4"
   },
   "source": [
    "Good! Everything looks fine - the data is a 1-dimensional array, the sampling rate always corresponds to 16kHz, and the target text is normalized."
   ]
  },
  {
   "cell_type": "markdown",
   "metadata": {
    "id": "k3Pbn5WvOYZF"
   },
   "source": [
    "Finally, we can process the dataset to the format expected by the model for training. We will again make use of the `map(...)` function.\n",
    "\n",
    "First, we check that the data samples have the same sampling rate of 16kHz.\n",
    "Second, we extract the `input_values` from the loaded audio file. In our case, this includes only normalization, but for other speech models, this step could correspond to extracting, *e.g.* [Log-Mel features](https://en.wikipedia.org/wiki/Mel-frequency_cepstrum). \n",
    "Third, we encode the transcriptions to label ids.\n",
    "\n",
    "**Note**: This mapping function is a good example of how the `Wav2Vec2Processor` class should be used. In \"normal\" context, calling `processor(...)` is redirected to `Wav2Vec2FeatureExtractor`'s call method. When wrapping the processor into the `as_target_processor` context, however, the same method is redirected to `Wav2Vec2CTCTokenizer`'s call method.\n",
    "For more information please check the [docs](https://huggingface.co/transformers/master/model_doc/wav2vec2.html#transformers.Wav2Vec2Processor.__call__)."
   ]
  },
  {
   "cell_type": "code",
   "execution_count": 32,
   "metadata": {
    "id": "eJY7I0XAwe9p"
   },
   "outputs": [],
   "source": [
    "def prepare_dataset(batch):\n",
    "    # check that all files have the correct sampling rate\n",
    "    assert (\n",
    "        len(set(batch[\"sampling_rate\"])) == 1\n",
    "    ), f\"Make sure all inputs have the same sampling rate of {processor.feature_extractor.sampling_rate}.\"\n",
    "\n",
    "    batch[\"input_values\"] = processor(batch[\"speech\"], sampling_rate=batch[\"sampling_rate\"][0]).input_values\n",
    "    \n",
    "    with processor.as_target_processor():\n",
    "        batch[\"labels\"] = processor(batch[\"target_text\"]).input_ids\n",
    "    return batch"
   ]
  },
  {
   "cell_type": "code",
   "execution_count": 33,
   "metadata": {
    "colab": {
     "base_uri": "https://localhost:8080/",
     "height": 509,
     "referenced_widgets": [
      "4797f1acd9924b4e97f12f964c83078c",
      "73940df84ffd4e0f96637342e9fd12b7",
      "5370c0f2d54b45c0a89f11fb5b70cd4b",
      "018c1f8e198e4df4b480e609bd1be602",
      "fa7926bbe77e48b3a0648b45f5d2dc7a",
      "020bdb330b0d40f5b89697ff37025f69",
      "d35c15beeb33476894b07c3563f8facd",
      "768ab09956774f50a79b2493a8bf179b",
      "7ef969e47c2d429a9848d5ab3f5bb2d9",
      "fe62265afdc74026b7e9c5a50ef61d2c",
      "015c5690e1ea4281954c7efda1c80a6a",
      "f4135dd72864445391f43f387635bfdc",
      "2f727c76652944e3892dd584bea11af2",
      "dec796237765477ea904834d9a824b61",
      "8df9d19602cb4951b397c385458a11ef",
      "923ed9e127524187ab8cfcac31164ba7",
      "bf9e57d81135412d9a9a2281f28bd52a",
      "c41610c0baef412984f8661d96e08b7e",
      "579b6055028f473981ce789a0733a753",
      "4fb7347e9ca542e6ab9003bf4db218e0",
      "3133b378b9294a759c8dfb786ed8f815",
      "6de66d6b7a73434cbdc59b2109bdf0a0",
      "6d4a26d876fb4ac6b5948a09945bdc6b",
      "0987aac282af415da2fbc9dc1b4d5069",
      "ac35dca0845149a284b9867d9e607232",
      "b54bff6261964119bcb562c1a9f74ce6",
      "5071a31d06f544a5b7340a4e863d8fdf",
      "542027ba12f444d586e8072452badea0",
      "49defa4284554baf85f32de242b22709",
      "b2473405490e4556bf30c0cc81237aa5",
      "02bdb06c176145feaa842b97ae58609c",
      "bc41384bbae04044b9780651c6b5a47c",
      "7040945accce4739a41746cc75bb7fce",
      "71011f0d2bc942ac8f9ea1d1fd30c78d",
      "6f60626242534f44a6381195e6eb6530",
      "9fee9d9dd1164d97a9109e942444c332",
      "5ab30242cd154ec0b560c23c0f178546",
      "0ffcbedb8d4444508ac0c3c0b41ea8ac",
      "f9efaa7678c2450f847ff2c2f21ff96e",
      "c126ea97019149848396e593cfab016f",
      "0f99011a13754ed99f3c51a478b0e793",
      "4abe2731ec624729b401d60a392cae63",
      "bd187486ac2548f2961cfcb63d852de1",
      "3f780f0aa8834fc189b292e0474e2ffa",
      "231c66f195d34f86b216805518f4bccd",
      "58f3e8002f984594ac05c973aa78ef69",
      "ec36a94ee2574ac8b227ccaefdee5520",
      "a868dea9d9b047a4b853b390e138e4c1",
      "6462bd9561e24abb98fce6ce4675d810",
      "bd3447291ce54812af10ac6245ea4328",
      "e273548a15aa4d4994132b317adb66fc",
      "f6930dd5519d4dfda64c597def220a30",
      "7d62810674c8482abe46c60fc08884b4",
      "80697300a4394b909f1c499ba80aeb13",
      "ab72c80dfd5e4ab19a183f4204486b59",
      "56ad6231a0a04228be29ceecbc6b7c0e",
      "b6221b4c04e64c9da9eb9e11539bac89",
      "dc6862530f6e429ba61a169b4c95722c",
      "02d1f77324854fbca0df9384c57faac8",
      "8e63ba7f1fd24555bf11bc9dbe9c770b",
      "704ea5e05fd744d998b76d6435992995",
      "d4a3f79644fc41848450ba29e6fdfc3d",
      "405b5de4ae854cf9896f63d15f2207dd",
      "26e7bab0f3bf4797bfcef83dcace24f0"
     ]
    },
    "id": "-np9xYK-wl8q",
    "outputId": "6155b5f0-a5a2-4e20-d0e2-0b3a60c13f98"
   },
   "outputs": [
    {
     "name": "stdout",
     "output_type": "stream",
     "text": [
      "    "
     ]
    },
    {
     "data": {
      "application/vnd.jupyter.widget-view+json": {
       "model_id": "c57be6f0dceb453694dd68c2beda8c6f",
       "version_major": 2,
       "version_minor": 0
      },
      "text/plain": [
       "HBox(children=(FloatProgress(value=0.0, description='#2', max=33.0, style=ProgressStyle(description_width='ini…"
      ]
     },
     "metadata": {},
     "output_type": "display_data"
    },
    {
     "data": {
      "application/vnd.jupyter.widget-view+json": {
       "model_id": "305acbfdfacb4082b4f9a3b3a6d3e3f6",
       "version_major": 2,
       "version_minor": 0
      },
      "text/plain": [
       "HBox(children=(FloatProgress(value=0.0, description='#0', max=33.0, style=ProgressStyle(description_width='ini…"
      ]
     },
     "metadata": {},
     "output_type": "display_data"
    },
    {
     "data": {
      "application/vnd.jupyter.widget-view+json": {
       "model_id": "c1f6cae8fbbd478b94a38f202bd6c7f6",
       "version_major": 2,
       "version_minor": 0
      },
      "text/plain": [
       "HBox(children=(FloatProgress(value=0.0, description='#1', max=33.0, style=ProgressStyle(description_width='ini…"
      ]
     },
     "metadata": {},
     "output_type": "display_data"
    },
    {
     "data": {
      "application/vnd.jupyter.widget-view+json": {
       "model_id": "5c9d1268177b49c0a9ad4eb0990ca39e",
       "version_major": 2,
       "version_minor": 0
      },
      "text/plain": [
       "HBox(children=(FloatProgress(value=0.0, description='#3', max=33.0, style=ProgressStyle(description_width='ini…"
      ]
     },
     "metadata": {},
     "output_type": "display_data"
    },
    {
     "name": "stdout",
     "output_type": "stream",
     "text": [
      "\n",
      "\n",
      "\n",
      "\n",
      "  "
     ]
    },
    {
     "data": {
      "application/vnd.jupyter.widget-view+json": {
       "model_id": "226efb6ea91541798850a5871a9e2206",
       "version_major": 2,
       "version_minor": 0
      },
      "text/plain": [
       "HBox(children=(FloatProgress(value=0.0, description='#0', max=16.0, style=ProgressStyle(description_width='ini…"
      ]
     },
     "metadata": {},
     "output_type": "display_data"
    },
    {
     "name": "stdout",
     "output_type": "stream",
     "text": [
      "  "
     ]
    },
    {
     "data": {
      "application/vnd.jupyter.widget-view+json": {
       "model_id": "425e7b3f9bd24054b60c864dc0e29e4e",
       "version_major": 2,
       "version_minor": 0
      },
      "text/plain": [
       "HBox(children=(FloatProgress(value=0.0, description='#1', max=16.0, style=ProgressStyle(description_width='ini…"
      ]
     },
     "metadata": {},
     "output_type": "display_data"
    },
    {
     "data": {
      "application/vnd.jupyter.widget-view+json": {
       "model_id": "5d0c813c840a4683b275c49aeab2a1a9",
       "version_major": 2,
       "version_minor": 0
      },
      "text/plain": [
       "HBox(children=(FloatProgress(value=0.0, description='#2', max=16.0, style=ProgressStyle(description_width='ini…"
      ]
     },
     "metadata": {},
     "output_type": "display_data"
    },
    {
     "data": {
      "application/vnd.jupyter.widget-view+json": {
       "model_id": "bd45021eb1634359bad9f4ee1f17b71f",
       "version_major": 2,
       "version_minor": 0
      },
      "text/plain": [
       "HBox(children=(FloatProgress(value=0.0, description='#3', max=16.0, style=ProgressStyle(description_width='ini…"
      ]
     },
     "metadata": {},
     "output_type": "display_data"
    },
    {
     "name": "stdout",
     "output_type": "stream",
     "text": [
      "\n",
      "\n",
      "\n",
      "\n"
     ]
    }
   ],
   "source": [
    "common_voice_train = common_voice_train.map(prepare_dataset, remove_columns=common_voice_train.column_names, batch_size=8, num_proc=4, batched=True)\n",
    "common_voice_test = common_voice_test.map(prepare_dataset, remove_columns=common_voice_test.column_names, batch_size=8, num_proc=4, batched=True)"
   ]
  },
  {
   "cell_type": "markdown",
   "metadata": {
    "id": "gYlQkKVoRUos"
   },
   "source": [
    "## Training\n",
    "\n",
    "The data is processed so that we are ready to start setting up the training pipeline. We will make use of 🤗's [Trainer](https://huggingface.co/transformers/master/main_classes/trainer.html?highlight=trainer) for which we essentially need to do the following:\n",
    "\n",
    "- Define a data collator. In contrast to most NLP models, XLSR-Wav2Vec2 has a much larger input length than output length. *E.g.*, a sample of input length 50000 has an output length of no more than 100. Given the large input sizes, it is much more efficient to pad the training batches dynamically meaning that all training samples should only be padded to the longest sample in their batch and not the overall longest sample. Therefore, fine-tuning XLSR-Wav2Vec2 requires a special padding data collator, which we will define below\n",
    "\n",
    "- Evaluation metric. During training, the model should be evaluated on the word error rate. We should define a `compute_metrics` function accordingly\n",
    "\n",
    "- Load a pretrained checkpoint. We need to load a pretrained checkpoint and configure it correctly for training.\n",
    "\n",
    "- Define the training configuration.\n",
    "\n",
    "After having fine-tuned the model, we will correctly evaluate it on the test data and verify that it has indeed learned to correctly transcribe speech."
   ]
  },
  {
   "cell_type": "markdown",
   "metadata": {
    "id": "Slk403unUS91"
   },
   "source": [
    "### Set-up Trainer\n",
    "\n",
    "Let's start by defining the data collator. The code for the data collator was copied from [this example](https://github.com/huggingface/transformers/blob/9a06b6b11bdfc42eea08fa91d0c737d1863c99e3/examples/research_projects/wav2vec2/run_asr.py#L81).\n",
    "\n",
    "Without going into too many details, in contrast to the common data collators, this data collator treats the `input_values` and `labels` differently and thus applies to separate padding functions on them (again making use of XLSR-Wav2Vec2's context manager). This is necessary because in speech input and output are of different modalities meaning that they should not be treated by the same padding function.\n",
    "Analogous to the common data collators, the padding tokens in the labels with `-100` so that those tokens are **not** taken into account when computing the loss."
   ]
  },
  {
   "cell_type": "code",
   "execution_count": 34,
   "metadata": {
    "id": "tborvC9hx88e"
   },
   "outputs": [],
   "source": [
    "import torch\n",
    "\n",
    "from dataclasses import dataclass, field\n",
    "from typing import Any, Dict, List, Optional, Union\n",
    "\n",
    "@dataclass\n",
    "class DataCollatorCTCWithPadding:\n",
    "    \"\"\"\n",
    "    Data collator that will dynamically pad the inputs received.\n",
    "    Args:\n",
    "        processor (:class:`~transformers.Wav2Vec2Processor`)\n",
    "            The processor used for proccessing the data.\n",
    "        padding (:obj:`bool`, :obj:`str` or :class:`~transformers.tokenization_utils_base.PaddingStrategy`, `optional`, defaults to :obj:`True`):\n",
    "            Select a strategy to pad the returned sequences (according to the model's padding side and padding index)\n",
    "            among:\n",
    "            * :obj:`True` or :obj:`'longest'`: Pad to the longest sequence in the batch (or no padding if only a single\n",
    "              sequence if provided).\n",
    "            * :obj:`'max_length'`: Pad to a maximum length specified with the argument :obj:`max_length` or to the\n",
    "              maximum acceptable input length for the model if that argument is not provided.\n",
    "            * :obj:`False` or :obj:`'do_not_pad'` (default): No padding (i.e., can output a batch with sequences of\n",
    "              different lengths).\n",
    "        max_length (:obj:`int`, `optional`):\n",
    "            Maximum length of the ``input_values`` of the returned list and optionally padding length (see above).\n",
    "        max_length_labels (:obj:`int`, `optional`):\n",
    "            Maximum length of the ``labels`` returned list and optionally padding length (see above).\n",
    "        pad_to_multiple_of (:obj:`int`, `optional`):\n",
    "            If set will pad the sequence to a multiple of the provided value.\n",
    "            This is especially useful to enable the use of Tensor Cores on NVIDIA hardware with compute capability >=\n",
    "            7.5 (Volta).\n",
    "    \"\"\"\n",
    "\n",
    "    processor: Wav2Vec2Processor\n",
    "    padding: Union[bool, str] = True\n",
    "    max_length: Optional[int] = None\n",
    "    max_length_labels: Optional[int] = None\n",
    "    pad_to_multiple_of: Optional[int] = None\n",
    "    pad_to_multiple_of_labels: Optional[int] = None\n",
    "\n",
    "    def __call__(self, features: List[Dict[str, Union[List[int], torch.Tensor]]]) -> Dict[str, torch.Tensor]:\n",
    "        # split inputs and labels since they have to be of different lenghts and need\n",
    "        # different padding methods\n",
    "        input_features = [{\"input_values\": feature[\"input_values\"]} for feature in features]\n",
    "        label_features = [{\"input_ids\": feature[\"labels\"]} for feature in features]\n",
    "\n",
    "        batch = self.processor.pad(\n",
    "            input_features,\n",
    "            padding=self.padding,\n",
    "            max_length=self.max_length,\n",
    "            pad_to_multiple_of=self.pad_to_multiple_of,\n",
    "            return_tensors=\"pt\",\n",
    "        )\n",
    "        with self.processor.as_target_processor():\n",
    "            labels_batch = self.processor.pad(\n",
    "                label_features,\n",
    "                padding=self.padding,\n",
    "                max_length=self.max_length_labels,\n",
    "                pad_to_multiple_of=self.pad_to_multiple_of_labels,\n",
    "                return_tensors=\"pt\",\n",
    "            )\n",
    "\n",
    "        # replace padding with -100 to ignore loss correctly\n",
    "        labels = labels_batch[\"input_ids\"].masked_fill(labels_batch.attention_mask.ne(1), -100)\n",
    "\n",
    "        batch[\"labels\"] = labels\n",
    "\n",
    "        return batch"
   ]
  },
  {
   "cell_type": "code",
   "execution_count": 35,
   "metadata": {
    "id": "lbQf5GuZyQ4_"
   },
   "outputs": [],
   "source": [
    "data_collator = DataCollatorCTCWithPadding(processor=processor, padding=True)"
   ]
  },
  {
   "cell_type": "markdown",
   "metadata": {
    "id": "xO-Zdj-5cxXp"
   },
   "source": [
    "Next, the evaluation metric is defined. As mentioned earlier, the \n",
    "predominant metric in ASR is the word error rate (WER), hence we will use it in this notebook as well."
   ]
  },
  {
   "cell_type": "code",
   "execution_count": 36,
   "metadata": {
    "colab": {
     "base_uri": "https://localhost:8080/",
     "height": 67,
     "referenced_widgets": [
      "d5fb02debe4347e781543a996ce39be3",
      "da12267c52144292adb9896249d61a6a",
      "8e1a85a4a6214a16b7431da23a301ada",
      "57198e3250374e1fa64c5a4be255861e",
      "a3c04c75ec9743feb795f69e7c4dff4f",
      "d453bd4a35e54bfba20dac1fe86c60c1",
      "969080b52ad44ee997829986d198c505",
      "8f737725708c4097a8caaf4da6229636"
     ]
    },
    "id": "9Xsux2gmyXso",
    "outputId": "58e0e6f5-6131-4147-bccb-6c42223833db"
   },
   "outputs": [
    {
     "data": {
      "application/vnd.jupyter.widget-view+json": {
       "model_id": "74ab245fa21a41139b34d98f19b94a98",
       "version_major": 2,
       "version_minor": 0
      },
      "text/plain": [
       "HBox(children=(FloatProgress(value=0.0, description='Downloading', max=1764.0, style=ProgressStyle(description…"
      ]
     },
     "metadata": {},
     "output_type": "display_data"
    },
    {
     "name": "stdout",
     "output_type": "stream",
     "text": [
      "\n"
     ]
    }
   ],
   "source": [
    "wer_metric = load_metric(\"wer\")"
   ]
  },
  {
   "cell_type": "markdown",
   "metadata": {
    "id": "E1qZU5p-deqB"
   },
   "source": [
    "The model will return a sequence of logit vectors:\n",
    "$\\mathbf{y}_1, \\ldots, \\mathbf{y}_m$ with $\\mathbf{y}_1 = f_{\\theta}(x_1, \\ldots, x_n)[0]$ and $n >> m$.\n",
    "\n",
    "A logit vector $\\mathbf{y}_1$ contains the log-odds for each word in the vocabulary we defined earlier, thus $\\text{len}(\\mathbf{y}_i) =$ `config.vocab_size`. We are interested in the most likely prediction of the model and thus take the `argmax(...)` of the logits. Also, we transform the encoded labels back to the original string by replacing `-100` with the `pad_token_id` and decoding the ids while making sure that consecutive tokens are **not** grouped to the same token in CTC style ${}^1$."
   ]
  },
  {
   "cell_type": "code",
   "execution_count": 37,
   "metadata": {
    "id": "1XZ-kjweyTy_"
   },
   "outputs": [],
   "source": [
    "def compute_metrics(pred):\n",
    "    pred_logits = pred.predictions\n",
    "    pred_ids = np.argmax(pred_logits, axis=-1)\n",
    "\n",
    "    pred.label_ids[pred.label_ids == -100] = processor.tokenizer.pad_token_id\n",
    "\n",
    "    pred_str = processor.batch_decode(pred_ids)\n",
    "    # we do not want to group tokens when computing the metrics\n",
    "    label_str = processor.batch_decode(pred.label_ids, group_tokens=False)\n",
    "\n",
    "    wer = wer_metric.compute(predictions=pred_str, references=label_str)\n",
    "\n",
    "    return {\"wer\": wer}"
   ]
  },
  {
   "cell_type": "markdown",
   "metadata": {
    "id": "Xmgrx4bRwLIH"
   },
   "source": [
    "Now, we can load the pretrained `XLSR-Wav2Vec2` checkpoint. The tokenizer's `pad_token_id` must be to define the model's `pad_token_id` or in the case of `Wav2Vec2ForCTC` also CTC's *blank token* ${}^2$. To save GPU memory, we enable PyTorch's [gradient checkpointing](https://pytorch.org/docs/stable/checkpoint.html) and also set the loss reduction to \"*mean*\".\n",
    "\n",
    "Because the dataset is quite small (~6h of training data) and because Common Voice is quite noisy, fine-tuning Facebook's [wav2vec2-large-xlsr-53 checkpoint](https://huggingface.co/facebook/wav2vec2-large-xlsr-53) seems to require some hyper-parameter tuning. Therefore, I had to play around a bit with different values for dropout, [SpecAugment](https://arxiv.org/abs/1904.08779)'s masking dropout rate, layer dropout, and the learning rate until training seemed to be stable enough. \n",
    "\n",
    "**Note**: When using this notebook to train XLSR-Wav2Vec2 on another language of Common Voice those hyper-parameter settings might not work very well. Feel free to adapt those depending on your use case. "
   ]
  },
  {
   "cell_type": "code",
   "execution_count": 38,
   "metadata": {
    "colab": {
     "base_uri": "https://localhost:8080/"
    },
    "id": "e7cqAWIayn6w",
    "outputId": "0a5ab559-6c38-47c6-b4f5-64480ed1df65"
   },
   "outputs": [
    {
     "data": {
      "application/vnd.jupyter.widget-view+json": {
       "model_id": "9faf1989cf1c41d7bb44318325cec480",
       "version_major": 2,
       "version_minor": 0
      },
      "text/plain": [
       "HBox(children=(FloatProgress(value=0.0, description='Downloading', max=1451.0, style=ProgressStyle(description…"
      ]
     },
     "metadata": {},
     "output_type": "display_data"
    },
    {
     "name": "stdout",
     "output_type": "stream",
     "text": [
      "\n"
     ]
    },
    {
     "data": {
      "application/vnd.jupyter.widget-view+json": {
       "model_id": "b88b2db0c1334af5a3e46d29bd837297",
       "version_major": 2,
       "version_minor": 0
      },
      "text/plain": [
       "HBox(children=(FloatProgress(value=0.0, description='Downloading', max=1261920069.0, style=ProgressStyle(descr…"
      ]
     },
     "metadata": {},
     "output_type": "display_data"
    },
    {
     "name": "stdout",
     "output_type": "stream",
     "text": [
      "\n"
     ]
    },
    {
     "name": "stderr",
     "output_type": "stream",
     "text": [
      "Some weights of Wav2Vec2ForCTC were not initialized from the model checkpoint at facebook/wav2vec2-large-xlsr-53 and are newly initialized: ['lm_head.weight', 'lm_head.bias']\n",
      "You should probably TRAIN this model on a down-stream task to be able to use it for predictions and inference.\n"
     ]
    }
   ],
   "source": [
    "from transformers import Wav2Vec2ForCTC\n",
    "\n",
    "model = Wav2Vec2ForCTC.from_pretrained(\n",
    "    \"facebook/wav2vec2-large-xlsr-53\", \n",
    "    attention_dropout=0.1,\n",
    "    hidden_dropout=0.1,\n",
    "    feat_proj_dropout=0.0,\n",
    "    mask_time_prob=0.05,\n",
    "    layerdrop=0.1,\n",
    "    gradient_checkpointing=True, \n",
    "    ctc_loss_reduction=\"mean\", \n",
    "    pad_token_id=processor.tokenizer.pad_token_id,\n",
    "    vocab_size=len(processor.tokenizer)\n",
    ")"
   ]
  },
  {
   "cell_type": "markdown",
   "metadata": {
    "id": "1DwR3XLSzGDD"
   },
   "source": [
    "The first component of XLSR-Wav2Vec2 consists of a stack of CNN layers that are used to extract acoustically meaningful - but contextually independent - features from the raw speech signal. This part of the model has already been sufficiently trained during pretraining and as stated in the [paper](https://arxiv.org/pdf/2006.13979.pdf) does not need to be fine-tuned anymore. \n",
    "Thus, we can set the `requires_grad` to `False` for all parameters of the *feature extraction* part."
   ]
  },
  {
   "cell_type": "code",
   "execution_count": 39,
   "metadata": {
    "id": "oGI8zObtZ3V0"
   },
   "outputs": [],
   "source": [
    "model.freeze_feature_extractor()"
   ]
  },
  {
   "cell_type": "markdown",
   "metadata": {
    "id": "lD4aGhQM0K-D"
   },
   "source": [
    "In a final step, we define all parameters related to training. \n",
    "To give more explanation on some of the parameters:\n",
    "- `group_by_length` makes training more efficient by grouping training samples of similar input length into one batch. This can significantly speed up training time by heavily reducing the overall number of useless padding tokens that are passed through the model\n",
    "- `learning_rate` and `weight_decay` were heuristically tuned until fine-tuning has become stable. Note that those parameters strongly depend on the Common Voice dataset and might be suboptimal for other speech datasets.\n",
    "\n",
    "For more explanations on other parameters, one can take a look at the [docs](https://huggingface.co/transformers/master/main_classes/trainer.html?highlight=trainer#trainingarguments).\n",
    "\n",
    "**Note**: If one wants to save the trained models in his/her google drive the commented-out `output_dir` can be used instead."
   ]
  },
  {
   "cell_type": "code",
   "execution_count": 40,
   "metadata": {
    "id": "KbeKSV7uzGPP"
   },
   "outputs": [],
   "source": [
    "from transformers import TrainingArguments\n",
    "\n",
    "training_args = TrainingArguments(\n",
    "  output_dir=output_models_dir,\n",
    "  group_by_length=True,\n",
    "  per_device_train_batch_size=16,\n",
    "  gradient_accumulation_steps=2,\n",
    "  evaluation_strategy=\"steps\",\n",
    "  num_train_epochs=30,\n",
    "  fp16=True,\n",
    "  save_steps=400,\n",
    "  eval_steps=400,\n",
    "  logging_steps=400,\n",
    "  learning_rate=3e-4,\n",
    "  warmup_steps=500,\n",
    "  save_total_limit=2,\n",
    ")"
   ]
  },
  {
   "cell_type": "markdown",
   "metadata": {
    "id": "OsW-WZcL1ZtN"
   },
   "source": [
    "Now, all instances can be passed to Trainer and we are ready to start training!"
   ]
  },
  {
   "cell_type": "code",
   "execution_count": null,
   "metadata": {
    "id": "rY7vBmFCPFgC"
   },
   "outputs": [],
   "source": [
    "from transformers import Trainer\n",
    "\n",
    "trainer = Trainer(\n",
    "    model=model,\n",
    "    data_collator=data_collator,\n",
    "    args=training_args,\n",
    "    compute_metrics=compute_metrics,\n",
    "    train_dataset=common_voice_train,\n",
    "    eval_dataset=common_voice_test,\n",
    "    tokenizer=processor.feature_extractor,\n",
    ")"
   ]
  },
  {
   "cell_type": "markdown",
   "metadata": {
    "id": "UoXBx1JAA0DX"
   },
   "source": [
    "\n",
    "\n",
    "---\n",
    "\n",
    "${}^1$ To allow models to become independent of the speaker rate, in CTC, consecutive tokens that are identical are simply grouped as a single token. However, the encoded labels should not be grouped when decoding since they don't correspond to the predicted tokens of the model, which is why the `group_tokens=False` parameter has to be passed. If we wouldn't pass this parameter a word like `\"hello\"` would incorrectly be encoded, and decoded as `\"helo\"`.\n",
    "\n",
    "${}^2$ The blank token allows the model to predict a word, such as `\"hello\"` by forcing it to insert the blank token between the two l's. A CTC-conform prediction of `\"hello\"` of our model would be `[PAD] [PAD] \"h\" \"e\" \"e\" \"l\" \"l\" [PAD] \"l\" \"o\" \"o\" [PAD]`."
   ]
  },
  {
   "cell_type": "markdown",
   "metadata": {
    "id": "rpvZHM1xReIW"
   },
   "source": [
    "### Training"
   ]
  },
  {
   "cell_type": "markdown",
   "metadata": {
    "id": "j-3oKSzZ1hGq"
   },
   "source": [
    "Training will take between 180 and 240 minutes depending on the GPU allocated to this notebook. While the trained model yields somewhat satisfying results on *Common Voice*'s test data of Turkish, it is by no means an optimally fine-tuned model. The purpose of this notebook is to demonstrate how XLSR-Wav2Vec2's [checkpoint](https://huggingface.co/facebook/wav2vec2-large-xlsr-53) can be fine-tuned on a low-resource ASR dataset.\n",
    "\n",
    "In case you want to use this google colab to fine-tune your model, you should make sure that your training doesn't stop due to inactivity. A simple hack to prevent this is to paste the following code into the console of this tab (*right mouse click -> inspect -> Console tab and insert code*)."
   ]
  },
  {
   "cell_type": "markdown",
   "metadata": {
    "id": "VYYAvgkW4P0m"
   },
   "source": [
    "```javascript\n",
    "function ConnectButton(){\n",
    "    console.log(\"Connect pushed\"); \n",
    "    document.querySelector(\"#top-toolbar > colab-connect-button\").shadowRoot.querySelector(\"#connect\").click() \n",
    "}\n",
    "setInterval(ConnectButton,60000);\n",
    "```"
   ]
  },
  {
   "cell_type": "code",
   "execution_count": null,
   "metadata": {
    "colab": {
     "base_uri": "https://localhost:8080/",
     "height": 348
    },
    "id": "_UEjJqGsQw24",
    "outputId": "2e23b190-ca76-48ad-8117-376d1d7c058e"
   },
   "outputs": [],
   "source": [
    "trainer.train()"
   ]
  },
  {
   "cell_type": "markdown",
   "metadata": {
    "id": "RHIVc44_fY2N"
   },
   "source": [
    "The training loss goes down and we can see that the WER on the test set also improves nicely. Because this notebook is just for demonstration purposes, we can stop here.\n",
    "\n",
    "The resulting model of this notebook has been saved to [`patrickvonplaten/wav2vec2-large-xlsr-turkish-demo`](https://huggingface.co/patrickvonplaten/wav2vec2-large-xlsr-turkish-demo)\n",
    "\n",
    "As a final check, let's load the model and verify that it indeed has learned to transcribe Turkish speech.\n",
    "\n",
    "Let's first load the pretrained checkpoint."
   ]
  },
  {
   "cell_type": "code",
   "execution_count": null,
   "metadata": {
    "colab": {
     "base_uri": "https://localhost:8080/"
    },
    "id": "J8E8pxJ9hgZS",
    "outputId": "5d137935-475d-4dbf-d833-d26780311e18"
   },
   "outputs": [],
   "source": [
    "model = Wav2Vec2ForCTC.from_pretrained(pretrain_model).to(\"cuda\")\n",
    "processor = Wav2Vec2Processor.from_pretrained(pretrain_model)"
   ]
  },
  {
   "cell_type": "markdown",
   "metadata": {
    "id": "QsfGCQYSvY8C"
   },
   "source": [
    "Now, we will just take the first example of the test set, run it through the model and take the `argmax(...)` of the logits to retrieve the predicted token ids."
   ]
  },
  {
   "cell_type": "code",
   "execution_count": null,
   "metadata": {
    "colab": {
     "base_uri": "https://localhost:8080/"
    },
    "id": "EA6fxk-jiHby",
    "outputId": "8b91a977-2559-4adc-8298-b4ad6b7ff196"
   },
   "outputs": [],
   "source": [
    "input_dict = processor(common_voice_test[\"input_values\"][0], return_tensors=\"pt\", padding=True)\n",
    "\n",
    "logits = model(input_dict.input_values.to(\"cuda\")).logits\n",
    "\n",
    "pred_ids = torch.argmax(logits, dim=-1)[0]"
   ]
  },
  {
   "cell_type": "markdown",
   "metadata": {
    "id": "1JDyVCMDvlYd"
   },
   "source": [
    "We adapted `common_voice_test` quite a bit so that the dataset instance does not contain the original sentence label anymore. Thus, we re-use the original dataset to get the label of the first example."
   ]
  },
  {
   "cell_type": "code",
   "execution_count": null,
   "metadata": {
    "colab": {
     "base_uri": "https://localhost:8080/"
    },
    "id": "8dPE2GRIgtx-",
    "outputId": "a211d1ee-d850-481d-8bac-dc46c3efa561"
   },
   "outputs": [],
   "source": [
    "common_voice_test_transcription = load_dataset(\"common_voice\", language_code, data_dir=data_dir, split=\"test\")"
   ]
  },
  {
   "cell_type": "markdown",
   "metadata": {
    "id": "ApS3MmN4v5P7"
   },
   "source": [
    "Finally, we can decode the example."
   ]
  },
  {
   "cell_type": "code",
   "execution_count": null,
   "metadata": {
    "colab": {
     "base_uri": "https://localhost:8080/"
    },
    "id": "Phqxa1O1jMDk",
    "outputId": "60d48c9f-f745-45ac-9105-446dc71025ca"
   },
   "outputs": [],
   "source": [
    "print(\"Prediction:\")\n",
    "print(processor.decode(pred_ids))\n",
    "\n",
    "print(\"\\nReference:\")\n",
    "print(common_voice_test_transcription[\"sentence\"][0].lower())\n"
   ]
  },
  {
   "cell_type": "markdown",
   "metadata": {
    "id": "4n_8vhzUv7aw"
   },
   "source": [
    "Alright! The transcription can definitely be recognized from our prediction, but it is far from being perfect. Training the model a bit longer, spending more time on the data preprocessing, and especially using a language model for decoding would certainly improve the model's overall performance. \n",
    "\n",
    "For a demonstration model on a low-resource language, the results are acceptable, however 🤗."
   ]
  }
 ],
 "metadata": {
  "accelerator": "GPU",
  "colab": {
   "collapsed_sections": [],
   "include_colab_link": true,
   "machine_shape": "hm",
   "name": "Fine-Tune XLSR-Wav2Vec2 on Turkish ASR with 🤗 Transformers.ipynb",
   "provenance": []
  },
  "kernelspec": {
   "display_name": "Python 3",
   "language": "python",
   "name": "python3"
  },
  "language_info": {
   "codemirror_mode": {
    "name": "ipython",
    "version": 3
   },
   "file_extension": ".py",
   "mimetype": "text/x-python",
   "name": "python",
   "nbconvert_exporter": "python",
   "pygments_lexer": "ipython3",
   "version": "3.7.6"
  },
  "widgets": {
   "application/vnd.jupyter.widget-state+json": {
    "015c5690e1ea4281954c7efda1c80a6a": {
     "model_module": "@jupyter-widgets/controls",
     "model_name": "FloatProgressModel",
     "state": {
      "_dom_classes": [],
      "_model_module": "@jupyter-widgets/controls",
      "_model_module_version": "1.5.0",
      "_model_name": "FloatProgressModel",
      "_view_count": null,
      "_view_module": "@jupyter-widgets/controls",
      "_view_module_version": "1.5.0",
      "_view_name": "ProgressView",
      "bar_style": "success",
      "description": "#1: 100%",
      "description_tooltip": null,
      "layout": "IPY_MODEL_dec796237765477ea904834d9a824b61",
      "max": 109,
      "min": 0,
      "orientation": "horizontal",
      "style": "IPY_MODEL_2f727c76652944e3892dd584bea11af2",
      "value": 109
     }
    },
    "018c1f8e198e4df4b480e609bd1be602": {
     "model_module": "@jupyter-widgets/controls",
     "model_name": "HTMLModel",
     "state": {
      "_dom_classes": [],
      "_model_module": "@jupyter-widgets/controls",
      "_model_module_version": "1.5.0",
      "_model_name": "HTMLModel",
      "_view_count": null,
      "_view_module": "@jupyter-widgets/controls",
      "_view_module_version": "1.5.0",
      "_view_name": "HTMLView",
      "description": "",
      "description_tooltip": null,
      "layout": "IPY_MODEL_768ab09956774f50a79b2493a8bf179b",
      "placeholder": "​",
      "style": "IPY_MODEL_d35c15beeb33476894b07c3563f8facd",
      "value": " 109/109 [00:56&lt;00:00,  1.92ba/s]"
     }
    },
    "020bdb330b0d40f5b89697ff37025f69": {
     "model_module": "@jupyter-widgets/base",
     "model_name": "LayoutModel",
     "state": {
      "_model_module": "@jupyter-widgets/base",
      "_model_module_version": "1.2.0",
      "_model_name": "LayoutModel",
      "_view_count": null,
      "_view_module": "@jupyter-widgets/base",
      "_view_module_version": "1.2.0",
      "_view_name": "LayoutView",
      "align_content": null,
      "align_items": null,
      "align_self": null,
      "border": null,
      "bottom": null,
      "display": null,
      "flex": null,
      "flex_flow": null,
      "grid_area": null,
      "grid_auto_columns": null,
      "grid_auto_flow": null,
      "grid_auto_rows": null,
      "grid_column": null,
      "grid_gap": null,
      "grid_row": null,
      "grid_template_areas": null,
      "grid_template_columns": null,
      "grid_template_rows": null,
      "height": null,
      "justify_content": null,
      "justify_items": null,
      "left": null,
      "margin": null,
      "max_height": null,
      "max_width": null,
      "min_height": null,
      "min_width": null,
      "object_fit": null,
      "object_position": null,
      "order": null,
      "overflow": null,
      "overflow_x": null,
      "overflow_y": null,
      "padding": null,
      "right": null,
      "top": null,
      "visibility": null,
      "width": null
     }
    },
    "024989cea06f435894776b0a921164b2": {
     "model_module": "@jupyter-widgets/controls",
     "model_name": "ProgressStyleModel",
     "state": {
      "_model_module": "@jupyter-widgets/controls",
      "_model_module_version": "1.5.0",
      "_model_name": "ProgressStyleModel",
      "_view_count": null,
      "_view_module": "@jupyter-widgets/base",
      "_view_module_version": "1.2.0",
      "_view_name": "StyleView",
      "bar_color": null,
      "description_width": "initial"
     }
    },
    "02bdb06c176145feaa842b97ae58609c": {
     "model_module": "@jupyter-widgets/controls",
     "model_name": "DescriptionStyleModel",
     "state": {
      "_model_module": "@jupyter-widgets/controls",
      "_model_module_version": "1.5.0",
      "_model_name": "DescriptionStyleModel",
      "_view_count": null,
      "_view_module": "@jupyter-widgets/base",
      "_view_module_version": "1.2.0",
      "_view_name": "StyleView",
      "description_width": ""
     }
    },
    "02d1f77324854fbca0df9384c57faac8": {
     "model_module": "@jupyter-widgets/controls",
     "model_name": "FloatProgressModel",
     "state": {
      "_dom_classes": [],
      "_model_module": "@jupyter-widgets/controls",
      "_model_module_version": "1.5.0",
      "_model_name": "FloatProgressModel",
      "_view_count": null,
      "_view_module": "@jupyter-widgets/controls",
      "_view_module_version": "1.5.0",
      "_view_name": "ProgressView",
      "bar_style": "success",
      "description": "#3: 100%",
      "description_tooltip": null,
      "layout": "IPY_MODEL_d4a3f79644fc41848450ba29e6fdfc3d",
      "max": 52,
      "min": 0,
      "orientation": "horizontal",
      "style": "IPY_MODEL_704ea5e05fd744d998b76d6435992995",
      "value": 52
     }
    },
    "0354ab33471e4c34a0c1b3c062bcd6bb": {
     "model_module": "@jupyter-widgets/base",
     "model_name": "LayoutModel",
     "state": {
      "_model_module": "@jupyter-widgets/base",
      "_model_module_version": "1.2.0",
      "_model_name": "LayoutModel",
      "_view_count": null,
      "_view_module": "@jupyter-widgets/base",
      "_view_module_version": "1.2.0",
      "_view_name": "LayoutView",
      "align_content": null,
      "align_items": null,
      "align_self": null,
      "border": null,
      "bottom": null,
      "display": null,
      "flex": null,
      "flex_flow": null,
      "grid_area": null,
      "grid_auto_columns": null,
      "grid_auto_flow": null,
      "grid_auto_rows": null,
      "grid_column": null,
      "grid_gap": null,
      "grid_row": null,
      "grid_template_areas": null,
      "grid_template_columns": null,
      "grid_template_rows": null,
      "height": null,
      "justify_content": null,
      "justify_items": null,
      "left": null,
      "margin": null,
      "max_height": null,
      "max_width": null,
      "min_height": null,
      "min_width": null,
      "object_fit": null,
      "object_position": null,
      "order": null,
      "overflow": null,
      "overflow_x": null,
      "overflow_y": null,
      "padding": null,
      "right": null,
      "top": null,
      "visibility": null,
      "width": null
     }
    },
    "03b33c17734d49e28c4636dddd6e833d": {
     "model_module": "@jupyter-widgets/controls",
     "model_name": "FloatProgressModel",
     "state": {
      "_dom_classes": [],
      "_model_module": "@jupyter-widgets/controls",
      "_model_module_version": "1.5.0",
      "_model_name": "FloatProgressModel",
      "_view_count": null,
      "_view_module": "@jupyter-widgets/controls",
      "_view_module_version": "1.5.0",
      "_view_name": "ProgressView",
      "bar_style": "info",
      "description": "",
      "description_tooltip": null,
      "layout": "IPY_MODEL_bee0f50055eb4f738636142a10da0ddd",
      "max": 1,
      "min": 0,
      "orientation": "horizontal",
      "style": "IPY_MODEL_da1ff50f8b9241108a325ada04224642",
      "value": 1
     }
    },
    "05f83d714f864a399083f0e34a812467": {
     "model_module": "@jupyter-widgets/controls",
     "model_name": "DescriptionStyleModel",
     "state": {
      "_model_module": "@jupyter-widgets/controls",
      "_model_module_version": "1.5.0",
      "_model_name": "DescriptionStyleModel",
      "_view_count": null,
      "_view_module": "@jupyter-widgets/base",
      "_view_module_version": "1.2.0",
      "_view_name": "StyleView",
      "description_width": ""
     }
    },
    "089428f56e66419f85ea149d9d102454": {
     "model_module": "@jupyter-widgets/controls",
     "model_name": "HBoxModel",
     "state": {
      "_dom_classes": [],
      "_model_module": "@jupyter-widgets/controls",
      "_model_module_version": "1.5.0",
      "_model_name": "HBoxModel",
      "_view_count": null,
      "_view_module": "@jupyter-widgets/controls",
      "_view_module_version": "1.5.0",
      "_view_name": "HBoxView",
      "box_style": "",
      "children": [
       "IPY_MODEL_4db5037af3f64a3a8a8a1203018a80ff",
       "IPY_MODEL_6a957c1c17474d8d89c27ddecf702fda"
      ],
      "layout": "IPY_MODEL_d649c0f9c1c24634a84b7ef697721ffa"
     }
    },
    "0987aac282af415da2fbc9dc1b4d5069": {
     "model_module": "@jupyter-widgets/base",
     "model_name": "LayoutModel",
     "state": {
      "_model_module": "@jupyter-widgets/base",
      "_model_module_version": "1.2.0",
      "_model_name": "LayoutModel",
      "_view_count": null,
      "_view_module": "@jupyter-widgets/base",
      "_view_module_version": "1.2.0",
      "_view_name": "LayoutView",
      "align_content": null,
      "align_items": null,
      "align_self": null,
      "border": null,
      "bottom": null,
      "display": null,
      "flex": null,
      "flex_flow": null,
      "grid_area": null,
      "grid_auto_columns": null,
      "grid_auto_flow": null,
      "grid_auto_rows": null,
      "grid_column": null,
      "grid_gap": null,
      "grid_row": null,
      "grid_template_areas": null,
      "grid_template_columns": null,
      "grid_template_rows": null,
      "height": null,
      "justify_content": null,
      "justify_items": null,
      "left": null,
      "margin": null,
      "max_height": null,
      "max_width": null,
      "min_height": null,
      "min_width": null,
      "object_fit": null,
      "object_position": null,
      "order": null,
      "overflow": null,
      "overflow_x": null,
      "overflow_y": null,
      "padding": null,
      "right": null,
      "top": null,
      "visibility": null,
      "width": null
     }
    },
    "0a9b58c98508420d8f8936189f064316": {
     "model_module": "@jupyter-widgets/controls",
     "model_name": "FloatProgressModel",
     "state": {
      "_dom_classes": [],
      "_model_module": "@jupyter-widgets/controls",
      "_model_module_version": "1.5.0",
      "_model_name": "FloatProgressModel",
      "_view_count": null,
      "_view_module": "@jupyter-widgets/controls",
      "_view_module_version": "1.5.0",
      "_view_name": "ProgressView",
      "bar_style": "info",
      "description": "",
      "description_tooltip": null,
      "layout": "IPY_MODEL_af85713f677243d19cba9fe69a4a5f46",
      "max": 1,
      "min": 0,
      "orientation": "horizontal",
      "style": "IPY_MODEL_c546bca23ee248a1be7bd8ead3e82a8f",
      "value": 1
     }
    },
    "0b795d4b68014de19bf9579c67b55ffb": {
     "model_module": "@jupyter-widgets/controls",
     "model_name": "DescriptionStyleModel",
     "state": {
      "_model_module": "@jupyter-widgets/controls",
      "_model_module_version": "1.5.0",
      "_model_name": "DescriptionStyleModel",
      "_view_count": null,
      "_view_module": "@jupyter-widgets/base",
      "_view_module_version": "1.2.0",
      "_view_name": "StyleView",
      "description_width": ""
     }
    },
    "0cd1932178c945d48604ffd299e65d2c": {
     "model_module": "@jupyter-widgets/base",
     "model_name": "LayoutModel",
     "state": {
      "_model_module": "@jupyter-widgets/base",
      "_model_module_version": "1.2.0",
      "_model_name": "LayoutModel",
      "_view_count": null,
      "_view_module": "@jupyter-widgets/base",
      "_view_module_version": "1.2.0",
      "_view_name": "LayoutView",
      "align_content": null,
      "align_items": null,
      "align_self": null,
      "border": null,
      "bottom": null,
      "display": null,
      "flex": null,
      "flex_flow": null,
      "grid_area": null,
      "grid_auto_columns": null,
      "grid_auto_flow": null,
      "grid_auto_rows": null,
      "grid_column": null,
      "grid_gap": null,
      "grid_row": null,
      "grid_template_areas": null,
      "grid_template_columns": null,
      "grid_template_rows": null,
      "height": null,
      "justify_content": null,
      "justify_items": null,
      "left": null,
      "margin": null,
      "max_height": null,
      "max_width": null,
      "min_height": null,
      "min_width": null,
      "object_fit": null,
      "object_position": null,
      "order": null,
      "overflow": null,
      "overflow_x": null,
      "overflow_y": null,
      "padding": null,
      "right": null,
      "top": null,
      "visibility": null,
      "width": null
     }
    },
    "0e999af234bd4b63ad2937e61d08b693": {
     "model_module": "@jupyter-widgets/base",
     "model_name": "LayoutModel",
     "state": {
      "_model_module": "@jupyter-widgets/base",
      "_model_module_version": "1.2.0",
      "_model_name": "LayoutModel",
      "_view_count": null,
      "_view_module": "@jupyter-widgets/base",
      "_view_module_version": "1.2.0",
      "_view_name": "LayoutView",
      "align_content": null,
      "align_items": null,
      "align_self": null,
      "border": null,
      "bottom": null,
      "display": null,
      "flex": null,
      "flex_flow": null,
      "grid_area": null,
      "grid_auto_columns": null,
      "grid_auto_flow": null,
      "grid_auto_rows": null,
      "grid_column": null,
      "grid_gap": null,
      "grid_row": null,
      "grid_template_areas": null,
      "grid_template_columns": null,
      "grid_template_rows": null,
      "height": null,
      "justify_content": null,
      "justify_items": null,
      "left": null,
      "margin": null,
      "max_height": null,
      "max_width": null,
      "min_height": null,
      "min_width": null,
      "object_fit": null,
      "object_position": null,
      "order": null,
      "overflow": null,
      "overflow_x": null,
      "overflow_y": null,
      "padding": null,
      "right": null,
      "top": null,
      "visibility": null,
      "width": null
     }
    },
    "0f3756509e3b405d87936f599b153de2": {
     "model_module": "@jupyter-widgets/base",
     "model_name": "LayoutModel",
     "state": {
      "_model_module": "@jupyter-widgets/base",
      "_model_module_version": "1.2.0",
      "_model_name": "LayoutModel",
      "_view_count": null,
      "_view_module": "@jupyter-widgets/base",
      "_view_module_version": "1.2.0",
      "_view_name": "LayoutView",
      "align_content": null,
      "align_items": null,
      "align_self": null,
      "border": null,
      "bottom": null,
      "display": null,
      "flex": null,
      "flex_flow": null,
      "grid_area": null,
      "grid_auto_columns": null,
      "grid_auto_flow": null,
      "grid_auto_rows": null,
      "grid_column": null,
      "grid_gap": null,
      "grid_row": null,
      "grid_template_areas": null,
      "grid_template_columns": null,
      "grid_template_rows": null,
      "height": null,
      "justify_content": null,
      "justify_items": null,
      "left": null,
      "margin": null,
      "max_height": null,
      "max_width": null,
      "min_height": null,
      "min_width": null,
      "object_fit": null,
      "object_position": null,
      "order": null,
      "overflow": null,
      "overflow_x": null,
      "overflow_y": null,
      "padding": null,
      "right": null,
      "top": null,
      "visibility": null,
      "width": null
     }
    },
    "0f99011a13754ed99f3c51a478b0e793": {
     "model_module": "@jupyter-widgets/controls",
     "model_name": "HBoxModel",
     "state": {
      "_dom_classes": [],
      "_model_module": "@jupyter-widgets/controls",
      "_model_module_version": "1.5.0",
      "_model_name": "HBoxModel",
      "_view_count": null,
      "_view_module": "@jupyter-widgets/controls",
      "_view_module_version": "1.5.0",
      "_view_name": "HBoxView",
      "box_style": "",
      "children": [
       "IPY_MODEL_bd187486ac2548f2961cfcb63d852de1",
       "IPY_MODEL_3f780f0aa8834fc189b292e0474e2ffa"
      ],
      "layout": "IPY_MODEL_4abe2731ec624729b401d60a392cae63"
     }
    },
    "0ffcbedb8d4444508ac0c3c0b41ea8ac": {
     "model_module": "@jupyter-widgets/base",
     "model_name": "LayoutModel",
     "state": {
      "_model_module": "@jupyter-widgets/base",
      "_model_module_version": "1.2.0",
      "_model_name": "LayoutModel",
      "_view_count": null,
      "_view_module": "@jupyter-widgets/base",
      "_view_module_version": "1.2.0",
      "_view_name": "LayoutView",
      "align_content": null,
      "align_items": null,
      "align_self": null,
      "border": null,
      "bottom": null,
      "display": null,
      "flex": null,
      "flex_flow": null,
      "grid_area": null,
      "grid_auto_columns": null,
      "grid_auto_flow": null,
      "grid_auto_rows": null,
      "grid_column": null,
      "grid_gap": null,
      "grid_row": null,
      "grid_template_areas": null,
      "grid_template_columns": null,
      "grid_template_rows": null,
      "height": null,
      "justify_content": null,
      "justify_items": null,
      "left": null,
      "margin": null,
      "max_height": null,
      "max_width": null,
      "min_height": null,
      "min_width": null,
      "object_fit": null,
      "object_position": null,
      "order": null,
      "overflow": null,
      "overflow_x": null,
      "overflow_y": null,
      "padding": null,
      "right": null,
      "top": null,
      "visibility": null,
      "width": null
     }
    },
    "1261590ef796493798f7068ea0547b74": {
     "model_module": "@jupyter-widgets/controls",
     "model_name": "ProgressStyleModel",
     "state": {
      "_model_module": "@jupyter-widgets/controls",
      "_model_module_version": "1.5.0",
      "_model_name": "ProgressStyleModel",
      "_view_count": null,
      "_view_module": "@jupyter-widgets/base",
      "_view_module_version": "1.2.0",
      "_view_name": "StyleView",
      "bar_color": null,
      "description_width": "initial"
     }
    },
    "12696cc03f464a63a411efb2b5e5ac3b": {
     "model_module": "@jupyter-widgets/controls",
     "model_name": "HTMLModel",
     "state": {
      "_dom_classes": [],
      "_model_module": "@jupyter-widgets/controls",
      "_model_module_version": "1.5.0",
      "_model_name": "HTMLModel",
      "_view_count": null,
      "_view_module": "@jupyter-widgets/controls",
      "_view_module_version": "1.5.0",
      "_view_name": "HTMLView",
      "description": "",
      "description_tooltip": null,
      "layout": "IPY_MODEL_ceb44ba4fdf34da19a52469acf1ce63f",
      "placeholder": "​",
      "style": "IPY_MODEL_68a3178fe7a54e838e798ff28ff9aa0b",
      "value": " 139k/? [00:00&lt;00:00, 2.38MB/s]"
     }
    },
    "1813458f75514f039ba0214597a09bb4": {
     "model_module": "@jupyter-widgets/base",
     "model_name": "LayoutModel",
     "state": {
      "_model_module": "@jupyter-widgets/base",
      "_model_module_version": "1.2.0",
      "_model_name": "LayoutModel",
      "_view_count": null,
      "_view_module": "@jupyter-widgets/base",
      "_view_module_version": "1.2.0",
      "_view_name": "LayoutView",
      "align_content": null,
      "align_items": null,
      "align_self": null,
      "border": null,
      "bottom": null,
      "display": null,
      "flex": null,
      "flex_flow": null,
      "grid_area": null,
      "grid_auto_columns": null,
      "grid_auto_flow": null,
      "grid_auto_rows": null,
      "grid_column": null,
      "grid_gap": null,
      "grid_row": null,
      "grid_template_areas": null,
      "grid_template_columns": null,
      "grid_template_rows": null,
      "height": null,
      "justify_content": null,
      "justify_items": null,
      "left": null,
      "margin": null,
      "max_height": null,
      "max_width": null,
      "min_height": null,
      "min_width": null,
      "object_fit": null,
      "object_position": null,
      "order": null,
      "overflow": null,
      "overflow_x": null,
      "overflow_y": null,
      "padding": null,
      "right": null,
      "top": null,
      "visibility": null,
      "width": null
     }
    },
    "19e263785ea343ba99ee2127d9b83d1d": {
     "model_module": "@jupyter-widgets/controls",
     "model_name": "DescriptionStyleModel",
     "state": {
      "_model_module": "@jupyter-widgets/controls",
      "_model_module_version": "1.5.0",
      "_model_name": "DescriptionStyleModel",
      "_view_count": null,
      "_view_module": "@jupyter-widgets/base",
      "_view_module_version": "1.2.0",
      "_view_name": "StyleView",
      "description_width": ""
     }
    },
    "1f1faa7b986e475c9e6839b2e7b55c74": {
     "model_module": "@jupyter-widgets/controls",
     "model_name": "HTMLModel",
     "state": {
      "_dom_classes": [],
      "_model_module": "@jupyter-widgets/controls",
      "_model_module_version": "1.5.0",
      "_model_name": "HTMLModel",
      "_view_count": null,
      "_view_module": "@jupyter-widgets/controls",
      "_view_module_version": "1.5.0",
      "_view_name": "HTMLView",
      "description": "",
      "description_tooltip": null,
      "layout": "IPY_MODEL_b320306eaf264ad9872d507a1a1cb2da",
      "placeholder": "​",
      "style": "IPY_MODEL_2ca2f397c4ef405bba27ae2b1415cada",
      "value": " 3478/3478 [03:59&lt;00:00, 14.53ex/s]"
     }
    },
    "20347ed29fdc4c0a96da28c09aacf44d": {
     "model_module": "@jupyter-widgets/controls",
     "model_name": "DescriptionStyleModel",
     "state": {
      "_model_module": "@jupyter-widgets/controls",
      "_model_module_version": "1.5.0",
      "_model_name": "DescriptionStyleModel",
      "_view_count": null,
      "_view_module": "@jupyter-widgets/base",
      "_view_module_version": "1.2.0",
      "_view_name": "StyleView",
      "description_width": ""
     }
    },
    "231c66f195d34f86b216805518f4bccd": {
     "model_module": "@jupyter-widgets/controls",
     "model_name": "ProgressStyleModel",
     "state": {
      "_model_module": "@jupyter-widgets/controls",
      "_model_module_version": "1.5.0",
      "_model_name": "ProgressStyleModel",
      "_view_count": null,
      "_view_module": "@jupyter-widgets/base",
      "_view_module_version": "1.2.0",
      "_view_name": "StyleView",
      "bar_color": null,
      "description_width": "initial"
     }
    },
    "24ea17ae8ab14e8a871e5e115c3f4c06": {
     "model_module": "@jupyter-widgets/controls",
     "model_name": "HBoxModel",
     "state": {
      "_dom_classes": [],
      "_model_module": "@jupyter-widgets/controls",
      "_model_module_version": "1.5.0",
      "_model_name": "HBoxModel",
      "_view_count": null,
      "_view_module": "@jupyter-widgets/controls",
      "_view_module_version": "1.5.0",
      "_view_name": "HBoxView",
      "box_style": "",
      "children": [
       "IPY_MODEL_f3905820a42c499fba04af9c1ad19705",
       "IPY_MODEL_4e1a725fd90b45e280b8b0028ba65250"
      ],
      "layout": "IPY_MODEL_f57d087016124ebeb073fd7428dcb68b"
     }
    },
    "25ba4f4c8b9c44af9885b3903a9261fd": {
     "model_module": "@jupyter-widgets/controls",
     "model_name": "HBoxModel",
     "state": {
      "_dom_classes": [],
      "_model_module": "@jupyter-widgets/controls",
      "_model_module_version": "1.5.0",
      "_model_name": "HBoxModel",
      "_view_count": null,
      "_view_module": "@jupyter-widgets/controls",
      "_view_module_version": "1.5.0",
      "_view_name": "HBoxView",
      "box_style": "",
      "children": [
       "IPY_MODEL_03b33c17734d49e28c4636dddd6e833d",
       "IPY_MODEL_71c059a0f3c246f3a40d55744331daaa"
      ],
      "layout": "IPY_MODEL_dde7ae43ef954ef1b901c80f0a4e11fd"
     }
    },
    "26e7bab0f3bf4797bfcef83dcace24f0": {
     "model_module": "@jupyter-widgets/base",
     "model_name": "LayoutModel",
     "state": {
      "_model_module": "@jupyter-widgets/base",
      "_model_module_version": "1.2.0",
      "_model_name": "LayoutModel",
      "_view_count": null,
      "_view_module": "@jupyter-widgets/base",
      "_view_module_version": "1.2.0",
      "_view_name": "LayoutView",
      "align_content": null,
      "align_items": null,
      "align_self": null,
      "border": null,
      "bottom": null,
      "display": null,
      "flex": null,
      "flex_flow": null,
      "grid_area": null,
      "grid_auto_columns": null,
      "grid_auto_flow": null,
      "grid_auto_rows": null,
      "grid_column": null,
      "grid_gap": null,
      "grid_row": null,
      "grid_template_areas": null,
      "grid_template_columns": null,
      "grid_template_rows": null,
      "height": null,
      "justify_content": null,
      "justify_items": null,
      "left": null,
      "margin": null,
      "max_height": null,
      "max_width": null,
      "min_height": null,
      "min_width": null,
      "object_fit": null,
      "object_position": null,
      "order": null,
      "overflow": null,
      "overflow_x": null,
      "overflow_y": null,
      "padding": null,
      "right": null,
      "top": null,
      "visibility": null,
      "width": null
     }
    },
    "2a6e1185a6a247f5acba8111824ad36b": {
     "model_module": "@jupyter-widgets/controls",
     "model_name": "ProgressStyleModel",
     "state": {
      "_model_module": "@jupyter-widgets/controls",
      "_model_module_version": "1.5.0",
      "_model_name": "ProgressStyleModel",
      "_view_count": null,
      "_view_module": "@jupyter-widgets/base",
      "_view_module_version": "1.2.0",
      "_view_name": "StyleView",
      "bar_color": null,
      "description_width": "initial"
     }
    },
    "2ca2f397c4ef405bba27ae2b1415cada": {
     "model_module": "@jupyter-widgets/controls",
     "model_name": "DescriptionStyleModel",
     "state": {
      "_model_module": "@jupyter-widgets/controls",
      "_model_module_version": "1.5.0",
      "_model_name": "DescriptionStyleModel",
      "_view_count": null,
      "_view_module": "@jupyter-widgets/base",
      "_view_module_version": "1.2.0",
      "_view_name": "StyleView",
      "description_width": ""
     }
    },
    "2cd13e03a2ab45dc8570c8c739a613b4": {
     "model_module": "@jupyter-widgets/base",
     "model_name": "LayoutModel",
     "state": {
      "_model_module": "@jupyter-widgets/base",
      "_model_module_version": "1.2.0",
      "_model_name": "LayoutModel",
      "_view_count": null,
      "_view_module": "@jupyter-widgets/base",
      "_view_module_version": "1.2.0",
      "_view_name": "LayoutView",
      "align_content": null,
      "align_items": null,
      "align_self": null,
      "border": null,
      "bottom": null,
      "display": null,
      "flex": null,
      "flex_flow": null,
      "grid_area": null,
      "grid_auto_columns": null,
      "grid_auto_flow": null,
      "grid_auto_rows": null,
      "grid_column": null,
      "grid_gap": null,
      "grid_row": null,
      "grid_template_areas": null,
      "grid_template_columns": null,
      "grid_template_rows": null,
      "height": null,
      "justify_content": null,
      "justify_items": null,
      "left": null,
      "margin": null,
      "max_height": null,
      "max_width": null,
      "min_height": null,
      "min_width": null,
      "object_fit": null,
      "object_position": null,
      "order": null,
      "overflow": null,
      "overflow_x": null,
      "overflow_y": null,
      "padding": null,
      "right": null,
      "top": null,
      "visibility": null,
      "width": null
     }
    },
    "2f18d89c684343b69c3f44ffbb9b42a0": {
     "model_module": "@jupyter-widgets/controls",
     "model_name": "DescriptionStyleModel",
     "state": {
      "_model_module": "@jupyter-widgets/controls",
      "_model_module_version": "1.5.0",
      "_model_name": "DescriptionStyleModel",
      "_view_count": null,
      "_view_module": "@jupyter-widgets/base",
      "_view_module_version": "1.2.0",
      "_view_name": "StyleView",
      "description_width": ""
     }
    },
    "2f5406546970425282a881b5d2f7c248": {
     "model_module": "@jupyter-widgets/base",
     "model_name": "LayoutModel",
     "state": {
      "_model_module": "@jupyter-widgets/base",
      "_model_module_version": "1.2.0",
      "_model_name": "LayoutModel",
      "_view_count": null,
      "_view_module": "@jupyter-widgets/base",
      "_view_module_version": "1.2.0",
      "_view_name": "LayoutView",
      "align_content": null,
      "align_items": null,
      "align_self": null,
      "border": null,
      "bottom": null,
      "display": null,
      "flex": null,
      "flex_flow": null,
      "grid_area": null,
      "grid_auto_columns": null,
      "grid_auto_flow": null,
      "grid_auto_rows": null,
      "grid_column": null,
      "grid_gap": null,
      "grid_row": null,
      "grid_template_areas": null,
      "grid_template_columns": null,
      "grid_template_rows": null,
      "height": null,
      "justify_content": null,
      "justify_items": null,
      "left": null,
      "margin": null,
      "max_height": null,
      "max_width": null,
      "min_height": null,
      "min_width": null,
      "object_fit": null,
      "object_position": null,
      "order": null,
      "overflow": null,
      "overflow_x": null,
      "overflow_y": null,
      "padding": null,
      "right": null,
      "top": null,
      "visibility": null,
      "width": null
     }
    },
    "2f727c76652944e3892dd584bea11af2": {
     "model_module": "@jupyter-widgets/controls",
     "model_name": "ProgressStyleModel",
     "state": {
      "_model_module": "@jupyter-widgets/controls",
      "_model_module_version": "1.5.0",
      "_model_name": "ProgressStyleModel",
      "_view_count": null,
      "_view_module": "@jupyter-widgets/base",
      "_view_module_version": "1.2.0",
      "_view_name": "StyleView",
      "bar_color": null,
      "description_width": "initial"
     }
    },
    "2fd148d5587b4139919b0158f9dad71e": {
     "model_module": "@jupyter-widgets/base",
     "model_name": "LayoutModel",
     "state": {
      "_model_module": "@jupyter-widgets/base",
      "_model_module_version": "1.2.0",
      "_model_name": "LayoutModel",
      "_view_count": null,
      "_view_module": "@jupyter-widgets/base",
      "_view_module_version": "1.2.0",
      "_view_name": "LayoutView",
      "align_content": null,
      "align_items": null,
      "align_self": null,
      "border": null,
      "bottom": null,
      "display": null,
      "flex": null,
      "flex_flow": null,
      "grid_area": null,
      "grid_auto_columns": null,
      "grid_auto_flow": null,
      "grid_auto_rows": null,
      "grid_column": null,
      "grid_gap": null,
      "grid_row": null,
      "grid_template_areas": null,
      "grid_template_columns": null,
      "grid_template_rows": null,
      "height": null,
      "justify_content": null,
      "justify_items": null,
      "left": null,
      "margin": null,
      "max_height": null,
      "max_width": null,
      "min_height": null,
      "min_width": null,
      "object_fit": null,
      "object_position": null,
      "order": null,
      "overflow": null,
      "overflow_x": null,
      "overflow_y": null,
      "padding": null,
      "right": null,
      "top": null,
      "visibility": null,
      "width": null
     }
    },
    "304e9130c12f4110941bfbd3db49a28c": {
     "model_module": "@jupyter-widgets/controls",
     "model_name": "HBoxModel",
     "state": {
      "_dom_classes": [],
      "_model_module": "@jupyter-widgets/controls",
      "_model_module_version": "1.5.0",
      "_model_name": "HBoxModel",
      "_view_count": null,
      "_view_module": "@jupyter-widgets/controls",
      "_view_module_version": "1.5.0",
      "_view_name": "HBoxView",
      "box_style": "",
      "children": [
       "IPY_MODEL_75e00c38605f44cfb584067db1160349",
       "IPY_MODEL_8c07a528fc4a4e108b393ab117fe2e46"
      ],
      "layout": "IPY_MODEL_5e6bae23461b4378b6e5fc890fe6bc97"
     }
    },
    "3133b378b9294a759c8dfb786ed8f815": {
     "model_module": "@jupyter-widgets/controls",
     "model_name": "ProgressStyleModel",
     "state": {
      "_model_module": "@jupyter-widgets/controls",
      "_model_module_version": "1.5.0",
      "_model_name": "ProgressStyleModel",
      "_view_count": null,
      "_view_module": "@jupyter-widgets/base",
      "_view_module_version": "1.2.0",
      "_view_name": "StyleView",
      "bar_color": null,
      "description_width": "initial"
     }
    },
    "330226a977694de1bd88c0aa3789be47": {
     "model_module": "@jupyter-widgets/base",
     "model_name": "LayoutModel",
     "state": {
      "_model_module": "@jupyter-widgets/base",
      "_model_module_version": "1.2.0",
      "_model_name": "LayoutModel",
      "_view_count": null,
      "_view_module": "@jupyter-widgets/base",
      "_view_module_version": "1.2.0",
      "_view_name": "LayoutView",
      "align_content": null,
      "align_items": null,
      "align_self": null,
      "border": null,
      "bottom": null,
      "display": null,
      "flex": null,
      "flex_flow": null,
      "grid_area": null,
      "grid_auto_columns": null,
      "grid_auto_flow": null,
      "grid_auto_rows": null,
      "grid_column": null,
      "grid_gap": null,
      "grid_row": null,
      "grid_template_areas": null,
      "grid_template_columns": null,
      "grid_template_rows": null,
      "height": null,
      "justify_content": null,
      "justify_items": null,
      "left": null,
      "margin": null,
      "max_height": null,
      "max_width": null,
      "min_height": null,
      "min_width": null,
      "object_fit": null,
      "object_position": null,
      "order": null,
      "overflow": null,
      "overflow_x": null,
      "overflow_y": null,
      "padding": null,
      "right": null,
      "top": null,
      "visibility": null,
      "width": null
     }
    },
    "33c92b5afd1d4b6d88016aabfb434194": {
     "model_module": "@jupyter-widgets/controls",
     "model_name": "FloatProgressModel",
     "state": {
      "_dom_classes": [],
      "_model_module": "@jupyter-widgets/controls",
      "_model_module_version": "1.5.0",
      "_model_name": "FloatProgressModel",
      "_view_count": null,
      "_view_module": "@jupyter-widgets/controls",
      "_view_module_version": "1.5.0",
      "_view_name": "ProgressView",
      "bar_style": "success",
      "description": "100%",
      "description_tooltip": null,
      "layout": "IPY_MODEL_3dc9ea77b842455a91f00e9ca9f41948",
      "max": 1647,
      "min": 0,
      "orientation": "horizontal",
      "style": "IPY_MODEL_45f0a2f361da4608bc8314a27657a56c",
      "value": 1647
     }
    },
    "348ef54c80b2449f8a3bc950cccd62cc": {
     "model_module": "@jupyter-widgets/controls",
     "model_name": "HBoxModel",
     "state": {
      "_dom_classes": [],
      "_model_module": "@jupyter-widgets/controls",
      "_model_module_version": "1.5.0",
      "_model_name": "HBoxModel",
      "_view_count": null,
      "_view_module": "@jupyter-widgets/controls",
      "_view_module_version": "1.5.0",
      "_view_name": "HBoxView",
      "box_style": "",
      "children": [
       "IPY_MODEL_7edbecaccdd94ede8fddc0e1807e777e",
       "IPY_MODEL_5e3aad95e52f4be2bd670d1345398f1b"
      ],
      "layout": "IPY_MODEL_b78413dcc0584a0c8f71731a06aaa1b8"
     }
    },
    "389e43e47a734193a507817ebad955f7": {
     "model_module": "@jupyter-widgets/base",
     "model_name": "LayoutModel",
     "state": {
      "_model_module": "@jupyter-widgets/base",
      "_model_module_version": "1.2.0",
      "_model_name": "LayoutModel",
      "_view_count": null,
      "_view_module": "@jupyter-widgets/base",
      "_view_module_version": "1.2.0",
      "_view_name": "LayoutView",
      "align_content": null,
      "align_items": null,
      "align_self": null,
      "border": null,
      "bottom": null,
      "display": null,
      "flex": null,
      "flex_flow": null,
      "grid_area": null,
      "grid_auto_columns": null,
      "grid_auto_flow": null,
      "grid_auto_rows": null,
      "grid_column": null,
      "grid_gap": null,
      "grid_row": null,
      "grid_template_areas": null,
      "grid_template_columns": null,
      "grid_template_rows": null,
      "height": null,
      "justify_content": null,
      "justify_items": null,
      "left": null,
      "margin": null,
      "max_height": null,
      "max_width": null,
      "min_height": null,
      "min_width": null,
      "object_fit": null,
      "object_position": null,
      "order": null,
      "overflow": null,
      "overflow_x": null,
      "overflow_y": null,
      "padding": null,
      "right": null,
      "top": null,
      "visibility": null,
      "width": null
     }
    },
    "3bdb4058f40f40e3a10e323325a64638": {
     "model_module": "@jupyter-widgets/controls",
     "model_name": "HTMLModel",
     "state": {
      "_dom_classes": [],
      "_model_module": "@jupyter-widgets/controls",
      "_model_module_version": "1.5.0",
      "_model_name": "HTMLModel",
      "_view_count": null,
      "_view_module": "@jupyter-widgets/controls",
      "_view_module_version": "1.5.0",
      "_view_name": "HTMLView",
      "description": "",
      "description_tooltip": null,
      "layout": "IPY_MODEL_d7f27e9cf8a844349ca90393e0c49a03",
      "placeholder": "​",
      "style": "IPY_MODEL_751ae6b9e2da4b85be9600561485f1ac",
      "value": " 412/412 [03:04&lt;00:00,  2.23ex/s]"
     }
    },
    "3d929b9e2518402b81a71757ffb753d2": {
     "model_module": "@jupyter-widgets/base",
     "model_name": "LayoutModel",
     "state": {
      "_model_module": "@jupyter-widgets/base",
      "_model_module_version": "1.2.0",
      "_model_name": "LayoutModel",
      "_view_count": null,
      "_view_module": "@jupyter-widgets/base",
      "_view_module_version": "1.2.0",
      "_view_name": "LayoutView",
      "align_content": null,
      "align_items": null,
      "align_self": null,
      "border": null,
      "bottom": null,
      "display": null,
      "flex": null,
      "flex_flow": null,
      "grid_area": null,
      "grid_auto_columns": null,
      "grid_auto_flow": null,
      "grid_auto_rows": null,
      "grid_column": null,
      "grid_gap": null,
      "grid_row": null,
      "grid_template_areas": null,
      "grid_template_columns": null,
      "grid_template_rows": null,
      "height": null,
      "justify_content": null,
      "justify_items": null,
      "left": null,
      "margin": null,
      "max_height": null,
      "max_width": null,
      "min_height": null,
      "min_width": null,
      "object_fit": null,
      "object_position": null,
      "order": null,
      "overflow": null,
      "overflow_x": null,
      "overflow_y": null,
      "padding": null,
      "right": null,
      "top": null,
      "visibility": null,
      "width": null
     }
    },
    "3dc9ea77b842455a91f00e9ca9f41948": {
     "model_module": "@jupyter-widgets/base",
     "model_name": "LayoutModel",
     "state": {
      "_model_module": "@jupyter-widgets/base",
      "_model_module_version": "1.2.0",
      "_model_name": "LayoutModel",
      "_view_count": null,
      "_view_module": "@jupyter-widgets/base",
      "_view_module_version": "1.2.0",
      "_view_name": "LayoutView",
      "align_content": null,
      "align_items": null,
      "align_self": null,
      "border": null,
      "bottom": null,
      "display": null,
      "flex": null,
      "flex_flow": null,
      "grid_area": null,
      "grid_auto_columns": null,
      "grid_auto_flow": null,
      "grid_auto_rows": null,
      "grid_column": null,
      "grid_gap": null,
      "grid_row": null,
      "grid_template_areas": null,
      "grid_template_columns": null,
      "grid_template_rows": null,
      "height": null,
      "justify_content": null,
      "justify_items": null,
      "left": null,
      "margin": null,
      "max_height": null,
      "max_width": null,
      "min_height": null,
      "min_width": null,
      "object_fit": null,
      "object_position": null,
      "order": null,
      "overflow": null,
      "overflow_x": null,
      "overflow_y": null,
      "padding": null,
      "right": null,
      "top": null,
      "visibility": null,
      "width": null
     }
    },
    "3e2cd59ac697495f8db14b894b783f95": {
     "model_module": "@jupyter-widgets/base",
     "model_name": "LayoutModel",
     "state": {
      "_model_module": "@jupyter-widgets/base",
      "_model_module_version": "1.2.0",
      "_model_name": "LayoutModel",
      "_view_count": null,
      "_view_module": "@jupyter-widgets/base",
      "_view_module_version": "1.2.0",
      "_view_name": "LayoutView",
      "align_content": null,
      "align_items": null,
      "align_self": null,
      "border": null,
      "bottom": null,
      "display": null,
      "flex": null,
      "flex_flow": null,
      "grid_area": null,
      "grid_auto_columns": null,
      "grid_auto_flow": null,
      "grid_auto_rows": null,
      "grid_column": null,
      "grid_gap": null,
      "grid_row": null,
      "grid_template_areas": null,
      "grid_template_columns": null,
      "grid_template_rows": null,
      "height": null,
      "justify_content": null,
      "justify_items": null,
      "left": null,
      "margin": null,
      "max_height": null,
      "max_width": null,
      "min_height": null,
      "min_width": null,
      "object_fit": null,
      "object_position": null,
      "order": null,
      "overflow": null,
      "overflow_x": null,
      "overflow_y": null,
      "padding": null,
      "right": null,
      "top": null,
      "visibility": null,
      "width": null
     }
    },
    "3e3a022a9f304b0f9f7ef067fcee1e56": {
     "model_module": "@jupyter-widgets/base",
     "model_name": "LayoutModel",
     "state": {
      "_model_module": "@jupyter-widgets/base",
      "_model_module_version": "1.2.0",
      "_model_name": "LayoutModel",
      "_view_count": null,
      "_view_module": "@jupyter-widgets/base",
      "_view_module_version": "1.2.0",
      "_view_name": "LayoutView",
      "align_content": null,
      "align_items": null,
      "align_self": null,
      "border": null,
      "bottom": null,
      "display": null,
      "flex": null,
      "flex_flow": null,
      "grid_area": null,
      "grid_auto_columns": null,
      "grid_auto_flow": null,
      "grid_auto_rows": null,
      "grid_column": null,
      "grid_gap": null,
      "grid_row": null,
      "grid_template_areas": null,
      "grid_template_columns": null,
      "grid_template_rows": null,
      "height": null,
      "justify_content": null,
      "justify_items": null,
      "left": null,
      "margin": null,
      "max_height": null,
      "max_width": null,
      "min_height": null,
      "min_width": null,
      "object_fit": null,
      "object_position": null,
      "order": null,
      "overflow": null,
      "overflow_x": null,
      "overflow_y": null,
      "padding": null,
      "right": null,
      "top": null,
      "visibility": null,
      "width": null
     }
    },
    "3ec3285e9f3e4a5abcefabb7f140f4a3": {
     "model_module": "@jupyter-widgets/controls",
     "model_name": "ProgressStyleModel",
     "state": {
      "_model_module": "@jupyter-widgets/controls",
      "_model_module_version": "1.5.0",
      "_model_name": "ProgressStyleModel",
      "_view_count": null,
      "_view_module": "@jupyter-widgets/base",
      "_view_module_version": "1.2.0",
      "_view_name": "StyleView",
      "bar_color": null,
      "description_width": "initial"
     }
    },
    "3f780f0aa8834fc189b292e0474e2ffa": {
     "model_module": "@jupyter-widgets/controls",
     "model_name": "HTMLModel",
     "state": {
      "_dom_classes": [],
      "_model_module": "@jupyter-widgets/controls",
      "_model_module_version": "1.5.0",
      "_model_name": "HTMLModel",
      "_view_count": null,
      "_view_module": "@jupyter-widgets/controls",
      "_view_module_version": "1.5.0",
      "_view_name": "HTMLView",
      "description": "",
      "description_tooltip": null,
      "layout": "IPY_MODEL_a868dea9d9b047a4b853b390e138e4c1",
      "placeholder": "​",
      "style": "IPY_MODEL_ec36a94ee2574ac8b227ccaefdee5520",
      "value": " 52/52 [00:31&lt;00:00,  1.67ba/s]"
     }
    },
    "405b5de4ae854cf9896f63d15f2207dd": {
     "model_module": "@jupyter-widgets/controls",
     "model_name": "DescriptionStyleModel",
     "state": {
      "_model_module": "@jupyter-widgets/controls",
      "_model_module_version": "1.5.0",
      "_model_name": "DescriptionStyleModel",
      "_view_count": null,
      "_view_module": "@jupyter-widgets/base",
      "_view_module_version": "1.2.0",
      "_view_name": "StyleView",
      "description_width": ""
     }
    },
    "416badb151ee4660b53fdbc136e0c8fb": {
     "model_module": "@jupyter-widgets/controls",
     "model_name": "HTMLModel",
     "state": {
      "_dom_classes": [],
      "_model_module": "@jupyter-widgets/controls",
      "_model_module_version": "1.5.0",
      "_model_name": "HTMLModel",
      "_view_count": null,
      "_view_module": "@jupyter-widgets/controls",
      "_view_module_version": "1.5.0",
      "_view_name": "HTMLView",
      "description": "",
      "description_tooltip": null,
      "layout": "IPY_MODEL_0f3756509e3b405d87936f599b153de2",
      "placeholder": "​",
      "style": "IPY_MODEL_824569c63ec445c08362659ca228dd2a",
      "value": " 412/412 [03:01&lt;00:00,  2.28ex/s]"
     }
    },
    "430c3c079d0e4006b90e72df7986ffb0": {
     "model_module": "@jupyter-widgets/base",
     "model_name": "LayoutModel",
     "state": {
      "_model_module": "@jupyter-widgets/base",
      "_model_module_version": "1.2.0",
      "_model_name": "LayoutModel",
      "_view_count": null,
      "_view_module": "@jupyter-widgets/base",
      "_view_module_version": "1.2.0",
      "_view_name": "LayoutView",
      "align_content": null,
      "align_items": null,
      "align_self": null,
      "border": null,
      "bottom": null,
      "display": null,
      "flex": null,
      "flex_flow": null,
      "grid_area": null,
      "grid_auto_columns": null,
      "grid_auto_flow": null,
      "grid_auto_rows": null,
      "grid_column": null,
      "grid_gap": null,
      "grid_row": null,
      "grid_template_areas": null,
      "grid_template_columns": null,
      "grid_template_rows": null,
      "height": null,
      "justify_content": null,
      "justify_items": null,
      "left": null,
      "margin": null,
      "max_height": null,
      "max_width": null,
      "min_height": null,
      "min_width": null,
      "object_fit": null,
      "object_position": null,
      "order": null,
      "overflow": null,
      "overflow_x": null,
      "overflow_y": null,
      "padding": null,
      "right": null,
      "top": null,
      "visibility": null,
      "width": null
     }
    },
    "4382726ef043441a9b1a4a647d84f242": {
     "model_module": "@jupyter-widgets/controls",
     "model_name": "ProgressStyleModel",
     "state": {
      "_model_module": "@jupyter-widgets/controls",
      "_model_module_version": "1.5.0",
      "_model_name": "ProgressStyleModel",
      "_view_count": null,
      "_view_module": "@jupyter-widgets/base",
      "_view_module_version": "1.2.0",
      "_view_name": "StyleView",
      "bar_color": null,
      "description_width": "initial"
     }
    },
    "45f0a2f361da4608bc8314a27657a56c": {
     "model_module": "@jupyter-widgets/controls",
     "model_name": "ProgressStyleModel",
     "state": {
      "_model_module": "@jupyter-widgets/controls",
      "_model_module_version": "1.5.0",
      "_model_name": "ProgressStyleModel",
      "_view_count": null,
      "_view_module": "@jupyter-widgets/base",
      "_view_module_version": "1.2.0",
      "_view_name": "StyleView",
      "bar_color": null,
      "description_width": "initial"
     }
    },
    "4797f1acd9924b4e97f12f964c83078c": {
     "model_module": "@jupyter-widgets/controls",
     "model_name": "HBoxModel",
     "state": {
      "_dom_classes": [],
      "_model_module": "@jupyter-widgets/controls",
      "_model_module_version": "1.5.0",
      "_model_name": "HBoxModel",
      "_view_count": null,
      "_view_module": "@jupyter-widgets/controls",
      "_view_module_version": "1.5.0",
      "_view_name": "HBoxView",
      "box_style": "",
      "children": [
       "IPY_MODEL_5370c0f2d54b45c0a89f11fb5b70cd4b",
       "IPY_MODEL_018c1f8e198e4df4b480e609bd1be602"
      ],
      "layout": "IPY_MODEL_73940df84ffd4e0f96637342e9fd12b7"
     }
    },
    "47a6c3c427614f21a6dab1c048e5dd37": {
     "model_module": "@jupyter-widgets/base",
     "model_name": "LayoutModel",
     "state": {
      "_model_module": "@jupyter-widgets/base",
      "_model_module_version": "1.2.0",
      "_model_name": "LayoutModel",
      "_view_count": null,
      "_view_module": "@jupyter-widgets/base",
      "_view_module_version": "1.2.0",
      "_view_name": "LayoutView",
      "align_content": null,
      "align_items": null,
      "align_self": null,
      "border": null,
      "bottom": null,
      "display": null,
      "flex": null,
      "flex_flow": null,
      "grid_area": null,
      "grid_auto_columns": null,
      "grid_auto_flow": null,
      "grid_auto_rows": null,
      "grid_column": null,
      "grid_gap": null,
      "grid_row": null,
      "grid_template_areas": null,
      "grid_template_columns": null,
      "grid_template_rows": null,
      "height": null,
      "justify_content": null,
      "justify_items": null,
      "left": null,
      "margin": null,
      "max_height": null,
      "max_width": null,
      "min_height": null,
      "min_width": null,
      "object_fit": null,
      "object_position": null,
      "order": null,
      "overflow": null,
      "overflow_x": null,
      "overflow_y": null,
      "padding": null,
      "right": null,
      "top": null,
      "visibility": null,
      "width": null
     }
    },
    "491fd969d61a478f8e85ffcd3e1a3e20": {
     "model_module": "@jupyter-widgets/base",
     "model_name": "LayoutModel",
     "state": {
      "_model_module": "@jupyter-widgets/base",
      "_model_module_version": "1.2.0",
      "_model_name": "LayoutModel",
      "_view_count": null,
      "_view_module": "@jupyter-widgets/base",
      "_view_module_version": "1.2.0",
      "_view_name": "LayoutView",
      "align_content": null,
      "align_items": null,
      "align_self": null,
      "border": null,
      "bottom": null,
      "display": null,
      "flex": null,
      "flex_flow": null,
      "grid_area": null,
      "grid_auto_columns": null,
      "grid_auto_flow": null,
      "grid_auto_rows": null,
      "grid_column": null,
      "grid_gap": null,
      "grid_row": null,
      "grid_template_areas": null,
      "grid_template_columns": null,
      "grid_template_rows": null,
      "height": null,
      "justify_content": null,
      "justify_items": null,
      "left": null,
      "margin": null,
      "max_height": null,
      "max_width": null,
      "min_height": null,
      "min_width": null,
      "object_fit": null,
      "object_position": null,
      "order": null,
      "overflow": null,
      "overflow_x": null,
      "overflow_y": null,
      "padding": null,
      "right": null,
      "top": null,
      "visibility": null,
      "width": null
     }
    },
    "49defa4284554baf85f32de242b22709": {
     "model_module": "@jupyter-widgets/controls",
     "model_name": "ProgressStyleModel",
     "state": {
      "_model_module": "@jupyter-widgets/controls",
      "_model_module_version": "1.5.0",
      "_model_name": "ProgressStyleModel",
      "_view_count": null,
      "_view_module": "@jupyter-widgets/base",
      "_view_module_version": "1.2.0",
      "_view_name": "StyleView",
      "bar_color": null,
      "description_width": "initial"
     }
    },
    "4abe2731ec624729b401d60a392cae63": {
     "model_module": "@jupyter-widgets/base",
     "model_name": "LayoutModel",
     "state": {
      "_model_module": "@jupyter-widgets/base",
      "_model_module_version": "1.2.0",
      "_model_name": "LayoutModel",
      "_view_count": null,
      "_view_module": "@jupyter-widgets/base",
      "_view_module_version": "1.2.0",
      "_view_name": "LayoutView",
      "align_content": null,
      "align_items": null,
      "align_self": null,
      "border": null,
      "bottom": null,
      "display": null,
      "flex": null,
      "flex_flow": null,
      "grid_area": null,
      "grid_auto_columns": null,
      "grid_auto_flow": null,
      "grid_auto_rows": null,
      "grid_column": null,
      "grid_gap": null,
      "grid_row": null,
      "grid_template_areas": null,
      "grid_template_columns": null,
      "grid_template_rows": null,
      "height": null,
      "justify_content": null,
      "justify_items": null,
      "left": null,
      "margin": null,
      "max_height": null,
      "max_width": null,
      "min_height": null,
      "min_width": null,
      "object_fit": null,
      "object_position": null,
      "order": null,
      "overflow": null,
      "overflow_x": null,
      "overflow_y": null,
      "padding": null,
      "right": null,
      "top": null,
      "visibility": null,
      "width": null
     }
    },
    "4c0ad31e73234e46aac0a297ec18bdeb": {
     "model_module": "@jupyter-widgets/controls",
     "model_name": "ProgressStyleModel",
     "state": {
      "_model_module": "@jupyter-widgets/controls",
      "_model_module_version": "1.5.0",
      "_model_name": "ProgressStyleModel",
      "_view_count": null,
      "_view_module": "@jupyter-widgets/base",
      "_view_module_version": "1.2.0",
      "_view_name": "StyleView",
      "bar_color": null,
      "description_width": "initial"
     }
    },
    "4db5037af3f64a3a8a8a1203018a80ff": {
     "model_module": "@jupyter-widgets/controls",
     "model_name": "FloatProgressModel",
     "state": {
      "_dom_classes": [],
      "_model_module": "@jupyter-widgets/controls",
      "_model_module_version": "1.5.0",
      "_model_name": "FloatProgressModel",
      "_view_count": null,
      "_view_module": "@jupyter-widgets/controls",
      "_view_module_version": "1.5.0",
      "_view_name": "ProgressView",
      "bar_style": "info",
      "description": "",
      "description_tooltip": null,
      "layout": "IPY_MODEL_c0e6b6e6395d4dbd827eb1c0de1ad21a",
      "max": 1,
      "min": 0,
      "orientation": "horizontal",
      "style": "IPY_MODEL_2a6e1185a6a247f5acba8111824ad36b",
      "value": 1
     }
    },
    "4e1a725fd90b45e280b8b0028ba65250": {
     "model_module": "@jupyter-widgets/controls",
     "model_name": "HTMLModel",
     "state": {
      "_dom_classes": [],
      "_model_module": "@jupyter-widgets/controls",
      "_model_module_version": "1.5.0",
      "_model_name": "HTMLModel",
      "_view_count": null,
      "_view_module": "@jupyter-widgets/controls",
      "_view_module_version": "1.5.0",
      "_view_name": "HTMLView",
      "description": "",
      "description_tooltip": null,
      "layout": "IPY_MODEL_491fd969d61a478f8e85ffcd3e1a3e20",
      "placeholder": "​",
      "style": "IPY_MODEL_9f79629ad6a94201acf3283862d1ae17",
      "value": " 869/869 [05:48&lt;00:00,  2.49ex/s]"
     }
    },
    "4f8957dc035d4c1a9e8630fc8ab8cd10": {
     "model_module": "@jupyter-widgets/controls",
     "model_name": "FloatProgressModel",
     "state": {
      "_dom_classes": [],
      "_model_module": "@jupyter-widgets/controls",
      "_model_module_version": "1.5.0",
      "_model_name": "FloatProgressModel",
      "_view_count": null,
      "_view_module": "@jupyter-widgets/controls",
      "_view_module_version": "1.5.0",
      "_view_name": "ProgressView",
      "bar_style": "success",
      "description": "#1: 100%",
      "description_tooltip": null,
      "layout": "IPY_MODEL_47a6c3c427614f21a6dab1c048e5dd37",
      "max": 870,
      "min": 0,
      "orientation": "horizontal",
      "style": "IPY_MODEL_596aea0362924c7db583203268dd5a3e",
      "value": 870
     }
    },
    "4fb7347e9ca542e6ab9003bf4db218e0": {
     "model_module": "@jupyter-widgets/controls",
     "model_name": "HTMLModel",
     "state": {
      "_dom_classes": [],
      "_model_module": "@jupyter-widgets/controls",
      "_model_module_version": "1.5.0",
      "_model_name": "HTMLModel",
      "_view_count": null,
      "_view_module": "@jupyter-widgets/controls",
      "_view_module_version": "1.5.0",
      "_view_name": "HTMLView",
      "description": "",
      "description_tooltip": null,
      "layout": "IPY_MODEL_0987aac282af415da2fbc9dc1b4d5069",
      "placeholder": "​",
      "style": "IPY_MODEL_6d4a26d876fb4ac6b5948a09945bdc6b",
      "value": " 109/109 [00:58&lt;00:00,  1.88ba/s]"
     }
    },
    "4ff7ccffc36a4a0f93031f5cdc3b718d": {
     "model_module": "@jupyter-widgets/controls",
     "model_name": "ProgressStyleModel",
     "state": {
      "_model_module": "@jupyter-widgets/controls",
      "_model_module_version": "1.5.0",
      "_model_name": "ProgressStyleModel",
      "_view_count": null,
      "_view_module": "@jupyter-widgets/base",
      "_view_module_version": "1.2.0",
      "_view_name": "StyleView",
      "bar_color": null,
      "description_width": "initial"
     }
    },
    "5071a31d06f544a5b7340a4e863d8fdf": {
     "model_module": "@jupyter-widgets/controls",
     "model_name": "FloatProgressModel",
     "state": {
      "_dom_classes": [],
      "_model_module": "@jupyter-widgets/controls",
      "_model_module_version": "1.5.0",
      "_model_name": "FloatProgressModel",
      "_view_count": null,
      "_view_module": "@jupyter-widgets/controls",
      "_view_module_version": "1.5.0",
      "_view_name": "ProgressView",
      "bar_style": "success",
      "description": "#3: 100%",
      "description_tooltip": null,
      "layout": "IPY_MODEL_b2473405490e4556bf30c0cc81237aa5",
      "max": 109,
      "min": 0,
      "orientation": "horizontal",
      "style": "IPY_MODEL_49defa4284554baf85f32de242b22709",
      "value": 109
     }
    },
    "530f66ac087e4f8f979fcaa33941c60d": {
     "model_module": "@jupyter-widgets/controls",
     "model_name": "ProgressStyleModel",
     "state": {
      "_model_module": "@jupyter-widgets/controls",
      "_model_module_version": "1.5.0",
      "_model_name": "ProgressStyleModel",
      "_view_count": null,
      "_view_module": "@jupyter-widgets/base",
      "_view_module_version": "1.2.0",
      "_view_name": "StyleView",
      "bar_color": null,
      "description_width": "initial"
     }
    },
    "5370c0f2d54b45c0a89f11fb5b70cd4b": {
     "model_module": "@jupyter-widgets/controls",
     "model_name": "FloatProgressModel",
     "state": {
      "_dom_classes": [],
      "_model_module": "@jupyter-widgets/controls",
      "_model_module_version": "1.5.0",
      "_model_name": "FloatProgressModel",
      "_view_count": null,
      "_view_module": "@jupyter-widgets/controls",
      "_view_module_version": "1.5.0",
      "_view_name": "ProgressView",
      "bar_style": "success",
      "description": "#0: 100%",
      "description_tooltip": null,
      "layout": "IPY_MODEL_020bdb330b0d40f5b89697ff37025f69",
      "max": 109,
      "min": 0,
      "orientation": "horizontal",
      "style": "IPY_MODEL_fa7926bbe77e48b3a0648b45f5d2dc7a",
      "value": 109
     }
    },
    "540510088d3947f1b3cf6f4c983c1a53": {
     "model_module": "@jupyter-widgets/base",
     "model_name": "LayoutModel",
     "state": {
      "_model_module": "@jupyter-widgets/base",
      "_model_module_version": "1.2.0",
      "_model_name": "LayoutModel",
      "_view_count": null,
      "_view_module": "@jupyter-widgets/base",
      "_view_module_version": "1.2.0",
      "_view_name": "LayoutView",
      "align_content": null,
      "align_items": null,
      "align_self": null,
      "border": null,
      "bottom": null,
      "display": null,
      "flex": null,
      "flex_flow": null,
      "grid_area": null,
      "grid_auto_columns": null,
      "grid_auto_flow": null,
      "grid_auto_rows": null,
      "grid_column": null,
      "grid_gap": null,
      "grid_row": null,
      "grid_template_areas": null,
      "grid_template_columns": null,
      "grid_template_rows": null,
      "height": null,
      "justify_content": null,
      "justify_items": null,
      "left": null,
      "margin": null,
      "max_height": null,
      "max_width": null,
      "min_height": null,
      "min_width": null,
      "object_fit": null,
      "object_position": null,
      "order": null,
      "overflow": null,
      "overflow_x": null,
      "overflow_y": null,
      "padding": null,
      "right": null,
      "top": null,
      "visibility": null,
      "width": null
     }
    },
    "542027ba12f444d586e8072452badea0": {
     "model_module": "@jupyter-widgets/controls",
     "model_name": "HTMLModel",
     "state": {
      "_dom_classes": [],
      "_model_module": "@jupyter-widgets/controls",
      "_model_module_version": "1.5.0",
      "_model_name": "HTMLModel",
      "_view_count": null,
      "_view_module": "@jupyter-widgets/controls",
      "_view_module_version": "1.5.0",
      "_view_name": "HTMLView",
      "description": "",
      "description_tooltip": null,
      "layout": "IPY_MODEL_bc41384bbae04044b9780651c6b5a47c",
      "placeholder": "​",
      "style": "IPY_MODEL_02bdb06c176145feaa842b97ae58609c",
      "value": " 109/109 [00:58&lt;00:00,  1.88ba/s]"
     }
    },
    "55071fc1b7484620803aeba453e9af72": {
     "model_module": "@jupyter-widgets/base",
     "model_name": "LayoutModel",
     "state": {
      "_model_module": "@jupyter-widgets/base",
      "_model_module_version": "1.2.0",
      "_model_name": "LayoutModel",
      "_view_count": null,
      "_view_module": "@jupyter-widgets/base",
      "_view_module_version": "1.2.0",
      "_view_name": "LayoutView",
      "align_content": null,
      "align_items": null,
      "align_self": null,
      "border": null,
      "bottom": null,
      "display": null,
      "flex": null,
      "flex_flow": null,
      "grid_area": null,
      "grid_auto_columns": null,
      "grid_auto_flow": null,
      "grid_auto_rows": null,
      "grid_column": null,
      "grid_gap": null,
      "grid_row": null,
      "grid_template_areas": null,
      "grid_template_columns": null,
      "grid_template_rows": null,
      "height": null,
      "justify_content": null,
      "justify_items": null,
      "left": null,
      "margin": null,
      "max_height": null,
      "max_width": null,
      "min_height": null,
      "min_width": null,
      "object_fit": null,
      "object_position": null,
      "order": null,
      "overflow": null,
      "overflow_x": null,
      "overflow_y": null,
      "padding": null,
      "right": null,
      "top": null,
      "visibility": null,
      "width": null
     }
    },
    "56ad6231a0a04228be29ceecbc6b7c0e": {
     "model_module": "@jupyter-widgets/base",
     "model_name": "LayoutModel",
     "state": {
      "_model_module": "@jupyter-widgets/base",
      "_model_module_version": "1.2.0",
      "_model_name": "LayoutModel",
      "_view_count": null,
      "_view_module": "@jupyter-widgets/base",
      "_view_module_version": "1.2.0",
      "_view_name": "LayoutView",
      "align_content": null,
      "align_items": null,
      "align_self": null,
      "border": null,
      "bottom": null,
      "display": null,
      "flex": null,
      "flex_flow": null,
      "grid_area": null,
      "grid_auto_columns": null,
      "grid_auto_flow": null,
      "grid_auto_rows": null,
      "grid_column": null,
      "grid_gap": null,
      "grid_row": null,
      "grid_template_areas": null,
      "grid_template_columns": null,
      "grid_template_rows": null,
      "height": null,
      "justify_content": null,
      "justify_items": null,
      "left": null,
      "margin": null,
      "max_height": null,
      "max_width": null,
      "min_height": null,
      "min_width": null,
      "object_fit": null,
      "object_position": null,
      "order": null,
      "overflow": null,
      "overflow_x": null,
      "overflow_y": null,
      "padding": null,
      "right": null,
      "top": null,
      "visibility": null,
      "width": null
     }
    },
    "57198e3250374e1fa64c5a4be255861e": {
     "model_module": "@jupyter-widgets/controls",
     "model_name": "HTMLModel",
     "state": {
      "_dom_classes": [],
      "_model_module": "@jupyter-widgets/controls",
      "_model_module_version": "1.5.0",
      "_model_name": "HTMLModel",
      "_view_count": null,
      "_view_module": "@jupyter-widgets/controls",
      "_view_module_version": "1.5.0",
      "_view_name": "HTMLView",
      "description": "",
      "description_tooltip": null,
      "layout": "IPY_MODEL_8f737725708c4097a8caaf4da6229636",
      "placeholder": "​",
      "style": "IPY_MODEL_969080b52ad44ee997829986d198c505",
      "value": " 3.90k/? [00:00&lt;00:00, 23.0kB/s]"
     }
    },
    "579b6055028f473981ce789a0733a753": {
     "model_module": "@jupyter-widgets/controls",
     "model_name": "FloatProgressModel",
     "state": {
      "_dom_classes": [],
      "_model_module": "@jupyter-widgets/controls",
      "_model_module_version": "1.5.0",
      "_model_name": "FloatProgressModel",
      "_view_count": null,
      "_view_module": "@jupyter-widgets/controls",
      "_view_module_version": "1.5.0",
      "_view_name": "ProgressView",
      "bar_style": "success",
      "description": "#2: 100%",
      "description_tooltip": null,
      "layout": "IPY_MODEL_6de66d6b7a73434cbdc59b2109bdf0a0",
      "max": 109,
      "min": 0,
      "orientation": "horizontal",
      "style": "IPY_MODEL_3133b378b9294a759c8dfb786ed8f815",
      "value": 109
     }
    },
    "58f3e8002f984594ac05c973aa78ef69": {
     "model_module": "@jupyter-widgets/base",
     "model_name": "LayoutModel",
     "state": {
      "_model_module": "@jupyter-widgets/base",
      "_model_module_version": "1.2.0",
      "_model_name": "LayoutModel",
      "_view_count": null,
      "_view_module": "@jupyter-widgets/base",
      "_view_module_version": "1.2.0",
      "_view_name": "LayoutView",
      "align_content": null,
      "align_items": null,
      "align_self": null,
      "border": null,
      "bottom": null,
      "display": null,
      "flex": null,
      "flex_flow": null,
      "grid_area": null,
      "grid_auto_columns": null,
      "grid_auto_flow": null,
      "grid_auto_rows": null,
      "grid_column": null,
      "grid_gap": null,
      "grid_row": null,
      "grid_template_areas": null,
      "grid_template_columns": null,
      "grid_template_rows": null,
      "height": null,
      "justify_content": null,
      "justify_items": null,
      "left": null,
      "margin": null,
      "max_height": null,
      "max_width": null,
      "min_height": null,
      "min_width": null,
      "object_fit": null,
      "object_position": null,
      "order": null,
      "overflow": null,
      "overflow_x": null,
      "overflow_y": null,
      "padding": null,
      "right": null,
      "top": null,
      "visibility": null,
      "width": null
     }
    },
    "596aea0362924c7db583203268dd5a3e": {
     "model_module": "@jupyter-widgets/controls",
     "model_name": "ProgressStyleModel",
     "state": {
      "_model_module": "@jupyter-widgets/controls",
      "_model_module_version": "1.5.0",
      "_model_name": "ProgressStyleModel",
      "_view_count": null,
      "_view_module": "@jupyter-widgets/base",
      "_view_module_version": "1.2.0",
      "_view_name": "StyleView",
      "bar_color": null,
      "description_width": "initial"
     }
    },
    "59e0f5200068461cbfb256ad5479c4c8": {
     "model_module": "@jupyter-widgets/controls",
     "model_name": "DescriptionStyleModel",
     "state": {
      "_model_module": "@jupyter-widgets/controls",
      "_model_module_version": "1.5.0",
      "_model_name": "DescriptionStyleModel",
      "_view_count": null,
      "_view_module": "@jupyter-widgets/base",
      "_view_module_version": "1.2.0",
      "_view_name": "StyleView",
      "description_width": ""
     }
    },
    "5a5bc8b4a1c644dea08a60128d888d10": {
     "model_module": "@jupyter-widgets/controls",
     "model_name": "DescriptionStyleModel",
     "state": {
      "_model_module": "@jupyter-widgets/controls",
      "_model_module_version": "1.5.0",
      "_model_name": "DescriptionStyleModel",
      "_view_count": null,
      "_view_module": "@jupyter-widgets/base",
      "_view_module_version": "1.2.0",
      "_view_name": "StyleView",
      "description_width": ""
     }
    },
    "5ab30242cd154ec0b560c23c0f178546": {
     "model_module": "@jupyter-widgets/controls",
     "model_name": "ProgressStyleModel",
     "state": {
      "_model_module": "@jupyter-widgets/controls",
      "_model_module_version": "1.5.0",
      "_model_name": "ProgressStyleModel",
      "_view_count": null,
      "_view_module": "@jupyter-widgets/base",
      "_view_module_version": "1.2.0",
      "_view_name": "StyleView",
      "bar_color": null,
      "description_width": "initial"
     }
    },
    "5ccd12253fff448f9c15c9b03c70a408": {
     "model_module": "@jupyter-widgets/controls",
     "model_name": "HBoxModel",
     "state": {
      "_dom_classes": [],
      "_model_module": "@jupyter-widgets/controls",
      "_model_module_version": "1.5.0",
      "_model_name": "HBoxModel",
      "_view_count": null,
      "_view_module": "@jupyter-widgets/controls",
      "_view_module_version": "1.5.0",
      "_view_name": "HBoxView",
      "box_style": "",
      "children": [
       "IPY_MODEL_f203c54e7e054d97aa4d1097f320f611",
       "IPY_MODEL_6266a4019e124aff877bb55f21740180"
      ],
      "layout": "IPY_MODEL_330226a977694de1bd88c0aa3789be47"
     }
    },
    "5e3aad95e52f4be2bd670d1345398f1b": {
     "model_module": "@jupyter-widgets/controls",
     "model_name": "HTMLModel",
     "state": {
      "_dom_classes": [],
      "_model_module": "@jupyter-widgets/controls",
      "_model_module_version": "1.5.0",
      "_model_name": "HTMLModel",
      "_view_count": null,
      "_view_module": "@jupyter-widgets/controls",
      "_view_module_version": "1.5.0",
      "_view_name": "HTMLView",
      "description": "",
      "description_tooltip": null,
      "layout": "IPY_MODEL_99d5c44ea54b45ee9bd89380cb1ad189",
      "placeholder": "​",
      "style": "IPY_MODEL_7aa70322bdfe46938b583a20003093d5",
      "value": " 3478/3478 [03:16&lt;00:00, 17.67ex/s]"
     }
    },
    "5e6bae23461b4378b6e5fc890fe6bc97": {
     "model_module": "@jupyter-widgets/base",
     "model_name": "LayoutModel",
     "state": {
      "_model_module": "@jupyter-widgets/base",
      "_model_module_version": "1.2.0",
      "_model_name": "LayoutModel",
      "_view_count": null,
      "_view_module": "@jupyter-widgets/base",
      "_view_module_version": "1.2.0",
      "_view_name": "LayoutView",
      "align_content": null,
      "align_items": null,
      "align_self": null,
      "border": null,
      "bottom": null,
      "display": null,
      "flex": null,
      "flex_flow": null,
      "grid_area": null,
      "grid_auto_columns": null,
      "grid_auto_flow": null,
      "grid_auto_rows": null,
      "grid_column": null,
      "grid_gap": null,
      "grid_row": null,
      "grid_template_areas": null,
      "grid_template_columns": null,
      "grid_template_rows": null,
      "height": null,
      "justify_content": null,
      "justify_items": null,
      "left": null,
      "margin": null,
      "max_height": null,
      "max_width": null,
      "min_height": null,
      "min_width": null,
      "object_fit": null,
      "object_position": null,
      "order": null,
      "overflow": null,
      "overflow_x": null,
      "overflow_y": null,
      "padding": null,
      "right": null,
      "top": null,
      "visibility": null,
      "width": null
     }
    },
    "5f48f54986924e418aa4ac22aa54b714": {
     "model_module": "@jupyter-widgets/controls",
     "model_name": "HBoxModel",
     "state": {
      "_dom_classes": [],
      "_model_module": "@jupyter-widgets/controls",
      "_model_module_version": "1.5.0",
      "_model_name": "HBoxModel",
      "_view_count": null,
      "_view_module": "@jupyter-widgets/controls",
      "_view_module_version": "1.5.0",
      "_view_name": "HBoxView",
      "box_style": "",
      "children": [
       "IPY_MODEL_a58c203a7cc54086aea45f2029821207",
       "IPY_MODEL_8d409ca0372a48e2972ca1d8eee5ffa1"
      ],
      "layout": "IPY_MODEL_db71db50799c404aafa4a54de8b9b799"
     }
    },
    "6266a4019e124aff877bb55f21740180": {
     "model_module": "@jupyter-widgets/controls",
     "model_name": "HTMLModel",
     "state": {
      "_dom_classes": [],
      "_model_module": "@jupyter-widgets/controls",
      "_model_module_version": "1.5.0",
      "_model_name": "HTMLModel",
      "_view_count": null,
      "_view_module": "@jupyter-widgets/controls",
      "_view_module_version": "1.5.0",
      "_view_name": "HTMLView",
      "description": "",
      "description_tooltip": null,
      "layout": "IPY_MODEL_55071fc1b7484620803aeba453e9af72",
      "placeholder": "​",
      "style": "IPY_MODEL_8ad3e4b211e34c048d0f48e36fdbfe48",
      "value": " 411/411 [02:58&lt;00:00,  2.30ex/s]"
     }
    },
    "6462bd9561e24abb98fce6ce4675d810": {
     "model_module": "@jupyter-widgets/controls",
     "model_name": "HBoxModel",
     "state": {
      "_dom_classes": [],
      "_model_module": "@jupyter-widgets/controls",
      "_model_module_version": "1.5.0",
      "_model_name": "HBoxModel",
      "_view_count": null,
      "_view_module": "@jupyter-widgets/controls",
      "_view_module_version": "1.5.0",
      "_view_name": "HBoxView",
      "box_style": "",
      "children": [
       "IPY_MODEL_e273548a15aa4d4994132b317adb66fc",
       "IPY_MODEL_f6930dd5519d4dfda64c597def220a30"
      ],
      "layout": "IPY_MODEL_bd3447291ce54812af10ac6245ea4328"
     }
    },
    "68a3178fe7a54e838e798ff28ff9aa0b": {
     "model_module": "@jupyter-widgets/controls",
     "model_name": "DescriptionStyleModel",
     "state": {
      "_model_module": "@jupyter-widgets/controls",
      "_model_module_version": "1.5.0",
      "_model_name": "DescriptionStyleModel",
      "_view_count": null,
      "_view_module": "@jupyter-widgets/base",
      "_view_module_version": "1.2.0",
      "_view_name": "StyleView",
      "description_width": ""
     }
    },
    "69828f4a101f4340916a4be141866904": {
     "model_module": "@jupyter-widgets/base",
     "model_name": "LayoutModel",
     "state": {
      "_model_module": "@jupyter-widgets/base",
      "_model_module_version": "1.2.0",
      "_model_name": "LayoutModel",
      "_view_count": null,
      "_view_module": "@jupyter-widgets/base",
      "_view_module_version": "1.2.0",
      "_view_name": "LayoutView",
      "align_content": null,
      "align_items": null,
      "align_self": null,
      "border": null,
      "bottom": null,
      "display": null,
      "flex": null,
      "flex_flow": null,
      "grid_area": null,
      "grid_auto_columns": null,
      "grid_auto_flow": null,
      "grid_auto_rows": null,
      "grid_column": null,
      "grid_gap": null,
      "grid_row": null,
      "grid_template_areas": null,
      "grid_template_columns": null,
      "grid_template_rows": null,
      "height": null,
      "justify_content": null,
      "justify_items": null,
      "left": null,
      "margin": null,
      "max_height": null,
      "max_width": null,
      "min_height": null,
      "min_width": null,
      "object_fit": null,
      "object_position": null,
      "order": null,
      "overflow": null,
      "overflow_x": null,
      "overflow_y": null,
      "padding": null,
      "right": null,
      "top": null,
      "visibility": null,
      "width": null
     }
    },
    "6a957c1c17474d8d89c27ddecf702fda": {
     "model_module": "@jupyter-widgets/controls",
     "model_name": "HTMLModel",
     "state": {
      "_dom_classes": [],
      "_model_module": "@jupyter-widgets/controls",
      "_model_module_version": "1.5.0",
      "_model_name": "HTMLModel",
      "_view_count": null,
      "_view_module": "@jupyter-widgets/controls",
      "_view_module_version": "1.5.0",
      "_view_name": "HTMLView",
      "description": "",
      "description_tooltip": null,
      "layout": "IPY_MODEL_91fcf0641fe3489ab96f3aaa40adf245",
      "placeholder": "​",
      "style": "IPY_MODEL_05f83d714f864a399083f0e34a812467",
      "value": " 1647/0 [00:00&lt;00:00, 14016.07 examples/s]"
     }
    },
    "6abfbe44a1bd4518b41f5f53f920e936": {
     "model_module": "@jupyter-widgets/base",
     "model_name": "LayoutModel",
     "state": {
      "_model_module": "@jupyter-widgets/base",
      "_model_module_version": "1.2.0",
      "_model_name": "LayoutModel",
      "_view_count": null,
      "_view_module": "@jupyter-widgets/base",
      "_view_module_version": "1.2.0",
      "_view_name": "LayoutView",
      "align_content": null,
      "align_items": null,
      "align_self": null,
      "border": null,
      "bottom": null,
      "display": null,
      "flex": null,
      "flex_flow": null,
      "grid_area": null,
      "grid_auto_columns": null,
      "grid_auto_flow": null,
      "grid_auto_rows": null,
      "grid_column": null,
      "grid_gap": null,
      "grid_row": null,
      "grid_template_areas": null,
      "grid_template_columns": null,
      "grid_template_rows": null,
      "height": null,
      "justify_content": null,
      "justify_items": null,
      "left": null,
      "margin": null,
      "max_height": null,
      "max_width": null,
      "min_height": null,
      "min_width": null,
      "object_fit": null,
      "object_position": null,
      "order": null,
      "overflow": null,
      "overflow_x": null,
      "overflow_y": null,
      "padding": null,
      "right": null,
      "top": null,
      "visibility": null,
      "width": null
     }
    },
    "6ba6d07674a34836be53cf173c2b61ca": {
     "model_module": "@jupyter-widgets/base",
     "model_name": "LayoutModel",
     "state": {
      "_model_module": "@jupyter-widgets/base",
      "_model_module_version": "1.2.0",
      "_model_name": "LayoutModel",
      "_view_count": null,
      "_view_module": "@jupyter-widgets/base",
      "_view_module_version": "1.2.0",
      "_view_name": "LayoutView",
      "align_content": null,
      "align_items": null,
      "align_self": null,
      "border": null,
      "bottom": null,
      "display": null,
      "flex": null,
      "flex_flow": null,
      "grid_area": null,
      "grid_auto_columns": null,
      "grid_auto_flow": null,
      "grid_auto_rows": null,
      "grid_column": null,
      "grid_gap": null,
      "grid_row": null,
      "grid_template_areas": null,
      "grid_template_columns": null,
      "grid_template_rows": null,
      "height": null,
      "justify_content": null,
      "justify_items": null,
      "left": null,
      "margin": null,
      "max_height": null,
      "max_width": null,
      "min_height": null,
      "min_width": null,
      "object_fit": null,
      "object_position": null,
      "order": null,
      "overflow": null,
      "overflow_x": null,
      "overflow_y": null,
      "padding": null,
      "right": null,
      "top": null,
      "visibility": null,
      "width": null
     }
    },
    "6c065aa34661469ca1efb4c5e90fe136": {
     "model_module": "@jupyter-widgets/controls",
     "model_name": "HBoxModel",
     "state": {
      "_dom_classes": [],
      "_model_module": "@jupyter-widgets/controls",
      "_model_module_version": "1.5.0",
      "_model_name": "HBoxModel",
      "_view_count": null,
      "_view_module": "@jupyter-widgets/controls",
      "_view_module_version": "1.5.0",
      "_view_name": "HBoxView",
      "box_style": "",
      "children": [
       "IPY_MODEL_0a9b58c98508420d8f8936189f064316",
       "IPY_MODEL_8dd5b08bb5bd4e608d04122424796ae7"
      ],
      "layout": "IPY_MODEL_540510088d3947f1b3cf6f4c983c1a53"
     }
    },
    "6d4a26d876fb4ac6b5948a09945bdc6b": {
     "model_module": "@jupyter-widgets/controls",
     "model_name": "DescriptionStyleModel",
     "state": {
      "_model_module": "@jupyter-widgets/controls",
      "_model_module_version": "1.5.0",
      "_model_name": "DescriptionStyleModel",
      "_view_count": null,
      "_view_module": "@jupyter-widgets/base",
      "_view_module_version": "1.2.0",
      "_view_name": "StyleView",
      "description_width": ""
     }
    },
    "6de66d6b7a73434cbdc59b2109bdf0a0": {
     "model_module": "@jupyter-widgets/base",
     "model_name": "LayoutModel",
     "state": {
      "_model_module": "@jupyter-widgets/base",
      "_model_module_version": "1.2.0",
      "_model_name": "LayoutModel",
      "_view_count": null,
      "_view_module": "@jupyter-widgets/base",
      "_view_module_version": "1.2.0",
      "_view_name": "LayoutView",
      "align_content": null,
      "align_items": null,
      "align_self": null,
      "border": null,
      "bottom": null,
      "display": null,
      "flex": null,
      "flex_flow": null,
      "grid_area": null,
      "grid_auto_columns": null,
      "grid_auto_flow": null,
      "grid_auto_rows": null,
      "grid_column": null,
      "grid_gap": null,
      "grid_row": null,
      "grid_template_areas": null,
      "grid_template_columns": null,
      "grid_template_rows": null,
      "height": null,
      "justify_content": null,
      "justify_items": null,
      "left": null,
      "margin": null,
      "max_height": null,
      "max_width": null,
      "min_height": null,
      "min_width": null,
      "object_fit": null,
      "object_position": null,
      "order": null,
      "overflow": null,
      "overflow_x": null,
      "overflow_y": null,
      "padding": null,
      "right": null,
      "top": null,
      "visibility": null,
      "width": null
     }
    },
    "6f60626242534f44a6381195e6eb6530": {
     "model_module": "@jupyter-widgets/controls",
     "model_name": "FloatProgressModel",
     "state": {
      "_dom_classes": [],
      "_model_module": "@jupyter-widgets/controls",
      "_model_module_version": "1.5.0",
      "_model_name": "FloatProgressModel",
      "_view_count": null,
      "_view_module": "@jupyter-widgets/controls",
      "_view_module_version": "1.5.0",
      "_view_name": "ProgressView",
      "bar_style": "success",
      "description": "#2: 100%",
      "description_tooltip": null,
      "layout": "IPY_MODEL_0ffcbedb8d4444508ac0c3c0b41ea8ac",
      "max": 52,
      "min": 0,
      "orientation": "horizontal",
      "style": "IPY_MODEL_5ab30242cd154ec0b560c23c0f178546",
      "value": 52
     }
    },
    "7040945accce4739a41746cc75bb7fce": {
     "model_module": "@jupyter-widgets/controls",
     "model_name": "HBoxModel",
     "state": {
      "_dom_classes": [],
      "_model_module": "@jupyter-widgets/controls",
      "_model_module_version": "1.5.0",
      "_model_name": "HBoxModel",
      "_view_count": null,
      "_view_module": "@jupyter-widgets/controls",
      "_view_module_version": "1.5.0",
      "_view_name": "HBoxView",
      "box_style": "",
      "children": [
       "IPY_MODEL_6f60626242534f44a6381195e6eb6530",
       "IPY_MODEL_9fee9d9dd1164d97a9109e942444c332"
      ],
      "layout": "IPY_MODEL_71011f0d2bc942ac8f9ea1d1fd30c78d"
     }
    },
    "704ea5e05fd744d998b76d6435992995": {
     "model_module": "@jupyter-widgets/controls",
     "model_name": "ProgressStyleModel",
     "state": {
      "_model_module": "@jupyter-widgets/controls",
      "_model_module_version": "1.5.0",
      "_model_name": "ProgressStyleModel",
      "_view_count": null,
      "_view_module": "@jupyter-widgets/base",
      "_view_module_version": "1.2.0",
      "_view_name": "StyleView",
      "bar_color": null,
      "description_width": "initial"
     }
    },
    "71011f0d2bc942ac8f9ea1d1fd30c78d": {
     "model_module": "@jupyter-widgets/base",
     "model_name": "LayoutModel",
     "state": {
      "_model_module": "@jupyter-widgets/base",
      "_model_module_version": "1.2.0",
      "_model_name": "LayoutModel",
      "_view_count": null,
      "_view_module": "@jupyter-widgets/base",
      "_view_module_version": "1.2.0",
      "_view_name": "LayoutView",
      "align_content": null,
      "align_items": null,
      "align_self": null,
      "border": null,
      "bottom": null,
      "display": null,
      "flex": null,
      "flex_flow": null,
      "grid_area": null,
      "grid_auto_columns": null,
      "grid_auto_flow": null,
      "grid_auto_rows": null,
      "grid_column": null,
      "grid_gap": null,
      "grid_row": null,
      "grid_template_areas": null,
      "grid_template_columns": null,
      "grid_template_rows": null,
      "height": null,
      "justify_content": null,
      "justify_items": null,
      "left": null,
      "margin": null,
      "max_height": null,
      "max_width": null,
      "min_height": null,
      "min_width": null,
      "object_fit": null,
      "object_position": null,
      "order": null,
      "overflow": null,
      "overflow_x": null,
      "overflow_y": null,
      "padding": null,
      "right": null,
      "top": null,
      "visibility": null,
      "width": null
     }
    },
    "71c059a0f3c246f3a40d55744331daaa": {
     "model_module": "@jupyter-widgets/controls",
     "model_name": "HTMLModel",
     "state": {
      "_dom_classes": [],
      "_model_module": "@jupyter-widgets/controls",
      "_model_module_version": "1.5.0",
      "_model_name": "HTMLModel",
      "_view_count": null,
      "_view_module": "@jupyter-widgets/controls",
      "_view_module_version": "1.5.0",
      "_view_name": "HTMLView",
      "description": "",
      "description_tooltip": null,
      "layout": "IPY_MODEL_430c3c079d0e4006b90e72df7986ffb0",
      "placeholder": "​",
      "style": "IPY_MODEL_cb5666eb8ebb4d1392e98d6b5af8761c",
      "value": " 325/0 [00:00&lt;00:00, 7071.04 examples/s]"
     }
    },
    "71ffdf6f26ba4381a8e671958e679f88": {
     "model_module": "@jupyter-widgets/controls",
     "model_name": "ProgressStyleModel",
     "state": {
      "_model_module": "@jupyter-widgets/controls",
      "_model_module_version": "1.5.0",
      "_model_name": "ProgressStyleModel",
      "_view_count": null,
      "_view_module": "@jupyter-widgets/base",
      "_view_module_version": "1.2.0",
      "_view_name": "StyleView",
      "bar_color": null,
      "description_width": "initial"
     }
    },
    "73940df84ffd4e0f96637342e9fd12b7": {
     "model_module": "@jupyter-widgets/base",
     "model_name": "LayoutModel",
     "state": {
      "_model_module": "@jupyter-widgets/base",
      "_model_module_version": "1.2.0",
      "_model_name": "LayoutModel",
      "_view_count": null,
      "_view_module": "@jupyter-widgets/base",
      "_view_module_version": "1.2.0",
      "_view_name": "LayoutView",
      "align_content": null,
      "align_items": null,
      "align_self": null,
      "border": null,
      "bottom": null,
      "display": null,
      "flex": null,
      "flex_flow": null,
      "grid_area": null,
      "grid_auto_columns": null,
      "grid_auto_flow": null,
      "grid_auto_rows": null,
      "grid_column": null,
      "grid_gap": null,
      "grid_row": null,
      "grid_template_areas": null,
      "grid_template_columns": null,
      "grid_template_rows": null,
      "height": null,
      "justify_content": null,
      "justify_items": null,
      "left": null,
      "margin": null,
      "max_height": null,
      "max_width": null,
      "min_height": null,
      "min_width": null,
      "object_fit": null,
      "object_position": null,
      "order": null,
      "overflow": null,
      "overflow_x": null,
      "overflow_y": null,
      "padding": null,
      "right": null,
      "top": null,
      "visibility": null,
      "width": null
     }
    },
    "73ecbfc3c5c5456bb42e19b8a34b1576": {
     "model_module": "@jupyter-widgets/base",
     "model_name": "LayoutModel",
     "state": {
      "_model_module": "@jupyter-widgets/base",
      "_model_module_version": "1.2.0",
      "_model_name": "LayoutModel",
      "_view_count": null,
      "_view_module": "@jupyter-widgets/base",
      "_view_module_version": "1.2.0",
      "_view_name": "LayoutView",
      "align_content": null,
      "align_items": null,
      "align_self": null,
      "border": null,
      "bottom": null,
      "display": null,
      "flex": null,
      "flex_flow": null,
      "grid_area": null,
      "grid_auto_columns": null,
      "grid_auto_flow": null,
      "grid_auto_rows": null,
      "grid_column": null,
      "grid_gap": null,
      "grid_row": null,
      "grid_template_areas": null,
      "grid_template_columns": null,
      "grid_template_rows": null,
      "height": null,
      "justify_content": null,
      "justify_items": null,
      "left": null,
      "margin": null,
      "max_height": null,
      "max_width": null,
      "min_height": null,
      "min_width": null,
      "object_fit": null,
      "object_position": null,
      "order": null,
      "overflow": null,
      "overflow_x": null,
      "overflow_y": null,
      "padding": null,
      "right": null,
      "top": null,
      "visibility": null,
      "width": null
     }
    },
    "751ae6b9e2da4b85be9600561485f1ac": {
     "model_module": "@jupyter-widgets/controls",
     "model_name": "DescriptionStyleModel",
     "state": {
      "_model_module": "@jupyter-widgets/controls",
      "_model_module_version": "1.5.0",
      "_model_name": "DescriptionStyleModel",
      "_view_count": null,
      "_view_module": "@jupyter-widgets/base",
      "_view_module_version": "1.2.0",
      "_view_name": "StyleView",
      "description_width": ""
     }
    },
    "757e7bd0e6c5410da0490d191b4e68c8": {
     "model_module": "@jupyter-widgets/controls",
     "model_name": "HTMLModel",
     "state": {
      "_dom_classes": [],
      "_model_module": "@jupyter-widgets/controls",
      "_model_module_version": "1.5.0",
      "_model_name": "HTMLModel",
      "_view_count": null,
      "_view_module": "@jupyter-widgets/controls",
      "_view_module_version": "1.5.0",
      "_view_name": "HTMLView",
      "description": "",
      "description_tooltip": null,
      "layout": "IPY_MODEL_9185f86719af476da41e3835e8f06f8d",
      "placeholder": "​",
      "style": "IPY_MODEL_0b795d4b68014de19bf9579c67b55ffb",
      "value": " 870/870 [05:35&lt;00:00,  2.59ex/s]"
     }
    },
    "75e00c38605f44cfb584067db1160349": {
     "model_module": "@jupyter-widgets/controls",
     "model_name": "FloatProgressModel",
     "state": {
      "_dom_classes": [],
      "_model_module": "@jupyter-widgets/controls",
      "_model_module_version": "1.5.0",
      "_model_name": "FloatProgressModel",
      "_view_count": null,
      "_view_module": "@jupyter-widgets/controls",
      "_view_module_version": "1.5.0",
      "_view_name": "ProgressView",
      "bar_style": "success",
      "description": "100%",
      "description_tooltip": null,
      "layout": "IPY_MODEL_73ecbfc3c5c5456bb42e19b8a34b1576",
      "max": 1,
      "min": 0,
      "orientation": "horizontal",
      "style": "IPY_MODEL_c01aca3229a24d41841be2b4a3a65bcc",
      "value": 1
     }
    },
    "768ab09956774f50a79b2493a8bf179b": {
     "model_module": "@jupyter-widgets/base",
     "model_name": "LayoutModel",
     "state": {
      "_model_module": "@jupyter-widgets/base",
      "_model_module_version": "1.2.0",
      "_model_name": "LayoutModel",
      "_view_count": null,
      "_view_module": "@jupyter-widgets/base",
      "_view_module_version": "1.2.0",
      "_view_name": "LayoutView",
      "align_content": null,
      "align_items": null,
      "align_self": null,
      "border": null,
      "bottom": null,
      "display": null,
      "flex": null,
      "flex_flow": null,
      "grid_area": null,
      "grid_auto_columns": null,
      "grid_auto_flow": null,
      "grid_auto_rows": null,
      "grid_column": null,
      "grid_gap": null,
      "grid_row": null,
      "grid_template_areas": null,
      "grid_template_columns": null,
      "grid_template_rows": null,
      "height": null,
      "justify_content": null,
      "justify_items": null,
      "left": null,
      "margin": null,
      "max_height": null,
      "max_width": null,
      "min_height": null,
      "min_width": null,
      "object_fit": null,
      "object_position": null,
      "order": null,
      "overflow": null,
      "overflow_x": null,
      "overflow_y": null,
      "padding": null,
      "right": null,
      "top": null,
      "visibility": null,
      "width": null
     }
    },
    "76d162d3ea0845cc837651a77a5a2d36": {
     "model_module": "@jupyter-widgets/controls",
     "model_name": "HBoxModel",
     "state": {
      "_dom_classes": [],
      "_model_module": "@jupyter-widgets/controls",
      "_model_module_version": "1.5.0",
      "_model_name": "HBoxModel",
      "_view_count": null,
      "_view_module": "@jupyter-widgets/controls",
      "_view_module_version": "1.5.0",
      "_view_name": "HBoxView",
      "box_style": "",
      "children": [
       "IPY_MODEL_f6b01ad0433a40178ef3ba5657bc1583",
       "IPY_MODEL_eed2ccc12daa4c71b080794a7a18f5cb"
      ],
      "layout": "IPY_MODEL_98c594f1e41e4b3fab10f0763bd93d75"
     }
    },
    "771959e46cb64b3ebafe931f96f5ff52": {
     "model_module": "@jupyter-widgets/controls",
     "model_name": "HBoxModel",
     "state": {
      "_dom_classes": [],
      "_model_module": "@jupyter-widgets/controls",
      "_model_module_version": "1.5.0",
      "_model_name": "HBoxModel",
      "_view_count": null,
      "_view_module": "@jupyter-widgets/controls",
      "_view_module_version": "1.5.0",
      "_view_name": "HBoxView",
      "box_style": "",
      "children": [
       "IPY_MODEL_f792530a76ee486688cbc2502dfae594",
       "IPY_MODEL_d69468d63dd74fdd807fe061b92aa84e"
      ],
      "layout": "IPY_MODEL_0e999af234bd4b63ad2937e61d08b693"
     }
    },
    "7916b06da182435a9cc1d13c73310500": {
     "model_module": "@jupyter-widgets/base",
     "model_name": "LayoutModel",
     "state": {
      "_model_module": "@jupyter-widgets/base",
      "_model_module_version": "1.2.0",
      "_model_name": "LayoutModel",
      "_view_count": null,
      "_view_module": "@jupyter-widgets/base",
      "_view_module_version": "1.2.0",
      "_view_name": "LayoutView",
      "align_content": null,
      "align_items": null,
      "align_self": null,
      "border": null,
      "bottom": null,
      "display": null,
      "flex": null,
      "flex_flow": null,
      "grid_area": null,
      "grid_auto_columns": null,
      "grid_auto_flow": null,
      "grid_auto_rows": null,
      "grid_column": null,
      "grid_gap": null,
      "grid_row": null,
      "grid_template_areas": null,
      "grid_template_columns": null,
      "grid_template_rows": null,
      "height": null,
      "justify_content": null,
      "justify_items": null,
      "left": null,
      "margin": null,
      "max_height": null,
      "max_width": null,
      "min_height": null,
      "min_width": null,
      "object_fit": null,
      "object_position": null,
      "order": null,
      "overflow": null,
      "overflow_x": null,
      "overflow_y": null,
      "padding": null,
      "right": null,
      "top": null,
      "visibility": null,
      "width": null
     }
    },
    "7aa70322bdfe46938b583a20003093d5": {
     "model_module": "@jupyter-widgets/controls",
     "model_name": "DescriptionStyleModel",
     "state": {
      "_model_module": "@jupyter-widgets/controls",
      "_model_module_version": "1.5.0",
      "_model_name": "DescriptionStyleModel",
      "_view_count": null,
      "_view_module": "@jupyter-widgets/base",
      "_view_module_version": "1.2.0",
      "_view_name": "StyleView",
      "description_width": ""
     }
    },
    "7b4cfd2b448643b8a4409dd612aef0d1": {
     "model_module": "@jupyter-widgets/base",
     "model_name": "LayoutModel",
     "state": {
      "_model_module": "@jupyter-widgets/base",
      "_model_module_version": "1.2.0",
      "_model_name": "LayoutModel",
      "_view_count": null,
      "_view_module": "@jupyter-widgets/base",
      "_view_module_version": "1.2.0",
      "_view_name": "LayoutView",
      "align_content": null,
      "align_items": null,
      "align_self": null,
      "border": null,
      "bottom": null,
      "display": null,
      "flex": null,
      "flex_flow": null,
      "grid_area": null,
      "grid_auto_columns": null,
      "grid_auto_flow": null,
      "grid_auto_rows": null,
      "grid_column": null,
      "grid_gap": null,
      "grid_row": null,
      "grid_template_areas": null,
      "grid_template_columns": null,
      "grid_template_rows": null,
      "height": null,
      "justify_content": null,
      "justify_items": null,
      "left": null,
      "margin": null,
      "max_height": null,
      "max_width": null,
      "min_height": null,
      "min_width": null,
      "object_fit": null,
      "object_position": null,
      "order": null,
      "overflow": null,
      "overflow_x": null,
      "overflow_y": null,
      "padding": null,
      "right": null,
      "top": null,
      "visibility": null,
      "width": null
     }
    },
    "7bf5b2b625764f63ad57a360c3fd0a61": {
     "model_module": "@jupyter-widgets/controls",
     "model_name": "DescriptionStyleModel",
     "state": {
      "_model_module": "@jupyter-widgets/controls",
      "_model_module_version": "1.5.0",
      "_model_name": "DescriptionStyleModel",
      "_view_count": null,
      "_view_module": "@jupyter-widgets/base",
      "_view_module_version": "1.2.0",
      "_view_name": "StyleView",
      "description_width": ""
     }
    },
    "7d62810674c8482abe46c60fc08884b4": {
     "model_module": "@jupyter-widgets/controls",
     "model_name": "ProgressStyleModel",
     "state": {
      "_model_module": "@jupyter-widgets/controls",
      "_model_module_version": "1.5.0",
      "_model_name": "ProgressStyleModel",
      "_view_count": null,
      "_view_module": "@jupyter-widgets/base",
      "_view_module_version": "1.2.0",
      "_view_name": "StyleView",
      "bar_color": null,
      "description_width": "initial"
     }
    },
    "7e50f8027fb74d669daae5e46082026c": {
     "model_module": "@jupyter-widgets/base",
     "model_name": "LayoutModel",
     "state": {
      "_model_module": "@jupyter-widgets/base",
      "_model_module_version": "1.2.0",
      "_model_name": "LayoutModel",
      "_view_count": null,
      "_view_module": "@jupyter-widgets/base",
      "_view_module_version": "1.2.0",
      "_view_name": "LayoutView",
      "align_content": null,
      "align_items": null,
      "align_self": null,
      "border": null,
      "bottom": null,
      "display": null,
      "flex": null,
      "flex_flow": null,
      "grid_area": null,
      "grid_auto_columns": null,
      "grid_auto_flow": null,
      "grid_auto_rows": null,
      "grid_column": null,
      "grid_gap": null,
      "grid_row": null,
      "grid_template_areas": null,
      "grid_template_columns": null,
      "grid_template_rows": null,
      "height": null,
      "justify_content": null,
      "justify_items": null,
      "left": null,
      "margin": null,
      "max_height": null,
      "max_width": null,
      "min_height": null,
      "min_width": null,
      "object_fit": null,
      "object_position": null,
      "order": null,
      "overflow": null,
      "overflow_x": null,
      "overflow_y": null,
      "padding": null,
      "right": null,
      "top": null,
      "visibility": null,
      "width": null
     }
    },
    "7edbecaccdd94ede8fddc0e1807e777e": {
     "model_module": "@jupyter-widgets/controls",
     "model_name": "FloatProgressModel",
     "state": {
      "_dom_classes": [],
      "_model_module": "@jupyter-widgets/controls",
      "_model_module_version": "1.5.0",
      "_model_name": "FloatProgressModel",
      "_view_count": null,
      "_view_module": "@jupyter-widgets/controls",
      "_view_module_version": "1.5.0",
      "_view_name": "ProgressView",
      "bar_style": "success",
      "description": "100%",
      "description_tooltip": null,
      "layout": "IPY_MODEL_3e3a022a9f304b0f9f7ef067fcee1e56",
      "max": 3478,
      "min": 0,
      "orientation": "horizontal",
      "style": "IPY_MODEL_b9c5c6dd54cc4dc5ad5a2bb69a24ab05",
      "value": 3478
     }
    },
    "7ef969e47c2d429a9848d5ab3f5bb2d9": {
     "model_module": "@jupyter-widgets/controls",
     "model_name": "HBoxModel",
     "state": {
      "_dom_classes": [],
      "_model_module": "@jupyter-widgets/controls",
      "_model_module_version": "1.5.0",
      "_model_name": "HBoxModel",
      "_view_count": null,
      "_view_module": "@jupyter-widgets/controls",
      "_view_module_version": "1.5.0",
      "_view_name": "HBoxView",
      "box_style": "",
      "children": [
       "IPY_MODEL_015c5690e1ea4281954c7efda1c80a6a",
       "IPY_MODEL_f4135dd72864445391f43f387635bfdc"
      ],
      "layout": "IPY_MODEL_fe62265afdc74026b7e9c5a50ef61d2c"
     }
    },
    "7f5203fde6b64bf7ad53d6ecd3041bfc": {
     "model_module": "@jupyter-widgets/controls",
     "model_name": "DescriptionStyleModel",
     "state": {
      "_model_module": "@jupyter-widgets/controls",
      "_model_module_version": "1.5.0",
      "_model_name": "DescriptionStyleModel",
      "_view_count": null,
      "_view_module": "@jupyter-widgets/base",
      "_view_module_version": "1.2.0",
      "_view_name": "StyleView",
      "description_width": ""
     }
    },
    "7f787df324514a8c915785e272a8af18": {
     "model_module": "@jupyter-widgets/controls",
     "model_name": "FloatProgressModel",
     "state": {
      "_dom_classes": [],
      "_model_module": "@jupyter-widgets/controls",
      "_model_module_version": "1.5.0",
      "_model_name": "FloatProgressModel",
      "_view_count": null,
      "_view_module": "@jupyter-widgets/controls",
      "_view_module_version": "1.5.0",
      "_view_name": "ProgressView",
      "bar_style": "info",
      "description": "",
      "description_tooltip": null,
      "layout": "IPY_MODEL_7916b06da182435a9cc1d13c73310500",
      "max": 1,
      "min": 0,
      "orientation": "horizontal",
      "style": "IPY_MODEL_71ffdf6f26ba4381a8e671958e679f88",
      "value": 1
     }
    },
    "80697300a4394b909f1c499ba80aeb13": {
     "model_module": "@jupyter-widgets/base",
     "model_name": "LayoutModel",
     "state": {
      "_model_module": "@jupyter-widgets/base",
      "_model_module_version": "1.2.0",
      "_model_name": "LayoutModel",
      "_view_count": null,
      "_view_module": "@jupyter-widgets/base",
      "_view_module_version": "1.2.0",
      "_view_name": "LayoutView",
      "align_content": null,
      "align_items": null,
      "align_self": null,
      "border": null,
      "bottom": null,
      "display": null,
      "flex": null,
      "flex_flow": null,
      "grid_area": null,
      "grid_auto_columns": null,
      "grid_auto_flow": null,
      "grid_auto_rows": null,
      "grid_column": null,
      "grid_gap": null,
      "grid_row": null,
      "grid_template_areas": null,
      "grid_template_columns": null,
      "grid_template_rows": null,
      "height": null,
      "justify_content": null,
      "justify_items": null,
      "left": null,
      "margin": null,
      "max_height": null,
      "max_width": null,
      "min_height": null,
      "min_width": null,
      "object_fit": null,
      "object_position": null,
      "order": null,
      "overflow": null,
      "overflow_x": null,
      "overflow_y": null,
      "padding": null,
      "right": null,
      "top": null,
      "visibility": null,
      "width": null
     }
    },
    "813fc95246034f5cb9e5198897b4ed42": {
     "model_module": "@jupyter-widgets/controls",
     "model_name": "DescriptionStyleModel",
     "state": {
      "_model_module": "@jupyter-widgets/controls",
      "_model_module_version": "1.5.0",
      "_model_name": "DescriptionStyleModel",
      "_view_count": null,
      "_view_module": "@jupyter-widgets/base",
      "_view_module_version": "1.2.0",
      "_view_name": "StyleView",
      "description_width": ""
     }
    },
    "82015055d32449b89346ea18e7474c4d": {
     "model_module": "@jupyter-widgets/controls",
     "model_name": "HBoxModel",
     "state": {
      "_dom_classes": [],
      "_model_module": "@jupyter-widgets/controls",
      "_model_module_version": "1.5.0",
      "_model_name": "HBoxModel",
      "_view_count": null,
      "_view_module": "@jupyter-widgets/controls",
      "_view_module_version": "1.5.0",
      "_view_name": "HBoxView",
      "box_style": "",
      "children": [
       "IPY_MODEL_f5f1f0865d7e4d8b810ccb9c3c4d2683",
       "IPY_MODEL_416badb151ee4660b53fdbc136e0c8fb"
      ],
      "layout": "IPY_MODEL_a170c0cb21cf425fbee97fd6d5584e2c"
     }
    },
    "824569c63ec445c08362659ca228dd2a": {
     "model_module": "@jupyter-widgets/controls",
     "model_name": "DescriptionStyleModel",
     "state": {
      "_model_module": "@jupyter-widgets/controls",
      "_model_module_version": "1.5.0",
      "_model_name": "DescriptionStyleModel",
      "_view_count": null,
      "_view_module": "@jupyter-widgets/base",
      "_view_module_version": "1.2.0",
      "_view_name": "StyleView",
      "description_width": ""
     }
    },
    "8292dafcd40745958d0f3c563bf6b9b0": {
     "model_module": "@jupyter-widgets/controls",
     "model_name": "ProgressStyleModel",
     "state": {
      "_model_module": "@jupyter-widgets/controls",
      "_model_module_version": "1.5.0",
      "_model_name": "ProgressStyleModel",
      "_view_count": null,
      "_view_module": "@jupyter-widgets/base",
      "_view_module_version": "1.2.0",
      "_view_name": "StyleView",
      "bar_color": null,
      "description_width": "initial"
     }
    },
    "83b51e16d88046c48dcd745cf09d2e56": {
     "model_module": "@jupyter-widgets/base",
     "model_name": "LayoutModel",
     "state": {
      "_model_module": "@jupyter-widgets/base",
      "_model_module_version": "1.2.0",
      "_model_name": "LayoutModel",
      "_view_count": null,
      "_view_module": "@jupyter-widgets/base",
      "_view_module_version": "1.2.0",
      "_view_name": "LayoutView",
      "align_content": null,
      "align_items": null,
      "align_self": null,
      "border": null,
      "bottom": null,
      "display": null,
      "flex": null,
      "flex_flow": null,
      "grid_area": null,
      "grid_auto_columns": null,
      "grid_auto_flow": null,
      "grid_auto_rows": null,
      "grid_column": null,
      "grid_gap": null,
      "grid_row": null,
      "grid_template_areas": null,
      "grid_template_columns": null,
      "grid_template_rows": null,
      "height": null,
      "justify_content": null,
      "justify_items": null,
      "left": null,
      "margin": null,
      "max_height": null,
      "max_width": null,
      "min_height": null,
      "min_width": null,
      "object_fit": null,
      "object_position": null,
      "order": null,
      "overflow": null,
      "overflow_x": null,
      "overflow_y": null,
      "padding": null,
      "right": null,
      "top": null,
      "visibility": null,
      "width": null
     }
    },
    "84e7f0001ebe458dad3c96e7e9a38cdc": {
     "model_module": "@jupyter-widgets/base",
     "model_name": "LayoutModel",
     "state": {
      "_model_module": "@jupyter-widgets/base",
      "_model_module_version": "1.2.0",
      "_model_name": "LayoutModel",
      "_view_count": null,
      "_view_module": "@jupyter-widgets/base",
      "_view_module_version": "1.2.0",
      "_view_name": "LayoutView",
      "align_content": null,
      "align_items": null,
      "align_self": null,
      "border": null,
      "bottom": null,
      "display": null,
      "flex": null,
      "flex_flow": null,
      "grid_area": null,
      "grid_auto_columns": null,
      "grid_auto_flow": null,
      "grid_auto_rows": null,
      "grid_column": null,
      "grid_gap": null,
      "grid_row": null,
      "grid_template_areas": null,
      "grid_template_columns": null,
      "grid_template_rows": null,
      "height": null,
      "justify_content": null,
      "justify_items": null,
      "left": null,
      "margin": null,
      "max_height": null,
      "max_width": null,
      "min_height": null,
      "min_width": null,
      "object_fit": null,
      "object_position": null,
      "order": null,
      "overflow": null,
      "overflow_x": null,
      "overflow_y": null,
      "padding": null,
      "right": null,
      "top": null,
      "visibility": null,
      "width": null
     }
    },
    "8701fb161cec47e89fc4d57b599ee7fe": {
     "model_module": "@jupyter-widgets/controls",
     "model_name": "HBoxModel",
     "state": {
      "_dom_classes": [],
      "_model_module": "@jupyter-widgets/controls",
      "_model_module_version": "1.5.0",
      "_model_name": "HBoxModel",
      "_view_count": null,
      "_view_module": "@jupyter-widgets/controls",
      "_view_module_version": "1.5.0",
      "_view_name": "HBoxView",
      "box_style": "",
      "children": [
       "IPY_MODEL_7f787df324514a8c915785e272a8af18",
       "IPY_MODEL_889da3e5ed2945849d3c8a6a75175747"
      ],
      "layout": "IPY_MODEL_1813458f75514f039ba0214597a09bb4"
     }
    },
    "889da3e5ed2945849d3c8a6a75175747": {
     "model_module": "@jupyter-widgets/controls",
     "model_name": "HTMLModel",
     "state": {
      "_dom_classes": [],
      "_model_module": "@jupyter-widgets/controls",
      "_model_module_version": "1.5.0",
      "_model_name": "HTMLModel",
      "_view_count": null,
      "_view_module": "@jupyter-widgets/controls",
      "_view_module_version": "1.5.0",
      "_view_name": "HTMLView",
      "description": "",
      "description_tooltip": null,
      "layout": "IPY_MODEL_2cd13e03a2ab45dc8570c8c739a613b4",
      "placeholder": "​",
      "style": "IPY_MODEL_59e0f5200068461cbfb256ad5479c4c8",
      "value": " 1647/0 [00:00&lt;00:00, 14767.90 examples/s]"
     }
    },
    "8ad3e4b211e34c048d0f48e36fdbfe48": {
     "model_module": "@jupyter-widgets/controls",
     "model_name": "DescriptionStyleModel",
     "state": {
      "_model_module": "@jupyter-widgets/controls",
      "_model_module_version": "1.5.0",
      "_model_name": "DescriptionStyleModel",
      "_view_count": null,
      "_view_module": "@jupyter-widgets/base",
      "_view_module_version": "1.2.0",
      "_view_name": "StyleView",
      "description_width": ""
     }
    },
    "8bb78a89ff81400791e3005098fdcb94": {
     "model_module": "@jupyter-widgets/base",
     "model_name": "LayoutModel",
     "state": {
      "_model_module": "@jupyter-widgets/base",
      "_model_module_version": "1.2.0",
      "_model_name": "LayoutModel",
      "_view_count": null,
      "_view_module": "@jupyter-widgets/base",
      "_view_module_version": "1.2.0",
      "_view_name": "LayoutView",
      "align_content": null,
      "align_items": null,
      "align_self": null,
      "border": null,
      "bottom": null,
      "display": null,
      "flex": null,
      "flex_flow": null,
      "grid_area": null,
      "grid_auto_columns": null,
      "grid_auto_flow": null,
      "grid_auto_rows": null,
      "grid_column": null,
      "grid_gap": null,
      "grid_row": null,
      "grid_template_areas": null,
      "grid_template_columns": null,
      "grid_template_rows": null,
      "height": null,
      "justify_content": null,
      "justify_items": null,
      "left": null,
      "margin": null,
      "max_height": null,
      "max_width": null,
      "min_height": null,
      "min_width": null,
      "object_fit": null,
      "object_position": null,
      "order": null,
      "overflow": null,
      "overflow_x": null,
      "overflow_y": null,
      "padding": null,
      "right": null,
      "top": null,
      "visibility": null,
      "width": null
     }
    },
    "8c07a528fc4a4e108b393ab117fe2e46": {
     "model_module": "@jupyter-widgets/controls",
     "model_name": "HTMLModel",
     "state": {
      "_dom_classes": [],
      "_model_module": "@jupyter-widgets/controls",
      "_model_module_version": "1.5.0",
      "_model_name": "HTMLModel",
      "_view_count": null,
      "_view_module": "@jupyter-widgets/controls",
      "_view_module_version": "1.5.0",
      "_view_name": "HTMLView",
      "description": "",
      "description_tooltip": null,
      "layout": "IPY_MODEL_8bb78a89ff81400791e3005098fdcb94",
      "placeholder": "​",
      "style": "IPY_MODEL_813fc95246034f5cb9e5198897b4ed42",
      "value": " 1/1 [00:00&lt;00:00, 13.94ba/s]"
     }
    },
    "8d409ca0372a48e2972ca1d8eee5ffa1": {
     "model_module": "@jupyter-widgets/controls",
     "model_name": "HTMLModel",
     "state": {
      "_dom_classes": [],
      "_model_module": "@jupyter-widgets/controls",
      "_model_module_version": "1.5.0",
      "_model_name": "HTMLModel",
      "_view_count": null,
      "_view_module": "@jupyter-widgets/controls",
      "_view_module_version": "1.5.0",
      "_view_name": "HTMLView",
      "description": "",
      "description_tooltip": null,
      "layout": "IPY_MODEL_b0479f03f96241ca959f6fe7bcbd1aba",
      "placeholder": "​",
      "style": "IPY_MODEL_d362345c05234c97a675c6bacdad0e92",
      "value": " 1647/1647 [01:20&lt;00:00, 20.38ex/s]"
     }
    },
    "8dd5b08bb5bd4e608d04122424796ae7": {
     "model_module": "@jupyter-widgets/controls",
     "model_name": "HTMLModel",
     "state": {
      "_dom_classes": [],
      "_model_module": "@jupyter-widgets/controls",
      "_model_module_version": "1.5.0",
      "_model_name": "HTMLModel",
      "_view_count": null,
      "_view_module": "@jupyter-widgets/controls",
      "_view_module_version": "1.5.0",
      "_view_name": "HTMLView",
      "description": "",
      "description_tooltip": null,
      "layout": "IPY_MODEL_9eb51a6ecf3f41578aa397a5c2a33673",
      "placeholder": "​",
      "style": "IPY_MODEL_2f18d89c684343b69c3f44ffbb9b42a0",
      "value": " 1726/0 [00:00&lt;00:00, 13986.88 examples/s]"
     }
    },
    "8dddd0245dcb4532917cbfa0181d2a00": {
     "model_module": "@jupyter-widgets/controls",
     "model_name": "FloatProgressModel",
     "state": {
      "_dom_classes": [],
      "_model_module": "@jupyter-widgets/controls",
      "_model_module_version": "1.5.0",
      "_model_name": "FloatProgressModel",
      "_view_count": null,
      "_view_module": "@jupyter-widgets/controls",
      "_view_module_version": "1.5.0",
      "_view_name": "ProgressView",
      "bar_style": "success",
      "description": "#2: 100%",
      "description_tooltip": null,
      "layout": "IPY_MODEL_b1d93a7521fa47b8a815445b5232da59",
      "max": 412,
      "min": 0,
      "orientation": "horizontal",
      "style": "IPY_MODEL_024989cea06f435894776b0a921164b2",
      "value": 412
     }
    },
    "8df9d19602cb4951b397c385458a11ef": {
     "model_module": "@jupyter-widgets/controls",
     "model_name": "DescriptionStyleModel",
     "state": {
      "_model_module": "@jupyter-widgets/controls",
      "_model_module_version": "1.5.0",
      "_model_name": "DescriptionStyleModel",
      "_view_count": null,
      "_view_module": "@jupyter-widgets/base",
      "_view_module_version": "1.2.0",
      "_view_name": "StyleView",
      "description_width": ""
     }
    },
    "8e1a85a4a6214a16b7431da23a301ada": {
     "model_module": "@jupyter-widgets/controls",
     "model_name": "FloatProgressModel",
     "state": {
      "_dom_classes": [],
      "_model_module": "@jupyter-widgets/controls",
      "_model_module_version": "1.5.0",
      "_model_name": "FloatProgressModel",
      "_view_count": null,
      "_view_module": "@jupyter-widgets/controls",
      "_view_module_version": "1.5.0",
      "_view_name": "ProgressView",
      "bar_style": "success",
      "description": "Downloading: ",
      "description_tooltip": null,
      "layout": "IPY_MODEL_d453bd4a35e54bfba20dac1fe86c60c1",
      "max": 1764,
      "min": 0,
      "orientation": "horizontal",
      "style": "IPY_MODEL_a3c04c75ec9743feb795f69e7c4dff4f",
      "value": 1764
     }
    },
    "8e63ba7f1fd24555bf11bc9dbe9c770b": {
     "model_module": "@jupyter-widgets/controls",
     "model_name": "HTMLModel",
     "state": {
      "_dom_classes": [],
      "_model_module": "@jupyter-widgets/controls",
      "_model_module_version": "1.5.0",
      "_model_name": "HTMLModel",
      "_view_count": null,
      "_view_module": "@jupyter-widgets/controls",
      "_view_module_version": "1.5.0",
      "_view_name": "HTMLView",
      "description": "",
      "description_tooltip": null,
      "layout": "IPY_MODEL_26e7bab0f3bf4797bfcef83dcace24f0",
      "placeholder": "​",
      "style": "IPY_MODEL_405b5de4ae854cf9896f63d15f2207dd",
      "value": " 52/52 [00:30&lt;00:00,  1.68ba/s]"
     }
    },
    "8f737725708c4097a8caaf4da6229636": {
     "model_module": "@jupyter-widgets/base",
     "model_name": "LayoutModel",
     "state": {
      "_model_module": "@jupyter-widgets/base",
      "_model_module_version": "1.2.0",
      "_model_name": "LayoutModel",
      "_view_count": null,
      "_view_module": "@jupyter-widgets/base",
      "_view_module_version": "1.2.0",
      "_view_name": "LayoutView",
      "align_content": null,
      "align_items": null,
      "align_self": null,
      "border": null,
      "bottom": null,
      "display": null,
      "flex": null,
      "flex_flow": null,
      "grid_area": null,
      "grid_auto_columns": null,
      "grid_auto_flow": null,
      "grid_auto_rows": null,
      "grid_column": null,
      "grid_gap": null,
      "grid_row": null,
      "grid_template_areas": null,
      "grid_template_columns": null,
      "grid_template_rows": null,
      "height": null,
      "justify_content": null,
      "justify_items": null,
      "left": null,
      "margin": null,
      "max_height": null,
      "max_width": null,
      "min_height": null,
      "min_width": null,
      "object_fit": null,
      "object_position": null,
      "order": null,
      "overflow": null,
      "overflow_x": null,
      "overflow_y": null,
      "padding": null,
      "right": null,
      "top": null,
      "visibility": null,
      "width": null
     }
    },
    "90b8bc59e26a46009e1d3763f86f227a": {
     "model_module": "@jupyter-widgets/controls",
     "model_name": "HBoxModel",
     "state": {
      "_dom_classes": [],
      "_model_module": "@jupyter-widgets/controls",
      "_model_module_version": "1.5.0",
      "_model_name": "HBoxModel",
      "_view_count": null,
      "_view_module": "@jupyter-widgets/controls",
      "_view_module_version": "1.5.0",
      "_view_name": "HBoxView",
      "box_style": "",
      "children": [
       "IPY_MODEL_98e7ab5f7ebf426fbb71a37bbad4c28f",
       "IPY_MODEL_e3b719c0ffcc4fd1b410ffb7f969b7a5"
      ],
      "layout": "IPY_MODEL_3e2cd59ac697495f8db14b894b783f95"
     }
    },
    "9185f86719af476da41e3835e8f06f8d": {
     "model_module": "@jupyter-widgets/base",
     "model_name": "LayoutModel",
     "state": {
      "_model_module": "@jupyter-widgets/base",
      "_model_module_version": "1.2.0",
      "_model_name": "LayoutModel",
      "_view_count": null,
      "_view_module": "@jupyter-widgets/base",
      "_view_module_version": "1.2.0",
      "_view_name": "LayoutView",
      "align_content": null,
      "align_items": null,
      "align_self": null,
      "border": null,
      "bottom": null,
      "display": null,
      "flex": null,
      "flex_flow": null,
      "grid_area": null,
      "grid_auto_columns": null,
      "grid_auto_flow": null,
      "grid_auto_rows": null,
      "grid_column": null,
      "grid_gap": null,
      "grid_row": null,
      "grid_template_areas": null,
      "grid_template_columns": null,
      "grid_template_rows": null,
      "height": null,
      "justify_content": null,
      "justify_items": null,
      "left": null,
      "margin": null,
      "max_height": null,
      "max_width": null,
      "min_height": null,
      "min_width": null,
      "object_fit": null,
      "object_position": null,
      "order": null,
      "overflow": null,
      "overflow_x": null,
      "overflow_y": null,
      "padding": null,
      "right": null,
      "top": null,
      "visibility": null,
      "width": null
     }
    },
    "91fcf0641fe3489ab96f3aaa40adf245": {
     "model_module": "@jupyter-widgets/base",
     "model_name": "LayoutModel",
     "state": {
      "_model_module": "@jupyter-widgets/base",
      "_model_module_version": "1.2.0",
      "_model_name": "LayoutModel",
      "_view_count": null,
      "_view_module": "@jupyter-widgets/base",
      "_view_module_version": "1.2.0",
      "_view_name": "LayoutView",
      "align_content": null,
      "align_items": null,
      "align_self": null,
      "border": null,
      "bottom": null,
      "display": null,
      "flex": null,
      "flex_flow": null,
      "grid_area": null,
      "grid_auto_columns": null,
      "grid_auto_flow": null,
      "grid_auto_rows": null,
      "grid_column": null,
      "grid_gap": null,
      "grid_row": null,
      "grid_template_areas": null,
      "grid_template_columns": null,
      "grid_template_rows": null,
      "height": null,
      "justify_content": null,
      "justify_items": null,
      "left": null,
      "margin": null,
      "max_height": null,
      "max_width": null,
      "min_height": null,
      "min_width": null,
      "object_fit": null,
      "object_position": null,
      "order": null,
      "overflow": null,
      "overflow_x": null,
      "overflow_y": null,
      "padding": null,
      "right": null,
      "top": null,
      "visibility": null,
      "width": null
     }
    },
    "923ed9e127524187ab8cfcac31164ba7": {
     "model_module": "@jupyter-widgets/base",
     "model_name": "LayoutModel",
     "state": {
      "_model_module": "@jupyter-widgets/base",
      "_model_module_version": "1.2.0",
      "_model_name": "LayoutModel",
      "_view_count": null,
      "_view_module": "@jupyter-widgets/base",
      "_view_module_version": "1.2.0",
      "_view_name": "LayoutView",
      "align_content": null,
      "align_items": null,
      "align_self": null,
      "border": null,
      "bottom": null,
      "display": null,
      "flex": null,
      "flex_flow": null,
      "grid_area": null,
      "grid_auto_columns": null,
      "grid_auto_flow": null,
      "grid_auto_rows": null,
      "grid_column": null,
      "grid_gap": null,
      "grid_row": null,
      "grid_template_areas": null,
      "grid_template_columns": null,
      "grid_template_rows": null,
      "height": null,
      "justify_content": null,
      "justify_items": null,
      "left": null,
      "margin": null,
      "max_height": null,
      "max_width": null,
      "min_height": null,
      "min_width": null,
      "object_fit": null,
      "object_position": null,
      "order": null,
      "overflow": null,
      "overflow_x": null,
      "overflow_y": null,
      "padding": null,
      "right": null,
      "top": null,
      "visibility": null,
      "width": null
     }
    },
    "929cde17b3484f3e9e8f8774bc43e374": {
     "model_module": "@jupyter-widgets/controls",
     "model_name": "ProgressStyleModel",
     "state": {
      "_model_module": "@jupyter-widgets/controls",
      "_model_module_version": "1.5.0",
      "_model_name": "ProgressStyleModel",
      "_view_count": null,
      "_view_module": "@jupyter-widgets/base",
      "_view_module_version": "1.2.0",
      "_view_name": "StyleView",
      "bar_color": null,
      "description_width": "initial"
     }
    },
    "92a35db69bbf4ad6af44c53aa3870be5": {
     "model_module": "@jupyter-widgets/controls",
     "model_name": "HBoxModel",
     "state": {
      "_dom_classes": [],
      "_model_module": "@jupyter-widgets/controls",
      "_model_module_version": "1.5.0",
      "_model_name": "HBoxModel",
      "_view_count": null,
      "_view_module": "@jupyter-widgets/controls",
      "_view_module_version": "1.5.0",
      "_view_name": "HBoxView",
      "box_style": "",
      "children": [
       "IPY_MODEL_b94e374d92c146009447c3827b977267",
       "IPY_MODEL_1f1faa7b986e475c9e6839b2e7b55c74"
      ],
      "layout": "IPY_MODEL_389e43e47a734193a507817ebad955f7"
     }
    },
    "93f191a48b3141e1889fd94870b6ac0e": {
     "model_module": "@jupyter-widgets/base",
     "model_name": "LayoutModel",
     "state": {
      "_model_module": "@jupyter-widgets/base",
      "_model_module_version": "1.2.0",
      "_model_name": "LayoutModel",
      "_view_count": null,
      "_view_module": "@jupyter-widgets/base",
      "_view_module_version": "1.2.0",
      "_view_name": "LayoutView",
      "align_content": null,
      "align_items": null,
      "align_self": null,
      "border": null,
      "bottom": null,
      "display": null,
      "flex": null,
      "flex_flow": null,
      "grid_area": null,
      "grid_auto_columns": null,
      "grid_auto_flow": null,
      "grid_auto_rows": null,
      "grid_column": null,
      "grid_gap": null,
      "grid_row": null,
      "grid_template_areas": null,
      "grid_template_columns": null,
      "grid_template_rows": null,
      "height": null,
      "justify_content": null,
      "justify_items": null,
      "left": null,
      "margin": null,
      "max_height": null,
      "max_width": null,
      "min_height": null,
      "min_width": null,
      "object_fit": null,
      "object_position": null,
      "order": null,
      "overflow": null,
      "overflow_x": null,
      "overflow_y": null,
      "padding": null,
      "right": null,
      "top": null,
      "visibility": null,
      "width": null
     }
    },
    "9532db4cdc5e4371a4a02055a4c67a08": {
     "model_module": "@jupyter-widgets/controls",
     "model_name": "DescriptionStyleModel",
     "state": {
      "_model_module": "@jupyter-widgets/controls",
      "_model_module_version": "1.5.0",
      "_model_name": "DescriptionStyleModel",
      "_view_count": null,
      "_view_module": "@jupyter-widgets/base",
      "_view_module_version": "1.2.0",
      "_view_name": "StyleView",
      "description_width": ""
     }
    },
    "969080b52ad44ee997829986d198c505": {
     "model_module": "@jupyter-widgets/controls",
     "model_name": "DescriptionStyleModel",
     "state": {
      "_model_module": "@jupyter-widgets/controls",
      "_model_module_version": "1.5.0",
      "_model_name": "DescriptionStyleModel",
      "_view_count": null,
      "_view_module": "@jupyter-widgets/base",
      "_view_module_version": "1.2.0",
      "_view_name": "StyleView",
      "description_width": ""
     }
    },
    "98c594f1e41e4b3fab10f0763bd93d75": {
     "model_module": "@jupyter-widgets/base",
     "model_name": "LayoutModel",
     "state": {
      "_model_module": "@jupyter-widgets/base",
      "_model_module_version": "1.2.0",
      "_model_name": "LayoutModel",
      "_view_count": null,
      "_view_module": "@jupyter-widgets/base",
      "_view_module_version": "1.2.0",
      "_view_name": "LayoutView",
      "align_content": null,
      "align_items": null,
      "align_self": null,
      "border": null,
      "bottom": null,
      "display": null,
      "flex": null,
      "flex_flow": null,
      "grid_area": null,
      "grid_auto_columns": null,
      "grid_auto_flow": null,
      "grid_auto_rows": null,
      "grid_column": null,
      "grid_gap": null,
      "grid_row": null,
      "grid_template_areas": null,
      "grid_template_columns": null,
      "grid_template_rows": null,
      "height": null,
      "justify_content": null,
      "justify_items": null,
      "left": null,
      "margin": null,
      "max_height": null,
      "max_width": null,
      "min_height": null,
      "min_width": null,
      "object_fit": null,
      "object_position": null,
      "order": null,
      "overflow": null,
      "overflow_x": null,
      "overflow_y": null,
      "padding": null,
      "right": null,
      "top": null,
      "visibility": null,
      "width": null
     }
    },
    "98e7ab5f7ebf426fbb71a37bbad4c28f": {
     "model_module": "@jupyter-widgets/controls",
     "model_name": "FloatProgressModel",
     "state": {
      "_dom_classes": [],
      "_model_module": "@jupyter-widgets/controls",
      "_model_module_version": "1.5.0",
      "_model_name": "FloatProgressModel",
      "_view_count": null,
      "_view_module": "@jupyter-widgets/controls",
      "_view_module_version": "1.5.0",
      "_view_name": "ProgressView",
      "bar_style": "info",
      "description": "",
      "description_tooltip": null,
      "layout": "IPY_MODEL_2f5406546970425282a881b5d2f7c248",
      "max": 1,
      "min": 0,
      "orientation": "horizontal",
      "style": "IPY_MODEL_4382726ef043441a9b1a4a647d84f242",
      "value": 1
     }
    },
    "998676d59f9c464e8463d65baad6448b": {
     "model_module": "@jupyter-widgets/controls",
     "model_name": "HTMLModel",
     "state": {
      "_dom_classes": [],
      "_model_module": "@jupyter-widgets/controls",
      "_model_module_version": "1.5.0",
      "_model_name": "HTMLModel",
      "_view_count": null,
      "_view_module": "@jupyter-widgets/controls",
      "_view_module_version": "1.5.0",
      "_view_name": "HTMLView",
      "description": "",
      "description_tooltip": null,
      "layout": "IPY_MODEL_7b4cfd2b448643b8a4409dd612aef0d1",
      "placeholder": "​",
      "style": "IPY_MODEL_7bf5b2b625764f63ad57a360c3fd0a61",
      "value": " 1647/1647 [00:45&lt;00:00, 36.39ex/s]"
     }
    },
    "99d5c44ea54b45ee9bd89380cb1ad189": {
     "model_module": "@jupyter-widgets/base",
     "model_name": "LayoutModel",
     "state": {
      "_model_module": "@jupyter-widgets/base",
      "_model_module_version": "1.2.0",
      "_model_name": "LayoutModel",
      "_view_count": null,
      "_view_module": "@jupyter-widgets/base",
      "_view_module_version": "1.2.0",
      "_view_name": "LayoutView",
      "align_content": null,
      "align_items": null,
      "align_self": null,
      "border": null,
      "bottom": null,
      "display": null,
      "flex": null,
      "flex_flow": null,
      "grid_area": null,
      "grid_auto_columns": null,
      "grid_auto_flow": null,
      "grid_auto_rows": null,
      "grid_column": null,
      "grid_gap": null,
      "grid_row": null,
      "grid_template_areas": null,
      "grid_template_columns": null,
      "grid_template_rows": null,
      "height": null,
      "justify_content": null,
      "justify_items": null,
      "left": null,
      "margin": null,
      "max_height": null,
      "max_width": null,
      "min_height": null,
      "min_width": null,
      "object_fit": null,
      "object_position": null,
      "order": null,
      "overflow": null,
      "overflow_x": null,
      "overflow_y": null,
      "padding": null,
      "right": null,
      "top": null,
      "visibility": null,
      "width": null
     }
    },
    "9eb51a6ecf3f41578aa397a5c2a33673": {
     "model_module": "@jupyter-widgets/base",
     "model_name": "LayoutModel",
     "state": {
      "_model_module": "@jupyter-widgets/base",
      "_model_module_version": "1.2.0",
      "_model_name": "LayoutModel",
      "_view_count": null,
      "_view_module": "@jupyter-widgets/base",
      "_view_module_version": "1.2.0",
      "_view_name": "LayoutView",
      "align_content": null,
      "align_items": null,
      "align_self": null,
      "border": null,
      "bottom": null,
      "display": null,
      "flex": null,
      "flex_flow": null,
      "grid_area": null,
      "grid_auto_columns": null,
      "grid_auto_flow": null,
      "grid_auto_rows": null,
      "grid_column": null,
      "grid_gap": null,
      "grid_row": null,
      "grid_template_areas": null,
      "grid_template_columns": null,
      "grid_template_rows": null,
      "height": null,
      "justify_content": null,
      "justify_items": null,
      "left": null,
      "margin": null,
      "max_height": null,
      "max_width": null,
      "min_height": null,
      "min_width": null,
      "object_fit": null,
      "object_position": null,
      "order": null,
      "overflow": null,
      "overflow_x": null,
      "overflow_y": null,
      "padding": null,
      "right": null,
      "top": null,
      "visibility": null,
      "width": null
     }
    },
    "9f79629ad6a94201acf3283862d1ae17": {
     "model_module": "@jupyter-widgets/controls",
     "model_name": "DescriptionStyleModel",
     "state": {
      "_model_module": "@jupyter-widgets/controls",
      "_model_module_version": "1.5.0",
      "_model_name": "DescriptionStyleModel",
      "_view_count": null,
      "_view_module": "@jupyter-widgets/base",
      "_view_module_version": "1.2.0",
      "_view_name": "StyleView",
      "description_width": ""
     }
    },
    "9fee9d9dd1164d97a9109e942444c332": {
     "model_module": "@jupyter-widgets/controls",
     "model_name": "HTMLModel",
     "state": {
      "_dom_classes": [],
      "_model_module": "@jupyter-widgets/controls",
      "_model_module_version": "1.5.0",
      "_model_name": "HTMLModel",
      "_view_count": null,
      "_view_module": "@jupyter-widgets/controls",
      "_view_module_version": "1.5.0",
      "_view_name": "HTMLView",
      "description": "",
      "description_tooltip": null,
      "layout": "IPY_MODEL_c126ea97019149848396e593cfab016f",
      "placeholder": "​",
      "style": "IPY_MODEL_f9efaa7678c2450f847ff2c2f21ff96e",
      "value": " 52/52 [00:31&lt;00:00,  1.66ba/s]"
     }
    },
    "a170c0cb21cf425fbee97fd6d5584e2c": {
     "model_module": "@jupyter-widgets/base",
     "model_name": "LayoutModel",
     "state": {
      "_model_module": "@jupyter-widgets/base",
      "_model_module_version": "1.2.0",
      "_model_name": "LayoutModel",
      "_view_count": null,
      "_view_module": "@jupyter-widgets/base",
      "_view_module_version": "1.2.0",
      "_view_name": "LayoutView",
      "align_content": null,
      "align_items": null,
      "align_self": null,
      "border": null,
      "bottom": null,
      "display": null,
      "flex": null,
      "flex_flow": null,
      "grid_area": null,
      "grid_auto_columns": null,
      "grid_auto_flow": null,
      "grid_auto_rows": null,
      "grid_column": null,
      "grid_gap": null,
      "grid_row": null,
      "grid_template_areas": null,
      "grid_template_columns": null,
      "grid_template_rows": null,
      "height": null,
      "justify_content": null,
      "justify_items": null,
      "left": null,
      "margin": null,
      "max_height": null,
      "max_width": null,
      "min_height": null,
      "min_width": null,
      "object_fit": null,
      "object_position": null,
      "order": null,
      "overflow": null,
      "overflow_x": null,
      "overflow_y": null,
      "padding": null,
      "right": null,
      "top": null,
      "visibility": null,
      "width": null
     }
    },
    "a34dae18d9994b848630d4e3d836e0cb": {
     "model_module": "@jupyter-widgets/base",
     "model_name": "LayoutModel",
     "state": {
      "_model_module": "@jupyter-widgets/base",
      "_model_module_version": "1.2.0",
      "_model_name": "LayoutModel",
      "_view_count": null,
      "_view_module": "@jupyter-widgets/base",
      "_view_module_version": "1.2.0",
      "_view_name": "LayoutView",
      "align_content": null,
      "align_items": null,
      "align_self": null,
      "border": null,
      "bottom": null,
      "display": null,
      "flex": null,
      "flex_flow": null,
      "grid_area": null,
      "grid_auto_columns": null,
      "grid_auto_flow": null,
      "grid_auto_rows": null,
      "grid_column": null,
      "grid_gap": null,
      "grid_row": null,
      "grid_template_areas": null,
      "grid_template_columns": null,
      "grid_template_rows": null,
      "height": null,
      "justify_content": null,
      "justify_items": null,
      "left": null,
      "margin": null,
      "max_height": null,
      "max_width": null,
      "min_height": null,
      "min_width": null,
      "object_fit": null,
      "object_position": null,
      "order": null,
      "overflow": null,
      "overflow_x": null,
      "overflow_y": null,
      "padding": null,
      "right": null,
      "top": null,
      "visibility": null,
      "width": null
     }
    },
    "a3c04c75ec9743feb795f69e7c4dff4f": {
     "model_module": "@jupyter-widgets/controls",
     "model_name": "ProgressStyleModel",
     "state": {
      "_model_module": "@jupyter-widgets/controls",
      "_model_module_version": "1.5.0",
      "_model_name": "ProgressStyleModel",
      "_view_count": null,
      "_view_module": "@jupyter-widgets/base",
      "_view_module_version": "1.2.0",
      "_view_name": "StyleView",
      "bar_color": null,
      "description_width": "initial"
     }
    },
    "a47f1ea64f894f0b8e6b277c31ae9f7d": {
     "model_module": "@jupyter-widgets/controls",
     "model_name": "ProgressStyleModel",
     "state": {
      "_model_module": "@jupyter-widgets/controls",
      "_model_module_version": "1.5.0",
      "_model_name": "ProgressStyleModel",
      "_view_count": null,
      "_view_module": "@jupyter-widgets/base",
      "_view_module_version": "1.2.0",
      "_view_name": "StyleView",
      "bar_color": null,
      "description_width": "initial"
     }
    },
    "a58c203a7cc54086aea45f2029821207": {
     "model_module": "@jupyter-widgets/controls",
     "model_name": "FloatProgressModel",
     "state": {
      "_dom_classes": [],
      "_model_module": "@jupyter-widgets/controls",
      "_model_module_version": "1.5.0",
      "_model_name": "FloatProgressModel",
      "_view_count": null,
      "_view_module": "@jupyter-widgets/controls",
      "_view_module_version": "1.5.0",
      "_view_name": "ProgressView",
      "bar_style": "success",
      "description": "100%",
      "description_tooltip": null,
      "layout": "IPY_MODEL_b1b6a4649fc34c9996f993c57671766b",
      "max": 1647,
      "min": 0,
      "orientation": "horizontal",
      "style": "IPY_MODEL_c8fdf261ac294093a355778a3a4aba3b",
      "value": 1647
     }
    },
    "a868dea9d9b047a4b853b390e138e4c1": {
     "model_module": "@jupyter-widgets/base",
     "model_name": "LayoutModel",
     "state": {
      "_model_module": "@jupyter-widgets/base",
      "_model_module_version": "1.2.0",
      "_model_name": "LayoutModel",
      "_view_count": null,
      "_view_module": "@jupyter-widgets/base",
      "_view_module_version": "1.2.0",
      "_view_name": "LayoutView",
      "align_content": null,
      "align_items": null,
      "align_self": null,
      "border": null,
      "bottom": null,
      "display": null,
      "flex": null,
      "flex_flow": null,
      "grid_area": null,
      "grid_auto_columns": null,
      "grid_auto_flow": null,
      "grid_auto_rows": null,
      "grid_column": null,
      "grid_gap": null,
      "grid_row": null,
      "grid_template_areas": null,
      "grid_template_columns": null,
      "grid_template_rows": null,
      "height": null,
      "justify_content": null,
      "justify_items": null,
      "left": null,
      "margin": null,
      "max_height": null,
      "max_width": null,
      "min_height": null,
      "min_width": null,
      "object_fit": null,
      "object_position": null,
      "order": null,
      "overflow": null,
      "overflow_x": null,
      "overflow_y": null,
      "padding": null,
      "right": null,
      "top": null,
      "visibility": null,
      "width": null
     }
    },
    "aafd4b2c56db43378c4627797665db17": {
     "model_module": "@jupyter-widgets/controls",
     "model_name": "HTMLModel",
     "state": {
      "_dom_classes": [],
      "_model_module": "@jupyter-widgets/controls",
      "_model_module_version": "1.5.0",
      "_model_name": "HTMLModel",
      "_view_count": null,
      "_view_module": "@jupyter-widgets/controls",
      "_view_module_version": "1.5.0",
      "_view_name": "HTMLView",
      "description": "",
      "description_tooltip": null,
      "layout": "IPY_MODEL_ad428686450f4ebdb50a0356b2e5a8c4",
      "placeholder": "​",
      "style": "IPY_MODEL_ccb720bf256e42f7b0251494ccb7741f",
      "value": " 1/1 [00:45&lt;00:00, 45.03s/ba]"
     }
    },
    "ab72c80dfd5e4ab19a183f4204486b59": {
     "model_module": "@jupyter-widgets/controls",
     "model_name": "DescriptionStyleModel",
     "state": {
      "_model_module": "@jupyter-widgets/controls",
      "_model_module_version": "1.5.0",
      "_model_name": "DescriptionStyleModel",
      "_view_count": null,
      "_view_module": "@jupyter-widgets/base",
      "_view_module_version": "1.2.0",
      "_view_name": "StyleView",
      "description_width": ""
     }
    },
    "ac35dca0845149a284b9867d9e607232": {
     "model_module": "@jupyter-widgets/controls",
     "model_name": "HBoxModel",
     "state": {
      "_dom_classes": [],
      "_model_module": "@jupyter-widgets/controls",
      "_model_module_version": "1.5.0",
      "_model_name": "HBoxModel",
      "_view_count": null,
      "_view_module": "@jupyter-widgets/controls",
      "_view_module_version": "1.5.0",
      "_view_name": "HBoxView",
      "box_style": "",
      "children": [
       "IPY_MODEL_5071a31d06f544a5b7340a4e863d8fdf",
       "IPY_MODEL_542027ba12f444d586e8072452badea0"
      ],
      "layout": "IPY_MODEL_b54bff6261964119bcb562c1a9f74ce6"
     }
    },
    "ad428686450f4ebdb50a0356b2e5a8c4": {
     "model_module": "@jupyter-widgets/base",
     "model_name": "LayoutModel",
     "state": {
      "_model_module": "@jupyter-widgets/base",
      "_model_module_version": "1.2.0",
      "_model_name": "LayoutModel",
      "_view_count": null,
      "_view_module": "@jupyter-widgets/base",
      "_view_module_version": "1.2.0",
      "_view_name": "LayoutView",
      "align_content": null,
      "align_items": null,
      "align_self": null,
      "border": null,
      "bottom": null,
      "display": null,
      "flex": null,
      "flex_flow": null,
      "grid_area": null,
      "grid_auto_columns": null,
      "grid_auto_flow": null,
      "grid_auto_rows": null,
      "grid_column": null,
      "grid_gap": null,
      "grid_row": null,
      "grid_template_areas": null,
      "grid_template_columns": null,
      "grid_template_rows": null,
      "height": null,
      "justify_content": null,
      "justify_items": null,
      "left": null,
      "margin": null,
      "max_height": null,
      "max_width": null,
      "min_height": null,
      "min_width": null,
      "object_fit": null,
      "object_position": null,
      "order": null,
      "overflow": null,
      "overflow_x": null,
      "overflow_y": null,
      "padding": null,
      "right": null,
      "top": null,
      "visibility": null,
      "width": null
     }
    },
    "af85713f677243d19cba9fe69a4a5f46": {
     "model_module": "@jupyter-widgets/base",
     "model_name": "LayoutModel",
     "state": {
      "_model_module": "@jupyter-widgets/base",
      "_model_module_version": "1.2.0",
      "_model_name": "LayoutModel",
      "_view_count": null,
      "_view_module": "@jupyter-widgets/base",
      "_view_module_version": "1.2.0",
      "_view_name": "LayoutView",
      "align_content": null,
      "align_items": null,
      "align_self": null,
      "border": null,
      "bottom": null,
      "display": null,
      "flex": null,
      "flex_flow": null,
      "grid_area": null,
      "grid_auto_columns": null,
      "grid_auto_flow": null,
      "grid_auto_rows": null,
      "grid_column": null,
      "grid_gap": null,
      "grid_row": null,
      "grid_template_areas": null,
      "grid_template_columns": null,
      "grid_template_rows": null,
      "height": null,
      "justify_content": null,
      "justify_items": null,
      "left": null,
      "margin": null,
      "max_height": null,
      "max_width": null,
      "min_height": null,
      "min_width": null,
      "object_fit": null,
      "object_position": null,
      "order": null,
      "overflow": null,
      "overflow_x": null,
      "overflow_y": null,
      "padding": null,
      "right": null,
      "top": null,
      "visibility": null,
      "width": null
     }
    },
    "b0479f03f96241ca959f6fe7bcbd1aba": {
     "model_module": "@jupyter-widgets/base",
     "model_name": "LayoutModel",
     "state": {
      "_model_module": "@jupyter-widgets/base",
      "_model_module_version": "1.2.0",
      "_model_name": "LayoutModel",
      "_view_count": null,
      "_view_module": "@jupyter-widgets/base",
      "_view_module_version": "1.2.0",
      "_view_name": "LayoutView",
      "align_content": null,
      "align_items": null,
      "align_self": null,
      "border": null,
      "bottom": null,
      "display": null,
      "flex": null,
      "flex_flow": null,
      "grid_area": null,
      "grid_auto_columns": null,
      "grid_auto_flow": null,
      "grid_auto_rows": null,
      "grid_column": null,
      "grid_gap": null,
      "grid_row": null,
      "grid_template_areas": null,
      "grid_template_columns": null,
      "grid_template_rows": null,
      "height": null,
      "justify_content": null,
      "justify_items": null,
      "left": null,
      "margin": null,
      "max_height": null,
      "max_width": null,
      "min_height": null,
      "min_width": null,
      "object_fit": null,
      "object_position": null,
      "order": null,
      "overflow": null,
      "overflow_x": null,
      "overflow_y": null,
      "padding": null,
      "right": null,
      "top": null,
      "visibility": null,
      "width": null
     }
    },
    "b054b00a32e64fc5988fbd2966ebbce6": {
     "model_module": "@jupyter-widgets/base",
     "model_name": "LayoutModel",
     "state": {
      "_model_module": "@jupyter-widgets/base",
      "_model_module_version": "1.2.0",
      "_model_name": "LayoutModel",
      "_view_count": null,
      "_view_module": "@jupyter-widgets/base",
      "_view_module_version": "1.2.0",
      "_view_name": "LayoutView",
      "align_content": null,
      "align_items": null,
      "align_self": null,
      "border": null,
      "bottom": null,
      "display": null,
      "flex": null,
      "flex_flow": null,
      "grid_area": null,
      "grid_auto_columns": null,
      "grid_auto_flow": null,
      "grid_auto_rows": null,
      "grid_column": null,
      "grid_gap": null,
      "grid_row": null,
      "grid_template_areas": null,
      "grid_template_columns": null,
      "grid_template_rows": null,
      "height": null,
      "justify_content": null,
      "justify_items": null,
      "left": null,
      "margin": null,
      "max_height": null,
      "max_width": null,
      "min_height": null,
      "min_width": null,
      "object_fit": null,
      "object_position": null,
      "order": null,
      "overflow": null,
      "overflow_x": null,
      "overflow_y": null,
      "padding": null,
      "right": null,
      "top": null,
      "visibility": null,
      "width": null
     }
    },
    "b0e3a36279d243ab9943149705c72c3e": {
     "model_module": "@jupyter-widgets/controls",
     "model_name": "FloatProgressModel",
     "state": {
      "_dom_classes": [],
      "_model_module": "@jupyter-widgets/controls",
      "_model_module_version": "1.5.0",
      "_model_name": "FloatProgressModel",
      "_view_count": null,
      "_view_module": "@jupyter-widgets/controls",
      "_view_module_version": "1.5.0",
      "_view_name": "ProgressView",
      "bar_style": "success",
      "description": "Downloading: ",
      "description_tooltip": null,
      "layout": "IPY_MODEL_a34dae18d9994b848630d4e3d836e0cb",
      "max": 5925,
      "min": 0,
      "orientation": "horizontal",
      "style": "IPY_MODEL_530f66ac087e4f8f979fcaa33941c60d",
      "value": 5925
     }
    },
    "b0f3a205ad4546188fc6e7e7cf96ab32": {
     "model_module": "@jupyter-widgets/controls",
     "model_name": "ProgressStyleModel",
     "state": {
      "_model_module": "@jupyter-widgets/controls",
      "_model_module_version": "1.5.0",
      "_model_name": "ProgressStyleModel",
      "_view_count": null,
      "_view_module": "@jupyter-widgets/base",
      "_view_module_version": "1.2.0",
      "_view_name": "StyleView",
      "bar_color": null,
      "description_width": "initial"
     }
    },
    "b177a8cb85a24b88ab6d56205b630f1d": {
     "model_module": "@jupyter-widgets/base",
     "model_name": "LayoutModel",
     "state": {
      "_model_module": "@jupyter-widgets/base",
      "_model_module_version": "1.2.0",
      "_model_name": "LayoutModel",
      "_view_count": null,
      "_view_module": "@jupyter-widgets/base",
      "_view_module_version": "1.2.0",
      "_view_name": "LayoutView",
      "align_content": null,
      "align_items": null,
      "align_self": null,
      "border": null,
      "bottom": null,
      "display": null,
      "flex": null,
      "flex_flow": null,
      "grid_area": null,
      "grid_auto_columns": null,
      "grid_auto_flow": null,
      "grid_auto_rows": null,
      "grid_column": null,
      "grid_gap": null,
      "grid_row": null,
      "grid_template_areas": null,
      "grid_template_columns": null,
      "grid_template_rows": null,
      "height": null,
      "justify_content": null,
      "justify_items": null,
      "left": null,
      "margin": null,
      "max_height": null,
      "max_width": null,
      "min_height": null,
      "min_width": null,
      "object_fit": null,
      "object_position": null,
      "order": null,
      "overflow": null,
      "overflow_x": null,
      "overflow_y": null,
      "padding": null,
      "right": null,
      "top": null,
      "visibility": null,
      "width": null
     }
    },
    "b1b6a4649fc34c9996f993c57671766b": {
     "model_module": "@jupyter-widgets/base",
     "model_name": "LayoutModel",
     "state": {
      "_model_module": "@jupyter-widgets/base",
      "_model_module_version": "1.2.0",
      "_model_name": "LayoutModel",
      "_view_count": null,
      "_view_module": "@jupyter-widgets/base",
      "_view_module_version": "1.2.0",
      "_view_name": "LayoutView",
      "align_content": null,
      "align_items": null,
      "align_self": null,
      "border": null,
      "bottom": null,
      "display": null,
      "flex": null,
      "flex_flow": null,
      "grid_area": null,
      "grid_auto_columns": null,
      "grid_auto_flow": null,
      "grid_auto_rows": null,
      "grid_column": null,
      "grid_gap": null,
      "grid_row": null,
      "grid_template_areas": null,
      "grid_template_columns": null,
      "grid_template_rows": null,
      "height": null,
      "justify_content": null,
      "justify_items": null,
      "left": null,
      "margin": null,
      "max_height": null,
      "max_width": null,
      "min_height": null,
      "min_width": null,
      "object_fit": null,
      "object_position": null,
      "order": null,
      "overflow": null,
      "overflow_x": null,
      "overflow_y": null,
      "padding": null,
      "right": null,
      "top": null,
      "visibility": null,
      "width": null
     }
    },
    "b1d93a7521fa47b8a815445b5232da59": {
     "model_module": "@jupyter-widgets/base",
     "model_name": "LayoutModel",
     "state": {
      "_model_module": "@jupyter-widgets/base",
      "_model_module_version": "1.2.0",
      "_model_name": "LayoutModel",
      "_view_count": null,
      "_view_module": "@jupyter-widgets/base",
      "_view_module_version": "1.2.0",
      "_view_name": "LayoutView",
      "align_content": null,
      "align_items": null,
      "align_self": null,
      "border": null,
      "bottom": null,
      "display": null,
      "flex": null,
      "flex_flow": null,
      "grid_area": null,
      "grid_auto_columns": null,
      "grid_auto_flow": null,
      "grid_auto_rows": null,
      "grid_column": null,
      "grid_gap": null,
      "grid_row": null,
      "grid_template_areas": null,
      "grid_template_columns": null,
      "grid_template_rows": null,
      "height": null,
      "justify_content": null,
      "justify_items": null,
      "left": null,
      "margin": null,
      "max_height": null,
      "max_width": null,
      "min_height": null,
      "min_width": null,
      "object_fit": null,
      "object_position": null,
      "order": null,
      "overflow": null,
      "overflow_x": null,
      "overflow_y": null,
      "padding": null,
      "right": null,
      "top": null,
      "visibility": null,
      "width": null
     }
    },
    "b2473405490e4556bf30c0cc81237aa5": {
     "model_module": "@jupyter-widgets/base",
     "model_name": "LayoutModel",
     "state": {
      "_model_module": "@jupyter-widgets/base",
      "_model_module_version": "1.2.0",
      "_model_name": "LayoutModel",
      "_view_count": null,
      "_view_module": "@jupyter-widgets/base",
      "_view_module_version": "1.2.0",
      "_view_name": "LayoutView",
      "align_content": null,
      "align_items": null,
      "align_self": null,
      "border": null,
      "bottom": null,
      "display": null,
      "flex": null,
      "flex_flow": null,
      "grid_area": null,
      "grid_auto_columns": null,
      "grid_auto_flow": null,
      "grid_auto_rows": null,
      "grid_column": null,
      "grid_gap": null,
      "grid_row": null,
      "grid_template_areas": null,
      "grid_template_columns": null,
      "grid_template_rows": null,
      "height": null,
      "justify_content": null,
      "justify_items": null,
      "left": null,
      "margin": null,
      "max_height": null,
      "max_width": null,
      "min_height": null,
      "min_width": null,
      "object_fit": null,
      "object_position": null,
      "order": null,
      "overflow": null,
      "overflow_x": null,
      "overflow_y": null,
      "padding": null,
      "right": null,
      "top": null,
      "visibility": null,
      "width": null
     }
    },
    "b320306eaf264ad9872d507a1a1cb2da": {
     "model_module": "@jupyter-widgets/base",
     "model_name": "LayoutModel",
     "state": {
      "_model_module": "@jupyter-widgets/base",
      "_model_module_version": "1.2.0",
      "_model_name": "LayoutModel",
      "_view_count": null,
      "_view_module": "@jupyter-widgets/base",
      "_view_module_version": "1.2.0",
      "_view_name": "LayoutView",
      "align_content": null,
      "align_items": null,
      "align_self": null,
      "border": null,
      "bottom": null,
      "display": null,
      "flex": null,
      "flex_flow": null,
      "grid_area": null,
      "grid_auto_columns": null,
      "grid_auto_flow": null,
      "grid_auto_rows": null,
      "grid_column": null,
      "grid_gap": null,
      "grid_row": null,
      "grid_template_areas": null,
      "grid_template_columns": null,
      "grid_template_rows": null,
      "height": null,
      "justify_content": null,
      "justify_items": null,
      "left": null,
      "margin": null,
      "max_height": null,
      "max_width": null,
      "min_height": null,
      "min_width": null,
      "object_fit": null,
      "object_position": null,
      "order": null,
      "overflow": null,
      "overflow_x": null,
      "overflow_y": null,
      "padding": null,
      "right": null,
      "top": null,
      "visibility": null,
      "width": null
     }
    },
    "b54bff6261964119bcb562c1a9f74ce6": {
     "model_module": "@jupyter-widgets/base",
     "model_name": "LayoutModel",
     "state": {
      "_model_module": "@jupyter-widgets/base",
      "_model_module_version": "1.2.0",
      "_model_name": "LayoutModel",
      "_view_count": null,
      "_view_module": "@jupyter-widgets/base",
      "_view_module_version": "1.2.0",
      "_view_name": "LayoutView",
      "align_content": null,
      "align_items": null,
      "align_self": null,
      "border": null,
      "bottom": null,
      "display": null,
      "flex": null,
      "flex_flow": null,
      "grid_area": null,
      "grid_auto_columns": null,
      "grid_auto_flow": null,
      "grid_auto_rows": null,
      "grid_column": null,
      "grid_gap": null,
      "grid_row": null,
      "grid_template_areas": null,
      "grid_template_columns": null,
      "grid_template_rows": null,
      "height": null,
      "justify_content": null,
      "justify_items": null,
      "left": null,
      "margin": null,
      "max_height": null,
      "max_width": null,
      "min_height": null,
      "min_width": null,
      "object_fit": null,
      "object_position": null,
      "order": null,
      "overflow": null,
      "overflow_x": null,
      "overflow_y": null,
      "padding": null,
      "right": null,
      "top": null,
      "visibility": null,
      "width": null
     }
    },
    "b6221b4c04e64c9da9eb9e11539bac89": {
     "model_module": "@jupyter-widgets/controls",
     "model_name": "HBoxModel",
     "state": {
      "_dom_classes": [],
      "_model_module": "@jupyter-widgets/controls",
      "_model_module_version": "1.5.0",
      "_model_name": "HBoxModel",
      "_view_count": null,
      "_view_module": "@jupyter-widgets/controls",
      "_view_module_version": "1.5.0",
      "_view_name": "HBoxView",
      "box_style": "",
      "children": [
       "IPY_MODEL_02d1f77324854fbca0df9384c57faac8",
       "IPY_MODEL_8e63ba7f1fd24555bf11bc9dbe9c770b"
      ],
      "layout": "IPY_MODEL_dc6862530f6e429ba61a169b4c95722c"
     }
    },
    "b78413dcc0584a0c8f71731a06aaa1b8": {
     "model_module": "@jupyter-widgets/base",
     "model_name": "LayoutModel",
     "state": {
      "_model_module": "@jupyter-widgets/base",
      "_model_module_version": "1.2.0",
      "_model_name": "LayoutModel",
      "_view_count": null,
      "_view_module": "@jupyter-widgets/base",
      "_view_module_version": "1.2.0",
      "_view_name": "LayoutView",
      "align_content": null,
      "align_items": null,
      "align_self": null,
      "border": null,
      "bottom": null,
      "display": null,
      "flex": null,
      "flex_flow": null,
      "grid_area": null,
      "grid_auto_columns": null,
      "grid_auto_flow": null,
      "grid_auto_rows": null,
      "grid_column": null,
      "grid_gap": null,
      "grid_row": null,
      "grid_template_areas": null,
      "grid_template_columns": null,
      "grid_template_rows": null,
      "height": null,
      "justify_content": null,
      "justify_items": null,
      "left": null,
      "margin": null,
      "max_height": null,
      "max_width": null,
      "min_height": null,
      "min_width": null,
      "object_fit": null,
      "object_position": null,
      "order": null,
      "overflow": null,
      "overflow_x": null,
      "overflow_y": null,
      "padding": null,
      "right": null,
      "top": null,
      "visibility": null,
      "width": null
     }
    },
    "b7c43fb5efdd4afbb82c81b923f2815a": {
     "model_module": "@jupyter-widgets/controls",
     "model_name": "HBoxModel",
     "state": {
      "_dom_classes": [],
      "_model_module": "@jupyter-widgets/controls",
      "_model_module_version": "1.5.0",
      "_model_name": "HBoxModel",
      "_view_count": null,
      "_view_module": "@jupyter-widgets/controls",
      "_view_module_version": "1.5.0",
      "_view_name": "HBoxView",
      "box_style": "",
      "children": [
       "IPY_MODEL_8dddd0245dcb4532917cbfa0181d2a00",
       "IPY_MODEL_3bdb4058f40f40e3a10e323325a64638"
      ],
      "layout": "IPY_MODEL_c0a661f20e7e4649a3c8c42a5fd01956"
     }
    },
    "b94e374d92c146009447c3827b977267": {
     "model_module": "@jupyter-widgets/controls",
     "model_name": "FloatProgressModel",
     "state": {
      "_dom_classes": [],
      "_model_module": "@jupyter-widgets/controls",
      "_model_module_version": "1.5.0",
      "_model_name": "FloatProgressModel",
      "_view_count": null,
      "_view_module": "@jupyter-widgets/controls",
      "_view_module_version": "1.5.0",
      "_view_name": "ProgressView",
      "bar_style": "success",
      "description": "100%",
      "description_tooltip": null,
      "layout": "IPY_MODEL_b177a8cb85a24b88ab6d56205b630f1d",
      "max": 3478,
      "min": 0,
      "orientation": "horizontal",
      "style": "IPY_MODEL_4ff7ccffc36a4a0f93031f5cdc3b718d",
      "value": 3478
     }
    },
    "b9c5c6dd54cc4dc5ad5a2bb69a24ab05": {
     "model_module": "@jupyter-widgets/controls",
     "model_name": "ProgressStyleModel",
     "state": {
      "_model_module": "@jupyter-widgets/controls",
      "_model_module_version": "1.5.0",
      "_model_name": "ProgressStyleModel",
      "_view_count": null,
      "_view_module": "@jupyter-widgets/base",
      "_view_module_version": "1.2.0",
      "_view_name": "StyleView",
      "bar_color": null,
      "description_width": "initial"
     }
    },
    "bc41384bbae04044b9780651c6b5a47c": {
     "model_module": "@jupyter-widgets/base",
     "model_name": "LayoutModel",
     "state": {
      "_model_module": "@jupyter-widgets/base",
      "_model_module_version": "1.2.0",
      "_model_name": "LayoutModel",
      "_view_count": null,
      "_view_module": "@jupyter-widgets/base",
      "_view_module_version": "1.2.0",
      "_view_name": "LayoutView",
      "align_content": null,
      "align_items": null,
      "align_self": null,
      "border": null,
      "bottom": null,
      "display": null,
      "flex": null,
      "flex_flow": null,
      "grid_area": null,
      "grid_auto_columns": null,
      "grid_auto_flow": null,
      "grid_auto_rows": null,
      "grid_column": null,
      "grid_gap": null,
      "grid_row": null,
      "grid_template_areas": null,
      "grid_template_columns": null,
      "grid_template_rows": null,
      "height": null,
      "justify_content": null,
      "justify_items": null,
      "left": null,
      "margin": null,
      "max_height": null,
      "max_width": null,
      "min_height": null,
      "min_width": null,
      "object_fit": null,
      "object_position": null,
      "order": null,
      "overflow": null,
      "overflow_x": null,
      "overflow_y": null,
      "padding": null,
      "right": null,
      "top": null,
      "visibility": null,
      "width": null
     }
    },
    "bd0958ea97b141b1aca367c71721c549": {
     "model_module": "@jupyter-widgets/controls",
     "model_name": "HBoxModel",
     "state": {
      "_dom_classes": [],
      "_model_module": "@jupyter-widgets/controls",
      "_model_module_version": "1.5.0",
      "_model_name": "HBoxModel",
      "_view_count": null,
      "_view_module": "@jupyter-widgets/controls",
      "_view_module_version": "1.5.0",
      "_view_name": "HBoxView",
      "box_style": "",
      "children": [
       "IPY_MODEL_d080668299ef42fabb8ab6fbcf329cea",
       "IPY_MODEL_aafd4b2c56db43378c4627797665db17"
      ],
      "layout": "IPY_MODEL_0354ab33471e4c34a0c1b3c062bcd6bb"
     }
    },
    "bd187486ac2548f2961cfcb63d852de1": {
     "model_module": "@jupyter-widgets/controls",
     "model_name": "FloatProgressModel",
     "state": {
      "_dom_classes": [],
      "_model_module": "@jupyter-widgets/controls",
      "_model_module_version": "1.5.0",
      "_model_name": "FloatProgressModel",
      "_view_count": null,
      "_view_module": "@jupyter-widgets/controls",
      "_view_module_version": "1.5.0",
      "_view_name": "ProgressView",
      "bar_style": "success",
      "description": "#1: 100%",
      "description_tooltip": null,
      "layout": "IPY_MODEL_58f3e8002f984594ac05c973aa78ef69",
      "max": 52,
      "min": 0,
      "orientation": "horizontal",
      "style": "IPY_MODEL_231c66f195d34f86b216805518f4bccd",
      "value": 52
     }
    },
    "bd3447291ce54812af10ac6245ea4328": {
     "model_module": "@jupyter-widgets/base",
     "model_name": "LayoutModel",
     "state": {
      "_model_module": "@jupyter-widgets/base",
      "_model_module_version": "1.2.0",
      "_model_name": "LayoutModel",
      "_view_count": null,
      "_view_module": "@jupyter-widgets/base",
      "_view_module_version": "1.2.0",
      "_view_name": "LayoutView",
      "align_content": null,
      "align_items": null,
      "align_self": null,
      "border": null,
      "bottom": null,
      "display": null,
      "flex": null,
      "flex_flow": null,
      "grid_area": null,
      "grid_auto_columns": null,
      "grid_auto_flow": null,
      "grid_auto_rows": null,
      "grid_column": null,
      "grid_gap": null,
      "grid_row": null,
      "grid_template_areas": null,
      "grid_template_columns": null,
      "grid_template_rows": null,
      "height": null,
      "justify_content": null,
      "justify_items": null,
      "left": null,
      "margin": null,
      "max_height": null,
      "max_width": null,
      "min_height": null,
      "min_width": null,
      "object_fit": null,
      "object_position": null,
      "order": null,
      "overflow": null,
      "overflow_x": null,
      "overflow_y": null,
      "padding": null,
      "right": null,
      "top": null,
      "visibility": null,
      "width": null
     }
    },
    "beca070c32124a119a08cb21c2ca95e5": {
     "model_module": "@jupyter-widgets/controls",
     "model_name": "ProgressStyleModel",
     "state": {
      "_model_module": "@jupyter-widgets/controls",
      "_model_module_version": "1.5.0",
      "_model_name": "ProgressStyleModel",
      "_view_count": null,
      "_view_module": "@jupyter-widgets/base",
      "_view_module_version": "1.2.0",
      "_view_name": "StyleView",
      "bar_color": null,
      "description_width": "initial"
     }
    },
    "bee0f50055eb4f738636142a10da0ddd": {
     "model_module": "@jupyter-widgets/base",
     "model_name": "LayoutModel",
     "state": {
      "_model_module": "@jupyter-widgets/base",
      "_model_module_version": "1.2.0",
      "_model_name": "LayoutModel",
      "_view_count": null,
      "_view_module": "@jupyter-widgets/base",
      "_view_module_version": "1.2.0",
      "_view_name": "LayoutView",
      "align_content": null,
      "align_items": null,
      "align_self": null,
      "border": null,
      "bottom": null,
      "display": null,
      "flex": null,
      "flex_flow": null,
      "grid_area": null,
      "grid_auto_columns": null,
      "grid_auto_flow": null,
      "grid_auto_rows": null,
      "grid_column": null,
      "grid_gap": null,
      "grid_row": null,
      "grid_template_areas": null,
      "grid_template_columns": null,
      "grid_template_rows": null,
      "height": null,
      "justify_content": null,
      "justify_items": null,
      "left": null,
      "margin": null,
      "max_height": null,
      "max_width": null,
      "min_height": null,
      "min_width": null,
      "object_fit": null,
      "object_position": null,
      "order": null,
      "overflow": null,
      "overflow_x": null,
      "overflow_y": null,
      "padding": null,
      "right": null,
      "top": null,
      "visibility": null,
      "width": null
     }
    },
    "bf9e57d81135412d9a9a2281f28bd52a": {
     "model_module": "@jupyter-widgets/controls",
     "model_name": "HBoxModel",
     "state": {
      "_dom_classes": [],
      "_model_module": "@jupyter-widgets/controls",
      "_model_module_version": "1.5.0",
      "_model_name": "HBoxModel",
      "_view_count": null,
      "_view_module": "@jupyter-widgets/controls",
      "_view_module_version": "1.5.0",
      "_view_name": "HBoxView",
      "box_style": "",
      "children": [
       "IPY_MODEL_579b6055028f473981ce789a0733a753",
       "IPY_MODEL_4fb7347e9ca542e6ab9003bf4db218e0"
      ],
      "layout": "IPY_MODEL_c41610c0baef412984f8661d96e08b7e"
     }
    },
    "c01aca3229a24d41841be2b4a3a65bcc": {
     "model_module": "@jupyter-widgets/controls",
     "model_name": "ProgressStyleModel",
     "state": {
      "_model_module": "@jupyter-widgets/controls",
      "_model_module_version": "1.5.0",
      "_model_name": "ProgressStyleModel",
      "_view_count": null,
      "_view_module": "@jupyter-widgets/base",
      "_view_module_version": "1.2.0",
      "_view_name": "StyleView",
      "bar_color": null,
      "description_width": "initial"
     }
    },
    "c0a661f20e7e4649a3c8c42a5fd01956": {
     "model_module": "@jupyter-widgets/base",
     "model_name": "LayoutModel",
     "state": {
      "_model_module": "@jupyter-widgets/base",
      "_model_module_version": "1.2.0",
      "_model_name": "LayoutModel",
      "_view_count": null,
      "_view_module": "@jupyter-widgets/base",
      "_view_module_version": "1.2.0",
      "_view_name": "LayoutView",
      "align_content": null,
      "align_items": null,
      "align_self": null,
      "border": null,
      "bottom": null,
      "display": null,
      "flex": null,
      "flex_flow": null,
      "grid_area": null,
      "grid_auto_columns": null,
      "grid_auto_flow": null,
      "grid_auto_rows": null,
      "grid_column": null,
      "grid_gap": null,
      "grid_row": null,
      "grid_template_areas": null,
      "grid_template_columns": null,
      "grid_template_rows": null,
      "height": null,
      "justify_content": null,
      "justify_items": null,
      "left": null,
      "margin": null,
      "max_height": null,
      "max_width": null,
      "min_height": null,
      "min_width": null,
      "object_fit": null,
      "object_position": null,
      "order": null,
      "overflow": null,
      "overflow_x": null,
      "overflow_y": null,
      "padding": null,
      "right": null,
      "top": null,
      "visibility": null,
      "width": null
     }
    },
    "c0e6b6e6395d4dbd827eb1c0de1ad21a": {
     "model_module": "@jupyter-widgets/base",
     "model_name": "LayoutModel",
     "state": {
      "_model_module": "@jupyter-widgets/base",
      "_model_module_version": "1.2.0",
      "_model_name": "LayoutModel",
      "_view_count": null,
      "_view_module": "@jupyter-widgets/base",
      "_view_module_version": "1.2.0",
      "_view_name": "LayoutView",
      "align_content": null,
      "align_items": null,
      "align_self": null,
      "border": null,
      "bottom": null,
      "display": null,
      "flex": null,
      "flex_flow": null,
      "grid_area": null,
      "grid_auto_columns": null,
      "grid_auto_flow": null,
      "grid_auto_rows": null,
      "grid_column": null,
      "grid_gap": null,
      "grid_row": null,
      "grid_template_areas": null,
      "grid_template_columns": null,
      "grid_template_rows": null,
      "height": null,
      "justify_content": null,
      "justify_items": null,
      "left": null,
      "margin": null,
      "max_height": null,
      "max_width": null,
      "min_height": null,
      "min_width": null,
      "object_fit": null,
      "object_position": null,
      "order": null,
      "overflow": null,
      "overflow_x": null,
      "overflow_y": null,
      "padding": null,
      "right": null,
      "top": null,
      "visibility": null,
      "width": null
     }
    },
    "c126ea97019149848396e593cfab016f": {
     "model_module": "@jupyter-widgets/base",
     "model_name": "LayoutModel",
     "state": {
      "_model_module": "@jupyter-widgets/base",
      "_model_module_version": "1.2.0",
      "_model_name": "LayoutModel",
      "_view_count": null,
      "_view_module": "@jupyter-widgets/base",
      "_view_module_version": "1.2.0",
      "_view_name": "LayoutView",
      "align_content": null,
      "align_items": null,
      "align_self": null,
      "border": null,
      "bottom": null,
      "display": null,
      "flex": null,
      "flex_flow": null,
      "grid_area": null,
      "grid_auto_columns": null,
      "grid_auto_flow": null,
      "grid_auto_rows": null,
      "grid_column": null,
      "grid_gap": null,
      "grid_row": null,
      "grid_template_areas": null,
      "grid_template_columns": null,
      "grid_template_rows": null,
      "height": null,
      "justify_content": null,
      "justify_items": null,
      "left": null,
      "margin": null,
      "max_height": null,
      "max_width": null,
      "min_height": null,
      "min_width": null,
      "object_fit": null,
      "object_position": null,
      "order": null,
      "overflow": null,
      "overflow_x": null,
      "overflow_y": null,
      "padding": null,
      "right": null,
      "top": null,
      "visibility": null,
      "width": null
     }
    },
    "c41610c0baef412984f8661d96e08b7e": {
     "model_module": "@jupyter-widgets/base",
     "model_name": "LayoutModel",
     "state": {
      "_model_module": "@jupyter-widgets/base",
      "_model_module_version": "1.2.0",
      "_model_name": "LayoutModel",
      "_view_count": null,
      "_view_module": "@jupyter-widgets/base",
      "_view_module_version": "1.2.0",
      "_view_name": "LayoutView",
      "align_content": null,
      "align_items": null,
      "align_self": null,
      "border": null,
      "bottom": null,
      "display": null,
      "flex": null,
      "flex_flow": null,
      "grid_area": null,
      "grid_auto_columns": null,
      "grid_auto_flow": null,
      "grid_auto_rows": null,
      "grid_column": null,
      "grid_gap": null,
      "grid_row": null,
      "grid_template_areas": null,
      "grid_template_columns": null,
      "grid_template_rows": null,
      "height": null,
      "justify_content": null,
      "justify_items": null,
      "left": null,
      "margin": null,
      "max_height": null,
      "max_width": null,
      "min_height": null,
      "min_width": null,
      "object_fit": null,
      "object_position": null,
      "order": null,
      "overflow": null,
      "overflow_x": null,
      "overflow_y": null,
      "padding": null,
      "right": null,
      "top": null,
      "visibility": null,
      "width": null
     }
    },
    "c546bca23ee248a1be7bd8ead3e82a8f": {
     "model_module": "@jupyter-widgets/controls",
     "model_name": "ProgressStyleModel",
     "state": {
      "_model_module": "@jupyter-widgets/controls",
      "_model_module_version": "1.5.0",
      "_model_name": "ProgressStyleModel",
      "_view_count": null,
      "_view_module": "@jupyter-widgets/base",
      "_view_module_version": "1.2.0",
      "_view_name": "StyleView",
      "bar_color": null,
      "description_width": "initial"
     }
    },
    "c8fdf261ac294093a355778a3a4aba3b": {
     "model_module": "@jupyter-widgets/controls",
     "model_name": "ProgressStyleModel",
     "state": {
      "_model_module": "@jupyter-widgets/controls",
      "_model_module_version": "1.5.0",
      "_model_name": "ProgressStyleModel",
      "_view_count": null,
      "_view_module": "@jupyter-widgets/base",
      "_view_module_version": "1.2.0",
      "_view_name": "StyleView",
      "bar_color": null,
      "description_width": "initial"
     }
    },
    "c9dc4421940241c59f1151aeabedc98b": {
     "model_module": "@jupyter-widgets/base",
     "model_name": "LayoutModel",
     "state": {
      "_model_module": "@jupyter-widgets/base",
      "_model_module_version": "1.2.0",
      "_model_name": "LayoutModel",
      "_view_count": null,
      "_view_module": "@jupyter-widgets/base",
      "_view_module_version": "1.2.0",
      "_view_name": "LayoutView",
      "align_content": null,
      "align_items": null,
      "align_self": null,
      "border": null,
      "bottom": null,
      "display": null,
      "flex": null,
      "flex_flow": null,
      "grid_area": null,
      "grid_auto_columns": null,
      "grid_auto_flow": null,
      "grid_auto_rows": null,
      "grid_column": null,
      "grid_gap": null,
      "grid_row": null,
      "grid_template_areas": null,
      "grid_template_columns": null,
      "grid_template_rows": null,
      "height": null,
      "justify_content": null,
      "justify_items": null,
      "left": null,
      "margin": null,
      "max_height": null,
      "max_width": null,
      "min_height": null,
      "min_width": null,
      "object_fit": null,
      "object_position": null,
      "order": null,
      "overflow": null,
      "overflow_x": null,
      "overflow_y": null,
      "padding": null,
      "right": null,
      "top": null,
      "visibility": null,
      "width": null
     }
    },
    "cb5666eb8ebb4d1392e98d6b5af8761c": {
     "model_module": "@jupyter-widgets/controls",
     "model_name": "DescriptionStyleModel",
     "state": {
      "_model_module": "@jupyter-widgets/controls",
      "_model_module_version": "1.5.0",
      "_model_name": "DescriptionStyleModel",
      "_view_count": null,
      "_view_module": "@jupyter-widgets/base",
      "_view_module_version": "1.2.0",
      "_view_name": "StyleView",
      "description_width": ""
     }
    },
    "cc9c1e00c2d34516b8fd9edff96bb0d8": {
     "model_module": "@jupyter-widgets/controls",
     "model_name": "HBoxModel",
     "state": {
      "_dom_classes": [],
      "_model_module": "@jupyter-widgets/controls",
      "_model_module_version": "1.5.0",
      "_model_name": "HBoxModel",
      "_view_count": null,
      "_view_module": "@jupyter-widgets/controls",
      "_view_module_version": "1.5.0",
      "_view_name": "HBoxView",
      "box_style": "",
      "children": [
       "IPY_MODEL_33c92b5afd1d4b6d88016aabfb434194",
       "IPY_MODEL_998676d59f9c464e8463d65baad6448b"
      ],
      "layout": "IPY_MODEL_6abfbe44a1bd4518b41f5f53f920e936"
     }
    },
    "ccb720bf256e42f7b0251494ccb7741f": {
     "model_module": "@jupyter-widgets/controls",
     "model_name": "DescriptionStyleModel",
     "state": {
      "_model_module": "@jupyter-widgets/controls",
      "_model_module_version": "1.5.0",
      "_model_name": "DescriptionStyleModel",
      "_view_count": null,
      "_view_module": "@jupyter-widgets/base",
      "_view_module_version": "1.2.0",
      "_view_name": "StyleView",
      "description_width": ""
     }
    },
    "ce337f50183942e6a74ca1b33735ade9": {
     "model_module": "@jupyter-widgets/controls",
     "model_name": "HTMLModel",
     "state": {
      "_dom_classes": [],
      "_model_module": "@jupyter-widgets/controls",
      "_model_module_version": "1.5.0",
      "_model_name": "HTMLModel",
      "_view_count": null,
      "_view_module": "@jupyter-widgets/controls",
      "_view_module_version": "1.5.0",
      "_view_name": "HTMLView",
      "description": "",
      "description_tooltip": null,
      "layout": "IPY_MODEL_e9a702f10538415b970ea1345804d72c",
      "placeholder": "​",
      "style": "IPY_MODEL_9532db4cdc5e4371a4a02055a4c67a08",
      "value": " 23.0k/? [00:00&lt;00:00, 72.2kB/s]"
     }
    },
    "ceb44ba4fdf34da19a52469acf1ce63f": {
     "model_module": "@jupyter-widgets/base",
     "model_name": "LayoutModel",
     "state": {
      "_model_module": "@jupyter-widgets/base",
      "_model_module_version": "1.2.0",
      "_model_name": "LayoutModel",
      "_view_count": null,
      "_view_module": "@jupyter-widgets/base",
      "_view_module_version": "1.2.0",
      "_view_name": "LayoutView",
      "align_content": null,
      "align_items": null,
      "align_self": null,
      "border": null,
      "bottom": null,
      "display": null,
      "flex": null,
      "flex_flow": null,
      "grid_area": null,
      "grid_auto_columns": null,
      "grid_auto_flow": null,
      "grid_auto_rows": null,
      "grid_column": null,
      "grid_gap": null,
      "grid_row": null,
      "grid_template_areas": null,
      "grid_template_columns": null,
      "grid_template_rows": null,
      "height": null,
      "justify_content": null,
      "justify_items": null,
      "left": null,
      "margin": null,
      "max_height": null,
      "max_width": null,
      "min_height": null,
      "min_width": null,
      "object_fit": null,
      "object_position": null,
      "order": null,
      "overflow": null,
      "overflow_x": null,
      "overflow_y": null,
      "padding": null,
      "right": null,
      "top": null,
      "visibility": null,
      "width": null
     }
    },
    "d080668299ef42fabb8ab6fbcf329cea": {
     "model_module": "@jupyter-widgets/controls",
     "model_name": "FloatProgressModel",
     "state": {
      "_dom_classes": [],
      "_model_module": "@jupyter-widgets/controls",
      "_model_module_version": "1.5.0",
      "_model_name": "FloatProgressModel",
      "_view_count": null,
      "_view_module": "@jupyter-widgets/controls",
      "_view_module_version": "1.5.0",
      "_view_name": "ProgressView",
      "bar_style": "success",
      "description": "100%",
      "description_tooltip": null,
      "layout": "IPY_MODEL_f972527479e74337a98f236ed018ae1d",
      "max": 1,
      "min": 0,
      "orientation": "horizontal",
      "style": "IPY_MODEL_b0f3a205ad4546188fc6e7e7cf96ab32",
      "value": 1
     }
    },
    "d35c15beeb33476894b07c3563f8facd": {
     "model_module": "@jupyter-widgets/controls",
     "model_name": "DescriptionStyleModel",
     "state": {
      "_model_module": "@jupyter-widgets/controls",
      "_model_module_version": "1.5.0",
      "_model_name": "DescriptionStyleModel",
      "_view_count": null,
      "_view_module": "@jupyter-widgets/base",
      "_view_module_version": "1.2.0",
      "_view_name": "StyleView",
      "description_width": ""
     }
    },
    "d362345c05234c97a675c6bacdad0e92": {
     "model_module": "@jupyter-widgets/controls",
     "model_name": "DescriptionStyleModel",
     "state": {
      "_model_module": "@jupyter-widgets/controls",
      "_model_module_version": "1.5.0",
      "_model_name": "DescriptionStyleModel",
      "_view_count": null,
      "_view_module": "@jupyter-widgets/base",
      "_view_module_version": "1.2.0",
      "_view_name": "StyleView",
      "description_width": ""
     }
    },
    "d453bd4a35e54bfba20dac1fe86c60c1": {
     "model_module": "@jupyter-widgets/base",
     "model_name": "LayoutModel",
     "state": {
      "_model_module": "@jupyter-widgets/base",
      "_model_module_version": "1.2.0",
      "_model_name": "LayoutModel",
      "_view_count": null,
      "_view_module": "@jupyter-widgets/base",
      "_view_module_version": "1.2.0",
      "_view_name": "LayoutView",
      "align_content": null,
      "align_items": null,
      "align_self": null,
      "border": null,
      "bottom": null,
      "display": null,
      "flex": null,
      "flex_flow": null,
      "grid_area": null,
      "grid_auto_columns": null,
      "grid_auto_flow": null,
      "grid_auto_rows": null,
      "grid_column": null,
      "grid_gap": null,
      "grid_row": null,
      "grid_template_areas": null,
      "grid_template_columns": null,
      "grid_template_rows": null,
      "height": null,
      "justify_content": null,
      "justify_items": null,
      "left": null,
      "margin": null,
      "max_height": null,
      "max_width": null,
      "min_height": null,
      "min_width": null,
      "object_fit": null,
      "object_position": null,
      "order": null,
      "overflow": null,
      "overflow_x": null,
      "overflow_y": null,
      "padding": null,
      "right": null,
      "top": null,
      "visibility": null,
      "width": null
     }
    },
    "d4a3f79644fc41848450ba29e6fdfc3d": {
     "model_module": "@jupyter-widgets/base",
     "model_name": "LayoutModel",
     "state": {
      "_model_module": "@jupyter-widgets/base",
      "_model_module_version": "1.2.0",
      "_model_name": "LayoutModel",
      "_view_count": null,
      "_view_module": "@jupyter-widgets/base",
      "_view_module_version": "1.2.0",
      "_view_name": "LayoutView",
      "align_content": null,
      "align_items": null,
      "align_self": null,
      "border": null,
      "bottom": null,
      "display": null,
      "flex": null,
      "flex_flow": null,
      "grid_area": null,
      "grid_auto_columns": null,
      "grid_auto_flow": null,
      "grid_auto_rows": null,
      "grid_column": null,
      "grid_gap": null,
      "grid_row": null,
      "grid_template_areas": null,
      "grid_template_columns": null,
      "grid_template_rows": null,
      "height": null,
      "justify_content": null,
      "justify_items": null,
      "left": null,
      "margin": null,
      "max_height": null,
      "max_width": null,
      "min_height": null,
      "min_width": null,
      "object_fit": null,
      "object_position": null,
      "order": null,
      "overflow": null,
      "overflow_x": null,
      "overflow_y": null,
      "padding": null,
      "right": null,
      "top": null,
      "visibility": null,
      "width": null
     }
    },
    "d5fb02debe4347e781543a996ce39be3": {
     "model_module": "@jupyter-widgets/controls",
     "model_name": "HBoxModel",
     "state": {
      "_dom_classes": [],
      "_model_module": "@jupyter-widgets/controls",
      "_model_module_version": "1.5.0",
      "_model_name": "HBoxModel",
      "_view_count": null,
      "_view_module": "@jupyter-widgets/controls",
      "_view_module_version": "1.5.0",
      "_view_name": "HBoxView",
      "box_style": "",
      "children": [
       "IPY_MODEL_8e1a85a4a6214a16b7431da23a301ada",
       "IPY_MODEL_57198e3250374e1fa64c5a4be255861e"
      ],
      "layout": "IPY_MODEL_da12267c52144292adb9896249d61a6a"
     }
    },
    "d649c0f9c1c24634a84b7ef697721ffa": {
     "model_module": "@jupyter-widgets/base",
     "model_name": "LayoutModel",
     "state": {
      "_model_module": "@jupyter-widgets/base",
      "_model_module_version": "1.2.0",
      "_model_name": "LayoutModel",
      "_view_count": null,
      "_view_module": "@jupyter-widgets/base",
      "_view_module_version": "1.2.0",
      "_view_name": "LayoutView",
      "align_content": null,
      "align_items": null,
      "align_self": null,
      "border": null,
      "bottom": null,
      "display": null,
      "flex": null,
      "flex_flow": null,
      "grid_area": null,
      "grid_auto_columns": null,
      "grid_auto_flow": null,
      "grid_auto_rows": null,
      "grid_column": null,
      "grid_gap": null,
      "grid_row": null,
      "grid_template_areas": null,
      "grid_template_columns": null,
      "grid_template_rows": null,
      "height": null,
      "justify_content": null,
      "justify_items": null,
      "left": null,
      "margin": null,
      "max_height": null,
      "max_width": null,
      "min_height": null,
      "min_width": null,
      "object_fit": null,
      "object_position": null,
      "order": null,
      "overflow": null,
      "overflow_x": null,
      "overflow_y": null,
      "padding": null,
      "right": null,
      "top": null,
      "visibility": null,
      "width": null
     }
    },
    "d69468d63dd74fdd807fe061b92aa84e": {
     "model_module": "@jupyter-widgets/controls",
     "model_name": "HTMLModel",
     "state": {
      "_dom_classes": [],
      "_model_module": "@jupyter-widgets/controls",
      "_model_module_version": "1.5.0",
      "_model_name": "HTMLModel",
      "_view_count": null,
      "_view_module": "@jupyter-widgets/controls",
      "_view_module_version": "1.5.0",
      "_view_name": "HTMLView",
      "description": "",
      "description_tooltip": null,
      "layout": "IPY_MODEL_84e7f0001ebe458dad3c96e7e9a38cdc",
      "placeholder": "​",
      "style": "IPY_MODEL_7f5203fde6b64bf7ad53d6ecd3041bfc",
      "value": " 869/869 [05:47&lt;00:00,  2.50ex/s]"
     }
    },
    "d7f27e9cf8a844349ca90393e0c49a03": {
     "model_module": "@jupyter-widgets/base",
     "model_name": "LayoutModel",
     "state": {
      "_model_module": "@jupyter-widgets/base",
      "_model_module_version": "1.2.0",
      "_model_name": "LayoutModel",
      "_view_count": null,
      "_view_module": "@jupyter-widgets/base",
      "_view_module_version": "1.2.0",
      "_view_name": "LayoutView",
      "align_content": null,
      "align_items": null,
      "align_self": null,
      "border": null,
      "bottom": null,
      "display": null,
      "flex": null,
      "flex_flow": null,
      "grid_area": null,
      "grid_auto_columns": null,
      "grid_auto_flow": null,
      "grid_auto_rows": null,
      "grid_column": null,
      "grid_gap": null,
      "grid_row": null,
      "grid_template_areas": null,
      "grid_template_columns": null,
      "grid_template_rows": null,
      "height": null,
      "justify_content": null,
      "justify_items": null,
      "left": null,
      "margin": null,
      "max_height": null,
      "max_width": null,
      "min_height": null,
      "min_width": null,
      "object_fit": null,
      "object_position": null,
      "order": null,
      "overflow": null,
      "overflow_x": null,
      "overflow_y": null,
      "padding": null,
      "right": null,
      "top": null,
      "visibility": null,
      "width": null
     }
    },
    "d96e01ad62c342cdb7d9b1eceb39afa3": {
     "model_module": "@jupyter-widgets/controls",
     "model_name": "HBoxModel",
     "state": {
      "_dom_classes": [],
      "_model_module": "@jupyter-widgets/controls",
      "_model_module_version": "1.5.0",
      "_model_name": "HBoxModel",
      "_view_count": null,
      "_view_module": "@jupyter-widgets/controls",
      "_view_module_version": "1.5.0",
      "_view_name": "HBoxView",
      "box_style": "",
      "children": [
       "IPY_MODEL_e6178f7b148c4bf39f2826f208e0cc64",
       "IPY_MODEL_f78ff14b9c8f46448ed1ecb3fe1f5e0b"
      ],
      "layout": "IPY_MODEL_e6ce9330460d4a0fb67cc493ca74ae96"
     }
    },
    "da12267c52144292adb9896249d61a6a": {
     "model_module": "@jupyter-widgets/base",
     "model_name": "LayoutModel",
     "state": {
      "_model_module": "@jupyter-widgets/base",
      "_model_module_version": "1.2.0",
      "_model_name": "LayoutModel",
      "_view_count": null,
      "_view_module": "@jupyter-widgets/base",
      "_view_module_version": "1.2.0",
      "_view_name": "LayoutView",
      "align_content": null,
      "align_items": null,
      "align_self": null,
      "border": null,
      "bottom": null,
      "display": null,
      "flex": null,
      "flex_flow": null,
      "grid_area": null,
      "grid_auto_columns": null,
      "grid_auto_flow": null,
      "grid_auto_rows": null,
      "grid_column": null,
      "grid_gap": null,
      "grid_row": null,
      "grid_template_areas": null,
      "grid_template_columns": null,
      "grid_template_rows": null,
      "height": null,
      "justify_content": null,
      "justify_items": null,
      "left": null,
      "margin": null,
      "max_height": null,
      "max_width": null,
      "min_height": null,
      "min_width": null,
      "object_fit": null,
      "object_position": null,
      "order": null,
      "overflow": null,
      "overflow_x": null,
      "overflow_y": null,
      "padding": null,
      "right": null,
      "top": null,
      "visibility": null,
      "width": null
     }
    },
    "da1ff50f8b9241108a325ada04224642": {
     "model_module": "@jupyter-widgets/controls",
     "model_name": "ProgressStyleModel",
     "state": {
      "_model_module": "@jupyter-widgets/controls",
      "_model_module_version": "1.5.0",
      "_model_name": "ProgressStyleModel",
      "_view_count": null,
      "_view_module": "@jupyter-widgets/base",
      "_view_module_version": "1.2.0",
      "_view_name": "StyleView",
      "bar_color": null,
      "description_width": "initial"
     }
    },
    "db71db50799c404aafa4a54de8b9b799": {
     "model_module": "@jupyter-widgets/base",
     "model_name": "LayoutModel",
     "state": {
      "_model_module": "@jupyter-widgets/base",
      "_model_module_version": "1.2.0",
      "_model_name": "LayoutModel",
      "_view_count": null,
      "_view_module": "@jupyter-widgets/base",
      "_view_module_version": "1.2.0",
      "_view_name": "LayoutView",
      "align_content": null,
      "align_items": null,
      "align_self": null,
      "border": null,
      "bottom": null,
      "display": null,
      "flex": null,
      "flex_flow": null,
      "grid_area": null,
      "grid_auto_columns": null,
      "grid_auto_flow": null,
      "grid_auto_rows": null,
      "grid_column": null,
      "grid_gap": null,
      "grid_row": null,
      "grid_template_areas": null,
      "grid_template_columns": null,
      "grid_template_rows": null,
      "height": null,
      "justify_content": null,
      "justify_items": null,
      "left": null,
      "margin": null,
      "max_height": null,
      "max_width": null,
      "min_height": null,
      "min_width": null,
      "object_fit": null,
      "object_position": null,
      "order": null,
      "overflow": null,
      "overflow_x": null,
      "overflow_y": null,
      "padding": null,
      "right": null,
      "top": null,
      "visibility": null,
      "width": null
     }
    },
    "dc6862530f6e429ba61a169b4c95722c": {
     "model_module": "@jupyter-widgets/base",
     "model_name": "LayoutModel",
     "state": {
      "_model_module": "@jupyter-widgets/base",
      "_model_module_version": "1.2.0",
      "_model_name": "LayoutModel",
      "_view_count": null,
      "_view_module": "@jupyter-widgets/base",
      "_view_module_version": "1.2.0",
      "_view_name": "LayoutView",
      "align_content": null,
      "align_items": null,
      "align_self": null,
      "border": null,
      "bottom": null,
      "display": null,
      "flex": null,
      "flex_flow": null,
      "grid_area": null,
      "grid_auto_columns": null,
      "grid_auto_flow": null,
      "grid_auto_rows": null,
      "grid_column": null,
      "grid_gap": null,
      "grid_row": null,
      "grid_template_areas": null,
      "grid_template_columns": null,
      "grid_template_rows": null,
      "height": null,
      "justify_content": null,
      "justify_items": null,
      "left": null,
      "margin": null,
      "max_height": null,
      "max_width": null,
      "min_height": null,
      "min_width": null,
      "object_fit": null,
      "object_position": null,
      "order": null,
      "overflow": null,
      "overflow_x": null,
      "overflow_y": null,
      "padding": null,
      "right": null,
      "top": null,
      "visibility": null,
      "width": null
     }
    },
    "dde7ae43ef954ef1b901c80f0a4e11fd": {
     "model_module": "@jupyter-widgets/base",
     "model_name": "LayoutModel",
     "state": {
      "_model_module": "@jupyter-widgets/base",
      "_model_module_version": "1.2.0",
      "_model_name": "LayoutModel",
      "_view_count": null,
      "_view_module": "@jupyter-widgets/base",
      "_view_module_version": "1.2.0",
      "_view_name": "LayoutView",
      "align_content": null,
      "align_items": null,
      "align_self": null,
      "border": null,
      "bottom": null,
      "display": null,
      "flex": null,
      "flex_flow": null,
      "grid_area": null,
      "grid_auto_columns": null,
      "grid_auto_flow": null,
      "grid_auto_rows": null,
      "grid_column": null,
      "grid_gap": null,
      "grid_row": null,
      "grid_template_areas": null,
      "grid_template_columns": null,
      "grid_template_rows": null,
      "height": null,
      "justify_content": null,
      "justify_items": null,
      "left": null,
      "margin": null,
      "max_height": null,
      "max_width": null,
      "min_height": null,
      "min_width": null,
      "object_fit": null,
      "object_position": null,
      "order": null,
      "overflow": null,
      "overflow_x": null,
      "overflow_y": null,
      "padding": null,
      "right": null,
      "top": null,
      "visibility": null,
      "width": null
     }
    },
    "dec796237765477ea904834d9a824b61": {
     "model_module": "@jupyter-widgets/base",
     "model_name": "LayoutModel",
     "state": {
      "_model_module": "@jupyter-widgets/base",
      "_model_module_version": "1.2.0",
      "_model_name": "LayoutModel",
      "_view_count": null,
      "_view_module": "@jupyter-widgets/base",
      "_view_module_version": "1.2.0",
      "_view_name": "LayoutView",
      "align_content": null,
      "align_items": null,
      "align_self": null,
      "border": null,
      "bottom": null,
      "display": null,
      "flex": null,
      "flex_flow": null,
      "grid_area": null,
      "grid_auto_columns": null,
      "grid_auto_flow": null,
      "grid_auto_rows": null,
      "grid_column": null,
      "grid_gap": null,
      "grid_row": null,
      "grid_template_areas": null,
      "grid_template_columns": null,
      "grid_template_rows": null,
      "height": null,
      "justify_content": null,
      "justify_items": null,
      "left": null,
      "margin": null,
      "max_height": null,
      "max_width": null,
      "min_height": null,
      "min_width": null,
      "object_fit": null,
      "object_position": null,
      "order": null,
      "overflow": null,
      "overflow_x": null,
      "overflow_y": null,
      "padding": null,
      "right": null,
      "top": null,
      "visibility": null,
      "width": null
     }
    },
    "def702d8f8354fa4999587a5c68d0034": {
     "model_module": "@jupyter-widgets/controls",
     "model_name": "HBoxModel",
     "state": {
      "_dom_classes": [],
      "_model_module": "@jupyter-widgets/controls",
      "_model_module_version": "1.5.0",
      "_model_name": "HBoxModel",
      "_view_count": null,
      "_view_module": "@jupyter-widgets/controls",
      "_view_module_version": "1.5.0",
      "_view_name": "HBoxView",
      "box_style": "",
      "children": [
       "IPY_MODEL_edf36819322e4f9fa227a11592fef429",
       "IPY_MODEL_ce337f50183942e6a74ca1b33735ade9"
      ],
      "layout": "IPY_MODEL_2fd148d5587b4139919b0158f9dad71e"
     }
    },
    "e273548a15aa4d4994132b317adb66fc": {
     "model_module": "@jupyter-widgets/controls",
     "model_name": "FloatProgressModel",
     "state": {
      "_dom_classes": [],
      "_model_module": "@jupyter-widgets/controls",
      "_model_module_version": "1.5.0",
      "_model_name": "FloatProgressModel",
      "_view_count": null,
      "_view_module": "@jupyter-widgets/controls",
      "_view_module_version": "1.5.0",
      "_view_name": "ProgressView",
      "bar_style": "success",
      "description": "#0: 100%",
      "description_tooltip": null,
      "layout": "IPY_MODEL_80697300a4394b909f1c499ba80aeb13",
      "max": 52,
      "min": 0,
      "orientation": "horizontal",
      "style": "IPY_MODEL_7d62810674c8482abe46c60fc08884b4",
      "value": 52
     }
    },
    "e3b719c0ffcc4fd1b410ffb7f969b7a5": {
     "model_module": "@jupyter-widgets/controls",
     "model_name": "HTMLModel",
     "state": {
      "_dom_classes": [],
      "_model_module": "@jupyter-widgets/controls",
      "_model_module_version": "1.5.0",
      "_model_name": "HTMLModel",
      "_view_count": null,
      "_view_module": "@jupyter-widgets/controls",
      "_view_module_version": "1.5.0",
      "_view_name": "HTMLView",
      "description": "",
      "description_tooltip": null,
      "layout": "IPY_MODEL_c9dc4421940241c59f1151aeabedc98b",
      "placeholder": "​",
      "style": "IPY_MODEL_19e263785ea343ba99ee2127d9b83d1d",
      "value": " 1831/0 [00:04&lt;00:00,  4.82s/ examples]"
     }
    },
    "e51b5fd9d5a6416d986fac1526d1666f": {
     "model_module": "@jupyter-widgets/base",
     "model_name": "LayoutModel",
     "state": {
      "_model_module": "@jupyter-widgets/base",
      "_model_module_version": "1.2.0",
      "_model_name": "LayoutModel",
      "_view_count": null,
      "_view_module": "@jupyter-widgets/base",
      "_view_module_version": "1.2.0",
      "_view_name": "LayoutView",
      "align_content": null,
      "align_items": null,
      "align_self": null,
      "border": null,
      "bottom": null,
      "display": null,
      "flex": null,
      "flex_flow": null,
      "grid_area": null,
      "grid_auto_columns": null,
      "grid_auto_flow": null,
      "grid_auto_rows": null,
      "grid_column": null,
      "grid_gap": null,
      "grid_row": null,
      "grid_template_areas": null,
      "grid_template_columns": null,
      "grid_template_rows": null,
      "height": null,
      "justify_content": null,
      "justify_items": null,
      "left": null,
      "margin": null,
      "max_height": null,
      "max_width": null,
      "min_height": null,
      "min_width": null,
      "object_fit": null,
      "object_position": null,
      "order": null,
      "overflow": null,
      "overflow_x": null,
      "overflow_y": null,
      "padding": null,
      "right": null,
      "top": null,
      "visibility": null,
      "width": null
     }
    },
    "e6178f7b148c4bf39f2826f208e0cc64": {
     "model_module": "@jupyter-widgets/controls",
     "model_name": "FloatProgressModel",
     "state": {
      "_dom_classes": [],
      "_model_module": "@jupyter-widgets/controls",
      "_model_module_version": "1.5.0",
      "_model_name": "FloatProgressModel",
      "_view_count": null,
      "_view_module": "@jupyter-widgets/controls",
      "_view_module_version": "1.5.0",
      "_view_name": "ProgressView",
      "bar_style": "success",
      "description": "#0: 100%",
      "description_tooltip": null,
      "layout": "IPY_MODEL_6ba6d07674a34836be53cf173c2b61ca",
      "max": 412,
      "min": 0,
      "orientation": "horizontal",
      "style": "IPY_MODEL_929cde17b3484f3e9e8f8774bc43e374",
      "value": 412
     }
    },
    "e6ce9330460d4a0fb67cc493ca74ae96": {
     "model_module": "@jupyter-widgets/base",
     "model_name": "LayoutModel",
     "state": {
      "_model_module": "@jupyter-widgets/base",
      "_model_module_version": "1.2.0",
      "_model_name": "LayoutModel",
      "_view_count": null,
      "_view_module": "@jupyter-widgets/base",
      "_view_module_version": "1.2.0",
      "_view_name": "LayoutView",
      "align_content": null,
      "align_items": null,
      "align_self": null,
      "border": null,
      "bottom": null,
      "display": null,
      "flex": null,
      "flex_flow": null,
      "grid_area": null,
      "grid_auto_columns": null,
      "grid_auto_flow": null,
      "grid_auto_rows": null,
      "grid_column": null,
      "grid_gap": null,
      "grid_row": null,
      "grid_template_areas": null,
      "grid_template_columns": null,
      "grid_template_rows": null,
      "height": null,
      "justify_content": null,
      "justify_items": null,
      "left": null,
      "margin": null,
      "max_height": null,
      "max_width": null,
      "min_height": null,
      "min_width": null,
      "object_fit": null,
      "object_position": null,
      "order": null,
      "overflow": null,
      "overflow_x": null,
      "overflow_y": null,
      "padding": null,
      "right": null,
      "top": null,
      "visibility": null,
      "width": null
     }
    },
    "e9a702f10538415b970ea1345804d72c": {
     "model_module": "@jupyter-widgets/base",
     "model_name": "LayoutModel",
     "state": {
      "_model_module": "@jupyter-widgets/base",
      "_model_module_version": "1.2.0",
      "_model_name": "LayoutModel",
      "_view_count": null,
      "_view_module": "@jupyter-widgets/base",
      "_view_module_version": "1.2.0",
      "_view_name": "LayoutView",
      "align_content": null,
      "align_items": null,
      "align_self": null,
      "border": null,
      "bottom": null,
      "display": null,
      "flex": null,
      "flex_flow": null,
      "grid_area": null,
      "grid_auto_columns": null,
      "grid_auto_flow": null,
      "grid_auto_rows": null,
      "grid_column": null,
      "grid_gap": null,
      "grid_row": null,
      "grid_template_areas": null,
      "grid_template_columns": null,
      "grid_template_rows": null,
      "height": null,
      "justify_content": null,
      "justify_items": null,
      "left": null,
      "margin": null,
      "max_height": null,
      "max_width": null,
      "min_height": null,
      "min_width": null,
      "object_fit": null,
      "object_position": null,
      "order": null,
      "overflow": null,
      "overflow_x": null,
      "overflow_y": null,
      "padding": null,
      "right": null,
      "top": null,
      "visibility": null,
      "width": null
     }
    },
    "ec36a94ee2574ac8b227ccaefdee5520": {
     "model_module": "@jupyter-widgets/controls",
     "model_name": "DescriptionStyleModel",
     "state": {
      "_model_module": "@jupyter-widgets/controls",
      "_model_module_version": "1.5.0",
      "_model_name": "DescriptionStyleModel",
      "_view_count": null,
      "_view_module": "@jupyter-widgets/base",
      "_view_module_version": "1.2.0",
      "_view_name": "StyleView",
      "description_width": ""
     }
    },
    "edf36819322e4f9fa227a11592fef429": {
     "model_module": "@jupyter-widgets/controls",
     "model_name": "FloatProgressModel",
     "state": {
      "_dom_classes": [],
      "_model_module": "@jupyter-widgets/controls",
      "_model_module_version": "1.5.0",
      "_model_name": "FloatProgressModel",
      "_view_count": null,
      "_view_module": "@jupyter-widgets/controls",
      "_view_module_version": "1.5.0",
      "_view_name": "ProgressView",
      "bar_style": "success",
      "description": "Downloading: ",
      "description_tooltip": null,
      "layout": "IPY_MODEL_93f191a48b3141e1889fd94870b6ac0e",
      "max": 4662,
      "min": 0,
      "orientation": "horizontal",
      "style": "IPY_MODEL_8292dafcd40745958d0f3c563bf6b9b0",
      "value": 4662
     }
    },
    "ee641bbf54a7499597713c517baa81bb": {
     "model_module": "@jupyter-widgets/controls",
     "model_name": "HBoxModel",
     "state": {
      "_dom_classes": [],
      "_model_module": "@jupyter-widgets/controls",
      "_model_module_version": "1.5.0",
      "_model_name": "HBoxModel",
      "_view_count": null,
      "_view_module": "@jupyter-widgets/controls",
      "_view_module_version": "1.5.0",
      "_view_name": "HBoxView",
      "box_style": "",
      "children": [
       "IPY_MODEL_4f8957dc035d4c1a9e8630fc8ab8cd10",
       "IPY_MODEL_757e7bd0e6c5410da0490d191b4e68c8"
      ],
      "layout": "IPY_MODEL_3d929b9e2518402b81a71757ffb753d2"
     }
    },
    "eed2ccc12daa4c71b080794a7a18f5cb": {
     "model_module": "@jupyter-widgets/controls",
     "model_name": "HTMLModel",
     "state": {
      "_dom_classes": [],
      "_model_module": "@jupyter-widgets/controls",
      "_model_module_version": "1.5.0",
      "_model_name": "HTMLModel",
      "_view_count": null,
      "_view_module": "@jupyter-widgets/controls",
      "_view_module_version": "1.5.0",
      "_view_name": "HTMLView",
      "description": "",
      "description_tooltip": null,
      "layout": "IPY_MODEL_f18eddbd3d994ddc88f37e02d754c206",
      "placeholder": "​",
      "style": "IPY_MODEL_20347ed29fdc4c0a96da28c09aacf44d",
      "value": " 870/870 [05:39&lt;00:00,  2.45ex/s]"
     }
    },
    "f18eddbd3d994ddc88f37e02d754c206": {
     "model_module": "@jupyter-widgets/base",
     "model_name": "LayoutModel",
     "state": {
      "_model_module": "@jupyter-widgets/base",
      "_model_module_version": "1.2.0",
      "_model_name": "LayoutModel",
      "_view_count": null,
      "_view_module": "@jupyter-widgets/base",
      "_view_module_version": "1.2.0",
      "_view_name": "LayoutView",
      "align_content": null,
      "align_items": null,
      "align_self": null,
      "border": null,
      "bottom": null,
      "display": null,
      "flex": null,
      "flex_flow": null,
      "grid_area": null,
      "grid_auto_columns": null,
      "grid_auto_flow": null,
      "grid_auto_rows": null,
      "grid_column": null,
      "grid_gap": null,
      "grid_row": null,
      "grid_template_areas": null,
      "grid_template_columns": null,
      "grid_template_rows": null,
      "height": null,
      "justify_content": null,
      "justify_items": null,
      "left": null,
      "margin": null,
      "max_height": null,
      "max_width": null,
      "min_height": null,
      "min_width": null,
      "object_fit": null,
      "object_position": null,
      "order": null,
      "overflow": null,
      "overflow_x": null,
      "overflow_y": null,
      "padding": null,
      "right": null,
      "top": null,
      "visibility": null,
      "width": null
     }
    },
    "f203c54e7e054d97aa4d1097f320f611": {
     "model_module": "@jupyter-widgets/controls",
     "model_name": "FloatProgressModel",
     "state": {
      "_dom_classes": [],
      "_model_module": "@jupyter-widgets/controls",
      "_model_module_version": "1.5.0",
      "_model_name": "FloatProgressModel",
      "_view_count": null,
      "_view_module": "@jupyter-widgets/controls",
      "_view_module_version": "1.5.0",
      "_view_name": "ProgressView",
      "bar_style": "success",
      "description": "#3: 100%",
      "description_tooltip": null,
      "layout": "IPY_MODEL_0cd1932178c945d48604ffd299e65d2c",
      "max": 411,
      "min": 0,
      "orientation": "horizontal",
      "style": "IPY_MODEL_3ec3285e9f3e4a5abcefabb7f140f4a3",
      "value": 411
     }
    },
    "f3905820a42c499fba04af9c1ad19705": {
     "model_module": "@jupyter-widgets/controls",
     "model_name": "FloatProgressModel",
     "state": {
      "_dom_classes": [],
      "_model_module": "@jupyter-widgets/controls",
      "_model_module_version": "1.5.0",
      "_model_name": "FloatProgressModel",
      "_view_count": null,
      "_view_module": "@jupyter-widgets/controls",
      "_view_module_version": "1.5.0",
      "_view_name": "ProgressView",
      "bar_style": "success",
      "description": "#2: 100%",
      "description_tooltip": null,
      "layout": "IPY_MODEL_fc9504846f424542a7feb932964f1f5b",
      "max": 869,
      "min": 0,
      "orientation": "horizontal",
      "style": "IPY_MODEL_4c0ad31e73234e46aac0a297ec18bdeb",
      "value": 869
     }
    },
    "f3adb92e618743cca3299e3e7b6e369f": {
     "model_module": "@jupyter-widgets/controls",
     "model_name": "HBoxModel",
     "state": {
      "_dom_classes": [],
      "_model_module": "@jupyter-widgets/controls",
      "_model_module_version": "1.5.0",
      "_model_name": "HBoxModel",
      "_view_count": null,
      "_view_module": "@jupyter-widgets/controls",
      "_view_module_version": "1.5.0",
      "_view_name": "HBoxView",
      "box_style": "",
      "children": [
       "IPY_MODEL_b0e3a36279d243ab9943149705c72c3e",
       "IPY_MODEL_12696cc03f464a63a411efb2b5e5ac3b"
      ],
      "layout": "IPY_MODEL_83b51e16d88046c48dcd745cf09d2e56"
     }
    },
    "f4135dd72864445391f43f387635bfdc": {
     "model_module": "@jupyter-widgets/controls",
     "model_name": "HTMLModel",
     "state": {
      "_dom_classes": [],
      "_model_module": "@jupyter-widgets/controls",
      "_model_module_version": "1.5.0",
      "_model_name": "HTMLModel",
      "_view_count": null,
      "_view_module": "@jupyter-widgets/controls",
      "_view_module_version": "1.5.0",
      "_view_name": "HTMLView",
      "description": "",
      "description_tooltip": null,
      "layout": "IPY_MODEL_923ed9e127524187ab8cfcac31164ba7",
      "placeholder": "​",
      "style": "IPY_MODEL_8df9d19602cb4951b397c385458a11ef",
      "value": " 109/109 [00:56&lt;00:00,  1.93ba/s]"
     }
    },
    "f57d087016124ebeb073fd7428dcb68b": {
     "model_module": "@jupyter-widgets/base",
     "model_name": "LayoutModel",
     "state": {
      "_model_module": "@jupyter-widgets/base",
      "_model_module_version": "1.2.0",
      "_model_name": "LayoutModel",
      "_view_count": null,
      "_view_module": "@jupyter-widgets/base",
      "_view_module_version": "1.2.0",
      "_view_name": "LayoutView",
      "align_content": null,
      "align_items": null,
      "align_self": null,
      "border": null,
      "bottom": null,
      "display": null,
      "flex": null,
      "flex_flow": null,
      "grid_area": null,
      "grid_auto_columns": null,
      "grid_auto_flow": null,
      "grid_auto_rows": null,
      "grid_column": null,
      "grid_gap": null,
      "grid_row": null,
      "grid_template_areas": null,
      "grid_template_columns": null,
      "grid_template_rows": null,
      "height": null,
      "justify_content": null,
      "justify_items": null,
      "left": null,
      "margin": null,
      "max_height": null,
      "max_width": null,
      "min_height": null,
      "min_width": null,
      "object_fit": null,
      "object_position": null,
      "order": null,
      "overflow": null,
      "overflow_x": null,
      "overflow_y": null,
      "padding": null,
      "right": null,
      "top": null,
      "visibility": null,
      "width": null
     }
    },
    "f5f1f0865d7e4d8b810ccb9c3c4d2683": {
     "model_module": "@jupyter-widgets/controls",
     "model_name": "FloatProgressModel",
     "state": {
      "_dom_classes": [],
      "_model_module": "@jupyter-widgets/controls",
      "_model_module_version": "1.5.0",
      "_model_name": "FloatProgressModel",
      "_view_count": null,
      "_view_module": "@jupyter-widgets/controls",
      "_view_module_version": "1.5.0",
      "_view_name": "ProgressView",
      "bar_style": "success",
      "description": "#1: 100%",
      "description_tooltip": null,
      "layout": "IPY_MODEL_e51b5fd9d5a6416d986fac1526d1666f",
      "max": 412,
      "min": 0,
      "orientation": "horizontal",
      "style": "IPY_MODEL_a47f1ea64f894f0b8e6b277c31ae9f7d",
      "value": 412
     }
    },
    "f6930dd5519d4dfda64c597def220a30": {
     "model_module": "@jupyter-widgets/controls",
     "model_name": "HTMLModel",
     "state": {
      "_dom_classes": [],
      "_model_module": "@jupyter-widgets/controls",
      "_model_module_version": "1.5.0",
      "_model_name": "HTMLModel",
      "_view_count": null,
      "_view_module": "@jupyter-widgets/controls",
      "_view_module_version": "1.5.0",
      "_view_name": "HTMLView",
      "description": "",
      "description_tooltip": null,
      "layout": "IPY_MODEL_56ad6231a0a04228be29ceecbc6b7c0e",
      "placeholder": "​",
      "style": "IPY_MODEL_ab72c80dfd5e4ab19a183f4204486b59",
      "value": " 52/52 [00:31&lt;00:00,  1.63ba/s]"
     }
    },
    "f6b01ad0433a40178ef3ba5657bc1583": {
     "model_module": "@jupyter-widgets/controls",
     "model_name": "FloatProgressModel",
     "state": {
      "_dom_classes": [],
      "_model_module": "@jupyter-widgets/controls",
      "_model_module_version": "1.5.0",
      "_model_name": "FloatProgressModel",
      "_view_count": null,
      "_view_module": "@jupyter-widgets/controls",
      "_view_module_version": "1.5.0",
      "_view_name": "ProgressView",
      "bar_style": "success",
      "description": "#0: 100%",
      "description_tooltip": null,
      "layout": "IPY_MODEL_69828f4a101f4340916a4be141866904",
      "max": 870,
      "min": 0,
      "orientation": "horizontal",
      "style": "IPY_MODEL_beca070c32124a119a08cb21c2ca95e5",
      "value": 870
     }
    },
    "f78ff14b9c8f46448ed1ecb3fe1f5e0b": {
     "model_module": "@jupyter-widgets/controls",
     "model_name": "HTMLModel",
     "state": {
      "_dom_classes": [],
      "_model_module": "@jupyter-widgets/controls",
      "_model_module_version": "1.5.0",
      "_model_name": "HTMLModel",
      "_view_count": null,
      "_view_module": "@jupyter-widgets/controls",
      "_view_module_version": "1.5.0",
      "_view_name": "HTMLView",
      "description": "",
      "description_tooltip": null,
      "layout": "IPY_MODEL_b054b00a32e64fc5988fbd2966ebbce6",
      "placeholder": "​",
      "style": "IPY_MODEL_5a5bc8b4a1c644dea08a60128d888d10",
      "value": " 412/412 [03:06&lt;00:00,  2.20ex/s]"
     }
    },
    "f792530a76ee486688cbc2502dfae594": {
     "model_module": "@jupyter-widgets/controls",
     "model_name": "FloatProgressModel",
     "state": {
      "_dom_classes": [],
      "_model_module": "@jupyter-widgets/controls",
      "_model_module_version": "1.5.0",
      "_model_name": "FloatProgressModel",
      "_view_count": null,
      "_view_module": "@jupyter-widgets/controls",
      "_view_module_version": "1.5.0",
      "_view_name": "ProgressView",
      "bar_style": "success",
      "description": "#3: 100%",
      "description_tooltip": null,
      "layout": "IPY_MODEL_7e50f8027fb74d669daae5e46082026c",
      "max": 869,
      "min": 0,
      "orientation": "horizontal",
      "style": "IPY_MODEL_1261590ef796493798f7068ea0547b74",
      "value": 869
     }
    },
    "f972527479e74337a98f236ed018ae1d": {
     "model_module": "@jupyter-widgets/base",
     "model_name": "LayoutModel",
     "state": {
      "_model_module": "@jupyter-widgets/base",
      "_model_module_version": "1.2.0",
      "_model_name": "LayoutModel",
      "_view_count": null,
      "_view_module": "@jupyter-widgets/base",
      "_view_module_version": "1.2.0",
      "_view_name": "LayoutView",
      "align_content": null,
      "align_items": null,
      "align_self": null,
      "border": null,
      "bottom": null,
      "display": null,
      "flex": null,
      "flex_flow": null,
      "grid_area": null,
      "grid_auto_columns": null,
      "grid_auto_flow": null,
      "grid_auto_rows": null,
      "grid_column": null,
      "grid_gap": null,
      "grid_row": null,
      "grid_template_areas": null,
      "grid_template_columns": null,
      "grid_template_rows": null,
      "height": null,
      "justify_content": null,
      "justify_items": null,
      "left": null,
      "margin": null,
      "max_height": null,
      "max_width": null,
      "min_height": null,
      "min_width": null,
      "object_fit": null,
      "object_position": null,
      "order": null,
      "overflow": null,
      "overflow_x": null,
      "overflow_y": null,
      "padding": null,
      "right": null,
      "top": null,
      "visibility": null,
      "width": null
     }
    },
    "f9efaa7678c2450f847ff2c2f21ff96e": {
     "model_module": "@jupyter-widgets/controls",
     "model_name": "DescriptionStyleModel",
     "state": {
      "_model_module": "@jupyter-widgets/controls",
      "_model_module_version": "1.5.0",
      "_model_name": "DescriptionStyleModel",
      "_view_count": null,
      "_view_module": "@jupyter-widgets/base",
      "_view_module_version": "1.2.0",
      "_view_name": "StyleView",
      "description_width": ""
     }
    },
    "fa7926bbe77e48b3a0648b45f5d2dc7a": {
     "model_module": "@jupyter-widgets/controls",
     "model_name": "ProgressStyleModel",
     "state": {
      "_model_module": "@jupyter-widgets/controls",
      "_model_module_version": "1.5.0",
      "_model_name": "ProgressStyleModel",
      "_view_count": null,
      "_view_module": "@jupyter-widgets/base",
      "_view_module_version": "1.2.0",
      "_view_name": "StyleView",
      "bar_color": null,
      "description_width": "initial"
     }
    },
    "fc9504846f424542a7feb932964f1f5b": {
     "model_module": "@jupyter-widgets/base",
     "model_name": "LayoutModel",
     "state": {
      "_model_module": "@jupyter-widgets/base",
      "_model_module_version": "1.2.0",
      "_model_name": "LayoutModel",
      "_view_count": null,
      "_view_module": "@jupyter-widgets/base",
      "_view_module_version": "1.2.0",
      "_view_name": "LayoutView",
      "align_content": null,
      "align_items": null,
      "align_self": null,
      "border": null,
      "bottom": null,
      "display": null,
      "flex": null,
      "flex_flow": null,
      "grid_area": null,
      "grid_auto_columns": null,
      "grid_auto_flow": null,
      "grid_auto_rows": null,
      "grid_column": null,
      "grid_gap": null,
      "grid_row": null,
      "grid_template_areas": null,
      "grid_template_columns": null,
      "grid_template_rows": null,
      "height": null,
      "justify_content": null,
      "justify_items": null,
      "left": null,
      "margin": null,
      "max_height": null,
      "max_width": null,
      "min_height": null,
      "min_width": null,
      "object_fit": null,
      "object_position": null,
      "order": null,
      "overflow": null,
      "overflow_x": null,
      "overflow_y": null,
      "padding": null,
      "right": null,
      "top": null,
      "visibility": null,
      "width": null
     }
    },
    "fe62265afdc74026b7e9c5a50ef61d2c": {
     "model_module": "@jupyter-widgets/base",
     "model_name": "LayoutModel",
     "state": {
      "_model_module": "@jupyter-widgets/base",
      "_model_module_version": "1.2.0",
      "_model_name": "LayoutModel",
      "_view_count": null,
      "_view_module": "@jupyter-widgets/base",
      "_view_module_version": "1.2.0",
      "_view_name": "LayoutView",
      "align_content": null,
      "align_items": null,
      "align_self": null,
      "border": null,
      "bottom": null,
      "display": null,
      "flex": null,
      "flex_flow": null,
      "grid_area": null,
      "grid_auto_columns": null,
      "grid_auto_flow": null,
      "grid_auto_rows": null,
      "grid_column": null,
      "grid_gap": null,
      "grid_row": null,
      "grid_template_areas": null,
      "grid_template_columns": null,
      "grid_template_rows": null,
      "height": null,
      "justify_content": null,
      "justify_items": null,
      "left": null,
      "margin": null,
      "max_height": null,
      "max_width": null,
      "min_height": null,
      "min_width": null,
      "object_fit": null,
      "object_position": null,
      "order": null,
      "overflow": null,
      "overflow_x": null,
      "overflow_y": null,
      "padding": null,
      "right": null,
      "top": null,
      "visibility": null,
      "width": null
     }
    }
   }
  }
 },
 "nbformat": 4,
 "nbformat_minor": 4
}
