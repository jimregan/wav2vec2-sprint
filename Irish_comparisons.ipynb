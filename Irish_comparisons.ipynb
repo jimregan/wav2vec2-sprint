{
  "nbformat": 4,
  "nbformat_minor": 0,
  "metadata": {
    "colab": {
      "name": "Irish-comparisons.ipynb",
      "provenance": [],
      "authorship_tag": "ABX9TyMhVAO2JNy7y8f/CnkfE1XK",
      "include_colab_link": true
    },
    "kernelspec": {
      "name": "python3",
      "display_name": "Python 3"
    },
    "language_info": {
      "name": "python"
    }
  },
  "cells": [
    {
      "cell_type": "markdown",
      "metadata": {
        "id": "view-in-github",
        "colab_type": "text"
      },
      "source": [
        "<a href=\"https://colab.research.google.com/github/jimregan/wav2vec2-sprint/blob/comparison/Irish_comparisons.ipynb\" target=\"_parent\"><img src=\"https://colab.research.google.com/assets/colab-badge.svg\" alt=\"Open In Colab\"/></a>"
      ]
    },
    {
      "cell_type": "markdown",
      "metadata": {
        "id": "wK6zhm94R9Q0"
      },
      "source": [
        "## Pocketsphinx"
      ]
    },
    {
      "cell_type": "markdown",
      "metadata": {
        "id": "UAADxCQVXs4U"
      },
      "source": [
        "The pocketsphinx model doesn't have a real language model (it came from dictionary, so it's single words only, headwords only), so to show it in the best light, I'm using the data from the website for [Fuaimeanna na Gaeilge](http://www.fuaimeanna.ie/en/) *(\"The Sounds of Irish\")*, which has equivalent pronunciation examples. I've put an old scraper for the site [here](https://github.com/jimregan/wav2vec2-sprint/blob/main/irish/fuaimeanna.pl); this writes a .tsv file with the data, and a shell script to use wget to download the sounds. I already have the data, so I'm just uploading it, but during the sprint I wrote a [script](https://github.com/jimregan/wav2vec2-sprint/blob/main/irish/convert-fuaimeanna-csv.pl) to convert the .tsv to a .csv that `datasets` could read more easily."
      ]
    },
    {
      "cell_type": "markdown",
      "metadata": {
        "id": "XuafMtAFRVvc"
      },
      "source": [
        "Setting up is easy:"
      ]
    },
    {
      "cell_type": "code",
      "metadata": {
        "id": "45fKbZd2EA6Y"
      },
      "source": [
        "!apt-get install pocketsphinx"
      ],
      "execution_count": null,
      "outputs": []
    },
    {
      "cell_type": "markdown",
      "metadata": {
        "id": "d-TS6OwgW7uw"
      },
      "source": [
        "Next, grab the pretrained model:"
      ]
    },
    {
      "cell_type": "code",
      "metadata": {
        "id": "iEzIcN_eEYlD"
      },
      "source": [
        "!wget https://github.com/jimregan/irish-asr-data/releases/download/teanglann-0.1/cmusphinx-ga-teanglann-0.1.zip"
      ],
      "execution_count": null,
      "outputs": []
    },
    {
      "cell_type": "code",
      "metadata": {
        "id": "VNSwWtyHEviu"
      },
      "source": [
        "!unzip cmusphinx-ga-teanglann-0.1.zip"
      ],
      "execution_count": null,
      "outputs": []
    },
    {
      "cell_type": "code",
      "metadata": {
        "id": "wuyTCnsJar20"
      },
      "source": [
        "!unzip fuaimeanna.zip"
      ],
      "execution_count": null,
      "outputs": []
    },
    {
      "cell_type": "markdown",
      "metadata": {
        "id": "r-_n4eTRbNL9"
      },
      "source": [
        "Pocketsphinx comes from the bad old days before audio libraries were something that could be relied on being present, so the files need to be 16k `.wav`"
      ]
    },
    {
      "cell_type": "code",
      "metadata": {
        "id": "KH4y0yFXa87g"
      },
      "source": [
        "!for i in fuaimeanna/mp3/*.mp3;do ffmpeg -i \"$i\" -acodec pcm_s16le -ac 1 -ar 16000 \"$i.wav\";done"
      ],
      "execution_count": null,
      "outputs": []
    },
    {
      "cell_type": "code",
      "metadata": {
        "id": "5D60jhMecD2i"
      },
      "source": [
        "!for i in fuaimeanna/mp3/*.wav; do f=$(echo $i|awk -F/ '{print $NF}');printf \"%s\\t\" $f >> ps-output; pocketsphinx_continuous -infile $i -hmm cmusphinx-ga-teanglann-0.1/ -dict cmusphinx-ga-teanglann-0.1/ga.dic -lm cmusphinx-ga-teanglann-0.1/ga.lm.DMP >> ps-output;done"
      ],
      "execution_count": null,
      "outputs": []
    },
    {
      "cell_type": "code",
      "metadata": {
        "id": "EpGDFJWGkFuj"
      },
      "source": [
        "!pip install jiwer"
      ],
      "execution_count": null,
      "outputs": []
    },
    {
      "cell_type": "code",
      "metadata": {
        "id": "AN9dBGAakME9"
      },
      "source": [
        "import csv\n",
        "def get_lists(filea, fileb=\"/content/fuaimeanna/all-fuaimeanna-data.tsv\"):\n",
        "  data = dict()\n",
        "  with open(fileb) as file:\n",
        "      all = csv.reader(file, delimiter=\"\\t\", quotechar=None)\n",
        "      for row in all:\n",
        "        if row[0] == 'Orthographic':\n",
        "          continue\n",
        "        else:\n",
        "          file1 = row[1].replace('/sounds/', '')\n",
        "          data[file1] = row[0]\n",
        "          file2 = row[3].replace('/sounds/', '')\n",
        "          data[file2] = row[0]\n",
        "          file3 = row[5].replace('/sounds/', '')\n",
        "          data[file3] = row[0]\n",
        "  merged = list()\n",
        "  with open(filea) as file:\n",
        "    ps = csv.reader(file, delimiter=\"\\t\", quotechar=None)\n",
        "    for row in ps:\n",
        "      if len(row) != 2:\n",
        "        continue\n",
        "      filename = row[0].replace('.wav', '')\n",
        "      add=(row[1],data[filename])\n",
        "      merged.append(add)\n",
        "  lista = [a[0] for a in merged]\n",
        "  listb = [a[1] for a in merged]\n",
        "  return (lista, listb)"
      ],
      "execution_count": 48,
      "outputs": []
    },
    {
      "cell_type": "code",
      "metadata": {
        "colab": {
          "base_uri": "https://localhost:8080/",
          "height": 35
        },
        "id": "F2INitC8lkY_",
        "outputId": "f3843bd6-b4f6-45b1-a9d2-32d0dc0c7157"
      },
      "source": [
        "from jiwer import wer\n",
        "lista, listb = get_lists(\"ps-output\")\n",
        "result = wer(lista, listb)\n",
        "'{:.2f}'.format(result)"
      ],
      "execution_count": 49,
      "outputs": [
        {
          "output_type": "execute_result",
          "data": {
            "application/vnd.google.colaboratory.intrinsic+json": {
              "type": "string"
            },
            "text/plain": [
              "'0.99'"
            ]
          },
          "metadata": {
            "tags": []
          },
          "execution_count": 49
        }
      ]
    },
    {
      "cell_type": "code",
      "metadata": {
        "id": "BnaYjwd4rC4x"
      },
      "source": [
        "!pip install deepspeech"
      ],
      "execution_count": null,
      "outputs": []
    },
    {
      "cell_type": "code",
      "metadata": {
        "id": "e7O5or2HtL_j"
      },
      "source": [
        "!wget https://github.com/jimregan/DeepSpeech/releases/download/0.8.2-ga-test/output_graph_ga.pbmm https://github.com/jimregan/DeepSpeech/releases/download/0.8.2-ga-test/kenlm.scorer"
      ],
      "execution_count": null,
      "outputs": []
    },
    {
      "cell_type": "code",
      "metadata": {
        "id": "XUt66FLZtYSw"
      },
      "source": [
        "!for i in fuaimeanna/mp3/*.wav;do f=$(echo $i|awk -F/ '{print $NF}'); printf \"%s\\t\" $f >> ds-output; deepspeech --model output_graph_ga.pbmm --scorer kenlm.scorer --audio $i >> ds-output;done"
      ],
      "execution_count": null,
      "outputs": []
    },
    {
      "cell_type": "code",
      "metadata": {
        "colab": {
          "base_uri": "https://localhost:8080/",
          "height": 35
        },
        "id": "V7toTkqV6z-3",
        "outputId": "876cd48c-d5ca-4143-9c12-7c4bbdee5ad6"
      },
      "source": [
        "from jiwer import wer\n",
        "lista, listb = get_lists(\"ds-output\")\n",
        "result = wer(lista, listb)\n",
        "'{:.2f}'.format(result)"
      ],
      "execution_count": 50,
      "outputs": [
        {
          "output_type": "execute_result",
          "data": {
            "application/vnd.google.colaboratory.intrinsic+json": {
              "type": "string"
            },
            "text/plain": [
              "'7.83'"
            ]
          },
          "metadata": {
            "tags": []
          },
          "execution_count": 50
        }
      ]
    },
    {
      "cell_type": "markdown",
      "metadata": {
        "id": "x8OMV7yl64hF"
      },
      "source": [
        "7.83 looks pretty impressive! But it's a false impression:"
      ]
    },
    {
      "cell_type": "code",
      "metadata": {
        "colab": {
          "base_uri": "https://localhost:8080/"
        },
        "id": "2Cjg8nOh6-oG",
        "outputId": "654ea0be-0c8b-4bdf-d33e-c6d2ae554ebf"
      },
      "source": [
        "!head ds-output"
      ],
      "execution_count": 51,
      "outputs": [
        {
          "output_type": "stream",
          "text": [
            "aaineas_i1_s1.mp3.wav\t\n",
            "aaineas_i2_s2.mp3.wav\t\n",
            "aaineas_i3_s3.mp3.wav\t\n",
            "aaine_i1_s1.mp3.wav\t\n",
            "aaine_i2_s2.mp3.wav\t\n",
            "aaine_i3_s3.mp3.wav\t\n",
            "aaisiuuil_i1_s1.mp3.wav\tis\n",
            "aaisiuuil_i2_s2.mp3.wav\tis \n",
            "aaisiuuil_i3_s3.mp3.wav\tis\n",
            "aa_ndiiol_i1_s1.mp3.wav\tní\n"
          ],
          "name": "stdout"
        }
      ]
    },
    {
      "cell_type": "code",
      "metadata": {
        "colab": {
          "base_uri": "https://localhost:8080/"
        },
        "id": "rpPsFMRo7CGt",
        "outputId": "b2e4e10c-06eb-47b5-eed8-98a60f1c286d"
      },
      "source": [
        "!cat ds-output |awk -F'\\t' 'BEGIN{c=0}($2==\"\"){c++}END{print \"Fields: \" NR \" With output: \" c}'"
      ],
      "execution_count": 52,
      "outputs": [
        {
          "output_type": "stream",
          "text": [
            "Fields: 2276 With output: 1968\n"
          ],
          "name": "stdout"
        }
      ]
    },
    {
      "cell_type": "code",
      "metadata": {
        "colab": {
          "base_uri": "https://localhost:8080/"
        },
        "id": "hpoz7MdC8A0G",
        "outputId": "9ac9f48a-7d0b-499a-c1db-a4c562ebb691"
      },
      "source": [
        "!cat ds-output |awk -F'\\t' '{print $2}'|sort|uniq"
      ],
      "execution_count": 53,
      "outputs": [
        {
          "output_type": "stream",
          "text": [
            "\n",
            "a \n",
            "ach\n",
            "ach \n",
            "an\n",
            "an \n",
            "ar an \n",
            "i \n",
            "is\n",
            "is \n",
            "is as\n",
            "is as \n",
            "is í \n",
            "ní\n",
            "ní \n",
            "sa\n",
            "sa \n",
            "seans\n",
            "sin\n",
            "tá \n"
          ],
          "name": "stdout"
        }
      ]
    }
  ]
}